{
  "nbformat": 4,
  "nbformat_minor": 0,
  "metadata": {
    "colab": {
      "provenance": [],
      "authorship_tag": "ABX9TyO+HgHNoc+kyBeFUIQW2osq",
      "include_colab_link": true
    },
    "kernelspec": {
      "name": "python3",
      "display_name": "Python 3"
    },
    "language_info": {
      "name": "python"
    }
  },
  "cells": [
    {
      "cell_type": "markdown",
      "metadata": {
        "id": "view-in-github",
        "colab_type": "text"
      },
      "source": [
        "<a href=\"https://colab.research.google.com/github/bitwoman/pense-em-python/blob/main/capitulo_9.ipynb\" target=\"_parent\"><img src=\"https://colab.research.google.com/assets/colab-badge.svg\" alt=\"Open In Colab\"/></a>"
      ]
    },
    {
      "cell_type": "markdown",
      "source": [
        "# **ESTUDO DO LIVRO \"Pense em Python\", DO AUTOR ALLEN B. DOWNEY**\n",
        "\n",
        "<p> Estudos iniciados em 20-06-2024. </p>"
      ],
      "metadata": {
        "id": "RlUEfJwYPQHz"
      }
    },
    {
      "cell_type": "markdown",
      "source": [
        "# Capítulo 9: Estudo de caso: jogos de palavras\n",
        "\n",
        "Este capítulo apresenta o segundo estudo de caso que envolve solucionar quebra-cabeças usando palavras com certas propriedades. Por exemplo, encontraremos os palíndromos mais longos em inglês e procuraremos palavras cujas letras apareçam em ordem alfabética. E apresentarei outro plano de desenvolvimento de programa: a redução a um problema resolvido anteriormente.\n"
      ],
      "metadata": {
        "id": "Wi3K1cEkPSwO"
      }
    },
    {
      "cell_type": "code",
      "execution_count": null,
      "metadata": {
        "id": "akOXiq-5POk8"
      },
      "outputs": [],
      "source": []
    },
    {
      "cell_type": "code",
      "source": [],
      "metadata": {
        "id": "QqOIJGS6PQga"
      },
      "execution_count": null,
      "outputs": []
    }
  ]
}