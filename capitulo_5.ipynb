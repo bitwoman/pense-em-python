{
  "nbformat": 4,
  "nbformat_minor": 0,
  "metadata": {
    "colab": {
      "provenance": [],
      "authorship_tag": "ABX9TyPOe2x66YXzJdEmeZtH/hXB",
      "include_colab_link": true
    },
    "kernelspec": {
      "name": "python3",
      "display_name": "Python 3"
    },
    "language_info": {
      "name": "python"
    }
  },
  "cells": [
    {
      "cell_type": "markdown",
      "metadata": {
        "id": "view-in-github",
        "colab_type": "text"
      },
      "source": [
        "<a href=\"https://colab.research.google.com/github/bitwoman/pense-em-python/blob/main/capitulo_5.ipynb\" target=\"_parent\"><img src=\"https://colab.research.google.com/assets/colab-badge.svg\" alt=\"Open In Colab\"/></a>"
      ]
    },
    {
      "cell_type": "markdown",
      "source": [
        "# **ESTUDO DO LIVRO \"Pense em Python\", DO AUTOR ALLEN B. DOWNEY**\n",
        "\n",
        "<p> Estudos iniciados em 20-06-2024. </p>"
      ],
      "metadata": {
        "id": "D8PSiz6LJ5_T"
      }
    },
    {
      "cell_type": "markdown",
      "source": [
        "# Capítulo 5: Condicionais e recursividade"
      ],
      "metadata": {
        "id": "gKeVPmfjKG8e"
      }
    },
    {
      "cell_type": "markdown",
      "source": [
        "<h2> 5.1 - Divisão pelo piso e módulo </h2>"
      ],
      "metadata": {
        "id": "L8CCG2LhYHfq"
      }
    },
    {
      "cell_type": "markdown",
      "source": [
        "O operador de divisão pelo piso, //, divide dois números e arredonda o resultado para um número inteiro para baixo. Por exemplo, suponha que o tempo de execução de um filme seja de 105 minutos. Você pode querer saber a quanto isso corresponde em horas. A divisão convencional devolve um número de ponto flutuante:\n"
      ],
      "metadata": {
        "id": "_-X8agDYYTdi"
      }
    },
    {
      "cell_type": "code",
      "execution_count": null,
      "metadata": {
        "id": "gWRS1X6rJ5qG",
        "colab": {
          "base_uri": "https://localhost:8080/"
        },
        "outputId": "4e9a68c3-9e6c-4f06-8f63-c186d1d4dc6a"
      },
      "outputs": [
        {
          "output_type": "execute_result",
          "data": {
            "text/plain": [
              "1.75"
            ]
          },
          "metadata": {},
          "execution_count": 2
        }
      ],
      "source": [
        "minutes = 105\n",
        "minutes/60 # 1.75"
      ]
    },
    {
      "cell_type": "markdown",
      "source": [
        "Mas não é comum escrever horas com pontos decimais. A divisão pelo piso devolve o número inteiro de horas, ignorando a parte fracionária:\n"
      ],
      "metadata": {
        "id": "zmVXc98kYdmQ"
      }
    },
    {
      "cell_type": "code",
      "source": [
        "minutes = 105\n",
        "hours = minutes//60\n",
        "\n",
        "print(hours) # 1 hora"
      ],
      "metadata": {
        "colab": {
          "base_uri": "https://localhost:8080/"
        },
        "id": "8mkqHX5RYW_w",
        "outputId": "acbc66fd-538b-4e00-f354-176b01301d9f"
      },
      "execution_count": null,
      "outputs": [
        {
          "output_type": "stream",
          "name": "stdout",
          "text": [
            "1\n"
          ]
        }
      ]
    },
    {
      "cell_type": "markdown",
      "source": [
        "Para obter o resto, você pode subtrair uma hora em minutos:"
      ],
      "metadata": {
        "id": "3AafKCPgYuff"
      }
    },
    {
      "cell_type": "code",
      "source": [
        "remainder = minutes - hours * 60\n",
        "\n",
        "print(remainder) # 45 minutos"
      ],
      "metadata": {
        "colab": {
          "base_uri": "https://localhost:8080/"
        },
        "id": "PTE1qL_zYoFl",
        "outputId": "a194f359-cf6b-47e1-9444-c676f9595bee"
      },
      "execution_count": null,
      "outputs": [
        {
          "output_type": "stream",
          "name": "stdout",
          "text": [
            "45\n"
          ]
        }
      ]
    },
    {
      "cell_type": "markdown",
      "source": [
        "Uma alternativa é usar o operador módulo, %, que divide dois números e devolve o resto:"
      ],
      "metadata": {
        "id": "X41f0rs3Y3nR"
      }
    },
    {
      "cell_type": "code",
      "source": [
        "remainder = minutes % 60\n",
        "\n",
        "print(remainder) # 45 minutos"
      ],
      "metadata": {
        "colab": {
          "base_uri": "https://localhost:8080/"
        },
        "id": "1stexVXmYzSk",
        "outputId": "fd6517e8-d4f1-47ed-e01a-e3a0876edd1a"
      },
      "execution_count": null,
      "outputs": [
        {
          "output_type": "stream",
          "name": "stdout",
          "text": [
            "45\n"
          ]
        }
      ]
    },
    {
      "cell_type": "markdown",
      "source": [
        "O operador módulo é mais útil do que parece. Por exemplo, é possível verificar se um número é divisível por outro – se x % y for zero, então x é divisível por y.\n",
        "**Além disso, você pode extrair o dígito ou dígitos mais à direita de um número. Por exemplo, x % 10 produz o dígito mais à direita de x (na base 10). Da mesma forma x % 100 produz os dois últimos dígitos.**\n"
      ],
      "metadata": {
        "id": "nNPGMMoJbDQW"
      }
    },
    {
      "cell_type": "markdown",
      "source": [
        "**EXEMPLO REAL ONDE UM OPERADOR DE MÓDULO PODE SER ÚTIL**\n",
        "\n",
        "\n",
        "**observação: exemplo do chatGPT**"
      ],
      "metadata": {
        "id": "ppJhzsGkbHAY"
      }
    },
    {
      "cell_type": "markdown",
      "source": [
        "**Validação de Cartões de Crédito**\n",
        "Um dos usos mais comuns de manipular dígitos individuais de um número é a validação de números de cartões de crédito. Existe um algoritmo específico chamado Algoritmo de Luhn que é utilizado para verificar a validade de um número de cartão de crédito. Esse algoritmo envolve operações de manipulação de dígitos individuais do número.\n",
        "\n",
        "\n",
        "**Algoritmo de Luhn**\n",
        "Aqui está uma descrição simplificada de como o Algoritmo de Luhn funciona:"
      ],
      "metadata": {
        "id": "WlIyAFVhbUkD"
      }
    },
    {
      "cell_type": "markdown",
      "source": [
        "1.   Inverta o número do cartão de crédito.\n",
        "2.   Dobre o valor de cada dígito que ocupa uma posição ímpar (considerando a\n",
        "     posição 1 como ímpar) da direita para a esquerda.\n",
        "     *  Se o dobro do valor for maior que 9, some os dígitos do resultado (por exemplo, 8 * 2 = 16, e 1 + 6 = 7).\n",
        "3.   Some todos os dígitos (tanto os dobrados quanto os não dobrados).\n",
        "4.   Se o total for divisível por 10, o número do cartão de crédito é válido."
      ],
      "metadata": {
        "id": "9QUC2usObZE1"
      }
    },
    {
      "cell_type": "markdown",
      "source": [
        "**Exemplo Prático**\n",
        "Vamos verificar se o número do cartão de crédito **4539 1488 0343 6467** é válido:\n",
        "\n",
        "1.  Inverter o número:\n",
        "  * **7646 3430 8841 9354**\n",
        "\n",
        "2.  Dobrar os dígitos nas posições ímpares:\n",
        "  *   7 * 2 = 14 → 1 + 4 = 5\n",
        "  *   4 * 2 = 8\n",
        "  *   6 * 2 = 12 → 1 + 2 = 3\n",
        "  *   3 * 2 = 6\n",
        "  *   8 * 2 = 16 → 1 + 6 = 7\n",
        "  *   4 * 2 = 8\n",
        "  *   9 * 2 = 18 → 1 + 8 = 9\n",
        "  *   5 * 2 = 10 → 1 + 0 = 1\n",
        "  *   Após dobrar:\n",
        "      *   5 6 4 8 7 8 1 9 4 3 4 8 3 0 6 7\n",
        "\n",
        "3.  Somar todos os dígitos:\n",
        "  *  5 + 6 + 4 + 8 + 7 + 8 + 1 + 9 + 4 + 3 + 4 + 8 + 3 + 0 + 6 + 7 = 83\n",
        "\n",
        "4.  Verificar se o total é divisível por 10:\n",
        "    *    83 % 10 = 3 (não é divisível por 10)\n",
        "\n",
        "Portanto, 4539 1488 0343 6467 não é um número de cartão de crédito válido.\n",
        "\n"
      ],
      "metadata": {
        "id": "dqD0PHSuby83"
      }
    },
    {
      "cell_type": "markdown",
      "source": [
        "**Resumo**\n",
        "Este exemplo demonstra a necessidade de manipular dígitos individuais de um número para verificar a validade de um cartão de crédito. O operador módulo é usado no passo final para determinar se a soma dos dígitos (após a manipulação) é divisível por 10, o que confirma a validade do número do cartão."
      ],
      "metadata": {
        "id": "-250Z3L0coDp"
      }
    },
    {
      "cell_type": "markdown",
      "source": [
        "<h2> 5.2 - Expressões booleanas </h2>\n",
        "\n",
        "\n",
        "Uma expressão booleana é uma expressão que pode ser verdadeira ou falsa. Os exemplos seguintes usam o operador ==, que compara dois operandos e produz **True** se forem iguais e **False** se não forem:"
      ],
      "metadata": {
        "id": "qy1jsEZhct2J"
      }
    },
    {
      "cell_type": "code",
      "source": [
        "5 == 5 # True"
      ],
      "metadata": {
        "colab": {
          "base_uri": "https://localhost:8080/"
        },
        "id": "UfNYnmqMZYKr",
        "outputId": "2b9c0b0c-2d9e-402a-a51f-cf819941b6a7"
      },
      "execution_count": null,
      "outputs": [
        {
          "output_type": "execute_result",
          "data": {
            "text/plain": [
              "True"
            ]
          },
          "metadata": {},
          "execution_count": 10
        }
      ]
    },
    {
      "cell_type": "code",
      "source": [
        "5 == 6 # False"
      ],
      "metadata": {
        "colab": {
          "base_uri": "https://localhost:8080/"
        },
        "id": "JwIj_7UsfCzx",
        "outputId": "47d3a366-7a06-405c-ae42-86c436808eb5"
      },
      "execution_count": null,
      "outputs": [
        {
          "output_type": "execute_result",
          "data": {
            "text/plain": [
              "False"
            ]
          },
          "metadata": {},
          "execution_count": 12
        }
      ]
    },
    {
      "cell_type": "markdown",
      "source": [
        "**True** e **False** são valores especiais que pertencem ao tipo bool; não são strings:"
      ],
      "metadata": {
        "id": "jFytvE9SfH9U"
      }
    },
    {
      "cell_type": "code",
      "source": [
        "type(True)"
      ],
      "metadata": {
        "colab": {
          "base_uri": "https://localhost:8080/"
        },
        "id": "blQ0Fhz-fF_D",
        "outputId": "6ed5b532-17ee-4e5f-80e2-48b8a26aa662"
      },
      "execution_count": null,
      "outputs": [
        {
          "output_type": "execute_result",
          "data": {
            "text/plain": [
              "bool"
            ]
          },
          "metadata": {},
          "execution_count": 13
        }
      ]
    },
    {
      "cell_type": "code",
      "source": [
        "type(False)"
      ],
      "metadata": {
        "colab": {
          "base_uri": "https://localhost:8080/"
        },
        "id": "lmDX3d_4fLJw",
        "outputId": "0f4cd64d-f866-4c7b-df87-98d2280dff8d"
      },
      "execution_count": null,
      "outputs": [
        {
          "output_type": "execute_result",
          "data": {
            "text/plain": [
              "bool"
            ]
          },
          "metadata": {},
          "execution_count": 14
        }
      ]
    },
    {
      "cell_type": "markdown",
      "source": [
        "O operador == é um dos operadores relacionais; os outros são:\n",
        "\n",
        "```\n",
        "x != y # x não é igual a y\n",
        "x > y # x é maior que y\n",
        "x < y # x é menor que y\n",
        "x >= y # x é maior ou igual a y\n",
        "x <= y # x é menor ou igual a y\n",
        "```\n",
        "\n"
      ],
      "metadata": {
        "id": "enJjVgDCfNjO"
      }
    },
    {
      "cell_type": "markdown",
      "source": [
        "Embora essas operações provavelmente sejam familiares para você, os símbolos do\n",
        "Python são diferentes dos símbolos matemáticos. Um erro comum é usar apenas um sinal de igual (=) em vez de um sinal duplo (==). Lembre-se de que = é um operador de atribuição e == é um operador relacional. Não existe =< ou =>."
      ],
      "metadata": {
        "id": "6_3pPYLUfeyK"
      }
    },
    {
      "cell_type": "markdown",
      "source": [
        "<h2> 5.3 - Operadores lógicos </h2>\n",
        "\n",
        "Há três operadores lógicos: and, or e not. A semântica (significado) destes operadores é semelhante ao seu significado em inglês. Por exemplo, `x> 0 and x <10` só é verdade se x for maior que 0 e menor que 10.\n",
        "\n",
        "`n%2 == 0 or n%3 == 0` é verdadeiro se uma ou as duas condição(ões) for(em)\n",
        "verdadeira(s), isto é, se o número for divisível por 2 ou 3."
      ],
      "metadata": {
        "id": "j6EO0fP9fheE"
      }
    },
    {
      "cell_type": "markdown",
      "source": [
        "Falando estritamente, os operandos dos operadores lógicos devem ser expressões\n",
        "booleanas, mas o Python não é muito estrito. Qualquer número que não seja zero é\n",
        "interpretado como True:"
      ],
      "metadata": {
        "id": "BOXw58lXhQid"
      }
    },
    {
      "cell_type": "code",
      "source": [
        "42 and True"
      ],
      "metadata": {
        "colab": {
          "base_uri": "https://localhost:8080/"
        },
        "id": "u8pN9ChMhKNB",
        "outputId": "b83c2c3c-a433-4983-94e1-f477dc5a03f6"
      },
      "execution_count": null,
      "outputs": [
        {
          "output_type": "execute_result",
          "data": {
            "text/plain": [
              "True"
            ]
          },
          "metadata": {},
          "execution_count": 16
        }
      ]
    },
    {
      "cell_type": "markdown",
      "source": [
        "Esta flexibilidade tem sua utilidade, mas há algumas sutilezas relativas a ela que podem ser confusas. Assim, pode ser uma boa ideia evitá-la (a menos que saiba o que está fazendo).\n"
      ],
      "metadata": {
        "id": "Dbt1Nh07hUiT"
      }
    },
    {
      "cell_type": "markdown",
      "source": [
        "<h2> 5.4 - Execução condicional </h2>\n",
        "\n",
        "Para escrever programas úteis, quase sempre precisamos da capacidade de verificar condições e mudar o comportamento do programa de acordo com elas. Instruções condicionais nos dão esta capacidade. A forma mais simples é a instrução if:\n",
        "\n",
        "```\n",
        "# if x > 0:\n",
        "  print('x is positive')\n",
        "```\n",
        "\n"
      ],
      "metadata": {
        "id": "Ldw8kSGbhatU"
      }
    },
    {
      "cell_type": "markdown",
      "source": [
        "A expressão booleana depois do if é chamada de condição. Se for verdadeira, a instrução endentada é executada. Se não, nada acontece.\n",
        "Instruções if têm a mesma estrutura que definições de função: um cabeçalho seguido de um corpo endentado. Instruções como essa são chamadas de instruções compostas.\n",
        "Não há limite para o número de instruções que podem aparecer no corpo, mas deve haver pelo menos uma. Ocasionalmente, é útil ter um corpo sem instruções (normalmente como um espaço reservado para código que ainda não foi escrito). Neste caso, você pode usar a instrução pass, que não faz nada.\n",
        "\n",
        "```\n",
        "if x < 0:\n",
        "  pass # A FAZER: lidar com valores negativos!\n",
        "```\n",
        "\n",
        "\n"
      ],
      "metadata": {
        "id": "XBhg7FnImD25"
      }
    },
    {
      "cell_type": "markdown",
      "source": [
        "<h2> 5.5 - Execução alternativa </h2>\n",
        "\n",
        "Uma segunda forma da instrução if é a “execução alternativa”, na qual há duas\n",
        "possibilidades e a condição determina qual será executada. A sintaxe pode ser algo assim:\n",
        "\n",
        "```\n",
        "if x % 2 == 0:\n",
        "  print('x is even')\n",
        "else:\n",
        "  print('x is odd')\n",
        "```"
      ],
      "metadata": {
        "id": "55E7x9h4mObS"
      }
    },
    {
      "cell_type": "markdown",
      "source": [
        "Se o resto quando x for dividido por 2 for 0, então sabemos que x é par e o programa exibe uma mensagem adequada. Se a condição for falsa, o segundo conjunto de instruções é executado. Como a condição deve ser verdadeira ou falsa, exatamente uma das alternativas será executada. As alternativas são chamadas de ramos (branches), porque são ramos no fluxo da execução.\n"
      ],
      "metadata": {
        "id": "ZmvkeiQNmjwI"
      }
    },
    {
      "cell_type": "markdown",
      "source": [
        "<h2> 5.6 - Condicionais encadeadas </h2>\n",
        "\n",
        "Às vezes, há mais de duas possibilidades e precisamos de mais que dois ramos. Esta forma de expressar uma operação de computação é uma condicional encadeada:\n",
        "\n",
        "```\n",
        "if x < y:\n",
        "  print('x is less than y')\n",
        "elif x > y:\n",
        "  print('x is greater than y')\n",
        "else:\n",
        "  print('x and y are equal')\n",
        "```"
      ],
      "metadata": {
        "id": "IEDmsVkimpEg"
      }
    },
    {
      "cell_type": "markdown",
      "source": [
        "elif é uma abreviatura de “else if”. Novamente, exatamente um ramo será executado. Não há nenhum limite para o número de instruções elif. Se houver uma cláusula else, ela deve estar no fim, mas não é preciso haver uma.\n",
        "\n",
        "```\n",
        "if choice == 'a':\n",
        "  draw_a()\n",
        "elif choice == 'b':\n",
        "  draw_b()\n",
        "elif choice == 'c':\n",
        "  draw_c()\n",
        "```\n",
        "\n",
        "Cada condição é verificada em ordem. Se a primeira for falsa, a próxima é verificada, e assim por diante. Se uma delas for verdadeira, o ramo correspondente é executado e a instrução é encerrada. Mesmo se mais de uma condição for verdade, só o primeiro ramo verdadeiro é executado."
      ],
      "metadata": {
        "id": "9_AUjd-HnPVf"
      }
    },
    {
      "cell_type": "markdown",
      "source": [
        "<h2> 5.7 - Condicionais aninhadas </h2>\n",
        "\n",
        "Uma condicional também pode ser aninhada dentro de outra. Poderíamos ter escrito o exemplo na seção anterior desta forma:\n",
        "\n",
        "\n",
        "```\n",
        "if x == y:\n",
        "  print('x and y are equal')\n",
        "else:\n",
        "if x < y:\n",
        "  print('x is less than y')\n",
        "else:\n",
        "  print('x is greater than y')\n",
        "```\n",
        "\n"
      ],
      "metadata": {
        "id": "5rb4ZplIni20"
      }
    },
    {
      "cell_type": "markdown",
      "source": [
        "A condicional exterior contém dois ramos. O primeiro ramo contém uma instrução\n",
        "simples. O segundo ramo contém outra instrução if, que tem outros dois ramos próprios. Esses dois ramos são instruções simples, embora pudessem ser instruções condicionais também.\n",
        "Embora a endentação das instruções evidencie a estrutura das condicionais, condicionais aninhadas são difíceis de ler rapidamente. É uma boa ideia evitá-las quando for possível.\n",
        "Operadores lógicos muitas vezes oferecem uma forma de simplificar instruções\n",
        "condicionais aninhadas. Por exemplo, podemos reescrever o seguinte código usando uma única condicional:\n",
        "\n",
        "```\n",
        "if 0 < x:\n",
        "  if x < 10:\n",
        "    print('x is a positive single-digit number.')\n",
        "```\n",
        "\n",
        "A instrução print só é executada se a colocarmos depois de ambas as condicionais, então podemos obter o mesmo efeito com o operador and:\n",
        "\n",
        "```\n",
        "if 0 < x and x < 10:\n",
        "  print('x is a positive single-digit number.')\n",
        "```\n",
        "\n",
        "Para este tipo de condição, o Python oferece uma opção mais concisa:\n",
        "\n",
        "\n",
        "```\n",
        "if 0 < x < 10:\n",
        "  print('x is a positive single-digit number.')\n",
        "```"
      ],
      "metadata": {
        "id": "HhSyY-4YpkMZ"
      }
    },
    {
      "cell_type": "markdown",
      "source": [
        "<h2> 5.8 - Recursividade </h2>\n",
        "\n",
        "É legal para uma função chamar outra; também é legal para uma função chamar a si\n",
        "própria. Pode não ser óbvio porque isso é uma coisa boa, mas na verdade é uma das coisas mais mágicas que um programa pode fazer. Por exemplo, veja a seguinte função:\n",
        "\n",
        "\n"
      ],
      "metadata": {
        "id": "92wkoG8pp6LH"
      }
    },
    {
      "cell_type": "code",
      "source": [
        "def countdown(n):\n",
        "  if n <= 0:\n",
        "    print('Blastoff!')\n",
        "  else:\n",
        "    print(n)\n",
        "    countdown(n-1)"
      ],
      "metadata": {
        "id": "g1eKMMOGhKKY"
      },
      "execution_count": null,
      "outputs": []
    },
    {
      "cell_type": "markdown",
      "source": [
        "Se n for 0 ou negativo, a palavra “Blastoff!” é exibida, senão a saída é n e então a função countdown é chamada – por si mesma – passando n-1 como argumento.\n",
        "O que acontece se chamarmos esta função assim?\n",
        "\n",
        "`countdown(3)`"
      ],
      "metadata": {
        "id": "L5PKAK4XtgNI"
      }
    },
    {
      "cell_type": "code",
      "source": [
        "countdown(3)"
      ],
      "metadata": {
        "colab": {
          "base_uri": "https://localhost:8080/"
        },
        "id": "zSjGwlASfQam",
        "outputId": "c4ba8af8-44ec-4801-f0f6-471366848d42"
      },
      "execution_count": null,
      "outputs": [
        {
          "output_type": "stream",
          "name": "stdout",
          "text": [
            "3\n",
            "2\n",
            "1\n",
            "Blastoff!\n"
          ]
        }
      ]
    },
    {
      "cell_type": "markdown",
      "source": [
        "A execução de countdown inicia com n=3 e como n é maior que 0, ela produz o valor 3 e então chama a si mesma…\n",
        "\n",
        "A execução de countdown inicia com n=2 e como n é maior que 0, ela produz o valor 2 e então chama a si mesma…\n",
        "\n",
        "A execução de countdown inicia com n=1 e como n é maior que 0, ela produz o valor 1 e então chama a si mesma…\n",
        "\n",
        "A execução de countdown inicia com n=0 e como n não é maior que 0, ela produz a\n",
        "palavra “Blastoff!” e então retorna.\n",
        "\n",
        "O countdown que recebeu n=1 retorna.\n",
        "\n",
        "O countdown que recebeu n=2 retorna.\n",
        "\n",
        "O countdown que recebeu n=3 retorna.\n",
        "\n",
        "E então você está de volta ao __main__. Então a saída completa será assim:\n",
        "\n",
        "```\n",
        "3\n",
        "2\n",
        "1\n",
        "Blastoff!\n",
        "```\n",
        "\n",
        "\n",
        "Para exemplos simples como esse, provavelmente é mais fácil usar um loop for. Mas há casos que são difíceis de escrever com um loop for e fáceis de\n",
        "escrever com recursividade."
      ],
      "metadata": {
        "id": "RoVFoj3ptqkt"
      }
    },
    {
      "cell_type": "markdown",
      "source": [
        "Uma função que chama a si mesma é dita recursiva; o processo para executá-la é a\n",
        "recursividade.\n",
        "Como em outro exemplo, podemos escrever uma função que exiba uma string n vezes:\n",
        "\n",
        "```\n",
        "def print_n(s, n):\n",
        "  if n <= 0:\n",
        "    return\n",
        "  print(s)\n",
        "  print_n(s, n-1)\n",
        "```\n",
        "\n",
        "Se n <= 0 a instrução return causa a saída da função. O fluxo de execução volta\n",
        "imediatamente a quem fez a chamada, e as linhas restantes da função não são executadas.\n",
        "O resto da função é similar à countdown: ela mostra s e então chama a si mesma para mostrar s mais n-1 vezes. Então o número de linhas da saída é 1 + (n - 1), até chegar a n."
      ],
      "metadata": {
        "id": "mCaTTXneozUr"
      }
    },
    {
      "cell_type": "markdown",
      "source": [
        "<h2> 5.9 - Diagramas da pilha para funções recursivas </h2>\n",
        "\n",
        "\n",
        "Em “Diagrama da pilha”, na página 55, usamos um diagrama da pilha para representar o estado de um programa durante uma chamada de função. O mesmo tipo de diagrama pode ajudar a interpretar uma função recursiva.\n",
        "Cada vez que uma função é chamada, o Python cria um frame para conter as variáveis locais e parâmetros da função. Para uma função recursiva, pode haver mais de um frame na pilha ao mesmo tempo.\n",
        "A Figura 5.1 mostra um diagrama da pilha para countdown chamado com n = 3.\n",
        "\n",
        "![image.png](data:image/png;base64,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)"
      ],
      "metadata": {
        "id": "t475JK30uE9Q"
      }
    },
    {
      "cell_type": "markdown",
      "source": [
        "Como de hábito, o topo da pilha é o frame de __main__. Está vazio porque não criamos nenhuma variável em __main__ nem passamos argumentos a ela.\n",
        "Os quatro frames do countdown têm valores diferentes para o parâmetro n. O fundo da pilha, onde n = 0, é chamado caso-base. Ele não faz uma chamada recursiva, então não há mais frames.\n",
        "Como exercício, desenhe um diagrama da pilha para print_n chamado com s = 'Hello' e n = 2. Então escreva uma função chamada do_n que tome um objeto de função e um número n como argumentos e que chame a respectiva função n vezes.\n"
      ],
      "metadata": {
        "id": "cFjgy4-Lomfo"
      }
    },
    {
      "cell_type": "markdown",
      "source": [
        "\n",
        "\n",
        "```\n",
        "def print_n(s, n):\n",
        "  if n <= 0:\n",
        "    return\n",
        "  print(s)\n",
        "  print_n(s, n-1)\n",
        "\n",
        "\n",
        "print_n('Hello', 2)\n",
        "```"
      ],
      "metadata": {
        "id": "zOlEjkB7pdhr"
      }
    },
    {
      "cell_type": "markdown",
      "source": [
        "O diagrama de pilha a seguir é a representação do fluxo de execução da função print_n."
      ],
      "metadata": {
        "id": "Jp6Uv4uKpid4"
      }
    },
    {
      "cell_type": "code",
      "source": [
        "def print_n(s, n):\n",
        "  if n <= 0:\n",
        "    return\n",
        "  print(s)\n",
        "  print_n(s, n-1)\n",
        "\n",
        "\n",
        "print_n('Hello', 2)"
      ],
      "metadata": {
        "colab": {
          "base_uri": "https://localhost:8080/"
        },
        "id": "tusWXuI4p_R5",
        "outputId": "065f8b46-d811-48fc-bb92-522ae0f6d528"
      },
      "execution_count": null,
      "outputs": [
        {
          "output_type": "stream",
          "name": "stdout",
          "text": [
            "Hello\n",
            "Hello\n"
          ]
        }
      ]
    },
    {
      "cell_type": "markdown",
      "source": [
        "![image.png](data:image/png;base64,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)"
      ],
      "metadata": {
        "id": "qPtZMsdhq8MR"
      }
    },
    {
      "cell_type": "markdown",
      "source": [
        " Então escreva uma função chamada do_n que tome um objeto de função e um número n como argumentos e que chame a respectiva função n vezes."
      ],
      "metadata": {
        "id": "BwbDacvnrHpd"
      }
    },
    {
      "cell_type": "code",
      "source": [
        "# Definição de função\n",
        "\n",
        "def do_n(obj, n):\n",
        "  if n <= 0:\n",
        "    return\n",
        "\n",
        "  print('do_n' + ' : ' + str(n) + 'x')\n",
        "  do_n(do_n, n-1)"
      ],
      "metadata": {
        "id": "NrIC4PORfkVw"
      },
      "execution_count": null,
      "outputs": []
    },
    {
      "cell_type": "code",
      "source": [
        "do_n(do_n, 2)"
      ],
      "metadata": {
        "colab": {
          "base_uri": "https://localhost:8080/"
        },
        "id": "FQMzICs0sILC",
        "outputId": "8684e0e5-261c-4b76-eb9b-ba7e30dfb0fe"
      },
      "execution_count": null,
      "outputs": [
        {
          "output_type": "stream",
          "name": "stdout",
          "text": [
            "do_n : 2x\n",
            "do_n : 1x\n"
          ]
        }
      ]
    },
    {
      "cell_type": "markdown",
      "source": [
        "<h1> 5.10 - Recursividade infinita </h1>\n",
        "\n",
        "Se a recursividade nunca atingir um caso-base, continua fazendo chamadas recursivas para sempre, e o programa nunca termina. Isso é conhecido como recursividade infinita e geralmente não é uma boa ideia. Aqui está um programa mínimo com recursividade infinita:\n",
        "\n",
        "```\n",
        "def recurse():\n",
        "  recurse()\n",
        "```\n",
        "\n",
        "Na maior parte dos ambientes de programação, um programa com recursividade infinita não é realmente executado para sempre. O Python exibe uma mensagem de erro quando a profundidade máxima de recursividade é atingida:\n",
        "\n",
        "```\n",
        "File \"<stdin>\", line 2, in recurse\n",
        "File \"<stdin>\", line 2, in recurse\n",
        "File \"<stdin>\", line 2, in recurse\n",
        ".\n",
        ".\n",
        ".\n",
        "File \"<stdin>\", line 2, in recurse\n",
        "RuntimeError: Maximum recursion depth exceeded\n",
        "```\n",
        "\n",
        "Este traceback é um pouco maior que o que vimos no capítulo anterior. Quando o erro ocorre, há mil frames de recurse na pilha!\n",
        "Se você escrever em recursividade infinita por engano, confira se a sua função tem um caso-base que não faz uma chamada recursiva. E se houver um caso-base, verifique se você vai mesmo atingi-lo.\n"
      ],
      "metadata": {
        "id": "GFHVWA5PuFbh"
      }
    },
    {
      "cell_type": "markdown",
      "source": [
        "<h2> 5.11 - Entrada de teclado </h2>\n",
        "\n",
        "O Python fornece uma função integrada chamada input que interrompe o programa e\n",
        "espera que o usuário digite algo. Quando o usuário pressionar Return ou Enter, o programa volta a ser executado e input retorna o que o usuário digitou como uma string. No Python 2, a mesma função é chamada raw_input.\n"
      ],
      "metadata": {
        "id": "CyLey43Pu-M2"
      }
    },
    {
      "cell_type": "code",
      "source": [
        "text = input() # exemplo"
      ],
      "metadata": {
        "colab": {
          "base_uri": "https://localhost:8080/"
        },
        "id": "yMwDCp_3sNGz",
        "outputId": "c492b829-430b-4aed-fe42-cebd63e3a097"
      },
      "execution_count": null,
      "outputs": [
        {
          "name": "stdout",
          "output_type": "stream",
          "text": [
            "texto\n"
          ]
        }
      ]
    },
    {
      "cell_type": "markdown",
      "source": [
        "Antes de receber entradas do usuário, é uma boa ideia exibir um prompt dizendo ao usuário o que ele deve digitar. input pode ter um prompt como argumento:\n"
      ],
      "metadata": {
        "id": "rNECVG1gBKxl"
      }
    },
    {
      "cell_type": "code",
      "source": [
        "name = input('What...is your name?\\n')"
      ],
      "metadata": {
        "colab": {
          "base_uri": "https://localhost:8080/"
        },
        "id": "dZqL3a9tBFQW",
        "outputId": "b827ca31-5396-4dab-ef5c-8e6460be4b2d"
      },
      "execution_count": null,
      "outputs": [
        {
          "name": "stdout",
          "output_type": "stream",
          "text": [
            "What...is your name?\n",
            "Brenda\n"
          ]
        }
      ]
    },
    {
      "cell_type": "code",
      "source": [
        "name # o valor digitado no input, fica guardado na variável"
      ],
      "metadata": {
        "colab": {
          "base_uri": "https://localhost:8080/",
          "height": 35
        },
        "id": "sft1XnirBM3J",
        "outputId": "2f6086bc-05ea-468c-cb1c-3cf56bff8f03"
      },
      "execution_count": null,
      "outputs": [
        {
          "output_type": "execute_result",
          "data": {
            "text/plain": [
              "'Brenda'"
            ],
            "application/vnd.google.colaboratory.intrinsic+json": {
              "type": "string"
            }
          },
          "metadata": {},
          "execution_count": 13
        }
      ]
    },
    {
      "cell_type": "markdown",
      "source": [
        "A sequência \\n no final do prompt representa um newline, que é um caractere especial de quebra de linha. É por isso que a entrada do usuário aparece abaixo do prompt. Se esperar que o usuário digite um número inteiro, você pode tentar converter o valor de retorno para int:"
      ],
      "metadata": {
        "id": "y0ZacT18Biw2"
      }
    },
    {
      "cell_type": "code",
      "source": [
        "prompt = 'What...is the airspeed velocity of an unladen swallow? \\n'"
      ],
      "metadata": {
        "id": "2jehvzLIBTET"
      },
      "execution_count": null,
      "outputs": []
    },
    {
      "cell_type": "code",
      "source": [
        "speed = input(prompt)"
      ],
      "metadata": {
        "colab": {
          "base_uri": "https://localhost:8080/"
        },
        "id": "yfdRJjhVBo1G",
        "outputId": "a4c9bc7d-aa53-4011-fbdb-1d39dffdfd21"
      },
      "execution_count": null,
      "outputs": [
        {
          "name": "stdout",
          "output_type": "stream",
          "text": [
            "What...is the airspeed velocity of an unladen swallow? \n",
            "30\n"
          ]
        }
      ]
    },
    {
      "cell_type": "code",
      "source": [
        "int(speed)"
      ],
      "metadata": {
        "colab": {
          "base_uri": "https://localhost:8080/"
        },
        "id": "1Qnk99O4BrdN",
        "outputId": "7b6a92d1-c94a-48f2-eb14-6e2aee652027"
      },
      "execution_count": null,
      "outputs": [
        {
          "output_type": "execute_result",
          "data": {
            "text/plain": [
              "30"
            ]
          },
          "metadata": {},
          "execution_count": 18
        }
      ]
    },
    {
      "cell_type": "markdown",
      "source": [
        "Mas se o usuário digitar algo além de uma série de dígitos, você recebe um erro:"
      ],
      "metadata": {
        "id": "0TGPHzp0B4gA"
      }
    },
    {
      "cell_type": "code",
      "source": [
        "speed = input(prompt)"
      ],
      "metadata": {
        "colab": {
          "base_uri": "https://localhost:8080/"
        },
        "id": "6h7j99UZBuxR",
        "outputId": "8be6e62b-9339-424b-a903-0fadbd5ba47a"
      },
      "execution_count": null,
      "outputs": [
        {
          "name": "stdout",
          "output_type": "stream",
          "text": [
            "What...is the airspeed velocity of an unladen swallow? \n",
            "What do you mean, an African or a European swallow?\n"
          ]
        }
      ]
    },
    {
      "cell_type": "code",
      "source": [
        "int(speed) # ValueError: invalid literal for int() with base 10"
      ],
      "metadata": {
        "colab": {
          "base_uri": "https://localhost:8080/",
          "height": 141
        },
        "id": "wAoRHPNCB8GW",
        "outputId": "a0b87f6e-09cc-4d92-ca95-9ddcfd68ab6f"
      },
      "execution_count": null,
      "outputs": [
        {
          "output_type": "error",
          "ename": "ValueError",
          "evalue": "invalid literal for int() with base 10: 'What do you mean, an African or a European swallow?'",
          "traceback": [
            "\u001b[0;31m---------------------------------------------------------------------------\u001b[0m",
            "\u001b[0;31mValueError\u001b[0m                                Traceback (most recent call last)",
            "\u001b[0;32m<ipython-input-21-cf54c63c7059>\u001b[0m in \u001b[0;36m<cell line: 1>\u001b[0;34m()\u001b[0m\n\u001b[0;32m----> 1\u001b[0;31m \u001b[0mint\u001b[0m\u001b[0;34m(\u001b[0m\u001b[0mspeed\u001b[0m\u001b[0;34m)\u001b[0m \u001b[0;31m# ValueError: invalid literal for int() with base 10\u001b[0m\u001b[0;34m\u001b[0m\u001b[0;34m\u001b[0m\u001b[0m\n\u001b[0m",
            "\u001b[0;31mValueError\u001b[0m: invalid literal for int() with base 10: 'What do you mean, an African or a European swallow?'"
          ]
        }
      ]
    },
    {
      "cell_type": "markdown",
      "source": [
        "<h2> 5.12 - Depuração </h2>\n",
        "\n",
        "Quando um erro de sintaxe ou de tempo de execução ocorre, a mensagem de erro contém muita informação, às vezes, até demais. As partes mais úteis são normalmente:\n",
        "- que tipo de erro foi;\n",
        "- onde ocorreu.\n",
        "\n",
        "Erros de sintaxe são normalmente fáceis de encontrar, mas há algumas pegadinhas. Erros de whitespace podem ser complicados porque os espaços e tabulações são invisíveis e estamos acostumados a ignorá-los.\n",
        "\n"
      ],
      "metadata": {
        "id": "Dyc7PAy9CcpS"
      }
    },
    {
      "cell_type": "code",
      "source": [
        "x = 5 # Em python 3 não retorna erro, mas no 2 retorna\n",
        " y = 6 # Neste exemplo, o problema é que a segunda linha está endentada por um espaço."
      ],
      "metadata": {
        "id": "aA7Ov9w-B__9"
      },
      "execution_count": null,
      "outputs": []
    },
    {
      "cell_type": "markdown",
      "source": [
        "\n",
        "\n",
        "```\n",
        "File \"<stdin>\", line 1\n",
        "y = 6\n",
        "^\n",
        "IndentationError: unexpected indent\n",
        "\n",
        "```\n",
        "\n"
      ],
      "metadata": {
        "id": "nHIxIMNvDBJ2"
      }
    },
    {
      "cell_type": "markdown",
      "source": [
        "Neste exemplo, o problema é que a segunda linha está endentada por um espaço. Mas a mensagem de erro aponta para y, o que pode ser capcioso. Em geral, mensagens de erro indicam onde o problema foi descoberto, mas o erro real pode estar em outra parte do código, às vezes, em uma linha anterior."
      ],
      "metadata": {
        "id": "qaW2W11uB8fS"
      }
    },
    {
      "cell_type": "markdown",
      "source": [
        "O mesmo acontece com erros em tempo de execução. Suponha que você esteja tentando calcular a proporção de sinal a ruído em decibéis. A fórmula é SNRdb = 10 log10\n",
        "(Psignal/Pnoise). No Python, você poderia escrever algo assim:"
      ],
      "metadata": {
        "id": "NIb7BKe-DYqT"
      }
    },
    {
      "cell_type": "code",
      "source": [
        "import math\n",
        "signal_power = 9\n",
        "noise_power = 10\n",
        "ratio = signal_power // noise_power # mas o erro vem daqui\n",
        "decibels = 10 * math.log10(ratio)  # aponta aqui\n",
        "print(decibels)\n"
      ],
      "metadata": {
        "colab": {
          "base_uri": "https://localhost:8080/",
          "height": 193
        },
        "id": "qGMZp66wC6LP",
        "outputId": "8ff5dfc7-502d-4b74-9d41-f68031917cac"
      },
      "execution_count": null,
      "outputs": [
        {
          "output_type": "error",
          "ename": "ValueError",
          "evalue": "math domain error",
          "traceback": [
            "\u001b[0;31m---------------------------------------------------------------------------\u001b[0m",
            "\u001b[0;31mValueError\u001b[0m                                Traceback (most recent call last)",
            "\u001b[0;32m<ipython-input-3-3408c63c3dc9>\u001b[0m in \u001b[0;36m<cell line: 5>\u001b[0;34m()\u001b[0m\n\u001b[1;32m      3\u001b[0m \u001b[0mnoise_power\u001b[0m \u001b[0;34m=\u001b[0m \u001b[0;36m10\u001b[0m\u001b[0;34m\u001b[0m\u001b[0;34m\u001b[0m\u001b[0m\n\u001b[1;32m      4\u001b[0m \u001b[0mratio\u001b[0m \u001b[0;34m=\u001b[0m \u001b[0msignal_power\u001b[0m \u001b[0;34m//\u001b[0m \u001b[0mnoise_power\u001b[0m \u001b[0;31m# mas o erro vem daqui\u001b[0m\u001b[0;34m\u001b[0m\u001b[0;34m\u001b[0m\u001b[0m\n\u001b[0;32m----> 5\u001b[0;31m \u001b[0mdecibels\u001b[0m \u001b[0;34m=\u001b[0m \u001b[0;36m10\u001b[0m \u001b[0;34m*\u001b[0m \u001b[0mmath\u001b[0m\u001b[0;34m.\u001b[0m\u001b[0mlog10\u001b[0m\u001b[0;34m(\u001b[0m\u001b[0mratio\u001b[0m\u001b[0;34m)\u001b[0m  \u001b[0;31m# aponta aqui\u001b[0m\u001b[0;34m\u001b[0m\u001b[0;34m\u001b[0m\u001b[0m\n\u001b[0m\u001b[1;32m      6\u001b[0m \u001b[0mprint\u001b[0m\u001b[0;34m(\u001b[0m\u001b[0mdecibels\u001b[0m\u001b[0;34m)\u001b[0m\u001b[0;34m\u001b[0m\u001b[0;34m\u001b[0m\u001b[0m\n",
            "\u001b[0;31mValueError\u001b[0m: math domain error"
          ]
        }
      ]
    },
    {
      "cell_type": "markdown",
      "source": [
        "\n",
        "\n",
        "```\n",
        "Traceback (most recent call last):\n",
        "File \"snr.py\", line 5, in ?\n",
        "decibels = 10 * math.log10(ratio)\n",
        "ValueError: math domain error\n",
        "```\n",
        "\n",
        "A mensagem de erro indica a linha 5, mas não há nada de errado com esta linha. Uma opção para encontrar o verdadeiro erro é exibir o valor de ratio, que acaba sendo 0. O problema está na linha 4, que usa a divisão pelo piso em vez da divisão de ponto flutuante.\n",
        "**É preciso ler as mensagens de erro com atenção, mas não assumir que tudo que dizem esteja correto.**\n",
        "\n"
      ],
      "metadata": {
        "id": "EyJymUItDjc2"
      }
    },
    {
      "cell_type": "markdown",
      "source": [
        "<h2> 5.13 - Glossário </h2>"
      ],
      "metadata": {
        "id": "frJNf2LYDvIC"
      }
    },
    {
      "cell_type": "markdown",
      "source": [
        "- **divisão pelo piso:** Um operador, denotado por //, que divide dois números e arredonda o resultado para baixo (em direção ao zero), a um número inteiro.\n",
        "\n",
        "- **operador módulo:** Um operador, denotado com um sinal de percentagem (%), que funciona com números inteiros e devolve o resto quando um número é dividido por outro.\n",
        "\n",
        "- **expressão booleana:** Uma expressão cujo valor é True (verdadeiro) ou False (falso).\n",
        "\n",
        "- **operador relacional:** Um destes operadores, que compara seus operandos: ==, !=, >, <, >= e <=.\n",
        "\n",
        "- **operador lógico:** Um destes operadores, que combina expressões booleanas: and (e), or (ou) e not (não).\n",
        "\n",
        "- **instrução condicional:** Uma instrução que controla o fluxo de execução, dependendo de alguma condição.\n",
        "\n",
        "- **condição:** A expressão booleana em uma instrução condicional que determina qual ramo deve ser executado.\n",
        "\n",
        "- **instrução composta:** Uma instrução composta de um cabeçalho e um corpo. O cabeçalho termina em dois pontos (:). O corpo é endentado em relação ao cabeçalho.\n",
        "\n",
        "- **ramo:** Uma das sequências alternativas de instruções em uma instrução condicional.\n",
        "\n",
        "- **condicional encadeada:** Uma instrução condicional com uma série de ramos alternativos.\n",
        "\n",
        "- **condicional aninhada:** Uma instrução condicional que aparece em um dos ramos de outra instrução condicional.\n",
        "\n",
        "- **instrução de retorno:** Uma instrução que faz uma função terminar imediatamente e voltar a quem a chamou.\n",
        "\n",
        "- **recursividade:** O processo de chamar a função que está sendo executada no momento.\n",
        "\n",
        "- **caso-base:** Um ramo condicional em uma função recursiva que não faz uma chamada recursiva.\n",
        "\n",
        "- **recursividade infinita:** Recursividade que não tem um caso-base, ou nunca o atinge. A recursividade infinita eventualmente causa um erro em tempo de execução."
      ],
      "metadata": {
        "id": "l5IJCyWXEf6q"
      }
    },
    {
      "cell_type": "markdown",
      "source": [
        "<h2> 5.14 - Exercícios </h2>"
      ],
      "metadata": {
        "id": "G1DW1NWIGIsT"
      }
    },
    {
      "cell_type": "markdown",
      "source": [
        "<h3> Exercício 5.1 </h3>\n",
        "O módulo time fornece uma função, também chamada time, que devolve a Hora Média de Greenwich na “época”, que é um momento arbitrário usado como ponto de referência. Em sistemas UNIX, a época é primeiro de janeiro de 1970.\n",
        "\n",
        "```\n",
        ">>> import time\n",
        ">>> time.time()\n",
        "1437746094.5735958\n",
        "```\n",
        "\n",
        "Escreva um script que leia a hora atual e a converta em um tempo em horas, minutos e segundos, mais o número de dias desde a época.\n"
      ],
      "metadata": {
        "id": "ysarV7QtGNxk"
      }
    },
    {
      "cell_type": "code",
      "source": [
        "import time\n",
        "time.time()"
      ],
      "metadata": {
        "colab": {
          "base_uri": "https://localhost:8080/"
        },
        "id": "h5A8hrdEDegN",
        "outputId": "8f6fd983-2f05-419f-d798-6459b0562c25"
      },
      "execution_count": null,
      "outputs": [
        {
          "output_type": "execute_result",
          "data": {
            "text/plain": [
              "1721696455.584197"
            ]
          },
          "metadata": {},
          "execution_count": 4
        }
      ]
    },
    {
      "cell_type": "code",
      "source": [
        "time.time()"
      ],
      "metadata": {
        "colab": {
          "base_uri": "https://localhost:8080/"
        },
        "id": "vjRbq-_3G6vJ",
        "outputId": "c50d8d69-b256-48dc-e95a-a82d091f587c"
      },
      "execution_count": null,
      "outputs": [
        {
          "output_type": "execute_result",
          "data": {
            "text/plain": [
              "1721696578.4683955"
            ]
          },
          "metadata": {},
          "execution_count": 14
        }
      ]
    },
    {
      "cell_type": "markdown",
      "source": [
        "- 1721696578 > essa parte representa os segundos\n",
        "- 4683955    > essa parte representa os milissegundos"
      ],
      "metadata": {
        "id": "1UHmmKoBHsWx"
      }
    },
    {
      "cell_type": "code",
      "source": [
        "# convertendo os milissegundos em segundos, para somar todos\n",
        "mil_to_segundos = (milissegundos/1000)\n",
        "total_segundos = (segundos + mil_to_segundos)\n",
        "\n",
        "# convertendo todos os segundos em minutos\n",
        "minutos = (total_segundos/60)\n",
        "\n",
        "# convertendo todos os minutos para horas, trazendo um valor inteiro de horas, sem os minutos\n",
        "hours = (minutos//60) # 399375\n",
        "\n",
        "sobra = minutos % 60 # separando os minutos restantes das horas\n",
        "\n",
        "print(hours, 'horas e', sobra, 'minutos')"
      ],
      "metadata": {
        "colab": {
          "base_uri": "https://localhost:8080/"
        },
        "id": "8D0vNWwXNiS2",
        "outputId": "d59fb52e-4cf3-464f-a0ee-811ba0c6702d"
      },
      "execution_count": null,
      "outputs": [
        {
          "output_type": "stream",
          "name": "stdout",
          "text": [
            "23962530.4993\n",
            "399375.0 horas e 30.499299999326468 minutos\n"
          ]
        }
      ]
    },
    {
      "cell_type": "code",
      "source": [
        "#minutes = 105\n",
        "hours = minutes//60\n",
        "\n",
        "print(hours) # 1 hora\n",
        "\n",
        "\n",
        "remainder = minutes - hours * 60\n",
        "\n",
        "print(remainder) # 45 minutos\n",
        "\n",
        "remainder = minutes % 60\n",
        "\n",
        "print(remainder) # 45 minutos"
      ],
      "metadata": {
        "id": "SiPsd0gdIHR-"
      },
      "execution_count": null,
      "outputs": []
    },
    {
      "cell_type": "markdown",
      "source": [
        "<h2> Exercício 5.2 </h2>\n",
        "\n",
        "O último teorema de Fermat diz que não existem números inteiros a, b e c tais que a**n + b**n == c**n para quaisquer valores de n maiores que 2."
      ],
      "metadata": {
        "id": "LfJW4_1tEv-D"
      }
    },
    {
      "cell_type": "markdown",
      "source": [
        "1. Escreva uma função chamada check_fermat que receba quatro parâmetros – a, b, c e n – e verifique se o teorema de Fermat se mantém. Se n for maior que 2 e a ** n + b ** n == c ** n o programa deve imprimir, “Holy smokes, Fermat was wrong!” Senão o programa deve exibir “No, that doesn’t work.”"
      ],
      "metadata": {
        "id": "6XD8iyHGFbQz"
      }
    },
    {
      "cell_type": "code",
      "source": [
        "def check_fermat(a,b,c,n):\n",
        "\n",
        "  if n > 2 and (a**n + b**n) == c**n:\n",
        "    print('Holy smokes, Fermat was wrong!')\n",
        "  else:\n",
        "    print('No, that doesn’t work.')"
      ],
      "metadata": {
        "id": "Hb4RB2vTG5pp"
      },
      "execution_count": null,
      "outputs": []
    },
    {
      "cell_type": "code",
      "source": [
        "check_fermat(3,4,5,2)"
      ],
      "metadata": {
        "colab": {
          "base_uri": "https://localhost:8080/"
        },
        "id": "ZWoYoDfnKrqc",
        "outputId": "c5a71b56-e5d3-4b01-a6ac-2695f1cbb2df"
      },
      "execution_count": null,
      "outputs": [
        {
          "output_type": "stream",
          "name": "stdout",
          "text": [
            "No, that doesn’t work.\n"
          ]
        }
      ]
    },
    {
      "cell_type": "code",
      "source": [
        "check_fermat(3,4,5,4)"
      ],
      "metadata": {
        "colab": {
          "base_uri": "https://localhost:8080/"
        },
        "id": "lFShHmq_K7LL",
        "outputId": "8e1131d0-6629-464c-9a23-3b8794249eaa"
      },
      "execution_count": null,
      "outputs": [
        {
          "output_type": "stream",
          "name": "stdout",
          "text": [
            "No, that doesn’t work.\n"
          ]
        }
      ]
    },
    {
      "cell_type": "markdown",
      "source": [
        "2. Escreva uma função que peça ao usuário para digitar valores para a, b, c e n, os converta em números inteiros e use check_fermat para verificar se violam o teorema de Fermat.\n"
      ],
      "metadata": {
        "id": "_qmLC-QhFtbP"
      }
    },
    {
      "cell_type": "code",
      "source": [
        "def check_fermat():\n",
        "    a = int(input('Digite o valor para a: '))\n",
        "    b = int(input('Digite o valor para b: '))\n",
        "    c = int(input('Digite o valor para b: '))\n",
        "    n = int(input('Digite o valor para n: '))\n",
        "\n",
        "    if n > 2 and (a**n + b**n) == c**n:\n",
        "      print('\\nHoly smokes, Fermat was wrong!')\n",
        "    else:\n",
        "      print('\\nNo, that doesn’t work.')"
      ],
      "metadata": {
        "id": "mFTDy_1dFarg"
      },
      "execution_count": null,
      "outputs": []
    },
    {
      "cell_type": "code",
      "source": [
        "check_fermat()"
      ],
      "metadata": {
        "colab": {
          "base_uri": "https://localhost:8080/"
        },
        "id": "w2hkOiF2LZiq",
        "outputId": "f09ba52c-806d-42c2-ae65-1f0dc27a4e74"
      },
      "execution_count": null,
      "outputs": [
        {
          "output_type": "stream",
          "name": "stdout",
          "text": [
            "Digite o valor para a: 3\n",
            "Digite o valor para b: 4\n",
            "Digite o valor para b: 5\n",
            "Digite o valor para n: 4\n",
            "\n",
            "No, that doesn’t work.\n"
          ]
        }
      ]
    },
    {
      "cell_type": "markdown",
      "source": [
        "<h2> Exercício 5.3 </h2>\n",
        "\n",
        "Se você tiver três gravetos, pode ser que consiga arranjá-los em um triângulo ou não. Por exemplo, se um dos gravetos tiver 12 polegadas de comprimento e outros dois tiverem uma polegada de comprimento, não será possível fazer com que os gravetos curtos se encontrem no meio. Há um teste simples para ver se é possível formar um triângulo para quaisquer três comprimentos:\n",
        "Se algum dos três comprimentos for maior que a soma dos outros dois, então você não pode formar um triângulo. Senão, você pode. (Se a soma de dois comprimentos igualar o terceiro, eles formam um triângulo chamado “degenerado”.)\n"
      ],
      "metadata": {
        "id": "yjBEjHeJLny8"
      }
    },
    {
      "cell_type": "markdown",
      "source": [
        "1. Escreva uma função chamada is_triangle que receba três números inteiros como\n",
        "argumentos, e que imprima “Yes” ou “No”, dependendo da possibilidade de formar\n",
        "ou não um triângulo de gravetos com os comprimentos dados."
      ],
      "metadata": {
        "id": "u6QqCkG-Lxb1"
      }
    },
    {
      "cell_type": "markdown",
      "source": [
        "**COMPARAÇÃO DE SOLUÇÕES:**"
      ],
      "metadata": {
        "id": "MQlvXDVfmuij"
      }
    },
    {
      "cell_type": "markdown",
      "source": [
        "**SOLUÇÃO PRÓPRIA:**"
      ],
      "metadata": {
        "id": "CmM3RUvxmw1F"
      }
    },
    {
      "cell_type": "code",
      "source": [
        "# definição de função que recebe 3 parâmetros\n",
        "def isTriangle(n1, n2, n3):\n",
        "\n",
        "  if n1 > (n2 + n3):     # 1 < 5\n",
        "    print('No')\n",
        "  elif n2 > (n1 + n3):   # 2 < 4\n",
        "     print('No')\n",
        "  elif n3 > (n1 + n2):   # 3 > 3\n",
        "    print('No')\n",
        "  else:\n",
        "    print('Yes')         # sim"
      ],
      "metadata": {
        "id": "sVqzdNMxNVT4"
      },
      "execution_count": null,
      "outputs": []
    },
    {
      "cell_type": "code",
      "source": [
        "isTriangle(1,2,3)"
      ],
      "metadata": {
        "colab": {
          "base_uri": "https://localhost:8080/"
        },
        "id": "Vl1KCew2loW7",
        "outputId": "0011ab9b-c56c-495b-a8e0-4a18b9617032"
      },
      "execution_count": null,
      "outputs": [
        {
          "output_type": "stream",
          "name": "stdout",
          "text": [
            "Yes\n"
          ]
        }
      ]
    },
    {
      "cell_type": "markdown",
      "source": [
        "**SOLUÇÃO CHATGPT:**"
      ],
      "metadata": {
        "id": "GCvPKUYKmzm6"
      }
    },
    {
      "cell_type": "code",
      "source": [
        "def is_triangle(a, b, c):\n",
        "    if a + b > c and a + c > b and b + c > a:\n",
        "        print(\"Yes\")\n",
        "    else:\n",
        "        print(\"No\")\n",
        "\n",
        "# Exemplos de uso:\n",
        "is_triangle(3, 4, 5)  # Deve imprimir \"Yes\"\n",
        "is_triangle(1, 2, 3)  # Deve imprimir \"No\""
      ],
      "metadata": {
        "colab": {
          "base_uri": "https://localhost:8080/"
        },
        "id": "SIiAyi25nJ_Y",
        "outputId": "428832aa-2ef0-477e-8cec-7246246f6bc1"
      },
      "execution_count": null,
      "outputs": [
        {
          "output_type": "stream",
          "name": "stdout",
          "text": [
            "Yes\n",
            "No\n"
          ]
        }
      ]
    },
    {
      "cell_type": "markdown",
      "source": [
        "2. Escreva uma função que peça ao usuário para digitar três comprimentos de gravetos, os converta em números inteiros e use is_triangle para verificar se os gravetos com os comprimentos dados podem formar um triângulo."
      ],
      "metadata": {
        "id": "IR7K1wolLyyx"
      }
    },
    {
      "cell_type": "markdown",
      "source": [
        "**SOLUÇÃO PRÓPRIA:**"
      ],
      "metadata": {
        "id": "5-uA2eC4nQqU"
      }
    },
    {
      "cell_type": "code",
      "source": [
        "# definição de função que recebe 3 parâmetros digitados pelo usuário\n",
        "def isTriangle():\n",
        "  n1 = int(input('Digite um valor para n1: '))\n",
        "  n2 = int(input('Digite um valor para n2: '))\n",
        "  n3 = int(input('Digite um valor para n3: '))\n",
        "\n",
        "  if n1 > (n2 + n3):     # 1 < 5\n",
        "    print('\\nNo')\n",
        "  elif n2 > (n1 + n3):   # 2 < 4\n",
        "     print('\\nNo')\n",
        "  elif n3 > (n1 + n2):   # 3 > 3\n",
        "    print('\\nNo')\n",
        "  else:\n",
        "    print('\\nYes')         # sim"
      ],
      "metadata": {
        "id": "GjjncRIfLa6n"
      },
      "execution_count": null,
      "outputs": []
    },
    {
      "cell_type": "code",
      "source": [
        "isTriangle()"
      ],
      "metadata": {
        "colab": {
          "base_uri": "https://localhost:8080/"
        },
        "id": "d8X6a-e7mi-U",
        "outputId": "4cee77a5-00e7-49af-cf6a-a0a6175e809d"
      },
      "execution_count": null,
      "outputs": [
        {
          "output_type": "stream",
          "name": "stdout",
          "text": [
            "Digite um valor para n1: 1\n",
            "Digite um valor para n2: 2\n",
            "Digite um valor para n3: 3\n",
            "\n",
            "Yes\n"
          ]
        }
      ]
    },
    {
      "cell_type": "markdown",
      "source": [
        "**SOLUÇÃO CHATGPT:**"
      ],
      "metadata": {
        "id": "0B23Ywh5nSuP"
      }
    },
    {
      "cell_type": "code",
      "source": [
        "def is_triangle(a, b, c):\n",
        "    if a + b > c and a + c > b and b + c > a:\n",
        "        print(\"Yes\")\n",
        "    else:\n",
        "        print(\"No\")\n",
        "\n",
        "def get_stick_lengths_and_check_triangle():\n",
        "    a = int(input(\"Digite o comprimento do primeiro graveto: \"))\n",
        "    b = int(input(\"Digite o comprimento do segundo graveto: \"))\n",
        "    c = int(input(\"Digite o comprimento do terceiro graveto: \"))\n",
        "\n",
        "    is_triangle(a, b, c)\n",
        "\n",
        "# Exemplo de uso:\n",
        "get_stick_lengths_and_check_triangle()"
      ],
      "metadata": {
        "colab": {
          "base_uri": "https://localhost:8080/"
        },
        "id": "DCk401K0mloj",
        "outputId": "0074ab13-5327-45ff-9ebc-98949a3458a5"
      },
      "execution_count": null,
      "outputs": [
        {
          "output_type": "stream",
          "name": "stdout",
          "text": [
            "Digite o comprimento do primeiro graveto: 1\n",
            "Digite o comprimento do segundo graveto: 2\n",
            "Digite o comprimento do terceiro graveto: 3\n",
            "No\n"
          ]
        }
      ]
    },
    {
      "cell_type": "markdown",
      "source": [
        "<h2> Exercício 5.4 </h2>\n",
        "\n",
        "Qual é a saída do seguinte programa? Desenhe um diagrama da pilha que mostre o estado do programa quando exibir o resultado.\n",
        "\n",
        "```\n",
        "def recurse(n, s):\n",
        "  if n == 0:\n",
        "    print(s)\n",
        "  else:\n",
        "    recurse(n-1, n+s)\n",
        "\n",
        "recurse(3, 0)\n",
        "```"
      ],
      "metadata": {
        "id": "P2_kkHtyngac"
      }
    },
    {
      "cell_type": "markdown",
      "source": [
        "![image.png](data:image/png;base64,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)"
      ],
      "metadata": {
        "id": "GqzgehULr8-J"
      }
    },
    {
      "cell_type": "code",
      "source": [
        "def recurse(n, s):\n",
        "  if n == 0:\n",
        "    print(s)\n",
        "  else:\n",
        "    recurse(n-1, n+s)\n",
        "\n",
        "recurse(3, 0)"
      ],
      "metadata": {
        "colab": {
          "base_uri": "https://localhost:8080/"
        },
        "id": "yQIxJkpHq6Gf",
        "outputId": "0ce9a56e-701f-4f3f-80e0-95265ad8eb78"
      },
      "execution_count": null,
      "outputs": [
        {
          "output_type": "stream",
          "name": "stdout",
          "text": [
            "6\n"
          ]
        }
      ]
    },
    {
      "cell_type": "markdown",
      "source": [
        "**COMPARAÇÃO DE RESPOSTAS:**"
      ],
      "metadata": {
        "id": "3imwLPHNtrrk"
      }
    },
    {
      "cell_type": "markdown",
      "source": [
        "**SOLUÇÃO PRÓPRIA:**"
      ],
      "metadata": {
        "id": "pe5wenE0ttfo"
      }
    },
    {
      "cell_type": "markdown",
      "source": [
        "1. O que aconteceria se você chamasse esta função desta forma: recurse(-1, 0)?\n",
        "\n",
        "Geraria um loop infinito de recursividade, pois não chegaria ao caso-base (0 - zero) nunca."
      ],
      "metadata": {
        "id": "viXfTFNyoueL"
      }
    },
    {
      "cell_type": "markdown",
      "source": [
        "2. Escreva uma docstring que explique tudo o que alguém precisaria saber para usar esta função (e mais nada)."
      ],
      "metadata": {
        "id": "uCVp-Bpzo5a4"
      }
    },
    {
      "cell_type": "code",
      "source": [
        "'''\n",
        "Essa função é recursiva e apresenta na tela o valor de 's' como caso-base para sair da função.\n",
        "Ou seja, quando a subtração de 'n - 1' chegar em 0, será apresentado ao usuário o valor\n",
        "final de 's', que é definido vindo de origem da soma de 'n + s' durante o processo de execução\n",
        "da função.\n",
        "'''"
      ],
      "metadata": {
        "id": "HIZj2UMqnYU8"
      },
      "execution_count": null,
      "outputs": []
    },
    {
      "cell_type": "markdown",
      "source": [
        "**SOLUÇÃO CHATGPT:**"
      ],
      "metadata": {
        "id": "8qEW2sMWtwSV"
      }
    },
    {
      "cell_type": "markdown",
      "source": [
        "1. O que aconteceria se você chamasse esta função desta forma: recurse(-1, 0)?\n",
        "- Quando n é negativo, a função não tem uma condição base para parar, o que leva a uma recursão infinita.\n",
        "\n",
        "2. Escreva uma docstring que explique tudo o que alguém precisaria saber para usar esta função (e mais nada).\n",
        "\n",
        "\n",
        "\n",
        "```\n",
        " \"\"\"\n",
        "    Imprime valores acumulados de `s` com base na recursão até `n` ser 0.\n",
        "\n",
        "    Parâmetros:\n",
        "    n (int): Nível de recursão.\n",
        "    s (int): Valor inicial.\n",
        "\n",
        "    Retorna:\n",
        "    None\n",
        "    \"\"\"\n",
        "```\n",
        "\n"
      ],
      "metadata": {
        "id": "7QUpDtFht5eH"
      }
    },
    {
      "cell_type": "markdown",
      "source": [
        "<h2> Exercício 5.5 </h2>\n",
        "Leia a próxima função e veja se consegue compreender o que ela faz (veja os exemplos no Capítulo 4). Então execute-a e veja se acertou."
      ],
      "metadata": {
        "id": "majAyGUUud8s"
      }
    },
    {
      "cell_type": "code",
      "source": [
        "!pip install ColabTurtle"
      ],
      "metadata": {
        "colab": {
          "base_uri": "https://localhost:8080/"
        },
        "id": "OauQ7Y0Xu7Kh",
        "outputId": "69237a40-12e9-4fcd-b06f-5206341423c6"
      },
      "execution_count": 1,
      "outputs": [
        {
          "output_type": "stream",
          "name": "stdout",
          "text": [
            "Collecting ColabTurtle\n",
            "  Downloading ColabTurtle-2.1.0.tar.gz (6.8 kB)\n",
            "  Preparing metadata (setup.py) ... \u001b[?25l\u001b[?25hdone\n",
            "Building wheels for collected packages: ColabTurtle\n",
            "  Building wheel for ColabTurtle (setup.py) ... \u001b[?25l\u001b[?25hdone\n",
            "  Created wheel for ColabTurtle: filename=ColabTurtle-2.1.0-py3-none-any.whl size=7642 sha256=9c10e958b70a425c1ff1b966a5c51a6b9782344c8e34cdbe4059ae117838b772\n",
            "  Stored in directory: /root/.cache/pip/wheels/5b/86/e8/54f5c8c853606e3a3060bb2e60363cbed632374a12e0f33ffc\n",
            "Successfully built ColabTurtle\n",
            "Installing collected packages: ColabTurtle\n",
            "Successfully installed ColabTurtle-2.1.0\n"
          ]
        }
      ]
    },
    {
      "cell_type": "code",
      "source": [
        "import ColabTurtle.Turtle as tt"
      ],
      "metadata": {
        "id": "LfOMOQFgvBct"
      },
      "execution_count": 2,
      "outputs": []
    },
    {
      "cell_type": "code",
      "source": [
        "def draw(t, length, n):    # draw(t, 20, 4)\n",
        "  if n == 0:\n",
        "    return\n",
        "\n",
        "  angle = 50\n",
        "  tt.fd(length * n)\n",
        "  tt.lt(angle)\n",
        "  draw(t, length, n-1)\n",
        "  tt.rt(2 * angle)\n",
        "  draw(t, length, n-1)\n",
        "  tt.lt(angle)\n",
        "  tt.bk(length * n)"
      ],
      "metadata": {
        "id": "Bs1Nd4J7ujne"
      },
      "execution_count": 3,
      "outputs": []
    },
    {
      "cell_type": "code",
      "source": [
        "t = tt.initializeTurtle()\n",
        "\n",
        "draw(t, 20, 4)"
      ],
      "metadata": {
        "colab": {
          "base_uri": "https://localhost:8080/",
          "height": 521
        },
        "id": "tK9EVSy1t41L",
        "outputId": "2a5a9222-da0b-494d-a736-f67fcb567819"
      },
      "execution_count": 4,
      "outputs": [
        {
          "output_type": "display_data",
          "data": {
            "text/plain": [
              "<IPython.core.display.HTML object>"
            ],
            "text/html": [
              "\n",
              "      <svg width=\"800\" height=\"500\">\n",
              "        <rect width=\"100%\" height=\"100%\" fill=\"black\"/>\n",
              "        <line x1=\"400\" y1=\"250\" x2=\"400.0\" y2=\"170.0\" stroke-linecap=\"round\" style=\"stroke:white;stroke-width:4\"/><line x1=\"400.0\" y1=\"170.0\" x2=\"354.037\" y2=\"131.433\" stroke-linecap=\"round\" style=\"stroke:white;stroke-width:4\"/><line x1=\"354.037\" y1=\"131.433\" x2=\"314.645\" y2=\"138.379\" stroke-linecap=\"round\" style=\"stroke:white;stroke-width:4\"/><line x1=\"314.645\" y1=\"138.379\" x2=\"304.645\" y2=\"155.7\" stroke-linecap=\"round\" style=\"stroke:white;stroke-width:4\"/><line x1=\"304.645\" y1=\"155.7\" x2=\"314.645\" y2=\"138.379\" stroke-linecap=\"round\" style=\"stroke:white;stroke-width:4\"/><line x1=\"314.645\" y1=\"138.379\" x2=\"299.324\" y2=\"125.523\" stroke-linecap=\"round\" style=\"stroke:white;stroke-width:4\"/><line x1=\"299.324\" y1=\"125.523\" x2=\"314.645\" y2=\"138.379\" stroke-linecap=\"round\" style=\"stroke:white;stroke-width:4\"/><line x1=\"314.645\" y1=\"138.379\" x2=\"354.037\" y2=\"131.433\" stroke-linecap=\"round\" style=\"stroke:white;stroke-width:4\"/><line x1=\"354.037\" y1=\"131.433\" x2=\"354.037\" y2=\"91.433\" stroke-linecap=\"round\" style=\"stroke:white;stroke-width:4\"/><line x1=\"354.037\" y1=\"91.433\" x2=\"338.716\" y2=\"78.577\" stroke-linecap=\"round\" style=\"stroke:white;stroke-width:4\"/><line x1=\"338.716\" y1=\"78.577\" x2=\"354.037\" y2=\"91.433\" stroke-linecap=\"round\" style=\"stroke:white;stroke-width:4\"/><line x1=\"354.037\" y1=\"91.433\" x2=\"369.358\" y2=\"78.577\" stroke-linecap=\"round\" style=\"stroke:white;stroke-width:4\"/><line x1=\"369.358\" y1=\"78.577\" x2=\"354.037\" y2=\"91.433\" stroke-linecap=\"round\" style=\"stroke:white;stroke-width:4\"/><line x1=\"354.037\" y1=\"91.433\" x2=\"354.037\" y2=\"131.433\" stroke-linecap=\"round\" style=\"stroke:white;stroke-width:4\"/><line x1=\"354.037\" y1=\"131.433\" x2=\"400.0\" y2=\"170.0\" stroke-linecap=\"round\" style=\"stroke:white;stroke-width:4\"/><line x1=\"400.0\" y1=\"170.0\" x2=\"445.963\" y2=\"131.433\" stroke-linecap=\"round\" style=\"stroke:white;stroke-width:4\"/><line x1=\"445.963\" y1=\"131.433\" x2=\"445.963\" y2=\"91.433\" stroke-linecap=\"round\" style=\"stroke:white;stroke-width:4\"/><line x1=\"445.963\" y1=\"91.433\" x2=\"430.642\" y2=\"78.577\" stroke-linecap=\"round\" style=\"stroke:white;stroke-width:4\"/><line x1=\"430.642\" y1=\"78.577\" x2=\"445.963\" y2=\"91.433\" stroke-linecap=\"round\" style=\"stroke:white;stroke-width:4\"/><line x1=\"445.963\" y1=\"91.433\" x2=\"461.284\" y2=\"78.577\" stroke-linecap=\"round\" style=\"stroke:white;stroke-width:4\"/><line x1=\"461.284\" y1=\"78.577\" x2=\"445.963\" y2=\"91.433\" stroke-linecap=\"round\" style=\"stroke:white;stroke-width:4\"/><line x1=\"445.963\" y1=\"91.433\" x2=\"445.963\" y2=\"131.433\" stroke-linecap=\"round\" style=\"stroke:white;stroke-width:4\"/><line x1=\"445.963\" y1=\"131.433\" x2=\"485.355\" y2=\"138.379\" stroke-linecap=\"round\" style=\"stroke:white;stroke-width:4\"/><line x1=\"485.355\" y1=\"138.379\" x2=\"500.676\" y2=\"125.523\" stroke-linecap=\"round\" style=\"stroke:white;stroke-width:4\"/><line x1=\"500.676\" y1=\"125.523\" x2=\"485.355\" y2=\"138.379\" stroke-linecap=\"round\" style=\"stroke:white;stroke-width:4\"/><line x1=\"485.355\" y1=\"138.379\" x2=\"495.355\" y2=\"155.7\" stroke-linecap=\"round\" style=\"stroke:white;stroke-width:4\"/><line x1=\"495.355\" y1=\"155.7\" x2=\"485.355\" y2=\"138.379\" stroke-linecap=\"round\" style=\"stroke:white;stroke-width:4\"/><line x1=\"485.355\" y1=\"138.379\" x2=\"445.963\" y2=\"131.433\" stroke-linecap=\"round\" style=\"stroke:white;stroke-width:4\"/><line x1=\"445.963\" y1=\"131.433\" x2=\"400.0\" y2=\"170.0\" stroke-linecap=\"round\" style=\"stroke:white;stroke-width:4\"/><line x1=\"400.0\" y1=\"170.0\" x2=\"400.0\" y2=\"250.0\" stroke-linecap=\"round\" style=\"stroke:white;stroke-width:4\"/>\n",
              "        <g visibility=visible transform=\"rotate(360,400.0,250.0) translate(382.0, 232.0)\">\n",
              "<path style=\" stroke:none;fill-rule:evenodd;fill:white;fill-opacity:1;\" d=\"M 18.214844 0.632812 C 16.109375 1.800781 15.011719 4.074219 15.074219 7.132812 L 15.085938 7.652344 L 14.785156 7.496094 C 13.476562 6.824219 11.957031 6.671875 10.40625 7.066406 C 8.46875 7.550781 6.515625 9.15625 4.394531 11.992188 C 3.0625 13.777344 2.679688 14.636719 3.042969 15.027344 L 3.15625 15.152344 L 3.519531 15.152344 C 4.238281 15.152344 4.828125 14.886719 8.1875 13.039062 C 9.386719 12.378906 10.371094 11.839844 10.378906 11.839844 C 10.386719 11.839844 10.355469 11.929688 10.304688 12.035156 C 9.832031 13.09375 9.257812 14.820312 8.96875 16.078125 C 7.914062 20.652344 8.617188 24.53125 11.070312 27.660156 C 11.351562 28.015625 11.363281 27.914062 10.972656 28.382812 C 8.925781 30.84375 7.945312 33.28125 8.238281 35.1875 C 8.289062 35.527344 8.28125 35.523438 8.917969 35.523438 C 10.941406 35.523438 13.074219 34.207031 15.136719 31.6875 C 15.359375 31.417969 15.328125 31.425781 15.5625 31.574219 C 16.292969 32.042969 18.023438 32.964844 18.175781 32.964844 C 18.335938 32.964844 19.941406 32.210938 20.828125 31.71875 C 20.996094 31.625 21.136719 31.554688 21.136719 31.558594 C 21.203125 31.664062 21.898438 32.414062 22.222656 32.730469 C 23.835938 34.300781 25.5625 35.132812 27.582031 35.300781 C 27.90625 35.328125 27.9375 35.308594 28.007812 34.984375 C 28.382812 33.242188 27.625 30.925781 25.863281 28.425781 L 25.542969 27.96875 L 25.699219 27.785156 C 28.945312 23.960938 29.132812 18.699219 26.257812 11.96875 L 26.207031 11.84375 L 27.945312 12.703125 C 31.53125 14.476562 32.316406 14.800781 33.03125 14.800781 C 33.976562 14.800781 33.78125 13.9375 32.472656 12.292969 C 28.519531 7.355469 25.394531 5.925781 21.921875 7.472656 L 21.558594 7.636719 L 21.578125 7.542969 C 21.699219 6.992188 21.761719 5.742188 21.699219 5.164062 C 21.496094 3.296875 20.664062 1.964844 19.003906 0.855469 C 18.480469 0.503906 18.457031 0.5 18.214844 0.632812\"/>\n",
              "</g>\n",
              "      </svg>\n",
              "    "
            ]
          },
          "metadata": {}
        }
      ]
    },
    {
      "cell_type": "markdown",
      "source": [
        "**EXPLICANDO A EXECUÇÃO DA FUNÇÃO:**"
      ],
      "metadata": {
        "id": "nTcZkd3-CDiA"
      }
    },
    {
      "cell_type": "code",
      "source": [
        "def draw(t, length, n):    # draw(t, 20, 4)\n",
        "  # quando n for 0, que é o caso-base, a função se encerra\n",
        "  if n == 0:\n",
        "    return\n",
        "\n",
        "  angle = 50\n",
        "  tt.fd(length * n)       # 1º chamada: n = 4. a tartaruga se move para frente em 20 * 4 = 80 unidades\n",
        "  tt.lt(angle)               # vira à esquerda em 50 graus\n",
        "\n",
        "  # chamada recursiva:\n",
        "  draw(t, length, n-1)\n",
        "  ''' 2º chamada:\n",
        "        4 - 1 = 3. a tartaruga se move para frente em 20 * 3 = 60 unidades\n",
        "        vira à esquerda em 50 graus\n",
        "        e faz a chamada recursiva novamente (até atingir o caso-base de 0):\n",
        "       3º chamada:\n",
        "          3 - 1 = 2. a tartaruga se move para frente em 20 * 2 = 40 unidades\n",
        "          vira à esquerda em 50 graus\n",
        "          e faz a chamada recursiva novamente (até atingir o caso-base de 0):\n",
        "       4º chamada:\n",
        "          2 - 1 = 1. a tartaruga se move para frente em 20 * 1 = 20 unidades\n",
        "          vira à esquerda em 50 graus\n",
        "          e faz a chamada recursiva novamente (até atingir o caso-base de 0):\n",
        "       5º chamada:\n",
        "           1 - 1 = 0, então fechou a função (nessa recursão), e segue o resto da função\n",
        "  '''\n",
        "  tt.rt(2 * angle)      # vira à direita em 100 graus\n",
        "\n",
        "  '''\n",
        "    e faz outra chamada recursiva:\n",
        "\n",
        "  '''\n",
        "  draw(t, length, n-1)\n",
        "  tt.lt(angle)\n",
        "  tt.bk(length * n)"
      ],
      "metadata": {
        "id": "kUVIhWlJCC0D"
      },
      "execution_count": null,
      "outputs": []
    },
    {
      "cell_type": "markdown",
      "source": [
        "<h2> Exercício 5.6 </h2>\n",
        "\n",
        "![image.png](data:image/png;base64,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)"
      ],
      "metadata": {
        "id": "s_am7UgnGD7R"
      }
    },
    {
      "cell_type": "markdown",
      "source": [
        "A curva de Koch é um fractal que parece com o da Figura 5.2. Para desenhar uma curva de Koch com o comprimento x, tudo o que você tem que fazer é:\n",
        "1. Desenhe uma curva de Koch com o comprimento x/3.\n",
        "2. Vire 60 graus à esquerda.\n",
        "3. Desenhe uma curva de Koch com o comprimento x/3.\n",
        "4. Vire 120 graus à direita.\n",
        "5. Desenhe uma curva de Koch com o comprimento x/3.\n",
        "6. Vire 60 graus à esquerda.\n",
        "7. Desenhe uma curva de Koch com o comprimento x/3."
      ],
      "metadata": {
        "id": "MOSdOEdYGI2v"
      }
    },
    {
      "cell_type": "markdown",
      "source": [
        "A exceção é se x for menor que 3: neste caso, você pode desenhar apenas uma linha reta com o comprimento x.\n",
        "1. Escreva uma função chamada koch que receba um turtle e um comprimento como\n",
        "parâmetros, e use o turtle para desenhar uma curva de Koch com o comprimento\n",
        "dado.\n",
        "2. Escreva uma função chamada snowflake que desenhe três curvas de Koch para fazer o traçado de um floco de neve.\n",
        "Solução: http://thinkpython2.com/code/koch.py.\n",
        "3. A curva de Koch pode ser generalizada de vários modos. Veja exemplos em\n",
        "http://en.wikipedia.org/wiki/Koch_snowflake e implemente o seu favorito.\n"
      ],
      "metadata": {
        "id": "QOe9qn_sGLwR"
      }
    },
    {
      "cell_type": "code",
      "source": [],
      "metadata": {
        "id": "GY9zwG5su0IT"
      },
      "execution_count": null,
      "outputs": []
    }
  ]
}