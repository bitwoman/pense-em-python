{
  "nbformat": 4,
  "nbformat_minor": 0,
  "metadata": {
    "colab": {
      "provenance": [],
      "authorship_tag": "ABX9TyNsWEukZ+9oxlMPD/wHcvAp",
      "include_colab_link": true
    },
    "kernelspec": {
      "name": "python3",
      "display_name": "Python 3"
    },
    "language_info": {
      "name": "python"
    }
  },
  "cells": [
    {
      "cell_type": "markdown",
      "metadata": {
        "id": "view-in-github",
        "colab_type": "text"
      },
      "source": [
        "<a href=\"https://colab.research.google.com/github/bitwoman/pense-em-python/blob/main/capitulo_5.ipynb\" target=\"_parent\"><img src=\"https://colab.research.google.com/assets/colab-badge.svg\" alt=\"Open In Colab\"/></a>"
      ]
    },
    {
      "cell_type": "markdown",
      "source": [
        "# **ESTUDO DO LIVRO \"Pense em Python\", DO AUTOR ALLEN B. DOWNEY**\n",
        "\n",
        "<p> Estudos iniciados em 20-06-2024. </p>"
      ],
      "metadata": {
        "id": "D8PSiz6LJ5_T"
      }
    },
    {
      "cell_type": "markdown",
      "source": [
        "# Capítulo 5: Condicionais e recursividade"
      ],
      "metadata": {
        "id": "gKeVPmfjKG8e"
      }
    },
    {
      "cell_type": "markdown",
      "source": [
        "<h2> 5.1 - Divisão pelo piso e módulo </h2>"
      ],
      "metadata": {
        "id": "L8CCG2LhYHfq"
      }
    },
    {
      "cell_type": "markdown",
      "source": [
        "O operador de divisão pelo piso, //, divide dois números e arredonda o resultado para um número inteiro para baixo. Por exemplo, suponha que o tempo de execução de um filme seja de 105 minutos. Você pode querer saber a quanto isso corresponde em horas. A divisão convencional devolve um número de ponto flutuante:\n"
      ],
      "metadata": {
        "id": "_-X8agDYYTdi"
      }
    },
    {
      "cell_type": "code",
      "execution_count": 2,
      "metadata": {
        "id": "gWRS1X6rJ5qG",
        "colab": {
          "base_uri": "https://localhost:8080/"
        },
        "outputId": "4e9a68c3-9e6c-4f06-8f63-c186d1d4dc6a"
      },
      "outputs": [
        {
          "output_type": "execute_result",
          "data": {
            "text/plain": [
              "1.75"
            ]
          },
          "metadata": {},
          "execution_count": 2
        }
      ],
      "source": [
        "minutes = 105\n",
        "minutes/60 # 1.75"
      ]
    },
    {
      "cell_type": "markdown",
      "source": [
        "Mas não é comum escrever horas com pontos decimais. A divisão pelo piso devolve o número inteiro de horas, ignorando a parte fracionária:\n"
      ],
      "metadata": {
        "id": "zmVXc98kYdmQ"
      }
    },
    {
      "cell_type": "code",
      "source": [
        "minutes = 105\n",
        "hours = minutes//60\n",
        "\n",
        "print(hours) # 1 hora"
      ],
      "metadata": {
        "colab": {
          "base_uri": "https://localhost:8080/"
        },
        "id": "8mkqHX5RYW_w",
        "outputId": "acbc66fd-538b-4e00-f354-176b01301d9f"
      },
      "execution_count": 3,
      "outputs": [
        {
          "output_type": "stream",
          "name": "stdout",
          "text": [
            "1\n"
          ]
        }
      ]
    },
    {
      "cell_type": "markdown",
      "source": [
        "Para obter o resto, você pode subtrair uma hora em minutos:"
      ],
      "metadata": {
        "id": "3AafKCPgYuff"
      }
    },
    {
      "cell_type": "code",
      "source": [
        "remainder = minutes - hours * 60\n",
        "\n",
        "print(remainder) # 45 minutos"
      ],
      "metadata": {
        "colab": {
          "base_uri": "https://localhost:8080/"
        },
        "id": "PTE1qL_zYoFl",
        "outputId": "a194f359-cf6b-47e1-9444-c676f9595bee"
      },
      "execution_count": 5,
      "outputs": [
        {
          "output_type": "stream",
          "name": "stdout",
          "text": [
            "45\n"
          ]
        }
      ]
    },
    {
      "cell_type": "markdown",
      "source": [
        "Uma alternativa é usar o operador módulo, %, que divide dois números e devolve o resto:"
      ],
      "metadata": {
        "id": "X41f0rs3Y3nR"
      }
    },
    {
      "cell_type": "code",
      "source": [
        "remainder = minutes % 60\n",
        "\n",
        "print(remainder) # 45 minutos"
      ],
      "metadata": {
        "colab": {
          "base_uri": "https://localhost:8080/"
        },
        "id": "1stexVXmYzSk",
        "outputId": "fd6517e8-d4f1-47ed-e01a-e3a0876edd1a"
      },
      "execution_count": 7,
      "outputs": [
        {
          "output_type": "stream",
          "name": "stdout",
          "text": [
            "45\n"
          ]
        }
      ]
    },
    {
      "cell_type": "markdown",
      "source": [
        "O operador módulo é mais útil do que parece. Por exemplo, é possível verificar se um número é divisível por outro – se x % y for zero, então x é divisível por y.\n",
        "**Além disso, você pode extrair o dígito ou dígitos mais à direita de um número. Por exemplo, x % 10 produz o dígito mais à direita de x (na base 10). Da mesma forma x % 100 produz os dois últimos dígitos.**\n"
      ],
      "metadata": {
        "id": "nNPGMMoJbDQW"
      }
    },
    {
      "cell_type": "markdown",
      "source": [
        "**EXEMPLO REAL ONDE UM OPERADOR DE MÓDULO PODE SER ÚTIL**\n",
        "\n",
        "\n",
        "**observação: exemplo do chatGPT**"
      ],
      "metadata": {
        "id": "ppJhzsGkbHAY"
      }
    },
    {
      "cell_type": "markdown",
      "source": [
        "**Validação de Cartões de Crédito**\n",
        "Um dos usos mais comuns de manipular dígitos individuais de um número é a validação de números de cartões de crédito. Existe um algoritmo específico chamado Algoritmo de Luhn que é utilizado para verificar a validade de um número de cartão de crédito. Esse algoritmo envolve operações de manipulação de dígitos individuais do número.\n",
        "\n",
        "\n",
        "**Algoritmo de Luhn**\n",
        "Aqui está uma descrição simplificada de como o Algoritmo de Luhn funciona:"
      ],
      "metadata": {
        "id": "WlIyAFVhbUkD"
      }
    },
    {
      "cell_type": "markdown",
      "source": [
        "1.   Inverta o número do cartão de crédito.\n",
        "2.   Dobre o valor de cada dígito que ocupa uma posição ímpar (considerando a\n",
        "     posição 1 como ímpar) da direita para a esquerda.\n",
        "     *  Se o dobro do valor for maior que 9, some os dígitos do resultado (por exemplo, 8 * 2 = 16, e 1 + 6 = 7).\n",
        "3.   Some todos os dígitos (tanto os dobrados quanto os não dobrados).\n",
        "4.   Se o total for divisível por 10, o número do cartão de crédito é válido."
      ],
      "metadata": {
        "id": "9QUC2usObZE1"
      }
    },
    {
      "cell_type": "markdown",
      "source": [
        "**Exemplo Prático**\n",
        "Vamos verificar se o número do cartão de crédito **4539 1488 0343 6467** é válido:\n",
        "\n",
        "1.  Inverter o número:\n",
        "  * **7646 3430 8841 9354**\n",
        "\n",
        "2.  Dobrar os dígitos nas posições ímpares:\n",
        "  *   7 * 2 = 14 → 1 + 4 = 5\n",
        "  *   4 * 2 = 8\n",
        "  *   6 * 2 = 12 → 1 + 2 = 3\n",
        "  *   3 * 2 = 6\n",
        "  *   8 * 2 = 16 → 1 + 6 = 7\n",
        "  *   4 * 2 = 8\n",
        "  *   9 * 2 = 18 → 1 + 8 = 9\n",
        "  *   5 * 2 = 10 → 1 + 0 = 1\n",
        "  *   Após dobrar:\n",
        "      *   5 6 4 8 7 8 1 9 4 3 4 8 3 0 6 7\n",
        "\n",
        "3.  Somar todos os dígitos:\n",
        "  *  5 + 6 + 4 + 8 + 7 + 8 + 1 + 9 + 4 + 3 + 4 + 8 + 3 + 0 + 6 + 7 = 83\n",
        "\n",
        "4.  Verificar se o total é divisível por 10:\n",
        "    *    83 % 10 = 3 (não é divisível por 10)\n",
        "\n",
        "Portanto, 4539 1488 0343 6467 não é um número de cartão de crédito válido.\n",
        "\n"
      ],
      "metadata": {
        "id": "dqD0PHSuby83"
      }
    },
    {
      "cell_type": "markdown",
      "source": [
        "**Resumo**\n",
        "Este exemplo demonstra a necessidade de manipular dígitos individuais de um número para verificar a validade de um cartão de crédito. O operador módulo é usado no passo final para determinar se a soma dos dígitos (após a manipulação) é divisível por 10, o que confirma a validade do número do cartão."
      ],
      "metadata": {
        "id": "-250Z3L0coDp"
      }
    },
    {
      "cell_type": "markdown",
      "source": [
        "<h2> 5.2 - Expressões booleanas </h2>\n",
        "\n",
        "\n",
        "Uma expressão booleana é uma expressão que pode ser verdadeira ou falsa. Os exemplos seguintes usam o operador ==, que compara dois operandos e produz **True** se forem iguais e **False** se não forem:"
      ],
      "metadata": {
        "id": "qy1jsEZhct2J"
      }
    },
    {
      "cell_type": "code",
      "source": [
        "5 == 5 # True"
      ],
      "metadata": {
        "colab": {
          "base_uri": "https://localhost:8080/"
        },
        "id": "UfNYnmqMZYKr",
        "outputId": "2b9c0b0c-2d9e-402a-a51f-cf819941b6a7"
      },
      "execution_count": 10,
      "outputs": [
        {
          "output_type": "execute_result",
          "data": {
            "text/plain": [
              "True"
            ]
          },
          "metadata": {},
          "execution_count": 10
        }
      ]
    },
    {
      "cell_type": "code",
      "source": [
        "5 == 6 # False"
      ],
      "metadata": {
        "colab": {
          "base_uri": "https://localhost:8080/"
        },
        "id": "JwIj_7UsfCzx",
        "outputId": "47d3a366-7a06-405c-ae42-86c436808eb5"
      },
      "execution_count": 12,
      "outputs": [
        {
          "output_type": "execute_result",
          "data": {
            "text/plain": [
              "False"
            ]
          },
          "metadata": {},
          "execution_count": 12
        }
      ]
    },
    {
      "cell_type": "markdown",
      "source": [
        "**True** e **False** são valores especiais que pertencem ao tipo bool; não são strings:"
      ],
      "metadata": {
        "id": "jFytvE9SfH9U"
      }
    },
    {
      "cell_type": "code",
      "source": [
        "type(True)"
      ],
      "metadata": {
        "colab": {
          "base_uri": "https://localhost:8080/"
        },
        "id": "blQ0Fhz-fF_D",
        "outputId": "6ed5b532-17ee-4e5f-80e2-48b8a26aa662"
      },
      "execution_count": 13,
      "outputs": [
        {
          "output_type": "execute_result",
          "data": {
            "text/plain": [
              "bool"
            ]
          },
          "metadata": {},
          "execution_count": 13
        }
      ]
    },
    {
      "cell_type": "code",
      "source": [
        "type(False)"
      ],
      "metadata": {
        "colab": {
          "base_uri": "https://localhost:8080/"
        },
        "id": "lmDX3d_4fLJw",
        "outputId": "0f4cd64d-f866-4c7b-df87-98d2280dff8d"
      },
      "execution_count": 14,
      "outputs": [
        {
          "output_type": "execute_result",
          "data": {
            "text/plain": [
              "bool"
            ]
          },
          "metadata": {},
          "execution_count": 14
        }
      ]
    },
    {
      "cell_type": "markdown",
      "source": [
        "O operador == é um dos operadores relacionais; os outros são:\n",
        "\n",
        "```\n",
        "x != y # x não é igual a y\n",
        "x > y # x é maior que y\n",
        "x < y # x é menor que y\n",
        "x >= y # x é maior ou igual a y\n",
        "x <= y # x é menor ou igual a y\n",
        "```\n",
        "\n"
      ],
      "metadata": {
        "id": "enJjVgDCfNjO"
      }
    },
    {
      "cell_type": "markdown",
      "source": [
        "Embora essas operações provavelmente sejam familiares para você, os símbolos do\n",
        "Python são diferentes dos símbolos matemáticos. Um erro comum é usar apenas um sinal de igual (=) em vez de um sinal duplo (==). Lembre-se de que = é um operador de atribuição e == é um operador relacional. Não existe =< ou =>."
      ],
      "metadata": {
        "id": "6_3pPYLUfeyK"
      }
    },
    {
      "cell_type": "markdown",
      "source": [
        "<h2> 5.3 - Operadores lógicos </h2>\n",
        "\n",
        "Há três operadores lógicos: and, or e not. A semântica (significado) destes operadores é semelhante ao seu significado em inglês. Por exemplo, `x> 0 and x <10` só é verdade se x for maior que 0 e menor que 10.\n",
        "\n",
        "`n%2 == 0 or n%3 == 0` é verdadeiro se uma ou as duas condição(ões) for(em)\n",
        "verdadeira(s), isto é, se o número for divisível por 2 ou 3."
      ],
      "metadata": {
        "id": "j6EO0fP9fheE"
      }
    },
    {
      "cell_type": "markdown",
      "source": [
        "Falando estritamente, os operandos dos operadores lógicos devem ser expressões\n",
        "booleanas, mas o Python não é muito estrito. Qualquer número que não seja zero é\n",
        "interpretado como True:"
      ],
      "metadata": {
        "id": "BOXw58lXhQid"
      }
    },
    {
      "cell_type": "code",
      "source": [
        "42 and True"
      ],
      "metadata": {
        "colab": {
          "base_uri": "https://localhost:8080/"
        },
        "id": "u8pN9ChMhKNB",
        "outputId": "b83c2c3c-a433-4983-94e1-f477dc5a03f6"
      },
      "execution_count": 16,
      "outputs": [
        {
          "output_type": "execute_result",
          "data": {
            "text/plain": [
              "True"
            ]
          },
          "metadata": {},
          "execution_count": 16
        }
      ]
    },
    {
      "cell_type": "markdown",
      "source": [
        "Esta flexibilidade tem sua utilidade, mas há algumas sutilezas relativas a ela que podem ser confusas. Assim, pode ser uma boa ideia evitá-la (a menos que saiba o que está fazendo).\n"
      ],
      "metadata": {
        "id": "Dbt1Nh07hUiT"
      }
    },
    {
      "cell_type": "markdown",
      "source": [
        "<h2> 5.4 - Execução condicional </h2>\n",
        "\n",
        "Para escrever programas úteis, quase sempre precisamos da capacidade de verificar condições e mudar o comportamento do programa de acordo com elas. Instruções condicionais nos dão esta capacidade. A forma mais simples é a instrução if:\n",
        "\n",
        "```\n",
        "# if x > 0:\n",
        "  print('x is positive')\n",
        "```\n",
        "\n"
      ],
      "metadata": {
        "id": "Ldw8kSGbhatU"
      }
    },
    {
      "cell_type": "markdown",
      "source": [
        "A expressão booleana depois do if é chamada de condição. Se for verdadeira, a instrução endentada é executada. Se não, nada acontece.\n",
        "Instruções if têm a mesma estrutura que definições de função: um cabeçalho seguido de um corpo endentado. Instruções como essa são chamadas de instruções compostas.\n",
        "Não há limite para o número de instruções que podem aparecer no corpo, mas deve haver pelo menos uma. Ocasionalmente, é útil ter um corpo sem instruções (normalmente como um espaço reservado para código que ainda não foi escrito). Neste caso, você pode usar a instrução pass, que não faz nada.\n",
        "\n",
        "```\n",
        "if x < 0:\n",
        "  pass # A FAZER: lidar com valores negativos!\n",
        "```\n",
        "\n",
        "\n"
      ],
      "metadata": {
        "id": "XBhg7FnImD25"
      }
    },
    {
      "cell_type": "markdown",
      "source": [
        "<h2> 5.5 - Execução alternativa </h2>\n",
        "\n",
        "Uma segunda forma da instrução if é a “execução alternativa”, na qual há duas\n",
        "possibilidades e a condição determina qual será executada. A sintaxe pode ser algo assim:\n",
        "\n",
        "```\n",
        "if x % 2 == 0:\n",
        "  print('x is even')\n",
        "else:\n",
        "  print('x is odd')\n",
        "```"
      ],
      "metadata": {
        "id": "55E7x9h4mObS"
      }
    },
    {
      "cell_type": "markdown",
      "source": [
        "Se o resto quando x for dividido por 2 for 0, então sabemos que x é par e o programa exibe uma mensagem adequada. Se a condição for falsa, o segundo conjunto de instruções é executado. Como a condição deve ser verdadeira ou falsa, exatamente uma das alternativas será executada. As alternativas são chamadas de ramos (branches), porque são ramos no fluxo da execução.\n"
      ],
      "metadata": {
        "id": "ZmvkeiQNmjwI"
      }
    },
    {
      "cell_type": "markdown",
      "source": [
        "<h2> 5.6 - Condicionais encadeadas </h2>\n",
        "\n",
        "Às vezes, há mais de duas possibilidades e precisamos de mais que dois ramos. Esta forma de expressar uma operação de computação é uma condicional encadeada:\n",
        "\n",
        "```\n",
        "if x < y:\n",
        "  print('x is less than y')\n",
        "elif x > y:\n",
        "  print('x is greater than y')\n",
        "else:\n",
        "  print('x and y are equal')\n",
        "```"
      ],
      "metadata": {
        "id": "IEDmsVkimpEg"
      }
    },
    {
      "cell_type": "markdown",
      "source": [
        "elif é uma abreviatura de “else if”. Novamente, exatamente um ramo será executado. Não há nenhum limite para o número de instruções elif. Se houver uma cláusula else, ela deve estar no fim, mas não é preciso haver uma.\n",
        "\n",
        "```\n",
        "if choice == 'a':\n",
        "  draw_a()\n",
        "elif choice == 'b':\n",
        "  draw_b()\n",
        "elif choice == 'c':\n",
        "  draw_c()\n",
        "```\n",
        "\n",
        "Cada condição é verificada em ordem. Se a primeira for falsa, a próxima é verificada, e assim por diante. Se uma delas for verdadeira, o ramo correspondente é executado e a instrução é encerrada. Mesmo se mais de uma condição for verdade, só o primeiro ramo verdadeiro é executado."
      ],
      "metadata": {
        "id": "9_AUjd-HnPVf"
      }
    },
    {
      "cell_type": "markdown",
      "source": [
        "<h2> 5.7 - Condicionais aninhadas </h2>\n",
        "\n",
        "Uma condicional também pode ser aninhada dentro de outra. Poderíamos ter escrito o exemplo na seção anterior desta forma:\n",
        "\n",
        "\n",
        "```\n",
        "if x == y:\n",
        "  print('x and y are equal')\n",
        "else:\n",
        "if x < y:\n",
        "  print('x is less than y')\n",
        "else:\n",
        "  print('x is greater than y')\n",
        "```\n",
        "\n"
      ],
      "metadata": {
        "id": "5rb4ZplIni20"
      }
    },
    {
      "cell_type": "markdown",
      "source": [
        "A condicional exterior contém dois ramos. O primeiro ramo contém uma instrução\n",
        "simples. O segundo ramo contém outra instrução if, que tem outros dois ramos próprios. Esses dois ramos são instruções simples, embora pudessem ser instruções condicionais também.\n",
        "Embora a endentação das instruções evidencie a estrutura das condicionais, condicionais aninhadas são difíceis de ler rapidamente. É uma boa ideia evitá-las quando for possível.\n",
        "Operadores lógicos muitas vezes oferecem uma forma de simplificar instruções\n",
        "condicionais aninhadas. Por exemplo, podemos reescrever o seguinte código usando uma única condicional:\n",
        "\n",
        "```\n",
        "if 0 < x:\n",
        "  if x < 10:\n",
        "    print('x is a positive single-digit number.')\n",
        "```\n",
        "\n",
        "A instrução print só é executada se a colocarmos depois de ambas as condicionais, então podemos obter o mesmo efeito com o operador and:\n",
        "\n",
        "```\n",
        "if 0 < x and x < 10:\n",
        "  print('x is a positive single-digit number.')\n",
        "```\n",
        "\n",
        "Para este tipo de condição, o Python oferece uma opção mais concisa:\n",
        "\n",
        "\n",
        "```\n",
        "if 0 < x < 10:\n",
        "  print('x is a positive single-digit number.')\n",
        "```"
      ],
      "metadata": {
        "id": "HhSyY-4YpkMZ"
      }
    },
    {
      "cell_type": "markdown",
      "source": [
        "<h2> 5.8 - Recursividade </h2>\n",
        "\n",
        "É legal para uma função chamar outra; também é legal para uma função chamar a si\n",
        "própria. Pode não ser óbvio porque isso é uma coisa boa, mas na verdade é uma das coisas mais mágicas que um programa pode fazer. Por exemplo, veja a seguinte função:\n",
        "\n",
        "\n"
      ],
      "metadata": {
        "id": "92wkoG8pp6LH"
      }
    },
    {
      "cell_type": "code",
      "source": [
        "def countdown(n):\n",
        "  if n <= 0:\n",
        "    print('Blastoff!')\n",
        "  else:\n",
        "    print(n)\n",
        "    countdown(n-1)"
      ],
      "metadata": {
        "id": "g1eKMMOGhKKY"
      },
      "execution_count": 18,
      "outputs": []
    },
    {
      "cell_type": "markdown",
      "source": [
        "Se n for 0 ou negativo, a palavra “Blastoff!” é exibida, senão a saída é n e então a função countdown é chamada – por si mesma – passando n-1 como argumento.\n",
        "O que acontece se chamarmos esta função assim?\n",
        "\n",
        "`countdown(3)`"
      ],
      "metadata": {
        "id": "L5PKAK4XtgNI"
      }
    },
    {
      "cell_type": "code",
      "source": [
        "countdown(3)"
      ],
      "metadata": {
        "colab": {
          "base_uri": "https://localhost:8080/"
        },
        "id": "zSjGwlASfQam",
        "outputId": "c4ba8af8-44ec-4801-f0f6-471366848d42"
      },
      "execution_count": 20,
      "outputs": [
        {
          "output_type": "stream",
          "name": "stdout",
          "text": [
            "3\n",
            "2\n",
            "1\n",
            "Blastoff!\n"
          ]
        }
      ]
    },
    {
      "cell_type": "markdown",
      "source": [
        "A execução de countdown inicia com n=3 e como n é maior que 0, ela produz o valor 3 e então chama a si mesma…\n",
        "\n",
        "A execução de countdown inicia com n=2 e como n é maior que 0, ela produz o valor 2 e então chama a si mesma…\n",
        "\n",
        "A execução de countdown inicia com n=1 e como n é maior que 0, ela produz o valor 1 e então chama a si mesma…\n",
        "\n",
        "A execução de countdown inicia com n=0 e como n não é maior que 0, ela produz a\n",
        "palavra “Blastoff!” e então retorna.\n",
        "\n",
        "O countdown que recebeu n=1 retorna.\n",
        "\n",
        "O countdown que recebeu n=2 retorna.\n",
        "\n",
        "O countdown que recebeu n=3 retorna.\n",
        "\n",
        "E então você está de volta ao __main__. Então a saída completa será assim:\n",
        "\n",
        "```\n",
        "3\n",
        "2\n",
        "1\n",
        "Blastoff!\n",
        "```\n",
        "\n",
        "\n",
        "Para exemplos simples como esse, provavelmente é mais fácil usar um loop for. Mas há casos que são difíceis de escrever com um loop for e fáceis de\n",
        "escrever com recursividade."
      ],
      "metadata": {
        "id": "RoVFoj3ptqkt"
      }
    },
    {
      "cell_type": "markdown",
      "source": [
        "<h2> 5.9 - Diagramas da pilha para funções recursivas </h2>"
      ],
      "metadata": {
        "id": "t475JK30uE9Q"
      }
    },
    {
      "cell_type": "code",
      "source": [],
      "metadata": {
        "id": "NrIC4PORfkVw"
      },
      "execution_count": null,
      "outputs": []
    }
  ]
}