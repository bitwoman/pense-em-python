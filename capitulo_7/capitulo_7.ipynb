{
 "cells": [
  {
   "cell_type": "markdown",
   "metadata": {
    "colab_type": "text",
    "id": "view-in-github"
   },
   "source": [
    "<a href=\"https://colab.research.google.com/github/bitwoman/pense-em-python/blob/main/capitulo_7.ipynb\" target=\"_parent\"><img src=\"https://colab.research.google.com/assets/colab-badge.svg\" alt=\"Open In Colab\"/></a>"
   ]
  },
  {
   "cell_type": "markdown",
   "metadata": {
    "id": "y2PdR14L2L41"
   },
   "source": [
    "# **ESTUDO DO LIVRO \"Pense em Python\", DO AUTOR ALLEN B. DOWNEY**\n",
    "\n",
    "<p> Estudos iniciados em 20-06-2024. </p>"
   ]
  },
  {
   "cell_type": "markdown",
   "metadata": {
    "id": "xSqrn7UM2TFS"
   },
   "source": [
    "# Capítulo 7: Iteração"
   ]
  },
  {
   "cell_type": "markdown",
   "metadata": {
    "id": "RIuhfL4F2uOO"
   },
   "source": [
    "<h2> 7.1 - Reatribuição </h2>\n",
    "\n",
    "Pode ser que você já tenha descoberto que é permitido fazer mais de uma atribuição para a mesma variável. Uma nova atribuição faz uma variável existente referir-se a um novo valor (e deixar de referir-se ao valor anterior)."
   ]
  },
  {
   "cell_type": "code",
   "execution_count": null,
   "metadata": {
    "colab": {
     "base_uri": "https://localhost:8080/"
    },
    "id": "fEvCDZQp2LJ_",
    "outputId": "c9cb3c11-4e15-4b5c-c32e-4ef42a8ed7e4"
   },
   "outputs": [
    {
     "name": "stdout",
     "output_type": "stream",
     "text": [
      "5\n",
      "7\n"
     ]
    }
   ],
   "source": [
    "x = 5\n",
    "print(x)\n",
    "\n",
    "# A primeira vez que exibimos x, seu valor é 5; na segunda vez, seu valor é 7\n",
    "\n",
    "x = 7\n",
    "print(x)"
   ]
  },
  {
   "cell_type": "markdown",
   "metadata": {
    "id": "VWxz2Bq65hrA"
   },
   "source": [
    "Como o Python usa o sinal de igual (=) para atribuição, é tentador interpretar uma afirmação como a = b como uma proposição matemática de igualdade; isto é, a declaração de que a e b são iguais. Mas esta é uma interpretação equivocada.\n",
    "Em primeiro lugar, a igualdade é uma relação simétrica e a atribuição não é. Por exemplo, na matemática, se a=7 então 7=a. Mas no Python, a instrução a = 7 é legal e 7 = a não é."
   ]
  },
  {
   "cell_type": "markdown",
   "metadata": {
    "id": "LhH9rlyC5xqP"
   },
   "source": [
    "Além disso, na matemática, uma proposição de igualdade é verdadeira ou falsa para sempre. Se a=b agora, então a sempre será igual a b. No Python, uma instrução de atribuição pode tornar duas variáveis iguais, mas elas não precisam se manter assim:"
   ]
  },
  {
   "cell_type": "code",
   "execution_count": null,
   "metadata": {
    "colab": {
     "base_uri": "https://localhost:8080/"
    },
    "id": "LJGrITRg37I8",
    "outputId": "5031d75e-8a2c-49e7-800a-8eaea1390056"
   },
   "outputs": [
    {
     "data": {
      "text/plain": [
       "5"
      ]
     },
     "execution_count": 54,
     "metadata": {},
     "output_type": "execute_result"
    }
   ],
   "source": [
    "a = 5\n",
    "b = a # a e b agora são iguais\n",
    "a = 3 # a e b não são mais iguais > modifica o valor de a, mas não muda o valor de b, então elas já não são iguais.\n",
    "b"
   ]
  },
  {
   "cell_type": "markdown",
   "metadata": {
    "id": "4CUjeqjL6BNo"
   },
   "source": [
    "A reatribuição de variáveis muitas vezes é útil, mas você deve usá-la com prudência. Se os valores das variáveis mudarem frequentemente, isso pode dificultar a leitura e depuração do código.\n",
    "\n",
    "\n",
    "![image.png](data:image/png;base64,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)\n"
   ]
  },
  {
   "cell_type": "markdown",
   "metadata": {
    "id": "wspN6hAX6QXI"
   },
   "source": [
    "<h2> 7.2 - Atualização de variáveis </h2>"
   ]
  },
  {
   "cell_type": "markdown",
   "metadata": {
    "id": "6fmNYfqE6YJj"
   },
   "source": [
    "Um tipo comum de reatribuição é uma atualização, onde o novo valor da variável depende do velho.\n",
    "\n",
    "`x = x + 1`\n",
    "\n",
    "Isso significa “pegue o valor atual de x, acrescente um, e então atualize x para o novo valor”."
   ]
  },
  {
   "cell_type": "markdown",
   "metadata": {
    "id": "hA6H0ZxZ6kFb"
   },
   "source": [
    "Se você tentar atualizar uma variável que não existe, recebe um erro porque o Python avalia o lado direito antes de atribuir um valor a y:"
   ]
  },
  {
   "cell_type": "code",
   "execution_count": null,
   "metadata": {
    "id": "jOaQfXaT53Ik"
   },
   "outputs": [],
   "source": [
    "y = y + 1 # NameError: name 'x' is not defined"
   ]
  },
  {
   "cell_type": "markdown",
   "metadata": {
    "id": "QrBKm4PJ6zIu"
   },
   "source": [
    "Antes de poder atualizar uma variável é preciso inicializá-la, normalmente com uma atribuição simples:"
   ]
  },
  {
   "cell_type": "code",
   "execution_count": null,
   "metadata": {
    "id": "yNinjdbq6ncM"
   },
   "outputs": [],
   "source": [
    "y = 0\n",
    "y = y + 1"
   ]
  },
  {
   "cell_type": "markdown",
   "metadata": {
    "id": "RwXvqwGG64ir"
   },
   "source": [
    "```\n",
    "Atualizar uma variável acrescentando 1 chama-se incremento; subtrair 1 chama-se\n",
    "decremento.\n",
    "```"
   ]
  },
  {
   "cell_type": "markdown",
   "metadata": {
    "id": "6UlpNS9N6_iM"
   },
   "source": [
    "<h2> 7.3 - Instrução while </h2>\n"
   ]
  },
  {
   "cell_type": "markdown",
   "metadata": {
    "id": "73-e0vB17lSI"
   },
   "source": [
    "Aqui está uma versão de countdown que usa a instrução while:"
   ]
  },
  {
   "cell_type": "code",
   "execution_count": null,
   "metadata": {
    "id": "84SnQNfq62w5"
   },
   "outputs": [],
   "source": [
    "def countdown(n):\n",
    "  '''\n",
    "    “Enquanto n for maior que 0, mostre o valor de n e então decremente n. Quando chegar a\n",
    "     0, mostre a palavra Blastoff! (docstring - explica a função)\n",
    "  '''\n",
    "\n",
    "  while n > 0:\n",
    "    print(n)\n",
    "    n = n - 1\n",
    "\n",
    "  print('Blastoff!')"
   ]
  },
  {
   "cell_type": "code",
   "execution_count": null,
   "metadata": {
    "colab": {
     "base_uri": "https://localhost:8080/"
    },
    "id": "C7SOB5Eh7pAf",
    "outputId": "0237327c-cb30-4000-82c8-5ffd6e9139de"
   },
   "outputs": [
    {
     "name": "stdout",
     "output_type": "stream",
     "text": [
      "4\n",
      "3\n",
      "2\n",
      "1\n",
      "Blastoff!\n"
     ]
    }
   ],
   "source": [
    "countdown(4)"
   ]
  },
  {
   "cell_type": "markdown",
   "metadata": {
    "id": "pc4viiZf8YeY"
   },
   "source": [
    "Mais formalmente, aqui está o fluxo de execução para uma instrução while:\n",
    "1. Determine se a condição é verdadeira ou falsa.\n",
    "2. Se for falsa, saia da instrução while e continue a execução da próxima instrução.\n",
    "3. Se a condição for verdadeira, execute o corpo e então volte ao passo 1.\n",
    "\n",
    "Este tipo de fluxo chama-se loop (laço), porque o terceiro passo faz um loop de volta ao topo.\n"
   ]
  },
  {
   "cell_type": "markdown",
   "metadata": {
    "id": "OD7IwBcv8std"
   },
   "source": [
    "O corpo do loop deve mudar o valor de uma ou mais variáveis para que, a certa altura, a condição fique falsa e o loop termine. Senão o loop vai se repetir para sempre, o que é chamado de loop infinito."
   ]
  },
  {
   "cell_type": "markdown",
   "metadata": {
    "id": "a0UIH4Tn8vod"
   },
   "source": [
    "Para alguns outros loops, não é tão fácil perceber isso. Por exemplo:"
   ]
  },
  {
   "cell_type": "code",
   "execution_count": null,
   "metadata": {
    "id": "Gn3guHIa7qBs"
   },
   "outputs": [],
   "source": [
    "def sequence(n):\n",
    "  while n != 1:\n",
    "    print(n)\n",
    "    if n % 2 == 0: # n é par\n",
    "      n = n / 2\n",
    "    else: # n é ímpar\n",
    "      n = n * 3 + 1"
   ]
  },
  {
   "cell_type": "markdown",
   "metadata": {
    "id": "O21oBJx39BTf"
   },
   "source": [
    "\n",
    "\n",
    "```\n",
    "A condição deste loop é n != 1, então o loop continuará até que n seja 1, o que torna a\n",
    "condição falsa.\n",
    "\n",
    "```\n",
    "\n"
   ]
  },
  {
   "cell_type": "code",
   "execution_count": null,
   "metadata": {
    "colab": {
     "base_uri": "https://localhost:8080/"
    },
    "id": "UTC7kGPk80Sp",
    "outputId": "afeede62-1b78-45de-bfc6-876183b28783"
   },
   "outputs": [
    {
     "name": "stdout",
     "output_type": "stream",
     "text": [
      "2\n"
     ]
    }
   ],
   "source": [
    "sequence(2)"
   ]
  },
  {
   "cell_type": "markdown",
   "metadata": {
    "id": "yZ4P-1EF-jSs"
   },
   "source": [
    "Como n às vezes aumenta e às vezes diminui, não há nenhuma prova óbvia de que n\n",
    "chegará eventualmente a 1, ou que o programa terminará. Para alguns valores de n, podemos provar o término. Por exemplo, se o valor inicial for uma potência de dois, n será par cada vez que passar pelo loop até que chegue a 1. O exemplo anterior termina com uma sequência assim, que inicia com 16"
   ]
  },
  {
   "cell_type": "markdown",
   "metadata": {
    "id": "DoyQJh9y-ul7"
   },
   "source": [
    "**A questão difícil é se podemos provar que este programa termina para todos os valores positivos de n. Por enquanto, ninguém foi capaz de comprovar ou refutar isso! (Veja http://en.wikipedia.org/wiki/Collatz_conjecture.)**"
   ]
  },
  {
   "cell_type": "markdown",
   "metadata": {
    "id": "mrrvbkYH-1wg"
   },
   "source": [
    "<h2> EXERCÍCIO </h2>\n",
    "\n",
    "Como um exercício, reescreva a função print_n de “Recursividade”, na página 81, usando a iteração em vez da recursividade.\n"
   ]
  },
  {
   "cell_type": "markdown",
   "metadata": {
    "id": "oFQKmmAm_HxO"
   },
   "source": [
    "Versão com recursividade"
   ]
  },
  {
   "cell_type": "code",
   "execution_count": null,
   "metadata": {
    "id": "nYZSkABQ81_N"
   },
   "outputs": [],
   "source": [
    "def print_n_recursiva(s, n):\n",
    "  if n <= 0:\n",
    "    return\n",
    "\n",
    "  print(s)\n",
    "  print_n_recursiva(s, n-1)"
   ]
  },
  {
   "cell_type": "code",
   "execution_count": null,
   "metadata": {
    "colab": {
     "base_uri": "https://localhost:8080/"
    },
    "id": "DuX8DDEI_QqS",
    "outputId": "84dbd451-ce69-4626-d35d-6ef569104654"
   },
   "outputs": [
    {
     "name": "stdout",
     "output_type": "stream",
     "text": [
      "bren\n",
      "bren\n",
      "bren\n",
      "bren\n"
     ]
    }
   ],
   "source": [
    "print_n_recursiva('bren', 4)"
   ]
  },
  {
   "cell_type": "markdown",
   "metadata": {
    "id": "Lwn8KrS7_aCC"
   },
   "source": [
    "Versão com iteração"
   ]
  },
  {
   "cell_type": "code",
   "execution_count": null,
   "metadata": {
    "id": "kZaLwbe0_eqE"
   },
   "outputs": [],
   "source": [
    "def print_n_iterada(s, n):\n",
    "  while n != 0:\n",
    "    print(s)\n",
    "    n = n - 1"
   ]
  },
  {
   "cell_type": "code",
   "execution_count": null,
   "metadata": {
    "colab": {
     "base_uri": "https://localhost:8080/"
    },
    "id": "fN5a4tBE_05A",
    "outputId": "57c89668-3b8c-4417-8dc5-2eb3286c17e2"
   },
   "outputs": [
    {
     "name": "stdout",
     "output_type": "stream",
     "text": [
      "bren\n",
      "bren\n",
      "bren\n",
      "bren\n"
     ]
    }
   ],
   "source": [
    "print_n_iterada('bren', 4)"
   ]
  },
  {
   "cell_type": "markdown",
   "metadata": {
    "id": "WolfKaW7Ak0d"
   },
   "source": [
    "<h2> 7.4 - break </h2>\n",
    "\n",
    "Às vezes você não sabe que está na hora de terminar um loop até que já esteja na metade do corpo. Neste caso pode usar a instrução break para sair do loop."
   ]
  },
  {
   "cell_type": "markdown",
   "metadata": {
    "id": "jTUFYzjPAJIU"
   },
   "source": [
    "Por exemplo, suponha que você quer receber uma entrada do usuário até que este digite **done**. Você pode escrever:"
   ]
  },
  {
   "cell_type": "code",
   "execution_count": null,
   "metadata": {
    "colab": {
     "base_uri": "https://localhost:8080/"
    },
    "id": "t6mQKYgC_9Ht",
    "outputId": "280aa7f5-6241-447d-c933-0c4c4dff9ad7"
   },
   "outputs": [
    {
     "name": "stdout",
     "output_type": "stream",
     "text": [
      "> done\n",
      "Done!\n"
     ]
    }
   ],
   "source": [
    "while True:\n",
    "  line = input('> ')\n",
    "  if line == 'done':\n",
    "    break\n",
    "  print(line)\n",
    "\n",
    "print('Done!')"
   ]
  },
  {
   "cell_type": "markdown",
   "metadata": {
    "id": "65DobVAOAUAS"
   },
   "source": [
    "A condição do loop é True, que sempre é verdade, então o loop roda até que chegue à instrução de interrupção.\n",
    "\n",
    "\n",
    "Cada vez que passa pelo loop, o programa apresenta ao usuário um colchete angular. Se o usuário digitar done, a instrução break sai do loop. Senão, o programa ecoa o que quer que o usuário digite e volta ao topo do loop."
   ]
  },
  {
   "cell_type": "code",
   "execution_count": null,
   "metadata": {
    "colab": {
     "base_uri": "https://localhost:8080/"
    },
    "id": "T3sXW7hnAPF8",
    "outputId": "17737f80-34bd-4f65-ebe5-239102cb8981"
   },
   "outputs": [
    {
     "name": "stdout",
     "output_type": "stream",
     "text": [
      "> done\n",
      "Done!\n"
     ]
    }
   ],
   "source": [
    "while True:\n",
    "  line = input('> ')\n",
    "  if line == 'done':\n",
    "    break\n",
    "  print(line)\n",
    "\n",
    "print('Done!')"
   ]
  },
  {
   "cell_type": "markdown",
   "metadata": {
    "id": "IfhYWlY8AuRH"
   },
   "source": [
    "Esta forma de escrever loops while é comum porque podemos verificar a condição em qualquer lugar do loop (não somente no topo) e podemos exprimir a condição de parada afirmativamente (“pare quando isto acontecer”) em vez de negativamente (“continue a seguir até que isto aconteça”).\n"
   ]
  },
  {
   "cell_type": "markdown",
   "metadata": {
    "id": "KMli9u8xA0ZG"
   },
   "source": [
    "<h2> 7.5 - Raízes quadradas </h2>"
   ]
  },
  {
   "cell_type": "markdown",
   "metadata": {
    "id": "XL6vtSGUNQkk"
   },
   "source": [
    "Loops muitas vezes são usados em programas que calculam resultados numéricos,\n",
    "começando com uma resposta aproximada e melhorando-a iterativamente.\n",
    "Por exemplo, uma forma de calcular raízes quadradas é o método de Newton. Suponha que você queira saber a raiz quadrada de a. Se começar com quase qualquer estimativa, x, é possível calcular uma estimativa melhor com a seguinte fórmula:\n",
    "\n",
    "![image.png](data:image/png;base64,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)"
   ]
  },
  {
   "cell_type": "code",
   "execution_count": null,
   "metadata": {
    "colab": {
     "base_uri": "https://localhost:8080/"
    },
    "id": "3DU0Q0ScAeeH",
    "outputId": "b1558ed9-a1bb-436a-9ead-783821d76b18"
   },
   "outputs": [
    {
     "data": {
      "text/plain": [
       "2.1666666666666665"
      ]
     },
     "execution_count": 67,
     "metadata": {},
     "output_type": "execute_result"
    }
   ],
   "source": [
    "#  se a for 4 e x for 3:\n",
    "a = 4\n",
    "x = 3\n",
    "y = (x + a/x)/2\n",
    "y  # 2.1666666666666665"
   ]
  },
  {
   "cell_type": "markdown",
   "metadata": {
    "id": "YPApMgXFNfiV"
   },
   "source": [
    "O resultado é mais próximo à resposta correta ![image.png](data:image/png;base64,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)"
   ]
  },
  {
   "cell_type": "markdown",
   "metadata": {
    "id": "XD7B9aajNioM"
   },
   "source": [
    "Se repetirmos o processo com a nova estimativa, chegamos ainda mais perto:"
   ]
  },
  {
   "cell_type": "code",
   "execution_count": null,
   "metadata": {
    "colab": {
     "base_uri": "https://localhost:8080/"
    },
    "id": "71n00RlMNauw",
    "outputId": "a614b861-e915-4ac1-d30a-199bb82dc9b3"
   },
   "outputs": [
    {
     "data": {
      "text/plain": [
       "2.0064102564102564"
      ]
     },
     "execution_count": 68,
     "metadata": {},
     "output_type": "execute_result"
    }
   ],
   "source": [
    "x = y             # 2.1666666666666665\n",
    "y = (x + a/x) / 2\n",
    "y                 # 2.0064102564102564"
   ]
  },
  {
   "cell_type": "markdown",
   "metadata": {
    "id": "WOWqYghXNy29"
   },
   "source": [
    "Depois de algumas atualizações, a estimativa é quase exata:"
   ]
  },
  {
   "cell_type": "code",
   "execution_count": null,
   "metadata": {
    "colab": {
     "base_uri": "https://localhost:8080/"
    },
    "id": "Fr_PikpgNqAs",
    "outputId": "c9df6fbf-78ac-464c-e03d-b86f77952f16"
   },
   "outputs": [
    {
     "data": {
      "text/plain": [
       "2.0000102400262145"
      ]
     },
     "execution_count": 69,
     "metadata": {},
     "output_type": "execute_result"
    }
   ],
   "source": [
    "x = y                # 2.0064102564102564\n",
    "y = (x + a/x) / 2\n",
    "y                    # 2.0000102400262145"
   ]
  },
  {
   "cell_type": "code",
   "execution_count": null,
   "metadata": {
    "colab": {
     "base_uri": "https://localhost:8080/"
    },
    "id": "6Cb7LdjFN3k2",
    "outputId": "39340225-9c90-4874-cf69-1c2953252257"
   },
   "outputs": [
    {
     "data": {
      "text/plain": [
       "2.0000000000262146"
      ]
     },
     "execution_count": 70,
     "metadata": {},
     "output_type": "execute_result"
    }
   ],
   "source": [
    "x = y             # 2.0000102400262145\n",
    "y = (x + a/x) / 2\n",
    "y                 # 2.0"
   ]
  },
  {
   "cell_type": "markdown",
   "metadata": {
    "id": "9ZVvNoo3ODSS"
   },
   "source": [
    "Em geral, não sabemos com antecedência quantos passos são necessários para chegar à resposta correta, mas sabemos quando chegamos lá porque a estimativa para de mudar:"
   ]
  },
  {
   "cell_type": "code",
   "execution_count": null,
   "metadata": {
    "colab": {
     "base_uri": "https://localhost:8080/"
    },
    "id": "5E9duQIiN9iQ",
    "outputId": "f3995d80-7834-45a3-9ec4-41ea888f11d9"
   },
   "outputs": [
    {
     "data": {
      "text/plain": [
       "2.0"
      ]
     },
     "execution_count": 71,
     "metadata": {},
     "output_type": "execute_result"
    }
   ],
   "source": [
    "x = y             # 2.0\n",
    "y = (x + a/x) / 2\n",
    "y                 # 2.0"
   ]
  },
  {
   "cell_type": "markdown",
   "metadata": {
    "id": "IhISWChJOLPG"
   },
   "source": [
    "Quando `y == x`, podemos parar. Aqui está um loop que começa com uma estimativa\n",
    "inicial, x, e a melhora até que deixe de mudar:"
   ]
  },
  {
   "cell_type": "code",
   "execution_count": null,
   "metadata": {
    "colab": {
     "base_uri": "https://localhost:8080/"
    },
    "id": "eKYXprPbOHaL",
    "outputId": "66df72d2-2294-48d7-9f12-b186172ee315"
   },
   "outputs": [
    {
     "name": "stdout",
     "output_type": "stream",
     "text": [
      "3\n",
      "2.1666666666666665\n",
      "2.0064102564102564\n",
      "2.0000102400262145\n",
      "2.0000000000262146\n",
      "2.0\n"
     ]
    }
   ],
   "source": [
    "a = 4\n",
    "x = 3\n",
    "\n",
    "\n",
    "while True:\n",
    "  print(x)\n",
    "  y = (x + a/x) / 2\n",
    "\n",
    "  if y == x:\n",
    "    break\n",
    "  x = y"
   ]
  },
  {
   "cell_type": "markdown",
   "metadata": {
    "id": "b460C0D8RDu6"
   },
   "source": [
    "**VERSÃO RECURSIVA (APENAS PARA APERFEIÇOAR OS ESTUDOS)**"
   ]
  },
  {
   "cell_type": "code",
   "execution_count": null,
   "metadata": {
    "id": "pXCHI_qeXXFZ"
   },
   "outputs": [],
   "source": [
    "def raiz_quadrada(a, x):\n",
    "    print(x)\n",
    "\n",
    "    y = (x + a / x) / 2\n",
    "\n",
    "    # caso-base\n",
    "    if y == x:\n",
    "        return y\n",
    "\n",
    "    return raiz_quadrada(a, y)"
   ]
  },
  {
   "cell_type": "code",
   "execution_count": null,
   "metadata": {
    "colab": {
     "base_uri": "https://localhost:8080/"
    },
    "id": "F5PqjLLkXb_i",
    "outputId": "626ca069-c388-4830-ee9b-16a9a8c4d3c1"
   },
   "outputs": [
    {
     "name": "stdout",
     "output_type": "stream",
     "text": [
      "3\n",
      "2.1666666666666665\n",
      "2.0064102564102564\n",
      "2.0000102400262145\n",
      "2.0000000000262146\n",
      "2.0\n"
     ]
    },
    {
     "data": {
      "text/plain": [
       "2.0"
      ]
     },
     "execution_count": 81,
     "metadata": {},
     "output_type": "execute_result"
    }
   ],
   "source": [
    "raiz_quadrada(4,3)"
   ]
  },
  {
   "cell_type": "markdown",
   "metadata": {
    "id": "8MYMPxyqXsu_"
   },
   "source": [
    "Para a maior parte de valores de a funciona bem, mas pode ser perigoso testar a igualdade de um float. Os valores de ponto flutuante são aproximadamente corretos: a maioria dos números racionais, como 1/3, e números irracionais, como\n",
    "![image.png](data:image/png;base64,iVBORw0KGgoAAAANSUhEUgAAADQAAAAoCAIAAAA+Dk5cAAAFFElEQVRYCe2WXUgbWRTHdWHLPiyCsG99KBrLLqw+NeiLD9qgVKVqHpRAugtLMEZTTEpeLKJ0aStCNVncoJEWWwKdNB8QUqhrFj8gtvVBtDVa/ED8SCfO0ERdQ5xkZu7cWTaXXkIFHdqhLazn6XLvnbm/+z/nnnNyxK/Ycr5iNvH/AQczJooihFB4b2gMAIAQiqKIpqX7SgblIIToeIRCkuRQxrRa7eWMVVZW4kFlZaVWq3U6nVIQ5YETBAFpc3h4GAwGq6qq3G73gwcPrFarLWMDAwM2m+2PjI2Ojs7Ozn4mOHQMctnS0tKdO3fq6+u3trZ4nn/vXgGNkeulO1ce5ZBnGYZxu93Nzc0EQSQSCYyCnI5BcQieKt6nwmECQRB2dnZu375dV1e3v7+PgQAALMvyPI8ugBBRDHw+OJ7nnU6n0Wi02+3YiSzL0jT96tWrN2/eHB4eAgAQHADgVDJR/OQ8h5SDEMZiMYvF0tbWtrKygiZ3d3f9fv+9e/dsNltnZ2dLS4vX66VpGq1+VrhAIGAwGKxWayqVAgBwHPfkyROHwxEIBCYnJ30+n0aj0Wq1LpcrlUpJIZOqHJbn+EAQBADA0dHR9evXb968+fLlSwghx3EURen1+v7+/lgshlBGRkbKysr0ev3Ozo6ccCiNMQyzv7+/t7eHEPHrS6VSi4uLV65cGRkZSSaTgiCwLLuwsFBTU2M0GpeWltD+mZkZlUp19erVUCgkP9z6+rrP5yMIAv2az5goivF4/MaNGyaT6cWLF7h2URTV3t5+69attbU1BPf8+fPq6uqamppgMCgnHITw2bNnOp2upKREpVJRFMVxHEoNqVQqHA5fvHjR5XLFYjHsd47jotEoRVEMwyBiu92uVCoNBgNJknLCiaK4vLz8+PFjjUZz4cKFhw8fxuNx5Ovt7e3BwcHa2tr5+XmUzARBQGfjlMZxXCQSUavVTU1NHo9H5gchimIymaRp2uFwFBUV1dbWrq6u8jzPsuz09HRjY+P9+/dpmkZ9R3YTgNQlSbK3t1er1Y6OjkYiEUx/qn5SKwSSIRQKNTQ05OXlPX369ODggCTJ4eHhioqKzc1NlmVxg4RERS6mKMrr9arVaoIg3r59y/O8zOULHSOKYjQadTgc586dM5vN4XB4fHzcbDb39PQkk0mU/XHMocskEomxsbGWlha32723t4fe+8HBgZzlC3dEHMfNzc0VFhYqFAqPx9Pb29vY2LixsYHrEtYMVbBAINDV1eXz+dLpNMuyi4uLfr8/GAzKCYf1gBCSJNnd3X3+/Pny8nK1Wt3d3c0wDGLCLwD5d2xsrK2t7dq1a0NDQwRBPHr0yGKx9PX1hcNhOeGym2+GYV6/fl1cXJyfn6/RaKamprBaOOYAABsbGzqdrrCwsKCgoCxjSqVSoVBYLJZ3795BmN7++8+enoHAytEJz0LSg0DKYWHS6XRra2tpaendu3fj8ThexXA8z29ubtpsto6ODpPJ1JFlXq/3v6fD+H/94ZucnNxvf+6UBw6djbLDxMTE8PDwzMxMtqiozuJt2cHw4SS/5frtx+9zc3Lzmj8VDn0PAMBpNjtoIIR4Hie5D8gwHLpMpp/75y99wXeXfpcH7oS/fMQSoCcspT/94tk94VtJMXfC9x+1JEQI3aWSyyZi5eTO7ovAicnoNp0+/V5fBu50rsyOMziJQh3bdqbcMUkkTpwpJ1GoY9vOlDsmicSJM+UkCnVs279Lc/gZ7bd3DgAAAABJRU5ErkJggg==) não podem ser\n",
    "representados exatamente com um float.\n",
    "Em vez de verificar se x e y são exatamente iguais, é mais seguro usar a função integrada abs para calcular o valor absoluto ou magnitude da diferença entre eles:"
   ]
  },
  {
   "cell_type": "markdown",
   "metadata": {
    "id": "0dILf3ixX5PT"
   },
   "source": [
    "```\n",
    "if abs(y-x) < epsilon:\n",
    "  break\n",
    "```"
   ]
  },
  {
   "cell_type": "markdown",
   "metadata": {
    "id": "G6JSGW75X-JJ"
   },
   "source": [
    "Onde epsilon tem um valor como 0.0000001, que determina a proximidade desejada\n",
    "entre x e y.\n",
    "\n",
    "É um número pequeno e positivo, que define uma margem de erro aceitável para a aproximação. Ele representa o quão próximo y e x precisam estar para considerarmos que encontramos uma aproximação suficientemente boa da raiz quadrada."
   ]
  },
  {
   "cell_type": "markdown",
   "metadata": {
    "id": "Zl7pu8r1ZfQ_"
   },
   "source": [
    "<h2> 7.6 - Algoritmos </h2>\n"
   ]
  },
  {
   "cell_type": "markdown",
   "metadata": {
    "id": "9gk5DpQsbZfs"
   },
   "source": [
    "O método de Newton é um exemplo de um algoritmo: um processo mecânico para\n",
    "resolver uma categoria de problemas (neste caso, calcular raízes quadradas).\n",
    "Para entender o que é um algoritmo, pode ser útil começar com algo que não é um\n",
    "algoritmo. Quando aprendeu a multiplicar números de um dígito, você provavelmente memorizou a tabuada. Ou seja, você memorizou 100 soluções específicas. Este tipo de conhecimento não é algorítmico.\n",
    "No entanto, se você foi “preguiçoso”, poderia ter aprendido alguns truques. Por exemplo, para encontrar o produto de n e 9, pode escrever n-1 como o primeiro dígito e 10-n como o segundo dígito. Este truque é uma solução geral para multiplicar qualquer número de dígito único por 9. Isto é um algoritmo!\n",
    "De forma semelhante, as técnicas que aprendeu, como o transporte na adição, o\n",
    "empréstimo na subtração e a divisão longa são todos algoritmos. Uma das características de algoritmos é que eles não exigem inteligência para serem executados. São processos mecânicos, nos quais cada passo segue a partir do último, de acordo com um conjunto de regras simples.\n",
    "A execução de algoritmos é maçante, mas projetá-los é interessante, intelectualmente desafiador e uma parte central da Ciência da Computação.\n"
   ]
  },
  {
   "cell_type": "markdown",
   "metadata": {
    "id": "Kbj3D95NblfI"
   },
   "source": [
    "<h2> 7.7 - Depuração </h2>"
   ]
  },
  {
   "cell_type": "markdown",
   "metadata": {
    "id": "OPaHsnCCgE__"
   },
   "source": [
    "Ao começar a escrever programas maiores, pode ser que você passe mais tempo\n",
    "depurando. Mais código significa mais possibilidades fazer erros e mais lugares para esconder defeitos.\n",
    "Uma forma de cortar o tempo de depuração é “depurar por bisseção”. Por exemplo, se há 100 linhas no seu programa e você as verifica uma a uma, seriam 100 passos a tomar. **Em vez disso, tente quebrar o problema pela metade. Olhe para o meio do programa, ou perto disso, para um valor intermediário que possa verificar. Acrescente uma instrução print (ou outra coisa que tenha um efeito verificável) e execute o programa.**"
   ]
  },
  {
   "cell_type": "markdown",
   "metadata": {
    "id": "0fkax2QJgJP0"
   },
   "source": [
    "Na prática, nem sempre é claro o que representa o “meio do programa” e nem sempre é possível verificá-lo. Não faz sentido contar linhas e encontrar o ponto central exato. **Em vez disso, pense em lugares no programa onde poderia haver erros e lugares onde é fácil inserir um ponto de verificação. Então escolha um lugar onde as possibilidades são basicamente as mesmas de que o defeito esteja antes ou depois da verificação.**"
   ]
  },
  {
   "cell_type": "markdown",
   "metadata": {
    "id": "JEEUhOfjgv1K"
   },
   "source": [
    "<h2> 7.8 - Glossário </h2>"
   ]
  },
  {
   "cell_type": "markdown",
   "metadata": {
    "id": "EjFxhl0Tgy68"
   },
   "source": [
    "- **reatribuição**:\n",
    "Atribuir um novo valor a uma variável que já existe.\n",
    "\n",
    "- **atualização**:\n",
    "Uma atribuição onde o novo valor da variável dependa do velho.\n",
    "\n",
    "- **inicialização**:\n",
    "Uma atribuição que dá um valor inicial a uma variável que será atualizada. (ex: x = 0)\n",
    "\n",
    "- **incremento**:\n",
    "Uma atualização que aumenta o valor de uma variável (normalmente por uma\n",
    "unidade).\n",
    "\n",
    "- **decremento**:\n",
    "Uma atualização que reduz o valor de uma variável.\n",
    "\n",
    "- **iteração**:\n",
    "Execução repetida de um grupo de instruções, usando uma chamada da função\n",
    "recursiva ou um loop.\n",
    "\n",
    "- **loop infinito**:\n",
    "Um loop no qual a condição de término nunca é satisfeita.\n",
    "\n",
    "- **algoritmo**:\n",
    "Um processo geral para resolver uma categoria de problemas."
   ]
  }
 ],
 "metadata": {
  "colab": {
   "authorship_tag": "ABX9TyN28u3LDYB1hW0qekLfHEJD",
   "include_colab_link": true,
   "provenance": []
  },
  "kernelspec": {
   "display_name": "Python 3",
   "name": "python3"
  },
  "language_info": {
   "name": "python"
  }
 },
 "nbformat": 4,
 "nbformat_minor": 0
}
