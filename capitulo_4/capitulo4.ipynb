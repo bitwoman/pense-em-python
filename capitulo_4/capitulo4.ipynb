{
 "cells": [
  {
   "cell_type": "markdown",
   "metadata": {
    "colab_type": "text",
    "id": "view-in-github"
   },
   "source": [
    "<a href=\"https://colab.research.google.com/github/bitwoman/pense-em-python/blob/main/capitulo4.ipynb\" target=\"_parent\"><img src=\"https://colab.research.google.com/assets/colab-badge.svg\" alt=\"Open In Colab\"/></a>"
   ]
  },
  {
   "cell_type": "markdown",
   "metadata": {
    "id": "rQO_05-d8rkA"
   },
   "source": [
    "# **ESTUDO DO LIVRO \"Pense em Python\", DO AUTOR ALLEN B. DOWNEY**\n",
    "\n",
    "<p> Estudos iniciados em 20-06-2024. </p>"
   ]
  },
  {
   "cell_type": "markdown",
   "metadata": {
    "id": "YRwL0D2ZFo10"
   },
   "source": [
    "\n",
    "# Capítulo 4: Estudo de caso: projeto de interface\n",
    "\n",
    "Este capítulo apresenta um estudo de caso que demonstra o processo de criação de funções que operam simultaneamente"
   ]
  },
  {
   "cell_type": "markdown",
   "metadata": {
    "id": "vs9hly_TFyPE"
   },
   "source": [
    "<h1> 4.1 - Módulo turtle </h1>"
   ]
  },
  {
   "cell_type": "markdown",
   "metadata": {
    "id": "lSsNvjIa8t5O"
   },
   "source": [
    "Verificando a versão do python que está instalada no Google Colab, pois o módulo turtule só está disponível a partir da versão 3.x."
   ]
  },
  {
   "cell_type": "code",
   "execution_count": null,
   "metadata": {
    "colab": {
     "base_uri": "https://localhost:8080/"
    },
    "id": "SItyTbct8335",
    "outputId": "b254bf19-edf9-4a7f-d8ae-d2a975b06c07"
   },
   "outputs": [
    {
     "name": "stdout",
     "output_type": "stream",
     "text": [
      "Python 3.10.12\n"
     ]
    }
   ],
   "source": [
    "!python --version"
   ]
  },
  {
   "cell_type": "markdown",
   "metadata": {
    "id": "N3eIi9NW87Ph"
   },
   "source": [
    "Verificando as informações do pacote caso esteja instalado, se não, retorna uma mensagem de warning."
   ]
  },
  {
   "cell_type": "code",
   "execution_count": null,
   "metadata": {
    "colab": {
     "base_uri": "https://localhost:8080/"
    },
    "id": "dfx6PFNw8TY3",
    "outputId": "15d35ab2-eb2f-499b-f958-3751f46f67f6"
   },
   "outputs": [
    {
     "name": "stdout",
     "output_type": "stream",
     "text": [
      "\u001b[33mWARNING: Package(s) not found: turtle\u001b[0m\u001b[33m\n",
      "\u001b[0m"
     ]
    }
   ],
   "source": [
    "!pip show turtle\n",
    "\n",
    "#Package(s) not found: turtle > o pacote não está instalado no ambiente"
   ]
  },
  {
   "cell_type": "markdown",
   "metadata": {
    "id": "ot1XQoyb9NoE"
   },
   "source": [
    "**O Google Colab não possui suporte nativo para o módulo turtle devido à sua dependência de uma interface gráfica que não está disponível em ambientes baseados em navegador como o Colab. No entanto, há uma alternativa chamada ColabTurtle que permite usar a funcionalidade do turtle no Google Colab.**"
   ]
  },
  {
   "cell_type": "code",
   "execution_count": null,
   "metadata": {
    "colab": {
     "base_uri": "https://localhost:8080/"
    },
    "id": "bzZQINpR8Lr0",
    "outputId": "fbdada34-639b-463a-8c45-165629c6741c"
   },
   "outputs": [
    {
     "name": "stdout",
     "output_type": "stream",
     "text": [
      "Collecting turtle\n",
      "  Downloading turtle-0.0.2.tar.gz (11 kB)\n",
      "  \u001b[1;31merror\u001b[0m: \u001b[1msubprocess-exited-with-error\u001b[0m\n",
      "  \n",
      "  \u001b[31m×\u001b[0m \u001b[32mpython setup.py egg_info\u001b[0m did not run successfully.\n",
      "  \u001b[31m│\u001b[0m exit code: \u001b[1;36m1\u001b[0m\n",
      "  \u001b[31m╰─>\u001b[0m See above for output.\n",
      "  \n",
      "  \u001b[1;35mnote\u001b[0m: This error originates from a subprocess, and is likely not a problem with pip.\n",
      "  Preparing metadata (setup.py) ... \u001b[?25l\u001b[?25herror\n",
      "\u001b[1;31merror\u001b[0m: \u001b[1mmetadata-generation-failed\u001b[0m\n",
      "\n",
      "\u001b[31m×\u001b[0m Encountered error while generating package metadata.\n",
      "\u001b[31m╰─>\u001b[0m See above for output.\n",
      "\n",
      "\u001b[1;35mnote\u001b[0m: This is an issue with the package mentioned above, not pip.\n",
      "\u001b[1;36mhint\u001b[0m: See above for details.\n"
     ]
    }
   ],
   "source": [
    "!pip install turtle\n",
    "\n",
    "# error: subprocess-exited-with-error"
   ]
  },
  {
   "cell_type": "markdown",
   "metadata": {
    "id": "f8YKh1Rv9aiN"
   },
   "source": [
    "**Instalar o pacote ColabTurtle como alternativa**"
   ]
  },
  {
   "cell_type": "code",
   "execution_count": null,
   "metadata": {
    "colab": {
     "base_uri": "https://localhost:8080/"
    },
    "id": "_bbN8qB48NOE",
    "outputId": "76fda608-8f1c-4674-b272-b4dffdf3b9d8"
   },
   "outputs": [
    {
     "name": "stdout",
     "output_type": "stream",
     "text": [
      "Collecting ColabTurtle\n",
      "  Downloading ColabTurtle-2.1.0.tar.gz (6.8 kB)\n",
      "  Preparing metadata (setup.py) ... \u001b[?25l\u001b[?25hdone\n",
      "Building wheels for collected packages: ColabTurtle\n",
      "  Building wheel for ColabTurtle (setup.py) ... \u001b[?25l\u001b[?25hdone\n",
      "  Created wheel for ColabTurtle: filename=ColabTurtle-2.1.0-py3-none-any.whl size=7642 sha256=20034c83eb9b1ab2943c92856aeebbae70dc14430cfad7c5fba73137f69a4748\n",
      "  Stored in directory: /root/.cache/pip/wheels/5b/86/e8/54f5c8c853606e3a3060bb2e60363cbed632374a12e0f33ffc\n",
      "Successfully built ColabTurtle\n",
      "Installing collected packages: ColabTurtle\n",
      "Successfully installed ColabTurtle-2.1.0\n"
     ]
    }
   ],
   "source": [
    "!pip install ColabTurtle"
   ]
  },
  {
   "cell_type": "markdown",
   "metadata": {
    "id": "VAsQJXvQ9obD"
   },
   "source": [
    "Importação do pacote Turtle do módulo ColabTurtle"
   ]
  },
  {
   "cell_type": "code",
   "execution_count": null,
   "metadata": {
    "id": "1KboIjqC9gJn"
   },
   "outputs": [],
   "source": [
    "import ColabTurtle.Turtle as tt"
   ]
  },
  {
   "cell_type": "code",
   "execution_count": null,
   "metadata": {
    "colab": {
     "base_uri": "https://localhost:8080/",
     "height": 521
    },
    "id": "drVOKzCY9uFT",
    "outputId": "a1d9dc5b-e737-4871-845b-6b432d498694"
   },
   "outputs": [
    {
     "data": {
      "text/html": [
       "\n",
       "      <svg width=\"800\" height=\"500\">\n",
       "        <rect width=\"100%\" height=\"100%\" fill=\"black\"/>\n",
       "        \n",
       "        <g visibility=visible transform=\"rotate(360,400,250) translate(382, 232)\">\n",
       "<path style=\" stroke:none;fill-rule:evenodd;fill:white;fill-opacity:1;\" d=\"M 18.214844 0.632812 C 16.109375 1.800781 15.011719 4.074219 15.074219 7.132812 L 15.085938 7.652344 L 14.785156 7.496094 C 13.476562 6.824219 11.957031 6.671875 10.40625 7.066406 C 8.46875 7.550781 6.515625 9.15625 4.394531 11.992188 C 3.0625 13.777344 2.679688 14.636719 3.042969 15.027344 L 3.15625 15.152344 L 3.519531 15.152344 C 4.238281 15.152344 4.828125 14.886719 8.1875 13.039062 C 9.386719 12.378906 10.371094 11.839844 10.378906 11.839844 C 10.386719 11.839844 10.355469 11.929688 10.304688 12.035156 C 9.832031 13.09375 9.257812 14.820312 8.96875 16.078125 C 7.914062 20.652344 8.617188 24.53125 11.070312 27.660156 C 11.351562 28.015625 11.363281 27.914062 10.972656 28.382812 C 8.925781 30.84375 7.945312 33.28125 8.238281 35.1875 C 8.289062 35.527344 8.28125 35.523438 8.917969 35.523438 C 10.941406 35.523438 13.074219 34.207031 15.136719 31.6875 C 15.359375 31.417969 15.328125 31.425781 15.5625 31.574219 C 16.292969 32.042969 18.023438 32.964844 18.175781 32.964844 C 18.335938 32.964844 19.941406 32.210938 20.828125 31.71875 C 20.996094 31.625 21.136719 31.554688 21.136719 31.558594 C 21.203125 31.664062 21.898438 32.414062 22.222656 32.730469 C 23.835938 34.300781 25.5625 35.132812 27.582031 35.300781 C 27.90625 35.328125 27.9375 35.308594 28.007812 34.984375 C 28.382812 33.242188 27.625 30.925781 25.863281 28.425781 L 25.542969 27.96875 L 25.699219 27.785156 C 28.945312 23.960938 29.132812 18.699219 26.257812 11.96875 L 26.207031 11.84375 L 27.945312 12.703125 C 31.53125 14.476562 32.316406 14.800781 33.03125 14.800781 C 33.976562 14.800781 33.78125 13.9375 32.472656 12.292969 C 28.519531 7.355469 25.394531 5.925781 21.921875 7.472656 L 21.558594 7.636719 L 21.578125 7.542969 C 21.699219 6.992188 21.761719 5.742188 21.699219 5.164062 C 21.496094 3.296875 20.664062 1.964844 19.003906 0.855469 C 18.480469 0.503906 18.457031 0.5 18.214844 0.632812\"/>\n",
       "</g>\n",
       "      </svg>\n",
       "    "
      ],
      "text/plain": [
       "<IPython.core.display.HTML object>"
      ]
     },
     "metadata": {},
     "output_type": "display_data"
    }
   ],
   "source": [
    "bob = tt.initializeTurtle()"
   ]
  },
  {
   "cell_type": "markdown",
   "metadata": {
    "id": "1j3GP12B_X8d"
   },
   "source": [
    "\n",
    "```\n",
    "import turtle\n",
    "bob = turtle.Turtle()\n",
    "print(bob)\n",
    "turtle.mainloop()\n",
    "\n",
    "\n",
    "mainloop diz que a janela deve esperar que o usuário faça algo, embora neste caso não\n",
    "haja muito a fazer, exceto fechar a janela.\n",
    "\n",
    "```\n",
    "\n"
   ]
  },
  {
   "cell_type": "markdown",
   "metadata": {
    "id": "oZ8RE4JX_bct"
   },
   "source": [
    "No ColabTurtle, não há necessidade de um loop principal (mainloop) como no módulo turtle padrão, porque a execução é controlada pelo ambiente do Google Colab, que renderiza as operações da tartaruga diretamente no notebook."
   ]
  },
  {
   "cell_type": "markdown",
   "metadata": {
    "id": "QsQBpMV0_1cC"
   },
   "source": [
    "Método é semelhante a uma função, mas usa uma sintaxe ligeiramente diferente.\n",
    "Por exemplo, para mover o turtle para a frente"
   ]
  },
  {
   "cell_type": "markdown",
   "metadata": {
    "id": "Q4RoE9yzAZAe"
   },
   "source": [
    "\n",
    "\n",
    "```\n",
    "# bob.fd(100) # fd é abreviação para 'forward', e no colabTurtle é utilizado por extenso\n",
    "```\n",
    "\n"
   ]
  },
  {
   "cell_type": "code",
   "execution_count": null,
   "metadata": {
    "colab": {
     "base_uri": "https://localhost:8080/",
     "height": 521
    },
    "id": "qqHuER59AI1P",
    "outputId": "db16da19-f4d1-4a0b-a3e0-5f7d747a0b7c"
   },
   "outputs": [
    {
     "data": {
      "text/html": [
       "\n",
       "      <svg width=\"800\" height=\"500\">\n",
       "        <rect width=\"100%\" height=\"100%\" fill=\"black\"/>\n",
       "        <line x1=\"400\" y1=\"250\" x2=\"400.0\" y2=\"150.0\" stroke-linecap=\"round\" style=\"stroke:white;stroke-width:4\"/>\n",
       "        <g visibility=visible transform=\"rotate(360,400.0,150.0) translate(382.0, 132.0)\">\n",
       "<path style=\" stroke:none;fill-rule:evenodd;fill:white;fill-opacity:1;\" d=\"M 18.214844 0.632812 C 16.109375 1.800781 15.011719 4.074219 15.074219 7.132812 L 15.085938 7.652344 L 14.785156 7.496094 C 13.476562 6.824219 11.957031 6.671875 10.40625 7.066406 C 8.46875 7.550781 6.515625 9.15625 4.394531 11.992188 C 3.0625 13.777344 2.679688 14.636719 3.042969 15.027344 L 3.15625 15.152344 L 3.519531 15.152344 C 4.238281 15.152344 4.828125 14.886719 8.1875 13.039062 C 9.386719 12.378906 10.371094 11.839844 10.378906 11.839844 C 10.386719 11.839844 10.355469 11.929688 10.304688 12.035156 C 9.832031 13.09375 9.257812 14.820312 8.96875 16.078125 C 7.914062 20.652344 8.617188 24.53125 11.070312 27.660156 C 11.351562 28.015625 11.363281 27.914062 10.972656 28.382812 C 8.925781 30.84375 7.945312 33.28125 8.238281 35.1875 C 8.289062 35.527344 8.28125 35.523438 8.917969 35.523438 C 10.941406 35.523438 13.074219 34.207031 15.136719 31.6875 C 15.359375 31.417969 15.328125 31.425781 15.5625 31.574219 C 16.292969 32.042969 18.023438 32.964844 18.175781 32.964844 C 18.335938 32.964844 19.941406 32.210938 20.828125 31.71875 C 20.996094 31.625 21.136719 31.554688 21.136719 31.558594 C 21.203125 31.664062 21.898438 32.414062 22.222656 32.730469 C 23.835938 34.300781 25.5625 35.132812 27.582031 35.300781 C 27.90625 35.328125 27.9375 35.308594 28.007812 34.984375 C 28.382812 33.242188 27.625 30.925781 25.863281 28.425781 L 25.542969 27.96875 L 25.699219 27.785156 C 28.945312 23.960938 29.132812 18.699219 26.257812 11.96875 L 26.207031 11.84375 L 27.945312 12.703125 C 31.53125 14.476562 32.316406 14.800781 33.03125 14.800781 C 33.976562 14.800781 33.78125 13.9375 32.472656 12.292969 C 28.519531 7.355469 25.394531 5.925781 21.921875 7.472656 L 21.558594 7.636719 L 21.578125 7.542969 C 21.699219 6.992188 21.761719 5.742188 21.699219 5.164062 C 21.496094 3.296875 20.664062 1.964844 19.003906 0.855469 C 18.480469 0.503906 18.457031 0.5 18.214844 0.632812\"/>\n",
       "</g>\n",
       "      </svg>\n",
       "    "
      ],
      "text/plain": [
       "<IPython.core.display.HTML object>"
      ]
     },
     "metadata": {},
     "output_type": "display_data"
    }
   ],
   "source": [
    "bob = tt.initializeTurtle()\n",
    "tt.forward(100) # O argumento de forward é uma distância em píxeis, então o tamanho real depende da sua tela."
   ]
  },
  {
   "cell_type": "markdown",
   "metadata": {
    "id": "4xhUbkuJA12V"
   },
   "source": [
    "Outros métodos que você pode chamar em um Turtle são bk (backward - ColabTurtle) para mover-se para trás, lt (left - ColabTurtule) para virar à esquerda e rt (right - ColabTurtle) para virar à direita. O argumento para lt e rt é um ângulo em graus.\n",
    "Além disso, cada Turtle segura uma caneta, que está abaixada ou levantada; se a caneta estiver abaixada, o Turtle deixa um rastro quando se move. Os métodos pu (penup - ColabTurtule) e pd (pendown - ColabTurtle) representam “caneta para cima” e “caneta para baixo”."
   ]
  },
  {
   "cell_type": "code",
   "execution_count": null,
   "metadata": {
    "colab": {
     "base_uri": "https://localhost:8080/",
     "height": 521
    },
    "id": "chCCr0Bz_2vj",
    "outputId": "3e2ec8d2-1e29-480b-8090-3d0cb82b7e1e"
   },
   "outputs": [
    {
     "data": {
      "text/html": [
       "\n",
       "      <svg width=\"800\" height=\"500\">\n",
       "        <rect width=\"100%\" height=\"100%\" fill=\"black\"/>\n",
       "        <line x1=\"400\" y1=\"250\" x2=\"400.0\" y2=\"150.0\" stroke-linecap=\"round\" style=\"stroke:white;stroke-width:4\"/><line x1=\"400.0\" y1=\"150.0\" x2=\"301.519\" y2=\"167.365\" stroke-linecap=\"round\" style=\"stroke:white;stroke-width:4\"/>\n",
       "        <g visibility=visible transform=\"rotate(260,301.519,167.365) translate(283.519, 149.365)\">\n",
       "<path style=\" stroke:none;fill-rule:evenodd;fill:white;fill-opacity:1;\" d=\"M 18.214844 0.632812 C 16.109375 1.800781 15.011719 4.074219 15.074219 7.132812 L 15.085938 7.652344 L 14.785156 7.496094 C 13.476562 6.824219 11.957031 6.671875 10.40625 7.066406 C 8.46875 7.550781 6.515625 9.15625 4.394531 11.992188 C 3.0625 13.777344 2.679688 14.636719 3.042969 15.027344 L 3.15625 15.152344 L 3.519531 15.152344 C 4.238281 15.152344 4.828125 14.886719 8.1875 13.039062 C 9.386719 12.378906 10.371094 11.839844 10.378906 11.839844 C 10.386719 11.839844 10.355469 11.929688 10.304688 12.035156 C 9.832031 13.09375 9.257812 14.820312 8.96875 16.078125 C 7.914062 20.652344 8.617188 24.53125 11.070312 27.660156 C 11.351562 28.015625 11.363281 27.914062 10.972656 28.382812 C 8.925781 30.84375 7.945312 33.28125 8.238281 35.1875 C 8.289062 35.527344 8.28125 35.523438 8.917969 35.523438 C 10.941406 35.523438 13.074219 34.207031 15.136719 31.6875 C 15.359375 31.417969 15.328125 31.425781 15.5625 31.574219 C 16.292969 32.042969 18.023438 32.964844 18.175781 32.964844 C 18.335938 32.964844 19.941406 32.210938 20.828125 31.71875 C 20.996094 31.625 21.136719 31.554688 21.136719 31.558594 C 21.203125 31.664062 21.898438 32.414062 22.222656 32.730469 C 23.835938 34.300781 25.5625 35.132812 27.582031 35.300781 C 27.90625 35.328125 27.9375 35.308594 28.007812 34.984375 C 28.382812 33.242188 27.625 30.925781 25.863281 28.425781 L 25.542969 27.96875 L 25.699219 27.785156 C 28.945312 23.960938 29.132812 18.699219 26.257812 11.96875 L 26.207031 11.84375 L 27.945312 12.703125 C 31.53125 14.476562 32.316406 14.800781 33.03125 14.800781 C 33.976562 14.800781 33.78125 13.9375 32.472656 12.292969 C 28.519531 7.355469 25.394531 5.925781 21.921875 7.472656 L 21.558594 7.636719 L 21.578125 7.542969 C 21.699219 6.992188 21.761719 5.742188 21.699219 5.164062 C 21.496094 3.296875 20.664062 1.964844 19.003906 0.855469 C 18.480469 0.503906 18.457031 0.5 18.214844 0.632812\"/>\n",
       "</g>\n",
       "      </svg>\n",
       "    "
      ],
      "text/plain": [
       "<IPython.core.display.HTML object>"
      ]
     },
     "metadata": {},
     "output_type": "display_data"
    }
   ],
   "source": [
    "bob = tt.initializeTurtle()\n",
    "tt.forward(100) # O argumento de forward é uma distância em píxeis, então o tamanho real depende da sua tela.\n",
    "tt.left(100)\n",
    "tt.forward(100)"
   ]
  },
  {
   "cell_type": "markdown",
   "metadata": {
    "id": "216GAgdlBua4"
   },
   "source": [
    "Agora altere o programa para desenhar um quadrado. Só siga adiante neste capítulo se ele funcionar adequadamente!"
   ]
  },
  {
   "cell_type": "code",
   "execution_count": null,
   "metadata": {
    "colab": {
     "base_uri": "https://localhost:8080/",
     "height": 521
    },
    "id": "EebTiwf7BgwY",
    "outputId": "42e1b502-8108-48a8-b171-8f03177653df"
   },
   "outputs": [
    {
     "data": {
      "text/html": [
       "\n",
       "      <svg width=\"800\" height=\"500\">\n",
       "        <rect width=\"100%\" height=\"100%\" fill=\"black\"/>\n",
       "        <line x1=\"400\" y1=\"250\" x2=\"400.0\" y2=\"150.0\" stroke-linecap=\"round\" style=\"stroke:white;stroke-width:4\"/><line x1=\"400.0\" y1=\"150.0\" x2=\"300.0\" y2=\"150.0\" stroke-linecap=\"round\" style=\"stroke:white;stroke-width:4\"/><line x1=\"300.0\" y1=\"150.0\" x2=\"300.0\" y2=\"250.0\" stroke-linecap=\"round\" style=\"stroke:white;stroke-width:4\"/><line x1=\"300.0\" y1=\"250.0\" x2=\"400.0\" y2=\"250.0\" stroke-linecap=\"round\" style=\"stroke:white;stroke-width:4\"/>\n",
       "        <g visibility=visible transform=\"rotate(90,400.0,250.0) translate(382.0, 232.0)\">\n",
       "<path style=\" stroke:none;fill-rule:evenodd;fill:white;fill-opacity:1;\" d=\"M 18.214844 0.632812 C 16.109375 1.800781 15.011719 4.074219 15.074219 7.132812 L 15.085938 7.652344 L 14.785156 7.496094 C 13.476562 6.824219 11.957031 6.671875 10.40625 7.066406 C 8.46875 7.550781 6.515625 9.15625 4.394531 11.992188 C 3.0625 13.777344 2.679688 14.636719 3.042969 15.027344 L 3.15625 15.152344 L 3.519531 15.152344 C 4.238281 15.152344 4.828125 14.886719 8.1875 13.039062 C 9.386719 12.378906 10.371094 11.839844 10.378906 11.839844 C 10.386719 11.839844 10.355469 11.929688 10.304688 12.035156 C 9.832031 13.09375 9.257812 14.820312 8.96875 16.078125 C 7.914062 20.652344 8.617188 24.53125 11.070312 27.660156 C 11.351562 28.015625 11.363281 27.914062 10.972656 28.382812 C 8.925781 30.84375 7.945312 33.28125 8.238281 35.1875 C 8.289062 35.527344 8.28125 35.523438 8.917969 35.523438 C 10.941406 35.523438 13.074219 34.207031 15.136719 31.6875 C 15.359375 31.417969 15.328125 31.425781 15.5625 31.574219 C 16.292969 32.042969 18.023438 32.964844 18.175781 32.964844 C 18.335938 32.964844 19.941406 32.210938 20.828125 31.71875 C 20.996094 31.625 21.136719 31.554688 21.136719 31.558594 C 21.203125 31.664062 21.898438 32.414062 22.222656 32.730469 C 23.835938 34.300781 25.5625 35.132812 27.582031 35.300781 C 27.90625 35.328125 27.9375 35.308594 28.007812 34.984375 C 28.382812 33.242188 27.625 30.925781 25.863281 28.425781 L 25.542969 27.96875 L 25.699219 27.785156 C 28.945312 23.960938 29.132812 18.699219 26.257812 11.96875 L 26.207031 11.84375 L 27.945312 12.703125 C 31.53125 14.476562 32.316406 14.800781 33.03125 14.800781 C 33.976562 14.800781 33.78125 13.9375 32.472656 12.292969 C 28.519531 7.355469 25.394531 5.925781 21.921875 7.472656 L 21.558594 7.636719 L 21.578125 7.542969 C 21.699219 6.992188 21.761719 5.742188 21.699219 5.164062 C 21.496094 3.296875 20.664062 1.964844 19.003906 0.855469 C 18.480469 0.503906 18.457031 0.5 18.214844 0.632812\"/>\n",
       "</g>\n",
       "      </svg>\n",
       "    "
      ],
      "text/plain": [
       "<IPython.core.display.HTML object>"
      ]
     },
     "metadata": {},
     "output_type": "display_data"
    }
   ],
   "source": [
    "bob = tt.initializeTurtle()\n",
    "tt.forward(100) # O argumento de forward é uma distância em píxeis, então o tamanho real depende da sua tela.\n",
    "tt.left(90)\n",
    "tt.forward(100)\n",
    "tt.left(90)\n",
    "tt.forward(100)\n",
    "tt.left(90)\n",
    "tt.forward(100)"
   ]
  },
  {
   "cell_type": "markdown",
   "metadata": {
    "id": "YUHc0CXvNreq"
   },
   "source": [
    "<h1> 4.2 - Repetição simples </h1>"
   ]
  },
  {
   "cell_type": "markdown",
   "metadata": {
    "id": "xdx4VU9MEkIV"
   },
   "source": [
    "Podemos fazer a mesma coisa de forma mais concisa com uma instrução for:"
   ]
  },
  {
   "cell_type": "code",
   "execution_count": null,
   "metadata": {
    "colab": {
     "base_uri": "https://localhost:8080/",
     "height": 521
    },
    "id": "i32tYBT4B9Q2",
    "outputId": "01af2d52-e0a9-43a5-c38a-88b908f83490"
   },
   "outputs": [
    {
     "data": {
      "text/html": [
       "\n",
       "      <svg width=\"800\" height=\"500\">\n",
       "        <rect width=\"100%\" height=\"100%\" fill=\"black\"/>\n",
       "        <line x1=\"400\" y1=\"250\" x2=\"400.0\" y2=\"150.0\" stroke-linecap=\"round\" style=\"stroke:white;stroke-width:4\"/><line x1=\"400.0\" y1=\"150.0\" x2=\"300.0\" y2=\"150.0\" stroke-linecap=\"round\" style=\"stroke:white;stroke-width:4\"/><line x1=\"300.0\" y1=\"150.0\" x2=\"300.0\" y2=\"250.0\" stroke-linecap=\"round\" style=\"stroke:white;stroke-width:4\"/><line x1=\"300.0\" y1=\"250.0\" x2=\"400.0\" y2=\"250.0\" stroke-linecap=\"round\" style=\"stroke:white;stroke-width:4\"/>\n",
       "        <g visibility=visible transform=\"rotate(360,400.0,250.0) translate(382.0, 232.0)\">\n",
       "<path style=\" stroke:none;fill-rule:evenodd;fill:white;fill-opacity:1;\" d=\"M 18.214844 0.632812 C 16.109375 1.800781 15.011719 4.074219 15.074219 7.132812 L 15.085938 7.652344 L 14.785156 7.496094 C 13.476562 6.824219 11.957031 6.671875 10.40625 7.066406 C 8.46875 7.550781 6.515625 9.15625 4.394531 11.992188 C 3.0625 13.777344 2.679688 14.636719 3.042969 15.027344 L 3.15625 15.152344 L 3.519531 15.152344 C 4.238281 15.152344 4.828125 14.886719 8.1875 13.039062 C 9.386719 12.378906 10.371094 11.839844 10.378906 11.839844 C 10.386719 11.839844 10.355469 11.929688 10.304688 12.035156 C 9.832031 13.09375 9.257812 14.820312 8.96875 16.078125 C 7.914062 20.652344 8.617188 24.53125 11.070312 27.660156 C 11.351562 28.015625 11.363281 27.914062 10.972656 28.382812 C 8.925781 30.84375 7.945312 33.28125 8.238281 35.1875 C 8.289062 35.527344 8.28125 35.523438 8.917969 35.523438 C 10.941406 35.523438 13.074219 34.207031 15.136719 31.6875 C 15.359375 31.417969 15.328125 31.425781 15.5625 31.574219 C 16.292969 32.042969 18.023438 32.964844 18.175781 32.964844 C 18.335938 32.964844 19.941406 32.210938 20.828125 31.71875 C 20.996094 31.625 21.136719 31.554688 21.136719 31.558594 C 21.203125 31.664062 21.898438 32.414062 22.222656 32.730469 C 23.835938 34.300781 25.5625 35.132812 27.582031 35.300781 C 27.90625 35.328125 27.9375 35.308594 28.007812 34.984375 C 28.382812 33.242188 27.625 30.925781 25.863281 28.425781 L 25.542969 27.96875 L 25.699219 27.785156 C 28.945312 23.960938 29.132812 18.699219 26.257812 11.96875 L 26.207031 11.84375 L 27.945312 12.703125 C 31.53125 14.476562 32.316406 14.800781 33.03125 14.800781 C 33.976562 14.800781 33.78125 13.9375 32.472656 12.292969 C 28.519531 7.355469 25.394531 5.925781 21.921875 7.472656 L 21.558594 7.636719 L 21.578125 7.542969 C 21.699219 6.992188 21.761719 5.742188 21.699219 5.164062 C 21.496094 3.296875 20.664062 1.964844 19.003906 0.855469 C 18.480469 0.503906 18.457031 0.5 18.214844 0.632812\"/>\n",
       "</g>\n",
       "      </svg>\n",
       "    "
      ],
      "text/plain": [
       "<IPython.core.display.HTML object>"
      ]
     },
     "metadata": {},
     "output_type": "display_data"
    }
   ],
   "source": [
    "bob = tt.initializeTurtle()\n",
    "\n",
    "for i in range(4):\n",
    "  tt.forward(100)\n",
    "  tt.left(90)"
   ]
  },
  {
   "cell_type": "markdown",
   "metadata": {
    "id": "tPCKNphoE3ST"
   },
   "source": [
    "Uma instrução for também é chamada de loop porque o fluxo da execução passa pelo\n",
    "corpo e depois volta ao topo."
   ]
  },
  {
   "cell_type": "markdown",
   "metadata": {
    "id": "wRqewYqLFNGG"
   },
   "source": [
    "Esta versão, na verdade, é um pouco diferente do código anterior que desenha quadrados porque faz outra volta depois de desenhar o último lado do quadrado. A volta extra leva mais tempo, mas simplifica o código se fizermos a mesma coisa a cada vez pelo loop. Esta versão também tem o efeito de trazer o turtle de volta à posição inicial, de frente para a mesma direção em que estava."
   ]
  },
  {
   "cell_type": "markdown",
   "metadata": {
    "id": "H0FU0rKIFR1m"
   },
   "source": [
    "<h1> 4.3 - Exercícios </h1>"
   ]
  },
  {
   "cell_type": "markdown",
   "metadata": {
    "id": "IZ4L_lDDFa1z"
   },
   "source": [
    "1. Escreva uma função chamada square que receba um parâmetro chamado t, que é um\n",
    "turtle. Ela deve usar o turtle para desenhar um quadrado."
   ]
  },
  {
   "cell_type": "code",
   "execution_count": null,
   "metadata": {
    "id": "16lZJQoLElCV"
   },
   "outputs": [],
   "source": [
    "import ColabTurtle.Turtle as turtle\n",
    "\n",
    "# Definição da função functionSquare, que desenha um quadrado utilizando um parâmetro\n",
    "\n",
    "def functionSquare(t):\n",
    "  for i in range(4):\n",
    "    t.forward(100)\n",
    "    t.left(90)"
   ]
  },
  {
   "cell_type": "markdown",
   "metadata": {
    "id": "CmBh3lOAIoAk"
   },
   "source": [
    "Inicializa o ambiente. Mas por quê?\n",
    "Ao executar initializeTurtle(), você prepara o ambiente para usar as funcionalidades do ColabTurtle, como criar e manipular tartarugas para desenhar figuras geométricas ou realizar outros tipos de gráficos no Google Colab."
   ]
  },
  {
   "cell_type": "code",
   "execution_count": null,
   "metadata": {
    "colab": {
     "base_uri": "https://localhost:8080/",
     "height": 521
    },
    "id": "kBB-j4H8JExc",
    "outputId": "73a6d92c-41b1-4350-ba3d-01a0a10d4275"
   },
   "outputs": [
    {
     "data": {
      "text/html": [
       "\n",
       "      <svg width=\"800\" height=\"500\">\n",
       "        <rect width=\"100%\" height=\"100%\" fill=\"black\"/>\n",
       "        \n",
       "        <g visibility=visible transform=\"rotate(360,400,250) translate(382, 232)\">\n",
       "<path style=\" stroke:none;fill-rule:evenodd;fill:white;fill-opacity:1;\" d=\"M 18.214844 0.632812 C 16.109375 1.800781 15.011719 4.074219 15.074219 7.132812 L 15.085938 7.652344 L 14.785156 7.496094 C 13.476562 6.824219 11.957031 6.671875 10.40625 7.066406 C 8.46875 7.550781 6.515625 9.15625 4.394531 11.992188 C 3.0625 13.777344 2.679688 14.636719 3.042969 15.027344 L 3.15625 15.152344 L 3.519531 15.152344 C 4.238281 15.152344 4.828125 14.886719 8.1875 13.039062 C 9.386719 12.378906 10.371094 11.839844 10.378906 11.839844 C 10.386719 11.839844 10.355469 11.929688 10.304688 12.035156 C 9.832031 13.09375 9.257812 14.820312 8.96875 16.078125 C 7.914062 20.652344 8.617188 24.53125 11.070312 27.660156 C 11.351562 28.015625 11.363281 27.914062 10.972656 28.382812 C 8.925781 30.84375 7.945312 33.28125 8.238281 35.1875 C 8.289062 35.527344 8.28125 35.523438 8.917969 35.523438 C 10.941406 35.523438 13.074219 34.207031 15.136719 31.6875 C 15.359375 31.417969 15.328125 31.425781 15.5625 31.574219 C 16.292969 32.042969 18.023438 32.964844 18.175781 32.964844 C 18.335938 32.964844 19.941406 32.210938 20.828125 31.71875 C 20.996094 31.625 21.136719 31.554688 21.136719 31.558594 C 21.203125 31.664062 21.898438 32.414062 22.222656 32.730469 C 23.835938 34.300781 25.5625 35.132812 27.582031 35.300781 C 27.90625 35.328125 27.9375 35.308594 28.007812 34.984375 C 28.382812 33.242188 27.625 30.925781 25.863281 28.425781 L 25.542969 27.96875 L 25.699219 27.785156 C 28.945312 23.960938 29.132812 18.699219 26.257812 11.96875 L 26.207031 11.84375 L 27.945312 12.703125 C 31.53125 14.476562 32.316406 14.800781 33.03125 14.800781 C 33.976562 14.800781 33.78125 13.9375 32.472656 12.292969 C 28.519531 7.355469 25.394531 5.925781 21.921875 7.472656 L 21.558594 7.636719 L 21.578125 7.542969 C 21.699219 6.992188 21.761719 5.742188 21.699219 5.164062 C 21.496094 3.296875 20.664062 1.964844 19.003906 0.855469 C 18.480469 0.503906 18.457031 0.5 18.214844 0.632812\"/>\n",
       "</g>\n",
       "      </svg>\n",
       "    "
      ],
      "text/plain": [
       "<IPython.core.display.HTML object>"
      ]
     },
     "metadata": {},
     "output_type": "display_data"
    }
   ],
   "source": [
    "turtle.initializeTurtle()"
   ]
  },
  {
   "cell_type": "markdown",
   "metadata": {
    "id": "25hI8bfNKHzk"
   },
   "source": [
    "Cria um objeto 'Turtle', neste caso, a variável objeto_tartaruga"
   ]
  },
  {
   "cell_type": "code",
   "execution_count": null,
   "metadata": {
    "id": "QxPkPDmZKKUN"
   },
   "outputs": [],
   "source": [
    "objeto_tartaruga = turtle"
   ]
  },
  {
   "cell_type": "markdown",
   "metadata": {
    "id": "TgiyjNLkKU0h"
   },
   "source": [
    "Faz a chamada de função para a execução dela:"
   ]
  },
  {
   "cell_type": "code",
   "execution_count": null,
   "metadata": {
    "colab": {
     "base_uri": "https://localhost:8080/",
     "height": 521
    },
    "id": "JkRxEPIxKVF1",
    "outputId": "9ec3b56f-756e-4cf5-8937-21b74ad1e127"
   },
   "outputs": [
    {
     "data": {
      "text/html": [
       "\n",
       "      <svg width=\"800\" height=\"500\">\n",
       "        <rect width=\"100%\" height=\"100%\" fill=\"black\"/>\n",
       "        <line x1=\"400\" y1=\"250\" x2=\"400.0\" y2=\"150.0\" stroke-linecap=\"round\" style=\"stroke:white;stroke-width:4\"/><line x1=\"400.0\" y1=\"150.0\" x2=\"300.0\" y2=\"150.0\" stroke-linecap=\"round\" style=\"stroke:white;stroke-width:4\"/><line x1=\"300.0\" y1=\"150.0\" x2=\"300.0\" y2=\"250.0\" stroke-linecap=\"round\" style=\"stroke:white;stroke-width:4\"/><line x1=\"300.0\" y1=\"250.0\" x2=\"400.0\" y2=\"250.0\" stroke-linecap=\"round\" style=\"stroke:white;stroke-width:4\"/>\n",
       "        <g visibility=visible transform=\"rotate(360,400.0,250.0) translate(382.0, 232.0)\">\n",
       "<path style=\" stroke:none;fill-rule:evenodd;fill:white;fill-opacity:1;\" d=\"M 18.214844 0.632812 C 16.109375 1.800781 15.011719 4.074219 15.074219 7.132812 L 15.085938 7.652344 L 14.785156 7.496094 C 13.476562 6.824219 11.957031 6.671875 10.40625 7.066406 C 8.46875 7.550781 6.515625 9.15625 4.394531 11.992188 C 3.0625 13.777344 2.679688 14.636719 3.042969 15.027344 L 3.15625 15.152344 L 3.519531 15.152344 C 4.238281 15.152344 4.828125 14.886719 8.1875 13.039062 C 9.386719 12.378906 10.371094 11.839844 10.378906 11.839844 C 10.386719 11.839844 10.355469 11.929688 10.304688 12.035156 C 9.832031 13.09375 9.257812 14.820312 8.96875 16.078125 C 7.914062 20.652344 8.617188 24.53125 11.070312 27.660156 C 11.351562 28.015625 11.363281 27.914062 10.972656 28.382812 C 8.925781 30.84375 7.945312 33.28125 8.238281 35.1875 C 8.289062 35.527344 8.28125 35.523438 8.917969 35.523438 C 10.941406 35.523438 13.074219 34.207031 15.136719 31.6875 C 15.359375 31.417969 15.328125 31.425781 15.5625 31.574219 C 16.292969 32.042969 18.023438 32.964844 18.175781 32.964844 C 18.335938 32.964844 19.941406 32.210938 20.828125 31.71875 C 20.996094 31.625 21.136719 31.554688 21.136719 31.558594 C 21.203125 31.664062 21.898438 32.414062 22.222656 32.730469 C 23.835938 34.300781 25.5625 35.132812 27.582031 35.300781 C 27.90625 35.328125 27.9375 35.308594 28.007812 34.984375 C 28.382812 33.242188 27.625 30.925781 25.863281 28.425781 L 25.542969 27.96875 L 25.699219 27.785156 C 28.945312 23.960938 29.132812 18.699219 26.257812 11.96875 L 26.207031 11.84375 L 27.945312 12.703125 C 31.53125 14.476562 32.316406 14.800781 33.03125 14.800781 C 33.976562 14.800781 33.78125 13.9375 32.472656 12.292969 C 28.519531 7.355469 25.394531 5.925781 21.921875 7.472656 L 21.558594 7.636719 L 21.578125 7.542969 C 21.699219 6.992188 21.761719 5.742188 21.699219 5.164062 C 21.496094 3.296875 20.664062 1.964844 19.003906 0.855469 C 18.480469 0.503906 18.457031 0.5 18.214844 0.632812\"/>\n",
       "</g>\n",
       "      </svg>\n",
       "    "
      ],
      "text/plain": [
       "<IPython.core.display.HTML object>"
      ]
     },
     "metadata": {},
     "output_type": "display_data"
    }
   ],
   "source": [
    "functionSquare(objeto_tartaruga)"
   ]
  },
  {
   "cell_type": "markdown",
   "metadata": {
    "id": "bVoB-5XrFsKh"
   },
   "source": [
    "- Escreva uma chamada de função que passe bob como um argumento para o square e\n",
    "então execute o programa novamente."
   ]
  },
  {
   "cell_type": "code",
   "execution_count": null,
   "metadata": {
    "colab": {
     "base_uri": "https://localhost:8080/",
     "height": 521
    },
    "id": "BBhtkFZLKmMU",
    "outputId": "71975f24-a44c-4943-ecc5-7c74cb8c4248"
   },
   "outputs": [
    {
     "data": {
      "text/html": [
       "\n",
       "      <svg width=\"800\" height=\"500\">\n",
       "        <rect width=\"100%\" height=\"100%\" fill=\"black\"/>\n",
       "        <line x1=\"400\" y1=\"250\" x2=\"400.0\" y2=\"150.0\" stroke-linecap=\"round\" style=\"stroke:white;stroke-width:4\"/><line x1=\"400.0\" y1=\"150.0\" x2=\"300.0\" y2=\"150.0\" stroke-linecap=\"round\" style=\"stroke:white;stroke-width:4\"/><line x1=\"300.0\" y1=\"150.0\" x2=\"300.0\" y2=\"250.0\" stroke-linecap=\"round\" style=\"stroke:white;stroke-width:4\"/><line x1=\"300.0\" y1=\"250.0\" x2=\"400.0\" y2=\"250.0\" stroke-linecap=\"round\" style=\"stroke:white;stroke-width:4\"/>\n",
       "        <g visibility=visible transform=\"rotate(360,400.0,250.0) translate(382.0, 232.0)\">\n",
       "<path style=\" stroke:none;fill-rule:evenodd;fill:white;fill-opacity:1;\" d=\"M 18.214844 0.632812 C 16.109375 1.800781 15.011719 4.074219 15.074219 7.132812 L 15.085938 7.652344 L 14.785156 7.496094 C 13.476562 6.824219 11.957031 6.671875 10.40625 7.066406 C 8.46875 7.550781 6.515625 9.15625 4.394531 11.992188 C 3.0625 13.777344 2.679688 14.636719 3.042969 15.027344 L 3.15625 15.152344 L 3.519531 15.152344 C 4.238281 15.152344 4.828125 14.886719 8.1875 13.039062 C 9.386719 12.378906 10.371094 11.839844 10.378906 11.839844 C 10.386719 11.839844 10.355469 11.929688 10.304688 12.035156 C 9.832031 13.09375 9.257812 14.820312 8.96875 16.078125 C 7.914062 20.652344 8.617188 24.53125 11.070312 27.660156 C 11.351562 28.015625 11.363281 27.914062 10.972656 28.382812 C 8.925781 30.84375 7.945312 33.28125 8.238281 35.1875 C 8.289062 35.527344 8.28125 35.523438 8.917969 35.523438 C 10.941406 35.523438 13.074219 34.207031 15.136719 31.6875 C 15.359375 31.417969 15.328125 31.425781 15.5625 31.574219 C 16.292969 32.042969 18.023438 32.964844 18.175781 32.964844 C 18.335938 32.964844 19.941406 32.210938 20.828125 31.71875 C 20.996094 31.625 21.136719 31.554688 21.136719 31.558594 C 21.203125 31.664062 21.898438 32.414062 22.222656 32.730469 C 23.835938 34.300781 25.5625 35.132812 27.582031 35.300781 C 27.90625 35.328125 27.9375 35.308594 28.007812 34.984375 C 28.382812 33.242188 27.625 30.925781 25.863281 28.425781 L 25.542969 27.96875 L 25.699219 27.785156 C 28.945312 23.960938 29.132812 18.699219 26.257812 11.96875 L 26.207031 11.84375 L 27.945312 12.703125 C 31.53125 14.476562 32.316406 14.800781 33.03125 14.800781 C 33.976562 14.800781 33.78125 13.9375 32.472656 12.292969 C 28.519531 7.355469 25.394531 5.925781 21.921875 7.472656 L 21.558594 7.636719 L 21.578125 7.542969 C 21.699219 6.992188 21.761719 5.742188 21.699219 5.164062 C 21.496094 3.296875 20.664062 1.964844 19.003906 0.855469 C 18.480469 0.503906 18.457031 0.5 18.214844 0.632812\"/>\n",
       "</g>\n",
       "      </svg>\n",
       "    "
      ],
      "text/plain": [
       "<IPython.core.display.HTML object>"
      ]
     },
     "metadata": {},
     "output_type": "display_data"
    }
   ],
   "source": [
    "turtle.initializeTurtle()\n",
    "bob = turtle\n",
    "functionSquare(bob)"
   ]
  },
  {
   "cell_type": "markdown",
   "metadata": {
    "id": "Q3KhdRNhLEW2"
   },
   "source": [
    "2. Acrescente outro parâmetro, chamado length, ao square. Altere o corpo para que o comprimento dos lados seja length e então altere a chamada da função para fornecer um segundo argumento. Execute o programa novamente. Teste o seu programa com uma variedade de valores para length."
   ]
  },
  {
   "cell_type": "code",
   "execution_count": null,
   "metadata": {
    "id": "ygStbMu7LZoS"
   },
   "outputs": [],
   "source": [
    "import ColabTurtle.Turtle as turtle\n",
    "\n",
    "# Definição da função functionSquare, que desenha um quadrado, utilizando 2 parâmetros\n",
    "\n",
    "def functionSquare(t, lenght):\n",
    "  for i in range(4):\n",
    "    t.forward(lenght)\n",
    "    t.left(90)"
   ]
  },
  {
   "cell_type": "code",
   "execution_count": null,
   "metadata": {
    "colab": {
     "base_uri": "https://localhost:8080/",
     "height": 521
    },
    "id": "QWU9nRWQLZ47",
    "outputId": "9fd215d1-43a9-4228-f48f-c3cba9f89f66"
   },
   "outputs": [
    {
     "data": {
      "text/html": [
       "\n",
       "      <svg width=\"800\" height=\"500\">\n",
       "        <rect width=\"100%\" height=\"100%\" fill=\"black\"/>\n",
       "        <line x1=\"400\" y1=\"250\" x2=\"400.0\" y2=\"100.0\" stroke-linecap=\"round\" style=\"stroke:white;stroke-width:4\"/><line x1=\"400.0\" y1=\"100.0\" x2=\"250.0\" y2=\"100.0\" stroke-linecap=\"round\" style=\"stroke:white;stroke-width:4\"/><line x1=\"250.0\" y1=\"100.0\" x2=\"250.0\" y2=\"250.0\" stroke-linecap=\"round\" style=\"stroke:white;stroke-width:4\"/><line x1=\"250.0\" y1=\"250.0\" x2=\"400.0\" y2=\"250.0\" stroke-linecap=\"round\" style=\"stroke:white;stroke-width:4\"/><line x1=\"400.0\" y1=\"250.0\" x2=\"400.0\" y2=\"90.0\" stroke-linecap=\"round\" style=\"stroke:white;stroke-width:4\"/><line x1=\"400.0\" y1=\"90.0\" x2=\"240.0\" y2=\"90.0\" stroke-linecap=\"round\" style=\"stroke:white;stroke-width:4\"/><line x1=\"240.0\" y1=\"90.0\" x2=\"240.0\" y2=\"250.0\" stroke-linecap=\"round\" style=\"stroke:white;stroke-width:4\"/><line x1=\"240.0\" y1=\"250.0\" x2=\"400.0\" y2=\"250.0\" stroke-linecap=\"round\" style=\"stroke:white;stroke-width:4\"/><line x1=\"400.0\" y1=\"250.0\" x2=\"400.0\" y2=\"80.0\" stroke-linecap=\"round\" style=\"stroke:white;stroke-width:4\"/><line x1=\"400.0\" y1=\"80.0\" x2=\"230.0\" y2=\"80.0\" stroke-linecap=\"round\" style=\"stroke:white;stroke-width:4\"/><line x1=\"230.0\" y1=\"80.0\" x2=\"230.0\" y2=\"250.0\" stroke-linecap=\"round\" style=\"stroke:white;stroke-width:4\"/><line x1=\"230.0\" y1=\"250.0\" x2=\"400.0\" y2=\"250.0\" stroke-linecap=\"round\" style=\"stroke:white;stroke-width:4\"/><line x1=\"400.0\" y1=\"250.0\" x2=\"400.0\" y2=\"70.0\" stroke-linecap=\"round\" style=\"stroke:white;stroke-width:4\"/><line x1=\"400.0\" y1=\"70.0\" x2=\"220.0\" y2=\"70.0\" stroke-linecap=\"round\" style=\"stroke:white;stroke-width:4\"/><line x1=\"220.0\" y1=\"70.0\" x2=\"220.0\" y2=\"250.0\" stroke-linecap=\"round\" style=\"stroke:white;stroke-width:4\"/><line x1=\"220.0\" y1=\"250.0\" x2=\"400.0\" y2=\"250.0\" stroke-linecap=\"round\" style=\"stroke:white;stroke-width:4\"/><line x1=\"400.0\" y1=\"250.0\" x2=\"400.0\" y2=\"60.0\" stroke-linecap=\"round\" style=\"stroke:white;stroke-width:4\"/><line x1=\"400.0\" y1=\"60.0\" x2=\"210.0\" y2=\"60.0\" stroke-linecap=\"round\" style=\"stroke:white;stroke-width:4\"/><line x1=\"210.0\" y1=\"60.0\" x2=\"210.0\" y2=\"250.0\" stroke-linecap=\"round\" style=\"stroke:white;stroke-width:4\"/><line x1=\"210.0\" y1=\"250.0\" x2=\"400.0\" y2=\"250.0\" stroke-linecap=\"round\" style=\"stroke:white;stroke-width:4\"/><line x1=\"400.0\" y1=\"250.0\" x2=\"400.0\" y2=\"50.0\" stroke-linecap=\"round\" style=\"stroke:white;stroke-width:4\"/><line x1=\"400.0\" y1=\"50.0\" x2=\"200.0\" y2=\"50.0\" stroke-linecap=\"round\" style=\"stroke:white;stroke-width:4\"/><line x1=\"200.0\" y1=\"50.0\" x2=\"200.0\" y2=\"250.0\" stroke-linecap=\"round\" style=\"stroke:white;stroke-width:4\"/><line x1=\"200.0\" y1=\"250.0\" x2=\"400.0\" y2=\"250.0\" stroke-linecap=\"round\" style=\"stroke:white;stroke-width:4\"/>\n",
       "        <g visibility=visible transform=\"rotate(360,400.0,250.0) translate(382.0, 232.0)\">\n",
       "<path style=\" stroke:none;fill-rule:evenodd;fill:white;fill-opacity:1;\" d=\"M 18.214844 0.632812 C 16.109375 1.800781 15.011719 4.074219 15.074219 7.132812 L 15.085938 7.652344 L 14.785156 7.496094 C 13.476562 6.824219 11.957031 6.671875 10.40625 7.066406 C 8.46875 7.550781 6.515625 9.15625 4.394531 11.992188 C 3.0625 13.777344 2.679688 14.636719 3.042969 15.027344 L 3.15625 15.152344 L 3.519531 15.152344 C 4.238281 15.152344 4.828125 14.886719 8.1875 13.039062 C 9.386719 12.378906 10.371094 11.839844 10.378906 11.839844 C 10.386719 11.839844 10.355469 11.929688 10.304688 12.035156 C 9.832031 13.09375 9.257812 14.820312 8.96875 16.078125 C 7.914062 20.652344 8.617188 24.53125 11.070312 27.660156 C 11.351562 28.015625 11.363281 27.914062 10.972656 28.382812 C 8.925781 30.84375 7.945312 33.28125 8.238281 35.1875 C 8.289062 35.527344 8.28125 35.523438 8.917969 35.523438 C 10.941406 35.523438 13.074219 34.207031 15.136719 31.6875 C 15.359375 31.417969 15.328125 31.425781 15.5625 31.574219 C 16.292969 32.042969 18.023438 32.964844 18.175781 32.964844 C 18.335938 32.964844 19.941406 32.210938 20.828125 31.71875 C 20.996094 31.625 21.136719 31.554688 21.136719 31.558594 C 21.203125 31.664062 21.898438 32.414062 22.222656 32.730469 C 23.835938 34.300781 25.5625 35.132812 27.582031 35.300781 C 27.90625 35.328125 27.9375 35.308594 28.007812 34.984375 C 28.382812 33.242188 27.625 30.925781 25.863281 28.425781 L 25.542969 27.96875 L 25.699219 27.785156 C 28.945312 23.960938 29.132812 18.699219 26.257812 11.96875 L 26.207031 11.84375 L 27.945312 12.703125 C 31.53125 14.476562 32.316406 14.800781 33.03125 14.800781 C 33.976562 14.800781 33.78125 13.9375 32.472656 12.292969 C 28.519531 7.355469 25.394531 5.925781 21.921875 7.472656 L 21.558594 7.636719 L 21.578125 7.542969 C 21.699219 6.992188 21.761719 5.742188 21.699219 5.164062 C 21.496094 3.296875 20.664062 1.964844 19.003906 0.855469 C 18.480469 0.503906 18.457031 0.5 18.214844 0.632812\"/>\n",
       "</g>\n",
       "      </svg>\n",
       "    "
      ],
      "text/plain": [
       "<IPython.core.display.HTML object>"
      ]
     },
     "metadata": {},
     "output_type": "display_data"
    }
   ],
   "source": [
    "turtle.initializeTurtle()\n",
    "crush = turtle\n",
    "\n",
    "functionSquare(crush, 150)\n",
    "functionSquare(crush, 160)\n",
    "functionSquare(crush, 170)\n",
    "functionSquare(crush, 180)\n",
    "functionSquare(crush, 190)\n",
    "functionSquare(crush, 200)"
   ]
  },
  {
   "cell_type": "markdown",
   "metadata": {
    "id": "tH4kDlBmLHqP"
   },
   "source": [
    "3. Faça uma cópia do square e mude o nome para polygon. Acrescente outro parâmetro chamado n e altere o corpo para que desenhe um polígono regular de n lados.\n",
    "Dica: os ângulos exteriores de um polígono regular de n lados são 360/n graus."
   ]
  },
  {
   "cell_type": "markdown",
   "metadata": {
    "id": "fEkYgZwuOEzu"
   },
   "source": [
    "**OBS: O que são polígonos? São figuras geométricas planas compostas por apenas uma linha fechada e seus lados são segmentados por retas. Um quadro, por exemplo, é um polígono, uma vez que possui quatro lados. Já um círculo não é um polígono porque é arredondado e não possui lados.**"
   ]
  },
  {
   "cell_type": "code",
   "execution_count": null,
   "metadata": {
    "id": "917ZcQ_-NZJW"
   },
   "outputs": [],
   "source": [
    "# Definição da função functionPolygon, que desenha um polígono, utilizando 3 parâmetros (objeto turtle, tamanho e quantidade de lados)\n",
    "\n",
    "def functionPolygon(t, lenght, n):\n",
    "    angulo = 360/n\n",
    "\n",
    "    for i in range(n):\n",
    "      t.forward(lenght)\n",
    "      t.left(angulo)"
   ]
  },
  {
   "cell_type": "code",
   "execution_count": null,
   "metadata": {
    "colab": {
     "base_uri": "https://localhost:8080/",
     "height": 521
    },
    "id": "ysbd-tDVNZP8",
    "outputId": "1e6df56f-6824-4b3e-b0b9-9d9a71e87c4a"
   },
   "outputs": [
    {
     "data": {
      "text/html": [
       "\n",
       "      <svg width=\"800\" height=\"500\">\n",
       "        <rect width=\"100%\" height=\"100%\" fill=\"black\"/>\n",
       "        <line x1=\"400\" y1=\"250\" x2=\"400.0\" y2=\"170.0\" stroke-linecap=\"round\" style=\"stroke:white;stroke-width:4\"/><line x1=\"400.0\" y1=\"170.0\" x2=\"330.718\" y2=\"130.0\" stroke-linecap=\"round\" style=\"stroke:white;stroke-width:4\"/><line x1=\"330.718\" y1=\"130.0\" x2=\"261.436\" y2=\"170.0\" stroke-linecap=\"round\" style=\"stroke:white;stroke-width:4\"/><line x1=\"261.436\" y1=\"170.0\" x2=\"261.436\" y2=\"250.0\" stroke-linecap=\"round\" style=\"stroke:white;stroke-width:4\"/><line x1=\"261.436\" y1=\"250.0\" x2=\"330.718\" y2=\"290.0\" stroke-linecap=\"round\" style=\"stroke:white;stroke-width:4\"/><line x1=\"330.718\" y1=\"290.0\" x2=\"400.0\" y2=\"250.0\" stroke-linecap=\"round\" style=\"stroke:white;stroke-width:4\"/>\n",
       "        <g visibility=visible transform=\"rotate(360.0,400.0,250.0) translate(382.0, 232.0)\">\n",
       "<path style=\" stroke:none;fill-rule:evenodd;fill:white;fill-opacity:1;\" d=\"M 18.214844 0.632812 C 16.109375 1.800781 15.011719 4.074219 15.074219 7.132812 L 15.085938 7.652344 L 14.785156 7.496094 C 13.476562 6.824219 11.957031 6.671875 10.40625 7.066406 C 8.46875 7.550781 6.515625 9.15625 4.394531 11.992188 C 3.0625 13.777344 2.679688 14.636719 3.042969 15.027344 L 3.15625 15.152344 L 3.519531 15.152344 C 4.238281 15.152344 4.828125 14.886719 8.1875 13.039062 C 9.386719 12.378906 10.371094 11.839844 10.378906 11.839844 C 10.386719 11.839844 10.355469 11.929688 10.304688 12.035156 C 9.832031 13.09375 9.257812 14.820312 8.96875 16.078125 C 7.914062 20.652344 8.617188 24.53125 11.070312 27.660156 C 11.351562 28.015625 11.363281 27.914062 10.972656 28.382812 C 8.925781 30.84375 7.945312 33.28125 8.238281 35.1875 C 8.289062 35.527344 8.28125 35.523438 8.917969 35.523438 C 10.941406 35.523438 13.074219 34.207031 15.136719 31.6875 C 15.359375 31.417969 15.328125 31.425781 15.5625 31.574219 C 16.292969 32.042969 18.023438 32.964844 18.175781 32.964844 C 18.335938 32.964844 19.941406 32.210938 20.828125 31.71875 C 20.996094 31.625 21.136719 31.554688 21.136719 31.558594 C 21.203125 31.664062 21.898438 32.414062 22.222656 32.730469 C 23.835938 34.300781 25.5625 35.132812 27.582031 35.300781 C 27.90625 35.328125 27.9375 35.308594 28.007812 34.984375 C 28.382812 33.242188 27.625 30.925781 25.863281 28.425781 L 25.542969 27.96875 L 25.699219 27.785156 C 28.945312 23.960938 29.132812 18.699219 26.257812 11.96875 L 26.207031 11.84375 L 27.945312 12.703125 C 31.53125 14.476562 32.316406 14.800781 33.03125 14.800781 C 33.976562 14.800781 33.78125 13.9375 32.472656 12.292969 C 28.519531 7.355469 25.394531 5.925781 21.921875 7.472656 L 21.558594 7.636719 L 21.578125 7.542969 C 21.699219 6.992188 21.761719 5.742188 21.699219 5.164062 C 21.496094 3.296875 20.664062 1.964844 19.003906 0.855469 C 18.480469 0.503906 18.457031 0.5 18.214844 0.632812\"/>\n",
       "</g>\n",
       "      </svg>\n",
       "    "
      ],
      "text/plain": [
       "<IPython.core.display.HTML object>"
      ]
     },
     "metadata": {},
     "output_type": "display_data"
    }
   ],
   "source": [
    "turtle.initializeTurtle()\n",
    "triangle = turtle\n",
    "\n",
    "functionPolygon(triangle, 80, 6)"
   ]
  },
  {
   "cell_type": "markdown",
   "metadata": {
    "id": "Wr_HsYA4LJy_"
   },
   "source": [
    "4. Escreva uma função chamada circle que use o turtle, t e um raio r como parâmetros e desenhe um círculo aproximado ao chamar polygon com um comprimento e número de lados adequados. Teste a sua função com uma série de valores de r.\n",
    "\n",
    "- Dica: descubra a circunferência do círculo e certifique-se de que length * n =\n",
    "circumference."
   ]
  },
  {
   "cell_type": "markdown",
   "metadata": {
    "id": "3z-ZmuBmffxp"
   },
   "source": [
    "**COMPARAÇÃO DE SOLUÇÕES:**"
   ]
  },
  {
   "cell_type": "markdown",
   "metadata": {
    "id": "n2rL3Wxmfhsk"
   },
   "source": [
    "**SOLUÇÃO PRÓPRIA: sem sucesso**"
   ]
  },
  {
   "cell_type": "code",
   "execution_count": null,
   "metadata": {
    "id": "ip050nlfRo4L"
   },
   "outputs": [],
   "source": [
    "def functionCircle(t, r):\n",
    "  # diametro seria o length na functionPolygon\n",
    "\n",
    "  #formula para calcular o raio (o raio é metade do diâmetro)\n",
    "  # 𝑟 = 𝑑/2 > d = 2 * r\n",
    "\n",
    "  d = 2 * r\n",
    "\n",
    "  functionPolygon(t, d, 0) # um círculo não é um polígono, pois não tem lados"
   ]
  },
  {
   "cell_type": "code",
   "execution_count": null,
   "metadata": {
    "colab": {
     "base_uri": "https://localhost:8080/",
     "height": 826
    },
    "id": "6A6UZx2kRo8c",
    "outputId": "2c5dd022-2c05-4bcc-f928-b7442c4fc266"
   },
   "outputs": [
    {
     "data": {
      "text/html": [
       "\n",
       "      <svg width=\"800\" height=\"500\">\n",
       "        <rect width=\"100%\" height=\"100%\" fill=\"black\"/>\n",
       "        \n",
       "        <g visibility=visible transform=\"rotate(360,400,250) translate(382, 232)\">\n",
       "<path style=\" stroke:none;fill-rule:evenodd;fill:white;fill-opacity:1;\" d=\"M 18.214844 0.632812 C 16.109375 1.800781 15.011719 4.074219 15.074219 7.132812 L 15.085938 7.652344 L 14.785156 7.496094 C 13.476562 6.824219 11.957031 6.671875 10.40625 7.066406 C 8.46875 7.550781 6.515625 9.15625 4.394531 11.992188 C 3.0625 13.777344 2.679688 14.636719 3.042969 15.027344 L 3.15625 15.152344 L 3.519531 15.152344 C 4.238281 15.152344 4.828125 14.886719 8.1875 13.039062 C 9.386719 12.378906 10.371094 11.839844 10.378906 11.839844 C 10.386719 11.839844 10.355469 11.929688 10.304688 12.035156 C 9.832031 13.09375 9.257812 14.820312 8.96875 16.078125 C 7.914062 20.652344 8.617188 24.53125 11.070312 27.660156 C 11.351562 28.015625 11.363281 27.914062 10.972656 28.382812 C 8.925781 30.84375 7.945312 33.28125 8.238281 35.1875 C 8.289062 35.527344 8.28125 35.523438 8.917969 35.523438 C 10.941406 35.523438 13.074219 34.207031 15.136719 31.6875 C 15.359375 31.417969 15.328125 31.425781 15.5625 31.574219 C 16.292969 32.042969 18.023438 32.964844 18.175781 32.964844 C 18.335938 32.964844 19.941406 32.210938 20.828125 31.71875 C 20.996094 31.625 21.136719 31.554688 21.136719 31.558594 C 21.203125 31.664062 21.898438 32.414062 22.222656 32.730469 C 23.835938 34.300781 25.5625 35.132812 27.582031 35.300781 C 27.90625 35.328125 27.9375 35.308594 28.007812 34.984375 C 28.382812 33.242188 27.625 30.925781 25.863281 28.425781 L 25.542969 27.96875 L 25.699219 27.785156 C 28.945312 23.960938 29.132812 18.699219 26.257812 11.96875 L 26.207031 11.84375 L 27.945312 12.703125 C 31.53125 14.476562 32.316406 14.800781 33.03125 14.800781 C 33.976562 14.800781 33.78125 13.9375 32.472656 12.292969 C 28.519531 7.355469 25.394531 5.925781 21.921875 7.472656 L 21.558594 7.636719 L 21.578125 7.542969 C 21.699219 6.992188 21.761719 5.742188 21.699219 5.164062 C 21.496094 3.296875 20.664062 1.964844 19.003906 0.855469 C 18.480469 0.503906 18.457031 0.5 18.214844 0.632812\"/>\n",
       "</g>\n",
       "      </svg>\n",
       "    "
      ],
      "text/plain": [
       "<IPython.core.display.HTML object>"
      ]
     },
     "metadata": {},
     "output_type": "display_data"
    },
    {
     "ename": "ZeroDivisionError",
     "evalue": "division by zero",
     "output_type": "error",
     "traceback": [
      "\u001b[0;31m---------------------------------------------------------------------------\u001b[0m",
      "\u001b[0;31mZeroDivisionError\u001b[0m                         Traceback (most recent call last)",
      "\u001b[0;32m<ipython-input-23-36c3f3ae0ec3>\u001b[0m in \u001b[0;36m<cell line: 4>\u001b[0;34m()\u001b[0m\n\u001b[1;32m      2\u001b[0m \u001b[0mcirculo\u001b[0m \u001b[0;34m=\u001b[0m \u001b[0mturtle\u001b[0m\u001b[0;34m\u001b[0m\u001b[0;34m\u001b[0m\u001b[0m\n\u001b[1;32m      3\u001b[0m \u001b[0;34m\u001b[0m\u001b[0m\n\u001b[0;32m----> 4\u001b[0;31m \u001b[0mfunctionCircle\u001b[0m\u001b[0;34m(\u001b[0m\u001b[0mcirculo\u001b[0m\u001b[0;34m,\u001b[0m \u001b[0;36m10\u001b[0m\u001b[0;34m)\u001b[0m\u001b[0;34m\u001b[0m\u001b[0;34m\u001b[0m\u001b[0m\n\u001b[0m",
      "\u001b[0;32m<ipython-input-22-4000770a10bb>\u001b[0m in \u001b[0;36mfunctionCircle\u001b[0;34m(t, r)\u001b[0m\n\u001b[1;32m      7\u001b[0m   \u001b[0md\u001b[0m \u001b[0;34m=\u001b[0m \u001b[0;36m2\u001b[0m \u001b[0;34m*\u001b[0m \u001b[0mr\u001b[0m\u001b[0;34m\u001b[0m\u001b[0;34m\u001b[0m\u001b[0m\n\u001b[1;32m      8\u001b[0m \u001b[0;34m\u001b[0m\u001b[0m\n\u001b[0;32m----> 9\u001b[0;31m   \u001b[0mfunctionPolygon\u001b[0m\u001b[0;34m(\u001b[0m\u001b[0mt\u001b[0m\u001b[0;34m,\u001b[0m \u001b[0md\u001b[0m\u001b[0;34m,\u001b[0m \u001b[0;36m0\u001b[0m\u001b[0;34m)\u001b[0m \u001b[0;31m# um círculo não é um polígono, pois não tem lados\u001b[0m\u001b[0;34m\u001b[0m\u001b[0;34m\u001b[0m\u001b[0m\n\u001b[0m",
      "\u001b[0;32m<ipython-input-20-be3708951215>\u001b[0m in \u001b[0;36mfunctionPolygon\u001b[0;34m(t, lenght, n)\u001b[0m\n\u001b[1;32m      2\u001b[0m \u001b[0;34m\u001b[0m\u001b[0m\n\u001b[1;32m      3\u001b[0m \u001b[0;32mdef\u001b[0m \u001b[0mfunctionPolygon\u001b[0m\u001b[0;34m(\u001b[0m\u001b[0mt\u001b[0m\u001b[0;34m,\u001b[0m \u001b[0mlenght\u001b[0m\u001b[0;34m,\u001b[0m \u001b[0mn\u001b[0m\u001b[0;34m)\u001b[0m\u001b[0;34m:\u001b[0m\u001b[0;34m\u001b[0m\u001b[0;34m\u001b[0m\u001b[0m\n\u001b[0;32m----> 4\u001b[0;31m     \u001b[0mangulo\u001b[0m \u001b[0;34m=\u001b[0m \u001b[0;36m360\u001b[0m\u001b[0;34m/\u001b[0m\u001b[0mn\u001b[0m\u001b[0;34m\u001b[0m\u001b[0;34m\u001b[0m\u001b[0m\n\u001b[0m\u001b[1;32m      5\u001b[0m \u001b[0;34m\u001b[0m\u001b[0m\n\u001b[1;32m      6\u001b[0m     \u001b[0;32mfor\u001b[0m \u001b[0mi\u001b[0m \u001b[0;32min\u001b[0m \u001b[0mrange\u001b[0m\u001b[0;34m(\u001b[0m\u001b[0mn\u001b[0m\u001b[0;34m)\u001b[0m\u001b[0;34m:\u001b[0m\u001b[0;34m\u001b[0m\u001b[0;34m\u001b[0m\u001b[0m\n",
      "\u001b[0;31mZeroDivisionError\u001b[0m: division by zero"
     ]
    }
   ],
   "source": [
    "turtle.initializeTurtle()\n",
    "circulo = turtle\n",
    "\n",
    "functionCircle(circulo, 10)"
   ]
  },
  {
   "cell_type": "markdown",
   "metadata": {
    "id": "btfqh4aZgZRC"
   },
   "source": [
    "**SOLUÇÃO DO CHATGPT:**"
   ]
  },
  {
   "cell_type": "code",
   "execution_count": null,
   "metadata": {
    "id": "8vCgznfyRo_B"
   },
   "outputs": [],
   "source": [
    "import math\n",
    "\n",
    "def functionCircleChatGpt(t, r):\n",
    "    n = 100  # Número de lados do polígono\n",
    "    circumference = 2 * math.pi * r\n",
    "    side_length = circumference/n\n",
    "    functionPolygon(t, side_length, n)"
   ]
  },
  {
   "cell_type": "code",
   "execution_count": null,
   "metadata": {
    "colab": {
     "base_uri": "https://localhost:8080/",
     "height": 521
    },
    "id": "L6DZwDg3RpBq",
    "outputId": "0482f393-ae68-42b7-8283-3dc5464df34d"
   },
   "outputs": [
    {
     "data": {
      "text/html": [
       "\n",
       "      <svg width=\"800\" height=\"500\">\n",
       "        <rect width=\"100%\" height=\"100%\" fill=\"black\"/>\n",
       "        <line x1=\"400\" y1=\"250\" x2=\"400.0\" y2=\"246.858\" stroke-linecap=\"round\" style=\"stroke:white;stroke-width:4\"/><line x1=\"400.0\" y1=\"246.858\" x2=\"399.803\" y2=\"243.723\" stroke-linecap=\"round\" style=\"stroke:white;stroke-width:4\"/><line x1=\"399.803\" y1=\"243.723\" x2=\"399.409\" y2=\"240.606\" stroke-linecap=\"round\" style=\"stroke:white;stroke-width:4\"/><line x1=\"399.409\" y1=\"240.606\" x2=\"398.82\" y2=\"237.52\" stroke-linecap=\"round\" style=\"stroke:white;stroke-width:4\"/><line x1=\"398.82\" y1=\"237.52\" x2=\"398.039\" y2=\"234.477\" stroke-linecap=\"round\" style=\"stroke:white;stroke-width:4\"/><line x1=\"398.039\" y1=\"234.477\" x2=\"397.068\" y2=\"231.489\" stroke-linecap=\"round\" style=\"stroke:white;stroke-width:4\"/><line x1=\"397.068\" y1=\"231.489\" x2=\"395.912\" y2=\"228.568\" stroke-linecap=\"round\" style=\"stroke:white;stroke-width:4\"/><line x1=\"395.912\" y1=\"228.568\" x2=\"394.574\" y2=\"225.725\" stroke-linecap=\"round\" style=\"stroke:white;stroke-width:4\"/><line x1=\"394.574\" y1=\"225.725\" x2=\"393.061\" y2=\"222.972\" stroke-linecap=\"round\" style=\"stroke:white;stroke-width:4\"/><line x1=\"393.061\" y1=\"222.972\" x2=\"391.378\" y2=\"220.319\" stroke-linecap=\"round\" style=\"stroke:white;stroke-width:4\"/><line x1=\"391.378\" y1=\"220.319\" x2=\"389.531\" y2=\"217.777\" stroke-linecap=\"round\" style=\"stroke:white;stroke-width:4\"/><line x1=\"389.531\" y1=\"217.777\" x2=\"387.528\" y2=\"215.356\" stroke-linecap=\"round\" style=\"stroke:white;stroke-width:4\"/><line x1=\"387.528\" y1=\"215.356\" x2=\"385.377\" y2=\"213.066\" stroke-linecap=\"round\" style=\"stroke:white;stroke-width:4\"/><line x1=\"385.377\" y1=\"213.066\" x2=\"383.087\" y2=\"210.915\" stroke-linecap=\"round\" style=\"stroke:white;stroke-width:4\"/><line x1=\"383.087\" y1=\"210.915\" x2=\"380.666\" y2=\"208.912\" stroke-linecap=\"round\" style=\"stroke:white;stroke-width:4\"/><line x1=\"380.666\" y1=\"208.912\" x2=\"378.124\" y2=\"207.065\" stroke-linecap=\"round\" style=\"stroke:white;stroke-width:4\"/><line x1=\"378.124\" y1=\"207.065\" x2=\"375.471\" y2=\"205.382\" stroke-linecap=\"round\" style=\"stroke:white;stroke-width:4\"/><line x1=\"375.471\" y1=\"205.382\" x2=\"372.718\" y2=\"203.869\" stroke-linecap=\"round\" style=\"stroke:white;stroke-width:4\"/><line x1=\"372.718\" y1=\"203.869\" x2=\"369.875\" y2=\"202.531\" stroke-linecap=\"round\" style=\"stroke:white;stroke-width:4\"/><line x1=\"369.875\" y1=\"202.531\" x2=\"366.954\" y2=\"201.375\" stroke-linecap=\"round\" style=\"stroke:white;stroke-width:4\"/><line x1=\"366.954\" y1=\"201.375\" x2=\"363.966\" y2=\"200.404\" stroke-linecap=\"round\" style=\"stroke:white;stroke-width:4\"/><line x1=\"363.966\" y1=\"200.404\" x2=\"360.923\" y2=\"199.623\" stroke-linecap=\"round\" style=\"stroke:white;stroke-width:4\"/><line x1=\"360.923\" y1=\"199.623\" x2=\"357.837\" y2=\"199.034\" stroke-linecap=\"round\" style=\"stroke:white;stroke-width:4\"/><line x1=\"357.837\" y1=\"199.034\" x2=\"354.72\" y2=\"198.64\" stroke-linecap=\"round\" style=\"stroke:white;stroke-width:4\"/><line x1=\"354.72\" y1=\"198.64\" x2=\"351.585\" y2=\"198.443\" stroke-linecap=\"round\" style=\"stroke:white;stroke-width:4\"/><line x1=\"351.585\" y1=\"198.443\" x2=\"348.443\" y2=\"198.443\" stroke-linecap=\"round\" style=\"stroke:white;stroke-width:4\"/><line x1=\"348.443\" y1=\"198.443\" x2=\"345.308\" y2=\"198.64\" stroke-linecap=\"round\" style=\"stroke:white;stroke-width:4\"/><line x1=\"345.308\" y1=\"198.64\" x2=\"342.191\" y2=\"199.034\" stroke-linecap=\"round\" style=\"stroke:white;stroke-width:4\"/><line x1=\"342.191\" y1=\"199.034\" x2=\"339.105\" y2=\"199.623\" stroke-linecap=\"round\" style=\"stroke:white;stroke-width:4\"/><line x1=\"339.105\" y1=\"199.623\" x2=\"336.062\" y2=\"200.404\" stroke-linecap=\"round\" style=\"stroke:white;stroke-width:4\"/><line x1=\"336.062\" y1=\"200.404\" x2=\"333.074\" y2=\"201.375\" stroke-linecap=\"round\" style=\"stroke:white;stroke-width:4\"/><line x1=\"333.074\" y1=\"201.375\" x2=\"330.153\" y2=\"202.531\" stroke-linecap=\"round\" style=\"stroke:white;stroke-width:4\"/><line x1=\"330.153\" y1=\"202.531\" x2=\"327.31\" y2=\"203.869\" stroke-linecap=\"round\" style=\"stroke:white;stroke-width:4\"/><line x1=\"327.31\" y1=\"203.869\" x2=\"324.557\" y2=\"205.382\" stroke-linecap=\"round\" style=\"stroke:white;stroke-width:4\"/><line x1=\"324.557\" y1=\"205.382\" x2=\"321.904\" y2=\"207.065\" stroke-linecap=\"round\" style=\"stroke:white;stroke-width:4\"/><line x1=\"321.904\" y1=\"207.065\" x2=\"319.362\" y2=\"208.912\" stroke-linecap=\"round\" style=\"stroke:white;stroke-width:4\"/><line x1=\"319.362\" y1=\"208.912\" x2=\"316.941\" y2=\"210.915\" stroke-linecap=\"round\" style=\"stroke:white;stroke-width:4\"/><line x1=\"316.941\" y1=\"210.915\" x2=\"314.651\" y2=\"213.066\" stroke-linecap=\"round\" style=\"stroke:white;stroke-width:4\"/><line x1=\"314.651\" y1=\"213.066\" x2=\"312.5\" y2=\"215.356\" stroke-linecap=\"round\" style=\"stroke:white;stroke-width:4\"/><line x1=\"312.5\" y1=\"215.356\" x2=\"310.497\" y2=\"217.777\" stroke-linecap=\"round\" style=\"stroke:white;stroke-width:4\"/><line x1=\"310.497\" y1=\"217.777\" x2=\"308.65\" y2=\"220.319\" stroke-linecap=\"round\" style=\"stroke:white;stroke-width:4\"/><line x1=\"308.65\" y1=\"220.319\" x2=\"306.967\" y2=\"222.972\" stroke-linecap=\"round\" style=\"stroke:white;stroke-width:4\"/><line x1=\"306.967\" y1=\"222.972\" x2=\"305.454\" y2=\"225.725\" stroke-linecap=\"round\" style=\"stroke:white;stroke-width:4\"/><line x1=\"305.454\" y1=\"225.725\" x2=\"304.116\" y2=\"228.568\" stroke-linecap=\"round\" style=\"stroke:white;stroke-width:4\"/><line x1=\"304.116\" y1=\"228.568\" x2=\"302.96\" y2=\"231.489\" stroke-linecap=\"round\" style=\"stroke:white;stroke-width:4\"/><line x1=\"302.96\" y1=\"231.489\" x2=\"301.989\" y2=\"234.477\" stroke-linecap=\"round\" style=\"stroke:white;stroke-width:4\"/><line x1=\"301.989\" y1=\"234.477\" x2=\"301.208\" y2=\"237.52\" stroke-linecap=\"round\" style=\"stroke:white;stroke-width:4\"/><line x1=\"301.208\" y1=\"237.52\" x2=\"300.619\" y2=\"240.606\" stroke-linecap=\"round\" style=\"stroke:white;stroke-width:4\"/><line x1=\"300.619\" y1=\"240.606\" x2=\"300.225\" y2=\"243.723\" stroke-linecap=\"round\" style=\"stroke:white;stroke-width:4\"/><line x1=\"300.225\" y1=\"243.723\" x2=\"300.028\" y2=\"246.858\" stroke-linecap=\"round\" style=\"stroke:white;stroke-width:4\"/><line x1=\"300.028\" y1=\"246.858\" x2=\"300.028\" y2=\"250.0\" stroke-linecap=\"round\" style=\"stroke:white;stroke-width:4\"/><line x1=\"300.028\" y1=\"250.0\" x2=\"300.225\" y2=\"253.135\" stroke-linecap=\"round\" style=\"stroke:white;stroke-width:4\"/><line x1=\"300.225\" y1=\"253.135\" x2=\"300.619\" y2=\"256.252\" stroke-linecap=\"round\" style=\"stroke:white;stroke-width:4\"/><line x1=\"300.619\" y1=\"256.252\" x2=\"301.208\" y2=\"259.338\" stroke-linecap=\"round\" style=\"stroke:white;stroke-width:4\"/><line x1=\"301.208\" y1=\"259.338\" x2=\"301.989\" y2=\"262.381\" stroke-linecap=\"round\" style=\"stroke:white;stroke-width:4\"/><line x1=\"301.989\" y1=\"262.381\" x2=\"302.96\" y2=\"265.369\" stroke-linecap=\"round\" style=\"stroke:white;stroke-width:4\"/><line x1=\"302.96\" y1=\"265.369\" x2=\"304.116\" y2=\"268.29\" stroke-linecap=\"round\" style=\"stroke:white;stroke-width:4\"/><line x1=\"304.116\" y1=\"268.29\" x2=\"305.454\" y2=\"271.133\" stroke-linecap=\"round\" style=\"stroke:white;stroke-width:4\"/><line x1=\"305.454\" y1=\"271.133\" x2=\"306.967\" y2=\"273.886\" stroke-linecap=\"round\" style=\"stroke:white;stroke-width:4\"/><line x1=\"306.967\" y1=\"273.886\" x2=\"308.65\" y2=\"276.539\" stroke-linecap=\"round\" style=\"stroke:white;stroke-width:4\"/><line x1=\"308.65\" y1=\"276.539\" x2=\"310.497\" y2=\"279.081\" stroke-linecap=\"round\" style=\"stroke:white;stroke-width:4\"/><line x1=\"310.497\" y1=\"279.081\" x2=\"312.5\" y2=\"281.502\" stroke-linecap=\"round\" style=\"stroke:white;stroke-width:4\"/><line x1=\"312.5\" y1=\"281.502\" x2=\"314.651\" y2=\"283.792\" stroke-linecap=\"round\" style=\"stroke:white;stroke-width:4\"/><line x1=\"314.651\" y1=\"283.792\" x2=\"316.941\" y2=\"285.943\" stroke-linecap=\"round\" style=\"stroke:white;stroke-width:4\"/><line x1=\"316.941\" y1=\"285.943\" x2=\"319.362\" y2=\"287.946\" stroke-linecap=\"round\" style=\"stroke:white;stroke-width:4\"/><line x1=\"319.362\" y1=\"287.946\" x2=\"321.904\" y2=\"289.793\" stroke-linecap=\"round\" style=\"stroke:white;stroke-width:4\"/><line x1=\"321.904\" y1=\"289.793\" x2=\"324.557\" y2=\"291.476\" stroke-linecap=\"round\" style=\"stroke:white;stroke-width:4\"/><line x1=\"324.557\" y1=\"291.476\" x2=\"327.31\" y2=\"292.989\" stroke-linecap=\"round\" style=\"stroke:white;stroke-width:4\"/><line x1=\"327.31\" y1=\"292.989\" x2=\"330.153\" y2=\"294.327\" stroke-linecap=\"round\" style=\"stroke:white;stroke-width:4\"/><line x1=\"330.153\" y1=\"294.327\" x2=\"333.074\" y2=\"295.483\" stroke-linecap=\"round\" style=\"stroke:white;stroke-width:4\"/><line x1=\"333.074\" y1=\"295.483\" x2=\"336.062\" y2=\"296.454\" stroke-linecap=\"round\" style=\"stroke:white;stroke-width:4\"/><line x1=\"336.062\" y1=\"296.454\" x2=\"339.105\" y2=\"297.235\" stroke-linecap=\"round\" style=\"stroke:white;stroke-width:4\"/><line x1=\"339.105\" y1=\"297.235\" x2=\"342.191\" y2=\"297.824\" stroke-linecap=\"round\" style=\"stroke:white;stroke-width:4\"/><line x1=\"342.191\" y1=\"297.824\" x2=\"345.308\" y2=\"298.218\" stroke-linecap=\"round\" style=\"stroke:white;stroke-width:4\"/><line x1=\"345.308\" y1=\"298.218\" x2=\"348.443\" y2=\"298.415\" stroke-linecap=\"round\" style=\"stroke:white;stroke-width:4\"/><line x1=\"348.443\" y1=\"298.415\" x2=\"351.585\" y2=\"298.415\" stroke-linecap=\"round\" style=\"stroke:white;stroke-width:4\"/><line x1=\"351.585\" y1=\"298.415\" x2=\"354.72\" y2=\"298.218\" stroke-linecap=\"round\" style=\"stroke:white;stroke-width:4\"/><line x1=\"354.72\" y1=\"298.218\" x2=\"357.837\" y2=\"297.824\" stroke-linecap=\"round\" style=\"stroke:white;stroke-width:4\"/><line x1=\"357.837\" y1=\"297.824\" x2=\"360.923\" y2=\"297.235\" stroke-linecap=\"round\" style=\"stroke:white;stroke-width:4\"/><line x1=\"360.923\" y1=\"297.235\" x2=\"363.966\" y2=\"296.454\" stroke-linecap=\"round\" style=\"stroke:white;stroke-width:4\"/><line x1=\"363.966\" y1=\"296.454\" x2=\"366.954\" y2=\"295.483\" stroke-linecap=\"round\" style=\"stroke:white;stroke-width:4\"/><line x1=\"366.954\" y1=\"295.483\" x2=\"369.875\" y2=\"294.327\" stroke-linecap=\"round\" style=\"stroke:white;stroke-width:4\"/><line x1=\"369.875\" y1=\"294.327\" x2=\"372.718\" y2=\"292.989\" stroke-linecap=\"round\" style=\"stroke:white;stroke-width:4\"/><line x1=\"372.718\" y1=\"292.989\" x2=\"375.471\" y2=\"291.476\" stroke-linecap=\"round\" style=\"stroke:white;stroke-width:4\"/><line x1=\"375.471\" y1=\"291.476\" x2=\"378.124\" y2=\"289.793\" stroke-linecap=\"round\" style=\"stroke:white;stroke-width:4\"/><line x1=\"378.124\" y1=\"289.793\" x2=\"380.666\" y2=\"287.946\" stroke-linecap=\"round\" style=\"stroke:white;stroke-width:4\"/><line x1=\"380.666\" y1=\"287.946\" x2=\"383.087\" y2=\"285.943\" stroke-linecap=\"round\" style=\"stroke:white;stroke-width:4\"/><line x1=\"383.087\" y1=\"285.943\" x2=\"385.377\" y2=\"283.792\" stroke-linecap=\"round\" style=\"stroke:white;stroke-width:4\"/><line x1=\"385.377\" y1=\"283.792\" x2=\"387.528\" y2=\"281.502\" stroke-linecap=\"round\" style=\"stroke:white;stroke-width:4\"/><line x1=\"387.528\" y1=\"281.502\" x2=\"389.531\" y2=\"279.081\" stroke-linecap=\"round\" style=\"stroke:white;stroke-width:4\"/><line x1=\"389.531\" y1=\"279.081\" x2=\"391.378\" y2=\"276.539\" stroke-linecap=\"round\" style=\"stroke:white;stroke-width:4\"/><line x1=\"391.378\" y1=\"276.539\" x2=\"393.061\" y2=\"273.886\" stroke-linecap=\"round\" style=\"stroke:white;stroke-width:4\"/><line x1=\"393.061\" y1=\"273.886\" x2=\"394.574\" y2=\"271.133\" stroke-linecap=\"round\" style=\"stroke:white;stroke-width:4\"/><line x1=\"394.574\" y1=\"271.133\" x2=\"395.912\" y2=\"268.29\" stroke-linecap=\"round\" style=\"stroke:white;stroke-width:4\"/><line x1=\"395.912\" y1=\"268.29\" x2=\"397.068\" y2=\"265.369\" stroke-linecap=\"round\" style=\"stroke:white;stroke-width:4\"/><line x1=\"397.068\" y1=\"265.369\" x2=\"398.039\" y2=\"262.381\" stroke-linecap=\"round\" style=\"stroke:white;stroke-width:4\"/><line x1=\"398.039\" y1=\"262.381\" x2=\"398.82\" y2=\"259.338\" stroke-linecap=\"round\" style=\"stroke:white;stroke-width:4\"/><line x1=\"398.82\" y1=\"259.338\" x2=\"399.409\" y2=\"256.252\" stroke-linecap=\"round\" style=\"stroke:white;stroke-width:4\"/><line x1=\"399.409\" y1=\"256.252\" x2=\"399.803\" y2=\"253.135\" stroke-linecap=\"round\" style=\"stroke:white;stroke-width:4\"/><line x1=\"399.803\" y1=\"253.135\" x2=\"400.0\" y2=\"250.0\" stroke-linecap=\"round\" style=\"stroke:white;stroke-width:4\"/>\n",
       "        <g visibility=visible transform=\"rotate(359.99999999999966,400.0,250.0) translate(382.0, 232.0)\">\n",
       "<path style=\" stroke:none;fill-rule:evenodd;fill:white;fill-opacity:1;\" d=\"M 18.214844 0.632812 C 16.109375 1.800781 15.011719 4.074219 15.074219 7.132812 L 15.085938 7.652344 L 14.785156 7.496094 C 13.476562 6.824219 11.957031 6.671875 10.40625 7.066406 C 8.46875 7.550781 6.515625 9.15625 4.394531 11.992188 C 3.0625 13.777344 2.679688 14.636719 3.042969 15.027344 L 3.15625 15.152344 L 3.519531 15.152344 C 4.238281 15.152344 4.828125 14.886719 8.1875 13.039062 C 9.386719 12.378906 10.371094 11.839844 10.378906 11.839844 C 10.386719 11.839844 10.355469 11.929688 10.304688 12.035156 C 9.832031 13.09375 9.257812 14.820312 8.96875 16.078125 C 7.914062 20.652344 8.617188 24.53125 11.070312 27.660156 C 11.351562 28.015625 11.363281 27.914062 10.972656 28.382812 C 8.925781 30.84375 7.945312 33.28125 8.238281 35.1875 C 8.289062 35.527344 8.28125 35.523438 8.917969 35.523438 C 10.941406 35.523438 13.074219 34.207031 15.136719 31.6875 C 15.359375 31.417969 15.328125 31.425781 15.5625 31.574219 C 16.292969 32.042969 18.023438 32.964844 18.175781 32.964844 C 18.335938 32.964844 19.941406 32.210938 20.828125 31.71875 C 20.996094 31.625 21.136719 31.554688 21.136719 31.558594 C 21.203125 31.664062 21.898438 32.414062 22.222656 32.730469 C 23.835938 34.300781 25.5625 35.132812 27.582031 35.300781 C 27.90625 35.328125 27.9375 35.308594 28.007812 34.984375 C 28.382812 33.242188 27.625 30.925781 25.863281 28.425781 L 25.542969 27.96875 L 25.699219 27.785156 C 28.945312 23.960938 29.132812 18.699219 26.257812 11.96875 L 26.207031 11.84375 L 27.945312 12.703125 C 31.53125 14.476562 32.316406 14.800781 33.03125 14.800781 C 33.976562 14.800781 33.78125 13.9375 32.472656 12.292969 C 28.519531 7.355469 25.394531 5.925781 21.921875 7.472656 L 21.558594 7.636719 L 21.578125 7.542969 C 21.699219 6.992188 21.761719 5.742188 21.699219 5.164062 C 21.496094 3.296875 20.664062 1.964844 19.003906 0.855469 C 18.480469 0.503906 18.457031 0.5 18.214844 0.632812\"/>\n",
       "</g>\n",
       "      </svg>\n",
       "    "
      ],
      "text/plain": [
       "<IPython.core.display.HTML object>"
      ]
     },
     "metadata": {},
     "output_type": "display_data"
    }
   ],
   "source": [
    "turtle.initializeTurtle()\n",
    "circulo_chatgpt = turtle\n",
    "\n",
    "functionCircleChatGpt(circulo_chatgpt, 50)"
   ]
  },
  {
   "cell_type": "markdown",
   "metadata": {
    "id": "LvLA9a1yLMtI"
   },
   "source": [
    "5. Faça uma versão mais geral do circle chamada arc, que receba um parâmetro\n",
    "adicional de angle, para determinar qual fração do círculo deve ser desenhada. angle está em unidades de graus, então quando angle=360, o arc deve desenhar um círculo completo."
   ]
  },
  {
   "cell_type": "markdown",
   "metadata": {
    "id": "MsHehcOmLSts"
   },
   "source": [
    "**COMPARAÇÃO DE SOLUÇÕES:**"
   ]
  },
  {
   "cell_type": "markdown",
   "metadata": {
    "id": "t3ryiEcxCubZ"
   },
   "source": [
    "**SOLUÇÃO PRÓPRIA:**"
   ]
  },
  {
   "cell_type": "code",
   "execution_count": null,
   "metadata": {
    "id": "1_uAIqS8K9By"
   },
   "outputs": [],
   "source": [
    "import math\n",
    "\n",
    "def functionArc(t, r, angle):\n",
    "    n = 100  # Número de lados do polígono que é quase um círculo (segmentos em um círculo)\n",
    "\n",
    "    circumference = 2 * math.pi * r\n",
    "    fracao_circulo = (angle/360) * circumference\n",
    "\n",
    "    comprimento_segmento = (fracao_circulo/n) # seria o comprimento de um segmento\n",
    "\n",
    "    functionPolygon(t, comprimento_segmento, n)"
   ]
  },
  {
   "cell_type": "code",
   "execution_count": null,
   "metadata": {
    "colab": {
     "base_uri": "https://localhost:8080/",
     "height": 521
    },
    "id": "qm_vubfDDerc",
    "outputId": "8ec15c5e-eff7-4204-e371-132f7c8b0a91"
   },
   "outputs": [
    {
     "data": {
      "text/html": [
       "\n",
       "      <svg width=\"800\" height=\"500\">\n",
       "        <rect width=\"100%\" height=\"100%\" fill=\"black\"/>\n",
       "        <line x1=\"400\" y1=\"250\" x2=\"400.0\" y2=\"246.858\" stroke-linecap=\"round\" style=\"stroke:white;stroke-width:4\"/><line x1=\"400.0\" y1=\"246.858\" x2=\"399.803\" y2=\"243.723\" stroke-linecap=\"round\" style=\"stroke:white;stroke-width:4\"/><line x1=\"399.803\" y1=\"243.723\" x2=\"399.409\" y2=\"240.606\" stroke-linecap=\"round\" style=\"stroke:white;stroke-width:4\"/><line x1=\"399.409\" y1=\"240.606\" x2=\"398.82\" y2=\"237.52\" stroke-linecap=\"round\" style=\"stroke:white;stroke-width:4\"/><line x1=\"398.82\" y1=\"237.52\" x2=\"398.039\" y2=\"234.477\" stroke-linecap=\"round\" style=\"stroke:white;stroke-width:4\"/><line x1=\"398.039\" y1=\"234.477\" x2=\"397.068\" y2=\"231.489\" stroke-linecap=\"round\" style=\"stroke:white;stroke-width:4\"/><line x1=\"397.068\" y1=\"231.489\" x2=\"395.912\" y2=\"228.568\" stroke-linecap=\"round\" style=\"stroke:white;stroke-width:4\"/><line x1=\"395.912\" y1=\"228.568\" x2=\"394.574\" y2=\"225.725\" stroke-linecap=\"round\" style=\"stroke:white;stroke-width:4\"/><line x1=\"394.574\" y1=\"225.725\" x2=\"393.061\" y2=\"222.972\" stroke-linecap=\"round\" style=\"stroke:white;stroke-width:4\"/><line x1=\"393.061\" y1=\"222.972\" x2=\"391.378\" y2=\"220.319\" stroke-linecap=\"round\" style=\"stroke:white;stroke-width:4\"/><line x1=\"391.378\" y1=\"220.319\" x2=\"389.531\" y2=\"217.777\" stroke-linecap=\"round\" style=\"stroke:white;stroke-width:4\"/><line x1=\"389.531\" y1=\"217.777\" x2=\"387.528\" y2=\"215.356\" stroke-linecap=\"round\" style=\"stroke:white;stroke-width:4\"/><line x1=\"387.528\" y1=\"215.356\" x2=\"385.377\" y2=\"213.066\" stroke-linecap=\"round\" style=\"stroke:white;stroke-width:4\"/><line x1=\"385.377\" y1=\"213.066\" x2=\"383.087\" y2=\"210.915\" stroke-linecap=\"round\" style=\"stroke:white;stroke-width:4\"/><line x1=\"383.087\" y1=\"210.915\" x2=\"380.666\" y2=\"208.912\" stroke-linecap=\"round\" style=\"stroke:white;stroke-width:4\"/><line x1=\"380.666\" y1=\"208.912\" x2=\"378.124\" y2=\"207.065\" stroke-linecap=\"round\" style=\"stroke:white;stroke-width:4\"/><line x1=\"378.124\" y1=\"207.065\" x2=\"375.471\" y2=\"205.382\" stroke-linecap=\"round\" style=\"stroke:white;stroke-width:4\"/><line x1=\"375.471\" y1=\"205.382\" x2=\"372.718\" y2=\"203.869\" stroke-linecap=\"round\" style=\"stroke:white;stroke-width:4\"/><line x1=\"372.718\" y1=\"203.869\" x2=\"369.875\" y2=\"202.531\" stroke-linecap=\"round\" style=\"stroke:white;stroke-width:4\"/><line x1=\"369.875\" y1=\"202.531\" x2=\"366.954\" y2=\"201.375\" stroke-linecap=\"round\" style=\"stroke:white;stroke-width:4\"/><line x1=\"366.954\" y1=\"201.375\" x2=\"363.966\" y2=\"200.404\" stroke-linecap=\"round\" style=\"stroke:white;stroke-width:4\"/><line x1=\"363.966\" y1=\"200.404\" x2=\"360.923\" y2=\"199.623\" stroke-linecap=\"round\" style=\"stroke:white;stroke-width:4\"/><line x1=\"360.923\" y1=\"199.623\" x2=\"357.837\" y2=\"199.034\" stroke-linecap=\"round\" style=\"stroke:white;stroke-width:4\"/><line x1=\"357.837\" y1=\"199.034\" x2=\"354.72\" y2=\"198.64\" stroke-linecap=\"round\" style=\"stroke:white;stroke-width:4\"/><line x1=\"354.72\" y1=\"198.64\" x2=\"351.585\" y2=\"198.443\" stroke-linecap=\"round\" style=\"stroke:white;stroke-width:4\"/><line x1=\"351.585\" y1=\"198.443\" x2=\"348.443\" y2=\"198.443\" stroke-linecap=\"round\" style=\"stroke:white;stroke-width:4\"/><line x1=\"348.443\" y1=\"198.443\" x2=\"345.308\" y2=\"198.64\" stroke-linecap=\"round\" style=\"stroke:white;stroke-width:4\"/><line x1=\"345.308\" y1=\"198.64\" x2=\"342.191\" y2=\"199.034\" stroke-linecap=\"round\" style=\"stroke:white;stroke-width:4\"/><line x1=\"342.191\" y1=\"199.034\" x2=\"339.105\" y2=\"199.623\" stroke-linecap=\"round\" style=\"stroke:white;stroke-width:4\"/><line x1=\"339.105\" y1=\"199.623\" x2=\"336.062\" y2=\"200.404\" stroke-linecap=\"round\" style=\"stroke:white;stroke-width:4\"/><line x1=\"336.062\" y1=\"200.404\" x2=\"333.074\" y2=\"201.375\" stroke-linecap=\"round\" style=\"stroke:white;stroke-width:4\"/><line x1=\"333.074\" y1=\"201.375\" x2=\"330.153\" y2=\"202.531\" stroke-linecap=\"round\" style=\"stroke:white;stroke-width:4\"/><line x1=\"330.153\" y1=\"202.531\" x2=\"327.31\" y2=\"203.869\" stroke-linecap=\"round\" style=\"stroke:white;stroke-width:4\"/><line x1=\"327.31\" y1=\"203.869\" x2=\"324.557\" y2=\"205.382\" stroke-linecap=\"round\" style=\"stroke:white;stroke-width:4\"/><line x1=\"324.557\" y1=\"205.382\" x2=\"321.904\" y2=\"207.065\" stroke-linecap=\"round\" style=\"stroke:white;stroke-width:4\"/><line x1=\"321.904\" y1=\"207.065\" x2=\"319.362\" y2=\"208.912\" stroke-linecap=\"round\" style=\"stroke:white;stroke-width:4\"/><line x1=\"319.362\" y1=\"208.912\" x2=\"316.941\" y2=\"210.915\" stroke-linecap=\"round\" style=\"stroke:white;stroke-width:4\"/><line x1=\"316.941\" y1=\"210.915\" x2=\"314.651\" y2=\"213.066\" stroke-linecap=\"round\" style=\"stroke:white;stroke-width:4\"/><line x1=\"314.651\" y1=\"213.066\" x2=\"312.5\" y2=\"215.356\" stroke-linecap=\"round\" style=\"stroke:white;stroke-width:4\"/><line x1=\"312.5\" y1=\"215.356\" x2=\"310.497\" y2=\"217.777\" stroke-linecap=\"round\" style=\"stroke:white;stroke-width:4\"/><line x1=\"310.497\" y1=\"217.777\" x2=\"308.65\" y2=\"220.319\" stroke-linecap=\"round\" style=\"stroke:white;stroke-width:4\"/><line x1=\"308.65\" y1=\"220.319\" x2=\"306.967\" y2=\"222.972\" stroke-linecap=\"round\" style=\"stroke:white;stroke-width:4\"/><line x1=\"306.967\" y1=\"222.972\" x2=\"305.454\" y2=\"225.725\" stroke-linecap=\"round\" style=\"stroke:white;stroke-width:4\"/><line x1=\"305.454\" y1=\"225.725\" x2=\"304.116\" y2=\"228.568\" stroke-linecap=\"round\" style=\"stroke:white;stroke-width:4\"/><line x1=\"304.116\" y1=\"228.568\" x2=\"302.96\" y2=\"231.489\" stroke-linecap=\"round\" style=\"stroke:white;stroke-width:4\"/><line x1=\"302.96\" y1=\"231.489\" x2=\"301.989\" y2=\"234.477\" stroke-linecap=\"round\" style=\"stroke:white;stroke-width:4\"/><line x1=\"301.989\" y1=\"234.477\" x2=\"301.208\" y2=\"237.52\" stroke-linecap=\"round\" style=\"stroke:white;stroke-width:4\"/><line x1=\"301.208\" y1=\"237.52\" x2=\"300.619\" y2=\"240.606\" stroke-linecap=\"round\" style=\"stroke:white;stroke-width:4\"/><line x1=\"300.619\" y1=\"240.606\" x2=\"300.225\" y2=\"243.723\" stroke-linecap=\"round\" style=\"stroke:white;stroke-width:4\"/><line x1=\"300.225\" y1=\"243.723\" x2=\"300.028\" y2=\"246.858\" stroke-linecap=\"round\" style=\"stroke:white;stroke-width:4\"/><line x1=\"300.028\" y1=\"246.858\" x2=\"300.028\" y2=\"250.0\" stroke-linecap=\"round\" style=\"stroke:white;stroke-width:4\"/><line x1=\"300.028\" y1=\"250.0\" x2=\"300.225\" y2=\"253.135\" stroke-linecap=\"round\" style=\"stroke:white;stroke-width:4\"/><line x1=\"300.225\" y1=\"253.135\" x2=\"300.619\" y2=\"256.252\" stroke-linecap=\"round\" style=\"stroke:white;stroke-width:4\"/><line x1=\"300.619\" y1=\"256.252\" x2=\"301.208\" y2=\"259.338\" stroke-linecap=\"round\" style=\"stroke:white;stroke-width:4\"/><line x1=\"301.208\" y1=\"259.338\" x2=\"301.989\" y2=\"262.381\" stroke-linecap=\"round\" style=\"stroke:white;stroke-width:4\"/><line x1=\"301.989\" y1=\"262.381\" x2=\"302.96\" y2=\"265.369\" stroke-linecap=\"round\" style=\"stroke:white;stroke-width:4\"/><line x1=\"302.96\" y1=\"265.369\" x2=\"304.116\" y2=\"268.29\" stroke-linecap=\"round\" style=\"stroke:white;stroke-width:4\"/><line x1=\"304.116\" y1=\"268.29\" x2=\"305.454\" y2=\"271.133\" stroke-linecap=\"round\" style=\"stroke:white;stroke-width:4\"/><line x1=\"305.454\" y1=\"271.133\" x2=\"306.967\" y2=\"273.886\" stroke-linecap=\"round\" style=\"stroke:white;stroke-width:4\"/><line x1=\"306.967\" y1=\"273.886\" x2=\"308.65\" y2=\"276.539\" stroke-linecap=\"round\" style=\"stroke:white;stroke-width:4\"/><line x1=\"308.65\" y1=\"276.539\" x2=\"310.497\" y2=\"279.081\" stroke-linecap=\"round\" style=\"stroke:white;stroke-width:4\"/><line x1=\"310.497\" y1=\"279.081\" x2=\"312.5\" y2=\"281.502\" stroke-linecap=\"round\" style=\"stroke:white;stroke-width:4\"/><line x1=\"312.5\" y1=\"281.502\" x2=\"314.651\" y2=\"283.792\" stroke-linecap=\"round\" style=\"stroke:white;stroke-width:4\"/><line x1=\"314.651\" y1=\"283.792\" x2=\"316.941\" y2=\"285.943\" stroke-linecap=\"round\" style=\"stroke:white;stroke-width:4\"/><line x1=\"316.941\" y1=\"285.943\" x2=\"319.362\" y2=\"287.946\" stroke-linecap=\"round\" style=\"stroke:white;stroke-width:4\"/><line x1=\"319.362\" y1=\"287.946\" x2=\"321.904\" y2=\"289.793\" stroke-linecap=\"round\" style=\"stroke:white;stroke-width:4\"/><line x1=\"321.904\" y1=\"289.793\" x2=\"324.557\" y2=\"291.476\" stroke-linecap=\"round\" style=\"stroke:white;stroke-width:4\"/><line x1=\"324.557\" y1=\"291.476\" x2=\"327.31\" y2=\"292.989\" stroke-linecap=\"round\" style=\"stroke:white;stroke-width:4\"/><line x1=\"327.31\" y1=\"292.989\" x2=\"330.153\" y2=\"294.327\" stroke-linecap=\"round\" style=\"stroke:white;stroke-width:4\"/><line x1=\"330.153\" y1=\"294.327\" x2=\"333.074\" y2=\"295.483\" stroke-linecap=\"round\" style=\"stroke:white;stroke-width:4\"/><line x1=\"333.074\" y1=\"295.483\" x2=\"336.062\" y2=\"296.454\" stroke-linecap=\"round\" style=\"stroke:white;stroke-width:4\"/><line x1=\"336.062\" y1=\"296.454\" x2=\"339.105\" y2=\"297.235\" stroke-linecap=\"round\" style=\"stroke:white;stroke-width:4\"/><line x1=\"339.105\" y1=\"297.235\" x2=\"342.191\" y2=\"297.824\" stroke-linecap=\"round\" style=\"stroke:white;stroke-width:4\"/><line x1=\"342.191\" y1=\"297.824\" x2=\"345.308\" y2=\"298.218\" stroke-linecap=\"round\" style=\"stroke:white;stroke-width:4\"/><line x1=\"345.308\" y1=\"298.218\" x2=\"348.443\" y2=\"298.415\" stroke-linecap=\"round\" style=\"stroke:white;stroke-width:4\"/><line x1=\"348.443\" y1=\"298.415\" x2=\"351.585\" y2=\"298.415\" stroke-linecap=\"round\" style=\"stroke:white;stroke-width:4\"/><line x1=\"351.585\" y1=\"298.415\" x2=\"354.72\" y2=\"298.218\" stroke-linecap=\"round\" style=\"stroke:white;stroke-width:4\"/><line x1=\"354.72\" y1=\"298.218\" x2=\"357.837\" y2=\"297.824\" stroke-linecap=\"round\" style=\"stroke:white;stroke-width:4\"/><line x1=\"357.837\" y1=\"297.824\" x2=\"360.923\" y2=\"297.235\" stroke-linecap=\"round\" style=\"stroke:white;stroke-width:4\"/><line x1=\"360.923\" y1=\"297.235\" x2=\"363.966\" y2=\"296.454\" stroke-linecap=\"round\" style=\"stroke:white;stroke-width:4\"/><line x1=\"363.966\" y1=\"296.454\" x2=\"366.954\" y2=\"295.483\" stroke-linecap=\"round\" style=\"stroke:white;stroke-width:4\"/><line x1=\"366.954\" y1=\"295.483\" x2=\"369.875\" y2=\"294.327\" stroke-linecap=\"round\" style=\"stroke:white;stroke-width:4\"/><line x1=\"369.875\" y1=\"294.327\" x2=\"372.718\" y2=\"292.989\" stroke-linecap=\"round\" style=\"stroke:white;stroke-width:4\"/><line x1=\"372.718\" y1=\"292.989\" x2=\"375.471\" y2=\"291.476\" stroke-linecap=\"round\" style=\"stroke:white;stroke-width:4\"/><line x1=\"375.471\" y1=\"291.476\" x2=\"378.124\" y2=\"289.793\" stroke-linecap=\"round\" style=\"stroke:white;stroke-width:4\"/><line x1=\"378.124\" y1=\"289.793\" x2=\"380.666\" y2=\"287.946\" stroke-linecap=\"round\" style=\"stroke:white;stroke-width:4\"/><line x1=\"380.666\" y1=\"287.946\" x2=\"383.087\" y2=\"285.943\" stroke-linecap=\"round\" style=\"stroke:white;stroke-width:4\"/><line x1=\"383.087\" y1=\"285.943\" x2=\"385.377\" y2=\"283.792\" stroke-linecap=\"round\" style=\"stroke:white;stroke-width:4\"/><line x1=\"385.377\" y1=\"283.792\" x2=\"387.528\" y2=\"281.502\" stroke-linecap=\"round\" style=\"stroke:white;stroke-width:4\"/><line x1=\"387.528\" y1=\"281.502\" x2=\"389.531\" y2=\"279.081\" stroke-linecap=\"round\" style=\"stroke:white;stroke-width:4\"/><line x1=\"389.531\" y1=\"279.081\" x2=\"391.378\" y2=\"276.539\" stroke-linecap=\"round\" style=\"stroke:white;stroke-width:4\"/><line x1=\"391.378\" y1=\"276.539\" x2=\"393.061\" y2=\"273.886\" stroke-linecap=\"round\" style=\"stroke:white;stroke-width:4\"/><line x1=\"393.061\" y1=\"273.886\" x2=\"394.574\" y2=\"271.133\" stroke-linecap=\"round\" style=\"stroke:white;stroke-width:4\"/><line x1=\"394.574\" y1=\"271.133\" x2=\"395.912\" y2=\"268.29\" stroke-linecap=\"round\" style=\"stroke:white;stroke-width:4\"/><line x1=\"395.912\" y1=\"268.29\" x2=\"397.068\" y2=\"265.369\" stroke-linecap=\"round\" style=\"stroke:white;stroke-width:4\"/><line x1=\"397.068\" y1=\"265.369\" x2=\"398.039\" y2=\"262.381\" stroke-linecap=\"round\" style=\"stroke:white;stroke-width:4\"/><line x1=\"398.039\" y1=\"262.381\" x2=\"398.82\" y2=\"259.338\" stroke-linecap=\"round\" style=\"stroke:white;stroke-width:4\"/><line x1=\"398.82\" y1=\"259.338\" x2=\"399.409\" y2=\"256.252\" stroke-linecap=\"round\" style=\"stroke:white;stroke-width:4\"/><line x1=\"399.409\" y1=\"256.252\" x2=\"399.803\" y2=\"253.135\" stroke-linecap=\"round\" style=\"stroke:white;stroke-width:4\"/><line x1=\"399.803\" y1=\"253.135\" x2=\"400.0\" y2=\"250.0\" stroke-linecap=\"round\" style=\"stroke:white;stroke-width:4\"/>\n",
       "        <g visibility=visible transform=\"rotate(359.99999999999966,400.0,250.0) translate(382.0, 232.0)\">\n",
       "<path style=\" stroke:none;fill-rule:evenodd;fill:white;fill-opacity:1;\" d=\"M 18.214844 0.632812 C 16.109375 1.800781 15.011719 4.074219 15.074219 7.132812 L 15.085938 7.652344 L 14.785156 7.496094 C 13.476562 6.824219 11.957031 6.671875 10.40625 7.066406 C 8.46875 7.550781 6.515625 9.15625 4.394531 11.992188 C 3.0625 13.777344 2.679688 14.636719 3.042969 15.027344 L 3.15625 15.152344 L 3.519531 15.152344 C 4.238281 15.152344 4.828125 14.886719 8.1875 13.039062 C 9.386719 12.378906 10.371094 11.839844 10.378906 11.839844 C 10.386719 11.839844 10.355469 11.929688 10.304688 12.035156 C 9.832031 13.09375 9.257812 14.820312 8.96875 16.078125 C 7.914062 20.652344 8.617188 24.53125 11.070312 27.660156 C 11.351562 28.015625 11.363281 27.914062 10.972656 28.382812 C 8.925781 30.84375 7.945312 33.28125 8.238281 35.1875 C 8.289062 35.527344 8.28125 35.523438 8.917969 35.523438 C 10.941406 35.523438 13.074219 34.207031 15.136719 31.6875 C 15.359375 31.417969 15.328125 31.425781 15.5625 31.574219 C 16.292969 32.042969 18.023438 32.964844 18.175781 32.964844 C 18.335938 32.964844 19.941406 32.210938 20.828125 31.71875 C 20.996094 31.625 21.136719 31.554688 21.136719 31.558594 C 21.203125 31.664062 21.898438 32.414062 22.222656 32.730469 C 23.835938 34.300781 25.5625 35.132812 27.582031 35.300781 C 27.90625 35.328125 27.9375 35.308594 28.007812 34.984375 C 28.382812 33.242188 27.625 30.925781 25.863281 28.425781 L 25.542969 27.96875 L 25.699219 27.785156 C 28.945312 23.960938 29.132812 18.699219 26.257812 11.96875 L 26.207031 11.84375 L 27.945312 12.703125 C 31.53125 14.476562 32.316406 14.800781 33.03125 14.800781 C 33.976562 14.800781 33.78125 13.9375 32.472656 12.292969 C 28.519531 7.355469 25.394531 5.925781 21.921875 7.472656 L 21.558594 7.636719 L 21.578125 7.542969 C 21.699219 6.992188 21.761719 5.742188 21.699219 5.164062 C 21.496094 3.296875 20.664062 1.964844 19.003906 0.855469 C 18.480469 0.503906 18.457031 0.5 18.214844 0.632812\"/>\n",
       "</g>\n",
       "      </svg>\n",
       "    "
      ],
      "text/plain": [
       "<IPython.core.display.HTML object>"
      ]
     },
     "metadata": {},
     "output_type": "display_data"
    }
   ],
   "source": [
    "turtle.initializeTurtle()\n",
    "circulo_completo = turtle\n",
    "\n",
    "functionArc(circulo_completo, 50, 360)"
   ]
  },
  {
   "cell_type": "markdown",
   "metadata": {
    "id": "3_Up6P2EO5Ir"
   },
   "source": [
    "**SOLUÇÃO CHATGPT:**"
   ]
  },
  {
   "cell_type": "code",
   "execution_count": null,
   "metadata": {
    "colab": {
     "base_uri": "https://localhost:8080/",
     "height": 521
    },
    "id": "Q1-6HkuHDlBo",
    "outputId": "d757cbb6-5f2f-45e3-fc0b-7771dcbed50b"
   },
   "outputs": [
    {
     "data": {
      "text/html": [
       "\n",
       "      <svg width=\"800\" height=\"500\">\n",
       "        <rect width=\"100%\" height=\"100%\" fill=\"black\"/>\n",
       "        <line x1=\"400\" y1=\"250\" x2=\"400.0\" y2=\"248.429\" stroke-linecap=\"round\" style=\"stroke:white;stroke-width:4\"/><line x1=\"400.0\" y1=\"248.429\" x2=\"399.951\" y2=\"246.859\" stroke-linecap=\"round\" style=\"stroke:white;stroke-width:4\"/><line x1=\"399.951\" y1=\"246.859\" x2=\"399.852\" y2=\"245.291\" stroke-linecap=\"round\" style=\"stroke:white;stroke-width:4\"/><line x1=\"399.852\" y1=\"245.291\" x2=\"399.704\" y2=\"243.727\" stroke-linecap=\"round\" style=\"stroke:white;stroke-width:4\"/><line x1=\"399.704\" y1=\"243.727\" x2=\"399.507\" y2=\"242.169\" stroke-linecap=\"round\" style=\"stroke:white;stroke-width:4\"/><line x1=\"399.507\" y1=\"242.169\" x2=\"399.261\" y2=\"240.618\" stroke-linecap=\"round\" style=\"stroke:white;stroke-width:4\"/><line x1=\"399.261\" y1=\"240.618\" x2=\"398.967\" y2=\"239.075\" stroke-linecap=\"round\" style=\"stroke:white;stroke-width:4\"/><line x1=\"398.967\" y1=\"239.075\" x2=\"398.624\" y2=\"237.542\" stroke-linecap=\"round\" style=\"stroke:white;stroke-width:4\"/><line x1=\"398.624\" y1=\"237.542\" x2=\"398.233\" y2=\"236.021\" stroke-linecap=\"round\" style=\"stroke:white;stroke-width:4\"/><line x1=\"398.233\" y1=\"236.021\" x2=\"397.795\" y2=\"234.513\" stroke-linecap=\"round\" style=\"stroke:white;stroke-width:4\"/><line x1=\"397.795\" y1=\"234.513\" x2=\"397.31\" y2=\"233.019\" stroke-linecap=\"round\" style=\"stroke:white;stroke-width:4\"/><line x1=\"397.31\" y1=\"233.019\" x2=\"396.778\" y2=\"231.541\" stroke-linecap=\"round\" style=\"stroke:white;stroke-width:4\"/><line x1=\"396.778\" y1=\"231.541\" x2=\"396.2\" y2=\"230.081\" stroke-linecap=\"round\" style=\"stroke:white;stroke-width:4\"/><line x1=\"396.2\" y1=\"230.081\" x2=\"395.576\" y2=\"228.639\" stroke-linecap=\"round\" style=\"stroke:white;stroke-width:4\"/><line x1=\"395.576\" y1=\"228.639\" x2=\"394.907\" y2=\"227.218\" stroke-linecap=\"round\" style=\"stroke:white;stroke-width:4\"/><line x1=\"394.907\" y1=\"227.218\" x2=\"394.194\" y2=\"225.818\" stroke-linecap=\"round\" style=\"stroke:white;stroke-width:4\"/><line x1=\"394.194\" y1=\"225.818\" x2=\"393.437\" y2=\"224.442\" stroke-linecap=\"round\" style=\"stroke:white;stroke-width:4\"/><line x1=\"393.437\" y1=\"224.442\" x2=\"392.637\" y2=\"223.09\" stroke-linecap=\"round\" style=\"stroke:white;stroke-width:4\"/><line x1=\"392.637\" y1=\"223.09\" x2=\"391.795\" y2=\"221.764\" stroke-linecap=\"round\" style=\"stroke:white;stroke-width:4\"/><line x1=\"391.795\" y1=\"221.764\" x2=\"390.912\" y2=\"220.465\" stroke-linecap=\"round\" style=\"stroke:white;stroke-width:4\"/><line x1=\"390.912\" y1=\"220.465\" x2=\"389.989\" y2=\"219.194\" stroke-linecap=\"round\" style=\"stroke:white;stroke-width:4\"/><line x1=\"389.989\" y1=\"219.194\" x2=\"389.026\" y2=\"217.953\" stroke-linecap=\"round\" style=\"stroke:white;stroke-width:4\"/><line x1=\"389.026\" y1=\"217.953\" x2=\"388.025\" y2=\"216.743\" stroke-linecap=\"round\" style=\"stroke:white;stroke-width:4\"/><line x1=\"388.025\" y1=\"216.743\" x2=\"386.986\" y2=\"215.565\" stroke-linecap=\"round\" style=\"stroke:white;stroke-width:4\"/><line x1=\"386.986\" y1=\"215.565\" x2=\"385.911\" y2=\"214.42\" stroke-linecap=\"round\" style=\"stroke:white;stroke-width:4\"/><line x1=\"385.911\" y1=\"214.42\" x2=\"384.8\" y2=\"213.309\" stroke-linecap=\"round\" style=\"stroke:white;stroke-width:4\"/><line x1=\"384.8\" y1=\"213.309\" x2=\"383.655\" y2=\"212.234\" stroke-linecap=\"round\" style=\"stroke:white;stroke-width:4\"/><line x1=\"383.655\" y1=\"212.234\" x2=\"382.477\" y2=\"211.195\" stroke-linecap=\"round\" style=\"stroke:white;stroke-width:4\"/><line x1=\"382.477\" y1=\"211.195\" x2=\"381.267\" y2=\"210.194\" stroke-linecap=\"round\" style=\"stroke:white;stroke-width:4\"/><line x1=\"381.267\" y1=\"210.194\" x2=\"380.026\" y2=\"209.231\" stroke-linecap=\"round\" style=\"stroke:white;stroke-width:4\"/><line x1=\"380.026\" y1=\"209.231\" x2=\"378.755\" y2=\"208.308\" stroke-linecap=\"round\" style=\"stroke:white;stroke-width:4\"/><line x1=\"378.755\" y1=\"208.308\" x2=\"377.456\" y2=\"207.425\" stroke-linecap=\"round\" style=\"stroke:white;stroke-width:4\"/><line x1=\"377.456\" y1=\"207.425\" x2=\"376.13\" y2=\"206.583\" stroke-linecap=\"round\" style=\"stroke:white;stroke-width:4\"/><line x1=\"376.13\" y1=\"206.583\" x2=\"374.778\" y2=\"205.783\" stroke-linecap=\"round\" style=\"stroke:white;stroke-width:4\"/><line x1=\"374.778\" y1=\"205.783\" x2=\"373.402\" y2=\"205.026\" stroke-linecap=\"round\" style=\"stroke:white;stroke-width:4\"/><line x1=\"373.402\" y1=\"205.026\" x2=\"372.002\" y2=\"204.313\" stroke-linecap=\"round\" style=\"stroke:white;stroke-width:4\"/><line x1=\"372.002\" y1=\"204.313\" x2=\"370.581\" y2=\"203.644\" stroke-linecap=\"round\" style=\"stroke:white;stroke-width:4\"/><line x1=\"370.581\" y1=\"203.644\" x2=\"369.139\" y2=\"203.02\" stroke-linecap=\"round\" style=\"stroke:white;stroke-width:4\"/><line x1=\"369.139\" y1=\"203.02\" x2=\"367.679\" y2=\"202.442\" stroke-linecap=\"round\" style=\"stroke:white;stroke-width:4\"/><line x1=\"367.679\" y1=\"202.442\" x2=\"366.201\" y2=\"201.91\" stroke-linecap=\"round\" style=\"stroke:white;stroke-width:4\"/><line x1=\"366.201\" y1=\"201.91\" x2=\"364.707\" y2=\"201.425\" stroke-linecap=\"round\" style=\"stroke:white;stroke-width:4\"/><line x1=\"364.707\" y1=\"201.425\" x2=\"363.199\" y2=\"200.987\" stroke-linecap=\"round\" style=\"stroke:white;stroke-width:4\"/><line x1=\"363.199\" y1=\"200.987\" x2=\"361.678\" y2=\"200.596\" stroke-linecap=\"round\" style=\"stroke:white;stroke-width:4\"/><line x1=\"361.678\" y1=\"200.596\" x2=\"360.145\" y2=\"200.253\" stroke-linecap=\"round\" style=\"stroke:white;stroke-width:4\"/><line x1=\"360.145\" y1=\"200.253\" x2=\"358.602\" y2=\"199.959\" stroke-linecap=\"round\" style=\"stroke:white;stroke-width:4\"/><line x1=\"358.602\" y1=\"199.959\" x2=\"357.051\" y2=\"199.713\" stroke-linecap=\"round\" style=\"stroke:white;stroke-width:4\"/><line x1=\"357.051\" y1=\"199.713\" x2=\"355.493\" y2=\"199.516\" stroke-linecap=\"round\" style=\"stroke:white;stroke-width:4\"/><line x1=\"355.493\" y1=\"199.516\" x2=\"353.929\" y2=\"199.368\" stroke-linecap=\"round\" style=\"stroke:white;stroke-width:4\"/><line x1=\"353.929\" y1=\"199.368\" x2=\"352.361\" y2=\"199.269\" stroke-linecap=\"round\" style=\"stroke:white;stroke-width:4\"/><line x1=\"352.361\" y1=\"199.269\" x2=\"350.791\" y2=\"199.22\" stroke-linecap=\"round\" style=\"stroke:white;stroke-width:4\"/><line x1=\"350.791\" y1=\"199.22\" x2=\"349.22\" y2=\"199.22\" stroke-linecap=\"round\" style=\"stroke:white;stroke-width:4\"/><line x1=\"349.22\" y1=\"199.22\" x2=\"347.65\" y2=\"199.269\" stroke-linecap=\"round\" style=\"stroke:white;stroke-width:4\"/><line x1=\"347.65\" y1=\"199.269\" x2=\"346.082\" y2=\"199.368\" stroke-linecap=\"round\" style=\"stroke:white;stroke-width:4\"/><line x1=\"346.082\" y1=\"199.368\" x2=\"344.518\" y2=\"199.516\" stroke-linecap=\"round\" style=\"stroke:white;stroke-width:4\"/><line x1=\"344.518\" y1=\"199.516\" x2=\"342.96\" y2=\"199.713\" stroke-linecap=\"round\" style=\"stroke:white;stroke-width:4\"/><line x1=\"342.96\" y1=\"199.713\" x2=\"341.409\" y2=\"199.959\" stroke-linecap=\"round\" style=\"stroke:white;stroke-width:4\"/><line x1=\"341.409\" y1=\"199.959\" x2=\"339.866\" y2=\"200.253\" stroke-linecap=\"round\" style=\"stroke:white;stroke-width:4\"/><line x1=\"339.866\" y1=\"200.253\" x2=\"338.333\" y2=\"200.596\" stroke-linecap=\"round\" style=\"stroke:white;stroke-width:4\"/><line x1=\"338.333\" y1=\"200.596\" x2=\"336.812\" y2=\"200.987\" stroke-linecap=\"round\" style=\"stroke:white;stroke-width:4\"/><line x1=\"336.812\" y1=\"200.987\" x2=\"335.304\" y2=\"201.425\" stroke-linecap=\"round\" style=\"stroke:white;stroke-width:4\"/><line x1=\"335.304\" y1=\"201.425\" x2=\"333.81\" y2=\"201.91\" stroke-linecap=\"round\" style=\"stroke:white;stroke-width:4\"/><line x1=\"333.81\" y1=\"201.91\" x2=\"332.332\" y2=\"202.442\" stroke-linecap=\"round\" style=\"stroke:white;stroke-width:4\"/><line x1=\"332.332\" y1=\"202.442\" x2=\"330.872\" y2=\"203.02\" stroke-linecap=\"round\" style=\"stroke:white;stroke-width:4\"/><line x1=\"330.872\" y1=\"203.02\" x2=\"329.43\" y2=\"203.644\" stroke-linecap=\"round\" style=\"stroke:white;stroke-width:4\"/><line x1=\"329.43\" y1=\"203.644\" x2=\"328.009\" y2=\"204.313\" stroke-linecap=\"round\" style=\"stroke:white;stroke-width:4\"/><line x1=\"328.009\" y1=\"204.313\" x2=\"326.609\" y2=\"205.026\" stroke-linecap=\"round\" style=\"stroke:white;stroke-width:4\"/><line x1=\"326.609\" y1=\"205.026\" x2=\"325.233\" y2=\"205.783\" stroke-linecap=\"round\" style=\"stroke:white;stroke-width:4\"/><line x1=\"325.233\" y1=\"205.783\" x2=\"323.881\" y2=\"206.583\" stroke-linecap=\"round\" style=\"stroke:white;stroke-width:4\"/><line x1=\"323.881\" y1=\"206.583\" x2=\"322.555\" y2=\"207.425\" stroke-linecap=\"round\" style=\"stroke:white;stroke-width:4\"/><line x1=\"322.555\" y1=\"207.425\" x2=\"321.256\" y2=\"208.308\" stroke-linecap=\"round\" style=\"stroke:white;stroke-width:4\"/><line x1=\"321.256\" y1=\"208.308\" x2=\"319.985\" y2=\"209.231\" stroke-linecap=\"round\" style=\"stroke:white;stroke-width:4\"/><line x1=\"319.985\" y1=\"209.231\" x2=\"318.744\" y2=\"210.194\" stroke-linecap=\"round\" style=\"stroke:white;stroke-width:4\"/><line x1=\"318.744\" y1=\"210.194\" x2=\"317.534\" y2=\"211.195\" stroke-linecap=\"round\" style=\"stroke:white;stroke-width:4\"/><line x1=\"317.534\" y1=\"211.195\" x2=\"316.356\" y2=\"212.234\" stroke-linecap=\"round\" style=\"stroke:white;stroke-width:4\"/><line x1=\"316.356\" y1=\"212.234\" x2=\"315.211\" y2=\"213.309\" stroke-linecap=\"round\" style=\"stroke:white;stroke-width:4\"/><line x1=\"315.211\" y1=\"213.309\" x2=\"314.1\" y2=\"214.42\" stroke-linecap=\"round\" style=\"stroke:white;stroke-width:4\"/><line x1=\"314.1\" y1=\"214.42\" x2=\"313.025\" y2=\"215.565\" stroke-linecap=\"round\" style=\"stroke:white;stroke-width:4\"/><line x1=\"313.025\" y1=\"215.565\" x2=\"311.986\" y2=\"216.743\" stroke-linecap=\"round\" style=\"stroke:white;stroke-width:4\"/><line x1=\"311.986\" y1=\"216.743\" x2=\"310.985\" y2=\"217.953\" stroke-linecap=\"round\" style=\"stroke:white;stroke-width:4\"/><line x1=\"310.985\" y1=\"217.953\" x2=\"310.022\" y2=\"219.194\" stroke-linecap=\"round\" style=\"stroke:white;stroke-width:4\"/><line x1=\"310.022\" y1=\"219.194\" x2=\"309.099\" y2=\"220.465\" stroke-linecap=\"round\" style=\"stroke:white;stroke-width:4\"/><line x1=\"309.099\" y1=\"220.465\" x2=\"308.216\" y2=\"221.764\" stroke-linecap=\"round\" style=\"stroke:white;stroke-width:4\"/><line x1=\"308.216\" y1=\"221.764\" x2=\"307.374\" y2=\"223.09\" stroke-linecap=\"round\" style=\"stroke:white;stroke-width:4\"/><line x1=\"307.374\" y1=\"223.09\" x2=\"306.574\" y2=\"224.442\" stroke-linecap=\"round\" style=\"stroke:white;stroke-width:4\"/><line x1=\"306.574\" y1=\"224.442\" x2=\"305.817\" y2=\"225.818\" stroke-linecap=\"round\" style=\"stroke:white;stroke-width:4\"/><line x1=\"305.817\" y1=\"225.818\" x2=\"305.104\" y2=\"227.218\" stroke-linecap=\"round\" style=\"stroke:white;stroke-width:4\"/><line x1=\"305.104\" y1=\"227.218\" x2=\"304.435\" y2=\"228.639\" stroke-linecap=\"round\" style=\"stroke:white;stroke-width:4\"/><line x1=\"304.435\" y1=\"228.639\" x2=\"303.811\" y2=\"230.081\" stroke-linecap=\"round\" style=\"stroke:white;stroke-width:4\"/><line x1=\"303.811\" y1=\"230.081\" x2=\"303.233\" y2=\"231.541\" stroke-linecap=\"round\" style=\"stroke:white;stroke-width:4\"/><line x1=\"303.233\" y1=\"231.541\" x2=\"302.701\" y2=\"233.019\" stroke-linecap=\"round\" style=\"stroke:white;stroke-width:4\"/><line x1=\"302.701\" y1=\"233.019\" x2=\"302.216\" y2=\"234.513\" stroke-linecap=\"round\" style=\"stroke:white;stroke-width:4\"/><line x1=\"302.216\" y1=\"234.513\" x2=\"301.778\" y2=\"236.021\" stroke-linecap=\"round\" style=\"stroke:white;stroke-width:4\"/><line x1=\"301.778\" y1=\"236.021\" x2=\"301.387\" y2=\"237.542\" stroke-linecap=\"round\" style=\"stroke:white;stroke-width:4\"/><line x1=\"301.387\" y1=\"237.542\" x2=\"301.044\" y2=\"239.075\" stroke-linecap=\"round\" style=\"stroke:white;stroke-width:4\"/><line x1=\"301.044\" y1=\"239.075\" x2=\"300.75\" y2=\"240.618\" stroke-linecap=\"round\" style=\"stroke:white;stroke-width:4\"/><line x1=\"300.75\" y1=\"240.618\" x2=\"300.504\" y2=\"242.169\" stroke-linecap=\"round\" style=\"stroke:white;stroke-width:4\"/><line x1=\"300.504\" y1=\"242.169\" x2=\"300.307\" y2=\"243.727\" stroke-linecap=\"round\" style=\"stroke:white;stroke-width:4\"/><line x1=\"300.307\" y1=\"243.727\" x2=\"300.159\" y2=\"245.291\" stroke-linecap=\"round\" style=\"stroke:white;stroke-width:4\"/><line x1=\"300.159\" y1=\"245.291\" x2=\"300.06\" y2=\"246.859\" stroke-linecap=\"round\" style=\"stroke:white;stroke-width:4\"/><line x1=\"300.06\" y1=\"246.859\" x2=\"300.011\" y2=\"248.429\" stroke-linecap=\"round\" style=\"stroke:white;stroke-width:4\"/>\n",
       "        <g visibility=visible transform=\"rotate(179.99999999999918,300.011,248.429) translate(282.011, 230.429)\">\n",
       "<path style=\" stroke:none;fill-rule:evenodd;fill:white;fill-opacity:1;\" d=\"M 18.214844 0.632812 C 16.109375 1.800781 15.011719 4.074219 15.074219 7.132812 L 15.085938 7.652344 L 14.785156 7.496094 C 13.476562 6.824219 11.957031 6.671875 10.40625 7.066406 C 8.46875 7.550781 6.515625 9.15625 4.394531 11.992188 C 3.0625 13.777344 2.679688 14.636719 3.042969 15.027344 L 3.15625 15.152344 L 3.519531 15.152344 C 4.238281 15.152344 4.828125 14.886719 8.1875 13.039062 C 9.386719 12.378906 10.371094 11.839844 10.378906 11.839844 C 10.386719 11.839844 10.355469 11.929688 10.304688 12.035156 C 9.832031 13.09375 9.257812 14.820312 8.96875 16.078125 C 7.914062 20.652344 8.617188 24.53125 11.070312 27.660156 C 11.351562 28.015625 11.363281 27.914062 10.972656 28.382812 C 8.925781 30.84375 7.945312 33.28125 8.238281 35.1875 C 8.289062 35.527344 8.28125 35.523438 8.917969 35.523438 C 10.941406 35.523438 13.074219 34.207031 15.136719 31.6875 C 15.359375 31.417969 15.328125 31.425781 15.5625 31.574219 C 16.292969 32.042969 18.023438 32.964844 18.175781 32.964844 C 18.335938 32.964844 19.941406 32.210938 20.828125 31.71875 C 20.996094 31.625 21.136719 31.554688 21.136719 31.558594 C 21.203125 31.664062 21.898438 32.414062 22.222656 32.730469 C 23.835938 34.300781 25.5625 35.132812 27.582031 35.300781 C 27.90625 35.328125 27.9375 35.308594 28.007812 34.984375 C 28.382812 33.242188 27.625 30.925781 25.863281 28.425781 L 25.542969 27.96875 L 25.699219 27.785156 C 28.945312 23.960938 29.132812 18.699219 26.257812 11.96875 L 26.207031 11.84375 L 27.945312 12.703125 C 31.53125 14.476562 32.316406 14.800781 33.03125 14.800781 C 33.976562 14.800781 33.78125 13.9375 32.472656 12.292969 C 28.519531 7.355469 25.394531 5.925781 21.921875 7.472656 L 21.558594 7.636719 L 21.578125 7.542969 C 21.699219 6.992188 21.761719 5.742188 21.699219 5.164062 C 21.496094 3.296875 20.664062 1.964844 19.003906 0.855469 C 18.480469 0.503906 18.457031 0.5 18.214844 0.632812\"/>\n",
       "</g>\n",
       "      </svg>\n",
       "    "
      ],
      "text/plain": [
       "<IPython.core.display.HTML object>"
      ]
     },
     "metadata": {},
     "output_type": "display_data"
    }
   ],
   "source": [
    "import math\n",
    "import ColabTurtle.Turtle as turtle\n",
    "\n",
    "# Função para desenhar um polígono regular\n",
    "def functionPolygon(t, num_lados, comprimento_lado):\n",
    "    for _ in range(num_lados):\n",
    "        t.forward(comprimento_lado)\n",
    "        t.left(360 / num_lados)\n",
    "\n",
    "# Função para desenhar um arco\n",
    "def functionArc(t, r, angle):\n",
    "    n = 100  # Número de segmentos que compõem o arco\n",
    "    rotacao = angle / n  # Ângulo de rotação por segmento\n",
    "\n",
    "    # Comprimento do arco correspondente ao ângulo dado\n",
    "    comprimento_arco = 2 * math.pi * r * (angle / 360)\n",
    "    # Comprimento de cada segmento do arco\n",
    "    side_length = comprimento_arco / n\n",
    "\n",
    "    # Desenhar o arco usando a função functionPolygon\n",
    "    for _ in range(n):\n",
    "        t.forward(side_length)\n",
    "        t.left(rotacao)\n",
    "\n",
    "# Inicialização da tartaruga\n",
    "turtle.initializeTurtle()\n",
    "t = turtle\n",
    "\n",
    "# Parâmetros\n",
    "r = 50       # Raio do círculo\n",
    "angle = 180  # Ângulo do arco em graus\n",
    "\n",
    "# Desenha o arco\n",
    "functionArc(t, r, angle)"
   ]
  },
  {
   "cell_type": "markdown",
   "metadata": {
    "id": "N72jAnCfXgaz"
   },
   "source": [
    "<h1> <b> SOLUÇÕES </b> </h1>"
   ]
  },
  {
   "cell_type": "markdown",
   "metadata": {
    "id": "OSl9iCbjNMhr"
   },
   "source": [
    "<h1>4.4 - Encapsulamento</h1>"
   ]
  },
  {
   "cell_type": "markdown",
   "metadata": {
    "id": "uHnMuxmAVn0d"
   },
   "source": [
    "Incluir uma parte do código em uma função chama-se encapsulamento. Um dos benefícios do encapsulamento é que ele atribui um nome ao código, o que serve como uma espécie de documentação. Outra vantagem é que se você reutilizar o código, é mais conciso chamar uma função duas vezes que copiar e colar o corpo."
   ]
  },
  {
   "cell_type": "markdown",
   "metadata": {
    "id": "vhP_CbdaY_RX"
   },
   "source": [
    "Quando você cria uma função, você dá um nome a esse pedaço de código. Isso é como dar um título para um parágrafo em um livro. Facilita a leitura e entendimento do que aquele pedaço de código faz."
   ]
  },
  {
   "cell_type": "markdown",
   "metadata": {
    "id": "PxaWE47LZRFM"
   },
   "source": [
    "**Isso é o encapsulamento: tornar o código mais organizado, legível e reutilizável.**"
   ]
  },
  {
   "cell_type": "code",
   "execution_count": null,
   "metadata": {
    "colab": {
     "base_uri": "https://localhost:8080/",
     "height": 521
    },
    "id": "1UL74__EV402",
    "outputId": "bc890739-0be6-404e-f09b-aa12bb754ff1"
   },
   "outputs": [
    {
     "data": {
      "text/html": [
       "\n",
       "      <svg width=\"800\" height=\"500\">\n",
       "        <rect width=\"100%\" height=\"100%\" fill=\"black\"/>\n",
       "        <line x1=\"400\" y1=\"250\" x2=\"400.0\" y2=\"150.0\" stroke-linecap=\"round\" style=\"stroke:white;stroke-width:4\"/><line x1=\"400.0\" y1=\"150.0\" x2=\"300.0\" y2=\"150.0\" stroke-linecap=\"round\" style=\"stroke:white;stroke-width:4\"/><line x1=\"300.0\" y1=\"150.0\" x2=\"300.0\" y2=\"250.0\" stroke-linecap=\"round\" style=\"stroke:white;stroke-width:4\"/><line x1=\"300.0\" y1=\"250.0\" x2=\"400.0\" y2=\"250.0\" stroke-linecap=\"round\" style=\"stroke:white;stroke-width:4\"/>\n",
       "        <g visibility=visible transform=\"rotate(360,400.0,250.0) translate(382.0, 232.0)\">\n",
       "<path style=\" stroke:none;fill-rule:evenodd;fill:white;fill-opacity:1;\" d=\"M 18.214844 0.632812 C 16.109375 1.800781 15.011719 4.074219 15.074219 7.132812 L 15.085938 7.652344 L 14.785156 7.496094 C 13.476562 6.824219 11.957031 6.671875 10.40625 7.066406 C 8.46875 7.550781 6.515625 9.15625 4.394531 11.992188 C 3.0625 13.777344 2.679688 14.636719 3.042969 15.027344 L 3.15625 15.152344 L 3.519531 15.152344 C 4.238281 15.152344 4.828125 14.886719 8.1875 13.039062 C 9.386719 12.378906 10.371094 11.839844 10.378906 11.839844 C 10.386719 11.839844 10.355469 11.929688 10.304688 12.035156 C 9.832031 13.09375 9.257812 14.820312 8.96875 16.078125 C 7.914062 20.652344 8.617188 24.53125 11.070312 27.660156 C 11.351562 28.015625 11.363281 27.914062 10.972656 28.382812 C 8.925781 30.84375 7.945312 33.28125 8.238281 35.1875 C 8.289062 35.527344 8.28125 35.523438 8.917969 35.523438 C 10.941406 35.523438 13.074219 34.207031 15.136719 31.6875 C 15.359375 31.417969 15.328125 31.425781 15.5625 31.574219 C 16.292969 32.042969 18.023438 32.964844 18.175781 32.964844 C 18.335938 32.964844 19.941406 32.210938 20.828125 31.71875 C 20.996094 31.625 21.136719 31.554688 21.136719 31.558594 C 21.203125 31.664062 21.898438 32.414062 22.222656 32.730469 C 23.835938 34.300781 25.5625 35.132812 27.582031 35.300781 C 27.90625 35.328125 27.9375 35.308594 28.007812 34.984375 C 28.382812 33.242188 27.625 30.925781 25.863281 28.425781 L 25.542969 27.96875 L 25.699219 27.785156 C 28.945312 23.960938 29.132812 18.699219 26.257812 11.96875 L 26.207031 11.84375 L 27.945312 12.703125 C 31.53125 14.476562 32.316406 14.800781 33.03125 14.800781 C 33.976562 14.800781 33.78125 13.9375 32.472656 12.292969 C 28.519531 7.355469 25.394531 5.925781 21.921875 7.472656 L 21.558594 7.636719 L 21.578125 7.542969 C 21.699219 6.992188 21.761719 5.742188 21.699219 5.164062 C 21.496094 3.296875 20.664062 1.964844 19.003906 0.855469 C 18.480469 0.503906 18.457031 0.5 18.214844 0.632812\"/>\n",
       "</g>\n",
       "      </svg>\n",
       "    "
      ],
      "text/plain": [
       "<IPython.core.display.HTML object>"
      ]
     },
     "metadata": {},
     "output_type": "display_data"
    }
   ],
   "source": [
    "turtle.initializeTurtle()\n",
    "\n",
    "def square(t):\n",
    "  for i in range(4):\n",
    "    t.fd(100)\n",
    "    t.lt(90)\n",
    "\n",
    "bob = turtle\n",
    "square(bob)"
   ]
  },
  {
   "cell_type": "markdown",
   "metadata": {
    "id": "79dokQ6MXRNl"
   },
   "source": [
    "A ideia é que t pode ser qualquer turtle, não apenas bob, então você pode criar um segundo turtle e passá-lo como argumento ao square."
   ]
  },
  {
   "cell_type": "code",
   "execution_count": null,
   "metadata": {
    "colab": {
     "base_uri": "https://localhost:8080/",
     "height": 521
    },
    "id": "o4tCML53VtNN",
    "outputId": "90756cfc-12a5-4c1c-8748-640056bf92da"
   },
   "outputs": [
    {
     "data": {
      "text/html": [
       "\n",
       "      <svg width=\"800\" height=\"500\">\n",
       "        <rect width=\"100%\" height=\"100%\" fill=\"black\"/>\n",
       "        <line x1=\"400\" y1=\"250\" x2=\"400.0\" y2=\"150.0\" stroke-linecap=\"round\" style=\"stroke:white;stroke-width:4\"/><line x1=\"400.0\" y1=\"150.0\" x2=\"300.0\" y2=\"150.0\" stroke-linecap=\"round\" style=\"stroke:white;stroke-width:4\"/><line x1=\"300.0\" y1=\"150.0\" x2=\"300.0\" y2=\"250.0\" stroke-linecap=\"round\" style=\"stroke:white;stroke-width:4\"/><line x1=\"300.0\" y1=\"250.0\" x2=\"400.0\" y2=\"250.0\" stroke-linecap=\"round\" style=\"stroke:white;stroke-width:4\"/><line x1=\"400.0\" y1=\"250.0\" x2=\"400.0\" y2=\"150.0\" stroke-linecap=\"round\" style=\"stroke:white;stroke-width:4\"/><line x1=\"400.0\" y1=\"150.0\" x2=\"300.0\" y2=\"150.0\" stroke-linecap=\"round\" style=\"stroke:white;stroke-width:4\"/><line x1=\"300.0\" y1=\"150.0\" x2=\"300.0\" y2=\"250.0\" stroke-linecap=\"round\" style=\"stroke:white;stroke-width:4\"/><line x1=\"300.0\" y1=\"250.0\" x2=\"400.0\" y2=\"250.0\" stroke-linecap=\"round\" style=\"stroke:white;stroke-width:4\"/>\n",
       "        <g visibility=visible transform=\"rotate(360,400.0,250.0) translate(382.0, 232.0)\">\n",
       "<path style=\" stroke:none;fill-rule:evenodd;fill:white;fill-opacity:1;\" d=\"M 18.214844 0.632812 C 16.109375 1.800781 15.011719 4.074219 15.074219 7.132812 L 15.085938 7.652344 L 14.785156 7.496094 C 13.476562 6.824219 11.957031 6.671875 10.40625 7.066406 C 8.46875 7.550781 6.515625 9.15625 4.394531 11.992188 C 3.0625 13.777344 2.679688 14.636719 3.042969 15.027344 L 3.15625 15.152344 L 3.519531 15.152344 C 4.238281 15.152344 4.828125 14.886719 8.1875 13.039062 C 9.386719 12.378906 10.371094 11.839844 10.378906 11.839844 C 10.386719 11.839844 10.355469 11.929688 10.304688 12.035156 C 9.832031 13.09375 9.257812 14.820312 8.96875 16.078125 C 7.914062 20.652344 8.617188 24.53125 11.070312 27.660156 C 11.351562 28.015625 11.363281 27.914062 10.972656 28.382812 C 8.925781 30.84375 7.945312 33.28125 8.238281 35.1875 C 8.289062 35.527344 8.28125 35.523438 8.917969 35.523438 C 10.941406 35.523438 13.074219 34.207031 15.136719 31.6875 C 15.359375 31.417969 15.328125 31.425781 15.5625 31.574219 C 16.292969 32.042969 18.023438 32.964844 18.175781 32.964844 C 18.335938 32.964844 19.941406 32.210938 20.828125 31.71875 C 20.996094 31.625 21.136719 31.554688 21.136719 31.558594 C 21.203125 31.664062 21.898438 32.414062 22.222656 32.730469 C 23.835938 34.300781 25.5625 35.132812 27.582031 35.300781 C 27.90625 35.328125 27.9375 35.308594 28.007812 34.984375 C 28.382812 33.242188 27.625 30.925781 25.863281 28.425781 L 25.542969 27.96875 L 25.699219 27.785156 C 28.945312 23.960938 29.132812 18.699219 26.257812 11.96875 L 26.207031 11.84375 L 27.945312 12.703125 C 31.53125 14.476562 32.316406 14.800781 33.03125 14.800781 C 33.976562 14.800781 33.78125 13.9375 32.472656 12.292969 C 28.519531 7.355469 25.394531 5.925781 21.921875 7.472656 L 21.558594 7.636719 L 21.578125 7.542969 C 21.699219 6.992188 21.761719 5.742188 21.699219 5.164062 C 21.496094 3.296875 20.664062 1.964844 19.003906 0.855469 C 18.480469 0.503906 18.457031 0.5 18.214844 0.632812\"/>\n",
       "</g>\n",
       "      </svg>\n",
       "    "
      ],
      "text/plain": [
       "<IPython.core.display.HTML object>"
      ]
     },
     "metadata": {},
     "output_type": "display_data"
    }
   ],
   "source": [
    "alice = turtle\n",
    "square(alice)"
   ]
  },
  {
   "cell_type": "markdown",
   "metadata": {
    "id": "j8q1T1ufXYrq"
   },
   "source": [
    "<h1> 4.5 - Generalização </h1>"
   ]
  },
  {
   "cell_type": "markdown",
   "metadata": {
    "id": "TI7r9G5IgAJ4"
   },
   "source": [
    "Generalização é quando você adiciona parâmetros a uma função para que ela possa ser usada em mais situações diferentes.\n",
    "\n",
    "- Uma função que aceita parâmetros pode fazer mais coisas. Ela não está limitada a uma única tarefa específica.\n",
    "\n",
    "- Com parâmetros, você pode usar a mesma função para diferentes entradas, tornando seu código mais reutilizável e versátil.\n",
    "\n",
    "**Isso é a generalização: tornar a função mais flexível e útil em mais situações diferentes.**"
   ]
  },
  {
   "cell_type": "markdown",
   "metadata": {
    "id": "hM6AjLZoXpUb"
   },
   "source": [
    "O próximo passo é acrescentar um parâmetro length ao square:"
   ]
  },
  {
   "cell_type": "code",
   "execution_count": null,
   "metadata": {
    "id": "alqPnL2OXbG3"
   },
   "outputs": [],
   "source": [
    "def square(t, length):\n",
    "  for i in range(4):\n",
    "    t.fd(length)\n",
    "    t.lt(90)"
   ]
  },
  {
   "cell_type": "code",
   "execution_count": null,
   "metadata": {
    "colab": {
     "base_uri": "https://localhost:8080/",
     "height": 521
    },
    "id": "q2z-eD4OXrVo",
    "outputId": "bb00ed74-1f03-4039-f61a-f9c3ef88572c"
   },
   "outputs": [
    {
     "data": {
      "text/html": [
       "\n",
       "      <svg width=\"800\" height=\"500\">\n",
       "        <rect width=\"100%\" height=\"100%\" fill=\"black\"/>\n",
       "        <line x1=\"400\" y1=\"250\" x2=\"400.0\" y2=\"150.0\" stroke-linecap=\"round\" style=\"stroke:white;stroke-width:4\"/><line x1=\"400.0\" y1=\"150.0\" x2=\"300.0\" y2=\"150.0\" stroke-linecap=\"round\" style=\"stroke:white;stroke-width:4\"/><line x1=\"300.0\" y1=\"150.0\" x2=\"300.0\" y2=\"250.0\" stroke-linecap=\"round\" style=\"stroke:white;stroke-width:4\"/><line x1=\"300.0\" y1=\"250.0\" x2=\"400.0\" y2=\"250.0\" stroke-linecap=\"round\" style=\"stroke:white;stroke-width:4\"/>\n",
       "        <g visibility=visible transform=\"rotate(360,400.0,250.0) translate(382.0, 232.0)\">\n",
       "<path style=\" stroke:none;fill-rule:evenodd;fill:white;fill-opacity:1;\" d=\"M 18.214844 0.632812 C 16.109375 1.800781 15.011719 4.074219 15.074219 7.132812 L 15.085938 7.652344 L 14.785156 7.496094 C 13.476562 6.824219 11.957031 6.671875 10.40625 7.066406 C 8.46875 7.550781 6.515625 9.15625 4.394531 11.992188 C 3.0625 13.777344 2.679688 14.636719 3.042969 15.027344 L 3.15625 15.152344 L 3.519531 15.152344 C 4.238281 15.152344 4.828125 14.886719 8.1875 13.039062 C 9.386719 12.378906 10.371094 11.839844 10.378906 11.839844 C 10.386719 11.839844 10.355469 11.929688 10.304688 12.035156 C 9.832031 13.09375 9.257812 14.820312 8.96875 16.078125 C 7.914062 20.652344 8.617188 24.53125 11.070312 27.660156 C 11.351562 28.015625 11.363281 27.914062 10.972656 28.382812 C 8.925781 30.84375 7.945312 33.28125 8.238281 35.1875 C 8.289062 35.527344 8.28125 35.523438 8.917969 35.523438 C 10.941406 35.523438 13.074219 34.207031 15.136719 31.6875 C 15.359375 31.417969 15.328125 31.425781 15.5625 31.574219 C 16.292969 32.042969 18.023438 32.964844 18.175781 32.964844 C 18.335938 32.964844 19.941406 32.210938 20.828125 31.71875 C 20.996094 31.625 21.136719 31.554688 21.136719 31.558594 C 21.203125 31.664062 21.898438 32.414062 22.222656 32.730469 C 23.835938 34.300781 25.5625 35.132812 27.582031 35.300781 C 27.90625 35.328125 27.9375 35.308594 28.007812 34.984375 C 28.382812 33.242188 27.625 30.925781 25.863281 28.425781 L 25.542969 27.96875 L 25.699219 27.785156 C 28.945312 23.960938 29.132812 18.699219 26.257812 11.96875 L 26.207031 11.84375 L 27.945312 12.703125 C 31.53125 14.476562 32.316406 14.800781 33.03125 14.800781 C 33.976562 14.800781 33.78125 13.9375 32.472656 12.292969 C 28.519531 7.355469 25.394531 5.925781 21.921875 7.472656 L 21.558594 7.636719 L 21.578125 7.542969 C 21.699219 6.992188 21.761719 5.742188 21.699219 5.164062 C 21.496094 3.296875 20.664062 1.964844 19.003906 0.855469 C 18.480469 0.503906 18.457031 0.5 18.214844 0.632812\"/>\n",
       "</g>\n",
       "      </svg>\n",
       "    "
      ],
      "text/plain": [
       "<IPython.core.display.HTML object>"
      ]
     },
     "metadata": {},
     "output_type": "display_data"
    }
   ],
   "source": [
    "turtle.initializeTurtle()\n",
    "square(bob, 100)"
   ]
  },
  {
   "cell_type": "markdown",
   "metadata": {
    "id": "Tt5EBxAThWpf"
   },
   "source": [
    "O próximo passo também é uma generalização. Em vez de desenhar quadrados, polygon desenha polígonos regulares com qualquer número de lados."
   ]
  },
  {
   "cell_type": "code",
   "execution_count": null,
   "metadata": {
    "colab": {
     "base_uri": "https://localhost:8080/",
     "height": 521
    },
    "id": "Z0SnUgZaXuql",
    "outputId": "bf36597d-3137-4c98-9ed0-452bf21cb673"
   },
   "outputs": [
    {
     "data": {
      "text/html": [
       "\n",
       "      <svg width=\"800\" height=\"500\">\n",
       "        <rect width=\"100%\" height=\"100%\" fill=\"black\"/>\n",
       "        <line x1=\"400\" y1=\"250\" x2=\"400.0\" y2=\"180.0\" stroke-linecap=\"round\" style=\"stroke:white;stroke-width:4\"/><line x1=\"400.0\" y1=\"180.0\" x2=\"345.272\" y2=\"136.356\" stroke-linecap=\"round\" style=\"stroke:white;stroke-width:4\"/><line x1=\"345.272\" y1=\"136.356\" x2=\"277.027\" y2=\"151.932\" stroke-linecap=\"round\" style=\"stroke:white;stroke-width:4\"/><line x1=\"277.027\" y1=\"151.932\" x2=\"246.655\" y2=\"215.0\" stroke-linecap=\"round\" style=\"stroke:white;stroke-width:4\"/><line x1=\"246.655\" y1=\"215.0\" x2=\"277.027\" y2=\"278.068\" stroke-linecap=\"round\" style=\"stroke:white;stroke-width:4\"/><line x1=\"277.027\" y1=\"278.068\" x2=\"345.272\" y2=\"293.644\" stroke-linecap=\"round\" style=\"stroke:white;stroke-width:4\"/><line x1=\"345.272\" y1=\"293.644\" x2=\"400.0\" y2=\"250.0\" stroke-linecap=\"round\" style=\"stroke:white;stroke-width:4\"/>\n",
       "        <g visibility=visible transform=\"rotate(359.99999999999994,400.0,250.0) translate(382.0, 232.0)\">\n",
       "<path style=\" stroke:none;fill-rule:evenodd;fill:white;fill-opacity:1;\" d=\"M 18.214844 0.632812 C 16.109375 1.800781 15.011719 4.074219 15.074219 7.132812 L 15.085938 7.652344 L 14.785156 7.496094 C 13.476562 6.824219 11.957031 6.671875 10.40625 7.066406 C 8.46875 7.550781 6.515625 9.15625 4.394531 11.992188 C 3.0625 13.777344 2.679688 14.636719 3.042969 15.027344 L 3.15625 15.152344 L 3.519531 15.152344 C 4.238281 15.152344 4.828125 14.886719 8.1875 13.039062 C 9.386719 12.378906 10.371094 11.839844 10.378906 11.839844 C 10.386719 11.839844 10.355469 11.929688 10.304688 12.035156 C 9.832031 13.09375 9.257812 14.820312 8.96875 16.078125 C 7.914062 20.652344 8.617188 24.53125 11.070312 27.660156 C 11.351562 28.015625 11.363281 27.914062 10.972656 28.382812 C 8.925781 30.84375 7.945312 33.28125 8.238281 35.1875 C 8.289062 35.527344 8.28125 35.523438 8.917969 35.523438 C 10.941406 35.523438 13.074219 34.207031 15.136719 31.6875 C 15.359375 31.417969 15.328125 31.425781 15.5625 31.574219 C 16.292969 32.042969 18.023438 32.964844 18.175781 32.964844 C 18.335938 32.964844 19.941406 32.210938 20.828125 31.71875 C 20.996094 31.625 21.136719 31.554688 21.136719 31.558594 C 21.203125 31.664062 21.898438 32.414062 22.222656 32.730469 C 23.835938 34.300781 25.5625 35.132812 27.582031 35.300781 C 27.90625 35.328125 27.9375 35.308594 28.007812 34.984375 C 28.382812 33.242188 27.625 30.925781 25.863281 28.425781 L 25.542969 27.96875 L 25.699219 27.785156 C 28.945312 23.960938 29.132812 18.699219 26.257812 11.96875 L 26.207031 11.84375 L 27.945312 12.703125 C 31.53125 14.476562 32.316406 14.800781 33.03125 14.800781 C 33.976562 14.800781 33.78125 13.9375 32.472656 12.292969 C 28.519531 7.355469 25.394531 5.925781 21.921875 7.472656 L 21.558594 7.636719 L 21.578125 7.542969 C 21.699219 6.992188 21.761719 5.742188 21.699219 5.164062 C 21.496094 3.296875 20.664062 1.964844 19.003906 0.855469 C 18.480469 0.503906 18.457031 0.5 18.214844 0.632812\"/>\n",
       "</g>\n",
       "      </svg>\n",
       "    "
      ],
      "text/plain": [
       "<IPython.core.display.HTML object>"
      ]
     },
     "metadata": {},
     "output_type": "display_data"
    }
   ],
   "source": [
    "turtle.initializeTurtle()\n",
    "\n",
    "def polygon(t, n, length):\n",
    "  angle = 360/n\n",
    "\n",
    "  for i in range(n):\n",
    "    t.fd(length)\n",
    "    t.lt(angle)\n",
    "\n",
    "polygon(bob, 7, 70) # Este exemplo desenha um polígono de 7 lados, cada um de comprimento 70."
   ]
  },
  {
   "cell_type": "markdown",
   "metadata": {
    "id": "Tiv0QAVlmBk4"
   },
   "source": [
    "Quando uma função tem vários argumentos numéricos, é fácil esquecer o que eles são ou a ordem na qual eles devem estar. Neste caso, muitas vezes é uma boa ideia incluir os nomes dos parâmetros na lista de argumentos: polygon (bob, n=7, length=70)"
   ]
  },
  {
   "cell_type": "markdown",
   "metadata": {
    "id": "jZ14JNUnmArW"
   },
   "source": [
    "Esses são os **argumentos de palavra-chave** porque incluem os nomes dos parâmetros como **“palavras-chave”** (para não confundir com palavras-chave do Python, tais como while e def)."
   ]
  },
  {
   "cell_type": "markdown",
   "metadata": {
    "id": "0PbclANDmPFi"
   },
   "source": [
    "<h1> 4.6 - Projeto da interface </h1>"
   ]
  },
  {
   "cell_type": "markdown",
   "metadata": {
    "id": "nBYTobaHm92Z"
   },
   "source": [
    "O próximo passo é escrever circle, que recebe um raio r, como parâmetro."
   ]
  },
  {
   "cell_type": "markdown",
   "metadata": {
    "id": "gkL1fLIdnZPb"
   },
   "source": [
    "A primeira linha calcula a circunferência de um círculo com o raio r usando a fórmula 2πr. Já que usamos math.pi, temos que importar math. Por convenção, instruções import normalmente ficam no início do script.\n",
    "n é o número de segmentos de reta na nossa aproximação de um círculo, então length é o comprimento de cada segmento."
   ]
  },
  {
   "cell_type": "code",
   "execution_count": null,
   "metadata": {
    "id": "qLMqR89UhoJA"
   },
   "outputs": [],
   "source": [
    "import math\n",
    "\n",
    "def circle(t, r):\n",
    "  circumference = 2 * math.pi * r\n",
    "  n = 50\n",
    "  length = circumference / n\n",
    "\n",
    "  polygon(t, n, length)"
   ]
  },
  {
   "cell_type": "markdown",
   "metadata": {
    "id": "NJtifBMHo0D7"
   },
   "source": [
    "Generalizando a função para tomar n como um parâmetro, seria:"
   ]
  },
  {
   "cell_type": "code",
   "execution_count": null,
   "metadata": {
    "id": "LiZRB6BGnDoO"
   },
   "outputs": [],
   "source": [
    "def circle(t, r, n):\n",
    "    circumference = 2 * math.pi * r\n",
    "    length = circumference / n\n",
    "    polygon(t, n, length)"
   ]
  },
  {
   "cell_type": "markdown",
   "metadata": {
    "id": "c7FHax5QpHT_"
   },
   "source": [
    "A interface de uma função é um resumo de como ela é usada: Quais são os parâmetros? O que a função faz? E qual é o valor de retorno? Uma interface é “limpa” se permitir à pessoa que a chama fazer o que quiser sem ter que lidar com detalhes desnecessários."
   ]
  },
  {
   "cell_type": "markdown",
   "metadata": {
    "id": "yCXG6Xt7pORX"
   },
   "source": [
    "Neste exemplo, r pertence à interface porque especifica o círculo a ser desenhado. n é menos adequado porque pertence aos detalhes de como o círculo deve ser apresentado."
   ]
  },
  {
   "cell_type": "markdown",
   "metadata": {
    "id": "kT_Fdeb-pSn-"
   },
   "source": [
    "Em vez de poluir a interface, é melhor escolher um valor adequado para n, dependendo da circumference:"
   ]
  },
  {
   "cell_type": "code",
   "execution_count": null,
   "metadata": {
    "id": "mAfLek_Zo12q"
   },
   "outputs": [],
   "source": [
    "def circle(t, r):\n",
    "  circumference = 2 * math.pi * r\n",
    "  n = int(circumference / 3) + 1\n",
    "  length = circumference / n\n",
    "\n",
    "  polygon(t, n, length)"
   ]
  },
  {
   "cell_type": "markdown",
   "metadata": {
    "id": "dV2_xgZGqsrk"
   },
   "source": [
    "- Divide a circunferência por 3 e arredonda para o próximo número inteiro.\n",
    "- Adiciona 1 para garantir que n seja pelo menos 1.\n",
    "- Isso significa que cada segmento de reta será aproximadamente 3 unidades de comprimento."
   ]
  },
  {
   "cell_type": "markdown",
   "metadata": {
    "id": "R0Git7SNq4z1"
   },
   "source": [
    "Neste ponto, o número de segmentos é um número inteiro próximo a circumference/3, então o comprimento de cada segmento é aproximadamente 3, pequeno o suficiente para que os círculos fiquem bons, mas grandes o suficiente para serem eficientes e aceitáveis para círculos de qualquer tamanho."
   ]
  },
  {
   "cell_type": "markdown",
   "metadata": {
    "id": "dzTNv05wq1h_"
   },
   "source": [
    "Ao usar essa função, você garante que os círculos de qualquer tamanho sejam desenhados de maneira suave e eficiente."
   ]
  },
  {
   "cell_type": "markdown",
   "metadata": {
    "id": "5Ndj1eybpkIU"
   },
   "source": [
    "<h1> 4.7 - Refatoração </h1>"
   ]
  },
  {
   "cell_type": "markdown",
   "metadata": {
    "id": "rIhnfSIlrRwI"
   },
   "source": [
    "Não podemos usar polygon ou circle para desenhar um arco.\n",
    "Uma alternativa é começar com uma cópia de polygon e transformá-la em arc. O resultado poderia ser algo assim:\n"
   ]
  },
  {
   "cell_type": "code",
   "execution_count": null,
   "metadata": {
    "id": "jaP6I4B0pm-3"
   },
   "outputs": [],
   "source": [
    "def arc(t, r, angle):\n",
    "  arc_length = 2 * math.pi * r * angle / 360\n",
    "  n = int(arc_length / 3) + 1\n",
    "  step_length = arc_length / n\n",
    "  step_angle = angle / n\n",
    "\n",
    "  for i in range(n):\n",
    "    t.fd(step_length)\n",
    "    t.lt(step_angle)"
   ]
  },
  {
   "cell_type": "markdown",
   "metadata": {
    "id": "BuG9kvodrqWZ"
   },
   "source": [
    "A segunda metade desta função parece com a do polygon, mas não é possível reutilizar o polygon sem mudar a interface. Poderíamos generalizar polygon para receber um ângulo como um terceiro argumento, mas então polygon não seria mais um nome adequado! Em vez disso, vamos chamar a função mais geral de polyline:"
   ]
  },
  {
   "cell_type": "code",
   "execution_count": null,
   "metadata": {
    "id": "nW2ycnzOpnGk"
   },
   "outputs": [],
   "source": [
    "def polyline(t, n, length, angle):\n",
    "  for i in range(n):\n",
    "    t.fd(length)\n",
    "    t.lt(angle)"
   ]
  },
  {
   "cell_type": "markdown",
   "metadata": {
    "id": "vzchOPOLryLn"
   },
   "source": [
    "Agora podemos reescrever polygon e arc para usar polyline:"
   ]
  },
  {
   "cell_type": "code",
   "execution_count": null,
   "metadata": {
    "id": "ZHfMG36QpnJB"
   },
   "outputs": [],
   "source": [
    "def polygon(t, n, length):\n",
    "  angle = 360.0 / n\n",
    "  polyline(t, n, length, angle)\n",
    "\n",
    "def arc(t, r, angle):\n",
    "  arc_length = 2 * math.pi * r * angle / 360\n",
    "  n = int(arc_length / 3) + 1\n",
    "  step_length = arc_length / n\n",
    "  step_angle = float(angle) / n\n",
    "  polyline(t, n, step_length, step_angle)"
   ]
  },
  {
   "cell_type": "code",
   "execution_count": null,
   "metadata": {
    "id": "Y98THisvuqYF"
   },
   "outputs": [],
   "source": [
    "def circle(t, r):\n",
    "  arc(t, r, 360)"
   ]
  },
  {
   "cell_type": "markdown",
   "metadata": {
    "id": "V8i1Rh6iu7Ui"
   },
   "source": [
    "Este processo – recompor um programa para melhorar interfaces e facilitar a reutilização do código – é chamado de refatoração. Neste caso, notamos que houve código semelhante em arc e polygon, então nós o “fatoramos” no polyline."
   ]
  },
  {
   "cell_type": "markdown",
   "metadata": {
    "id": "x6AfrVLEvY_P"
   },
   "source": [
    "Se tivéssemos planejado, poderíamos ter escrito polyline primeiro e evitado a refatoração, mas muitas vezes não sabemos o suficiente já no início de um projeto para projetar todas as interfaces. Quando começarmos a escrever código, entenderemos melhor o problema. Às vezes, a refatoração é um sinal de que aprendemos algo."
   ]
  },
  {
   "cell_type": "markdown",
   "metadata": {
    "id": "AwGgN0iivbMZ"
   },
   "source": [
    "<h1> 4.8 - Um plano de desenvolvimento </h1>\n",
    "\n",
    "---\n",
    "Um plano de desenvolvimento é um processo para escrever programas. O processo que usamos neste estudo de caso é “encapsulamento e generalização”. Os passos deste processo são:\n",
    "1. Comece escrevendo um pequeno programa sem definições de função.\n",
    "2. Uma vez que o programa esteja funcionando, identifique uma parte coerente dele, encapsule essa parte em uma função e dê um nome a ela.\n",
    "3. Generalize a função acrescentando os parâmetros adequados.\n",
    "4. Repita os passos 1-3 até que tenha um conjunto de funções operantes. Copie e cole o código operante para evitar a redigitação (e redepuração).\n",
    "5. Procure oportunidades de melhorar o programa pela refatoração. Por exemplo, se você tem um código semelhante em vários lugares, pode ser uma boa ideia fatorá-lo em uma função geral adequada.\n",
    "\n",
    "Este processo tem algumas desvantagens – veremos alternativas mais tarde – mas pode ser útil se você não souber de antemão como dividir o programa em funções. Esta abordagem permite criar o projeto no decorrer do trabalho.\n",
    "\n"
   ]
  },
  {
   "cell_type": "markdown",
   "metadata": {
    "id": "1tlYaxQLv5ED"
   },
   "source": [
    "<h1> 4.9 - docstring </h1>\n",
    "\n",
    "Uma docstring é uma string no início de uma função que explica a interface (“doc” é uma abreviação para “documentação”). Aqui está um exemplo:\n"
   ]
  },
  {
   "cell_type": "markdown",
   "metadata": {
    "id": "QFP15zKJwFXB"
   },
   "source": [
    "```\n",
    " def polyline(t, n, length, angle):\n",
    "  \"\"\"Desenha n segmentos de reta com o comprimento dado e\n",
    "  ângulo (em graus) entre eles. t é um turtle.\n",
    "  \"\"\"\n",
    "  for i in range(n):\n",
    "    t.fd(length)\n",
    "    t.lt(angle)\n",
    "```\n",
    "\n"
   ]
  },
  {
   "cell_type": "markdown",
   "metadata": {
    "id": "bByxAp5pxXIr"
   },
   "source": [
    "Por convenção, todas as docstrings têm aspas triplas, também conhecidas como strings multilinha porque as aspas triplas permitem que a string se estenda por mais de uma linha. É conciso, mas contém a informação essencial que alguém precisaria para usar esta função. Explica sucintamente o que a função faz (sem entrar nos detalhes de como o faz).\n",
    "Explica que efeito cada parâmetro tem sobre o comportamento da função e o tipo que cada parâmetro deve ser (se não for óbvio).\n",
    "Escrever este tipo de documentação é uma parte importante do projeto da interface. Uma interface bem projetada deve ser simples de explicar; se não for assim, talvez a interface possa ser melhorada.\n"
   ]
  },
  {
   "cell_type": "markdown",
   "metadata": {
    "id": "76NVbbQDxcbt"
   },
   "source": [
    "<h1> 4.10 - Depuração </h1>\n",
    "\n",
    "Uma interface é como um contrato entre uma função e quem a chama. Quem chama\n",
    "concorda em fornecer certos parâmetros e a função concorda em fazer certa ação.\n",
    "\n",
    "Por exemplo, polyline precisa de quatro argumentos: t tem que ser um Turtle; n tem que ser um número inteiro; length deve ser um número positivo; e o angle tem que ser um número, que se espera estar em graus.\n",
    "\n",
    "Essas exigências são chamadas de precondições porque se supõe que sejam verdade antes que a função seja executada. De forma inversa, as condições no fim da função são pós-condições. As pós-condições incluem o efeito desejado da função (como o desenho de segmentos de reta) e qualquer efeito colateral (como mover o Turtle ou fazer outras mudanças).\n",
    "\n",
    "Precondições são responsabilidade de quem chama. Se quem chama violar uma\n",
    "precondição (adequadamente documentada!) e a função não funcionar corretamente, o problema está nesta pessoa, não na função.\n",
    "\n",
    "Se as precondições forem satisfeitas e as pós-condições não forem, o problema está na função. Se as suas precondições e pós-condições forem claras, elas podem ajudar na depuração."
   ]
  },
  {
   "cell_type": "markdown",
   "metadata": {
    "id": "aNxS3Q9EyERZ"
   },
   "source": [
    "<h1> 4.11 - Glossário </h1>"
   ]
  },
  {
   "cell_type": "markdown",
   "metadata": {
    "id": "vZqhzHUYgjXw"
   },
   "source": [
    "- **método:**\n",
    "Uma função associada a um objeto e chamada usando a notação de ponto.\n",
    "\n",
    "- **loop:**\n",
    "Parte de um programa que pode ser executada repetidamente.\n",
    "\n",
    "- **encapsulamento:**\n",
    "O processo de transformar uma sequência de instruções em uma definição de função.\n",
    "\n",
    "- **generalização:**\n",
    "O processo de substituir algo desnecessariamente específico (como um número) por\n",
    "algo adequadamente geral (como uma variável ou parâmetro).\n",
    "\n",
    "- **argumento de palavra-chave:**\n",
    "Um argumento que inclui o nome do parâmetro como uma “palavra-chave”.\n",
    "\n",
    "- **refatoração:**\n",
    "O processo de alterar um programa funcional para melhorar a interface de funções e outras qualidades do código.\n",
    "\n",
    "- **plano de desenvolvimento:**\n",
    "Um processo de escrever programas.\n",
    "\n",
    "- **docstring:**\n",
    "Uma string que aparece no início de uma definição de função para documentar a\n",
    "interface da função.\n",
    "\n",
    "- **precondição:**\n",
    "Uma exigência que deve ser satisfeita por quem chama a função, antes de executá-la.\n",
    "\n",
    "- **pós-condição:**\n",
    "Uma exigência que deve ser satisfeita pela função antes que ela seja encerrada."
   ]
  }
 ],
 "metadata": {
  "colab": {
   "authorship_tag": "ABX9TyPSn10HI4JBoxp3LckyyrQE",
   "include_colab_link": true,
   "provenance": []
  },
  "kernelspec": {
   "display_name": "Python 3",
   "name": "python3"
  },
  "language_info": {
   "name": "python"
  }
 },
 "nbformat": 4,
 "nbformat_minor": 0
}
