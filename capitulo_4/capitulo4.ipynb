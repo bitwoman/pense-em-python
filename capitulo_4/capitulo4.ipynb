{
  "nbformat": 4,
  "nbformat_minor": 0,
  "metadata": {
    "colab": {
      "provenance": [],
      "authorship_tag": "ABX9TyO2WbvnM7ELX+UBp0NvssQl",
      "include_colab_link": true
    },
    "kernelspec": {
      "name": "python3",
      "display_name": "Python 3"
    },
    "language_info": {
      "name": "python"
    }
  },
  "cells": [
    {
      "cell_type": "markdown",
      "metadata": {
        "id": "view-in-github",
        "colab_type": "text"
      },
      "source": [
        "<a href=\"https://colab.research.google.com/github/bitwoman/pense-em-python/blob/main/capitulo4.ipynb\" target=\"_parent\"><img src=\"https://colab.research.google.com/assets/colab-badge.svg\" alt=\"Open In Colab\"/></a>"
      ]
    },
    {
      "cell_type": "markdown",
      "source": [
        "# **ESTUDO DO LIVRO \"Pense em Python\", DO AUTOR ALLEN B. DOWNEY**\n",
        "\n",
        "<p> Estudos iniciados em 20-06-2024. </p>"
      ],
      "metadata": {
        "id": "rQO_05-d8rkA"
      }
    },
    {
      "cell_type": "markdown",
      "source": [
        "# Capítulo 4: Estudo de caso: projeto de interface\n",
        "\n",
        "Este capítulo apresenta um estudo de caso que demonstra o processo de criação de funções que operam simultaneamente"
      ],
      "metadata": {
        "id": "YRwL0D2ZFo10"
      }
    },
    {
      "cell_type": "markdown",
      "source": [
        "**4.1 - Módulo turtle**"
      ],
      "metadata": {
        "id": "vs9hly_TFyPE"
      }
    },
    {
      "cell_type": "code",
      "source": [
        "import turtle"
      ],
      "metadata": {
        "id": "bzZQINpR8Lr0"
      },
      "execution_count": 2,
      "outputs": []
    },
    {
      "cell_type": "code",
      "source": [
        " bob = turtle.Turtle()"
      ],
      "metadata": {
        "id": "24Xlhzv2F5mK"
      },
      "execution_count": null,
      "outputs": []
    }
  ]
}