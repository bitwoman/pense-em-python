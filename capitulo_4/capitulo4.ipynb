{
  "nbformat": 4,
  "nbformat_minor": 0,
  "metadata": {
    "colab": {
      "provenance": [],
      "authorship_tag": "ABX9TyMZelUTyGYxGcfDaLAJtgI7",
      "include_colab_link": true
    },
    "kernelspec": {
      "name": "python3",
      "display_name": "Python 3"
    },
    "language_info": {
      "name": "python"
    }
  },
  "cells": [
    {
      "cell_type": "markdown",
      "metadata": {
        "id": "view-in-github",
        "colab_type": "text"
      },
      "source": [
        "<a href=\"https://colab.research.google.com/github/bitwoman/pense-em-python/blob/main/capitulo4.ipynb\" target=\"_parent\"><img src=\"https://colab.research.google.com/assets/colab-badge.svg\" alt=\"Open In Colab\"/></a>"
      ]
    },
    {
      "cell_type": "markdown",
      "source": [
        "# **ESTUDO DO LIVRO \"Pense em Python\", DO AUTOR ALLEN B. DOWNEY**\n",
        "\n",
        "<p> Estudos iniciados em 20-06-2024. </p>"
      ],
      "metadata": {
        "id": "rQO_05-d8rkA"
      }
    },
    {
      "cell_type": "markdown",
      "source": [
        "# Capítulo 4: Estudo de caso: projeto de interface\n",
        "\n",
        "Este capítulo apresenta um estudo de caso que demonstra o processo de criação de funções que operam simultaneamente"
      ],
      "metadata": {
        "id": "YRwL0D2ZFo10"
      }
    },
    {
      "cell_type": "markdown",
      "source": [
        "**4.1 - Módulo turtle**"
      ],
      "metadata": {
        "id": "vs9hly_TFyPE"
      }
    },
    {
      "cell_type": "markdown",
      "source": [
        "Verificando a versão do python que está instalada no Google Colab, pois o módulo turtule só está disponível a partir da versão 3.x."
      ],
      "metadata": {
        "id": "lSsNvjIa8t5O"
      }
    },
    {
      "cell_type": "code",
      "source": [
        "!python --version"
      ],
      "metadata": {
        "colab": {
          "base_uri": "https://localhost:8080/"
        },
        "id": "SItyTbct8335",
        "outputId": "6b4b7814-b259-49eb-e84c-e2eedd7b2f11"
      },
      "execution_count": 1,
      "outputs": [
        {
          "output_type": "stream",
          "name": "stdout",
          "text": [
            "Python 3.10.12\n"
          ]
        }
      ]
    },
    {
      "cell_type": "markdown",
      "source": [
        "Verificando as informações do pacote caso esteja instalado, se não, retorna uma mensagem de warning."
      ],
      "metadata": {
        "id": "N3eIi9NW87Ph"
      }
    },
    {
      "cell_type": "code",
      "source": [
        "!pip show turtle\n",
        "\n",
        "#Package(s) not found: turtle > o pacote não está instalado no ambiente"
      ],
      "metadata": {
        "colab": {
          "base_uri": "https://localhost:8080/"
        },
        "id": "dfx6PFNw8TY3",
        "outputId": "d59ad175-1edd-48c8-905d-aa33d40e1281"
      },
      "execution_count": 2,
      "outputs": [
        {
          "output_type": "stream",
          "name": "stdout",
          "text": [
            "\u001b[33mWARNING: Package(s) not found: turtle\u001b[0m\u001b[33m\n",
            "\u001b[0m"
          ]
        }
      ]
    },
    {
      "cell_type": "markdown",
      "source": [
        "**O Google Colab não possui suporte nativo para o módulo turtle devido à sua dependência de uma interface gráfica que não está disponível em ambientes baseados em navegador como o Colab. No entanto, há uma alternativa chamada ColabTurtle que permite usar a funcionalidade do turtle no Google Colab.**"
      ],
      "metadata": {
        "id": "ot1XQoyb9NoE"
      }
    },
    {
      "cell_type": "code",
      "source": [
        "!pip install turtle\n",
        "\n",
        "# error: subprocess-exited-with-error"
      ],
      "metadata": {
        "id": "bzZQINpR8Lr0",
        "colab": {
          "base_uri": "https://localhost:8080/"
        },
        "outputId": "0ac05cbf-67fa-4740-a373-88b2c2e7c3e6"
      },
      "execution_count": 3,
      "outputs": [
        {
          "output_type": "stream",
          "name": "stdout",
          "text": [
            "Collecting turtle\n",
            "  Using cached turtle-0.0.2.tar.gz (11 kB)\n",
            "  \u001b[1;31merror\u001b[0m: \u001b[1msubprocess-exited-with-error\u001b[0m\n",
            "  \n",
            "  \u001b[31m×\u001b[0m \u001b[32mpython setup.py egg_info\u001b[0m did not run successfully.\n",
            "  \u001b[31m│\u001b[0m exit code: \u001b[1;36m1\u001b[0m\n",
            "  \u001b[31m╰─>\u001b[0m See above for output.\n",
            "  \n",
            "  \u001b[1;35mnote\u001b[0m: This error originates from a subprocess, and is likely not a problem with pip.\n",
            "  Preparing metadata (setup.py) ... \u001b[?25l\u001b[?25herror\n",
            "\u001b[1;31merror\u001b[0m: \u001b[1mmetadata-generation-failed\u001b[0m\n",
            "\n",
            "\u001b[31m×\u001b[0m Encountered error while generating package metadata.\n",
            "\u001b[31m╰─>\u001b[0m See above for output.\n",
            "\n",
            "\u001b[1;35mnote\u001b[0m: This is an issue with the package mentioned above, not pip.\n",
            "\u001b[1;36mhint\u001b[0m: See above for details.\n"
          ]
        }
      ]
    },
    {
      "cell_type": "markdown",
      "source": [
        "**Instalar o pacote ColabTurtle como alternativa**"
      ],
      "metadata": {
        "id": "f8YKh1Rv9aiN"
      }
    },
    {
      "cell_type": "code",
      "source": [
        "!pip install ColabTurtle"
      ],
      "metadata": {
        "colab": {
          "base_uri": "https://localhost:8080/"
        },
        "id": "_bbN8qB48NOE",
        "outputId": "6d9b4f66-6d5f-465c-865e-fafba962977a"
      },
      "execution_count": 4,
      "outputs": [
        {
          "output_type": "stream",
          "name": "stdout",
          "text": [
            "Requirement already satisfied: ColabTurtle in /usr/local/lib/python3.10/dist-packages (2.1.0)\n"
          ]
        }
      ]
    },
    {
      "cell_type": "markdown",
      "source": [
        "Importação do pacote Turtle do módulo ColabTurtle"
      ],
      "metadata": {
        "id": "VAsQJXvQ9obD"
      }
    },
    {
      "cell_type": "code",
      "source": [
        "import ColabTurtle.Turtle as tt"
      ],
      "metadata": {
        "id": "1KboIjqC9gJn"
      },
      "execution_count": 5,
      "outputs": []
    },
    {
      "cell_type": "code",
      "source": [
        "bob = tt.initializeTurtle()"
      ],
      "metadata": {
        "colab": {
          "base_uri": "https://localhost:8080/",
          "height": 521
        },
        "id": "drVOKzCY9uFT",
        "outputId": "0d02d105-7956-47ad-a46f-a557ff1528f7"
      },
      "execution_count": 6,
      "outputs": [
        {
          "output_type": "display_data",
          "data": {
            "text/plain": [
              "<IPython.core.display.HTML object>"
            ],
            "text/html": [
              "\n",
              "      <svg width=\"800\" height=\"500\">\n",
              "        <rect width=\"100%\" height=\"100%\" fill=\"black\"/>\n",
              "        \n",
              "        <g visibility=visible transform=\"rotate(360,400,250) translate(382, 232)\">\n",
              "<path style=\" stroke:none;fill-rule:evenodd;fill:white;fill-opacity:1;\" d=\"M 18.214844 0.632812 C 16.109375 1.800781 15.011719 4.074219 15.074219 7.132812 L 15.085938 7.652344 L 14.785156 7.496094 C 13.476562 6.824219 11.957031 6.671875 10.40625 7.066406 C 8.46875 7.550781 6.515625 9.15625 4.394531 11.992188 C 3.0625 13.777344 2.679688 14.636719 3.042969 15.027344 L 3.15625 15.152344 L 3.519531 15.152344 C 4.238281 15.152344 4.828125 14.886719 8.1875 13.039062 C 9.386719 12.378906 10.371094 11.839844 10.378906 11.839844 C 10.386719 11.839844 10.355469 11.929688 10.304688 12.035156 C 9.832031 13.09375 9.257812 14.820312 8.96875 16.078125 C 7.914062 20.652344 8.617188 24.53125 11.070312 27.660156 C 11.351562 28.015625 11.363281 27.914062 10.972656 28.382812 C 8.925781 30.84375 7.945312 33.28125 8.238281 35.1875 C 8.289062 35.527344 8.28125 35.523438 8.917969 35.523438 C 10.941406 35.523438 13.074219 34.207031 15.136719 31.6875 C 15.359375 31.417969 15.328125 31.425781 15.5625 31.574219 C 16.292969 32.042969 18.023438 32.964844 18.175781 32.964844 C 18.335938 32.964844 19.941406 32.210938 20.828125 31.71875 C 20.996094 31.625 21.136719 31.554688 21.136719 31.558594 C 21.203125 31.664062 21.898438 32.414062 22.222656 32.730469 C 23.835938 34.300781 25.5625 35.132812 27.582031 35.300781 C 27.90625 35.328125 27.9375 35.308594 28.007812 34.984375 C 28.382812 33.242188 27.625 30.925781 25.863281 28.425781 L 25.542969 27.96875 L 25.699219 27.785156 C 28.945312 23.960938 29.132812 18.699219 26.257812 11.96875 L 26.207031 11.84375 L 27.945312 12.703125 C 31.53125 14.476562 32.316406 14.800781 33.03125 14.800781 C 33.976562 14.800781 33.78125 13.9375 32.472656 12.292969 C 28.519531 7.355469 25.394531 5.925781 21.921875 7.472656 L 21.558594 7.636719 L 21.578125 7.542969 C 21.699219 6.992188 21.761719 5.742188 21.699219 5.164062 C 21.496094 3.296875 20.664062 1.964844 19.003906 0.855469 C 18.480469 0.503906 18.457031 0.5 18.214844 0.632812\"/>\n",
              "</g>\n",
              "      </svg>\n",
              "    "
            ]
          },
          "metadata": {}
        }
      ]
    },
    {
      "cell_type": "markdown",
      "source": [
        "\n",
        "```\n",
        "import turtle\n",
        "bob = turtle.Turtle()\n",
        "print(bob)\n",
        "turtle.mainloop()\n",
        "\n",
        "\n",
        "mainloop diz que a janela deve esperar que o usuário faça algo, embora neste caso não\n",
        "haja muito a fazer, exceto fechar a janela.\n",
        "\n",
        "```\n",
        "\n"
      ],
      "metadata": {
        "id": "1j3GP12B_X8d"
      }
    },
    {
      "cell_type": "markdown",
      "source": [
        "No ColabTurtle, não há necessidade de um loop principal (mainloop) como no módulo turtle padrão, porque a execução é controlada pelo ambiente do Google Colab, que renderiza as operações da tartaruga diretamente no notebook."
      ],
      "metadata": {
        "id": "oZ8RE4JX_bct"
      }
    },
    {
      "cell_type": "markdown",
      "source": [
        "Método é semelhante a uma função, mas usa uma sintaxe ligeiramente diferente.\n",
        "Por exemplo, para mover o turtle para a frente"
      ],
      "metadata": {
        "id": "QsQBpMV0_1cC"
      }
    },
    {
      "cell_type": "markdown",
      "source": [
        "\n",
        "\n",
        "```\n",
        "# bob.fd(100) # fd é abreviação para 'forward', e no colabTurtle é utilizado por extenso\n",
        "```\n",
        "\n"
      ],
      "metadata": {
        "id": "Q4RoE9yzAZAe"
      }
    },
    {
      "cell_type": "code",
      "source": [
        "bob = tt.initializeTurtle()\n",
        "tt.forward(100) # O argumento de forward é uma distância em píxeis, então o tamanho real depende da sua tela."
      ],
      "metadata": {
        "colab": {
          "base_uri": "https://localhost:8080/",
          "height": 521
        },
        "id": "qqHuER59AI1P",
        "outputId": "366ecbdb-165c-45aa-f28d-d2935073a0bf"
      },
      "execution_count": 7,
      "outputs": [
        {
          "output_type": "display_data",
          "data": {
            "text/plain": [
              "<IPython.core.display.HTML object>"
            ],
            "text/html": [
              "\n",
              "      <svg width=\"800\" height=\"500\">\n",
              "        <rect width=\"100%\" height=\"100%\" fill=\"black\"/>\n",
              "        <line x1=\"400\" y1=\"250\" x2=\"400.0\" y2=\"150.0\" stroke-linecap=\"round\" style=\"stroke:white;stroke-width:4\"/>\n",
              "        <g visibility=visible transform=\"rotate(360,400.0,150.0) translate(382.0, 132.0)\">\n",
              "<path style=\" stroke:none;fill-rule:evenodd;fill:white;fill-opacity:1;\" d=\"M 18.214844 0.632812 C 16.109375 1.800781 15.011719 4.074219 15.074219 7.132812 L 15.085938 7.652344 L 14.785156 7.496094 C 13.476562 6.824219 11.957031 6.671875 10.40625 7.066406 C 8.46875 7.550781 6.515625 9.15625 4.394531 11.992188 C 3.0625 13.777344 2.679688 14.636719 3.042969 15.027344 L 3.15625 15.152344 L 3.519531 15.152344 C 4.238281 15.152344 4.828125 14.886719 8.1875 13.039062 C 9.386719 12.378906 10.371094 11.839844 10.378906 11.839844 C 10.386719 11.839844 10.355469 11.929688 10.304688 12.035156 C 9.832031 13.09375 9.257812 14.820312 8.96875 16.078125 C 7.914062 20.652344 8.617188 24.53125 11.070312 27.660156 C 11.351562 28.015625 11.363281 27.914062 10.972656 28.382812 C 8.925781 30.84375 7.945312 33.28125 8.238281 35.1875 C 8.289062 35.527344 8.28125 35.523438 8.917969 35.523438 C 10.941406 35.523438 13.074219 34.207031 15.136719 31.6875 C 15.359375 31.417969 15.328125 31.425781 15.5625 31.574219 C 16.292969 32.042969 18.023438 32.964844 18.175781 32.964844 C 18.335938 32.964844 19.941406 32.210938 20.828125 31.71875 C 20.996094 31.625 21.136719 31.554688 21.136719 31.558594 C 21.203125 31.664062 21.898438 32.414062 22.222656 32.730469 C 23.835938 34.300781 25.5625 35.132812 27.582031 35.300781 C 27.90625 35.328125 27.9375 35.308594 28.007812 34.984375 C 28.382812 33.242188 27.625 30.925781 25.863281 28.425781 L 25.542969 27.96875 L 25.699219 27.785156 C 28.945312 23.960938 29.132812 18.699219 26.257812 11.96875 L 26.207031 11.84375 L 27.945312 12.703125 C 31.53125 14.476562 32.316406 14.800781 33.03125 14.800781 C 33.976562 14.800781 33.78125 13.9375 32.472656 12.292969 C 28.519531 7.355469 25.394531 5.925781 21.921875 7.472656 L 21.558594 7.636719 L 21.578125 7.542969 C 21.699219 6.992188 21.761719 5.742188 21.699219 5.164062 C 21.496094 3.296875 20.664062 1.964844 19.003906 0.855469 C 18.480469 0.503906 18.457031 0.5 18.214844 0.632812\"/>\n",
              "</g>\n",
              "      </svg>\n",
              "    "
            ]
          },
          "metadata": {}
        }
      ]
    },
    {
      "cell_type": "markdown",
      "source": [
        "Outros métodos que você pode chamar em um Turtle são bk (backward - ColabTurtle) para mover-se para trás, lt (left - ColabTurtule) para virar à esquerda e rt (right - ColabTurtle) para virar à direita. O argumento para lt e rt é um ângulo em graus.\n",
        "Além disso, cada Turtle segura uma caneta, que está abaixada ou levantada; se a caneta estiver abaixada, o Turtle deixa um rastro quando se move. Os métodos pu (penup - ColabTurtule) e pd (pendown - ColabTurtle) representam “caneta para cima” e “caneta para baixo”."
      ],
      "metadata": {
        "id": "4xhUbkuJA12V"
      }
    },
    {
      "cell_type": "code",
      "source": [
        "bob = tt.initializeTurtle()\n",
        "tt.forward(100) # O argumento de forward é uma distância em píxeis, então o tamanho real depende da sua tela.\n",
        "tt.left(100)\n",
        "tt.forward(100)"
      ],
      "metadata": {
        "colab": {
          "base_uri": "https://localhost:8080/",
          "height": 521
        },
        "id": "chCCr0Bz_2vj",
        "outputId": "09dfef35-08ea-47b6-9140-da5aef2059c4"
      },
      "execution_count": 8,
      "outputs": [
        {
          "output_type": "display_data",
          "data": {
            "text/plain": [
              "<IPython.core.display.HTML object>"
            ],
            "text/html": [
              "\n",
              "      <svg width=\"800\" height=\"500\">\n",
              "        <rect width=\"100%\" height=\"100%\" fill=\"black\"/>\n",
              "        <line x1=\"400\" y1=\"250\" x2=\"400.0\" y2=\"150.0\" stroke-linecap=\"round\" style=\"stroke:white;stroke-width:4\"/><line x1=\"400.0\" y1=\"150.0\" x2=\"301.519\" y2=\"167.365\" stroke-linecap=\"round\" style=\"stroke:white;stroke-width:4\"/>\n",
              "        <g visibility=visible transform=\"rotate(260,301.519,167.365) translate(283.519, 149.365)\">\n",
              "<path style=\" stroke:none;fill-rule:evenodd;fill:white;fill-opacity:1;\" d=\"M 18.214844 0.632812 C 16.109375 1.800781 15.011719 4.074219 15.074219 7.132812 L 15.085938 7.652344 L 14.785156 7.496094 C 13.476562 6.824219 11.957031 6.671875 10.40625 7.066406 C 8.46875 7.550781 6.515625 9.15625 4.394531 11.992188 C 3.0625 13.777344 2.679688 14.636719 3.042969 15.027344 L 3.15625 15.152344 L 3.519531 15.152344 C 4.238281 15.152344 4.828125 14.886719 8.1875 13.039062 C 9.386719 12.378906 10.371094 11.839844 10.378906 11.839844 C 10.386719 11.839844 10.355469 11.929688 10.304688 12.035156 C 9.832031 13.09375 9.257812 14.820312 8.96875 16.078125 C 7.914062 20.652344 8.617188 24.53125 11.070312 27.660156 C 11.351562 28.015625 11.363281 27.914062 10.972656 28.382812 C 8.925781 30.84375 7.945312 33.28125 8.238281 35.1875 C 8.289062 35.527344 8.28125 35.523438 8.917969 35.523438 C 10.941406 35.523438 13.074219 34.207031 15.136719 31.6875 C 15.359375 31.417969 15.328125 31.425781 15.5625 31.574219 C 16.292969 32.042969 18.023438 32.964844 18.175781 32.964844 C 18.335938 32.964844 19.941406 32.210938 20.828125 31.71875 C 20.996094 31.625 21.136719 31.554688 21.136719 31.558594 C 21.203125 31.664062 21.898438 32.414062 22.222656 32.730469 C 23.835938 34.300781 25.5625 35.132812 27.582031 35.300781 C 27.90625 35.328125 27.9375 35.308594 28.007812 34.984375 C 28.382812 33.242188 27.625 30.925781 25.863281 28.425781 L 25.542969 27.96875 L 25.699219 27.785156 C 28.945312 23.960938 29.132812 18.699219 26.257812 11.96875 L 26.207031 11.84375 L 27.945312 12.703125 C 31.53125 14.476562 32.316406 14.800781 33.03125 14.800781 C 33.976562 14.800781 33.78125 13.9375 32.472656 12.292969 C 28.519531 7.355469 25.394531 5.925781 21.921875 7.472656 L 21.558594 7.636719 L 21.578125 7.542969 C 21.699219 6.992188 21.761719 5.742188 21.699219 5.164062 C 21.496094 3.296875 20.664062 1.964844 19.003906 0.855469 C 18.480469 0.503906 18.457031 0.5 18.214844 0.632812\"/>\n",
              "</g>\n",
              "      </svg>\n",
              "    "
            ]
          },
          "metadata": {}
        }
      ]
    },
    {
      "cell_type": "markdown",
      "source": [
        "Agora altere o programa para desenhar um quadrado. Só siga adiante neste capítulo se ele funcionar adequadamente!"
      ],
      "metadata": {
        "id": "216GAgdlBua4"
      }
    },
    {
      "cell_type": "code",
      "source": [
        "bob = tt.initializeTurtle()\n",
        "tt.forward(100) # O argumento de forward é uma distância em píxeis, então o tamanho real depende da sua tela.\n",
        "tt.left(90)\n",
        "tt.forward(100)\n",
        "tt.left(90)\n",
        "tt.forward(100)\n",
        "tt.left(90)\n",
        "tt.forward(100)"
      ],
      "metadata": {
        "colab": {
          "base_uri": "https://localhost:8080/",
          "height": 521
        },
        "id": "EebTiwf7BgwY",
        "outputId": "52abf850-a0f2-441c-9ba5-7f17db059788"
      },
      "execution_count": 9,
      "outputs": [
        {
          "output_type": "display_data",
          "data": {
            "text/plain": [
              "<IPython.core.display.HTML object>"
            ],
            "text/html": [
              "\n",
              "      <svg width=\"800\" height=\"500\">\n",
              "        <rect width=\"100%\" height=\"100%\" fill=\"black\"/>\n",
              "        <line x1=\"400\" y1=\"250\" x2=\"400.0\" y2=\"150.0\" stroke-linecap=\"round\" style=\"stroke:white;stroke-width:4\"/><line x1=\"400.0\" y1=\"150.0\" x2=\"300.0\" y2=\"150.0\" stroke-linecap=\"round\" style=\"stroke:white;stroke-width:4\"/><line x1=\"300.0\" y1=\"150.0\" x2=\"300.0\" y2=\"250.0\" stroke-linecap=\"round\" style=\"stroke:white;stroke-width:4\"/><line x1=\"300.0\" y1=\"250.0\" x2=\"400.0\" y2=\"250.0\" stroke-linecap=\"round\" style=\"stroke:white;stroke-width:4\"/>\n",
              "        <g visibility=visible transform=\"rotate(90,400.0,250.0) translate(382.0, 232.0)\">\n",
              "<path style=\" stroke:none;fill-rule:evenodd;fill:white;fill-opacity:1;\" d=\"M 18.214844 0.632812 C 16.109375 1.800781 15.011719 4.074219 15.074219 7.132812 L 15.085938 7.652344 L 14.785156 7.496094 C 13.476562 6.824219 11.957031 6.671875 10.40625 7.066406 C 8.46875 7.550781 6.515625 9.15625 4.394531 11.992188 C 3.0625 13.777344 2.679688 14.636719 3.042969 15.027344 L 3.15625 15.152344 L 3.519531 15.152344 C 4.238281 15.152344 4.828125 14.886719 8.1875 13.039062 C 9.386719 12.378906 10.371094 11.839844 10.378906 11.839844 C 10.386719 11.839844 10.355469 11.929688 10.304688 12.035156 C 9.832031 13.09375 9.257812 14.820312 8.96875 16.078125 C 7.914062 20.652344 8.617188 24.53125 11.070312 27.660156 C 11.351562 28.015625 11.363281 27.914062 10.972656 28.382812 C 8.925781 30.84375 7.945312 33.28125 8.238281 35.1875 C 8.289062 35.527344 8.28125 35.523438 8.917969 35.523438 C 10.941406 35.523438 13.074219 34.207031 15.136719 31.6875 C 15.359375 31.417969 15.328125 31.425781 15.5625 31.574219 C 16.292969 32.042969 18.023438 32.964844 18.175781 32.964844 C 18.335938 32.964844 19.941406 32.210938 20.828125 31.71875 C 20.996094 31.625 21.136719 31.554688 21.136719 31.558594 C 21.203125 31.664062 21.898438 32.414062 22.222656 32.730469 C 23.835938 34.300781 25.5625 35.132812 27.582031 35.300781 C 27.90625 35.328125 27.9375 35.308594 28.007812 34.984375 C 28.382812 33.242188 27.625 30.925781 25.863281 28.425781 L 25.542969 27.96875 L 25.699219 27.785156 C 28.945312 23.960938 29.132812 18.699219 26.257812 11.96875 L 26.207031 11.84375 L 27.945312 12.703125 C 31.53125 14.476562 32.316406 14.800781 33.03125 14.800781 C 33.976562 14.800781 33.78125 13.9375 32.472656 12.292969 C 28.519531 7.355469 25.394531 5.925781 21.921875 7.472656 L 21.558594 7.636719 L 21.578125 7.542969 C 21.699219 6.992188 21.761719 5.742188 21.699219 5.164062 C 21.496094 3.296875 20.664062 1.964844 19.003906 0.855469 C 18.480469 0.503906 18.457031 0.5 18.214844 0.632812\"/>\n",
              "</g>\n",
              "      </svg>\n",
              "    "
            ]
          },
          "metadata": {}
        }
      ]
    },
    {
      "cell_type": "markdown",
      "source": [
        "Podemos fazer a mesma coisa de forma mais concisa com uma instrução for:"
      ],
      "metadata": {
        "id": "xdx4VU9MEkIV"
      }
    },
    {
      "cell_type": "code",
      "source": [
        "bob = tt.initializeTurtle()\n",
        "\n",
        "for i in range(4):\n",
        "  tt.forward(100)\n",
        "  tt.left(90)"
      ],
      "metadata": {
        "colab": {
          "base_uri": "https://localhost:8080/",
          "height": 521
        },
        "id": "i32tYBT4B9Q2",
        "outputId": "3484d4bf-159a-42e8-a7cd-339a5ddaee99"
      },
      "execution_count": 10,
      "outputs": [
        {
          "output_type": "display_data",
          "data": {
            "text/plain": [
              "<IPython.core.display.HTML object>"
            ],
            "text/html": [
              "\n",
              "      <svg width=\"800\" height=\"500\">\n",
              "        <rect width=\"100%\" height=\"100%\" fill=\"black\"/>\n",
              "        <line x1=\"400\" y1=\"250\" x2=\"400.0\" y2=\"150.0\" stroke-linecap=\"round\" style=\"stroke:white;stroke-width:4\"/><line x1=\"400.0\" y1=\"150.0\" x2=\"300.0\" y2=\"150.0\" stroke-linecap=\"round\" style=\"stroke:white;stroke-width:4\"/><line x1=\"300.0\" y1=\"150.0\" x2=\"300.0\" y2=\"250.0\" stroke-linecap=\"round\" style=\"stroke:white;stroke-width:4\"/><line x1=\"300.0\" y1=\"250.0\" x2=\"400.0\" y2=\"250.0\" stroke-linecap=\"round\" style=\"stroke:white;stroke-width:4\"/>\n",
              "        <g visibility=visible transform=\"rotate(360,400.0,250.0) translate(382.0, 232.0)\">\n",
              "<path style=\" stroke:none;fill-rule:evenodd;fill:white;fill-opacity:1;\" d=\"M 18.214844 0.632812 C 16.109375 1.800781 15.011719 4.074219 15.074219 7.132812 L 15.085938 7.652344 L 14.785156 7.496094 C 13.476562 6.824219 11.957031 6.671875 10.40625 7.066406 C 8.46875 7.550781 6.515625 9.15625 4.394531 11.992188 C 3.0625 13.777344 2.679688 14.636719 3.042969 15.027344 L 3.15625 15.152344 L 3.519531 15.152344 C 4.238281 15.152344 4.828125 14.886719 8.1875 13.039062 C 9.386719 12.378906 10.371094 11.839844 10.378906 11.839844 C 10.386719 11.839844 10.355469 11.929688 10.304688 12.035156 C 9.832031 13.09375 9.257812 14.820312 8.96875 16.078125 C 7.914062 20.652344 8.617188 24.53125 11.070312 27.660156 C 11.351562 28.015625 11.363281 27.914062 10.972656 28.382812 C 8.925781 30.84375 7.945312 33.28125 8.238281 35.1875 C 8.289062 35.527344 8.28125 35.523438 8.917969 35.523438 C 10.941406 35.523438 13.074219 34.207031 15.136719 31.6875 C 15.359375 31.417969 15.328125 31.425781 15.5625 31.574219 C 16.292969 32.042969 18.023438 32.964844 18.175781 32.964844 C 18.335938 32.964844 19.941406 32.210938 20.828125 31.71875 C 20.996094 31.625 21.136719 31.554688 21.136719 31.558594 C 21.203125 31.664062 21.898438 32.414062 22.222656 32.730469 C 23.835938 34.300781 25.5625 35.132812 27.582031 35.300781 C 27.90625 35.328125 27.9375 35.308594 28.007812 34.984375 C 28.382812 33.242188 27.625 30.925781 25.863281 28.425781 L 25.542969 27.96875 L 25.699219 27.785156 C 28.945312 23.960938 29.132812 18.699219 26.257812 11.96875 L 26.207031 11.84375 L 27.945312 12.703125 C 31.53125 14.476562 32.316406 14.800781 33.03125 14.800781 C 33.976562 14.800781 33.78125 13.9375 32.472656 12.292969 C 28.519531 7.355469 25.394531 5.925781 21.921875 7.472656 L 21.558594 7.636719 L 21.578125 7.542969 C 21.699219 6.992188 21.761719 5.742188 21.699219 5.164062 C 21.496094 3.296875 20.664062 1.964844 19.003906 0.855469 C 18.480469 0.503906 18.457031 0.5 18.214844 0.632812\"/>\n",
              "</g>\n",
              "      </svg>\n",
              "    "
            ]
          },
          "metadata": {}
        }
      ]
    },
    {
      "cell_type": "markdown",
      "source": [
        "Uma instrução for também é chamada de loop porque o fluxo da execução passa pelo\n",
        "corpo e depois volta ao topo."
      ],
      "metadata": {
        "id": "tPCKNphoE3ST"
      }
    },
    {
      "cell_type": "markdown",
      "source": [
        "Esta versão, na verdade, é um pouco diferente do código anterior que desenha quadrados porque faz outra volta depois de desenhar o último lado do quadrado. A volta extra leva mais tempo, mas simplifica o código se fizermos a mesma coisa a cada vez pelo loop. Esta versão também tem o efeito de trazer o turtle de volta à posição inicial, de frente para a mesma direção em que estava."
      ],
      "metadata": {
        "id": "wRqewYqLFNGG"
      }
    },
    {
      "cell_type": "markdown",
      "source": [
        "**4.3 - Exercícios**"
      ],
      "metadata": {
        "id": "H0FU0rKIFR1m"
      }
    },
    {
      "cell_type": "markdown",
      "source": [
        "1. Escreva uma função chamada square que receba um parâmetro chamado t, que é um\n",
        "turtle. Ela deve usar o turtle para desenhar um quadrado."
      ],
      "metadata": {
        "id": "IZ4L_lDDFa1z"
      }
    },
    {
      "cell_type": "code",
      "source": [
        "import ColabTurtle.Turtle as turtle\n",
        "\n",
        "# Definição da função functionSquare, que desenha um quadrado utilizando um parâmetro\n",
        "\n",
        "def functionSquare(t):\n",
        "  for i in range(4):\n",
        "    t.forward(100)\n",
        "    t.left(90)"
      ],
      "metadata": {
        "id": "16lZJQoLElCV"
      },
      "execution_count": 14,
      "outputs": []
    },
    {
      "cell_type": "markdown",
      "source": [
        "Inicializa o ambiente. Mas por quê?\n",
        "Ao executar initializeTurtle(), você prepara o ambiente para usar as funcionalidades do ColabTurtle, como criar e manipular tartarugas para desenhar figuras geométricas ou realizar outros tipos de gráficos no Google Colab."
      ],
      "metadata": {
        "id": "CmBh3lOAIoAk"
      }
    },
    {
      "cell_type": "code",
      "source": [
        "turtle.initializeTurtle()"
      ],
      "metadata": {
        "colab": {
          "base_uri": "https://localhost:8080/",
          "height": 521
        },
        "id": "kBB-j4H8JExc",
        "outputId": "9b05e1f7-4ee4-48c9-dcbe-e06dee417107"
      },
      "execution_count": 16,
      "outputs": [
        {
          "output_type": "display_data",
          "data": {
            "text/plain": [
              "<IPython.core.display.HTML object>"
            ],
            "text/html": [
              "\n",
              "      <svg width=\"800\" height=\"500\">\n",
              "        <rect width=\"100%\" height=\"100%\" fill=\"black\"/>\n",
              "        \n",
              "        <g visibility=visible transform=\"rotate(360,400,250) translate(382, 232)\">\n",
              "<path style=\" stroke:none;fill-rule:evenodd;fill:white;fill-opacity:1;\" d=\"M 18.214844 0.632812 C 16.109375 1.800781 15.011719 4.074219 15.074219 7.132812 L 15.085938 7.652344 L 14.785156 7.496094 C 13.476562 6.824219 11.957031 6.671875 10.40625 7.066406 C 8.46875 7.550781 6.515625 9.15625 4.394531 11.992188 C 3.0625 13.777344 2.679688 14.636719 3.042969 15.027344 L 3.15625 15.152344 L 3.519531 15.152344 C 4.238281 15.152344 4.828125 14.886719 8.1875 13.039062 C 9.386719 12.378906 10.371094 11.839844 10.378906 11.839844 C 10.386719 11.839844 10.355469 11.929688 10.304688 12.035156 C 9.832031 13.09375 9.257812 14.820312 8.96875 16.078125 C 7.914062 20.652344 8.617188 24.53125 11.070312 27.660156 C 11.351562 28.015625 11.363281 27.914062 10.972656 28.382812 C 8.925781 30.84375 7.945312 33.28125 8.238281 35.1875 C 8.289062 35.527344 8.28125 35.523438 8.917969 35.523438 C 10.941406 35.523438 13.074219 34.207031 15.136719 31.6875 C 15.359375 31.417969 15.328125 31.425781 15.5625 31.574219 C 16.292969 32.042969 18.023438 32.964844 18.175781 32.964844 C 18.335938 32.964844 19.941406 32.210938 20.828125 31.71875 C 20.996094 31.625 21.136719 31.554688 21.136719 31.558594 C 21.203125 31.664062 21.898438 32.414062 22.222656 32.730469 C 23.835938 34.300781 25.5625 35.132812 27.582031 35.300781 C 27.90625 35.328125 27.9375 35.308594 28.007812 34.984375 C 28.382812 33.242188 27.625 30.925781 25.863281 28.425781 L 25.542969 27.96875 L 25.699219 27.785156 C 28.945312 23.960938 29.132812 18.699219 26.257812 11.96875 L 26.207031 11.84375 L 27.945312 12.703125 C 31.53125 14.476562 32.316406 14.800781 33.03125 14.800781 C 33.976562 14.800781 33.78125 13.9375 32.472656 12.292969 C 28.519531 7.355469 25.394531 5.925781 21.921875 7.472656 L 21.558594 7.636719 L 21.578125 7.542969 C 21.699219 6.992188 21.761719 5.742188 21.699219 5.164062 C 21.496094 3.296875 20.664062 1.964844 19.003906 0.855469 C 18.480469 0.503906 18.457031 0.5 18.214844 0.632812\"/>\n",
              "</g>\n",
              "      </svg>\n",
              "    "
            ]
          },
          "metadata": {}
        }
      ]
    },
    {
      "cell_type": "markdown",
      "source": [
        "Cria um objeto 'Turtle', neste caso, a variável objeto_tartaruga"
      ],
      "metadata": {
        "id": "25hI8bfNKHzk"
      }
    },
    {
      "cell_type": "code",
      "source": [
        "objeto_tartaruga = Turtle"
      ],
      "metadata": {
        "id": "QxPkPDmZKKUN"
      },
      "execution_count": 17,
      "outputs": []
    },
    {
      "cell_type": "markdown",
      "source": [
        "Faz a chamada de função para a execução dela:"
      ],
      "metadata": {
        "id": "TgiyjNLkKU0h"
      }
    },
    {
      "cell_type": "code",
      "source": [
        "functionSquare(objeto_tartaruga)"
      ],
      "metadata": {
        "colab": {
          "base_uri": "https://localhost:8080/",
          "height": 521
        },
        "id": "JkRxEPIxKVF1",
        "outputId": "12618570-95fd-4e6a-8c00-d06cd4f525c0"
      },
      "execution_count": 18,
      "outputs": [
        {
          "output_type": "display_data",
          "data": {
            "text/plain": [
              "<IPython.core.display.HTML object>"
            ],
            "text/html": [
              "\n",
              "      <svg width=\"800\" height=\"500\">\n",
              "        <rect width=\"100%\" height=\"100%\" fill=\"black\"/>\n",
              "        <line x1=\"400\" y1=\"250\" x2=\"400.0\" y2=\"150.0\" stroke-linecap=\"round\" style=\"stroke:white;stroke-width:4\"/><line x1=\"400.0\" y1=\"150.0\" x2=\"300.0\" y2=\"150.0\" stroke-linecap=\"round\" style=\"stroke:white;stroke-width:4\"/><line x1=\"300.0\" y1=\"150.0\" x2=\"300.0\" y2=\"250.0\" stroke-linecap=\"round\" style=\"stroke:white;stroke-width:4\"/><line x1=\"300.0\" y1=\"250.0\" x2=\"400.0\" y2=\"250.0\" stroke-linecap=\"round\" style=\"stroke:white;stroke-width:4\"/>\n",
              "        <g visibility=visible transform=\"rotate(360,400.0,250.0) translate(382.0, 232.0)\">\n",
              "<path style=\" stroke:none;fill-rule:evenodd;fill:white;fill-opacity:1;\" d=\"M 18.214844 0.632812 C 16.109375 1.800781 15.011719 4.074219 15.074219 7.132812 L 15.085938 7.652344 L 14.785156 7.496094 C 13.476562 6.824219 11.957031 6.671875 10.40625 7.066406 C 8.46875 7.550781 6.515625 9.15625 4.394531 11.992188 C 3.0625 13.777344 2.679688 14.636719 3.042969 15.027344 L 3.15625 15.152344 L 3.519531 15.152344 C 4.238281 15.152344 4.828125 14.886719 8.1875 13.039062 C 9.386719 12.378906 10.371094 11.839844 10.378906 11.839844 C 10.386719 11.839844 10.355469 11.929688 10.304688 12.035156 C 9.832031 13.09375 9.257812 14.820312 8.96875 16.078125 C 7.914062 20.652344 8.617188 24.53125 11.070312 27.660156 C 11.351562 28.015625 11.363281 27.914062 10.972656 28.382812 C 8.925781 30.84375 7.945312 33.28125 8.238281 35.1875 C 8.289062 35.527344 8.28125 35.523438 8.917969 35.523438 C 10.941406 35.523438 13.074219 34.207031 15.136719 31.6875 C 15.359375 31.417969 15.328125 31.425781 15.5625 31.574219 C 16.292969 32.042969 18.023438 32.964844 18.175781 32.964844 C 18.335938 32.964844 19.941406 32.210938 20.828125 31.71875 C 20.996094 31.625 21.136719 31.554688 21.136719 31.558594 C 21.203125 31.664062 21.898438 32.414062 22.222656 32.730469 C 23.835938 34.300781 25.5625 35.132812 27.582031 35.300781 C 27.90625 35.328125 27.9375 35.308594 28.007812 34.984375 C 28.382812 33.242188 27.625 30.925781 25.863281 28.425781 L 25.542969 27.96875 L 25.699219 27.785156 C 28.945312 23.960938 29.132812 18.699219 26.257812 11.96875 L 26.207031 11.84375 L 27.945312 12.703125 C 31.53125 14.476562 32.316406 14.800781 33.03125 14.800781 C 33.976562 14.800781 33.78125 13.9375 32.472656 12.292969 C 28.519531 7.355469 25.394531 5.925781 21.921875 7.472656 L 21.558594 7.636719 L 21.578125 7.542969 C 21.699219 6.992188 21.761719 5.742188 21.699219 5.164062 C 21.496094 3.296875 20.664062 1.964844 19.003906 0.855469 C 18.480469 0.503906 18.457031 0.5 18.214844 0.632812\"/>\n",
              "</g>\n",
              "      </svg>\n",
              "    "
            ]
          },
          "metadata": {}
        }
      ]
    },
    {
      "cell_type": "markdown",
      "source": [
        "- Escreva uma chamada de função que passe bob como um argumento para o square e\n",
        "então execute o programa novamente."
      ],
      "metadata": {
        "id": "bVoB-5XrFsKh"
      }
    },
    {
      "cell_type": "code",
      "source": [
        "turtle.initializeTurtle()\n",
        "bob = Turtle\n",
        "functionSquare(bob)"
      ],
      "metadata": {
        "colab": {
          "base_uri": "https://localhost:8080/",
          "height": 521
        },
        "id": "BBhtkFZLKmMU",
        "outputId": "a57fdbe3-ae3d-46f2-8981-050f9d5e8d2c"
      },
      "execution_count": 20,
      "outputs": [
        {
          "output_type": "display_data",
          "data": {
            "text/plain": [
              "<IPython.core.display.HTML object>"
            ],
            "text/html": [
              "\n",
              "      <svg width=\"800\" height=\"500\">\n",
              "        <rect width=\"100%\" height=\"100%\" fill=\"black\"/>\n",
              "        <line x1=\"400\" y1=\"250\" x2=\"400.0\" y2=\"150.0\" stroke-linecap=\"round\" style=\"stroke:white;stroke-width:4\"/><line x1=\"400.0\" y1=\"150.0\" x2=\"300.0\" y2=\"150.0\" stroke-linecap=\"round\" style=\"stroke:white;stroke-width:4\"/><line x1=\"300.0\" y1=\"150.0\" x2=\"300.0\" y2=\"250.0\" stroke-linecap=\"round\" style=\"stroke:white;stroke-width:4\"/><line x1=\"300.0\" y1=\"250.0\" x2=\"400.0\" y2=\"250.0\" stroke-linecap=\"round\" style=\"stroke:white;stroke-width:4\"/>\n",
              "        <g visibility=visible transform=\"rotate(360,400.0,250.0) translate(382.0, 232.0)\">\n",
              "<path style=\" stroke:none;fill-rule:evenodd;fill:white;fill-opacity:1;\" d=\"M 18.214844 0.632812 C 16.109375 1.800781 15.011719 4.074219 15.074219 7.132812 L 15.085938 7.652344 L 14.785156 7.496094 C 13.476562 6.824219 11.957031 6.671875 10.40625 7.066406 C 8.46875 7.550781 6.515625 9.15625 4.394531 11.992188 C 3.0625 13.777344 2.679688 14.636719 3.042969 15.027344 L 3.15625 15.152344 L 3.519531 15.152344 C 4.238281 15.152344 4.828125 14.886719 8.1875 13.039062 C 9.386719 12.378906 10.371094 11.839844 10.378906 11.839844 C 10.386719 11.839844 10.355469 11.929688 10.304688 12.035156 C 9.832031 13.09375 9.257812 14.820312 8.96875 16.078125 C 7.914062 20.652344 8.617188 24.53125 11.070312 27.660156 C 11.351562 28.015625 11.363281 27.914062 10.972656 28.382812 C 8.925781 30.84375 7.945312 33.28125 8.238281 35.1875 C 8.289062 35.527344 8.28125 35.523438 8.917969 35.523438 C 10.941406 35.523438 13.074219 34.207031 15.136719 31.6875 C 15.359375 31.417969 15.328125 31.425781 15.5625 31.574219 C 16.292969 32.042969 18.023438 32.964844 18.175781 32.964844 C 18.335938 32.964844 19.941406 32.210938 20.828125 31.71875 C 20.996094 31.625 21.136719 31.554688 21.136719 31.558594 C 21.203125 31.664062 21.898438 32.414062 22.222656 32.730469 C 23.835938 34.300781 25.5625 35.132812 27.582031 35.300781 C 27.90625 35.328125 27.9375 35.308594 28.007812 34.984375 C 28.382812 33.242188 27.625 30.925781 25.863281 28.425781 L 25.542969 27.96875 L 25.699219 27.785156 C 28.945312 23.960938 29.132812 18.699219 26.257812 11.96875 L 26.207031 11.84375 L 27.945312 12.703125 C 31.53125 14.476562 32.316406 14.800781 33.03125 14.800781 C 33.976562 14.800781 33.78125 13.9375 32.472656 12.292969 C 28.519531 7.355469 25.394531 5.925781 21.921875 7.472656 L 21.558594 7.636719 L 21.578125 7.542969 C 21.699219 6.992188 21.761719 5.742188 21.699219 5.164062 C 21.496094 3.296875 20.664062 1.964844 19.003906 0.855469 C 18.480469 0.503906 18.457031 0.5 18.214844 0.632812\"/>\n",
              "</g>\n",
              "      </svg>\n",
              "    "
            ]
          },
          "metadata": {}
        }
      ]
    },
    {
      "cell_type": "markdown",
      "source": [
        "2. Acrescente outro parâmetro, chamado length, ao square. Altere o corpo para que o comprimento dos lados seja length e então altere a chamada da função para fornecer um segundo argumento. Execute o programa novamente. Teste o seu programa com uma variedade de valores para length."
      ],
      "metadata": {
        "id": "Q3KhdRNhLEW2"
      }
    },
    {
      "cell_type": "code",
      "source": [
        "import ColabTurtle.Turtle as turtle\n",
        "\n",
        "# Definição da função functionSquare, que desenha um quadrado, utilizando 2 parâmetros\n",
        "\n",
        "def functionSquare(t, lenght):\n",
        "  for i in range(4):\n",
        "    t.forward(lenght)\n",
        "    t.left(90)"
      ],
      "metadata": {
        "id": "ygStbMu7LZoS"
      },
      "execution_count": 21,
      "outputs": []
    },
    {
      "cell_type": "code",
      "source": [
        "turtle.initializeTurtle()\n",
        "crush = Turtle\n",
        "\n",
        "functionSquare(crush, 150)\n",
        "functionSquare(crush, 160)\n",
        "functionSquare(crush, 170)\n",
        "functionSquare(crush, 180)\n",
        "functionSquare(crush, 190)\n",
        "functionSquare(crush, 200)"
      ],
      "metadata": {
        "colab": {
          "base_uri": "https://localhost:8080/",
          "height": 521
        },
        "id": "QWU9nRWQLZ47",
        "outputId": "3763b17a-b444-4b12-8499-09b2aec5e309"
      },
      "execution_count": 23,
      "outputs": [
        {
          "output_type": "display_data",
          "data": {
            "text/plain": [
              "<IPython.core.display.HTML object>"
            ],
            "text/html": [
              "\n",
              "      <svg width=\"800\" height=\"500\">\n",
              "        <rect width=\"100%\" height=\"100%\" fill=\"black\"/>\n",
              "        <line x1=\"400\" y1=\"250\" x2=\"400.0\" y2=\"100.0\" stroke-linecap=\"round\" style=\"stroke:white;stroke-width:4\"/><line x1=\"400.0\" y1=\"100.0\" x2=\"250.0\" y2=\"100.0\" stroke-linecap=\"round\" style=\"stroke:white;stroke-width:4\"/><line x1=\"250.0\" y1=\"100.0\" x2=\"250.0\" y2=\"250.0\" stroke-linecap=\"round\" style=\"stroke:white;stroke-width:4\"/><line x1=\"250.0\" y1=\"250.0\" x2=\"400.0\" y2=\"250.0\" stroke-linecap=\"round\" style=\"stroke:white;stroke-width:4\"/><line x1=\"400.0\" y1=\"250.0\" x2=\"400.0\" y2=\"90.0\" stroke-linecap=\"round\" style=\"stroke:white;stroke-width:4\"/><line x1=\"400.0\" y1=\"90.0\" x2=\"240.0\" y2=\"90.0\" stroke-linecap=\"round\" style=\"stroke:white;stroke-width:4\"/><line x1=\"240.0\" y1=\"90.0\" x2=\"240.0\" y2=\"250.0\" stroke-linecap=\"round\" style=\"stroke:white;stroke-width:4\"/><line x1=\"240.0\" y1=\"250.0\" x2=\"400.0\" y2=\"250.0\" stroke-linecap=\"round\" style=\"stroke:white;stroke-width:4\"/><line x1=\"400.0\" y1=\"250.0\" x2=\"400.0\" y2=\"80.0\" stroke-linecap=\"round\" style=\"stroke:white;stroke-width:4\"/><line x1=\"400.0\" y1=\"80.0\" x2=\"230.0\" y2=\"80.0\" stroke-linecap=\"round\" style=\"stroke:white;stroke-width:4\"/><line x1=\"230.0\" y1=\"80.0\" x2=\"230.0\" y2=\"250.0\" stroke-linecap=\"round\" style=\"stroke:white;stroke-width:4\"/><line x1=\"230.0\" y1=\"250.0\" x2=\"400.0\" y2=\"250.0\" stroke-linecap=\"round\" style=\"stroke:white;stroke-width:4\"/><line x1=\"400.0\" y1=\"250.0\" x2=\"400.0\" y2=\"70.0\" stroke-linecap=\"round\" style=\"stroke:white;stroke-width:4\"/><line x1=\"400.0\" y1=\"70.0\" x2=\"220.0\" y2=\"70.0\" stroke-linecap=\"round\" style=\"stroke:white;stroke-width:4\"/><line x1=\"220.0\" y1=\"70.0\" x2=\"220.0\" y2=\"250.0\" stroke-linecap=\"round\" style=\"stroke:white;stroke-width:4\"/><line x1=\"220.0\" y1=\"250.0\" x2=\"400.0\" y2=\"250.0\" stroke-linecap=\"round\" style=\"stroke:white;stroke-width:4\"/><line x1=\"400.0\" y1=\"250.0\" x2=\"400.0\" y2=\"60.0\" stroke-linecap=\"round\" style=\"stroke:white;stroke-width:4\"/><line x1=\"400.0\" y1=\"60.0\" x2=\"210.0\" y2=\"60.0\" stroke-linecap=\"round\" style=\"stroke:white;stroke-width:4\"/><line x1=\"210.0\" y1=\"60.0\" x2=\"210.0\" y2=\"250.0\" stroke-linecap=\"round\" style=\"stroke:white;stroke-width:4\"/><line x1=\"210.0\" y1=\"250.0\" x2=\"400.0\" y2=\"250.0\" stroke-linecap=\"round\" style=\"stroke:white;stroke-width:4\"/><line x1=\"400.0\" y1=\"250.0\" x2=\"400.0\" y2=\"50.0\" stroke-linecap=\"round\" style=\"stroke:white;stroke-width:4\"/><line x1=\"400.0\" y1=\"50.0\" x2=\"200.0\" y2=\"50.0\" stroke-linecap=\"round\" style=\"stroke:white;stroke-width:4\"/><line x1=\"200.0\" y1=\"50.0\" x2=\"200.0\" y2=\"250.0\" stroke-linecap=\"round\" style=\"stroke:white;stroke-width:4\"/><line x1=\"200.0\" y1=\"250.0\" x2=\"400.0\" y2=\"250.0\" stroke-linecap=\"round\" style=\"stroke:white;stroke-width:4\"/>\n",
              "        <g visibility=visible transform=\"rotate(360,400.0,250.0) translate(382.0, 232.0)\">\n",
              "<path style=\" stroke:none;fill-rule:evenodd;fill:white;fill-opacity:1;\" d=\"M 18.214844 0.632812 C 16.109375 1.800781 15.011719 4.074219 15.074219 7.132812 L 15.085938 7.652344 L 14.785156 7.496094 C 13.476562 6.824219 11.957031 6.671875 10.40625 7.066406 C 8.46875 7.550781 6.515625 9.15625 4.394531 11.992188 C 3.0625 13.777344 2.679688 14.636719 3.042969 15.027344 L 3.15625 15.152344 L 3.519531 15.152344 C 4.238281 15.152344 4.828125 14.886719 8.1875 13.039062 C 9.386719 12.378906 10.371094 11.839844 10.378906 11.839844 C 10.386719 11.839844 10.355469 11.929688 10.304688 12.035156 C 9.832031 13.09375 9.257812 14.820312 8.96875 16.078125 C 7.914062 20.652344 8.617188 24.53125 11.070312 27.660156 C 11.351562 28.015625 11.363281 27.914062 10.972656 28.382812 C 8.925781 30.84375 7.945312 33.28125 8.238281 35.1875 C 8.289062 35.527344 8.28125 35.523438 8.917969 35.523438 C 10.941406 35.523438 13.074219 34.207031 15.136719 31.6875 C 15.359375 31.417969 15.328125 31.425781 15.5625 31.574219 C 16.292969 32.042969 18.023438 32.964844 18.175781 32.964844 C 18.335938 32.964844 19.941406 32.210938 20.828125 31.71875 C 20.996094 31.625 21.136719 31.554688 21.136719 31.558594 C 21.203125 31.664062 21.898438 32.414062 22.222656 32.730469 C 23.835938 34.300781 25.5625 35.132812 27.582031 35.300781 C 27.90625 35.328125 27.9375 35.308594 28.007812 34.984375 C 28.382812 33.242188 27.625 30.925781 25.863281 28.425781 L 25.542969 27.96875 L 25.699219 27.785156 C 28.945312 23.960938 29.132812 18.699219 26.257812 11.96875 L 26.207031 11.84375 L 27.945312 12.703125 C 31.53125 14.476562 32.316406 14.800781 33.03125 14.800781 C 33.976562 14.800781 33.78125 13.9375 32.472656 12.292969 C 28.519531 7.355469 25.394531 5.925781 21.921875 7.472656 L 21.558594 7.636719 L 21.578125 7.542969 C 21.699219 6.992188 21.761719 5.742188 21.699219 5.164062 C 21.496094 3.296875 20.664062 1.964844 19.003906 0.855469 C 18.480469 0.503906 18.457031 0.5 18.214844 0.632812\"/>\n",
              "</g>\n",
              "      </svg>\n",
              "    "
            ]
          },
          "metadata": {}
        }
      ]
    },
    {
      "cell_type": "markdown",
      "source": [
        "3. Faça uma cópia do square e mude o nome para polygon. Acrescente outro parâmetro chamado n e altere o corpo para que desenhe um polígono regular de n lados.\n",
        "Dica: os ângulos exteriores de um polígono regular de n lados são 360/n graus."
      ],
      "metadata": {
        "id": "tH4kDlBmLHqP"
      }
    },
    {
      "cell_type": "markdown",
      "source": [
        "**OBS: O que são polígonos? São figuras geométricas planas compostas por apenas uma linha fechada e seus lados são segmentados por retas. Um quadro, por exemplo, é um polígono, uma vez que possui quatro lados. Já um círculo não é um polígono porque é arredondado e não possui lados.**"
      ],
      "metadata": {
        "id": "fEkYgZwuOEzu"
      }
    },
    {
      "cell_type": "code",
      "source": [
        "# Definição da função functionPolygon, que desenha um polígono, utilizando 3 parâmetros (objeto turtle, tamanho e quantidade de lados)\n",
        "\n",
        "def functionPolygon(t, lenght, n):\n",
        "    angulo = int(360/n)\n",
        "\n",
        "    for i in range(n):\n",
        "      t.forward(lenght)\n",
        "      t.left(angulo)"
      ],
      "metadata": {
        "id": "917ZcQ_-NZJW"
      },
      "execution_count": 24,
      "outputs": []
    },
    {
      "cell_type": "code",
      "source": [
        "turtle.initializeTurtle()\n",
        "triangle = Turtle\n",
        "\n",
        "functionPolygon(triangle, 80, 6)"
      ],
      "metadata": {
        "colab": {
          "base_uri": "https://localhost:8080/",
          "height": 521
        },
        "id": "ysbd-tDVNZP8",
        "outputId": "b6fde539-bd39-4b3c-c040-0559f9f79203"
      },
      "execution_count": 34,
      "outputs": [
        {
          "output_type": "display_data",
          "data": {
            "text/plain": [
              "<IPython.core.display.HTML object>"
            ],
            "text/html": [
              "\n",
              "      <svg width=\"800\" height=\"500\">\n",
              "        <rect width=\"100%\" height=\"100%\" fill=\"black\"/>\n",
              "        <line x1=\"400\" y1=\"250\" x2=\"400.0\" y2=\"170.0\" stroke-linecap=\"round\" style=\"stroke:white;stroke-width:4\"/><line x1=\"400.0\" y1=\"170.0\" x2=\"330.718\" y2=\"130.0\" stroke-linecap=\"round\" style=\"stroke:white;stroke-width:4\"/><line x1=\"330.718\" y1=\"130.0\" x2=\"261.436\" y2=\"170.0\" stroke-linecap=\"round\" style=\"stroke:white;stroke-width:4\"/><line x1=\"261.436\" y1=\"170.0\" x2=\"261.436\" y2=\"250.0\" stroke-linecap=\"round\" style=\"stroke:white;stroke-width:4\"/><line x1=\"261.436\" y1=\"250.0\" x2=\"330.718\" y2=\"290.0\" stroke-linecap=\"round\" style=\"stroke:white;stroke-width:4\"/><line x1=\"330.718\" y1=\"290.0\" x2=\"400.0\" y2=\"250.0\" stroke-linecap=\"round\" style=\"stroke:white;stroke-width:4\"/>\n",
              "        <g visibility=visible transform=\"rotate(360,400.0,250.0) translate(382.0, 232.0)\">\n",
              "<path style=\" stroke:none;fill-rule:evenodd;fill:white;fill-opacity:1;\" d=\"M 18.214844 0.632812 C 16.109375 1.800781 15.011719 4.074219 15.074219 7.132812 L 15.085938 7.652344 L 14.785156 7.496094 C 13.476562 6.824219 11.957031 6.671875 10.40625 7.066406 C 8.46875 7.550781 6.515625 9.15625 4.394531 11.992188 C 3.0625 13.777344 2.679688 14.636719 3.042969 15.027344 L 3.15625 15.152344 L 3.519531 15.152344 C 4.238281 15.152344 4.828125 14.886719 8.1875 13.039062 C 9.386719 12.378906 10.371094 11.839844 10.378906 11.839844 C 10.386719 11.839844 10.355469 11.929688 10.304688 12.035156 C 9.832031 13.09375 9.257812 14.820312 8.96875 16.078125 C 7.914062 20.652344 8.617188 24.53125 11.070312 27.660156 C 11.351562 28.015625 11.363281 27.914062 10.972656 28.382812 C 8.925781 30.84375 7.945312 33.28125 8.238281 35.1875 C 8.289062 35.527344 8.28125 35.523438 8.917969 35.523438 C 10.941406 35.523438 13.074219 34.207031 15.136719 31.6875 C 15.359375 31.417969 15.328125 31.425781 15.5625 31.574219 C 16.292969 32.042969 18.023438 32.964844 18.175781 32.964844 C 18.335938 32.964844 19.941406 32.210938 20.828125 31.71875 C 20.996094 31.625 21.136719 31.554688 21.136719 31.558594 C 21.203125 31.664062 21.898438 32.414062 22.222656 32.730469 C 23.835938 34.300781 25.5625 35.132812 27.582031 35.300781 C 27.90625 35.328125 27.9375 35.308594 28.007812 34.984375 C 28.382812 33.242188 27.625 30.925781 25.863281 28.425781 L 25.542969 27.96875 L 25.699219 27.785156 C 28.945312 23.960938 29.132812 18.699219 26.257812 11.96875 L 26.207031 11.84375 L 27.945312 12.703125 C 31.53125 14.476562 32.316406 14.800781 33.03125 14.800781 C 33.976562 14.800781 33.78125 13.9375 32.472656 12.292969 C 28.519531 7.355469 25.394531 5.925781 21.921875 7.472656 L 21.558594 7.636719 L 21.578125 7.542969 C 21.699219 6.992188 21.761719 5.742188 21.699219 5.164062 C 21.496094 3.296875 20.664062 1.964844 19.003906 0.855469 C 18.480469 0.503906 18.457031 0.5 18.214844 0.632812\"/>\n",
              "</g>\n",
              "      </svg>\n",
              "    "
            ]
          },
          "metadata": {}
        }
      ]
    },
    {
      "cell_type": "markdown",
      "source": [
        "4. Escreva uma função chamada circle que use o turtle, t e um raio r como parâmetros e desenhe um círculo aproximado ao chamar polygon com um comprimento e número de lados adequados. Teste a sua função com uma série de valores de r.\n",
        "\n",
        "- Dica: descubra a circunferência do círculo e certifique-se de que length * n =\n",
        "circumference."
      ],
      "metadata": {
        "id": "Wr_HsYA4LJy_"
      }
    },
    {
      "cell_type": "markdown",
      "source": [
        "**COMPARAÇÃO DE SOLUÇÕES:**"
      ],
      "metadata": {
        "id": "3z-ZmuBmffxp"
      }
    },
    {
      "cell_type": "markdown",
      "source": [
        "**SOLUÇÃO PRÓPRIA: sem sucesso**"
      ],
      "metadata": {
        "id": "n2rL3Wxmfhsk"
      }
    },
    {
      "cell_type": "code",
      "source": [
        "def functionCircle(t, r):\n",
        "  # diametro seria o length na functionPolygon\n",
        "\n",
        "  #formula para calcular o raio (o raio é metade do diâmetro)\n",
        "  # 𝑟 = 𝑑/2 > d = 2 * r\n",
        "\n",
        "  d = 2 * r\n",
        "\n",
        "  functionPolygon(t, d, 0) # um círculo não é um polígono, pois não tem lados"
      ],
      "metadata": {
        "id": "ip050nlfRo4L"
      },
      "execution_count": 26,
      "outputs": []
    },
    {
      "cell_type": "code",
      "source": [
        "turtle.initializeTurtle()\n",
        "circulo = Turtle\n",
        "\n",
        "functionCircle(circulo, 10)"
      ],
      "metadata": {
        "colab": {
          "base_uri": "https://localhost:8080/",
          "height": 826
        },
        "id": "6A6UZx2kRo8c",
        "outputId": "9bc5dd29-e35e-4a53-afa4-dc0d2e1c1430"
      },
      "execution_count": 27,
      "outputs": [
        {
          "output_type": "display_data",
          "data": {
            "text/plain": [
              "<IPython.core.display.HTML object>"
            ],
            "text/html": [
              "\n",
              "      <svg width=\"800\" height=\"500\">\n",
              "        <rect width=\"100%\" height=\"100%\" fill=\"black\"/>\n",
              "        \n",
              "        <g visibility=visible transform=\"rotate(360,400,250) translate(382, 232)\">\n",
              "<path style=\" stroke:none;fill-rule:evenodd;fill:white;fill-opacity:1;\" d=\"M 18.214844 0.632812 C 16.109375 1.800781 15.011719 4.074219 15.074219 7.132812 L 15.085938 7.652344 L 14.785156 7.496094 C 13.476562 6.824219 11.957031 6.671875 10.40625 7.066406 C 8.46875 7.550781 6.515625 9.15625 4.394531 11.992188 C 3.0625 13.777344 2.679688 14.636719 3.042969 15.027344 L 3.15625 15.152344 L 3.519531 15.152344 C 4.238281 15.152344 4.828125 14.886719 8.1875 13.039062 C 9.386719 12.378906 10.371094 11.839844 10.378906 11.839844 C 10.386719 11.839844 10.355469 11.929688 10.304688 12.035156 C 9.832031 13.09375 9.257812 14.820312 8.96875 16.078125 C 7.914062 20.652344 8.617188 24.53125 11.070312 27.660156 C 11.351562 28.015625 11.363281 27.914062 10.972656 28.382812 C 8.925781 30.84375 7.945312 33.28125 8.238281 35.1875 C 8.289062 35.527344 8.28125 35.523438 8.917969 35.523438 C 10.941406 35.523438 13.074219 34.207031 15.136719 31.6875 C 15.359375 31.417969 15.328125 31.425781 15.5625 31.574219 C 16.292969 32.042969 18.023438 32.964844 18.175781 32.964844 C 18.335938 32.964844 19.941406 32.210938 20.828125 31.71875 C 20.996094 31.625 21.136719 31.554688 21.136719 31.558594 C 21.203125 31.664062 21.898438 32.414062 22.222656 32.730469 C 23.835938 34.300781 25.5625 35.132812 27.582031 35.300781 C 27.90625 35.328125 27.9375 35.308594 28.007812 34.984375 C 28.382812 33.242188 27.625 30.925781 25.863281 28.425781 L 25.542969 27.96875 L 25.699219 27.785156 C 28.945312 23.960938 29.132812 18.699219 26.257812 11.96875 L 26.207031 11.84375 L 27.945312 12.703125 C 31.53125 14.476562 32.316406 14.800781 33.03125 14.800781 C 33.976562 14.800781 33.78125 13.9375 32.472656 12.292969 C 28.519531 7.355469 25.394531 5.925781 21.921875 7.472656 L 21.558594 7.636719 L 21.578125 7.542969 C 21.699219 6.992188 21.761719 5.742188 21.699219 5.164062 C 21.496094 3.296875 20.664062 1.964844 19.003906 0.855469 C 18.480469 0.503906 18.457031 0.5 18.214844 0.632812\"/>\n",
              "</g>\n",
              "      </svg>\n",
              "    "
            ]
          },
          "metadata": {}
        },
        {
          "output_type": "error",
          "ename": "ZeroDivisionError",
          "evalue": "division by zero",
          "traceback": [
            "\u001b[0;31m---------------------------------------------------------------------------\u001b[0m",
            "\u001b[0;31mZeroDivisionError\u001b[0m                         Traceback (most recent call last)",
            "\u001b[0;32m<ipython-input-27-027a8af22981>\u001b[0m in \u001b[0;36m<cell line: 4>\u001b[0;34m()\u001b[0m\n\u001b[1;32m      2\u001b[0m \u001b[0mcirculo\u001b[0m \u001b[0;34m=\u001b[0m \u001b[0mTurtle\u001b[0m\u001b[0;34m\u001b[0m\u001b[0;34m\u001b[0m\u001b[0m\n\u001b[1;32m      3\u001b[0m \u001b[0;34m\u001b[0m\u001b[0m\n\u001b[0;32m----> 4\u001b[0;31m \u001b[0mfunctionCircle\u001b[0m\u001b[0;34m(\u001b[0m\u001b[0mcirculo\u001b[0m\u001b[0;34m,\u001b[0m \u001b[0;36m10\u001b[0m\u001b[0;34m)\u001b[0m\u001b[0;34m\u001b[0m\u001b[0;34m\u001b[0m\u001b[0m\n\u001b[0m",
            "\u001b[0;32m<ipython-input-26-4000770a10bb>\u001b[0m in \u001b[0;36mfunctionCircle\u001b[0;34m(t, r)\u001b[0m\n\u001b[1;32m      7\u001b[0m   \u001b[0md\u001b[0m \u001b[0;34m=\u001b[0m \u001b[0;36m2\u001b[0m \u001b[0;34m*\u001b[0m \u001b[0mr\u001b[0m\u001b[0;34m\u001b[0m\u001b[0;34m\u001b[0m\u001b[0m\n\u001b[1;32m      8\u001b[0m \u001b[0;34m\u001b[0m\u001b[0m\n\u001b[0;32m----> 9\u001b[0;31m   \u001b[0mfunctionPolygon\u001b[0m\u001b[0;34m(\u001b[0m\u001b[0mt\u001b[0m\u001b[0;34m,\u001b[0m \u001b[0md\u001b[0m\u001b[0;34m,\u001b[0m \u001b[0;36m0\u001b[0m\u001b[0;34m)\u001b[0m \u001b[0;31m# um círculo não é um polígono, pois não tem lados\u001b[0m\u001b[0;34m\u001b[0m\u001b[0;34m\u001b[0m\u001b[0m\n\u001b[0m",
            "\u001b[0;32m<ipython-input-24-d4f22367ff21>\u001b[0m in \u001b[0;36mfunctionPolygon\u001b[0;34m(t, lenght, n)\u001b[0m\n\u001b[1;32m      2\u001b[0m \u001b[0;34m\u001b[0m\u001b[0m\n\u001b[1;32m      3\u001b[0m \u001b[0;32mdef\u001b[0m \u001b[0mfunctionPolygon\u001b[0m\u001b[0;34m(\u001b[0m\u001b[0mt\u001b[0m\u001b[0;34m,\u001b[0m \u001b[0mlenght\u001b[0m\u001b[0;34m,\u001b[0m \u001b[0mn\u001b[0m\u001b[0;34m)\u001b[0m\u001b[0;34m:\u001b[0m\u001b[0;34m\u001b[0m\u001b[0;34m\u001b[0m\u001b[0m\n\u001b[0;32m----> 4\u001b[0;31m     \u001b[0mangulo\u001b[0m \u001b[0;34m=\u001b[0m \u001b[0mint\u001b[0m\u001b[0;34m(\u001b[0m\u001b[0;36m360\u001b[0m\u001b[0;34m/\u001b[0m\u001b[0mn\u001b[0m\u001b[0;34m)\u001b[0m\u001b[0;34m\u001b[0m\u001b[0;34m\u001b[0m\u001b[0m\n\u001b[0m\u001b[1;32m      5\u001b[0m \u001b[0;34m\u001b[0m\u001b[0m\n\u001b[1;32m      6\u001b[0m     \u001b[0;32mfor\u001b[0m \u001b[0mi\u001b[0m \u001b[0;32min\u001b[0m \u001b[0mrange\u001b[0m\u001b[0;34m(\u001b[0m\u001b[0mn\u001b[0m\u001b[0;34m)\u001b[0m\u001b[0;34m:\u001b[0m\u001b[0;34m\u001b[0m\u001b[0;34m\u001b[0m\u001b[0m\n",
            "\u001b[0;31mZeroDivisionError\u001b[0m: division by zero"
          ]
        }
      ]
    },
    {
      "cell_type": "markdown",
      "source": [
        "**SOLUÇÃO DO CHATGPT:**"
      ],
      "metadata": {
        "id": "btfqh4aZgZRC"
      }
    },
    {
      "cell_type": "code",
      "source": [
        "import math\n",
        "\n",
        "def functionCircleChatGpt(t, r):\n",
        "    n = 100  # Número de lados do polígono\n",
        "    circumference = 2 * math.pi * r\n",
        "    side_length = circumference/n\n",
        "    functionPolygon(t, side_length, n)"
      ],
      "metadata": {
        "id": "8vCgznfyRo_B"
      },
      "execution_count": 28,
      "outputs": []
    },
    {
      "cell_type": "code",
      "source": [
        "turtle.initializeTurtle()\n",
        "circulo_chatgpt = Turtle\n",
        "\n",
        "functionCircleChatGpt(circulo_chatgpt, 50)"
      ],
      "metadata": {
        "colab": {
          "base_uri": "https://localhost:8080/",
          "height": 521
        },
        "id": "L6DZwDg3RpBq",
        "outputId": "c7dc8a07-053e-4d86-d2d9-a48e62bd2f19"
      },
      "execution_count": 32,
      "outputs": [
        {
          "output_type": "display_data",
          "data": {
            "text/plain": [
              "<IPython.core.display.HTML object>"
            ],
            "text/html": [
              "\n",
              "      <svg width=\"800\" height=\"500\">\n",
              "        <rect width=\"100%\" height=\"100%\" fill=\"black\"/>\n",
              "        <line x1=\"400\" y1=\"250\" x2=\"400.0\" y2=\"246.858\" stroke-linecap=\"round\" style=\"stroke:white;stroke-width:4\"/><line x1=\"400.0\" y1=\"246.858\" x2=\"399.836\" y2=\"243.721\" stroke-linecap=\"round\" style=\"stroke:white;stroke-width:4\"/><line x1=\"399.836\" y1=\"243.721\" x2=\"399.508\" y2=\"240.597\" stroke-linecap=\"round\" style=\"stroke:white;stroke-width:4\"/><line x1=\"399.508\" y1=\"240.597\" x2=\"399.017\" y2=\"237.494\" stroke-linecap=\"round\" style=\"stroke:white;stroke-width:4\"/><line x1=\"399.017\" y1=\"237.494\" x2=\"398.364\" y2=\"234.421\" stroke-linecap=\"round\" style=\"stroke:white;stroke-width:4\"/><line x1=\"398.364\" y1=\"234.421\" x2=\"397.551\" y2=\"231.386\" stroke-linecap=\"round\" style=\"stroke:white;stroke-width:4\"/><line x1=\"397.551\" y1=\"231.386\" x2=\"396.58\" y2=\"228.398\" stroke-linecap=\"round\" style=\"stroke:white;stroke-width:4\"/><line x1=\"396.58\" y1=\"228.398\" x2=\"395.454\" y2=\"225.465\" stroke-linecap=\"round\" style=\"stroke:white;stroke-width:4\"/><line x1=\"395.454\" y1=\"225.465\" x2=\"394.176\" y2=\"222.595\" stroke-linecap=\"round\" style=\"stroke:white;stroke-width:4\"/><line x1=\"394.176\" y1=\"222.595\" x2=\"392.75\" y2=\"219.796\" stroke-linecap=\"round\" style=\"stroke:white;stroke-width:4\"/><line x1=\"392.75\" y1=\"219.796\" x2=\"391.179\" y2=\"217.075\" stroke-linecap=\"round\" style=\"stroke:white;stroke-width:4\"/><line x1=\"391.179\" y1=\"217.075\" x2=\"389.468\" y2=\"214.44\" stroke-linecap=\"round\" style=\"stroke:white;stroke-width:4\"/><line x1=\"389.468\" y1=\"214.44\" x2=\"387.621\" y2=\"211.898\" stroke-linecap=\"round\" style=\"stroke:white;stroke-width:4\"/><line x1=\"387.621\" y1=\"211.898\" x2=\"385.644\" y2=\"209.457\" stroke-linecap=\"round\" style=\"stroke:white;stroke-width:4\"/><line x1=\"385.644\" y1=\"209.457\" x2=\"383.542\" y2=\"207.122\" stroke-linecap=\"round\" style=\"stroke:white;stroke-width:4\"/><line x1=\"383.542\" y1=\"207.122\" x2=\"381.321\" y2=\"204.901\" stroke-linecap=\"round\" style=\"stroke:white;stroke-width:4\"/><line x1=\"381.321\" y1=\"204.901\" x2=\"378.986\" y2=\"202.799\" stroke-linecap=\"round\" style=\"stroke:white;stroke-width:4\"/><line x1=\"378.986\" y1=\"202.799\" x2=\"376.545\" y2=\"200.822\" stroke-linecap=\"round\" style=\"stroke:white;stroke-width:4\"/><line x1=\"376.545\" y1=\"200.822\" x2=\"374.003\" y2=\"198.975\" stroke-linecap=\"round\" style=\"stroke:white;stroke-width:4\"/><line x1=\"374.003\" y1=\"198.975\" x2=\"371.368\" y2=\"197.264\" stroke-linecap=\"round\" style=\"stroke:white;stroke-width:4\"/><line x1=\"371.368\" y1=\"197.264\" x2=\"368.647\" y2=\"195.693\" stroke-linecap=\"round\" style=\"stroke:white;stroke-width:4\"/><line x1=\"368.647\" y1=\"195.693\" x2=\"365.848\" y2=\"194.267\" stroke-linecap=\"round\" style=\"stroke:white;stroke-width:4\"/><line x1=\"365.848\" y1=\"194.267\" x2=\"362.978\" y2=\"192.989\" stroke-linecap=\"round\" style=\"stroke:white;stroke-width:4\"/><line x1=\"362.978\" y1=\"192.989\" x2=\"360.045\" y2=\"191.863\" stroke-linecap=\"round\" style=\"stroke:white;stroke-width:4\"/><line x1=\"360.045\" y1=\"191.863\" x2=\"357.057\" y2=\"190.892\" stroke-linecap=\"round\" style=\"stroke:white;stroke-width:4\"/><line x1=\"357.057\" y1=\"190.892\" x2=\"354.022\" y2=\"190.079\" stroke-linecap=\"round\" style=\"stroke:white;stroke-width:4\"/><line x1=\"354.022\" y1=\"190.079\" x2=\"350.949\" y2=\"189.426\" stroke-linecap=\"round\" style=\"stroke:white;stroke-width:4\"/><line x1=\"350.949\" y1=\"189.426\" x2=\"347.846\" y2=\"188.935\" stroke-linecap=\"round\" style=\"stroke:white;stroke-width:4\"/><line x1=\"347.846\" y1=\"188.935\" x2=\"344.722\" y2=\"188.607\" stroke-linecap=\"round\" style=\"stroke:white;stroke-width:4\"/><line x1=\"344.722\" y1=\"188.607\" x2=\"341.585\" y2=\"188.443\" stroke-linecap=\"round\" style=\"stroke:white;stroke-width:4\"/><line x1=\"341.585\" y1=\"188.443\" x2=\"338.443\" y2=\"188.443\" stroke-linecap=\"round\" style=\"stroke:white;stroke-width:4\"/><line x1=\"338.443\" y1=\"188.443\" x2=\"335.306\" y2=\"188.607\" stroke-linecap=\"round\" style=\"stroke:white;stroke-width:4\"/><line x1=\"335.306\" y1=\"188.607\" x2=\"332.182\" y2=\"188.935\" stroke-linecap=\"round\" style=\"stroke:white;stroke-width:4\"/><line x1=\"332.182\" y1=\"188.935\" x2=\"329.079\" y2=\"189.426\" stroke-linecap=\"round\" style=\"stroke:white;stroke-width:4\"/><line x1=\"329.079\" y1=\"189.426\" x2=\"326.006\" y2=\"190.079\" stroke-linecap=\"round\" style=\"stroke:white;stroke-width:4\"/><line x1=\"326.006\" y1=\"190.079\" x2=\"322.971\" y2=\"190.892\" stroke-linecap=\"round\" style=\"stroke:white;stroke-width:4\"/><line x1=\"322.971\" y1=\"190.892\" x2=\"319.983\" y2=\"191.863\" stroke-linecap=\"round\" style=\"stroke:white;stroke-width:4\"/><line x1=\"319.983\" y1=\"191.863\" x2=\"317.05\" y2=\"192.989\" stroke-linecap=\"round\" style=\"stroke:white;stroke-width:4\"/><line x1=\"317.05\" y1=\"192.989\" x2=\"314.18\" y2=\"194.267\" stroke-linecap=\"round\" style=\"stroke:white;stroke-width:4\"/><line x1=\"314.18\" y1=\"194.267\" x2=\"311.381\" y2=\"195.693\" stroke-linecap=\"round\" style=\"stroke:white;stroke-width:4\"/><line x1=\"311.381\" y1=\"195.693\" x2=\"308.66\" y2=\"197.264\" stroke-linecap=\"round\" style=\"stroke:white;stroke-width:4\"/><line x1=\"308.66\" y1=\"197.264\" x2=\"306.025\" y2=\"198.975\" stroke-linecap=\"round\" style=\"stroke:white;stroke-width:4\"/><line x1=\"306.025\" y1=\"198.975\" x2=\"303.483\" y2=\"200.822\" stroke-linecap=\"round\" style=\"stroke:white;stroke-width:4\"/><line x1=\"303.483\" y1=\"200.822\" x2=\"301.042\" y2=\"202.799\" stroke-linecap=\"round\" style=\"stroke:white;stroke-width:4\"/><line x1=\"301.042\" y1=\"202.799\" x2=\"298.707\" y2=\"204.901\" stroke-linecap=\"round\" style=\"stroke:white;stroke-width:4\"/><line x1=\"298.707\" y1=\"204.901\" x2=\"296.486\" y2=\"207.122\" stroke-linecap=\"round\" style=\"stroke:white;stroke-width:4\"/><line x1=\"296.486\" y1=\"207.122\" x2=\"294.384\" y2=\"209.457\" stroke-linecap=\"round\" style=\"stroke:white;stroke-width:4\"/><line x1=\"294.384\" y1=\"209.457\" x2=\"292.407\" y2=\"211.898\" stroke-linecap=\"round\" style=\"stroke:white;stroke-width:4\"/><line x1=\"292.407\" y1=\"211.898\" x2=\"290.56\" y2=\"214.44\" stroke-linecap=\"round\" style=\"stroke:white;stroke-width:4\"/><line x1=\"290.56\" y1=\"214.44\" x2=\"288.849\" y2=\"217.075\" stroke-linecap=\"round\" style=\"stroke:white;stroke-width:4\"/><line x1=\"288.849\" y1=\"217.075\" x2=\"287.278\" y2=\"219.796\" stroke-linecap=\"round\" style=\"stroke:white;stroke-width:4\"/><line x1=\"287.278\" y1=\"219.796\" x2=\"285.852\" y2=\"222.595\" stroke-linecap=\"round\" style=\"stroke:white;stroke-width:4\"/><line x1=\"285.852\" y1=\"222.595\" x2=\"284.574\" y2=\"225.465\" stroke-linecap=\"round\" style=\"stroke:white;stroke-width:4\"/><line x1=\"284.574\" y1=\"225.465\" x2=\"283.448\" y2=\"228.398\" stroke-linecap=\"round\" style=\"stroke:white;stroke-width:4\"/><line x1=\"283.448\" y1=\"228.398\" x2=\"282.477\" y2=\"231.386\" stroke-linecap=\"round\" style=\"stroke:white;stroke-width:4\"/><line x1=\"282.477\" y1=\"231.386\" x2=\"281.664\" y2=\"234.421\" stroke-linecap=\"round\" style=\"stroke:white;stroke-width:4\"/><line x1=\"281.664\" y1=\"234.421\" x2=\"281.011\" y2=\"237.494\" stroke-linecap=\"round\" style=\"stroke:white;stroke-width:4\"/><line x1=\"281.011\" y1=\"237.494\" x2=\"280.52\" y2=\"240.597\" stroke-linecap=\"round\" style=\"stroke:white;stroke-width:4\"/><line x1=\"280.52\" y1=\"240.597\" x2=\"280.192\" y2=\"243.721\" stroke-linecap=\"round\" style=\"stroke:white;stroke-width:4\"/><line x1=\"280.192\" y1=\"243.721\" x2=\"280.028\" y2=\"246.858\" stroke-linecap=\"round\" style=\"stroke:white;stroke-width:4\"/><line x1=\"280.028\" y1=\"246.858\" x2=\"280.028\" y2=\"250.0\" stroke-linecap=\"round\" style=\"stroke:white;stroke-width:4\"/><line x1=\"280.028\" y1=\"250.0\" x2=\"280.192\" y2=\"253.137\" stroke-linecap=\"round\" style=\"stroke:white;stroke-width:4\"/><line x1=\"280.192\" y1=\"253.137\" x2=\"280.52\" y2=\"256.261\" stroke-linecap=\"round\" style=\"stroke:white;stroke-width:4\"/><line x1=\"280.52\" y1=\"256.261\" x2=\"281.011\" y2=\"259.364\" stroke-linecap=\"round\" style=\"stroke:white;stroke-width:4\"/><line x1=\"281.011\" y1=\"259.364\" x2=\"281.664\" y2=\"262.437\" stroke-linecap=\"round\" style=\"stroke:white;stroke-width:4\"/><line x1=\"281.664\" y1=\"262.437\" x2=\"282.477\" y2=\"265.472\" stroke-linecap=\"round\" style=\"stroke:white;stroke-width:4\"/><line x1=\"282.477\" y1=\"265.472\" x2=\"283.448\" y2=\"268.46\" stroke-linecap=\"round\" style=\"stroke:white;stroke-width:4\"/><line x1=\"283.448\" y1=\"268.46\" x2=\"284.574\" y2=\"271.393\" stroke-linecap=\"round\" style=\"stroke:white;stroke-width:4\"/><line x1=\"284.574\" y1=\"271.393\" x2=\"285.852\" y2=\"274.263\" stroke-linecap=\"round\" style=\"stroke:white;stroke-width:4\"/><line x1=\"285.852\" y1=\"274.263\" x2=\"287.278\" y2=\"277.062\" stroke-linecap=\"round\" style=\"stroke:white;stroke-width:4\"/><line x1=\"287.278\" y1=\"277.062\" x2=\"288.849\" y2=\"279.783\" stroke-linecap=\"round\" style=\"stroke:white;stroke-width:4\"/><line x1=\"288.849\" y1=\"279.783\" x2=\"290.56\" y2=\"282.418\" stroke-linecap=\"round\" style=\"stroke:white;stroke-width:4\"/><line x1=\"290.56\" y1=\"282.418\" x2=\"292.407\" y2=\"284.96\" stroke-linecap=\"round\" style=\"stroke:white;stroke-width:4\"/><line x1=\"292.407\" y1=\"284.96\" x2=\"294.384\" y2=\"287.401\" stroke-linecap=\"round\" style=\"stroke:white;stroke-width:4\"/><line x1=\"294.384\" y1=\"287.401\" x2=\"296.486\" y2=\"289.736\" stroke-linecap=\"round\" style=\"stroke:white;stroke-width:4\"/><line x1=\"296.486\" y1=\"289.736\" x2=\"298.707\" y2=\"291.957\" stroke-linecap=\"round\" style=\"stroke:white;stroke-width:4\"/><line x1=\"298.707\" y1=\"291.957\" x2=\"301.042\" y2=\"294.059\" stroke-linecap=\"round\" style=\"stroke:white;stroke-width:4\"/><line x1=\"301.042\" y1=\"294.059\" x2=\"303.483\" y2=\"296.036\" stroke-linecap=\"round\" style=\"stroke:white;stroke-width:4\"/><line x1=\"303.483\" y1=\"296.036\" x2=\"306.025\" y2=\"297.883\" stroke-linecap=\"round\" style=\"stroke:white;stroke-width:4\"/><line x1=\"306.025\" y1=\"297.883\" x2=\"308.66\" y2=\"299.594\" stroke-linecap=\"round\" style=\"stroke:white;stroke-width:4\"/><line x1=\"308.66\" y1=\"299.594\" x2=\"311.381\" y2=\"301.165\" stroke-linecap=\"round\" style=\"stroke:white;stroke-width:4\"/><line x1=\"311.381\" y1=\"301.165\" x2=\"314.18\" y2=\"302.591\" stroke-linecap=\"round\" style=\"stroke:white;stroke-width:4\"/><line x1=\"314.18\" y1=\"302.591\" x2=\"317.05\" y2=\"303.869\" stroke-linecap=\"round\" style=\"stroke:white;stroke-width:4\"/><line x1=\"317.05\" y1=\"303.869\" x2=\"319.983\" y2=\"304.995\" stroke-linecap=\"round\" style=\"stroke:white;stroke-width:4\"/><line x1=\"319.983\" y1=\"304.995\" x2=\"322.971\" y2=\"305.966\" stroke-linecap=\"round\" style=\"stroke:white;stroke-width:4\"/><line x1=\"322.971\" y1=\"305.966\" x2=\"326.006\" y2=\"306.779\" stroke-linecap=\"round\" style=\"stroke:white;stroke-width:4\"/><line x1=\"326.006\" y1=\"306.779\" x2=\"329.079\" y2=\"307.432\" stroke-linecap=\"round\" style=\"stroke:white;stroke-width:4\"/><line x1=\"329.079\" y1=\"307.432\" x2=\"332.182\" y2=\"307.923\" stroke-linecap=\"round\" style=\"stroke:white;stroke-width:4\"/><line x1=\"332.182\" y1=\"307.923\" x2=\"335.306\" y2=\"308.251\" stroke-linecap=\"round\" style=\"stroke:white;stroke-width:4\"/><line x1=\"335.306\" y1=\"308.251\" x2=\"338.443\" y2=\"308.415\" stroke-linecap=\"round\" style=\"stroke:white;stroke-width:4\"/><line x1=\"338.443\" y1=\"308.415\" x2=\"341.585\" y2=\"308.415\" stroke-linecap=\"round\" style=\"stroke:white;stroke-width:4\"/><line x1=\"341.585\" y1=\"308.415\" x2=\"344.722\" y2=\"308.251\" stroke-linecap=\"round\" style=\"stroke:white;stroke-width:4\"/><line x1=\"344.722\" y1=\"308.251\" x2=\"347.846\" y2=\"307.923\" stroke-linecap=\"round\" style=\"stroke:white;stroke-width:4\"/><line x1=\"347.846\" y1=\"307.923\" x2=\"350.949\" y2=\"307.432\" stroke-linecap=\"round\" style=\"stroke:white;stroke-width:4\"/><line x1=\"350.949\" y1=\"307.432\" x2=\"354.022\" y2=\"306.779\" stroke-linecap=\"round\" style=\"stroke:white;stroke-width:4\"/><line x1=\"354.022\" y1=\"306.779\" x2=\"357.057\" y2=\"305.966\" stroke-linecap=\"round\" style=\"stroke:white;stroke-width:4\"/><line x1=\"357.057\" y1=\"305.966\" x2=\"360.045\" y2=\"304.995\" stroke-linecap=\"round\" style=\"stroke:white;stroke-width:4\"/><line x1=\"360.045\" y1=\"304.995\" x2=\"362.978\" y2=\"303.869\" stroke-linecap=\"round\" style=\"stroke:white;stroke-width:4\"/><line x1=\"362.978\" y1=\"303.869\" x2=\"365.848\" y2=\"302.591\" stroke-linecap=\"round\" style=\"stroke:white;stroke-width:4\"/><line x1=\"365.848\" y1=\"302.591\" x2=\"368.647\" y2=\"301.165\" stroke-linecap=\"round\" style=\"stroke:white;stroke-width:4\"/>\n",
              "        <g visibility=visible transform=\"rotate(420,368.647,301.165) translate(350.647, 283.165)\">\n",
              "<path style=\" stroke:none;fill-rule:evenodd;fill:white;fill-opacity:1;\" d=\"M 18.214844 0.632812 C 16.109375 1.800781 15.011719 4.074219 15.074219 7.132812 L 15.085938 7.652344 L 14.785156 7.496094 C 13.476562 6.824219 11.957031 6.671875 10.40625 7.066406 C 8.46875 7.550781 6.515625 9.15625 4.394531 11.992188 C 3.0625 13.777344 2.679688 14.636719 3.042969 15.027344 L 3.15625 15.152344 L 3.519531 15.152344 C 4.238281 15.152344 4.828125 14.886719 8.1875 13.039062 C 9.386719 12.378906 10.371094 11.839844 10.378906 11.839844 C 10.386719 11.839844 10.355469 11.929688 10.304688 12.035156 C 9.832031 13.09375 9.257812 14.820312 8.96875 16.078125 C 7.914062 20.652344 8.617188 24.53125 11.070312 27.660156 C 11.351562 28.015625 11.363281 27.914062 10.972656 28.382812 C 8.925781 30.84375 7.945312 33.28125 8.238281 35.1875 C 8.289062 35.527344 8.28125 35.523438 8.917969 35.523438 C 10.941406 35.523438 13.074219 34.207031 15.136719 31.6875 C 15.359375 31.417969 15.328125 31.425781 15.5625 31.574219 C 16.292969 32.042969 18.023438 32.964844 18.175781 32.964844 C 18.335938 32.964844 19.941406 32.210938 20.828125 31.71875 C 20.996094 31.625 21.136719 31.554688 21.136719 31.558594 C 21.203125 31.664062 21.898438 32.414062 22.222656 32.730469 C 23.835938 34.300781 25.5625 35.132812 27.582031 35.300781 C 27.90625 35.328125 27.9375 35.308594 28.007812 34.984375 C 28.382812 33.242188 27.625 30.925781 25.863281 28.425781 L 25.542969 27.96875 L 25.699219 27.785156 C 28.945312 23.960938 29.132812 18.699219 26.257812 11.96875 L 26.207031 11.84375 L 27.945312 12.703125 C 31.53125 14.476562 32.316406 14.800781 33.03125 14.800781 C 33.976562 14.800781 33.78125 13.9375 32.472656 12.292969 C 28.519531 7.355469 25.394531 5.925781 21.921875 7.472656 L 21.558594 7.636719 L 21.578125 7.542969 C 21.699219 6.992188 21.761719 5.742188 21.699219 5.164062 C 21.496094 3.296875 20.664062 1.964844 19.003906 0.855469 C 18.480469 0.503906 18.457031 0.5 18.214844 0.632812\"/>\n",
              "</g>\n",
              "      </svg>\n",
              "    "
            ]
          },
          "metadata": {}
        }
      ]
    },
    {
      "cell_type": "markdown",
      "source": [
        "5. Faça uma versão mais geral do circle chamada arc, que receba um parâmetro\n",
        "adicional de angle, para determinar qual fração do círculo deve ser desenhada. angle está em unidades de graus, então quando angle=360, o arc deve desenhar um círculo completo."
      ],
      "metadata": {
        "id": "LvLA9a1yLMtI"
      }
    },
    {
      "cell_type": "code",
      "source": [],
      "metadata": {
        "id": "1_uAIqS8K9By"
      },
      "execution_count": null,
      "outputs": []
    }
  ]
}