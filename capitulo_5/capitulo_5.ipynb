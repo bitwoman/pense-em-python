{
 "cells": [
  {
   "cell_type": "markdown",
   "metadata": {
    "colab_type": "text",
    "id": "view-in-github"
   },
   "source": [
    "<a href=\"https://colab.research.google.com/github/bitwoman/pense-em-python/blob/main/capitulo_5.ipynb\" target=\"_parent\"><img src=\"https://colab.research.google.com/assets/colab-badge.svg\" alt=\"Open In Colab\"/></a>"
   ]
  },
  {
   "cell_type": "markdown",
   "metadata": {
    "id": "D8PSiz6LJ5_T"
   },
   "source": [
    "# **ESTUDO DO LIVRO \"Pense em Python\", DO AUTOR ALLEN B. DOWNEY**\n",
    "\n",
    "<p> Estudos iniciados em 20-06-2024. </p>"
   ]
  },
  {
   "cell_type": "markdown",
   "metadata": {
    "id": "gKeVPmfjKG8e"
   },
   "source": [
    "# Capítulo 5: Condicionais e recursividade"
   ]
  },
  {
   "cell_type": "markdown",
   "metadata": {
    "id": "L8CCG2LhYHfq"
   },
   "source": [
    "<h2> 5.1 - Divisão pelo piso e módulo </h2>"
   ]
  },
  {
   "cell_type": "markdown",
   "metadata": {
    "id": "_-X8agDYYTdi"
   },
   "source": [
    "O operador de divisão pelo piso, //, divide dois números e arredonda o resultado para um número inteiro para baixo. Por exemplo, suponha que o tempo de execução de um filme seja de 105 minutos. Você pode querer saber a quanto isso corresponde em horas. A divisão convencional devolve um número de ponto flutuante:\n"
   ]
  },
  {
   "cell_type": "code",
   "execution_count": null,
   "metadata": {
    "colab": {
     "base_uri": "https://localhost:8080/"
    },
    "id": "gWRS1X6rJ5qG",
    "outputId": "4e9a68c3-9e6c-4f06-8f63-c186d1d4dc6a"
   },
   "outputs": [
    {
     "data": {
      "text/plain": [
       "1.75"
      ]
     },
     "execution_count": 2,
     "metadata": {},
     "output_type": "execute_result"
    }
   ],
   "source": [
    "minutes = 105\n",
    "minutes/60 # 1.75"
   ]
  },
  {
   "cell_type": "markdown",
   "metadata": {
    "id": "zmVXc98kYdmQ"
   },
   "source": [
    "Mas não é comum escrever horas com pontos decimais. A divisão pelo piso devolve o número inteiro de horas, ignorando a parte fracionária:\n"
   ]
  },
  {
   "cell_type": "code",
   "execution_count": null,
   "metadata": {
    "colab": {
     "base_uri": "https://localhost:8080/"
    },
    "id": "8mkqHX5RYW_w",
    "outputId": "acbc66fd-538b-4e00-f354-176b01301d9f"
   },
   "outputs": [
    {
     "name": "stdout",
     "output_type": "stream",
     "text": [
      "1\n"
     ]
    }
   ],
   "source": [
    "minutes = 105\n",
    "hours = minutes//60\n",
    "\n",
    "print(hours) # 1 hora"
   ]
  },
  {
   "cell_type": "markdown",
   "metadata": {
    "id": "3AafKCPgYuff"
   },
   "source": [
    "Para obter o resto, você pode subtrair uma hora em minutos:"
   ]
  },
  {
   "cell_type": "code",
   "execution_count": null,
   "metadata": {
    "colab": {
     "base_uri": "https://localhost:8080/"
    },
    "id": "PTE1qL_zYoFl",
    "outputId": "a194f359-cf6b-47e1-9444-c676f9595bee"
   },
   "outputs": [
    {
     "name": "stdout",
     "output_type": "stream",
     "text": [
      "45\n"
     ]
    }
   ],
   "source": [
    "remainder = minutes - hours * 60\n",
    "\n",
    "print(remainder) # 45 minutos"
   ]
  },
  {
   "cell_type": "markdown",
   "metadata": {
    "id": "X41f0rs3Y3nR"
   },
   "source": [
    "Uma alternativa é usar o operador módulo, %, que divide dois números e devolve o resto:"
   ]
  },
  {
   "cell_type": "code",
   "execution_count": null,
   "metadata": {
    "colab": {
     "base_uri": "https://localhost:8080/"
    },
    "id": "1stexVXmYzSk",
    "outputId": "fd6517e8-d4f1-47ed-e01a-e3a0876edd1a"
   },
   "outputs": [
    {
     "name": "stdout",
     "output_type": "stream",
     "text": [
      "45\n"
     ]
    }
   ],
   "source": [
    "remainder = minutes % 60\n",
    "\n",
    "print(remainder) # 45 minutos"
   ]
  },
  {
   "cell_type": "markdown",
   "metadata": {
    "id": "nNPGMMoJbDQW"
   },
   "source": [
    "O operador módulo é mais útil do que parece. Por exemplo, é possível verificar se um número é divisível por outro – se x % y for zero, então x é divisível por y.\n",
    "**Além disso, você pode extrair o dígito ou dígitos mais à direita de um número. Por exemplo, x % 10 produz o dígito mais à direita de x (na base 10). Da mesma forma x % 100 produz os dois últimos dígitos.**\n"
   ]
  },
  {
   "cell_type": "markdown",
   "metadata": {
    "id": "ppJhzsGkbHAY"
   },
   "source": [
    "**EXEMPLO REAL ONDE UM OPERADOR DE MÓDULO PODE SER ÚTIL**\n",
    "\n",
    "\n",
    "**observação: exemplo do chatGPT**"
   ]
  },
  {
   "cell_type": "markdown",
   "metadata": {
    "id": "WlIyAFVhbUkD"
   },
   "source": [
    "**Validação de Cartões de Crédito**\n",
    "Um dos usos mais comuns de manipular dígitos individuais de um número é a validação de números de cartões de crédito. Existe um algoritmo específico chamado Algoritmo de Luhn que é utilizado para verificar a validade de um número de cartão de crédito. Esse algoritmo envolve operações de manipulação de dígitos individuais do número.\n",
    "\n",
    "\n",
    "**Algoritmo de Luhn**\n",
    "Aqui está uma descrição simplificada de como o Algoritmo de Luhn funciona:"
   ]
  },
  {
   "cell_type": "markdown",
   "metadata": {
    "id": "9QUC2usObZE1"
   },
   "source": [
    "1.   Inverta o número do cartão de crédito.\n",
    "2.   Dobre o valor de cada dígito que ocupa uma posição ímpar (considerando a\n",
    "     posição 1 como ímpar) da direita para a esquerda.\n",
    "     *  Se o dobro do valor for maior que 9, some os dígitos do resultado (por exemplo, 8 * 2 = 16, e 1 + 6 = 7).\n",
    "3.   Some todos os dígitos (tanto os dobrados quanto os não dobrados).\n",
    "4.   Se o total for divisível por 10, o número do cartão de crédito é válido."
   ]
  },
  {
   "cell_type": "markdown",
   "metadata": {
    "id": "dqD0PHSuby83"
   },
   "source": [
    "**Exemplo Prático**\n",
    "Vamos verificar se o número do cartão de crédito **4539 1488 0343 6467** é válido:\n",
    "\n",
    "1.  Inverter o número:\n",
    "  * **7646 3430 8841 9354**\n",
    "\n",
    "2.  Dobrar os dígitos nas posições ímpares:\n",
    "  *   7 * 2 = 14 → 1 + 4 = 5\n",
    "  *   4 * 2 = 8\n",
    "  *   6 * 2 = 12 → 1 + 2 = 3\n",
    "  *   3 * 2 = 6\n",
    "  *   8 * 2 = 16 → 1 + 6 = 7\n",
    "  *   4 * 2 = 8\n",
    "  *   9 * 2 = 18 → 1 + 8 = 9\n",
    "  *   5 * 2 = 10 → 1 + 0 = 1\n",
    "  *   Após dobrar:\n",
    "      *   5 6 4 8 7 8 1 9 4 3 4 8 3 0 6 7\n",
    "\n",
    "3.  Somar todos os dígitos:\n",
    "  *  5 + 6 + 4 + 8 + 7 + 8 + 1 + 9 + 4 + 3 + 4 + 8 + 3 + 0 + 6 + 7 = 83\n",
    "\n",
    "4.  Verificar se o total é divisível por 10:\n",
    "    *    83 % 10 = 3 (não é divisível por 10)\n",
    "\n",
    "Portanto, 4539 1488 0343 6467 não é um número de cartão de crédito válido.\n",
    "\n"
   ]
  },
  {
   "cell_type": "markdown",
   "metadata": {
    "id": "-250Z3L0coDp"
   },
   "source": [
    "**Resumo**\n",
    "Este exemplo demonstra a necessidade de manipular dígitos individuais de um número para verificar a validade de um cartão de crédito. O operador módulo é usado no passo final para determinar se a soma dos dígitos (após a manipulação) é divisível por 10, o que confirma a validade do número do cartão."
   ]
  },
  {
   "cell_type": "markdown",
   "metadata": {
    "id": "qy1jsEZhct2J"
   },
   "source": [
    "<h2> 5.2 - Expressões booleanas </h2>\n",
    "\n",
    "\n",
    "Uma expressão booleana é uma expressão que pode ser verdadeira ou falsa. Os exemplos seguintes usam o operador ==, que compara dois operandos e produz **True** se forem iguais e **False** se não forem:"
   ]
  },
  {
   "cell_type": "code",
   "execution_count": null,
   "metadata": {
    "colab": {
     "base_uri": "https://localhost:8080/"
    },
    "id": "UfNYnmqMZYKr",
    "outputId": "2b9c0b0c-2d9e-402a-a51f-cf819941b6a7"
   },
   "outputs": [
    {
     "data": {
      "text/plain": [
       "True"
      ]
     },
     "execution_count": 10,
     "metadata": {},
     "output_type": "execute_result"
    }
   ],
   "source": [
    "5 == 5 # True"
   ]
  },
  {
   "cell_type": "code",
   "execution_count": null,
   "metadata": {
    "colab": {
     "base_uri": "https://localhost:8080/"
    },
    "id": "JwIj_7UsfCzx",
    "outputId": "47d3a366-7a06-405c-ae42-86c436808eb5"
   },
   "outputs": [
    {
     "data": {
      "text/plain": [
       "False"
      ]
     },
     "execution_count": 12,
     "metadata": {},
     "output_type": "execute_result"
    }
   ],
   "source": [
    "5 == 6 # False"
   ]
  },
  {
   "cell_type": "markdown",
   "metadata": {
    "id": "jFytvE9SfH9U"
   },
   "source": [
    "**True** e **False** são valores especiais que pertencem ao tipo bool; não são strings:"
   ]
  },
  {
   "cell_type": "code",
   "execution_count": null,
   "metadata": {
    "colab": {
     "base_uri": "https://localhost:8080/"
    },
    "id": "blQ0Fhz-fF_D",
    "outputId": "6ed5b532-17ee-4e5f-80e2-48b8a26aa662"
   },
   "outputs": [
    {
     "data": {
      "text/plain": [
       "bool"
      ]
     },
     "execution_count": 13,
     "metadata": {},
     "output_type": "execute_result"
    }
   ],
   "source": [
    "type(True)"
   ]
  },
  {
   "cell_type": "code",
   "execution_count": null,
   "metadata": {
    "colab": {
     "base_uri": "https://localhost:8080/"
    },
    "id": "lmDX3d_4fLJw",
    "outputId": "0f4cd64d-f866-4c7b-df87-98d2280dff8d"
   },
   "outputs": [
    {
     "data": {
      "text/plain": [
       "bool"
      ]
     },
     "execution_count": 14,
     "metadata": {},
     "output_type": "execute_result"
    }
   ],
   "source": [
    "type(False)"
   ]
  },
  {
   "cell_type": "markdown",
   "metadata": {
    "id": "enJjVgDCfNjO"
   },
   "source": [
    "O operador == é um dos operadores relacionais; os outros são:\n",
    "\n",
    "```\n",
    "x != y # x não é igual a y\n",
    "x > y # x é maior que y\n",
    "x < y # x é menor que y\n",
    "x >= y # x é maior ou igual a y\n",
    "x <= y # x é menor ou igual a y\n",
    "```\n",
    "\n"
   ]
  },
  {
   "cell_type": "markdown",
   "metadata": {
    "id": "6_3pPYLUfeyK"
   },
   "source": [
    "Embora essas operações provavelmente sejam familiares para você, os símbolos do\n",
    "Python são diferentes dos símbolos matemáticos. Um erro comum é usar apenas um sinal de igual (=) em vez de um sinal duplo (==). Lembre-se de que = é um operador de atribuição e == é um operador relacional. Não existe =< ou =>."
   ]
  },
  {
   "cell_type": "markdown",
   "metadata": {
    "id": "j6EO0fP9fheE"
   },
   "source": [
    "<h2> 5.3 - Operadores lógicos </h2>\n",
    "\n",
    "Há três operadores lógicos: and, or e not. A semântica (significado) destes operadores é semelhante ao seu significado em inglês. Por exemplo, `x> 0 and x <10` só é verdade se x for maior que 0 e menor que 10.\n",
    "\n",
    "`n%2 == 0 or n%3 == 0` é verdadeiro se uma ou as duas condição(ões) for(em)\n",
    "verdadeira(s), isto é, se o número for divisível por 2 ou 3."
   ]
  },
  {
   "cell_type": "markdown",
   "metadata": {
    "id": "BOXw58lXhQid"
   },
   "source": [
    "Falando estritamente, os operandos dos operadores lógicos devem ser expressões\n",
    "booleanas, mas o Python não é muito estrito. Qualquer número que não seja zero é\n",
    "interpretado como True:"
   ]
  },
  {
   "cell_type": "code",
   "execution_count": null,
   "metadata": {
    "colab": {
     "base_uri": "https://localhost:8080/"
    },
    "id": "u8pN9ChMhKNB",
    "outputId": "b83c2c3c-a433-4983-94e1-f477dc5a03f6"
   },
   "outputs": [
    {
     "data": {
      "text/plain": [
       "True"
      ]
     },
     "execution_count": 16,
     "metadata": {},
     "output_type": "execute_result"
    }
   ],
   "source": [
    "42 and True"
   ]
  },
  {
   "cell_type": "markdown",
   "metadata": {
    "id": "Dbt1Nh07hUiT"
   },
   "source": [
    "Esta flexibilidade tem sua utilidade, mas há algumas sutilezas relativas a ela que podem ser confusas. Assim, pode ser uma boa ideia evitá-la (a menos que saiba o que está fazendo).\n"
   ]
  },
  {
   "cell_type": "markdown",
   "metadata": {
    "id": "Ldw8kSGbhatU"
   },
   "source": [
    "<h2> 5.4 - Execução condicional </h2>\n",
    "\n",
    "Para escrever programas úteis, quase sempre precisamos da capacidade de verificar condições e mudar o comportamento do programa de acordo com elas. Instruções condicionais nos dão esta capacidade. A forma mais simples é a instrução if:\n",
    "\n",
    "```\n",
    "# if x > 0:\n",
    "  print('x is positive')\n",
    "```\n",
    "\n"
   ]
  },
  {
   "cell_type": "markdown",
   "metadata": {
    "id": "XBhg7FnImD25"
   },
   "source": [
    "A expressão booleana depois do if é chamada de condição. Se for verdadeira, a instrução endentada é executada. Se não, nada acontece.\n",
    "Instruções if têm a mesma estrutura que definições de função: um cabeçalho seguido de um corpo endentado. Instruções como essa são chamadas de instruções compostas.\n",
    "Não há limite para o número de instruções que podem aparecer no corpo, mas deve haver pelo menos uma. Ocasionalmente, é útil ter um corpo sem instruções (normalmente como um espaço reservado para código que ainda não foi escrito). Neste caso, você pode usar a instrução pass, que não faz nada.\n",
    "\n",
    "```\n",
    "if x < 0:\n",
    "  pass # A FAZER: lidar com valores negativos!\n",
    "```\n",
    "\n",
    "\n"
   ]
  },
  {
   "cell_type": "markdown",
   "metadata": {
    "id": "55E7x9h4mObS"
   },
   "source": [
    "<h2> 5.5 - Execução alternativa </h2>\n",
    "\n",
    "Uma segunda forma da instrução if é a “execução alternativa”, na qual há duas\n",
    "possibilidades e a condição determina qual será executada. A sintaxe pode ser algo assim:\n",
    "\n",
    "```\n",
    "if x % 2 == 0:\n",
    "  print('x is even')\n",
    "else:\n",
    "  print('x is odd')\n",
    "```"
   ]
  },
  {
   "cell_type": "markdown",
   "metadata": {
    "id": "ZmvkeiQNmjwI"
   },
   "source": [
    "Se o resto quando x for dividido por 2 for 0, então sabemos que x é par e o programa exibe uma mensagem adequada. Se a condição for falsa, o segundo conjunto de instruções é executado. Como a condição deve ser verdadeira ou falsa, exatamente uma das alternativas será executada. As alternativas são chamadas de ramos (branches), porque são ramos no fluxo da execução.\n"
   ]
  },
  {
   "cell_type": "markdown",
   "metadata": {
    "id": "IEDmsVkimpEg"
   },
   "source": [
    "<h2> 5.6 - Condicionais encadeadas </h2>\n",
    "\n",
    "Às vezes, há mais de duas possibilidades e precisamos de mais que dois ramos. Esta forma de expressar uma operação de computação é uma condicional encadeada:\n",
    "\n",
    "```\n",
    "if x < y:\n",
    "  print('x is less than y')\n",
    "elif x > y:\n",
    "  print('x is greater than y')\n",
    "else:\n",
    "  print('x and y are equal')\n",
    "```"
   ]
  },
  {
   "cell_type": "markdown",
   "metadata": {
    "id": "9_AUjd-HnPVf"
   },
   "source": [
    "elif é uma abreviatura de “else if”. Novamente, exatamente um ramo será executado. Não há nenhum limite para o número de instruções elif. Se houver uma cláusula else, ela deve estar no fim, mas não é preciso haver uma.\n",
    "\n",
    "```\n",
    "if choice == 'a':\n",
    "  draw_a()\n",
    "elif choice == 'b':\n",
    "  draw_b()\n",
    "elif choice == 'c':\n",
    "  draw_c()\n",
    "```\n",
    "\n",
    "Cada condição é verificada em ordem. Se a primeira for falsa, a próxima é verificada, e assim por diante. Se uma delas for verdadeira, o ramo correspondente é executado e a instrução é encerrada. Mesmo se mais de uma condição for verdade, só o primeiro ramo verdadeiro é executado."
   ]
  },
  {
   "cell_type": "markdown",
   "metadata": {
    "id": "5rb4ZplIni20"
   },
   "source": [
    "<h2> 5.7 - Condicionais aninhadas </h2>\n",
    "\n",
    "Uma condicional também pode ser aninhada dentro de outra. Poderíamos ter escrito o exemplo na seção anterior desta forma:\n",
    "\n",
    "\n",
    "```\n",
    "if x == y:\n",
    "  print('x and y are equal')\n",
    "else:\n",
    "if x < y:\n",
    "  print('x is less than y')\n",
    "else:\n",
    "  print('x is greater than y')\n",
    "```\n",
    "\n"
   ]
  },
  {
   "cell_type": "markdown",
   "metadata": {
    "id": "HhSyY-4YpkMZ"
   },
   "source": [
    "A condicional exterior contém dois ramos. O primeiro ramo contém uma instrução\n",
    "simples. O segundo ramo contém outra instrução if, que tem outros dois ramos próprios. Esses dois ramos são instruções simples, embora pudessem ser instruções condicionais também.\n",
    "Embora a endentação das instruções evidencie a estrutura das condicionais, condicionais aninhadas são difíceis de ler rapidamente. É uma boa ideia evitá-las quando for possível.\n",
    "Operadores lógicos muitas vezes oferecem uma forma de simplificar instruções\n",
    "condicionais aninhadas. Por exemplo, podemos reescrever o seguinte código usando uma única condicional:\n",
    "\n",
    "```\n",
    "if 0 < x:\n",
    "  if x < 10:\n",
    "    print('x is a positive single-digit number.')\n",
    "```\n",
    "\n",
    "A instrução print só é executada se a colocarmos depois de ambas as condicionais, então podemos obter o mesmo efeito com o operador and:\n",
    "\n",
    "```\n",
    "if 0 < x and x < 10:\n",
    "  print('x is a positive single-digit number.')\n",
    "```\n",
    "\n",
    "Para este tipo de condição, o Python oferece uma opção mais concisa:\n",
    "\n",
    "\n",
    "```\n",
    "if 0 < x < 10:\n",
    "  print('x is a positive single-digit number.')\n",
    "```"
   ]
  },
  {
   "cell_type": "markdown",
   "metadata": {
    "id": "92wkoG8pp6LH"
   },
   "source": [
    "<h2> 5.8 - Recursividade </h2>\n",
    "\n",
    "É legal para uma função chamar outra; também é legal para uma função chamar a si\n",
    "própria. Pode não ser óbvio porque isso é uma coisa boa, mas na verdade é uma das coisas mais mágicas que um programa pode fazer. Por exemplo, veja a seguinte função:\n",
    "\n",
    "\n"
   ]
  },
  {
   "cell_type": "code",
   "execution_count": null,
   "metadata": {
    "id": "g1eKMMOGhKKY"
   },
   "outputs": [],
   "source": [
    "def countdown(n):\n",
    "  if n <= 0:\n",
    "    print('Blastoff!')\n",
    "  else:\n",
    "    print(n)\n",
    "    countdown(n-1)"
   ]
  },
  {
   "cell_type": "markdown",
   "metadata": {
    "id": "L5PKAK4XtgNI"
   },
   "source": [
    "Se n for 0 ou negativo, a palavra “Blastoff!” é exibida, senão a saída é n e então a função countdown é chamada – por si mesma – passando n-1 como argumento.\n",
    "O que acontece se chamarmos esta função assim?\n",
    "\n",
    "`countdown(3)`"
   ]
  },
  {
   "cell_type": "code",
   "execution_count": null,
   "metadata": {
    "colab": {
     "base_uri": "https://localhost:8080/"
    },
    "id": "zSjGwlASfQam",
    "outputId": "c4ba8af8-44ec-4801-f0f6-471366848d42"
   },
   "outputs": [
    {
     "name": "stdout",
     "output_type": "stream",
     "text": [
      "3\n",
      "2\n",
      "1\n",
      "Blastoff!\n"
     ]
    }
   ],
   "source": [
    "countdown(3)"
   ]
  },
  {
   "cell_type": "markdown",
   "metadata": {
    "id": "RoVFoj3ptqkt"
   },
   "source": [
    "A execução de countdown inicia com n=3 e como n é maior que 0, ela produz o valor 3 e então chama a si mesma…\n",
    "\n",
    "A execução de countdown inicia com n=2 e como n é maior que 0, ela produz o valor 2 e então chama a si mesma…\n",
    "\n",
    "A execução de countdown inicia com n=1 e como n é maior que 0, ela produz o valor 1 e então chama a si mesma…\n",
    "\n",
    "A execução de countdown inicia com n=0 e como n não é maior que 0, ela produz a\n",
    "palavra “Blastoff!” e então retorna.\n",
    "\n",
    "O countdown que recebeu n=1 retorna.\n",
    "\n",
    "O countdown que recebeu n=2 retorna.\n",
    "\n",
    "O countdown que recebeu n=3 retorna.\n",
    "\n",
    "E então você está de volta ao __main__. Então a saída completa será assim:\n",
    "\n",
    "```\n",
    "3\n",
    "2\n",
    "1\n",
    "Blastoff!\n",
    "```\n",
    "\n",
    "\n",
    "Para exemplos simples como esse, provavelmente é mais fácil usar um loop for. Mas há casos que são difíceis de escrever com um loop for e fáceis de\n",
    "escrever com recursividade."
   ]
  },
  {
   "cell_type": "markdown",
   "metadata": {
    "id": "mCaTTXneozUr"
   },
   "source": [
    "Uma função que chama a si mesma é dita recursiva; o processo para executá-la é a\n",
    "recursividade.\n",
    "Como em outro exemplo, podemos escrever uma função que exiba uma string n vezes:\n",
    "\n",
    "```\n",
    "def print_n(s, n):\n",
    "  if n <= 0:\n",
    "    return\n",
    "  print(s)\n",
    "  print_n(s, n-1)\n",
    "```\n",
    "\n",
    "Se n <= 0 a instrução return causa a saída da função. O fluxo de execução volta\n",
    "imediatamente a quem fez a chamada, e as linhas restantes da função não são executadas.\n",
    "O resto da função é similar à countdown: ela mostra s e então chama a si mesma para mostrar s mais n-1 vezes. Então o número de linhas da saída é 1 + (n - 1), até chegar a n."
   ]
  },
  {
   "cell_type": "markdown",
   "metadata": {
    "id": "t475JK30uE9Q"
   },
   "source": [
    "<h2> 5.9 - Diagramas da pilha para funções recursivas </h2>\n",
    "\n",
    "\n",
    "Em “Diagrama da pilha”, na página 55, usamos um diagrama da pilha para representar o estado de um programa durante uma chamada de função. O mesmo tipo de diagrama pode ajudar a interpretar uma função recursiva.\n",
    "Cada vez que uma função é chamada, o Python cria um frame para conter as variáveis locais e parâmetros da função. Para uma função recursiva, pode haver mais de um frame na pilha ao mesmo tempo.\n",
    "A Figura 5.1 mostra um diagrama da pilha para countdown chamado com n = 3.\n",
    "\n",
    "![image.png](data:image/png;base64,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)"
   ]
  },
  {
   "cell_type": "markdown",
   "metadata": {
    "id": "cFjgy4-Lomfo"
   },
   "source": [
    "Como de hábito, o topo da pilha é o frame de __main__. Está vazio porque não criamos nenhuma variável em __main__ nem passamos argumentos a ela.\n",
    "Os quatro frames do countdown têm valores diferentes para o parâmetro n. O fundo da pilha, onde n = 0, é chamado caso-base. Ele não faz uma chamada recursiva, então não há mais frames.\n",
    "Como exercício, desenhe um diagrama da pilha para print_n chamado com s = 'Hello' e n = 2. Então escreva uma função chamada do_n que tome um objeto de função e um número n como argumentos e que chame a respectiva função n vezes.\n"
   ]
  },
  {
   "cell_type": "markdown",
   "metadata": {
    "id": "zOlEjkB7pdhr"
   },
   "source": [
    "\n",
    "\n",
    "```\n",
    "def print_n(s, n):\n",
    "  if n <= 0:\n",
    "    return\n",
    "  print(s)\n",
    "  print_n(s, n-1)\n",
    "\n",
    "\n",
    "print_n('Hello', 2)\n",
    "```"
   ]
  },
  {
   "cell_type": "markdown",
   "metadata": {
    "id": "Jp6Uv4uKpid4"
   },
   "source": [
    "O diagrama de pilha a seguir é a representação do fluxo de execução da função print_n."
   ]
  },
  {
   "cell_type": "code",
   "execution_count": null,
   "metadata": {
    "colab": {
     "base_uri": "https://localhost:8080/"
    },
    "id": "tusWXuI4p_R5",
    "outputId": "065f8b46-d811-48fc-bb92-522ae0f6d528"
   },
   "outputs": [
    {
     "name": "stdout",
     "output_type": "stream",
     "text": [
      "Hello\n",
      "Hello\n"
     ]
    }
   ],
   "source": [
    "def print_n(s, n):\n",
    "  if n <= 0:\n",
    "    return\n",
    "  print(s)\n",
    "  print_n(s, n-1)\n",
    "\n",
    "\n",
    "print_n('Hello', 2)"
   ]
  },
  {
   "cell_type": "markdown",
   "metadata": {
    "id": "qPtZMsdhq8MR"
   },
   "source": [
    "![image.png](data:image/png;base64,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)"
   ]
  },
  {
   "cell_type": "markdown",
   "metadata": {
    "id": "BwbDacvnrHpd"
   },
   "source": [
    " Então escreva uma função chamada do_n que tome um objeto de função e um número n como argumentos e que chame a respectiva função n vezes."
   ]
  },
  {
   "cell_type": "code",
   "execution_count": null,
   "metadata": {
    "id": "NrIC4PORfkVw"
   },
   "outputs": [],
   "source": [
    "# Definição de função\n",
    "\n",
    "def do_n(obj, n):\n",
    "  if n <= 0:\n",
    "    return\n",
    "\n",
    "  print('do_n' + ' : ' + str(n) + 'x')\n",
    "  do_n(do_n, n-1)"
   ]
  },
  {
   "cell_type": "code",
   "execution_count": null,
   "metadata": {
    "colab": {
     "base_uri": "https://localhost:8080/"
    },
    "id": "FQMzICs0sILC",
    "outputId": "8684e0e5-261c-4b76-eb9b-ba7e30dfb0fe"
   },
   "outputs": [
    {
     "name": "stdout",
     "output_type": "stream",
     "text": [
      "do_n : 2x\n",
      "do_n : 1x\n"
     ]
    }
   ],
   "source": [
    "do_n(do_n, 2)"
   ]
  },
  {
   "cell_type": "markdown",
   "metadata": {
    "id": "GFHVWA5PuFbh"
   },
   "source": [
    "<h1> 5.10 - Recursividade infinita </h1>\n",
    "\n",
    "Se a recursividade nunca atingir um caso-base, continua fazendo chamadas recursivas para sempre, e o programa nunca termina. Isso é conhecido como recursividade infinita e geralmente não é uma boa ideia. Aqui está um programa mínimo com recursividade infinita:\n",
    "\n",
    "```\n",
    "def recurse():\n",
    "  recurse()\n",
    "```\n",
    "\n",
    "Na maior parte dos ambientes de programação, um programa com recursividade infinita não é realmente executado para sempre. O Python exibe uma mensagem de erro quando a profundidade máxima de recursividade é atingida:\n",
    "\n",
    "```\n",
    "File \"<stdin>\", line 2, in recurse\n",
    "File \"<stdin>\", line 2, in recurse\n",
    "File \"<stdin>\", line 2, in recurse\n",
    ".\n",
    ".\n",
    ".\n",
    "File \"<stdin>\", line 2, in recurse\n",
    "RuntimeError: Maximum recursion depth exceeded\n",
    "```\n",
    "\n",
    "Este traceback é um pouco maior que o que vimos no capítulo anterior. Quando o erro ocorre, há mil frames de recurse na pilha!\n",
    "Se você escrever em recursividade infinita por engano, confira se a sua função tem um caso-base que não faz uma chamada recursiva. E se houver um caso-base, verifique se você vai mesmo atingi-lo.\n"
   ]
  },
  {
   "cell_type": "markdown",
   "metadata": {
    "id": "CyLey43Pu-M2"
   },
   "source": [
    "<h2> 5.11 - Entrada de teclado </h2>\n",
    "\n",
    "O Python fornece uma função integrada chamada input que interrompe o programa e\n",
    "espera que o usuário digite algo. Quando o usuário pressionar Return ou Enter, o programa volta a ser executado e input retorna o que o usuário digitou como uma string. No Python 2, a mesma função é chamada raw_input.\n"
   ]
  },
  {
   "cell_type": "code",
   "execution_count": null,
   "metadata": {
    "colab": {
     "base_uri": "https://localhost:8080/"
    },
    "id": "yMwDCp_3sNGz",
    "outputId": "c492b829-430b-4aed-fe42-cebd63e3a097"
   },
   "outputs": [
    {
     "name": "stdout",
     "output_type": "stream",
     "text": [
      "texto\n"
     ]
    }
   ],
   "source": [
    "text = input() # exemplo"
   ]
  },
  {
   "cell_type": "markdown",
   "metadata": {
    "id": "rNECVG1gBKxl"
   },
   "source": [
    "Antes de receber entradas do usuário, é uma boa ideia exibir um prompt dizendo ao usuário o que ele deve digitar. input pode ter um prompt como argumento:\n"
   ]
  },
  {
   "cell_type": "code",
   "execution_count": null,
   "metadata": {
    "colab": {
     "base_uri": "https://localhost:8080/"
    },
    "id": "dZqL3a9tBFQW",
    "outputId": "b827ca31-5396-4dab-ef5c-8e6460be4b2d"
   },
   "outputs": [
    {
     "name": "stdout",
     "output_type": "stream",
     "text": [
      "What...is your name?\n",
      "Brenda\n"
     ]
    }
   ],
   "source": [
    "name = input('What...is your name?\\n')"
   ]
  },
  {
   "cell_type": "code",
   "execution_count": null,
   "metadata": {
    "colab": {
     "base_uri": "https://localhost:8080/",
     "height": 35
    },
    "id": "sft1XnirBM3J",
    "outputId": "2f6086bc-05ea-468c-cb1c-3cf56bff8f03"
   },
   "outputs": [
    {
     "data": {
      "application/vnd.google.colaboratory.intrinsic+json": {
       "type": "string"
      },
      "text/plain": [
       "'Brenda'"
      ]
     },
     "execution_count": 13,
     "metadata": {},
     "output_type": "execute_result"
    }
   ],
   "source": [
    "name # o valor digitado no input, fica guardado na variável"
   ]
  },
  {
   "cell_type": "markdown",
   "metadata": {
    "id": "y0ZacT18Biw2"
   },
   "source": [
    "A sequência \\n no final do prompt representa um newline, que é um caractere especial de quebra de linha. É por isso que a entrada do usuário aparece abaixo do prompt. Se esperar que o usuário digite um número inteiro, você pode tentar converter o valor de retorno para int:"
   ]
  },
  {
   "cell_type": "code",
   "execution_count": null,
   "metadata": {
    "id": "2jehvzLIBTET"
   },
   "outputs": [],
   "source": [
    "prompt = 'What...is the airspeed velocity of an unladen swallow? \\n'"
   ]
  },
  {
   "cell_type": "code",
   "execution_count": null,
   "metadata": {
    "colab": {
     "base_uri": "https://localhost:8080/"
    },
    "id": "yfdRJjhVBo1G",
    "outputId": "a4c9bc7d-aa53-4011-fbdb-1d39dffdfd21"
   },
   "outputs": [
    {
     "name": "stdout",
     "output_type": "stream",
     "text": [
      "What...is the airspeed velocity of an unladen swallow? \n",
      "30\n"
     ]
    }
   ],
   "source": [
    "speed = input(prompt)"
   ]
  },
  {
   "cell_type": "code",
   "execution_count": null,
   "metadata": {
    "colab": {
     "base_uri": "https://localhost:8080/"
    },
    "id": "1Qnk99O4BrdN",
    "outputId": "7b6a92d1-c94a-48f2-eb14-6e2aee652027"
   },
   "outputs": [
    {
     "data": {
      "text/plain": [
       "30"
      ]
     },
     "execution_count": 18,
     "metadata": {},
     "output_type": "execute_result"
    }
   ],
   "source": [
    "int(speed)"
   ]
  },
  {
   "cell_type": "markdown",
   "metadata": {
    "id": "0TGPHzp0B4gA"
   },
   "source": [
    "Mas se o usuário digitar algo além de uma série de dígitos, você recebe um erro:"
   ]
  },
  {
   "cell_type": "code",
   "execution_count": null,
   "metadata": {
    "colab": {
     "base_uri": "https://localhost:8080/"
    },
    "id": "6h7j99UZBuxR",
    "outputId": "8be6e62b-9339-424b-a903-0fadbd5ba47a"
   },
   "outputs": [
    {
     "name": "stdout",
     "output_type": "stream",
     "text": [
      "What...is the airspeed velocity of an unladen swallow? \n",
      "What do you mean, an African or a European swallow?\n"
     ]
    }
   ],
   "source": [
    "speed = input(prompt)"
   ]
  },
  {
   "cell_type": "code",
   "execution_count": null,
   "metadata": {
    "colab": {
     "base_uri": "https://localhost:8080/",
     "height": 141
    },
    "id": "wAoRHPNCB8GW",
    "outputId": "a0b87f6e-09cc-4d92-ca95-9ddcfd68ab6f"
   },
   "outputs": [
    {
     "ename": "ValueError",
     "evalue": "invalid literal for int() with base 10: 'What do you mean, an African or a European swallow?'",
     "output_type": "error",
     "traceback": [
      "\u001b[0;31m---------------------------------------------------------------------------\u001b[0m",
      "\u001b[0;31mValueError\u001b[0m                                Traceback (most recent call last)",
      "\u001b[0;32m<ipython-input-21-cf54c63c7059>\u001b[0m in \u001b[0;36m<cell line: 1>\u001b[0;34m()\u001b[0m\n\u001b[0;32m----> 1\u001b[0;31m \u001b[0mint\u001b[0m\u001b[0;34m(\u001b[0m\u001b[0mspeed\u001b[0m\u001b[0;34m)\u001b[0m \u001b[0;31m# ValueError: invalid literal for int() with base 10\u001b[0m\u001b[0;34m\u001b[0m\u001b[0;34m\u001b[0m\u001b[0m\n\u001b[0m",
      "\u001b[0;31mValueError\u001b[0m: invalid literal for int() with base 10: 'What do you mean, an African or a European swallow?'"
     ]
    }
   ],
   "source": [
    "int(speed) # ValueError: invalid literal for int() with base 10"
   ]
  },
  {
   "cell_type": "markdown",
   "metadata": {
    "id": "Dyc7PAy9CcpS"
   },
   "source": [
    "<h2> 5.12 - Depuração </h2>\n",
    "\n",
    "Quando um erro de sintaxe ou de tempo de execução ocorre, a mensagem de erro contém muita informação, às vezes, até demais. As partes mais úteis são normalmente:\n",
    "- que tipo de erro foi;\n",
    "- onde ocorreu.\n",
    "\n",
    "Erros de sintaxe são normalmente fáceis de encontrar, mas há algumas pegadinhas. Erros de whitespace podem ser complicados porque os espaços e tabulações são invisíveis e estamos acostumados a ignorá-los.\n",
    "\n"
   ]
  },
  {
   "cell_type": "code",
   "execution_count": null,
   "metadata": {
    "id": "aA7Ov9w-B__9"
   },
   "outputs": [],
   "source": [
    "x = 5 # Em python 3 não retorna erro, mas no 2 retorna\n",
    " y = 6 # Neste exemplo, o problema é que a segunda linha está endentada por um espaço."
   ]
  },
  {
   "cell_type": "markdown",
   "metadata": {
    "id": "nHIxIMNvDBJ2"
   },
   "source": [
    "\n",
    "\n",
    "```\n",
    "File \"<stdin>\", line 1\n",
    "y = 6\n",
    "^\n",
    "IndentationError: unexpected indent\n",
    "\n",
    "```\n",
    "\n"
   ]
  },
  {
   "cell_type": "markdown",
   "metadata": {
    "id": "qaW2W11uB8fS"
   },
   "source": [
    "Neste exemplo, o problema é que a segunda linha está endentada por um espaço. Mas a mensagem de erro aponta para y, o que pode ser capcioso. Em geral, mensagens de erro indicam onde o problema foi descoberto, mas o erro real pode estar em outra parte do código, às vezes, em uma linha anterior."
   ]
  },
  {
   "cell_type": "markdown",
   "metadata": {
    "id": "NIb7BKe-DYqT"
   },
   "source": [
    "O mesmo acontece com erros em tempo de execução. Suponha que você esteja tentando calcular a proporção de sinal a ruído em decibéis. A fórmula é SNRdb = 10 log10\n",
    "(Psignal/Pnoise). No Python, você poderia escrever algo assim:"
   ]
  },
  {
   "cell_type": "code",
   "execution_count": null,
   "metadata": {
    "colab": {
     "base_uri": "https://localhost:8080/",
     "height": 193
    },
    "id": "qGMZp66wC6LP",
    "outputId": "8ff5dfc7-502d-4b74-9d41-f68031917cac"
   },
   "outputs": [
    {
     "ename": "ValueError",
     "evalue": "math domain error",
     "output_type": "error",
     "traceback": [
      "\u001b[0;31m---------------------------------------------------------------------------\u001b[0m",
      "\u001b[0;31mValueError\u001b[0m                                Traceback (most recent call last)",
      "\u001b[0;32m<ipython-input-3-3408c63c3dc9>\u001b[0m in \u001b[0;36m<cell line: 5>\u001b[0;34m()\u001b[0m\n\u001b[1;32m      3\u001b[0m \u001b[0mnoise_power\u001b[0m \u001b[0;34m=\u001b[0m \u001b[0;36m10\u001b[0m\u001b[0;34m\u001b[0m\u001b[0;34m\u001b[0m\u001b[0m\n\u001b[1;32m      4\u001b[0m \u001b[0mratio\u001b[0m \u001b[0;34m=\u001b[0m \u001b[0msignal_power\u001b[0m \u001b[0;34m//\u001b[0m \u001b[0mnoise_power\u001b[0m \u001b[0;31m# mas o erro vem daqui\u001b[0m\u001b[0;34m\u001b[0m\u001b[0;34m\u001b[0m\u001b[0m\n\u001b[0;32m----> 5\u001b[0;31m \u001b[0mdecibels\u001b[0m \u001b[0;34m=\u001b[0m \u001b[0;36m10\u001b[0m \u001b[0;34m*\u001b[0m \u001b[0mmath\u001b[0m\u001b[0;34m.\u001b[0m\u001b[0mlog10\u001b[0m\u001b[0;34m(\u001b[0m\u001b[0mratio\u001b[0m\u001b[0;34m)\u001b[0m  \u001b[0;31m# aponta aqui\u001b[0m\u001b[0;34m\u001b[0m\u001b[0;34m\u001b[0m\u001b[0m\n\u001b[0m\u001b[1;32m      6\u001b[0m \u001b[0mprint\u001b[0m\u001b[0;34m(\u001b[0m\u001b[0mdecibels\u001b[0m\u001b[0;34m)\u001b[0m\u001b[0;34m\u001b[0m\u001b[0;34m\u001b[0m\u001b[0m\n",
      "\u001b[0;31mValueError\u001b[0m: math domain error"
     ]
    }
   ],
   "source": [
    "import math\n",
    "signal_power = 9\n",
    "noise_power = 10\n",
    "ratio = signal_power // noise_power # mas o erro vem daqui\n",
    "decibels = 10 * math.log10(ratio)  # aponta aqui\n",
    "print(decibels)\n"
   ]
  },
  {
   "cell_type": "markdown",
   "metadata": {
    "id": "EyJymUItDjc2"
   },
   "source": [
    "\n",
    "\n",
    "```\n",
    "Traceback (most recent call last):\n",
    "File \"snr.py\", line 5, in ?\n",
    "decibels = 10 * math.log10(ratio)\n",
    "ValueError: math domain error\n",
    "```\n",
    "\n",
    "A mensagem de erro indica a linha 5, mas não há nada de errado com esta linha. Uma opção para encontrar o verdadeiro erro é exibir o valor de ratio, que acaba sendo 0. O problema está na linha 4, que usa a divisão pelo piso em vez da divisão de ponto flutuante.\n",
    "**É preciso ler as mensagens de erro com atenção, mas não assumir que tudo que dizem esteja correto.**\n",
    "\n"
   ]
  },
  {
   "cell_type": "markdown",
   "metadata": {
    "id": "frJNf2LYDvIC"
   },
   "source": [
    "<h2> 5.13 - Glossário </h2>"
   ]
  },
  {
   "cell_type": "markdown",
   "metadata": {
    "id": "l5IJCyWXEf6q"
   },
   "source": [
    "- **divisão pelo piso:** Um operador, denotado por //, que divide dois números e arredonda o resultado para baixo (em direção ao zero), a um número inteiro.\n",
    "\n",
    "- **operador módulo:** Um operador, denotado com um sinal de percentagem (%), que funciona com números inteiros e devolve o resto quando um número é dividido por outro.\n",
    "\n",
    "- **expressão booleana:** Uma expressão cujo valor é True (verdadeiro) ou False (falso).\n",
    "\n",
    "- **operador relacional:** Um destes operadores, que compara seus operandos: ==, !=, >, <, >= e <=.\n",
    "\n",
    "- **operador lógico:** Um destes operadores, que combina expressões booleanas: and (e), or (ou) e not (não).\n",
    "\n",
    "- **instrução condicional:** Uma instrução que controla o fluxo de execução, dependendo de alguma condição.\n",
    "\n",
    "- **condição:** A expressão booleana em uma instrução condicional que determina qual ramo deve ser executado.\n",
    "\n",
    "- **instrução composta:** Uma instrução composta de um cabeçalho e um corpo. O cabeçalho termina em dois pontos (:). O corpo é endentado em relação ao cabeçalho.\n",
    "\n",
    "- **ramo:** Uma das sequências alternativas de instruções em uma instrução condicional.\n",
    "\n",
    "- **condicional encadeada:** Uma instrução condicional com uma série de ramos alternativos.\n",
    "\n",
    "- **condicional aninhada:** Uma instrução condicional que aparece em um dos ramos de outra instrução condicional.\n",
    "\n",
    "- **instrução de retorno:** Uma instrução que faz uma função terminar imediatamente e voltar a quem a chamou.\n",
    "\n",
    "- **recursividade:** O processo de chamar a função que está sendo executada no momento.\n",
    "\n",
    "- **caso-base:** Um ramo condicional em uma função recursiva que não faz uma chamada recursiva.\n",
    "\n",
    "- **recursividade infinita:** Recursividade que não tem um caso-base, ou nunca o atinge. A recursividade infinita eventualmente causa um erro em tempo de execução."
   ]
  }
 ],
 "metadata": {
  "colab": {
   "authorship_tag": "ABX9TyN1OpeGL2z984eMX0ka0sTa",
   "include_colab_link": true,
   "provenance": []
  },
  "kernelspec": {
   "display_name": "Python 3",
   "name": "python3"
  },
  "language_info": {
   "name": "python"
  }
 },
 "nbformat": 4,
 "nbformat_minor": 0
}
