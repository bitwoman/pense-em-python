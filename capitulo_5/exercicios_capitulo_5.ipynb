{
 "cells": [
  {
   "cell_type": "markdown",
   "metadata": {},
   "source": [
    "<h2> 5.14 - Exercícios - Capítulo 5 </h2>"
   ]
  },
  {
   "cell_type": "markdown",
   "metadata": {},
   "source": [
    "<h3> Exercício 5.1 </h3>\n",
    "O módulo time fornece uma função, também chamada time, que devolve a Hora Média de Greenwich na “época”, que é um momento arbitrário usado como ponto de referência. Em sistemas UNIX, a época é primeiro de janeiro de 1970.\n",
    "\n",
    "```\n",
    ">>> import time\n",
    ">>> time.time()\n",
    "1437746094.5735958\n",
    "```\n",
    "\n",
    "Escreva um script que leia a hora atual e a converta em um tempo em horas, minutos e segundos, mais o número de dias desde a época.\n"
   ]
  },
  {
   "cell_type": "code",
   "execution_count": null,
   "metadata": {},
   "outputs": [
    {
     "data": {
      "text/plain": [
       "1721696455.584197"
      ]
     },
     "metadata": {},
     "output_type": "display_data"
    }
   ],
   "source": [
    "import time\n",
    "time.time()"
   ]
  },
  {
   "cell_type": "code",
   "execution_count": null,
   "metadata": {},
   "outputs": [
    {
     "data": {
      "text/plain": [
       "1721696578.4683955"
      ]
     },
     "metadata": {},
     "output_type": "display_data"
    }
   ],
   "source": [
    "time.time()"
   ]
  },
  {
   "cell_type": "markdown",
   "metadata": {},
   "source": [
    "- 1721696578 > essa parte representa os segundos\n",
    "- 4683955    > essa parte representa os milissegundos"
   ]
  },
  {
   "cell_type": "code",
   "execution_count": null,
   "metadata": {},
   "outputs": [
    {
     "name": "stdout",
     "output_type": "stream",
     "text": [
      "23962530.4993\n",
      "399375.0 horas e 30.499299999326468 minutos\n"
     ]
    }
   ],
   "source": [
    "# convertendo os milissegundos em segundos, para somar todos\n",
    "mil_to_segundos = (milissegundos/1000)\n",
    "total_segundos = (segundos + mil_to_segundos)\n",
    "\n",
    "# convertendo todos os segundos em minutos\n",
    "minutos = (total_segundos/60)\n",
    "\n",
    "# convertendo todos os minutos para horas, trazendo um valor inteiro de horas, sem os minutos\n",
    "hours = (minutos//60) # 399375\n",
    "\n",
    "sobra = minutos % 60 # separando os minutos restantes das horas\n",
    "\n",
    "print(hours, 'horas e', sobra, 'minutos')"
   ]
  },
  {
   "cell_type": "code",
   "execution_count": null,
   "metadata": {},
   "outputs": [],
   "source": [
    "#minutes = 105\n",
    "hours = minutes//60\n",
    "\n",
    "print(hours) # 1 hora\n",
    "\n",
    "\n",
    "remainder = minutes - hours * 60\n",
    "\n",
    "print(remainder) # 45 minutos\n",
    "\n",
    "remainder = minutes % 60\n",
    "\n",
    "print(remainder) # 45 minutos"
   ]
  },
  {
   "cell_type": "markdown",
   "metadata": {},
   "source": [
    "<h2> Exercício 5.2 </h2>\n",
    "\n",
    "O último teorema de Fermat diz que não existem números inteiros a, b e c tais que a**n + b**n == c**n para quaisquer valores de n maiores que 2."
   ]
  },
  {
   "cell_type": "markdown",
   "metadata": {},
   "source": [
    "1. Escreva uma função chamada check_fermat que receba quatro parâmetros – a, b, c e n – e verifique se o teorema de Fermat se mantém. Se n for maior que 2 e a ** n + b ** n == c ** n o programa deve imprimir, “Holy smokes, Fermat was wrong!” Senão o programa deve exibir “No, that doesn’t work.”"
   ]
  },
  {
   "cell_type": "code",
   "execution_count": null,
   "metadata": {},
   "outputs": [],
   "source": [
    "def check_fermat(a,b,c,n):\n",
    "\n",
    "  if n > 2 and (a**n + b**n) == c**n:\n",
    "    print('Holy smokes, Fermat was wrong!')\n",
    "  else:\n",
    "    print('No, that doesn’t work.')"
   ]
  },
  {
   "cell_type": "code",
   "execution_count": null,
   "metadata": {},
   "outputs": [
    {
     "name": "stdout",
     "output_type": "stream",
     "text": [
      "No, that doesn’t work.\n"
     ]
    }
   ],
   "source": [
    "check_fermat(3,4,5,2)"
   ]
  },
  {
   "cell_type": "code",
   "execution_count": null,
   "metadata": {},
   "outputs": [
    {
     "name": "stdout",
     "output_type": "stream",
     "text": [
      "No, that doesn’t work.\n"
     ]
    }
   ],
   "source": [
    "check_fermat(3,4,5,4)"
   ]
  },
  {
   "cell_type": "markdown",
   "metadata": {},
   "source": [
    "2. Escreva uma função que peça ao usuário para digitar valores para a, b, c e n, os converta em números inteiros e use check_fermat para verificar se violam o teorema de Fermat.\n"
   ]
  },
  {
   "cell_type": "code",
   "execution_count": null,
   "metadata": {},
   "outputs": [],
   "source": [
    "def check_fermat():\n",
    "    a = int(input('Digite o valor para a: '))\n",
    "    b = int(input('Digite o valor para b: '))\n",
    "    c = int(input('Digite o valor para b: '))\n",
    "    n = int(input('Digite o valor para n: '))\n",
    "\n",
    "    if n > 2 and (a**n + b**n) == c**n:\n",
    "      print('\\nHoly smokes, Fermat was wrong!')\n",
    "    else:\n",
    "      print('\\nNo, that doesn’t work.')"
   ]
  },
  {
   "cell_type": "code",
   "execution_count": null,
   "metadata": {},
   "outputs": [
    {
     "name": "stdout",
     "output_type": "stream",
     "text": [
      "Digite o valor para a: 3\n",
      "Digite o valor para b: 4\n",
      "Digite o valor para b: 5\n",
      "Digite o valor para n: 4\n",
      "\n",
      "No, that doesn’t work.\n"
     ]
    }
   ],
   "source": [
    "check_fermat()"
   ]
  },
  {
   "cell_type": "markdown",
   "metadata": {},
   "source": [
    "<h2> Exercício 5.3 </h2>\n",
    "\n",
    "Se você tiver três gravetos, pode ser que consiga arranjá-los em um triângulo ou não. Por exemplo, se um dos gravetos tiver 12 polegadas de comprimento e outros dois tiverem uma polegada de comprimento, não será possível fazer com que os gravetos curtos se encontrem no meio. Há um teste simples para ver se é possível formar um triângulo para quaisquer três comprimentos:\n",
    "Se algum dos três comprimentos for maior que a soma dos outros dois, então você não pode formar um triângulo. Senão, você pode. (Se a soma de dois comprimentos igualar o terceiro, eles formam um triângulo chamado “degenerado”.)\n"
   ]
  },
  {
   "cell_type": "markdown",
   "metadata": {},
   "source": [
    "1. Escreva uma função chamada is_triangle que receba três números inteiros como\n",
    "argumentos, e que imprima “Yes” ou “No”, dependendo da possibilidade de formar\n",
    "ou não um triângulo de gravetos com os comprimentos dados."
   ]
  },
  {
   "cell_type": "markdown",
   "metadata": {},
   "source": [
    "**COMPARAÇÃO DE SOLUÇÕES:**"
   ]
  },
  {
   "cell_type": "markdown",
   "metadata": {},
   "source": [
    "**SOLUÇÃO PRÓPRIA:**"
   ]
  },
  {
   "cell_type": "code",
   "execution_count": null,
   "metadata": {},
   "outputs": [],
   "source": [
    "# definição de função que recebe 3 parâmetros\n",
    "def isTriangle(n1, n2, n3):\n",
    "\n",
    "  if n1 > (n2 + n3):     # 1 < 5\n",
    "    print('No')\n",
    "  elif n2 > (n1 + n3):   # 2 < 4\n",
    "     print('No')\n",
    "  elif n3 > (n1 + n2):   # 3 > 3\n",
    "    print('No')\n",
    "  else:\n",
    "    print('Yes')         # sim"
   ]
  },
  {
   "cell_type": "code",
   "execution_count": null,
   "metadata": {},
   "outputs": [
    {
     "name": "stdout",
     "output_type": "stream",
     "text": [
      "Yes\n"
     ]
    }
   ],
   "source": [
    "isTriangle(1,2,3)"
   ]
  },
  {
   "cell_type": "markdown",
   "metadata": {},
   "source": [
    "**SOLUÇÃO CHATGPT:**"
   ]
  },
  {
   "cell_type": "code",
   "execution_count": null,
   "metadata": {},
   "outputs": [
    {
     "name": "stdout",
     "output_type": "stream",
     "text": [
      "Yes\n",
      "No\n"
     ]
    }
   ],
   "source": [
    "def is_triangle(a, b, c):\n",
    "    if a + b > c and a + c > b and b + c > a:\n",
    "        print(\"Yes\")\n",
    "    else:\n",
    "        print(\"No\")\n",
    "\n",
    "# Exemplos de uso:\n",
    "is_triangle(3, 4, 5)  # Deve imprimir \"Yes\"\n",
    "is_triangle(1, 2, 3)  # Deve imprimir \"No\""
   ]
  },
  {
   "cell_type": "markdown",
   "metadata": {},
   "source": [
    "2. Escreva uma função que peça ao usuário para digitar três comprimentos de gravetos, os converta em números inteiros e use is_triangle para verificar se os gravetos com os comprimentos dados podem formar um triângulo."
   ]
  },
  {
   "cell_type": "markdown",
   "metadata": {},
   "source": [
    "**SOLUÇÃO PRÓPRIA:**"
   ]
  },
  {
   "cell_type": "code",
   "execution_count": null,
   "metadata": {},
   "outputs": [],
   "source": [
    "# definição de função que recebe 3 parâmetros digitados pelo usuário\n",
    "def isTriangle():\n",
    "  n1 = int(input('Digite um valor para n1: '))\n",
    "  n2 = int(input('Digite um valor para n2: '))\n",
    "  n3 = int(input('Digite um valor para n3: '))\n",
    "\n",
    "  if n1 > (n2 + n3):     # 1 < 5\n",
    "    print('\\nNo')\n",
    "  elif n2 > (n1 + n3):   # 2 < 4\n",
    "     print('\\nNo')\n",
    "  elif n3 > (n1 + n2):   # 3 > 3\n",
    "    print('\\nNo')\n",
    "  else:\n",
    "    print('\\nYes')         # sim"
   ]
  },
  {
   "cell_type": "code",
   "execution_count": null,
   "metadata": {},
   "outputs": [
    {
     "name": "stdout",
     "output_type": "stream",
     "text": [
      "Digite um valor para n1: 1\n",
      "Digite um valor para n2: 2\n",
      "Digite um valor para n3: 3\n",
      "\n",
      "Yes\n"
     ]
    }
   ],
   "source": [
    "isTriangle()"
   ]
  },
  {
   "cell_type": "markdown",
   "metadata": {},
   "source": [
    "**SOLUÇÃO CHATGPT:**"
   ]
  },
  {
   "cell_type": "code",
   "execution_count": null,
   "metadata": {},
   "outputs": [
    {
     "name": "stdout",
     "output_type": "stream",
     "text": [
      "Digite o comprimento do primeiro graveto: 1\n",
      "Digite o comprimento do segundo graveto: 2\n",
      "Digite o comprimento do terceiro graveto: 3\n",
      "No\n"
     ]
    }
   ],
   "source": [
    "def is_triangle(a, b, c):\n",
    "    if a + b > c and a + c > b and b + c > a:\n",
    "        print(\"Yes\")\n",
    "    else:\n",
    "        print(\"No\")\n",
    "\n",
    "def get_stick_lengths_and_check_triangle():\n",
    "    a = int(input(\"Digite o comprimento do primeiro graveto: \"))\n",
    "    b = int(input(\"Digite o comprimento do segundo graveto: \"))\n",
    "    c = int(input(\"Digite o comprimento do terceiro graveto: \"))\n",
    "\n",
    "    is_triangle(a, b, c)\n",
    "\n",
    "# Exemplo de uso:\n",
    "get_stick_lengths_and_check_triangle()"
   ]
  },
  {
   "cell_type": "markdown",
   "metadata": {},
   "source": [
    "<h2> Exercício 5.4 </h2>\n",
    "\n",
    "Qual é a saída do seguinte programa? Desenhe um diagrama da pilha que mostre o estado do programa quando exibir o resultado.\n",
    "\n",
    "```\n",
    "def recurse(n, s):\n",
    "  if n == 0:\n",
    "    print(s)\n",
    "  else:\n",
    "    recurse(n-1, n+s)\n",
    "\n",
    "recurse(3, 0)\n",
    "```"
   ]
  },
  {
   "cell_type": "markdown",
   "metadata": {},
   "source": [
    "![image.png](data:image/png;base64,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)"
   ]
  },
  {
   "cell_type": "code",
   "execution_count": null,
   "metadata": {},
   "outputs": [
    {
     "name": "stdout",
     "output_type": "stream",
     "text": [
      "6\n"
     ]
    }
   ],
   "source": [
    "def recurse(n, s):\n",
    "  if n == 0:\n",
    "    print(s)\n",
    "  else:\n",
    "    recurse(n-1, n+s)\n",
    "\n",
    "recurse(3, 0)"
   ]
  },
  {
   "cell_type": "markdown",
   "metadata": {},
   "source": [
    "**COMPARAÇÃO DE RESPOSTAS:**"
   ]
  },
  {
   "cell_type": "markdown",
   "metadata": {},
   "source": [
    "**SOLUÇÃO PRÓPRIA:**"
   ]
  },
  {
   "cell_type": "markdown",
   "metadata": {},
   "source": [
    "1. O que aconteceria se você chamasse esta função desta forma: recurse(-1, 0)?\n",
    "\n",
    "Geraria um loop infinito de recursividade, pois não chegaria ao caso-base (0 - zero) nunca."
   ]
  },
  {
   "cell_type": "markdown",
   "metadata": {},
   "source": [
    "2. Escreva uma docstring que explique tudo o que alguém precisaria saber para usar esta função (e mais nada)."
   ]
  },
  {
   "cell_type": "code",
   "execution_count": null,
   "metadata": {},
   "outputs": [],
   "source": [
    "'''\n",
    "Essa função é recursiva e apresenta na tela o valor de 's' como caso-base para sair da função.\n",
    "Ou seja, quando a subtração de 'n - 1' chegar em 0, será apresentado ao usuário o valor\n",
    "final de 's', que é definido vindo de origem da soma de 'n + s' durante o processo de execução\n",
    "da função.\n",
    "'''"
   ]
  },
  {
   "cell_type": "markdown",
   "metadata": {},
   "source": [
    "**SOLUÇÃO CHATGPT:**"
   ]
  },
  {
   "cell_type": "markdown",
   "metadata": {},
   "source": [
    "1. O que aconteceria se você chamasse esta função desta forma: recurse(-1, 0)?\n",
    "- Quando n é negativo, a função não tem uma condição base para parar, o que leva a uma recursão infinita.\n",
    "\n",
    "2. Escreva uma docstring que explique tudo o que alguém precisaria saber para usar esta função (e mais nada).\n",
    "\n",
    "\n",
    "\n",
    "```\n",
    " \"\"\"\n",
    "    Imprime valores acumulados de `s` com base na recursão até `n` ser 0.\n",
    "\n",
    "    Parâmetros:\n",
    "    n (int): Nível de recursão.\n",
    "    s (int): Valor inicial.\n",
    "\n",
    "    Retorna:\n",
    "    None\n",
    "    \"\"\"\n",
    "```\n",
    "\n"
   ]
  },
  {
   "cell_type": "markdown",
   "metadata": {},
   "source": [
    "<h2> Exercício 5.5 </h2>\n",
    "Leia a próxima função e veja se consegue compreender o que ela faz (veja os exemplos no Capítulo 4). Então execute-a e veja se acertou."
   ]
  },
  {
   "cell_type": "code",
   "execution_count": null,
   "metadata": {},
   "outputs": [
    {
     "name": "stdout",
     "output_type": "stream",
     "text": [
      "Collecting ColabTurtle\n",
      "  Downloading ColabTurtle-2.1.0.tar.gz (6.8 kB)\n",
      "  Preparing metadata (setup.py) ... \u001b[?25l\u001b[?25hdone\n",
      "Building wheels for collected packages: ColabTurtle\n",
      "  Building wheel for ColabTurtle (setup.py) ... \u001b[?25l\u001b[?25hdone\n",
      "  Created wheel for ColabTurtle: filename=ColabTurtle-2.1.0-py3-none-any.whl size=7642 sha256=9c10e958b70a425c1ff1b966a5c51a6b9782344c8e34cdbe4059ae117838b772\n",
      "  Stored in directory: /root/.cache/pip/wheels/5b/86/e8/54f5c8c853606e3a3060bb2e60363cbed632374a12e0f33ffc\n",
      "Successfully built ColabTurtle\n",
      "Installing collected packages: ColabTurtle\n",
      "Successfully installed ColabTurtle-2.1.0\n"
     ]
    }
   ],
   "source": [
    "!pip install ColabTurtle"
   ]
  },
  {
   "cell_type": "code",
   "execution_count": null,
   "metadata": {},
   "outputs": [],
   "source": [
    "import ColabTurtle.Turtle as tt"
   ]
  },
  {
   "cell_type": "code",
   "execution_count": null,
   "metadata": {},
   "outputs": [],
   "source": [
    "def draw(t, length, n):    # draw(t, 20, 4)\n",
    "  if n == 0:\n",
    "    return\n",
    "\n",
    "  angle = 50\n",
    "  tt.fd(length * n)\n",
    "  tt.lt(angle)\n",
    "  draw(t, length, n-1)\n",
    "  tt.rt(2 * angle)\n",
    "  draw(t, length, n-1)\n",
    "  tt.lt(angle)\n",
    "  tt.bk(length * n)"
   ]
  },
  {
   "cell_type": "code",
   "execution_count": null,
   "metadata": {},
   "outputs": [
    {
     "data": {
      "text/html": [
       "\n",
       "      <svg width=\"800\" height=\"500\">\n",
       "        <rect width=\"100%\" height=\"100%\" fill=\"black\"/>\n",
       "        <line x1=\"400\" y1=\"250\" x2=\"400.0\" y2=\"170.0\" stroke-linecap=\"round\" style=\"stroke:white;stroke-width:4\"/><line x1=\"400.0\" y1=\"170.0\" x2=\"354.037\" y2=\"131.433\" stroke-linecap=\"round\" style=\"stroke:white;stroke-width:4\"/><line x1=\"354.037\" y1=\"131.433\" x2=\"314.645\" y2=\"138.379\" stroke-linecap=\"round\" style=\"stroke:white;stroke-width:4\"/><line x1=\"314.645\" y1=\"138.379\" x2=\"304.645\" y2=\"155.7\" stroke-linecap=\"round\" style=\"stroke:white;stroke-width:4\"/><line x1=\"304.645\" y1=\"155.7\" x2=\"314.645\" y2=\"138.379\" stroke-linecap=\"round\" style=\"stroke:white;stroke-width:4\"/><line x1=\"314.645\" y1=\"138.379\" x2=\"299.324\" y2=\"125.523\" stroke-linecap=\"round\" style=\"stroke:white;stroke-width:4\"/><line x1=\"299.324\" y1=\"125.523\" x2=\"314.645\" y2=\"138.379\" stroke-linecap=\"round\" style=\"stroke:white;stroke-width:4\"/><line x1=\"314.645\" y1=\"138.379\" x2=\"354.037\" y2=\"131.433\" stroke-linecap=\"round\" style=\"stroke:white;stroke-width:4\"/><line x1=\"354.037\" y1=\"131.433\" x2=\"354.037\" y2=\"91.433\" stroke-linecap=\"round\" style=\"stroke:white;stroke-width:4\"/><line x1=\"354.037\" y1=\"91.433\" x2=\"338.716\" y2=\"78.577\" stroke-linecap=\"round\" style=\"stroke:white;stroke-width:4\"/><line x1=\"338.716\" y1=\"78.577\" x2=\"354.037\" y2=\"91.433\" stroke-linecap=\"round\" style=\"stroke:white;stroke-width:4\"/><line x1=\"354.037\" y1=\"91.433\" x2=\"369.358\" y2=\"78.577\" stroke-linecap=\"round\" style=\"stroke:white;stroke-width:4\"/><line x1=\"369.358\" y1=\"78.577\" x2=\"354.037\" y2=\"91.433\" stroke-linecap=\"round\" style=\"stroke:white;stroke-width:4\"/><line x1=\"354.037\" y1=\"91.433\" x2=\"354.037\" y2=\"131.433\" stroke-linecap=\"round\" style=\"stroke:white;stroke-width:4\"/><line x1=\"354.037\" y1=\"131.433\" x2=\"400.0\" y2=\"170.0\" stroke-linecap=\"round\" style=\"stroke:white;stroke-width:4\"/><line x1=\"400.0\" y1=\"170.0\" x2=\"445.963\" y2=\"131.433\" stroke-linecap=\"round\" style=\"stroke:white;stroke-width:4\"/><line x1=\"445.963\" y1=\"131.433\" x2=\"445.963\" y2=\"91.433\" stroke-linecap=\"round\" style=\"stroke:white;stroke-width:4\"/><line x1=\"445.963\" y1=\"91.433\" x2=\"430.642\" y2=\"78.577\" stroke-linecap=\"round\" style=\"stroke:white;stroke-width:4\"/><line x1=\"430.642\" y1=\"78.577\" x2=\"445.963\" y2=\"91.433\" stroke-linecap=\"round\" style=\"stroke:white;stroke-width:4\"/><line x1=\"445.963\" y1=\"91.433\" x2=\"461.284\" y2=\"78.577\" stroke-linecap=\"round\" style=\"stroke:white;stroke-width:4\"/><line x1=\"461.284\" y1=\"78.577\" x2=\"445.963\" y2=\"91.433\" stroke-linecap=\"round\" style=\"stroke:white;stroke-width:4\"/><line x1=\"445.963\" y1=\"91.433\" x2=\"445.963\" y2=\"131.433\" stroke-linecap=\"round\" style=\"stroke:white;stroke-width:4\"/><line x1=\"445.963\" y1=\"131.433\" x2=\"485.355\" y2=\"138.379\" stroke-linecap=\"round\" style=\"stroke:white;stroke-width:4\"/><line x1=\"485.355\" y1=\"138.379\" x2=\"500.676\" y2=\"125.523\" stroke-linecap=\"round\" style=\"stroke:white;stroke-width:4\"/><line x1=\"500.676\" y1=\"125.523\" x2=\"485.355\" y2=\"138.379\" stroke-linecap=\"round\" style=\"stroke:white;stroke-width:4\"/><line x1=\"485.355\" y1=\"138.379\" x2=\"495.355\" y2=\"155.7\" stroke-linecap=\"round\" style=\"stroke:white;stroke-width:4\"/><line x1=\"495.355\" y1=\"155.7\" x2=\"485.355\" y2=\"138.379\" stroke-linecap=\"round\" style=\"stroke:white;stroke-width:4\"/><line x1=\"485.355\" y1=\"138.379\" x2=\"445.963\" y2=\"131.433\" stroke-linecap=\"round\" style=\"stroke:white;stroke-width:4\"/><line x1=\"445.963\" y1=\"131.433\" x2=\"400.0\" y2=\"170.0\" stroke-linecap=\"round\" style=\"stroke:white;stroke-width:4\"/><line x1=\"400.0\" y1=\"170.0\" x2=\"400.0\" y2=\"250.0\" stroke-linecap=\"round\" style=\"stroke:white;stroke-width:4\"/>\n",
       "        <g visibility=visible transform=\"rotate(360,400.0,250.0) translate(382.0, 232.0)\">\n",
       "<path style=\" stroke:none;fill-rule:evenodd;fill:white;fill-opacity:1;\" d=\"M 18.214844 0.632812 C 16.109375 1.800781 15.011719 4.074219 15.074219 7.132812 L 15.085938 7.652344 L 14.785156 7.496094 C 13.476562 6.824219 11.957031 6.671875 10.40625 7.066406 C 8.46875 7.550781 6.515625 9.15625 4.394531 11.992188 C 3.0625 13.777344 2.679688 14.636719 3.042969 15.027344 L 3.15625 15.152344 L 3.519531 15.152344 C 4.238281 15.152344 4.828125 14.886719 8.1875 13.039062 C 9.386719 12.378906 10.371094 11.839844 10.378906 11.839844 C 10.386719 11.839844 10.355469 11.929688 10.304688 12.035156 C 9.832031 13.09375 9.257812 14.820312 8.96875 16.078125 C 7.914062 20.652344 8.617188 24.53125 11.070312 27.660156 C 11.351562 28.015625 11.363281 27.914062 10.972656 28.382812 C 8.925781 30.84375 7.945312 33.28125 8.238281 35.1875 C 8.289062 35.527344 8.28125 35.523438 8.917969 35.523438 C 10.941406 35.523438 13.074219 34.207031 15.136719 31.6875 C 15.359375 31.417969 15.328125 31.425781 15.5625 31.574219 C 16.292969 32.042969 18.023438 32.964844 18.175781 32.964844 C 18.335938 32.964844 19.941406 32.210938 20.828125 31.71875 C 20.996094 31.625 21.136719 31.554688 21.136719 31.558594 C 21.203125 31.664062 21.898438 32.414062 22.222656 32.730469 C 23.835938 34.300781 25.5625 35.132812 27.582031 35.300781 C 27.90625 35.328125 27.9375 35.308594 28.007812 34.984375 C 28.382812 33.242188 27.625 30.925781 25.863281 28.425781 L 25.542969 27.96875 L 25.699219 27.785156 C 28.945312 23.960938 29.132812 18.699219 26.257812 11.96875 L 26.207031 11.84375 L 27.945312 12.703125 C 31.53125 14.476562 32.316406 14.800781 33.03125 14.800781 C 33.976562 14.800781 33.78125 13.9375 32.472656 12.292969 C 28.519531 7.355469 25.394531 5.925781 21.921875 7.472656 L 21.558594 7.636719 L 21.578125 7.542969 C 21.699219 6.992188 21.761719 5.742188 21.699219 5.164062 C 21.496094 3.296875 20.664062 1.964844 19.003906 0.855469 C 18.480469 0.503906 18.457031 0.5 18.214844 0.632812\"/>\n",
       "</g>\n",
       "      </svg>\n",
       "    "
      ],
      "text/plain": [
       "<IPython.core.display.HTML object>"
      ]
     },
     "metadata": {},
     "output_type": "display_data"
    }
   ],
   "source": [
    "t = tt.initializeTurtle()\n",
    "\n",
    "draw(t, 20, 4)"
   ]
  },
  {
   "cell_type": "markdown",
   "metadata": {},
   "source": [
    "**EXPLICANDO A EXECUÇÃO DA FUNÇÃO:**"
   ]
  },
  {
   "cell_type": "code",
   "execution_count": null,
   "metadata": {},
   "outputs": [],
   "source": [
    "def draw(t, length, n):    # draw(t, 20, 4)\n",
    "  # quando n for 0, que é o caso-base, a função se encerra\n",
    "  if n == 0:\n",
    "    return\n",
    "\n",
    "  angle = 50\n",
    "  tt.fd(length * n)       # 1º chamada: n = 4. a tartaruga se move para frente em 20 * 4 = 80 unidades\n",
    "  tt.lt(angle)               # vira à esquerda em 50 graus\n",
    "\n",
    "  # chamada recursiva:\n",
    "  draw(t, length, n-1)\n",
    "  ''' 2º chamada:\n",
    "        4 - 1 = 3. a tartaruga se move para frente em 20 * 3 = 60 unidades\n",
    "        vira à esquerda em 50 graus\n",
    "        e faz a chamada recursiva novamente (até atingir o caso-base de 0):\n",
    "       3º chamada:\n",
    "          3 - 1 = 2. a tartaruga se move para frente em 20 * 2 = 40 unidades\n",
    "          vira à esquerda em 50 graus\n",
    "          e faz a chamada recursiva novamente (até atingir o caso-base de 0):\n",
    "       4º chamada:\n",
    "          2 - 1 = 1. a tartaruga se move para frente em 20 * 1 = 20 unidades\n",
    "          vira à esquerda em 50 graus\n",
    "          e faz a chamada recursiva novamente (até atingir o caso-base de 0):\n",
    "       5º chamada:\n",
    "           1 - 1 = 0, então fechou a função (nessa recursão), e segue o resto da função\n",
    "  '''\n",
    "  tt.rt(2 * angle)      # vira à direita em 100 graus\n",
    "\n",
    "  '''\n",
    "    e faz outra chamada recursiva:\n",
    "\n",
    "  '''\n",
    "  draw(t, length, n-1)\n",
    "  tt.lt(angle)\n",
    "  tt.bk(length * n)"
   ]
  },
  {
   "cell_type": "markdown",
   "metadata": {},
   "source": [
    "DANDO SEQUÊNCIA NO CONTEÚDO, E VOLTANDO EM OUTROS MOMENTOS NOS EXERCÍCIOS VOLTADOS PARA A LIB DO TURTLE."
   ]
  },
  {
   "cell_type": "markdown",
   "metadata": {},
   "source": [
    "<h2> Exercício 5.6 </h2>\n",
    "\n",
    "![image.png](data:image/png;base64,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)"
   ]
  },
  {
   "cell_type": "markdown",
   "metadata": {},
   "source": [
    "A curva de Koch é um fractal que parece com o da Figura 5.2. Para desenhar uma curva de Koch com o comprimento x, tudo o que você tem que fazer é:\n",
    "1. Desenhe uma curva de Koch com o comprimento x/3.\n",
    "2. Vire 60 graus à esquerda.\n",
    "3. Desenhe uma curva de Koch com o comprimento x/3.\n",
    "4. Vire 120 graus à direita.\n",
    "5. Desenhe uma curva de Koch com o comprimento x/3.\n",
    "6. Vire 60 graus à esquerda.\n",
    "7. Desenhe uma curva de Koch com o comprimento x/3."
   ]
  },
  {
   "cell_type": "markdown",
   "metadata": {},
   "source": [
    "A exceção é se x for menor que 3: neste caso, você pode desenhar apenas uma linha reta com o comprimento x.\n",
    "1. Escreva uma função chamada koch que receba um turtle e um comprimento como\n",
    "parâmetros, e use o turtle para desenhar uma curva de Koch com o comprimento\n",
    "dado.\n",
    "2. Escreva uma função chamada snowflake que desenhe três curvas de Koch para fazer o traçado de um floco de neve.\n",
    "Solução: http://thinkpython2.com/code/koch.py.\n",
    "3. A curva de Koch pode ser generalizada de vários modos. Veja exemplos em\n",
    "http://en.wikipedia.org/wiki/Koch_snowflake e implemente o seu favorito.\n"
   ]
  }
 ],
 "metadata": {
  "language_info": {
   "name": "python"
  }
 },
 "nbformat": 4,
 "nbformat_minor": 2
}
