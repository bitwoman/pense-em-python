{
  "nbformat": 4,
  "nbformat_minor": 0,
  "metadata": {
    "colab": {
      "provenance": [],
      "authorship_tag": "ABX9TyMrdel8A1hGCMs30FGmhW9q",
      "include_colab_link": true
    },
    "kernelspec": {
      "name": "python3",
      "display_name": "Python 3"
    },
    "language_info": {
      "name": "python"
    }
  },
  "cells": [
    {
      "cell_type": "markdown",
      "metadata": {
        "id": "view-in-github",
        "colab_type": "text"
      },
      "source": [
        "<a href=\"https://colab.research.google.com/github/bitwoman/pense-em-python/blob/main/cifra_de_cesar.ipynb\" target=\"_parent\"><img src=\"https://colab.research.google.com/assets/colab-badge.svg\" alt=\"Open In Colab\"/></a>"
      ]
    },
    {
      "cell_type": "markdown",
      "source": [
        "# **ESTUDO DO LIVRO \"Pense em Python\", DO AUTOR ALLEN B. DOWNEY**\n",
        "\n",
        "<p> Estudos iniciados em 20-06-2024. </p>"
      ],
      "metadata": {
        "id": "Z0NXPdlv2Tia"
      }
    },
    {
      "cell_type": "markdown",
      "source": [
        "# Capítulo 8: Strings"
      ],
      "metadata": {
        "id": "1dhKeolg2WQY"
      }
    },
    {
      "cell_type": "markdown",
      "source": [
        "**CIFRA DE CÉSAR:**"
      ],
      "metadata": {
        "id": "zEk1-FCU2f46"
      }
    },
    {
      "cell_type": "markdown",
      "source": [
        "Uma cifra de César é uma forma fraca de criptografia que implica “rotacionar” cada letra por um número fixo de lugares. Rotacionar uma letra significa deslocá-lo pelo alfabeto, voltando ao início se for necessário, portanto 'A' rotacionado por 3 é 'D' e 'Z' rotacionado por 1 é 'A'.\n",
        "\n",
        "Para rotacionar uma palavra, faça cada letra se mover pela mesma quantidade de posições.\n",
        "\n",
        "Você pode usar a função integrada ord, que converte um caractere em um código numérico e chr, que converte códigos numéricos em caracteres. As letras do alfabeto são codificadas em ordem alfabética, então, por exemplo:\n",
        "\n",
        "```\n",
        ">>> ord('c') - ord('a')\n",
        "2\n",
        "```\n",
        "\n",
        "Porque 'c' é a “segunda” letra do alfabeto. Mas tenha cuidado: os códigos numéricos de letras maiúsculas são diferentes.\n",
        "\n",
        "**Piadas potencialmente ofensivas na internet às vezes são codificadas em ROT13, que é uma cifra de César com rotação 13. Se não se ofender facilmente, encontre e decifre algumas delas.**"
      ],
      "metadata": {
        "id": "gSnsBe7C2XIN"
      }
    },
    {
      "cell_type": "markdown",
      "source": [
        "Escreva uma função chamada rotate_word que receba uma string e um número inteiro\n",
        "como parâmetros, e retorne uma nova string que contém as letras da string original rotacionadas pelo número dado."
      ],
      "metadata": {
        "id": "Uj2_SSuS2kH4"
      }
    },
    {
      "cell_type": "code",
      "execution_count": 1,
      "metadata": {
        "id": "NvknGF1c2SDj"
      },
      "outputs": [],
      "source": [
        "def rotate_word(string, numero_rotacao):\n",
        "  nova_string = ''\n",
        "\n",
        "  for letra in string:\n",
        "    nova_string = nova_string + chr(ord(letra) + numero_rotacao)\n",
        "\n",
        "  return nova_string"
      ]
    },
    {
      "cell_type": "code",
      "source": [
        "rotate_word('programação', 4)"
      ],
      "metadata": {
        "colab": {
          "base_uri": "https://localhost:8080/",
          "height": 36
        },
        "id": "osJhQD6w2nat",
        "outputId": "719ffa7f-95ed-4d50-a804-880c4320bb9b"
      },
      "execution_count": 3,
      "outputs": [
        {
          "output_type": "execute_result",
          "data": {
            "text/plain": [
              "'tvskveqeëçs'"
            ],
            "application/vnd.google.colaboratory.intrinsic+json": {
              "type": "string"
            }
          },
          "metadata": {},
          "execution_count": 3
        }
      ]
    }
  ]
}