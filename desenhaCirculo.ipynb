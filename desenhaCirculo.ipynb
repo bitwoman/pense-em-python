{
  "nbformat": 4,
  "nbformat_minor": 0,
  "metadata": {
    "colab": {
      "provenance": [],
      "authorship_tag": "ABX9TyNJoNKZWpFVXiMfbtijodmI",
      "include_colab_link": true
    },
    "kernelspec": {
      "name": "python3",
      "display_name": "Python 3"
    },
    "language_info": {
      "name": "python"
    }
  },
  "cells": [
    {
      "cell_type": "markdown",
      "metadata": {
        "id": "view-in-github",
        "colab_type": "text"
      },
      "source": [
        "<a href=\"https://colab.research.google.com/github/bitwoman/pense-em-python/blob/main/desenhaCirculo.ipynb\" target=\"_parent\"><img src=\"https://colab.research.google.com/assets/colab-badge.svg\" alt=\"Open In Colab\"/></a>"
      ]
    },
    {
      "cell_type": "markdown",
      "source": [
        "# Solução completa do script, no capítulo 4, que desenha um círculo."
      ],
      "metadata": {
        "id": "kpvr4SAcQZPd"
      }
    },
    {
      "cell_type": "markdown",
      "source": [
        "Verificando a versão do python que está instalada no Google Colab, pois o módulo turtule só está disponível a partir da versão 3.x."
      ],
      "metadata": {
        "id": "0oBh8LatSBWv"
      }
    },
    {
      "cell_type": "code",
      "source": [
        "!python --version"
      ],
      "metadata": {
        "colab": {
          "base_uri": "https://localhost:8080/"
        },
        "id": "wiYuAeUvSFHW",
        "outputId": "8337dcef-107f-4cdc-c97c-a7a5bd65bff8"
      },
      "execution_count": 5,
      "outputs": [
        {
          "output_type": "stream",
          "name": "stdout",
          "text": [
            "Python 3.10.12\n"
          ]
        }
      ]
    },
    {
      "cell_type": "markdown",
      "source": [
        "Verificando as informações do pacote caso esteja instalado, se não, retorna uma mensagem de warning."
      ],
      "metadata": {
        "id": "UbSkurxCSGsn"
      }
    },
    {
      "cell_type": "code",
      "source": [
        "!pip show turtle\n",
        "\n",
        "#Package(s) not found: turtle > o pacote não está instalado no ambiente"
      ],
      "metadata": {
        "colab": {
          "base_uri": "https://localhost:8080/"
        },
        "id": "J5H_S8kJSHTg",
        "outputId": "5515ec41-7f47-4858-c842-94f27dafb27e"
      },
      "execution_count": 6,
      "outputs": [
        {
          "output_type": "stream",
          "name": "stdout",
          "text": [
            "\u001b[33mWARNING: Package(s) not found: turtle\u001b[0m\u001b[33m\n",
            "\u001b[0m"
          ]
        }
      ]
    },
    {
      "cell_type": "markdown",
      "source": [
        "**O Google Colab não possui suporte nativo para o módulo turtle devido à sua dependência de uma interface gráfica que não está disponível em ambientes baseados em navegador como o Colab. No entanto, há uma alternativa chamada ColabTurtle que permite usar a funcionalidade do turtle no Google Colab.**"
      ],
      "metadata": {
        "id": "akb0Edx0STfX"
      }
    },
    {
      "cell_type": "code",
      "source": [
        "!pip install turtle\n",
        "\n",
        "# error: subprocess-exited-with-error"
      ],
      "metadata": {
        "colab": {
          "base_uri": "https://localhost:8080/"
        },
        "id": "eINSieBwSUZh",
        "outputId": "87919dfe-178b-444e-dbbf-18596702bf0f"
      },
      "execution_count": 7,
      "outputs": [
        {
          "output_type": "stream",
          "name": "stdout",
          "text": [
            "Collecting turtle\n",
            "  Downloading turtle-0.0.2.tar.gz (11 kB)\n",
            "  \u001b[1;31merror\u001b[0m: \u001b[1msubprocess-exited-with-error\u001b[0m\n",
            "  \n",
            "  \u001b[31m×\u001b[0m \u001b[32mpython setup.py egg_info\u001b[0m did not run successfully.\n",
            "  \u001b[31m│\u001b[0m exit code: \u001b[1;36m1\u001b[0m\n",
            "  \u001b[31m╰─>\u001b[0m See above for output.\n",
            "  \n",
            "  \u001b[1;35mnote\u001b[0m: This error originates from a subprocess, and is likely not a problem with pip.\n",
            "  Preparing metadata (setup.py) ... \u001b[?25l\u001b[?25herror\n",
            "\u001b[1;31merror\u001b[0m: \u001b[1mmetadata-generation-failed\u001b[0m\n",
            "\n",
            "\u001b[31m×\u001b[0m Encountered error while generating package metadata.\n",
            "\u001b[31m╰─>\u001b[0m See above for output.\n",
            "\n",
            "\u001b[1;35mnote\u001b[0m: This is an issue with the package mentioned above, not pip.\n",
            "\u001b[1;36mhint\u001b[0m: See above for details.\n"
          ]
        }
      ]
    },
    {
      "cell_type": "markdown",
      "source": [
        "**Instalar o pacote ColabTurtle como alternativa**"
      ],
      "metadata": {
        "id": "h8svkDbfSX9X"
      }
    },
    {
      "cell_type": "code",
      "source": [
        "!pip install ColabTurtle"
      ],
      "metadata": {
        "colab": {
          "base_uri": "https://localhost:8080/"
        },
        "id": "p5LEYsPkSaWu",
        "outputId": "41f30d7a-c11e-4932-e490-e3ca7a7fac5e"
      },
      "execution_count": 8,
      "outputs": [
        {
          "output_type": "stream",
          "name": "stdout",
          "text": [
            "Collecting ColabTurtle\n",
            "  Downloading ColabTurtle-2.1.0.tar.gz (6.8 kB)\n",
            "  Preparing metadata (setup.py) ... \u001b[?25l\u001b[?25hdone\n",
            "Building wheels for collected packages: ColabTurtle\n",
            "  Building wheel for ColabTurtle (setup.py) ... \u001b[?25l\u001b[?25hdone\n",
            "  Created wheel for ColabTurtle: filename=ColabTurtle-2.1.0-py3-none-any.whl size=7642 sha256=a4922c173793e75ea29a784b082e85e071e8b48dc6f9f418245f09dc5c450a8b\n",
            "  Stored in directory: /root/.cache/pip/wheels/5b/86/e8/54f5c8c853606e3a3060bb2e60363cbed632374a12e0f33ffc\n",
            "Successfully built ColabTurtle\n",
            "Installing collected packages: ColabTurtle\n",
            "Successfully installed ColabTurtle-2.1.0\n"
          ]
        }
      ]
    },
    {
      "cell_type": "markdown",
      "source": [
        "**Importação do pacote Turtle do módulo ColabTurtle**"
      ],
      "metadata": {
        "id": "FUuSJuYfSctV"
      }
    },
    {
      "cell_type": "code",
      "source": [
        "import ColabTurtle.Turtle as turtle"
      ],
      "metadata": {
        "id": "ksGudGEhSjMe"
      },
      "execution_count": 9,
      "outputs": []
    },
    {
      "cell_type": "markdown",
      "source": [
        "**É necessário inicializar o ambiente do ColabTurtle (Turtle), após isso, é possível utilizado. Inicializando o ambiente:**"
      ],
      "metadata": {
        "id": "Xjx3Z5duHLfy"
      }
    },
    {
      "cell_type": "code",
      "source": [
        "turtle.initializeTurtle()"
      ],
      "metadata": {
        "colab": {
          "base_uri": "https://localhost:8080/",
          "height": 521
        },
        "id": "_D5W10SeG8oM",
        "outputId": "6b62f8c8-bb32-41b7-f3ec-a08e99e3c29e"
      },
      "execution_count": 10,
      "outputs": [
        {
          "output_type": "display_data",
          "data": {
            "text/plain": [
              "<IPython.core.display.HTML object>"
            ],
            "text/html": [
              "\n",
              "      <svg width=\"800\" height=\"500\">\n",
              "        <rect width=\"100%\" height=\"100%\" fill=\"black\"/>\n",
              "        \n",
              "        <g visibility=visible transform=\"rotate(360,400,250) translate(382, 232)\">\n",
              "<path style=\" stroke:none;fill-rule:evenodd;fill:white;fill-opacity:1;\" d=\"M 18.214844 0.632812 C 16.109375 1.800781 15.011719 4.074219 15.074219 7.132812 L 15.085938 7.652344 L 14.785156 7.496094 C 13.476562 6.824219 11.957031 6.671875 10.40625 7.066406 C 8.46875 7.550781 6.515625 9.15625 4.394531 11.992188 C 3.0625 13.777344 2.679688 14.636719 3.042969 15.027344 L 3.15625 15.152344 L 3.519531 15.152344 C 4.238281 15.152344 4.828125 14.886719 8.1875 13.039062 C 9.386719 12.378906 10.371094 11.839844 10.378906 11.839844 C 10.386719 11.839844 10.355469 11.929688 10.304688 12.035156 C 9.832031 13.09375 9.257812 14.820312 8.96875 16.078125 C 7.914062 20.652344 8.617188 24.53125 11.070312 27.660156 C 11.351562 28.015625 11.363281 27.914062 10.972656 28.382812 C 8.925781 30.84375 7.945312 33.28125 8.238281 35.1875 C 8.289062 35.527344 8.28125 35.523438 8.917969 35.523438 C 10.941406 35.523438 13.074219 34.207031 15.136719 31.6875 C 15.359375 31.417969 15.328125 31.425781 15.5625 31.574219 C 16.292969 32.042969 18.023438 32.964844 18.175781 32.964844 C 18.335938 32.964844 19.941406 32.210938 20.828125 31.71875 C 20.996094 31.625 21.136719 31.554688 21.136719 31.558594 C 21.203125 31.664062 21.898438 32.414062 22.222656 32.730469 C 23.835938 34.300781 25.5625 35.132812 27.582031 35.300781 C 27.90625 35.328125 27.9375 35.308594 28.007812 34.984375 C 28.382812 33.242188 27.625 30.925781 25.863281 28.425781 L 25.542969 27.96875 L 25.699219 27.785156 C 28.945312 23.960938 29.132812 18.699219 26.257812 11.96875 L 26.207031 11.84375 L 27.945312 12.703125 C 31.53125 14.476562 32.316406 14.800781 33.03125 14.800781 C 33.976562 14.800781 33.78125 13.9375 32.472656 12.292969 C 28.519531 7.355469 25.394531 5.925781 21.921875 7.472656 L 21.558594 7.636719 L 21.578125 7.542969 C 21.699219 6.992188 21.761719 5.742188 21.699219 5.164062 C 21.496094 3.296875 20.664062 1.964844 19.003906 0.855469 C 18.480469 0.503906 18.457031 0.5 18.214844 0.632812\"/>\n",
              "</g>\n",
              "      </svg>\n",
              "    "
            ]
          },
          "metadata": {}
        }
      ]
    },
    {
      "cell_type": "markdown",
      "source": [
        "**Inicializado, é possível utilizar métodos, como o forward:**"
      ],
      "metadata": {
        "id": "K4S28XWdH0o7"
      }
    },
    {
      "cell_type": "code",
      "source": [
        "turtle.forward(100) # O argumento de forward é uma distância em píxeis, então o tamanho real depende da sua tela."
      ],
      "metadata": {
        "colab": {
          "base_uri": "https://localhost:8080/",
          "height": 521
        },
        "id": "9xBS8-J5H2l4",
        "outputId": "dba82b1e-5183-4f0d-ce21-099c0cdd27d5"
      },
      "execution_count": 11,
      "outputs": [
        {
          "output_type": "display_data",
          "data": {
            "text/plain": [
              "<IPython.core.display.HTML object>"
            ],
            "text/html": [
              "\n",
              "      <svg width=\"800\" height=\"500\">\n",
              "        <rect width=\"100%\" height=\"100%\" fill=\"black\"/>\n",
              "        <line x1=\"400\" y1=\"250\" x2=\"400.0\" y2=\"150.0\" stroke-linecap=\"round\" style=\"stroke:white;stroke-width:4\"/>\n",
              "        <g visibility=visible transform=\"rotate(360,400.0,150.0) translate(382.0, 132.0)\">\n",
              "<path style=\" stroke:none;fill-rule:evenodd;fill:white;fill-opacity:1;\" d=\"M 18.214844 0.632812 C 16.109375 1.800781 15.011719 4.074219 15.074219 7.132812 L 15.085938 7.652344 L 14.785156 7.496094 C 13.476562 6.824219 11.957031 6.671875 10.40625 7.066406 C 8.46875 7.550781 6.515625 9.15625 4.394531 11.992188 C 3.0625 13.777344 2.679688 14.636719 3.042969 15.027344 L 3.15625 15.152344 L 3.519531 15.152344 C 4.238281 15.152344 4.828125 14.886719 8.1875 13.039062 C 9.386719 12.378906 10.371094 11.839844 10.378906 11.839844 C 10.386719 11.839844 10.355469 11.929688 10.304688 12.035156 C 9.832031 13.09375 9.257812 14.820312 8.96875 16.078125 C 7.914062 20.652344 8.617188 24.53125 11.070312 27.660156 C 11.351562 28.015625 11.363281 27.914062 10.972656 28.382812 C 8.925781 30.84375 7.945312 33.28125 8.238281 35.1875 C 8.289062 35.527344 8.28125 35.523438 8.917969 35.523438 C 10.941406 35.523438 13.074219 34.207031 15.136719 31.6875 C 15.359375 31.417969 15.328125 31.425781 15.5625 31.574219 C 16.292969 32.042969 18.023438 32.964844 18.175781 32.964844 C 18.335938 32.964844 19.941406 32.210938 20.828125 31.71875 C 20.996094 31.625 21.136719 31.554688 21.136719 31.558594 C 21.203125 31.664062 21.898438 32.414062 22.222656 32.730469 C 23.835938 34.300781 25.5625 35.132812 27.582031 35.300781 C 27.90625 35.328125 27.9375 35.308594 28.007812 34.984375 C 28.382812 33.242188 27.625 30.925781 25.863281 28.425781 L 25.542969 27.96875 L 25.699219 27.785156 C 28.945312 23.960938 29.132812 18.699219 26.257812 11.96875 L 26.207031 11.84375 L 27.945312 12.703125 C 31.53125 14.476562 32.316406 14.800781 33.03125 14.800781 C 33.976562 14.800781 33.78125 13.9375 32.472656 12.292969 C 28.519531 7.355469 25.394531 5.925781 21.921875 7.472656 L 21.558594 7.636719 L 21.578125 7.542969 C 21.699219 6.992188 21.761719 5.742188 21.699219 5.164062 C 21.496094 3.296875 20.664062 1.964844 19.003906 0.855469 C 18.480469 0.503906 18.457031 0.5 18.214844 0.632812\"/>\n",
              "</g>\n",
              "      </svg>\n",
              "    "
            ]
          },
          "metadata": {}
        }
      ]
    },
    {
      "cell_type": "markdown",
      "source": [
        "**Outros métodos que você pode chamar em um Turtle são bk (backward - ColabTurtle) para mover-se para trás, lt (left - ColabTurtule) para virar à esquerda e rt (right - ColabTurtle) para virar à direita. O argumento para lt e rt é um ângulo em graus.\n",
        "Além disso, cada Turtle segura uma caneta, que está abaixada ou levantada; se a caneta estiver abaixada, o Turtle deixa um rastro quando se move. Os métodos pu (penup - ColabTurtule) e pd (pendown - ColabTurtle) representam “caneta para cima” e “caneta para baixo”.**"
      ],
      "metadata": {
        "id": "8cDI_54zSpxW"
      }
    },
    {
      "cell_type": "markdown",
      "source": [
        "3. Faça uma cópia do square e mude o nome para polygon. Acrescente outro parâmetro chamado n e altere o corpo para que desenhe um polígono regular de n lados.\n",
        "Dica: os ângulos exteriores de um polígono regular de n lados são 360/n graus.\n",
        "\n",
        "\n",
        "Função Square do exercício anterior:\n",
        "\n",
        "\n",
        "```\n",
        "# def functionSquare(t, lenght):\n",
        "  for i in range(4):\n",
        "    t.forward(lenght)\n",
        "    t.left(90)\n",
        "```\n",
        "\n"
      ],
      "metadata": {
        "id": "Zz_oEc6ESpzx"
      }
    },
    {
      "cell_type": "markdown",
      "source": [
        "**OBS: O que são polígonos? São figuras geométricas planas compostas por apenas uma linha fechada e seus lados são segmentados por retas. Um quadro, por exemplo, é um polígono, uma vez que possui quatro lados. Já um círculo não é um polígono porque é arredondado e não possui lados.**"
      ],
      "metadata": {
        "id": "PGGo912fSp4g"
      }
    },
    {
      "cell_type": "code",
      "source": [
        "# Definição da função functionPolygon, que desenha um polígono, utilizando 3 parâmetros (objeto turtle, tamanho e quantidade de lados)\n",
        "\n",
        "def functionPolygon(t, lenght, n):\n",
        "    angulo = 360/n\n",
        "\n",
        "    for i in range(n):\n",
        "      t.forward(lenght)\n",
        "      t.left(angulo)"
      ],
      "metadata": {
        "id": "tNtRJsxWIwpt"
      },
      "execution_count": 12,
      "outputs": []
    },
    {
      "cell_type": "code",
      "source": [
        "turtle.initializeTurtle() # inicializa o ambiente\n",
        "triangle = turtle         # cria um objeto turtle, vulgo a variável triangle\n",
        "\n",
        "functionPolygon(triangle, 80, 6) # faz a chamada da função de polígono para a execução, passando os parâmetros\n",
        "# objeto turtle - comprimento do segmento - quantidade de lados da figura"
      ],
      "metadata": {
        "colab": {
          "base_uri": "https://localhost:8080/",
          "height": 521
        },
        "id": "7eqX3MRGIzSG",
        "outputId": "9f5d7189-01b6-4cae-add7-fca0ec0ea5fa"
      },
      "execution_count": 14,
      "outputs": [
        {
          "output_type": "display_data",
          "data": {
            "text/plain": [
              "<IPython.core.display.HTML object>"
            ],
            "text/html": [
              "\n",
              "      <svg width=\"800\" height=\"500\">\n",
              "        <rect width=\"100%\" height=\"100%\" fill=\"black\"/>\n",
              "        <line x1=\"400\" y1=\"250\" x2=\"400.0\" y2=\"170.0\" stroke-linecap=\"round\" style=\"stroke:white;stroke-width:4\"/><line x1=\"400.0\" y1=\"170.0\" x2=\"330.718\" y2=\"130.0\" stroke-linecap=\"round\" style=\"stroke:white;stroke-width:4\"/><line x1=\"330.718\" y1=\"130.0\" x2=\"261.436\" y2=\"170.0\" stroke-linecap=\"round\" style=\"stroke:white;stroke-width:4\"/><line x1=\"261.436\" y1=\"170.0\" x2=\"261.436\" y2=\"250.0\" stroke-linecap=\"round\" style=\"stroke:white;stroke-width:4\"/><line x1=\"261.436\" y1=\"250.0\" x2=\"330.718\" y2=\"290.0\" stroke-linecap=\"round\" style=\"stroke:white;stroke-width:4\"/><line x1=\"330.718\" y1=\"290.0\" x2=\"400.0\" y2=\"250.0\" stroke-linecap=\"round\" style=\"stroke:white;stroke-width:4\"/>\n",
              "        <g visibility=visible transform=\"rotate(360.0,400.0,250.0) translate(382.0, 232.0)\">\n",
              "<path style=\" stroke:none;fill-rule:evenodd;fill:white;fill-opacity:1;\" d=\"M 18.214844 0.632812 C 16.109375 1.800781 15.011719 4.074219 15.074219 7.132812 L 15.085938 7.652344 L 14.785156 7.496094 C 13.476562 6.824219 11.957031 6.671875 10.40625 7.066406 C 8.46875 7.550781 6.515625 9.15625 4.394531 11.992188 C 3.0625 13.777344 2.679688 14.636719 3.042969 15.027344 L 3.15625 15.152344 L 3.519531 15.152344 C 4.238281 15.152344 4.828125 14.886719 8.1875 13.039062 C 9.386719 12.378906 10.371094 11.839844 10.378906 11.839844 C 10.386719 11.839844 10.355469 11.929688 10.304688 12.035156 C 9.832031 13.09375 9.257812 14.820312 8.96875 16.078125 C 7.914062 20.652344 8.617188 24.53125 11.070312 27.660156 C 11.351562 28.015625 11.363281 27.914062 10.972656 28.382812 C 8.925781 30.84375 7.945312 33.28125 8.238281 35.1875 C 8.289062 35.527344 8.28125 35.523438 8.917969 35.523438 C 10.941406 35.523438 13.074219 34.207031 15.136719 31.6875 C 15.359375 31.417969 15.328125 31.425781 15.5625 31.574219 C 16.292969 32.042969 18.023438 32.964844 18.175781 32.964844 C 18.335938 32.964844 19.941406 32.210938 20.828125 31.71875 C 20.996094 31.625 21.136719 31.554688 21.136719 31.558594 C 21.203125 31.664062 21.898438 32.414062 22.222656 32.730469 C 23.835938 34.300781 25.5625 35.132812 27.582031 35.300781 C 27.90625 35.328125 27.9375 35.308594 28.007812 34.984375 C 28.382812 33.242188 27.625 30.925781 25.863281 28.425781 L 25.542969 27.96875 L 25.699219 27.785156 C 28.945312 23.960938 29.132812 18.699219 26.257812 11.96875 L 26.207031 11.84375 L 27.945312 12.703125 C 31.53125 14.476562 32.316406 14.800781 33.03125 14.800781 C 33.976562 14.800781 33.78125 13.9375 32.472656 12.292969 C 28.519531 7.355469 25.394531 5.925781 21.921875 7.472656 L 21.558594 7.636719 L 21.578125 7.542969 C 21.699219 6.992188 21.761719 5.742188 21.699219 5.164062 C 21.496094 3.296875 20.664062 1.964844 19.003906 0.855469 C 18.480469 0.503906 18.457031 0.5 18.214844 0.632812\"/>\n",
              "</g>\n",
              "      </svg>\n",
              "    "
            ]
          },
          "metadata": {}
        }
      ]
    },
    {
      "cell_type": "markdown",
      "source": [
        "4. Escreva uma função chamada circle que use o turtle, t e um raio r como parâmetros e desenhe um círculo aproximado ao chamar polygon com um comprimento e número de lados adequados. Teste a sua função com uma série de valores de r.\n",
        "\n",
        "- Dica: descubra a circunferência do círculo e certifique-se de que length * n =\n",
        "circumference."
      ],
      "metadata": {
        "id": "Q-AyVjwfJRE9"
      }
    },
    {
      "cell_type": "code",
      "source": [
        "import math # importação do módulo 'math' para utilizar método que traz automaticamente o número de P.I\n",
        "\n",
        "def functionCircle(t, r):\n",
        "    n = 100                           # Número de lados do polígono\n",
        "    circumference = 2 * math.pi * r   # circunferência do círculo\n",
        "    side_length = circumference/n     # comprimento do \"seguimento\", que nesse caso não será uma reta\n",
        "\n",
        "    functionPolygon(t, side_length, n) # fluxo de execução, chamando a função de polígono para desenhar o circulo"
      ],
      "metadata": {
        "id": "jzNiwoWdJV2m"
      },
      "execution_count": 17,
      "outputs": []
    },
    {
      "cell_type": "code",
      "source": [
        "turtle.initializeTurtle()\n",
        "circulo = turtle\n",
        "\n",
        "functionCircle(circulo, 50) # todavia, não será feito um círculo completo, pois não foi realizado todos os cálculos para isso"
      ],
      "metadata": {
        "colab": {
          "base_uri": "https://localhost:8080/",
          "height": 521
        },
        "id": "lhA9bmmRJxcx",
        "outputId": "edb35924-d173-4671-fef4-e7c3c6a36fe2"
      },
      "execution_count": 18,
      "outputs": [
        {
          "output_type": "display_data",
          "data": {
            "text/plain": [
              "<IPython.core.display.HTML object>"
            ],
            "text/html": [
              "\n",
              "      <svg width=\"800\" height=\"500\">\n",
              "        <rect width=\"100%\" height=\"100%\" fill=\"black\"/>\n",
              "        <line x1=\"400\" y1=\"250\" x2=\"400.0\" y2=\"246.858\" stroke-linecap=\"round\" style=\"stroke:white;stroke-width:4\"/><line x1=\"400.0\" y1=\"246.858\" x2=\"399.803\" y2=\"243.723\" stroke-linecap=\"round\" style=\"stroke:white;stroke-width:4\"/><line x1=\"399.803\" y1=\"243.723\" x2=\"399.409\" y2=\"240.606\" stroke-linecap=\"round\" style=\"stroke:white;stroke-width:4\"/><line x1=\"399.409\" y1=\"240.606\" x2=\"398.82\" y2=\"237.52\" stroke-linecap=\"round\" style=\"stroke:white;stroke-width:4\"/><line x1=\"398.82\" y1=\"237.52\" x2=\"398.039\" y2=\"234.477\" stroke-linecap=\"round\" style=\"stroke:white;stroke-width:4\"/><line x1=\"398.039\" y1=\"234.477\" x2=\"397.068\" y2=\"231.489\" stroke-linecap=\"round\" style=\"stroke:white;stroke-width:4\"/><line x1=\"397.068\" y1=\"231.489\" x2=\"395.912\" y2=\"228.568\" stroke-linecap=\"round\" style=\"stroke:white;stroke-width:4\"/><line x1=\"395.912\" y1=\"228.568\" x2=\"394.574\" y2=\"225.725\" stroke-linecap=\"round\" style=\"stroke:white;stroke-width:4\"/><line x1=\"394.574\" y1=\"225.725\" x2=\"393.061\" y2=\"222.972\" stroke-linecap=\"round\" style=\"stroke:white;stroke-width:4\"/><line x1=\"393.061\" y1=\"222.972\" x2=\"391.378\" y2=\"220.319\" stroke-linecap=\"round\" style=\"stroke:white;stroke-width:4\"/><line x1=\"391.378\" y1=\"220.319\" x2=\"389.531\" y2=\"217.777\" stroke-linecap=\"round\" style=\"stroke:white;stroke-width:4\"/><line x1=\"389.531\" y1=\"217.777\" x2=\"387.528\" y2=\"215.356\" stroke-linecap=\"round\" style=\"stroke:white;stroke-width:4\"/><line x1=\"387.528\" y1=\"215.356\" x2=\"385.377\" y2=\"213.066\" stroke-linecap=\"round\" style=\"stroke:white;stroke-width:4\"/><line x1=\"385.377\" y1=\"213.066\" x2=\"383.087\" y2=\"210.915\" stroke-linecap=\"round\" style=\"stroke:white;stroke-width:4\"/><line x1=\"383.087\" y1=\"210.915\" x2=\"380.666\" y2=\"208.912\" stroke-linecap=\"round\" style=\"stroke:white;stroke-width:4\"/><line x1=\"380.666\" y1=\"208.912\" x2=\"378.124\" y2=\"207.065\" stroke-linecap=\"round\" style=\"stroke:white;stroke-width:4\"/><line x1=\"378.124\" y1=\"207.065\" x2=\"375.471\" y2=\"205.382\" stroke-linecap=\"round\" style=\"stroke:white;stroke-width:4\"/><line x1=\"375.471\" y1=\"205.382\" x2=\"372.718\" y2=\"203.869\" stroke-linecap=\"round\" style=\"stroke:white;stroke-width:4\"/><line x1=\"372.718\" y1=\"203.869\" x2=\"369.875\" y2=\"202.531\" stroke-linecap=\"round\" style=\"stroke:white;stroke-width:4\"/><line x1=\"369.875\" y1=\"202.531\" x2=\"366.954\" y2=\"201.375\" stroke-linecap=\"round\" style=\"stroke:white;stroke-width:4\"/><line x1=\"366.954\" y1=\"201.375\" x2=\"363.966\" y2=\"200.404\" stroke-linecap=\"round\" style=\"stroke:white;stroke-width:4\"/><line x1=\"363.966\" y1=\"200.404\" x2=\"360.923\" y2=\"199.623\" stroke-linecap=\"round\" style=\"stroke:white;stroke-width:4\"/><line x1=\"360.923\" y1=\"199.623\" x2=\"357.837\" y2=\"199.034\" stroke-linecap=\"round\" style=\"stroke:white;stroke-width:4\"/><line x1=\"357.837\" y1=\"199.034\" x2=\"354.72\" y2=\"198.64\" stroke-linecap=\"round\" style=\"stroke:white;stroke-width:4\"/><line x1=\"354.72\" y1=\"198.64\" x2=\"351.585\" y2=\"198.443\" stroke-linecap=\"round\" style=\"stroke:white;stroke-width:4\"/><line x1=\"351.585\" y1=\"198.443\" x2=\"348.443\" y2=\"198.443\" stroke-linecap=\"round\" style=\"stroke:white;stroke-width:4\"/><line x1=\"348.443\" y1=\"198.443\" x2=\"345.308\" y2=\"198.64\" stroke-linecap=\"round\" style=\"stroke:white;stroke-width:4\"/><line x1=\"345.308\" y1=\"198.64\" x2=\"342.191\" y2=\"199.034\" stroke-linecap=\"round\" style=\"stroke:white;stroke-width:4\"/><line x1=\"342.191\" y1=\"199.034\" x2=\"339.105\" y2=\"199.623\" stroke-linecap=\"round\" style=\"stroke:white;stroke-width:4\"/><line x1=\"339.105\" y1=\"199.623\" x2=\"336.062\" y2=\"200.404\" stroke-linecap=\"round\" style=\"stroke:white;stroke-width:4\"/><line x1=\"336.062\" y1=\"200.404\" x2=\"333.074\" y2=\"201.375\" stroke-linecap=\"round\" style=\"stroke:white;stroke-width:4\"/><line x1=\"333.074\" y1=\"201.375\" x2=\"330.153\" y2=\"202.531\" stroke-linecap=\"round\" style=\"stroke:white;stroke-width:4\"/><line x1=\"330.153\" y1=\"202.531\" x2=\"327.31\" y2=\"203.869\" stroke-linecap=\"round\" style=\"stroke:white;stroke-width:4\"/><line x1=\"327.31\" y1=\"203.869\" x2=\"324.557\" y2=\"205.382\" stroke-linecap=\"round\" style=\"stroke:white;stroke-width:4\"/><line x1=\"324.557\" y1=\"205.382\" x2=\"321.904\" y2=\"207.065\" stroke-linecap=\"round\" style=\"stroke:white;stroke-width:4\"/><line x1=\"321.904\" y1=\"207.065\" x2=\"319.362\" y2=\"208.912\" stroke-linecap=\"round\" style=\"stroke:white;stroke-width:4\"/><line x1=\"319.362\" y1=\"208.912\" x2=\"316.941\" y2=\"210.915\" stroke-linecap=\"round\" style=\"stroke:white;stroke-width:4\"/><line x1=\"316.941\" y1=\"210.915\" x2=\"314.651\" y2=\"213.066\" stroke-linecap=\"round\" style=\"stroke:white;stroke-width:4\"/><line x1=\"314.651\" y1=\"213.066\" x2=\"312.5\" y2=\"215.356\" stroke-linecap=\"round\" style=\"stroke:white;stroke-width:4\"/><line x1=\"312.5\" y1=\"215.356\" x2=\"310.497\" y2=\"217.777\" stroke-linecap=\"round\" style=\"stroke:white;stroke-width:4\"/><line x1=\"310.497\" y1=\"217.777\" x2=\"308.65\" y2=\"220.319\" stroke-linecap=\"round\" style=\"stroke:white;stroke-width:4\"/><line x1=\"308.65\" y1=\"220.319\" x2=\"306.967\" y2=\"222.972\" stroke-linecap=\"round\" style=\"stroke:white;stroke-width:4\"/><line x1=\"306.967\" y1=\"222.972\" x2=\"305.454\" y2=\"225.725\" stroke-linecap=\"round\" style=\"stroke:white;stroke-width:4\"/><line x1=\"305.454\" y1=\"225.725\" x2=\"304.116\" y2=\"228.568\" stroke-linecap=\"round\" style=\"stroke:white;stroke-width:4\"/><line x1=\"304.116\" y1=\"228.568\" x2=\"302.96\" y2=\"231.489\" stroke-linecap=\"round\" style=\"stroke:white;stroke-width:4\"/><line x1=\"302.96\" y1=\"231.489\" x2=\"301.989\" y2=\"234.477\" stroke-linecap=\"round\" style=\"stroke:white;stroke-width:4\"/><line x1=\"301.989\" y1=\"234.477\" x2=\"301.208\" y2=\"237.52\" stroke-linecap=\"round\" style=\"stroke:white;stroke-width:4\"/><line x1=\"301.208\" y1=\"237.52\" x2=\"300.619\" y2=\"240.606\" stroke-linecap=\"round\" style=\"stroke:white;stroke-width:4\"/><line x1=\"300.619\" y1=\"240.606\" x2=\"300.225\" y2=\"243.723\" stroke-linecap=\"round\" style=\"stroke:white;stroke-width:4\"/><line x1=\"300.225\" y1=\"243.723\" x2=\"300.028\" y2=\"246.858\" stroke-linecap=\"round\" style=\"stroke:white;stroke-width:4\"/><line x1=\"300.028\" y1=\"246.858\" x2=\"300.028\" y2=\"250.0\" stroke-linecap=\"round\" style=\"stroke:white;stroke-width:4\"/><line x1=\"300.028\" y1=\"250.0\" x2=\"300.225\" y2=\"253.135\" stroke-linecap=\"round\" style=\"stroke:white;stroke-width:4\"/><line x1=\"300.225\" y1=\"253.135\" x2=\"300.619\" y2=\"256.252\" stroke-linecap=\"round\" style=\"stroke:white;stroke-width:4\"/><line x1=\"300.619\" y1=\"256.252\" x2=\"301.208\" y2=\"259.338\" stroke-linecap=\"round\" style=\"stroke:white;stroke-width:4\"/><line x1=\"301.208\" y1=\"259.338\" x2=\"301.989\" y2=\"262.381\" stroke-linecap=\"round\" style=\"stroke:white;stroke-width:4\"/><line x1=\"301.989\" y1=\"262.381\" x2=\"302.96\" y2=\"265.369\" stroke-linecap=\"round\" style=\"stroke:white;stroke-width:4\"/><line x1=\"302.96\" y1=\"265.369\" x2=\"304.116\" y2=\"268.29\" stroke-linecap=\"round\" style=\"stroke:white;stroke-width:4\"/><line x1=\"304.116\" y1=\"268.29\" x2=\"305.454\" y2=\"271.133\" stroke-linecap=\"round\" style=\"stroke:white;stroke-width:4\"/><line x1=\"305.454\" y1=\"271.133\" x2=\"306.967\" y2=\"273.886\" stroke-linecap=\"round\" style=\"stroke:white;stroke-width:4\"/><line x1=\"306.967\" y1=\"273.886\" x2=\"308.65\" y2=\"276.539\" stroke-linecap=\"round\" style=\"stroke:white;stroke-width:4\"/><line x1=\"308.65\" y1=\"276.539\" x2=\"310.497\" y2=\"279.081\" stroke-linecap=\"round\" style=\"stroke:white;stroke-width:4\"/><line x1=\"310.497\" y1=\"279.081\" x2=\"312.5\" y2=\"281.502\" stroke-linecap=\"round\" style=\"stroke:white;stroke-width:4\"/><line x1=\"312.5\" y1=\"281.502\" x2=\"314.651\" y2=\"283.792\" stroke-linecap=\"round\" style=\"stroke:white;stroke-width:4\"/><line x1=\"314.651\" y1=\"283.792\" x2=\"316.941\" y2=\"285.943\" stroke-linecap=\"round\" style=\"stroke:white;stroke-width:4\"/><line x1=\"316.941\" y1=\"285.943\" x2=\"319.362\" y2=\"287.946\" stroke-linecap=\"round\" style=\"stroke:white;stroke-width:4\"/><line x1=\"319.362\" y1=\"287.946\" x2=\"321.904\" y2=\"289.793\" stroke-linecap=\"round\" style=\"stroke:white;stroke-width:4\"/><line x1=\"321.904\" y1=\"289.793\" x2=\"324.557\" y2=\"291.476\" stroke-linecap=\"round\" style=\"stroke:white;stroke-width:4\"/><line x1=\"324.557\" y1=\"291.476\" x2=\"327.31\" y2=\"292.989\" stroke-linecap=\"round\" style=\"stroke:white;stroke-width:4\"/><line x1=\"327.31\" y1=\"292.989\" x2=\"330.153\" y2=\"294.327\" stroke-linecap=\"round\" style=\"stroke:white;stroke-width:4\"/><line x1=\"330.153\" y1=\"294.327\" x2=\"333.074\" y2=\"295.483\" stroke-linecap=\"round\" style=\"stroke:white;stroke-width:4\"/><line x1=\"333.074\" y1=\"295.483\" x2=\"336.062\" y2=\"296.454\" stroke-linecap=\"round\" style=\"stroke:white;stroke-width:4\"/><line x1=\"336.062\" y1=\"296.454\" x2=\"339.105\" y2=\"297.235\" stroke-linecap=\"round\" style=\"stroke:white;stroke-width:4\"/><line x1=\"339.105\" y1=\"297.235\" x2=\"342.191\" y2=\"297.824\" stroke-linecap=\"round\" style=\"stroke:white;stroke-width:4\"/><line x1=\"342.191\" y1=\"297.824\" x2=\"345.308\" y2=\"298.218\" stroke-linecap=\"round\" style=\"stroke:white;stroke-width:4\"/><line x1=\"345.308\" y1=\"298.218\" x2=\"348.443\" y2=\"298.415\" stroke-linecap=\"round\" style=\"stroke:white;stroke-width:4\"/><line x1=\"348.443\" y1=\"298.415\" x2=\"351.585\" y2=\"298.415\" stroke-linecap=\"round\" style=\"stroke:white;stroke-width:4\"/><line x1=\"351.585\" y1=\"298.415\" x2=\"354.72\" y2=\"298.218\" stroke-linecap=\"round\" style=\"stroke:white;stroke-width:4\"/><line x1=\"354.72\" y1=\"298.218\" x2=\"357.837\" y2=\"297.824\" stroke-linecap=\"round\" style=\"stroke:white;stroke-width:4\"/><line x1=\"357.837\" y1=\"297.824\" x2=\"360.923\" y2=\"297.235\" stroke-linecap=\"round\" style=\"stroke:white;stroke-width:4\"/><line x1=\"360.923\" y1=\"297.235\" x2=\"363.966\" y2=\"296.454\" stroke-linecap=\"round\" style=\"stroke:white;stroke-width:4\"/><line x1=\"363.966\" y1=\"296.454\" x2=\"366.954\" y2=\"295.483\" stroke-linecap=\"round\" style=\"stroke:white;stroke-width:4\"/><line x1=\"366.954\" y1=\"295.483\" x2=\"369.875\" y2=\"294.327\" stroke-linecap=\"round\" style=\"stroke:white;stroke-width:4\"/><line x1=\"369.875\" y1=\"294.327\" x2=\"372.718\" y2=\"292.989\" stroke-linecap=\"round\" style=\"stroke:white;stroke-width:4\"/><line x1=\"372.718\" y1=\"292.989\" x2=\"375.471\" y2=\"291.476\" stroke-linecap=\"round\" style=\"stroke:white;stroke-width:4\"/><line x1=\"375.471\" y1=\"291.476\" x2=\"378.124\" y2=\"289.793\" stroke-linecap=\"round\" style=\"stroke:white;stroke-width:4\"/><line x1=\"378.124\" y1=\"289.793\" x2=\"380.666\" y2=\"287.946\" stroke-linecap=\"round\" style=\"stroke:white;stroke-width:4\"/><line x1=\"380.666\" y1=\"287.946\" x2=\"383.087\" y2=\"285.943\" stroke-linecap=\"round\" style=\"stroke:white;stroke-width:4\"/><line x1=\"383.087\" y1=\"285.943\" x2=\"385.377\" y2=\"283.792\" stroke-linecap=\"round\" style=\"stroke:white;stroke-width:4\"/><line x1=\"385.377\" y1=\"283.792\" x2=\"387.528\" y2=\"281.502\" stroke-linecap=\"round\" style=\"stroke:white;stroke-width:4\"/><line x1=\"387.528\" y1=\"281.502\" x2=\"389.531\" y2=\"279.081\" stroke-linecap=\"round\" style=\"stroke:white;stroke-width:4\"/><line x1=\"389.531\" y1=\"279.081\" x2=\"391.378\" y2=\"276.539\" stroke-linecap=\"round\" style=\"stroke:white;stroke-width:4\"/><line x1=\"391.378\" y1=\"276.539\" x2=\"393.061\" y2=\"273.886\" stroke-linecap=\"round\" style=\"stroke:white;stroke-width:4\"/><line x1=\"393.061\" y1=\"273.886\" x2=\"394.574\" y2=\"271.133\" stroke-linecap=\"round\" style=\"stroke:white;stroke-width:4\"/><line x1=\"394.574\" y1=\"271.133\" x2=\"395.912\" y2=\"268.29\" stroke-linecap=\"round\" style=\"stroke:white;stroke-width:4\"/><line x1=\"395.912\" y1=\"268.29\" x2=\"397.068\" y2=\"265.369\" stroke-linecap=\"round\" style=\"stroke:white;stroke-width:4\"/><line x1=\"397.068\" y1=\"265.369\" x2=\"398.039\" y2=\"262.381\" stroke-linecap=\"round\" style=\"stroke:white;stroke-width:4\"/><line x1=\"398.039\" y1=\"262.381\" x2=\"398.82\" y2=\"259.338\" stroke-linecap=\"round\" style=\"stroke:white;stroke-width:4\"/><line x1=\"398.82\" y1=\"259.338\" x2=\"399.409\" y2=\"256.252\" stroke-linecap=\"round\" style=\"stroke:white;stroke-width:4\"/><line x1=\"399.409\" y1=\"256.252\" x2=\"399.803\" y2=\"253.135\" stroke-linecap=\"round\" style=\"stroke:white;stroke-width:4\"/><line x1=\"399.803\" y1=\"253.135\" x2=\"400.0\" y2=\"250.0\" stroke-linecap=\"round\" style=\"stroke:white;stroke-width:4\"/>\n",
              "        <g visibility=visible transform=\"rotate(359.99999999999966,400.0,250.0) translate(382.0, 232.0)\">\n",
              "<path style=\" stroke:none;fill-rule:evenodd;fill:white;fill-opacity:1;\" d=\"M 18.214844 0.632812 C 16.109375 1.800781 15.011719 4.074219 15.074219 7.132812 L 15.085938 7.652344 L 14.785156 7.496094 C 13.476562 6.824219 11.957031 6.671875 10.40625 7.066406 C 8.46875 7.550781 6.515625 9.15625 4.394531 11.992188 C 3.0625 13.777344 2.679688 14.636719 3.042969 15.027344 L 3.15625 15.152344 L 3.519531 15.152344 C 4.238281 15.152344 4.828125 14.886719 8.1875 13.039062 C 9.386719 12.378906 10.371094 11.839844 10.378906 11.839844 C 10.386719 11.839844 10.355469 11.929688 10.304688 12.035156 C 9.832031 13.09375 9.257812 14.820312 8.96875 16.078125 C 7.914062 20.652344 8.617188 24.53125 11.070312 27.660156 C 11.351562 28.015625 11.363281 27.914062 10.972656 28.382812 C 8.925781 30.84375 7.945312 33.28125 8.238281 35.1875 C 8.289062 35.527344 8.28125 35.523438 8.917969 35.523438 C 10.941406 35.523438 13.074219 34.207031 15.136719 31.6875 C 15.359375 31.417969 15.328125 31.425781 15.5625 31.574219 C 16.292969 32.042969 18.023438 32.964844 18.175781 32.964844 C 18.335938 32.964844 19.941406 32.210938 20.828125 31.71875 C 20.996094 31.625 21.136719 31.554688 21.136719 31.558594 C 21.203125 31.664062 21.898438 32.414062 22.222656 32.730469 C 23.835938 34.300781 25.5625 35.132812 27.582031 35.300781 C 27.90625 35.328125 27.9375 35.308594 28.007812 34.984375 C 28.382812 33.242188 27.625 30.925781 25.863281 28.425781 L 25.542969 27.96875 L 25.699219 27.785156 C 28.945312 23.960938 29.132812 18.699219 26.257812 11.96875 L 26.207031 11.84375 L 27.945312 12.703125 C 31.53125 14.476562 32.316406 14.800781 33.03125 14.800781 C 33.976562 14.800781 33.78125 13.9375 32.472656 12.292969 C 28.519531 7.355469 25.394531 5.925781 21.921875 7.472656 L 21.558594 7.636719 L 21.578125 7.542969 C 21.699219 6.992188 21.761719 5.742188 21.699219 5.164062 C 21.496094 3.296875 20.664062 1.964844 19.003906 0.855469 C 18.480469 0.503906 18.457031 0.5 18.214844 0.632812\"/>\n",
              "</g>\n",
              "      </svg>\n",
              "    "
            ]
          },
          "metadata": {}
        }
      ]
    },
    {
      "cell_type": "markdown",
      "source": [
        "5. Faça uma versão mais geral do circle chamada arc, que receba um parâmetro\n",
        "adicional de angle, para determinar qual fração do círculo deve ser desenhada. angle está em unidades de graus, então quando angle=360, o arc deve desenhar um círculo completo."
      ],
      "metadata": {
        "id": "3wLqy13iJ_Pt"
      }
    },
    {
      "cell_type": "code",
      "source": [
        "import math\n",
        "\n",
        "def functionArc(t, r, angle):\n",
        "    n = 100                                       # Número de lados do polígono que é quase um círculo (segmentos em um círculo)\n",
        "    circumference = 2 * math.pi * r               # cálculo da circunferência do círculo, que diz respeito a \"borda\" dele\n",
        "    fracao_circulo = (angle/360) * circumference  # é o comprimento do arco em unidades: o tamanho do círculo referente ao valor do ângulo que é passado\n",
        "\n",
        "    comprimento_segmento = (fracao_circulo/n)     # calcula o comprimento de cada segmento de um arco, permitindo que você desenhe o arco em pequenos passos ou segmentos,\n",
        "                                                  # movendo a tartaruga uma distância específica para cada segmento e girando-a conforme necessário\n",
        "\n",
        "    functionPolygon(t, comprimento_segmento, n)   # fluxo de execução, chamando a função de polígono para desenhar o circulo"
      ],
      "metadata": {
        "id": "Zztnb8aTQoCg"
      },
      "execution_count": 19,
      "outputs": []
    },
    {
      "cell_type": "code",
      "source": [
        "turtle.initializeTurtle()\n",
        "circulo_completo = turtle\n",
        "\n",
        "functionArc(circulo_completo, 50, 360)"
      ],
      "metadata": {
        "colab": {
          "base_uri": "https://localhost:8080/",
          "height": 521
        },
        "id": "bMP5LRmqQvc0",
        "outputId": "fd8edf8a-1487-454c-f087-402c0388fa81"
      },
      "execution_count": 20,
      "outputs": [
        {
          "output_type": "display_data",
          "data": {
            "text/plain": [
              "<IPython.core.display.HTML object>"
            ],
            "text/html": [
              "\n",
              "      <svg width=\"800\" height=\"500\">\n",
              "        <rect width=\"100%\" height=\"100%\" fill=\"black\"/>\n",
              "        <line x1=\"400\" y1=\"250\" x2=\"400.0\" y2=\"246.858\" stroke-linecap=\"round\" style=\"stroke:white;stroke-width:4\"/><line x1=\"400.0\" y1=\"246.858\" x2=\"399.803\" y2=\"243.723\" stroke-linecap=\"round\" style=\"stroke:white;stroke-width:4\"/><line x1=\"399.803\" y1=\"243.723\" x2=\"399.409\" y2=\"240.606\" stroke-linecap=\"round\" style=\"stroke:white;stroke-width:4\"/><line x1=\"399.409\" y1=\"240.606\" x2=\"398.82\" y2=\"237.52\" stroke-linecap=\"round\" style=\"stroke:white;stroke-width:4\"/><line x1=\"398.82\" y1=\"237.52\" x2=\"398.039\" y2=\"234.477\" stroke-linecap=\"round\" style=\"stroke:white;stroke-width:4\"/><line x1=\"398.039\" y1=\"234.477\" x2=\"397.068\" y2=\"231.489\" stroke-linecap=\"round\" style=\"stroke:white;stroke-width:4\"/><line x1=\"397.068\" y1=\"231.489\" x2=\"395.912\" y2=\"228.568\" stroke-linecap=\"round\" style=\"stroke:white;stroke-width:4\"/><line x1=\"395.912\" y1=\"228.568\" x2=\"394.574\" y2=\"225.725\" stroke-linecap=\"round\" style=\"stroke:white;stroke-width:4\"/><line x1=\"394.574\" y1=\"225.725\" x2=\"393.061\" y2=\"222.972\" stroke-linecap=\"round\" style=\"stroke:white;stroke-width:4\"/><line x1=\"393.061\" y1=\"222.972\" x2=\"391.378\" y2=\"220.319\" stroke-linecap=\"round\" style=\"stroke:white;stroke-width:4\"/><line x1=\"391.378\" y1=\"220.319\" x2=\"389.531\" y2=\"217.777\" stroke-linecap=\"round\" style=\"stroke:white;stroke-width:4\"/><line x1=\"389.531\" y1=\"217.777\" x2=\"387.528\" y2=\"215.356\" stroke-linecap=\"round\" style=\"stroke:white;stroke-width:4\"/><line x1=\"387.528\" y1=\"215.356\" x2=\"385.377\" y2=\"213.066\" stroke-linecap=\"round\" style=\"stroke:white;stroke-width:4\"/><line x1=\"385.377\" y1=\"213.066\" x2=\"383.087\" y2=\"210.915\" stroke-linecap=\"round\" style=\"stroke:white;stroke-width:4\"/><line x1=\"383.087\" y1=\"210.915\" x2=\"380.666\" y2=\"208.912\" stroke-linecap=\"round\" style=\"stroke:white;stroke-width:4\"/><line x1=\"380.666\" y1=\"208.912\" x2=\"378.124\" y2=\"207.065\" stroke-linecap=\"round\" style=\"stroke:white;stroke-width:4\"/><line x1=\"378.124\" y1=\"207.065\" x2=\"375.471\" y2=\"205.382\" stroke-linecap=\"round\" style=\"stroke:white;stroke-width:4\"/><line x1=\"375.471\" y1=\"205.382\" x2=\"372.718\" y2=\"203.869\" stroke-linecap=\"round\" style=\"stroke:white;stroke-width:4\"/><line x1=\"372.718\" y1=\"203.869\" x2=\"369.875\" y2=\"202.531\" stroke-linecap=\"round\" style=\"stroke:white;stroke-width:4\"/><line x1=\"369.875\" y1=\"202.531\" x2=\"366.954\" y2=\"201.375\" stroke-linecap=\"round\" style=\"stroke:white;stroke-width:4\"/><line x1=\"366.954\" y1=\"201.375\" x2=\"363.966\" y2=\"200.404\" stroke-linecap=\"round\" style=\"stroke:white;stroke-width:4\"/><line x1=\"363.966\" y1=\"200.404\" x2=\"360.923\" y2=\"199.623\" stroke-linecap=\"round\" style=\"stroke:white;stroke-width:4\"/><line x1=\"360.923\" y1=\"199.623\" x2=\"357.837\" y2=\"199.034\" stroke-linecap=\"round\" style=\"stroke:white;stroke-width:4\"/><line x1=\"357.837\" y1=\"199.034\" x2=\"354.72\" y2=\"198.64\" stroke-linecap=\"round\" style=\"stroke:white;stroke-width:4\"/><line x1=\"354.72\" y1=\"198.64\" x2=\"351.585\" y2=\"198.443\" stroke-linecap=\"round\" style=\"stroke:white;stroke-width:4\"/><line x1=\"351.585\" y1=\"198.443\" x2=\"348.443\" y2=\"198.443\" stroke-linecap=\"round\" style=\"stroke:white;stroke-width:4\"/><line x1=\"348.443\" y1=\"198.443\" x2=\"345.308\" y2=\"198.64\" stroke-linecap=\"round\" style=\"stroke:white;stroke-width:4\"/><line x1=\"345.308\" y1=\"198.64\" x2=\"342.191\" y2=\"199.034\" stroke-linecap=\"round\" style=\"stroke:white;stroke-width:4\"/><line x1=\"342.191\" y1=\"199.034\" x2=\"339.105\" y2=\"199.623\" stroke-linecap=\"round\" style=\"stroke:white;stroke-width:4\"/><line x1=\"339.105\" y1=\"199.623\" x2=\"336.062\" y2=\"200.404\" stroke-linecap=\"round\" style=\"stroke:white;stroke-width:4\"/><line x1=\"336.062\" y1=\"200.404\" x2=\"333.074\" y2=\"201.375\" stroke-linecap=\"round\" style=\"stroke:white;stroke-width:4\"/><line x1=\"333.074\" y1=\"201.375\" x2=\"330.153\" y2=\"202.531\" stroke-linecap=\"round\" style=\"stroke:white;stroke-width:4\"/><line x1=\"330.153\" y1=\"202.531\" x2=\"327.31\" y2=\"203.869\" stroke-linecap=\"round\" style=\"stroke:white;stroke-width:4\"/><line x1=\"327.31\" y1=\"203.869\" x2=\"324.557\" y2=\"205.382\" stroke-linecap=\"round\" style=\"stroke:white;stroke-width:4\"/><line x1=\"324.557\" y1=\"205.382\" x2=\"321.904\" y2=\"207.065\" stroke-linecap=\"round\" style=\"stroke:white;stroke-width:4\"/><line x1=\"321.904\" y1=\"207.065\" x2=\"319.362\" y2=\"208.912\" stroke-linecap=\"round\" style=\"stroke:white;stroke-width:4\"/><line x1=\"319.362\" y1=\"208.912\" x2=\"316.941\" y2=\"210.915\" stroke-linecap=\"round\" style=\"stroke:white;stroke-width:4\"/><line x1=\"316.941\" y1=\"210.915\" x2=\"314.651\" y2=\"213.066\" stroke-linecap=\"round\" style=\"stroke:white;stroke-width:4\"/><line x1=\"314.651\" y1=\"213.066\" x2=\"312.5\" y2=\"215.356\" stroke-linecap=\"round\" style=\"stroke:white;stroke-width:4\"/><line x1=\"312.5\" y1=\"215.356\" x2=\"310.497\" y2=\"217.777\" stroke-linecap=\"round\" style=\"stroke:white;stroke-width:4\"/><line x1=\"310.497\" y1=\"217.777\" x2=\"308.65\" y2=\"220.319\" stroke-linecap=\"round\" style=\"stroke:white;stroke-width:4\"/><line x1=\"308.65\" y1=\"220.319\" x2=\"306.967\" y2=\"222.972\" stroke-linecap=\"round\" style=\"stroke:white;stroke-width:4\"/><line x1=\"306.967\" y1=\"222.972\" x2=\"305.454\" y2=\"225.725\" stroke-linecap=\"round\" style=\"stroke:white;stroke-width:4\"/><line x1=\"305.454\" y1=\"225.725\" x2=\"304.116\" y2=\"228.568\" stroke-linecap=\"round\" style=\"stroke:white;stroke-width:4\"/><line x1=\"304.116\" y1=\"228.568\" x2=\"302.96\" y2=\"231.489\" stroke-linecap=\"round\" style=\"stroke:white;stroke-width:4\"/><line x1=\"302.96\" y1=\"231.489\" x2=\"301.989\" y2=\"234.477\" stroke-linecap=\"round\" style=\"stroke:white;stroke-width:4\"/><line x1=\"301.989\" y1=\"234.477\" x2=\"301.208\" y2=\"237.52\" stroke-linecap=\"round\" style=\"stroke:white;stroke-width:4\"/><line x1=\"301.208\" y1=\"237.52\" x2=\"300.619\" y2=\"240.606\" stroke-linecap=\"round\" style=\"stroke:white;stroke-width:4\"/><line x1=\"300.619\" y1=\"240.606\" x2=\"300.225\" y2=\"243.723\" stroke-linecap=\"round\" style=\"stroke:white;stroke-width:4\"/><line x1=\"300.225\" y1=\"243.723\" x2=\"300.028\" y2=\"246.858\" stroke-linecap=\"round\" style=\"stroke:white;stroke-width:4\"/><line x1=\"300.028\" y1=\"246.858\" x2=\"300.028\" y2=\"250.0\" stroke-linecap=\"round\" style=\"stroke:white;stroke-width:4\"/><line x1=\"300.028\" y1=\"250.0\" x2=\"300.225\" y2=\"253.135\" stroke-linecap=\"round\" style=\"stroke:white;stroke-width:4\"/><line x1=\"300.225\" y1=\"253.135\" x2=\"300.619\" y2=\"256.252\" stroke-linecap=\"round\" style=\"stroke:white;stroke-width:4\"/><line x1=\"300.619\" y1=\"256.252\" x2=\"301.208\" y2=\"259.338\" stroke-linecap=\"round\" style=\"stroke:white;stroke-width:4\"/><line x1=\"301.208\" y1=\"259.338\" x2=\"301.989\" y2=\"262.381\" stroke-linecap=\"round\" style=\"stroke:white;stroke-width:4\"/><line x1=\"301.989\" y1=\"262.381\" x2=\"302.96\" y2=\"265.369\" stroke-linecap=\"round\" style=\"stroke:white;stroke-width:4\"/><line x1=\"302.96\" y1=\"265.369\" x2=\"304.116\" y2=\"268.29\" stroke-linecap=\"round\" style=\"stroke:white;stroke-width:4\"/><line x1=\"304.116\" y1=\"268.29\" x2=\"305.454\" y2=\"271.133\" stroke-linecap=\"round\" style=\"stroke:white;stroke-width:4\"/><line x1=\"305.454\" y1=\"271.133\" x2=\"306.967\" y2=\"273.886\" stroke-linecap=\"round\" style=\"stroke:white;stroke-width:4\"/><line x1=\"306.967\" y1=\"273.886\" x2=\"308.65\" y2=\"276.539\" stroke-linecap=\"round\" style=\"stroke:white;stroke-width:4\"/><line x1=\"308.65\" y1=\"276.539\" x2=\"310.497\" y2=\"279.081\" stroke-linecap=\"round\" style=\"stroke:white;stroke-width:4\"/><line x1=\"310.497\" y1=\"279.081\" x2=\"312.5\" y2=\"281.502\" stroke-linecap=\"round\" style=\"stroke:white;stroke-width:4\"/><line x1=\"312.5\" y1=\"281.502\" x2=\"314.651\" y2=\"283.792\" stroke-linecap=\"round\" style=\"stroke:white;stroke-width:4\"/><line x1=\"314.651\" y1=\"283.792\" x2=\"316.941\" y2=\"285.943\" stroke-linecap=\"round\" style=\"stroke:white;stroke-width:4\"/><line x1=\"316.941\" y1=\"285.943\" x2=\"319.362\" y2=\"287.946\" stroke-linecap=\"round\" style=\"stroke:white;stroke-width:4\"/><line x1=\"319.362\" y1=\"287.946\" x2=\"321.904\" y2=\"289.793\" stroke-linecap=\"round\" style=\"stroke:white;stroke-width:4\"/><line x1=\"321.904\" y1=\"289.793\" x2=\"324.557\" y2=\"291.476\" stroke-linecap=\"round\" style=\"stroke:white;stroke-width:4\"/><line x1=\"324.557\" y1=\"291.476\" x2=\"327.31\" y2=\"292.989\" stroke-linecap=\"round\" style=\"stroke:white;stroke-width:4\"/><line x1=\"327.31\" y1=\"292.989\" x2=\"330.153\" y2=\"294.327\" stroke-linecap=\"round\" style=\"stroke:white;stroke-width:4\"/><line x1=\"330.153\" y1=\"294.327\" x2=\"333.074\" y2=\"295.483\" stroke-linecap=\"round\" style=\"stroke:white;stroke-width:4\"/><line x1=\"333.074\" y1=\"295.483\" x2=\"336.062\" y2=\"296.454\" stroke-linecap=\"round\" style=\"stroke:white;stroke-width:4\"/><line x1=\"336.062\" y1=\"296.454\" x2=\"339.105\" y2=\"297.235\" stroke-linecap=\"round\" style=\"stroke:white;stroke-width:4\"/><line x1=\"339.105\" y1=\"297.235\" x2=\"342.191\" y2=\"297.824\" stroke-linecap=\"round\" style=\"stroke:white;stroke-width:4\"/><line x1=\"342.191\" y1=\"297.824\" x2=\"345.308\" y2=\"298.218\" stroke-linecap=\"round\" style=\"stroke:white;stroke-width:4\"/><line x1=\"345.308\" y1=\"298.218\" x2=\"348.443\" y2=\"298.415\" stroke-linecap=\"round\" style=\"stroke:white;stroke-width:4\"/><line x1=\"348.443\" y1=\"298.415\" x2=\"351.585\" y2=\"298.415\" stroke-linecap=\"round\" style=\"stroke:white;stroke-width:4\"/><line x1=\"351.585\" y1=\"298.415\" x2=\"354.72\" y2=\"298.218\" stroke-linecap=\"round\" style=\"stroke:white;stroke-width:4\"/><line x1=\"354.72\" y1=\"298.218\" x2=\"357.837\" y2=\"297.824\" stroke-linecap=\"round\" style=\"stroke:white;stroke-width:4\"/><line x1=\"357.837\" y1=\"297.824\" x2=\"360.923\" y2=\"297.235\" stroke-linecap=\"round\" style=\"stroke:white;stroke-width:4\"/><line x1=\"360.923\" y1=\"297.235\" x2=\"363.966\" y2=\"296.454\" stroke-linecap=\"round\" style=\"stroke:white;stroke-width:4\"/><line x1=\"363.966\" y1=\"296.454\" x2=\"366.954\" y2=\"295.483\" stroke-linecap=\"round\" style=\"stroke:white;stroke-width:4\"/><line x1=\"366.954\" y1=\"295.483\" x2=\"369.875\" y2=\"294.327\" stroke-linecap=\"round\" style=\"stroke:white;stroke-width:4\"/><line x1=\"369.875\" y1=\"294.327\" x2=\"372.718\" y2=\"292.989\" stroke-linecap=\"round\" style=\"stroke:white;stroke-width:4\"/><line x1=\"372.718\" y1=\"292.989\" x2=\"375.471\" y2=\"291.476\" stroke-linecap=\"round\" style=\"stroke:white;stroke-width:4\"/><line x1=\"375.471\" y1=\"291.476\" x2=\"378.124\" y2=\"289.793\" stroke-linecap=\"round\" style=\"stroke:white;stroke-width:4\"/><line x1=\"378.124\" y1=\"289.793\" x2=\"380.666\" y2=\"287.946\" stroke-linecap=\"round\" style=\"stroke:white;stroke-width:4\"/><line x1=\"380.666\" y1=\"287.946\" x2=\"383.087\" y2=\"285.943\" stroke-linecap=\"round\" style=\"stroke:white;stroke-width:4\"/><line x1=\"383.087\" y1=\"285.943\" x2=\"385.377\" y2=\"283.792\" stroke-linecap=\"round\" style=\"stroke:white;stroke-width:4\"/><line x1=\"385.377\" y1=\"283.792\" x2=\"387.528\" y2=\"281.502\" stroke-linecap=\"round\" style=\"stroke:white;stroke-width:4\"/><line x1=\"387.528\" y1=\"281.502\" x2=\"389.531\" y2=\"279.081\" stroke-linecap=\"round\" style=\"stroke:white;stroke-width:4\"/><line x1=\"389.531\" y1=\"279.081\" x2=\"391.378\" y2=\"276.539\" stroke-linecap=\"round\" style=\"stroke:white;stroke-width:4\"/><line x1=\"391.378\" y1=\"276.539\" x2=\"393.061\" y2=\"273.886\" stroke-linecap=\"round\" style=\"stroke:white;stroke-width:4\"/><line x1=\"393.061\" y1=\"273.886\" x2=\"394.574\" y2=\"271.133\" stroke-linecap=\"round\" style=\"stroke:white;stroke-width:4\"/><line x1=\"394.574\" y1=\"271.133\" x2=\"395.912\" y2=\"268.29\" stroke-linecap=\"round\" style=\"stroke:white;stroke-width:4\"/><line x1=\"395.912\" y1=\"268.29\" x2=\"397.068\" y2=\"265.369\" stroke-linecap=\"round\" style=\"stroke:white;stroke-width:4\"/><line x1=\"397.068\" y1=\"265.369\" x2=\"398.039\" y2=\"262.381\" stroke-linecap=\"round\" style=\"stroke:white;stroke-width:4\"/><line x1=\"398.039\" y1=\"262.381\" x2=\"398.82\" y2=\"259.338\" stroke-linecap=\"round\" style=\"stroke:white;stroke-width:4\"/><line x1=\"398.82\" y1=\"259.338\" x2=\"399.409\" y2=\"256.252\" stroke-linecap=\"round\" style=\"stroke:white;stroke-width:4\"/><line x1=\"399.409\" y1=\"256.252\" x2=\"399.803\" y2=\"253.135\" stroke-linecap=\"round\" style=\"stroke:white;stroke-width:4\"/><line x1=\"399.803\" y1=\"253.135\" x2=\"400.0\" y2=\"250.0\" stroke-linecap=\"round\" style=\"stroke:white;stroke-width:4\"/>\n",
              "        <g visibility=visible transform=\"rotate(359.99999999999966,400.0,250.0) translate(382.0, 232.0)\">\n",
              "<path style=\" stroke:none;fill-rule:evenodd;fill:white;fill-opacity:1;\" d=\"M 18.214844 0.632812 C 16.109375 1.800781 15.011719 4.074219 15.074219 7.132812 L 15.085938 7.652344 L 14.785156 7.496094 C 13.476562 6.824219 11.957031 6.671875 10.40625 7.066406 C 8.46875 7.550781 6.515625 9.15625 4.394531 11.992188 C 3.0625 13.777344 2.679688 14.636719 3.042969 15.027344 L 3.15625 15.152344 L 3.519531 15.152344 C 4.238281 15.152344 4.828125 14.886719 8.1875 13.039062 C 9.386719 12.378906 10.371094 11.839844 10.378906 11.839844 C 10.386719 11.839844 10.355469 11.929688 10.304688 12.035156 C 9.832031 13.09375 9.257812 14.820312 8.96875 16.078125 C 7.914062 20.652344 8.617188 24.53125 11.070312 27.660156 C 11.351562 28.015625 11.363281 27.914062 10.972656 28.382812 C 8.925781 30.84375 7.945312 33.28125 8.238281 35.1875 C 8.289062 35.527344 8.28125 35.523438 8.917969 35.523438 C 10.941406 35.523438 13.074219 34.207031 15.136719 31.6875 C 15.359375 31.417969 15.328125 31.425781 15.5625 31.574219 C 16.292969 32.042969 18.023438 32.964844 18.175781 32.964844 C 18.335938 32.964844 19.941406 32.210938 20.828125 31.71875 C 20.996094 31.625 21.136719 31.554688 21.136719 31.558594 C 21.203125 31.664062 21.898438 32.414062 22.222656 32.730469 C 23.835938 34.300781 25.5625 35.132812 27.582031 35.300781 C 27.90625 35.328125 27.9375 35.308594 28.007812 34.984375 C 28.382812 33.242188 27.625 30.925781 25.863281 28.425781 L 25.542969 27.96875 L 25.699219 27.785156 C 28.945312 23.960938 29.132812 18.699219 26.257812 11.96875 L 26.207031 11.84375 L 27.945312 12.703125 C 31.53125 14.476562 32.316406 14.800781 33.03125 14.800781 C 33.976562 14.800781 33.78125 13.9375 32.472656 12.292969 C 28.519531 7.355469 25.394531 5.925781 21.921875 7.472656 L 21.558594 7.636719 L 21.578125 7.542969 C 21.699219 6.992188 21.761719 5.742188 21.699219 5.164062 C 21.496094 3.296875 20.664062 1.964844 19.003906 0.855469 C 18.480469 0.503906 18.457031 0.5 18.214844 0.632812\"/>\n",
              "</g>\n",
              "      </svg>\n",
              "    "
            ]
          },
          "metadata": {}
        }
      ]
    }
  ]
}