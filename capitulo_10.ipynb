{
  "nbformat": 4,
  "nbformat_minor": 0,
  "metadata": {
    "colab": {
      "provenance": [],
      "authorship_tag": "ABX9TyP3nXwhdMD18YXBw/Xc/uMb",
      "include_colab_link": true
    },
    "kernelspec": {
      "name": "python3",
      "display_name": "Python 3"
    },
    "language_info": {
      "name": "python"
    }
  },
  "cells": [
    {
      "cell_type": "markdown",
      "metadata": {
        "id": "view-in-github",
        "colab_type": "text"
      },
      "source": [
        "<a href=\"https://colab.research.google.com/github/bitwoman/pense-em-python/blob/main/capitulo_10.ipynb\" target=\"_parent\"><img src=\"https://colab.research.google.com/assets/colab-badge.svg\" alt=\"Open In Colab\"/></a>"
      ]
    },
    {
      "cell_type": "markdown",
      "source": [
        "# **ESTUDO DO LIVRO \"Pense em Python\", DO AUTOR ALLEN B. DOWNEY**\n",
        "\n",
        "<p> Estudos iniciados em 20-06-2024. </p>"
      ],
      "metadata": {
        "id": "Z2oiqiEkbuiI"
      }
    },
    {
      "cell_type": "markdown",
      "source": [
        "# Capítulo 10: Listas"
      ],
      "metadata": {
        "id": "mb-40ulsbyGA"
      }
    },
    {
      "cell_type": "markdown",
      "source": [
        "<h2> 10.1 - Uma lista é uma sequência </h2>\n",
        "\n",
        "Como uma string, uma lista é uma sequência de valores. Em uma string, os valores são caracteres; em uma lista, eles podem ser de qualquer tipo. Os valores em uma lista são chamados de elementos, ou, algumas vezes, de itens.\n",
        "\n",
        "**Os elementos de uma lista não precisam ser do mesmo tipo.**\n",
        "\n",
        "**Uma lista dentro de outra lista é uma lista aninhada.**\n",
        "\n",
        "**Podemos atribuir uma lista de valores a variáveis.**"
      ],
      "metadata": {
        "id": "-QbzZiM73Yxh"
      }
    },
    {
      "cell_type": "code",
      "execution_count": null,
      "metadata": {
        "colab": {
          "base_uri": "https://localhost:8080/"
        },
        "id": "k8UUIXJMWhFc",
        "outputId": "fb0a715d-9fbe-40b6-bf29-b1882d4a3a7d"
      },
      "outputs": [
        {
          "output_type": "stream",
          "name": "stdout",
          "text": [
            "['Cheddar', 'Edam', 'Gouda']\n"
          ]
        }
      ],
      "source": [
        "# exemplo\n",
        "cheeses = ['Cheddar', 'Edam', 'Gouda']\n",
        "print(cheeses)"
      ]
    },
    {
      "cell_type": "markdown",
      "source": [
        "<h2> 10.2 - Listas são mutáveis </h2>"
      ],
      "metadata": {
        "id": "-A_o1RuE37_D"
      }
    },
    {
      "cell_type": "markdown",
      "source": [
        "A sintaxe para acessar os elementos de uma lista é a mesma que para acessar os caracteres de uma string: o operador de colchete. A expressão dentro dos colchetes especifica o índice. Lembre-se de que os índices começam em 0:"
      ],
      "metadata": {
        "id": "q67BWfzD4eN3"
      }
    },
    {
      "cell_type": "code",
      "source": [
        "cheeses[0]"
      ],
      "metadata": {
        "colab": {
          "base_uri": "https://localhost:8080/",
          "height": 36
        },
        "id": "Lo8_hQvP37Qe",
        "outputId": "4ad8d03e-f0ed-4376-d231-52cb162bbac7"
      },
      "execution_count": null,
      "outputs": [
        {
          "output_type": "execute_result",
          "data": {
            "text/plain": [
              "'Cheddar'"
            ],
            "application/vnd.google.colaboratory.intrinsic+json": {
              "type": "string"
            }
          },
          "metadata": {},
          "execution_count": 2
        }
      ]
    },
    {
      "cell_type": "markdown",
      "source": [
        "Diferente das strings, listas são mutáveis. Quando o operador de colchete aparece do lado esquerdo de uma atribuição, ele identifica o elemento da lista que será atribuído:\n"
      ],
      "metadata": {
        "id": "A8WaAUS94oEr"
      }
    },
    {
      "cell_type": "code",
      "source": [
        "# exemplo: alterando a posição 1 da lista numbers\n",
        "numbers = [42, 123]\n",
        "numbers[1] = 5\n",
        "numbers"
      ],
      "metadata": {
        "colab": {
          "base_uri": "https://localhost:8080/"
        },
        "id": "i01WCHyc4gam",
        "outputId": "20de0f4c-0006-416d-8859-375eb426348d"
      },
      "execution_count": null,
      "outputs": [
        {
          "output_type": "execute_result",
          "data": {
            "text/plain": [
              "[42, 5]"
            ]
          },
          "metadata": {},
          "execution_count": 3
        }
      ]
    },
    {
      "cell_type": "markdown",
      "source": [
        "Índices de listas funcionam da mesma forma que os índices de strings:\n",
        "\n",
        "- Qualquer expressão de números inteiros pode ser usada como índice.\n",
        "- Se tentar ler ou escrever um elemento que não existe, você recebe um IndexError.\n",
        "- Se um índice tiver um valor negativo, ele conta de trás para a frente, a partir do final\n",
        "da lista."
      ],
      "metadata": {
        "id": "tM2cFSgT5Goa"
      }
    },
    {
      "cell_type": "markdown",
      "source": [
        "O operador in também funciona com listas:"
      ],
      "metadata": {
        "id": "Fo1XRjc-5NVy"
      }
    },
    {
      "cell_type": "code",
      "source": [
        "'Edam' in cheeses"
      ],
      "metadata": {
        "colab": {
          "base_uri": "https://localhost:8080/"
        },
        "id": "gzN5tIvC4whM",
        "outputId": "1bbf97db-50c2-4f8b-d36a-5d40e51551d3"
      },
      "execution_count": null,
      "outputs": [
        {
          "output_type": "execute_result",
          "data": {
            "text/plain": [
              "True"
            ]
          },
          "metadata": {},
          "execution_count": 4
        }
      ]
    },
    {
      "cell_type": "markdown",
      "source": [
        "<h2> 10.3 - Percorrendo uma lista </h2>\n",
        "\n",
        "A forma mais comum de percorrer os elementos em uma lista é com um loop for. A\n",
        "sintaxe é a mesma que a das strings:"
      ],
      "metadata": {
        "id": "dInwemmU5SlU"
      }
    },
    {
      "cell_type": "code",
      "source": [
        "for cheese in cheeses:\n",
        "  print(cheese)"
      ],
      "metadata": {
        "colab": {
          "base_uri": "https://localhost:8080/"
        },
        "id": "zGRIoUOx5Pn4",
        "outputId": "d16d19b4-3d22-4b4c-9ecb-d2ae59db0acb"
      },
      "execution_count": null,
      "outputs": [
        {
          "output_type": "stream",
          "name": "stdout",
          "text": [
            "Cheddar\n",
            "Edam\n",
            "Gouda\n"
          ]
        }
      ]
    },
    {
      "cell_type": "markdown",
      "source": [
        "Isso funciona bem se você precisa apenas ler os elementos da lista. Mas se você quer escrever ou atualizar os elementos, você precisa dos índices. Uma forma comum de fazer isso é combinar as funções integradas range e len:\n"
      ],
      "metadata": {
        "id": "6DL7UrJk5d2U"
      }
    },
    {
      "cell_type": "code",
      "source": [
        "# Este loop percorre a lista e atualiza cada elemento.\n",
        "for i in range(len(numbers)):\n",
        "  numbers[i] = numbers[i] * 2"
      ],
      "metadata": {
        "id": "4EGKniik5aDf"
      },
      "execution_count": null,
      "outputs": []
    },
    {
      "cell_type": "markdown",
      "source": [
        "Um loop for que passe por uma lista vazia nunca executa o corpo:"
      ],
      "metadata": {
        "id": "_-SuAyKk5yj4"
      }
    },
    {
      "cell_type": "code",
      "source": [
        "for x in []:\n",
        "  print('This never happens.')"
      ],
      "metadata": {
        "id": "I0K5Txbi5kh0"
      },
      "execution_count": null,
      "outputs": []
    },
    {
      "cell_type": "markdown",
      "source": [
        "Apesar de uma lista poder conter outra lista, a lista aninhada ainda conta como um único elemento. O comprimento desta lista é quatro:"
      ],
      "metadata": {
        "id": "BlpM-4lU56J6"
      }
    },
    {
      "cell_type": "code",
      "source": [
        "lista = ['spam', 1, ['Brie', 'Roquefort', 'Pol le Veq'], [1, 2, 3]]\n",
        "len(lista)"
      ],
      "metadata": {
        "colab": {
          "base_uri": "https://localhost:8080/"
        },
        "id": "HdrcL58j5iqC",
        "outputId": "f7724d2c-978f-4e0f-d32f-73d1fc4e185a"
      },
      "execution_count": null,
      "outputs": [
        {
          "output_type": "execute_result",
          "data": {
            "text/plain": [
              "4"
            ]
          },
          "metadata": {},
          "execution_count": 8
        }
      ]
    },
    {
      "cell_type": "markdown",
      "source": [
        "<h2> 10.4 - Operações com listas </h2>\n",
        "\n",
        "O operador + concatena listas:"
      ],
      "metadata": {
        "id": "ZG3TS0G-6Aw-"
      }
    },
    {
      "cell_type": "code",
      "source": [
        "a = [1, 2, 3]\n",
        "b = [4, 5, 6]\n",
        "c = a + b\n",
        "c"
      ],
      "metadata": {
        "colab": {
          "base_uri": "https://localhost:8080/"
        },
        "id": "ZIdYrbab5-jz",
        "outputId": "a0c9f828-836d-4a2d-9641-f2a22a0068e2"
      },
      "execution_count": null,
      "outputs": [
        {
          "output_type": "execute_result",
          "data": {
            "text/plain": [
              "[1, 2, 3, 4, 5, 6]"
            ]
          },
          "metadata": {},
          "execution_count": 9
        }
      ]
    },
    {
      "cell_type": "markdown",
      "source": [
        "O operador * repete a lista um dado número de vezes:"
      ],
      "metadata": {
        "id": "LFesYkFD7SJl"
      }
    },
    {
      "cell_type": "code",
      "source": [
        "[0] * 4"
      ],
      "metadata": {
        "colab": {
          "base_uri": "https://localhost:8080/"
        },
        "id": "WmFI3Wmj7QaV",
        "outputId": "6b010b3c-dab6-4802-fd18-f61253a215e9"
      },
      "execution_count": null,
      "outputs": [
        {
          "output_type": "execute_result",
          "data": {
            "text/plain": [
              "[0, 0, 0, 0]"
            ]
          },
          "metadata": {},
          "execution_count": 12
        }
      ]
    },
    {
      "cell_type": "code",
      "source": [
        "[1, 2, 3] * 3"
      ],
      "metadata": {
        "colab": {
          "base_uri": "https://localhost:8080/"
        },
        "id": "ogJJvaGw7T0C",
        "outputId": "001ea56f-5bee-4063-f447-e682947a24ce"
      },
      "execution_count": null,
      "outputs": [
        {
          "output_type": "execute_result",
          "data": {
            "text/plain": [
              "[1, 2, 3, 1, 2, 3, 1, 2, 3]"
            ]
          },
          "metadata": {},
          "execution_count": 13
        }
      ]
    },
    {
      "cell_type": "markdown",
      "source": [
        "<h2> 10.5 - Fatias de listas </h2>\n",
        "\n",
        "O operador de fatiamento também funciona com listas:"
      ],
      "metadata": {
        "id": "6r2Yzmrb7brx"
      }
    },
    {
      "cell_type": "code",
      "source": [
        "t = ['a', 'b', 'c', 'd', 'e', 'f']\n",
        "t[1:3]"
      ],
      "metadata": {
        "colab": {
          "base_uri": "https://localhost:8080/"
        },
        "id": "VrsjM43u7XLf",
        "outputId": "a31b0487-117b-48ab-93e1-99b02c68cee7"
      },
      "execution_count": null,
      "outputs": [
        {
          "output_type": "execute_result",
          "data": {
            "text/plain": [
              "['b', 'c']"
            ]
          },
          "metadata": {},
          "execution_count": 15
        }
      ]
    },
    {
      "cell_type": "code",
      "source": [
        "t[:4]"
      ],
      "metadata": {
        "colab": {
          "base_uri": "https://localhost:8080/"
        },
        "id": "-6X8U7Dx7uRz",
        "outputId": "e2b9db8f-5d43-4b59-e9e5-c29bd38dbd58"
      },
      "execution_count": null,
      "outputs": [
        {
          "output_type": "execute_result",
          "data": {
            "text/plain": [
              "['a', 'b', 'c', 'd']"
            ]
          },
          "metadata": {},
          "execution_count": 16
        }
      ]
    },
    {
      "cell_type": "code",
      "source": [
        "t[3:]"
      ],
      "metadata": {
        "colab": {
          "base_uri": "https://localhost:8080/"
        },
        "id": "QNpLFqOW71eB",
        "outputId": "111bedd5-1ce2-4897-ccfc-dc2337989b8a"
      },
      "execution_count": null,
      "outputs": [
        {
          "output_type": "execute_result",
          "data": {
            "text/plain": [
              "['d', 'e', 'f']"
            ]
          },
          "metadata": {},
          "execution_count": 17
        }
      ]
    },
    {
      "cell_type": "markdown",
      "source": [
        "Se você omitir o primeiro índice, a fatia começa no início. Se você omitir o segundo, a fatia vai até o final. Se você omitir ambos, a fatia é uma cópia da lista inteira."
      ],
      "metadata": {
        "id": "k7EbNZOW778V"
      }
    },
    {
      "cell_type": "code",
      "source": [
        "t[:]"
      ],
      "metadata": {
        "colab": {
          "base_uri": "https://localhost:8080/"
        },
        "id": "5si4BZse758y",
        "outputId": "a7472cc5-b8f3-4c8c-c6eb-114268c6e0a0"
      },
      "execution_count": null,
      "outputs": [
        {
          "output_type": "execute_result",
          "data": {
            "text/plain": [
              "['a', 'b', 'c', 'd', 'e', 'f']"
            ]
          },
          "metadata": {},
          "execution_count": 18
        }
      ]
    },
    {
      "cell_type": "markdown",
      "source": [
        "Como as listas são mutáveis, pode ser útil fazer uma cópia antes de executar operações que as alterem."
      ],
      "metadata": {
        "id": "HSQElsW38G4V"
      }
    },
    {
      "cell_type": "markdown",
      "source": [
        "Um operador de fatia à esquerda de uma atribuição pode atualizar vários elementos:"
      ],
      "metadata": {
        "id": "kRYfpqNW8LGw"
      }
    },
    {
      "cell_type": "code",
      "source": [
        "t = ['a', 'b', 'c', 'd', 'e', 'f']\n",
        "t[1:3] = ['x', 'y']\n",
        "t"
      ],
      "metadata": {
        "colab": {
          "base_uri": "https://localhost:8080/"
        },
        "id": "izRldrRY8C2g",
        "outputId": "9e7ebdc5-7d2a-4ba5-9903-792127de4d76"
      },
      "execution_count": null,
      "outputs": [
        {
          "output_type": "execute_result",
          "data": {
            "text/plain": [
              "['a', 'x', 'y', 'd', 'e', 'f']"
            ]
          },
          "metadata": {},
          "execution_count": 19
        }
      ]
    },
    {
      "cell_type": "markdown",
      "source": [
        "<h2> 10.6 - Métodos de listas </h2>\n",
        "\n",
        "O Python oferece métodos que operam em listas. Por exemplo, append adiciona um novo elemento ao fim de uma lista:"
      ],
      "metadata": {
        "id": "iz1ixne18SO3"
      }
    },
    {
      "cell_type": "code",
      "source": [
        "t = ['a', 'b', 'c']\n",
        "t.append('d') # adiciona na última posição\n",
        "t"
      ],
      "metadata": {
        "colab": {
          "base_uri": "https://localhost:8080/"
        },
        "id": "4gTN1uox8P8F",
        "outputId": "489f0d5a-4c24-49a6-951f-f21294f2cd57"
      },
      "execution_count": null,
      "outputs": [
        {
          "output_type": "execute_result",
          "data": {
            "text/plain": [
              "['a', 'b', 'c', 'd']"
            ]
          },
          "metadata": {},
          "execution_count": 20
        }
      ]
    },
    {
      "cell_type": "markdown",
      "source": [
        "extend toma uma lista como argumento e adiciona todos os elementos:\n",
        "\n",
        "Este exemplo deixa t2 intocado."
      ],
      "metadata": {
        "id": "3UZKl736Cuf5"
      }
    },
    {
      "cell_type": "code",
      "source": [
        "t = ['a', 'b', 'c']\n",
        "t2 = ['d', 'e']\n",
        "t.extend(t2)\n",
        "t"
      ],
      "metadata": {
        "colab": {
          "base_uri": "https://localhost:8080/"
        },
        "id": "538LZR9qCpzx",
        "outputId": "0042a9e0-1e3d-4f72-a04d-6f5a51a79743"
      },
      "execution_count": null,
      "outputs": [
        {
          "output_type": "execute_result",
          "data": {
            "text/plain": [
              "['a', 'b', 'c', 'd', 'e']"
            ]
          },
          "metadata": {},
          "execution_count": 22
        }
      ]
    },
    {
      "cell_type": "markdown",
      "source": [
        "sort classifica os elementos da lista em ordem ascendente:"
      ],
      "metadata": {
        "id": "-FCamahLC9Wk"
      }
    },
    {
      "cell_type": "code",
      "source": [
        "t = ['d', 'c', 'e', 'b', 'a']\n",
        "t.sort()\n",
        "t"
      ],
      "metadata": {
        "colab": {
          "base_uri": "https://localhost:8080/"
        },
        "id": "xBUjEjLoCztk",
        "outputId": "e4d93a0f-99c8-4a42-f661-f15a3d5ab2f3"
      },
      "execution_count": null,
      "outputs": [
        {
          "output_type": "execute_result",
          "data": {
            "text/plain": [
              "['a', 'b', 'c', 'd', 'e']"
            ]
          },
          "metadata": {},
          "execution_count": 23
        }
      ]
    },
    {
      "cell_type": "markdown",
      "source": [
        "A maior parte dos métodos de listas são nulos; eles alteram a lista e retornam None. Se você escrever t = t.sort() por acidente, ficará desapontado com o resultado.\n"
      ],
      "metadata": {
        "id": "th2KM8GtDLVI"
      }
    },
    {
      "cell_type": "code",
      "source": [
        "t = t.sort()\n",
        "t # não retorna nada"
      ],
      "metadata": {
        "id": "ssEpy2VpDBN2"
      },
      "execution_count": null,
      "outputs": []
    },
    {
      "cell_type": "markdown",
      "source": [
        "<h2> 10.7 - Mapeamento, filtragem e redução </h2>"
      ],
      "metadata": {
        "id": "2IYyf0FhDVNm"
      }
    },
    {
      "cell_type": "markdown",
      "source": [
        "Para somar o total de todos os números em uma lista, você pode usar um loop como esse:"
      ],
      "metadata": {
        "id": "SpSkEdaxDd4R"
      }
    },
    {
      "cell_type": "code",
      "source": [
        "def add_all(t):\n",
        "  total = 0\n",
        "\n",
        "  for x in t:\n",
        "    total += x\n",
        "\n",
        "  return total"
      ],
      "metadata": {
        "id": "_34IdyNkDN5K"
      },
      "execution_count": null,
      "outputs": []
    },
    {
      "cell_type": "markdown",
      "source": [
        "\n",
        "\n",
        "```\n",
        "total += x\n",
        "é equivalente a\n",
        "total = total + x\n",
        "\n",
        "```\n",
        "\n"
      ],
      "metadata": {
        "id": "_Pzm1pVDD4MJ"
      }
    },
    {
      "cell_type": "code",
      "source": [
        "add_all([1,2,3,4,5])"
      ],
      "metadata": {
        "colab": {
          "base_uri": "https://localhost:8080/"
        },
        "id": "nZJ6GGKTDhTV",
        "outputId": "83f9d01d-a8cb-479c-8b6d-dc2c23058af4"
      },
      "execution_count": null,
      "outputs": [
        {
          "output_type": "execute_result",
          "data": {
            "text/plain": [
              "15"
            ]
          },
          "metadata": {},
          "execution_count": 26
        }
      ]
    },
    {
      "cell_type": "markdown",
      "source": [
        "No decorrer da execução do loop, total acumula a soma dos elementos; uma variável usada desta forma às vezes é chamada de **acumuladora**."
      ],
      "metadata": {
        "id": "vcKlU_80EFzL"
      }
    },
    {
      "cell_type": "markdown",
      "source": [
        "Somar todos elementos de uma lista é uma operação tão comum que o Python a oferece como uma função integrada, sum:"
      ],
      "metadata": {
        "id": "_7eWmHpVEKqH"
      }
    },
    {
      "cell_type": "code",
      "source": [
        "t = [1, 2, 3]\n",
        "sum(t)"
      ],
      "metadata": {
        "colab": {
          "base_uri": "https://localhost:8080/"
        },
        "id": "p1YJJCpIDzSC",
        "outputId": "28ffa6f7-b702-488d-b691-f22cbf579e70"
      },
      "execution_count": null,
      "outputs": [
        {
          "output_type": "execute_result",
          "data": {
            "text/plain": [
              "6"
            ]
          },
          "metadata": {},
          "execution_count": 27
        }
      ]
    },
    {
      "cell_type": "markdown",
      "source": [
        "Uma operação como essa, que combina uma sequência de elementos em um único valor, às vezes é chamada de **redução**."
      ],
      "metadata": {
        "id": "TgwY7ElyEQLF"
      }
    },
    {
      "cell_type": "markdown",
      "source": [
        "Algumas vezes você quer percorrer uma lista enquanto cria outra. Por exemplo, a função seguinte recebe uma lista de strings e retorna uma nova lista que contém strings com letras maiúsculas:\n"
      ],
      "metadata": {
        "id": "r2BhWPvmEmp0"
      }
    },
    {
      "cell_type": "code",
      "source": [
        "def capitalize_all(t):\n",
        "  res = []\n",
        "\n",
        "  for s in t:\n",
        "    res.append(s.capitalize())\n",
        "\n",
        "  return res"
      ],
      "metadata": {
        "id": "reDaNjUkENqx"
      },
      "execution_count": null,
      "outputs": []
    },
    {
      "cell_type": "code",
      "source": [
        "capitalize_all(['a','b','c'])"
      ],
      "metadata": {
        "colab": {
          "base_uri": "https://localhost:8080/"
        },
        "id": "1j9kDohUEp0H",
        "outputId": "e396214e-a54e-4c36-86d6-84ffc88fddb7"
      },
      "execution_count": null,
      "outputs": [
        {
          "output_type": "execute_result",
          "data": {
            "text/plain": [
              "['A', 'B', 'C']"
            ]
          },
          "metadata": {},
          "execution_count": 29
        }
      ]
    },
    {
      "cell_type": "markdown",
      "source": [
        "Uma operação como capitalize_all às vezes é chamada de **mapeamento** porque ela\n",
        "“mapeia” uma função (nesse caso o método capitalize) sobre cada um dos elementos em uma sequência.\n"
      ],
      "metadata": {
        "id": "RdqJHvyhEves"
      }
    },
    {
      "cell_type": "markdown",
      "source": [
        "Outra operação comum é selecionar alguns dos elementos de uma lista e retornar uma sublista. Por exemplo, a função seguinte recebe uma lista de strings e retorna uma lista que contém apenas strings em letra maiúscula:"
      ],
      "metadata": {
        "id": "RDkprNFAE1I0"
      }
    },
    {
      "cell_type": "code",
      "source": [
        "def only_upper(t):\n",
        "  res = []\n",
        "  for s in t:\n",
        "    if s.isupper(): # isupper é um método de string que retorna True se a string contiver apenas letras maiúsculas.\n",
        "      res.append(s)\n",
        "\n",
        "  return res"
      ],
      "metadata": {
        "id": "N9TW9jiUEtD_"
      },
      "execution_count": null,
      "outputs": []
    },
    {
      "cell_type": "code",
      "source": [
        "only_upper(['a','B','C'])"
      ],
      "metadata": {
        "colab": {
          "base_uri": "https://localhost:8080/"
        },
        "id": "2OfPjYasFAZC",
        "outputId": "f4eae11f-8841-4c92-ad9e-f540d36d2e01"
      },
      "execution_count": null,
      "outputs": [
        {
          "output_type": "execute_result",
          "data": {
            "text/plain": [
              "['B', 'C']"
            ]
          },
          "metadata": {},
          "execution_count": 33
        }
      ]
    },
    {
      "cell_type": "markdown",
      "source": [
        "Uma operação como only_upper é chamada de filtragem porque filtra alguns dos\n",
        "elementos e desconsidera outros.\n",
        "As operações de lista mais comuns podem ser expressas como uma combinação de\n",
        "**mapeamento**, **filtragem** e **redução**."
      ],
      "metadata": {
        "id": "o0PiRoINFN8p"
      }
    },
    {
      "cell_type": "markdown",
      "source": [
        "<h2> 10.8 - Como excluir elementos </h2>\n",
        "\n",
        "Há várias formas de excluir elementos de uma lista. Se souber o índice do elemento que procura, você pode usar pop:"
      ],
      "metadata": {
        "id": "zCEUnUyvFSJd"
      }
    },
    {
      "cell_type": "code",
      "source": [
        "t = ['a', 'b', 'c']\n",
        "x = t.pop(1) # remove posição 1, que é b\n",
        "x # pop altera a lista e retorna o elemento que foi excluído."
      ],
      "metadata": {
        "colab": {
          "base_uri": "https://localhost:8080/",
          "height": 36
        },
        "id": "CRLHUe-7FEp4",
        "outputId": "b5dffd84-8e56-4277-9f74-4fa25b92411f"
      },
      "execution_count": null,
      "outputs": [
        {
          "output_type": "execute_result",
          "data": {
            "text/plain": [
              "'b'"
            ],
            "application/vnd.google.colaboratory.intrinsic+json": {
              "type": "string"
            }
          },
          "metadata": {},
          "execution_count": 36
        }
      ]
    },
    {
      "cell_type": "code",
      "source": [
        "t"
      ],
      "metadata": {
        "colab": {
          "base_uri": "https://localhost:8080/"
        },
        "id": "f93XpBVTGg9b",
        "outputId": "1b859986-3c6f-45bc-8957-fdc72180b5eb"
      },
      "execution_count": null,
      "outputs": [
        {
          "output_type": "execute_result",
          "data": {
            "text/plain": [
              "['a', 'c']"
            ]
          },
          "metadata": {},
          "execution_count": 37
        }
      ]
    },
    {
      "cell_type": "markdown",
      "source": [
        "Se você não incluir um índice, ele\n",
        "exclui e retorna o último elemento."
      ],
      "metadata": {
        "id": "ZRZCktrSGy-n"
      }
    },
    {
      "cell_type": "markdown",
      "source": [
        "Se não precisar do valor removido, você pode usar a instrução del:"
      ],
      "metadata": {
        "id": "3Wg769exG3KP"
      }
    },
    {
      "cell_type": "code",
      "source": [
        "t = ['a', 'b', 'c']\n",
        "del t[1]\n",
        "t"
      ],
      "metadata": {
        "colab": {
          "base_uri": "https://localhost:8080/"
        },
        "id": "AJ8U9mFvGrK1",
        "outputId": "b7fd9228-cf6c-49d2-bb89-d39dba97b638"
      },
      "execution_count": null,
      "outputs": [
        {
          "output_type": "execute_result",
          "data": {
            "text/plain": [
              "['a', 'c']"
            ]
          },
          "metadata": {},
          "execution_count": 38
        }
      ]
    },
    {
      "cell_type": "markdown",
      "source": [
        "Se souber o elemento que quer excluir (mas não o índice), você pode usar remove:"
      ],
      "metadata": {
        "id": "PRVX3FxwG-1X"
      }
    },
    {
      "cell_type": "code",
      "source": [
        "t = ['a', 'b', 'c']\n",
        "t.remove('b') # O valor devolvido por remove é None\n",
        "t"
      ],
      "metadata": {
        "colab": {
          "base_uri": "https://localhost:8080/"
        },
        "id": "_T2FpiSyG57v",
        "outputId": "ad81e58a-5905-4919-c00e-7f1c4797781b"
      },
      "execution_count": null,
      "outputs": [
        {
          "output_type": "execute_result",
          "data": {
            "text/plain": [
              "['a', 'c']"
            ]
          },
          "metadata": {},
          "execution_count": 39
        }
      ]
    },
    {
      "cell_type": "markdown",
      "source": [
        "Para remover mais de um elemento, você pode usar del com um índice de fatia:"
      ],
      "metadata": {
        "id": "UDZZatkAHE5O"
      }
    },
    {
      "cell_type": "code",
      "source": [
        "t = ['a', 'b', 'c', 'd', 'e', 'f']\n",
        "del t[1:5]\n",
        "t"
      ],
      "metadata": {
        "colab": {
          "base_uri": "https://localhost:8080/"
        },
        "id": "CkDrXyzcHBUB",
        "outputId": "0a9a6135-0ff8-4e54-c3f2-0ff1e386cae0"
      },
      "execution_count": null,
      "outputs": [
        {
          "output_type": "execute_result",
          "data": {
            "text/plain": [
              "['a', 'f']"
            ]
          },
          "metadata": {},
          "execution_count": 40
        }
      ]
    },
    {
      "cell_type": "markdown",
      "source": [
        "Como sempre, a fatia seleciona todos os elementos até, mas não incluindo, o segundo índice."
      ],
      "metadata": {
        "id": "V1dLluUlHMZL"
      }
    },
    {
      "cell_type": "markdown",
      "source": [
        "<h2> 10.9 - Listas e strings </h2>\n",
        "\n",
        "Uma string é uma sequência de caracteres e uma lista é uma sequência de valores, mas uma lista de caracteres não é a mesma coisa que uma string. Para converter uma string em uma lista de caracteres, você pode usar list:\n"
      ],
      "metadata": {
        "id": "wwPiBG-2H8Ki"
      }
    },
    {
      "cell_type": "code",
      "source": [
        "s = 'spam'\n",
        "t = list(s)\n",
        "t"
      ],
      "metadata": {
        "colab": {
          "base_uri": "https://localhost:8080/"
        },
        "id": "UU4ePcftHJe9",
        "outputId": "f455ba88-8b8f-4284-bf71-7177454163ef"
      },
      "execution_count": null,
      "outputs": [
        {
          "output_type": "execute_result",
          "data": {
            "text/plain": [
              "['s', 'p', 'a', 'm']"
            ]
          },
          "metadata": {},
          "execution_count": 41
        }
      ]
    },
    {
      "cell_type": "markdown",
      "source": [
        "Como list é o nome de uma função integrada, você deve evitar usá-lo como nome de\n",
        "variável. Também evito usar l porque parece demais com 1. É por isso que uso t"
      ],
      "metadata": {
        "id": "kZ_MufMQRhWm"
      }
    },
    {
      "cell_type": "markdown",
      "source": [
        "A função list quebra uma string em letras individuais. Se você quiser quebrar uma string em palavras, você pode usar o método split:\n"
      ],
      "metadata": {
        "id": "RuW8zSqkRlG3"
      }
    },
    {
      "cell_type": "code",
      "source": [
        "s = 'pining for the fjords'\n",
        "t = s.split()\n",
        "t"
      ],
      "metadata": {
        "colab": {
          "base_uri": "https://localhost:8080/"
        },
        "id": "VWJgVejgRc7Y",
        "outputId": "a982d8c1-4be1-4175-be01-01f29184e08d"
      },
      "execution_count": null,
      "outputs": [
        {
          "output_type": "execute_result",
          "data": {
            "text/plain": [
              "['pining', 'for', 'the', 'fjords']"
            ]
          },
          "metadata": {},
          "execution_count": 42
        }
      ]
    },
    {
      "cell_type": "markdown",
      "source": [
        "Um argumento opcional chamado delimiter especifica quais caracteres podem ser usados para demonstrar os limites das palavras. O exemplo seguinte usa um hífen como delimitador:\n"
      ],
      "metadata": {
        "id": "Hr_XWcP8RuZ2"
      }
    },
    {
      "cell_type": "code",
      "source": [
        "s = 'spam-spam-spam'\n",
        "delimiter = '-'\n",
        "t = s.split(delimiter)\n",
        "t"
      ],
      "metadata": {
        "colab": {
          "base_uri": "https://localhost:8080/"
        },
        "id": "8eoWefgeRpAu",
        "outputId": "b4af66bb-7bee-42a4-f741-83c9a777d532"
      },
      "execution_count": null,
      "outputs": [
        {
          "output_type": "execute_result",
          "data": {
            "text/plain": [
              "['spam', 'spam', 'spam']"
            ]
          },
          "metadata": {},
          "execution_count": 43
        }
      ]
    },
    {
      "cell_type": "markdown",
      "source": [
        "**join** é o contrário de split. Ele toma uma lista de strings e concatena os elementos. **join** é um método de string, então é preciso invocá-lo no delimitador e passar a lista como parâmetro:"
      ],
      "metadata": {
        "id": "QCpcLRocR6BL"
      }
    },
    {
      "cell_type": "code",
      "source": [
        "t = ['pining', 'for', 'the', 'fjords']\n",
        "delimiter = ' '\n",
        "s = delimiter.join(t)\n",
        "s"
      ],
      "metadata": {
        "colab": {
          "base_uri": "https://localhost:8080/",
          "height": 36
        },
        "id": "nzdx2ErIRz2M",
        "outputId": "878abe8e-b93b-4242-85f4-cf74e828342d"
      },
      "execution_count": null,
      "outputs": [
        {
          "output_type": "execute_result",
          "data": {
            "text/plain": [
              "'pining for the fjords'"
            ],
            "application/vnd.google.colaboratory.intrinsic+json": {
              "type": "string"
            }
          },
          "metadata": {},
          "execution_count": 44
        }
      ]
    },
    {
      "cell_type": "markdown",
      "source": [
        "Nesse caso, o delimitador é um caractere de espaço, então join coloca um espaço entre as palavras. Para concatenar strings sem espaços, você pode usar a string vazia '', como delimitador."
      ],
      "metadata": {
        "id": "DdOlDOH8SKBP"
      }
    },
    {
      "cell_type": "code",
      "source": [
        "sem_espacos = ''.join(t)\n",
        "sem_espacos"
      ],
      "metadata": {
        "colab": {
          "base_uri": "https://localhost:8080/",
          "height": 36
        },
        "id": "VGjOjzN_R_yF",
        "outputId": "b763e67b-6dd3-4a81-b46a-3fa12286693b"
      },
      "execution_count": null,
      "outputs": [
        {
          "output_type": "execute_result",
          "data": {
            "text/plain": [
              "'piningforthefjords'"
            ],
            "application/vnd.google.colaboratory.intrinsic+json": {
              "type": "string"
            }
          },
          "metadata": {},
          "execution_count": 46
        }
      ]
    },
    {
      "cell_type": "markdown",
      "source": [
        "<h2> 10.10 - Objetos e valores </h2>\n",
        "\n",
        "Se executarmos essas instruções de atribuição:"
      ],
      "metadata": {
        "id": "Irq2PYr1Sj_Q"
      }
    },
    {
      "cell_type": "code",
      "source": [
        "a = 'banana'\n",
        "b = 'banana'"
      ],
      "metadata": {
        "id": "KpohN2tkSgnz"
      },
      "execution_count": null,
      "outputs": []
    },
    {
      "cell_type": "markdown",
      "source": [
        "Sabemos que a e b se referem a uma string, mas não sabemos se elas se referem à mesma string.\n",
        "\n",
        "Em um caso, a e b se referem a dois objetos diferentes que têm o mesmo valor. No\n",
        "segundo caso, elas se referem ao mesmo objeto."
      ],
      "metadata": {
        "id": "yfbFbWRsSwDb"
      }
    },
    {
      "cell_type": "markdown",
      "source": [
        "Para verificar se duas variáveis se referem ao mesmo objeto, você pode usar o operador **is**:"
      ],
      "metadata": {
        "id": "yFZTE-sAS2vj"
      }
    },
    {
      "cell_type": "code",
      "source": [
        "a is b"
      ],
      "metadata": {
        "colab": {
          "base_uri": "https://localhost:8080/"
        },
        "id": "WixNmfi0StYN",
        "outputId": "d2602cfa-b655-4d57-cfc5-220ae87107a8"
      },
      "execution_count": null,
      "outputs": [
        {
          "output_type": "execute_result",
          "data": {
            "text/plain": [
              "True"
            ]
          },
          "metadata": {},
          "execution_count": 48
        }
      ]
    },
    {
      "cell_type": "markdown",
      "source": [
        "Nesse exemplo, o Python criou apenas um objeto de string e tanto a quanto b se referem a ele. Mas quando você cria duas listas, você tem dois objetos:\n"
      ],
      "metadata": {
        "id": "del-MmJfS9gS"
      }
    },
    {
      "cell_type": "code",
      "source": [
        "a = [1, 2, 3]\n",
        "b = [1, 2, 3]\n",
        "a is b"
      ],
      "metadata": {
        "colab": {
          "base_uri": "https://localhost:8080/"
        },
        "id": "lHRAjP7OS5te",
        "outputId": "386a98e3-68b4-4b45-a047-8fb1bf720c37"
      },
      "execution_count": null,
      "outputs": [
        {
          "output_type": "execute_result",
          "data": {
            "text/plain": [
              "False"
            ]
          },
          "metadata": {},
          "execution_count": 49
        }
      ]
    },
    {
      "cell_type": "markdown",
      "source": [
        "**Objeto vs. Valor:**\n",
        "\n",
        "- Um **objeto** é algo específico na memória do computador.\n",
        "- O **valor** é o que esse objeto contém.\n",
        "\n",
        "**Mesmos objetos (idênticos):**\n",
        "\n",
        "Se duas variáveis apontam para o mesmo objeto na memória, elas são **idênticas**. Isso significa que se você alterar uma, a outra também mudará, porque são literalmente o mesmo objeto.\n",
        "\n",
        "Exemplo:\n",
        "```\n",
        "a = 'banana'\n",
        "b = a  # Agora, 'a' e 'b' apontam para o mesmo objeto\n",
        "print(a is b)  # Saída: True\n",
        "```\n",
        "\n",
        "**Mesmos valores (equivalentes):**\n",
        "Se duas variáveis contêm objetos diferentes, mas com o mesmo valor, elas são **equivalentes**.\n",
        "\n",
        "Exemplo:\n",
        "\n",
        "```\n",
        "a = [1, 2, 3]\n",
        "b = [1, 2, 3]  # 'a' e 'b' são listas diferentes, mas com os mesmos elementos\n",
        "print(a == b)  # Saída: True (mesmo valor)\n",
        "print(a is b)  # Saída: False (objetos diferentes)\n",
        "```\n",
        "\n",
        "**Resumindo**: se duas variáveis são **idênticas** (**is**), elas apontam para o mesmo objeto na memória. Se são **equivalentes** **(==),** elas têm o mesmo valor, mas podem ser objetos diferentes."
      ],
      "metadata": {
        "id": "2Pfw6kItTqwN"
      }
    },
    {
      "cell_type": "markdown",
      "source": [
        "Para **listas**, **dicionários** e **sets**: eles sempre serão objetos diferentes, mesmo que tenham o mesmo valor.\n",
        "Para **tuplas** e **strings**: o Python pode reutilizar o mesmo objeto para otimização, mas isso não é garantido para tuplas, enquanto é mais comum para strings."
      ],
      "metadata": {
        "id": "mVzp_l6MUyBt"
      }
    },
    {
      "cell_type": "markdown",
      "source": [
        "<h2> 10.11 - Alias </h2>\n",
        "\n",
        "Se a se refere a um objeto e você atribui b = a, então ambas as variáveis se referem ao mesmo objeto."
      ],
      "metadata": {
        "id": "4l7WxfjwU2G8"
      }
    },
    {
      "cell_type": "code",
      "source": [
        "a = [1, 2, 3]\n",
        "b = a\n",
        "b is a"
      ],
      "metadata": {
        "colab": {
          "base_uri": "https://localhost:8080/"
        },
        "id": "xMBf6tEkTF8g",
        "outputId": "3dcbffc0-0e4c-444a-a990-742f618bfff4"
      },
      "execution_count": null,
      "outputs": [
        {
          "output_type": "execute_result",
          "data": {
            "text/plain": [
              "True"
            ]
          },
          "metadata": {},
          "execution_count": 50
        }
      ]
    },
    {
      "cell_type": "markdown",
      "source": [
        "A associação de uma variável com um objeto é chamada de referência. Neste exemplo, há duas referências ao mesmo objeto.\n"
      ],
      "metadata": {
        "id": "jWRVB519YH3g"
      }
    },
    {
      "cell_type": "markdown",
      "source": [
        "Um objeto com mais de uma referência tem mais de um nome, então dizemos que o objeto tem um alias.\n"
      ],
      "metadata": {
        "id": "V3g8rVDfYTlv"
      }
    },
    {
      "cell_type": "markdown",
      "source": [
        "Se o objeto com alias é mutável, alterações feitas em um alias afetam o outro também."
      ],
      "metadata": {
        "id": "b9PGvjXuYWy3"
      }
    },
    {
      "cell_type": "code",
      "source": [
        "b[0] = 42\n",
        "a"
      ],
      "metadata": {
        "colab": {
          "base_uri": "https://localhost:8080/"
        },
        "id": "0wFEZLgfYEPV",
        "outputId": "af576073-2543-4a97-ec99-82a5e82afe72"
      },
      "execution_count": null,
      "outputs": [
        {
          "output_type": "execute_result",
          "data": {
            "text/plain": [
              "[42, 2, 3]"
            ]
          },
          "metadata": {},
          "execution_count": 51
        }
      ]
    },
    {
      "cell_type": "markdown",
      "source": [
        "Apesar de esse comportamento poder ser útil, ele é passível de erros. Em geral, é mais seguro evitar usar alias ao trabalhar com objetos mutáveis.\n"
      ],
      "metadata": {
        "id": "fp8F6uSYYn2Q"
      }
    },
    {
      "cell_type": "markdown",
      "source": [
        "Para objetos imutáveis como strings, usar alias não é um problema tão grande. Neste exemplo:"
      ],
      "metadata": {
        "id": "EN71P2Q2YrfY"
      }
    },
    {
      "cell_type": "code",
      "source": [
        "a = 'banana'\n",
        "b = 'banana'"
      ],
      "metadata": {
        "id": "tJQ6Fs5SYh_e"
      },
      "execution_count": null,
      "outputs": []
    },
    {
      "cell_type": "markdown",
      "source": [
        "Quase nunca faz diferença se a e b se referem à mesma string ou não."
      ],
      "metadata": {
        "id": "TJzCa97eYvmo"
      }
    },
    {
      "cell_type": "markdown",
      "source": [
        "<h2> 10.12 - Argumentos de listas </h2>\n",
        "\n",
        "Ao passar uma lista a uma função, a função recebe uma referência à lista. Se a função alterar a lista, quem faz a chamada vê a mudança. Por exemplo, delete_head remove o primeiro elemento de uma lista:\n"
      ],
      "metadata": {
        "id": "DPjlIqfFY1BF"
      }
    },
    {
      "cell_type": "code",
      "source": [
        "def delete_head(t):\n",
        "  del t[0]"
      ],
      "metadata": {
        "id": "Zd_mrGsFYvJr"
      },
      "execution_count": null,
      "outputs": []
    },
    {
      "cell_type": "code",
      "source": [
        "letters = ['a', 'b', 'c']\n",
        "delete_head(letters)\n",
        "letters"
      ],
      "metadata": {
        "colab": {
          "base_uri": "https://localhost:8080/"
        },
        "id": "oBlk9Z-zbZET",
        "outputId": "cbfcf2b7-1e32-468b-bc15-879c49fc4d75"
      },
      "execution_count": null,
      "outputs": [
        {
          "output_type": "execute_result",
          "data": {
            "text/plain": [
              "['b', 'c']"
            ]
          },
          "metadata": {},
          "execution_count": 54
        }
      ]
    },
    {
      "cell_type": "markdown",
      "source": [
        "O parâmetro t e a variável letters são alias para o mesmo objeto."
      ],
      "metadata": {
        "id": "fAxv7Z5Kbj0g"
      }
    },
    {
      "cell_type": "markdown",
      "source": [
        "É importante distinguir entre operações que alteram listas e operações que criam novas listas. Por exemplo, o método append altera a lista, mas o operador + cria uma nova lista:"
      ],
      "metadata": {
        "id": "q01bf_jDbwVA"
      }
    },
    {
      "cell_type": "code",
      "source": [
        "t1 = [1, 2]\n",
        "t2 = t1.append(3)\n",
        "t1"
      ],
      "metadata": {
        "colab": {
          "base_uri": "https://localhost:8080/"
        },
        "id": "9a4zXcHTbb5m",
        "outputId": "864dc97f-5d9c-4e20-ab6a-14cd35f3c778"
      },
      "execution_count": null,
      "outputs": [
        {
          "output_type": "execute_result",
          "data": {
            "text/plain": [
              "[1, 2, 3]"
            ]
          },
          "metadata": {},
          "execution_count": 55
        }
      ]
    },
    {
      "cell_type": "code",
      "source": [
        "t2"
      ],
      "metadata": {
        "id": "WcAvgZAQb1Dc"
      },
      "execution_count": null,
      "outputs": []
    },
    {
      "cell_type": "markdown",
      "source": [
        "Note que append altera a lista e retorna None (na realidade, o console do Python omite o None da saída, mas você pode conferir usando t2 is None).\n"
      ],
      "metadata": {
        "id": "kM8SvyGLb79i"
      }
    },
    {
      "cell_type": "code",
      "source": [
        "t3 = t1 + [4]\n",
        "t1"
      ],
      "metadata": {
        "colab": {
          "base_uri": "https://localhost:8080/"
        },
        "id": "J5WlSgOLb2_o",
        "outputId": "1a225d3f-6024-4cf6-e159-be86dc713aa9"
      },
      "execution_count": null,
      "outputs": [
        {
          "output_type": "execute_result",
          "data": {
            "text/plain": [
              "[1, 2, 3]"
            ]
          },
          "metadata": {},
          "execution_count": 57
        }
      ]
    },
    {
      "cell_type": "code",
      "source": [
        "t3"
      ],
      "metadata": {
        "colab": {
          "base_uri": "https://localhost:8080/"
        },
        "id": "CJ3YSLUfb_M6",
        "outputId": "65df86eb-3207-44be-8ce4-da9e81fbe3e6"
      },
      "execution_count": null,
      "outputs": [
        {
          "output_type": "execute_result",
          "data": {
            "text/plain": [
              "[1, 2, 3, 4]"
            ]
          },
          "metadata": {},
          "execution_count": 58
        }
      ]
    },
    {
      "cell_type": "markdown",
      "source": [
        "O operador + cria uma nova lista e deixa a lista original inalterada."
      ],
      "metadata": {
        "id": "tUaDEwzPcGxG"
      }
    },
    {
      "cell_type": "markdown",
      "source": [
        "Essa diferença é importante quando você escreve funções que devem alterar listas. Por exemplo, esta função não remove a cabeça de uma lista:"
      ],
      "metadata": {
        "id": "uzr3mMCpfDij"
      }
    },
    {
      "cell_type": "code",
      "source": [
        "def bad_delete_head(t):\n",
        "  t = t[1:]  # ERRADO"
      ],
      "metadata": {
        "id": "ZkqAF-cgcCdx"
      },
      "execution_count": null,
      "outputs": []
    },
    {
      "cell_type": "code",
      "source": [
        "t4 = [1, 2, 3]\n",
        "bad_delete_head(t4)\n",
        "t4"
      ],
      "metadata": {
        "colab": {
          "base_uri": "https://localhost:8080/"
        },
        "id": "QXXm8LAXfMrJ",
        "outputId": "45a25823-6a13-4d68-f6a7-8ef60b52a7b4"
      },
      "execution_count": null,
      "outputs": [
        {
          "output_type": "execute_result",
          "data": {
            "text/plain": [
              "[1, 2, 3]"
            ]
          },
          "metadata": {},
          "execution_count": 61
        }
      ]
    },
    {
      "cell_type": "markdown",
      "source": [
        "No início de bad_delete_head, t e t4 se referem à mesma lista. No final, t se refere a uma nova lista, mas t4 ainda se refere à lista original, inalterada."
      ],
      "metadata": {
        "id": "q5scNFurfeNg"
      }
    },
    {
      "cell_type": "markdown",
      "source": [
        "Uma alternativa é escrever uma função que crie e retorne uma nova lista. Por exemplo, tail retorna tudo, exceto o primeiro elemento de uma lista:"
      ],
      "metadata": {
        "id": "-TvV5cHvfiVU"
      }
    },
    {
      "cell_type": "code",
      "source": [
        "def tail(t):\n",
        "  return t[1:]"
      ],
      "metadata": {
        "id": "SnhPW3kqfTed"
      },
      "execution_count": null,
      "outputs": []
    },
    {
      "cell_type": "code",
      "source": [
        "tail([1,2,3,4])"
      ],
      "metadata": {
        "colab": {
          "base_uri": "https://localhost:8080/"
        },
        "id": "PaKmTvQffl3n",
        "outputId": "49ec1c41-5bcc-410a-bd19-f4cb2afa8db1"
      },
      "execution_count": null,
      "outputs": [
        {
          "output_type": "execute_result",
          "data": {
            "text/plain": [
              "[2, 3, 4]"
            ]
          },
          "metadata": {},
          "execution_count": 63
        }
      ]
    },
    {
      "cell_type": "markdown",
      "source": [
        "Esta função deixa a lista original inalterada. Ela é usada assim:"
      ],
      "metadata": {
        "id": "ZhwqmYaefrWl"
      }
    },
    {
      "cell_type": "code",
      "source": [
        "letters = ['a', 'b', 'c']\n",
        "rest = tail(letters)\n",
        "rest"
      ],
      "metadata": {
        "colab": {
          "base_uri": "https://localhost:8080/"
        },
        "id": "gbB61IrZfoD3",
        "outputId": "8b0d71e3-8db4-4b96-eeb1-d24f2c227d13"
      },
      "execution_count": null,
      "outputs": [
        {
          "output_type": "execute_result",
          "data": {
            "text/plain": [
              "['b', 'c']"
            ]
          },
          "metadata": {},
          "execution_count": 64
        }
      ]
    },
    {
      "cell_type": "markdown",
      "source": [
        "t = t[1:] dentro de uma função cria uma nova lista e faz a variável t apontar para essa nova lista, mas isso não afeta a lista original que você passou para a função.\n",
        "\n",
        "Se você quiser modificar a lista original, deve operar diretamente sobre ela sem criar uma nova lista.\n",
        "\n",
        "Se você quer uma nova lista sem modificar a original, a função deve retornar essa nova lista, como tail faz."
      ],
      "metadata": {
        "id": "kIWZIZcmh9I5"
      }
    },
    {
      "cell_type": "markdown",
      "source": [
        "<h2> 10.13 - Depuração </h2>"
      ],
      "metadata": {
        "id": "gDFgDCNeiAFU"
      }
    },
    {
      "cell_type": "markdown",
      "source": [
        "1. A maior parte dos métodos de listas alteram o argumento e retornam None. Isto é o\n",
        "oposto dos métodos de strings, que retornam uma nova string e deixam a original\n",
        "intocada.\n",
        "Se você está acostumado a escrever código de strings desta forma:\n",
        "`word = word.strip()`\n",
        "\n",
        "É tentador escrever código de listas como este:\n",
        "`t = t.sort() # ERRADO!`\n",
        "\n",
        "Como sort retorna None, a próxima operação que você executar com t provavelmente\n",
        "vai falhar. Antes de usar métodos e operadores de listas, você deve ler a documentação com cuidado e testá-los no modo interativo.\n",
        "\n",
        "2. Escolha o termo e fique com ele.\n",
        "\n",
        "Parte do problema com listas é que há muitas formas de fazer coisas com elas. Por exemplo, para remover um elemento de uma lista você pode usar pop, remove, del ou até uma atribuição de fatia.\n",
        "Para adicionar um elemento você pode usar o método append ou o operador +.\n",
        "Assumindo que t é uma lista e x é um elemento da lista, isto está correto:\n",
        "\n",
        "\n",
        "```\n",
        "t.append(x)\n",
        "t = t + [x]\n",
        "t += [x]\n",
        "E isto está errado:\n",
        "t.append([x]) # ERRADO!\n",
        "t = t.append(x) # ERRADO!\n",
        "t + [x] # ERRADO!\n",
        "t = t + x # ERRADO!\n",
        "```"
      ],
      "metadata": {
        "id": "ZwTJdxWDntNI"
      }
    },
    {
      "cell_type": "code",
      "source": [
        "x"
      ],
      "metadata": {
        "colab": {
          "base_uri": "https://localhost:8080/",
          "height": 36
        },
        "id": "XVvxGQXXo6K7",
        "outputId": "446dd8b6-660d-4771-b36e-422f442e658d"
      },
      "execution_count": null,
      "outputs": [
        {
          "output_type": "execute_result",
          "data": {
            "text/plain": [
              "'b'"
            ],
            "application/vnd.google.colaboratory.intrinsic+json": {
              "type": "string"
            }
          },
          "metadata": {},
          "execution_count": 70
        }
      ]
    },
    {
      "cell_type": "code",
      "source": [
        "t.append(x) # adiciona o elemento x (b) ao final da lista t.\n",
        "t"
      ],
      "metadata": {
        "colab": {
          "base_uri": "https://localhost:8080/"
        },
        "id": "mqOJmka2fxXK",
        "outputId": "462a2057-da4e-4e1a-ff3c-5de9575f88ee"
      },
      "execution_count": null,
      "outputs": [
        {
          "output_type": "execute_result",
          "data": {
            "text/plain": [
              "['pining', 'for', 'the', 'fjords', 'b', 'b']"
            ]
          },
          "metadata": {},
          "execution_count": 66
        }
      ]
    },
    {
      "cell_type": "code",
      "source": [
        "t = t + [x] # cria uma nova lista somando t e [x], e faz t apontar para essa nova lista.\n",
        "t"
      ],
      "metadata": {
        "colab": {
          "base_uri": "https://localhost:8080/"
        },
        "id": "zdS_CgPLowRL",
        "outputId": "949bde5e-ca57-4a65-f603-f65d5e9df605"
      },
      "execution_count": null,
      "outputs": [
        {
          "output_type": "execute_result",
          "data": {
            "text/plain": [
              "['pining', 'for', 'the', 'fjords', 'b', 'b', 'b']"
            ]
          },
          "metadata": {},
          "execution_count": 67
        }
      ]
    },
    {
      "cell_type": "code",
      "source": [
        "t += [x] # adiciona x ao final de t, similar ao t.append(x), mas usando o operador +=.\n",
        "t"
      ],
      "metadata": {
        "colab": {
          "base_uri": "https://localhost:8080/"
        },
        "id": "P9ILs7tio0Tm",
        "outputId": "66a78371-aaf2-4d1f-ed9c-b94ac3be24aa"
      },
      "execution_count": null,
      "outputs": [
        {
          "output_type": "execute_result",
          "data": {
            "text/plain": [
              "['pining', 'for', 'the', 'fjords', 'b', 'b', 'b', 'b', 'b']"
            ]
          },
          "metadata": {},
          "execution_count": 69
        }
      ]
    },
    {
      "cell_type": "code",
      "source": [
        "t.append([x]) # ERRADO! adiciona uma lista contendo x como um único elemento ao final de t, em vez de adicionar apenas o valor de x.\n",
        "t"
      ],
      "metadata": {
        "colab": {
          "base_uri": "https://localhost:8080/"
        },
        "id": "ArCNdozjo2Mh",
        "outputId": "0004ad26-2825-448d-ee24-516cae077898"
      },
      "execution_count": null,
      "outputs": [
        {
          "output_type": "execute_result",
          "data": {
            "text/plain": [
              "['pining', 'for', 'the', 'fjords', 'b', 'b', 'b', 'b', 'b', ['b'], ['b']]"
            ]
          },
          "metadata": {},
          "execution_count": 72
        }
      ]
    },
    {
      "cell_type": "code",
      "source": [
        "t = t.append(x) # ERRADO! errado porque t.append(x) modifica t em lugar e retorna None. Atribuir o resultado de t.append(x) a t faz t virar None, perdendo a lista original.\n",
        "t"
      ],
      "metadata": {
        "colab": {
          "base_uri": "https://localhost:8080/",
          "height": 165
        },
        "id": "CsWykZKTo_J9",
        "outputId": "84078122-dfea-4770-de3a-245677b04326"
      },
      "execution_count": null,
      "outputs": [
        {
          "output_type": "error",
          "ename": "AttributeError",
          "evalue": "'NoneType' object has no attribute 'append'",
          "traceback": [
            "\u001b[0;31m---------------------------------------------------------------------------\u001b[0m",
            "\u001b[0;31mAttributeError\u001b[0m                            Traceback (most recent call last)",
            "\u001b[0;32m<ipython-input-74-bc755d2e7f07>\u001b[0m in \u001b[0;36m<cell line: 1>\u001b[0;34m()\u001b[0m\n\u001b[0;32m----> 1\u001b[0;31m \u001b[0mt\u001b[0m \u001b[0;34m=\u001b[0m \u001b[0mt\u001b[0m\u001b[0;34m.\u001b[0m\u001b[0mappend\u001b[0m\u001b[0;34m(\u001b[0m\u001b[0mx\u001b[0m\u001b[0;34m)\u001b[0m \u001b[0;31m# ERRADO!\u001b[0m\u001b[0;34m\u001b[0m\u001b[0;34m\u001b[0m\u001b[0m\n\u001b[0m\u001b[1;32m      2\u001b[0m \u001b[0mt\u001b[0m\u001b[0;34m\u001b[0m\u001b[0;34m\u001b[0m\u001b[0m\n",
            "\u001b[0;31mAttributeError\u001b[0m: 'NoneType' object has no attribute 'append'"
          ]
        }
      ]
    },
    {
      "cell_type": "code",
      "source": [
        "t + [x] # ERRADO! Errado se você esperava que a lista t fosse modificada diretamente. Esse comando cria uma nova lista, mas não a armazena em lugar nenhum."
      ],
      "metadata": {
        "colab": {
          "base_uri": "https://localhost:8080/",
          "height": 147
        },
        "id": "ZKFqUGUYpD-N",
        "outputId": "8c87e378-18a5-4d50-a70c-9e3bf4f180a0"
      },
      "execution_count": null,
      "outputs": [
        {
          "output_type": "error",
          "ename": "TypeError",
          "evalue": "unsupported operand type(s) for +: 'NoneType' and 'list'",
          "traceback": [
            "\u001b[0;31m---------------------------------------------------------------------------\u001b[0m",
            "\u001b[0;31mTypeError\u001b[0m                                 Traceback (most recent call last)",
            "\u001b[0;32m<ipython-input-75-45d09997b25a>\u001b[0m in \u001b[0;36m<cell line: 1>\u001b[0;34m()\u001b[0m\n\u001b[0;32m----> 1\u001b[0;31m \u001b[0mt\u001b[0m \u001b[0;34m+\u001b[0m \u001b[0;34m[\u001b[0m\u001b[0mx\u001b[0m\u001b[0;34m]\u001b[0m \u001b[0;31m# ERRADO!\u001b[0m\u001b[0;34m\u001b[0m\u001b[0;34m\u001b[0m\u001b[0m\n\u001b[0m",
            "\u001b[0;31mTypeError\u001b[0m: unsupported operand type(s) for +: 'NoneType' and 'list'"
          ]
        }
      ]
    },
    {
      "cell_type": "code",
      "source": [
        "t = t + x # ERRADO! Errado porque x precisa ser uma lista (ou outro tipo compatível com soma de listas). Se x não for uma lista, o Python gerará um erro."
      ],
      "metadata": {
        "colab": {
          "base_uri": "https://localhost:8080/",
          "height": 147
        },
        "id": "88b_miMDpId4",
        "outputId": "684d8fca-9954-4696-9ed0-858585e9542b"
      },
      "execution_count": null,
      "outputs": [
        {
          "output_type": "error",
          "ename": "TypeError",
          "evalue": "unsupported operand type(s) for +: 'NoneType' and 'str'",
          "traceback": [
            "\u001b[0;31m---------------------------------------------------------------------------\u001b[0m",
            "\u001b[0;31mTypeError\u001b[0m                                 Traceback (most recent call last)",
            "\u001b[0;32m<ipython-input-76-84836d78e339>\u001b[0m in \u001b[0;36m<cell line: 1>\u001b[0;34m()\u001b[0m\n\u001b[0;32m----> 1\u001b[0;31m \u001b[0mt\u001b[0m \u001b[0;34m=\u001b[0m \u001b[0mt\u001b[0m \u001b[0;34m+\u001b[0m \u001b[0mx\u001b[0m \u001b[0;31m# ERRADO!\u001b[0m\u001b[0;34m\u001b[0m\u001b[0;34m\u001b[0m\u001b[0m\n\u001b[0m",
            "\u001b[0;31mTypeError\u001b[0m: unsupported operand type(s) for +: 'NoneType' and 'str'"
          ]
        }
      ]
    },
    {
      "cell_type": "markdown",
      "source": [
        "**Resumindo:**\n",
        "Use append(x) ou += [x] para adicionar elementos a uma lista.\n",
        "Evite usar t = t.append(x) ou adicionar listas erradas, como [x], a menos que seja exatamente o que você quer.\n",
        "Certifique-se de que, ao usar +, você esteja somando listas compatíveis, ou a operação falhará."
      ],
      "metadata": {
        "id": "OqsiS9VbpWi2"
      }
    },
    {
      "cell_type": "markdown",
      "source": [
        "3. Faça cópias para evitar o uso de alias.\n",
        "Se quiser usar um método como sort, que altera o argumento, mas precisa manter a\n",
        "lista original, você pode fazer uma cópia:"
      ],
      "metadata": {
        "id": "7iGU5K92z1FT"
      }
    },
    {
      "cell_type": "code",
      "source": [
        "t = [3, 1, 2]\n",
        "t2 = t[:]"
      ],
      "metadata": {
        "id": "K7wMqBj0pJZ4"
      },
      "execution_count": null,
      "outputs": []
    },
    {
      "cell_type": "code",
      "source": [
        "t2.sort()"
      ],
      "metadata": {
        "id": "ecKF6OVbz8G5"
      },
      "execution_count": null,
      "outputs": []
    },
    {
      "cell_type": "code",
      "source": [
        "t2"
      ],
      "metadata": {
        "colab": {
          "base_uri": "https://localhost:8080/"
        },
        "id": "LjkMkU5uz9Ou",
        "outputId": "0cbb519a-fe16-4f33-f8b0-c8029a7f6810"
      },
      "execution_count": null,
      "outputs": [
        {
          "output_type": "execute_result",
          "data": {
            "text/plain": [
              "[1, 2, 3]"
            ]
          },
          "metadata": {},
          "execution_count": 79
        }
      ]
    },
    {
      "cell_type": "code",
      "source": [
        "t"
      ],
      "metadata": {
        "colab": {
          "base_uri": "https://localhost:8080/"
        },
        "id": "1uZDCjkLz-1N",
        "outputId": "827c6291-bd17-41ec-96e0-80114950e34b"
      },
      "execution_count": null,
      "outputs": [
        {
          "output_type": "execute_result",
          "data": {
            "text/plain": [
              "[3, 1, 2]"
            ]
          },
          "metadata": {},
          "execution_count": 80
        }
      ]
    },
    {
      "cell_type": "markdown",
      "source": [
        "Neste exemplo você poderia usar também a função integrada sorted, que retorna uma nova lista classificada e deixa a original intocada."
      ],
      "metadata": {
        "id": "BZlq9UKd0FAr"
      }
    },
    {
      "cell_type": "code",
      "source": [
        "t2 = sorted(t)"
      ],
      "metadata": {
        "id": "V8ILVEyB0ANk"
      },
      "execution_count": null,
      "outputs": []
    },
    {
      "cell_type": "code",
      "source": [
        "t2"
      ],
      "metadata": {
        "colab": {
          "base_uri": "https://localhost:8080/"
        },
        "id": "bkitQsfI0Ims",
        "outputId": "648e5488-6c6a-4b60-c09c-2771fff4efdf"
      },
      "execution_count": null,
      "outputs": [
        {
          "output_type": "execute_result",
          "data": {
            "text/plain": [
              "[1, 2, 3]"
            ]
          },
          "metadata": {},
          "execution_count": 82
        }
      ]
    },
    {
      "cell_type": "code",
      "source": [
        "t"
      ],
      "metadata": {
        "colab": {
          "base_uri": "https://localhost:8080/"
        },
        "id": "udO0IENm0JEz",
        "outputId": "bb36b591-ed7c-4a3c-ad6a-e1f7526a71a6"
      },
      "execution_count": null,
      "outputs": [
        {
          "output_type": "execute_result",
          "data": {
            "text/plain": [
              "[3, 1, 2]"
            ]
          },
          "metadata": {},
          "execution_count": 83
        }
      ]
    },
    {
      "cell_type": "markdown",
      "source": [
        "<h2> 10.14 - Glossário </h2>"
      ],
      "metadata": {
        "id": "_Uwbnj230N32"
      }
    },
    {
      "cell_type": "markdown",
      "source": [
        "- lista: Uma sequência de valores.\n",
        "\n",
        "- elemento: Um dos valores em uma lista (ou outra sequência), também chamado de item.\n",
        "\n",
        "- lista aninhada: Uma lista que é um elemento de outra lista.\n",
        "\n",
        "- acumuladora: Variável usada em um loop para adicionar ou acumular um resultado.\n",
        "\n",
        "- atribuição aumentada: Instrução que atualiza o valor de uma variável usando um operador como +=.\n",
        "\n",
        "- redução: Padrão de processamento que atravessa uma sequência e acumula os elementos em um único resultado.\n",
        "\n",
        "- mapeamento: Padrão de processamento que atravessa uma sequência e executa uma operação em cada elemento.\n",
        "\n",
        "- filtragem: Padrão de processamento que atravessa uma lista e seleciona os elementos que satisfazem algum critério.\n",
        "\n",
        "- objeto: Algo a que uma variável pode se referir. Um objeto tem um tipo e um valor.\n",
        "\n",
        "- equivalente: Ter o mesmo valor.\n",
        "\n",
        "- idêntico: Ser o mesmo objeto (o que implica equivalência).\n",
        "\n",
        "- referência: Associação entre uma variável e seu valor.\n",
        "\n",
        "- alias: Uma circunstância onde duas ou mais variáveis se referem ao mesmo objeto.\n",
        "\n",
        "- delimitador: Um caractere ou uma string usada para indicar onde uma string deve ser dividida."
      ],
      "metadata": {
        "id": "E742gTXe0Saa"
      }
    },
    {
      "cell_type": "markdown",
      "source": [
        "<h2> 10.15 - Exercícios <h2>"
      ],
      "metadata": {
        "id": "JH5jtQhE1aX4"
      }
    },
    {
      "cell_type": "markdown",
      "source": [
        "<h3> Exercício 10.1 </h3>\n",
        "\n",
        "Escreva uma função chamada nested_sum que receba uma lista de listas de números\n",
        "inteiros e adicione os elementos de todas as listas aninhadas. Por exemplo:\n",
        "\n",
        "```\n",
        ">>> t = [[1, 2], [3], [4, 5, 6]]\n",
        ">>> nested_sum(t)\n",
        "21\n",
        "```"
      ],
      "metadata": {
        "id": "YaC2XPSm1cco"
      }
    },
    {
      "cell_type": "code",
      "source": [
        "def nested_sum(lista):\n",
        "  soma_total = 0\n",
        "\n",
        "  for x in lista:\n",
        "    if isinstance(x, list):\n",
        "      for item_sublista in x:\n",
        "        soma_total += item_sublista\n",
        "    else:\n",
        "      soma_total += x\n",
        "\n",
        "  return soma_total"
      ],
      "metadata": {
        "id": "b6LS5Vx00J24"
      },
      "execution_count": null,
      "outputs": []
    },
    {
      "cell_type": "code",
      "source": [
        "t = [[1, 2], [3], [4, 5, 6]]\n",
        "nested_sum(t)"
      ],
      "metadata": {
        "colab": {
          "base_uri": "https://localhost:8080/"
        },
        "id": "yH7Fac0liCEd",
        "outputId": "1d6b2f6c-899c-428b-c604-05171aea1a36"
      },
      "execution_count": null,
      "outputs": [
        {
          "output_type": "execute_result",
          "data": {
            "text/plain": [
              "21"
            ]
          },
          "metadata": {},
          "execution_count": 55
        }
      ]
    },
    {
      "cell_type": "markdown",
      "source": [
        "<h2> Exercício 10.2 </h2>\n",
        "\n",
        "Escreva uma função chamada cumsum que receba uma lista de números e retorne a soma cumulativa; isto é, uma nova lista onde o i-ésimo elemento é a soma dos primeiros i+1 elementos da lista original. Por exemplo:\n",
        "\n",
        "```\n",
        "t = [1, 2, 3]\n",
        "cumsum(t)\n",
        "[1, 3, 6]\n",
        "```"
      ],
      "metadata": {
        "id": "TyzGVjD2m5dh"
      }
    },
    {
      "cell_type": "code",
      "source": [
        "def cumsum(lista):\n",
        "  soma_cumulativa = 0\n",
        "  nova_lista = []\n",
        "\n",
        "  for i in range(len(lista)):\n",
        "      soma_cumulativa += lista[i]\n",
        "      nova_lista.append(soma_cumulativa)\n",
        "\n",
        "  return nova_lista"
      ],
      "metadata": {
        "id": "7xg2RN6am9cZ"
      },
      "execution_count": null,
      "outputs": []
    },
    {
      "cell_type": "code",
      "source": [
        "t = [1, 2, 3]\n",
        "cumsum(t)"
      ],
      "metadata": {
        "colab": {
          "base_uri": "https://localhost:8080/"
        },
        "id": "OCemAoPVBxOJ",
        "outputId": "921438dd-3f25-4723-89e9-e6874b587c6e"
      },
      "execution_count": null,
      "outputs": [
        {
          "output_type": "execute_result",
          "data": {
            "text/plain": [
              "[1, 3, 6]"
            ]
          },
          "metadata": {},
          "execution_count": 29
        }
      ]
    },
    {
      "cell_type": "markdown",
      "source": [
        "<h2> Exercício 10.3 </h2>\n",
        "\n",
        "Escreva uma função chamada middle que receba uma lista e retorne uma nova lista com todos os elementos originais, exceto os primeiros e os últimos elementos. Por exemplo:\n",
        "\n",
        "```\n",
        ">>> t = [1, 2, 3, 4]\n",
        ">>> middle(t)\n",
        "[2, 3]\n",
        "```"
      ],
      "metadata": {
        "id": "n2umqM-iHmP9"
      }
    },
    {
      "cell_type": "code",
      "source": [
        "def middle(lista):\n",
        "  nova_lista = []\n",
        "\n",
        "  for i in range(len(lista)):\n",
        "    if i == 0 or i == len(lista)-1:\n",
        "      continue\n",
        "    else:\n",
        "      nova_lista.append(lista[i])\n",
        "\n",
        "  return nova_lista"
      ],
      "metadata": {
        "id": "Iad-hJm9D4FE"
      },
      "execution_count": null,
      "outputs": []
    },
    {
      "cell_type": "code",
      "source": [
        "t = [1, 2, 3, 4]\n",
        "middle(t)"
      ],
      "metadata": {
        "colab": {
          "base_uri": "https://localhost:8080/"
        },
        "id": "S1FMhGTtIhJt",
        "outputId": "b77762dc-dbdb-4336-fb5e-f0dd7d8ad683"
      },
      "execution_count": null,
      "outputs": [
        {
          "output_type": "execute_result",
          "data": {
            "text/plain": [
              "[2, 3]"
            ]
          },
          "metadata": {},
          "execution_count": 31
        }
      ]
    },
    {
      "cell_type": "markdown",
      "source": [
        "<h2> Exercício 10.4 </h2>\n",
        "\n",
        "Escreva uma função chamada chop que tome uma lista alterando-a para remover o\n",
        "primeiro e o último elementos, e retorne None. Por exemplo:\n",
        "\n",
        "```\n",
        ">>> t = [1, 2, 3, 4]\n",
        ">>> chop(t)\n",
        ">>> t\n",
        "[2, 3]\n",
        "```"
      ],
      "metadata": {
        "id": "gDDFbuviIxWi"
      }
    },
    {
      "cell_type": "code",
      "source": [
        "def chop(lista):\n",
        "  lista.pop(0)\n",
        "  lista.pop(len(lista)-1)"
      ],
      "metadata": {
        "id": "sK2QXUSmIjto"
      },
      "execution_count": null,
      "outputs": []
    },
    {
      "cell_type": "code",
      "source": [
        "t = [1, 2, 3, 4]\n",
        "chop(t)"
      ],
      "metadata": {
        "id": "zqxlymclKwM1"
      },
      "execution_count": null,
      "outputs": []
    },
    {
      "cell_type": "code",
      "source": [
        "t"
      ],
      "metadata": {
        "colab": {
          "base_uri": "https://localhost:8080/"
        },
        "id": "QqXi5ZQGK0d9",
        "outputId": "41a97317-b31a-48e8-bda1-4810780fe515"
      },
      "execution_count": null,
      "outputs": [
        {
          "output_type": "execute_result",
          "data": {
            "text/plain": [
              "[2, 3]"
            ]
          },
          "metadata": {},
          "execution_count": 35
        }
      ]
    },
    {
      "cell_type": "markdown",
      "source": [
        "<h2> Exercício 10.5 </h2>\n",
        "\n",
        "Escreva uma função chamada is_sorted que tome uma lista como parâmetro e retorne True se a lista estiver classificada em ordem ascendente, e False se não for o caso. Por exemplo:\n",
        "\n",
        "```\n",
        ">>> is_sorted([1, 2, 2])\n",
        "True\n",
        ">>> is_sorted(['b', 'a'])\n",
        "False\n",
        "```"
      ],
      "metadata": {
        "id": "DKjNHYRPK425"
      }
    },
    {
      "cell_type": "code",
      "source": [
        "def is_sorted(lista):\n",
        "  for i in range(len(lista)-1):\n",
        "    if lista[i] > lista[i+1]:\n",
        "      return False\n",
        "\n",
        "  return True"
      ],
      "metadata": {
        "id": "f4_hDxyBK1Vk"
      },
      "execution_count": null,
      "outputs": []
    },
    {
      "cell_type": "code",
      "source": [
        "is_sorted([1, 2, 2]) # True"
      ],
      "metadata": {
        "colab": {
          "base_uri": "https://localhost:8080/"
        },
        "id": "4w1y1uCWLk-x",
        "outputId": "0fd3d9b3-7f94-4c55-a9d8-e4e9846ea90f"
      },
      "execution_count": null,
      "outputs": [
        {
          "output_type": "execute_result",
          "data": {
            "text/plain": [
              "True"
            ]
          },
          "metadata": {},
          "execution_count": 39
        }
      ]
    },
    {
      "cell_type": "code",
      "source": [
        "is_sorted(['b', 'a']) # False"
      ],
      "metadata": {
        "colab": {
          "base_uri": "https://localhost:8080/"
        },
        "id": "oSptwGTcLnnL",
        "outputId": "3cf212bc-dbc0-44a3-cfa3-4d7cde5c7688"
      },
      "execution_count": null,
      "outputs": [
        {
          "output_type": "execute_result",
          "data": {
            "text/plain": [
              "False"
            ]
          },
          "metadata": {},
          "execution_count": 40
        }
      ]
    },
    {
      "cell_type": "markdown",
      "source": [
        "<h2> Exercício 10.6 </h2>\n",
        "\n",
        "Duas palavras são anagramas se você puder soletrar uma rearranjando as letras da outra. Escreva uma função chamada is_anagram que tome duas strings e retorne True se forem anagramas."
      ],
      "metadata": {
        "id": "KkLh39d7Mtfv"
      }
    },
    {
      "cell_type": "code",
      "source": [
        "def is_anagram(string1, string2):\n",
        "  contagem = 0\n",
        "  lista_contagem_s1 = []\n",
        "  lista_contagem_s2 = []\n",
        "  verifica_letras = []\n",
        "\n",
        "  if len(string1) != len(string2):\n",
        "    return False\n",
        "\n",
        "  # contar a frequência de cada letra na string1\n",
        "  for l in string1:\n",
        "     # verifica se já foi armazenado a quantidade de ocorrências daquela letra\n",
        "    if l in verifica_letras:\n",
        "      continue\n",
        "    else:\n",
        "      verifica_letras.append(l)\n",
        "      contagem = string1.count(l)\n",
        "      lista_contagem_s1.append(l + str(contagem))\n",
        "      contagem = 0\n",
        "\n",
        "  # zera a lista para usá-la novamente\n",
        "  verifica_letras = []\n",
        "\n",
        "  # contar a frequência de cada letra na string2\n",
        "  for l in string2:\n",
        "    # verifica se já foi armazenado a quantidade de ocorrências daquela letra\n",
        "    if l in verifica_letras:\n",
        "      continue\n",
        "    else:\n",
        "      verifica_letras.append(l)\n",
        "      contagem = string2.count(l)\n",
        "      lista_contagem_s2.append(l + str(contagem))\n",
        "      contagem = 0\n",
        "\n",
        "  # verifica se os valores das duas são iguais. é necessário usar sorted para deixar os valores\n",
        "  # na mesma ordem. se fosse um dicionário, ele ignora a ordem dos valores, e compararia normalmente\n",
        "  if sorted(lista_contagem_s1) == sorted(lista_contagem_s2):\n",
        "    print(lista_contagem_s1, lista_contagem_s2)\n",
        "    return True\n",
        "  else:\n",
        "    print(lista_contagem_s1, lista_contagem_s2)\n",
        "    return False"
      ],
      "metadata": {
        "id": "AJ6HyXdnLzOL"
      },
      "execution_count": 173,
      "outputs": []
    },
    {
      "cell_type": "code",
      "source": [
        "is_anagram('teste', 'tes!e')"
      ],
      "metadata": {
        "colab": {
          "base_uri": "https://localhost:8080/"
        },
        "id": "dk8fCiwZ7XKB",
        "outputId": "eaa44e02-d5af-4c4f-842d-f1d6c6e102e6"
      },
      "execution_count": 174,
      "outputs": [
        {
          "output_type": "stream",
          "name": "stdout",
          "text": [
            "['t2', 'e2', 's1'] ['t1', 'e2', 's1', '!1']\n"
          ]
        },
        {
          "output_type": "execute_result",
          "data": {
            "text/plain": [
              "False"
            ]
          },
          "metadata": {},
          "execution_count": 174
        }
      ]
    },
    {
      "cell_type": "code",
      "source": [
        "is_anagram('amor', 'rato')"
      ],
      "metadata": {
        "colab": {
          "base_uri": "https://localhost:8080/"
        },
        "id": "nOANul828eQT",
        "outputId": "c170a3e1-c9b3-4f9d-e0ab-46412eb0920e"
      },
      "execution_count": 175,
      "outputs": [
        {
          "output_type": "stream",
          "name": "stdout",
          "text": [
            "['a1', 'm1', 'o1', 'r1'] ['r1', 'a1', 't1', 'o1']\n"
          ]
        },
        {
          "output_type": "execute_result",
          "data": {
            "text/plain": [
              "False"
            ]
          },
          "metadata": {},
          "execution_count": 175
        }
      ]
    },
    {
      "cell_type": "code",
      "source": [
        "is_anagram('bola', 'alob')"
      ],
      "metadata": {
        "colab": {
          "base_uri": "https://localhost:8080/"
        },
        "id": "Edn8ts1p8f98",
        "outputId": "495c4593-d2dd-49bf-c89b-62d7aa6df6c5"
      },
      "execution_count": 176,
      "outputs": [
        {
          "output_type": "stream",
          "name": "stdout",
          "text": [
            "['b1', 'o1', 'l1', 'a1'] ['a1', 'l1', 'o1', 'b1']\n"
          ]
        },
        {
          "output_type": "execute_result",
          "data": {
            "text/plain": [
              "True"
            ]
          },
          "metadata": {},
          "execution_count": 176
        }
      ]
    },
    {
      "cell_type": "code",
      "source": [
        "is_anagram('casa', 'saco')"
      ],
      "metadata": {
        "colab": {
          "base_uri": "https://localhost:8080/"
        },
        "id": "PPT295p98jtu",
        "outputId": "27c729d5-3e45-4ee1-ad03-9314b8c6df2f"
      },
      "execution_count": 177,
      "outputs": [
        {
          "output_type": "stream",
          "name": "stdout",
          "text": [
            "['c1', 'a2', 's1'] ['s1', 'a1', 'c1', 'o1']\n"
          ]
        },
        {
          "output_type": "execute_result",
          "data": {
            "text/plain": [
              "False"
            ]
          },
          "metadata": {},
          "execution_count": 177
        }
      ]
    },
    {
      "cell_type": "code",
      "source": [
        "is_anagram('amor', 'roma')"
      ],
      "metadata": {
        "colab": {
          "base_uri": "https://localhost:8080/"
        },
        "id": "y-JRjjmX84tD",
        "outputId": "c47cf9ef-a138-4e95-b449-82302a399fb7"
      },
      "execution_count": 178,
      "outputs": [
        {
          "output_type": "stream",
          "name": "stdout",
          "text": [
            "['a1', 'm1', 'o1', 'r1'] ['r1', 'o1', 'm1', 'a1']\n"
          ]
        },
        {
          "output_type": "execute_result",
          "data": {
            "text/plain": [
              "True"
            ]
          },
          "metadata": {},
          "execution_count": 178
        }
      ]
    },
    {
      "cell_type": "markdown",
      "source": [
        "<h2> Exercício 10.7 </h2>\n",
        "\n",
        "Escreva uma função chamada has_duplicates que tome uma lista e retorne True se houver algum elemento que apareça mais de uma vez. Ela não deve modificar a lista original."
      ],
      "metadata": {
        "id": "uoQQPlGD_U3q"
      }
    },
    {
      "cell_type": "code",
      "source": [
        "def has_duplicates(lista):\n",
        "  for i in lista:\n",
        "    if lista.count(i) > 1:\n",
        "      return True\n",
        "\n",
        "  return False"
      ],
      "metadata": {
        "id": "_5XIVf7z87HH"
      },
      "execution_count": 179,
      "outputs": []
    },
    {
      "cell_type": "code",
      "source": [
        "has_duplicates('brendaa') # True"
      ],
      "metadata": {
        "colab": {
          "base_uri": "https://localhost:8080/"
        },
        "id": "y5KsMlZE_1Ul",
        "outputId": "c0e24ecd-f271-44f6-fb21-470a39be721e"
      },
      "execution_count": 180,
      "outputs": [
        {
          "output_type": "execute_result",
          "data": {
            "text/plain": [
              "True"
            ]
          },
          "metadata": {},
          "execution_count": 180
        }
      ]
    },
    {
      "cell_type": "code",
      "source": [
        "has_duplicates('brenda') # False"
      ],
      "metadata": {
        "colab": {
          "base_uri": "https://localhost:8080/"
        },
        "id": "zWswqJan_3od",
        "outputId": "55ce87c3-a523-4a08-efbb-29cdfb6528a9"
      },
      "execution_count": 181,
      "outputs": [
        {
          "output_type": "execute_result",
          "data": {
            "text/plain": [
              "False"
            ]
          },
          "metadata": {},
          "execution_count": 181
        }
      ]
    },
    {
      "cell_type": "markdown",
      "source": [
        "<h2> Exercício 10.8 </h2>\n",
        "\n",
        "Este exercício pertence ao assim chamado Paradoxo de aniversário, sobre o qual você pode ler em http://en.wikipedia.org/wiki/Birthday_paradox.\n",
        "Se há 23 alunos na sua sala, quais são as chances de dois deles fazerem aniversário no mesmo dia? Você pode estimar esta probabilidade gerando amostras aleatórias de 23 dias de aniversário e verificando as correspondências. Dica: você pode gerar aniversários aleatórios com a função randint no módulo random.\n",
        "Se quiser, você pode baixar minha solução em http://thinkpython2.com/code/birthday.py."
      ],
      "metadata": {
        "id": "VuMH-caCACdE"
      }
    },
    {
      "cell_type": "code",
      "source": [
        "import random as r\n",
        "\n",
        "# gera um número inteiro aleatório entre 1 e 23, contando com o 23\n",
        "numero_aleatorio = r.randint(1, 10)"
      ],
      "metadata": {
        "id": "8eiqb6Iu_7IV"
      },
      "execution_count": null,
      "outputs": []
    }
  ]
}