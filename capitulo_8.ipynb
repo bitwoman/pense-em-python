{
  "nbformat": 4,
  "nbformat_minor": 0,
  "metadata": {
    "colab": {
      "provenance": [],
      "authorship_tag": "ABX9TyPnK/6eGOt9IMryp2422jUZ",
      "include_colab_link": true
    },
    "kernelspec": {
      "name": "python3",
      "display_name": "Python 3"
    },
    "language_info": {
      "name": "python"
    }
  },
  "cells": [
    {
      "cell_type": "markdown",
      "metadata": {
        "id": "view-in-github",
        "colab_type": "text"
      },
      "source": [
        "<a href=\"https://colab.research.google.com/github/bitwoman/pense-em-python/blob/main/capitulo_8.ipynb\" target=\"_parent\"><img src=\"https://colab.research.google.com/assets/colab-badge.svg\" alt=\"Open In Colab\"/></a>"
      ]
    },
    {
      "cell_type": "markdown",
      "source": [
        "# **ESTUDO DO LIVRO \"Pense em Python\", DO AUTOR ALLEN B. DOWNEY**\n",
        "\n",
        "<p> Estudos iniciados em 20-06-2024. </p>"
      ],
      "metadata": {
        "id": "x7rvwcbdVXDQ"
      }
    },
    {
      "cell_type": "markdown",
      "source": [
        "# Capítulo 8: Strings\n",
        "\n",
        "Strings não são como números inteiros, de ponto flutuante ou booleanos. Uma string é uma sequência, ou seja, uma coleção ordenada de outros valores."
      ],
      "metadata": {
        "id": "tmGQ9pzDVZmV"
      }
    },
    {
      "cell_type": "markdown",
      "source": [
        "<h2> 8.1 - Uma string é uma sequência </h2>\n",
        "\n",
        "Uma string é uma sequência de caracteres. Você pode acessar um caractere de cada vez com o operador de colchete:"
      ],
      "metadata": {
        "id": "QQSG6usRjYzX"
      }
    },
    {
      "cell_type": "code",
      "execution_count": 2,
      "metadata": {
        "id": "gCV4Iel1VVKE",
        "colab": {
          "base_uri": "https://localhost:8080/"
        },
        "outputId": "897eb399-ae7d-4d2d-b107-f6da38bfd110"
      },
      "outputs": [
        {
          "output_type": "stream",
          "name": "stdout",
          "text": [
            "banana\n",
            "a\n"
          ]
        }
      ],
      "source": [
        "fruta = 'banana'\n",
        "letra = fruta[1] # A expressão entre colchetes chama-se índice, que aponta qual caractere da sequência\n",
        "                 # você quer (daí o nome).\n",
        "\n",
        "print(fruta)\n",
        "print(letra)"
      ]
    },
    {
      "cell_type": "markdown",
      "source": [
        "Para a maior parte das pessoas, a primeira letra de ‘banana’ é b, não a. Mas para os cientistas da computação, o índice é uma referência do começo da string, e a referência da primeira letra é zero."
      ],
      "metadata": {
        "id": "nieiXUR0j9c5"
      }
    },
    {
      "cell_type": "markdown",
      "source": [
        "Você pode usar uma expressão que contenha variáveis e operadores como índice:"
      ],
      "metadata": {
        "id": "vXtn3wsjkJX8"
      }
    },
    {
      "cell_type": "code",
      "source": [
        "i = 1\n",
        "\n",
        "print(fruta[i])"
      ],
      "metadata": {
        "colab": {
          "base_uri": "https://localhost:8080/"
        },
        "id": "-JMV90YPjpBs",
        "outputId": "4edd8e27-bb87-4581-b5ae-dbbf0055394c"
      },
      "execution_count": 3,
      "outputs": [
        {
          "output_type": "stream",
          "name": "stdout",
          "text": [
            "a\n"
          ]
        }
      ]
    },
    {
      "cell_type": "code",
      "source": [
        "print(fruta[i+1])"
      ],
      "metadata": {
        "colab": {
          "base_uri": "https://localhost:8080/"
        },
        "id": "yOSgrYibkOJy",
        "outputId": "907214ed-895c-4a7a-cb0f-235cc560e1c9"
      },
      "execution_count": 4,
      "outputs": [
        {
          "output_type": "stream",
          "name": "stdout",
          "text": [
            "n\n"
          ]
        }
      ]
    },
    {
      "cell_type": "markdown",
      "source": [
        "Porém, o valor do índice tem que ser um número inteiro. Se não for, é isso que aparece:\n",
        "\n",
        "**TypeError: string indices must be integers**"
      ],
      "metadata": {
        "id": "Ibn3IP7KkVOH"
      }
    },
    {
      "cell_type": "code",
      "source": [
        "letra = fruta[1.5]"
      ],
      "metadata": {
        "colab": {
          "base_uri": "https://localhost:8080/",
          "height": 147
        },
        "id": "BxZKg4YgkQK1",
        "outputId": "9ad8f0bb-ab90-4197-c8f1-5005ac3d6590"
      },
      "execution_count": 5,
      "outputs": [
        {
          "output_type": "error",
          "ename": "TypeError",
          "evalue": "string indices must be integers",
          "traceback": [
            "\u001b[0;31m---------------------------------------------------------------------------\u001b[0m",
            "\u001b[0;31mTypeError\u001b[0m                                 Traceback (most recent call last)",
            "\u001b[0;32m<ipython-input-5-a11f8bbea000>\u001b[0m in \u001b[0;36m<cell line: 1>\u001b[0;34m()\u001b[0m\n\u001b[0;32m----> 1\u001b[0;31m \u001b[0mletra\u001b[0m \u001b[0;34m=\u001b[0m \u001b[0mfruta\u001b[0m\u001b[0;34m[\u001b[0m\u001b[0;36m1.5\u001b[0m\u001b[0;34m]\u001b[0m\u001b[0;34m\u001b[0m\u001b[0;34m\u001b[0m\u001b[0m\n\u001b[0m",
            "\u001b[0;31mTypeError\u001b[0m: string indices must be integers"
          ]
        }
      ]
    },
    {
      "cell_type": "markdown",
      "source": [
        "<h2> 8.2 - len </h2>\n",
        "\n",
        "**len** é uma função integrada que devolve o número de caracteres em uma string:"
      ],
      "metadata": {
        "id": "k1pAkSkEkhpd"
      }
    },
    {
      "cell_type": "code",
      "source": [
        "len(fruta) # 6"
      ],
      "metadata": {
        "colab": {
          "base_uri": "https://localhost:8080/"
        },
        "id": "TgLE6j6qkY2r",
        "outputId": "34d78a1f-d5fc-4009-e117-2d9bfba80949"
      },
      "execution_count": 7,
      "outputs": [
        {
          "output_type": "execute_result",
          "data": {
            "text/plain": [
              "6"
            ]
          },
          "metadata": {},
          "execution_count": 7
        }
      ]
    },
    {
      "cell_type": "markdown",
      "source": [
        "Para obter a última letra de uma string, pode parecer uma boa ideia tentar algo assim:"
      ],
      "metadata": {
        "id": "9tCZaSObkth9"
      }
    },
    {
      "cell_type": "code",
      "source": [
        "length = len(fruta)\n",
        "last = fruta[length]"
      ],
      "metadata": {
        "colab": {
          "base_uri": "https://localhost:8080/",
          "height": 165
        },
        "id": "PiLNOO3TkrYZ",
        "outputId": "d2bccf3d-080e-4c40-94eb-115fe14509db"
      },
      "execution_count": 10,
      "outputs": [
        {
          "output_type": "error",
          "ename": "IndexError",
          "evalue": "string index out of range",
          "traceback": [
            "\u001b[0;31m---------------------------------------------------------------------------\u001b[0m",
            "\u001b[0;31mIndexError\u001b[0m                                Traceback (most recent call last)",
            "\u001b[0;32m<ipython-input-10-e14530a4e206>\u001b[0m in \u001b[0;36m<cell line: 2>\u001b[0;34m()\u001b[0m\n\u001b[1;32m      1\u001b[0m \u001b[0mlength\u001b[0m \u001b[0;34m=\u001b[0m \u001b[0mlen\u001b[0m\u001b[0;34m(\u001b[0m\u001b[0mfruta\u001b[0m\u001b[0;34m)\u001b[0m\u001b[0;34m\u001b[0m\u001b[0;34m\u001b[0m\u001b[0m\n\u001b[0;32m----> 2\u001b[0;31m \u001b[0mlast\u001b[0m \u001b[0;34m=\u001b[0m \u001b[0mfruta\u001b[0m\u001b[0;34m[\u001b[0m\u001b[0mlength\u001b[0m\u001b[0;34m]\u001b[0m\u001b[0;34m\u001b[0m\u001b[0;34m\u001b[0m\u001b[0m\n\u001b[0m",
            "\u001b[0;31mIndexError\u001b[0m: string index out of range"
          ]
        }
      ]
    },
    {
      "cell_type": "markdown",
      "source": [
        "A razão de haver um IndexError aqui é que não há nenhuma letra em ‘banana’ com o\n",
        "índice 6. Como a contagem inicia no zero, as seis letras são numeradas de 0 a 5. Para obter o último caractere, você deve subtrair 1 de length:"
      ],
      "metadata": {
        "id": "vsaIwXxmlDti"
      }
    },
    {
      "cell_type": "code",
      "source": [
        "last = fruta[length-1]\n",
        "print(last)"
      ],
      "metadata": {
        "colab": {
          "base_uri": "https://localhost:8080/"
        },
        "id": "QuHwmNuPk2ky",
        "outputId": "22a21cf5-6982-4eee-8b17-e56d83d204df"
      },
      "execution_count": 11,
      "outputs": [
        {
          "output_type": "stream",
          "name": "stdout",
          "text": [
            "a\n"
          ]
        }
      ]
    },
    {
      "cell_type": "markdown",
      "source": [
        "Ou você pode usar índices negativos, que contam de trás para a frente a partir do fim da string. A expressão fruit[-1] apresenta a última letra, fruit[-2] apresenta a segunda letra de trás para a frente, e assim por diante."
      ],
      "metadata": {
        "id": "jftH4wWolMFd"
      }
    },
    {
      "cell_type": "markdown",
      "source": [
        "<h2> 8.3 - Travessia com loop for </h2>\n",
        "\n",
        "Muitos cálculos implicam o processamento de um caractere por vez em uma string.\n",
        "Muitas vezes começam no início, selecionam um caractere por vez, fazem algo e\n",
        "continuam até o fim. Este modelo do processamento chama-se travessia. Um modo de\n",
        "escrever uma travessia é com o loop while:"
      ],
      "metadata": {
        "id": "Sy427rPilPn_"
      }
    },
    {
      "cell_type": "code",
      "source": [
        "index = 0\n",
        "\n",
        "# Este loop atravessa a string e exibe cada letra sozinha em uma linha.\n",
        "while index < len(fruta):\n",
        "  letra = fruta[index]\n",
        "  print(letra)\n",
        "  index = index + 1"
      ],
      "metadata": {
        "colab": {
          "base_uri": "https://localhost:8080/"
        },
        "id": "z3rfwEGClHan",
        "outputId": "fe49db4d-f653-4c4f-8c50-cab27240e34a"
      },
      "execution_count": 13,
      "outputs": [
        {
          "output_type": "stream",
          "name": "stdout",
          "text": [
            "b\n",
            "a\n",
            "n\n",
            "a\n",
            "n\n",
            "a\n"
          ]
        }
      ]
    },
    {
      "cell_type": "markdown",
      "source": [
        "Como exercício, escreva uma função que receba uma string como argumento e exiba as letras de trás para a frente, uma por linha.\n"
      ],
      "metadata": {
        "id": "3LToGDw8sRxR"
      }
    },
    {
      "cell_type": "code",
      "source": [
        "def backToFront(s):\n",
        "  index = len(s) - 1\n",
        "\n",
        "  while index >= 0:\n",
        "    letra = s[index]\n",
        "    print(letra)\n",
        "    index = index - 1"
      ],
      "metadata": {
        "id": "DXbrhdtisEC9"
      },
      "execution_count": 38,
      "outputs": []
    },
    {
      "cell_type": "code",
      "source": [
        "backToFront('brenda')"
      ],
      "metadata": {
        "colab": {
          "base_uri": "https://localhost:8080/"
        },
        "id": "4mvzg1ncso9J",
        "outputId": "40624913-f2ca-433b-e8c4-fa382a4a45ef"
      },
      "execution_count": 39,
      "outputs": [
        {
          "output_type": "stream",
          "name": "stdout",
          "text": [
            "a\n",
            "d\n",
            "n\n",
            "e\n",
            "r\n",
            "b\n"
          ]
        }
      ]
    },
    {
      "cell_type": "markdown",
      "source": [
        "Outra forma de escrever uma travessia é com um loop for:"
      ],
      "metadata": {
        "id": "r3vC0Aw0vUsk"
      }
    },
    {
      "cell_type": "markdown",
      "source": [
        "Cada vez que o programa passar pelo loop, o caractere seguinte na string é atribuído à variável letter. O loop continua até que não sobre nenhum caractere.\n"
      ],
      "metadata": {
        "id": "zs1U1fEuve6U"
      }
    },
    {
      "cell_type": "code",
      "source": [
        "for letra in fruta:\n",
        "  print(letra)"
      ],
      "metadata": {
        "colab": {
          "base_uri": "https://localhost:8080/"
        },
        "id": "dH0aQVJlsqyO",
        "outputId": "672e37bc-796a-46b2-b3f2-76c67cec435f"
      },
      "execution_count": 40,
      "outputs": [
        {
          "output_type": "stream",
          "name": "stdout",
          "text": [
            "b\n",
            "a\n",
            "n\n",
            "a\n",
            "n\n",
            "a\n"
          ]
        }
      ]
    },
    {
      "cell_type": "markdown",
      "source": [
        "O próximo exemplo mostra como usar a concatenação (adição de strings) e um loop for para gerar uma série abecedária (isto é, em ordem alfabética).\n",
        "\n",
        "```\n",
        "prefixes = 'JKLMNOPQ'\n",
        "suffix = 'ack'\n",
        "for letter in prefixes:\n",
        "print(letter + suffix)\n",
        "A saída é:\n",
        "Jack\n",
        "Kack\n",
        "Lack\n",
        "Mack\n",
        "Nack\n",
        "Oack\n",
        "Pack\n",
        "Qack\n",
        "\n",
        "```\n",
        "\n"
      ],
      "metadata": {
        "id": "swrYCtejv1Oj"
      }
    },
    {
      "cell_type": "markdown",
      "source": [
        "Claro que não está exatamente certo porque “Ouack” e “Quack” foram mal soletrados.\n",
        "Como exercício, altere o programa para corrigir este erro.\n"
      ],
      "metadata": {
        "id": "Q8Ll3de4v8WX"
      }
    },
    {
      "cell_type": "code",
      "source": [
        "prefixes = 'JKLMNOPQ'\n",
        "suffix = 'ack'\n",
        "\n",
        "for letter in prefixes:\n",
        "  print(letter + suffix)"
      ],
      "metadata": {
        "colab": {
          "base_uri": "https://localhost:8080/"
        },
        "id": "JtfL723BvYhI",
        "outputId": "6fb12ce4-188a-45d1-e936-c4d0716df147"
      },
      "execution_count": 41,
      "outputs": [
        {
          "output_type": "stream",
          "name": "stdout",
          "text": [
            "Jack\n",
            "Kack\n",
            "Lack\n",
            "Mack\n",
            "Nack\n",
            "Oack\n",
            "Pack\n",
            "Qack\n"
          ]
        }
      ]
    },
    {
      "cell_type": "markdown",
      "source": [
        "**COMPARAÇÃO DE SOLUÇÕES:**"
      ],
      "metadata": {
        "id": "BiMKaxo2wfGK"
      }
    },
    {
      "cell_type": "markdown",
      "source": [
        "**SOLUÇÃO PRÓPRIA:**"
      ],
      "metadata": {
        "id": "3g4ztYXcwhgV"
      }
    },
    {
      "cell_type": "code",
      "source": [
        "prefixes = 'JKLMNOPQ'\n",
        "suffix = 'ack'\n",
        "\n",
        "for letter in prefixes:\n",
        "  if letter == 'O' or letter == 'Q':\n",
        "    print(letter + 'u' + suffix)\n",
        "  else:\n",
        "    print(letter + suffix)"
      ],
      "metadata": {
        "colab": {
          "base_uri": "https://localhost:8080/"
        },
        "id": "YRC9jmWewJ6u",
        "outputId": "b1b64860-fae1-4aaa-9876-a2b16596bce9"
      },
      "execution_count": 42,
      "outputs": [
        {
          "output_type": "stream",
          "name": "stdout",
          "text": [
            "Jack\n",
            "Kack\n",
            "Lack\n",
            "Mack\n",
            "Nack\n",
            "Ouack\n",
            "Pack\n",
            "Quack\n"
          ]
        }
      ]
    },
    {
      "cell_type": "markdown",
      "source": [
        "**SOLUÇÃO CHATGPT:**"
      ],
      "metadata": {
        "id": "I5wuYlsdwj6h"
      }
    },
    {
      "cell_type": "code",
      "source": [
        "prefixes = 'JKLMNOPQ'\n",
        "suffix = 'ack'\n",
        "\n",
        "for letter in prefixes:\n",
        "    if letter == 'O' or letter == 'Q':\n",
        "        print(letter + 'u' + suffix)  # Adiciona \"u\" após \"O\" e \"Q\"\n",
        "    else:\n",
        "        print(letter + suffix)"
      ],
      "metadata": {
        "colab": {
          "base_uri": "https://localhost:8080/"
        },
        "id": "g9l9sPc-wb5f",
        "outputId": "77d6770e-c5ec-499b-9a2e-2394b1a250d6"
      },
      "execution_count": 43,
      "outputs": [
        {
          "output_type": "stream",
          "name": "stdout",
          "text": [
            "Jack\n",
            "Kack\n",
            "Lack\n",
            "Mack\n",
            "Nack\n",
            "Ouack\n",
            "Pack\n",
            "Quack\n"
          ]
        }
      ]
    },
    {
      "cell_type": "markdown",
      "source": [
        "<h2> 8.4 - Fatiamento de strings </h2>"
      ],
      "metadata": {
        "id": "V-wtqqXqw1U_"
      }
    },
    {
      "cell_type": "code",
      "source": [],
      "metadata": {
        "id": "mFupCrVYwuGf"
      },
      "execution_count": null,
      "outputs": []
    }
  ]
}