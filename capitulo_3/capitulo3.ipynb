{
 "cells": [
  {
   "cell_type": "markdown",
   "metadata": {
    "colab_type": "text",
    "id": "view-in-github"
   },
   "source": [
    "<a href=\"https://colab.research.google.com/github/bitwoman/pense-em-python/blob/main/capitulo3.ipynb\" target=\"_parent\"><img src=\"https://colab.research.google.com/assets/colab-badge.svg\" alt=\"Open In Colab\"/></a>"
   ]
  },
  {
   "cell_type": "markdown",
   "metadata": {
    "id": "cXkXZ5jl8o1Q"
   },
   "source": [
    "# **ESTUDO DO LIVRO \"Pense em Python\", DO AUTOR ALLEN B. DOWNEY**\n",
    "\n",
    "<p> Estudos iniciados em 20-06-2024. </p>"
   ]
  },
  {
   "cell_type": "markdown",
   "metadata": {
    "id": "BmwOJSwG890F"
   },
   "source": [
    "# Capítulo 3: Funções"
   ]
  },
  {
   "cell_type": "markdown",
   "metadata": {
    "id": "BXo5vsfT9Ds8"
   },
   "source": [
    "**3.1 - Chamada de função**"
   ]
  },
  {
   "cell_type": "code",
   "execution_count": 1,
   "metadata": {
    "colab": {
     "base_uri": "https://localhost:8080/"
    },
    "id": "j5MZOB_p9CSN",
    "outputId": "f1c8d204-67fc-4071-8475-88d8b103f5f8"
   },
   "outputs": [
    {
     "data": {
      "text/plain": [
       "int"
      ]
     },
     "execution_count": 1,
     "metadata": {},
     "output_type": "execute_result"
    }
   ],
   "source": [
    "type(42)"
   ]
  },
  {
   "cell_type": "markdown",
   "metadata": {
    "id": "_U1y2tH29Gy3"
   },
   "source": [
    "É comum dizer que uma função “recebe” um argumento e “retorna” um resultado. O\n",
    "resultado também é chamado de valor de retorno."
   ]
  },
  {
   "cell_type": "markdown",
   "metadata": {
    "id": "gq4_1aqn9I3i"
   },
   "source": [
    "int pode converter valores de ponto flutuante em números inteiros, mas não faz\n",
    "arredondamentos; ela apenas corta a parte da fração:\n"
   ]
  },
  {
   "cell_type": "code",
   "execution_count": 2,
   "metadata": {
    "colab": {
     "base_uri": "https://localhost:8080/"
    },
    "id": "MVipTVMY9FJt",
    "outputId": "bb6120ee-35a6-45f9-c32c-faa34de39752"
   },
   "outputs": [
    {
     "data": {
      "text/plain": [
       "3"
      ]
     },
     "execution_count": 2,
     "metadata": {},
     "output_type": "execute_result"
    }
   ],
   "source": [
    "int(3.99999)"
   ]
  },
  {
   "cell_type": "markdown",
   "metadata": {
    "id": "jIhgoqqa-ApD"
   },
   "source": [
    "float converte números inteiros e strings em números de ponto flutuante:"
   ]
  },
  {
   "cell_type": "code",
   "execution_count": null,
   "metadata": {
    "colab": {
     "base_uri": "https://localhost:8080/"
    },
    "id": "vwDdSw399_DI",
    "outputId": "1de13657-2ddf-4cd5-d8fc-bd95dbb3f68f"
   },
   "outputs": [
    {
     "data": {
      "text/plain": [
       "32.0"
      ]
     },
     "execution_count": 3,
     "metadata": {},
     "output_type": "execute_result"
    }
   ],
   "source": [
    "float(32)"
   ]
  },
  {
   "cell_type": "markdown",
   "metadata": {
    "id": "5c91RBmH-DV3"
   },
   "source": [
    "str converte o argumento em uma string"
   ]
  },
  {
   "cell_type": "code",
   "execution_count": null,
   "metadata": {
    "colab": {
     "base_uri": "https://localhost:8080/",
     "height": 36
    },
    "id": "B9A7lneY-BkS",
    "outputId": "bc09ce93-7924-4b0b-dccf-a54023cf6d22"
   },
   "outputs": [
    {
     "data": {
      "application/vnd.google.colaboratory.intrinsic+json": {
       "type": "string"
      },
      "text/plain": [
       "'32'"
      ]
     },
     "execution_count": 4,
     "metadata": {},
     "output_type": "execute_result"
    }
   ],
   "source": [
    "str(32)"
   ]
  },
  {
   "cell_type": "markdown",
   "metadata": {
    "id": "LPBP_F7c-GX5"
   },
   "source": [
    "**3.2 - Funções matemáticas**\n",
    "\n",
    "- obs: Um módulo é um arquivo que contém uma coleção de funções relacionadas.\n"
   ]
  },
  {
   "cell_type": "code",
   "execution_count": null,
   "metadata": {
    "id": "WasIKJiB-EwV"
   },
   "outputs": [],
   "source": [
    "import math # chamado de módulo"
   ]
  },
  {
   "cell_type": "code",
   "execution_count": null,
   "metadata": {
    "colab": {
     "base_uri": "https://localhost:8080/"
    },
    "id": "n7voPgmb-IDc",
    "outputId": "5d0b0f67-7c74-446f-d976-b477f9dff5af"
   },
   "outputs": [
    {
     "data": {
      "text/plain": [
       "<module 'math' (built-in)>"
      ]
     },
     "execution_count": 6,
     "metadata": {},
     "output_type": "execute_result"
    }
   ],
   "source": [
    "math # Ao se exibir o objeto de módulo, são apresentadas informações sobre ele\n",
    "# built-in > nativo"
   ]
  },
  {
   "cell_type": "markdown",
   "metadata": {
    "id": "9-MzMbi2-MWp"
   },
   "source": [
    "Este formato é chamado de notação de ponto."
   ]
  },
  {
   "cell_type": "code",
   "execution_count": null,
   "metadata": {
    "colab": {
     "base_uri": "https://localhost:8080/"
    },
    "id": "B_9kbbZI-Klh",
    "outputId": "7eb63a3e-9615-443c-d37a-05f1a099104a"
   },
   "outputs": [
    {
     "name": "stdout",
     "output_type": "stream",
     "text": [
      "5.0\n",
      "6.989700043360188\n",
      "0.7\n",
      "0.644217687237691\n"
     ]
    }
   ],
   "source": [
    "ratio = 50 / 10\n",
    "decibels = 10 * math.log10(ratio)\n",
    "radians = 0.7\n",
    "height = math.sin(radians)\n",
    "\n",
    "print(ratio)\n",
    "print(decibels)\n",
    "print(radians)\n",
    "print(height)"
   ]
  },
  {
   "cell_type": "code",
   "execution_count": null,
   "metadata": {
    "colab": {
     "base_uri": "https://localhost:8080/"
    },
    "id": "5Ryjb5UK-NhK",
    "outputId": "a2a045f2-3b8c-4245-e63e-eb8fd4087ca6"
   },
   "outputs": [
    {
     "data": {
      "text/plain": [
       "0.7071067811865475"
      ]
     },
     "execution_count": 8,
     "metadata": {},
     "output_type": "execute_result"
    }
   ],
   "source": [
    "degrees = 45\n",
    "\n",
    "#  Para converter graus em radianos, divida por 180 e multiplique por π\n",
    "radians = degrees / 180.0 * math.pi # A expressão math.pi recebe a variável pi do módulo matemático\n",
    "math.sin(radians)"
   ]
  },
  {
   "cell_type": "markdown",
   "metadata": {
    "id": "awKy2kyd-Rpi"
   },
   "source": [
    "**3.3 - Composição**\n"
   ]
  },
  {
   "cell_type": "markdown",
   "metadata": {
    "id": "sGAENtY2-TLz"
   },
   "source": [
    "O argumento de uma função pode ser qualquer tipo de expressão, inclusive operadores aritméticos:"
   ]
  },
  {
   "cell_type": "code",
   "execution_count": null,
   "metadata": {
    "colab": {
     "base_uri": "https://localhost:8080/"
    },
    "id": "kEnw79bf-P-V",
    "outputId": "7965e68e-0b84-40b6-8bf7-61e73c58a639"
   },
   "outputs": [
    {
     "name": "stdout",
     "output_type": "stream",
     "text": [
      "1.7071067811865475\n"
     ]
    }
   ],
   "source": [
    "x = math.sin(45 / 360.0 * 2 * math.pi)\n",
    "#E até chamadas de função:\n",
    "x = math.exp(math.log(x+1))\n",
    "\n",
    "print(x)"
   ]
  },
  {
   "cell_type": "markdown",
   "metadata": {
    "id": "wwZNmH3b-bOi"
   },
   "source": [
    "É possível colocar um valor, uma expressão arbitrária, em quase qualquer lugar. Com uma exceção: o lado esquerdo de uma instrução de atribuição tem que ser um nome de variável. Qualquer outra expressão no lado esquerdo é um erro de sintaxe."
   ]
  },
  {
   "cell_type": "code",
   "execution_count": null,
   "metadata": {
    "colab": {
     "base_uri": "https://localhost:8080/",
     "height": 111
    },
    "id": "BktitvVF-ZoX",
    "outputId": "9b4e4fde-53c2-4f5b-abfc-6231279a99f2"
   },
   "outputs": [
    {
     "ename": "SyntaxError",
     "evalue": "cannot assign to expression here. Maybe you meant '==' instead of '='? (<ipython-input-10-2052c39f3713>, line 2)",
     "output_type": "error",
     "traceback": [
      "\u001b[0;36m  File \u001b[0;32m\"<ipython-input-10-2052c39f3713>\"\u001b[0;36m, line \u001b[0;32m2\u001b[0m\n\u001b[0;31m    hours * 60 = minutes # errado!\u001b[0m\n\u001b[0m    ^\u001b[0m\n\u001b[0;31mSyntaxError\u001b[0m\u001b[0;31m:\u001b[0m cannot assign to expression here. Maybe you meant '==' instead of '='?\n"
     ]
    }
   ],
   "source": [
    "minutes = hours * 60 # correto\n",
    "hours * 60 = minutes # errado!\n",
    "\n",
    "# SyntaxError"
   ]
  },
  {
   "cell_type": "markdown",
   "metadata": {
    "id": "Cm7wBCov-eO_"
   },
   "source": [
    "**3.4 - Como acrescentar novas funções**\n",
    "\n",
    "Uma definição de função especifica o nome de uma nova função e a sequência de instruções que são executadas quando a função é chamada."
   ]
  },
  {
   "cell_type": "code",
   "execution_count": null,
   "metadata": {
    "id": "yKN9u8sp-c0K"
   },
   "outputs": [],
   "source": [
    "# def é uma palavra-chave (reservada) que indica uma definição de função\n",
    "def print_lyrics():\n",
    "  print(\"I'm a lumberjack, and I'm okay.\")\n",
    "  print(\"I sleep all night and I work all day.\")"
   ]
  },
  {
   "cell_type": "code",
   "execution_count": null,
   "metadata": {
    "colab": {
     "base_uri": "https://localhost:8080/"
    },
    "id": "74hqVdBq-gTc",
    "outputId": "558de8ca-de11-476e-dbfe-fff892948c1b"
   },
   "outputs": [
    {
     "name": "stdout",
     "output_type": "stream",
     "text": [
      "I'm a lumberjack, and I'm okay.\n",
      "I sleep all night and I work all day.\n"
     ]
    }
   ],
   "source": [
    "# chama a função\n",
    "print_lyrics() # Os parênteses vazios depois do nome indicam que esta função não usa argumentos."
   ]
  },
  {
   "cell_type": "markdown",
   "metadata": {
    "id": "2gYugZbL-jWL"
   },
   "source": [
    " As regras para nomes de função são as mesmas que as das variáveis: letras,\n",
    "números e sublinhado são legais, mas o primeiro caractere não pode ser um número. Não podemos usar uma palavra-chave como nome de uma função e devemos evitar ter uma variável e uma função com o mesmo nome.\n"
   ]
  },
  {
   "cell_type": "markdown",
   "metadata": {
    "id": "zH3NWCJx-liP"
   },
   "source": [
    "*Todas as aspas (simples e duplas) devem ser “aspas retas”, normalmente encontradas ao lado do Enter no teclado. “Aspas curvas”, como as desta oração, não são legais no Python.*"
   ]
  },
  {
   "cell_type": "code",
   "execution_count": null,
   "metadata": {
    "colab": {
     "base_uri": "https://localhost:8080/"
    },
    "id": "M6uyE7me-h9g",
    "outputId": "56cdd7fe-4d8e-4f8f-de9c-85f1e7eeace2"
   },
   "outputs": [
    {
     "name": "stdout",
     "output_type": "stream",
     "text": [
      "<function print_lyrics at 0x7ed98a587b50>\n"
     ]
    }
   ],
   "source": [
    "print(print_lyrics) # cria um objeto de função que tem o tipo function"
   ]
  },
  {
   "cell_type": "code",
   "execution_count": null,
   "metadata": {
    "colab": {
     "base_uri": "https://localhost:8080/"
    },
    "id": "W6B1dEmo-ood",
    "outputId": "865d0809-b432-40e1-8b64-989379207381"
   },
   "outputs": [
    {
     "data": {
      "text/plain": [
       "function"
      ]
     },
     "execution_count": 14,
     "metadata": {},
     "output_type": "execute_result"
    }
   ],
   "source": [
    "type(print_lyrics)"
   ]
  },
  {
   "cell_type": "markdown",
   "metadata": {
    "id": "GcG54Z6c-rWE"
   },
   "source": [
    "Uma vez que a função tenha sido definida, é possível usá-la dentro de outra função."
   ]
  },
  {
   "cell_type": "code",
   "execution_count": null,
   "metadata": {
    "id": "xbNnfmGH-p_Q"
   },
   "outputs": [],
   "source": [
    "def repeat_lyrics():\n",
    "  print_lyrics()\n",
    "  print_lyrics()"
   ]
  },
  {
   "cell_type": "code",
   "execution_count": null,
   "metadata": {
    "colab": {
     "base_uri": "https://localhost:8080/"
    },
    "id": "K4BxZNrU-uiQ",
    "outputId": "fc7a47b9-6c05-41d1-b58a-571ecc37ae8e"
   },
   "outputs": [
    {
     "name": "stdout",
     "output_type": "stream",
     "text": [
      "I'm a lumberjack, and I'm okay.\n",
      "I sleep all night and I work all day.\n",
      "I'm a lumberjack, and I'm okay.\n",
      "I sleep all night and I work all day.\n"
     ]
    }
   ],
   "source": [
    "repeat_lyrics()"
   ]
  },
  {
   "cell_type": "markdown",
   "metadata": {
    "id": "z0jOkSuT-xkU"
   },
   "source": [
    "**3.5 - Uso e definições**"
   ]
  },
  {
   "cell_type": "code",
   "execution_count": null,
   "metadata": {
    "colab": {
     "base_uri": "https://localhost:8080/"
    },
    "id": "wwlOvSlb-vbS",
    "outputId": "9b80b0a8-42de-419e-d0bf-07d538e5f20c"
   },
   "outputs": [
    {
     "name": "stdout",
     "output_type": "stream",
     "text": [
      "I'm a lumberjack, and I'm okay.\n",
      "I sleep all night and I work all day.\n",
      "I'm a lumberjack, and I'm okay.\n",
      "I sleep all night and I work all day.\n"
     ]
    }
   ],
   "source": [
    "# Juntando fragmentos de código da seção anterior, o programa inteiro fica assim:\n",
    "def print_lyrics():\n",
    "  print(\"I'm a lumberjack, and I'm okay.\")\n",
    "  print(\"I sleep all night and I work all day.\")\n",
    "\n",
    "def repeat_lyrics():\n",
    "  print_lyrics()\n",
    "  print_lyrics()\n",
    "\n",
    "repeat_lyrics()"
   ]
  },
  {
   "cell_type": "markdown",
   "metadata": {
    "id": "3pA5jxWS-0bS"
   },
   "source": [
    "- Como exercício, mova a última linha deste programa para o topo, para que a chamada de função apareça antes das definições. Execute o programa e veja qual é a mensagem de erro que aparece."
   ]
  },
  {
   "cell_type": "code",
   "execution_count": 3,
   "metadata": {
    "colab": {
     "base_uri": "https://localhost:8080/",
     "height": 222
    },
    "id": "Y0KoQlOd-ymQ",
    "outputId": "7d2b4331-023f-4ab2-c99d-b3e753ee6fce"
   },
   "outputs": [
    {
     "ename": "NameError",
     "evalue": "name 'repeat_lyrics' is not defined",
     "output_type": "error",
     "traceback": [
      "\u001b[0;31m---------------------------------------------------------------------------\u001b[0m",
      "\u001b[0;31mNameError\u001b[0m                                 Traceback (most recent call last)",
      "\u001b[0;32m<ipython-input-3-2d0bb4005e24>\u001b[0m in \u001b[0;36m<cell line: 1>\u001b[0;34m()\u001b[0m\n\u001b[0;32m----> 1\u001b[0;31m \u001b[0mrepeat_lyrics\u001b[0m\u001b[0;34m(\u001b[0m\u001b[0;34m)\u001b[0m\u001b[0;34m\u001b[0m\u001b[0;34m\u001b[0m\u001b[0m\n\u001b[0m\u001b[1;32m      2\u001b[0m \u001b[0;34m\u001b[0m\u001b[0m\n\u001b[1;32m      3\u001b[0m \u001b[0;32mdef\u001b[0m \u001b[0mprint_lyrics\u001b[0m\u001b[0;34m(\u001b[0m\u001b[0;34m)\u001b[0m\u001b[0;34m:\u001b[0m\u001b[0;34m\u001b[0m\u001b[0;34m\u001b[0m\u001b[0m\n\u001b[1;32m      4\u001b[0m   \u001b[0mprint\u001b[0m\u001b[0;34m(\u001b[0m\u001b[0;34m\"I'm a lumberjack, and I'm okay.\"\u001b[0m\u001b[0;34m)\u001b[0m\u001b[0;34m\u001b[0m\u001b[0;34m\u001b[0m\u001b[0m\n\u001b[1;32m      5\u001b[0m   \u001b[0mprint\u001b[0m\u001b[0;34m(\u001b[0m\u001b[0;34m\"I sleep all night and I work all day.\"\u001b[0m\u001b[0;34m)\u001b[0m\u001b[0;34m\u001b[0m\u001b[0;34m\u001b[0m\u001b[0m\n",
      "\u001b[0;31mNameError\u001b[0m: name 'repeat_lyrics' is not defined"
     ]
    }
   ],
   "source": [
    "repeat_lyrics()\n",
    "\n",
    "def print_lyrics():\n",
    "  print(\"I'm a lumberjack, and I'm okay.\")\n",
    "  print(\"I sleep all night and I work all day.\")\n",
    "\n",
    "def repeat_lyrics():\n",
    "  print_lyrics()\n",
    "  print_lyrics()"
   ]
  },
  {
   "cell_type": "markdown",
   "metadata": {
    "id": "4oeRKAyG_OQA"
   },
   "source": [
    "Retorna o erro **NameError**:* name 'repeat_lyrics' is not defined*"
   ]
  },
  {
   "cell_type": "markdown",
   "metadata": {
    "id": "uKmD3XeDCPCR"
   },
   "source": [
    "- Agora mova a chamada de função de volta para baixo e mova a definição de\n",
    "print_lyrics para depois da definição de repeat_lyrics. O que acontece quando este programa é executado?"
   ]
  },
  {
   "cell_type": "code",
   "execution_count": 4,
   "metadata": {
    "colab": {
     "base_uri": "https://localhost:8080/"
    },
    "id": "2Q4w1b-t-190",
    "outputId": "b20ecb46-b52a-4095-ed3f-03263311f4eb"
   },
   "outputs": [
    {
     "name": "stdout",
     "output_type": "stream",
     "text": [
      "I'm a lumberjack, and I'm okay.\n",
      "I sleep all night and I work all day.\n",
      "I'm a lumberjack, and I'm okay.\n",
      "I sleep all night and I work all day.\n"
     ]
    }
   ],
   "source": [
    "def repeat_lyrics():\n",
    "  print_lyrics()\n",
    "  print_lyrics()\n",
    "\n",
    "def print_lyrics():\n",
    "  print(\"I'm a lumberjack, and I'm okay.\")\n",
    "  print(\"I sleep all night and I work all day.\")\n",
    "\n",
    "repeat_lyrics()"
   ]
  },
  {
   "cell_type": "markdown",
   "metadata": {
    "id": "CoollbxrCTRM"
   },
   "source": [
    "No Python, a ordem de definição das funções no código não precisa seguir a ordem em que são chamadas, desde que a definição da função exista no momento em que a função é chamada.\n",
    "\n",
    "Por isso, o script é executado com sucesso, pois repeat_lyrics está apenas sendo definida - primeiramente, e print_lyrics não é chamada nesse momento."
   ]
  },
  {
   "cell_type": "markdown",
   "metadata": {
    "id": "0oY4u_60CVIx"
   },
   "source": [
    "**3.6 - Fluxo de execução**\n",
    "\n",
    "Para garantir que uma função seja definida antes do seu primeiro uso, é preciso saber a ordem na qual as instruções serão executadas. Isso é chamado de fluxo de execução.\n",
    "\n",
    "- A execução sempre começa na primeira instrução do programa. As instruções são\n",
    "executadas uma após a outra, de cima para baixo.\n",
    "\n",
    "- As definições de função não alteram o fluxo da execução do programa, mas lembre-se de que as instruções dentro da função não são executadas até a função ser chamada\n"
   ]
  },
  {
   "cell_type": "markdown",
   "metadata": {
    "id": "cB5bCFbfCZYz"
   },
   "source": [
    "*Portanto, entender um programa Python (ou qualquer programa em geral) frequentemente exige seguir o fluxo de execução baseado em chamadas de função, loops, condicionais, e outros elementos que desviam o fluxo linear de cima para baixo. Isso ajuda a garantir que você compreende não apenas a estrutura estática do código, mas também a dinâmica de sua execução.*"
   ]
  },
  {
   "cell_type": "markdown",
   "metadata": {
    "id": "vfAZ--eKCa-F"
   },
   "source": [
    "**3.7 - Parâmetros e argumentos**\n",
    "\n",
    "Algumas funções que vimos exigem argumentos. Por exemplo, ao chamar math.sin, você usa um número como argumento. Algumas funções exigem mais de um argumento: o math.pow exige dois, a base e o expoente."
   ]
  },
  {
   "cell_type": "code",
   "execution_count": 5,
   "metadata": {
    "id": "aT4xsxhMCTbp"
   },
   "outputs": [],
   "source": [
    "def print_twice(bruce):\n",
    "  print(bruce)\n",
    "  print(bruce)"
   ]
  },
  {
   "cell_type": "code",
   "execution_count": 6,
   "metadata": {
    "colab": {
     "base_uri": "https://localhost:8080/"
    },
    "id": "edvgtNUDCcoq",
    "outputId": "704d0f61-15d3-4154-977e-b2286ecd052a"
   },
   "outputs": [
    {
     "name": "stdout",
     "output_type": "stream",
     "text": [
      "Spam\n",
      "Spam\n",
      "42\n",
      "42\n",
      "3.141592653589793\n",
      "3.141592653589793\n"
     ]
    }
   ],
   "source": [
    "import math\n",
    "\n",
    "# Esta função funciona com qualquer valor que possa ser exibido\n",
    "print_twice('Spam')\n",
    "print_twice(42)\n",
    "print_twice(math.pi)"
   ]
  },
  {
   "cell_type": "markdown",
   "metadata": {
    "id": "B3z4_AqPCg9O"
   },
   "source": [
    "As mesmas regras de composição usadas para funções integradas também são aplicadas a funções definidas pelos programadores, então podemos usar qualquer tipo de expressão como argumento para print_twice:"
   ]
  },
  {
   "cell_type": "code",
   "execution_count": 7,
   "metadata": {
    "colab": {
     "base_uri": "https://localhost:8080/"
    },
    "id": "Bd_JkVaQCdiQ",
    "outputId": "55164403-86cb-4e5c-f1ca-753f538d981e"
   },
   "outputs": [
    {
     "name": "stdout",
     "output_type": "stream",
     "text": [
      "Spam Spam Spam Spam \n",
      "Spam Spam Spam Spam \n"
     ]
    }
   ],
   "source": [
    "print_twice('Spam ' * 4)"
   ]
  },
  {
   "cell_type": "code",
   "execution_count": 8,
   "metadata": {
    "colab": {
     "base_uri": "https://localhost:8080/"
    },
    "id": "PhL-UO2rCh8-",
    "outputId": "7f9d2ef7-ccc0-4be4-8734-12b2a5c5581c"
   },
   "outputs": [
    {
     "name": "stdout",
     "output_type": "stream",
     "text": [
      "-1.0\n",
      "-1.0\n"
     ]
    }
   ],
   "source": [
    "print_twice(math.cos(math.pi))"
   ]
  },
  {
   "cell_type": "markdown",
   "metadata": {
    "id": "DlDa78bcCk2V"
   },
   "source": [
    "Você também pode usar uma variável como argumento:"
   ]
  },
  {
   "cell_type": "code",
   "execution_count": 9,
   "metadata": {
    "id": "DmMtN8OCCi8W"
   },
   "outputs": [],
   "source": [
    "michael = 'Eric, the half a bee.'"
   ]
  },
  {
   "cell_type": "code",
   "execution_count": 10,
   "metadata": {
    "colab": {
     "base_uri": "https://localhost:8080/"
    },
    "id": "B4fKF2rLCmpw",
    "outputId": "a94e1a4e-4d7e-4652-932a-c759e6c19ff7"
   },
   "outputs": [
    {
     "name": "stdout",
     "output_type": "stream",
     "text": [
      "Eric, the half a bee.\n",
      "Eric, the half a bee.\n"
     ]
    }
   ],
   "source": [
    "print_twice(michael)"
   ]
  },
  {
   "cell_type": "markdown",
   "metadata": {
    "id": "84QmS5FGCpaK"
   },
   "source": [
    "**3.8 - As variáveis e os parâmetros são locais**\n",
    "\n",
    "Quando você cria uma variável dentro de uma função, ela é local, ou seja, ela só existe dentro da função."
   ]
  },
  {
   "cell_type": "code",
   "execution_count": 11,
   "metadata": {
    "id": "ZXjpfb42Cndv"
   },
   "outputs": [],
   "source": [
    "def cat_twice(part1, part2):\n",
    "  cat = part1 + part2\n",
    "  print_twice(cat)"
   ]
  },
  {
   "cell_type": "code",
   "execution_count": 12,
   "metadata": {
    "colab": {
     "base_uri": "https://localhost:8080/"
    },
    "id": "51aLr29kCqxl",
    "outputId": "6e7b8042-3fd6-4c6b-8bd8-a0cd00355a25"
   },
   "outputs": [
    {
     "name": "stdout",
     "output_type": "stream",
     "text": [
      "Bing tiddle tiddle bang.\n",
      "Bing tiddle tiddle bang.\n"
     ]
    }
   ],
   "source": [
    "line1 = 'Bing tiddle '\n",
    "line2 = 'tiddle bang.'\n",
    "cat_twice(line1, line2)"
   ]
  },
  {
   "cell_type": "code",
   "execution_count": 13,
   "metadata": {
    "colab": {
     "base_uri": "https://localhost:8080/",
     "height": 148
    },
    "id": "E_7gDmQBCr1L",
    "outputId": "02fac2d1-d59b-49d2-d6a8-033e17a579e6"
   },
   "outputs": [
    {
     "ename": "NameError",
     "evalue": "name 'cat' is not defined",
     "output_type": "error",
     "traceback": [
      "\u001b[0;31m---------------------------------------------------------------------------\u001b[0m",
      "\u001b[0;31mNameError\u001b[0m                                 Traceback (most recent call last)",
      "\u001b[0;32m<ipython-input-13-5aca9be956c9>\u001b[0m in \u001b[0;36m<cell line: 1>\u001b[0;34m()\u001b[0m\n\u001b[0;32m----> 1\u001b[0;31m \u001b[0mprint\u001b[0m\u001b[0;34m(\u001b[0m\u001b[0mcat\u001b[0m\u001b[0;34m)\u001b[0m \u001b[0;31m# NameError: name 'cat' is not defined\u001b[0m\u001b[0;34m\u001b[0m\u001b[0;34m\u001b[0m\u001b[0m\n\u001b[0m",
      "\u001b[0;31mNameError\u001b[0m: name 'cat' is not defined"
     ]
    }
   ],
   "source": [
    "print(cat) # NameError: name 'cat' is not defined"
   ]
  },
  {
   "cell_type": "markdown",
   "metadata": {
    "id": "eQGS6gV_C8PC"
   },
   "source": [
    "Os parâmetros também são locais. Por exemplo, além de print_twice, não existe o bruce."
   ]
  },
  {
   "cell_type": "markdown",
   "metadata": {
    "id": "fFBP1ZelC_jn"
   },
   "source": [
    "**3.9 - Diagrama da pilha**"
   ]
  },
  {
   "cell_type": "markdown",
   "metadata": {
    "id": "F96aXGqUDBNS"
   },
   "source": [
    "Para monitorar quais variáveis podem ser usadas e onde, é uma boa ideia desenhar um diagrama da pilha. Assim como diagramas de estado, os diagramas da pilha mostram o valor de cada variável, mas também mostram a função à qual cada variável pertence. Cada função é representada por um frame (quadro). Um frame é uma caixa com o nome de uma função junto a ele e os parâmetros e as variáveis da função dentro dele."
   ]
  },
  {
   "cell_type": "markdown",
   "metadata": {
    "id": "zbWWriAdDFBi"
   },
   "source": [
    "![image.png](data:image/png;base64,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)"
   ]
  },
  {
   "cell_type": "markdown",
   "metadata": {
    "id": "_wA-YwKrDG_W"
   },
   "source": [
    "Os frames são organizados em uma pilha que indica qual função que foi chamada por outra, e assim por diante. Neste exemplo, print_twice foi chamada por cat_twice e cat_twice foi chamada por __main__, que é um nome especial para o frame na posição mais proeminente. Quando você cria uma variável fora de qualquer função, ela pertence a __main__.\n",
    "Por exemplo, se você tentar acessar cat de dentro de print_twice, receberá uma\n",
    "mensagem de NameError:"
   ]
  },
  {
   "cell_type": "markdown",
   "metadata": {
    "id": "C5K_xPiODLGd"
   },
   "source": [
    "![image.png](data:image/png;base64,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)"
   ]
  },
  {
   "cell_type": "markdown",
   "metadata": {
    "id": "nfK-nQUIDMv0"
   },
   "source": [
    "Esta lista de funções é chamada de traceback. Ela mostra o arquivo do programa em que o erro ocorreu e em que linha, e quais funções estavam sendo executadas no momento. Ele também mostra a linha de código que causou o erro.\n",
    "A ordem das funções no traceback é a mesma que a ordem dos frames no diagrama da\n",
    "pilha. **A função que está sendo executada no momento está no final.**"
   ]
  },
  {
   "cell_type": "markdown",
   "metadata": {
    "id": "X8euKD6ODOJn"
   },
   "source": [
    "**3.10 - Funções com resultado e funções nulas**\n",
    "\n",
    "Algumas funções que usamos, como as funções matemáticas, devolvem resultados. Outras funções, como print_twice, executam uma ação, mas não devolvem um valor. Elas são chamadas de **funções nulas**."
   ]
  },
  {
   "cell_type": "markdown",
   "metadata": {
    "id": "dJIJ6O7LDP5j"
   },
   "source": [
    "Quando você chama uma função no modo interativo, o Python exibe o resultado. Mas em um script, se você chamar uma função com resultado e mais nada, o valor de retorno é perdido."
   ]
  },
  {
   "cell_type": "code",
   "execution_count": 15,
   "metadata": {
    "colab": {
     "base_uri": "https://localhost:8080/"
    },
    "id": "sUjuATYgDDta",
    "outputId": "89f5487a-a142-450b-f8fd-eb8fc4713076"
   },
   "outputs": [
    {
     "data": {
      "text/plain": [
       "2.23606797749979"
      ]
     },
     "execution_count": 15,
     "metadata": {},
     "output_type": "execute_result"
    }
   ],
   "source": [
    "import math\n",
    "math.sqrt(5) # modo interativo, então retorna um valor."
   ]
  },
  {
   "cell_type": "markdown",
   "metadata": {
    "id": "iq_LxZT7DSxm"
   },
   "source": [
    "**3.11 - Por que funções?**"
   ]
  },
  {
   "cell_type": "code",
   "execution_count": 16,
   "metadata": {
    "colab": {
     "base_uri": "https://localhost:8080/"
    },
    "id": "J4h-7ztBDQ7h",
    "outputId": "095c5020-392e-49b8-cbab-b7cb57127b9a"
   },
   "outputs": [
    {
     "name": "stdout",
     "output_type": "stream",
     "text": [
      "Bing\n",
      "Bing\n",
      "None\n"
     ]
    }
   ],
   "source": [
    "result = print_twice('Bing')\n",
    "print(result)"
   ]
  },
  {
   "cell_type": "markdown",
   "metadata": {
    "id": "XhtBVCh3DWEy"
   },
   "source": [
    "A função **print_twice** imprime \"Bing\" duas vezes, e então print(result) imprime None, porque **print_twice** não retorna nenhum valor explícito, resultando em **None**."
   ]
  },
  {
   "cell_type": "markdown",
   "metadata": {
    "id": "WAc-6xLUDXiQ"
   },
   "source": [
    "**3.11 - Por que funções?**\n",
    "\n",
    "- Criar uma nova função dá a oportunidade de nomear um grupo de instruções, o que deixa o seu programa mais fácil de ler e de depurar.\n",
    "\n",
    "- As funções podem tornar um programa menor, eliminando o código repetitivo.\n",
    "Depois, se fizer alguma alteração, basta fazê-la em um lugar só.\n",
    "\n",
    "- Dividir um programa longo em funções permite depurar as partes uma de cada vez e então reuni-las em um conjunto funcional.\n",
    "\n",
    "- As funções bem projetadas muitas vezes são úteis para muitos programas. Uma vez que escreva e depure uma, você pode reutilizá-la."
   ]
  },
  {
   "cell_type": "markdown",
   "metadata": {
    "id": "Z3ykuU9TDY8m"
   },
   "source": [
    "**3.12 - Depuração**\n",
    "\n",
    "*Depurar é similar ao trabalho de um detetive. Você tem pistas e precisa\n",
    "inferir os processos e eventos que levaram aos resultados exibidos.*"
   ]
  },
  {
   "cell_type": "markdown",
   "metadata": {
    "id": "ZYZnKYdjDahI"
   },
   "source": [
    "**3.13 - Glossário**"
   ]
  },
  {
   "cell_type": "markdown",
   "metadata": {
    "id": "B3SnahjKDcBz"
   },
   "source": [
    "- função: Uma sequência nomeada de declarações que executa alguma operação útil. As funções podem receber argumentos ou não e podem ou não produzir algum resultado.\n",
    "\n",
    "- definição de função: Uma instrução que cria uma função nova, especificando seu nome, parâmetros e as instruções que contém.\n",
    "\n",
    "- objeto da função: Um valor é criado por uma definição de função. O nome da função é uma variável que se refere a um objeto de função.\n",
    "\n",
    "- cabeçalho: A primeira linha de uma definição de função.\n",
    "\n",
    "- corpo: A sequência de instruções dentro de uma definição de função.\n",
    "\n",
    "- parâmetro: Um nome usado dentro de uma função para se referir ao valor passado como argumento.\n",
    "\n",
    "- chamada de função: Uma instrução que executa uma função. É composta pelo nome da função seguido de uma lista de argumentos entre parênteses.\n",
    "\n",
    "- argumento: Um valor apresentado a uma função quando a função é chamada. Este valor é atribuído ao parâmetro correspondente na função.\n",
    "\n",
    "- variável local: Uma variável definida dentro de uma função. Uma variável local só pode ser usada dentro da sua função.\n",
    "\n",
    "- valor de retorno: O resultado de uma função. Se uma chamada de função for usada como uma expressão, o valor de retorno é o valor da expressão.\n",
    "\n",
    "- função com resultado: Uma função que devolve um valor.\n",
    "\n",
    "- função nula: Uma função que sempre devolve None.\n",
    "\n",
    "- None: Um valor especial apresentado por funções nulas.\n",
    "\n",
    "- módulo: Um arquivo que contém uma coleção de funções relacionadas e outras definições.\n",
    "\n",
    "- instrução de importação: Uma instrução que lê um arquivo de módulo e cria um objeto de módulo.\n",
    "\n",
    "- objeto de módulo: Um valor criado por uma instrução import que oferece acesso aos valores definidos em um módulo.\n",
    "\n",
    "- notação de ponto: A sintaxe para chamar uma função em outro módulo especificando o nome do módulo seguido de um ponto e o nome da função.\n",
    "\n",
    "- composição: O uso de uma expressão como parte de uma expressão maior ou de uma instrução como parte de uma instrução maior.\n",
    "\n",
    "- fluxo de execução: A ordem na qual as instruções são executadas.\n",
    "\n",
    "- diagrama da pilha: Representação gráfica de uma pilha de funções, suas variáveis e os valores a que se referem.\n",
    "\n",
    "- frame : Uma caixa em um diagrama da pilha que representa uma chamada de função. Contém as variáveis locais e os parâmetros da função.\n",
    "\n",
    "- traceback: Lista das funções que estão sendo executadas, exibidas quando ocorre uma exceção.\n"
   ]
  }
 ],
 "metadata": {
  "colab": {
   "authorship_tag": "ABX9TyP7/+LamrC6Oqy+QgUnylK9",
   "include_colab_link": true,
   "provenance": []
  },
  "kernelspec": {
   "display_name": "Python 3",
   "name": "python3"
  },
  "language_info": {
   "name": "python"
  }
 },
 "nbformat": 4,
 "nbformat_minor": 0
}
