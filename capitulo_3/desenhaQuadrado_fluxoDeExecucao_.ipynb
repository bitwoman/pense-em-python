{
  "nbformat": 4,
  "nbformat_minor": 0,
  "metadata": {
    "colab": {
      "provenance": [],
      "authorship_tag": "ABX9TyOGml4ujd+G6J8xvRfzaIOy",
      "include_colab_link": true
    },
    "kernelspec": {
      "name": "python3",
      "display_name": "Python 3"
    },
    "language_info": {
      "name": "python"
    }
  },
  "cells": [
    {
      "cell_type": "markdown",
      "metadata": {
        "id": "view-in-github",
        "colab_type": "text"
      },
      "source": [
        "<a href=\"https://colab.research.google.com/github/bitwoman/pense-em-python/blob/main/desenhaQuadrado_fluxoDeExecucao_.ipynb\" target=\"_parent\"><img src=\"https://colab.research.google.com/assets/colab-badge.svg\" alt=\"Open In Colab\"/></a>"
      ]
    },
    {
      "cell_type": "markdown",
      "source": [
        "# Explicando a solução do **Exercício 3.3 (1)**, página 40, utilizando fluxão de execução, que chama uma função dentro de outra função."
      ],
      "metadata": {
        "id": "E8UeoTIo6RoD"
      }
    },
    {
      "cell_type": "markdown",
      "source": [
        "**FUNÇÕES (BASE) GENÉRICAS:**"
      ],
      "metadata": {
        "id": "Q-qnQQLH2zAK"
      }
    },
    {
      "cell_type": "code",
      "source": [
        "# vai executar uma função 2x\n",
        "def do_twice(func):\n",
        "    func()\n",
        "    func()\n",
        "\n",
        "# vai executar uma função 4x, pois está chamando a função que executa 2x, 2x\n",
        "def do_four(func):\n",
        "    do_twice(func)\n",
        "    do_twice(func)"
      ],
      "metadata": {
        "id": "OhzPR2fb2yfw"
      },
      "execution_count": 3,
      "outputs": []
    },
    {
      "cell_type": "markdown",
      "source": [
        "**1º Passo:**"
      ],
      "metadata": {
        "id": "6NQeIHJs2aSt"
      }
    },
    {
      "cell_type": "code",
      "source": [
        "# desenha a linha + - - - -  sem finalizar com '+'\n",
        "def print_beam():\n",
        "    print('+', '- ' * 4, end='')\n",
        "\n",
        "print_beam()"
      ],
      "metadata": {
        "colab": {
          "base_uri": "https://localhost:8080/"
        },
        "id": "BInwqF1S2X13",
        "outputId": "31b12897-7586-45bb-8463-87418680f5f0"
      },
      "execution_count": 1,
      "outputs": [
        {
          "output_type": "stream",
          "name": "stdout",
          "text": [
            "+ - - - - "
          ]
        }
      ]
    },
    {
      "cell_type": "markdown",
      "source": [
        "**2º Passo:**"
      ],
      "metadata": {
        "id": "9-r5h1UO30UV"
      }
    },
    {
      "cell_type": "code",
      "source": [
        "# executa 2x print_beam, que é responsável por desenhar a linha superior/intermediária e inferior\n",
        "def print_beams():\n",
        "    do_twice(print_beam) # como é executado 2x, a linha fica assim  + - - - - + - - - -, necessitando finalizar com um '+'\n",
        "    print('+') # por isso, é acrescentado um '+' no final para finalizar a linha\n",
        "\n",
        "print_beams()"
      ],
      "metadata": {
        "colab": {
          "base_uri": "https://localhost:8080/"
        },
        "id": "IQaGxTEj2fIG",
        "outputId": "ad668946-0546-4cec-f30e-c83579be1aae"
      },
      "execution_count": 5,
      "outputs": [
        {
          "output_type": "stream",
          "name": "stdout",
          "text": [
            "+ - - - - + - - - - +\n"
          ]
        }
      ]
    },
    {
      "cell_type": "markdown",
      "source": [
        "**3º Passo:**"
      ],
      "metadata": {
        "id": "wFCgiUNr32vZ"
      }
    },
    {
      "cell_type": "code",
      "source": [
        "# desenha '|' (pipe) adicionando 5 espaços à sua frente\n",
        "def print_post():\n",
        "    print('|', '  ' * 4, end='') # '|         '\n",
        "\n",
        "print_post()"
      ],
      "metadata": {
        "colab": {
          "base_uri": "https://localhost:8080/"
        },
        "id": "pKx5Ta-124uD",
        "outputId": "f81f082d-11bc-4c87-c1c9-dd845101ab2f"
      },
      "execution_count": 6,
      "outputs": [
        {
          "output_type": "stream",
          "name": "stdout",
          "text": [
            "|         "
          ]
        }
      ]
    },
    {
      "cell_type": "markdown",
      "source": [
        "**4º Passo:**"
      ],
      "metadata": {
        "id": "nemZmc734Fpb"
      }
    },
    {
      "cell_type": "code",
      "source": [
        "# vai fazer o mesmo que foi feito na função print_beams, todavia, para desenhar as linhas de pipe (|)\n",
        "def print_posts():\n",
        "    do_twice(print_post) # vai desenhar 2x '|' com seus respectivos 5 espaços à frente. como é executado 2x, a linha fica assim '|         |         ', necessitando finalizar com um '|'\n",
        "    print('|') # e acrescentar um 3o '|' no final para finalizar uma linha\n",
        "\n",
        "print_posts()"
      ],
      "metadata": {
        "colab": {
          "base_uri": "https://localhost:8080/"
        },
        "id": "7ItnFv0M387I",
        "outputId": "6dcf4c75-ba03-4521-c878-fb7e350ffb35"
      },
      "execution_count": 8,
      "outputs": [
        {
          "output_type": "stream",
          "name": "stdout",
          "text": [
            "|         |         |\n"
          ]
        }
      ]
    },
    {
      "cell_type": "markdown",
      "source": [
        "**5º Passo:**"
      ],
      "metadata": {
        "id": "EI7OZmwi40Vg"
      }
    },
    {
      "cell_type": "code",
      "source": [
        "# > executa print_beams, que executa 2x print_beam (que desenha uma linha acrescentando um + no final)\n",
        "# > e executa do_four, que vai executar 4x print_posts, responsável por desenhar as paredes.\n",
        "def print_row():\n",
        "    print_beams() # vai desenhar a linha inteira '+ - - - - + - - - - +'\n",
        "    do_four(print_posts) # vai fazer as 4 linhas de paredes de pipe\n",
        "\n",
        "''' |         |         |\n",
        "    |         |         |\n",
        "    |         |         |\n",
        "    |         |         |\n",
        "'''\n",
        "\n",
        "# já é metade do desenho\n",
        "print_row()"
      ],
      "metadata": {
        "colab": {
          "base_uri": "https://localhost:8080/"
        },
        "id": "C57MXno84OCf",
        "outputId": "e0abee24-0323-4ef1-dff4-e3d266ef9711"
      },
      "execution_count": 11,
      "outputs": [
        {
          "output_type": "stream",
          "name": "stdout",
          "text": [
            "+ - - - - + - - - - +\n",
            "|         |         |\n",
            "|         |         |\n",
            "|         |         |\n",
            "|         |         |\n"
          ]
        }
      ]
    },
    {
      "cell_type": "markdown",
      "source": [
        "**6º Passo:**"
      ],
      "metadata": {
        "id": "8YD8nnc_5RYz"
      }
    },
    {
      "cell_type": "code",
      "source": [
        "# 'main' > responsável por desenhar toda a imagem\n",
        "def print_grid():\n",
        "    do_twice(print_row) # vai desenhar os 4 quadrados, sem a linha inferior\n",
        "    print_beams() # vai desenhar a linha inferior para finalizar o desenho\n",
        "\n",
        "print_grid()"
      ],
      "metadata": {
        "colab": {
          "base_uri": "https://localhost:8080/"
        },
        "id": "26C0HNaZ43JG",
        "outputId": "07a01bad-b95f-4028-8616-5527fac97650"
      },
      "execution_count": 15,
      "outputs": [
        {
          "output_type": "stream",
          "name": "stdout",
          "text": [
            "+ - - - - + - - - - +\n",
            "|         |         |\n",
            "|         |         |\n",
            "|         |         |\n",
            "|         |         |\n",
            "+ - - - - + - - - - +\n",
            "|         |         |\n",
            "|         |         |\n",
            "|         |         |\n",
            "|         |         |\n",
            "+ - - - - + - - - - +\n"
          ]
        }
      ]
    },
    {
      "cell_type": "code",
      "source": [],
      "metadata": {
        "id": "PVMn2-AK5aB1"
      },
      "execution_count": null,
      "outputs": []
    }
  ]
}