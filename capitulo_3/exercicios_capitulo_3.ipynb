{
 "cells": [
  {
   "cell_type": "markdown",
   "metadata": {},
   "source": [
    "# 3.14 - Exercícios - Capítulo 3"
   ]
  },
  {
   "cell_type": "markdown",
   "metadata": {},
   "source": [
    "<h2> Exercício 3.1 </h2>\n",
    "Escreva uma função chamada right_justify, que receba uma string chamada s como\n",
    "parâmetro e exiba a string com espaços suficientes à frente para que a última letra da string esteja na coluna 70 da tela.\n",
    "\n",
    "**Dica:** Use concatenação de strings e repetição. Além disso, o Python oferece uma função integrada chamada len, que apresenta o comprimento de uma string, então o valor de len('monty') é 5."
   ]
  },
  {
   "cell_type": "markdown",
   "metadata": {},
   "source": [
    "**COMPARANDO SOLUÇÕES:**"
   ]
  },
  {
   "cell_type": "markdown",
   "metadata": {},
   "source": [
    "**Solução própria:**"
   ]
  },
  {
   "cell_type": "code",
   "execution_count": 1,
   "metadata": {},
   "outputs": [],
   "source": [
    "# definição de função right_justify\n",
    "def right_justify(s):\n",
    "  print( ((70 - len(s)) * ' ')  + s)"
   ]
  },
  {
   "cell_type": "code",
   "execution_count": 2,
   "metadata": {},
   "outputs": [
    {
     "name": "stdout",
     "output_type": "stream",
     "text": [
      "                                                                 monty\n"
     ]
    }
   ],
   "source": [
    "# chamada da função\n",
    "right_justify('monty')"
   ]
  },
  {
   "cell_type": "markdown",
   "metadata": {},
   "source": [
    "**Solução do chatGPT**"
   ]
  },
  {
   "cell_type": "code",
   "execution_count": 3,
   "metadata": {},
   "outputs": [
    {
     "name": "stdout",
     "output_type": "stream",
     "text": [
      "                                                                 monty\n"
     ]
    }
   ],
   "source": [
    "def right_justify(s):\n",
    "    # Calcula o número de espaços necessários para que a string s termine na coluna 70\n",
    "    num_spaces = 70 - len(s)\n",
    "    # Concatena os espaços à frente da string\n",
    "    justified_string = ' ' * num_spaces + s\n",
    "    # Imprime a string justificada\n",
    "    print(justified_string)\n",
    "\n",
    "# Exemplo de uso\n",
    "right_justify('monty')"
   ]
  },
  {
   "cell_type": "markdown",
   "metadata": {},
   "source": [
    "`Exercício 3.2` Um objeto de função é um valor que pode ser atribuído a uma variável ou passado como argumento. Por exemplo, do_twice é uma função que toma um objeto de função como argumento e o chama duas vezes:\n",
    "\n",
    "```\n",
    "def do_twice(f):\n",
    "  f()\n",
    "  f()\n",
    "```\n",
    "\n",
    "Aqui está um exemplo que usa do_twice para chamar uma função chamada print_spam\n",
    "duas vezes:\n",
    "\n",
    "```\n",
    "def print_spam():\n",
    "  print('spam')\n",
    "  \n",
    "do_twice(print_spam)\n",
    "```\n",
    "1. Digite este exemplo em um script e teste-o."
   ]
  },
  {
   "cell_type": "code",
   "execution_count": 4,
   "metadata": {},
   "outputs": [
    {
     "name": "stdout",
     "output_type": "stream",
     "text": [
      "spam\n",
      "spam\n"
     ]
    }
   ],
   "source": [
    "# definição de função utilizando um objeto de função\n",
    "def do_twice(f):\n",
    "  f()\n",
    "  f()\n",
    "\n",
    "# definição de função\n",
    "def print_spam():\n",
    "  print('spam')\n",
    "\n",
    "do_twice(print_spam)"
   ]
  },
  {
   "cell_type": "markdown",
   "metadata": {},
   "source": [
    "2. Altere do_twice para que receba dois argumentos, um objeto de função e um valor, e chame a função duas vezes, passando o valor como um argumento."
   ]
  },
  {
   "cell_type": "code",
   "execution_count": 5,
   "metadata": {},
   "outputs": [],
   "source": [
    "# definição de função utilizando um objeto de função e um valor\n",
    "def do_twice(f, author):\n",
    "  f(author)\n",
    "  f(author)\n",
    "\n",
    " # definição de função\n",
    "def print_spam(author):\n",
    "  print(author)"
   ]
  },
  {
   "cell_type": "code",
   "execution_count": 6,
   "metadata": {},
   "outputs": [
    {
     "name": "stdout",
     "output_type": "stream",
     "text": [
      "Brenda\n",
      "Brenda\n"
     ]
    }
   ],
   "source": [
    "do_twice(print_spam, 'Brenda')"
   ]
  },
  {
   "cell_type": "markdown",
   "metadata": {},
   "source": [
    "3. Copie a definição de print_twice que aparece anteriormente neste capítulo no seu script."
   ]
  },
  {
   "cell_type": "markdown",
   "metadata": {},
   "source": [
    "```\n",
    "def print_twice(bruce):\n",
    "  print(bruce)\n",
    "  print(bruce)\n",
    "```\n",
    "\n"
   ]
  },
  {
   "cell_type": "markdown",
   "metadata": {},
   "source": [
    "4. Use a versão alterada de do_twice para chamar print_twice duas vezes, passando 'spam' como um argumento."
   ]
  },
  {
   "cell_type": "code",
   "execution_count": 7,
   "metadata": {},
   "outputs": [
    {
     "name": "stdout",
     "output_type": "stream",
     "text": [
      "Brenda\n",
      "Brenda\n",
      "Brenda\n",
      "Brenda\n"
     ]
    }
   ],
   "source": [
    "# definição de função utilizando um objeto de função e um valor\n",
    "def do_twice(f, author):\n",
    "  f(author)\n",
    "  f(author)\n",
    "\n",
    "def print_twice(bruce):\n",
    "  print(bruce)\n",
    "  print(bruce)\n",
    "\n",
    "do_twice(print_twice, 'Brenda')"
   ]
  },
  {
   "cell_type": "markdown",
   "metadata": {},
   "source": [
    "5. Defina uma função nova chamada do_four que receba um objeto de função e um\n",
    "valor e chame a função quatro vezes, passando o valor como um parâmetro. Deve\n",
    "haver só duas afirmações no corpo desta função, não quatro."
   ]
  },
  {
   "cell_type": "code",
   "execution_count": 8,
   "metadata": {},
   "outputs": [
    {
     "name": "stdout",
     "output_type": "stream",
     "text": [
      "spam\n",
      "spam\n",
      "spam\n",
      "spam\n"
     ]
    }
   ],
   "source": [
    "# definição de função que recebe um objeto de função e um valor\n",
    "def do_four(func, arg):\n",
    "    do_twice(func, arg)\n",
    "    do_twice(func, arg)\n",
    "\n",
    "def do_twice(f, author):\n",
    "  f(author)\n",
    "  f(author)\n",
    "\n",
    "def print_once(s):\n",
    "    print(s)\n",
    "\n",
    "do_four(print_once, 'spam')"
   ]
  },
  {
   "cell_type": "markdown",
   "metadata": {},
   "source": [
    "`Exercício 3.3`\n",
    "Nota: Este exercício deve ser feito usando-se apenas as instruções e os outros\n",
    "recursos que aprendemos até agora.\n",
    "\n",
    "1. Escreva uma função que desenhe uma grade como a seguinte:\n",
    "\n",
    "![image.png](data:image/png;base64,iVBORw0KGgoAAAANSUhEUgAAAQkAAADmCAIAAABJb+fQAAANGklEQVR4Ae2dv2uVaxaFQ0AUURgQFMFCsbS3FAYstLQcWwub/AvaO8UwhZ0EIcRqwJ9oJdppMSBiMV6rEZlCBDUEQyIxZMiJHxFzyfnes9ZZaydnncoT3/3uvZ/nrARy+a5T63mFQAj8GYGpP/tivhYCIbDOz8b3l9fPnbl6fzlw+xEIr36cfp4S4uJnY+XZzKlDl+aXmjae4MPh1SRfiCvZaDIzhsNC2WOYXn6lEBcrGyvvnt6ZG7xuX7tw9MDZmdnNd/OPXn+W89sFDXfgtQuml49owcXKxqe5y6dPbL6OHd43ffDIzzcnz99404/k2sdXT+7d7V4PXrxf7Vc3OGUrHrXxDrx6rj1q543rkVpLMY6rJ9Vfj7GysXXnqD/0lh9fOT491b32X7z1ZevOoX+yFUONB2s5eEFT+4o3eI2Ka+hHaPuBOtlYX11aXPjavRa+tfzYWPcVQ1NDspHOSK2PNYRr+2d/2FcKZWPYqHv074XfCPcCQSEufjZ+fHg+e/Ph27Zv+3vB2og7hFcTOCEufjaaNs3hEChLINkoqyaDmQkkG2YBaV+WQLJRVk0GMxNINswC0r4sgWSjrJoMZiaQbJgFpH1ZAslGWTUZzExgDNlY/N/b//z3c/7bX1+z4dWX1OCcDhc/G0v/+ttf9v/1nx/Wmjae3MMdr8kl0LS5EFey0WRmDIeFsscwvfxKIa5kQ273t4ZC2b913pVvhbiSDfcnRCjbvSqjvxBXssEQhtwhlI2MWaVWiCvZcEsXynavyugvxJVsMIQhdwhlI2NWqRXiSjbc0oWy3asy+gtxJRsMYcgdQtnImFVqhbiSDbd0oWz3qoz+QlzJBkMYcodQNjJmlVohrmTDLV0o270qo78QV7LBEIbcIZSNjFmlVogr2XBLF8p2r8roL8SVbDCEIXcIZSNjVqkV4uJnY/WP+//4+51/L1aBWX2O8GoyJMTFz0bTpjkcAmUJJBtl1WQwM4Fkwywg7csSGEM2dA/0lqXaNFh4FcXFz0b3i4Q8L95Pecer3+mJPyXElWy4P21C2e5VGf2FuJINhjDkDqFsZMwqtUJcyYZbulC2e1VGfyGuZIMhDLlDKBsZs0qtEFey4ZYulO1eldFfiCvZYAhD7hDKRsasUivElWy4pQtlu1dl9BfiSjYYwpA7hLKRMavUCnElG27pQtnuVRn9hbiSDYYw5A6hbGTMKrVCXMmGW7pQtntVRn8hrmSDIQy5QygbGbNKrRBXsuGWLpTtXpXRX4gr2WAIQ+4QykbGrFIrxMXPhvCB3iq+oDnCqwmfEBc/G02b5nAIlCWQbJRVk8HMBJINs4C0L0tgDNnI889ttsOriZcOFz8b3S8S8rx4P+Udr36nJ/6UEFey4f60CWW7V2X0F+JKNhjCkDuEspExq9QKcSUbbulC2e5VGf2FuJINhjDkDqFsZMwqtUJcyYZbulC2e1VGfyGuZIMhDLlDKBsZs0qtEFey4ZYulO1eldFfiCvZYAhD7hDKRsasUivElWy4pQtlu1dl9BfiSjYYwpA7hLKRMavUCnElG27pQtnuVRn9hbiSDYYw5A6hbGTMKrVCXMmGW7pQtntVRn8hrmSDIQy5QygbGbNKrRAXPxvCB3qr+ILmCK8mfEJc/Gw0bZrDIVCWQLJRVk0GMxNINswC0r4sgTFkQ/dAb1mqTYOFV1Fc/Gx0v0jI8+L9lHe8+p2e+FNCXMmG+9MmlO1eldFfiCvZYAhD7hDKRsasUivElWy4pQtlu1dl9BfiSjYYwpA7hLKRMavUCnElG27pQtnuVRn9hbiSDYYw5A6hbGTMKrVCXMmGW7pQtntVRn8hrmSDIQy5QygbGbNKrRBXsuGWLpTtXpXRX4gr2WAIQ+4QykbGrFIrxJVsuKULZbtXZfQX4ko2GMKQO4SykTGr1ApxJRtu6ULZ7lUZ/YW4kg2GMOQOoWxkzCq1Qlz8bAgf6K3iC5ojvJrwCXHxs9G0aQ6HQFkCyUZZNRnMTCDZMAtI+7IEko2yajKYmUCyYRaQ9mUJJBtl1WQwMwF+Nr6/vH7uzNX7y+bFdk378GpSJcTFz8bKs5lThy7NLzVtPMGHw6tJvhBXstFkZgyHhbLHML38SiEuVjZW3j29Mzd43b524eiBszOzm+/mH73+LOe3CxruwGsXTC8f0YKLlY1Pc5dPn9h8HTu8b/rgkZ9vTp6/8aYfybWPr57cu9u9Hrx4v9qvbnDKVjxq4x149Vx71M4b1yO1lmIcV0+qvx5jZWPrzlF/6C0/vnJ8eqp77b9468vWnUP/ZCuGGg/WcvCCpvYVb/AaFdfQj9D2A3Wysb66tLjwtXstfGv5sbHuK4amhmQjnZFaH2sI1/bP/rCvFMrGsFH36N8LvxHuBYJCXPxs/PjwfPbmw7dt3/b3grURdwivJnBCXPxsNG2awyFQlkCyUVZNBjMTSDbMAtK+LIFko6yaDGYmkGyYBaR9WQLJRlk1GcxMINkwC0j7sgSSjbJqMpiZQLJhFpD2ZQmMIRv5t+TbbIdXEy8dLn42uv8p41rTxpN7uOM1uQSaNhfiSjaazIzhsFD2GKaXXynElWzI7f7WUCj7t8678q0QV7Lh/oQIZbtXZfQX4ko2GMKQO4SykTGr1ApxJRtu6ULZ7lUZ/YW4kg2GMOQOoWxkzCq1QlzJhlu6ULZ7VUZ/Ia5kgyEMuUMoGxmzSq0QV7Lhli6U7V6V0V+IK9lgCEPuEMpGxqxSK8SVbLilC2W7V2X0F+JKNhjCkDuEspExq9QKcSUbbulC2e5VGf2FuJINhjDkDqFsZMwqtUJc/GwI/3H0Kr6gOcKrCZ8QFz8bTZvmcAiUJZBslFWTwcwEkg2zgLQvS2AM2dA90FuWatNg4VUUFz8b3S8S8rx4P+Udr36nJ/6UEFey4f60CWW7V2X0F+JKNhjCkDuEspExq9QKcSUbbulC2e5VGf2FuJINhjDkDqFsZMwqtUJcyYZbulC2e1VGfyGuZIMhDLlDKBsZs0qtEFey4ZYulO1eldFfiCvZYAhD7hDKRsasUivElWy4pQtlu1dl9BfiSjYYwpA7hLKRMavUCnElG27pQtnuVRn9hbiSDYYw5A6hbGTMKrVCXMmGW7pQtntVRn8hrmSDIQy5QygbGbNKrRAXPxvCB3qr+ILmCK8mfEJc/Gw0bZrDIVCWQLJRVk0GMxNINswC0r4sgTFkI88/t9kOryZeOlz8bHS/SMjz4v2Ud7z6nZ74U0JcyYb70yaU7V6V0V+IK9lgCEPuEMpGxqxSK8SVbLilC2W7V2X0F+JKNhjCkDuEspExq9QKcSUbbulC2e5VGf2FuJINhjDkDqFsZMwqtUJcyYZbulC2e1VGfyGuZIMhDLlDKBsZs0qtEFey4ZYulO1eldFfiCvZYAhD7hDKRsasUivElWy4pQtlu1dl9BfiSjYYwpA7hLKRMavUCnElG27pQtnuVRn9hbiSDYYw5A6hbGTMKrVCXPxsCB/oreILmiO8mvAJcfGz0bRpDodAWQLJRlk1GcxMINkwC0j7sgTGkA3dA71lqTYNFl5FcfGz0f0iIc+L91Pe8ep3euJPCXElG+5Pm1C2e1VGfyGuZIMhDLlDKBsZs0qtEFey4ZYulO1eldFfiCvZYAhD7hDKRsasUivElWy4pQtlu1dl9BfiSjYYwpA7hLKRMavUCnElG27pQtnuVRn9hbiSDYYw5A6hbGTMKrVCXMmGW7pQtntVRn8hrmSDIQy5QygbGbNKrRBXsuGWLpTtXpXRX4gr2WAIQ+4QykbGrFIrxJVsuKULZbtXZfQX4ko2GMKQO4SykTGr1Apx8bMhfKC3ii9ojvBqwifExc9G06Y5HAJlCSQbZdVkMDOBZMMsIO3LEkg2yqrJYGYCyYZZQNqXJZBslFWTwcwE+Nn4/vL6uTNX7y+bF9s17cOrSZUQFz8bK89mTh26NL/UtPEEHw6vJvlCXMlGk5kxHBbKHsP08iuFuFjZWHn39M7c4HX72oWjB87OzG6+m3/0+rOc3y5ouAOvXTC9fEQLLlY2Ps1dPn1i83Xs8L7pg0d+vjl5/sabfiTXPr56cu9u93rw4v1qv7rBKVvxqI134NVz7VE7b1yP1FqKcVw9qf56jJWNrTtH/aG3/PjK8emp7rX/4q0vW3cO/ZOtGGo8WMvBC5raV7zBa1RcQz9C2w/Uycb66tLiwtfutfCt5cfGuq8YmhqSjXRGan2sIVzbP/vDvlIoG8NG3aN/L/xGuBcICnHxs/Hjw/PZmw/ftn3b3wvWRtwhvJrACXHxs9G0aQ6HQFkCyUZZNRnMTCDZMAtI+7IEko2yajKYmUCyYRaQ9mUJJBtl1WQwM4Fkwywg7csSSDbKqslgZgLJhllA2pclkGyUVZPBzASSDbOAtC9LINkoqyaDmQkkG2YBaV+WQLJRVk0GMxNINswC0r4sgWSjrJoMZiaQbJgFpH1ZAslGWTUZzEzg/4lcqC8Bl/rJAAAAAElFTkSuQmCC)"
   ]
  },
  {
   "cell_type": "markdown",
   "metadata": {},
   "source": [
    "**Dica**: para exibir mais de um valor em uma linha, podemos usar uma sequência de valores separados por vírgula: `print('+', '-')`.\n",
    "\n",
    "Por padrão, print avança para a linha seguinte, mas podemos ignorar esse\n",
    "comportamento e inserir um espaço no fim, desta forma: python print('+', end='\n",
    "') print('-'). A saída dessas instruções é + -. Uma instrução print sem argumento\n",
    "termina a linha atual e vai para a próxima linha."
   ]
  },
  {
   "cell_type": "markdown",
   "metadata": {},
   "source": [
    "**COMPARANDO SOLUÇÕES**"
   ]
  },
  {
   "cell_type": "markdown",
   "metadata": {},
   "source": [
    "**ESBOÇO DE SOLUÇÃO**"
   ]
  },
  {
   "cell_type": "code",
   "execution_count": 9,
   "metadata": {},
   "outputs": [
    {
     "name": "stdout",
     "output_type": "stream",
     "text": [
      "+  -  -  -  -  + -  -  -  -  +\n",
      "|              |             |\n",
      "|              |             |\n",
      "|              |             |\n",
      "|              |             |\n",
      "+  -  -  -  -  + -  -  -  -  +\n"
     ]
    }
   ],
   "source": [
    "# linha superior\n",
    "print('+', ' - ' * 4, '+', end='')\n",
    "print(' - ' * 4, '+')\n",
    "\n",
    "# linhas intermediárias\n",
    "print('|', ' ' * 12, '|', ' ' * 11, '|')\n",
    "print('|', ' ' * 12, '|', ' ' * 11, '|')\n",
    "print('|', ' ' * 12, '|', ' ' * 11, '|')\n",
    "print('|', ' ' * 12, '|', ' ' * 11, '|')\n",
    "\n",
    "# linha de sepração\n",
    "print('+', ' - ' * 4, '+', end='')\n",
    "print(' - ' * 4, '+')"
   ]
  },
  {
   "cell_type": "markdown",
   "metadata": {},
   "source": [
    "**Solução própria: não bem sucedida**"
   ]
  },
  {
   "cell_type": "code",
   "execution_count": 10,
   "metadata": {},
   "outputs": [
    {
     "name": "stdout",
     "output_type": "stream",
     "text": [
      "+  -  -  -  -  + -  -  -  -  +\n",
      "|              |             |\n",
      "|              |             |\n",
      "|              |             |\n",
      "|              |             |\n",
      "+  -  -  -  -  + -  -  -  -  +\n",
      "+  -  -  -  -  + -  -  -  -  +\n",
      "|              |             |\n",
      "|              |             |\n",
      "|              |             |\n",
      "|              |             |\n",
      "+  -  -  -  -  + -  -  -  -  +\n"
     ]
    }
   ],
   "source": [
    "# definição de função que recebe um objeto de função\n",
    "def do_four(func):\n",
    "    do_twice(func)\n",
    "    #do_twice(func)\n",
    "\n",
    "def do_twice(f):\n",
    "  f()\n",
    "  f()\n",
    "\n",
    "def print_once():\n",
    "    # linha superior\n",
    "    print('+', ' - ' * 4, '+', end='')\n",
    "    print(' - ' * 4, '+')\n",
    "\n",
    "    # linhas intermediárias\n",
    "    print('|', ' ' * 12, '|', ' ' * 11, '|')\n",
    "    print('|', ' ' * 12, '|', ' ' * 11, '|')\n",
    "    print('|', ' ' * 12, '|', ' ' * 11, '|')\n",
    "    print('|', ' ' * 12, '|', ' ' * 11, '|')\n",
    "\n",
    "    # linha de sepração\n",
    "    print('+', ' - ' * 4, '+', end='')\n",
    "    print(' - ' * 4, '+')\n",
    "\n",
    "do_four(print_once)"
   ]
  },
  {
   "cell_type": "markdown",
   "metadata": {},
   "source": [
    "**Solução do chatGPT:**"
   ]
  },
  {
   "cell_type": "code",
   "execution_count": 11,
   "metadata": {},
   "outputs": [
    {
     "name": "stdout",
     "output_type": "stream",
     "text": [
      "+ - - - - + - - - - +\n",
      "|         |         |\n",
      "|         |         |\n",
      "|         |         |\n",
      "|         |         |\n",
      "+ - - - - + - - - - +\n",
      "|         |         |\n",
      "|         |         |\n",
      "|         |         |\n",
      "|         |         |\n",
      "+ - - - - + - - - - +\n"
     ]
    }
   ],
   "source": [
    "def do_four(func):\n",
    "    do_twice(func)\n",
    "    do_twice(func)\n",
    "\n",
    "def do_twice(func):\n",
    "    func()\n",
    "    func()\n",
    "\n",
    "def print_grid():\n",
    "    do_twice(print_row)\n",
    "    print_beams()\n",
    "\n",
    "def print_row():\n",
    "    print_beams()\n",
    "    do_four(print_posts)\n",
    "\n",
    "def print_posts():\n",
    "    do_twice(print_post)\n",
    "    print('|')\n",
    "\n",
    "def print_beams():\n",
    "    do_twice(print_beam)\n",
    "    print('+')\n",
    "\n",
    "def print_post():\n",
    "    print('|', '  ' * 4, end='')\n",
    "\n",
    "def print_beam():\n",
    "    print('+', '- ' * 4, end='')\n",
    "\n",
    "\n",
    "# Executar a função para desenhar a grade\n",
    "print_grid()"
   ]
  },
  {
   "cell_type": "markdown",
   "metadata": {},
   "source": [
    "**EXPLICAÇÃO PASSO A PASSO:**"
   ]
  },
  {
   "cell_type": "code",
   "execution_count": 12,
   "metadata": {},
   "outputs": [],
   "source": [
    "# 'main' > responsável por desenhar toda a imagem\n",
    "def print_grid():\n",
    "    do_twice(print_row)\n",
    "    print_beams()\n",
    "\n",
    "# vai executar uma função 2x\n",
    "def do_twice(func):\n",
    "    func()\n",
    "    func()\n",
    "\n",
    "# vai executar uma função 4x, pois está chamando a função que executa 2x, 2x\n",
    "def do_four(func):\n",
    "    do_twice(func)\n",
    "    do_twice(func)\n",
    "\n",
    "# > executa print_beams, que executa 2x print_beam (que desenha uma linha acrescentando um + no final)\n",
    "# > e executa do_four, que vai executar 4x print_posts, responsável por desenhar as paredes.\n",
    "def print_row():\n",
    "    print_beams()\n",
    "    do_four(print_posts)\n",
    "\n",
    "def print_posts():\n",
    "    do_twice(print_post) # vai desenhar 2x '|' com seus respectivos 5 espaços à frente,\n",
    "    print('|') # e acrescentar um 3o '|' no final para finalizar uma linha\n",
    "\n",
    "# desenha '|' adicionando 5 espaços à sua frente\n",
    "def print_post():\n",
    "    print('|', '  ' * 4, end='')\n",
    "\n",
    "# executa 2x print_beam, que é responsável por desenhar a linha superior/intermediária e inferior\n",
    "def print_beams():\n",
    "    do_twice(print_beam)\n",
    "    print('+') # acrescentando um '+' no final para finalizar uma linha\n",
    "\n",
    "def print_beam():\n",
    "    print('+', '- ' * 4, end='') # desenha a linha sem finalizar com '+'"
   ]
  },
  {
   "cell_type": "markdown",
   "metadata": {},
   "source": [
    "**2. Escreva uma função que desenhe uma grade semelhante com quatro linhas e quatro colunas.**"
   ]
  },
  {
   "cell_type": "markdown",
   "metadata": {},
   "source": [
    "**Funções base:**"
   ]
  },
  {
   "cell_type": "code",
   "execution_count": 13,
   "metadata": {},
   "outputs": [],
   "source": [
    "# vai executar uma função 2x\n",
    "def do_twice(func):\n",
    "    func()\n",
    "    func()\n",
    "\n",
    "# vai executar uma função 4x, pois está chamando a função que executa 2x, 2x\n",
    "def do_four(func):\n",
    "    do_twice(func)\n",
    "    do_twice(func)"
   ]
  },
  {
   "cell_type": "code",
   "execution_count": 14,
   "metadata": {},
   "outputs": [
    {
     "name": "stdout",
     "output_type": "stream",
     "text": [
      "+ - - - - "
     ]
    }
   ],
   "source": [
    "def print_beam():\n",
    "    print('+', '- ' * 4, end='') # desenha a linha sem finalizar com '+'\n",
    "\n",
    "print_beam()"
   ]
  },
  {
   "cell_type": "code",
   "execution_count": 15,
   "metadata": {},
   "outputs": [
    {
     "name": "stdout",
     "output_type": "stream",
     "text": [
      "+ - - - - + - - - - + - - - - + - - - - +\n"
     ]
    }
   ],
   "source": [
    "# executa 4x print_beam, que é responsável por desenhar a linha superior/intermediária e inferior\n",
    "def print_beams():\n",
    "    do_four(print_beam) #do_twice(print_beam)\n",
    "    print('+') # acrescentando um '+' no final para finalizar uma linha\n",
    "\n",
    "print_beams()"
   ]
  },
  {
   "cell_type": "code",
   "execution_count": 16,
   "metadata": {},
   "outputs": [
    {
     "name": "stdout",
     "output_type": "stream",
     "text": [
      "|         "
     ]
    }
   ],
   "source": [
    "# desenha '|' adicionando 5 espaços à sua frente\n",
    "def print_post():\n",
    "    print('|', '  ' * 4, end='')\n",
    "\n",
    "print_post() # '|         '"
   ]
  },
  {
   "cell_type": "code",
   "execution_count": 17,
   "metadata": {},
   "outputs": [
    {
     "name": "stdout",
     "output_type": "stream",
     "text": [
      "|         |         |         |         |\n"
     ]
    }
   ],
   "source": [
    "def print_posts():\n",
    "    do_four(print_post) #do_four(print_post) # vai desenhar 4x '|' com seus respectivos 5 espaços à frente,\n",
    "    print('|') # e acrescentar um 5o '|' no final para finalizar uma linha\n",
    "\n",
    "print_posts()"
   ]
  },
  {
   "cell_type": "code",
   "execution_count": 18,
   "metadata": {},
   "outputs": [
    {
     "name": "stdout",
     "output_type": "stream",
     "text": [
      "+ - - - - + - - - - + - - - - + - - - - +\n",
      "|         |         |         |         |\n",
      "|         |         |         |         |\n",
      "|         |         |         |         |\n",
      "|         |         |         |         |\n"
     ]
    }
   ],
   "source": [
    "# > executa print_beams, que executa 4x print_beam (que desenha uma linha acrescentando um + no final)\n",
    "# > e executa do_four, que vai executar 4x print_posts, responsável por desenhar as paredes.\n",
    "def print_row():\n",
    "    print_beams()\n",
    "    do_four(print_posts)\n",
    "\n",
    "print_row()"
   ]
  },
  {
   "cell_type": "code",
   "execution_count": 19,
   "metadata": {},
   "outputs": [
    {
     "name": "stdout",
     "output_type": "stream",
     "text": [
      "+ - - - - + - - - - + - - - - + - - - - +\n",
      "|         |         |         |         |\n",
      "|         |         |         |         |\n",
      "|         |         |         |         |\n",
      "|         |         |         |         |\n",
      "+ - - - - + - - - - + - - - - + - - - - +\n",
      "|         |         |         |         |\n",
      "|         |         |         |         |\n",
      "|         |         |         |         |\n",
      "|         |         |         |         |\n",
      "+ - - - - + - - - - + - - - - + - - - - +\n",
      "|         |         |         |         |\n",
      "|         |         |         |         |\n",
      "|         |         |         |         |\n",
      "|         |         |         |         |\n",
      "+ - - - - + - - - - + - - - - + - - - - +\n",
      "|         |         |         |         |\n",
      "|         |         |         |         |\n",
      "|         |         |         |         |\n",
      "|         |         |         |         |\n",
      "+ - - - - + - - - - + - - - - + - - - - +\n"
     ]
    }
   ],
   "source": [
    "# 'main' > responsável por desenhar toda a imagem\n",
    "def print_grid():\n",
    "    do_four(print_row) #do_twice(print_row)\n",
    "    print_beams()\n",
    "\n",
    "print_grid()"
   ]
  }
 ],
 "metadata": {
  "kernelspec": {
   "display_name": "base",
   "language": "python",
   "name": "python3"
  },
  "language_info": {
   "codemirror_mode": {
    "name": "ipython",
    "version": 3
   },
   "file_extension": ".py",
   "mimetype": "text/x-python",
   "name": "python",
   "nbconvert_exporter": "python",
   "pygments_lexer": "ipython3",
   "version": "3.9.13"
  }
 },
 "nbformat": 4,
 "nbformat_minor": 2
}
