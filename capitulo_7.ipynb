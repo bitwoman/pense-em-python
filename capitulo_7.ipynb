{
  "nbformat": 4,
  "nbformat_minor": 0,
  "metadata": {
    "colab": {
      "provenance": [],
      "authorship_tag": "ABX9TyNg+3fPSj4LuHgeXFd5JP//",
      "include_colab_link": true
    },
    "kernelspec": {
      "name": "python3",
      "display_name": "Python 3"
    },
    "language_info": {
      "name": "python"
    }
  },
  "cells": [
    {
      "cell_type": "markdown",
      "metadata": {
        "id": "view-in-github",
        "colab_type": "text"
      },
      "source": [
        "<a href=\"https://colab.research.google.com/github/bitwoman/pense-em-python/blob/main/capitulo_7.ipynb\" target=\"_parent\"><img src=\"https://colab.research.google.com/assets/colab-badge.svg\" alt=\"Open In Colab\"/></a>"
      ]
    },
    {
      "cell_type": "markdown",
      "source": [
        "# **ESTUDO DO LIVRO \"Pense em Python\", DO AUTOR ALLEN B. DOWNEY**\n",
        "\n",
        "<p> Estudos iniciados em 20-06-2024. </p>"
      ],
      "metadata": {
        "id": "y2PdR14L2L41"
      }
    },
    {
      "cell_type": "markdown",
      "source": [
        "# Capítulo 7: Iteração"
      ],
      "metadata": {
        "id": "xSqrn7UM2TFS"
      }
    },
    {
      "cell_type": "markdown",
      "source": [
        "<h2> 7.1 - Reatribuição </h2>"
      ],
      "metadata": {
        "id": "RIuhfL4F2uOO"
      }
    },
    {
      "cell_type": "code",
      "execution_count": null,
      "metadata": {
        "id": "fEvCDZQp2LJ_"
      },
      "outputs": [],
      "source": []
    }
  ]
}