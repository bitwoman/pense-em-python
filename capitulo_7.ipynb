{
  "nbformat": 4,
  "nbformat_minor": 0,
  "metadata": {
    "colab": {
      "provenance": [],
      "authorship_tag": "ABX9TyN28u3LDYB1hW0qekLfHEJD",
      "include_colab_link": true
    },
    "kernelspec": {
      "name": "python3",
      "display_name": "Python 3"
    },
    "language_info": {
      "name": "python"
    }
  },
  "cells": [
    {
      "cell_type": "markdown",
      "metadata": {
        "id": "view-in-github",
        "colab_type": "text"
      },
      "source": [
        "<a href=\"https://colab.research.google.com/github/bitwoman/pense-em-python/blob/main/capitulo_7.ipynb\" target=\"_parent\"><img src=\"https://colab.research.google.com/assets/colab-badge.svg\" alt=\"Open In Colab\"/></a>"
      ]
    },
    {
      "cell_type": "markdown",
      "source": [
        "# **ESTUDO DO LIVRO \"Pense em Python\", DO AUTOR ALLEN B. DOWNEY**\n",
        "\n",
        "<p> Estudos iniciados em 20-06-2024. </p>"
      ],
      "metadata": {
        "id": "y2PdR14L2L41"
      }
    },
    {
      "cell_type": "markdown",
      "source": [
        "# Capítulo 7: Iteração"
      ],
      "metadata": {
        "id": "xSqrn7UM2TFS"
      }
    },
    {
      "cell_type": "markdown",
      "source": [
        "<h2> 7.1 - Reatribuição </h2>\n",
        "\n",
        "Pode ser que você já tenha descoberto que é permitido fazer mais de uma atribuição para a mesma variável. Uma nova atribuição faz uma variável existente referir-se a um novo valor (e deixar de referir-se ao valor anterior)."
      ],
      "metadata": {
        "id": "RIuhfL4F2uOO"
      }
    },
    {
      "cell_type": "code",
      "execution_count": null,
      "metadata": {
        "colab": {
          "base_uri": "https://localhost:8080/"
        },
        "id": "fEvCDZQp2LJ_",
        "outputId": "c9cb3c11-4e15-4b5c-c32e-4ef42a8ed7e4"
      },
      "outputs": [
        {
          "output_type": "stream",
          "name": "stdout",
          "text": [
            "5\n",
            "7\n"
          ]
        }
      ],
      "source": [
        "x = 5\n",
        "print(x)\n",
        "\n",
        "# A primeira vez que exibimos x, seu valor é 5; na segunda vez, seu valor é 7\n",
        "\n",
        "x = 7\n",
        "print(x)"
      ]
    },
    {
      "cell_type": "markdown",
      "source": [
        "Como o Python usa o sinal de igual (=) para atribuição, é tentador interpretar uma afirmação como a = b como uma proposição matemática de igualdade; isto é, a declaração de que a e b são iguais. Mas esta é uma interpretação equivocada.\n",
        "Em primeiro lugar, a igualdade é uma relação simétrica e a atribuição não é. Por exemplo, na matemática, se a=7 então 7=a. Mas no Python, a instrução a = 7 é legal e 7 = a não é."
      ],
      "metadata": {
        "id": "VWxz2Bq65hrA"
      }
    },
    {
      "cell_type": "markdown",
      "source": [
        "Além disso, na matemática, uma proposição de igualdade é verdadeira ou falsa para sempre. Se a=b agora, então a sempre será igual a b. No Python, uma instrução de atribuição pode tornar duas variáveis iguais, mas elas não precisam se manter assim:"
      ],
      "metadata": {
        "id": "LhH9rlyC5xqP"
      }
    },
    {
      "cell_type": "code",
      "source": [
        "a = 5\n",
        "b = a # a e b agora são iguais\n",
        "a = 3 # a e b não são mais iguais > modifica o valor de a, mas não muda o valor de b, então elas já não são iguais.\n",
        "b"
      ],
      "metadata": {
        "colab": {
          "base_uri": "https://localhost:8080/"
        },
        "id": "LJGrITRg37I8",
        "outputId": "5031d75e-8a2c-49e7-800a-8eaea1390056"
      },
      "execution_count": null,
      "outputs": [
        {
          "output_type": "execute_result",
          "data": {
            "text/plain": [
              "5"
            ]
          },
          "metadata": {},
          "execution_count": 54
        }
      ]
    },
    {
      "cell_type": "markdown",
      "source": [
        "A reatribuição de variáveis muitas vezes é útil, mas você deve usá-la com prudência. Se os valores das variáveis mudarem frequentemente, isso pode dificultar a leitura e depuração do código.\n",
        "\n",
        "\n",
        "![image.png](data:image/png;base64,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)\n"
      ],
      "metadata": {
        "id": "4CUjeqjL6BNo"
      }
    },
    {
      "cell_type": "markdown",
      "source": [
        "<h2> 7.2 - Atualização de variáveis </h2>"
      ],
      "metadata": {
        "id": "wspN6hAX6QXI"
      }
    },
    {
      "cell_type": "markdown",
      "source": [
        "Um tipo comum de reatribuição é uma atualização, onde o novo valor da variável depende do velho.\n",
        "\n",
        "`x = x + 1`\n",
        "\n",
        "Isso significa “pegue o valor atual de x, acrescente um, e então atualize x para o novo valor”."
      ],
      "metadata": {
        "id": "6fmNYfqE6YJj"
      }
    },
    {
      "cell_type": "markdown",
      "source": [
        "Se você tentar atualizar uma variável que não existe, recebe um erro porque o Python avalia o lado direito antes de atribuir um valor a y:"
      ],
      "metadata": {
        "id": "hA6H0ZxZ6kFb"
      }
    },
    {
      "cell_type": "code",
      "source": [
        "y = y + 1 # NameError: name 'x' is not defined"
      ],
      "metadata": {
        "id": "jOaQfXaT53Ik"
      },
      "execution_count": null,
      "outputs": []
    },
    {
      "cell_type": "markdown",
      "source": [
        "Antes de poder atualizar uma variável é preciso inicializá-la, normalmente com uma atribuição simples:"
      ],
      "metadata": {
        "id": "QrBKm4PJ6zIu"
      }
    },
    {
      "cell_type": "code",
      "source": [
        "y = 0\n",
        "y = y + 1"
      ],
      "metadata": {
        "id": "yNinjdbq6ncM"
      },
      "execution_count": null,
      "outputs": []
    },
    {
      "cell_type": "markdown",
      "source": [
        "```\n",
        "Atualizar uma variável acrescentando 1 chama-se incremento; subtrair 1 chama-se\n",
        "decremento.\n",
        "```"
      ],
      "metadata": {
        "id": "RwXvqwGG64ir"
      }
    },
    {
      "cell_type": "markdown",
      "source": [
        "<h2> 7.3 - Instrução while </h2>\n"
      ],
      "metadata": {
        "id": "6UlpNS9N6_iM"
      }
    },
    {
      "cell_type": "markdown",
      "source": [
        "Aqui está uma versão de countdown que usa a instrução while:"
      ],
      "metadata": {
        "id": "73-e0vB17lSI"
      }
    },
    {
      "cell_type": "code",
      "source": [
        "def countdown(n):\n",
        "  '''\n",
        "    “Enquanto n for maior que 0, mostre o valor de n e então decremente n. Quando chegar a\n",
        "     0, mostre a palavra Blastoff! (docstring - explica a função)\n",
        "  '''\n",
        "\n",
        "  while n > 0:\n",
        "    print(n)\n",
        "    n = n - 1\n",
        "\n",
        "  print('Blastoff!')"
      ],
      "metadata": {
        "id": "84SnQNfq62w5"
      },
      "execution_count": null,
      "outputs": []
    },
    {
      "cell_type": "code",
      "source": [
        "countdown(4)"
      ],
      "metadata": {
        "colab": {
          "base_uri": "https://localhost:8080/"
        },
        "id": "C7SOB5Eh7pAf",
        "outputId": "0237327c-cb30-4000-82c8-5ffd6e9139de"
      },
      "execution_count": null,
      "outputs": [
        {
          "output_type": "stream",
          "name": "stdout",
          "text": [
            "4\n",
            "3\n",
            "2\n",
            "1\n",
            "Blastoff!\n"
          ]
        }
      ]
    },
    {
      "cell_type": "markdown",
      "source": [
        "Mais formalmente, aqui está o fluxo de execução para uma instrução while:\n",
        "1. Determine se a condição é verdadeira ou falsa.\n",
        "2. Se for falsa, saia da instrução while e continue a execução da próxima instrução.\n",
        "3. Se a condição for verdadeira, execute o corpo e então volte ao passo 1.\n",
        "\n",
        "Este tipo de fluxo chama-se loop (laço), porque o terceiro passo faz um loop de volta ao topo.\n"
      ],
      "metadata": {
        "id": "pc4viiZf8YeY"
      }
    },
    {
      "cell_type": "markdown",
      "source": [
        "O corpo do loop deve mudar o valor de uma ou mais variáveis para que, a certa altura, a condição fique falsa e o loop termine. Senão o loop vai se repetir para sempre, o que é chamado de loop infinito."
      ],
      "metadata": {
        "id": "OD7IwBcv8std"
      }
    },
    {
      "cell_type": "markdown",
      "source": [
        "Para alguns outros loops, não é tão fácil perceber isso. Por exemplo:"
      ],
      "metadata": {
        "id": "a0UIH4Tn8vod"
      }
    },
    {
      "cell_type": "code",
      "source": [
        "def sequence(n):\n",
        "  while n != 1:\n",
        "    print(n)\n",
        "    if n % 2 == 0: # n é par\n",
        "      n = n / 2\n",
        "    else: # n é ímpar\n",
        "      n = n * 3 + 1"
      ],
      "metadata": {
        "id": "Gn3guHIa7qBs"
      },
      "execution_count": null,
      "outputs": []
    },
    {
      "cell_type": "markdown",
      "source": [
        "\n",
        "\n",
        "```\n",
        "A condição deste loop é n != 1, então o loop continuará até que n seja 1, o que torna a\n",
        "condição falsa.\n",
        "\n",
        "```\n",
        "\n"
      ],
      "metadata": {
        "id": "O21oBJx39BTf"
      }
    },
    {
      "cell_type": "code",
      "source": [
        "sequence(2)"
      ],
      "metadata": {
        "colab": {
          "base_uri": "https://localhost:8080/"
        },
        "id": "UTC7kGPk80Sp",
        "outputId": "afeede62-1b78-45de-bfc6-876183b28783"
      },
      "execution_count": null,
      "outputs": [
        {
          "output_type": "stream",
          "name": "stdout",
          "text": [
            "2\n"
          ]
        }
      ]
    },
    {
      "cell_type": "markdown",
      "source": [
        "Como n às vezes aumenta e às vezes diminui, não há nenhuma prova óbvia de que n\n",
        "chegará eventualmente a 1, ou que o programa terminará. Para alguns valores de n, podemos provar o término. Por exemplo, se o valor inicial for uma potência de dois, n será par cada vez que passar pelo loop até que chegue a 1. O exemplo anterior termina com uma sequência assim, que inicia com 16"
      ],
      "metadata": {
        "id": "yZ4P-1EF-jSs"
      }
    },
    {
      "cell_type": "markdown",
      "source": [
        "**A questão difícil é se podemos provar que este programa termina para todos os valores positivos de n. Por enquanto, ninguém foi capaz de comprovar ou refutar isso! (Veja http://en.wikipedia.org/wiki/Collatz_conjecture.)**"
      ],
      "metadata": {
        "id": "DoyQJh9y-ul7"
      }
    },
    {
      "cell_type": "markdown",
      "source": [
        "<h2> EXERCÍCIO </h2>\n",
        "\n",
        "Como um exercício, reescreva a função print_n de “Recursividade”, na página 81, usando a iteração em vez da recursividade.\n"
      ],
      "metadata": {
        "id": "mrrvbkYH-1wg"
      }
    },
    {
      "cell_type": "markdown",
      "source": [
        "Versão com recursividade"
      ],
      "metadata": {
        "id": "oFQKmmAm_HxO"
      }
    },
    {
      "cell_type": "code",
      "source": [
        "def print_n_recursiva(s, n):\n",
        "  if n <= 0:\n",
        "    return\n",
        "\n",
        "  print(s)\n",
        "  print_n_recursiva(s, n-1)"
      ],
      "metadata": {
        "id": "nYZSkABQ81_N"
      },
      "execution_count": null,
      "outputs": []
    },
    {
      "cell_type": "code",
      "source": [
        "print_n_recursiva('bren', 4)"
      ],
      "metadata": {
        "colab": {
          "base_uri": "https://localhost:8080/"
        },
        "id": "DuX8DDEI_QqS",
        "outputId": "84dbd451-ce69-4626-d35d-6ef569104654"
      },
      "execution_count": null,
      "outputs": [
        {
          "output_type": "stream",
          "name": "stdout",
          "text": [
            "bren\n",
            "bren\n",
            "bren\n",
            "bren\n"
          ]
        }
      ]
    },
    {
      "cell_type": "markdown",
      "source": [
        "Versão com iteração"
      ],
      "metadata": {
        "id": "Lwn8KrS7_aCC"
      }
    },
    {
      "cell_type": "code",
      "source": [
        "def print_n_iterada(s, n):\n",
        "  while n != 0:\n",
        "    print(s)\n",
        "    n = n - 1"
      ],
      "metadata": {
        "id": "kZaLwbe0_eqE"
      },
      "execution_count": null,
      "outputs": []
    },
    {
      "cell_type": "code",
      "source": [
        "print_n_iterada('bren', 4)"
      ],
      "metadata": {
        "colab": {
          "base_uri": "https://localhost:8080/"
        },
        "id": "fN5a4tBE_05A",
        "outputId": "57c89668-3b8c-4417-8dc5-2eb3286c17e2"
      },
      "execution_count": null,
      "outputs": [
        {
          "output_type": "stream",
          "name": "stdout",
          "text": [
            "bren\n",
            "bren\n",
            "bren\n",
            "bren\n"
          ]
        }
      ]
    },
    {
      "cell_type": "markdown",
      "source": [
        "<h2> 7.4 - break </h2>\n",
        "\n",
        "Às vezes você não sabe que está na hora de terminar um loop até que já esteja na metade do corpo. Neste caso pode usar a instrução break para sair do loop."
      ],
      "metadata": {
        "id": "WolfKaW7Ak0d"
      }
    },
    {
      "cell_type": "markdown",
      "source": [
        "Por exemplo, suponha que você quer receber uma entrada do usuário até que este digite **done**. Você pode escrever:"
      ],
      "metadata": {
        "id": "jTUFYzjPAJIU"
      }
    },
    {
      "cell_type": "code",
      "source": [
        "while True:\n",
        "  line = input('> ')\n",
        "  if line == 'done':\n",
        "    break\n",
        "  print(line)\n",
        "\n",
        "print('Done!')"
      ],
      "metadata": {
        "colab": {
          "base_uri": "https://localhost:8080/"
        },
        "id": "t6mQKYgC_9Ht",
        "outputId": "280aa7f5-6241-447d-c933-0c4c4dff9ad7"
      },
      "execution_count": null,
      "outputs": [
        {
          "output_type": "stream",
          "name": "stdout",
          "text": [
            "> done\n",
            "Done!\n"
          ]
        }
      ]
    },
    {
      "cell_type": "markdown",
      "source": [
        "A condição do loop é True, que sempre é verdade, então o loop roda até que chegue à instrução de interrupção.\n",
        "\n",
        "\n",
        "Cada vez que passa pelo loop, o programa apresenta ao usuário um colchete angular. Se o usuário digitar done, a instrução break sai do loop. Senão, o programa ecoa o que quer que o usuário digite e volta ao topo do loop."
      ],
      "metadata": {
        "id": "65DobVAOAUAS"
      }
    },
    {
      "cell_type": "code",
      "source": [
        "while True:\n",
        "  line = input('> ')\n",
        "  if line == 'done':\n",
        "    break\n",
        "  print(line)\n",
        "\n",
        "print('Done!')"
      ],
      "metadata": {
        "colab": {
          "base_uri": "https://localhost:8080/"
        },
        "id": "T3sXW7hnAPF8",
        "outputId": "17737f80-34bd-4f65-ebe5-239102cb8981"
      },
      "execution_count": null,
      "outputs": [
        {
          "output_type": "stream",
          "name": "stdout",
          "text": [
            "> done\n",
            "Done!\n"
          ]
        }
      ]
    },
    {
      "cell_type": "markdown",
      "source": [
        "Esta forma de escrever loops while é comum porque podemos verificar a condição em qualquer lugar do loop (não somente no topo) e podemos exprimir a condição de parada afirmativamente (“pare quando isto acontecer”) em vez de negativamente (“continue a seguir até que isto aconteça”).\n"
      ],
      "metadata": {
        "id": "IfhYWlY8AuRH"
      }
    },
    {
      "cell_type": "markdown",
      "source": [
        "<h2> 7.5 - Raízes quadradas </h2>"
      ],
      "metadata": {
        "id": "KMli9u8xA0ZG"
      }
    },
    {
      "cell_type": "markdown",
      "source": [
        "Loops muitas vezes são usados em programas que calculam resultados numéricos,\n",
        "começando com uma resposta aproximada e melhorando-a iterativamente.\n",
        "Por exemplo, uma forma de calcular raízes quadradas é o método de Newton. Suponha que você queira saber a raiz quadrada de a. Se começar com quase qualquer estimativa, x, é possível calcular uma estimativa melhor com a seguinte fórmula:\n",
        "\n",
        "![image.png](data:image/png;base64,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)"
      ],
      "metadata": {
        "id": "XL6vtSGUNQkk"
      }
    },
    {
      "cell_type": "code",
      "source": [
        "#  se a for 4 e x for 3:\n",
        "a = 4\n",
        "x = 3\n",
        "y = (x + a/x)/2\n",
        "y  # 2.1666666666666665"
      ],
      "metadata": {
        "colab": {
          "base_uri": "https://localhost:8080/"
        },
        "id": "3DU0Q0ScAeeH",
        "outputId": "b1558ed9-a1bb-436a-9ead-783821d76b18"
      },
      "execution_count": null,
      "outputs": [
        {
          "output_type": "execute_result",
          "data": {
            "text/plain": [
              "2.1666666666666665"
            ]
          },
          "metadata": {},
          "execution_count": 67
        }
      ]
    },
    {
      "cell_type": "markdown",
      "source": [
        "O resultado é mais próximo à resposta correta ![image.png](data:image/png;base64,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)"
      ],
      "metadata": {
        "id": "YPApMgXFNfiV"
      }
    },
    {
      "cell_type": "markdown",
      "source": [
        "Se repetirmos o processo com a nova estimativa, chegamos ainda mais perto:"
      ],
      "metadata": {
        "id": "XD7B9aajNioM"
      }
    },
    {
      "cell_type": "code",
      "source": [
        "x = y             # 2.1666666666666665\n",
        "y = (x + a/x) / 2\n",
        "y                 # 2.0064102564102564"
      ],
      "metadata": {
        "colab": {
          "base_uri": "https://localhost:8080/"
        },
        "id": "71n00RlMNauw",
        "outputId": "a614b861-e915-4ac1-d30a-199bb82dc9b3"
      },
      "execution_count": null,
      "outputs": [
        {
          "output_type": "execute_result",
          "data": {
            "text/plain": [
              "2.0064102564102564"
            ]
          },
          "metadata": {},
          "execution_count": 68
        }
      ]
    },
    {
      "cell_type": "markdown",
      "source": [
        "Depois de algumas atualizações, a estimativa é quase exata:"
      ],
      "metadata": {
        "id": "WOWqYghXNy29"
      }
    },
    {
      "cell_type": "code",
      "source": [
        "x = y                # 2.0064102564102564\n",
        "y = (x + a/x) / 2\n",
        "y                    # 2.0000102400262145"
      ],
      "metadata": {
        "colab": {
          "base_uri": "https://localhost:8080/"
        },
        "id": "Fr_PikpgNqAs",
        "outputId": "c9df6fbf-78ac-464c-e03d-b86f77952f16"
      },
      "execution_count": null,
      "outputs": [
        {
          "output_type": "execute_result",
          "data": {
            "text/plain": [
              "2.0000102400262145"
            ]
          },
          "metadata": {},
          "execution_count": 69
        }
      ]
    },
    {
      "cell_type": "code",
      "source": [
        "x = y             # 2.0000102400262145\n",
        "y = (x + a/x) / 2\n",
        "y                 # 2.0"
      ],
      "metadata": {
        "colab": {
          "base_uri": "https://localhost:8080/"
        },
        "id": "6Cb7LdjFN3k2",
        "outputId": "39340225-9c90-4874-cf69-1c2953252257"
      },
      "execution_count": null,
      "outputs": [
        {
          "output_type": "execute_result",
          "data": {
            "text/plain": [
              "2.0000000000262146"
            ]
          },
          "metadata": {},
          "execution_count": 70
        }
      ]
    },
    {
      "cell_type": "markdown",
      "source": [
        "Em geral, não sabemos com antecedência quantos passos são necessários para chegar à resposta correta, mas sabemos quando chegamos lá porque a estimativa para de mudar:"
      ],
      "metadata": {
        "id": "9ZVvNoo3ODSS"
      }
    },
    {
      "cell_type": "code",
      "source": [
        "x = y             # 2.0\n",
        "y = (x + a/x) / 2\n",
        "y                 # 2.0"
      ],
      "metadata": {
        "colab": {
          "base_uri": "https://localhost:8080/"
        },
        "id": "5E9duQIiN9iQ",
        "outputId": "f3995d80-7834-45a3-9ec4-41ea888f11d9"
      },
      "execution_count": null,
      "outputs": [
        {
          "output_type": "execute_result",
          "data": {
            "text/plain": [
              "2.0"
            ]
          },
          "metadata": {},
          "execution_count": 71
        }
      ]
    },
    {
      "cell_type": "markdown",
      "source": [
        "Quando `y == x`, podemos parar. Aqui está um loop que começa com uma estimativa\n",
        "inicial, x, e a melhora até que deixe de mudar:"
      ],
      "metadata": {
        "id": "IhISWChJOLPG"
      }
    },
    {
      "cell_type": "code",
      "source": [
        "a = 4\n",
        "x = 3\n",
        "\n",
        "\n",
        "while True:\n",
        "  print(x)\n",
        "  y = (x + a/x) / 2\n",
        "\n",
        "  if y == x:\n",
        "    break\n",
        "  x = y"
      ],
      "metadata": {
        "colab": {
          "base_uri": "https://localhost:8080/"
        },
        "id": "eKYXprPbOHaL",
        "outputId": "66df72d2-2294-48d7-9f12-b186172ee315"
      },
      "execution_count": null,
      "outputs": [
        {
          "output_type": "stream",
          "name": "stdout",
          "text": [
            "3\n",
            "2.1666666666666665\n",
            "2.0064102564102564\n",
            "2.0000102400262145\n",
            "2.0000000000262146\n",
            "2.0\n"
          ]
        }
      ]
    },
    {
      "cell_type": "markdown",
      "source": [
        "**VERSÃO RECURSIVA (APENAS PARA APERFEIÇOAR OS ESTUDOS)**"
      ],
      "metadata": {
        "id": "b460C0D8RDu6"
      }
    },
    {
      "cell_type": "code",
      "source": [
        "def raiz_quadrada(a, x):\n",
        "    print(x)\n",
        "\n",
        "    y = (x + a / x) / 2\n",
        "\n",
        "    # caso-base\n",
        "    if y == x:\n",
        "        return y\n",
        "\n",
        "    return raiz_quadrada(a, y)"
      ],
      "metadata": {
        "id": "pXCHI_qeXXFZ"
      },
      "execution_count": null,
      "outputs": []
    },
    {
      "cell_type": "code",
      "source": [
        "raiz_quadrada(4,3)"
      ],
      "metadata": {
        "colab": {
          "base_uri": "https://localhost:8080/"
        },
        "id": "F5PqjLLkXb_i",
        "outputId": "626ca069-c388-4830-ee9b-16a9a8c4d3c1"
      },
      "execution_count": null,
      "outputs": [
        {
          "output_type": "stream",
          "name": "stdout",
          "text": [
            "3\n",
            "2.1666666666666665\n",
            "2.0064102564102564\n",
            "2.0000102400262145\n",
            "2.0000000000262146\n",
            "2.0\n"
          ]
        },
        {
          "output_type": "execute_result",
          "data": {
            "text/plain": [
              "2.0"
            ]
          },
          "metadata": {},
          "execution_count": 81
        }
      ]
    },
    {
      "cell_type": "markdown",
      "source": [
        "Para a maior parte de valores de a funciona bem, mas pode ser perigoso testar a igualdade de um float. Os valores de ponto flutuante são aproximadamente corretos: a maioria dos números racionais, como 1/3, e números irracionais, como\n",
        "![image.png](data:image/png;base64,iVBORw0KGgoAAAANSUhEUgAAADQAAAAoCAIAAAA+Dk5cAAAFFElEQVRYCe2WXUgbWRTHdWHLPiyCsG99KBrLLqw+NeiLD9qgVKVqHpRAugtLMEZTTEpeLKJ0aStCNVncoJEWWwKdNB8QUqhrFj8gtvVBtDVa/ED8SCfO0ERdQ5xkZu7cWTaXXkIFHdqhLazn6XLvnbm/+z/nnnNyxK/Ycr5iNvH/AQczJooihFB4b2gMAIAQiqKIpqX7SgblIIToeIRCkuRQxrRa7eWMVVZW4kFlZaVWq3U6nVIQ5YETBAFpc3h4GAwGq6qq3G73gwcPrFarLWMDAwM2m+2PjI2Ojs7Ozn4mOHQMctnS0tKdO3fq6+u3trZ4nn/vXgGNkeulO1ce5ZBnGYZxu93Nzc0EQSQSCYyCnI5BcQieKt6nwmECQRB2dnZu375dV1e3v7+PgQAALMvyPI8ugBBRDHw+OJ7nnU6n0Wi02+3YiSzL0jT96tWrN2/eHB4eAgAQHADgVDJR/OQ8h5SDEMZiMYvF0tbWtrKygiZ3d3f9fv+9e/dsNltnZ2dLS4vX66VpGq1+VrhAIGAwGKxWayqVAgBwHPfkyROHwxEIBCYnJ30+n0aj0Wq1LpcrlUpJIZOqHJbn+EAQBADA0dHR9evXb968+fLlSwghx3EURen1+v7+/lgshlBGRkbKysr0ev3Ozo6ccCiNMQyzv7+/t7eHEPHrS6VSi4uLV65cGRkZSSaTgiCwLLuwsFBTU2M0GpeWltD+mZkZlUp19erVUCgkP9z6+rrP5yMIAv2az5goivF4/MaNGyaT6cWLF7h2URTV3t5+69attbU1BPf8+fPq6uqamppgMCgnHITw2bNnOp2upKREpVJRFMVxHEoNqVQqHA5fvHjR5XLFYjHsd47jotEoRVEMwyBiu92uVCoNBgNJknLCiaK4vLz8+PFjjUZz4cKFhw8fxuNx5Ovt7e3BwcHa2tr5+XmUzARBQGfjlMZxXCQSUavVTU1NHo9H5gchimIymaRp2uFwFBUV1dbWrq6u8jzPsuz09HRjY+P9+/dpmkZ9R3YTgNQlSbK3t1er1Y6OjkYiEUx/qn5SKwSSIRQKNTQ05OXlPX369ODggCTJ4eHhioqKzc1NlmVxg4RERS6mKMrr9arVaoIg3r59y/O8zOULHSOKYjQadTgc586dM5vN4XB4fHzcbDb39PQkk0mU/XHMocskEomxsbGWlha32723t4fe+8HBgZzlC3dEHMfNzc0VFhYqFAqPx9Pb29vY2LixsYHrEtYMVbBAINDV1eXz+dLpNMuyi4uLfr8/GAzKCYf1gBCSJNnd3X3+/Pny8nK1Wt3d3c0wDGLCLwD5d2xsrK2t7dq1a0NDQwRBPHr0yGKx9PX1hcNhOeGym2+GYV6/fl1cXJyfn6/RaKamprBaOOYAABsbGzqdrrCwsKCgoCxjSqVSoVBYLJZ3795BmN7++8+enoHAytEJz0LSg0DKYWHS6XRra2tpaendu3fj8ThexXA8z29ubtpsto6ODpPJ1JFlXq/3v6fD+H/94ZucnNxvf+6UBw6djbLDxMTE8PDwzMxMtqiozuJt2cHw4SS/5frtx+9zc3Lzmj8VDn0PAMBpNjtoIIR4Hie5D8gwHLpMpp/75y99wXeXfpcH7oS/fMQSoCcspT/94tk94VtJMXfC9x+1JEQI3aWSyyZi5eTO7ovAicnoNp0+/V5fBu50rsyOMziJQh3bdqbcMUkkTpwpJ1GoY9vOlDsmicSJM+UkCnVs279Lc/gZ7bd3DgAAAABJRU5ErkJggg==) não podem ser\n",
        "representados exatamente com um float.\n",
        "Em vez de verificar se x e y são exatamente iguais, é mais seguro usar a função integrada abs para calcular o valor absoluto ou magnitude da diferença entre eles:"
      ],
      "metadata": {
        "id": "8MYMPxyqXsu_"
      }
    },
    {
      "cell_type": "markdown",
      "source": [
        "```\n",
        "if abs(y-x) < epsilon:\n",
        "  break\n",
        "```"
      ],
      "metadata": {
        "id": "0dILf3ixX5PT"
      }
    },
    {
      "cell_type": "markdown",
      "source": [
        "Onde epsilon tem um valor como 0.0000001, que determina a proximidade desejada\n",
        "entre x e y.\n",
        "\n",
        "É um número pequeno e positivo, que define uma margem de erro aceitável para a aproximação. Ele representa o quão próximo y e x precisam estar para considerarmos que encontramos uma aproximação suficientemente boa da raiz quadrada."
      ],
      "metadata": {
        "id": "G6JSGW75X-JJ"
      }
    },
    {
      "cell_type": "markdown",
      "source": [
        "<h2> 7.6 - Algoritmos </h2>\n"
      ],
      "metadata": {
        "id": "Zl7pu8r1ZfQ_"
      }
    },
    {
      "cell_type": "markdown",
      "source": [
        "O método de Newton é um exemplo de um algoritmo: um processo mecânico para\n",
        "resolver uma categoria de problemas (neste caso, calcular raízes quadradas).\n",
        "Para entender o que é um algoritmo, pode ser útil começar com algo que não é um\n",
        "algoritmo. Quando aprendeu a multiplicar números de um dígito, você provavelmente memorizou a tabuada. Ou seja, você memorizou 100 soluções específicas. Este tipo de conhecimento não é algorítmico.\n",
        "No entanto, se você foi “preguiçoso”, poderia ter aprendido alguns truques. Por exemplo, para encontrar o produto de n e 9, pode escrever n-1 como o primeiro dígito e 10-n como o segundo dígito. Este truque é uma solução geral para multiplicar qualquer número de dígito único por 9. Isto é um algoritmo!\n",
        "De forma semelhante, as técnicas que aprendeu, como o transporte na adição, o\n",
        "empréstimo na subtração e a divisão longa são todos algoritmos. Uma das características de algoritmos é que eles não exigem inteligência para serem executados. São processos mecânicos, nos quais cada passo segue a partir do último, de acordo com um conjunto de regras simples.\n",
        "A execução de algoritmos é maçante, mas projetá-los é interessante, intelectualmente desafiador e uma parte central da Ciência da Computação.\n"
      ],
      "metadata": {
        "id": "9gk5DpQsbZfs"
      }
    },
    {
      "cell_type": "markdown",
      "source": [
        "<h2> 7.7 - Depuração </h2>"
      ],
      "metadata": {
        "id": "Kbj3D95NblfI"
      }
    },
    {
      "cell_type": "markdown",
      "source": [
        "Ao começar a escrever programas maiores, pode ser que você passe mais tempo\n",
        "depurando. Mais código significa mais possibilidades fazer erros e mais lugares para esconder defeitos.\n",
        "Uma forma de cortar o tempo de depuração é “depurar por bisseção”. Por exemplo, se há 100 linhas no seu programa e você as verifica uma a uma, seriam 100 passos a tomar. **Em vez disso, tente quebrar o problema pela metade. Olhe para o meio do programa, ou perto disso, para um valor intermediário que possa verificar. Acrescente uma instrução print (ou outra coisa que tenha um efeito verificável) e execute o programa.**"
      ],
      "metadata": {
        "id": "OPaHsnCCgE__"
      }
    },
    {
      "cell_type": "markdown",
      "source": [
        "Na prática, nem sempre é claro o que representa o “meio do programa” e nem sempre é possível verificá-lo. Não faz sentido contar linhas e encontrar o ponto central exato. **Em vez disso, pense em lugares no programa onde poderia haver erros e lugares onde é fácil inserir um ponto de verificação. Então escolha um lugar onde as possibilidades são basicamente as mesmas de que o defeito esteja antes ou depois da verificação.**"
      ],
      "metadata": {
        "id": "0fkax2QJgJP0"
      }
    },
    {
      "cell_type": "markdown",
      "source": [
        "<h2> 7.8 - Glossário </h2>"
      ],
      "metadata": {
        "id": "JEEUhOfjgv1K"
      }
    },
    {
      "cell_type": "markdown",
      "source": [
        "- **reatribuição**:\n",
        "Atribuir um novo valor a uma variável que já existe.\n",
        "\n",
        "- **atualização**:\n",
        "Uma atribuição onde o novo valor da variável dependa do velho.\n",
        "\n",
        "- **inicialização**:\n",
        "Uma atribuição que dá um valor inicial a uma variável que será atualizada. (ex: x = 0)\n",
        "\n",
        "- **incremento**:\n",
        "Uma atualização que aumenta o valor de uma variável (normalmente por uma\n",
        "unidade).\n",
        "\n",
        "- **decremento**:\n",
        "Uma atualização que reduz o valor de uma variável.\n",
        "\n",
        "- **iteração**:\n",
        "Execução repetida de um grupo de instruções, usando uma chamada da função\n",
        "recursiva ou um loop.\n",
        "\n",
        "- **loop infinito**:\n",
        "Um loop no qual a condição de término nunca é satisfeita.\n",
        "\n",
        "- **algoritmo**:\n",
        "Um processo geral para resolver uma categoria de problemas."
      ],
      "metadata": {
        "id": "EjFxhl0Tgy68"
      }
    },
    {
      "cell_type": "markdown",
      "source": [
        "<h2> 7.9 - Exercícios </h2>"
      ],
      "metadata": {
        "id": "BtNOWdxUiHfo"
      }
    },
    {
      "cell_type": "markdown",
      "source": [
        "<h3> Exercício 7.1 </h3>\n",
        "\n",
        "Copie o loop de “Raízes quadradas”, na página 111, e encapsule-o em uma função\n",
        "chamada mysqrt que receba a como parâmetro, escolha um valor razoável de x e devolva uma estimativa da raiz quadrada de a.\n",
        "Para testar, escreva uma função denominada test_square_root, que exibe uma tabela como esta:\n",
        "\n",
        "![image.png](data:image/png;base64,iVBORw0KGgoAAAANSUhEUgAAAnAAAAGNCAIAAAAelduuAAAgAElEQVR4AeydCVwTZ/r4S0I8qq1ae+26bW23a7d79N5ud7u/XQhSqVSrra2t1e1htfq33ZKgiHhSxQOPalW0nplwCgJyIwgCInLJfcoZhIQrBAgQQmaY/2dyziSTvJOASOnLh88nc7zv8z7v93ne95l55515H8DhHyQACUACkAAkAAmMmMADI5YABUACkAAkAAlAApAADgMqdAJIABKABCABSGAUCMCAOgoQoQhIABKABCABSAAGVOgDkAAkAAlAApDAKBCAAXUUIEIRkAAkAAlAApAADKjQByABSAASgAQggVEgAAPqKECEIiABSAASgAQgARhQx4MPyIpjkIshN5pQK5XBOgsiBRcv3WzBrMz4K0uO1qUIL/pfr7eW7/jGpPMaq7Uce7fB2nLDBYLYkl5jXfsrEpALSEJFv/EJwz4mF+UlRwT7I8KgsKikmzUywynNFjCBcQa4DwncKwIwoN4rsjiuqoo4eCyuAdSLY03Bnz7FmengWzxotS5oo/+yOfYz/2NLXqsLG+cZLODu918yxW76h0EWuu3xUzkL9SApORKvwcfcbZSZ/Hn2nLf2VRk1Bqz5J8dJD0xyPNpEf0mIiaPd3njE3u4B3R/rsf9eIVHAgQnIieE2JHCvCcCAes8Io/WH/m/Kc99dtxwmsSb/Zb+xn+n4Y4XKJk0wccinc+yn/8OnSGlT/gmTyRLuX1JAtVQPvbFG6jX4GLuNuYCK9xWFHTtyLKxQrq8aeUOV5/VXDmvWv7fGVrTJBxVyqURUJybf5QITkKXBbUjgnhOwPqCiveLaiorqZtl97MCxPkltXavmfkMpa6ptlNqgjFLWVF1RUdPSbSaSqXrFNRVVIk09MVSlQumvonFMLqmtrGqQyAYpCfour5jNAQXU7oS1z9pPenlrjrmwC8aN1h2fP4M9y/VMI6X4e+46o1oAE4taRmEJNzmgDnY1VVfVtytsVR/gNoy9ZiRuA/Qa3DIrou733m1Qubi2srqJaEBmA6plK3RfeG+K3YyPgunDLY7jwASW5cOzkMAoE7AmoKLN8TsW/XEWRz0AY2c/Y57rjkTxWHbiWPO5j+e9/r8Tvgue5NjZTZ63Lrrk0uoXp9s9YPfgixvipBg+mLXj379/3nlfITVGYi3IZy8+98r6K10aeoMVARv+8/R0trYiM+e5eEY1krOgokjev+dMIc7bcWa/vkYYufVVDueVHUXaRFib/8p5z8/fWzjYHOPh+LupLLUkzhu7yzVDWoOJbq8++9SjU+3sODN+O1f794clJ2qNrIeJ/N55iDVz0Xk6jMxxy+PXPM3m/GVLLrkORkWNz12ARXVKA1CYxa0bYFQH1Jkfn0/78eM/q/3Xjv3Q8+/7Zpk8jtMVSPsLchuQ1+Cj5DYWvQYHsCLV7B66DSq64v6fOep2Ycd59PXVF4T/e4E85IvWnljyB13DmDvvk4vUBoA1nf1o3ty5c59+7EE7O/uHn9SnnDvvq0vEHSowAamacBMSGDsCzAMq2nDKZSZr6l++OnO9tLa29Prpz/80hf3oB0LJ2IVUTHzCafKkx552+F/YjcAvn+dMe/6Pby33S0/1cZzJemipsAvHVYU7XpvEnrsuuY+EEK068PYU9pyvojWDRarCXa9Pmfqnz0+llIkk4oaiON+lczkPOx6t0XW/aIPfgpmsyfNWnEyramosSfzxk5effnIGi/PGD2W6JMq0//3efrLjVp+Fjz40791vdx//+We/o75n09o0MNCa2OO+XouftWc9+p8N+301f4f9b0lJWhHdgugn7lTWrA8DjY4TqazCPZj67bNs+z9uumXDjTpVpTHeA1hUow0QhVncOtckAirr4edf+NNb639OLqgoSbuw9tXpLM5fvay4BAG5DQOvwUfFbSx5zfhwG43BJs/7zI9oQKXJP3326tNPzGCRnqFi0lv+h4lmsW/9vx5hmT5D7c4LIk7v+viPHNaMt9bu0zYhX98j4aXqsRxggjF2ZFgcJKAmwDyg9t/w/fS9hRsjdZ0/1nbm3amsGR9fIseue0sVa/WbP8lu2sKzbRiuiP7yCRbnL155Kpx46sThvLarhIhRzWcWzmQ/+lFQu64zxVW5W/7C4fxpszbaYM3HHCcZbiaJPJIMxE+YLtJGS7R6/z8msR5fEaa/f1Ffyj9AzoM1Hvn3JLup02a97HatU18SpfZozf5/cNgWh3x7gz+ayZrs+FMzjQTrcBPjnSzO2wfrdBGfosr43QFYVKM4IxQWcavvUFmzFp3Tz32RR6x8nMV527eWKTCQ2zDxGnxU3MaS1+CMWOn94d64DVp94J/UBtSXvG4u+wFSQNVrMHht/dNs04CqOY+1nXpnEus3q+PMjc8DE+jLgRuQwJgQYB5QDepgyj6ZtL21Ubj8UdYk51PauzLD+Xu2pe5+7efxbhBPZTLcnrefvPAcMYorO7dwsv2fNmerC+6N+/op+2mOR3WxpT95/Vz7qf93SH8DKgv+aBZryourTqU3yGkiGd536eOZdpPn+5FuvfsuLZ9pRw6oePd518kPsJ5YEaYdRTats8UeXp1cVbLrNQ776XXJ5p6faoQywY2W736Dw57zdbxlUaZa3ucjAIsaa2cBhUXc6oA62eXndr1AVcH2lzlWjZID3IaR14yG2zD0GtwCKz2Fe+M2GhTOfq2G1tUX+slM8h2qXgMYUPUo4MZEIGBFQMU6b/mtX/DSnIc4dupHhuqZ7JPmk9vNPSai7n45L23LV2mnOUxZ4k/MTOq9uGiy/YsemoCqGfblvKxOheNdoZ8+bv/IUiGpdSsrLnz2AvHklTXlsT/++8MNewNutRjGSrGW49xJrJmfXiZdFquH6igBlSjSbvICUhdtXHeLPbw6sXqglvRklirBOtydPy+YbPfg0sBfxIshhooCLKpNyASFRdzqgDpjeaiBjqpox6sc+z975hgMb9CKfsui2zDzGrWnjtBtLHsNzoSVoX73wm3MozB9bQaHAdVgDLg1AQgwDqhozcl3ZrHsf8vdjKQUVtU3tbQ2h3z2OOu+BNQCiwFVM+xr/8w3iX041nJm4cP2T69NMB6XVkryI45vXf3e35+bybGzYz/y981J2kFirOmY4yTWrBXhpIA6eP3bZ9mmAXXG8kuGLtrYGSz28OrEg8nrnmZzXvcupZlLZC1u2XnXyXZT3kfMzoc0Vm987OsCqhmLqpVkhsIibnVAnTnCgEooY9ZtmHmNJqCOzG0seQ3OjJXB9vfCbcyjgAHVQB5uTUwCTAMqWnfwX5PsHnI9Z7jTkyFLptuNx4CK4+ph30c/Cmqt9H17ivaW1pz9FE0pu52fYHNe2aGdG9wrXDLN6C6iN+CDh6hDvuo7VEoXbSzfYg+vTqy85fGivf0LG7NM75KsxY2JfvzPJNYjn5GvAowVGo/7DAIqQxQWcY9aQDUwNHYbRl6jCagjcxsLXoMzZKWvxb1xGzWKKS5nOvXl4PKgDx+2g89QDUDg1gQlwDSgqvK3/pXDnrM2UfeQDq0/9e4s1gOT5p8kPWu8x5AA3a92yJdQQj3bd7rjhtV/4UxzPEb55BzaLSpMzxeR7wr7L308w17/LFOVv+0lDnvOVzH6u73e6C/nsCmTkpj0jLW+b3PYc/9fio6YCRxMfHL+ZPrX7KzFrUz/3+/tNVO0TIoZzwcAFlWbkpnnoZZwMw+oaE2Qx+crV607lW90lQNyG0ZeMxpuY8Fr8PHhNlotVsfqh4Xk8V8/BScljeeGCHUbJQJMAyreFbRsFsv+959falBgg5KcC+veeu3fbz/FHtNOHND9kgKqdrYvi8V67OMg0pUy8S545Oe/tZ/t6J3apBmuVTRf3/vOE/ZPfhqqS6cq2PHqJNb017+PrJVjyva885+//tycR1imQ74WbzVwWcDSGXacP64OLGiUiBtrijPj4/OoVlNmE7eo8/iZRp03jluJW31nwpq94rL+GoBa0LjdA1hUrTdDz6PDrbvWYx5QlTc3vmD/AGv2qkjSiD+hBtBtmHgNg4AKdhsLXjNO3EaD4qE3eFG1ckzVXnBxtaYBvbVX8+lBZcPNqAjNX9ge18dZnJfWXghX70cml+reIiCm38NZvuO25ULF6AkwDqj4YNGxhXMm2dmxORx71tTnlh7LkySuf45jN3n27xceLCbf8NGXNApHAd0vOaDieHf4yidY7Oc2pBg/5sTE8VscfzfFzs5+6sMzZz7IYbGmPeuyM1nX+RJ69mb7uvxuEjFtic1mTX3+41NCtz/aWxtQ8d7MXf961PAdUrtJf95sBGEw/fvn7emnxliDG2s46ki8zxpA6oyMShqnuwCLarRmiIIGt24wfRQCKg52G7DXMAmoYLex4DVWtdJ76DYUFFOeXXo8fOeb6jfb1P1E++kFk3Uf56X+EleXBleFAdXAAm79MggwD6hEfeSNOUlRkbFppa2acUxVa3FydNz1ombjoHX/K68q3vX6JM6rugejxgqpZHV5qXGR4ZGxKbn1MrqXERUthSkxkdEpRWKF9stp+g8hGQszv4/11mcnRUVeiU+5WdLUa1qMqnTPm1PYv/sqWv/OK1kWQ9zKXK+XOOxnvkn8pd2fkusK2GaGAoQbUAj4NNBtRsVrcEA9LHsN01Z6r91GjeJKTCrRgOAfJPDrIGBdQP3FMFHVnFn0hP3sJRdHZ2EzzadIbQioYGCyuDXP2k99Y2eB2UetABlow88LH2HPcjlFeVIMyARPjwGB8ew1OHSbMfAAWMSvjsBEC6hYc9yhjes/+tuTHPbjC09VjdJI9D3sGnGsNeLzZzgP/XNPoS0X8mjDhSVP2M/iHrVxsZpfncOPYYXHr9fg0G3G0A9gUb8iAhMtoKK1F1c7/PP/Fny2Nbhs9EZAVcVHl/3jn19euEc3gV2pOxf9w2GNUPdxJ8b+h7XHe7r8w3FdUKPpaDJjITDhPSIwVl5jtfrQbaxGBjNAAowITLSAyqjSMBEkAAlAApAAJDDaBGBAHW2iUB4kAAlAApDAr5IADKi/SrPDSkMCkAAkAAmMNgEYUEebKJQHCUACkAAk8KskAAPqr9LssNKQACQACUACo00ABtTRJgrlQQKQACQACfwqCcCA+qs0O6w0JAAJQAKQwGgTgAF1tIlCeZAAJAAJQAK/SgIwoP4qzQ4rDQlAApAAJDDaBGBAHW2iUB4kAAlAApDAr5IADKi/SrPDSkMCkAAkAAmMNgEYUEebKJQHCUACkAAk8KskYF1AVcS7v/XKy/q/1z8X3A9oplo0UdUYeQLcVAS1iFFIQCOiCaOUYqqEtQko4sbvjmlFjXU1TWEtCqAEOntQ1aARYWUCmjKoEkYhAY0Ia1kZ6WTL7rhgZYviMA8kMAIC1gXUwYwDnyw1/C3bEjmCom3OaqqFhCpr5AlwUxHUIkYhAY0ICTWgmiphbQIjpcfrrmlFjTU1TWEtCqAEOntQ1aARYWUCmjKoEkYhAY0Ia1kZ6WTL7rhgZYviMA8kMAIC1gXUERQEs0ICkAAkAAlAAhOZAAyoE9m6sG6QACQACUACY0YABtQxQw0LggQgAUgAEpjIBGBAncjWhXWDBCABSAASGDMCMKCOGWpYECQACUACkMBEJgAD6kS2LqwbJAAJQAKQwJgRgAF1zFDDgiABSAASgAQmMgEYUCeydWHdIAFIABKABMaMAAyoY4YaFgQJQAKQACQwkQnAgDqRrQvrBglAApAAJDBmBGBAHTPUsCBIABKABCCBiUwABtSJbF1YN0gAEoAEIIExIwAD6pihhgVBApAAJAAJTGQCtgXUvqay/IKaTtQmMqr20gThcd+9+46cCc9uVtgkQ51pJFqMmhK2qw9zmhAYiUVxaFITnvf1ACavb86NKE0OLMtKb5cpbdEFlXVVXK1ICSi5HtPY2G5bd2NLuTAPJGAjARsCqrzk9NKn7e0mu5zptLpQTBzDf3O2vR1n2mO/fXLGJDvW9BdWXqyypbGNQIvRU8Lq+sMM5gmMwKI4NKl5rvfjDNZfdjLWiyvguwTvWBro7iDwWJWRI7IqIg53Z+UeWYy4OQVs/TDEc76A5xLhn9Ctuh+1gWVCAkwJMA6omLQ6MzHs1I4vHOZOn/n4Y5NtCahYi/CDx9jTXtkQXtuP47iqNf0Hx9nsaW8fKGfa1EZBi5ErwZQtTMeAwChYFIcmZQB6DJMMd19N3coN8D3a2EEMQGG9RUUnFiMe35ZKmLZzHOuoPf8+4rH6VnEzEUNRqSTRLZjnEnetgbpk8BjWChYFCYAJMA6o/QFLH7RjT3/qjaUe/jn+K2ezrL9DRWsP/msy+5l1SUQ01fypine+xrGfx89keJM6ci1GQQmd8vB3FAiM3KI4NOko2GEURaA9Kd8KecuzqgyPc7CWi9F8bkRkCcOIinWExLtzw0LzDHekaG3hISfE52Sb4dAo6gxFQQKjQoBxQMW6GqsapYPqQhWRq2wJqDJkyXTWI5+G9ZE0V2a4PW/PeWtfFbOWNnItRkEJkvpwc6QERm5RHJp0pEYY3fzymnMuAq8fGjSdhUa2qjhnDxf5MbCb2Q2mMndrAG9ReuEASbOh1ogVCH99SRvpGNyEBMYXAcYBlay2bQFVfTfK+cuWXBUmq8xIiE9IKW7DsKajjpPYc76OJ7c+clnmt23SYrSVMK8ePGM1AZssikOTWg36nmbQ3EruP9OBYsrW4uaKHHFL1zDWVn5iPrLT9y6j+0tUmrAG4X9xW4QOD4haK7Kbq2sHMKwvzU3IW3az4p5qD4VDAiMhMIYBVZnJn2fPedOnElXe3PiC/QOs2asiFbjsvOtkuxnLQw3DwEyrY1P3O9pKMFUWpmNAwCaL4tCkDNCOYRJVSa4PFzni340NtUWtQtwcgwNuoLj8zhlngad3A6NnO0NtkSsR/rriVhSt94vgOwi8fERDuDLbU+jmmlY4hnWBRUEC1hEYy4CatfEFe87f9pRTAqr07LuTWbNWXDY8b2FaAZu6X+UoK8FUWZiOAQGbLIpDkzJAO4ZJVGV5PlzksFBGCag91aedBVt2Nw4x0UQdifnfFEsoAXUwy0PIey+9iIkEmAYSuC8ExjCgopU+b3LsX9h4U4mretslYkmrbBBHaw78k8OeuyFljIZ8R1uJ+2K0iVqobQEVmnR8+QMmKj7ihPj4talwTCEb6JYODChxrLn0qBPifVTMbMi3O2kdwl+VVz+Eo/2Kns6BXjmKoz3XNiC85beqx1d1oTaQAInAGAZUvD/8s9ms6YsvSknl98d8+SR7itOJFmaTFUg5cdu631FWgqwQ3B4hAdssOtp+NcJKwOyKRv/FAg+vGsrkw6zM7VzhyYh+Zu1cVbwnmOeSktNDoqloClqKbORXdpOOwU1IYHwRuBcBFa0J8vh85ap1p/KpD0ywdmTJTPYjSxGJvlXJor78HXvKvw5WM5vkS2FnufsdIyUoGsGdkRGwbFEcmnRkeMcqN6bI3RrIW5SaKx3WFaks3R/Kc45PadK3fPUZtOf26Rv+PlmZxpP8h+WJKZ7coPOJA/oMA5mZO7nCYyEM5wnrSoa/kMBYEmAcUDFJzpXgIM2f0MPhYTvOa+vOqXeDo/KoGpPnHFHP9KVv/PNk9m+ctocXNEqaS+P2vf8MhzN3dZRU32yo6U32LGrRSk5+D5UgFwO3R0jAokWpsqFJqTzG795gUd5+Z2QHv6D4jrynvas8MMXbCfH2FfUZtXPyrCWj2gxIor4Q8j5IjE/vlEr7xLdKzi1H+MszS3v0QdooA9yFBMYBAcYBdTD+6znsB+j+2HP/H7Ui5js+HFeUC1a/9oi9nVqQHXvGn5afyJNTs1vas6hFCjnnPVSCXAzcHiEBixalyoYmpfIYz3uoJCHz0CLEzUFA/HMD93lXisgvlWp0txBQcXyooSZ4TRBfI8EB8fw8LaOK0ZSm8cwF6jbBCTAOqKPJob+pMDU2KuZabkOv0SXraJYCkDUulADoCE9bRQCa1Cpc9zyxoq+54G5pllgkGbK1nau6asRlmU3VlXKFrSLueTVhAZCAnsB9Caj60uEGJAAJQAKQACQwQQjAgDpBDAmrAQlAApAAJHB/CcCAen/5w9IhAUgAEoAEJggBGFAniCFhNSABSAASgATuLwEYUO8vf1g6JAAJQAKQwAQhAAPqBDEkrAYkAAlAApDA/SUAA+r95Q9LhwQgAUgAEpggBGBAnSCGhNWABCABSAASuL8ErA2oqs6OktjyZGFxSkRtZb1NL1ujCnFObUZwcXJodXF53wi+fTLUVd95t9kmHQzQMXlTZ1OVrNvM8nGDbV1Nd3r6LH5qGJV1363qlHQaL6TBlNVAn7iqs532G6XKftGNO2mBxUnBlbnZXXKKGoTmoqoO6n+nuM2E6IC8NqUyJaA4NaqhoY0iQo0B7a4S3QorTvIvzUhqFtOogXZXim6FlRAJrt5tkVFesFe0djUZ60CodLd5kJLOANzSFhPalvJrzqGKtjudTQ391C9J6/JZoK1LguPmvALISiPCkmeqOgwtqKJOQbEHobmRQTtEVV1dxt8YGpIW12eGFCeFVBWW0bUgjdsEFCeFVObldNF4rwW/6pe30BlUdKfH+MOBBly0WwxZ0ebVHgS2IGACnHlvY9ltcBy3kADQxDB5fXNuRGlyYFlWeruM3i81VTbneLiqXe02/iVpCU3NXRSv0eS0hIKpX1myhRXnLDcxACsryhmPSa0JqKg4Nt3HReDGDfD6IMRzvsDNMdD3cH0njXHN1hTrbIpcF8x3QDzev7TdVejmGOCzp8Y0BJjNbzgx1BKVuosrcN9UTV7UwnCe2ZayouCwi8DNKSruDk3/P1hXdf5jxM05KcvCCheK9vhvAtwckAPnyCQYsxrourktjO8gPB1jHNIHqyrOr/B3c0A8Fl/a5irkOQg8v8zMb9bpifamfKv7tJv282wCNwdk908ScmAfrKo494nQjevvtTRks5PAzeVKcKpcJwLHlV1ZuyM8HAR8l+AdSwLdHQU816hLqaTvVw10pm8P30RJcCU4uUdnc7TqcCjPULr6O3PqXXevGmsX5GNEG2xWVeOFGKJGXxXc1WlpyGSetiENjtN7BZCVVoQFzxxqCk/ds0Dg5hSwVdeCDvjWdej0xFpKjzkZGOq+2xceXqRLgeP4QGf61ssbHZBNi0K2vYu4OQTs962Xks4P1VcLVxEOaXCb1VkFYoPNLfuVKj9rF9dEBweBm3NKjnFcJzOjbjNlRc1F2QO2IGAC3JrexqLbEIqZTQBoYlh/2clYL666iS0NdHcQeKzKyBGRDEaqNb3j4armK9f3EN1U4LYPgz24At57MRGZ5HV7ACgY+RVJjRFtWmxiAFYjKnh8ZGYeUNGaosPvCDavyy2TEN6A9Upv7gjjOwZfSDKsCAGoE9afuz2Y5xJ1Ob2HuEpDB2qRRC9uwLEg6l2PBSnYYFtJc2FUQeD3YR6uIVudRxZQ+1ujVwdsXhjAowTU4b6mtsq0qvh9Cd4ugdveF1oMqEO1p6M83g30cKQEVCArrKe7Lqch88KN48sDPJcEu5sGVGXrlf8ivCWJiQX9RIDElM0xad5cwZatNdpwh3bGfoXw1+ZX1XeJDf+ydikpnva3XP4McV+ZkVNPfPtNJRGFfunPW5pWoL0+wJoFMZscA4/4NUkJewz311RdXI7wFqfmdWk+QY7W+UXyuSEnEXE3cd87PFBTLViO8N5LydEtJDLY2S0xlE5oIrp6Y7dT0MnLNLe6dIa1ijadAOoxRXGer0vAZhdKQAXTJguh9woQKwaeOVSSu9cJ2cYvuqMOoZhcmrUrjO8YdC5B24LQqtsHnJBDP7eQDNolbujpMVxrDVUdDec7RwQkdBEjM0p5yZErm7ghSKouBSpNXOvPWxh7JUtOWAwbbI667s0VeO2o07oN0K8G+tsayB7VJa6qDfwU2cKvoBndIHMzbINYGVKa3QK2IGAC3JrehtZtyMqZTQBoYsPdV1O3cgN8jzZ2ECbCeouKTixGPL4tVXei5BJwnN7x8KGSvP3zBVu+vV3VjuL4sKL+jnCFkLc4NadDu04AEAUDv9JpMqTsbu5ukyis/VYkoyYGYKXT4Rf9yzigYpKQxK0ul0PzDddWaH3RISdk56FmUhduCQbWXHrMGfE+3GIY80ClCWsQ/srcOpNxSnpBirrzCwQ8l9DD2/LyKmr9F48koA5WHYvc/EV22k9X+JSAqsrb5u/GDdi1NjU6qT1vTzDP/B1qf3723nevXA7L3u9EDqhgVsqk1E0OiMdHMedP1zYmZXg5Gt+hqspuH1zof+gC6d5DzYr3UVaVBp9SfHk54u5h4QZ9uCvyqgf3cmi+Ae5AVWNOemuH5lYDlaW4BXt8eksrkCCOiQUxfG7opRy1lYfaYr8O3LS2oMVgc6zlYjSRIM9wiGKpgdbor/w93cpbzZynJCZ2rKBtktfkQG9L+H8D9h8tD/8CId+hAmmTBJnxCiArsGeiDWejNy+Iia813CyitYWHnJBdh1s0LUhVcMubKzwda/beHmur9HNBdh9pMaSQdxYnNNY2a02MNZSeWByw+0iLweRoV+JahLcsq1LtNmC/IrFQbxKXjJtcE9NEBrWNkxjtA1kZpafZBbYgYAJiSXOmvY0ZtzHoZTYBsIn1pHwr5C3PqtJd8OC4pgVFRJYYtRAzjoerB4GcrsSSVrgbuHFjJ1f4U0iP2iRgFEC/Imo61Fvyc7KPq3bQa9OyuOCoToPWBhb0WwyaGIgVveBf2lHGAZWmYpoLnz3HWxkG1IHEFA/HICTN0NhxHK09Hs53ik1m2FyxQalI3qeNKKIA2wPqsPxm5p6FMbFlStE5o4A63C/plmoHNdESH7MBFZM1Ba8IPHSubUB9Y0Ed8jXGZcQK65W3SQY13IZu0ARU4/w4jitbI1ci/K8LmjUtUdnovwjx9G4wXJ0Y51FkewbwP8muUeI4hsXZ2b8AACAASURBVPa1y7upz2CNkxP7WNO5K3xueESxUWvXp0XrTkTwnaLja2i7V1R0IWbTgpgEUuPX5zSzwZS2meykw5ii1Dd889rbDfKO2C8pAZUxbQteQSpIu0llZZNnqkpyfbjIQd1l01BGhhc3EEkz257kccke3MuXC4k7laGevq4Opdmken3RToLGZzm15GanP2vqV+RTOD5UWXDoHf9DF00mCFCTgfaorECpac8btSDTNEYJmPY25t1GW4SlBKAmJq855yLw+qHBcAGE46rinD1c5MdA8hCOBccbzPIQurmmF5KDm7z2nItg87Y68jEyECMUQL/CcWX18Uh3bvBPfrX1TX1d9S3puyM2cUPOJ5IeD5ELMNlm0MRArExk/iIP2B5Qsf6CH0J5TpFRxpda5jioL82crsRUYpi8uzbnbsVtaS823BWW6M4NDck214Obk4bjStsDKtZR7/9x4DH/ziEcMwmo5BLNB1Ssv2BPmOe3xXeVuMZ9LQVUi6wYBFRsoKnlunfEpvmX/VN0U0P6a846I7v2lGWdyTi1PurA6lg/79wbRf0GjkNEAHbnl5aFZRz+QKheRSvA+/vs/EaznTDWUY8sQ/j/zauji9KYvLsqNG3vAuEPe+q76OIp1lzh54p4H7zL/FkbmTWOm6dNTUe3N9ydmr7LNS7pDoqjxgGVnN4CbcZeQcizxIqJZ6LKtrwyZJW/+ycZBW3asTtFwrWN3FD/0OqYPUk/ro7yXX9VcLKytkPPWn01M//qtazygG8ubSSeVSMeyxPCky1McxnuTknfyUX2+rXRWZ3Or8iw0J4MfiB/+c0KK1ZYJOfXbltiRZOc7pDFFkRkME7AsLcBuo3FBKAmphmB2H+mA8WUrcXNFTnilq5hrK38xHxkp+9dvUUsOt5Q/vYAt3eSb5GncQzUX1wo4H9TJKFDZYICB/kVjkkqTroIvLbWGIK8sjVyFcL/8raZp720BWsP0jcxECtLEn9B52wMqJii5lzcFq6/r5+4n2lt0bqTEXyn2CQRpirN8+EKeIszSpT4QFyyu0Og4Lreu5iKsz2govKcbZe28jXDkrYFVEyakLpjcWJaI9HZAQIqiBW9/2kxYG3BCZ7OCM8B8VyVmpRviJdYa/lxYl4Ysm31taBjueG+13zfR9ycQs/HdWtjqrpb5y0O2bUyJT5JLKpqLQm94btQwF+RVd5LAxmTSeI2BPEWRF25Tb6eJlJiotLjrkI+MWUp4ry/WFeAkZChioNhfJfENP20KaPz4F3bAyomqTn/YfDJMBlRd9sCqhVegVtgRdTSckBFu1O+D3R3IlYJ3bu9uNoQL4e7whLcHQQ8pxBfz8zwE9nBW6K2Ogn4H6VmN2liKlqyN5jHDd7+UcS5C3XVlZ11N8oCVwfynMIv3TI2mRr2sLyw4Oh7yKbVudXGFjfrV2QrKbJvenMDToRphhbJZ6zYBrBiIgnUgnCaBIx6G6DbABKAmphmBOKIfzdGXvlVfueMs8AwtgRwPKzjUsImx8CTl/XNDuuISt7qKOB/cVtkSo8GBdCv8IGk1M0O/mcozxrQ6h/DeE7x1yVWr+hO36GBWJlW5Rd5xJaAquy+7Ru1mRvge7iR9IgPWH20wS+C7xST1EAJqH2xye6OQcI0w50VUJA2geVuy6wUrD0qedvSa1ktmk7KloCKNVedXhJyNlY3PcjCkC8DVvT+p9V/uK/kTtLFgkjflINLhe7LEmNztLP7sC5J5oWCxJhW/ZRcVFKHfIzwlqQXanpPZQPiKnBzjk2q17PFOsISPRwDTkWRpwgSJQ011YV8FcB7Nyo0nWaQB+tuyxYWxp3MPPt1iLtz6ImzzYYrWR1nrLXqtCuybXfDCCZd2xpQ0Z5Mj5DtW6q102VtCahWeIVlVgQPy56JKeriihPO5QZ7RW+bL9zpdruiU9NnDfcWVsafK8oq1s/yw6TJabu4gm0/NKgvW9HCHwLdHIRHhF36y0+sufyEi8BjUxX5BkZtE7Tt2s0D7yKbV2cVS/T3uDpr4Wb9Sp8Cx+Q3NwXylqYX9hiOWbsFZgWUCGxB9AkY9DZAtwEmADUxVVmeDxc5LJRRAmpP9WlnwZbdjeoxeAaO19sc/l8hzznM71jJjaiKBN+EXcuifJch/DWFLUb06FEA/QprC4zjOyBen0b5rjb87/3Q343y9Aet8IslJYgJTNCNllHVoO/QQKyoMn6xe9YGVEwmSeSF8J3Dzoa00eM0iwJr9Y/lcyOiSlEcHZJL+3ukShWOtQfF8blhl2/rO32z+Y1PWO62jFNr91X1ZScWhZy9Iu2VKeTE/8Adv0i+05WowoG+3iETJei6+KGu625B27ZUtnRpJCh6CnL3cZH9fpKe7kHynQJDVvT+Z6I/JhNf+dqft+T6be0UXJMUONb48xUDTGVL6EcIf1VuPenhGdZYfMQJ8f5RrO+RcXxYXlh0cinivjwltQz08iimuOMXvYkbcvGavtPXqIG1BcWph+5Jgk0VBByhow3IQtyQii8lei29llk7oDaoQi4VX/kc4X+RVyNV9BupieO0tBl7BTNWTD1zWF6Qe/AdZNvOOuMbSH2t0faYLxDe8lvVxBH1/BRuxJVSkp+isqR1+gS6bJiiRpC4nSv09ipr6AHcYZjzK6yp9KgzsvPgXbrhf11Bln6ZsbIkgRgJsNzbmE8A7G2AbgNMgOOgJoaJiObmQ4y3YwrZQLd0YEBJzJY66oR4HyXaIEPHQ9uak30S9i4L3ros4ujO27fvNIUtRzZurCK7jXkUdIgpfqUOqI6Bh/cVJiJFlH9heZn2xoNwv9qgtPPbUnX/12NumLQudVG0TQzIik7LX+AxqwIqJr0buTaQ917slSyal8WBtVemp3s5BpxNIAcdVdn+EJ5zYoZuCjhQiCEB027LkAPHh2Xhie507026OQiIycbktMQ2TRePtVecmE/3op6DwI0bEamTwJwVrf9hAwqpqFtGeRqp6SNCQzRTcHUFkX4xiZCYo6tNgMnTvhfyPswsJ/WImhb+w1H9u6rDPdm5hxYiW9bnlrWZ3MegQ3JJd1s7KSATw79EH7HTlzq1G1XPZvwgs8zcNAmSluY3aWibT6w7g/Wlu6mfENOYFfE5afzskI42Q6+wyEqnDvFL75nYoEzeJuojez+OdhPhcNnNCnJ28jYqu0rM0dUkUI/dcS8F3yIH1O7k9Qjvk+wafS5soOJEzGZu0BG/JtMPADD2K6w9OM6deykoy7YrJMas9GqbbABbkOUEgN4G6DbABMSzEFATUzT6LxZ4eNWQh22UWZnbucKTEf2Y1d2RlhExgXk+svdUu942llGYoMVxil/hA1dTNzsGnEsg9RQ0eZgeomtiDFgxFT++01kRUBUdyd8F8hYlXC0DcMea66L3ZQQcrmqidMU4Jqs554p4basxPJORi4KWIRu/LWX8ihuJJn23pUuA9tw+fcPfJyuTOuNU1dZZnd9SZfhvvukTzueGB8Q0V5d2U+IXIYmui1f2Nd0mS2ipjM7YzUX27K2uzG9r05TPmBUx3Eozy3e4KyJxo0PAyQjyAOxQxcFQHjcyupyY5NmbmnXk8+iQ66QPRaG96W4BvAVXM7STXLDWgFh3blhwlt5ew7LoZE/HgJ9jtJeWyqrin1wRr++LGuhmnWBtFSedBR78Cikp1A5m39zFRfaeNjRmosbdd864GHccOksw/6WjTcptxq/QrioxyaAtVTnVASsQ/oobWTni+iYlSXdCFh1tnIlXWGZFUtNMQMX6MvhCN5fEDPJDqYG7IR8Rs8Aaid55oOBw7L6vbxbKDPeUWEvFCRfBJn5ll7oArLH4R2dkl2+T3lGx9uqfXQUem/UPSVWigHhPbtBxYZs+DUk3oF/p0xJzMnkuKTk2jfcyZWWmkRJKAFsQKAGotwG6DTABYTNAE8MUuVsDeYtSc3XvbeO4snR/KM85PkX9XJyJ4w3W1F09XZBXr3dkVcPPUe5OEVFluusqyyiY+FVL2fF3kG276kjdzbC8sUNszSM9vevQNjEwK33+X/QG44CK3r0Ys8kB2b2rNOdqbS7pPy9LajQviTzniApnqNbvijv30snzjXclA7L6u8lbw/hOYcGZoJFGvRRsoPFG/e1rdcT/1bzjCwX8NVm3NLuZHeQBEJw8C0CfnWbD9BnqcE+FSFvEtdro7wPdnKJDY9UlpohoZgHQTEoCs8Kk7SUpapnX6nJPJ2x2QA4dvqMutL60ioh2WGed4AOEtzj2cqxY3DrQ3dJREnTdx1mw8esCkebZi7jq9CIB/8OrcdfbO6WK7gZxpm+0pyOy+2CTfigek4mCliP8j5KTsmW9PX3NabdPLEH4n9ws05Aa6kxY6+/mFC4IqiEbNPdqXVmt2iJY/+1dl3iOwT8evVNdL+/p7BXdKL24Ushzjo6v1DVmNVLN5It9P1OjLA1t00NW0DbvV1SxJs9QgbSp+dXTsIxepgKzAnrmcPe1tB1cgdf67Fu3u7qk/R1Voms7IjY6Cg+e71DfamCdUclejsgOfkFhRW+vrF+SXxn8dSDP6XJIlq6BYIqS/WF8p9Az/ndbpYOymsZYtxBNAk0VVHcKD78j4K9Iu5ZAaaS5SXdbeok4DfQrLQr1nEz+5/maB30mfCweALLS5zbbSIEtCJiAuHayrrcxcRu9mtoNugSAJobjg0V5+50Jmxbfkfe0d5UHpng7Id6+In0jpZZi2h3haC3xRR3P9TkFVX1yaXdV6PU9zshO73rdPAYgCkZ+VXpA7VdBEmLKOKpoSb99cini6VbO8FaHSRMDsqKi+GXuMQ6oipub6AfW+KsLmql1t9TxKWU5vtFeum+b8VwjBREdlEEwqijjPeXdkGWm39sjBmB1z5l0Ocy2VV0C7a+pB6MVvvSf03PjhoUZ5VbvmszyBbNSZd/cqYNAvNBi+Nc/4BzuL69AVgfzDaeEO7/LLmjSR7LhnvyiM58FGL7853zp2JFaCXXQdbCqEvkiUJcG8fwiPfOObtxAVnXKmVy0fhvxPa+9NMV629N/iPIifQ9v47L48JRu/ViThscQMZiP/BSinyBFh4n+mBW0LfkVWbhJx8eANjk/XUAFsmLimdhgw+V038UkB3YO/elYveHTm9hAteDaHuKDglpbuH8YF3qV+lbMQGfmD1c8dc7Dc70ivGJ4AV8elUT/RMMpSvfqMNCv1CiIt5wF/O/KyJ/TNGJkdhfISp/TbCMFtiBgAk0trOltTNxGr6Z2w0wCS02MyIlKEjIPLdLZlBu4z7tSRDd6oC7FtDsiJLREpe19V9c8CQkVIsOQEgMUjPxKenNvlBdXwHMSbnQSuDkG7N5UUG76GMgYinafYRMDsTIj/Rd0mHFAHc06Kdukd7JEZfkd0n7D6NZoFjBxZKG9jW2VmY0lWeLG5kF9LDXUDxuSVonLbjSW5LS16efVG06rt7AhaaW4LLOpukpOGiA2SmRpV9Ulq88RFd9oqq7oMby4YykHPGeegHKgtbS5NENUlt/eQXcFgvXLmwrulmSIKsu66b58T3wDUiHpqM4Sld22uQWB/Mq8+r+4M2PR2wCbmKKvueBuaZZYJLH2o35a3pi8tzFPVDISCWC/wpUd0ppbIyoF7B5AVmAR4zjFfQmo45gHVA0SgAQgAUgAErCJAAyoNmGDmSABSAASgAQgASoBGFCpPOAeJAAJQAKQACRgEwEYUG3CBjNBApAAJAAJQAJUAjCgUnnAPUgAEoAEIAFIwCYCMKDahA1mggQgAUgAEoAEqARgQKXygHuQACQACUACkIBNBGBAtQkbzAQJQAKQACQACVAJWBtQVR0dJbHlycLilIjaijoFzacGqPJp9lCFOKc2I7g4ObS6uNzMm+s02UwPDXXVd95ttvZbBUNddZ2iqg6T/84O6rocwJqqOg0oKutp1EBlXRVXK1ICSq7HNDa2G6HC5E2manSKDV/NUdcXyGpA3pBxJy2w+FpYdWFJL40SOCavb86NKE0OLMtKb6d+dAeMApV13zVh1VRv+MK7orWrySSBqKrjbrPua3mmdjN/ZLCtq+lOj9ULL/TLW+h0EN3poXzgTdkvukGwSgquzM3ukhsZhNAK7a4S3QorTvIvzUhqFuu+7UbS1wJMHMhKI8eiVxBJBlvbi2PLrwWUpEU31IlpvgNgSQIYBcjxwBJIPCxtWmJlKR/pnKWakpLBTUhgvBCwJqAONYWn7lkgcHMK2PpBiCexunXgAd867SKUzCqEdTZFrgvmOyAe71/a7ip0cwzw2VNjFESYSRpqiUrdxRW4b6omr+QAzqtecUn/aTfShvBsgu6bfDiwpqg4Nt3HReDGDfDSofA9XE/6Tttwd1bukcUIwepDghXPJcI/gfTFPrQ35Vvd18h035lzc0B2/6RfBwYHsRruLyk+tUzIeyfEZ23sof9e8uAi2zbklZHX7cH6y07GenEFfJfgHUsD3R0EHqsyckS6SAJGgXWExJG+faj9+Bl/RXatFpV6QTGD/rqvozkI3L1qrPiipNpsg3VV5z9G3JyTskzW9rRsVlV+1i7dp/hIBhW4Oafk6L7xNlhVcX6Fv5sD4rH40jZXIc9B4PllZj55LXRlV9buCA8HNaslge7EaupRl1JJnzKyDBMHsiK+cATwCmywzj9pp7Ng09KIQ+ti9n4YwHMKOerXRIrsAAlgFCDHA0uwbAzNWQArJiIANWUiAqaBBMaaAPOAOlSSu9cJ2cYvuqMOoZhcmrUrjO8YdC6BflU8mppg/bnbg3kuUZfTe4gFUNCBWiTRixtwLEimX0mBJhf5EDbYVtJcGFUQ+H2Yh2vIVmfrAyo+1N0kE9d3kf47cvdd5r+XmC7SagGsKVpDfK5687rcMgkRnLBe6c0dYXzH4AtJWhRYR+359xGP1beK1aucoVJJolswzyXuWoOuomhn7FcIf21+FUUTWbtU95VcICulJOIzhLc8Pa9FEyCx7ptZe52Q7YYlvoe7r6Zu5Qb4Hm3sID7wi/UWFZ1YjHh8W6rWmvh6OAgF1nQuiu8UE51PxtUlaR7Qr18z2NktoVShS3T1xm6noJOXSVGAbEHj7eG+prbKtKr4fQneLoHb3hfaEFDxgf62BoqG4qrawE+RLfwK7ae9la1X/ovwliQmFvQTfDFlc0yaN1ewZWuNLmBizYKYTY6BR/yapETdhvtrqi4uR3iLU/O0q88CYYJZAb1iqDBnDxfx/qGuQ8MX7S89FMHnhgivay9OgBLAKICOB4RpbEHTfSAr0yzGR8A1Nc4B9yGBcUCAcUBFG85Gb14QE1+rCwnEgrOFh5yQXYdbdEEAUB9iGT9nxPtwi747xlFpwhqEWIhUf3NoWYai7vwCAc8l9PC2vLyKWv/FNgRU4wIGi/MOvBN4Ikz/JVxgTTFJSOJWl8uh+bpbPRxH64sOOSE7D2lWCcU6QuLduWGheQYwGlaG5TmV4svLEXcPs7fXQFYagT+olynWVgntjPsK4X1y6462O1avUbo8q8rwuXys5WI0nxsRWWLQnIzDFMWdo2E85+Qs5mt4DbRGf+Xv6VbeSl8CuTTNtipvm78bN2DX2tTopPa8PcE86+9QTYQO1Z6O2uSamKa7QlKV3T640P/QBdJiVGrH432UVaVlJUtxC/b49JZ2l5CIiQXE4rKXNKvPahZ8tQQTBbECeoXGOpcvFxjYoVUFB5wQnZWBEkxI4MYocJDjmYgwkWCSwvgAmJVxDpN9G2pqIgMegATGngDjgEqjmmbRroPkfoomleHQQGKKh2MQkkYOnmjt8XC+U2yyru8zpKbdwgalInmfphO0vB4qbXbTg8qO+LX+m9YWNhmCvGkiHFhTzYIze463qkOoMndrAG9ReqFuvJGQONQasQLhry/RLphKrOaBeHo3mCsWyEq9WCmybZ/IMLI61Br5GcL/ukB7yyqvOeci8PqhwZAAx1XFxD3Qj4F0t480KNDiPUE817RCQ0imgUM6hIouxGxaEJNAXYOWlMB0c7hf0i3t0YQQwHqopplpjwxVFhx6x//QxU7D5YxpOmVr5EqCVbMheBklwprOXeFzwyOK1SnAMIGsgF4x3BWeuJEbEnjD0EBUJbl7uIiuiQElGFUBp0EBcjwjETQSjFKY7oJZmeYxOmJ1TY3yw11I4P4QsDGgosq2vDJklb/7JxkF2uWsgfqrL8CdrsRUYpi8uzbnbsVtaS823BWW6M4NDck227GZlTsKARXriLjqyQ0LyTYX13CcSU2x/oIfQnlOkVGaOz/NbfcXt0Xo8ICotSK7ubp2AMP60tyEvGU3KzT16a8564zs2lOWdSbj1PqoA6tj/bxzbxTpl3JhwAobKN5/mf9udFhKVz+KYwPyauHVbU4hZ2O1o5iaW9j9ZzpQTNla3FyRI27pGsbayk/MR3b63jUJNrQohnK2CHkfpV+Pve2/Mdb3q6gf+WmRkRL9vbyRabDmCj9XxPvgXfKFhFEai7ujEVDRngx+IH/5zQrD+lZGZWIDTS3XvSM2zb/sn0KZtEROh3XUI8uIpb/r1K7BACaIFQOvwKSNQZ8gm9fcKqgfRPHhQYn4Kj+EvzTlllg9LMRAArkKOC0KgONRBNBLoCYx3WPAyjQT9Yi1NaXmhnuQwH0jYHVARbtTvg90dxK4cQP3bi+u7jCMAIPqgNadjOA7xSaJMPLClgNxye4OgYLrJj08SBw+8oDafzdkOeLhVk4/r4phTTFFzbm4LVx/Xz+xdqH1oTbi7mddcSuK1vtF8B0EXj6iIVyZ7Sl0c00rVNcLay0/TszqQratvhZ0LDfc95rv+4ibU+j5OE20YsZK2VNwONpTvYShO1fg5hJ+IaJTfz+quas+4t+NkVedlN854yyguTOmRYHJ074nFsHlL4k6sz878qfMs8T6rMiu7Xfolh0eqjgYxndJTCPP9AEakZJgFAKqIvumNzfgRFgPnV9ibcEJns4IzwHxXJWalK+/fKEoQYz2yiRxG4J4C6Ku3NbiBMMEsmLgFTiOq5rrQ9cQ69fynYV8B4HHitQM/fq1zCToK0OLAuR4+tzEBq0ESgq6HTArulyUY1bWlJIX7kAC95GA1QEVU9TFFSecyw32it42X7jT7XZFJ8M1TdEGvwi+U0xSAyWg9sUmuzsGCdPG/g51uCsqyZM048PYCkxqquy+7Ru1mRvge7jR8IBOHcD43xRLKAF1MMtDyHsvvUhdDNYlybxQkBjTqpsUg6OSOuRjhLckvbCXmK8FZoUpqs7GbXW+9NPhkuzUxsLE8qitEZsXhAtiZZprE1VZng8XOSyUUQJqT/VpZ8GW3Y2GUUVCHzMosIGaKwVxgupa7cQcHEfl+d5hPMcQRDdNRg8Na6067YpsM0yJ0p9hvjHigIrJb24K5C1NL6R/6DvcV3In6WJBpG/KwaVC92WJsTn9pnF3qKku5KsA3rtRoely/VkwTCArJl4ha4ndEOz+YfylwDsF6Q25YXnnVgVsWpF2q1HdOhhIMLA2gwLkeAYBuBkJpBT0m2BW9PlIR62qKSkf3IQE7jMBqwOqQd9heUHuwXeQbTvriBAA/sNa/WP53IioUhRHh+TS/h6pUoVj7UFxfG7Y5dtjHlDR7msb1GOw4AeE9DXFZJJEXgjfOexsSBtl6BDtTlqH8Ffl1Q/haL+ip3OgV47iaM+1DQhv+a1qs6Cwxp+v6FCAWakKs3dzkQM/txtGq1H5jY2BPNeUbClxiYOJio84IT5+bSocU8gGuqUDA0ocay496oR4k6cyqV+/ZIwCRyvy93NNJOBYW1Cceuje+pEGA5CRBlSsqfSoM7Lz4F0DE4NwyhYmE1/52p+35Ppt/bUCcX5YXlh0cinivjwltYzyHq0VMEnlUFiBvQKtORbOd4qKKTcwxCSVpxYKPL3uEFcIYAmGspmjwHGy49kmwZDLOsej5CPtWFNTUja4CQncbwKMAyo2KJO3iQxv9BOKq/3e8FwQVBdlerqXY8DZBP2oJDHEVbY/hOecmEF+exIkR3t+ZEO+xDTa+ciOA6azkRjVFJPejVwbyHsv9kqW6XcIVMV7gnkuKTnk+yRFU9BSZCO/0vw7lphESEwrDVFPKwWxwtoCY4nElGfP2N1zUURI1kwTVTT6LxZ4eNWQ39NVZmVu5wpPRlDuzMyjoLEE1lB02AnZeVAzn1mXQDOx84PMMvDViS4Lze8IAyrWHhznzr0UlGUISJpCsAGFVNQtozza1VyyaGmrkw33ZOceWohsWZ9b1qa/NdVpyRimLgPxS2UF8gq0O3k9QrQm8uUA2hm3mrgOu0PIA0kwlG0WhSGJYYvieLrDVknQZdL82sSKKoJ5Tan54B4kcH8JMA2oWF8GX+jmkpghIQ3wDtwN+YiYuNFIrQPWXBe9LyPgcFUTdWARk9Wcc0W8ttUYHnDJRUHLkI3fltI9k6MKNd2zHFDRntunb/j7ZGWamXHaF3fNwzi6q8tgUlNFR/J3gbxFCVfLyJ2fXsVheWKKJzfofKLhDd2BzMydXOGxEM302uHe1Kwjn0eHXCd92gjtTXcL4C24mqGe5AViNdwbnbTJwf9UFDk0DpXsDeE5RSfUqeMBpsjdGshblJqrvmFVK6cs3R/Kc45PaaIEDHMoMGl96LrIg74NhqFPHOu4nOjh6O8XQbknx7vvnHExDt56HIw3AAHVnF/p5CuyPQOMr2OIc8NdEYkbHQJORpDqgQ9VHAzlcSOjy7VDI8qq4p9cEa/vixpoZzOBYDJgBfIKbODmJn+3BUmZ5IvLAVHAUgF/TWGLuiIgv9KRwM2iADqeToQ5CbrzFn5BrAxZzTZSECuDCLgFCYwnAkwDKj7cfS1tB1fgtT771u2uLml/R5Xo2o6IjY7Cg+c7jO4IyHOOqHUdqvW74s69dPJ8413JgKz+bvLWML5TWHAmZXiNmoW6hw003qi/fa2O+L+ad3yhgL8m65ZmN7ODMvKs/Xc5dwAAIABJREFUfgzj5hgccIN2MBmtOxHBJ/WnpGKANUXvXozZ5IDs3lWac7U2l/SflyXVzksakER9IeR9kBif3imV9olvlZxbjvCXZ5bqvm6IiatOLxLwP7wad729U6robhBn+kZ7OiK7DzbpIhWAFdZRe2Epwv84JeW2nMA3pGhOyvJ1EWz+tlSsq/FgUd5+Z2QHv6D4jrynvas8MMXbCfH2FemK0FTaPAq096ZHEI97ye9cQ6N4QN4hq76SedBVwP/0ZpmuIhoRmnko+35uN/IEElVzm8M9FSKtQa/VRn8f6OYUHRqrtm+KSETNZN6v1OmG1G/CfJ5v9HyYuFPsrBN8gPAWx16OFYtbB7pbOkqCrvs4CzZ+XSDSXPMNdSas9XdzChcE1ZANmnu1rqxW65wAmExYAbxiuDspdRsX2eVVWi0hvjiokknzDkV5OAYcC+7SmhQgQcfLAgqw4wFg6sqw9Atgpc9qoZEyrKleFNyABMYDAcYBFcexwYbL6b6LSR/Mcw796Vi96YcDLXV8SlmOb7SX7kNxPNdIQUQHeQgYwER5N2QZSQHSR++MH09aaKtEGeq3Bp3iUzUvJBiVCqip4uYmYu6r6T9/dUGzTtRQQ03wmiDdd/sQz8/TMqrIN+zDPflFZz4L4OnlOF86dqRWQh4yBbAa7ispE3xBFMF3DtjkJHBzDPB2zy9rJd99opKEzEOLdMS4gfu8K0WUkU8ACkwqTvQM36yzl5uDcMe3t3IbjOPmEDGYj/wUop9ipaMA/kUrfEMNEPQ0HARu3LAwanZLfoXjOPGGpYD/XRnpA5D6/MP95RUIMUVZbzXhzu+yC5p0lx6yqlPO+lPkDcT3vH62GQAmE1YAr8AG6y6l7X8PcXNA3F38+Y4CnkuY389NunBKVAcgQVNjiyjAjgeAqadqYQPASpvTYiNlVFMLKsBTkMDYE7AioGqUUw60ljaXZojK8ts7bOg/1UKUbdI7WaKy/A5pP2kAeewrb7nEUaipqqtGXJbZVF0pJ43tkkrFhqRV4rIbjSU5bW1m3u4EsVL11LdWZopKssQiiZIcSw3FKPqaC+6WEglovrRuSGZ2a1gh6byTJSq+0dwgUhjHUrO5xuEJtLexrTKzsSRL3Ng8qIulVuoJgMmEFcgrFAPikubSG6Kygg4peZTaoClIgiGlmS0GjmcmpzWHAayYiBpxTZkUAtNAAqNFwOqAOloFQzmQACQACUACkMBEIgAD6kSyJqwLJAAJQAKQwH0jAAPqfUMPC4YEIAFIABKYSARgQJ1I1oR1gQQgAUgAErhvBGBAvW/oYcGQACQACUACE4kADKgTyZqwLpAAJAAJQAL3jQAMqPcNPSwYEoAEIAFIYCIRgAF1IlkT1gUSgAQgAUjgvhGwOaCq2qsL8vPLdWuAWlEBVXtpgvC47959R86EZzeTPw3EWMigOO/KuR/37vE5eMI/kfbTOCBRo6AEqAh43goCI7coDk1qBe8xSIrJ65tzI0qTA8uy0ttltB+9BmmByroqrlakBJRcj2lsbLfxUxygQuB5SGD0CNgYUPtzdvxtmt0DnJe2FVj16RxMHMN/c7a9HWfaY799csYkO9b0F1ZerLKqsSnKzq54Ybqdnf202b95fMYklh1r5ivfXKq3orWNghKjZwAoCR+5RXFo0vHlR1h/2clYL66A7xK8Y2mgu4PAY1VGjsiKNorjw91ZuUcWI25OAVs/DPGcL+C5RPgndFvV24wvJlCbXwMBmwJqb4bHy9Mfengay8qAirUIP3iMPe2VDeG1xEfkVa3pPzjOZk97+4BuyQ8wcVWh9xtTWQ+/6R7TSNzbYl2Fp5fNtWfN/jDAdMktemmjoAS9YHjUJgIjtygOTWoT+XuWabj7aupWboDv0cYOdSPtLSo6sRjx+LZUwjikYh21599HPFbfKlavE4hKJYluwTyXuGsN9J/XvGd1gYIhAWsI2BBQu5K/e/GhP3979H9/4VgXUNHag/+azH5mXZJ2SRb1Co87X+PYz+NnMrxJRcsPOj46/bn1yYaRYlWp9+sc9py1icy+sT8KSljDF6YFEBi5RXFoUgDjMT6tWRx3eVaVoZFiLRej+dyIyBKGERXrCIl354aF5hnuSNHawkNOiM/JNsOhMa4XLA4SABKwNqBi7dGrn3/49a1Zsrytf7UyoMqQJdNZj3waRlnxOsPteXvOW/vMrFoK1B/HVflb/8qx/4NbBrOYfG+UYKAnTMKUgJUWxaFJmZIdm3TymnMuAq8fGshXuKrinD1c5MdAzXrAQD2UuVsDeIvSC8krIw21RqxA+OtL2oC5YQJI4H4RsC6gYi2XPnt65ts+BQpcZXVAVRXvfI3D+cuWXBUmq8xIiE9IKW7DsKajjpPYc76OJ7c+K2BgLSGf/o7NeXFjJjMB90QJK/SFSUEErLUoDk0KQjq25zW3kvvPdKCYsrW4uSJH3NI1jLWVn5iP7PS9y+j+EpUmrEH4X9wWocMDotaK7Obq2gEM60tzE/KW3awY2+rA0iABKwhYE1DRRsHS3z7qdLSCaBTWB1RlJn+ePedNn0pUeXPjC/YPsGavilTgsvOuk+1mLA81DAMz1x5rv77tn7PYD77sntLFMNfoK8GwYJiMCQEbLIpDkzIhO3ZpNKvNH/HvxsjLncrvnHEWeHo3MBpHGmqLXInw1xW3omi9XwTfQeDlIxrCldmeQjfXtMKxqwosCRKwkgDzgIrWnHr38ScXna3TPAaxIaBmbXzBnvO3PeWUgCo9++5k1qwVlw3PWxjWQFEd9PVLD7EfenldeCPDJzPEwsmjqwRDXWEyJgRssyg0KRO2Y5hGVZbnw0UOC2WUgNpTfdpZsGV34xATTdSRmP9NsYQSUAezPIS899KLmEiAaSCB+0KAaUBVlh12fOSJRX7Fbe2aP0mq+5/sOX/emCbp7CI/FDVfC7TS502O/QsbbypxVW+7RCxplQ3iaM2Bf3LYczekMBux1UrH2tO8uU/aT35m8aEsqVXT/kZRCfM1hWesJmC7RXFoUqtp39MMmKj4iBPi49emwjGFbKBbOjCgxLHm0qNOiPdRMbMh3+6kdQh/VV79EI72K3o6B3rlKI72XNuA8Jbfqr6n2kPhkMBICDAMqFjzT46THqD/s5/HZ6ZBf/hns1nTF1+UkpL3x3z5JHuK04kW5mERk8TzXn+YPevv7jFNjJonqTgcHyUlKDLhzsgIjMyi0KQjoz/quRWN/osFHl415OtsZVbmdq7wZEQ/s3auKt4TzHNJyekhKadoClqKbORXdpOOwU1IYHwRYBhQ8cGm/JRk8l/iz6t+b2///H/PJF67aXTNiNYEeXy+ctW6U/nUByZYO7JkJvuRpYhE36pkUV/+jj3lXwerGQ/a9uft/b+Z7Ef+sztLZpHkPVXCYsnwpHUEmFoUhya1Duz9So0pcrcG8hal5kqHdSooS/eH8pzjU5r0LV99Bu25ffqGv09WpvEk/2F5YoonN+h84oA+w0Bm5k6u8FgIw3nCupLhLyQwlgSYBlQTnSw8QyXPOaLm60vf+OfJ7N84bQ8vaJQ0l8bte/8ZDmfu6ijGw7bKgl1vTLXj/P7jAwIh5S8gtrhL3/aIQu+hEtQ6wb0REbBoUapkaFIqj/G7N1iUt98Z2cEvKL4j72nvKg9M8XZCvH1FfZQmiuPkWUtGtRmQRH0h5H2QGJ/eKZX2iW+VnFuO8Jdnlvbog7RRBrgLCYwDAmMbUHFcUS5Y/doj9nbq0WM79ow/LT+RJ2fOof30gsm0A8+cl7cXUsZ/zfe+I1aCubowJZCARYtSc0OTUnmM5z1UkpB5aBHi5iAg/rmB+7wrReSXSjW6WwioOD7UUBO8JoivkeCAeH6ellHFaErTeOYCdZvgBGwOqCPh0t9UmBobFXMtt6HX6JJ1JFKtzDsulLBSZ5jcIgFoUot4xvykoq+54G5pllgkGbK1nau6asRlmU3VlXKFrSLGvNqwwF8xgfsSUH/FvGHVIQFIABKABCYoARhQJ6hhYbUgAUgAEoAExpYADKhjyxuWBglAApAAJDBBCcCAOkENC6sFCUACkAAkMLYEYEAdW96wNEgAEoAEIIEJSgAG1AlqWFgtSAASgAQggbElAAPq2PKGpUECkAAkAAlMUAIwoE5Qw8JqQQKQACQACYwtASsCqqq9uiDP+C+/tMmKDx2p66ZqL00QHvfdu+/ImfDsZquXbSNkDIrzrpz7ce8en4Mn/BPLOhl/CNjAFixhsCU38tyP+/b4+J4Qxpe0Uz7DpJXT15AR4ndwr8+h02FZTaYVYVJRsyJ6RSX5xrCJ/YJayncaB5vVWvrsP3oxpqiN+u1koAhgAny0bG4Ab2YLbA8zGQ2HgSIYWBQ3aw9NOQxMal4CGLe6EAsmBUsApxgzkzJgZTAe/RYq66q4WpESUHI9prGx3YZmTi8WHoUE7hUB5gEVrTv4Nsfks3/2v/9fOrUbt6gpJo7hvznb3o4z7bHfPjljkh1r+gsrL1ZZIQDHFWVnV7ww3c7Oftrs3zw+YxLLjjXzlW8u1VvR2sAS5Pk/ffD8g3Z2nOmPasuY8dfVgbXkoNqXf2zJs1Ps2FMfefLxhzh2dtP/vPoSaV1WJhW1JGIwed1TbBPaDzzwwOTFAt0VTH+R30d/mGZnx3n4id8+Os3ejj3r9e+jDMv2AEUAE+CjYnOLDkGcBNtj5CIYWBS3ZA8cxxmY1KIEMG4ct2xSsARwirExKQNWIJsOd2flHlmMuDkFbP0wxHO+gOcS4Z/QTW6CIAnwPCQw5gSYB1RV/taXOJzXNyeXlpH+ymsk/YyVxlqEHzzGnvbKhvBaIpOqNf0Hx9nsaW8fKGccDlWF3m9MZT38pntMI3FLiHUVnl421541+8OANoafJgNLUNxwf5HDftzph9QWItRjsqIzH8+1Z81aImjVldGbtOEPnMnzVl0sJT6eONgQuf6vU9lPfHKpU8OCSUUBIvrE1eUkzmVlZXnCz5/jzHI6pl2ZQ5G56c+TWLPe9kpqVuI41lt6YcXzk1iPLhXoQypQBDDBKNgc6Bxge4xcBAOL4gB7MDApQAIOxA00KVACuIyxMCkDViCbYh21599HPFbfKm4mYigqlSS6BfNc4q416JogSAI8DwncBwLMA+pg6oa57MnvniWvZmqdwmjtwX9NZj+zLskQglXFO1/j2M/jZzK8SUXLDzo+Ov259cmGAVZVqffrHPactYnMligHS1Bmeb368IOv7yg2XA2r1WQ/9U2Spgys6aTzNPvn1ifr7hVxvDs/XBCeUas5wKCiIBEmZOUZHi9Nnen4Y6VWK/W9COevXnkGcrIrn89hT/6/g7VmLk+MRQDLwEduc5MyjA+A7WGcw2QfKAJsURxkD7BJQRJM1MaN7WG9SY0lgMsYE5OOvJ1jHSHx7tyw0DxDG0RrCw85IT4n2wyHTKsLj0AC95cA84CqiFj5CHvmJ2GGaGit5jJkyXTWI5+GURYeznB73p7z1j7jBRGZy1blb/0rx/4PbhmGyMI8szolWMLgDd48e86rO4o0jbn9vOs0+2e/vT6I45hC2ixqkVGDucWKapQDiTCqgiJ3x+tTH3x9Z76+IOmZdyfbzfyUYo5u4ZJprIeWBvQa5VbvmoowSkWTYOQ2NyqD0S7YHkAxQBFGFsVB9rBoUvUFDEiCsc6muK01qakEcBn4GJgUzMpYT5N9Ze7WAN6i9ELyAjVDrRErEP76kjaT1PAAJDBeCDAPqL0XF01hP/XZkbNbVr7z1isvvfLW/OX8k+ktzK8X1bd5nL9syVVhssqMhPiElOI2DGs66jiJPefreH2ksI4M1hLy6e/YnBc3ZtooAAdIQGXVSUc++eODk55dGaJdHllJhNdJ8w/EHl31t99MsXvgATv29LkO3wVWaK81LFdUXT+QCCoEtPb4/Bn2c9fEdxuOywM/mG43deE57SCz+oQ8eNnDdpy/7aYZQacTYRBGDKrRlIGP2OaUIpjtAOzBRIhlETQWxUH2sGxSwvVAEoz0psNt0aRG+c0YjJKKrowxMCmYFUVLuh1UmrAG4X9xW4QOD4haK7Kbq2sHMKwvzU3IW3azgi4HPAYJjAsCjAMqJvrxP5Ps7Ficx19578vveP9bveiVxzh2nKc+OF/NMKYqM/nz7Dlv+lSi5IUtZeddJ9vNWB5qy40v1n592z9nsR982T2lyzaaliSgVb7/mTGZw7Jjz/jjBz7XDJcOiiv/fZTFfvTJp+a9vyMgJTf/RuSRz19+mMV5/ps4tRqWK6pWFCSCUpve+DXP2E9z/JEylIvWHv73VNYMp2N6/Kra066PsR5QX7JQ8uM4TiuCnIg2wchtTi6CybYlezDJTzzyNu8UZi2Kg+xh2aSE74IkULWnxW3RpNT8DCxKb/MxMCmYlXFdTPaH2iJXIvx1xa0oWu8XwXcQePmIhnBltqfQzTWt0CQ5PAAJjBcCzANqW5rfjm3eZzL0k39UDYGfPM1mPf5pKLNopsza+II95297yikBVXr23cmsWSsuGx6KMkSjqA76+qWH2A+9vC6cNLuWYWZ1MoAErDPz/J5d2/irF7/6xKTJcxy9EsSaCRGKsE9n2tlN+fueUv0oM1p71HE6a9qC0y3EzYrFimqKtiSCOu0CE512mcF+YkWo8cPrrsTvXpzCmjLX+bt9J08f27n630/PeeWV37E5r+0qMbrEMStCR8tMAmzENtcVwOgXYA8mMiyLMGtR3KJJMZBJCd8FSSBrbwY3jlswKTk/jpuVoE9mJsUYmNSy+zNq5+qFx/nfFEsoAXUwy0PIey+9SF9HuAEJjDcCjAMqneKqHM8/27PnbkihO2lyDK30eZNj/8LGm0pc1dsuEUtaZYM4WnPgnxxChFUjtlh7mjf3SfvJzyw+lEV5LdOkUHMHrJKAtae6vzqV/fhHQernN+rJI/YvuN/Ux1McRyv2vMlhP/P/CBSWK6rWyKIICgq0+sA/J7N/tyae5hZe1ZS4d9W/X5zz2GNz5v3zoy3BBTH/by57yjun9ZORNbW3JEKdApiARFFvc4qWpAS2bVplD/oirBFBsqj68gVkD8smJVCAJJB0toTbrElJ+XHckgRNQnAKg8BRNimYlaFoM1tod9I6hL8qr34IR/sVPZ0DvXIUR3uubUB4y29Vm8kED0MC95/AiAIqWr77DQ57zpoEZvXoD/9sNmv64ovkW63+mC+fZE9xOqF/1wMsCpPE815/mD3r7+4xTUa3YuDM6hSWJaB97Y1VVc2GGby6GMme87W6ppjoqMMk9m9Xx5FiClq19+8c9rPfXicKsFhRjQaWRJDE4miN79uT2L/5KoYmnhrXFq31fXuS/R833SIFekJ3kAhgAnJBepuTtSQnsGHbsj0YCbQowqJF1fWwaFIihUWTEjEZKEFfDWtw05sULAGcQq8Ojo+2SYGsSGWb2VQV7wnmuaTk9JDOK5qCliIb+ZWkiQSks3ATEhgPBJgGVKz10ro3//Tq16HthgFJtO6Y43TWg/NPNFFrgtYEeXy+ctW6U/nUnh1rR5bMZD+yFJHoZciivvwde8q/DlabedODKpjY68/b+38z2Y/8Z3eWzPQk6Yg5JYASsKbjTlPspjsdb9RrieN98WueYtu/6JGtLgGt2PvWZPbTq2P0KmDNPy+cwZq+8EwrkYBBRS2JIJWLd55/b5rxRYimlvLCoN0e2/zL9NcU/bc8X5rE+eOmLCp1CyK0uMyVYdnmZC21gmz7YWpR3FaTWraohhbIHmCTgiTo4ZjDjeNMTWpegq4QcynGxKRgVjo10Z7bp2/4+2RlGk/yH5Ynpnhyg84nDujdbCAzcydXeCykW39EJwX+QgLjhgDTgIqj9afffYRl/9v520Jz6lvbW8qv+a1+dQaL89yaGONBV/KcI2pF+9I3/nky+zdO28MLGiXNpXH73n+Gw5m7OspYAjUXaU9ZsOuNqXac3398QCCk/AXEFndRWpo5JcASMHHQx79hs2a/9e25lFKRRFyXd+XAsnlTWFNe3Z6rjVVYe+SXz3A4T7n6xFe0SpsLL3s5Ps7mPPt1rO5pMriiQBHqWqvnjtr/aXO2UZAkPotR/MPfprJmvuUWkt/U3lr5/9l7E+g2jjTP02dVT1d31/Q1s9u1szP7Xp/b091V3W/m7Xu93UsCok2ZtmzZsmXLlu2yyrI9tquApHiIpA5KpA6KknXSsk4kCJAgwfsQb4oneB/gCd4ED/AAAZAECRBgJnNfAgQyAWQiExJVtsufHp+QR8SXEb/4Iv4ZkZGRFZfe/KsfP/ezt9O9+/p+TDjBsgcIoMxpZRTYpt/y8DT1yEXKo0QJzvLgLFJOC1y4+RYpe4G5eLGH+G0UKUFwstpOqONZqSg4XVbvc0Ntmcv/UCp+vfRB7ZLBsKZr6rmzH0X2N/SubLkyCb9A4LtHgLegEgQ+Vxn/8l/94bNPb6+I9/SP/+JfP5P2+45FsjV8ZO6t/ZJD//wnzzltPP3sT//v/dfbPAZX/SNavPnij5kW5Hvq+X861uXuq5E22BLBxwJubLryzj/96fOunD719O/97N++VAzRVc3cnvLO3/90G8bTz/7Hvz+Q0kl//5NHRrlMkLiy3/2TZ57/t2TGlRWt6ptv/+0fPkOxfPtaq+94mF8TjiLxcw3eZe6/2Pyc9VsenvEeo0j5lCjBVR7cRcplgQs3watIOUvUr9s8+SJ15JJXPfcjqARhnxhJ/zgNCZKIyD80+oOaOo3d0yNgDwh8xwgEIKiOlOOrk+3VRbk5eaUqzRJdYALJ1/pUV3VRfmFl6wS5cN939d/GwkBjaX5ObmFly6jRQ6xdKcZXJ1orC/MLq9ommTPCnVFOE65rsfxiprHm8vy8J8pyR8qcJf2/1cPcJUpwlgdnkXJa4Mry706RcrLiQkEQm8YRXV/D1NCg2fodbiq48wEhfiAEAhXUHwgWyCYQAAJAAAgAgcAIgKAGxgtCAwEgAASAABBgJACCyogFDgIBIAAEgAAQCIwACGpgvCA0EAACQAAIAAFGAiCojFjgIBAAAkAACACBwAiAoAbGC0IDASAABIAAEGAkAILKiAUOAgEgAASAABAIjAAIamC8IDQQAAJAAAgAAUYCgQuq3aAeb1CoyxWarr61R1m5BLPqWkbr0tUVmUPq/keyQGDLGm2TUl2e2ltXPqN7rNU9cfPU0pTGtMz+WSnMtDytWZpb8l7bYXNR31PUX5HaU1MyNWP0WTuNhpvNAmExT9QN18jVlcqhrp5VhlfXbWvaemeAkb4Ri0cK1s2zGr3W9294ZY35FXi2nPqBaTeOLTFcQrOk91wBbmN+UV3UXynrqSmYGNPZma9PA+K7ubnkgClVV+WMDo4zkPCNwnoEsy4ML01NrLOuO8IaADMNapuUPeXy/haVYdWfc7PBtBv7J5uUPRXy/saH80vrDOvk+XEb67xxyrdANfrpmQ1GpKx+ZVsn3UamLlcMtrUY1+i+ydNtOD2Tlb77BG4en2nN6a2Q96lqF02sheEOz7CBmYwDZQNVsp6HhZOTi/RsMASGQ0Dg2ycQmKBalmpjs44EoRGvKOJ2o6Ig2bmkcUMgfo4vTeV+mo4EoZGvZhwLk4qCZYkJIwv+Wi4fRDaj6nROZJAECU0//po8PFgiDsvPqGZeqcgnsvcB20DnxVCJSJhfPMzYZBGEdfHBJzJREHr+zhIto5szeQ8TyIjyuDfSIwUS8cuFOQ3rzCaYLWyt96i/3icVv6BIPFyU/H5GpACN+7ytT081wbaRwfvvkpeO2psRG4qKBGnJ17Tum4fNdtVJgXNVNs//Q6paLN7ZJJdiZMypf5i22cw3UcfCb56XCJLeLnGVGb4xllp+IkQSsTcn+dPCM2/IxELF5ZQpdzoZkuJ9CNMV1SaGSkQCWczriuhdElGwPOniOB23dwx/+5uT9wpJ9/ioc5pWYLQYLAGshoYT2WTElxTH98iQIPTo4ZZeWnHQLDDDxFfny49khgenxh0svHQ493goirxWnK+ie4V/t8E0FzPF2yvteQAPjxlh+LYPs18R9vEh6UHSbSL3ZMSFScVBkuhDqs7tT/kSPNyG2zPpKJi38fW+G0UxAkcl3SsPD5JEHqxr0TKXB7MFYmtZ1XppDyoSymLfIL1CHJqTWrLscU/JEhMOA4FvjUAggmrXXM5GQnJkJUayB2Ez91zKixAo0Gr2zp1XtvD11mPp4tD8rNoV8oYVs4yipTEC2ZU0E7MUeUUnd/EZSWFEsPxSypSBNLG1PqK5vx8V76luM1JSxBCP8dD6fMEhWdRLMjGroNpHb+ZH7pZHBnsIqr2n7dwuydEvOjTkXfOWdXxYekAq3lPdwtD+MlsgbHM576Li/bVts85WBl9uVJ0RosdOT6w5k2pbIBcHf7m4qG1tkyDwdWPz6ezw4PS7Ja4G2rK+MGHUjdP+NKPyd9CjyMCCb8PFnFNOmPblKZPHJcb1rWezkJdLa7XbJWbvakkQoPGnxvTOLgi23pucgwgU0ocMEsBYCNhI98UXJFGftvbNkenGVw2Nx5VIcPq9cupLI4wRGQ9a1W1JobKoUFZBZQmAjX2dFx6cduX2rMlOELhd96A2YZckNm6E4c6AGSY2ci0bESjR8lVno4/ppzIOouK9tV2ub5Bxus3G0vIcvUDHjdqy+tPCtBtZvqlg8SvMUHo4VfxSUZ7KTN7y4Bsz+Q/jBZKY42Pbt5ycbsPpmYzcPQ5uLZdVxwpkSZcn9WTbgK92d1/fg0Z+0esoYY+gbDu4fvTuq2jkoSb1DIkTM8yVitLFocWVE7ybCjbTcBwIPDkC/AUVXxhMCUVPX5qlWkrzkrpkcnTG1VnhSiU+03slBI2/OEsN/2CGko9R5L3WMZ42MFOVKD3ynSYNZQLXSQoRQWZGi6+M+E/QhuZKbtSHzTVX8xAWQV1vbz6zOy9L2XxOSBdUR0/m+QxZAAAgAElEQVRCmFdE++aUpb7+hEB6VbHiVd1ZLBDYaFeyED11WUfdcWNLxR+h4rebhh1Zc/Qk0PO39VQAs1a+Dw3/slfPnFGyhY0IK61xSR0t8yw5DRzmhrrt/Avy68plVxLw2fsFiCArq9N1gCAwTed5r6zRkuKzic8pSmNDszLbaRbGu5OF6IlkR1PqE8HfgdXZ7Pdl5y73Z3+IMvdQ2QI4+uLILzu0lB/aes5mikMeVM14FSkbTNKTxW83O4vPkUh86k4+DU4AbrOdR8t8wUep0aL+eYrN9hk2v8Ineq/vkZ2+NEvlAzOWHkbF+1SDVJWhI/R2G07PpEdm3sZWqr6QiverNNSdttNPcnJ7fHLCbALXKx6EC5SZbZT7OxOWeGOBOsQcF44CgW+PAH9BNRdXRAqysrrIPpl9Zc2otwXq2ZbSqsjgNLSGquwEgY1ey0aERRUMMsATCj51Jw8RZOeoedZVp9ktc2NDwkuFRX027R1mQcVNU+kH5Ml3FiyajvMegrqhipSKwmq7qPaCIMyjd0IlUXFj9GPsFgh8YeBGCBp3Vkvdndjnc99FkV91Orusa4UV4UFytIbO2NYaKxPvrm7z/b4PQdgHO5NfSE2+7/Okl+DOKQ20X5g2/YPDqRGHu6aopnnLmF16RKCQ11NlutnTmiBAL9wL6FEALQmkJJPAE67N0zPvEYJxB7f2JmVHHe6YMOuLfskkqH4CrAzdDJFEn5qgckYQlrKqyGDZ3XIqa4QfmPharVgq3lvfQ423Y2PXsxFhwYNRpyTzdRtX5jDtvcKIFwtLaPdtzlN+/MoVl/aLLZE03m0ZpefDdd7XbTg90xWV/dc8cidUEnNqgvJt8mOD5EjGV3LfrjajHYerv1LbRcEkCPt8zgEU+axngTEGHAQC3wUCvAUVG7ueg+wqq1T1yz7JOOL4oFLk/pLsCv6zDRx3qcK8wkEcNy+PtkwPdBhW8S2jsjRckKloDkgOKXK4fhzdhyLvt43R20LqPPMWrh9PfUt+JXXJTuDMgoqvdyYoo79QT9u223faM1R7+zGZ6IWKJvqn0izj91+SIJ90z7kv6M8CQeAW9bksZHeBssq4jhG4xTwkLYsTKm4XbY/MbVRURwalflNEF2h7x3G5SFhY5jvqha3UIXJkf+OAz5fwuHPqTjBB+IWJ63PKogVKheenWXHDZNrbaNTHTZ3jGxixtTGnK0MUyN6qJtdDO5p5fpv4euepTLEwN59vb8Zpdmu5uvZkWHH5MEZgjILqN4Bl7G6oJCJqeHu83WFyo+phVBB6UUo9j/ALc2u1ruGUUJb81bhuFSdwu6G9O2UvGhcz7HoYzM9tXJDwmYGUMDT+wjRdU8iT/v3KFd31u7VcVXtCgJ5JYerYMboNl2e6LLP+OruS527pMdw2r54ZaNHNGrfwhf7ru9ATSdO8bpKcA1cfdmixLYt2fqB5ZmjUguNrNSKpeF/jAOuV4QQQ+LYJ8BfUnjPpYkH6sTdz7twbGxpcGqvvkx+Si4XZGU30O1E/+cHGbuQgwqJyLb7Z25YokIj31PXYCEsx2RWTPORV0bys46a54s/TxC/m53XwTIPDAGZuicuIRZwjaYyCihtKqo/vKa2ZJPsWzg4TTVBxfUZJRLD8RhY18qnPr4gNliAfdmi3k+jfgiOQbaXzYkG0QCIWSsMFElFo9r2cJXc28Jm+qy9IomkPRLEZza1XJSLHHYkXB2tzY7xAdl3pPeBMcOeUssQBc31asR+NFPX7DjhvzoxnfiwXB0mQECkSJIk8UF03zNQboi7FvoVbR+4UHxWkJqXomPrhrBHxuZG7b6TfUJrI+zImQeUIgK08/HWqOKy0dso1wIutNEani4NQUhicl+WGiemrVMlhqCgYDd9FTtlLOD5A00M+buPOoH3gghIJLa3xHnDm4VduG8SWuavz8stoxKHWIfqnel0BWN3Gr2e6YrP+bva0JgrQS6nLOP1zp+bhWyGS6HiPMQBWE/aF3PdQ5FP1PIaNp+QgQZKYRK2dsDVHS0VhNV2s0eAEEPi2CfAX1K5TclGQ9JKU+jQoPtN/PVQSGaGhd9XYM4RNpOQgwsLyCQ9BXSuqCA9Ok9YE3EO1T40pPpKJd+dn1ppdrSD7xakz+GJ+RdzeStWsMxKDoOIzmpuvUZ1FH0EliNWZ7Pel4hBlypWe+vyBkqSSk/vyk/ahyMdds44LcVvArZrbxbEhGVcv9jRXT3aV9ufH5kS9mC0pMrnuLDYGr+QeCZbGhzdX5Gpq7zdcfSsz6VCmWFhQMuaZXdzcGCGnT35x5ZU7p66QBBfMLWN+eTTTVCPcNFv0eXr4Gw8y5MOdtROtyrY7B2URB2qaJgMuUMK23JGUHyWQJV2cDGy8GFtpiFQcOzq0LX2+gsoZgCDWW5rPhEiO7C/Llg82ZnWl/1p54lD+CQGafN/5RhQnzC1ze8flPdLjX6oqi8fVNSM1X1cl7k5NODk877674HIbd3Hg85qbYWice4aa6wS3X7lCEgS2UNl4fjcadUilnvN0GGcYNrfh9kzqGoxbm31tiQJHz54uqI5B9aOnJ90wGONuH3RERD5Rz3kIKjlmLn65tttfTDgHBL5VAvwFlZzTL8jJ66U1lJip/FNUvL9piFcW8PnUIkSQk9+LEZjdbFhfMdg2CXwxrRgRKLM6aGa5rW2Zu7pv7EXD91dV9zG/osdmY3O87/oritt5hlWT1Uz+WYZTchFhXn6XZW3VTibCbnwoSos7OjhrdAawrnS2nhWg51LmVpY33D1IbGGmIrHkzL702H05l090dAxPKfejR45oyJ4ADwubXc2nBej5bxapgWrMXH9ELg6raja4pitja4OyuqvvZ8a+mpn4+cPCqqW+r5TikPJGdwBHJvGp3ssh6IkL05Qpx3HunG4z4gETW6783DHaRh+BJqNjI1eyEWF+Yb/rNoAg8LnBr1+SRMcMuya3bl/G/w9umisVK5AQ5W3FAst7tGwGMF1GaczeyoZRi6NArWaDLu8DFPmwbcRgXSdnCnMGcFrGjS1q2a9zT7yafuK94vu3xqdVTfEC6df5pAlumLa57AMo8lH7BIUIN+SWRwXLbz+gpiv7cxsqf/hCWrHjOQhFlTzJw6+2beDWEUnpMYE0PqZvwvONYfdFWN2Gj2e6rTBt4Fr1JSGaSA4y41aTZdlgsdgIfKb3shCNp8/CY4q7fQxbLv8URQ62jdsJbN26smRZNWMEtlL5Of/Wxo91OAUEnhgB3oK6ZVSWhAsy0ptoyoctV3xGzmwc4Zc8W21tTLDsdolblQiC2Ow7pxCHlNYxvHDCZnRrpbk1+SX06GetfQtMt95s8cjjW6bs0nCmV/1EQRJysjFB4IsD13d5vAVIvYgpyMllMU5OYN6Fnvl6kXzFhdsCviAvQryfHOPT5KRQJX3GrMfVHJMnkYNtEx43+fhienG4ICNN5dn48sipwzgvmM7cHT9Pm43kTJnTAfY1DtDFHFsqPkQ2fMMeqfe3gxumcw/LxS8X5ak8FiHwF8d9Dl+rFUmpMvIoXJScFMoZwG3KYwPXk2Bz8vvJWXjcbqPt+Uro/YwQG+5M8qsidLehLu6cJft6Qx+lzeRJHn7lsIFbBq4XRgnSLqVMsS83wuY2j+SZVNIdW9bJ1D2SyJgR+gNpm6rhmEB6I8f10pdXFO/dTXVCuji0qoV+U2adStuLHkEG+Y2HeVuEfSDw2yDAW1AJfFL9VQh6MmnKPUsCXxz6JkwSGeX9gAafGSs4Wye7qJnyaPoJ3DRyJwyNiRuhnvWZtWn70CNf9DK8OsmSe5tGfTUMjflN94TPBByPGNhKx8361ERVg+ckyc2FpaH2WQ31N9OYmI0IsmWFM0O9y2TWbGtTHfQAs4MFdacFaMKZocH2BecMw42RsbKbnW3jbjnfnPgmP1yYk9/nuNvgtrC1WlAeEZT6dT69fbH3nFFQI7oWQ4e0rbicahJt/e3nSc32ml1ibY6WeTc9DhDcOSUInjDXiisjve+EHNfALY0RqaIXyxvo90MWrWyvxD367VEojDtWfcWXcvErJWV9dFlmCMriV5hRo6MV6KymZUh2AEUO1KtadONTNpzgDED2/mYquwvujOrct4vWxcKPpO7bF06YuGHo5ouSiCMa+jTWjfr6Y8HuQWOCw23cOV4evhXqLUjkSW6/Iu9QtbIH0YK0a9IFdz11G6ZtsLkND8+kWWHexK2tsXLxK9Wt1FCKrfec4x0k9yNqZ0yWSkrOpi6tihak3S2lOveWhoYTAukVBR0w8/XhKBD41gjwF1QCt/acUyLCzFup0/OGDdPIZJFIIRZmKVT0HieZEfqcI8+M2UdT8sIFGTfuTk7PWUzj0xWxSkSoTG/gPWxrXyo5nCoSZkvSRlrLRml/Y32jnkboz288E+G5x/AM1TOA76QkAhsl1yKI/qylU7NmNixrMh8mhKAn4sfZ6rrvU1hcP3pvL4q8VVXVYSbTbbfOlKuSQiVRX/Rut+mYofSTVHFYUU7VktFkmW/vu/+uFNlX00GXLlII5snpGx+083g25ZNTvjAdE7wFuQVkX83r39ZyeXWcAD0Z0zs0R644uGkytCXnRwbLrqRTtwJecTx3sen7hRFB6OmTvS0eBTrapjJ4zUti9ysvk4yzfGlhfB+yEvgsSi4Y8tW18akF66p29uGJ7HBBJlpFv+OhWfCdHI6vtx1XiIXK2wqdwbJFEJh5ZDTjkEy8+0GV68aLp9s4J/Wc/YYc7fD/z9evNoe7Lr4gQQ7UVJbQa8doa/n07KrrUYJft+H2TP9pcpzd6G47F4IeRzrVw+aVRWO/vCpeiMYnab0H8/1UUsscubDJ66UPapcMhjVdU8+d/Siyv6GXZQSbR6IgCBB48gQCEFSCICxLDafyol0r3onD8qR5S57jUmSK/TV8NlNLUkEMZSFXkqP3FmQ/uTZpvg5hHI9Fk+56TmTxU1c97PvIjMdZcse32SIIbDa/5sxuV0oE8rPxA1r2HjOTha21nj7Jh2kIOTlWFiGUiIJl8eHtffPuXi9hH9WgB2WutejQ6A9q6nxfzrdNpr4iQb7sc72b4ZN66oBPTvnCxNQJaWLhg2rGN2HwjbGMmnMvo6IgNDw0FQmWiEOVKd/4GWykEuTYsjZGMA/YIoc6ZzzD+vMrekgGvaSfZp4GTNgMjfE5UcHbZSoOy0Vz9OydPB+YBIGvLDw8mXdUKBEJpJEvouIgSeT+skIVfcYcL7exk09G0KsK7tU0ff3KnF/O/ERDmP9ghHItwp/bcHumJ03GPWyupCH5Fde6lWQFGdT60vRbSe0TI+kfkxXEMZ7v8H+N55AX45XhIBD4FgkEJqhkQresc/ohlbavQ29gWvubT15sC4Zhlbav/dEt8LnKkw6Dm1cn27Q9Kp3W0Tl7pMttrozPDzY4jdhoDZ7LGGbT98/21k8NDZofb8F4l8En9Gu16Hpmeuu1fZ16A11BntDlnpRZ3DK7qGl4LM+0GYxjLdqe+ulhjdni26UniJ1wmyeVf5pdLs+kBWXdtK7NdE73Pl4FMY7o+hq+8/7PigBO/MAIBC6oPzBAkF0gAASAABAAAnwIgKDyoQRhgAAQAAJAAAhwEABB5QAEp4EAEAACQAAI8CEAgsqHEoQBAkAACAABIMBBAASVAxCcBgJAAAgAASDAhwAIKh9KEAYIAAEgAASAAAcBEFQOQHAaCAABIAAEgAAfAiCofChBGCAABIAAEAACHARAUDkAwWkgAASAABAAAnwIgKDyoQRhgAAQAAJAAAhwEABB5QAEp4EAEAACQAAI8CEAgsqHEoQBAkAACAABIMBBAASVAxCcBgJAAAgAASDAhwAIKh9KEAYIAAEgAASAAAcBEFQOQHAaCAABIAAEgAAfAiCofChBGCAABIAAEAACHARAUDkAwWkgAASAABAAAnwIgKDyoQRhgAAQAAJAAAhwEABB5QAEp4EAEAACQAAI8CEAgsqHEoQBAkAACAABIMBBAASVAxCcBgJAAAgAASDAhwAIKh9KEAYIAAEgAASAAAcBEFQOQHAaCAABIAAEgAAfAiCofChBGCAABIAAEAACHARAUDkAwWkgAASAABAAAnwIgKDyoQRhgAAQAAJAAAhwEABB5QAEp4EAEAACQAAI8CEAgsqHEoQBAkAACAABIMBBAASVAxCcBgJAAAgAASDAhwAIKh9KEAYIAAEgAASAAAcBEFQOQHAaCAABIAAEgAAfAiCofChBGCAABIAAEAACHARAUDkAwWkgAASAABAAAnwIgKDyoQRhgAAQAAJAAAhwEABB5QAEp4EAEAACQAAI8CEAgsqHEoQBAkAACAABIMBBAASVAxCcBgJAAAgAASDAhwAIKh9KEAYIAAEgAASAAAcBEFQOQHAaCAABIAAEgAAfAiCofChBGCAABIAAEAACHARAUDkAwWkgAASAABAAAnwIgKDyoQRhgAAQAAJAAAhwEABB5QAEp4EAEAACQAAI8CEAgsqHEoQBAkAACAABIMBBAASVAxCcBgJAAAgAASDAhwAIKh9KEAYIAAEgAASAAAcBEFQOQHAaCAABIAAEgAAfAiCofChBGCAABIAAEAACHARAUDkAwWkgAASAABAAAnwIgKDyoQRhgAAQAAJAAAhwEABB5QAEp4EAEAACQAAI8CEAgsqHEoQBAkAACAABIMBBAASVAxCcBgJAAAgAASDAhwAIKh9KEAYIAAEgAASAAAcBEFQOQHAaCAABIAAEgAAfAiCofChBGCAABIAAEAACHARAUDkAwWkgAASAABAAAnwIgKDyoQRhgAAQAAJAAAhwEABB5QAEp4EAEAACQAAI8CEAgsqHEoQBAkAACAABIMBBAASVAxCcBgJAAAgAASDAhwAIKh9KEAYIAAEgAASAAAcBEFQOQHAaCAABIAAEgAAfAiCofChBGCAABIAAEAACHARAUDkAwWkgAASAABAAAnwIgKDyoQRhgAAQAAJAAAhwEABB5QAEp4EAEAACQAAI8CEAgsqHEoQBAkAACAABIMBBAASVAxCcBgJAAAgAASDAh8BTfwf/gAAQAAJAAAgAgccm8NTfwz8gAASAABAAAkDgsQk89d/hHxAAAkAACAABIPDYBJ76B/gHBIAAEAACQAAIPDaBp/4R/gEBIAAEgAAQAAKPTeCpf4J/QAAIAAEgAASAwGMTeOrn8A8IAAEgAASAABB4bAJP/QL+AQEgAASAABAAAo9N4Kl/hn9AAAgAASAABIDAYxN46l/gHxAAAkAACAABIPDYBEBQHxshGAACQAAIAAEg8C//AoIKXgAEgAAQAAJAYAcIgKDuAEQwAQSAABAAAkAABBV8AAgAASAABIDADhCA12Yee6I0GAACQAAIAAEg8ItfwMIOj/0qLxgAAkAACAABIPDzn8PSg4+92BQYAAJAAAgAASDwT/8Ei+M/9nLIYAAIAAEgAASAwD/+41ME/AMCQAAIAAEgAAQemwAI6mMjBANAAAgAASAABAgCBBW8AAgAASAABIDADhAAQd0BiGACCAABIAAEgAAIKvgAEAACQAAIAIEdIACCugMQwQQQAAJAAAgAARBU8AEgAASAABAAAjtAAAR1ByCCCSAABIAAEAACIKjgA0AACAABIAAEdoAACOoOQAQTQAAIAAEgAARAUMEHgAAQAAJAAAjsAAEQ1B2ACCaAABAAAkAACICggg8AASAABIAAENgBAiCoOwARTAABIAAEgAAQAEEFHwACQAAIAAEgsAMEQFB3ACKYAAJAAAgAASAAggo+AASAABAAAkBgBwiAoO4ARDABBIAAEAACQAAEFXwACAABIAAEgMAOEABB3QGIYAIIAAEgAASAAAgq+AAQAAJAAAgAgR0gAIK6AxDBBBAAAkAACAABEFTwASAABIAAEAACO0AABHUHIIIJIAAEgAAQAAIgqOADQAAIAAEgAAR2gAAI6g5ABBNAAAgAASAABEBQwQeAABAAAkAACOwAARDUHYAIJoAAEAACQAAIgKCCDwABIAAEgAAQ2AECIKg7ABFMAAEgAASAABAAQQUfAAJAAAgAASCwAwRAUHcAIpgAAkAACAABIACCCj4ABIAAEAACQGAHCICg7gBEMAEEgAAQAAJAAAQVfAAIAAEgAASAwA4QAEHdAYhgAggAASAABIAACCr4ABAAAkAACACBHSAAgroDEMEEEAACQAAIAAEQVPABIAAEgAAQAAI7QAAEdQcgggkgAASAABAAAiCo4ANAAAgAASAABHaAAAjqDkAEE0AACAABIAAEQFDBB4AAEAACQAAI7AABENQdgAgmgAAQAAJAAAiAoIIPAAEgAASAABDYAQIgqDsAEUwAASAABIAAEABBBR8AAkAACAABILADBEBQdwAimAACQAAIAAEgAIIKPgAEgAAQAAJAYAcIgKDuAEQwAQSAABAAAkAABBV8AAgAASAABIDADhAAQd0BiGACCAABIAAEgAAIKvgAEAACQAAIAIEdIACCugMQwQQQAAJAAAgAARBU8AEgAASAABAAAjtAAAR1ByCCCSAABIAAEAACIKjgA0AACAABIAAEdoAACOoOQAQTQAAIAAEgAARAUMEHgAAQAAJAAAjsAAEQ1B2ACCaAABAAAkAACPAXVOu8cUqj1/r8Tc9s4AFxxKy6ltG6dHVF5pC6f80eUNztwNiyRtukVJen9taVz+iWA7v+tg2LebRqsEqmrs6fmFjA/KQCMy1Pa5bmljapMJh1YdgXhdFo2Q7CgxVunlrygbmkW2DiYVnTaZYWGbNpW9fWD9fI1eXpg63NRjNrPuzG8aXpGSs7KT8BcPP4TGtOb4W8T1W7aLJRGGhbdoN6vEGhLldouvoepUw3l/Q9Rf0VUnVVzujguJ900q7ps7kxN9+Z11uR2tdYs2BkTqcjDll8S1MT6/QgjlL2LtOp8bWN7avYjWO+5aXXapb0K1vOIFwWPJK7sWCcGl5ZYyqvTT2FYmDMyhSENOXHwvaV/LgNjzrIF6ZHtug7fNyGHp5hGzMZB8oGqmQ9DwsnJxfZSDBEhENA4NshwFtQMc3FTHGQROTzFx4z4mp0uLOAL03lfpqOBKGRr2YcC5OKgmWJCSOMIsJqy2ZUnc6JDJIgoenHX5OHB0vEYfkZ1avsUsFgaUMzcOdtqUiQGrNXESWUiELz0qvNzBasiw8+kYmC0PN3ltwVGp/tvSL0QSHIzu52BuHBClut+gL1gYmevjpH021Hyi3GxjglEiS9WWj1ysmGZuDugVRREBq5JyMuTCoOkkT/sqF9xjcf9tn86pMCSXjE0JqXie1d9gD4et+NohiBg/ZeeXiQJPJgXYvWTcKZwqXa2KwjQWjEK4q43agoSHYuadzgGYT5sttHMV1RbWKoRCSQxbyuiN4lEQXLky6OU7j9RnadtE9lVZ0KkYhfSDv2mgwJkkR+2NA554uCIIjNyXuFpP981DlNJRLXK4oRH99GDjSPOu9wbLOZb/qWl0QUJL1d4gzBZcGVUFILxzR330JFIeWqZdpRctM+lV2d8KJEJJTFulCcTxrTU+ncDs9uwWWQ3W141EH+MF2X8/rl4zZeUbx3t5ZVrZf2oCSKN0ivEIfmpJYse9cO71iwDwS+VQK8BZXYWFqeGzfqaH/asvrTwrQbWYxdJ6Zc4eutx9LFoflZtStk5wCzjKKlMQLZlTQTY8vHaGJGUhgRLL+UMmUgTWytj2ju70fFe6rbjNsdBaZYnsfWZ7PeRcPfq2sZt+MEsTmnzfxlqnhvTad360Y2cKM38yN3yyODPQQV03ScF6LJ38zSaegmVlZcksfNClsq+ghFDrdraDx146ZFw3aLga8sj7VMNNyrv7ZfFv1aerivoNrm895Hxa+Vlnauk3Fw20xhTbxAcjR2ZPvmAt9Y6Jnpyu+U/0YZGaaIDfERVM4AxNZyWXWsQJZ0eVJPZg1f7e6+vgeN/KJ3jmri7ZrL2UhIjqzESPYrbeaeS3kRAgVa7WLhyd53DxvpvviCJOrT1j6HUXzV0HhciQSn3yu38PYKwtrWlCCUJiaO6Na3CAIz1DedfwGNix/3vYGwqtuSQmVRod6COnUnHxEWFrR7ePjcjMXVi7UvT5k8intc33o2C3m5tFbrTCbOZWFrbWphsEbz4GxJfKg87lWpr6Dae1rPCNE4pHvYIaG42aA6qUSC0+6UOFFwW+B2Gx51kD9M39J0HOHjNixRXYdx/ejdV9HIQ03qGdK7McNcqShdHFpcOcHfKVy24BcI/NYI8BdU7yRZ5gs+So0W9c9Tbat3EK99fKb3Sggaf3HW1UiRFaXkYxR5r3WMaaTTKzq5i5mqROmR7zRpKBO4TlKICDIzWnimY8uYWxYpyMpspy5p0Uy21M7rXQO27uuutzef2Z2XpWw+J/QQ1M3OpniB9GYR7565LyubLms/Gh7J1mUkbOXVEUFo5JuFd2+OTpbXxQR791A3+zouvJSafI/WFXTAFL+p2oZjHbv7okQcmnkxrq1tYDR1j4+gcgbAVqq+kIr3qzSUOOKz9wsQQU5uzzZtfGEwJRQ9fWmWYmFeUpdMjs5QeN08mTbwOUVpbGhWZjtVfNh4d7IQPZHsaEqZ4ngfw9fqw2XIO00aqgRtU7UjavUKlSpnnNXZ7Pdl5y73Z3+IevZQseHLSnFIhWrF2zbb/oa67fwL8uvKZVe6OS1stsWligSyk4erC8oX2xLSxd49VGzidkHUi4UPRinNwEa7koXoyYuzjvssTgvcbsNdB/nDZEPDw23YorqO43rFg3CBMrNt+/6SrPoOFIk3FqhDrtDwCwS+KwQeVVAx7b3CiBcLSzSu9oRHhiylVZHBaWgNvanFRq9lI8Kiiu3bfB5WvIPgU3fyEEF2jppnSqzN0TLk7eYRG0Hg2NqieZnlwSNumko/IE++s2Bx9EfpQ772uroYgRyt4Vm1mVjZJomrlSYAACAASURBVFNfQaPjJ6gbA8984avmhbkN5wXs9QyC6hncsWebz30PRX7VOeMkgW8YtOY15wVsWpmvoHIGMI/cCZXEnJqgy9KmuiVBgH4l3x6WMBdXRAqysrowgtiyr6wZ9TaeUBjS7zrkHABIuDbP15Rp+FYoeuoyOVqO2zZM8+vufqXLpOMXt/YmZUcd7pgw64t+6S2o6oQ0cVhNF3Xr4BHVe8emf3A4NeJw1xRVfhiXha31uWXDirNssJ5EX0H1vgg5PN3TmihAL2zfNnFb4HQb7jrIEyZDYl2HeLiNKyjbr601ViZ+pbaLukMiCPt8zgEU+axngS0SHAcC3zqBRxNUfGYgJQyNvzBNd3iuvDg6N8K8wkEcNy+PtkwPdBhW8S2jsjRckKlo5imH3hfB9ePoPhR5v22Matq8w3js20nVCUd6+5R1F1+Xkk8xBbL43zS3T3q23vh6Z4Iy+gv1tI1wtu90QbWWVB4RZKZmDhUmlH91KD/pszLJjcFRPdWxoF+RmdX6yO0Q9GRCn+pW3def5Z8/VJQS31rfvc5IgYeg4pap2YfxORG7slKr1hjSwSio9FQyBXD2Cc7d0mO4bV49M9CimzVu4Qv913ehJ5KmHbywses5yK6ySlW/7JOMI+QzSDRyf0l2BcvUJfoV2bbx9c5TmWJhbr6rE8wW0H3coTrSlLTpmsTC4yHks21xqPLalbF5D3XcWq6uPRlWXD6MEZivoNpbjkrFb9Y+LOpIPVKU9FH+V0hNbu6cu/vpvpZjA9fnlEULlIpmus8FZIGHoGK2hbY+9GBq+Nt1nQu+jzO4LTC5DXcd5AfTk4fnHg+38Yzgu+ccuPqwQ4ttWbTzA80zQ6MWHF+rEUnF+xoHfMPDESDwHSHwSIJqH7igREJLaxjmv/jJFjZ2IwcRFpVr8c3etkSBRLynrsdGWIorwoPkkoeeeubHDO0Ubpor/jxN/GJ+Xge9E0UL4bvpUA7xHsXJ96oelOu0mvmezPqklyTIAVX/qjs0biipPr6ntGaS1CYfQd0yKkvCgyRioSIpuiH7enP60fxYoQR5s7p5ylfLmFnh8/3XyNk3aNyhyrQrrdlJlUmvoiJh5t1ihjacqWWkkrqQXhIdgoqD0OiD1eXtzJJMMOml2wS5wRTA2T26lLqM2xfyD6Ki4HRZPUaYh2+FSFx9a6znTLpYkH7szZw798aGBpfG6vvkh+RiYXZGE+8SoacDt47cKT4qSE1K0a3Tj/vdttfXxwajsXszE2M72zr0Uz3ah2fzo4LRhIvTbiP43MjdN9JvKE3kLYuvoOLmmt+Qd1fIa/m3zjXnXm24fYicOnfy2DDDBPD1acV+NFLU7zFXKCALhF85xJarfiMPF0pEAvmZY+oh5hs1vxYcuJjchrsO8oHptzS2e9V+3ca/AYKwL5BjLZ+q5zFsPCUHCZLEJGrthK05WioKq+niig3ngcC3RuARBBWf19wMQ+NOT/jO+PCbDWwiJQcRFpZPeAjqWlFFeHCatIaxb+bPnn1qTPGRTLw7P7OWZYIuY2zbBBomEYUUlY+7r4jrlaWRwbKv89edeojPaG6+prhdtD25x1dQV7sGH9zpVqnds2ZwQ0XNSYEk7tSEuwV3XpyNFW6ca7jXWVo4756djM2NoW+h4tdquyhd384AU8voztvWWs9w+f3O3KSqC3ul4ftKi1q2c+EOQW4w6SVngM2+tkQBelFq8hDUlaGbIZKjpycdA/dY1ym5KEh6SWp03xDhM/3XQyWRERqGOV4el/TZsS13JOVHCWRJFydpT4Z9gvkcsNfURgdJjnym1rkfJmArNSKZOLS8Ue/o22ErDZGKY0eHtiWQQVAtI3mdxZKhUffUNszcHq8UByvQh153BlvG/PJogULqdRznb4GUdH9Dvrh1rFhdcqc1PaYgbpf0hKhjYGmneqjcdZAbpg9/rwM83MYrhs+u4wYO+UQ95yGoG6pIqfjl2m6f4HAACHxXCAQuqPhCWrFjkNbdhPLMCz6fWoQIcvJ7MQKzmw3rKwbbJoEvphUjAmVWh1ve+FjbMnd139iLhu+vqu4L8C1Yx/sPyMHWcXfjSxD4pPqSEI3/SkdmyW58KEqLOzo4a7SaTeTfSmfrWQF6LmVuZXnDq3Gl0ootFn6Iivc3DVGHyGmxgbDCJ7/JY0ThV1Cp6+EmXd6vUsWvPexwq4L75CMJKq4lsSSmLGwSuNVkWTZYLDYCn+m9LETjLztYEY4XhAQ5eb204sNM5Z/6onAnhXkDN82VihVIiPK2YoFpzJo5lvPoZrvqpMCZTncwfF5ahAiUStKvMF1GaczeyoZRi7NAzQZd3gco8mHbiMG67r4pckd1bWAD7ecE7py6jy5Xfu4YePQYT3ad9fxltkCG8SuolJEtc2frhRfQuBNjPndZ3BaY3Ia7DnLBpBLHtsXDbdiiuo5jy+WfosjBtnE7ga1bV5Ysq2aMwFYqPw/Yr1wW4RcI/FYIBCyozil8rzf08WhQvHJgq62NCZbdLqGr0mbfOYU4pLTO2ZPwisC8u7XS3Jr8Enr0s9a+Bd8hVuY41FHH0Jz4jYZ+2vMvZxOwPatlceD6Lp93TJ1vKApycilDnluYqeww6v2AJzBW+JyUnK6s8JmuzNQyErjFatAumzweYjubSwYLj9ZDJayTqXskkTEj9KEIm6rhmEB6I8fZD3aMfgsy0pvogrpc8Rkqfrt5xJOQnz3cMJ17WC5+uShPxbjUgZ+o5CnH+Dl6fPuxrjMwviArQpyzpfC1WpHjYbnPa6aiINTPrFF8ovuiED1xwWOyMTlLdhd6/DxtNhJ76hgtOIIzyiG+YTIvaN1LSTgDktLi7VfkGUYLHklhdBvOOsgB0+MKLDvcbsMSkTq8qU5IF4dWtdAnXVun0vaiR5DBgEc+KLOwBQSeMIGABXV5+FaodyPrlUZ8ZqzgbJ3somaK1gskGz7TyJ0wNCZuZMWtg2Zt2j70yBe9DE+qvIy6dm0a9dUwNOY33RNm1yHGX2yl42Z9aqKqwXseMj4vKwoXKNNVbkXdMhVURAfLvil09FZsa1Mds5p26m+woO60AE04MzTYvkDOMMQtnReLzv6qsctEDcThswPXQyURyKCRnhhWVlur1apLHxQoHtKWBMJWa0Uy8YtldT4zUJhaxi1jTumRINmNHPpwt33gQqZYkFvQT5M3Z3oeqYdK4NbWWLn4lepWgzuntt5zmeKQB1Wup8X4pPqrEPRk0pRb2fHFoW/CJJFRQz6dKjoa2rZVX/GlXPxKSVmfu0RoZ2mbbH5FYKaKz6Titxr63C6BrzVGycWhFSoy5ZhRo6MXqKZlSHYARQ7Uq1p041M2nCBww3jmp7kXkiZoNHF9VmlkcGpKjkeHea24MtL7ppBMIn8LjgwxySG+VodIRaGldXNu2gRhmVa8Sc65m6RxYLXgGYbJbXjUQQ6Yntdg3OPhNtvxWCvplrm0KlqQdreUGkCwNDScEEivKHi/9c6YNjgIBJ4ogUAF1TlR5ew3i34GfOlzjjwTbx9NyQsXZNy4Ozk9ZzGNT1fEKhGhMr2B97CtfankcKpImC1JG2ktG6X9jfWNehqhz6PxTARu0qbtR5E3K8qbTasrazM1HddfQ5G3G/tYFMDnGSq+lF8RE4weRzq7BlZXTetz7YPpv5KLhVkKlUca/LDCdZqbr0iQN8qKHy4uGazLE7qGpILoYPT0hSln+40bFnuqxjoqyb/WmyVRQWjyxWHH7nivhmxl8KUxyeuoeE9RVpFON29ZntX3pD1MDJEc+VWn1nkfg1sm68edFjrK2q69JEE+VjU5DHY06Mm8cgYgiI3utnMhZE7Vw+aVRWO/vCpeiMYnaSmRwa0955SIMPNW6vS8YcM0MlkkUjhReFJn28Om7xdGBKGnT/a2eBToaJvK4PVAmt2vtsz1DfFC9GS0emDSsrZo6L5dGidATyVRk5I8Lu/7DBVbbYxMEwsyUu5MTOosZr1pKK/hQpgEeaexz7WyoMOCY1Yz4y0Lt4WtlQHtdnFUjhb8Ri4SFmQWOYq4SqslrW8tV9YcF0hiPmtu6jAaDet6jbbyeM6RYOmFu3pHdeO0QHC6DblWCUcdDBCmB9ntHW63cQZkr6SEZS7/Q6n49dIHtUsGw5quqefOfhTZ39DrURxM14ZjQOBbJBCooNrJYVv0qsI9mYYh7ewNH0HYTC1JBTGC7TFVcViuJEdPHwJmMEc/ZNJ87XgvwnfRvqS7nhNZ/NRVgtjQDKIfyl0rKaLRH9Y2DHv2pmkX9RFUUoqGJJUJ5DJ72xkJf6M4s8z7XRG/rLZW2rtvvStzpUEiCsm4cml0zjWQvtnceMJFyX0Vx4brWS+xtd4/gJKTUd0D1NITXzZ3Trm6p7ZpxT4qhXQj2896OQOQELC5kobkV1x2BPKz8YNad2/UScmy1HAqL9qVWnFYnjRvyZUPGkfmTWtjBPN4LHKoc8Yzij+/IuxTebXnwqh0njs9yCKnTLN8yS6mrjQ6O8qVC1GQ9PgXTa0TXveNjpdNhQ+qde4xFiqJXBawgSTmxTtFAqXSaQbfmMiqTdrjykWQRBSSefXKuGttTm4LPNyGTx0MBCYFgL7Fw23I+Qq02eP02I5t+8RI+sdpLvdGoz+oqdOwVlKf2HAACHwbBAIV1B1Jo23BMKzS9rXrDeRCcd/SP9xuGNT1NUwNacy0gdcAEoOvm6c6p3vqtIN9y4+yHjzZR7QbNLq++smeloUFhvdl+CQGW51cGGyY7FHpJmc2XFrKJ2IgYaxrM53TvSqddo5crJHp35Z1Tj+k0vZ1fJtliq+bte1TftPJlHbq2JZ1bmlYpVXXz0xorV5aSoXyt/X4FgjCZpnvnemt0/a1L+r93bj6SwfnOc46+NgwCYLbbTiTuWkccVTSwUespJwXgABAYCcJfCuCupMZAFtAAAgAASAABL4LBEBQvwulAGkAAkAACACB7z0BENTvfRFCBoAAEAACQOC7QAAE9btQCpAGIAAEgAAQ+N4TAEH93hchZAAIAAEgAAS+CwRAUL8LpQBpAAJAAAgAge89ARDU730RQgaAABAAAkDgu0AgUEHdmF9UF/VXynpqCibGdGxvJfrNGWbVtYzWpasrMofU/Y/2Aie2rNE2KdXlqb115TO6R1mMzG7sn2xS9lTI+xsfzi8xvQ67uaTvKeqvkKqrckYHxxleVeWPAjMtT2uW5pZ83my0rWvrh2tk6nLFYFuL0WMd23XzrEav9f0bXqFWKXJjtqzpNEuLzBz4s8LNU0tTGtMytSiD3Ti2xJAGzZLevWANZl0Y9k2n0ei1+IM7qSwbnLRZ4tEOW8wTdcM1cnWlcqirZ5WhwPzQ3jbD7RWu6/mycp7xR9s6b5zyLVCNfnrGY4Etp6GNBePU8IqHS7iuHQArsnSWpibWqUUduf2KzJpPoS/pXKtLuFLB/5eNFX8LBGsNctlgDcDZ2nC7zRpZSUm/GukbsfjUYXLxE67mCDePz7Tm9FbI+1S1i97rv5BZwEyD2iZlT7m8v0VlWGVavsJfa7NDddDFkuvXX2tDbMzNd+b1VqT2NdYsGCm347L5O3M+AEHFN8ZSy0+ESCL25iR/WnjmDZlYqLicMsXcjLMAwpemcj8lvzQZ+WrGsTCpKFiWmDASWFW1GVWncyKDJEho+vHX5OHBEnFYfkZ1AC/A46vz5Ucyw4NT4w4WXjqcezwURV4rzlfRv3qG6YpqE0PJb4/HvK6IJj9cKk+6OL7kXjchIBTWxQefyERBKP0T5eQqMeND0oPk8cg9GXFhUnGQJPqQqtO1BI/jox/uJZBoGyFVLV5aZTE2ximRIOnNQkoJt/EHwso20HkxVCIS5hcPuxZvcHyZh77Ekmtbertku9Ljs71XhLTkbX9FIDu72w2LxRWow1y0qZBsW1vrPeqv90nFLygSDxclv58RKUDjPm/ro31xwT9tco0Nbq+grs7AivxGnn/PdHyZh1rWioIWHjPitVjYxpjm7luoKKRc5b0SfECsNifvFZI15aPOaVdpcPsVtlr1BW2ppu0Eo6evzjFpCcWEbYuZFVtoxuMsNYgKyxKAq7XhdhvbyOD9d8lKGrU3IzYUFQnSkq9pPVo8jkInCHy970ZRjMDRXu2VhwdJIg/WtWhd5UEQhNXQcCKbLKaXFMf3yJAg9Ojhll6a6xJcrc1O1EGKJceWn9aGsE9lVZ0KkYhfSDv2mgwJkkR+2NA552pMOOz+rpzmL6j2rpYEARp/akzvvO/A1nuTcxDfD0P6IYOvtx5LF4fmZ9WukDYwyyhaGiOQXUkz8aaOz0gKI4Lll1KmDKSJrfURzf39qHhPdZvvN8uYU4KNXMtGBEq0fNXZQGD6qYyDqHhvbZfr0xbYSPfFFyRRn7b2zZF+j68aGo8rkeD0e+XbS3UHgsI+ejM/crc8MthTUDFD6eFU8UtFeSozKU34xkz+w3iBJOb42PatgWV9YcKoG6f9aUbl76BHkQHnhwTwleWxlomGe/XX9suiX0sPZxDUQFitzxcckkW9JBPTBZWwL0+ZPNIwrm89m4W8XFqr3S4x57qMyd/MegSbWFnxEXfm0iAITtpsEanjtrmcd1Hx/tq2WWc7hS83qs4I0WPuT/Zy0ia4vYK6HDMrbtobS8tz9AIdN2rL6k8L025kOZvorbWphcEazYOzJfGh8rhXpb6CGhArq7otKVQWFeohqASXXxHYUtFHKHK4XeORVNOi4ZH0lJkVxZLHFksNomKyBOBsbTjdxrZArif8cnFR29omqYzG5tPZ4cHpd0vcN9+chb61XFYdK5AlXZ7UkzUCX+3uvr4Hjfyi19G0kI3g2Nd54cFpV27Pmuzk0mm6B7UJuySxcSNu2eZsbfjXwU3zul67bFjGeLe325R5tDaEta0pQShNTBzRkQN+mKG+6fwLaFz8OP1bVVSh/a5u8RZUfPZ+Afk9rE7q3grTdJ4Xoqe2P43JTYj89FUIGn9xlhoJwAwlH6PIe61jTKMcDBYxU5UoPfKdJg1lAtdJyK+eZfh89YwhOunA5BXFbzcP0yxM3cmnZQ2fU5TGhmZlttNyOt6dLERPJDu/5BUAivX25jO787KUzeeEHoKKT/Re3yM7fWmWyjdmLCU/AKcapBJGzwHZakSElda4lMxWXh0RhEa+WXj35uhkeV1MsE8PNQBWG5oruVEfNtdczUM8BJWeAHJ7Q912/gX5dSW1TOJmZ1O8QHqzyKuL5R2RfZ+TNntU1xlstCvZyw+xpeKPUPHbTc5S5qbN7RWuixEsrAKg7TJlmS/4KDVa1D+/7WibbXGpIoHs5OHqgvLFtoR0sXcPNRBWq7PZ78vOXe7P/hCl91Bd13b/evsVYdNl7UfDI4d2oh1kYeW+OI8NthrkjsoWgLO14XQb56dhz992fpnAcUGzVr4PDf+y1/Wleq7myPkBx/0qDXV/6Ww9cnJ7HKXu/DzzLzu2P2hBXsTWc9bxQacZp+pxtzZ86uCmTlsYlRPtHEwKTj3xvxoaA1kYmbu1wdfqw2XIO00aavzMNlU7olavPHLT4C7i79MGb0HdMmaXHhEo5PWUBGz2tCYI0Av3PFelZ8+9pbQqMjgNraEsEAQ2ei0bERZVuHSCPTbbGXzqTh4iyM5RU/rHFpQ8jq/ViqXivfU9VMFjY9ezEWHBg1HW+zbnPWDCtXnHXTpfFLhpKv2APPnOgkXTcd5TUBlSiC0V/RJF3m0ZpeNxhbMPdia/kJp8n3oMi6+aF+Y2nL0Gxg91uaLSfxlZbZkbGxJeKizqs2nv+BVUm/7B4dSIw130b4Ha6+piBHK05pG6L/Sk0bY9adNOsGziCwM3QtC4s1qq6trnc99FkV91bndZfSN60ebrFbxZkVdkpO1OCqa9VxjxYmEJ9XnBrfW5ZcOK042Zvu/mjkrbYGaFW3uTsqMOd0yY9aRT0YZ8aVHJTV+/ImyTqa+g0fETzPd1XvH97QbEitkQZw3yE4CzteF0m7XCivAgL9+2tcbKxLur27w+hEQl37PQzSN3QiUxpyYozySITTU51PeV3NEFXRm6GSKJPuVB21JWFRksu1vubAi4WxvuOmjW5bwvFb/6IK98YWHBrGsbkB5MRfZWt87zXUqdu7UxDd8KRbc/KW3bMM2vWx7bgSio36Mt3oJK4IbJtLfRqI+bOsc3MGJrY05XhiiQvVVNrsd+XLl23GoJ8woHcdy8PNoyPdBhWMW3jMrScEGmopmfHPpcA9ePo/vID0aO8S2/rdW6hlNCWfJX47pVnFyevr07ZS8aFzNMPSL1ugq+3nkqUyzMzXfeVJJfJuGBAl/vTFBGf6GethHOVs/rGarnRbaWq2pPCNAzKQsM0oSt1CFyZH/jgPt7n56ReQoqIytcP576lvxK6pKdwP0KKq7PKYsWKBXNHqCtJZVHBJmpmUOFCeVfHcpP+qxMcmNwVM96a+KZcKY9H9pMgTyP4Rb1uSxkd4GyyriOEbjFPCQtixMqbhexPVn3pc3LK3izIpPHSNudbnxmICUMjb8wTd3Xuc+RG/wElZnV1nJ17cmw4vJhjPD9UB39Kox+tT5yOwQ9mdCnulX39Wf55w8VpcS31nevB1o/A2JFTxS1zVmD/AXg0dpwuc1GRXVkUOo3RVTvkiDsHcflImFh2QSzh3sVurMTfO6WHsNt8+qZgRbdrHELX+i/vgs9kTRN1nTL2N1QSUTUMH08YKPqYVQQelG6/SCMs7XhqoNbhuzSyOD0O9RINWHvaT0jQM/f3u5pU8x5bDG2No5PVUpT0qZrEguPOz4IJg5VXrsyNk+Hx8P49z4If0ElCGJzZjzzY/KrZ0iIlHzmfKC6jv2rZz5osLEbOYiwqFyL07/DZSkmbwMlDxl0xMeC9wHcNFf8eZr4xfy8DvotoHcwn31MX6VKDkNFwWj4LlQUJEs4PsDWsBG4deRO8VFBalKKjn5XyoUCN5RUH99TWjNJVjwuQd0yd3VefhmNONTK+FVua3NjvEB2XUl9l90rR4wu7hWGmRVmbonLiEWco45+BXV9WrEfjRT1e1bBLaOyJDxIIhYqkqIbsq83px/NjxVKkDerm11fIPdKBscuC22OWOQ42UrnxYJogUQslIYLJKLQ7Hs5Syw+wUabyyv4syIIZtpUNuwDF5RIaGnN9rAedcK1xUNQWVjhcyN330i/oTSREuhXUBn9Cp/vv0bOwkPjDlWmXWnNTqpMehUVCTPvFlPj/K5Esv8GworFCmcN8h+AX2vj123wmb6rL0iiXbMWSJwzmluvSkSOXoFvsn0L3flF5Eupyzj9Q3Xm4Vshku0xAGzl4a9TxWGlte76gq00RqeLg1BShl3X8NvacNZBW1ucXPRCRZNrjghp1aZT7keRL/sMrkvw/2Vsbez19bHBaOzezMTYzrYO/VSP9uHZ/KhgNOEi60cU+V/x+xSSv6Diptmiz9PD33iQIR/urJ1oVbbdOSiLOFDTNOkud/8ZxyZSchBhYfmEh6CuFVWEB6dJa3gaoS5hnxpTfCQT787PrDUz3y5SYelbW+b2jst7pMe/VFUWj6trRmq+rkrcnZpwcnjed6zVttyRlB8lkCVdnKSPa3OiwGc0N1+jekh+BRVbqGw8vxuNOqRSM86Iw82NEXL6nCl6ZpzbjC5OD8bCCl/Mr4jbW6madfLzI6hbxvzyaIYJaFurXYMP7nSr1NvTtcjee0XNSYEk7tQE/f6DnhjWbRbarOHdJ3Cr5nZxbEjG1Ys9zdWTXaX9+bE5US9mS4pMPrdpbLQ5vYI/K4KFtju5BD6vuRmGxrnnTFFn3FtcgsrGCltpiFQcOzrkesjHPuTL4le4ca7hXmdp4by7d4/NjaFvoeLXarvIr9Lz+RcAKzZznDWIKwCP1obbbTYGr+QeCZbGhzdX5Gpq7zdcfSsz6VCmWFhQMubd5DAW+mZfW6LA0dekC6pjmPfo6Ulne7Pe0nwmRHJkf1m2fLAxqyv918oTh/JPCNDk+0Znm8jV2nDVQWy58n+R85NPf5SfdMj9l3P8RQlyoGWUKgBsIKWIFqBQXsLwgh75mKCeYcaGvaY2Okhy5DO1zt2KYis1Ipk4tLyRPmOZutzv6BZvQcVGrmQjwvzCfqqNwucGv35JEh0zTL/1YeeEz6cWIYKc/F6MwOxmw/qKwbZJ4ItpxYhAmdURkKBumbu6b+xFw/dXVfcxvMPHngaCsM1lH0CRj9onqLEI3JBbHhUsv/3ArQqkAdw0VypWICHK24oFT8/iQmE3PhSlxR0dnDVazSbyb6Wz9awAPZcyt7K84dFtwq0jktJjAml8TN+E+81Oz9TjU72XQ9ATF6Y9Rlo9wzC6uCsIK6vN8b7rryhu5xlWHYk0myzDKbmIMC+/y7K2avcoD2y58nOpeF/jAAXNZd73F1ss/BDd/oa571mWI+y0WSLQDm92NZ8WoOe/WaQQYeb6I3JxWFWzgfaUyA9tLq/gzYqVNi29+EJaseMxB1WVaGedm/4ElZ0Vpssojdlb2TBqcTqe2aDL+wBFPmwbMVjXPbyb4ONXrlThk9/k8a+kvFm5zPv+ctYgzgAEd2vDy22wtUFZ3dX3M2NfzUz8/GFh1VLfV0pxSHkj3a8I1kLHtepLQjSRfI6DW02WZYPFYiPwmd7LQjSemsuJG1vUsl/nnng1/cR7xfdvjU+ryIl+X+c7C4yrtfGlR3alaXXQIajilwrl97tLUY+/cuW0noqOjabV3I2rdv09LKz39BhXSMbWxjmBy5FTVzgCn5cWIQKlMrC23R39+7nBV1Cx5YrPULJJpRotgsCWig+RTecwv7zbamtjgmW3S+iastl3TiEOKa0L4C5ma6W5Nfkl9OhnrX0L3veJnAnBtT1fCV0PMFyhseHOJA8XJ3DDdO5hufjlojyVz7v1XCjwxYHru6i3DF3vbjqOCHJyXRclcMvA9cIoQdqllKntPYT63gAAEgZJREFUe1H3KWoDX0wvDhdkpKn8NL7M94wOG35YbZmyS8OZXosUBUnIeddUGsgm4Mou9Ph5+mwk2mmvTcxURk5XbhzwOs6+6482eyzXGXxBXoR4P4bHp8mZ20pqUrpf2lxewZOVH9quxJKN3UrVF1Lx6w19/u5OWAXVHyt8rVYk9fA3qnzRxBv0x/O8/MqVaHxOSk6kV/CaSM+Tlcs20y9nDeIMQA5qcrQ2/NzGK3mOskMOtk24+2GE30K3TqbukUTGjNAfkdpUDccE0hs57ndvvK6B68kqn5Pf77in5WptvCJv73rUQVtrnEwcWtXCMgOD2QL7UUZBdTwpQI87Hwxvx8UXZEXk2xNdHjfn7IZ/J87wFVTc0hiRKnqxvIGufBatbK8E+bhr1hMFPjNWcLZOdlEzRbkdGQI3jdwJQ2PiRqiHgWZt2j70yBe9zncrPc0w79k06qthaMxvuif8+we20nGzPjVR1UDNonSkwTB080VJxBGN+zUv8m2Q+vpjwdQYC2HVV3wpF79SUtZHv31wpYcThW1tqmNW0079DRbUnRagCWeGBtsXFrbNbGplD6IFadekCyzTUpzhrM3RjsrgdxCA0cXJNsUvq82FpSFaIjXtM42J2YggW1Y4M9S7TE/VWnFlpPedkCN5uKXzYtHZXzV2maiOID47cD1UEoEMGl3AOH7906ZFZvGrrdWC8oig1K/z6S2UveeMgjY0x0Eb5/IKPqz806bysTx8K9S7kaXObm+xCCoHK8yo0dEdT9MyJDuAIgfqVS268Skb7faTza+2VqtVlz4oUDykrTSFrdaKZOIXy+oWqFL2STB1gA8rVy6ZKynBWYM4A3C3NjzcxmLokLYVl1O3u7b+9vO70DNfU7cmHIWOW1tj5eJXqlupHq2t95zjrZjth6b2mcrugjujOrfoWBcLP5JSms3Z2nDXQVyfWRIhUEgqaWWKW+cHjatMzRtVkCxbzK0NZqr4TCp+q6HP3Szja41RcnFohYrKO4vF36XDfAWV2Four44ToCdjeofmyBUHN02GtuT8yGDZlXTK4Zxk6HOOPFnZR1PywgUZN+5OTs9ZTOPTFbFKRKhMb+A9bGtfKjmcKhJmS9JGWstGaX9jfaOeRugPLeiJwNfbjivEQuVthc5gIV9ANo+MZhySiXc/qBp3NjjY9P3CiCD09MneFo9LjLapDI7nggGgcF7Z9xnq5nDXxRckyIGayhJ6LkZby6dnV2nNln0+9z0U+aB9+3kLLSO4YbGnaqyjkvxrvVkSFYQmXxx27I73ahxjNfxZbZtle4aKjV3PQQS5Bc5bZloaCAJfyq+ICUaPI51dA6urpvW59sH0X8nFwiyFyrM4PGLRdzhpU4HZ/ArXj97biyJvVVV1mMmr2q0z5aqkUEnUF73OdoqbNrdXUMlwbPmw4k3bOVHl7DeLPmMOWysDWmeBdlSOFvxGLhIWZBY5irhKqyWvGgCr7eSyTUry41c6zc1XJMgbZcUPF5cM1uUJXUNSQXQwevrClOeDDy8gfnZ9WLnDslVSdwDXhm8Ncp3Z/mUKwNHacLoNgRlKP0kVhxXlVC0ZTZb59r7770qRfTUd7k4Fj0Lf6G47F0JWEPWweWXR2C+vihei8UlaF0x8FiVXqvnq2vjUgnVVO/vwRHa4IBOtct8dcrY23HUQX9am7UeRfZWVXeRSr9iyUX2nNE5AvlBOu8fyIuqxy93aEFvm+oZ4IXoyWj0waVlbNHTfLo0ToKeSYFKSB0naDr4xllFz7mVUFISGh6YiwRJxqDLlG4bhSraGj7RlM7UkFcQItkdExWG5khw9fQiYdj2mTZPma8ecbJ9xLTTpLn3aEEGw11V8ZeHhybyjQolIII18ERUHSSL3lxWq3DObrI0RzONmyKHOGWeieKNwBvet7eb8cubhVmH+gxGak5MvBUqQL/t8X+nZbG484cLoSQON/0pHNtb8WW2TZmv4MHVCmlj4oJrx/SjcMiSpTNhNLVYX/kZxZhnTeqVM5UkQPGi7IrL71dZaT5/kwzSEnH8uixBKRMGy+PD2vvltknxoc3mFKxFsrHjTtpNDkehVhXvSj9syNpCUKaYGaWlPDQRKJRkqAFbbRtkEld2vCGJrpb371rsyKiUhGVcujc75G6B2Z4Fxg82v/FVSL0O+NYhXAI7WhsNtyAk4oxr0oBsFGv1BTR194RVehY7NlTQkv+KqIAL52fhBLX38x2ZojM+JCqaaRDRHTz9PLj3ov+HlUQc3RoZkh5wVhHxBQxyadfPOtHdPyIspbZe7tSED26fyas+FUTk9d3rwByanBMG7h+qia7XoemZ667V9nXqDW4NcJ3n+2hYMwyptX7vewLQqPU8jjxnMZjCOtWh76qeHNWaLe7wlIKM7gSKgC35nA+Pr5qnO6Z467WDf8qN97mAnsra5Mj4/2KDtUem0c/ThzQBs74BXBHC173BQ3G7Q6PrqJ3taFhYCeV/mO5glrtaGy20wm75/trd+amjQTBszDTCj1rWZzule0jMZPyiCW2YXNQ1+m0Su1oZHHdxcHpnrr9f2degN7g5wgPngDI6vm7XtU+w55TTwPQ8QsKB+z/MLyQcCQAAIAAEg8EQIgKA+EaxgFAgAASAABH5oBEBQf2glDvkFAkAACACBJ0IABPWJYAWjQAAIAAEg8EMjAIL6QytxyC8QAAJAAAg8EQIgqE8EKxgFAkAACACBHxoBENQfWolDfoEAEAACQOCJEABBfSJYwSgQAAJAAAj80AgEKqgbM625d746m3ju8v3C7oVHWgtyc7G3RHot6czZS7eym2ceaQGWjVlHKhISk65LH/T4LuLGXYo7kAjui0AI3gQev0QJKFLetH8rAXHz+ExrTm+FvE9Vu8h/6Sx62jCTcaBsoErW87BwcnLx0ZZfoduDbSDwhAkEIqjr3Slv/tVPnn76+T/6z3/xZz957uln//hffpO//S1NnsnEdYXI//zT555+/id//hf/209/9PQzf/A3793XBKTL5varr//l7z/99PN/8Gf/+3/66Y+eefqZn/7DIfmoz8qo7CnagUSwG4czARN4/BIloEgDpv5EI+DrfTeKYgQSJDT9+F55eJAk8mBdizYgRdxaVrVe2oOKhLLYNxTRuyTi0JzUkuUAqvkTzSAYBwKMBPgLqrUh4u9/9Mwf/2tM+YyNIPDV3nsH/vJHz/zZXgl/ScVnpa//+bM/+fnn2aPkKvOb87Wngv/02Z/863mGZdcZU0sQ1vrwv3v+2f8kPFU9S8owbuq+9dZ/e+6ZP35N4lq4lSWi+/AOJMJtCzYen8DjlygBRfr4xbCTFraWy6pjBbKky5N6cgAKX+3uvr4Hjfyid463pOL60buvopGHmtQzpIZihrlSUbo4tLhygrbS9U6mGWwBgZ0gwFtQNyo+/S/PPv8PMW1Ud9KU98HPnv3xv10Y5VlNsNEL/++Pn/2vn5Y7vtniSP2m+sQ/P//cXyMNlFW/ubKpYn7xR7//L8fV1J2qw8Sz/+WTcn5r7O9AIvymEE4GRuDxS5SAIg0M+ZMO7fzg636Vhnqcg8/eL0AEObk9PJsKXK94EC5QZrZR9Rwb7UoWen3V9UnnBOwDgQAJ8BZUw63dP376P76jpMSQIJalr/3kmT/cK1vld1ET+tofPPMn7yg9vrZbJ/rL557/f856frWUnz1nqI168V8/9/wvjndTdc9f9CeTCH9XhHMBEgiwRAko0gABP+Hg5pE7oZKYUxP0O9xNdUuCAP1KzvN7YbbWWJn4ldou+ldX7PM5B1Dksx7XF4WfcC7APBB4BAK8BdUsf/0Pnv4PL91Zol3EnL7vj55+/n+c7qcdY990dCWf/+9HWzdx02BdyYOSKvUCjk9dDv7Rsz/71QN67WO34XkGMw2VX3r7b3//R//Xe4rt7/V6BvDd2/lE+F4DjjwygUcoUQKK9JFxP5GIzq7kuVt6DLfNq2cGWnSzxi18of/6LvRE0jSv217MUPIxinzYocW2LNr5geaZoVELjq/ViKTifY0DTyTVYBQI7AQB3oKKjV789//wzE+FV4ZcVWJz9GbYnz/zFCmRvFJia0D++rnn/2fiIGZrPPI3zz31zJ8ezLUSprthP376p/sz6T1fbnOYJun/++mPn3/m6Wd/+revJ1bOutLEGXMnE8F5MQjAn8AjlygBRcqf8m8jpPML6pdSl3H6N4nNw7dCJNHxE7ye7dgXct9DkU/V8xg2npKDBEliErV2wtYcLRWF1XT9NjIB1wACj0SAt6AShLH0y7/7vWd+77+FfHn2xs0rJw79+//5s5///P949vl/PtnD69I21ZG/ee75/5HQ7yGohtu7f/zMHx/Iop638DGGLzXcTTgZhxza84v//KMf/yw4poTx69e+pnYyEb7W4cgjE3jkEiWgSB8Z+hOJuNnXlihAL0pNHoK6MnQzRHL09KSdzzUdSox8op7zENQNVaRU/HJtNx8LEAYIfCsEAhBUgticKj1z8N//7md//uc/++v/v327jW2qCuMA7npbKAlGwhIDmcZ9UacmGkg0BDUhazB+AcU4N6MECZAQ0ITWscyXaaYuvGgIZKj7gHF3y7rFBKSZjgXXBbSs0OGgFuxmQda6tFtDt3V9udt6yzF1od7becvTbisz+y9L1vacnvPc38m9/+7mdG3Je809rbsKOe0LdYOk0kVnzTMa9aPl5yZYbMzv8/oGR8aZ6DqwVsMV7jZnc8s3MW3c3/nuqiXc/SXGIcr+v7kpgnT86EQTkKwo6Q1YUhJTzjrF3fZDOr7mq6EYiwsj0dFANDrB4gOOwzq++rCXdC9JHD29kzds7v5zkokRIXgzOhYSmRjs2M3rS619OTsSTASBTAUyCtSUwcVrB59dpC7aayXdxmEscvyNfNXSjd8GJONEWreu4LS6o8Tv3ohhf39v70BIMgL754LKFWw/RcrkWShCOjkez1Ag7YrSxsaS0pxy1Uvob9xYX/G+S7b5sMtSVdzw5YkI5VMvYzH7Z836F80XgpKaBY9xE19ucI5KXsNDCMwvAXqghi4ZP634sPFK8iNmxFr55CJN0d6u1DwVXcaKLW9u3vn1RXlL3M+/vIxbvon3Jc+qEdPWBzjtc5/30bbTxz21Om3eUl1tf3IExsJtOx7k1I9VnJfNNndFzK8F/J9Xk35F5QeHJZV7zNdnccH2QZN+Q6ctcOt2iROO/d/p17eZU7YOisFf635prOmypG7yvxVqN1cWG79pjyZP9KjF8nFxw5EW4j7h2zPjLwRyKUAP1Jj9k6eXqJat2dNy0eMfdP50qOThxeqCsubp/1tK9xzJjyV8tvyJxdxKXdXxnn7fgOPHfS89pNEUbjMFkqeNvP+0Z3Gv8bWVnCp/zdvHzA63z3u9++SBVx/RqrSrqmyyPGVzWMS0qvBC9gL0FcWSZq+c43eOX+7ev57/yNBj/yMU9A9fbTJX6/jqg+5wynku3bWUUmLUZ3qrQf9Ke9vZm4FA2Gv97Vgpbyi1OILJkE55A55CYB4I0AOVMcFeV1Z0ryrvnsRPHnff42W1tv+6/6KcZYwJV+u3rV6u/neM0qPdshu4dzKJD1uPvP5UvmZqhEQh2oLn32npk8cpS3P1nYUi7lQk2jMQoK4oljQD1LvdVfSdsnyxgd+zrj7xW9y0r9rpln6pdKq+NIHK2OQNV/MOo2FqhHV85ZYzP/eStjTd7WPH/AtYIJNATTCJI9fPnzadbO2w3RhL+bhJV4x4LnX+YJrJGONDv59rN534vrXjwrXh5E1oegWMsZkXkdF06JxeYBZWFEuanjjnrUJ4oOcvR5fX7ZvM9loRG3Z5r1g8fc6QkO0QOT9sTLiABTIN1AVMhUOHAAQgAAEIKAsgUJVt0AIBCEAAAhAgCyBQyVToCAEIQAACEFAWQKAq26AFAhCAAAQgQBZAoJKp0BECEIAABCCgLIBAVbZBCwQgAAEIQIAsgEAlU6EjBCAAAQhAQFkAgapsgxYIQAACEIAAWQCBSqZCRwhAAAIQgICyAAJV2QYtEIAABCAAAbIAApVMhY4QgAAEIAABZQEEqrINWiAAAQhAAAJkAQQqmQodIQABCEAAAsoCCFRlG7RAAAIQgAAEyAIIVDIVOkIAAhCAAASUBRCoyjZogQAEIAABCJAF/ga4W4Qa0WvfigAAAABJRU5ErkJggg==)"
      ],
      "metadata": {
        "id": "1ZdDS7RUiKlp"
      }
    },
    {
      "cell_type": "markdown",
      "source": [
        "A primeira coluna é um número, a; a segunda coluna é a raiz quadrada de a calculada com mysqrt; a terceira coluna é a raiz quadrada calculada por math.sqrt; a quarta coluna é o valor absoluto da diferença entre as duas estimativas."
      ],
      "metadata": {
        "id": "TTAKH1pxiKt5"
      }
    },
    {
      "cell_type": "markdown",
      "source": [
        "**COMPARAÇÃO DE SOLUÇÕES:**"
      ],
      "metadata": {
        "id": "K2EjEmoAa4nk"
      }
    },
    {
      "cell_type": "markdown",
      "source": [
        "**SOLUÇÃO PRÓPRIA:**"
      ],
      "metadata": {
        "id": "MMy-dLLZa7QH"
      }
    },
    {
      "cell_type": "code",
      "source": [
        "# definição de função, encapsulando o loop originada da função \"Raízes quadradas\"\n",
        "def mysqrt(a):\n",
        "\n",
        "  # inicialize x com um valor razoável\n",
        "  x = a / 2\n",
        "\n",
        "  while True:\n",
        "    #print(x)\n",
        "    y = (x + a/x) / 2\n",
        "\n",
        "    if y == x:\n",
        "      break\n",
        "    x = y\n",
        "\n",
        "  return x"
      ],
      "metadata": {
        "id": "V17xUdCZOhHX"
      },
      "execution_count": null,
      "outputs": []
    },
    {
      "cell_type": "code",
      "source": [
        "mysqrt(12)"
      ],
      "metadata": {
        "colab": {
          "base_uri": "https://localhost:8080/"
        },
        "id": "603hRZhhOhNZ",
        "outputId": "6787c71d-477e-49bb-948e-85087aaedc54"
      },
      "execution_count": null,
      "outputs": [
        {
          "output_type": "execute_result",
          "data": {
            "text/plain": [
              "3.4641016151377544"
            ]
          },
          "metadata": {},
          "execution_count": 22
        }
      ]
    },
    {
      "cell_type": "code",
      "source": [
        "# importação da biblioteca math para utilização da função interna sqrt\n",
        "import math\n",
        "\n",
        "# definição de função que vai apresentar a tabela com os valores relacionados a estimativa da raíz quadrada do número passado como parâmetro\n",
        "def test_square_root():\n",
        "  # input para salvar na variável 'a' o valor a ser calculado\n",
        "  a = int(input('Digite um número para calcular a estimativa da raiz quadrada dele: '))\n",
        "\n",
        "  # montagem da tabela\n",
        "  print('a   mysqrt(a)          math.sqrt(a)        diff')\n",
        "  print('-   ---------          ------------        ----')\n",
        "  print(a, mysqrt(a), '', math.sqrt(a), '', abs(mysqrt(a) - math.sqrt(a)))"
      ],
      "metadata": {
        "id": "GTOB_lL7OhR5"
      },
      "execution_count": null,
      "outputs": []
    },
    {
      "cell_type": "code",
      "source": [
        "test_square_root()"
      ],
      "metadata": {
        "colab": {
          "base_uri": "https://localhost:8080/"
        },
        "id": "lrpW8l5jWlEQ",
        "outputId": "c02bede4-ab1f-4635-c740-109f1191c0a3"
      },
      "execution_count": null,
      "outputs": [
        {
          "output_type": "stream",
          "name": "stdout",
          "text": [
            "Digite um número para calcular a estimativa da raiz quadrada dele: 12\n",
            "a   mysqrt(a)          math.sqrt(a)        diff\n",
            "-   ---------          ------------        ----\n",
            "12 3.4641016151377544  3.4641016151377544  0.0\n"
          ]
        }
      ]
    },
    {
      "cell_type": "markdown",
      "source": [
        "**SOLUÇÃO CHATGPT:**"
      ],
      "metadata": {
        "id": "vh_6EMD3a_lf"
      }
    },
    {
      "cell_type": "code",
      "source": [
        "import math\n",
        "\n",
        "def mysqrt(a):\n",
        "    x = a / 2  # Um valor inicial razoável para x\n",
        "    while True:\n",
        "        y = (x + a / x) / 2\n",
        "        if y == x:\n",
        "            break\n",
        "        x = y\n",
        "    return x\n",
        "\n",
        "def test_square_root():\n",
        "    print(f\"{'a':<5}{'mysqrt(a)':<15}{'math.sqrt(a)':<15}{'diff':<15}\")\n",
        "    print(\"-\" * 50)\n",
        "\n",
        "    for a in range(1, 10):\n",
        "        my_sqrt = mysqrt(a)\n",
        "        math_sqrt = math.sqrt(a)\n",
        "        diff = abs(my_sqrt - math_sqrt)\n",
        "        print(f\"{a:<5}{my_sqrt:<15}{math_sqrt:<15}{diff:<15}\")"
      ],
      "metadata": {
        "id": "ZMDFh2NrbCNJ"
      },
      "execution_count": null,
      "outputs": []
    },
    {
      "cell_type": "code",
      "source": [
        "test_square_root()"
      ],
      "metadata": {
        "colab": {
          "base_uri": "https://localhost:8080/"
        },
        "id": "UlcONZf9bCPj",
        "outputId": "d3071b19-c4b3-4566-9c6c-66176d5ac017"
      },
      "execution_count": null,
      "outputs": [
        {
          "output_type": "stream",
          "name": "stdout",
          "text": [
            "a    mysqrt(a)      math.sqrt(a)   diff           \n",
            "--------------------------------------------------\n",
            "1    1.0            1.0            0.0            \n",
            "2    1.4142135623730951.41421356237309512.220446049250313e-16\n",
            "3    1.73205080756887721.73205080756887720.0            \n",
            "4    2.0            2.0            0.0            \n",
            "5    2.236067977499792.236067977499790.0            \n",
            "6    2.4494897427831782.4494897427831780.0            \n",
            "7    2.64575131106459072.64575131106459070.0            \n",
            "8    2.828427124746192.82842712474619034.440892098500626e-16\n",
            "9    3.0            3.0            0.0            \n"
          ]
        }
      ]
    },
    {
      "cell_type": "markdown",
      "source": [
        "<h3> Exercício 7.2 </h3>\n",
        "\n",
        "A função integrada eval toma uma string e a avalia, usando o interpretador do Python. Por exemplo:\n",
        "\n",
        "![image.png](data:image/png;base64,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)\n",
        "\n",
        "Escreva uma função chamada eval_loop que iterativamente peça uma entrada ao usuário, a avalie usando eval e exiba o resultado.\n",
        "Ela deve continuar até que o usuário digite done; então deverá exibir o valor da última expressão avaliada.\n"
      ],
      "metadata": {
        "id": "J6mrLbwIiKxE"
      }
    },
    {
      "cell_type": "markdown",
      "source": [
        "**COMPARAÇÃO DE SOLUÇÕES:**"
      ],
      "metadata": {
        "id": "4V_b845b4OJy"
      }
    },
    {
      "cell_type": "markdown",
      "source": [
        "**SOLUÇÃO PRÓPRIA:**"
      ],
      "metadata": {
        "id": "BGRhXMkd4Si2"
      }
    },
    {
      "cell_type": "code",
      "source": [
        "# definição de função eval_loop e teste do corpo dela\n",
        "def eval_loop():\n",
        "  i = input('Digite um dado de entrada: ')\n",
        "\n",
        "  return i"
      ],
      "metadata": {
        "id": "3wdBuabNxrLG"
      },
      "execution_count": 2,
      "outputs": []
    },
    {
      "cell_type": "code",
      "source": [
        "eval_loop() # teste 1"
      ],
      "metadata": {
        "colab": {
          "base_uri": "https://localhost:8080/",
          "height": 54
        },
        "id": "2-FdklP-xrOP",
        "outputId": "fa0c7d83-df97-4258-b7fb-c7e30b6af676"
      },
      "execution_count": 3,
      "outputs": [
        {
          "name": "stdout",
          "output_type": "stream",
          "text": [
            "Digite um dado de entrada: oi\n"
          ]
        },
        {
          "output_type": "execute_result",
          "data": {
            "text/plain": [
              "'oi'"
            ],
            "application/vnd.google.colaboratory.intrinsic+json": {
              "type": "string"
            }
          },
          "metadata": {},
          "execution_count": 3
        }
      ]
    },
    {
      "cell_type": "code",
      "source": [
        "# adicionando caso-base na função\n",
        "def eval_loop():\n",
        "\n",
        "  while True:\n",
        "    i = input('Digite um dado de entrada: ').lower()\n",
        "\n",
        "    # se o usuário digitar 'done', a execução é finalizada\n",
        "    if i == 'done':\n",
        "      break\n",
        "\n",
        "  return i"
      ],
      "metadata": {
        "id": "aGn1sXF7xrRU"
      },
      "execution_count": 4,
      "outputs": []
    },
    {
      "cell_type": "code",
      "source": [
        "eval_loop() # teste 2"
      ],
      "metadata": {
        "colab": {
          "base_uri": "https://localhost:8080/",
          "height": 72
        },
        "id": "jETbKgi6yzKV",
        "outputId": "53e32aec-96d5-4295-eeb9-80c2d070613c"
      },
      "execution_count": 5,
      "outputs": [
        {
          "name": "stdout",
          "output_type": "stream",
          "text": [
            "Digite um dado de entrada: oi\n",
            "Digite um dado de entrada: done\n"
          ]
        },
        {
          "output_type": "execute_result",
          "data": {
            "text/plain": [
              "'done'"
            ],
            "application/vnd.google.colaboratory.intrinsic+json": {
              "type": "string"
            }
          },
          "metadata": {},
          "execution_count": 5
        }
      ]
    },
    {
      "cell_type": "code",
      "source": [
        "# adicionando a função primitiva eval() para avaliar a expressão que for inserida pelo usuário\n",
        "def eval_loop():\n",
        "\n",
        "  while True:\n",
        "    i = input('Digite um dado de entrada: ').lower()\n",
        "\n",
        "    # se o usuário digitar 'done', a execução é finalizada\n",
        "    if i == 'done':\n",
        "      break\n",
        "\n",
        "    # avalia a expressão inserida pelo usuário\n",
        "    evaluating = eval(i)\n",
        "    #last_eval = eval(i)\n",
        "  return evaluating"
      ],
      "metadata": {
        "id": "kU5EFc_f0kO1"
      },
      "execution_count": 11,
      "outputs": []
    },
    {
      "cell_type": "code",
      "source": [
        "eval_loop() # teste 3"
      ],
      "metadata": {
        "colab": {
          "base_uri": "https://localhost:8080/"
        },
        "id": "WIqib9ge1FEO",
        "outputId": "c64f3d05-e98e-4a94-8aa1-e4b42a811129"
      },
      "execution_count": 12,
      "outputs": [
        {
          "name": "stdout",
          "output_type": "stream",
          "text": [
            "Digite um dado de entrada: 1 + 2\n",
            "Digite um dado de entrada: done\n"
          ]
        },
        {
          "output_type": "execute_result",
          "data": {
            "text/plain": [
              "3"
            ]
          },
          "metadata": {},
          "execution_count": 12
        }
      ]
    },
    {
      "cell_type": "code",
      "source": [
        "# acrescenta uma variável para armazenar a última expressão avaliada pela função eval()\n",
        "def eval_loop():\n",
        "\n",
        "  while True:\n",
        "    i = input('Digite um dado de entrada: ').lower()\n",
        "\n",
        "    # se o usuário digitar 'done', a execução é finalizada\n",
        "    if i == 'done':\n",
        "      break\n",
        "\n",
        "    # avalia a expressão inserida pelo usuário\n",
        "    evaluating = eval(i)\n",
        "\n",
        "    #armazena a última expressão inserida pelo usuário antes da execução ser finalizada\n",
        "    last_eval = eval(i)\n",
        "\n",
        "  return last_eval"
      ],
      "metadata": {
        "id": "ZzUqlIga1MYw"
      },
      "execution_count": 13,
      "outputs": []
    },
    {
      "cell_type": "code",
      "source": [
        "eval_loop() # teste 4"
      ],
      "metadata": {
        "colab": {
          "base_uri": "https://localhost:8080/",
          "height": 366
        },
        "id": "NrWOkqOj1hwi",
        "outputId": "b7d81307-adf5-4f4a-ca7f-c6faefab21a8"
      },
      "execution_count": 14,
      "outputs": [
        {
          "name": "stdout",
          "output_type": "stream",
          "text": [
            "Digite um dado de entrada: 1 + 2 * 3\n",
            "Digite um dado de entrada: import math\n"
          ]
        },
        {
          "output_type": "error",
          "ename": "SyntaxError",
          "evalue": "invalid syntax (<string>, line 1)",
          "traceback": [
            "Traceback \u001b[0;36m(most recent call last)\u001b[0m:\n",
            "  File \u001b[1;32m\"/usr/local/lib/python3.10/dist-packages/IPython/core/interactiveshell.py\"\u001b[0m, line \u001b[1;32m3553\u001b[0m, in \u001b[1;35mrun_code\u001b[0m\n    exec(code_obj, self.user_global_ns, self.user_ns)\n",
            "  File \u001b[1;32m\"<ipython-input-14-8b8a28f18456>\"\u001b[0m, line \u001b[1;32m1\u001b[0m, in \u001b[1;35m<cell line: 1>\u001b[0m\n    eval_loop() # teste 4\n",
            "\u001b[0;36m  File \u001b[0;32m\"<ipython-input-13-5c458af9698f>\"\u001b[0;36m, line \u001b[0;32m13\u001b[0;36m, in \u001b[0;35meval_loop\u001b[0;36m\u001b[0m\n\u001b[0;31m    evaluating = eval(i)\u001b[0m\n",
            "\u001b[0;36m  File \u001b[0;32m\"<string>\"\u001b[0;36m, line \u001b[0;32m1\u001b[0m\n\u001b[0;31m    import math\u001b[0m\n\u001b[0m    ^\u001b[0m\n\u001b[0;31mSyntaxError\u001b[0m\u001b[0;31m:\u001b[0m invalid syntax\n"
          ]
        }
      ]
    },
    {
      "cell_type": "markdown",
      "source": [
        "POR QUE DEU O ERRO **SyntaxError: invalid syntax**?\n",
        "\n",
        "Isso ocorre porque **import math** - digitado por mim - é uma declaração, e não uma expressão que retorna algum valor, portanto, eval() não consegue processar e retorna um erro."
      ],
      "metadata": {
        "id": "NEyDDwk93vH7"
      }
    },
    {
      "cell_type": "code",
      "source": [
        "eval_loop() # teste 5"
      ],
      "metadata": {
        "colab": {
          "base_uri": "https://localhost:8080/"
        },
        "id": "_s0yHpTc38ZU",
        "outputId": "a300d6d9-d5bb-458f-c12d-a6ee83a3c2b6"
      },
      "execution_count": 15,
      "outputs": [
        {
          "name": "stdout",
          "output_type": "stream",
          "text": [
            "Digite um dado de entrada: 1 + 2 * 3\n",
            "Digite um dado de entrada: math.sqrt(5)\n",
            "Digite um dado de entrada: type(math.pi)\n",
            "Digite um dado de entrada: done\n"
          ]
        },
        {
          "output_type": "execute_result",
          "data": {
            "text/plain": [
              "float"
            ]
          },
          "metadata": {},
          "execution_count": 15
        }
      ]
    },
    {
      "cell_type": "code",
      "source": [
        "# remoção da variável para armazenar a última expressão avaliada pela função eval() pois é redundante\n",
        "def eval_loop():\n",
        "\n",
        "  while True:\n",
        "    i = input('Digite um dado de entrada: ').lower()\n",
        "\n",
        "    # se o usuário digitar 'done', a execução é finalizada\n",
        "    if i == 'done':\n",
        "      break\n",
        "\n",
        "    # avalia a expressão inserida pelo usuário\n",
        "    evaluating = eval(i)\n",
        "\n",
        "  return evaluating"
      ],
      "metadata": {
        "id": "wrHNE2504zMY"
      },
      "execution_count": 16,
      "outputs": []
    },
    {
      "cell_type": "code",
      "source": [
        "eval_loop() # teste 6"
      ],
      "metadata": {
        "colab": {
          "base_uri": "https://localhost:8080/"
        },
        "id": "VoH1qiZb44Td",
        "outputId": "5022eac7-288b-4838-d1a8-bcdec30b02fb"
      },
      "execution_count": 17,
      "outputs": [
        {
          "name": "stdout",
          "output_type": "stream",
          "text": [
            "Digite um dado de entrada: 1+2\n",
            "Digite um dado de entrada: math.sqrt(5)\n",
            "Digite um dado de entrada: type(math.pi)\n",
            "Digite um dado de entrada: done\n"
          ]
        },
        {
          "output_type": "execute_result",
          "data": {
            "text/plain": [
              "float"
            ]
          },
          "metadata": {},
          "execution_count": 17
        }
      ]
    },
    {
      "cell_type": "markdown",
      "source": [
        "**SOLUÇÃO CHATGPT:**"
      ],
      "metadata": {
        "id": "WZYLlXA24bL-"
      }
    },
    {
      "cell_type": "code",
      "source": [
        "def eval_loop():\n",
        "    ultimo_resultado = None  # Variável para armazenar o último resultado avaliado\n",
        "\n",
        "    while True:\n",
        "        expressao = input(\"Digite uma expressão (ou 'done' para encerrar): \")\n",
        "\n",
        "        if expressao.lower() == 'done':\n",
        "            break\n",
        "\n",
        "        try:\n",
        "            ultimo_resultado = eval(expressao)\n",
        "            print(f\"Resultado: {ultimo_resultado}\")\n",
        "        except Exception as e:\n",
        "            print(f\"Erro ao avaliar a expressão: {e}\")\n",
        "\n",
        "    # Exibe o último resultado avaliado antes de encerrar\n",
        "    print(f\"Último resultado avaliado: {ultimo_resultado}\")\n",
        "    return ultimo_resultado\n",
        "\n",
        "# Chama a função\n",
        "eval_loop()"
      ],
      "metadata": {
        "colab": {
          "base_uri": "https://localhost:8080/"
        },
        "id": "PT3BRDCp4doU",
        "outputId": "a5aeaa02-ce70-458c-cc19-8e025bfd6dae"
      },
      "execution_count": 18,
      "outputs": [
        {
          "output_type": "stream",
          "name": "stdout",
          "text": [
            "Digite uma expressão (ou 'done' para encerrar): 1+2\n",
            "Resultado: 3\n",
            "Digite uma expressão (ou 'done' para encerrar): done\n",
            "Último resultado avaliado: 3\n"
          ]
        },
        {
          "output_type": "execute_result",
          "data": {
            "text/plain": [
              "3"
            ]
          },
          "metadata": {},
          "execution_count": 18
        }
      ]
    },
    {
      "cell_type": "markdown",
      "source": [
        "<h3> Exercício 7.3 </h3>\n",
        "\n",
        "O matemático Srinivasa Ramanujan encontrou uma série infinita que pode ser usada para gerar uma aproximação numérica de 1/π:\n",
        "\n",
        "![image.png](data:image/png;base64,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)"
      ],
      "metadata": {
        "id": "P3CC-M_jimBi"
      }
    },
    {
      "cell_type": "markdown",
      "source": [
        "Escreva uma função chamada estimate_pi que use esta fórmula para computar e\n",
        "devolver uma estimativa de π. Você deve usar o loop while para calcular os termos da adição até que o último termo seja menor que 1e-15 (que é a notação do Python para 10 ** 15). Você pode verificar o resultado comparando-o com math.pi."
      ],
      "metadata": {
        "id": "GtorEUZwitIS"
      }
    },
    {
      "cell_type": "markdown",
      "source": [
        "**COMPARAÇÃO DE SOLUÇÕES:**"
      ],
      "metadata": {
        "id": "kFHn5tPL8mv0"
      }
    },
    {
      "cell_type": "markdown",
      "source": [
        "**SOLUÇÃO PRÓPRIA:**"
      ],
      "metadata": {
        "id": "CS9ZcXSm8pqB"
      }
    },
    {
      "cell_type": "code",
      "source": [
        "# DEFINIÇÃO DE FUNÇÃO\n",
        "\n",
        "def estimate_pi():\n",
        "  estimativa = None\n",
        "\n",
        "  return estimativa"
      ],
      "metadata": {
        "id": "LmXg906SislC"
      },
      "execution_count": 21,
      "outputs": []
    },
    {
      "cell_type": "code",
      "source": [
        "estimate_pi() # teste 1"
      ],
      "metadata": {
        "id": "7bPGcVt6866F"
      },
      "execution_count": 22,
      "outputs": []
    },
    {
      "cell_type": "code",
      "source": [
        "# acrescentando a funcionalidade do caso-base, que é quando a estimativa é menor do que (1 * 10) ** −15\n",
        "def estimate_pi():\n",
        "  estimativa = None\n",
        "\n",
        "  while True:\n",
        "\n",
        "    if estimativa < ((1 * 10) ** (- 15)):\n",
        "      break\n",
        "\n",
        "  return estimativa"
      ],
      "metadata": {
        "id": "wHLRwFTS870y"
      },
      "execution_count": 27,
      "outputs": []
    },
    {
      "cell_type": "code",
      "source": [
        "estimate_pi() # teste 2"
      ],
      "metadata": {
        "colab": {
          "base_uri": "https://localhost:8080/",
          "height": 274
        },
        "id": "r5IJCt10AVPi",
        "outputId": "d57f5a47-31c4-40ef-9b62-8931a543c3a4"
      },
      "execution_count": 28,
      "outputs": [
        {
          "output_type": "error",
          "ename": "TypeError",
          "evalue": "'<' not supported between instances of 'NoneType' and 'float'",
          "traceback": [
            "\u001b[0;31m---------------------------------------------------------------------------\u001b[0m",
            "\u001b[0;31mTypeError\u001b[0m                                 Traceback (most recent call last)",
            "\u001b[0;32m<ipython-input-28-3b0514e35489>\u001b[0m in \u001b[0;36m<cell line: 1>\u001b[0;34m()\u001b[0m\n\u001b[0;32m----> 1\u001b[0;31m \u001b[0mestimate_pi\u001b[0m\u001b[0;34m(\u001b[0m\u001b[0;34m)\u001b[0m \u001b[0;31m# teste 2\u001b[0m\u001b[0;34m\u001b[0m\u001b[0;34m\u001b[0m\u001b[0m\n\u001b[0m",
            "\u001b[0;32m<ipython-input-27-51bc165414a8>\u001b[0m in \u001b[0;36mestimate_pi\u001b[0;34m()\u001b[0m\n\u001b[1;32m      5\u001b[0m   \u001b[0;32mwhile\u001b[0m \u001b[0;32mTrue\u001b[0m\u001b[0;34m:\u001b[0m\u001b[0;34m\u001b[0m\u001b[0;34m\u001b[0m\u001b[0m\n\u001b[1;32m      6\u001b[0m \u001b[0;34m\u001b[0m\u001b[0m\n\u001b[0;32m----> 7\u001b[0;31m     \u001b[0;32mif\u001b[0m \u001b[0mestimativa\u001b[0m \u001b[0;34m<\u001b[0m \u001b[0;34m(\u001b[0m\u001b[0;34m(\u001b[0m\u001b[0;36m1\u001b[0m \u001b[0;34m*\u001b[0m \u001b[0;36m10\u001b[0m\u001b[0;34m)\u001b[0m \u001b[0;34m**\u001b[0m \u001b[0;34m(\u001b[0m\u001b[0;34m-\u001b[0m \u001b[0;36m15\u001b[0m\u001b[0;34m)\u001b[0m\u001b[0;34m)\u001b[0m\u001b[0;34m:\u001b[0m\u001b[0;34m\u001b[0m\u001b[0;34m\u001b[0m\u001b[0m\n\u001b[0m\u001b[1;32m      8\u001b[0m       \u001b[0;32mbreak\u001b[0m\u001b[0;34m\u001b[0m\u001b[0;34m\u001b[0m\u001b[0m\n\u001b[1;32m      9\u001b[0m \u001b[0;34m\u001b[0m\u001b[0m\n",
            "\u001b[0;31mTypeError\u001b[0m: '<' not supported between instances of 'NoneType' and 'float'"
          ]
        }
      ]
    },
    {
      "cell_type": "markdown",
      "source": [
        "Retorna um erro de tipo, pois a variável \"estimativa\" está declarada como None, que não pode ser \"comparada\" com valores. Seguimos no desenvolvimento."
      ],
      "metadata": {
        "id": "amtxq8JmAYkH"
      }
    },
    {
      "cell_type": "code",
      "source": [
        "# acrescentando o loop para calcular as fatoriais de 4k!\n",
        "def estimate_pi():\n",
        "  estimativa = None\n",
        "  fatorial = 1\n",
        "  n = 4\n",
        "\n",
        "  while True:\n",
        "\n",
        "    if estimativa < ((1 * 10) ** (- 15)):\n",
        "      break\n",
        "\n",
        "    # calculando fatorial de 4k\n",
        "    while True:\n",
        "      if n == 1:\n",
        "        break\n",
        "\n",
        "      fatorial = fatorial * n\n",
        "      n = n -1\n",
        "\n",
        "  return estimativa"
      ],
      "metadata": {
        "id": "OHNiqA5wA1Cd"
      },
      "execution_count": null,
      "outputs": []
    },
    {
      "cell_type": "markdown",
      "source": [
        "**NÃO SOUBE FINALIZAR**"
      ],
      "metadata": {
        "id": "jyYTpPEyQJGv"
      }
    },
    {
      "cell_type": "markdown",
      "source": [
        "**SOLUÇÃO CHATGPT:**"
      ],
      "metadata": {
        "id": "3nnXzOYzQMUe"
      }
    },
    {
      "cell_type": "code",
      "source": [
        "import math\n",
        "\n",
        "def factorial(n):\n",
        "    \"\"\"Calcula o fatorial de n (n!) de forma iterativa.\"\"\"\n",
        "    if n == 0:\n",
        "        return 1\n",
        "    result = 1\n",
        "    for i in range(1, n + 1):\n",
        "        result *= i\n",
        "    return result\n",
        "\n",
        "def estimate_pi():\n",
        "    # Inicializa os termos da série e a estimativa de pi\n",
        "    sum_series = 0\n",
        "    k = 0\n",
        "\n",
        "    # Loop para calcular os termos da série até que o último termo seja menor que 1e-15\n",
        "    while True:\n",
        "        # Calcula o termo da série\n",
        "        numerator = factorial(4 * k) * (1103 + 26390 * k)\n",
        "        denominator = (factorial(k) ** 4) * (396 ** (4 * k))\n",
        "        term = numerator / denominator\n",
        "\n",
        "        # Adiciona o termo à soma\n",
        "        sum_series += term\n",
        "\n",
        "        # Se o termo é menor que 1e-15, para o loop\n",
        "        if term < 1e-15:\n",
        "            break\n",
        "\n",
        "        # Incrementa k para o próximo termo\n",
        "        k += 1\n",
        "\n",
        "    # Calcula a estimativa de pi\n",
        "    pi_estimate = 1 / ((2 * math.sqrt(2) / 9801) * sum_series)\n",
        "\n",
        "    return pi_estimate\n",
        "\n",
        "# Testa a função\n",
        "pi_estimate = estimate_pi()\n",
        "print(f'Estimativa de π: {pi_estimate}')\n",
        "print(f'π real: {math.pi}')\n",
        "print(f'Erro: {abs(pi_estimate - math.pi)}')"
      ],
      "metadata": {
        "colab": {
          "base_uri": "https://localhost:8080/"
        },
        "id": "ci1XZzPYDcKf",
        "outputId": "b34c6ae6-663b-4251-a093-1b8378e8b610"
      },
      "execution_count": 36,
      "outputs": [
        {
          "output_type": "stream",
          "name": "stdout",
          "text": [
            "Estimativa de π: 3.141592653589793\n",
            "π real: 3.141592653589793\n",
            "Erro: 0.0\n"
          ]
        }
      ]
    },
    {
      "cell_type": "code",
      "source": [],
      "metadata": {
        "id": "31kr8Dk9QSzM"
      },
      "execution_count": null,
      "outputs": []
    }
  ]
}