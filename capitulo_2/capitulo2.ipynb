{
  "nbformat": 4,
  "nbformat_minor": 0,
  "metadata": {
    "colab": {
      "provenance": [],
      "authorship_tag": "ABX9TyPviioFt/NupystTIdkOMVo",
      "include_colab_link": true
    },
    "kernelspec": {
      "name": "python3",
      "display_name": "Python 3"
    },
    "language_info": {
      "name": "python"
    }
  },
  "cells": [
    {
      "cell_type": "markdown",
      "metadata": {
        "id": "view-in-github",
        "colab_type": "text"
      },
      "source": [
        "<a href=\"https://colab.research.google.com/github/bitwoman/pense-em-python/blob/main/capitulo2.ipynb\" target=\"_parent\"><img src=\"https://colab.research.google.com/assets/colab-badge.svg\" alt=\"Open In Colab\"/></a>"
      ]
    },
    {
      "cell_type": "markdown",
      "source": [
        "# **ESTUDO DO LIVRO \"Pense em Python\", DO AUTOR ALLEN B. DOWNEY**\n",
        "\n",
        "<p> Estudos iniciados em 20-06-2024. </p>"
      ],
      "metadata": {
        "id": "q6zTvxYc6E4s"
      }
    },
    {
      "cell_type": "markdown",
      "source": [
        "# **CAPÍTULO 2: VARIÁVEIS, EXPRESSÕES E CONSTRUÇÕES**"
      ],
      "metadata": {
        "id": "xzRdFKVt6Ijo"
      }
    },
    {
      "cell_type": "markdown",
      "source": [
        "**2.1 - Instruções de atribuição**"
      ],
      "metadata": {
        "id": "KF3mjH2-6KiN"
      }
    },
    {
      "cell_type": "code",
      "source": [
        "message = 'And now for something completely different'"
      ],
      "metadata": {
        "id": "Y2EKJoVl6Flm"
      },
      "execution_count": 1,
      "outputs": []
    },
    {
      "cell_type": "code",
      "source": [
        "print(message)"
      ],
      "metadata": {
        "colab": {
          "base_uri": "https://localhost:8080/"
        },
        "id": "8fq7D3Qb6MT-",
        "outputId": "5c6ff3c7-b5e3-448e-89b0-2c30aaefd1c1"
      },
      "execution_count": 2,
      "outputs": [
        {
          "output_type": "stream",
          "name": "stdout",
          "text": [
            "And now for something completely different\n"
          ]
        }
      ]
    },
    {
      "cell_type": "markdown",
      "source": [
        "**2.2 - Nomes de variáveis**"
      ],
      "metadata": {
        "id": "3pwl8Xdh6RmP"
      }
    },
    {
      "cell_type": "markdown",
      "source": [
        "O Python 3 tem estas palavras-chave:\n",
        "<p> </p>\n",
        "and | del | from | None | True |\n",
        "<p> </p>\n",
        "as | elif | global | nonlocal | try |\n",
        "<p> </p>\n",
        "assert | else | if | not | while |\n",
        "<p> </p>\n",
        "break | except | import | or | with |\n",
        "<p> </p>\n",
        "class | False | in | pass | yield |\n",
        "<p> </p>\n",
        "continue | finally | is | raise |\n",
        "<p> </p>\n",
        "def | for | lambda | return |"
      ],
      "metadata": {
        "id": "fAZwal586Ua2"
      }
    },
    {
      "cell_type": "markdown",
      "source": [
        "**2.3 - Expressões e instruções**\n",
        "\n",
        "Uma expressão é uma combinação de valores, variáveis e operadores."
      ],
      "metadata": {
        "id": "W4KoqQOA6XPP"
      }
    },
    {
      "cell_type": "code",
      "source": [
        "n = 17\n",
        "print(n)"
      ],
      "metadata": {
        "colab": {
          "base_uri": "https://localhost:8080/"
        },
        "id": "X4ebYv3g6OWl",
        "outputId": "11c22478-c0c4-4a0b-818f-362cd2c8d8b2"
      },
      "execution_count": 3,
      "outputs": [
        {
          "output_type": "stream",
          "name": "stdout",
          "text": [
            "17\n"
          ]
        }
      ]
    },
    {
      "cell_type": "markdown",
      "source": [
        "**2.4 - Modo script**"
      ],
      "metadata": {
        "id": "B8BjwJMC6bNf"
      }
    },
    {
      "cell_type": "markdown",
      "source": [
        "Um script normalmente contém uma sequência de instruções. Se houver mais de uma\n",
        "instrução, os resultados aparecem um após o outro, conforme as instruções sejam\n",
        "executadas."
      ],
      "metadata": {
        "id": "wAYERFO36dVp"
      }
    },
    {
      "cell_type": "code",
      "source": [
        "print(1)\n",
        "x = 2\n",
        "print(x)"
      ],
      "metadata": {
        "colab": {
          "base_uri": "https://localhost:8080/"
        },
        "id": "3P7bpH8O6Y6D",
        "outputId": "44911d70-ce20-4403-e11a-7e7f1f915edf"
      },
      "execution_count": 4,
      "outputs": [
        {
          "output_type": "stream",
          "name": "stdout",
          "text": [
            "1\n",
            "2\n"
          ]
        }
      ]
    },
    {
      "cell_type": "markdown",
      "source": [
        "A instrução de atribuição não produz nenhuma saída.\n"
      ],
      "metadata": {
        "id": "1PRsXQK96hJH"
      }
    },
    {
      "cell_type": "code",
      "source": [
        "5"
      ],
      "metadata": {
        "colab": {
          "base_uri": "https://localhost:8080/"
        },
        "id": "f8I9S_RX6hTk",
        "outputId": "04eafd23-ebbb-4ffc-d665-96c8f0a93091"
      },
      "execution_count": 5,
      "outputs": [
        {
          "output_type": "execute_result",
          "data": {
            "text/plain": [
              "5"
            ]
          },
          "metadata": {},
          "execution_count": 5
        }
      ]
    },
    {
      "cell_type": "code",
      "source": [
        "x = 5\n",
        "x + 1"
      ],
      "metadata": {
        "colab": {
          "base_uri": "https://localhost:8080/"
        },
        "id": "9E5EDpK96jIM",
        "outputId": "b53f08fd-a436-4bab-9ab3-47f53d638b4e"
      },
      "execution_count": 6,
      "outputs": [
        {
          "output_type": "execute_result",
          "data": {
            "text/plain": [
              "6"
            ]
          },
          "metadata": {},
          "execution_count": 6
        }
      ]
    },
    {
      "cell_type": "markdown",
      "source": [
        "**2.5 - Ordem das operações**\n",
        "\n",
        "Quando uma expressão contém mais de um operador, a ordem da avaliação depende da\n",
        "ordem das operações. Para operadores matemáticos, o Python segue a convenção\n",
        "matemática."
      ],
      "metadata": {
        "id": "PT-N3TJ66n1b"
      }
    },
    {
      "cell_type": "markdown",
      "source": [
        "Como as expressões em parênteses são avaliadas primeiro:"
      ],
      "metadata": {
        "id": "JDyN6acz6p2q"
      }
    },
    {
      "cell_type": "code",
      "source": [
        "print(2 * (3-1))     # é 4\n",
        "print((1+1)**(5-2))  # é 8"
      ],
      "metadata": {
        "colab": {
          "base_uri": "https://localhost:8080/"
        },
        "id": "Vc4lWnSS6ll1",
        "outputId": "fead208a-7429-48c2-ff89-4571c708f208"
      },
      "execution_count": 7,
      "outputs": [
        {
          "output_type": "stream",
          "name": "stdout",
          "text": [
            "4\n",
            "8\n"
          ]
        }
      ]
    },
    {
      "cell_type": "markdown",
      "source": [
        "Também é possível usar parênteses para facilitar a leitura de uma expressão, como no caso de:"
      ],
      "metadata": {
        "id": "z91_Izoy6sxd"
      }
    },
    {
      "cell_type": "code",
      "source": [
        "ordemOperacao = ((2 * 100) / 60)\n",
        "print(ordemOperacao)  # mesmo se o resultado não for alterado."
      ],
      "metadata": {
        "colab": {
          "base_uri": "https://localhost:8080/"
        },
        "id": "ufFAXzqv6q4l",
        "outputId": "0177a53a-09bf-41a4-ed6e-f43c50dee6c9"
      },
      "execution_count": 8,
      "outputs": [
        {
          "output_type": "stream",
          "name": "stdout",
          "text": [
            "3.3333333333333335\n"
          ]
        }
      ]
    },
    {
      "cell_type": "markdown",
      "source": [
        "A Exponenciação tem a próxima precedência mais alta, então 1 + 2**3 é 9, não 27"
      ],
      "metadata": {
        "id": "uWZ95Kt060-W"
      }
    },
    {
      "cell_type": "code",
      "source": [
        "expo = 2 * 3**2 #é 18, não 36.\n",
        "print(expo)"
      ],
      "metadata": {
        "colab": {
          "base_uri": "https://localhost:8080/"
        },
        "id": "86ZF0mGv6yog",
        "outputId": "49a4918e-4f3e-48d8-f5f5-4a54f4cc575c"
      },
      "execution_count": 9,
      "outputs": [
        {
          "output_type": "stream",
          "name": "stdout",
          "text": [
            "18\n"
          ]
        }
      ]
    },
    {
      "cell_type": "markdown",
      "source": [
        "**A Multiplicação e a Divisão têm precedência mais alta que a Adição e a Subtração. Assim**"
      ],
      "metadata": {
        "id": "mzF1kWru65An"
      }
    },
    {
      "cell_type": "code",
      "source": [
        "print(2 * 3 - 1) # é 5, não 4\n",
        "print(6 + 4 / 2) # é 8, não 5."
      ],
      "metadata": {
        "colab": {
          "base_uri": "https://localhost:8080/"
        },
        "id": "niD5-Ihz62df",
        "outputId": "4d70fcce-e26b-4940-b9e5-be481ee6214a"
      },
      "execution_count": 10,
      "outputs": [
        {
          "output_type": "stream",
          "name": "stdout",
          "text": [
            "5\n",
            "8.0\n"
          ]
        }
      ]
    },
    {
      "cell_type": "markdown",
      "source": [
        "**2.6 - Operações com strings**\n",
        "<p> Em geral, não é possível executar operações matemáticas com strings, mesmo se elas parecerem números"
      ],
      "metadata": {
        "id": "up5gT9Rz69K7"
      }
    },
    {
      "cell_type": "markdown",
      "source": [
        "**Mas há duas exceções, + e *. O operador + executa uma concatenação de strings, ou seja, une as strings pelas extremidades.**"
      ],
      "metadata": {
        "id": "t-1LCtN86_hT"
      }
    },
    {
      "cell_type": "code",
      "source": [
        "first = 'throat'\n",
        "second = 'warbler'\n",
        "\n",
        "print(first + second)"
      ],
      "metadata": {
        "colab": {
          "base_uri": "https://localhost:8080/"
        },
        "id": "h2dTrDn566MH",
        "outputId": "28e6db7f-dfbd-4b4d-e81e-da3bf5ae7699"
      },
      "execution_count": 11,
      "outputs": [
        {
          "output_type": "stream",
          "name": "stdout",
          "text": [
            "throatwarbler\n"
          ]
        }
      ]
    },
    {
      "cell_type": "markdown",
      "source": [
        "O operador * também funciona em strings; ele executa a repetição."
      ],
      "metadata": {
        "id": "5sHtNl1C7DL4"
      }
    },
    {
      "cell_type": "code",
      "source": [
        "'Spam' * 3 # Se um dos valores for uma string, o outro tem de ser um número inteiro."
      ],
      "metadata": {
        "colab": {
          "base_uri": "https://localhost:8080/",
          "height": 36
        },
        "id": "HRAxNzBk7A-0",
        "outputId": "7c9936bf-729b-4dcb-cc45-743aa1ed9135"
      },
      "execution_count": 12,
      "outputs": [
        {
          "output_type": "execute_result",
          "data": {
            "text/plain": [
              "'SpamSpamSpam'"
            ],
            "application/vnd.google.colaboratory.intrinsic+json": {
              "type": "string"
            }
          },
          "metadata": {},
          "execution_count": 12
        }
      ]
    },
    {
      "cell_type": "markdown",
      "source": [
        "Por outro lado, há uma diferença significativa entre a concatenação de strings e a repetição em relação à adição e à multiplicação de números inteiros. Você consegue pensar em uma propriedade que a adição tem, mas a concatenação de strings não tem?\n"
      ],
      "metadata": {
        "id": "oO7vNFap7GXn"
      }
    },
    {
      "cell_type": "markdown",
      "source": [
        "Comutatividade: Na concatenação de strings, a ordem dos operandos é crucial e altera o resultado, enquanto que na adição, não altera."
      ],
      "metadata": {
        "id": "V9XwW2Yq7ISa"
      }
    },
    {
      "cell_type": "markdown",
      "source": [
        "**2.7 - Comentários**\n",
        "<p> Tudo do # ao fim da linha é ignorado – não tem efeito na execução do programa."
      ],
      "metadata": {
        "id": "ZdqIXe9N7J6f"
      }
    },
    {
      "cell_type": "code",
      "source": [
        "# computa a porcentagem da hora que passou\n",
        "porcentagem = (2 * 100) / 60\n",
        "print(porcentagem)"
      ],
      "metadata": {
        "colab": {
          "base_uri": "https://localhost:8080/"
        },
        "id": "N3-swW7F7Elt",
        "outputId": "6769a17b-214f-43e3-eed8-af3933766135"
      },
      "execution_count": 13,
      "outputs": [
        {
          "output_type": "stream",
          "name": "stdout",
          "text": [
            "3.3333333333333335\n"
          ]
        }
      ]
    },
    {
      "cell_type": "markdown",
      "source": [
        "Este comentário é redundante em relação ao código, além de inútil:"
      ],
      "metadata": {
        "id": "Dt8mMwx-7O65"
      }
    },
    {
      "cell_type": "code",
      "source": [
        "v = 5 # atribui 5 a v"
      ],
      "metadata": {
        "id": "TEaGUU7t7M86"
      },
      "execution_count": 14,
      "outputs": []
    },
    {
      "cell_type": "markdown",
      "source": [
        "Este comentário contém informações úteis que não estão no código:"
      ],
      "metadata": {
        "id": "EHyXuZAB7Tpx"
      }
    },
    {
      "cell_type": "code",
      "source": [
        "v = 5 # velocidade em metros/segundo."
      ],
      "metadata": {
        "id": "1zmVTh5F7QU5"
      },
      "execution_count": 15,
      "outputs": []
    },
    {
      "cell_type": "markdown",
      "source": [
        "Bons nomes de variáveis podem reduzir a necessidade de comentários, mas nomes longos podem tornar expressões complexas difíceis de ler, então é preciso analisar o que vale mais a pena."
      ],
      "metadata": {
        "id": "6R4E7Jwb7ZOh"
      }
    },
    {
      "cell_type": "markdown",
      "source": [
        "**2.8 - Depuração**\n",
        "<p>\n",
        "Há três tipos de erros que podem ocorrer em um programa: erros de sintaxe, erros de tempo de execução e erros semânticos.\n",
        "\n",
        "<p>\n"
      ],
      "metadata": {
        "id": "rvhaX8pC7cBf"
      }
    },
    {
      "cell_type": "markdown",
      "source": [
        "*   Erro de sintaxe\n",
        "  *   A “sintaxe” refere-se à estrutura de um programa e suas respectivas regras. Por exemplo, os parênteses devem vir em pares correspondentes, então (1 + 2) é legal, mas 8) é um erro de sintaxe.\n",
        "\n",
        "\n",
        "*   Erro de tempo de execução\n",
        "  *   O segundo tipo de erro é o erro de tempo de execução, assim chamado porque o erro não aparece até que o programa seja executado.\n",
        "\n",
        "\n",
        "\n",
        "*   Erro semântico\n",
        "  *   O terceiro tipo do erro é “semântico”, ou seja, relacionado ao significado. Se houver um erro semântico no seu programa, ele será executado sem gerar mensagens de erro, mas não vai fazer a coisa certa. Vai fazer algo diferente. Especificamente, vai fazer o que você disser para fazer."
      ],
      "metadata": {
        "id": "yuEn84tb7dgK"
      }
    },
    {
      "cell_type": "markdown",
      "source": [
        "**2.10 - Exercícios**"
      ],
      "metadata": {
        "id": "0xHXSR4q7mfB"
      }
    },
    {
      "cell_type": "markdown",
      "source": [
        "**Exercício 2.1**\n",
        "\n",
        "Vimos que n = 42 é legal. E 42 = n?"
      ],
      "metadata": {
        "id": "zsw6q3D-7oCk"
      }
    },
    {
      "cell_type": "code",
      "source": [
        "42 = n  # é gerado um erro de sintaxe"
      ],
      "metadata": {
        "colab": {
          "base_uri": "https://localhost:8080/",
          "height": 111
        },
        "id": "ukS_tChG7XWm",
        "outputId": "5cf6a1d8-f616-4374-834c-ca6ba8306530"
      },
      "execution_count": 16,
      "outputs": [
        {
          "output_type": "error",
          "ename": "SyntaxError",
          "evalue": "cannot assign to literal here. Maybe you meant '==' instead of '='? (<ipython-input-16-a0a4986f429a>, line 1)",
          "traceback": [
            "\u001b[0;36m  File \u001b[0;32m\"<ipython-input-16-a0a4986f429a>\"\u001b[0;36m, line \u001b[0;32m1\u001b[0m\n\u001b[0;31m    42 = n  # é gerado um erro de sintaxe\u001b[0m\n\u001b[0m    ^\u001b[0m\n\u001b[0;31mSyntaxError\u001b[0m\u001b[0;31m:\u001b[0m cannot assign to literal here. Maybe you meant '==' instead of '='?\n"
          ]
        }
      ]
    },
    {
      "cell_type": "markdown",
      "source": [
        "Em algumas linguagens, cada instrução termina em um ponto e vírgula ;.\n",
        "O que acontece se você puser um ponto e vírgula no fim de uma instrução no Python?"
      ],
      "metadata": {
        "id": "FO0jpk2D7rtP"
      }
    },
    {
      "cell_type": "code",
      "source": [
        "print('Olá'); #não acontece nada, o script executa normalmente"
      ],
      "metadata": {
        "colab": {
          "base_uri": "https://localhost:8080/"
        },
        "id": "NccvLuGJ7pI0",
        "outputId": "34c10404-560c-4a89-e1d6-2376a79b0933"
      },
      "execution_count": 17,
      "outputs": [
        {
          "output_type": "stream",
          "name": "stdout",
          "text": [
            "Olá\n"
          ]
        }
      ]
    },
    {
      "cell_type": "markdown",
      "source": [
        "E se puser um ponto no fim de uma instrução?"
      ],
      "metadata": {
        "id": "7KemRqng7vH-"
      }
    },
    {
      "cell_type": "code",
      "source": [
        "print('Olá'). # é gerado um erro de sintaxe"
      ],
      "metadata": {
        "colab": {
          "base_uri": "https://localhost:8080/",
          "height": 111
        },
        "id": "sW731NKk7s3H",
        "outputId": "eb08ad5b-fcce-4258-99e3-f712fe932060"
      },
      "execution_count": 18,
      "outputs": [
        {
          "output_type": "error",
          "ename": "SyntaxError",
          "evalue": "invalid syntax (<ipython-input-18-43d5e9823246>, line 1)",
          "traceback": [
            "\u001b[0;36m  File \u001b[0;32m\"<ipython-input-18-43d5e9823246>\"\u001b[0;36m, line \u001b[0;32m1\u001b[0m\n\u001b[0;31m    print('Olá'). # é gerado um erro de sintaxe\u001b[0m\n\u001b[0m                  ^\u001b[0m\n\u001b[0;31mSyntaxError\u001b[0m\u001b[0;31m:\u001b[0m invalid syntax\n"
          ]
        }
      ]
    },
    {
      "cell_type": "markdown",
      "source": [
        "Em notação matemática é possível multiplicar x e y desta forma: xy. O que acontece\n",
        "se você tentar fazer o mesmo no Python?"
      ],
      "metadata": {
        "id": "aQANwDpS7zIZ"
      }
    },
    {
      "cell_type": "code",
      "source": [
        "x = 2\n",
        "y = 2\n",
        "\n",
        "xy # gera um erro de NameError, como se estivessemos passando o nome errado de uma variável, ou que não foi definida"
      ],
      "metadata": {
        "colab": {
          "base_uri": "https://localhost:8080/",
          "height": 203
        },
        "id": "dOAsHX2T7xX2",
        "outputId": "0dca53d0-ed65-40e2-d8df-370c37b00beb"
      },
      "execution_count": 19,
      "outputs": [
        {
          "output_type": "error",
          "ename": "NameError",
          "evalue": "name 'xy' is not defined",
          "traceback": [
            "\u001b[0;31m---------------------------------------------------------------------------\u001b[0m",
            "\u001b[0;31mNameError\u001b[0m                                 Traceback (most recent call last)",
            "\u001b[0;32m<ipython-input-19-6290657adec9>\u001b[0m in \u001b[0;36m<cell line: 4>\u001b[0;34m()\u001b[0m\n\u001b[1;32m      2\u001b[0m \u001b[0my\u001b[0m \u001b[0;34m=\u001b[0m \u001b[0;36m2\u001b[0m\u001b[0;34m\u001b[0m\u001b[0;34m\u001b[0m\u001b[0m\n\u001b[1;32m      3\u001b[0m \u001b[0;34m\u001b[0m\u001b[0m\n\u001b[0;32m----> 4\u001b[0;31m \u001b[0mxy\u001b[0m \u001b[0;31m# gera um erro de NameError, como se estivessemos passando o nome errado de uma variável, ou que não foi definida\u001b[0m\u001b[0;34m\u001b[0m\u001b[0;34m\u001b[0m\u001b[0m\n\u001b[0m",
            "\u001b[0;31mNameError\u001b[0m: name 'xy' is not defined"
          ]
        }
      ]
    },
    {
      "cell_type": "markdown",
      "source": [
        "**Exercício 2.2**"
      ],
      "metadata": {
        "id": "lI8oDf8G74y3"
      }
    },
    {
      "cell_type": "markdown",
      "source": [
        "1. O volume de uma esfera com raio r é 4/3 pi r3. Qual é o volume de uma esfera com raio 5?"
      ],
      "metadata": {
        "id": "lZv4gf4i76TN"
      }
    },
    {
      "cell_type": "code",
      "source": [
        " pi = 3.14\n",
        " raio = 5\n",
        " volume = (4/3) * pi * raio **3\n",
        "\n",
        " print(volume)"
      ],
      "metadata": {
        "colab": {
          "base_uri": "https://localhost:8080/"
        },
        "id": "zbDL-kX472no",
        "outputId": "b8658e7a-4a0e-460e-a3df-903c14083db1"
      },
      "execution_count": 20,
      "outputs": [
        {
          "output_type": "stream",
          "name": "stdout",
          "text": [
            "523.3333333333334\n"
          ]
        }
      ]
    },
    {
      "cell_type": "markdown",
      "source": [
        "2. Suponha que o preço de capa de um livro seja 24,95, mas as livrarias recebem um desconto de 40%. O transporte custa R$ 3,00 para o primeiro exemplar e 75 centavos para cada exemplar adicional. Qual é o custo total de atacado para 60 cópias?"
      ],
      "metadata": {
        "id": "rHOfQL907_O6"
      }
    },
    {
      "cell_type": "code",
      "source": [
        "preco_capa =  24.95\n",
        "desconto = preco_capa * (40/100)\n",
        "livro_com_desconto =  preco_capa - desconto\n",
        "\n",
        "print(livro_com_desconto)\n",
        "\n",
        "nro_copias = 60\n",
        "transporte_primeiro = 3.00\n",
        "transporte_adicional = 0.75\n",
        "\n",
        "preco_primeiro_livro =  livro_com_desconto + transporte_primeiro\n",
        "print(preco_primeiro_livro)\n",
        "\n",
        "preco_total_59_livros = (livro_com_desconto + transporte_adicional) * (nro_copias - 1)\n",
        "print(preco_total_59_livros)\n",
        "\n",
        "preco_total_atacado = preco_primeiro_livro + preco_total_59_livros\n",
        "print(preco_total_atacado)"
      ],
      "metadata": {
        "colab": {
          "base_uri": "https://localhost:8080/"
        },
        "id": "pTvqafbR78LS",
        "outputId": "c618d2c8-efde-4066-c61c-644088020d7e"
      },
      "execution_count": 21,
      "outputs": [
        {
          "output_type": "stream",
          "name": "stdout",
          "text": [
            "14.969999999999999\n",
            "17.97\n",
            "927.4799999999999\n",
            "945.4499999999999\n"
          ]
        }
      ]
    },
    {
      "cell_type": "markdown",
      "source": [
        "3. Se eu sair da minha casa às 6:52 e correr 1 quilômetro a um certo passo (8 min 15s por quilômetro), então 3 quilômetros a um passo mais rápido (7 min 12s por quilômetro) e 1 quilômetro no mesmo passo usado em primeiro lugar, que horas chego em casa para o café da manhã?\n"
      ],
      "metadata": {
        "id": "bETiDgOG8DqF"
      }
    },
    {
      "cell_type": "code",
      "source": [
        "from datetime import datetime, timedelta\n",
        "\n",
        "# horário de saída\n",
        "horario_saida = \"06:52:00\"\n",
        "\n",
        "# converter para um objeto datetime\n",
        "horario_saida_dt = datetime.strptime(horario_saida, \"%H:%M:%S\")\n",
        "\n",
        "# 1km = 8 minutos e 15 segundos\n",
        "# 3km = 7 minutos e 12 segundos\n",
        "# retorna à 1km  = 8 minutos e 15 segundos\n",
        "\n",
        "primeiro_km_segundos = (8 * 60) + 15\n",
        "print(primeiro_km_segundos, 's') # tempo de 1km percorrido em segundos\n",
        "\n",
        "tres_kms_segundos = (7 * 60) + 12\n",
        "print(tres_kms_segundos, 's') # tempo de 3kms percorridos em segundos\n",
        "\n",
        "total_corrida_segundos = (2 * primeiro_km_segundos) + (tres_kms_segundos * 3)\n",
        "print(total_corrida_segundos, 's') # tempo total da corrida em segundos\n",
        "\n",
        "total_corrida_minutos = total_corrida_segundos/60\n",
        "print(total_corrida_minutos, 'min') # tempo total da corrida em minutos\n",
        "\n",
        "# adicionar tempo total da corrida (38 minutos e 1 segundo) usando timedelta\n",
        "horario_corrida = timedelta(minutes=38, seconds=1)\n",
        "\n",
        "# somar o timedelta ao horário inicial\n",
        "horario_chegada = (horario_saida_dt + horario_corrida).strftime(\"%H:%M:%S\")\n",
        "\n",
        "print('Chego em casa às', horario_chegada)"
      ],
      "metadata": {
        "colab": {
          "base_uri": "https://localhost:8080/"
        },
        "id": "wULCPfma8AQX",
        "outputId": "3c022223-c1d6-4b38-9082-d36add8d223f"
      },
      "execution_count": 22,
      "outputs": [
        {
          "output_type": "stream",
          "name": "stdout",
          "text": [
            "495 s\n",
            "432 s\n",
            "2286 s\n",
            "38.1 min\n",
            "Chego em casa às 07:30:01\n"
          ]
        }
      ]
    }
  ]
}