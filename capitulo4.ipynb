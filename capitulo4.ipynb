{
  "nbformat": 4,
  "nbformat_minor": 0,
  "metadata": {
    "colab": {
      "provenance": [],
      "authorship_tag": "ABX9TyMOfPeie1ec//ZubFe2lq4+",
      "include_colab_link": true
    },
    "kernelspec": {
      "name": "python3",
      "display_name": "Python 3"
    },
    "language_info": {
      "name": "python"
    }
  },
  "cells": [
    {
      "cell_type": "markdown",
      "metadata": {
        "id": "view-in-github",
        "colab_type": "text"
      },
      "source": [
        "<a href=\"https://colab.research.google.com/github/bitwoman/pense-em-python/blob/main/capitulo4.ipynb\" target=\"_parent\"><img src=\"https://colab.research.google.com/assets/colab-badge.svg\" alt=\"Open In Colab\"/></a>"
      ]
    },
    {
      "cell_type": "markdown",
      "source": [
        "# **ESTUDO DO LIVRO \"Pense em Python\", DO AUTOR ALLEN B. DOWNEY**\n",
        "\n",
        "<p> Estudos iniciados em 20-06-2024. </p>"
      ],
      "metadata": {
        "id": "rQO_05-d8rkA"
      }
    },
    {
      "cell_type": "markdown",
      "source": [
        "# Capítulo 4: Estudo de caso: projeto de interface\n",
        "\n",
        "Este capítulo apresenta um estudo de caso que demonstra o processo de criação de funções que operam simultaneamente"
      ],
      "metadata": {
        "id": "YRwL0D2ZFo10"
      }
    },
    {
      "cell_type": "markdown",
      "source": [
        "<h1> 4.1 - Módulo turtle </h1>"
      ],
      "metadata": {
        "id": "vs9hly_TFyPE"
      }
    },
    {
      "cell_type": "markdown",
      "source": [
        "Verificando a versão do python que está instalada no Google Colab, pois o módulo turtule só está disponível a partir da versão 3.x."
      ],
      "metadata": {
        "id": "lSsNvjIa8t5O"
      }
    },
    {
      "cell_type": "code",
      "source": [
        "!python --version"
      ],
      "metadata": {
        "colab": {
          "base_uri": "https://localhost:8080/"
        },
        "id": "SItyTbct8335",
        "outputId": "b254bf19-edf9-4a7f-d8ae-d2a975b06c07"
      },
      "execution_count": null,
      "outputs": [
        {
          "output_type": "stream",
          "name": "stdout",
          "text": [
            "Python 3.10.12\n"
          ]
        }
      ]
    },
    {
      "cell_type": "markdown",
      "source": [
        "Verificando as informações do pacote caso esteja instalado, se não, retorna uma mensagem de warning."
      ],
      "metadata": {
        "id": "N3eIi9NW87Ph"
      }
    },
    {
      "cell_type": "code",
      "source": [
        "!pip show turtle\n",
        "\n",
        "#Package(s) not found: turtle > o pacote não está instalado no ambiente"
      ],
      "metadata": {
        "colab": {
          "base_uri": "https://localhost:8080/"
        },
        "id": "dfx6PFNw8TY3",
        "outputId": "15d35ab2-eb2f-499b-f958-3751f46f67f6"
      },
      "execution_count": null,
      "outputs": [
        {
          "output_type": "stream",
          "name": "stdout",
          "text": [
            "\u001b[33mWARNING: Package(s) not found: turtle\u001b[0m\u001b[33m\n",
            "\u001b[0m"
          ]
        }
      ]
    },
    {
      "cell_type": "markdown",
      "source": [
        "**O Google Colab não possui suporte nativo para o módulo turtle devido à sua dependência de uma interface gráfica que não está disponível em ambientes baseados em navegador como o Colab. No entanto, há uma alternativa chamada ColabTurtle que permite usar a funcionalidade do turtle no Google Colab.**"
      ],
      "metadata": {
        "id": "ot1XQoyb9NoE"
      }
    },
    {
      "cell_type": "code",
      "source": [
        "!pip install turtle\n",
        "\n",
        "# error: subprocess-exited-with-error"
      ],
      "metadata": {
        "id": "bzZQINpR8Lr0",
        "colab": {
          "base_uri": "https://localhost:8080/"
        },
        "outputId": "fbdada34-639b-463a-8c45-165629c6741c"
      },
      "execution_count": null,
      "outputs": [
        {
          "output_type": "stream",
          "name": "stdout",
          "text": [
            "Collecting turtle\n",
            "  Downloading turtle-0.0.2.tar.gz (11 kB)\n",
            "  \u001b[1;31merror\u001b[0m: \u001b[1msubprocess-exited-with-error\u001b[0m\n",
            "  \n",
            "  \u001b[31m×\u001b[0m \u001b[32mpython setup.py egg_info\u001b[0m did not run successfully.\n",
            "  \u001b[31m│\u001b[0m exit code: \u001b[1;36m1\u001b[0m\n",
            "  \u001b[31m╰─>\u001b[0m See above for output.\n",
            "  \n",
            "  \u001b[1;35mnote\u001b[0m: This error originates from a subprocess, and is likely not a problem with pip.\n",
            "  Preparing metadata (setup.py) ... \u001b[?25l\u001b[?25herror\n",
            "\u001b[1;31merror\u001b[0m: \u001b[1mmetadata-generation-failed\u001b[0m\n",
            "\n",
            "\u001b[31m×\u001b[0m Encountered error while generating package metadata.\n",
            "\u001b[31m╰─>\u001b[0m See above for output.\n",
            "\n",
            "\u001b[1;35mnote\u001b[0m: This is an issue with the package mentioned above, not pip.\n",
            "\u001b[1;36mhint\u001b[0m: See above for details.\n"
          ]
        }
      ]
    },
    {
      "cell_type": "markdown",
      "source": [
        "**Instalar o pacote ColabTurtle como alternativa**"
      ],
      "metadata": {
        "id": "f8YKh1Rv9aiN"
      }
    },
    {
      "cell_type": "code",
      "source": [
        "!pip install ColabTurtle"
      ],
      "metadata": {
        "colab": {
          "base_uri": "https://localhost:8080/"
        },
        "id": "_bbN8qB48NOE",
        "outputId": "2f37634a-8962-4804-ece4-08a0267aa6bf"
      },
      "execution_count": 1,
      "outputs": [
        {
          "output_type": "stream",
          "name": "stdout",
          "text": [
            "Collecting ColabTurtle\n",
            "  Downloading ColabTurtle-2.1.0.tar.gz (6.8 kB)\n",
            "  Preparing metadata (setup.py) ... \u001b[?25l\u001b[?25hdone\n",
            "Building wheels for collected packages: ColabTurtle\n",
            "  Building wheel for ColabTurtle (setup.py) ... \u001b[?25l\u001b[?25hdone\n",
            "  Created wheel for ColabTurtle: filename=ColabTurtle-2.1.0-py3-none-any.whl size=7642 sha256=f6056ff5c1909e92aa5cbb3af93284884600ff4df0d218de096a4bd91481a153\n",
            "  Stored in directory: /root/.cache/pip/wheels/5b/86/e8/54f5c8c853606e3a3060bb2e60363cbed632374a12e0f33ffc\n",
            "Successfully built ColabTurtle\n",
            "Installing collected packages: ColabTurtle\n",
            "Successfully installed ColabTurtle-2.1.0\n"
          ]
        }
      ]
    },
    {
      "cell_type": "markdown",
      "source": [
        "Importação do pacote Turtle do módulo ColabTurtle"
      ],
      "metadata": {
        "id": "VAsQJXvQ9obD"
      }
    },
    {
      "cell_type": "code",
      "source": [
        "import ColabTurtle.Turtle as tt"
      ],
      "metadata": {
        "id": "1KboIjqC9gJn"
      },
      "execution_count": null,
      "outputs": []
    },
    {
      "cell_type": "code",
      "source": [
        "bob = tt.initializeTurtle()"
      ],
      "metadata": {
        "colab": {
          "base_uri": "https://localhost:8080/",
          "height": 521
        },
        "id": "drVOKzCY9uFT",
        "outputId": "a1d9dc5b-e737-4871-845b-6b432d498694"
      },
      "execution_count": null,
      "outputs": [
        {
          "output_type": "display_data",
          "data": {
            "text/plain": [
              "<IPython.core.display.HTML object>"
            ],
            "text/html": [
              "\n",
              "      <svg width=\"800\" height=\"500\">\n",
              "        <rect width=\"100%\" height=\"100%\" fill=\"black\"/>\n",
              "        \n",
              "        <g visibility=visible transform=\"rotate(360,400,250) translate(382, 232)\">\n",
              "<path style=\" stroke:none;fill-rule:evenodd;fill:white;fill-opacity:1;\" d=\"M 18.214844 0.632812 C 16.109375 1.800781 15.011719 4.074219 15.074219 7.132812 L 15.085938 7.652344 L 14.785156 7.496094 C 13.476562 6.824219 11.957031 6.671875 10.40625 7.066406 C 8.46875 7.550781 6.515625 9.15625 4.394531 11.992188 C 3.0625 13.777344 2.679688 14.636719 3.042969 15.027344 L 3.15625 15.152344 L 3.519531 15.152344 C 4.238281 15.152344 4.828125 14.886719 8.1875 13.039062 C 9.386719 12.378906 10.371094 11.839844 10.378906 11.839844 C 10.386719 11.839844 10.355469 11.929688 10.304688 12.035156 C 9.832031 13.09375 9.257812 14.820312 8.96875 16.078125 C 7.914062 20.652344 8.617188 24.53125 11.070312 27.660156 C 11.351562 28.015625 11.363281 27.914062 10.972656 28.382812 C 8.925781 30.84375 7.945312 33.28125 8.238281 35.1875 C 8.289062 35.527344 8.28125 35.523438 8.917969 35.523438 C 10.941406 35.523438 13.074219 34.207031 15.136719 31.6875 C 15.359375 31.417969 15.328125 31.425781 15.5625 31.574219 C 16.292969 32.042969 18.023438 32.964844 18.175781 32.964844 C 18.335938 32.964844 19.941406 32.210938 20.828125 31.71875 C 20.996094 31.625 21.136719 31.554688 21.136719 31.558594 C 21.203125 31.664062 21.898438 32.414062 22.222656 32.730469 C 23.835938 34.300781 25.5625 35.132812 27.582031 35.300781 C 27.90625 35.328125 27.9375 35.308594 28.007812 34.984375 C 28.382812 33.242188 27.625 30.925781 25.863281 28.425781 L 25.542969 27.96875 L 25.699219 27.785156 C 28.945312 23.960938 29.132812 18.699219 26.257812 11.96875 L 26.207031 11.84375 L 27.945312 12.703125 C 31.53125 14.476562 32.316406 14.800781 33.03125 14.800781 C 33.976562 14.800781 33.78125 13.9375 32.472656 12.292969 C 28.519531 7.355469 25.394531 5.925781 21.921875 7.472656 L 21.558594 7.636719 L 21.578125 7.542969 C 21.699219 6.992188 21.761719 5.742188 21.699219 5.164062 C 21.496094 3.296875 20.664062 1.964844 19.003906 0.855469 C 18.480469 0.503906 18.457031 0.5 18.214844 0.632812\"/>\n",
              "</g>\n",
              "      </svg>\n",
              "    "
            ]
          },
          "metadata": {}
        }
      ]
    },
    {
      "cell_type": "markdown",
      "source": [
        "\n",
        "```\n",
        "import turtle\n",
        "bob = turtle.Turtle()\n",
        "print(bob)\n",
        "turtle.mainloop()\n",
        "\n",
        "\n",
        "mainloop diz que a janela deve esperar que o usuário faça algo, embora neste caso não\n",
        "haja muito a fazer, exceto fechar a janela.\n",
        "\n",
        "```\n",
        "\n"
      ],
      "metadata": {
        "id": "1j3GP12B_X8d"
      }
    },
    {
      "cell_type": "markdown",
      "source": [
        "No ColabTurtle, não há necessidade de um loop principal (mainloop) como no módulo turtle padrão, porque a execução é controlada pelo ambiente do Google Colab, que renderiza as operações da tartaruga diretamente no notebook."
      ],
      "metadata": {
        "id": "oZ8RE4JX_bct"
      }
    },
    {
      "cell_type": "markdown",
      "source": [
        "Método é semelhante a uma função, mas usa uma sintaxe ligeiramente diferente.\n",
        "Por exemplo, para mover o turtle para a frente"
      ],
      "metadata": {
        "id": "QsQBpMV0_1cC"
      }
    },
    {
      "cell_type": "markdown",
      "source": [
        "\n",
        "\n",
        "```\n",
        "# bob.fd(100) # fd é abreviação para 'forward', e no colabTurtle é utilizado por extenso\n",
        "```\n",
        "\n"
      ],
      "metadata": {
        "id": "Q4RoE9yzAZAe"
      }
    },
    {
      "cell_type": "code",
      "source": [
        "bob = tt.initializeTurtle()\n",
        "tt.forward(100) # O argumento de forward é uma distância em píxeis, então o tamanho real depende da sua tela."
      ],
      "metadata": {
        "colab": {
          "base_uri": "https://localhost:8080/",
          "height": 521
        },
        "id": "qqHuER59AI1P",
        "outputId": "db16da19-f4d1-4a0b-a3e0-5f7d747a0b7c"
      },
      "execution_count": null,
      "outputs": [
        {
          "output_type": "display_data",
          "data": {
            "text/plain": [
              "<IPython.core.display.HTML object>"
            ],
            "text/html": [
              "\n",
              "      <svg width=\"800\" height=\"500\">\n",
              "        <rect width=\"100%\" height=\"100%\" fill=\"black\"/>\n",
              "        <line x1=\"400\" y1=\"250\" x2=\"400.0\" y2=\"150.0\" stroke-linecap=\"round\" style=\"stroke:white;stroke-width:4\"/>\n",
              "        <g visibility=visible transform=\"rotate(360,400.0,150.0) translate(382.0, 132.0)\">\n",
              "<path style=\" stroke:none;fill-rule:evenodd;fill:white;fill-opacity:1;\" d=\"M 18.214844 0.632812 C 16.109375 1.800781 15.011719 4.074219 15.074219 7.132812 L 15.085938 7.652344 L 14.785156 7.496094 C 13.476562 6.824219 11.957031 6.671875 10.40625 7.066406 C 8.46875 7.550781 6.515625 9.15625 4.394531 11.992188 C 3.0625 13.777344 2.679688 14.636719 3.042969 15.027344 L 3.15625 15.152344 L 3.519531 15.152344 C 4.238281 15.152344 4.828125 14.886719 8.1875 13.039062 C 9.386719 12.378906 10.371094 11.839844 10.378906 11.839844 C 10.386719 11.839844 10.355469 11.929688 10.304688 12.035156 C 9.832031 13.09375 9.257812 14.820312 8.96875 16.078125 C 7.914062 20.652344 8.617188 24.53125 11.070312 27.660156 C 11.351562 28.015625 11.363281 27.914062 10.972656 28.382812 C 8.925781 30.84375 7.945312 33.28125 8.238281 35.1875 C 8.289062 35.527344 8.28125 35.523438 8.917969 35.523438 C 10.941406 35.523438 13.074219 34.207031 15.136719 31.6875 C 15.359375 31.417969 15.328125 31.425781 15.5625 31.574219 C 16.292969 32.042969 18.023438 32.964844 18.175781 32.964844 C 18.335938 32.964844 19.941406 32.210938 20.828125 31.71875 C 20.996094 31.625 21.136719 31.554688 21.136719 31.558594 C 21.203125 31.664062 21.898438 32.414062 22.222656 32.730469 C 23.835938 34.300781 25.5625 35.132812 27.582031 35.300781 C 27.90625 35.328125 27.9375 35.308594 28.007812 34.984375 C 28.382812 33.242188 27.625 30.925781 25.863281 28.425781 L 25.542969 27.96875 L 25.699219 27.785156 C 28.945312 23.960938 29.132812 18.699219 26.257812 11.96875 L 26.207031 11.84375 L 27.945312 12.703125 C 31.53125 14.476562 32.316406 14.800781 33.03125 14.800781 C 33.976562 14.800781 33.78125 13.9375 32.472656 12.292969 C 28.519531 7.355469 25.394531 5.925781 21.921875 7.472656 L 21.558594 7.636719 L 21.578125 7.542969 C 21.699219 6.992188 21.761719 5.742188 21.699219 5.164062 C 21.496094 3.296875 20.664062 1.964844 19.003906 0.855469 C 18.480469 0.503906 18.457031 0.5 18.214844 0.632812\"/>\n",
              "</g>\n",
              "      </svg>\n",
              "    "
            ]
          },
          "metadata": {}
        }
      ]
    },
    {
      "cell_type": "markdown",
      "source": [
        "Outros métodos que você pode chamar em um Turtle são bk (backward - ColabTurtle) para mover-se para trás, lt (left - ColabTurtule) para virar à esquerda e rt (right - ColabTurtle) para virar à direita. O argumento para lt e rt é um ângulo em graus.\n",
        "Além disso, cada Turtle segura uma caneta, que está abaixada ou levantada; se a caneta estiver abaixada, o Turtle deixa um rastro quando se move. Os métodos pu (penup - ColabTurtule) e pd (pendown - ColabTurtle) representam “caneta para cima” e “caneta para baixo”."
      ],
      "metadata": {
        "id": "4xhUbkuJA12V"
      }
    },
    {
      "cell_type": "code",
      "source": [
        "bob = tt.initializeTurtle()\n",
        "tt.forward(100) # O argumento de forward é uma distância em píxeis, então o tamanho real depende da sua tela.\n",
        "tt.left(100)\n",
        "tt.forward(100)"
      ],
      "metadata": {
        "colab": {
          "base_uri": "https://localhost:8080/",
          "height": 521
        },
        "id": "chCCr0Bz_2vj",
        "outputId": "3e2ec8d2-1e29-480b-8090-3d0cb82b7e1e"
      },
      "execution_count": null,
      "outputs": [
        {
          "output_type": "display_data",
          "data": {
            "text/plain": [
              "<IPython.core.display.HTML object>"
            ],
            "text/html": [
              "\n",
              "      <svg width=\"800\" height=\"500\">\n",
              "        <rect width=\"100%\" height=\"100%\" fill=\"black\"/>\n",
              "        <line x1=\"400\" y1=\"250\" x2=\"400.0\" y2=\"150.0\" stroke-linecap=\"round\" style=\"stroke:white;stroke-width:4\"/><line x1=\"400.0\" y1=\"150.0\" x2=\"301.519\" y2=\"167.365\" stroke-linecap=\"round\" style=\"stroke:white;stroke-width:4\"/>\n",
              "        <g visibility=visible transform=\"rotate(260,301.519,167.365) translate(283.519, 149.365)\">\n",
              "<path style=\" stroke:none;fill-rule:evenodd;fill:white;fill-opacity:1;\" d=\"M 18.214844 0.632812 C 16.109375 1.800781 15.011719 4.074219 15.074219 7.132812 L 15.085938 7.652344 L 14.785156 7.496094 C 13.476562 6.824219 11.957031 6.671875 10.40625 7.066406 C 8.46875 7.550781 6.515625 9.15625 4.394531 11.992188 C 3.0625 13.777344 2.679688 14.636719 3.042969 15.027344 L 3.15625 15.152344 L 3.519531 15.152344 C 4.238281 15.152344 4.828125 14.886719 8.1875 13.039062 C 9.386719 12.378906 10.371094 11.839844 10.378906 11.839844 C 10.386719 11.839844 10.355469 11.929688 10.304688 12.035156 C 9.832031 13.09375 9.257812 14.820312 8.96875 16.078125 C 7.914062 20.652344 8.617188 24.53125 11.070312 27.660156 C 11.351562 28.015625 11.363281 27.914062 10.972656 28.382812 C 8.925781 30.84375 7.945312 33.28125 8.238281 35.1875 C 8.289062 35.527344 8.28125 35.523438 8.917969 35.523438 C 10.941406 35.523438 13.074219 34.207031 15.136719 31.6875 C 15.359375 31.417969 15.328125 31.425781 15.5625 31.574219 C 16.292969 32.042969 18.023438 32.964844 18.175781 32.964844 C 18.335938 32.964844 19.941406 32.210938 20.828125 31.71875 C 20.996094 31.625 21.136719 31.554688 21.136719 31.558594 C 21.203125 31.664062 21.898438 32.414062 22.222656 32.730469 C 23.835938 34.300781 25.5625 35.132812 27.582031 35.300781 C 27.90625 35.328125 27.9375 35.308594 28.007812 34.984375 C 28.382812 33.242188 27.625 30.925781 25.863281 28.425781 L 25.542969 27.96875 L 25.699219 27.785156 C 28.945312 23.960938 29.132812 18.699219 26.257812 11.96875 L 26.207031 11.84375 L 27.945312 12.703125 C 31.53125 14.476562 32.316406 14.800781 33.03125 14.800781 C 33.976562 14.800781 33.78125 13.9375 32.472656 12.292969 C 28.519531 7.355469 25.394531 5.925781 21.921875 7.472656 L 21.558594 7.636719 L 21.578125 7.542969 C 21.699219 6.992188 21.761719 5.742188 21.699219 5.164062 C 21.496094 3.296875 20.664062 1.964844 19.003906 0.855469 C 18.480469 0.503906 18.457031 0.5 18.214844 0.632812\"/>\n",
              "</g>\n",
              "      </svg>\n",
              "    "
            ]
          },
          "metadata": {}
        }
      ]
    },
    {
      "cell_type": "markdown",
      "source": [
        "Agora altere o programa para desenhar um quadrado. Só siga adiante neste capítulo se ele funcionar adequadamente!"
      ],
      "metadata": {
        "id": "216GAgdlBua4"
      }
    },
    {
      "cell_type": "code",
      "source": [
        "bob = tt.initializeTurtle()\n",
        "tt.forward(100) # O argumento de forward é uma distância em píxeis, então o tamanho real depende da sua tela.\n",
        "tt.left(90)\n",
        "tt.forward(100)\n",
        "tt.left(90)\n",
        "tt.forward(100)\n",
        "tt.left(90)\n",
        "tt.forward(100)"
      ],
      "metadata": {
        "colab": {
          "base_uri": "https://localhost:8080/",
          "height": 521
        },
        "id": "EebTiwf7BgwY",
        "outputId": "42e1b502-8108-48a8-b171-8f03177653df"
      },
      "execution_count": null,
      "outputs": [
        {
          "output_type": "display_data",
          "data": {
            "text/plain": [
              "<IPython.core.display.HTML object>"
            ],
            "text/html": [
              "\n",
              "      <svg width=\"800\" height=\"500\">\n",
              "        <rect width=\"100%\" height=\"100%\" fill=\"black\"/>\n",
              "        <line x1=\"400\" y1=\"250\" x2=\"400.0\" y2=\"150.0\" stroke-linecap=\"round\" style=\"stroke:white;stroke-width:4\"/><line x1=\"400.0\" y1=\"150.0\" x2=\"300.0\" y2=\"150.0\" stroke-linecap=\"round\" style=\"stroke:white;stroke-width:4\"/><line x1=\"300.0\" y1=\"150.0\" x2=\"300.0\" y2=\"250.0\" stroke-linecap=\"round\" style=\"stroke:white;stroke-width:4\"/><line x1=\"300.0\" y1=\"250.0\" x2=\"400.0\" y2=\"250.0\" stroke-linecap=\"round\" style=\"stroke:white;stroke-width:4\"/>\n",
              "        <g visibility=visible transform=\"rotate(90,400.0,250.0) translate(382.0, 232.0)\">\n",
              "<path style=\" stroke:none;fill-rule:evenodd;fill:white;fill-opacity:1;\" d=\"M 18.214844 0.632812 C 16.109375 1.800781 15.011719 4.074219 15.074219 7.132812 L 15.085938 7.652344 L 14.785156 7.496094 C 13.476562 6.824219 11.957031 6.671875 10.40625 7.066406 C 8.46875 7.550781 6.515625 9.15625 4.394531 11.992188 C 3.0625 13.777344 2.679688 14.636719 3.042969 15.027344 L 3.15625 15.152344 L 3.519531 15.152344 C 4.238281 15.152344 4.828125 14.886719 8.1875 13.039062 C 9.386719 12.378906 10.371094 11.839844 10.378906 11.839844 C 10.386719 11.839844 10.355469 11.929688 10.304688 12.035156 C 9.832031 13.09375 9.257812 14.820312 8.96875 16.078125 C 7.914062 20.652344 8.617188 24.53125 11.070312 27.660156 C 11.351562 28.015625 11.363281 27.914062 10.972656 28.382812 C 8.925781 30.84375 7.945312 33.28125 8.238281 35.1875 C 8.289062 35.527344 8.28125 35.523438 8.917969 35.523438 C 10.941406 35.523438 13.074219 34.207031 15.136719 31.6875 C 15.359375 31.417969 15.328125 31.425781 15.5625 31.574219 C 16.292969 32.042969 18.023438 32.964844 18.175781 32.964844 C 18.335938 32.964844 19.941406 32.210938 20.828125 31.71875 C 20.996094 31.625 21.136719 31.554688 21.136719 31.558594 C 21.203125 31.664062 21.898438 32.414062 22.222656 32.730469 C 23.835938 34.300781 25.5625 35.132812 27.582031 35.300781 C 27.90625 35.328125 27.9375 35.308594 28.007812 34.984375 C 28.382812 33.242188 27.625 30.925781 25.863281 28.425781 L 25.542969 27.96875 L 25.699219 27.785156 C 28.945312 23.960938 29.132812 18.699219 26.257812 11.96875 L 26.207031 11.84375 L 27.945312 12.703125 C 31.53125 14.476562 32.316406 14.800781 33.03125 14.800781 C 33.976562 14.800781 33.78125 13.9375 32.472656 12.292969 C 28.519531 7.355469 25.394531 5.925781 21.921875 7.472656 L 21.558594 7.636719 L 21.578125 7.542969 C 21.699219 6.992188 21.761719 5.742188 21.699219 5.164062 C 21.496094 3.296875 20.664062 1.964844 19.003906 0.855469 C 18.480469 0.503906 18.457031 0.5 18.214844 0.632812\"/>\n",
              "</g>\n",
              "      </svg>\n",
              "    "
            ]
          },
          "metadata": {}
        }
      ]
    },
    {
      "cell_type": "markdown",
      "source": [
        "<h1> 4.2 - Repetição simples </h1>"
      ],
      "metadata": {
        "id": "YUHc0CXvNreq"
      }
    },
    {
      "cell_type": "markdown",
      "source": [
        "Podemos fazer a mesma coisa de forma mais concisa com uma instrução for:"
      ],
      "metadata": {
        "id": "xdx4VU9MEkIV"
      }
    },
    {
      "cell_type": "code",
      "source": [
        "bob = tt.initializeTurtle()\n",
        "\n",
        "for i in range(4):\n",
        "  tt.forward(100)\n",
        "  tt.left(90)"
      ],
      "metadata": {
        "colab": {
          "base_uri": "https://localhost:8080/",
          "height": 521
        },
        "id": "i32tYBT4B9Q2",
        "outputId": "01af2d52-e0a9-43a5-c38a-88b908f83490"
      },
      "execution_count": null,
      "outputs": [
        {
          "output_type": "display_data",
          "data": {
            "text/plain": [
              "<IPython.core.display.HTML object>"
            ],
            "text/html": [
              "\n",
              "      <svg width=\"800\" height=\"500\">\n",
              "        <rect width=\"100%\" height=\"100%\" fill=\"black\"/>\n",
              "        <line x1=\"400\" y1=\"250\" x2=\"400.0\" y2=\"150.0\" stroke-linecap=\"round\" style=\"stroke:white;stroke-width:4\"/><line x1=\"400.0\" y1=\"150.0\" x2=\"300.0\" y2=\"150.0\" stroke-linecap=\"round\" style=\"stroke:white;stroke-width:4\"/><line x1=\"300.0\" y1=\"150.0\" x2=\"300.0\" y2=\"250.0\" stroke-linecap=\"round\" style=\"stroke:white;stroke-width:4\"/><line x1=\"300.0\" y1=\"250.0\" x2=\"400.0\" y2=\"250.0\" stroke-linecap=\"round\" style=\"stroke:white;stroke-width:4\"/>\n",
              "        <g visibility=visible transform=\"rotate(360,400.0,250.0) translate(382.0, 232.0)\">\n",
              "<path style=\" stroke:none;fill-rule:evenodd;fill:white;fill-opacity:1;\" d=\"M 18.214844 0.632812 C 16.109375 1.800781 15.011719 4.074219 15.074219 7.132812 L 15.085938 7.652344 L 14.785156 7.496094 C 13.476562 6.824219 11.957031 6.671875 10.40625 7.066406 C 8.46875 7.550781 6.515625 9.15625 4.394531 11.992188 C 3.0625 13.777344 2.679688 14.636719 3.042969 15.027344 L 3.15625 15.152344 L 3.519531 15.152344 C 4.238281 15.152344 4.828125 14.886719 8.1875 13.039062 C 9.386719 12.378906 10.371094 11.839844 10.378906 11.839844 C 10.386719 11.839844 10.355469 11.929688 10.304688 12.035156 C 9.832031 13.09375 9.257812 14.820312 8.96875 16.078125 C 7.914062 20.652344 8.617188 24.53125 11.070312 27.660156 C 11.351562 28.015625 11.363281 27.914062 10.972656 28.382812 C 8.925781 30.84375 7.945312 33.28125 8.238281 35.1875 C 8.289062 35.527344 8.28125 35.523438 8.917969 35.523438 C 10.941406 35.523438 13.074219 34.207031 15.136719 31.6875 C 15.359375 31.417969 15.328125 31.425781 15.5625 31.574219 C 16.292969 32.042969 18.023438 32.964844 18.175781 32.964844 C 18.335938 32.964844 19.941406 32.210938 20.828125 31.71875 C 20.996094 31.625 21.136719 31.554688 21.136719 31.558594 C 21.203125 31.664062 21.898438 32.414062 22.222656 32.730469 C 23.835938 34.300781 25.5625 35.132812 27.582031 35.300781 C 27.90625 35.328125 27.9375 35.308594 28.007812 34.984375 C 28.382812 33.242188 27.625 30.925781 25.863281 28.425781 L 25.542969 27.96875 L 25.699219 27.785156 C 28.945312 23.960938 29.132812 18.699219 26.257812 11.96875 L 26.207031 11.84375 L 27.945312 12.703125 C 31.53125 14.476562 32.316406 14.800781 33.03125 14.800781 C 33.976562 14.800781 33.78125 13.9375 32.472656 12.292969 C 28.519531 7.355469 25.394531 5.925781 21.921875 7.472656 L 21.558594 7.636719 L 21.578125 7.542969 C 21.699219 6.992188 21.761719 5.742188 21.699219 5.164062 C 21.496094 3.296875 20.664062 1.964844 19.003906 0.855469 C 18.480469 0.503906 18.457031 0.5 18.214844 0.632812\"/>\n",
              "</g>\n",
              "      </svg>\n",
              "    "
            ]
          },
          "metadata": {}
        }
      ]
    },
    {
      "cell_type": "markdown",
      "source": [
        "Uma instrução for também é chamada de loop porque o fluxo da execução passa pelo\n",
        "corpo e depois volta ao topo."
      ],
      "metadata": {
        "id": "tPCKNphoE3ST"
      }
    },
    {
      "cell_type": "markdown",
      "source": [
        "Esta versão, na verdade, é um pouco diferente do código anterior que desenha quadrados porque faz outra volta depois de desenhar o último lado do quadrado. A volta extra leva mais tempo, mas simplifica o código se fizermos a mesma coisa a cada vez pelo loop. Esta versão também tem o efeito de trazer o turtle de volta à posição inicial, de frente para a mesma direção em que estava."
      ],
      "metadata": {
        "id": "wRqewYqLFNGG"
      }
    },
    {
      "cell_type": "markdown",
      "source": [
        "<h1> 4.3 - Exercícios </h1>"
      ],
      "metadata": {
        "id": "H0FU0rKIFR1m"
      }
    },
    {
      "cell_type": "markdown",
      "source": [
        "1. Escreva uma função chamada square que receba um parâmetro chamado t, que é um\n",
        "turtle. Ela deve usar o turtle para desenhar um quadrado."
      ],
      "metadata": {
        "id": "IZ4L_lDDFa1z"
      }
    },
    {
      "cell_type": "code",
      "source": [
        "import ColabTurtle.Turtle as turtle\n",
        "\n",
        "# Definição da função functionSquare, que desenha um quadrado utilizando um parâmetro\n",
        "\n",
        "def functionSquare(t):\n",
        "  for i in range(4):\n",
        "    t.forward(100)\n",
        "    t.left(90)"
      ],
      "metadata": {
        "id": "16lZJQoLElCV"
      },
      "execution_count": null,
      "outputs": []
    },
    {
      "cell_type": "markdown",
      "source": [
        "Inicializa o ambiente. Mas por quê?\n",
        "Ao executar initializeTurtle(), você prepara o ambiente para usar as funcionalidades do ColabTurtle, como criar e manipular tartarugas para desenhar figuras geométricas ou realizar outros tipos de gráficos no Google Colab."
      ],
      "metadata": {
        "id": "CmBh3lOAIoAk"
      }
    },
    {
      "cell_type": "code",
      "source": [
        "turtle.initializeTurtle()"
      ],
      "metadata": {
        "colab": {
          "base_uri": "https://localhost:8080/",
          "height": 521
        },
        "id": "kBB-j4H8JExc",
        "outputId": "73a6d92c-41b1-4350-ba3d-01a0a10d4275"
      },
      "execution_count": null,
      "outputs": [
        {
          "output_type": "display_data",
          "data": {
            "text/plain": [
              "<IPython.core.display.HTML object>"
            ],
            "text/html": [
              "\n",
              "      <svg width=\"800\" height=\"500\">\n",
              "        <rect width=\"100%\" height=\"100%\" fill=\"black\"/>\n",
              "        \n",
              "        <g visibility=visible transform=\"rotate(360,400,250) translate(382, 232)\">\n",
              "<path style=\" stroke:none;fill-rule:evenodd;fill:white;fill-opacity:1;\" d=\"M 18.214844 0.632812 C 16.109375 1.800781 15.011719 4.074219 15.074219 7.132812 L 15.085938 7.652344 L 14.785156 7.496094 C 13.476562 6.824219 11.957031 6.671875 10.40625 7.066406 C 8.46875 7.550781 6.515625 9.15625 4.394531 11.992188 C 3.0625 13.777344 2.679688 14.636719 3.042969 15.027344 L 3.15625 15.152344 L 3.519531 15.152344 C 4.238281 15.152344 4.828125 14.886719 8.1875 13.039062 C 9.386719 12.378906 10.371094 11.839844 10.378906 11.839844 C 10.386719 11.839844 10.355469 11.929688 10.304688 12.035156 C 9.832031 13.09375 9.257812 14.820312 8.96875 16.078125 C 7.914062 20.652344 8.617188 24.53125 11.070312 27.660156 C 11.351562 28.015625 11.363281 27.914062 10.972656 28.382812 C 8.925781 30.84375 7.945312 33.28125 8.238281 35.1875 C 8.289062 35.527344 8.28125 35.523438 8.917969 35.523438 C 10.941406 35.523438 13.074219 34.207031 15.136719 31.6875 C 15.359375 31.417969 15.328125 31.425781 15.5625 31.574219 C 16.292969 32.042969 18.023438 32.964844 18.175781 32.964844 C 18.335938 32.964844 19.941406 32.210938 20.828125 31.71875 C 20.996094 31.625 21.136719 31.554688 21.136719 31.558594 C 21.203125 31.664062 21.898438 32.414062 22.222656 32.730469 C 23.835938 34.300781 25.5625 35.132812 27.582031 35.300781 C 27.90625 35.328125 27.9375 35.308594 28.007812 34.984375 C 28.382812 33.242188 27.625 30.925781 25.863281 28.425781 L 25.542969 27.96875 L 25.699219 27.785156 C 28.945312 23.960938 29.132812 18.699219 26.257812 11.96875 L 26.207031 11.84375 L 27.945312 12.703125 C 31.53125 14.476562 32.316406 14.800781 33.03125 14.800781 C 33.976562 14.800781 33.78125 13.9375 32.472656 12.292969 C 28.519531 7.355469 25.394531 5.925781 21.921875 7.472656 L 21.558594 7.636719 L 21.578125 7.542969 C 21.699219 6.992188 21.761719 5.742188 21.699219 5.164062 C 21.496094 3.296875 20.664062 1.964844 19.003906 0.855469 C 18.480469 0.503906 18.457031 0.5 18.214844 0.632812\"/>\n",
              "</g>\n",
              "      </svg>\n",
              "    "
            ]
          },
          "metadata": {}
        }
      ]
    },
    {
      "cell_type": "markdown",
      "source": [
        "Cria um objeto 'Turtle', neste caso, a variável objeto_tartaruga"
      ],
      "metadata": {
        "id": "25hI8bfNKHzk"
      }
    },
    {
      "cell_type": "code",
      "source": [
        "objeto_tartaruga = turtle"
      ],
      "metadata": {
        "id": "QxPkPDmZKKUN"
      },
      "execution_count": null,
      "outputs": []
    },
    {
      "cell_type": "markdown",
      "source": [
        "Faz a chamada de função para a execução dela:"
      ],
      "metadata": {
        "id": "TgiyjNLkKU0h"
      }
    },
    {
      "cell_type": "code",
      "source": [
        "functionSquare(objeto_tartaruga)"
      ],
      "metadata": {
        "colab": {
          "base_uri": "https://localhost:8080/",
          "height": 521
        },
        "id": "JkRxEPIxKVF1",
        "outputId": "9ec3b56f-756e-4cf5-8937-21b74ad1e127"
      },
      "execution_count": null,
      "outputs": [
        {
          "output_type": "display_data",
          "data": {
            "text/plain": [
              "<IPython.core.display.HTML object>"
            ],
            "text/html": [
              "\n",
              "      <svg width=\"800\" height=\"500\">\n",
              "        <rect width=\"100%\" height=\"100%\" fill=\"black\"/>\n",
              "        <line x1=\"400\" y1=\"250\" x2=\"400.0\" y2=\"150.0\" stroke-linecap=\"round\" style=\"stroke:white;stroke-width:4\"/><line x1=\"400.0\" y1=\"150.0\" x2=\"300.0\" y2=\"150.0\" stroke-linecap=\"round\" style=\"stroke:white;stroke-width:4\"/><line x1=\"300.0\" y1=\"150.0\" x2=\"300.0\" y2=\"250.0\" stroke-linecap=\"round\" style=\"stroke:white;stroke-width:4\"/><line x1=\"300.0\" y1=\"250.0\" x2=\"400.0\" y2=\"250.0\" stroke-linecap=\"round\" style=\"stroke:white;stroke-width:4\"/>\n",
              "        <g visibility=visible transform=\"rotate(360,400.0,250.0) translate(382.0, 232.0)\">\n",
              "<path style=\" stroke:none;fill-rule:evenodd;fill:white;fill-opacity:1;\" d=\"M 18.214844 0.632812 C 16.109375 1.800781 15.011719 4.074219 15.074219 7.132812 L 15.085938 7.652344 L 14.785156 7.496094 C 13.476562 6.824219 11.957031 6.671875 10.40625 7.066406 C 8.46875 7.550781 6.515625 9.15625 4.394531 11.992188 C 3.0625 13.777344 2.679688 14.636719 3.042969 15.027344 L 3.15625 15.152344 L 3.519531 15.152344 C 4.238281 15.152344 4.828125 14.886719 8.1875 13.039062 C 9.386719 12.378906 10.371094 11.839844 10.378906 11.839844 C 10.386719 11.839844 10.355469 11.929688 10.304688 12.035156 C 9.832031 13.09375 9.257812 14.820312 8.96875 16.078125 C 7.914062 20.652344 8.617188 24.53125 11.070312 27.660156 C 11.351562 28.015625 11.363281 27.914062 10.972656 28.382812 C 8.925781 30.84375 7.945312 33.28125 8.238281 35.1875 C 8.289062 35.527344 8.28125 35.523438 8.917969 35.523438 C 10.941406 35.523438 13.074219 34.207031 15.136719 31.6875 C 15.359375 31.417969 15.328125 31.425781 15.5625 31.574219 C 16.292969 32.042969 18.023438 32.964844 18.175781 32.964844 C 18.335938 32.964844 19.941406 32.210938 20.828125 31.71875 C 20.996094 31.625 21.136719 31.554688 21.136719 31.558594 C 21.203125 31.664062 21.898438 32.414062 22.222656 32.730469 C 23.835938 34.300781 25.5625 35.132812 27.582031 35.300781 C 27.90625 35.328125 27.9375 35.308594 28.007812 34.984375 C 28.382812 33.242188 27.625 30.925781 25.863281 28.425781 L 25.542969 27.96875 L 25.699219 27.785156 C 28.945312 23.960938 29.132812 18.699219 26.257812 11.96875 L 26.207031 11.84375 L 27.945312 12.703125 C 31.53125 14.476562 32.316406 14.800781 33.03125 14.800781 C 33.976562 14.800781 33.78125 13.9375 32.472656 12.292969 C 28.519531 7.355469 25.394531 5.925781 21.921875 7.472656 L 21.558594 7.636719 L 21.578125 7.542969 C 21.699219 6.992188 21.761719 5.742188 21.699219 5.164062 C 21.496094 3.296875 20.664062 1.964844 19.003906 0.855469 C 18.480469 0.503906 18.457031 0.5 18.214844 0.632812\"/>\n",
              "</g>\n",
              "      </svg>\n",
              "    "
            ]
          },
          "metadata": {}
        }
      ]
    },
    {
      "cell_type": "markdown",
      "source": [
        "- Escreva uma chamada de função que passe bob como um argumento para o square e\n",
        "então execute o programa novamente."
      ],
      "metadata": {
        "id": "bVoB-5XrFsKh"
      }
    },
    {
      "cell_type": "code",
      "source": [
        "turtle.initializeTurtle()\n",
        "bob = turtle\n",
        "functionSquare(bob)"
      ],
      "metadata": {
        "colab": {
          "base_uri": "https://localhost:8080/",
          "height": 521
        },
        "id": "BBhtkFZLKmMU",
        "outputId": "71975f24-a44c-4943-ecc5-7c74cb8c4248"
      },
      "execution_count": null,
      "outputs": [
        {
          "output_type": "display_data",
          "data": {
            "text/plain": [
              "<IPython.core.display.HTML object>"
            ],
            "text/html": [
              "\n",
              "      <svg width=\"800\" height=\"500\">\n",
              "        <rect width=\"100%\" height=\"100%\" fill=\"black\"/>\n",
              "        <line x1=\"400\" y1=\"250\" x2=\"400.0\" y2=\"150.0\" stroke-linecap=\"round\" style=\"stroke:white;stroke-width:4\"/><line x1=\"400.0\" y1=\"150.0\" x2=\"300.0\" y2=\"150.0\" stroke-linecap=\"round\" style=\"stroke:white;stroke-width:4\"/><line x1=\"300.0\" y1=\"150.0\" x2=\"300.0\" y2=\"250.0\" stroke-linecap=\"round\" style=\"stroke:white;stroke-width:4\"/><line x1=\"300.0\" y1=\"250.0\" x2=\"400.0\" y2=\"250.0\" stroke-linecap=\"round\" style=\"stroke:white;stroke-width:4\"/>\n",
              "        <g visibility=visible transform=\"rotate(360,400.0,250.0) translate(382.0, 232.0)\">\n",
              "<path style=\" stroke:none;fill-rule:evenodd;fill:white;fill-opacity:1;\" d=\"M 18.214844 0.632812 C 16.109375 1.800781 15.011719 4.074219 15.074219 7.132812 L 15.085938 7.652344 L 14.785156 7.496094 C 13.476562 6.824219 11.957031 6.671875 10.40625 7.066406 C 8.46875 7.550781 6.515625 9.15625 4.394531 11.992188 C 3.0625 13.777344 2.679688 14.636719 3.042969 15.027344 L 3.15625 15.152344 L 3.519531 15.152344 C 4.238281 15.152344 4.828125 14.886719 8.1875 13.039062 C 9.386719 12.378906 10.371094 11.839844 10.378906 11.839844 C 10.386719 11.839844 10.355469 11.929688 10.304688 12.035156 C 9.832031 13.09375 9.257812 14.820312 8.96875 16.078125 C 7.914062 20.652344 8.617188 24.53125 11.070312 27.660156 C 11.351562 28.015625 11.363281 27.914062 10.972656 28.382812 C 8.925781 30.84375 7.945312 33.28125 8.238281 35.1875 C 8.289062 35.527344 8.28125 35.523438 8.917969 35.523438 C 10.941406 35.523438 13.074219 34.207031 15.136719 31.6875 C 15.359375 31.417969 15.328125 31.425781 15.5625 31.574219 C 16.292969 32.042969 18.023438 32.964844 18.175781 32.964844 C 18.335938 32.964844 19.941406 32.210938 20.828125 31.71875 C 20.996094 31.625 21.136719 31.554688 21.136719 31.558594 C 21.203125 31.664062 21.898438 32.414062 22.222656 32.730469 C 23.835938 34.300781 25.5625 35.132812 27.582031 35.300781 C 27.90625 35.328125 27.9375 35.308594 28.007812 34.984375 C 28.382812 33.242188 27.625 30.925781 25.863281 28.425781 L 25.542969 27.96875 L 25.699219 27.785156 C 28.945312 23.960938 29.132812 18.699219 26.257812 11.96875 L 26.207031 11.84375 L 27.945312 12.703125 C 31.53125 14.476562 32.316406 14.800781 33.03125 14.800781 C 33.976562 14.800781 33.78125 13.9375 32.472656 12.292969 C 28.519531 7.355469 25.394531 5.925781 21.921875 7.472656 L 21.558594 7.636719 L 21.578125 7.542969 C 21.699219 6.992188 21.761719 5.742188 21.699219 5.164062 C 21.496094 3.296875 20.664062 1.964844 19.003906 0.855469 C 18.480469 0.503906 18.457031 0.5 18.214844 0.632812\"/>\n",
              "</g>\n",
              "      </svg>\n",
              "    "
            ]
          },
          "metadata": {}
        }
      ]
    },
    {
      "cell_type": "markdown",
      "source": [
        "2. Acrescente outro parâmetro, chamado length, ao square. Altere o corpo para que o comprimento dos lados seja length e então altere a chamada da função para fornecer um segundo argumento. Execute o programa novamente. Teste o seu programa com uma variedade de valores para length."
      ],
      "metadata": {
        "id": "Q3KhdRNhLEW2"
      }
    },
    {
      "cell_type": "code",
      "source": [
        "import ColabTurtle.Turtle as turtle\n",
        "\n",
        "# Definição da função functionSquare, que desenha um quadrado, utilizando 2 parâmetros\n",
        "\n",
        "def functionSquare(t, lenght):\n",
        "  for i in range(4):\n",
        "    t.forward(lenght)\n",
        "    t.left(90)"
      ],
      "metadata": {
        "id": "ygStbMu7LZoS"
      },
      "execution_count": null,
      "outputs": []
    },
    {
      "cell_type": "code",
      "source": [
        "turtle.initializeTurtle()\n",
        "crush = turtle\n",
        "\n",
        "functionSquare(crush, 150)\n",
        "functionSquare(crush, 160)\n",
        "functionSquare(crush, 170)\n",
        "functionSquare(crush, 180)\n",
        "functionSquare(crush, 190)\n",
        "functionSquare(crush, 200)"
      ],
      "metadata": {
        "colab": {
          "base_uri": "https://localhost:8080/",
          "height": 521
        },
        "id": "QWU9nRWQLZ47",
        "outputId": "9fd215d1-43a9-4228-f48f-c3cba9f89f66"
      },
      "execution_count": null,
      "outputs": [
        {
          "output_type": "display_data",
          "data": {
            "text/plain": [
              "<IPython.core.display.HTML object>"
            ],
            "text/html": [
              "\n",
              "      <svg width=\"800\" height=\"500\">\n",
              "        <rect width=\"100%\" height=\"100%\" fill=\"black\"/>\n",
              "        <line x1=\"400\" y1=\"250\" x2=\"400.0\" y2=\"100.0\" stroke-linecap=\"round\" style=\"stroke:white;stroke-width:4\"/><line x1=\"400.0\" y1=\"100.0\" x2=\"250.0\" y2=\"100.0\" stroke-linecap=\"round\" style=\"stroke:white;stroke-width:4\"/><line x1=\"250.0\" y1=\"100.0\" x2=\"250.0\" y2=\"250.0\" stroke-linecap=\"round\" style=\"stroke:white;stroke-width:4\"/><line x1=\"250.0\" y1=\"250.0\" x2=\"400.0\" y2=\"250.0\" stroke-linecap=\"round\" style=\"stroke:white;stroke-width:4\"/><line x1=\"400.0\" y1=\"250.0\" x2=\"400.0\" y2=\"90.0\" stroke-linecap=\"round\" style=\"stroke:white;stroke-width:4\"/><line x1=\"400.0\" y1=\"90.0\" x2=\"240.0\" y2=\"90.0\" stroke-linecap=\"round\" style=\"stroke:white;stroke-width:4\"/><line x1=\"240.0\" y1=\"90.0\" x2=\"240.0\" y2=\"250.0\" stroke-linecap=\"round\" style=\"stroke:white;stroke-width:4\"/><line x1=\"240.0\" y1=\"250.0\" x2=\"400.0\" y2=\"250.0\" stroke-linecap=\"round\" style=\"stroke:white;stroke-width:4\"/><line x1=\"400.0\" y1=\"250.0\" x2=\"400.0\" y2=\"80.0\" stroke-linecap=\"round\" style=\"stroke:white;stroke-width:4\"/><line x1=\"400.0\" y1=\"80.0\" x2=\"230.0\" y2=\"80.0\" stroke-linecap=\"round\" style=\"stroke:white;stroke-width:4\"/><line x1=\"230.0\" y1=\"80.0\" x2=\"230.0\" y2=\"250.0\" stroke-linecap=\"round\" style=\"stroke:white;stroke-width:4\"/><line x1=\"230.0\" y1=\"250.0\" x2=\"400.0\" y2=\"250.0\" stroke-linecap=\"round\" style=\"stroke:white;stroke-width:4\"/><line x1=\"400.0\" y1=\"250.0\" x2=\"400.0\" y2=\"70.0\" stroke-linecap=\"round\" style=\"stroke:white;stroke-width:4\"/><line x1=\"400.0\" y1=\"70.0\" x2=\"220.0\" y2=\"70.0\" stroke-linecap=\"round\" style=\"stroke:white;stroke-width:4\"/><line x1=\"220.0\" y1=\"70.0\" x2=\"220.0\" y2=\"250.0\" stroke-linecap=\"round\" style=\"stroke:white;stroke-width:4\"/><line x1=\"220.0\" y1=\"250.0\" x2=\"400.0\" y2=\"250.0\" stroke-linecap=\"round\" style=\"stroke:white;stroke-width:4\"/><line x1=\"400.0\" y1=\"250.0\" x2=\"400.0\" y2=\"60.0\" stroke-linecap=\"round\" style=\"stroke:white;stroke-width:4\"/><line x1=\"400.0\" y1=\"60.0\" x2=\"210.0\" y2=\"60.0\" stroke-linecap=\"round\" style=\"stroke:white;stroke-width:4\"/><line x1=\"210.0\" y1=\"60.0\" x2=\"210.0\" y2=\"250.0\" stroke-linecap=\"round\" style=\"stroke:white;stroke-width:4\"/><line x1=\"210.0\" y1=\"250.0\" x2=\"400.0\" y2=\"250.0\" stroke-linecap=\"round\" style=\"stroke:white;stroke-width:4\"/><line x1=\"400.0\" y1=\"250.0\" x2=\"400.0\" y2=\"50.0\" stroke-linecap=\"round\" style=\"stroke:white;stroke-width:4\"/><line x1=\"400.0\" y1=\"50.0\" x2=\"200.0\" y2=\"50.0\" stroke-linecap=\"round\" style=\"stroke:white;stroke-width:4\"/><line x1=\"200.0\" y1=\"50.0\" x2=\"200.0\" y2=\"250.0\" stroke-linecap=\"round\" style=\"stroke:white;stroke-width:4\"/><line x1=\"200.0\" y1=\"250.0\" x2=\"400.0\" y2=\"250.0\" stroke-linecap=\"round\" style=\"stroke:white;stroke-width:4\"/>\n",
              "        <g visibility=visible transform=\"rotate(360,400.0,250.0) translate(382.0, 232.0)\">\n",
              "<path style=\" stroke:none;fill-rule:evenodd;fill:white;fill-opacity:1;\" d=\"M 18.214844 0.632812 C 16.109375 1.800781 15.011719 4.074219 15.074219 7.132812 L 15.085938 7.652344 L 14.785156 7.496094 C 13.476562 6.824219 11.957031 6.671875 10.40625 7.066406 C 8.46875 7.550781 6.515625 9.15625 4.394531 11.992188 C 3.0625 13.777344 2.679688 14.636719 3.042969 15.027344 L 3.15625 15.152344 L 3.519531 15.152344 C 4.238281 15.152344 4.828125 14.886719 8.1875 13.039062 C 9.386719 12.378906 10.371094 11.839844 10.378906 11.839844 C 10.386719 11.839844 10.355469 11.929688 10.304688 12.035156 C 9.832031 13.09375 9.257812 14.820312 8.96875 16.078125 C 7.914062 20.652344 8.617188 24.53125 11.070312 27.660156 C 11.351562 28.015625 11.363281 27.914062 10.972656 28.382812 C 8.925781 30.84375 7.945312 33.28125 8.238281 35.1875 C 8.289062 35.527344 8.28125 35.523438 8.917969 35.523438 C 10.941406 35.523438 13.074219 34.207031 15.136719 31.6875 C 15.359375 31.417969 15.328125 31.425781 15.5625 31.574219 C 16.292969 32.042969 18.023438 32.964844 18.175781 32.964844 C 18.335938 32.964844 19.941406 32.210938 20.828125 31.71875 C 20.996094 31.625 21.136719 31.554688 21.136719 31.558594 C 21.203125 31.664062 21.898438 32.414062 22.222656 32.730469 C 23.835938 34.300781 25.5625 35.132812 27.582031 35.300781 C 27.90625 35.328125 27.9375 35.308594 28.007812 34.984375 C 28.382812 33.242188 27.625 30.925781 25.863281 28.425781 L 25.542969 27.96875 L 25.699219 27.785156 C 28.945312 23.960938 29.132812 18.699219 26.257812 11.96875 L 26.207031 11.84375 L 27.945312 12.703125 C 31.53125 14.476562 32.316406 14.800781 33.03125 14.800781 C 33.976562 14.800781 33.78125 13.9375 32.472656 12.292969 C 28.519531 7.355469 25.394531 5.925781 21.921875 7.472656 L 21.558594 7.636719 L 21.578125 7.542969 C 21.699219 6.992188 21.761719 5.742188 21.699219 5.164062 C 21.496094 3.296875 20.664062 1.964844 19.003906 0.855469 C 18.480469 0.503906 18.457031 0.5 18.214844 0.632812\"/>\n",
              "</g>\n",
              "      </svg>\n",
              "    "
            ]
          },
          "metadata": {}
        }
      ]
    },
    {
      "cell_type": "markdown",
      "source": [
        "3. Faça uma cópia do square e mude o nome para polygon. Acrescente outro parâmetro chamado n e altere o corpo para que desenhe um polígono regular de n lados.\n",
        "Dica: os ângulos exteriores de um polígono regular de n lados são 360/n graus."
      ],
      "metadata": {
        "id": "tH4kDlBmLHqP"
      }
    },
    {
      "cell_type": "markdown",
      "source": [
        "**OBS: O que são polígonos? São figuras geométricas planas compostas por apenas uma linha fechada e seus lados são segmentados por retas. Um quadro, por exemplo, é um polígono, uma vez que possui quatro lados. Já um círculo não é um polígono porque é arredondado e não possui lados.**"
      ],
      "metadata": {
        "id": "fEkYgZwuOEzu"
      }
    },
    {
      "cell_type": "code",
      "source": [
        "# Definição da função functionPolygon, que desenha um polígono, utilizando 3 parâmetros (objeto turtle, tamanho e quantidade de lados)\n",
        "\n",
        "def functionPolygon(t, lenght, n):\n",
        "    angulo = 360/n\n",
        "\n",
        "    for i in range(n):\n",
        "      t.forward(lenght)\n",
        "      t.left(angulo)"
      ],
      "metadata": {
        "id": "917ZcQ_-NZJW"
      },
      "execution_count": null,
      "outputs": []
    },
    {
      "cell_type": "code",
      "source": [
        "turtle.initializeTurtle()\n",
        "triangle = turtle\n",
        "\n",
        "functionPolygon(triangle, 80, 6)"
      ],
      "metadata": {
        "colab": {
          "base_uri": "https://localhost:8080/",
          "height": 521
        },
        "id": "ysbd-tDVNZP8",
        "outputId": "1e6df56f-6824-4b3e-b0b9-9d9a71e87c4a"
      },
      "execution_count": null,
      "outputs": [
        {
          "output_type": "display_data",
          "data": {
            "text/plain": [
              "<IPython.core.display.HTML object>"
            ],
            "text/html": [
              "\n",
              "      <svg width=\"800\" height=\"500\">\n",
              "        <rect width=\"100%\" height=\"100%\" fill=\"black\"/>\n",
              "        <line x1=\"400\" y1=\"250\" x2=\"400.0\" y2=\"170.0\" stroke-linecap=\"round\" style=\"stroke:white;stroke-width:4\"/><line x1=\"400.0\" y1=\"170.0\" x2=\"330.718\" y2=\"130.0\" stroke-linecap=\"round\" style=\"stroke:white;stroke-width:4\"/><line x1=\"330.718\" y1=\"130.0\" x2=\"261.436\" y2=\"170.0\" stroke-linecap=\"round\" style=\"stroke:white;stroke-width:4\"/><line x1=\"261.436\" y1=\"170.0\" x2=\"261.436\" y2=\"250.0\" stroke-linecap=\"round\" style=\"stroke:white;stroke-width:4\"/><line x1=\"261.436\" y1=\"250.0\" x2=\"330.718\" y2=\"290.0\" stroke-linecap=\"round\" style=\"stroke:white;stroke-width:4\"/><line x1=\"330.718\" y1=\"290.0\" x2=\"400.0\" y2=\"250.0\" stroke-linecap=\"round\" style=\"stroke:white;stroke-width:4\"/>\n",
              "        <g visibility=visible transform=\"rotate(360.0,400.0,250.0) translate(382.0, 232.0)\">\n",
              "<path style=\" stroke:none;fill-rule:evenodd;fill:white;fill-opacity:1;\" d=\"M 18.214844 0.632812 C 16.109375 1.800781 15.011719 4.074219 15.074219 7.132812 L 15.085938 7.652344 L 14.785156 7.496094 C 13.476562 6.824219 11.957031 6.671875 10.40625 7.066406 C 8.46875 7.550781 6.515625 9.15625 4.394531 11.992188 C 3.0625 13.777344 2.679688 14.636719 3.042969 15.027344 L 3.15625 15.152344 L 3.519531 15.152344 C 4.238281 15.152344 4.828125 14.886719 8.1875 13.039062 C 9.386719 12.378906 10.371094 11.839844 10.378906 11.839844 C 10.386719 11.839844 10.355469 11.929688 10.304688 12.035156 C 9.832031 13.09375 9.257812 14.820312 8.96875 16.078125 C 7.914062 20.652344 8.617188 24.53125 11.070312 27.660156 C 11.351562 28.015625 11.363281 27.914062 10.972656 28.382812 C 8.925781 30.84375 7.945312 33.28125 8.238281 35.1875 C 8.289062 35.527344 8.28125 35.523438 8.917969 35.523438 C 10.941406 35.523438 13.074219 34.207031 15.136719 31.6875 C 15.359375 31.417969 15.328125 31.425781 15.5625 31.574219 C 16.292969 32.042969 18.023438 32.964844 18.175781 32.964844 C 18.335938 32.964844 19.941406 32.210938 20.828125 31.71875 C 20.996094 31.625 21.136719 31.554688 21.136719 31.558594 C 21.203125 31.664062 21.898438 32.414062 22.222656 32.730469 C 23.835938 34.300781 25.5625 35.132812 27.582031 35.300781 C 27.90625 35.328125 27.9375 35.308594 28.007812 34.984375 C 28.382812 33.242188 27.625 30.925781 25.863281 28.425781 L 25.542969 27.96875 L 25.699219 27.785156 C 28.945312 23.960938 29.132812 18.699219 26.257812 11.96875 L 26.207031 11.84375 L 27.945312 12.703125 C 31.53125 14.476562 32.316406 14.800781 33.03125 14.800781 C 33.976562 14.800781 33.78125 13.9375 32.472656 12.292969 C 28.519531 7.355469 25.394531 5.925781 21.921875 7.472656 L 21.558594 7.636719 L 21.578125 7.542969 C 21.699219 6.992188 21.761719 5.742188 21.699219 5.164062 C 21.496094 3.296875 20.664062 1.964844 19.003906 0.855469 C 18.480469 0.503906 18.457031 0.5 18.214844 0.632812\"/>\n",
              "</g>\n",
              "      </svg>\n",
              "    "
            ]
          },
          "metadata": {}
        }
      ]
    },
    {
      "cell_type": "markdown",
      "source": [
        "4. Escreva uma função chamada circle que use o turtle, t e um raio r como parâmetros e desenhe um círculo aproximado ao chamar polygon com um comprimento e número de lados adequados. Teste a sua função com uma série de valores de r.\n",
        "\n",
        "- Dica: descubra a circunferência do círculo e certifique-se de que length * n =\n",
        "circumference."
      ],
      "metadata": {
        "id": "Wr_HsYA4LJy_"
      }
    },
    {
      "cell_type": "markdown",
      "source": [
        "**COMPARAÇÃO DE SOLUÇÕES:**"
      ],
      "metadata": {
        "id": "3z-ZmuBmffxp"
      }
    },
    {
      "cell_type": "markdown",
      "source": [
        "**SOLUÇÃO PRÓPRIA: sem sucesso**"
      ],
      "metadata": {
        "id": "n2rL3Wxmfhsk"
      }
    },
    {
      "cell_type": "code",
      "source": [
        "def functionCircle(t, r):\n",
        "  # diametro seria o length na functionPolygon\n",
        "\n",
        "  #formula para calcular o raio (o raio é metade do diâmetro)\n",
        "  # 𝑟 = 𝑑/2 > d = 2 * r\n",
        "\n",
        "  d = 2 * r\n",
        "\n",
        "  functionPolygon(t, d, 0) # um círculo não é um polígono, pois não tem lados"
      ],
      "metadata": {
        "id": "ip050nlfRo4L"
      },
      "execution_count": null,
      "outputs": []
    },
    {
      "cell_type": "code",
      "source": [
        "turtle.initializeTurtle()\n",
        "circulo = turtle\n",
        "\n",
        "functionCircle(circulo, 10)"
      ],
      "metadata": {
        "colab": {
          "base_uri": "https://localhost:8080/",
          "height": 826
        },
        "id": "6A6UZx2kRo8c",
        "outputId": "2c5dd022-2c05-4bcc-f928-b7442c4fc266"
      },
      "execution_count": null,
      "outputs": [
        {
          "output_type": "display_data",
          "data": {
            "text/plain": [
              "<IPython.core.display.HTML object>"
            ],
            "text/html": [
              "\n",
              "      <svg width=\"800\" height=\"500\">\n",
              "        <rect width=\"100%\" height=\"100%\" fill=\"black\"/>\n",
              "        \n",
              "        <g visibility=visible transform=\"rotate(360,400,250) translate(382, 232)\">\n",
              "<path style=\" stroke:none;fill-rule:evenodd;fill:white;fill-opacity:1;\" d=\"M 18.214844 0.632812 C 16.109375 1.800781 15.011719 4.074219 15.074219 7.132812 L 15.085938 7.652344 L 14.785156 7.496094 C 13.476562 6.824219 11.957031 6.671875 10.40625 7.066406 C 8.46875 7.550781 6.515625 9.15625 4.394531 11.992188 C 3.0625 13.777344 2.679688 14.636719 3.042969 15.027344 L 3.15625 15.152344 L 3.519531 15.152344 C 4.238281 15.152344 4.828125 14.886719 8.1875 13.039062 C 9.386719 12.378906 10.371094 11.839844 10.378906 11.839844 C 10.386719 11.839844 10.355469 11.929688 10.304688 12.035156 C 9.832031 13.09375 9.257812 14.820312 8.96875 16.078125 C 7.914062 20.652344 8.617188 24.53125 11.070312 27.660156 C 11.351562 28.015625 11.363281 27.914062 10.972656 28.382812 C 8.925781 30.84375 7.945312 33.28125 8.238281 35.1875 C 8.289062 35.527344 8.28125 35.523438 8.917969 35.523438 C 10.941406 35.523438 13.074219 34.207031 15.136719 31.6875 C 15.359375 31.417969 15.328125 31.425781 15.5625 31.574219 C 16.292969 32.042969 18.023438 32.964844 18.175781 32.964844 C 18.335938 32.964844 19.941406 32.210938 20.828125 31.71875 C 20.996094 31.625 21.136719 31.554688 21.136719 31.558594 C 21.203125 31.664062 21.898438 32.414062 22.222656 32.730469 C 23.835938 34.300781 25.5625 35.132812 27.582031 35.300781 C 27.90625 35.328125 27.9375 35.308594 28.007812 34.984375 C 28.382812 33.242188 27.625 30.925781 25.863281 28.425781 L 25.542969 27.96875 L 25.699219 27.785156 C 28.945312 23.960938 29.132812 18.699219 26.257812 11.96875 L 26.207031 11.84375 L 27.945312 12.703125 C 31.53125 14.476562 32.316406 14.800781 33.03125 14.800781 C 33.976562 14.800781 33.78125 13.9375 32.472656 12.292969 C 28.519531 7.355469 25.394531 5.925781 21.921875 7.472656 L 21.558594 7.636719 L 21.578125 7.542969 C 21.699219 6.992188 21.761719 5.742188 21.699219 5.164062 C 21.496094 3.296875 20.664062 1.964844 19.003906 0.855469 C 18.480469 0.503906 18.457031 0.5 18.214844 0.632812\"/>\n",
              "</g>\n",
              "      </svg>\n",
              "    "
            ]
          },
          "metadata": {}
        },
        {
          "output_type": "error",
          "ename": "ZeroDivisionError",
          "evalue": "division by zero",
          "traceback": [
            "\u001b[0;31m---------------------------------------------------------------------------\u001b[0m",
            "\u001b[0;31mZeroDivisionError\u001b[0m                         Traceback (most recent call last)",
            "\u001b[0;32m<ipython-input-23-36c3f3ae0ec3>\u001b[0m in \u001b[0;36m<cell line: 4>\u001b[0;34m()\u001b[0m\n\u001b[1;32m      2\u001b[0m \u001b[0mcirculo\u001b[0m \u001b[0;34m=\u001b[0m \u001b[0mturtle\u001b[0m\u001b[0;34m\u001b[0m\u001b[0;34m\u001b[0m\u001b[0m\n\u001b[1;32m      3\u001b[0m \u001b[0;34m\u001b[0m\u001b[0m\n\u001b[0;32m----> 4\u001b[0;31m \u001b[0mfunctionCircle\u001b[0m\u001b[0;34m(\u001b[0m\u001b[0mcirculo\u001b[0m\u001b[0;34m,\u001b[0m \u001b[0;36m10\u001b[0m\u001b[0;34m)\u001b[0m\u001b[0;34m\u001b[0m\u001b[0;34m\u001b[0m\u001b[0m\n\u001b[0m",
            "\u001b[0;32m<ipython-input-22-4000770a10bb>\u001b[0m in \u001b[0;36mfunctionCircle\u001b[0;34m(t, r)\u001b[0m\n\u001b[1;32m      7\u001b[0m   \u001b[0md\u001b[0m \u001b[0;34m=\u001b[0m \u001b[0;36m2\u001b[0m \u001b[0;34m*\u001b[0m \u001b[0mr\u001b[0m\u001b[0;34m\u001b[0m\u001b[0;34m\u001b[0m\u001b[0m\n\u001b[1;32m      8\u001b[0m \u001b[0;34m\u001b[0m\u001b[0m\n\u001b[0;32m----> 9\u001b[0;31m   \u001b[0mfunctionPolygon\u001b[0m\u001b[0;34m(\u001b[0m\u001b[0mt\u001b[0m\u001b[0;34m,\u001b[0m \u001b[0md\u001b[0m\u001b[0;34m,\u001b[0m \u001b[0;36m0\u001b[0m\u001b[0;34m)\u001b[0m \u001b[0;31m# um círculo não é um polígono, pois não tem lados\u001b[0m\u001b[0;34m\u001b[0m\u001b[0;34m\u001b[0m\u001b[0m\n\u001b[0m",
            "\u001b[0;32m<ipython-input-20-be3708951215>\u001b[0m in \u001b[0;36mfunctionPolygon\u001b[0;34m(t, lenght, n)\u001b[0m\n\u001b[1;32m      2\u001b[0m \u001b[0;34m\u001b[0m\u001b[0m\n\u001b[1;32m      3\u001b[0m \u001b[0;32mdef\u001b[0m \u001b[0mfunctionPolygon\u001b[0m\u001b[0;34m(\u001b[0m\u001b[0mt\u001b[0m\u001b[0;34m,\u001b[0m \u001b[0mlenght\u001b[0m\u001b[0;34m,\u001b[0m \u001b[0mn\u001b[0m\u001b[0;34m)\u001b[0m\u001b[0;34m:\u001b[0m\u001b[0;34m\u001b[0m\u001b[0;34m\u001b[0m\u001b[0m\n\u001b[0;32m----> 4\u001b[0;31m     \u001b[0mangulo\u001b[0m \u001b[0;34m=\u001b[0m \u001b[0;36m360\u001b[0m\u001b[0;34m/\u001b[0m\u001b[0mn\u001b[0m\u001b[0;34m\u001b[0m\u001b[0;34m\u001b[0m\u001b[0m\n\u001b[0m\u001b[1;32m      5\u001b[0m \u001b[0;34m\u001b[0m\u001b[0m\n\u001b[1;32m      6\u001b[0m     \u001b[0;32mfor\u001b[0m \u001b[0mi\u001b[0m \u001b[0;32min\u001b[0m \u001b[0mrange\u001b[0m\u001b[0;34m(\u001b[0m\u001b[0mn\u001b[0m\u001b[0;34m)\u001b[0m\u001b[0;34m:\u001b[0m\u001b[0;34m\u001b[0m\u001b[0;34m\u001b[0m\u001b[0m\n",
            "\u001b[0;31mZeroDivisionError\u001b[0m: division by zero"
          ]
        }
      ]
    },
    {
      "cell_type": "markdown",
      "source": [
        "**SOLUÇÃO DO CHATGPT:**"
      ],
      "metadata": {
        "id": "btfqh4aZgZRC"
      }
    },
    {
      "cell_type": "code",
      "source": [
        "import math\n",
        "\n",
        "def functionCircleChatGpt(t, r):\n",
        "    n = 100  # Número de lados do polígono\n",
        "    circumference = 2 * math.pi * r\n",
        "    side_length = circumference/n\n",
        "    functionPolygon(t, side_length, n)"
      ],
      "metadata": {
        "id": "8vCgznfyRo_B"
      },
      "execution_count": null,
      "outputs": []
    },
    {
      "cell_type": "code",
      "source": [
        "turtle.initializeTurtle()\n",
        "circulo_chatgpt = turtle\n",
        "\n",
        "functionCircleChatGpt(circulo_chatgpt, 50)"
      ],
      "metadata": {
        "colab": {
          "base_uri": "https://localhost:8080/",
          "height": 521
        },
        "id": "L6DZwDg3RpBq",
        "outputId": "0482f393-ae68-42b7-8283-3dc5464df34d"
      },
      "execution_count": null,
      "outputs": [
        {
          "output_type": "display_data",
          "data": {
            "text/plain": [
              "<IPython.core.display.HTML object>"
            ],
            "text/html": [
              "\n",
              "      <svg width=\"800\" height=\"500\">\n",
              "        <rect width=\"100%\" height=\"100%\" fill=\"black\"/>\n",
              "        <line x1=\"400\" y1=\"250\" x2=\"400.0\" y2=\"246.858\" stroke-linecap=\"round\" style=\"stroke:white;stroke-width:4\"/><line x1=\"400.0\" y1=\"246.858\" x2=\"399.803\" y2=\"243.723\" stroke-linecap=\"round\" style=\"stroke:white;stroke-width:4\"/><line x1=\"399.803\" y1=\"243.723\" x2=\"399.409\" y2=\"240.606\" stroke-linecap=\"round\" style=\"stroke:white;stroke-width:4\"/><line x1=\"399.409\" y1=\"240.606\" x2=\"398.82\" y2=\"237.52\" stroke-linecap=\"round\" style=\"stroke:white;stroke-width:4\"/><line x1=\"398.82\" y1=\"237.52\" x2=\"398.039\" y2=\"234.477\" stroke-linecap=\"round\" style=\"stroke:white;stroke-width:4\"/><line x1=\"398.039\" y1=\"234.477\" x2=\"397.068\" y2=\"231.489\" stroke-linecap=\"round\" style=\"stroke:white;stroke-width:4\"/><line x1=\"397.068\" y1=\"231.489\" x2=\"395.912\" y2=\"228.568\" stroke-linecap=\"round\" style=\"stroke:white;stroke-width:4\"/><line x1=\"395.912\" y1=\"228.568\" x2=\"394.574\" y2=\"225.725\" stroke-linecap=\"round\" style=\"stroke:white;stroke-width:4\"/><line x1=\"394.574\" y1=\"225.725\" x2=\"393.061\" y2=\"222.972\" stroke-linecap=\"round\" style=\"stroke:white;stroke-width:4\"/><line x1=\"393.061\" y1=\"222.972\" x2=\"391.378\" y2=\"220.319\" stroke-linecap=\"round\" style=\"stroke:white;stroke-width:4\"/><line x1=\"391.378\" y1=\"220.319\" x2=\"389.531\" y2=\"217.777\" stroke-linecap=\"round\" style=\"stroke:white;stroke-width:4\"/><line x1=\"389.531\" y1=\"217.777\" x2=\"387.528\" y2=\"215.356\" stroke-linecap=\"round\" style=\"stroke:white;stroke-width:4\"/><line x1=\"387.528\" y1=\"215.356\" x2=\"385.377\" y2=\"213.066\" stroke-linecap=\"round\" style=\"stroke:white;stroke-width:4\"/><line x1=\"385.377\" y1=\"213.066\" x2=\"383.087\" y2=\"210.915\" stroke-linecap=\"round\" style=\"stroke:white;stroke-width:4\"/><line x1=\"383.087\" y1=\"210.915\" x2=\"380.666\" y2=\"208.912\" stroke-linecap=\"round\" style=\"stroke:white;stroke-width:4\"/><line x1=\"380.666\" y1=\"208.912\" x2=\"378.124\" y2=\"207.065\" stroke-linecap=\"round\" style=\"stroke:white;stroke-width:4\"/><line x1=\"378.124\" y1=\"207.065\" x2=\"375.471\" y2=\"205.382\" stroke-linecap=\"round\" style=\"stroke:white;stroke-width:4\"/><line x1=\"375.471\" y1=\"205.382\" x2=\"372.718\" y2=\"203.869\" stroke-linecap=\"round\" style=\"stroke:white;stroke-width:4\"/><line x1=\"372.718\" y1=\"203.869\" x2=\"369.875\" y2=\"202.531\" stroke-linecap=\"round\" style=\"stroke:white;stroke-width:4\"/><line x1=\"369.875\" y1=\"202.531\" x2=\"366.954\" y2=\"201.375\" stroke-linecap=\"round\" style=\"stroke:white;stroke-width:4\"/><line x1=\"366.954\" y1=\"201.375\" x2=\"363.966\" y2=\"200.404\" stroke-linecap=\"round\" style=\"stroke:white;stroke-width:4\"/><line x1=\"363.966\" y1=\"200.404\" x2=\"360.923\" y2=\"199.623\" stroke-linecap=\"round\" style=\"stroke:white;stroke-width:4\"/><line x1=\"360.923\" y1=\"199.623\" x2=\"357.837\" y2=\"199.034\" stroke-linecap=\"round\" style=\"stroke:white;stroke-width:4\"/><line x1=\"357.837\" y1=\"199.034\" x2=\"354.72\" y2=\"198.64\" stroke-linecap=\"round\" style=\"stroke:white;stroke-width:4\"/><line x1=\"354.72\" y1=\"198.64\" x2=\"351.585\" y2=\"198.443\" stroke-linecap=\"round\" style=\"stroke:white;stroke-width:4\"/><line x1=\"351.585\" y1=\"198.443\" x2=\"348.443\" y2=\"198.443\" stroke-linecap=\"round\" style=\"stroke:white;stroke-width:4\"/><line x1=\"348.443\" y1=\"198.443\" x2=\"345.308\" y2=\"198.64\" stroke-linecap=\"round\" style=\"stroke:white;stroke-width:4\"/><line x1=\"345.308\" y1=\"198.64\" x2=\"342.191\" y2=\"199.034\" stroke-linecap=\"round\" style=\"stroke:white;stroke-width:4\"/><line x1=\"342.191\" y1=\"199.034\" x2=\"339.105\" y2=\"199.623\" stroke-linecap=\"round\" style=\"stroke:white;stroke-width:4\"/><line x1=\"339.105\" y1=\"199.623\" x2=\"336.062\" y2=\"200.404\" stroke-linecap=\"round\" style=\"stroke:white;stroke-width:4\"/><line x1=\"336.062\" y1=\"200.404\" x2=\"333.074\" y2=\"201.375\" stroke-linecap=\"round\" style=\"stroke:white;stroke-width:4\"/><line x1=\"333.074\" y1=\"201.375\" x2=\"330.153\" y2=\"202.531\" stroke-linecap=\"round\" style=\"stroke:white;stroke-width:4\"/><line x1=\"330.153\" y1=\"202.531\" x2=\"327.31\" y2=\"203.869\" stroke-linecap=\"round\" style=\"stroke:white;stroke-width:4\"/><line x1=\"327.31\" y1=\"203.869\" x2=\"324.557\" y2=\"205.382\" stroke-linecap=\"round\" style=\"stroke:white;stroke-width:4\"/><line x1=\"324.557\" y1=\"205.382\" x2=\"321.904\" y2=\"207.065\" stroke-linecap=\"round\" style=\"stroke:white;stroke-width:4\"/><line x1=\"321.904\" y1=\"207.065\" x2=\"319.362\" y2=\"208.912\" stroke-linecap=\"round\" style=\"stroke:white;stroke-width:4\"/><line x1=\"319.362\" y1=\"208.912\" x2=\"316.941\" y2=\"210.915\" stroke-linecap=\"round\" style=\"stroke:white;stroke-width:4\"/><line x1=\"316.941\" y1=\"210.915\" x2=\"314.651\" y2=\"213.066\" stroke-linecap=\"round\" style=\"stroke:white;stroke-width:4\"/><line x1=\"314.651\" y1=\"213.066\" x2=\"312.5\" y2=\"215.356\" stroke-linecap=\"round\" style=\"stroke:white;stroke-width:4\"/><line x1=\"312.5\" y1=\"215.356\" x2=\"310.497\" y2=\"217.777\" stroke-linecap=\"round\" style=\"stroke:white;stroke-width:4\"/><line x1=\"310.497\" y1=\"217.777\" x2=\"308.65\" y2=\"220.319\" stroke-linecap=\"round\" style=\"stroke:white;stroke-width:4\"/><line x1=\"308.65\" y1=\"220.319\" x2=\"306.967\" y2=\"222.972\" stroke-linecap=\"round\" style=\"stroke:white;stroke-width:4\"/><line x1=\"306.967\" y1=\"222.972\" x2=\"305.454\" y2=\"225.725\" stroke-linecap=\"round\" style=\"stroke:white;stroke-width:4\"/><line x1=\"305.454\" y1=\"225.725\" x2=\"304.116\" y2=\"228.568\" stroke-linecap=\"round\" style=\"stroke:white;stroke-width:4\"/><line x1=\"304.116\" y1=\"228.568\" x2=\"302.96\" y2=\"231.489\" stroke-linecap=\"round\" style=\"stroke:white;stroke-width:4\"/><line x1=\"302.96\" y1=\"231.489\" x2=\"301.989\" y2=\"234.477\" stroke-linecap=\"round\" style=\"stroke:white;stroke-width:4\"/><line x1=\"301.989\" y1=\"234.477\" x2=\"301.208\" y2=\"237.52\" stroke-linecap=\"round\" style=\"stroke:white;stroke-width:4\"/><line x1=\"301.208\" y1=\"237.52\" x2=\"300.619\" y2=\"240.606\" stroke-linecap=\"round\" style=\"stroke:white;stroke-width:4\"/><line x1=\"300.619\" y1=\"240.606\" x2=\"300.225\" y2=\"243.723\" stroke-linecap=\"round\" style=\"stroke:white;stroke-width:4\"/><line x1=\"300.225\" y1=\"243.723\" x2=\"300.028\" y2=\"246.858\" stroke-linecap=\"round\" style=\"stroke:white;stroke-width:4\"/><line x1=\"300.028\" y1=\"246.858\" x2=\"300.028\" y2=\"250.0\" stroke-linecap=\"round\" style=\"stroke:white;stroke-width:4\"/><line x1=\"300.028\" y1=\"250.0\" x2=\"300.225\" y2=\"253.135\" stroke-linecap=\"round\" style=\"stroke:white;stroke-width:4\"/><line x1=\"300.225\" y1=\"253.135\" x2=\"300.619\" y2=\"256.252\" stroke-linecap=\"round\" style=\"stroke:white;stroke-width:4\"/><line x1=\"300.619\" y1=\"256.252\" x2=\"301.208\" y2=\"259.338\" stroke-linecap=\"round\" style=\"stroke:white;stroke-width:4\"/><line x1=\"301.208\" y1=\"259.338\" x2=\"301.989\" y2=\"262.381\" stroke-linecap=\"round\" style=\"stroke:white;stroke-width:4\"/><line x1=\"301.989\" y1=\"262.381\" x2=\"302.96\" y2=\"265.369\" stroke-linecap=\"round\" style=\"stroke:white;stroke-width:4\"/><line x1=\"302.96\" y1=\"265.369\" x2=\"304.116\" y2=\"268.29\" stroke-linecap=\"round\" style=\"stroke:white;stroke-width:4\"/><line x1=\"304.116\" y1=\"268.29\" x2=\"305.454\" y2=\"271.133\" stroke-linecap=\"round\" style=\"stroke:white;stroke-width:4\"/><line x1=\"305.454\" y1=\"271.133\" x2=\"306.967\" y2=\"273.886\" stroke-linecap=\"round\" style=\"stroke:white;stroke-width:4\"/><line x1=\"306.967\" y1=\"273.886\" x2=\"308.65\" y2=\"276.539\" stroke-linecap=\"round\" style=\"stroke:white;stroke-width:4\"/><line x1=\"308.65\" y1=\"276.539\" x2=\"310.497\" y2=\"279.081\" stroke-linecap=\"round\" style=\"stroke:white;stroke-width:4\"/><line x1=\"310.497\" y1=\"279.081\" x2=\"312.5\" y2=\"281.502\" stroke-linecap=\"round\" style=\"stroke:white;stroke-width:4\"/><line x1=\"312.5\" y1=\"281.502\" x2=\"314.651\" y2=\"283.792\" stroke-linecap=\"round\" style=\"stroke:white;stroke-width:4\"/><line x1=\"314.651\" y1=\"283.792\" x2=\"316.941\" y2=\"285.943\" stroke-linecap=\"round\" style=\"stroke:white;stroke-width:4\"/><line x1=\"316.941\" y1=\"285.943\" x2=\"319.362\" y2=\"287.946\" stroke-linecap=\"round\" style=\"stroke:white;stroke-width:4\"/><line x1=\"319.362\" y1=\"287.946\" x2=\"321.904\" y2=\"289.793\" stroke-linecap=\"round\" style=\"stroke:white;stroke-width:4\"/><line x1=\"321.904\" y1=\"289.793\" x2=\"324.557\" y2=\"291.476\" stroke-linecap=\"round\" style=\"stroke:white;stroke-width:4\"/><line x1=\"324.557\" y1=\"291.476\" x2=\"327.31\" y2=\"292.989\" stroke-linecap=\"round\" style=\"stroke:white;stroke-width:4\"/><line x1=\"327.31\" y1=\"292.989\" x2=\"330.153\" y2=\"294.327\" stroke-linecap=\"round\" style=\"stroke:white;stroke-width:4\"/><line x1=\"330.153\" y1=\"294.327\" x2=\"333.074\" y2=\"295.483\" stroke-linecap=\"round\" style=\"stroke:white;stroke-width:4\"/><line x1=\"333.074\" y1=\"295.483\" x2=\"336.062\" y2=\"296.454\" stroke-linecap=\"round\" style=\"stroke:white;stroke-width:4\"/><line x1=\"336.062\" y1=\"296.454\" x2=\"339.105\" y2=\"297.235\" stroke-linecap=\"round\" style=\"stroke:white;stroke-width:4\"/><line x1=\"339.105\" y1=\"297.235\" x2=\"342.191\" y2=\"297.824\" stroke-linecap=\"round\" style=\"stroke:white;stroke-width:4\"/><line x1=\"342.191\" y1=\"297.824\" x2=\"345.308\" y2=\"298.218\" stroke-linecap=\"round\" style=\"stroke:white;stroke-width:4\"/><line x1=\"345.308\" y1=\"298.218\" x2=\"348.443\" y2=\"298.415\" stroke-linecap=\"round\" style=\"stroke:white;stroke-width:4\"/><line x1=\"348.443\" y1=\"298.415\" x2=\"351.585\" y2=\"298.415\" stroke-linecap=\"round\" style=\"stroke:white;stroke-width:4\"/><line x1=\"351.585\" y1=\"298.415\" x2=\"354.72\" y2=\"298.218\" stroke-linecap=\"round\" style=\"stroke:white;stroke-width:4\"/><line x1=\"354.72\" y1=\"298.218\" x2=\"357.837\" y2=\"297.824\" stroke-linecap=\"round\" style=\"stroke:white;stroke-width:4\"/><line x1=\"357.837\" y1=\"297.824\" x2=\"360.923\" y2=\"297.235\" stroke-linecap=\"round\" style=\"stroke:white;stroke-width:4\"/><line x1=\"360.923\" y1=\"297.235\" x2=\"363.966\" y2=\"296.454\" stroke-linecap=\"round\" style=\"stroke:white;stroke-width:4\"/><line x1=\"363.966\" y1=\"296.454\" x2=\"366.954\" y2=\"295.483\" stroke-linecap=\"round\" style=\"stroke:white;stroke-width:4\"/><line x1=\"366.954\" y1=\"295.483\" x2=\"369.875\" y2=\"294.327\" stroke-linecap=\"round\" style=\"stroke:white;stroke-width:4\"/><line x1=\"369.875\" y1=\"294.327\" x2=\"372.718\" y2=\"292.989\" stroke-linecap=\"round\" style=\"stroke:white;stroke-width:4\"/><line x1=\"372.718\" y1=\"292.989\" x2=\"375.471\" y2=\"291.476\" stroke-linecap=\"round\" style=\"stroke:white;stroke-width:4\"/><line x1=\"375.471\" y1=\"291.476\" x2=\"378.124\" y2=\"289.793\" stroke-linecap=\"round\" style=\"stroke:white;stroke-width:4\"/><line x1=\"378.124\" y1=\"289.793\" x2=\"380.666\" y2=\"287.946\" stroke-linecap=\"round\" style=\"stroke:white;stroke-width:4\"/><line x1=\"380.666\" y1=\"287.946\" x2=\"383.087\" y2=\"285.943\" stroke-linecap=\"round\" style=\"stroke:white;stroke-width:4\"/><line x1=\"383.087\" y1=\"285.943\" x2=\"385.377\" y2=\"283.792\" stroke-linecap=\"round\" style=\"stroke:white;stroke-width:4\"/><line x1=\"385.377\" y1=\"283.792\" x2=\"387.528\" y2=\"281.502\" stroke-linecap=\"round\" style=\"stroke:white;stroke-width:4\"/><line x1=\"387.528\" y1=\"281.502\" x2=\"389.531\" y2=\"279.081\" stroke-linecap=\"round\" style=\"stroke:white;stroke-width:4\"/><line x1=\"389.531\" y1=\"279.081\" x2=\"391.378\" y2=\"276.539\" stroke-linecap=\"round\" style=\"stroke:white;stroke-width:4\"/><line x1=\"391.378\" y1=\"276.539\" x2=\"393.061\" y2=\"273.886\" stroke-linecap=\"round\" style=\"stroke:white;stroke-width:4\"/><line x1=\"393.061\" y1=\"273.886\" x2=\"394.574\" y2=\"271.133\" stroke-linecap=\"round\" style=\"stroke:white;stroke-width:4\"/><line x1=\"394.574\" y1=\"271.133\" x2=\"395.912\" y2=\"268.29\" stroke-linecap=\"round\" style=\"stroke:white;stroke-width:4\"/><line x1=\"395.912\" y1=\"268.29\" x2=\"397.068\" y2=\"265.369\" stroke-linecap=\"round\" style=\"stroke:white;stroke-width:4\"/><line x1=\"397.068\" y1=\"265.369\" x2=\"398.039\" y2=\"262.381\" stroke-linecap=\"round\" style=\"stroke:white;stroke-width:4\"/><line x1=\"398.039\" y1=\"262.381\" x2=\"398.82\" y2=\"259.338\" stroke-linecap=\"round\" style=\"stroke:white;stroke-width:4\"/><line x1=\"398.82\" y1=\"259.338\" x2=\"399.409\" y2=\"256.252\" stroke-linecap=\"round\" style=\"stroke:white;stroke-width:4\"/><line x1=\"399.409\" y1=\"256.252\" x2=\"399.803\" y2=\"253.135\" stroke-linecap=\"round\" style=\"stroke:white;stroke-width:4\"/><line x1=\"399.803\" y1=\"253.135\" x2=\"400.0\" y2=\"250.0\" stroke-linecap=\"round\" style=\"stroke:white;stroke-width:4\"/>\n",
              "        <g visibility=visible transform=\"rotate(359.99999999999966,400.0,250.0) translate(382.0, 232.0)\">\n",
              "<path style=\" stroke:none;fill-rule:evenodd;fill:white;fill-opacity:1;\" d=\"M 18.214844 0.632812 C 16.109375 1.800781 15.011719 4.074219 15.074219 7.132812 L 15.085938 7.652344 L 14.785156 7.496094 C 13.476562 6.824219 11.957031 6.671875 10.40625 7.066406 C 8.46875 7.550781 6.515625 9.15625 4.394531 11.992188 C 3.0625 13.777344 2.679688 14.636719 3.042969 15.027344 L 3.15625 15.152344 L 3.519531 15.152344 C 4.238281 15.152344 4.828125 14.886719 8.1875 13.039062 C 9.386719 12.378906 10.371094 11.839844 10.378906 11.839844 C 10.386719 11.839844 10.355469 11.929688 10.304688 12.035156 C 9.832031 13.09375 9.257812 14.820312 8.96875 16.078125 C 7.914062 20.652344 8.617188 24.53125 11.070312 27.660156 C 11.351562 28.015625 11.363281 27.914062 10.972656 28.382812 C 8.925781 30.84375 7.945312 33.28125 8.238281 35.1875 C 8.289062 35.527344 8.28125 35.523438 8.917969 35.523438 C 10.941406 35.523438 13.074219 34.207031 15.136719 31.6875 C 15.359375 31.417969 15.328125 31.425781 15.5625 31.574219 C 16.292969 32.042969 18.023438 32.964844 18.175781 32.964844 C 18.335938 32.964844 19.941406 32.210938 20.828125 31.71875 C 20.996094 31.625 21.136719 31.554688 21.136719 31.558594 C 21.203125 31.664062 21.898438 32.414062 22.222656 32.730469 C 23.835938 34.300781 25.5625 35.132812 27.582031 35.300781 C 27.90625 35.328125 27.9375 35.308594 28.007812 34.984375 C 28.382812 33.242188 27.625 30.925781 25.863281 28.425781 L 25.542969 27.96875 L 25.699219 27.785156 C 28.945312 23.960938 29.132812 18.699219 26.257812 11.96875 L 26.207031 11.84375 L 27.945312 12.703125 C 31.53125 14.476562 32.316406 14.800781 33.03125 14.800781 C 33.976562 14.800781 33.78125 13.9375 32.472656 12.292969 C 28.519531 7.355469 25.394531 5.925781 21.921875 7.472656 L 21.558594 7.636719 L 21.578125 7.542969 C 21.699219 6.992188 21.761719 5.742188 21.699219 5.164062 C 21.496094 3.296875 20.664062 1.964844 19.003906 0.855469 C 18.480469 0.503906 18.457031 0.5 18.214844 0.632812\"/>\n",
              "</g>\n",
              "      </svg>\n",
              "    "
            ]
          },
          "metadata": {}
        }
      ]
    },
    {
      "cell_type": "markdown",
      "source": [
        "5. Faça uma versão mais geral do circle chamada arc, que receba um parâmetro\n",
        "adicional de angle, para determinar qual fração do círculo deve ser desenhada. angle está em unidades de graus, então quando angle=360, o arc deve desenhar um círculo completo."
      ],
      "metadata": {
        "id": "LvLA9a1yLMtI"
      }
    },
    {
      "cell_type": "markdown",
      "source": [
        "**COMPARAÇÃO DE SOLUÇÕES:**"
      ],
      "metadata": {
        "id": "MsHehcOmLSts"
      }
    },
    {
      "cell_type": "markdown",
      "source": [
        "**SOLUÇÃO PRÓPRIA:**"
      ],
      "metadata": {
        "id": "t3ryiEcxCubZ"
      }
    },
    {
      "cell_type": "code",
      "source": [
        "import math\n",
        "\n",
        "def functionArc(t, r, angle):\n",
        "    n = 100  # Número de lados do polígono que é quase um círculo (segmentos em um círculo)\n",
        "\n",
        "    circumference = 2 * math.pi * r\n",
        "    fracao_circulo = (angle/360) * circumference\n",
        "\n",
        "    comprimento_segmento = (fracao_circulo/n) # seria o comprimento de um segmento\n",
        "\n",
        "    functionPolygon(t, comprimento_segmento, n)"
      ],
      "metadata": {
        "id": "1_uAIqS8K9By"
      },
      "execution_count": null,
      "outputs": []
    },
    {
      "cell_type": "code",
      "source": [
        "turtle.initializeTurtle()\n",
        "circulo_completo = turtle\n",
        "\n",
        "functionArc(circulo_completo, 50, 360)"
      ],
      "metadata": {
        "colab": {
          "base_uri": "https://localhost:8080/",
          "height": 521
        },
        "id": "qm_vubfDDerc",
        "outputId": "8ec15c5e-eff7-4204-e371-132f7c8b0a91"
      },
      "execution_count": null,
      "outputs": [
        {
          "output_type": "display_data",
          "data": {
            "text/plain": [
              "<IPython.core.display.HTML object>"
            ],
            "text/html": [
              "\n",
              "      <svg width=\"800\" height=\"500\">\n",
              "        <rect width=\"100%\" height=\"100%\" fill=\"black\"/>\n",
              "        <line x1=\"400\" y1=\"250\" x2=\"400.0\" y2=\"246.858\" stroke-linecap=\"round\" style=\"stroke:white;stroke-width:4\"/><line x1=\"400.0\" y1=\"246.858\" x2=\"399.803\" y2=\"243.723\" stroke-linecap=\"round\" style=\"stroke:white;stroke-width:4\"/><line x1=\"399.803\" y1=\"243.723\" x2=\"399.409\" y2=\"240.606\" stroke-linecap=\"round\" style=\"stroke:white;stroke-width:4\"/><line x1=\"399.409\" y1=\"240.606\" x2=\"398.82\" y2=\"237.52\" stroke-linecap=\"round\" style=\"stroke:white;stroke-width:4\"/><line x1=\"398.82\" y1=\"237.52\" x2=\"398.039\" y2=\"234.477\" stroke-linecap=\"round\" style=\"stroke:white;stroke-width:4\"/><line x1=\"398.039\" y1=\"234.477\" x2=\"397.068\" y2=\"231.489\" stroke-linecap=\"round\" style=\"stroke:white;stroke-width:4\"/><line x1=\"397.068\" y1=\"231.489\" x2=\"395.912\" y2=\"228.568\" stroke-linecap=\"round\" style=\"stroke:white;stroke-width:4\"/><line x1=\"395.912\" y1=\"228.568\" x2=\"394.574\" y2=\"225.725\" stroke-linecap=\"round\" style=\"stroke:white;stroke-width:4\"/><line x1=\"394.574\" y1=\"225.725\" x2=\"393.061\" y2=\"222.972\" stroke-linecap=\"round\" style=\"stroke:white;stroke-width:4\"/><line x1=\"393.061\" y1=\"222.972\" x2=\"391.378\" y2=\"220.319\" stroke-linecap=\"round\" style=\"stroke:white;stroke-width:4\"/><line x1=\"391.378\" y1=\"220.319\" x2=\"389.531\" y2=\"217.777\" stroke-linecap=\"round\" style=\"stroke:white;stroke-width:4\"/><line x1=\"389.531\" y1=\"217.777\" x2=\"387.528\" y2=\"215.356\" stroke-linecap=\"round\" style=\"stroke:white;stroke-width:4\"/><line x1=\"387.528\" y1=\"215.356\" x2=\"385.377\" y2=\"213.066\" stroke-linecap=\"round\" style=\"stroke:white;stroke-width:4\"/><line x1=\"385.377\" y1=\"213.066\" x2=\"383.087\" y2=\"210.915\" stroke-linecap=\"round\" style=\"stroke:white;stroke-width:4\"/><line x1=\"383.087\" y1=\"210.915\" x2=\"380.666\" y2=\"208.912\" stroke-linecap=\"round\" style=\"stroke:white;stroke-width:4\"/><line x1=\"380.666\" y1=\"208.912\" x2=\"378.124\" y2=\"207.065\" stroke-linecap=\"round\" style=\"stroke:white;stroke-width:4\"/><line x1=\"378.124\" y1=\"207.065\" x2=\"375.471\" y2=\"205.382\" stroke-linecap=\"round\" style=\"stroke:white;stroke-width:4\"/><line x1=\"375.471\" y1=\"205.382\" x2=\"372.718\" y2=\"203.869\" stroke-linecap=\"round\" style=\"stroke:white;stroke-width:4\"/><line x1=\"372.718\" y1=\"203.869\" x2=\"369.875\" y2=\"202.531\" stroke-linecap=\"round\" style=\"stroke:white;stroke-width:4\"/><line x1=\"369.875\" y1=\"202.531\" x2=\"366.954\" y2=\"201.375\" stroke-linecap=\"round\" style=\"stroke:white;stroke-width:4\"/><line x1=\"366.954\" y1=\"201.375\" x2=\"363.966\" y2=\"200.404\" stroke-linecap=\"round\" style=\"stroke:white;stroke-width:4\"/><line x1=\"363.966\" y1=\"200.404\" x2=\"360.923\" y2=\"199.623\" stroke-linecap=\"round\" style=\"stroke:white;stroke-width:4\"/><line x1=\"360.923\" y1=\"199.623\" x2=\"357.837\" y2=\"199.034\" stroke-linecap=\"round\" style=\"stroke:white;stroke-width:4\"/><line x1=\"357.837\" y1=\"199.034\" x2=\"354.72\" y2=\"198.64\" stroke-linecap=\"round\" style=\"stroke:white;stroke-width:4\"/><line x1=\"354.72\" y1=\"198.64\" x2=\"351.585\" y2=\"198.443\" stroke-linecap=\"round\" style=\"stroke:white;stroke-width:4\"/><line x1=\"351.585\" y1=\"198.443\" x2=\"348.443\" y2=\"198.443\" stroke-linecap=\"round\" style=\"stroke:white;stroke-width:4\"/><line x1=\"348.443\" y1=\"198.443\" x2=\"345.308\" y2=\"198.64\" stroke-linecap=\"round\" style=\"stroke:white;stroke-width:4\"/><line x1=\"345.308\" y1=\"198.64\" x2=\"342.191\" y2=\"199.034\" stroke-linecap=\"round\" style=\"stroke:white;stroke-width:4\"/><line x1=\"342.191\" y1=\"199.034\" x2=\"339.105\" y2=\"199.623\" stroke-linecap=\"round\" style=\"stroke:white;stroke-width:4\"/><line x1=\"339.105\" y1=\"199.623\" x2=\"336.062\" y2=\"200.404\" stroke-linecap=\"round\" style=\"stroke:white;stroke-width:4\"/><line x1=\"336.062\" y1=\"200.404\" x2=\"333.074\" y2=\"201.375\" stroke-linecap=\"round\" style=\"stroke:white;stroke-width:4\"/><line x1=\"333.074\" y1=\"201.375\" x2=\"330.153\" y2=\"202.531\" stroke-linecap=\"round\" style=\"stroke:white;stroke-width:4\"/><line x1=\"330.153\" y1=\"202.531\" x2=\"327.31\" y2=\"203.869\" stroke-linecap=\"round\" style=\"stroke:white;stroke-width:4\"/><line x1=\"327.31\" y1=\"203.869\" x2=\"324.557\" y2=\"205.382\" stroke-linecap=\"round\" style=\"stroke:white;stroke-width:4\"/><line x1=\"324.557\" y1=\"205.382\" x2=\"321.904\" y2=\"207.065\" stroke-linecap=\"round\" style=\"stroke:white;stroke-width:4\"/><line x1=\"321.904\" y1=\"207.065\" x2=\"319.362\" y2=\"208.912\" stroke-linecap=\"round\" style=\"stroke:white;stroke-width:4\"/><line x1=\"319.362\" y1=\"208.912\" x2=\"316.941\" y2=\"210.915\" stroke-linecap=\"round\" style=\"stroke:white;stroke-width:4\"/><line x1=\"316.941\" y1=\"210.915\" x2=\"314.651\" y2=\"213.066\" stroke-linecap=\"round\" style=\"stroke:white;stroke-width:4\"/><line x1=\"314.651\" y1=\"213.066\" x2=\"312.5\" y2=\"215.356\" stroke-linecap=\"round\" style=\"stroke:white;stroke-width:4\"/><line x1=\"312.5\" y1=\"215.356\" x2=\"310.497\" y2=\"217.777\" stroke-linecap=\"round\" style=\"stroke:white;stroke-width:4\"/><line x1=\"310.497\" y1=\"217.777\" x2=\"308.65\" y2=\"220.319\" stroke-linecap=\"round\" style=\"stroke:white;stroke-width:4\"/><line x1=\"308.65\" y1=\"220.319\" x2=\"306.967\" y2=\"222.972\" stroke-linecap=\"round\" style=\"stroke:white;stroke-width:4\"/><line x1=\"306.967\" y1=\"222.972\" x2=\"305.454\" y2=\"225.725\" stroke-linecap=\"round\" style=\"stroke:white;stroke-width:4\"/><line x1=\"305.454\" y1=\"225.725\" x2=\"304.116\" y2=\"228.568\" stroke-linecap=\"round\" style=\"stroke:white;stroke-width:4\"/><line x1=\"304.116\" y1=\"228.568\" x2=\"302.96\" y2=\"231.489\" stroke-linecap=\"round\" style=\"stroke:white;stroke-width:4\"/><line x1=\"302.96\" y1=\"231.489\" x2=\"301.989\" y2=\"234.477\" stroke-linecap=\"round\" style=\"stroke:white;stroke-width:4\"/><line x1=\"301.989\" y1=\"234.477\" x2=\"301.208\" y2=\"237.52\" stroke-linecap=\"round\" style=\"stroke:white;stroke-width:4\"/><line x1=\"301.208\" y1=\"237.52\" x2=\"300.619\" y2=\"240.606\" stroke-linecap=\"round\" style=\"stroke:white;stroke-width:4\"/><line x1=\"300.619\" y1=\"240.606\" x2=\"300.225\" y2=\"243.723\" stroke-linecap=\"round\" style=\"stroke:white;stroke-width:4\"/><line x1=\"300.225\" y1=\"243.723\" x2=\"300.028\" y2=\"246.858\" stroke-linecap=\"round\" style=\"stroke:white;stroke-width:4\"/><line x1=\"300.028\" y1=\"246.858\" x2=\"300.028\" y2=\"250.0\" stroke-linecap=\"round\" style=\"stroke:white;stroke-width:4\"/><line x1=\"300.028\" y1=\"250.0\" x2=\"300.225\" y2=\"253.135\" stroke-linecap=\"round\" style=\"stroke:white;stroke-width:4\"/><line x1=\"300.225\" y1=\"253.135\" x2=\"300.619\" y2=\"256.252\" stroke-linecap=\"round\" style=\"stroke:white;stroke-width:4\"/><line x1=\"300.619\" y1=\"256.252\" x2=\"301.208\" y2=\"259.338\" stroke-linecap=\"round\" style=\"stroke:white;stroke-width:4\"/><line x1=\"301.208\" y1=\"259.338\" x2=\"301.989\" y2=\"262.381\" stroke-linecap=\"round\" style=\"stroke:white;stroke-width:4\"/><line x1=\"301.989\" y1=\"262.381\" x2=\"302.96\" y2=\"265.369\" stroke-linecap=\"round\" style=\"stroke:white;stroke-width:4\"/><line x1=\"302.96\" y1=\"265.369\" x2=\"304.116\" y2=\"268.29\" stroke-linecap=\"round\" style=\"stroke:white;stroke-width:4\"/><line x1=\"304.116\" y1=\"268.29\" x2=\"305.454\" y2=\"271.133\" stroke-linecap=\"round\" style=\"stroke:white;stroke-width:4\"/><line x1=\"305.454\" y1=\"271.133\" x2=\"306.967\" y2=\"273.886\" stroke-linecap=\"round\" style=\"stroke:white;stroke-width:4\"/><line x1=\"306.967\" y1=\"273.886\" x2=\"308.65\" y2=\"276.539\" stroke-linecap=\"round\" style=\"stroke:white;stroke-width:4\"/><line x1=\"308.65\" y1=\"276.539\" x2=\"310.497\" y2=\"279.081\" stroke-linecap=\"round\" style=\"stroke:white;stroke-width:4\"/><line x1=\"310.497\" y1=\"279.081\" x2=\"312.5\" y2=\"281.502\" stroke-linecap=\"round\" style=\"stroke:white;stroke-width:4\"/><line x1=\"312.5\" y1=\"281.502\" x2=\"314.651\" y2=\"283.792\" stroke-linecap=\"round\" style=\"stroke:white;stroke-width:4\"/><line x1=\"314.651\" y1=\"283.792\" x2=\"316.941\" y2=\"285.943\" stroke-linecap=\"round\" style=\"stroke:white;stroke-width:4\"/><line x1=\"316.941\" y1=\"285.943\" x2=\"319.362\" y2=\"287.946\" stroke-linecap=\"round\" style=\"stroke:white;stroke-width:4\"/><line x1=\"319.362\" y1=\"287.946\" x2=\"321.904\" y2=\"289.793\" stroke-linecap=\"round\" style=\"stroke:white;stroke-width:4\"/><line x1=\"321.904\" y1=\"289.793\" x2=\"324.557\" y2=\"291.476\" stroke-linecap=\"round\" style=\"stroke:white;stroke-width:4\"/><line x1=\"324.557\" y1=\"291.476\" x2=\"327.31\" y2=\"292.989\" stroke-linecap=\"round\" style=\"stroke:white;stroke-width:4\"/><line x1=\"327.31\" y1=\"292.989\" x2=\"330.153\" y2=\"294.327\" stroke-linecap=\"round\" style=\"stroke:white;stroke-width:4\"/><line x1=\"330.153\" y1=\"294.327\" x2=\"333.074\" y2=\"295.483\" stroke-linecap=\"round\" style=\"stroke:white;stroke-width:4\"/><line x1=\"333.074\" y1=\"295.483\" x2=\"336.062\" y2=\"296.454\" stroke-linecap=\"round\" style=\"stroke:white;stroke-width:4\"/><line x1=\"336.062\" y1=\"296.454\" x2=\"339.105\" y2=\"297.235\" stroke-linecap=\"round\" style=\"stroke:white;stroke-width:4\"/><line x1=\"339.105\" y1=\"297.235\" x2=\"342.191\" y2=\"297.824\" stroke-linecap=\"round\" style=\"stroke:white;stroke-width:4\"/><line x1=\"342.191\" y1=\"297.824\" x2=\"345.308\" y2=\"298.218\" stroke-linecap=\"round\" style=\"stroke:white;stroke-width:4\"/><line x1=\"345.308\" y1=\"298.218\" x2=\"348.443\" y2=\"298.415\" stroke-linecap=\"round\" style=\"stroke:white;stroke-width:4\"/><line x1=\"348.443\" y1=\"298.415\" x2=\"351.585\" y2=\"298.415\" stroke-linecap=\"round\" style=\"stroke:white;stroke-width:4\"/><line x1=\"351.585\" y1=\"298.415\" x2=\"354.72\" y2=\"298.218\" stroke-linecap=\"round\" style=\"stroke:white;stroke-width:4\"/><line x1=\"354.72\" y1=\"298.218\" x2=\"357.837\" y2=\"297.824\" stroke-linecap=\"round\" style=\"stroke:white;stroke-width:4\"/><line x1=\"357.837\" y1=\"297.824\" x2=\"360.923\" y2=\"297.235\" stroke-linecap=\"round\" style=\"stroke:white;stroke-width:4\"/><line x1=\"360.923\" y1=\"297.235\" x2=\"363.966\" y2=\"296.454\" stroke-linecap=\"round\" style=\"stroke:white;stroke-width:4\"/><line x1=\"363.966\" y1=\"296.454\" x2=\"366.954\" y2=\"295.483\" stroke-linecap=\"round\" style=\"stroke:white;stroke-width:4\"/><line x1=\"366.954\" y1=\"295.483\" x2=\"369.875\" y2=\"294.327\" stroke-linecap=\"round\" style=\"stroke:white;stroke-width:4\"/><line x1=\"369.875\" y1=\"294.327\" x2=\"372.718\" y2=\"292.989\" stroke-linecap=\"round\" style=\"stroke:white;stroke-width:4\"/><line x1=\"372.718\" y1=\"292.989\" x2=\"375.471\" y2=\"291.476\" stroke-linecap=\"round\" style=\"stroke:white;stroke-width:4\"/><line x1=\"375.471\" y1=\"291.476\" x2=\"378.124\" y2=\"289.793\" stroke-linecap=\"round\" style=\"stroke:white;stroke-width:4\"/><line x1=\"378.124\" y1=\"289.793\" x2=\"380.666\" y2=\"287.946\" stroke-linecap=\"round\" style=\"stroke:white;stroke-width:4\"/><line x1=\"380.666\" y1=\"287.946\" x2=\"383.087\" y2=\"285.943\" stroke-linecap=\"round\" style=\"stroke:white;stroke-width:4\"/><line x1=\"383.087\" y1=\"285.943\" x2=\"385.377\" y2=\"283.792\" stroke-linecap=\"round\" style=\"stroke:white;stroke-width:4\"/><line x1=\"385.377\" y1=\"283.792\" x2=\"387.528\" y2=\"281.502\" stroke-linecap=\"round\" style=\"stroke:white;stroke-width:4\"/><line x1=\"387.528\" y1=\"281.502\" x2=\"389.531\" y2=\"279.081\" stroke-linecap=\"round\" style=\"stroke:white;stroke-width:4\"/><line x1=\"389.531\" y1=\"279.081\" x2=\"391.378\" y2=\"276.539\" stroke-linecap=\"round\" style=\"stroke:white;stroke-width:4\"/><line x1=\"391.378\" y1=\"276.539\" x2=\"393.061\" y2=\"273.886\" stroke-linecap=\"round\" style=\"stroke:white;stroke-width:4\"/><line x1=\"393.061\" y1=\"273.886\" x2=\"394.574\" y2=\"271.133\" stroke-linecap=\"round\" style=\"stroke:white;stroke-width:4\"/><line x1=\"394.574\" y1=\"271.133\" x2=\"395.912\" y2=\"268.29\" stroke-linecap=\"round\" style=\"stroke:white;stroke-width:4\"/><line x1=\"395.912\" y1=\"268.29\" x2=\"397.068\" y2=\"265.369\" stroke-linecap=\"round\" style=\"stroke:white;stroke-width:4\"/><line x1=\"397.068\" y1=\"265.369\" x2=\"398.039\" y2=\"262.381\" stroke-linecap=\"round\" style=\"stroke:white;stroke-width:4\"/><line x1=\"398.039\" y1=\"262.381\" x2=\"398.82\" y2=\"259.338\" stroke-linecap=\"round\" style=\"stroke:white;stroke-width:4\"/><line x1=\"398.82\" y1=\"259.338\" x2=\"399.409\" y2=\"256.252\" stroke-linecap=\"round\" style=\"stroke:white;stroke-width:4\"/><line x1=\"399.409\" y1=\"256.252\" x2=\"399.803\" y2=\"253.135\" stroke-linecap=\"round\" style=\"stroke:white;stroke-width:4\"/><line x1=\"399.803\" y1=\"253.135\" x2=\"400.0\" y2=\"250.0\" stroke-linecap=\"round\" style=\"stroke:white;stroke-width:4\"/>\n",
              "        <g visibility=visible transform=\"rotate(359.99999999999966,400.0,250.0) translate(382.0, 232.0)\">\n",
              "<path style=\" stroke:none;fill-rule:evenodd;fill:white;fill-opacity:1;\" d=\"M 18.214844 0.632812 C 16.109375 1.800781 15.011719 4.074219 15.074219 7.132812 L 15.085938 7.652344 L 14.785156 7.496094 C 13.476562 6.824219 11.957031 6.671875 10.40625 7.066406 C 8.46875 7.550781 6.515625 9.15625 4.394531 11.992188 C 3.0625 13.777344 2.679688 14.636719 3.042969 15.027344 L 3.15625 15.152344 L 3.519531 15.152344 C 4.238281 15.152344 4.828125 14.886719 8.1875 13.039062 C 9.386719 12.378906 10.371094 11.839844 10.378906 11.839844 C 10.386719 11.839844 10.355469 11.929688 10.304688 12.035156 C 9.832031 13.09375 9.257812 14.820312 8.96875 16.078125 C 7.914062 20.652344 8.617188 24.53125 11.070312 27.660156 C 11.351562 28.015625 11.363281 27.914062 10.972656 28.382812 C 8.925781 30.84375 7.945312 33.28125 8.238281 35.1875 C 8.289062 35.527344 8.28125 35.523438 8.917969 35.523438 C 10.941406 35.523438 13.074219 34.207031 15.136719 31.6875 C 15.359375 31.417969 15.328125 31.425781 15.5625 31.574219 C 16.292969 32.042969 18.023438 32.964844 18.175781 32.964844 C 18.335938 32.964844 19.941406 32.210938 20.828125 31.71875 C 20.996094 31.625 21.136719 31.554688 21.136719 31.558594 C 21.203125 31.664062 21.898438 32.414062 22.222656 32.730469 C 23.835938 34.300781 25.5625 35.132812 27.582031 35.300781 C 27.90625 35.328125 27.9375 35.308594 28.007812 34.984375 C 28.382812 33.242188 27.625 30.925781 25.863281 28.425781 L 25.542969 27.96875 L 25.699219 27.785156 C 28.945312 23.960938 29.132812 18.699219 26.257812 11.96875 L 26.207031 11.84375 L 27.945312 12.703125 C 31.53125 14.476562 32.316406 14.800781 33.03125 14.800781 C 33.976562 14.800781 33.78125 13.9375 32.472656 12.292969 C 28.519531 7.355469 25.394531 5.925781 21.921875 7.472656 L 21.558594 7.636719 L 21.578125 7.542969 C 21.699219 6.992188 21.761719 5.742188 21.699219 5.164062 C 21.496094 3.296875 20.664062 1.964844 19.003906 0.855469 C 18.480469 0.503906 18.457031 0.5 18.214844 0.632812\"/>\n",
              "</g>\n",
              "      </svg>\n",
              "    "
            ]
          },
          "metadata": {}
        }
      ]
    },
    {
      "cell_type": "markdown",
      "source": [
        "**SOLUÇÃO CHATGPT:**"
      ],
      "metadata": {
        "id": "3_Up6P2EO5Ir"
      }
    },
    {
      "cell_type": "code",
      "source": [
        "import math\n",
        "import ColabTurtle.Turtle as turtle\n",
        "\n",
        "# Função para desenhar um polígono regular\n",
        "def functionPolygon(t, num_lados, comprimento_lado):\n",
        "    for _ in range(num_lados):\n",
        "        t.forward(comprimento_lado)\n",
        "        t.left(360 / num_lados)\n",
        "\n",
        "# Função para desenhar um arco\n",
        "def functionArc(t, r, angle):\n",
        "    n = 100  # Número de segmentos que compõem o arco\n",
        "    rotacao = angle / n  # Ângulo de rotação por segmento\n",
        "\n",
        "    # Comprimento do arco correspondente ao ângulo dado\n",
        "    comprimento_arco = 2 * math.pi * r * (angle / 360)\n",
        "    # Comprimento de cada segmento do arco\n",
        "    side_length = comprimento_arco / n\n",
        "\n",
        "    # Desenhar o arco usando a função functionPolygon\n",
        "    for _ in range(n):\n",
        "        t.forward(side_length)\n",
        "        t.left(rotacao)\n",
        "\n",
        "# Inicialização da tartaruga\n",
        "turtle.initializeTurtle()\n",
        "t = turtle\n",
        "\n",
        "# Parâmetros\n",
        "r = 50       # Raio do círculo\n",
        "angle = 180  # Ângulo do arco em graus\n",
        "\n",
        "# Desenha o arco\n",
        "functionArc(t, r, angle)"
      ],
      "metadata": {
        "colab": {
          "base_uri": "https://localhost:8080/",
          "height": 521
        },
        "id": "Q1-6HkuHDlBo",
        "outputId": "d757cbb6-5f2f-45e3-fc0b-7771dcbed50b"
      },
      "execution_count": null,
      "outputs": [
        {
          "output_type": "display_data",
          "data": {
            "text/plain": [
              "<IPython.core.display.HTML object>"
            ],
            "text/html": [
              "\n",
              "      <svg width=\"800\" height=\"500\">\n",
              "        <rect width=\"100%\" height=\"100%\" fill=\"black\"/>\n",
              "        <line x1=\"400\" y1=\"250\" x2=\"400.0\" y2=\"248.429\" stroke-linecap=\"round\" style=\"stroke:white;stroke-width:4\"/><line x1=\"400.0\" y1=\"248.429\" x2=\"399.951\" y2=\"246.859\" stroke-linecap=\"round\" style=\"stroke:white;stroke-width:4\"/><line x1=\"399.951\" y1=\"246.859\" x2=\"399.852\" y2=\"245.291\" stroke-linecap=\"round\" style=\"stroke:white;stroke-width:4\"/><line x1=\"399.852\" y1=\"245.291\" x2=\"399.704\" y2=\"243.727\" stroke-linecap=\"round\" style=\"stroke:white;stroke-width:4\"/><line x1=\"399.704\" y1=\"243.727\" x2=\"399.507\" y2=\"242.169\" stroke-linecap=\"round\" style=\"stroke:white;stroke-width:4\"/><line x1=\"399.507\" y1=\"242.169\" x2=\"399.261\" y2=\"240.618\" stroke-linecap=\"round\" style=\"stroke:white;stroke-width:4\"/><line x1=\"399.261\" y1=\"240.618\" x2=\"398.967\" y2=\"239.075\" stroke-linecap=\"round\" style=\"stroke:white;stroke-width:4\"/><line x1=\"398.967\" y1=\"239.075\" x2=\"398.624\" y2=\"237.542\" stroke-linecap=\"round\" style=\"stroke:white;stroke-width:4\"/><line x1=\"398.624\" y1=\"237.542\" x2=\"398.233\" y2=\"236.021\" stroke-linecap=\"round\" style=\"stroke:white;stroke-width:4\"/><line x1=\"398.233\" y1=\"236.021\" x2=\"397.795\" y2=\"234.513\" stroke-linecap=\"round\" style=\"stroke:white;stroke-width:4\"/><line x1=\"397.795\" y1=\"234.513\" x2=\"397.31\" y2=\"233.019\" stroke-linecap=\"round\" style=\"stroke:white;stroke-width:4\"/><line x1=\"397.31\" y1=\"233.019\" x2=\"396.778\" y2=\"231.541\" stroke-linecap=\"round\" style=\"stroke:white;stroke-width:4\"/><line x1=\"396.778\" y1=\"231.541\" x2=\"396.2\" y2=\"230.081\" stroke-linecap=\"round\" style=\"stroke:white;stroke-width:4\"/><line x1=\"396.2\" y1=\"230.081\" x2=\"395.576\" y2=\"228.639\" stroke-linecap=\"round\" style=\"stroke:white;stroke-width:4\"/><line x1=\"395.576\" y1=\"228.639\" x2=\"394.907\" y2=\"227.218\" stroke-linecap=\"round\" style=\"stroke:white;stroke-width:4\"/><line x1=\"394.907\" y1=\"227.218\" x2=\"394.194\" y2=\"225.818\" stroke-linecap=\"round\" style=\"stroke:white;stroke-width:4\"/><line x1=\"394.194\" y1=\"225.818\" x2=\"393.437\" y2=\"224.442\" stroke-linecap=\"round\" style=\"stroke:white;stroke-width:4\"/><line x1=\"393.437\" y1=\"224.442\" x2=\"392.637\" y2=\"223.09\" stroke-linecap=\"round\" style=\"stroke:white;stroke-width:4\"/><line x1=\"392.637\" y1=\"223.09\" x2=\"391.795\" y2=\"221.764\" stroke-linecap=\"round\" style=\"stroke:white;stroke-width:4\"/><line x1=\"391.795\" y1=\"221.764\" x2=\"390.912\" y2=\"220.465\" stroke-linecap=\"round\" style=\"stroke:white;stroke-width:4\"/><line x1=\"390.912\" y1=\"220.465\" x2=\"389.989\" y2=\"219.194\" stroke-linecap=\"round\" style=\"stroke:white;stroke-width:4\"/><line x1=\"389.989\" y1=\"219.194\" x2=\"389.026\" y2=\"217.953\" stroke-linecap=\"round\" style=\"stroke:white;stroke-width:4\"/><line x1=\"389.026\" y1=\"217.953\" x2=\"388.025\" y2=\"216.743\" stroke-linecap=\"round\" style=\"stroke:white;stroke-width:4\"/><line x1=\"388.025\" y1=\"216.743\" x2=\"386.986\" y2=\"215.565\" stroke-linecap=\"round\" style=\"stroke:white;stroke-width:4\"/><line x1=\"386.986\" y1=\"215.565\" x2=\"385.911\" y2=\"214.42\" stroke-linecap=\"round\" style=\"stroke:white;stroke-width:4\"/><line x1=\"385.911\" y1=\"214.42\" x2=\"384.8\" y2=\"213.309\" stroke-linecap=\"round\" style=\"stroke:white;stroke-width:4\"/><line x1=\"384.8\" y1=\"213.309\" x2=\"383.655\" y2=\"212.234\" stroke-linecap=\"round\" style=\"stroke:white;stroke-width:4\"/><line x1=\"383.655\" y1=\"212.234\" x2=\"382.477\" y2=\"211.195\" stroke-linecap=\"round\" style=\"stroke:white;stroke-width:4\"/><line x1=\"382.477\" y1=\"211.195\" x2=\"381.267\" y2=\"210.194\" stroke-linecap=\"round\" style=\"stroke:white;stroke-width:4\"/><line x1=\"381.267\" y1=\"210.194\" x2=\"380.026\" y2=\"209.231\" stroke-linecap=\"round\" style=\"stroke:white;stroke-width:4\"/><line x1=\"380.026\" y1=\"209.231\" x2=\"378.755\" y2=\"208.308\" stroke-linecap=\"round\" style=\"stroke:white;stroke-width:4\"/><line x1=\"378.755\" y1=\"208.308\" x2=\"377.456\" y2=\"207.425\" stroke-linecap=\"round\" style=\"stroke:white;stroke-width:4\"/><line x1=\"377.456\" y1=\"207.425\" x2=\"376.13\" y2=\"206.583\" stroke-linecap=\"round\" style=\"stroke:white;stroke-width:4\"/><line x1=\"376.13\" y1=\"206.583\" x2=\"374.778\" y2=\"205.783\" stroke-linecap=\"round\" style=\"stroke:white;stroke-width:4\"/><line x1=\"374.778\" y1=\"205.783\" x2=\"373.402\" y2=\"205.026\" stroke-linecap=\"round\" style=\"stroke:white;stroke-width:4\"/><line x1=\"373.402\" y1=\"205.026\" x2=\"372.002\" y2=\"204.313\" stroke-linecap=\"round\" style=\"stroke:white;stroke-width:4\"/><line x1=\"372.002\" y1=\"204.313\" x2=\"370.581\" y2=\"203.644\" stroke-linecap=\"round\" style=\"stroke:white;stroke-width:4\"/><line x1=\"370.581\" y1=\"203.644\" x2=\"369.139\" y2=\"203.02\" stroke-linecap=\"round\" style=\"stroke:white;stroke-width:4\"/><line x1=\"369.139\" y1=\"203.02\" x2=\"367.679\" y2=\"202.442\" stroke-linecap=\"round\" style=\"stroke:white;stroke-width:4\"/><line x1=\"367.679\" y1=\"202.442\" x2=\"366.201\" y2=\"201.91\" stroke-linecap=\"round\" style=\"stroke:white;stroke-width:4\"/><line x1=\"366.201\" y1=\"201.91\" x2=\"364.707\" y2=\"201.425\" stroke-linecap=\"round\" style=\"stroke:white;stroke-width:4\"/><line x1=\"364.707\" y1=\"201.425\" x2=\"363.199\" y2=\"200.987\" stroke-linecap=\"round\" style=\"stroke:white;stroke-width:4\"/><line x1=\"363.199\" y1=\"200.987\" x2=\"361.678\" y2=\"200.596\" stroke-linecap=\"round\" style=\"stroke:white;stroke-width:4\"/><line x1=\"361.678\" y1=\"200.596\" x2=\"360.145\" y2=\"200.253\" stroke-linecap=\"round\" style=\"stroke:white;stroke-width:4\"/><line x1=\"360.145\" y1=\"200.253\" x2=\"358.602\" y2=\"199.959\" stroke-linecap=\"round\" style=\"stroke:white;stroke-width:4\"/><line x1=\"358.602\" y1=\"199.959\" x2=\"357.051\" y2=\"199.713\" stroke-linecap=\"round\" style=\"stroke:white;stroke-width:4\"/><line x1=\"357.051\" y1=\"199.713\" x2=\"355.493\" y2=\"199.516\" stroke-linecap=\"round\" style=\"stroke:white;stroke-width:4\"/><line x1=\"355.493\" y1=\"199.516\" x2=\"353.929\" y2=\"199.368\" stroke-linecap=\"round\" style=\"stroke:white;stroke-width:4\"/><line x1=\"353.929\" y1=\"199.368\" x2=\"352.361\" y2=\"199.269\" stroke-linecap=\"round\" style=\"stroke:white;stroke-width:4\"/><line x1=\"352.361\" y1=\"199.269\" x2=\"350.791\" y2=\"199.22\" stroke-linecap=\"round\" style=\"stroke:white;stroke-width:4\"/><line x1=\"350.791\" y1=\"199.22\" x2=\"349.22\" y2=\"199.22\" stroke-linecap=\"round\" style=\"stroke:white;stroke-width:4\"/><line x1=\"349.22\" y1=\"199.22\" x2=\"347.65\" y2=\"199.269\" stroke-linecap=\"round\" style=\"stroke:white;stroke-width:4\"/><line x1=\"347.65\" y1=\"199.269\" x2=\"346.082\" y2=\"199.368\" stroke-linecap=\"round\" style=\"stroke:white;stroke-width:4\"/><line x1=\"346.082\" y1=\"199.368\" x2=\"344.518\" y2=\"199.516\" stroke-linecap=\"round\" style=\"stroke:white;stroke-width:4\"/><line x1=\"344.518\" y1=\"199.516\" x2=\"342.96\" y2=\"199.713\" stroke-linecap=\"round\" style=\"stroke:white;stroke-width:4\"/><line x1=\"342.96\" y1=\"199.713\" x2=\"341.409\" y2=\"199.959\" stroke-linecap=\"round\" style=\"stroke:white;stroke-width:4\"/><line x1=\"341.409\" y1=\"199.959\" x2=\"339.866\" y2=\"200.253\" stroke-linecap=\"round\" style=\"stroke:white;stroke-width:4\"/><line x1=\"339.866\" y1=\"200.253\" x2=\"338.333\" y2=\"200.596\" stroke-linecap=\"round\" style=\"stroke:white;stroke-width:4\"/><line x1=\"338.333\" y1=\"200.596\" x2=\"336.812\" y2=\"200.987\" stroke-linecap=\"round\" style=\"stroke:white;stroke-width:4\"/><line x1=\"336.812\" y1=\"200.987\" x2=\"335.304\" y2=\"201.425\" stroke-linecap=\"round\" style=\"stroke:white;stroke-width:4\"/><line x1=\"335.304\" y1=\"201.425\" x2=\"333.81\" y2=\"201.91\" stroke-linecap=\"round\" style=\"stroke:white;stroke-width:4\"/><line x1=\"333.81\" y1=\"201.91\" x2=\"332.332\" y2=\"202.442\" stroke-linecap=\"round\" style=\"stroke:white;stroke-width:4\"/><line x1=\"332.332\" y1=\"202.442\" x2=\"330.872\" y2=\"203.02\" stroke-linecap=\"round\" style=\"stroke:white;stroke-width:4\"/><line x1=\"330.872\" y1=\"203.02\" x2=\"329.43\" y2=\"203.644\" stroke-linecap=\"round\" style=\"stroke:white;stroke-width:4\"/><line x1=\"329.43\" y1=\"203.644\" x2=\"328.009\" y2=\"204.313\" stroke-linecap=\"round\" style=\"stroke:white;stroke-width:4\"/><line x1=\"328.009\" y1=\"204.313\" x2=\"326.609\" y2=\"205.026\" stroke-linecap=\"round\" style=\"stroke:white;stroke-width:4\"/><line x1=\"326.609\" y1=\"205.026\" x2=\"325.233\" y2=\"205.783\" stroke-linecap=\"round\" style=\"stroke:white;stroke-width:4\"/><line x1=\"325.233\" y1=\"205.783\" x2=\"323.881\" y2=\"206.583\" stroke-linecap=\"round\" style=\"stroke:white;stroke-width:4\"/><line x1=\"323.881\" y1=\"206.583\" x2=\"322.555\" y2=\"207.425\" stroke-linecap=\"round\" style=\"stroke:white;stroke-width:4\"/><line x1=\"322.555\" y1=\"207.425\" x2=\"321.256\" y2=\"208.308\" stroke-linecap=\"round\" style=\"stroke:white;stroke-width:4\"/><line x1=\"321.256\" y1=\"208.308\" x2=\"319.985\" y2=\"209.231\" stroke-linecap=\"round\" style=\"stroke:white;stroke-width:4\"/><line x1=\"319.985\" y1=\"209.231\" x2=\"318.744\" y2=\"210.194\" stroke-linecap=\"round\" style=\"stroke:white;stroke-width:4\"/><line x1=\"318.744\" y1=\"210.194\" x2=\"317.534\" y2=\"211.195\" stroke-linecap=\"round\" style=\"stroke:white;stroke-width:4\"/><line x1=\"317.534\" y1=\"211.195\" x2=\"316.356\" y2=\"212.234\" stroke-linecap=\"round\" style=\"stroke:white;stroke-width:4\"/><line x1=\"316.356\" y1=\"212.234\" x2=\"315.211\" y2=\"213.309\" stroke-linecap=\"round\" style=\"stroke:white;stroke-width:4\"/><line x1=\"315.211\" y1=\"213.309\" x2=\"314.1\" y2=\"214.42\" stroke-linecap=\"round\" style=\"stroke:white;stroke-width:4\"/><line x1=\"314.1\" y1=\"214.42\" x2=\"313.025\" y2=\"215.565\" stroke-linecap=\"round\" style=\"stroke:white;stroke-width:4\"/><line x1=\"313.025\" y1=\"215.565\" x2=\"311.986\" y2=\"216.743\" stroke-linecap=\"round\" style=\"stroke:white;stroke-width:4\"/><line x1=\"311.986\" y1=\"216.743\" x2=\"310.985\" y2=\"217.953\" stroke-linecap=\"round\" style=\"stroke:white;stroke-width:4\"/><line x1=\"310.985\" y1=\"217.953\" x2=\"310.022\" y2=\"219.194\" stroke-linecap=\"round\" style=\"stroke:white;stroke-width:4\"/><line x1=\"310.022\" y1=\"219.194\" x2=\"309.099\" y2=\"220.465\" stroke-linecap=\"round\" style=\"stroke:white;stroke-width:4\"/><line x1=\"309.099\" y1=\"220.465\" x2=\"308.216\" y2=\"221.764\" stroke-linecap=\"round\" style=\"stroke:white;stroke-width:4\"/><line x1=\"308.216\" y1=\"221.764\" x2=\"307.374\" y2=\"223.09\" stroke-linecap=\"round\" style=\"stroke:white;stroke-width:4\"/><line x1=\"307.374\" y1=\"223.09\" x2=\"306.574\" y2=\"224.442\" stroke-linecap=\"round\" style=\"stroke:white;stroke-width:4\"/><line x1=\"306.574\" y1=\"224.442\" x2=\"305.817\" y2=\"225.818\" stroke-linecap=\"round\" style=\"stroke:white;stroke-width:4\"/><line x1=\"305.817\" y1=\"225.818\" x2=\"305.104\" y2=\"227.218\" stroke-linecap=\"round\" style=\"stroke:white;stroke-width:4\"/><line x1=\"305.104\" y1=\"227.218\" x2=\"304.435\" y2=\"228.639\" stroke-linecap=\"round\" style=\"stroke:white;stroke-width:4\"/><line x1=\"304.435\" y1=\"228.639\" x2=\"303.811\" y2=\"230.081\" stroke-linecap=\"round\" style=\"stroke:white;stroke-width:4\"/><line x1=\"303.811\" y1=\"230.081\" x2=\"303.233\" y2=\"231.541\" stroke-linecap=\"round\" style=\"stroke:white;stroke-width:4\"/><line x1=\"303.233\" y1=\"231.541\" x2=\"302.701\" y2=\"233.019\" stroke-linecap=\"round\" style=\"stroke:white;stroke-width:4\"/><line x1=\"302.701\" y1=\"233.019\" x2=\"302.216\" y2=\"234.513\" stroke-linecap=\"round\" style=\"stroke:white;stroke-width:4\"/><line x1=\"302.216\" y1=\"234.513\" x2=\"301.778\" y2=\"236.021\" stroke-linecap=\"round\" style=\"stroke:white;stroke-width:4\"/><line x1=\"301.778\" y1=\"236.021\" x2=\"301.387\" y2=\"237.542\" stroke-linecap=\"round\" style=\"stroke:white;stroke-width:4\"/><line x1=\"301.387\" y1=\"237.542\" x2=\"301.044\" y2=\"239.075\" stroke-linecap=\"round\" style=\"stroke:white;stroke-width:4\"/><line x1=\"301.044\" y1=\"239.075\" x2=\"300.75\" y2=\"240.618\" stroke-linecap=\"round\" style=\"stroke:white;stroke-width:4\"/><line x1=\"300.75\" y1=\"240.618\" x2=\"300.504\" y2=\"242.169\" stroke-linecap=\"round\" style=\"stroke:white;stroke-width:4\"/><line x1=\"300.504\" y1=\"242.169\" x2=\"300.307\" y2=\"243.727\" stroke-linecap=\"round\" style=\"stroke:white;stroke-width:4\"/><line x1=\"300.307\" y1=\"243.727\" x2=\"300.159\" y2=\"245.291\" stroke-linecap=\"round\" style=\"stroke:white;stroke-width:4\"/><line x1=\"300.159\" y1=\"245.291\" x2=\"300.06\" y2=\"246.859\" stroke-linecap=\"round\" style=\"stroke:white;stroke-width:4\"/><line x1=\"300.06\" y1=\"246.859\" x2=\"300.011\" y2=\"248.429\" stroke-linecap=\"round\" style=\"stroke:white;stroke-width:4\"/>\n",
              "        <g visibility=visible transform=\"rotate(179.99999999999918,300.011,248.429) translate(282.011, 230.429)\">\n",
              "<path style=\" stroke:none;fill-rule:evenodd;fill:white;fill-opacity:1;\" d=\"M 18.214844 0.632812 C 16.109375 1.800781 15.011719 4.074219 15.074219 7.132812 L 15.085938 7.652344 L 14.785156 7.496094 C 13.476562 6.824219 11.957031 6.671875 10.40625 7.066406 C 8.46875 7.550781 6.515625 9.15625 4.394531 11.992188 C 3.0625 13.777344 2.679688 14.636719 3.042969 15.027344 L 3.15625 15.152344 L 3.519531 15.152344 C 4.238281 15.152344 4.828125 14.886719 8.1875 13.039062 C 9.386719 12.378906 10.371094 11.839844 10.378906 11.839844 C 10.386719 11.839844 10.355469 11.929688 10.304688 12.035156 C 9.832031 13.09375 9.257812 14.820312 8.96875 16.078125 C 7.914062 20.652344 8.617188 24.53125 11.070312 27.660156 C 11.351562 28.015625 11.363281 27.914062 10.972656 28.382812 C 8.925781 30.84375 7.945312 33.28125 8.238281 35.1875 C 8.289062 35.527344 8.28125 35.523438 8.917969 35.523438 C 10.941406 35.523438 13.074219 34.207031 15.136719 31.6875 C 15.359375 31.417969 15.328125 31.425781 15.5625 31.574219 C 16.292969 32.042969 18.023438 32.964844 18.175781 32.964844 C 18.335938 32.964844 19.941406 32.210938 20.828125 31.71875 C 20.996094 31.625 21.136719 31.554688 21.136719 31.558594 C 21.203125 31.664062 21.898438 32.414062 22.222656 32.730469 C 23.835938 34.300781 25.5625 35.132812 27.582031 35.300781 C 27.90625 35.328125 27.9375 35.308594 28.007812 34.984375 C 28.382812 33.242188 27.625 30.925781 25.863281 28.425781 L 25.542969 27.96875 L 25.699219 27.785156 C 28.945312 23.960938 29.132812 18.699219 26.257812 11.96875 L 26.207031 11.84375 L 27.945312 12.703125 C 31.53125 14.476562 32.316406 14.800781 33.03125 14.800781 C 33.976562 14.800781 33.78125 13.9375 32.472656 12.292969 C 28.519531 7.355469 25.394531 5.925781 21.921875 7.472656 L 21.558594 7.636719 L 21.578125 7.542969 C 21.699219 6.992188 21.761719 5.742188 21.699219 5.164062 C 21.496094 3.296875 20.664062 1.964844 19.003906 0.855469 C 18.480469 0.503906 18.457031 0.5 18.214844 0.632812\"/>\n",
              "</g>\n",
              "      </svg>\n",
              "    "
            ]
          },
          "metadata": {}
        }
      ]
    },
    {
      "cell_type": "markdown",
      "source": [
        "<h1> <b> SOLUÇÕES </b> </h1>"
      ],
      "metadata": {
        "id": "N72jAnCfXgaz"
      }
    },
    {
      "cell_type": "markdown",
      "source": [
        "<h1>4.4 - Encapsulamento</h1>"
      ],
      "metadata": {
        "id": "OSl9iCbjNMhr"
      }
    },
    {
      "cell_type": "markdown",
      "source": [
        "Incluir uma parte do código em uma função chama-se encapsulamento. Um dos benefícios do encapsulamento é que ele atribui um nome ao código, o que serve como uma espécie de documentação. Outra vantagem é que se você reutilizar o código, é mais conciso chamar uma função duas vezes que copiar e colar o corpo."
      ],
      "metadata": {
        "id": "uHnMuxmAVn0d"
      }
    },
    {
      "cell_type": "markdown",
      "source": [
        "Quando você cria uma função, você dá um nome a esse pedaço de código. Isso é como dar um título para um parágrafo em um livro. Facilita a leitura e entendimento do que aquele pedaço de código faz."
      ],
      "metadata": {
        "id": "vhP_CbdaY_RX"
      }
    },
    {
      "cell_type": "markdown",
      "source": [
        "**Isso é o encapsulamento: tornar o código mais organizado, legível e reutilizável.**"
      ],
      "metadata": {
        "id": "PxaWE47LZRFM"
      }
    },
    {
      "cell_type": "code",
      "source": [
        "turtle.initializeTurtle()\n",
        "\n",
        "def square(t):\n",
        "  for i in range(4):\n",
        "    t.fd(100)\n",
        "    t.lt(90)\n",
        "\n",
        "bob = turtle\n",
        "square(bob)"
      ],
      "metadata": {
        "colab": {
          "base_uri": "https://localhost:8080/",
          "height": 521
        },
        "id": "1UL74__EV402",
        "outputId": "bc890739-0be6-404e-f09b-aa12bb754ff1"
      },
      "execution_count": null,
      "outputs": [
        {
          "output_type": "display_data",
          "data": {
            "text/plain": [
              "<IPython.core.display.HTML object>"
            ],
            "text/html": [
              "\n",
              "      <svg width=\"800\" height=\"500\">\n",
              "        <rect width=\"100%\" height=\"100%\" fill=\"black\"/>\n",
              "        <line x1=\"400\" y1=\"250\" x2=\"400.0\" y2=\"150.0\" stroke-linecap=\"round\" style=\"stroke:white;stroke-width:4\"/><line x1=\"400.0\" y1=\"150.0\" x2=\"300.0\" y2=\"150.0\" stroke-linecap=\"round\" style=\"stroke:white;stroke-width:4\"/><line x1=\"300.0\" y1=\"150.0\" x2=\"300.0\" y2=\"250.0\" stroke-linecap=\"round\" style=\"stroke:white;stroke-width:4\"/><line x1=\"300.0\" y1=\"250.0\" x2=\"400.0\" y2=\"250.0\" stroke-linecap=\"round\" style=\"stroke:white;stroke-width:4\"/>\n",
              "        <g visibility=visible transform=\"rotate(360,400.0,250.0) translate(382.0, 232.0)\">\n",
              "<path style=\" stroke:none;fill-rule:evenodd;fill:white;fill-opacity:1;\" d=\"M 18.214844 0.632812 C 16.109375 1.800781 15.011719 4.074219 15.074219 7.132812 L 15.085938 7.652344 L 14.785156 7.496094 C 13.476562 6.824219 11.957031 6.671875 10.40625 7.066406 C 8.46875 7.550781 6.515625 9.15625 4.394531 11.992188 C 3.0625 13.777344 2.679688 14.636719 3.042969 15.027344 L 3.15625 15.152344 L 3.519531 15.152344 C 4.238281 15.152344 4.828125 14.886719 8.1875 13.039062 C 9.386719 12.378906 10.371094 11.839844 10.378906 11.839844 C 10.386719 11.839844 10.355469 11.929688 10.304688 12.035156 C 9.832031 13.09375 9.257812 14.820312 8.96875 16.078125 C 7.914062 20.652344 8.617188 24.53125 11.070312 27.660156 C 11.351562 28.015625 11.363281 27.914062 10.972656 28.382812 C 8.925781 30.84375 7.945312 33.28125 8.238281 35.1875 C 8.289062 35.527344 8.28125 35.523438 8.917969 35.523438 C 10.941406 35.523438 13.074219 34.207031 15.136719 31.6875 C 15.359375 31.417969 15.328125 31.425781 15.5625 31.574219 C 16.292969 32.042969 18.023438 32.964844 18.175781 32.964844 C 18.335938 32.964844 19.941406 32.210938 20.828125 31.71875 C 20.996094 31.625 21.136719 31.554688 21.136719 31.558594 C 21.203125 31.664062 21.898438 32.414062 22.222656 32.730469 C 23.835938 34.300781 25.5625 35.132812 27.582031 35.300781 C 27.90625 35.328125 27.9375 35.308594 28.007812 34.984375 C 28.382812 33.242188 27.625 30.925781 25.863281 28.425781 L 25.542969 27.96875 L 25.699219 27.785156 C 28.945312 23.960938 29.132812 18.699219 26.257812 11.96875 L 26.207031 11.84375 L 27.945312 12.703125 C 31.53125 14.476562 32.316406 14.800781 33.03125 14.800781 C 33.976562 14.800781 33.78125 13.9375 32.472656 12.292969 C 28.519531 7.355469 25.394531 5.925781 21.921875 7.472656 L 21.558594 7.636719 L 21.578125 7.542969 C 21.699219 6.992188 21.761719 5.742188 21.699219 5.164062 C 21.496094 3.296875 20.664062 1.964844 19.003906 0.855469 C 18.480469 0.503906 18.457031 0.5 18.214844 0.632812\"/>\n",
              "</g>\n",
              "      </svg>\n",
              "    "
            ]
          },
          "metadata": {}
        }
      ]
    },
    {
      "cell_type": "markdown",
      "source": [
        "A ideia é que t pode ser qualquer turtle, não apenas bob, então você pode criar um segundo turtle e passá-lo como argumento ao square."
      ],
      "metadata": {
        "id": "79dokQ6MXRNl"
      }
    },
    {
      "cell_type": "code",
      "source": [
        "alice = turtle\n",
        "square(alice)"
      ],
      "metadata": {
        "colab": {
          "base_uri": "https://localhost:8080/",
          "height": 521
        },
        "id": "o4tCML53VtNN",
        "outputId": "90756cfc-12a5-4c1c-8748-640056bf92da"
      },
      "execution_count": null,
      "outputs": [
        {
          "output_type": "display_data",
          "data": {
            "text/plain": [
              "<IPython.core.display.HTML object>"
            ],
            "text/html": [
              "\n",
              "      <svg width=\"800\" height=\"500\">\n",
              "        <rect width=\"100%\" height=\"100%\" fill=\"black\"/>\n",
              "        <line x1=\"400\" y1=\"250\" x2=\"400.0\" y2=\"150.0\" stroke-linecap=\"round\" style=\"stroke:white;stroke-width:4\"/><line x1=\"400.0\" y1=\"150.0\" x2=\"300.0\" y2=\"150.0\" stroke-linecap=\"round\" style=\"stroke:white;stroke-width:4\"/><line x1=\"300.0\" y1=\"150.0\" x2=\"300.0\" y2=\"250.0\" stroke-linecap=\"round\" style=\"stroke:white;stroke-width:4\"/><line x1=\"300.0\" y1=\"250.0\" x2=\"400.0\" y2=\"250.0\" stroke-linecap=\"round\" style=\"stroke:white;stroke-width:4\"/><line x1=\"400.0\" y1=\"250.0\" x2=\"400.0\" y2=\"150.0\" stroke-linecap=\"round\" style=\"stroke:white;stroke-width:4\"/><line x1=\"400.0\" y1=\"150.0\" x2=\"300.0\" y2=\"150.0\" stroke-linecap=\"round\" style=\"stroke:white;stroke-width:4\"/><line x1=\"300.0\" y1=\"150.0\" x2=\"300.0\" y2=\"250.0\" stroke-linecap=\"round\" style=\"stroke:white;stroke-width:4\"/><line x1=\"300.0\" y1=\"250.0\" x2=\"400.0\" y2=\"250.0\" stroke-linecap=\"round\" style=\"stroke:white;stroke-width:4\"/>\n",
              "        <g visibility=visible transform=\"rotate(360,400.0,250.0) translate(382.0, 232.0)\">\n",
              "<path style=\" stroke:none;fill-rule:evenodd;fill:white;fill-opacity:1;\" d=\"M 18.214844 0.632812 C 16.109375 1.800781 15.011719 4.074219 15.074219 7.132812 L 15.085938 7.652344 L 14.785156 7.496094 C 13.476562 6.824219 11.957031 6.671875 10.40625 7.066406 C 8.46875 7.550781 6.515625 9.15625 4.394531 11.992188 C 3.0625 13.777344 2.679688 14.636719 3.042969 15.027344 L 3.15625 15.152344 L 3.519531 15.152344 C 4.238281 15.152344 4.828125 14.886719 8.1875 13.039062 C 9.386719 12.378906 10.371094 11.839844 10.378906 11.839844 C 10.386719 11.839844 10.355469 11.929688 10.304688 12.035156 C 9.832031 13.09375 9.257812 14.820312 8.96875 16.078125 C 7.914062 20.652344 8.617188 24.53125 11.070312 27.660156 C 11.351562 28.015625 11.363281 27.914062 10.972656 28.382812 C 8.925781 30.84375 7.945312 33.28125 8.238281 35.1875 C 8.289062 35.527344 8.28125 35.523438 8.917969 35.523438 C 10.941406 35.523438 13.074219 34.207031 15.136719 31.6875 C 15.359375 31.417969 15.328125 31.425781 15.5625 31.574219 C 16.292969 32.042969 18.023438 32.964844 18.175781 32.964844 C 18.335938 32.964844 19.941406 32.210938 20.828125 31.71875 C 20.996094 31.625 21.136719 31.554688 21.136719 31.558594 C 21.203125 31.664062 21.898438 32.414062 22.222656 32.730469 C 23.835938 34.300781 25.5625 35.132812 27.582031 35.300781 C 27.90625 35.328125 27.9375 35.308594 28.007812 34.984375 C 28.382812 33.242188 27.625 30.925781 25.863281 28.425781 L 25.542969 27.96875 L 25.699219 27.785156 C 28.945312 23.960938 29.132812 18.699219 26.257812 11.96875 L 26.207031 11.84375 L 27.945312 12.703125 C 31.53125 14.476562 32.316406 14.800781 33.03125 14.800781 C 33.976562 14.800781 33.78125 13.9375 32.472656 12.292969 C 28.519531 7.355469 25.394531 5.925781 21.921875 7.472656 L 21.558594 7.636719 L 21.578125 7.542969 C 21.699219 6.992188 21.761719 5.742188 21.699219 5.164062 C 21.496094 3.296875 20.664062 1.964844 19.003906 0.855469 C 18.480469 0.503906 18.457031 0.5 18.214844 0.632812\"/>\n",
              "</g>\n",
              "      </svg>\n",
              "    "
            ]
          },
          "metadata": {}
        }
      ]
    },
    {
      "cell_type": "markdown",
      "source": [
        "<h1> 4.5 - Generalização </h1>"
      ],
      "metadata": {
        "id": "j8q1T1ufXYrq"
      }
    },
    {
      "cell_type": "markdown",
      "source": [
        "Generalização é quando você adiciona parâmetros a uma função para que ela possa ser usada em mais situações diferentes.\n",
        "\n",
        "- Uma função que aceita parâmetros pode fazer mais coisas. Ela não está limitada a uma única tarefa específica.\n",
        "\n",
        "- Com parâmetros, você pode usar a mesma função para diferentes entradas, tornando seu código mais reutilizável e versátil.\n",
        "\n",
        "**Isso é a generalização: tornar a função mais flexível e útil em mais situações diferentes.**"
      ],
      "metadata": {
        "id": "TI7r9G5IgAJ4"
      }
    },
    {
      "cell_type": "markdown",
      "source": [
        "O próximo passo é acrescentar um parâmetro length ao square:"
      ],
      "metadata": {
        "id": "hM6AjLZoXpUb"
      }
    },
    {
      "cell_type": "code",
      "source": [
        "def square(t, length):\n",
        "  for i in range(4):\n",
        "    t.fd(length)\n",
        "    t.lt(90)"
      ],
      "metadata": {
        "id": "alqPnL2OXbG3"
      },
      "execution_count": null,
      "outputs": []
    },
    {
      "cell_type": "code",
      "source": [
        "turtle.initializeTurtle()\n",
        "square(bob, 100)"
      ],
      "metadata": {
        "colab": {
          "base_uri": "https://localhost:8080/",
          "height": 521
        },
        "id": "q2z-eD4OXrVo",
        "outputId": "bb00ed74-1f03-4039-f61a-f9c3ef88572c"
      },
      "execution_count": null,
      "outputs": [
        {
          "output_type": "display_data",
          "data": {
            "text/plain": [
              "<IPython.core.display.HTML object>"
            ],
            "text/html": [
              "\n",
              "      <svg width=\"800\" height=\"500\">\n",
              "        <rect width=\"100%\" height=\"100%\" fill=\"black\"/>\n",
              "        <line x1=\"400\" y1=\"250\" x2=\"400.0\" y2=\"150.0\" stroke-linecap=\"round\" style=\"stroke:white;stroke-width:4\"/><line x1=\"400.0\" y1=\"150.0\" x2=\"300.0\" y2=\"150.0\" stroke-linecap=\"round\" style=\"stroke:white;stroke-width:4\"/><line x1=\"300.0\" y1=\"150.0\" x2=\"300.0\" y2=\"250.0\" stroke-linecap=\"round\" style=\"stroke:white;stroke-width:4\"/><line x1=\"300.0\" y1=\"250.0\" x2=\"400.0\" y2=\"250.0\" stroke-linecap=\"round\" style=\"stroke:white;stroke-width:4\"/>\n",
              "        <g visibility=visible transform=\"rotate(360,400.0,250.0) translate(382.0, 232.0)\">\n",
              "<path style=\" stroke:none;fill-rule:evenodd;fill:white;fill-opacity:1;\" d=\"M 18.214844 0.632812 C 16.109375 1.800781 15.011719 4.074219 15.074219 7.132812 L 15.085938 7.652344 L 14.785156 7.496094 C 13.476562 6.824219 11.957031 6.671875 10.40625 7.066406 C 8.46875 7.550781 6.515625 9.15625 4.394531 11.992188 C 3.0625 13.777344 2.679688 14.636719 3.042969 15.027344 L 3.15625 15.152344 L 3.519531 15.152344 C 4.238281 15.152344 4.828125 14.886719 8.1875 13.039062 C 9.386719 12.378906 10.371094 11.839844 10.378906 11.839844 C 10.386719 11.839844 10.355469 11.929688 10.304688 12.035156 C 9.832031 13.09375 9.257812 14.820312 8.96875 16.078125 C 7.914062 20.652344 8.617188 24.53125 11.070312 27.660156 C 11.351562 28.015625 11.363281 27.914062 10.972656 28.382812 C 8.925781 30.84375 7.945312 33.28125 8.238281 35.1875 C 8.289062 35.527344 8.28125 35.523438 8.917969 35.523438 C 10.941406 35.523438 13.074219 34.207031 15.136719 31.6875 C 15.359375 31.417969 15.328125 31.425781 15.5625 31.574219 C 16.292969 32.042969 18.023438 32.964844 18.175781 32.964844 C 18.335938 32.964844 19.941406 32.210938 20.828125 31.71875 C 20.996094 31.625 21.136719 31.554688 21.136719 31.558594 C 21.203125 31.664062 21.898438 32.414062 22.222656 32.730469 C 23.835938 34.300781 25.5625 35.132812 27.582031 35.300781 C 27.90625 35.328125 27.9375 35.308594 28.007812 34.984375 C 28.382812 33.242188 27.625 30.925781 25.863281 28.425781 L 25.542969 27.96875 L 25.699219 27.785156 C 28.945312 23.960938 29.132812 18.699219 26.257812 11.96875 L 26.207031 11.84375 L 27.945312 12.703125 C 31.53125 14.476562 32.316406 14.800781 33.03125 14.800781 C 33.976562 14.800781 33.78125 13.9375 32.472656 12.292969 C 28.519531 7.355469 25.394531 5.925781 21.921875 7.472656 L 21.558594 7.636719 L 21.578125 7.542969 C 21.699219 6.992188 21.761719 5.742188 21.699219 5.164062 C 21.496094 3.296875 20.664062 1.964844 19.003906 0.855469 C 18.480469 0.503906 18.457031 0.5 18.214844 0.632812\"/>\n",
              "</g>\n",
              "      </svg>\n",
              "    "
            ]
          },
          "metadata": {}
        }
      ]
    },
    {
      "cell_type": "markdown",
      "source": [
        "O próximo passo também é uma generalização. Em vez de desenhar quadrados, polygon desenha polígonos regulares com qualquer número de lados."
      ],
      "metadata": {
        "id": "Tt5EBxAThWpf"
      }
    },
    {
      "cell_type": "code",
      "source": [
        "turtle.initializeTurtle()\n",
        "\n",
        "def polygon(t, n, length):\n",
        "  angle = 360/n\n",
        "\n",
        "  for i in range(n):\n",
        "    t.fd(length)\n",
        "    t.lt(angle)\n",
        "\n",
        "polygon(bob, 7, 70) # Este exemplo desenha um polígono de 7 lados, cada um de comprimento 70."
      ],
      "metadata": {
        "colab": {
          "base_uri": "https://localhost:8080/",
          "height": 521
        },
        "id": "Z0SnUgZaXuql",
        "outputId": "bf36597d-3137-4c98-9ed0-452bf21cb673"
      },
      "execution_count": null,
      "outputs": [
        {
          "output_type": "display_data",
          "data": {
            "text/plain": [
              "<IPython.core.display.HTML object>"
            ],
            "text/html": [
              "\n",
              "      <svg width=\"800\" height=\"500\">\n",
              "        <rect width=\"100%\" height=\"100%\" fill=\"black\"/>\n",
              "        <line x1=\"400\" y1=\"250\" x2=\"400.0\" y2=\"180.0\" stroke-linecap=\"round\" style=\"stroke:white;stroke-width:4\"/><line x1=\"400.0\" y1=\"180.0\" x2=\"345.272\" y2=\"136.356\" stroke-linecap=\"round\" style=\"stroke:white;stroke-width:4\"/><line x1=\"345.272\" y1=\"136.356\" x2=\"277.027\" y2=\"151.932\" stroke-linecap=\"round\" style=\"stroke:white;stroke-width:4\"/><line x1=\"277.027\" y1=\"151.932\" x2=\"246.655\" y2=\"215.0\" stroke-linecap=\"round\" style=\"stroke:white;stroke-width:4\"/><line x1=\"246.655\" y1=\"215.0\" x2=\"277.027\" y2=\"278.068\" stroke-linecap=\"round\" style=\"stroke:white;stroke-width:4\"/><line x1=\"277.027\" y1=\"278.068\" x2=\"345.272\" y2=\"293.644\" stroke-linecap=\"round\" style=\"stroke:white;stroke-width:4\"/><line x1=\"345.272\" y1=\"293.644\" x2=\"400.0\" y2=\"250.0\" stroke-linecap=\"round\" style=\"stroke:white;stroke-width:4\"/>\n",
              "        <g visibility=visible transform=\"rotate(359.99999999999994,400.0,250.0) translate(382.0, 232.0)\">\n",
              "<path style=\" stroke:none;fill-rule:evenodd;fill:white;fill-opacity:1;\" d=\"M 18.214844 0.632812 C 16.109375 1.800781 15.011719 4.074219 15.074219 7.132812 L 15.085938 7.652344 L 14.785156 7.496094 C 13.476562 6.824219 11.957031 6.671875 10.40625 7.066406 C 8.46875 7.550781 6.515625 9.15625 4.394531 11.992188 C 3.0625 13.777344 2.679688 14.636719 3.042969 15.027344 L 3.15625 15.152344 L 3.519531 15.152344 C 4.238281 15.152344 4.828125 14.886719 8.1875 13.039062 C 9.386719 12.378906 10.371094 11.839844 10.378906 11.839844 C 10.386719 11.839844 10.355469 11.929688 10.304688 12.035156 C 9.832031 13.09375 9.257812 14.820312 8.96875 16.078125 C 7.914062 20.652344 8.617188 24.53125 11.070312 27.660156 C 11.351562 28.015625 11.363281 27.914062 10.972656 28.382812 C 8.925781 30.84375 7.945312 33.28125 8.238281 35.1875 C 8.289062 35.527344 8.28125 35.523438 8.917969 35.523438 C 10.941406 35.523438 13.074219 34.207031 15.136719 31.6875 C 15.359375 31.417969 15.328125 31.425781 15.5625 31.574219 C 16.292969 32.042969 18.023438 32.964844 18.175781 32.964844 C 18.335938 32.964844 19.941406 32.210938 20.828125 31.71875 C 20.996094 31.625 21.136719 31.554688 21.136719 31.558594 C 21.203125 31.664062 21.898438 32.414062 22.222656 32.730469 C 23.835938 34.300781 25.5625 35.132812 27.582031 35.300781 C 27.90625 35.328125 27.9375 35.308594 28.007812 34.984375 C 28.382812 33.242188 27.625 30.925781 25.863281 28.425781 L 25.542969 27.96875 L 25.699219 27.785156 C 28.945312 23.960938 29.132812 18.699219 26.257812 11.96875 L 26.207031 11.84375 L 27.945312 12.703125 C 31.53125 14.476562 32.316406 14.800781 33.03125 14.800781 C 33.976562 14.800781 33.78125 13.9375 32.472656 12.292969 C 28.519531 7.355469 25.394531 5.925781 21.921875 7.472656 L 21.558594 7.636719 L 21.578125 7.542969 C 21.699219 6.992188 21.761719 5.742188 21.699219 5.164062 C 21.496094 3.296875 20.664062 1.964844 19.003906 0.855469 C 18.480469 0.503906 18.457031 0.5 18.214844 0.632812\"/>\n",
              "</g>\n",
              "      </svg>\n",
              "    "
            ]
          },
          "metadata": {}
        }
      ]
    },
    {
      "cell_type": "markdown",
      "source": [
        "Quando uma função tem vários argumentos numéricos, é fácil esquecer o que eles são ou a ordem na qual eles devem estar. Neste caso, muitas vezes é uma boa ideia incluir os nomes dos parâmetros na lista de argumentos: polygon (bob, n=7, length=70)"
      ],
      "metadata": {
        "id": "Tiv0QAVlmBk4"
      }
    },
    {
      "cell_type": "markdown",
      "source": [
        "Esses são os **argumentos de palavra-chave** porque incluem os nomes dos parâmetros como **“palavras-chave”** (para não confundir com palavras-chave do Python, tais como while e def)."
      ],
      "metadata": {
        "id": "jZ14JNUnmArW"
      }
    },
    {
      "cell_type": "markdown",
      "source": [
        "<h1> 4.6 - Projeto da interface </h1>"
      ],
      "metadata": {
        "id": "0PbclANDmPFi"
      }
    },
    {
      "cell_type": "markdown",
      "source": [
        "O próximo passo é escrever circle, que recebe um raio r, como parâmetro."
      ],
      "metadata": {
        "id": "nBYTobaHm92Z"
      }
    },
    {
      "cell_type": "markdown",
      "source": [
        "A primeira linha calcula a circunferência de um círculo com o raio r usando a fórmula 2πr. Já que usamos math.pi, temos que importar math. Por convenção, instruções import normalmente ficam no início do script.\n",
        "n é o número de segmentos de reta na nossa aproximação de um círculo, então length é o comprimento de cada segmento."
      ],
      "metadata": {
        "id": "gkL1fLIdnZPb"
      }
    },
    {
      "cell_type": "code",
      "source": [
        "import math\n",
        "\n",
        "def circle(t, r):\n",
        "  circumference = 2 * math.pi * r\n",
        "  n = 50\n",
        "  length = circumference / n\n",
        "\n",
        "  polygon(t, n, length)"
      ],
      "metadata": {
        "id": "qLMqR89UhoJA"
      },
      "execution_count": null,
      "outputs": []
    },
    {
      "cell_type": "markdown",
      "source": [
        "Generalizando a função para tomar n como um parâmetro, seria:"
      ],
      "metadata": {
        "id": "NJtifBMHo0D7"
      }
    },
    {
      "cell_type": "code",
      "source": [
        "def circle(t, r, n):\n",
        "    circumference = 2 * math.pi * r\n",
        "    length = circumference / n\n",
        "    polygon(t, n, length)"
      ],
      "metadata": {
        "id": "LiZRB6BGnDoO"
      },
      "execution_count": null,
      "outputs": []
    },
    {
      "cell_type": "markdown",
      "source": [
        "A interface de uma função é um resumo de como ela é usada: Quais são os parâmetros? O que a função faz? E qual é o valor de retorno? Uma interface é “limpa” se permitir à pessoa que a chama fazer o que quiser sem ter que lidar com detalhes desnecessários."
      ],
      "metadata": {
        "id": "c7FHax5QpHT_"
      }
    },
    {
      "cell_type": "markdown",
      "source": [
        "Neste exemplo, r pertence à interface porque especifica o círculo a ser desenhado. n é menos adequado porque pertence aos detalhes de como o círculo deve ser apresentado."
      ],
      "metadata": {
        "id": "yCXG6Xt7pORX"
      }
    },
    {
      "cell_type": "markdown",
      "source": [
        "Em vez de poluir a interface, é melhor escolher um valor adequado para n, dependendo da circumference:"
      ],
      "metadata": {
        "id": "kT_Fdeb-pSn-"
      }
    },
    {
      "cell_type": "code",
      "source": [
        "def circle(t, r):\n",
        "  circumference = 2 * math.pi * r\n",
        "  n = int(circumference / 3) + 1\n",
        "  length = circumference / n\n",
        "\n",
        "  polygon(t, n, length)"
      ],
      "metadata": {
        "id": "mAfLek_Zo12q"
      },
      "execution_count": null,
      "outputs": []
    },
    {
      "cell_type": "markdown",
      "source": [
        "- Divide a circunferência por 3 e arredonda para o próximo número inteiro.\n",
        "- Adiciona 1 para garantir que n seja pelo menos 1.\n",
        "- Isso significa que cada segmento de reta será aproximadamente 3 unidades de comprimento."
      ],
      "metadata": {
        "id": "dV2_xgZGqsrk"
      }
    },
    {
      "cell_type": "markdown",
      "source": [
        "Neste ponto, o número de segmentos é um número inteiro próximo a circumference/3, então o comprimento de cada segmento é aproximadamente 3, pequeno o suficiente para que os círculos fiquem bons, mas grandes o suficiente para serem eficientes e aceitáveis para círculos de qualquer tamanho."
      ],
      "metadata": {
        "id": "R0Git7SNq4z1"
      }
    },
    {
      "cell_type": "markdown",
      "source": [
        "Ao usar essa função, você garante que os círculos de qualquer tamanho sejam desenhados de maneira suave e eficiente."
      ],
      "metadata": {
        "id": "dzTNv05wq1h_"
      }
    },
    {
      "cell_type": "markdown",
      "source": [
        "<h1> 4.7 - Refatoração </h1>"
      ],
      "metadata": {
        "id": "5Ndj1eybpkIU"
      }
    },
    {
      "cell_type": "markdown",
      "source": [
        "Não podemos usar polygon ou circle para desenhar um arco.\n",
        "Uma alternativa é começar com uma cópia de polygon e transformá-la em arc. O resultado poderia ser algo assim:\n"
      ],
      "metadata": {
        "id": "rIhnfSIlrRwI"
      }
    },
    {
      "cell_type": "code",
      "source": [
        "def arc(t, r, angle):\n",
        "  arc_length = 2 * math.pi * r * angle / 360\n",
        "  n = int(arc_length / 3) + 1\n",
        "  step_length = arc_length / n\n",
        "  step_angle = angle / n\n",
        "\n",
        "  for i in range(n):\n",
        "    t.fd(step_length)\n",
        "    t.lt(step_angle)"
      ],
      "metadata": {
        "id": "jaP6I4B0pm-3"
      },
      "execution_count": null,
      "outputs": []
    },
    {
      "cell_type": "markdown",
      "source": [
        "A segunda metade desta função parece com a do polygon, mas não é possível reutilizar o polygon sem mudar a interface. Poderíamos generalizar polygon para receber um ângulo como um terceiro argumento, mas então polygon não seria mais um nome adequado! Em vez disso, vamos chamar a função mais geral de polyline:"
      ],
      "metadata": {
        "id": "BuG9kvodrqWZ"
      }
    },
    {
      "cell_type": "code",
      "source": [
        "def polyline(t, n, length, angle):\n",
        "  for i in range(n):\n",
        "    t.fd(length)\n",
        "    t.lt(angle)"
      ],
      "metadata": {
        "id": "nW2ycnzOpnGk"
      },
      "execution_count": null,
      "outputs": []
    },
    {
      "cell_type": "markdown",
      "source": [
        "Agora podemos reescrever polygon e arc para usar polyline:"
      ],
      "metadata": {
        "id": "vzchOPOLryLn"
      }
    },
    {
      "cell_type": "code",
      "source": [
        "def polygon(t, n, length):\n",
        "  angle = 360.0 / n\n",
        "  polyline(t, n, length, angle)\n",
        "\n",
        "def arc(t, r, angle):\n",
        "  arc_length = 2 * math.pi * r * angle / 360\n",
        "  n = int(arc_length / 3) + 1\n",
        "  step_length = arc_length / n\n",
        "  step_angle = float(angle) / n\n",
        "  polyline(t, n, step_length, step_angle)"
      ],
      "metadata": {
        "id": "ZHfMG36QpnJB"
      },
      "execution_count": null,
      "outputs": []
    },
    {
      "cell_type": "code",
      "source": [
        "def circle(t, r):\n",
        "  arc(t, r, 360)"
      ],
      "metadata": {
        "id": "Y98THisvuqYF"
      },
      "execution_count": null,
      "outputs": []
    },
    {
      "cell_type": "markdown",
      "source": [
        "Este processo – recompor um programa para melhorar interfaces e facilitar a reutilização do código – é chamado de refatoração. Neste caso, notamos que houve código semelhante em arc e polygon, então nós o “fatoramos” no polyline."
      ],
      "metadata": {
        "id": "V8i1Rh6iu7Ui"
      }
    },
    {
      "cell_type": "markdown",
      "source": [
        "Se tivéssemos planejado, poderíamos ter escrito polyline primeiro e evitado a refatoração, mas muitas vezes não sabemos o suficiente já no início de um projeto para projetar todas as interfaces. Quando começarmos a escrever código, entenderemos melhor o problema. Às vezes, a refatoração é um sinal de que aprendemos algo."
      ],
      "metadata": {
        "id": "x6AfrVLEvY_P"
      }
    },
    {
      "cell_type": "markdown",
      "source": [
        "<h1> 4.8 - Um plano de desenvolvimento </h1>\n",
        "\n",
        "---\n",
        "Um plano de desenvolvimento é um processo para escrever programas. O processo que usamos neste estudo de caso é “encapsulamento e generalização”. Os passos deste processo são:\n",
        "1. Comece escrevendo um pequeno programa sem definições de função.\n",
        "2. Uma vez que o programa esteja funcionando, identifique uma parte coerente dele, encapsule essa parte em uma função e dê um nome a ela.\n",
        "3. Generalize a função acrescentando os parâmetros adequados.\n",
        "4. Repita os passos 1-3 até que tenha um conjunto de funções operantes. Copie e cole o código operante para evitar a redigitação (e redepuração).\n",
        "5. Procure oportunidades de melhorar o programa pela refatoração. Por exemplo, se você tem um código semelhante em vários lugares, pode ser uma boa ideia fatorá-lo em uma função geral adequada.\n",
        "\n",
        "Este processo tem algumas desvantagens – veremos alternativas mais tarde – mas pode ser útil se você não souber de antemão como dividir o programa em funções. Esta abordagem permite criar o projeto no decorrer do trabalho.\n",
        "\n"
      ],
      "metadata": {
        "id": "AwGgN0iivbMZ"
      }
    },
    {
      "cell_type": "markdown",
      "source": [
        "<h1> 4.9 - docstring </h1>\n",
        "\n",
        "Uma docstring é uma string no início de uma função que explica a interface (“doc” é uma abreviação para “documentação”). Aqui está um exemplo:\n"
      ],
      "metadata": {
        "id": "1tlYaxQLv5ED"
      }
    },
    {
      "cell_type": "markdown",
      "source": [
        "```\n",
        " def polyline(t, n, length, angle):\n",
        "  \"\"\"Desenha n segmentos de reta com o comprimento dado e\n",
        "  ângulo (em graus) entre eles. t é um turtle.\n",
        "  \"\"\"\n",
        "  for i in range(n):\n",
        "    t.fd(length)\n",
        "    t.lt(angle)\n",
        "```\n",
        "\n"
      ],
      "metadata": {
        "id": "QFP15zKJwFXB"
      }
    },
    {
      "cell_type": "markdown",
      "source": [
        "Por convenção, todas as docstrings têm aspas triplas, também conhecidas como strings multilinha porque as aspas triplas permitem que a string se estenda por mais de uma linha. É conciso, mas contém a informação essencial que alguém precisaria para usar esta função. Explica sucintamente o que a função faz (sem entrar nos detalhes de como o faz).\n",
        "Explica que efeito cada parâmetro tem sobre o comportamento da função e o tipo que cada parâmetro deve ser (se não for óbvio).\n",
        "Escrever este tipo de documentação é uma parte importante do projeto da interface. Uma interface bem projetada deve ser simples de explicar; se não for assim, talvez a interface possa ser melhorada.\n"
      ],
      "metadata": {
        "id": "bByxAp5pxXIr"
      }
    },
    {
      "cell_type": "markdown",
      "source": [
        "<h1> 4.10 - Depuração </h1>\n",
        "\n",
        "Uma interface é como um contrato entre uma função e quem a chama. Quem chama\n",
        "concorda em fornecer certos parâmetros e a função concorda em fazer certa ação.\n",
        "\n",
        "Por exemplo, polyline precisa de quatro argumentos: t tem que ser um Turtle; n tem que ser um número inteiro; length deve ser um número positivo; e o angle tem que ser um número, que se espera estar em graus.\n",
        "\n",
        "Essas exigências são chamadas de precondições porque se supõe que sejam verdade antes que a função seja executada. De forma inversa, as condições no fim da função são pós-condições. As pós-condições incluem o efeito desejado da função (como o desenho de segmentos de reta) e qualquer efeito colateral (como mover o Turtle ou fazer outras mudanças).\n",
        "\n",
        "Precondições são responsabilidade de quem chama. Se quem chama violar uma\n",
        "precondição (adequadamente documentada!) e a função não funcionar corretamente, o problema está nesta pessoa, não na função.\n",
        "\n",
        "Se as precondições forem satisfeitas e as pós-condições não forem, o problema está na função. Se as suas precondições e pós-condições forem claras, elas podem ajudar na depuração."
      ],
      "metadata": {
        "id": "76NVbbQDxcbt"
      }
    },
    {
      "cell_type": "markdown",
      "source": [
        "<h1> 4.11 - Glossário </h1>"
      ],
      "metadata": {
        "id": "aNxS3Q9EyERZ"
      }
    },
    {
      "cell_type": "markdown",
      "source": [
        "- **método:**\n",
        "Uma função associada a um objeto e chamada usando a notação de ponto.\n",
        "\n",
        "- **loop:**\n",
        "Parte de um programa que pode ser executada repetidamente.\n",
        "\n",
        "- **encapsulamento:**\n",
        "O processo de transformar uma sequência de instruções em uma definição de função.\n",
        "\n",
        "- **generalização:**\n",
        "O processo de substituir algo desnecessariamente específico (como um número) por\n",
        "algo adequadamente geral (como uma variável ou parâmetro).\n",
        "\n",
        "- **argumento de palavra-chave:**\n",
        "Um argumento que inclui o nome do parâmetro como uma “palavra-chave”.\n",
        "\n",
        "- **refatoração:**\n",
        "O processo de alterar um programa funcional para melhorar a interface de funções e outras qualidades do código.\n",
        "\n",
        "- **plano de desenvolvimento:**\n",
        "Um processo de escrever programas.\n",
        "\n",
        "- **docstring:**\n",
        "Uma string que aparece no início de uma definição de função para documentar a\n",
        "interface da função.\n",
        "\n",
        "- **precondição:**\n",
        "Uma exigência que deve ser satisfeita por quem chama a função, antes de executá-la.\n",
        "\n",
        "- **pós-condição:**\n",
        "Uma exigência que deve ser satisfeita pela função antes que ela seja encerrada."
      ],
      "metadata": {
        "id": "vZqhzHUYgjXw"
      }
    },
    {
      "cell_type": "markdown",
      "source": [
        "<h1> 4.12 - Exercícios </h1>"
      ],
      "metadata": {
        "id": "wldTM85YiMwX"
      }
    },
    {
      "cell_type": "markdown",
      "source": [
        "\n",
        "---\n",
        "\n",
        "**Não achei proveitoso dar sequência nesses exercícios, visto que, meus objetivos são outros e perderia tempo tentando entender sobre desenhar formas geométricas.**\n",
        "\n",
        "\n",
        "\n",
        "---\n",
        "\n"
      ],
      "metadata": {
        "id": "r7agfiGXnOlt"
      }
    },
    {
      "cell_type": "markdown",
      "source": [
        "<h2> Exercício 4.1 </h2>\n",
        "\n",
        "Baixe o código deste capítulo no site http://thinkpython2.com/code/polygon.py.\n",
        "\n",
        "**Não consegui encontrar o código para baixá-lo.**"
      ],
      "metadata": {
        "id": "G4Ok8ei2iPyb"
      }
    },
    {
      "cell_type": "markdown",
      "source": [
        "1. Desenhe um diagrama da pilha que mostre o estado do programa enquanto executa\n",
        "circle (bob, radius). Você pode fazer a aritmética à mão ou acrescentar instruções print ao código.\n"
      ],
      "metadata": {
        "id": "w6JnGh_hkgLX"
      }
    },
    {
      "cell_type": "markdown",
      "source": [
        "2. A versão de arc na seção 4.7 - Refatoração não é muito precisa porque a\n",
        "aproximação linear do círculo está sempre do lado de fora do círculo verdadeiro.\n",
        "Consequentemente, o Turtle acaba ficando alguns píxeis de distância do destino\n",
        "correto. Minha solução mostra um modo de reduzir o efeito deste erro. Leia o código e veja se faz sentido para você. Se desenhar um diagrama, poderá ver como funciona.\n"
      ],
      "metadata": {
        "id": "Co-ayaUYjsmS"
      }
    },
    {
      "cell_type": "markdown",
      "source": [
        "<h2> Exercício 4.2 </h2>\n",
        "Escreva um conjunto de funções adequadamente geral que possa desenhar flores como as da Figura 4.1.\n",
        "\n",
        "![image.png](data:image/png;base64,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)"
      ],
      "metadata": {
        "id": "OIPTf-OhkiaS"
      }
    },
    {
      "cell_type": "markdown",
      "source": [
        "<h2> Exercício 4.3 </h2>\n",
        "Escreva um conjunto de funções adequadamente geral que possa desenhar formas como as da Figura 4.2.\n",
        "\n",
        "![image.png](data:image/png;base64,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)\n"
      ],
      "metadata": {
        "id": "Uzer-xdrm2zD"
      }
    },
    {
      "cell_type": "markdown",
      "source": [
        "<h2> Exercício 4.4 </h2>\n",
        "As letras do alfabeto podem ser construídas a partir de um número moderado de elementos básicos, como linhas verticais e horizontais e algumas curvas. Crie um alfabeto que possa ser desenhado com um número mínimo de elementos básicos e então escreva funções que desenhem as letras.\n",
        "Você deve escrever uma função para cada letra, com os nomes draw_a, draw_b etc., e colocar suas funções em um arquivo chamado letters.py. Você pode baixar uma “máquina de escrever de turtle” no site http://thinkpython2.com/code/typewriter.py para ajudar a testar o seu código.\n",
        "Você pode ver uma solução no site http://thinkpython2.com/code/letters.py; ela também exige http://thinkpython2.com/code/polygon.py.\n"
      ],
      "metadata": {
        "id": "LSvmJg8vm-UX"
      }
    },
    {
      "cell_type": "markdown",
      "source": [
        "<h2> Exercício 4.5 </h2>\n",
        "Leia sobre espirais em https://pt.wikipedia.org/wiki/Espiral; então escreva um programa que desenhe uma espiral de Arquimedes (ou um dos outros tipos).\n",
        "[1] _turtle graphics_ ou gráficos de tartaruga é o sistema de desenho popularizado pela linguagem Logo, onde os comandos movimentam um cursor triangular pela tela, conhecido como turtle ou tartaruga. A tartaruga deixa um rastro à medida que é movimentada, e é com esses rastros que se forma um desenho. Diferente dos sistemas usuais de desenho em computação gráfica, o sistema turtle graphics não exige o uso de coordenadas cartesianas.\n"
      ],
      "metadata": {
        "id": "q8U5U0VynGAb"
      }
    },
    {
      "cell_type": "code",
      "source": [],
      "metadata": {
        "id": "0GxGRNQ3usHJ"
      },
      "execution_count": null,
      "outputs": []
    }
  ]
}