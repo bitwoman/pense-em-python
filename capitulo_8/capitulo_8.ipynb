{
  "nbformat": 4,
  "nbformat_minor": 0,
  "metadata": {
    "colab": {
      "provenance": [],
      "authorship_tag": "ABX9TyMA/qkRORNzELU4HBT098Mm",
      "include_colab_link": true
    },
    "kernelspec": {
      "name": "python3",
      "display_name": "Python 3"
    },
    "language_info": {
      "name": "python"
    }
  },
  "cells": [
    {
      "cell_type": "markdown",
      "metadata": {
        "id": "view-in-github",
        "colab_type": "text"
      },
      "source": [
        "<a href=\"https://colab.research.google.com/github/bitwoman/pense-em-python/blob/main/capitulo_8.ipynb\" target=\"_parent\"><img src=\"https://colab.research.google.com/assets/colab-badge.svg\" alt=\"Open In Colab\"/></a>"
      ]
    },
    {
      "cell_type": "markdown",
      "source": [
        "# **ESTUDO DO LIVRO \"Pense em Python\", DO AUTOR ALLEN B. DOWNEY**\n",
        "\n",
        "<p> Estudos iniciados em 20-06-2024. </p>"
      ],
      "metadata": {
        "id": "x7rvwcbdVXDQ"
      }
    },
    {
      "cell_type": "markdown",
      "source": [
        "# Capítulo 8: Strings\n",
        "\n",
        "Strings não são como números inteiros, de ponto flutuante ou booleanos. Uma string é uma sequência, ou seja, uma coleção ordenada de outros valores."
      ],
      "metadata": {
        "id": "tmGQ9pzDVZmV"
      }
    },
    {
      "cell_type": "markdown",
      "source": [
        "<h2> 8.1 - Uma string é uma sequência </h2>\n",
        "\n",
        "Uma string é uma sequência de caracteres. Você pode acessar um caractere de cada vez com o operador de colchete:"
      ],
      "metadata": {
        "id": "QQSG6usRjYzX"
      }
    },
    {
      "cell_type": "code",
      "execution_count": null,
      "metadata": {
        "id": "gCV4Iel1VVKE",
        "colab": {
          "base_uri": "https://localhost:8080/"
        },
        "outputId": "897eb399-ae7d-4d2d-b107-f6da38bfd110"
      },
      "outputs": [
        {
          "output_type": "stream",
          "name": "stdout",
          "text": [
            "banana\n",
            "a\n"
          ]
        }
      ],
      "source": [
        "fruta = 'banana'\n",
        "letra = fruta[1] # A expressão entre colchetes chama-se índice, que aponta qual caractere da sequência\n",
        "                 # você quer (daí o nome).\n",
        "\n",
        "print(fruta)\n",
        "print(letra)"
      ]
    },
    {
      "cell_type": "markdown",
      "source": [
        "Para a maior parte das pessoas, a primeira letra de ‘banana’ é b, não a. Mas para os cientistas da computação, o índice é uma referência do começo da string, e a referência da primeira letra é zero."
      ],
      "metadata": {
        "id": "nieiXUR0j9c5"
      }
    },
    {
      "cell_type": "markdown",
      "source": [
        "Você pode usar uma expressão que contenha variáveis e operadores como índice:"
      ],
      "metadata": {
        "id": "vXtn3wsjkJX8"
      }
    },
    {
      "cell_type": "code",
      "source": [
        "i = 1\n",
        "\n",
        "print(fruta[i])"
      ],
      "metadata": {
        "colab": {
          "base_uri": "https://localhost:8080/"
        },
        "id": "-JMV90YPjpBs",
        "outputId": "4edd8e27-bb87-4581-b5ae-dbbf0055394c"
      },
      "execution_count": null,
      "outputs": [
        {
          "output_type": "stream",
          "name": "stdout",
          "text": [
            "a\n"
          ]
        }
      ]
    },
    {
      "cell_type": "code",
      "source": [
        "print(fruta[i+1])"
      ],
      "metadata": {
        "colab": {
          "base_uri": "https://localhost:8080/"
        },
        "id": "yOSgrYibkOJy",
        "outputId": "907214ed-895c-4a7a-cb0f-235cc560e1c9"
      },
      "execution_count": null,
      "outputs": [
        {
          "output_type": "stream",
          "name": "stdout",
          "text": [
            "n\n"
          ]
        }
      ]
    },
    {
      "cell_type": "markdown",
      "source": [
        "Porém, o valor do índice tem que ser um número inteiro. Se não for, é isso que aparece:\n",
        "\n",
        "**TypeError: string indices must be integers**"
      ],
      "metadata": {
        "id": "Ibn3IP7KkVOH"
      }
    },
    {
      "cell_type": "code",
      "source": [
        "letra = fruta[1.5]"
      ],
      "metadata": {
        "colab": {
          "base_uri": "https://localhost:8080/",
          "height": 147
        },
        "id": "BxZKg4YgkQK1",
        "outputId": "9ad8f0bb-ab90-4197-c8f1-5005ac3d6590"
      },
      "execution_count": null,
      "outputs": [
        {
          "output_type": "error",
          "ename": "TypeError",
          "evalue": "string indices must be integers",
          "traceback": [
            "\u001b[0;31m---------------------------------------------------------------------------\u001b[0m",
            "\u001b[0;31mTypeError\u001b[0m                                 Traceback (most recent call last)",
            "\u001b[0;32m<ipython-input-5-a11f8bbea000>\u001b[0m in \u001b[0;36m<cell line: 1>\u001b[0;34m()\u001b[0m\n\u001b[0;32m----> 1\u001b[0;31m \u001b[0mletra\u001b[0m \u001b[0;34m=\u001b[0m \u001b[0mfruta\u001b[0m\u001b[0;34m[\u001b[0m\u001b[0;36m1.5\u001b[0m\u001b[0;34m]\u001b[0m\u001b[0;34m\u001b[0m\u001b[0;34m\u001b[0m\u001b[0m\n\u001b[0m",
            "\u001b[0;31mTypeError\u001b[0m: string indices must be integers"
          ]
        }
      ]
    },
    {
      "cell_type": "markdown",
      "source": [
        "<h2> 8.2 - len </h2>\n",
        "\n",
        "**len** é uma função integrada que devolve o número de caracteres em uma string:"
      ],
      "metadata": {
        "id": "k1pAkSkEkhpd"
      }
    },
    {
      "cell_type": "code",
      "source": [
        "len(fruta) # 6"
      ],
      "metadata": {
        "colab": {
          "base_uri": "https://localhost:8080/"
        },
        "id": "TgLE6j6qkY2r",
        "outputId": "34d78a1f-d5fc-4009-e117-2d9bfba80949"
      },
      "execution_count": null,
      "outputs": [
        {
          "output_type": "execute_result",
          "data": {
            "text/plain": [
              "6"
            ]
          },
          "metadata": {},
          "execution_count": 7
        }
      ]
    },
    {
      "cell_type": "markdown",
      "source": [
        "Para obter a última letra de uma string, pode parecer uma boa ideia tentar algo assim:"
      ],
      "metadata": {
        "id": "9tCZaSObkth9"
      }
    },
    {
      "cell_type": "code",
      "source": [
        "length = len(fruta)\n",
        "last = fruta[length]"
      ],
      "metadata": {
        "colab": {
          "base_uri": "https://localhost:8080/",
          "height": 165
        },
        "id": "PiLNOO3TkrYZ",
        "outputId": "d2bccf3d-080e-4c40-94eb-115fe14509db"
      },
      "execution_count": null,
      "outputs": [
        {
          "output_type": "error",
          "ename": "IndexError",
          "evalue": "string index out of range",
          "traceback": [
            "\u001b[0;31m---------------------------------------------------------------------------\u001b[0m",
            "\u001b[0;31mIndexError\u001b[0m                                Traceback (most recent call last)",
            "\u001b[0;32m<ipython-input-10-e14530a4e206>\u001b[0m in \u001b[0;36m<cell line: 2>\u001b[0;34m()\u001b[0m\n\u001b[1;32m      1\u001b[0m \u001b[0mlength\u001b[0m \u001b[0;34m=\u001b[0m \u001b[0mlen\u001b[0m\u001b[0;34m(\u001b[0m\u001b[0mfruta\u001b[0m\u001b[0;34m)\u001b[0m\u001b[0;34m\u001b[0m\u001b[0;34m\u001b[0m\u001b[0m\n\u001b[0;32m----> 2\u001b[0;31m \u001b[0mlast\u001b[0m \u001b[0;34m=\u001b[0m \u001b[0mfruta\u001b[0m\u001b[0;34m[\u001b[0m\u001b[0mlength\u001b[0m\u001b[0;34m]\u001b[0m\u001b[0;34m\u001b[0m\u001b[0;34m\u001b[0m\u001b[0m\n\u001b[0m",
            "\u001b[0;31mIndexError\u001b[0m: string index out of range"
          ]
        }
      ]
    },
    {
      "cell_type": "markdown",
      "source": [
        "A razão de haver um IndexError aqui é que não há nenhuma letra em ‘banana’ com o\n",
        "índice 6. Como a contagem inicia no zero, as seis letras são numeradas de 0 a 5. Para obter o último caractere, você deve subtrair 1 de length:"
      ],
      "metadata": {
        "id": "vsaIwXxmlDti"
      }
    },
    {
      "cell_type": "code",
      "source": [
        "last = fruta[length-1]\n",
        "print(last)"
      ],
      "metadata": {
        "colab": {
          "base_uri": "https://localhost:8080/"
        },
        "id": "QuHwmNuPk2ky",
        "outputId": "22a21cf5-6982-4eee-8b17-e56d83d204df"
      },
      "execution_count": null,
      "outputs": [
        {
          "output_type": "stream",
          "name": "stdout",
          "text": [
            "a\n"
          ]
        }
      ]
    },
    {
      "cell_type": "markdown",
      "source": [
        "Ou você pode usar índices negativos, que contam de trás para a frente a partir do fim da string. A expressão fruit[-1] apresenta a última letra, fruit[-2] apresenta a segunda letra de trás para a frente, e assim por diante."
      ],
      "metadata": {
        "id": "jftH4wWolMFd"
      }
    },
    {
      "cell_type": "markdown",
      "source": [
        "<h2> 8.3 - Travessia com loop for </h2>\n",
        "\n",
        "Muitos cálculos implicam o processamento de um caractere por vez em uma string.\n",
        "Muitas vezes começam no início, selecionam um caractere por vez, fazem algo e\n",
        "continuam até o fim. Este modelo do processamento chama-se travessia. Um modo de\n",
        "escrever uma travessia é com o loop while:"
      ],
      "metadata": {
        "id": "Sy427rPilPn_"
      }
    },
    {
      "cell_type": "code",
      "source": [
        "index = 0\n",
        "\n",
        "# Este loop atravessa a string e exibe cada letra sozinha em uma linha.\n",
        "while index < len(fruta):\n",
        "  letra = fruta[index]\n",
        "  print(letra)\n",
        "  index = index + 1"
      ],
      "metadata": {
        "colab": {
          "base_uri": "https://localhost:8080/"
        },
        "id": "z3rfwEGClHan",
        "outputId": "fe49db4d-f653-4c4f-8c50-cab27240e34a"
      },
      "execution_count": null,
      "outputs": [
        {
          "output_type": "stream",
          "name": "stdout",
          "text": [
            "b\n",
            "a\n",
            "n\n",
            "a\n",
            "n\n",
            "a\n"
          ]
        }
      ]
    },
    {
      "cell_type": "markdown",
      "source": [
        "Como exercício, escreva uma função que receba uma string como argumento e exiba as letras de trás para a frente, uma por linha.\n"
      ],
      "metadata": {
        "id": "3LToGDw8sRxR"
      }
    },
    {
      "cell_type": "code",
      "source": [
        "def backToFront(s):\n",
        "  index = len(s) - 1\n",
        "\n",
        "  while index >= 0:\n",
        "    letra = s[index]\n",
        "    print(letra)\n",
        "    index = index - 1"
      ],
      "metadata": {
        "id": "DXbrhdtisEC9"
      },
      "execution_count": null,
      "outputs": []
    },
    {
      "cell_type": "code",
      "source": [
        "backToFront('brenda')"
      ],
      "metadata": {
        "colab": {
          "base_uri": "https://localhost:8080/"
        },
        "id": "4mvzg1ncso9J",
        "outputId": "40624913-f2ca-433b-e8c4-fa382a4a45ef"
      },
      "execution_count": null,
      "outputs": [
        {
          "output_type": "stream",
          "name": "stdout",
          "text": [
            "a\n",
            "d\n",
            "n\n",
            "e\n",
            "r\n",
            "b\n"
          ]
        }
      ]
    },
    {
      "cell_type": "markdown",
      "source": [
        "Outra forma de escrever uma travessia é com um loop for:"
      ],
      "metadata": {
        "id": "r3vC0Aw0vUsk"
      }
    },
    {
      "cell_type": "markdown",
      "source": [
        "Cada vez que o programa passar pelo loop, o caractere seguinte na string é atribuído à variável letter. O loop continua até que não sobre nenhum caractere.\n"
      ],
      "metadata": {
        "id": "zs1U1fEuve6U"
      }
    },
    {
      "cell_type": "code",
      "source": [
        "for letra in fruta:\n",
        "  print(letra)"
      ],
      "metadata": {
        "colab": {
          "base_uri": "https://localhost:8080/"
        },
        "id": "dH0aQVJlsqyO",
        "outputId": "672e37bc-796a-46b2-b3f2-76c67cec435f"
      },
      "execution_count": null,
      "outputs": [
        {
          "output_type": "stream",
          "name": "stdout",
          "text": [
            "b\n",
            "a\n",
            "n\n",
            "a\n",
            "n\n",
            "a\n"
          ]
        }
      ]
    },
    {
      "cell_type": "markdown",
      "source": [
        "O próximo exemplo mostra como usar a concatenação (adição de strings) e um loop for para gerar uma série abecedária (isto é, em ordem alfabética).\n",
        "\n",
        "```\n",
        "prefixes = 'JKLMNOPQ'\n",
        "suffix = 'ack'\n",
        "for letter in prefixes:\n",
        "print(letter + suffix)\n",
        "A saída é:\n",
        "Jack\n",
        "Kack\n",
        "Lack\n",
        "Mack\n",
        "Nack\n",
        "Oack\n",
        "Pack\n",
        "Qack\n",
        "\n",
        "```\n",
        "\n"
      ],
      "metadata": {
        "id": "swrYCtejv1Oj"
      }
    },
    {
      "cell_type": "markdown",
      "source": [
        "Claro que não está exatamente certo porque “Ouack” e “Quack” foram mal soletrados.\n",
        "Como exercício, altere o programa para corrigir este erro.\n"
      ],
      "metadata": {
        "id": "Q8Ll3de4v8WX"
      }
    },
    {
      "cell_type": "code",
      "source": [
        "prefixes = 'JKLMNOPQ'\n",
        "suffix = 'ack'\n",
        "\n",
        "for letter in prefixes:\n",
        "  print(letter + suffix)"
      ],
      "metadata": {
        "colab": {
          "base_uri": "https://localhost:8080/"
        },
        "id": "JtfL723BvYhI",
        "outputId": "6fb12ce4-188a-45d1-e936-c4d0716df147"
      },
      "execution_count": null,
      "outputs": [
        {
          "output_type": "stream",
          "name": "stdout",
          "text": [
            "Jack\n",
            "Kack\n",
            "Lack\n",
            "Mack\n",
            "Nack\n",
            "Oack\n",
            "Pack\n",
            "Qack\n"
          ]
        }
      ]
    },
    {
      "cell_type": "markdown",
      "source": [
        "**COMPARAÇÃO DE SOLUÇÕES:**"
      ],
      "metadata": {
        "id": "BiMKaxo2wfGK"
      }
    },
    {
      "cell_type": "markdown",
      "source": [
        "**SOLUÇÃO PRÓPRIA:**"
      ],
      "metadata": {
        "id": "3g4ztYXcwhgV"
      }
    },
    {
      "cell_type": "code",
      "source": [
        "prefixes = 'JKLMNOPQ'\n",
        "suffix = 'ack'\n",
        "\n",
        "for letter in prefixes:\n",
        "  if letter == 'O' or letter == 'Q':\n",
        "    print(letter + 'u' + suffix)\n",
        "  else:\n",
        "    print(letter + suffix)"
      ],
      "metadata": {
        "colab": {
          "base_uri": "https://localhost:8080/"
        },
        "id": "YRC9jmWewJ6u",
        "outputId": "b1b64860-fae1-4aaa-9876-a2b16596bce9"
      },
      "execution_count": null,
      "outputs": [
        {
          "output_type": "stream",
          "name": "stdout",
          "text": [
            "Jack\n",
            "Kack\n",
            "Lack\n",
            "Mack\n",
            "Nack\n",
            "Ouack\n",
            "Pack\n",
            "Quack\n"
          ]
        }
      ]
    },
    {
      "cell_type": "markdown",
      "source": [
        "**SOLUÇÃO CHATGPT:**"
      ],
      "metadata": {
        "id": "I5wuYlsdwj6h"
      }
    },
    {
      "cell_type": "code",
      "source": [
        "prefixes = 'JKLMNOPQ'\n",
        "suffix = 'ack'\n",
        "\n",
        "for letter in prefixes:\n",
        "    if letter == 'O' or letter == 'Q':\n",
        "        print(letter + 'u' + suffix)  # Adiciona \"u\" após \"O\" e \"Q\"\n",
        "    else:\n",
        "        print(letter + suffix)"
      ],
      "metadata": {
        "colab": {
          "base_uri": "https://localhost:8080/"
        },
        "id": "g9l9sPc-wb5f",
        "outputId": "77d6770e-c5ec-499b-9a2e-2394b1a250d6"
      },
      "execution_count": null,
      "outputs": [
        {
          "output_type": "stream",
          "name": "stdout",
          "text": [
            "Jack\n",
            "Kack\n",
            "Lack\n",
            "Mack\n",
            "Nack\n",
            "Ouack\n",
            "Pack\n",
            "Quack\n"
          ]
        }
      ]
    },
    {
      "cell_type": "markdown",
      "source": [
        "<h2> 8.4 - Fatiamento de strings </h2>\n",
        "\n",
        "Um segmento de uma string é chamado de fatia. Selecionar uma fatia é como selecionar um caractere:"
      ],
      "metadata": {
        "id": "V-wtqqXqw1U_"
      }
    },
    {
      "cell_type": "code",
      "source": [
        " s = 'Monty Python'"
      ],
      "metadata": {
        "id": "mFupCrVYwuGf"
      },
      "execution_count": 1,
      "outputs": []
    },
    {
      "cell_type": "code",
      "source": [
        "s[0:5]"
      ],
      "metadata": {
        "colab": {
          "base_uri": "https://localhost:8080/",
          "height": 36
        },
        "id": "qJEHPU9I1OW6",
        "outputId": "ac58b8dc-9d89-4a94-cd2c-3a9ff99f08c5"
      },
      "execution_count": 2,
      "outputs": [
        {
          "output_type": "execute_result",
          "data": {
            "text/plain": [
              "'Monty'"
            ],
            "application/vnd.google.colaboratory.intrinsic+json": {
              "type": "string"
            }
          },
          "metadata": {},
          "execution_count": 2
        }
      ]
    },
    {
      "cell_type": "code",
      "source": [
        "s[6:12]"
      ],
      "metadata": {
        "colab": {
          "base_uri": "https://localhost:8080/",
          "height": 36
        },
        "id": "d8kK4kEg1R-z",
        "outputId": "18b23661-fcda-44de-b997-594ffbc52f34"
      },
      "execution_count": 3,
      "outputs": [
        {
          "output_type": "execute_result",
          "data": {
            "text/plain": [
              "'Python'"
            ],
            "application/vnd.google.colaboratory.intrinsic+json": {
              "type": "string"
            }
          },
          "metadata": {},
          "execution_count": 3
        }
      ]
    },
    {
      "cell_type": "markdown",
      "source": [
        "O operador [n:m] retorna a parte da string do “enésimo” caractere ao “emésimo”\n",
        "caractere, incluindo o primeiro, mas excluindo o último."
      ],
      "metadata": {
        "id": "kXOgiTyb1ge1"
      }
    },
    {
      "cell_type": "markdown",
      "source": [
        "Se você omitir o primeiro índice (antes dos dois pontos), a fatia começa no início da string."
      ],
      "metadata": {
        "id": "AucEOFSA1rQW"
      }
    },
    {
      "cell_type": "code",
      "source": [
        "fruta = 'banana'\n",
        "fruta[:3]"
      ],
      "metadata": {
        "colab": {
          "base_uri": "https://localhost:8080/",
          "height": 36
        },
        "id": "KikmZHEp1S7X",
        "outputId": "f5ebdea0-0fb6-4908-b099-683162b64770"
      },
      "execution_count": 4,
      "outputs": [
        {
          "output_type": "execute_result",
          "data": {
            "text/plain": [
              "'ban'"
            ],
            "application/vnd.google.colaboratory.intrinsic+json": {
              "type": "string"
            }
          },
          "metadata": {},
          "execution_count": 4
        }
      ]
    },
    {
      "cell_type": "markdown",
      "source": [
        "Se omitir o segundo índice, a fatia vai ao fim da string:"
      ],
      "metadata": {
        "id": "NyNvm1ZU1556"
      }
    },
    {
      "cell_type": "code",
      "source": [
        "fruta[3:]"
      ],
      "metadata": {
        "colab": {
          "base_uri": "https://localhost:8080/",
          "height": 36
        },
        "id": "vLTzvBhm1x3V",
        "outputId": "6167d360-6090-4a60-98fb-f441a49763aa"
      },
      "execution_count": 5,
      "outputs": [
        {
          "output_type": "execute_result",
          "data": {
            "text/plain": [
              "'ana'"
            ],
            "application/vnd.google.colaboratory.intrinsic+json": {
              "type": "string"
            }
          },
          "metadata": {},
          "execution_count": 5
        }
      ]
    },
    {
      "cell_type": "markdown",
      "source": [
        "Se o primeiro índice for maior ou igual ao segundo, o resultado é uma string vazia, representada por duas aspas:"
      ],
      "metadata": {
        "id": "RKQsfDP62AXZ"
      }
    },
    {
      "cell_type": "code",
      "source": [
        "fruta[3:3]"
      ],
      "metadata": {
        "colab": {
          "base_uri": "https://localhost:8080/",
          "height": 36
        },
        "id": "mZPWyxwn12YJ",
        "outputId": "508d8511-d177-4a56-9665-6b28373c4925"
      },
      "execution_count": 6,
      "outputs": [
        {
          "output_type": "execute_result",
          "data": {
            "text/plain": [
              "''"
            ],
            "application/vnd.google.colaboratory.intrinsic+json": {
              "type": "string"
            }
          },
          "metadata": {},
          "execution_count": 6
        }
      ]
    },
    {
      "cell_type": "markdown",
      "source": [
        "Uma string vazia não contém nenhum caractere e tem o comprimento 0, fora isso, é igual a qualquer outra string.\n",
        "Continuando este exemplo, o que você acha que fruit[:] significa? Teste e veja."
      ],
      "metadata": {
        "id": "8kfPtmBC2GIc"
      }
    },
    {
      "cell_type": "code",
      "source": [
        "fruta[:] # retorna a string inteira"
      ],
      "metadata": {
        "colab": {
          "base_uri": "https://localhost:8080/",
          "height": 36
        },
        "id": "qfrF328v2C0K",
        "outputId": "a3c91097-44cc-4073-93c4-86761a15d2bc"
      },
      "execution_count": 7,
      "outputs": [
        {
          "output_type": "execute_result",
          "data": {
            "text/plain": [
              "'banana'"
            ],
            "application/vnd.google.colaboratory.intrinsic+json": {
              "type": "string"
            }
          },
          "metadata": {},
          "execution_count": 7
        }
      ]
    },
    {
      "cell_type": "markdown",
      "source": [
        "<h2> 8.5 - Strings são imutáveis </h2>\n",
        "\n",
        "É tentador usar o operador [] no lado esquerdo de uma atribuição, com a intenção de alterar um caractere em uma string. Por exemplo:"
      ],
      "metadata": {
        "id": "NeopW1942SxO"
      }
    },
    {
      "cell_type": "code",
      "source": [
        "greeting = 'Hello, world!'"
      ],
      "metadata": {
        "id": "yjDuROb92II5"
      },
      "execution_count": 8,
      "outputs": []
    },
    {
      "cell_type": "code",
      "source": [
        "greeting[0] = 'J'"
      ],
      "metadata": {
        "colab": {
          "base_uri": "https://localhost:8080/",
          "height": 147
        },
        "id": "wInTZqrI7CtW",
        "outputId": "235b7eb2-582a-4bfb-a3a8-92fce0d4093d"
      },
      "execution_count": 9,
      "outputs": [
        {
          "output_type": "error",
          "ename": "TypeError",
          "evalue": "'str' object does not support item assignment",
          "traceback": [
            "\u001b[0;31m---------------------------------------------------------------------------\u001b[0m",
            "\u001b[0;31mTypeError\u001b[0m                                 Traceback (most recent call last)",
            "\u001b[0;32m<ipython-input-9-4d5c0ee70326>\u001b[0m in \u001b[0;36m<cell line: 1>\u001b[0;34m()\u001b[0m\n\u001b[0;32m----> 1\u001b[0;31m \u001b[0mgreeting\u001b[0m\u001b[0;34m[\u001b[0m\u001b[0;36m0\u001b[0m\u001b[0;34m]\u001b[0m \u001b[0;34m=\u001b[0m \u001b[0;34m'J'\u001b[0m\u001b[0;34m\u001b[0m\u001b[0;34m\u001b[0m\u001b[0m\n\u001b[0m",
            "\u001b[0;31mTypeError\u001b[0m: 'str' object does not support item assignment"
          ]
        }
      ]
    },
    {
      "cell_type": "markdown",
      "source": [
        "**TypeError: 'str' object does not support item assignment**\n",
        "\n",
        "O “objeto” neste caso é a string e o “item” é o caractere que você tentou atribuir"
      ],
      "metadata": {
        "id": "68jIYAPv7HCt"
      }
    },
    {
      "cell_type": "markdown",
      "source": [
        "A razão do erro é que as strings são imutáveis, o que significa que você não pode alterar uma string existente. O melhor que você pode fazer é criar uma string que seja uma variação da original:"
      ],
      "metadata": {
        "id": "zBMBmMpT74fx"
      }
    },
    {
      "cell_type": "code",
      "source": [
        "'''\n",
        "Esse exemplo concatena uma nova primeira letra a uma fatia de greeting.\n",
        "Não tem efeito sobre a string original.\n",
        "'''\n",
        "\n",
        "greeting = 'Hello, world!'\n",
        "new_greeting = 'J' + greeting[1:]\n",
        "new_greeting"
      ],
      "metadata": {
        "colab": {
          "base_uri": "https://localhost:8080/",
          "height": 36
        },
        "id": "Dh1mbHHY7Ffm",
        "outputId": "1b390941-fbd1-42c8-aee8-ff681e9297d9"
      },
      "execution_count": 11,
      "outputs": [
        {
          "output_type": "execute_result",
          "data": {
            "text/plain": [
              "'Jello, world!'"
            ],
            "application/vnd.google.colaboratory.intrinsic+json": {
              "type": "string"
            }
          },
          "metadata": {},
          "execution_count": 11
        }
      ]
    },
    {
      "cell_type": "markdown",
      "source": [
        "<h2> 8.6 - Buscando </h2>"
      ],
      "metadata": {
        "id": "zoPZMV2i8VFc"
      }
    },
    {
      "cell_type": "markdown",
      "source": [
        "O que faz a seguinte função?\n",
        "\n",
        "```\n",
        "def find(word, letter):\n",
        "  index = 0\n",
        "  while index < len(word):\n",
        "    if word[index] == letter:\n",
        "      return index\n",
        "    index = index + 1\n",
        "  return-1\n",
        "```"
      ],
      "metadata": {
        "id": "VS99OVl78aTf"
      }
    },
    {
      "cell_type": "code",
      "source": [
        "def find(word, letter):\n",
        "  index = 0\n",
        "  while index < len(word):\n",
        "    if word[index] == letter:\n",
        "      return index\n",
        "    index = index + 1\n",
        "  return -1"
      ],
      "metadata": {
        "id": "Pjg8aLY178iv"
      },
      "execution_count": 12,
      "outputs": []
    },
    {
      "cell_type": "code",
      "source": [
        "find('brenda', 'e')"
      ],
      "metadata": {
        "colab": {
          "base_uri": "https://localhost:8080/"
        },
        "id": "xUVeCZeK8o4J",
        "outputId": "a1a7382f-b030-442e-db7d-9ce17b6fcf2e"
      },
      "execution_count": 15,
      "outputs": [
        {
          "output_type": "execute_result",
          "data": {
            "text/plain": [
              "2"
            ]
          },
          "metadata": {},
          "execution_count": 15
        }
      ]
    },
    {
      "cell_type": "code",
      "source": [
        "find('brenda', 'f') # se não encontra, retorna -1"
      ],
      "metadata": {
        "colab": {
          "base_uri": "https://localhost:8080/"
        },
        "id": "t-L_SKSz8rvK",
        "outputId": "71d94cc9-e29a-486f-a431-16e631c2a2e0"
      },
      "execution_count": 16,
      "outputs": [
        {
          "output_type": "execute_result",
          "data": {
            "text/plain": [
              "-1"
            ]
          },
          "metadata": {},
          "execution_count": 16
        }
      ]
    },
    {
      "cell_type": "markdown",
      "source": [
        "De certo modo, find é o inverso do operador []. Em vez de tomar um índice e extrair o caractere correspondente, ele toma um caractere e encontra o índice onde aquele caractere aparece. Se o caractere não for encontrado, a função retorna -1.\n"
      ],
      "metadata": {
        "id": "uvpUTfHL83yF"
      }
    },
    {
      "cell_type": "markdown",
      "source": [
        "Este modelo de cálculo – atravessar uma sequência e retornar quando encontramos o que estamos procurando – chama-se busca."
      ],
      "metadata": {
        "id": "EGLmjyPl9GMm"
      }
    },
    {
      "cell_type": "markdown",
      "source": [
        "<h2> Como exercício, altere find para que tenha um terceiro parâmetro: o índice em word onde deve começar a busca. </h2>"
      ],
      "metadata": {
        "id": "bBGQaOFg9Ln0"
      }
    },
    {
      "cell_type": "code",
      "source": [
        "def find(word, letter, index):\n",
        "\n",
        "  while index < len(word):\n",
        "    if word[index] == letter:\n",
        "      return index\n",
        "    index = index + 1\n",
        "  return -1"
      ],
      "metadata": {
        "id": "LeqM7-gU8089"
      },
      "execution_count": 17,
      "outputs": []
    },
    {
      "cell_type": "code",
      "source": [
        "find('brenda', 'e', 3) # começa a busca a partir do índice 3. retorna -1 pois o valor de 'e' está na posição 2"
      ],
      "metadata": {
        "colab": {
          "base_uri": "https://localhost:8080/"
        },
        "id": "kHcrMHZl9XAV",
        "outputId": "db07f2bf-7de6-4029-c662-927c743f51c8"
      },
      "execution_count": 20,
      "outputs": [
        {
          "output_type": "execute_result",
          "data": {
            "text/plain": [
              "-1"
            ]
          },
          "metadata": {},
          "execution_count": 20
        }
      ]
    },
    {
      "cell_type": "markdown",
      "source": [
        "<h2> 8.7 - Loop e contagem </h2>\n",
        "\n",
        "O seguinte programa conta o número de vezes que a letra a aparece em uma string:"
      ],
      "metadata": {
        "id": "uJJGS0h2-Acz"
      }
    },
    {
      "cell_type": "code",
      "source": [
        "word = 'banana'\n",
        "count = 0\n",
        "\n",
        "for letter in word:\n",
        "  if letter == 'a':\n",
        "    count = count + 1\n",
        "\n",
        "print(count)"
      ],
      "metadata": {
        "colab": {
          "base_uri": "https://localhost:8080/"
        },
        "id": "AIcbSmIc9j5Y",
        "outputId": "d1fbd933-1186-4f48-822a-bce13ae934d9"
      },
      "execution_count": 21,
      "outputs": [
        {
          "output_type": "stream",
          "name": "stdout",
          "text": [
            "3\n"
          ]
        }
      ]
    },
    {
      "cell_type": "markdown",
      "source": [
        "Este programa demonstra outro padrão de computação chamado contador.\n",
        "A variável count é inicializada com 0 e então incrementada cada vez que um a é encontrado. Ao sair do loop, count contém o resultado – o número total de letras 'a'."
      ],
      "metadata": {
        "id": "5Ust7U0Q-_vm"
      }
    },
    {
      "cell_type": "markdown",
      "source": [
        "<h2> Como exercício, encapsule este código em uma função denominada count e generalize-o para que aceite a string e a letra como argumentos.\n",
        "Então reescreva a função para que, em vez de atravessar a string, ela use a versão de três parâmetros do find da seção anterior. </h2>"
      ],
      "metadata": {
        "id": "BEt4UPe8_F3g"
      }
    },
    {
      "cell_type": "code",
      "source": [
        "def count(word, letter, index):\n",
        "  count = 0\n",
        "\n",
        "  while index < len(word):\n",
        "    if word[index] == letter:\n",
        "      count = count + 1\n",
        "    index = index + 1\n",
        "\n",
        "  return count"
      ],
      "metadata": {
        "id": "ufpjXU38-9mG"
      },
      "execution_count": 22,
      "outputs": []
    },
    {
      "cell_type": "code",
      "source": [
        "count('brenda', 'a', 2) # retorna quantas ocorrências de 'a' existem a partir do índice 2, que é 1"
      ],
      "metadata": {
        "colab": {
          "base_uri": "https://localhost:8080/"
        },
        "id": "0AD7bvUSCZpY",
        "outputId": "49409caf-cbc3-48d3-d654-3270409ccb93"
      },
      "execution_count": 25,
      "outputs": [
        {
          "output_type": "execute_result",
          "data": {
            "text/plain": [
              "1"
            ]
          },
          "metadata": {},
          "execution_count": 25
        }
      ]
    },
    {
      "cell_type": "markdown",
      "source": [
        "<h2> 8.8 - Métodos de strings </h2>\n",
        "\n",
        "As strings oferecem métodos que executam várias operações úteis. Um método é\n",
        "semelhante a uma função – toma argumentos e devolve um valor –, mas a sintaxe é\n",
        "diferente. Por exemplo, o método upper recebe uma string e devolve uma nova string com todas as letras maiúsculas.\n",
        "\n",
        "Em vez da sintaxe de função upper(word), ela usa a sintaxe de método\n",
        "**word.upper()**:"
      ],
      "metadata": {
        "id": "TwyS8HGZC0p-"
      }
    },
    {
      "cell_type": "code",
      "source": [
        "word = 'banana'\n",
        "new_word = word.upper()\n",
        "new_word"
      ],
      "metadata": {
        "colab": {
          "base_uri": "https://localhost:8080/",
          "height": 36
        },
        "id": "0mFdoCMICgGd",
        "outputId": "bac47ca0-cd3d-4db0-dedc-02b6fd2e416f"
      },
      "execution_count": 26,
      "outputs": [
        {
          "output_type": "execute_result",
          "data": {
            "text/plain": [
              "'BANANA'"
            ],
            "application/vnd.google.colaboratory.intrinsic+json": {
              "type": "string"
            }
          },
          "metadata": {},
          "execution_count": 26
        }
      ]
    },
    {
      "cell_type": "markdown",
      "source": [
        "Esta forma de notação de ponto especifica o nome do método, upper e o nome da string, word, à qual o método será aplicado. Os parênteses vazios indicam que este método não toma nenhum argumento.\n",
        "Uma chamada de método denomina-se invocação; neste caso, diríamos que estamos\n",
        "invocando upper em word.\n"
      ],
      "metadata": {
        "id": "G7c0wK_4DZxJ"
      }
    },
    {
      "cell_type": "markdown",
      "source": [
        "E, na verdade, há um método de string denominado find, que é notavelmente semelhante à função que escrevemos:\n"
      ],
      "metadata": {
        "id": "UEfMn6TiDhEC"
      }
    },
    {
      "cell_type": "markdown",
      "source": [
        "Neste exemplo, invocamos find em word e passamos a letra que estamos procurando\n",
        "como um parâmetro."
      ],
      "metadata": {
        "id": "zWUwbXy5MM1f"
      }
    },
    {
      "cell_type": "code",
      "source": [
        "'''\n",
        "Neste exemplo, invocamos find em word e passamos a letra que estamos procurando\n",
        "como um parâmetro.\n",
        "'''\n",
        "\n",
        "word = 'banana'\n",
        "index = word.find('a')\n",
        "index"
      ],
      "metadata": {
        "colab": {
          "base_uri": "https://localhost:8080/"
        },
        "id": "hxwTe8DoDTv1",
        "outputId": "12dab0a7-c82c-480e-e6c6-35d51a602f0a"
      },
      "execution_count": 28,
      "outputs": [
        {
          "output_type": "execute_result",
          "data": {
            "text/plain": [
              "1"
            ]
          },
          "metadata": {},
          "execution_count": 28
        }
      ]
    },
    {
      "cell_type": "markdown",
      "source": [
        "Na verdade, o método find é mais geral que a nossa função; ele pode encontrar\n",
        "substrings, não apenas caracteres:"
      ],
      "metadata": {
        "id": "-UCiRlntMN2G"
      }
    },
    {
      "cell_type": "code",
      "source": [
        "word.find('na')"
      ],
      "metadata": {
        "colab": {
          "base_uri": "https://localhost:8080/"
        },
        "id": "3zxNLO9SDpBy",
        "outputId": "ebba5f25-7319-45d2-c0a5-f9214cc18870"
      },
      "execution_count": 29,
      "outputs": [
        {
          "output_type": "execute_result",
          "data": {
            "text/plain": [
              "2"
            ]
          },
          "metadata": {},
          "execution_count": 29
        }
      ]
    },
    {
      "cell_type": "markdown",
      "source": [
        "Por padrão, find inicia no começo da string, mas pode receber um segundo argumento, o índice onde deve começar:"
      ],
      "metadata": {
        "id": "WxMNjnabMS_D"
      }
    },
    {
      "cell_type": "code",
      "source": [
        "word.find('na', 3)"
      ],
      "metadata": {
        "colab": {
          "base_uri": "https://localhost:8080/"
        },
        "id": "xyVl9v28MQo8",
        "outputId": "bdbcb6ef-4e21-4934-afed-e7295aa8e91c"
      },
      "execution_count": 30,
      "outputs": [
        {
          "output_type": "execute_result",
          "data": {
            "text/plain": [
              "4"
            ]
          },
          "metadata": {},
          "execution_count": 30
        }
      ]
    },
    {
      "cell_type": "markdown",
      "source": [
        "Este é um exemplo de um argumento opcional. find também pode receber um terceiro\n",
        "argumento, o índice para onde deve parar:"
      ],
      "metadata": {
        "id": "ICFh1HWcMXzC"
      }
    },
    {
      "cell_type": "code",
      "source": [
        "'''\n",
        "Esta busca falha porque 'b' não aparece no intervalo do índice de 1 a 2, não incluindo 2.\n",
        "Fazer buscas até (mas não incluindo) o segundo índice torna find similar ao operador de\n",
        "fatiamento.\n",
        "'''\n",
        "\n",
        "name = 'bob'\n",
        "name.find('b', 1, 2)"
      ],
      "metadata": {
        "colab": {
          "base_uri": "https://localhost:8080/"
        },
        "id": "XtL0M_wkMUx3",
        "outputId": "38fd5633-9383-4445-9a8b-92b94c2ebe12"
      },
      "execution_count": 32,
      "outputs": [
        {
          "output_type": "execute_result",
          "data": {
            "text/plain": [
              "-1"
            ]
          },
          "metadata": {},
          "execution_count": 32
        }
      ]
    },
    {
      "cell_type": "markdown",
      "source": [
        "<h2> 8.9 - Operador in </h2>\n",
        "\n",
        "A palavra in é um operador booleano que recebe duas strings e retorna True se a primeira aparecer como uma substring da segunda:"
      ],
      "metadata": {
        "id": "h431XJClMmUa"
      }
    },
    {
      "cell_type": "code",
      "source": [
        "'a' in 'banana'"
      ],
      "metadata": {
        "colab": {
          "base_uri": "https://localhost:8080/"
        },
        "id": "pSmm_DWBMac1",
        "outputId": "b71086fc-0e83-4a3d-dd4e-8c414ceecf55"
      },
      "execution_count": 33,
      "outputs": [
        {
          "output_type": "execute_result",
          "data": {
            "text/plain": [
              "True"
            ]
          },
          "metadata": {},
          "execution_count": 33
        }
      ]
    },
    {
      "cell_type": "code",
      "source": [
        "'seed' in 'banana'"
      ],
      "metadata": {
        "colab": {
          "base_uri": "https://localhost:8080/"
        },
        "id": "H-l26rcaOEmP",
        "outputId": "867605a4-4dd0-4033-b219-e5c10656a13e"
      },
      "execution_count": 34,
      "outputs": [
        {
          "output_type": "execute_result",
          "data": {
            "text/plain": [
              "False"
            ]
          },
          "metadata": {},
          "execution_count": 34
        }
      ]
    },
    {
      "cell_type": "markdown",
      "source": [
        "Por exemplo, a seguinte função imprime todas as letras de word1 que também aparecem em word2:\n"
      ],
      "metadata": {
        "id": "mvRigS0AOIY-"
      }
    },
    {
      "cell_type": "markdown",
      "source": [
        "Com nomes de variáveis bem escolhidos, o Python às vezes pode ser lido como um texto em inglês. Você pode ler este loop, “para (cada) letra em (a primeira) palavra, se (a) letra (aparecer) em (a segunda) palavra, exiba (a) letra”.\n",
        "Veja o que é apresentado ao se comparar maçãs e laranjas:"
      ],
      "metadata": {
        "id": "4ounynKlOi0Z"
      }
    },
    {
      "cell_type": "code",
      "source": [
        "def in_both(word1, word2):\n",
        "\n",
        "  for letter in word1:\n",
        "    if letter in word2:\n",
        "      print(letter)"
      ],
      "metadata": {
        "id": "qNVqzc5_OFzI"
      },
      "execution_count": 35,
      "outputs": []
    },
    {
      "cell_type": "code",
      "source": [
        "in_both('apples', 'oranges')"
      ],
      "metadata": {
        "colab": {
          "base_uri": "https://localhost:8080/"
        },
        "id": "2rQT3I7qOSW5",
        "outputId": "3b4791eb-e30d-4a92-ebc2-645ad487f530"
      },
      "execution_count": 40,
      "outputs": [
        {
          "output_type": "stream",
          "name": "stdout",
          "text": [
            "a\n",
            "e\n",
            "s\n"
          ]
        }
      ]
    },
    {
      "cell_type": "markdown",
      "source": [
        "<h2> 8.10 - Comparação de strings </h2>\n",
        "\n",
        "Os operadores relacionais funcionam em strings. Para ver se duas strings são iguais:"
      ],
      "metadata": {
        "id": "0tUh2gm4Ohq8"
      }
    },
    {
      "cell_type": "code",
      "source": [
        "if word == 'banana':\n",
        "  print('All right, bananas.')"
      ],
      "metadata": {
        "colab": {
          "base_uri": "https://localhost:8080/"
        },
        "id": "npWQ6CS8OUU2",
        "outputId": "02d1ff6f-27b7-4bc8-8233-a229eed1d080"
      },
      "execution_count": 41,
      "outputs": [
        {
          "output_type": "stream",
          "name": "stdout",
          "text": [
            "All right, bananas.\n"
          ]
        }
      ]
    },
    {
      "cell_type": "markdown",
      "source": [
        "Outras operações relacionais são úteis para colocar palavras em ordem alfabética:"
      ],
      "metadata": {
        "id": "I50HmYpHO4b3"
      }
    },
    {
      "cell_type": "code",
      "source": [
        "if word < 'banana':\n",
        "  print('Your word, ' + word + ', comes before banana.')\n",
        "elif word > 'banana':\n",
        "  print('Your word, ' + word + ', comes after banana.')\n",
        "else:\n",
        "  print('All right, bananas.')"
      ],
      "metadata": {
        "colab": {
          "base_uri": "https://localhost:8080/"
        },
        "id": "AFSDkzY9O0gi",
        "outputId": "1a2be92c-8763-4746-960a-db579fe775b8"
      },
      "execution_count": 42,
      "outputs": [
        {
          "output_type": "stream",
          "name": "stdout",
          "text": [
            "All right, bananas.\n"
          ]
        }
      ]
    },
    {
      "cell_type": "markdown",
      "source": [
        "<h2> 8.11 - Depuração </h2>\n",
        "\n",
        "Ao usar índices para atravessar os valores em uma sequência, é complicado acertar o começo e o fim da travessia. Aqui está uma função que supostamente compara duas palavras e retorna True se uma das palavras for o reverso da outra, mas contém dois erros:\n"
      ],
      "metadata": {
        "id": "Chm7aOd2QKRZ"
      }
    },
    {
      "cell_type": "code",
      "source": [
        "def is_reverse(word1, word2):\n",
        "  # verifica se as palavras têm o mesmo comprimento\n",
        "  # Este é um exemplo do modelo de guardião em “Verificação de tipos”, na página 101.\n",
        "  if len(word1) != len(word2):\n",
        "    return False\n",
        "\n",
        "  '''\n",
        "  i e j são índices: i atravessa word1 para a frente, enquanto j atravessa word2 para trás. Se\n",
        "  encontrarmos duas letras que não combinam, podemos retornar False imediatamente. Se\n",
        "  terminarmos o loop inteiro e todas as letras corresponderem, retornamos True.\n",
        "  '''\n",
        "  i = 0\n",
        "  j = len(word2)\n",
        "\n",
        "  while j > 0:\n",
        "    if word1[i] != word2[j]:\n",
        "      return False\n",
        "    i = i+1\n",
        "    j = j-1\n",
        "\n",
        "  return True"
      ],
      "metadata": {
        "id": "8rtIwY2pO_jf"
      },
      "execution_count": 43,
      "outputs": []
    },
    {
      "cell_type": "markdown",
      "source": [
        "Se testarmos esta função com as palavras “pots” e “stop”, esperamos o valor de retorno True, mas recebemos um IndexError:"
      ],
      "metadata": {
        "id": "49-NwtGtRQ_E"
      }
    },
    {
      "cell_type": "code",
      "source": [
        "is_reverse('pots', 'stop')"
      ],
      "metadata": {
        "colab": {
          "base_uri": "https://localhost:8080/",
          "height": 274
        },
        "id": "twUfnCxfQbPf",
        "outputId": "e68f0c04-76f4-4cd7-af2f-c6fb9138bbc7"
      },
      "execution_count": 44,
      "outputs": [
        {
          "output_type": "error",
          "ename": "IndexError",
          "evalue": "string index out of range",
          "traceback": [
            "\u001b[0;31m---------------------------------------------------------------------------\u001b[0m",
            "\u001b[0;31mIndexError\u001b[0m                                Traceback (most recent call last)",
            "\u001b[0;32m<ipython-input-44-d368e6954e78>\u001b[0m in \u001b[0;36m<cell line: 1>\u001b[0;34m()\u001b[0m\n\u001b[0;32m----> 1\u001b[0;31m \u001b[0mis_reverse\u001b[0m\u001b[0;34m(\u001b[0m\u001b[0;34m'pots'\u001b[0m\u001b[0;34m,\u001b[0m \u001b[0;34m'stop'\u001b[0m\u001b[0;34m)\u001b[0m\u001b[0;34m\u001b[0m\u001b[0;34m\u001b[0m\u001b[0m\n\u001b[0m",
            "\u001b[0;32m<ipython-input-43-834c8c12cddf>\u001b[0m in \u001b[0;36mis_reverse\u001b[0;34m(word1, word2)\u001b[0m\n\u001b[1;32m      7\u001b[0m \u001b[0;34m\u001b[0m\u001b[0m\n\u001b[1;32m      8\u001b[0m   \u001b[0;32mwhile\u001b[0m \u001b[0mj\u001b[0m \u001b[0;34m>\u001b[0m \u001b[0;36m0\u001b[0m\u001b[0;34m:\u001b[0m\u001b[0;34m\u001b[0m\u001b[0;34m\u001b[0m\u001b[0m\n\u001b[0;32m----> 9\u001b[0;31m     \u001b[0;32mif\u001b[0m \u001b[0mword1\u001b[0m\u001b[0;34m[\u001b[0m\u001b[0mi\u001b[0m\u001b[0;34m]\u001b[0m \u001b[0;34m!=\u001b[0m \u001b[0mword2\u001b[0m\u001b[0;34m[\u001b[0m\u001b[0mj\u001b[0m\u001b[0;34m]\u001b[0m\u001b[0;34m:\u001b[0m\u001b[0;34m\u001b[0m\u001b[0;34m\u001b[0m\u001b[0m\n\u001b[0m\u001b[1;32m     10\u001b[0m       \u001b[0;32mreturn\u001b[0m \u001b[0;32mFalse\u001b[0m\u001b[0;34m\u001b[0m\u001b[0;34m\u001b[0m\u001b[0m\n\u001b[1;32m     11\u001b[0m     \u001b[0mi\u001b[0m \u001b[0;34m=\u001b[0m \u001b[0mi\u001b[0m\u001b[0;34m+\u001b[0m\u001b[0;36m1\u001b[0m\u001b[0;34m\u001b[0m\u001b[0;34m\u001b[0m\u001b[0m\n",
            "\u001b[0;31mIndexError\u001b[0m: string index out of range"
          ]
        }
      ]
    },
    {
      "cell_type": "markdown",
      "source": [
        "Para depurar este tipo de erro, minha primeira ação é exibir os valores dos índices imediatamente antes da linha onde o erro aparece.\n"
      ],
      "metadata": {
        "id": "QJOa94YYRdBm"
      }
    },
    {
      "cell_type": "code",
      "source": [
        "def is_reverse(word1, word2):\n",
        "  # verifica se as palavras têm o mesmo comprimento\n",
        "  # Este é um exemplo do modelo de guardião em “Verificação de tipos”, na página 101.\n",
        "  if len(word1) != len(word2):\n",
        "    return False\n",
        "\n",
        "  '''\n",
        "  i e j são índices: i atravessa word1 para a frente, enquanto j atravessa word2 para trás. Se\n",
        "  encontrarmos duas letras que não combinam, podemos retornar False imediatamente. Se\n",
        "  terminarmos o loop inteiro e todas as letras corresponderem, retornamos True.\n",
        "  '''\n",
        "  i = 0\n",
        "  j = len(word2)\n",
        "\n",
        "  while j > 0:\n",
        "    print(i, j)\n",
        "    if word1[i] != word2[j]:\n",
        "      return False\n",
        "    i = i+1\n",
        "    j = j-1\n",
        "\n",
        "  return True"
      ],
      "metadata": {
        "id": "qP9g1jgvRSjQ"
      },
      "execution_count": 48,
      "outputs": []
    },
    {
      "cell_type": "markdown",
      "source": [
        "Agora quando executo o programa novamente, recebo mais informação:"
      ],
      "metadata": {
        "id": "NZAKd44lRlwa"
      }
    },
    {
      "cell_type": "code",
      "source": [
        "is_reverse('pots', 'stop')"
      ],
      "metadata": {
        "colab": {
          "base_uri": "https://localhost:8080/",
          "height": 293
        },
        "id": "tOU848xsRgoe",
        "outputId": "f7c96903-0d38-49e2-9f54-6945676189c7"
      },
      "execution_count": 46,
      "outputs": [
        {
          "output_type": "stream",
          "name": "stdout",
          "text": [
            "0 4\n"
          ]
        },
        {
          "output_type": "error",
          "ename": "IndexError",
          "evalue": "string index out of range",
          "traceback": [
            "\u001b[0;31m---------------------------------------------------------------------------\u001b[0m",
            "\u001b[0;31mIndexError\u001b[0m                                Traceback (most recent call last)",
            "\u001b[0;32m<ipython-input-46-d368e6954e78>\u001b[0m in \u001b[0;36m<cell line: 1>\u001b[0;34m()\u001b[0m\n\u001b[0;32m----> 1\u001b[0;31m \u001b[0mis_reverse\u001b[0m\u001b[0;34m(\u001b[0m\u001b[0;34m'pots'\u001b[0m\u001b[0;34m,\u001b[0m \u001b[0;34m'stop'\u001b[0m\u001b[0;34m)\u001b[0m\u001b[0;34m\u001b[0m\u001b[0;34m\u001b[0m\u001b[0m\n\u001b[0m",
            "\u001b[0;32m<ipython-input-45-ab3facea7b90>\u001b[0m in \u001b[0;36mis_reverse\u001b[0;34m(word1, word2)\u001b[0m\n\u001b[1;32m     15\u001b[0m   \u001b[0;32mwhile\u001b[0m \u001b[0mj\u001b[0m \u001b[0;34m>\u001b[0m \u001b[0;36m0\u001b[0m\u001b[0;34m:\u001b[0m\u001b[0;34m\u001b[0m\u001b[0;34m\u001b[0m\u001b[0m\n\u001b[1;32m     16\u001b[0m     \u001b[0mprint\u001b[0m\u001b[0;34m(\u001b[0m\u001b[0mi\u001b[0m\u001b[0;34m,\u001b[0m \u001b[0mj\u001b[0m\u001b[0;34m)\u001b[0m\u001b[0;34m\u001b[0m\u001b[0;34m\u001b[0m\u001b[0m\n\u001b[0;32m---> 17\u001b[0;31m     \u001b[0;32mif\u001b[0m \u001b[0mword1\u001b[0m\u001b[0;34m[\u001b[0m\u001b[0mi\u001b[0m\u001b[0;34m]\u001b[0m \u001b[0;34m!=\u001b[0m \u001b[0mword2\u001b[0m\u001b[0;34m[\u001b[0m\u001b[0mj\u001b[0m\u001b[0;34m]\u001b[0m\u001b[0;34m:\u001b[0m\u001b[0;34m\u001b[0m\u001b[0;34m\u001b[0m\u001b[0m\n\u001b[0m\u001b[1;32m     18\u001b[0m       \u001b[0;32mreturn\u001b[0m \u001b[0;32mFalse\u001b[0m\u001b[0;34m\u001b[0m\u001b[0;34m\u001b[0m\u001b[0m\n\u001b[1;32m     19\u001b[0m     \u001b[0mi\u001b[0m \u001b[0;34m=\u001b[0m \u001b[0mi\u001b[0m\u001b[0;34m+\u001b[0m\u001b[0;36m1\u001b[0m\u001b[0;34m\u001b[0m\u001b[0;34m\u001b[0m\u001b[0m\n",
            "\u001b[0;31mIndexError\u001b[0m: string index out of range"
          ]
        }
      ]
    },
    {
      "cell_type": "markdown",
      "source": [
        "**IndexError: string index out of range**\n",
        "\n"
      ],
      "metadata": {
        "id": "PHOsU24cRnix"
      }
    },
    {
      "cell_type": "markdown",
      "source": [
        "Na primeira vez que o programa passar pelo loop, o valor de j é 4, que está fora do intervalo da string ‘pots’. O índice do último caractere é 3, então o valor inicial de j deve ser len(word2)-1.\n",
        "Se corrigir esse erro e executar o programa novamente, recebo:"
      ],
      "metadata": {
        "id": "yEXZyboCR654"
      }
    },
    {
      "cell_type": "code",
      "source": [
        "def is_reverse(word1, word2):\n",
        "  # verifica se as palavras têm o mesmo comprimento\n",
        "  # Este é um exemplo do modelo de guardião em “Verificação de tipos”, na página 101.\n",
        "  if len(word1) != len(word2):\n",
        "    return False\n",
        "\n",
        "  '''\n",
        "  i e j são índices: i atravessa word1 para a frente, enquanto j atravessa word2 para trás. Se\n",
        "  encontrarmos duas letras que não combinam, podemos retornar False imediatamente. Se\n",
        "  terminarmos o loop inteiro e todas as letras corresponderem, retornamos True.\n",
        "  '''\n",
        "  i = 0\n",
        "  j = len(word2)-1\n",
        "\n",
        "  while j > 0:\n",
        "    print(i, j)\n",
        "    if word1[i] != word2[j]:\n",
        "      return False\n",
        "    i = i+1 # 0 1 2 3\n",
        "    j = j-1 # 3 2 1 0\n",
        "\n",
        "  return True"
      ],
      "metadata": {
        "id": "QWA8fHHeRiKA"
      },
      "execution_count": 49,
      "outputs": []
    },
    {
      "cell_type": "code",
      "source": [
        "is_reverse('pots', 'stop')"
      ],
      "metadata": {
        "colab": {
          "base_uri": "https://localhost:8080/"
        },
        "id": "u8ds1PRER-Fb",
        "outputId": "2c998999-5b3b-420a-fef6-0fb0a7ba466f"
      },
      "execution_count": 50,
      "outputs": [
        {
          "output_type": "stream",
          "name": "stdout",
          "text": [
            "0 3\n",
            "1 2\n",
            "2 1\n"
          ]
        },
        {
          "output_type": "execute_result",
          "data": {
            "text/plain": [
              "True"
            ]
          },
          "metadata": {},
          "execution_count": 50
        }
      ]
    },
    {
      "cell_type": "markdown",
      "source": [
        "output das execuções vai apenas até a terceira devido à condição de j > 0 no while, portanto, não sendo mostrada na tela.\n",
        "\n",
        "saídas de i:\n",
        "**0 1 2 3**\n",
        "\n",
        "saídas de j:\n",
        "**3 2 1 0**\n",
        "\n",
        "Para que apareça na tela, é necessário acrescentar um = na condição:"
      ],
      "metadata": {
        "id": "IHHZbmdNTuMl"
      }
    },
    {
      "cell_type": "code",
      "source": [
        "def is_reverse(word1, word2):\n",
        "  # verifica se as palavras têm o mesmo comprimento\n",
        "  # Este é um exemplo do modelo de guardião em “Verificação de tipos”, na página 101.\n",
        "  if len(word1) != len(word2):\n",
        "    return False\n",
        "\n",
        "  '''\n",
        "  i e j são índices: i atravessa word1 para a frente, enquanto j atravessa word2 para trás. Se\n",
        "  encontrarmos duas letras que não combinam, podemos retornar False imediatamente. Se\n",
        "  terminarmos o loop inteiro e todas as letras corresponderem, retornamos True.\n",
        "  '''\n",
        "  i = 0\n",
        "  j = len(word2)-1\n",
        "\n",
        "  while j >= 0:\n",
        "    if word1[i] != word2[j]:\n",
        "      return False\n",
        "    i = i+1 # 0 1 2 3  4\n",
        "    j = j-1 # 3 2 1 0 -1\n",
        "\n",
        "  return True"
      ],
      "metadata": {
        "id": "_tmq2mHVR_XK"
      },
      "execution_count": 68,
      "outputs": []
    },
    {
      "cell_type": "code",
      "source": [
        "is_reverse('pots', 'stop')"
      ],
      "metadata": {
        "colab": {
          "base_uri": "https://localhost:8080/"
        },
        "id": "X-h_1WLWUL33",
        "outputId": "1ac39c54-fd88-41ed-9777-206bb84976f9"
      },
      "execution_count": 58,
      "outputs": [
        {
          "output_type": "execute_result",
          "data": {
            "text/plain": [
              "True"
            ]
          },
          "metadata": {},
          "execution_count": 58
        }
      ]
    },
    {
      "cell_type": "markdown",
      "source": [
        "Acredito que o erro seja a função não ter nenhum trecho em que lide com o tamanho das letras - minúsculas e maiúsculas - e/ou com o caso de haver requisições a partir de índices diferente de 0, o que levará a comparações incorretas entre as duas strings, e/ou não reconhece espaços"
      ],
      "metadata": {
        "id": "eH_zD1Y4Vher"
      }
    },
    {
      "cell_type": "code",
      "source": [
        "is_reverse('Pots', 'stop')"
      ],
      "metadata": {
        "colab": {
          "base_uri": "https://localhost:8080/"
        },
        "id": "G9CwiTaHUM27",
        "outputId": "3328b13a-b26e-487c-8dd9-922ab8fbb653"
      },
      "execution_count": 59,
      "outputs": [
        {
          "output_type": "execute_result",
          "data": {
            "text/plain": [
              "False"
            ]
          },
          "metadata": {},
          "execution_count": 59
        }
      ]
    },
    {
      "cell_type": "code",
      "source": [
        "is_reverse('', '')"
      ],
      "metadata": {
        "colab": {
          "base_uri": "https://localhost:8080/"
        },
        "id": "X9A4Z5qFV27V",
        "outputId": "09edc75e-dc51-49f0-ef4b-dbeffccec7f7"
      },
      "execution_count": 64,
      "outputs": [
        {
          "output_type": "execute_result",
          "data": {
            "text/plain": [
              "True"
            ]
          },
          "metadata": {},
          "execution_count": 64
        }
      ]
    },
    {
      "cell_type": "code",
      "source": [
        "is_reverse('!', '!')"
      ],
      "metadata": {
        "colab": {
          "base_uri": "https://localhost:8080/"
        },
        "id": "FK6qZwY0XO2i",
        "outputId": "99d9f22b-83a7-4f43-9ffe-5a321f91cbed"
      },
      "execution_count": 70,
      "outputs": [
        {
          "output_type": "execute_result",
          "data": {
            "text/plain": [
              "True"
            ]
          },
          "metadata": {},
          "execution_count": 70
        }
      ]
    },
    {
      "cell_type": "code",
      "source": [
        "is_reverse('a!b', 'b!a')"
      ],
      "metadata": {
        "colab": {
          "base_uri": "https://localhost:8080/"
        },
        "id": "DzZhZ3pDXbn9",
        "outputId": "9ad1f7c6-1e59-4bb5-d219-77896e78efda"
      },
      "execution_count": 72,
      "outputs": [
        {
          "output_type": "execute_result",
          "data": {
            "text/plain": [
              "True"
            ]
          },
          "metadata": {},
          "execution_count": 72
        }
      ]
    },
    {
      "cell_type": "code",
      "source": [
        "is_reverse(' a!b', 'b!a')"
      ],
      "metadata": {
        "colab": {
          "base_uri": "https://localhost:8080/"
        },
        "id": "0QnBgu8-Xkw2",
        "outputId": "021e5fbd-6781-4644-f490-4a96b8edba54"
      },
      "execution_count": 73,
      "outputs": [
        {
          "output_type": "execute_result",
          "data": {
            "text/plain": [
              "False"
            ]
          },
          "metadata": {},
          "execution_count": 73
        }
      ]
    },
    {
      "cell_type": "markdown",
      "source": [
        "<h2> 8.12 - Glossário </h2>\n",
        "\n",
        "objeto:\n",
        "Algo a que uma variável pode se referir. Por enquanto, você pode usar “objeto” e\n",
        "“valor” de forma intercambiável.\n",
        "\n",
        "sequência:\n",
        "Uma coleção ordenada de valores onde cada valor é identificado por um índice de\n",
        "número inteiro.\n",
        "\n",
        "item:\n",
        "Um dos valores em uma sequência\n",
        "\n",
        "índice:\n",
        "Um valor inteiro usado para selecionar um item em uma sequência, como um\n",
        "caractere em uma string. No Python, os índices começam em 0.\n",
        "\n",
        "fatia:\n",
        "Parte de uma string especificada por um intervalo de índices.\n",
        "\n",
        "string vazia:\n",
        "Uma string sem caracteres e de comprimento 0, representada por duas aspas.\n"
      ],
      "metadata": {
        "id": "o41kScm97Lar"
      }
    },
    {
      "cell_type": "markdown",
      "source": [
        "imutável:\n",
        "A propriedade de uma sequência cujos itens não podem ser alterados.\n",
        "\n",
        "atravessar:\n",
        "Repetir os itens em uma sequência, executando uma operação semelhante em cada\n",
        "um.\n",
        "\n",
        "busca:\n",
        "Um modelo de travessia que é interrompido quando encontra o que está procurando.\n",
        "\n",
        "contador:\n",
        "Uma variável usada para contar algo, normalmente inicializada com zero e então\n",
        "incrementada.\n",
        "\n",
        "invocação:\n",
        "Uma instrução que chama um método.\n",
        "\n",
        "argumento opcional:\n",
        "Um argumento de função ou método que não é necessário."
      ],
      "metadata": {
        "id": "Khno0tsH70Q6"
      }
    },
    {
      "cell_type": "markdown",
      "source": [
        "<h2> 8.13 - Exercícios </h2>"
      ],
      "metadata": {
        "id": "kRoIDyHM9DtS"
      }
    },
    {
      "cell_type": "markdown",
      "source": [
        "<h3> Exercício 8.1 </h3>\n",
        "\n",
        "Leia a documentação dos métodos de strings em\n",
        "http://docs.python.org/3/library/stdtypes.html#string-methods. Pode ser uma boa ideia\n",
        "experimentar alguns deles para entender como funcionam. strip e replace são\n",
        "especialmente úteis.\n",
        "A documentação usa uma sintaxe que pode ser confusa. Por exemplo, em find(sub[,\n",
        "start[, end]]), os colchetes indicam argumentos opcionais. Então sub é exigido, mas\n",
        "start é opcional, e se você incluir start, então end é opcional."
      ],
      "metadata": {
        "id": "ob8P3GRn9G4H"
      }
    },
    {
      "cell_type": "markdown",
      "source": [
        "**STRIP**\n",
        "\n",
        "Retorna uma cópia da string com os caracteres iniciais e finais removidos. O argumento chars é uma string que especifica o conjunto de caracteres a serem removidos. Se omitido ou None, o argumento chars remove os espaços em branco por padrão. O argumento chars não é um prefixo ou sufixo; em vez disso, todas as combinações de seus valores são removidas:"
      ],
      "metadata": {
        "id": "BtV7kwH39sdW"
      }
    },
    {
      "cell_type": "code",
      "source": [
        "fruta1 = ' morango ' # possui espaço no início e no fim\n",
        "\n",
        "print(fruta1)\n",
        "fruta1.strip()\n",
        "\n",
        "# não é visível, mas se passar o mouse selecionando o output, verá que o primeiro 'morango'\n",
        "#possui espaços, e o segundo não tem mais os espaços"
      ],
      "metadata": {
        "colab": {
          "base_uri": "https://localhost:8080/",
          "height": 54
        },
        "id": "6DpLdUNi7NQ0",
        "outputId": "ed5ba3bc-1fdf-46be-b2eb-c81fd6e4d126"
      },
      "execution_count": 8,
      "outputs": [
        {
          "output_type": "stream",
          "name": "stdout",
          "text": [
            " morango \n"
          ]
        },
        {
          "output_type": "execute_result",
          "data": {
            "text/plain": [
              "'morango'"
            ],
            "application/vnd.google.colaboratory.intrinsic+json": {
              "type": "string"
            }
          },
          "metadata": {},
          "execution_count": 8
        }
      ]
    },
    {
      "cell_type": "markdown",
      "source": [
        "**REPLACE**\n",
        "\n",
        "Retorna uma cópia da string com todas as ocorrências da substring 'old' substituídas por 'new'. Se o argumento opcional 'count' for fornecido, somente as primeiras 'count' ocorrências serão substituídas.\n",
        "\n",
        "str. substituir(old, new [, count ])"
      ],
      "metadata": {
        "id": "eUCiMWjT-eAe"
      }
    },
    {
      "cell_type": "code",
      "source": [
        "fruta1.replace('m', 'b') # substitui 'm' por 'b'"
      ],
      "metadata": {
        "colab": {
          "base_uri": "https://localhost:8080/",
          "height": 36
        },
        "id": "TlP-rsw691oj",
        "outputId": "743dad95-e7f5-4905-a518-296c563784c0"
      },
      "execution_count": 11,
      "outputs": [
        {
          "output_type": "execute_result",
          "data": {
            "text/plain": [
              "' borango '"
            ],
            "application/vnd.google.colaboratory.intrinsic+json": {
              "type": "string"
            }
          },
          "metadata": {},
          "execution_count": 11
        }
      ]
    },
    {
      "cell_type": "code",
      "source": [
        "fruta1.replace('o', 'a', 2) # substitui 'o' por 'a' em duas ocorrências de 'o'"
      ],
      "metadata": {
        "colab": {
          "base_uri": "https://localhost:8080/",
          "height": 36
        },
        "id": "SaKlCMpM_WgY",
        "outputId": "c065682e-6324-4be7-9ae9-8127baca3ca4"
      },
      "execution_count": 12,
      "outputs": [
        {
          "output_type": "execute_result",
          "data": {
            "text/plain": [
              "' maranga '"
            ],
            "application/vnd.google.colaboratory.intrinsic+json": {
              "type": "string"
            }
          },
          "metadata": {},
          "execution_count": 12
        }
      ]
    },
    {
      "cell_type": "markdown",
      "source": [
        "<h3> Exercício 8.2 </h3>\n",
        "\n",
        "Há um método de string chamado count, que é semelhante à função em 'Loop e\n",
        "contagem', na página 123. Leia a documentação deste método e escreva uma invocação que conte o número de letras 'a' em 'banana'.\n"
      ],
      "metadata": {
        "id": "0emIeiPC_sXo"
      }
    },
    {
      "cell_type": "markdown",
      "source": [
        "**COUNT**\n",
        "\n",
        "Retorna o número de ocorrências não sobrepostas da subsequência sub no intervalo [start, end ]. Os argumentos opcionais start e end são interpretados como na notação de fatia.\n",
        "\n",
        "**total de números de ocorrências de um valor em outro valor**"
      ],
      "metadata": {
        "id": "IzjO4pGw_-Qc"
      }
    },
    {
      "cell_type": "code",
      "source": [
        "fruta = 'morango'\n",
        "fruta.count('o') # retorna quantas (2) vezes tem a letra 'o' na palavra 'morango'"
      ],
      "metadata": {
        "colab": {
          "base_uri": "https://localhost:8080/"
        },
        "id": "vHpLIGRP_gh6",
        "outputId": "4c207600-7411-4458-f2d2-58c5a329631f"
      },
      "execution_count": 14,
      "outputs": [
        {
          "output_type": "execute_result",
          "data": {
            "text/plain": [
              "2"
            ]
          },
          "metadata": {},
          "execution_count": 14
        }
      ]
    },
    {
      "cell_type": "code",
      "source": [
        "fruta2 = 'banana'\n",
        "fruta2.count('a') # retorna quantas (3) vezes tem a letra 'a' na palavra 'banana'"
      ],
      "metadata": {
        "colab": {
          "base_uri": "https://localhost:8080/"
        },
        "id": "Za71HZb-Achm",
        "outputId": "65b0c549-7cb7-462c-8158-ff323d5ff78b"
      },
      "execution_count": 16,
      "outputs": [
        {
          "output_type": "execute_result",
          "data": {
            "text/plain": [
              "3"
            ]
          },
          "metadata": {},
          "execution_count": 16
        }
      ]
    },
    {
      "cell_type": "markdown",
      "source": [
        "<h3> Exercício 8.3 </h3>\n",
        "\n",
        "Uma fatia de string pode receber um terceiro índice que especifique o 'tamanho do passo'; isto é, o número de espaços entre caracteres sucessivos. Um tamanho de passo 2 significa tomar um caractere e outro não; 3 significa tomar um e dois não etc."
      ],
      "metadata": {
        "id": "M_q7FD0qApZe"
      }
    },
    {
      "cell_type": "code",
      "source": [
        "fruta3 = 'banana'\n",
        "fruta3[0:5:2]"
      ],
      "metadata": {
        "colab": {
          "base_uri": "https://localhost:8080/",
          "height": 36
        },
        "id": "yAhU-xL_AkK1",
        "outputId": "2128996b-c422-40a5-f7c5-0127d98d1859"
      },
      "execution_count": 17,
      "outputs": [
        {
          "output_type": "execute_result",
          "data": {
            "text/plain": [
              "'bnn'"
            ],
            "application/vnd.google.colaboratory.intrinsic+json": {
              "type": "string"
            }
          },
          "metadata": {},
          "execution_count": 17
        }
      ]
    },
    {
      "cell_type": "markdown",
      "source": [
        "Um tamanho de passo -1 atravessa a palavra de trás para a frente, então a fatia [::-1] gera uma string invertida.\n",
        "Use isso para escrever uma versão de uma linha de is_palindrome do Exercício 6.3."
      ],
      "metadata": {
        "id": "VuiSnLNrCClT"
      }
    },
    {
      "cell_type": "code",
      "source": [
        "fruta3[::-1]"
      ],
      "metadata": {
        "colab": {
          "base_uri": "https://localhost:8080/",
          "height": 36
        },
        "id": "FUv0UIgOB3wG",
        "outputId": "0d405c79-1b70-4ea4-d609-336a54438ab3"
      },
      "execution_count": 19,
      "outputs": [
        {
          "output_type": "execute_result",
          "data": {
            "text/plain": [
              "'ananab'"
            ],
            "application/vnd.google.colaboratory.intrinsic+json": {
              "type": "string"
            }
          },
          "metadata": {},
          "execution_count": 19
        }
      ]
    },
    {
      "cell_type": "code",
      "source": [
        "fruta3[:-1]"
      ],
      "metadata": {
        "colab": {
          "base_uri": "https://localhost:8080/",
          "height": 36
        },
        "id": "54748eQOCeaM",
        "outputId": "aa6c1e9f-ac11-48bb-979a-e6814d2631c9"
      },
      "execution_count": 20,
      "outputs": [
        {
          "output_type": "execute_result",
          "data": {
            "text/plain": [
              "'banan'"
            ],
            "application/vnd.google.colaboratory.intrinsic+json": {
              "type": "string"
            }
          },
          "metadata": {},
          "execution_count": 20
        }
      ]
    },
    {
      "cell_type": "code",
      "source": [
        "fruta3[-1:]"
      ],
      "metadata": {
        "colab": {
          "base_uri": "https://localhost:8080/",
          "height": 36
        },
        "id": "WGBu5SNKCiDv",
        "outputId": "45c6ff4b-2545-4afa-91b3-ceaf40ca226a"
      },
      "execution_count": 21,
      "outputs": [
        {
          "output_type": "execute_result",
          "data": {
            "text/plain": [
              "'a'"
            ],
            "application/vnd.google.colaboratory.intrinsic+json": {
              "type": "string"
            }
          },
          "metadata": {},
          "execution_count": 21
        }
      ]
    },
    {
      "cell_type": "code",
      "source": [
        "def is_palindrome(word):\n",
        "  return word[:] == word[::-1]"
      ],
      "metadata": {
        "id": "Bx1f4WyFCL4w"
      },
      "execution_count": 22,
      "outputs": []
    },
    {
      "cell_type": "code",
      "source": [
        "is_palindrome('bob') # tem que retornar True"
      ],
      "metadata": {
        "colab": {
          "base_uri": "https://localhost:8080/"
        },
        "id": "IQyUf133CpMb",
        "outputId": "c0795bba-22ca-474e-fb8c-086d5a139927"
      },
      "execution_count": 23,
      "outputs": [
        {
          "output_type": "execute_result",
          "data": {
            "text/plain": [
              "True"
            ]
          },
          "metadata": {},
          "execution_count": 23
        }
      ]
    },
    {
      "cell_type": "code",
      "source": [
        "is_palindrome('bola') # tem que retornar False"
      ],
      "metadata": {
        "colab": {
          "base_uri": "https://localhost:8080/"
        },
        "id": "IupW6wUvCrAO",
        "outputId": "01ced7a7-9687-4414-b075-fc42f7c3faff"
      },
      "execution_count": 24,
      "outputs": [
        {
          "output_type": "execute_result",
          "data": {
            "text/plain": [
              "False"
            ]
          },
          "metadata": {},
          "execution_count": 24
        }
      ]
    },
    {
      "cell_type": "markdown",
      "source": [
        "<h3> Exercício 8.4 </h3>\n",
        "\n",
        "As seguintes funções pretendem verificar se uma string contém alguma letra minúscula, mas algumas delas estão erradas. Para cada função, descreva o que ela faz (assumindo que o parâmetro seja uma string)."
      ],
      "metadata": {
        "id": "ViVmVgNpCzkV"
      }
    },
    {
      "cell_type": "code",
      "source": [
        "'''\n",
        "Essa função tem o objetivo de atravessar a string passada por parâmetro, letra a letra, e\n",
        "verificar se a letra é minúscula. se sim, retorna True, se não, retorna falso.\n",
        "\n",
        "ERRO: o erro dessa função, é que na primeira ocorrência, seja de True ou False, a função\n",
        "é finalizada\n",
        "'''\n",
        "def any_lowercase1(s):\n",
        "  for c in s:\n",
        "    if c.islower():\n",
        "      return True\n",
        "    else:\n",
        "      return False"
      ],
      "metadata": {
        "id": "g6AtUXKCCvPY"
      },
      "execution_count": 28,
      "outputs": []
    },
    {
      "cell_type": "code",
      "source": [
        "any_lowercase1('breNda')"
      ],
      "metadata": {
        "colab": {
          "base_uri": "https://localhost:8080/"
        },
        "id": "lm-k3iqVEXLO",
        "outputId": "83537a97-3cb1-48a4-a57f-1de3d39a1346"
      },
      "execution_count": 26,
      "outputs": [
        {
          "output_type": "execute_result",
          "data": {
            "text/plain": [
              "True"
            ]
          },
          "metadata": {},
          "execution_count": 26
        }
      ]
    },
    {
      "cell_type": "code",
      "source": [
        "any_lowercase1('Brenda')"
      ],
      "metadata": {
        "colab": {
          "base_uri": "https://localhost:8080/"
        },
        "id": "GSZ6LuoSFEBN",
        "outputId": "f00d175f-3e2e-4717-9fe2-1abb1c5d0564"
      },
      "execution_count": 27,
      "outputs": [
        {
          "output_type": "execute_result",
          "data": {
            "text/plain": [
              "False"
            ]
          },
          "metadata": {},
          "execution_count": 27
        }
      ]
    },
    {
      "cell_type": "code",
      "source": [
        "'''\n",
        "Essa função tem o objetivo de atravessar a string passada por parâmetro, letra a letra, e\n",
        "verificar se a letra 'c' é minúscula. se sim, retorna True, se não,\n",
        "retorna False.\n",
        "\n",
        "ERRO: a função SEMPRE vai retornar True, pois o método está sendo invocado numa string de letra\n",
        "'c' minúscula, ou seja, verdadeiro - e finaliza as execuções. Independentemente da variável\n",
        "passado por parâmetro.\n",
        "'''\n",
        "def any_lowercase2(s):\n",
        "  for c in s:\n",
        "    if 'c'.islower():\n",
        "      return 'True'\n",
        "    else:\n",
        "      return 'False'"
      ],
      "metadata": {
        "id": "6UJCLmx8Efyb"
      },
      "execution_count": 34,
      "outputs": []
    },
    {
      "cell_type": "code",
      "source": [
        "any_lowercase2('Brenda')"
      ],
      "metadata": {
        "colab": {
          "base_uri": "https://localhost:8080/",
          "height": 36
        },
        "id": "NQm3g-owFfMu",
        "outputId": "3ce80c73-f12c-44a2-9f4f-34098da4753e"
      },
      "execution_count": 35,
      "outputs": [
        {
          "output_type": "execute_result",
          "data": {
            "text/plain": [
              "'True'"
            ],
            "application/vnd.google.colaboratory.intrinsic+json": {
              "type": "string"
            }
          },
          "metadata": {},
          "execution_count": 35
        }
      ]
    },
    {
      "cell_type": "code",
      "source": [
        "'''\n",
        "Essa função tem o objetivo de atravessar a string passada por parâmetro, letra a letra, e\n",
        "verificar se a letra é minúscula. se sim, retorna True, se não, retorna False armazenando\n",
        "esses valores booleanos na variável flag.\n",
        "\n",
        "ERRO: a cada varificação de letra, o valor booleano é armazenado sempre na mesma variável, ou seja,\n",
        "toda vez em que uma letra é verificada, seu resultado sobrepõe o anterior. assim, a função vai\n",
        "retornar o último valor booleano referente a última letra da string que foi passada por parâmetro.\n",
        "'''\n",
        "\n",
        "def any_lowercase3(s):\n",
        "  for c in s:\n",
        "    flag = c.islower()\n",
        "  return flag"
      ],
      "metadata": {
        "id": "RSjHfTQsFvR-"
      },
      "execution_count": 43,
      "outputs": []
    },
    {
      "cell_type": "code",
      "source": [
        "any_lowercase3('Brenda') # retorna True, pois 'a' é minúscula"
      ],
      "metadata": {
        "colab": {
          "base_uri": "https://localhost:8080/"
        },
        "id": "CyzUE4HvHcz2",
        "outputId": "57d3ed3d-c14e-4fd9-acb1-823b1e22fc7d"
      },
      "execution_count": 42,
      "outputs": [
        {
          "output_type": "execute_result",
          "data": {
            "text/plain": [
              "True"
            ]
          },
          "metadata": {},
          "execution_count": 42
        }
      ]
    },
    {
      "cell_type": "code",
      "source": [
        "any_lowercase3('BrendA') # retorna False, pois 'A' é maiúscula"
      ],
      "metadata": {
        "colab": {
          "base_uri": "https://localhost:8080/"
        },
        "id": "zkKzMkMuIvnj",
        "outputId": "888e7999-f756-45a6-ffef-540e8541b303"
      },
      "execution_count": 44,
      "outputs": [
        {
          "output_type": "execute_result",
          "data": {
            "text/plain": [
              "False"
            ]
          },
          "metadata": {},
          "execution_count": 44
        }
      ]
    },
    {
      "cell_type": "code",
      "source": [
        "'''\n",
        "Essa função tem o objetivo de atravessar a string passada por parâmetro, letra a letra,\n",
        "e RETORNAR o valor original atribuído à flag (False), ou atribuir à ela o valor booleano\n",
        "da verificação de cada letra que está sendo validada. e retornaa a flag no final.\n",
        "\n",
        "ERRO: pode ocorrer de a função retornar True sempre, pois na regra do operador lógico\n",
        "\"OR\" (OU) basta apenas uma VERDADE (True) para que seja retornado VERDADE (True).\n",
        "'''\n",
        "\n",
        "def any_lowercase4(s):\n",
        "  flag = False\n",
        "\n",
        "  for c in s:\n",
        "    flag = flag or c.islower()\n",
        "  return flag"
      ],
      "metadata": {
        "id": "8bHyE2exHY2y"
      },
      "execution_count": 46,
      "outputs": []
    },
    {
      "cell_type": "code",
      "source": [
        "any_lowercase4('Brenda') # B = False | r = True | e = True | n = True | d = True | a = True |"
      ],
      "metadata": {
        "colab": {
          "base_uri": "https://localhost:8080/"
        },
        "id": "OsLdEsl2HdJb",
        "outputId": "ef0d90c2-e47b-415e-b624-170e4a30d5a4"
      },
      "execution_count": 47,
      "outputs": [
        {
          "output_type": "execute_result",
          "data": {
            "text/plain": [
              "True"
            ]
          },
          "metadata": {},
          "execution_count": 47
        }
      ]
    },
    {
      "cell_type": "code",
      "source": [
        "any_lowercase4('BrendA') # B = False | r = True | e = True | n = True | d = True | a = True |"
      ],
      "metadata": {
        "colab": {
          "base_uri": "https://localhost:8080/"
        },
        "id": "u7sb33O2LlIe",
        "outputId": "3c86f344-9695-42a0-929f-9f503f46a4e1"
      },
      "execution_count": 48,
      "outputs": [
        {
          "output_type": "execute_result",
          "data": {
            "text/plain": [
              "True"
            ]
          },
          "metadata": {},
          "execution_count": 48
        }
      ]
    },
    {
      "cell_type": "code",
      "source": [
        "'''\n",
        "Essa função tem o objetivo de atravessar a string passada por parâmetro, letra a letra, e\n",
        "verificar se a letra em 'c' é minúscula, se for maiúscula, vai retornar False, e finalizar.\n",
        "se for minúscula, retornar True.\n",
        "\n",
        "ERRO: quando a função encontra uma letra maiúscula, ela retorna False imediatamente, e finaliza\n",
        "a execução. e para retornar True, todos os caracteres tem que ser minúsculos.\n",
        "'''\n",
        "\n",
        "def any_lowercase5(s):\n",
        "  for c in s:\n",
        "    print(c)\n",
        "    if not c.islower():\n",
        "      return False\n",
        "  return True"
      ],
      "metadata": {
        "id": "7Qa_Q-usHZe2"
      },
      "execution_count": 52,
      "outputs": []
    },
    {
      "cell_type": "code",
      "source": [
        "any_lowercase5('Brenda') # verifica B = False > not False = True"
      ],
      "metadata": {
        "colab": {
          "base_uri": "https://localhost:8080/"
        },
        "id": "2D7ONE6hHdgY",
        "outputId": "a26b6f28-3a93-4cdb-fb23-2ca0cc6eeb3a"
      },
      "execution_count": 53,
      "outputs": [
        {
          "output_type": "stream",
          "name": "stdout",
          "text": [
            "B\n"
          ]
        },
        {
          "output_type": "execute_result",
          "data": {
            "text/plain": [
              "False"
            ]
          },
          "metadata": {},
          "execution_count": 53
        }
      ]
    },
    {
      "cell_type": "code",
      "source": [
        "any_lowercase5('brenda')\n",
        "\n",
        "# verifica b = True > not True = False\n",
        "# verifica r = True > not True = False\n",
        "# verifica e = True > not True = False\n",
        "# verifica n = True > not True = False\n",
        "# verifica d = True > not True = False\n",
        "# verifica a = True > not True = False"
      ],
      "metadata": {
        "colab": {
          "base_uri": "https://localhost:8080/"
        },
        "id": "ol5agTwcT0V3",
        "outputId": "dfd457c4-0b12-46d3-fe41-86a2b8995836"
      },
      "execution_count": 54,
      "outputs": [
        {
          "output_type": "stream",
          "name": "stdout",
          "text": [
            "b\n",
            "r\n",
            "e\n",
            "n\n",
            "d\n",
            "a\n"
          ]
        },
        {
          "output_type": "execute_result",
          "data": {
            "text/plain": [
              "True"
            ]
          },
          "metadata": {},
          "execution_count": 54
        }
      ]
    },
    {
      "cell_type": "markdown",
      "source": [
        "**EXPLICAÇÃO CHATGPT:**\n",
        "\n",
        "O problema com a função any_lowercase5 é uma questão de lógica incorreta e não um falso-positivo. A função estava verificando se todos os caracteres eram minúsculos, mas o nome da função sugere que ela deveria verificar se qualquer caractere é minúsculo.\n",
        "\n",
        "Isso é simplesmente um erro de implementação ou uma lógica mal nomeada, mas não se trata de um falso-positivo. Se o nome da função estivesse correto para o que o código faz, ou seja, se fosse algo como all_lowercase, então o comportamento da função estaria correto."
      ],
      "metadata": {
        "id": "i9Ly9mDZWY8-"
      }
    },
    {
      "cell_type": "markdown",
      "source": [
        "<h2> Exercício 8.5 </h2>\n",
        "\n",
        "Uma cifra de César é uma forma fraca de criptografia que implica “rotacionar” cada letra por um número fixo de lugares. Rotacionar uma letra significa deslocá-lo pelo alfabeto, voltando ao início se for necessário, portanto 'A' rotacionado por 3 é 'D' e 'Z' rotacionado por 1 é 'A'.\n",
        "\n",
        "Para rotacionar uma palavra, faça cada letra se mover pela mesma quantidade de posições.\n",
        "\n",
        "Você pode usar a função integrada ord, que converte um caractere em um código numérico e chr, que converte códigos numéricos em caracteres. As letras do alfabeto são codificadas em ordem alfabética, então, por exemplo:\n",
        "\n",
        "```\n",
        ">>> ord('c') - ord('a')\n",
        "2\n",
        "```\n",
        "\n",
        "Porque 'c' é a “segunda” letra do alfabeto. Mas tenha cuidado: os códigos numéricos de letras maiúsculas são diferentes.\n",
        "\n",
        "**Piadas potencialmente ofensivas na internet às vezes são codificadas em ROT13, que é uma cifra de César com rotação 13. Se não se ofender facilmente, encontre e decifre algumas delas.**"
      ],
      "metadata": {
        "id": "CbmsqM1gWw4i"
      }
    },
    {
      "cell_type": "markdown",
      "source": [
        "**TESTES**"
      ],
      "metadata": {
        "id": "C3ueopcEbzDb"
      }
    },
    {
      "cell_type": "code",
      "source": [
        "# EU TE AMO\n",
        "\n",
        "# IY XI EQS"
      ],
      "metadata": {
        "id": "9N8fJqQrT86h"
      },
      "execution_count": null,
      "outputs": []
    },
    {
      "cell_type": "code",
      "source": [
        "ord('c') - ord('a')"
      ],
      "metadata": {
        "colab": {
          "base_uri": "https://localhost:8080/"
        },
        "id": "p5AtT3rHaxes",
        "outputId": "9afe8832-f042-4d07-86af-e56b0ac6f25c"
      },
      "execution_count": 55,
      "outputs": [
        {
          "output_type": "execute_result",
          "data": {
            "text/plain": [
              "2"
            ]
          },
          "metadata": {},
          "execution_count": 55
        }
      ]
    },
    {
      "cell_type": "code",
      "source": [
        "ord('c')"
      ],
      "metadata": {
        "colab": {
          "base_uri": "https://localhost:8080/"
        },
        "id": "I_TBShoRbAqi",
        "outputId": "42c8aa81-180f-488e-9035-c6fe35128707"
      },
      "execution_count": 56,
      "outputs": [
        {
          "output_type": "execute_result",
          "data": {
            "text/plain": [
              "99"
            ]
          },
          "metadata": {},
          "execution_count": 56
        }
      ]
    },
    {
      "cell_type": "code",
      "source": [
        "ord('a')"
      ],
      "metadata": {
        "colab": {
          "base_uri": "https://localhost:8080/"
        },
        "id": "KN7UbaAQbBhv",
        "outputId": "f1a62356-6884-4b81-e846-d321ec0145d4"
      },
      "execution_count": 57,
      "outputs": [
        {
          "output_type": "execute_result",
          "data": {
            "text/plain": [
              "97"
            ]
          },
          "metadata": {},
          "execution_count": 57
        }
      ]
    },
    {
      "cell_type": "code",
      "source": [
        "99 - 97 # 2"
      ],
      "metadata": {
        "colab": {
          "base_uri": "https://localhost:8080/"
        },
        "id": "q2sQY9TNbEea",
        "outputId": "3fdc959e-ae42-478b-8682-86e1841bf45b"
      },
      "execution_count": 58,
      "outputs": [
        {
          "output_type": "execute_result",
          "data": {
            "text/plain": [
              "2"
            ]
          },
          "metadata": {},
          "execution_count": 58
        }
      ]
    },
    {
      "cell_type": "code",
      "source": [
        "ord('c') + 7"
      ],
      "metadata": {
        "colab": {
          "base_uri": "https://localhost:8080/"
        },
        "id": "F0J-SmwibM6c",
        "outputId": "4b798294-22d4-4d32-f8db-06ff1f326a00"
      },
      "execution_count": 59,
      "outputs": [
        {
          "output_type": "execute_result",
          "data": {
            "text/plain": [
              "106"
            ]
          },
          "metadata": {},
          "execution_count": 59
        }
      ]
    },
    {
      "cell_type": "code",
      "source": [
        "chr(106)"
      ],
      "metadata": {
        "colab": {
          "base_uri": "https://localhost:8080/",
          "height": 36
        },
        "id": "izcqs5Hybups",
        "outputId": "c912dfd2-4483-4650-c5eb-c070a0c88332"
      },
      "execution_count": 60,
      "outputs": [
        {
          "output_type": "execute_result",
          "data": {
            "text/plain": [
              "'j'"
            ],
            "application/vnd.google.colaboratory.intrinsic+json": {
              "type": "string"
            }
          },
          "metadata": {},
          "execution_count": 60
        }
      ]
    },
    {
      "cell_type": "markdown",
      "source": [
        "Escreva uma função chamada rotate_word que receba uma string e um número inteiro\n",
        "como parâmetros, e retorne uma nova string que contém as letras da string original rotacionadas pelo número dado."
      ],
      "metadata": {
        "id": "_DSOxHwMb9pF"
      }
    },
    {
      "cell_type": "code",
      "source": [
        "def rotate_word(string, numero_rotacao):\n",
        "  nova_string = ''\n",
        "\n",
        "  for letra in string:\n",
        "    nova_string = nova_string + chr(ord(letra) + numero_rotacao)\n",
        "\n",
        "  return nova_string"
      ],
      "metadata": {
        "id": "GDFnyHxbbxYK"
      },
      "execution_count": 71,
      "outputs": []
    },
    {
      "cell_type": "code",
      "source": [
        "rotate_word('EUTEAMO', 4)"
      ],
      "metadata": {
        "colab": {
          "base_uri": "https://localhost:8080/",
          "height": 36
        },
        "id": "eiqNylFQfCxL",
        "outputId": "dfce1304-4530-45a6-b810-207018d23b0e"
      },
      "execution_count": 72,
      "outputs": [
        {
          "output_type": "execute_result",
          "data": {
            "text/plain": [
              "'IYXIEQS'"
            ],
            "application/vnd.google.colaboratory.intrinsic+json": {
              "type": "string"
            }
          },
          "metadata": {},
          "execution_count": 72
        }
      ]
    }
  ]
}