{
 "cells": [
  {
   "cell_type": "markdown",
   "metadata": {
    "colab_type": "text",
    "id": "view-in-github"
   },
   "source": [
    "<a href=\"https://colab.research.google.com/github/bitwoman/pense-em-python/blob/main/capitulo_8.ipynb\" target=\"_parent\"><img src=\"https://colab.research.google.com/assets/colab-badge.svg\" alt=\"Open In Colab\"/></a>"
   ]
  },
  {
   "cell_type": "markdown",
   "metadata": {
    "id": "x7rvwcbdVXDQ"
   },
   "source": [
    "# **ESTUDO DO LIVRO \"Pense em Python\", DO AUTOR ALLEN B. DOWNEY**\n",
    "\n",
    "<p> Estudos iniciados em 20-06-2024. </p>"
   ]
  },
  {
   "cell_type": "markdown",
   "metadata": {
    "id": "tmGQ9pzDVZmV"
   },
   "source": [
    "# Capítulo 8: Strings\n",
    "\n",
    "Strings não são como números inteiros, de ponto flutuante ou booleanos. Uma string é uma sequência, ou seja, uma coleção ordenada de outros valores."
   ]
  },
  {
   "cell_type": "markdown",
   "metadata": {
    "id": "QQSG6usRjYzX"
   },
   "source": [
    "<h2> 8.1 - Uma string é uma sequência </h2>\n",
    "\n",
    "Uma string é uma sequência de caracteres. Você pode acessar um caractere de cada vez com o operador de colchete:"
   ]
  },
  {
   "cell_type": "code",
   "execution_count": null,
   "metadata": {
    "colab": {
     "base_uri": "https://localhost:8080/"
    },
    "id": "gCV4Iel1VVKE",
    "outputId": "897eb399-ae7d-4d2d-b107-f6da38bfd110"
   },
   "outputs": [
    {
     "name": "stdout",
     "output_type": "stream",
     "text": [
      "banana\n",
      "a\n"
     ]
    }
   ],
   "source": [
    "fruta = 'banana'\n",
    "letra = fruta[1] # A expressão entre colchetes chama-se índice, que aponta qual caractere da sequência\n",
    "                 # você quer (daí o nome).\n",
    "\n",
    "print(fruta)\n",
    "print(letra)"
   ]
  },
  {
   "cell_type": "markdown",
   "metadata": {
    "id": "nieiXUR0j9c5"
   },
   "source": [
    "Para a maior parte das pessoas, a primeira letra de ‘banana’ é b, não a. Mas para os cientistas da computação, o índice é uma referência do começo da string, e a referência da primeira letra é zero."
   ]
  },
  {
   "cell_type": "markdown",
   "metadata": {
    "id": "vXtn3wsjkJX8"
   },
   "source": [
    "Você pode usar uma expressão que contenha variáveis e operadores como índice:"
   ]
  },
  {
   "cell_type": "code",
   "execution_count": null,
   "metadata": {
    "colab": {
     "base_uri": "https://localhost:8080/"
    },
    "id": "-JMV90YPjpBs",
    "outputId": "4edd8e27-bb87-4581-b5ae-dbbf0055394c"
   },
   "outputs": [
    {
     "name": "stdout",
     "output_type": "stream",
     "text": [
      "a\n"
     ]
    }
   ],
   "source": [
    "i = 1\n",
    "\n",
    "print(fruta[i])"
   ]
  },
  {
   "cell_type": "code",
   "execution_count": null,
   "metadata": {
    "colab": {
     "base_uri": "https://localhost:8080/"
    },
    "id": "yOSgrYibkOJy",
    "outputId": "907214ed-895c-4a7a-cb0f-235cc560e1c9"
   },
   "outputs": [
    {
     "name": "stdout",
     "output_type": "stream",
     "text": [
      "n\n"
     ]
    }
   ],
   "source": [
    "print(fruta[i+1])"
   ]
  },
  {
   "cell_type": "markdown",
   "metadata": {
    "id": "Ibn3IP7KkVOH"
   },
   "source": [
    "Porém, o valor do índice tem que ser um número inteiro. Se não for, é isso que aparece:\n",
    "\n",
    "**TypeError: string indices must be integers**"
   ]
  },
  {
   "cell_type": "code",
   "execution_count": null,
   "metadata": {
    "colab": {
     "base_uri": "https://localhost:8080/",
     "height": 147
    },
    "id": "BxZKg4YgkQK1",
    "outputId": "9ad8f0bb-ab90-4197-c8f1-5005ac3d6590"
   },
   "outputs": [
    {
     "ename": "TypeError",
     "evalue": "string indices must be integers",
     "output_type": "error",
     "traceback": [
      "\u001b[0;31m---------------------------------------------------------------------------\u001b[0m",
      "\u001b[0;31mTypeError\u001b[0m                                 Traceback (most recent call last)",
      "\u001b[0;32m<ipython-input-5-a11f8bbea000>\u001b[0m in \u001b[0;36m<cell line: 1>\u001b[0;34m()\u001b[0m\n\u001b[0;32m----> 1\u001b[0;31m \u001b[0mletra\u001b[0m \u001b[0;34m=\u001b[0m \u001b[0mfruta\u001b[0m\u001b[0;34m[\u001b[0m\u001b[0;36m1.5\u001b[0m\u001b[0;34m]\u001b[0m\u001b[0;34m\u001b[0m\u001b[0;34m\u001b[0m\u001b[0m\n\u001b[0m",
      "\u001b[0;31mTypeError\u001b[0m: string indices must be integers"
     ]
    }
   ],
   "source": [
    "letra = fruta[1.5]"
   ]
  },
  {
   "cell_type": "markdown",
   "metadata": {
    "id": "k1pAkSkEkhpd"
   },
   "source": [
    "<h2> 8.2 - len </h2>\n",
    "\n",
    "**len** é uma função integrada que devolve o número de caracteres em uma string:"
   ]
  },
  {
   "cell_type": "code",
   "execution_count": null,
   "metadata": {
    "colab": {
     "base_uri": "https://localhost:8080/"
    },
    "id": "TgLE6j6qkY2r",
    "outputId": "34d78a1f-d5fc-4009-e117-2d9bfba80949"
   },
   "outputs": [
    {
     "data": {
      "text/plain": [
       "6"
      ]
     },
     "execution_count": 7,
     "metadata": {},
     "output_type": "execute_result"
    }
   ],
   "source": [
    "len(fruta) # 6"
   ]
  },
  {
   "cell_type": "markdown",
   "metadata": {
    "id": "9tCZaSObkth9"
   },
   "source": [
    "Para obter a última letra de uma string, pode parecer uma boa ideia tentar algo assim:"
   ]
  },
  {
   "cell_type": "code",
   "execution_count": null,
   "metadata": {
    "colab": {
     "base_uri": "https://localhost:8080/",
     "height": 165
    },
    "id": "PiLNOO3TkrYZ",
    "outputId": "d2bccf3d-080e-4c40-94eb-115fe14509db"
   },
   "outputs": [
    {
     "ename": "IndexError",
     "evalue": "string index out of range",
     "output_type": "error",
     "traceback": [
      "\u001b[0;31m---------------------------------------------------------------------------\u001b[0m",
      "\u001b[0;31mIndexError\u001b[0m                                Traceback (most recent call last)",
      "\u001b[0;32m<ipython-input-10-e14530a4e206>\u001b[0m in \u001b[0;36m<cell line: 2>\u001b[0;34m()\u001b[0m\n\u001b[1;32m      1\u001b[0m \u001b[0mlength\u001b[0m \u001b[0;34m=\u001b[0m \u001b[0mlen\u001b[0m\u001b[0;34m(\u001b[0m\u001b[0mfruta\u001b[0m\u001b[0;34m)\u001b[0m\u001b[0;34m\u001b[0m\u001b[0;34m\u001b[0m\u001b[0m\n\u001b[0;32m----> 2\u001b[0;31m \u001b[0mlast\u001b[0m \u001b[0;34m=\u001b[0m \u001b[0mfruta\u001b[0m\u001b[0;34m[\u001b[0m\u001b[0mlength\u001b[0m\u001b[0;34m]\u001b[0m\u001b[0;34m\u001b[0m\u001b[0;34m\u001b[0m\u001b[0m\n\u001b[0m",
      "\u001b[0;31mIndexError\u001b[0m: string index out of range"
     ]
    }
   ],
   "source": [
    "length = len(fruta)\n",
    "last = fruta[length]"
   ]
  },
  {
   "cell_type": "markdown",
   "metadata": {
    "id": "vsaIwXxmlDti"
   },
   "source": [
    "A razão de haver um IndexError aqui é que não há nenhuma letra em ‘banana’ com o\n",
    "índice 6. Como a contagem inicia no zero, as seis letras são numeradas de 0 a 5. Para obter o último caractere, você deve subtrair 1 de length:"
   ]
  },
  {
   "cell_type": "code",
   "execution_count": null,
   "metadata": {
    "colab": {
     "base_uri": "https://localhost:8080/"
    },
    "id": "QuHwmNuPk2ky",
    "outputId": "22a21cf5-6982-4eee-8b17-e56d83d204df"
   },
   "outputs": [
    {
     "name": "stdout",
     "output_type": "stream",
     "text": [
      "a\n"
     ]
    }
   ],
   "source": [
    "last = fruta[length-1]\n",
    "print(last)"
   ]
  },
  {
   "cell_type": "markdown",
   "metadata": {
    "id": "jftH4wWolMFd"
   },
   "source": [
    "Ou você pode usar índices negativos, que contam de trás para a frente a partir do fim da string. A expressão fruit[-1] apresenta a última letra, fruit[-2] apresenta a segunda letra de trás para a frente, e assim por diante."
   ]
  },
  {
   "cell_type": "markdown",
   "metadata": {
    "id": "Sy427rPilPn_"
   },
   "source": [
    "<h2> 8.3 - Travessia com loop for </h2>\n",
    "\n",
    "Muitos cálculos implicam o processamento de um caractere por vez em uma string.\n",
    "Muitas vezes começam no início, selecionam um caractere por vez, fazem algo e\n",
    "continuam até o fim. Este modelo do processamento chama-se travessia. Um modo de\n",
    "escrever uma travessia é com o loop while:"
   ]
  },
  {
   "cell_type": "code",
   "execution_count": null,
   "metadata": {
    "colab": {
     "base_uri": "https://localhost:8080/"
    },
    "id": "z3rfwEGClHan",
    "outputId": "fe49db4d-f653-4c4f-8c50-cab27240e34a"
   },
   "outputs": [
    {
     "name": "stdout",
     "output_type": "stream",
     "text": [
      "b\n",
      "a\n",
      "n\n",
      "a\n",
      "n\n",
      "a\n"
     ]
    }
   ],
   "source": [
    "index = 0\n",
    "\n",
    "# Este loop atravessa a string e exibe cada letra sozinha em uma linha.\n",
    "while index < len(fruta):\n",
    "  letra = fruta[index]\n",
    "  print(letra)\n",
    "  index = index + 1"
   ]
  },
  {
   "cell_type": "markdown",
   "metadata": {
    "id": "3LToGDw8sRxR"
   },
   "source": [
    "Como exercício, escreva uma função que receba uma string como argumento e exiba as letras de trás para a frente, uma por linha.\n"
   ]
  },
  {
   "cell_type": "code",
   "execution_count": null,
   "metadata": {
    "id": "DXbrhdtisEC9"
   },
   "outputs": [],
   "source": [
    "def backToFront(s):\n",
    "  index = len(s) - 1\n",
    "\n",
    "  while index >= 0:\n",
    "    letra = s[index]\n",
    "    print(letra)\n",
    "    index = index - 1"
   ]
  },
  {
   "cell_type": "code",
   "execution_count": null,
   "metadata": {
    "colab": {
     "base_uri": "https://localhost:8080/"
    },
    "id": "4mvzg1ncso9J",
    "outputId": "40624913-f2ca-433b-e8c4-fa382a4a45ef"
   },
   "outputs": [
    {
     "name": "stdout",
     "output_type": "stream",
     "text": [
      "a\n",
      "d\n",
      "n\n",
      "e\n",
      "r\n",
      "b\n"
     ]
    }
   ],
   "source": [
    "backToFront('brenda')"
   ]
  },
  {
   "cell_type": "markdown",
   "metadata": {
    "id": "r3vC0Aw0vUsk"
   },
   "source": [
    "Outra forma de escrever uma travessia é com um loop for:"
   ]
  },
  {
   "cell_type": "markdown",
   "metadata": {
    "id": "zs1U1fEuve6U"
   },
   "source": [
    "Cada vez que o programa passar pelo loop, o caractere seguinte na string é atribuído à variável letter. O loop continua até que não sobre nenhum caractere.\n"
   ]
  },
  {
   "cell_type": "code",
   "execution_count": null,
   "metadata": {
    "colab": {
     "base_uri": "https://localhost:8080/"
    },
    "id": "dH0aQVJlsqyO",
    "outputId": "672e37bc-796a-46b2-b3f2-76c67cec435f"
   },
   "outputs": [
    {
     "name": "stdout",
     "output_type": "stream",
     "text": [
      "b\n",
      "a\n",
      "n\n",
      "a\n",
      "n\n",
      "a\n"
     ]
    }
   ],
   "source": [
    "for letra in fruta:\n",
    "  print(letra)"
   ]
  },
  {
   "cell_type": "markdown",
   "metadata": {
    "id": "swrYCtejv1Oj"
   },
   "source": [
    "O próximo exemplo mostra como usar a concatenação (adição de strings) e um loop for para gerar uma série abecedária (isto é, em ordem alfabética).\n",
    "\n",
    "```\n",
    "prefixes = 'JKLMNOPQ'\n",
    "suffix = 'ack'\n",
    "for letter in prefixes:\n",
    "print(letter + suffix)\n",
    "A saída é:\n",
    "Jack\n",
    "Kack\n",
    "Lack\n",
    "Mack\n",
    "Nack\n",
    "Oack\n",
    "Pack\n",
    "Qack\n",
    "\n",
    "```\n",
    "\n"
   ]
  },
  {
   "cell_type": "markdown",
   "metadata": {
    "id": "Q8Ll3de4v8WX"
   },
   "source": [
    "Claro que não está exatamente certo porque “Ouack” e “Quack” foram mal soletrados.\n",
    "Como exercício, altere o programa para corrigir este erro.\n"
   ]
  },
  {
   "cell_type": "code",
   "execution_count": null,
   "metadata": {
    "colab": {
     "base_uri": "https://localhost:8080/"
    },
    "id": "JtfL723BvYhI",
    "outputId": "6fb12ce4-188a-45d1-e936-c4d0716df147"
   },
   "outputs": [
    {
     "name": "stdout",
     "output_type": "stream",
     "text": [
      "Jack\n",
      "Kack\n",
      "Lack\n",
      "Mack\n",
      "Nack\n",
      "Oack\n",
      "Pack\n",
      "Qack\n"
     ]
    }
   ],
   "source": [
    "prefixes = 'JKLMNOPQ'\n",
    "suffix = 'ack'\n",
    "\n",
    "for letter in prefixes:\n",
    "  print(letter + suffix)"
   ]
  },
  {
   "cell_type": "markdown",
   "metadata": {
    "id": "BiMKaxo2wfGK"
   },
   "source": [
    "**COMPARAÇÃO DE SOLUÇÕES:**"
   ]
  },
  {
   "cell_type": "markdown",
   "metadata": {
    "id": "3g4ztYXcwhgV"
   },
   "source": [
    "**SOLUÇÃO PRÓPRIA:**"
   ]
  },
  {
   "cell_type": "code",
   "execution_count": null,
   "metadata": {
    "colab": {
     "base_uri": "https://localhost:8080/"
    },
    "id": "YRC9jmWewJ6u",
    "outputId": "b1b64860-fae1-4aaa-9876-a2b16596bce9"
   },
   "outputs": [
    {
     "name": "stdout",
     "output_type": "stream",
     "text": [
      "Jack\n",
      "Kack\n",
      "Lack\n",
      "Mack\n",
      "Nack\n",
      "Ouack\n",
      "Pack\n",
      "Quack\n"
     ]
    }
   ],
   "source": [
    "prefixes = 'JKLMNOPQ'\n",
    "suffix = 'ack'\n",
    "\n",
    "for letter in prefixes:\n",
    "  if letter == 'O' or letter == 'Q':\n",
    "    print(letter + 'u' + suffix)\n",
    "  else:\n",
    "    print(letter + suffix)"
   ]
  },
  {
   "cell_type": "markdown",
   "metadata": {
    "id": "I5wuYlsdwj6h"
   },
   "source": [
    "**SOLUÇÃO CHATGPT:**"
   ]
  },
  {
   "cell_type": "code",
   "execution_count": null,
   "metadata": {
    "colab": {
     "base_uri": "https://localhost:8080/"
    },
    "id": "g9l9sPc-wb5f",
    "outputId": "77d6770e-c5ec-499b-9a2e-2394b1a250d6"
   },
   "outputs": [
    {
     "name": "stdout",
     "output_type": "stream",
     "text": [
      "Jack\n",
      "Kack\n",
      "Lack\n",
      "Mack\n",
      "Nack\n",
      "Ouack\n",
      "Pack\n",
      "Quack\n"
     ]
    }
   ],
   "source": [
    "prefixes = 'JKLMNOPQ'\n",
    "suffix = 'ack'\n",
    "\n",
    "for letter in prefixes:\n",
    "    if letter == 'O' or letter == 'Q':\n",
    "        print(letter + 'u' + suffix)  # Adiciona \"u\" após \"O\" e \"Q\"\n",
    "    else:\n",
    "        print(letter + suffix)"
   ]
  },
  {
   "cell_type": "markdown",
   "metadata": {
    "id": "V-wtqqXqw1U_"
   },
   "source": [
    "<h2> 8.4 - Fatiamento de strings </h2>\n",
    "\n",
    "Um segmento de uma string é chamado de fatia. Selecionar uma fatia é como selecionar um caractere:"
   ]
  },
  {
   "cell_type": "code",
   "execution_count": 1,
   "metadata": {
    "id": "mFupCrVYwuGf"
   },
   "outputs": [],
   "source": [
    " s = 'Monty Python'"
   ]
  },
  {
   "cell_type": "code",
   "execution_count": 2,
   "metadata": {
    "colab": {
     "base_uri": "https://localhost:8080/",
     "height": 36
    },
    "id": "qJEHPU9I1OW6",
    "outputId": "ac58b8dc-9d89-4a94-cd2c-3a9ff99f08c5"
   },
   "outputs": [
    {
     "data": {
      "application/vnd.google.colaboratory.intrinsic+json": {
       "type": "string"
      },
      "text/plain": [
       "'Monty'"
      ]
     },
     "execution_count": 2,
     "metadata": {},
     "output_type": "execute_result"
    }
   ],
   "source": [
    "s[0:5]"
   ]
  },
  {
   "cell_type": "code",
   "execution_count": 3,
   "metadata": {
    "colab": {
     "base_uri": "https://localhost:8080/",
     "height": 36
    },
    "id": "d8kK4kEg1R-z",
    "outputId": "18b23661-fcda-44de-b997-594ffbc52f34"
   },
   "outputs": [
    {
     "data": {
      "application/vnd.google.colaboratory.intrinsic+json": {
       "type": "string"
      },
      "text/plain": [
       "'Python'"
      ]
     },
     "execution_count": 3,
     "metadata": {},
     "output_type": "execute_result"
    }
   ],
   "source": [
    "s[6:12]"
   ]
  },
  {
   "cell_type": "markdown",
   "metadata": {
    "id": "kXOgiTyb1ge1"
   },
   "source": [
    "O operador [n:m] retorna a parte da string do “enésimo” caractere ao “emésimo”\n",
    "caractere, incluindo o primeiro, mas excluindo o último."
   ]
  },
  {
   "cell_type": "markdown",
   "metadata": {
    "id": "AucEOFSA1rQW"
   },
   "source": [
    "Se você omitir o primeiro índice (antes dos dois pontos), a fatia começa no início da string."
   ]
  },
  {
   "cell_type": "code",
   "execution_count": 4,
   "metadata": {
    "colab": {
     "base_uri": "https://localhost:8080/",
     "height": 36
    },
    "id": "KikmZHEp1S7X",
    "outputId": "f5ebdea0-0fb6-4908-b099-683162b64770"
   },
   "outputs": [
    {
     "data": {
      "application/vnd.google.colaboratory.intrinsic+json": {
       "type": "string"
      },
      "text/plain": [
       "'ban'"
      ]
     },
     "execution_count": 4,
     "metadata": {},
     "output_type": "execute_result"
    }
   ],
   "source": [
    "fruta = 'banana'\n",
    "fruta[:3]"
   ]
  },
  {
   "cell_type": "markdown",
   "metadata": {
    "id": "NyNvm1ZU1556"
   },
   "source": [
    "Se omitir o segundo índice, a fatia vai ao fim da string:"
   ]
  },
  {
   "cell_type": "code",
   "execution_count": 5,
   "metadata": {
    "colab": {
     "base_uri": "https://localhost:8080/",
     "height": 36
    },
    "id": "vLTzvBhm1x3V",
    "outputId": "6167d360-6090-4a60-98fb-f441a49763aa"
   },
   "outputs": [
    {
     "data": {
      "application/vnd.google.colaboratory.intrinsic+json": {
       "type": "string"
      },
      "text/plain": [
       "'ana'"
      ]
     },
     "execution_count": 5,
     "metadata": {},
     "output_type": "execute_result"
    }
   ],
   "source": [
    "fruta[3:]"
   ]
  },
  {
   "cell_type": "markdown",
   "metadata": {
    "id": "RKQsfDP62AXZ"
   },
   "source": [
    "Se o primeiro índice for maior ou igual ao segundo, o resultado é uma string vazia, representada por duas aspas:"
   ]
  },
  {
   "cell_type": "code",
   "execution_count": 6,
   "metadata": {
    "colab": {
     "base_uri": "https://localhost:8080/",
     "height": 36
    },
    "id": "mZPWyxwn12YJ",
    "outputId": "508d8511-d177-4a56-9665-6b28373c4925"
   },
   "outputs": [
    {
     "data": {
      "application/vnd.google.colaboratory.intrinsic+json": {
       "type": "string"
      },
      "text/plain": [
       "''"
      ]
     },
     "execution_count": 6,
     "metadata": {},
     "output_type": "execute_result"
    }
   ],
   "source": [
    "fruta[3:3]"
   ]
  },
  {
   "cell_type": "markdown",
   "metadata": {
    "id": "8kfPtmBC2GIc"
   },
   "source": [
    "Uma string vazia não contém nenhum caractere e tem o comprimento 0, fora isso, é igual a qualquer outra string.\n",
    "Continuando este exemplo, o que você acha que fruit[:] significa? Teste e veja."
   ]
  },
  {
   "cell_type": "code",
   "execution_count": 7,
   "metadata": {
    "colab": {
     "base_uri": "https://localhost:8080/",
     "height": 36
    },
    "id": "qfrF328v2C0K",
    "outputId": "a3c91097-44cc-4073-93c4-86761a15d2bc"
   },
   "outputs": [
    {
     "data": {
      "application/vnd.google.colaboratory.intrinsic+json": {
       "type": "string"
      },
      "text/plain": [
       "'banana'"
      ]
     },
     "execution_count": 7,
     "metadata": {},
     "output_type": "execute_result"
    }
   ],
   "source": [
    "fruta[:] # retorna a string inteira"
   ]
  },
  {
   "cell_type": "markdown",
   "metadata": {
    "id": "NeopW1942SxO"
   },
   "source": [
    "<h2> 8.5 - Strings são imutáveis </h2>\n",
    "\n",
    "É tentador usar o operador [] no lado esquerdo de uma atribuição, com a intenção de alterar um caractere em uma string. Por exemplo:"
   ]
  },
  {
   "cell_type": "code",
   "execution_count": 8,
   "metadata": {
    "id": "yjDuROb92II5"
   },
   "outputs": [],
   "source": [
    "greeting = 'Hello, world!'"
   ]
  },
  {
   "cell_type": "code",
   "execution_count": 9,
   "metadata": {
    "colab": {
     "base_uri": "https://localhost:8080/",
     "height": 147
    },
    "id": "wInTZqrI7CtW",
    "outputId": "235b7eb2-582a-4bfb-a3a8-92fce0d4093d"
   },
   "outputs": [
    {
     "ename": "TypeError",
     "evalue": "'str' object does not support item assignment",
     "output_type": "error",
     "traceback": [
      "\u001b[0;31m---------------------------------------------------------------------------\u001b[0m",
      "\u001b[0;31mTypeError\u001b[0m                                 Traceback (most recent call last)",
      "\u001b[0;32m<ipython-input-9-4d5c0ee70326>\u001b[0m in \u001b[0;36m<cell line: 1>\u001b[0;34m()\u001b[0m\n\u001b[0;32m----> 1\u001b[0;31m \u001b[0mgreeting\u001b[0m\u001b[0;34m[\u001b[0m\u001b[0;36m0\u001b[0m\u001b[0;34m]\u001b[0m \u001b[0;34m=\u001b[0m \u001b[0;34m'J'\u001b[0m\u001b[0;34m\u001b[0m\u001b[0;34m\u001b[0m\u001b[0m\n\u001b[0m",
      "\u001b[0;31mTypeError\u001b[0m: 'str' object does not support item assignment"
     ]
    }
   ],
   "source": [
    "greeting[0] = 'J'"
   ]
  },
  {
   "cell_type": "markdown",
   "metadata": {
    "id": "68jIYAPv7HCt"
   },
   "source": [
    "**TypeError: 'str' object does not support item assignment**\n",
    "\n",
    "O “objeto” neste caso é a string e o “item” é o caractere que você tentou atribuir"
   ]
  },
  {
   "cell_type": "markdown",
   "metadata": {
    "id": "zBMBmMpT74fx"
   },
   "source": [
    "A razão do erro é que as strings são imutáveis, o que significa que você não pode alterar uma string existente. O melhor que você pode fazer é criar uma string que seja uma variação da original:"
   ]
  },
  {
   "cell_type": "code",
   "execution_count": 11,
   "metadata": {
    "colab": {
     "base_uri": "https://localhost:8080/",
     "height": 36
    },
    "id": "Dh1mbHHY7Ffm",
    "outputId": "1b390941-fbd1-42c8-aee8-ff681e9297d9"
   },
   "outputs": [
    {
     "data": {
      "application/vnd.google.colaboratory.intrinsic+json": {
       "type": "string"
      },
      "text/plain": [
       "'Jello, world!'"
      ]
     },
     "execution_count": 11,
     "metadata": {},
     "output_type": "execute_result"
    }
   ],
   "source": [
    "'''\n",
    "Esse exemplo concatena uma nova primeira letra a uma fatia de greeting.\n",
    "Não tem efeito sobre a string original.\n",
    "'''\n",
    "\n",
    "greeting = 'Hello, world!'\n",
    "new_greeting = 'J' + greeting[1:]\n",
    "new_greeting"
   ]
  },
  {
   "cell_type": "markdown",
   "metadata": {
    "id": "zoPZMV2i8VFc"
   },
   "source": [
    "<h2> 8.6 - Buscando </h2>"
   ]
  },
  {
   "cell_type": "markdown",
   "metadata": {
    "id": "VS99OVl78aTf"
   },
   "source": [
    "O que faz a seguinte função?\n",
    "\n",
    "```\n",
    "def find(word, letter):\n",
    "  index = 0\n",
    "  while index < len(word):\n",
    "    if word[index] == letter:\n",
    "      return index\n",
    "    index = index + 1\n",
    "  return-1\n",
    "```"
   ]
  },
  {
   "cell_type": "code",
   "execution_count": 12,
   "metadata": {
    "id": "Pjg8aLY178iv"
   },
   "outputs": [],
   "source": [
    "def find(word, letter):\n",
    "  index = 0\n",
    "  while index < len(word):\n",
    "    if word[index] == letter:\n",
    "      return index\n",
    "    index = index + 1\n",
    "  return -1"
   ]
  },
  {
   "cell_type": "code",
   "execution_count": 15,
   "metadata": {
    "colab": {
     "base_uri": "https://localhost:8080/"
    },
    "id": "xUVeCZeK8o4J",
    "outputId": "a1a7382f-b030-442e-db7d-9ce17b6fcf2e"
   },
   "outputs": [
    {
     "data": {
      "text/plain": [
       "2"
      ]
     },
     "execution_count": 15,
     "metadata": {},
     "output_type": "execute_result"
    }
   ],
   "source": [
    "find('brenda', 'e')"
   ]
  },
  {
   "cell_type": "code",
   "execution_count": 16,
   "metadata": {
    "colab": {
     "base_uri": "https://localhost:8080/"
    },
    "id": "t-L_SKSz8rvK",
    "outputId": "71d94cc9-e29a-486f-a431-16e631c2a2e0"
   },
   "outputs": [
    {
     "data": {
      "text/plain": [
       "-1"
      ]
     },
     "execution_count": 16,
     "metadata": {},
     "output_type": "execute_result"
    }
   ],
   "source": [
    "find('brenda', 'f') # se não encontra, retorna -1"
   ]
  },
  {
   "cell_type": "markdown",
   "metadata": {
    "id": "uvpUTfHL83yF"
   },
   "source": [
    "De certo modo, find é o inverso do operador []. Em vez de tomar um índice e extrair o caractere correspondente, ele toma um caractere e encontra o índice onde aquele caractere aparece. Se o caractere não for encontrado, a função retorna -1.\n"
   ]
  },
  {
   "cell_type": "markdown",
   "metadata": {
    "id": "EGLmjyPl9GMm"
   },
   "source": [
    "Este modelo de cálculo – atravessar uma sequência e retornar quando encontramos o que estamos procurando – chama-se busca."
   ]
  },
  {
   "cell_type": "markdown",
   "metadata": {
    "id": "bBGQaOFg9Ln0"
   },
   "source": [
    "<h2> Como exercício, altere find para que tenha um terceiro parâmetro: o índice em word onde deve começar a busca. </h2>"
   ]
  },
  {
   "cell_type": "code",
   "execution_count": 17,
   "metadata": {
    "id": "LeqM7-gU8089"
   },
   "outputs": [],
   "source": [
    "def find(word, letter, index):\n",
    "\n",
    "  while index < len(word):\n",
    "    if word[index] == letter:\n",
    "      return index\n",
    "    index = index + 1\n",
    "  return -1"
   ]
  },
  {
   "cell_type": "code",
   "execution_count": 20,
   "metadata": {
    "colab": {
     "base_uri": "https://localhost:8080/"
    },
    "id": "kHcrMHZl9XAV",
    "outputId": "db07f2bf-7de6-4029-c662-927c743f51c8"
   },
   "outputs": [
    {
     "data": {
      "text/plain": [
       "-1"
      ]
     },
     "execution_count": 20,
     "metadata": {},
     "output_type": "execute_result"
    }
   ],
   "source": [
    "find('brenda', 'e', 3) # começa a busca a partir do índice 3. retorna -1 pois o valor de 'e' está na posição 2"
   ]
  },
  {
   "cell_type": "markdown",
   "metadata": {
    "id": "uJJGS0h2-Acz"
   },
   "source": [
    "<h2> 8.7 - Loop e contagem </h2>\n",
    "\n",
    "O seguinte programa conta o número de vezes que a letra a aparece em uma string:"
   ]
  },
  {
   "cell_type": "code",
   "execution_count": 21,
   "metadata": {
    "colab": {
     "base_uri": "https://localhost:8080/"
    },
    "id": "AIcbSmIc9j5Y",
    "outputId": "d1fbd933-1186-4f48-822a-bce13ae934d9"
   },
   "outputs": [
    {
     "name": "stdout",
     "output_type": "stream",
     "text": [
      "3\n"
     ]
    }
   ],
   "source": [
    "word = 'banana'\n",
    "count = 0\n",
    "\n",
    "for letter in word:\n",
    "  if letter == 'a':\n",
    "    count = count + 1\n",
    "\n",
    "print(count)"
   ]
  },
  {
   "cell_type": "markdown",
   "metadata": {
    "id": "5Ust7U0Q-_vm"
   },
   "source": [
    "Este programa demonstra outro padrão de computação chamado contador.\n",
    "A variável count é inicializada com 0 e então incrementada cada vez que um a é encontrado. Ao sair do loop, count contém o resultado – o número total de letras 'a'."
   ]
  },
  {
   "cell_type": "markdown",
   "metadata": {
    "id": "BEt4UPe8_F3g"
   },
   "source": [
    "<h2> Como exercício, encapsule este código em uma função denominada count e generalize-o para que aceite a string e a letra como argumentos.\n",
    "Então reescreva a função para que, em vez de atravessar a string, ela use a versão de três parâmetros do find da seção anterior. </h2>"
   ]
  },
  {
   "cell_type": "code",
   "execution_count": 22,
   "metadata": {
    "id": "ufpjXU38-9mG"
   },
   "outputs": [],
   "source": [
    "def count(word, letter, index):\n",
    "  count = 0\n",
    "\n",
    "  while index < len(word):\n",
    "    if word[index] == letter:\n",
    "      count = count + 1\n",
    "    index = index + 1\n",
    "\n",
    "  return count"
   ]
  },
  {
   "cell_type": "code",
   "execution_count": 25,
   "metadata": {
    "colab": {
     "base_uri": "https://localhost:8080/"
    },
    "id": "0AD7bvUSCZpY",
    "outputId": "49409caf-cbc3-48d3-d654-3270409ccb93"
   },
   "outputs": [
    {
     "data": {
      "text/plain": [
       "1"
      ]
     },
     "execution_count": 25,
     "metadata": {},
     "output_type": "execute_result"
    }
   ],
   "source": [
    "count('brenda', 'a', 2) # retorna quantas ocorrências de 'a' existem a partir do índice 2, que é 1"
   ]
  },
  {
   "cell_type": "markdown",
   "metadata": {
    "id": "TwyS8HGZC0p-"
   },
   "source": [
    "<h2> 8.8 - Métodos de strings </h2>\n",
    "\n",
    "As strings oferecem métodos que executam várias operações úteis. Um método é\n",
    "semelhante a uma função – toma argumentos e devolve um valor –, mas a sintaxe é\n",
    "diferente. Por exemplo, o método upper recebe uma string e devolve uma nova string com todas as letras maiúsculas.\n",
    "\n",
    "Em vez da sintaxe de função upper(word), ela usa a sintaxe de método\n",
    "**word.upper()**:"
   ]
  },
  {
   "cell_type": "code",
   "execution_count": 26,
   "metadata": {
    "colab": {
     "base_uri": "https://localhost:8080/",
     "height": 36
    },
    "id": "0mFdoCMICgGd",
    "outputId": "bac47ca0-cd3d-4db0-dedc-02b6fd2e416f"
   },
   "outputs": [
    {
     "data": {
      "application/vnd.google.colaboratory.intrinsic+json": {
       "type": "string"
      },
      "text/plain": [
       "'BANANA'"
      ]
     },
     "execution_count": 26,
     "metadata": {},
     "output_type": "execute_result"
    }
   ],
   "source": [
    "word = 'banana'\n",
    "new_word = word.upper()\n",
    "new_word"
   ]
  },
  {
   "cell_type": "markdown",
   "metadata": {
    "id": "G7c0wK_4DZxJ"
   },
   "source": [
    "Esta forma de notação de ponto especifica o nome do método, upper e o nome da string, word, à qual o método será aplicado. Os parênteses vazios indicam que este método não toma nenhum argumento.\n",
    "Uma chamada de método denomina-se invocação; neste caso, diríamos que estamos\n",
    "invocando upper em word.\n"
   ]
  },
  {
   "cell_type": "markdown",
   "metadata": {
    "id": "UEfMn6TiDhEC"
   },
   "source": [
    "E, na verdade, há um método de string denominado find, que é notavelmente semelhante à função que escrevemos:\n"
   ]
  },
  {
   "cell_type": "markdown",
   "metadata": {
    "id": "zWUwbXy5MM1f"
   },
   "source": [
    "Neste exemplo, invocamos find em word e passamos a letra que estamos procurando\n",
    "como um parâmetro."
   ]
  },
  {
   "cell_type": "code",
   "execution_count": 28,
   "metadata": {
    "colab": {
     "base_uri": "https://localhost:8080/"
    },
    "id": "hxwTe8DoDTv1",
    "outputId": "12dab0a7-c82c-480e-e6c6-35d51a602f0a"
   },
   "outputs": [
    {
     "data": {
      "text/plain": [
       "1"
      ]
     },
     "execution_count": 28,
     "metadata": {},
     "output_type": "execute_result"
    }
   ],
   "source": [
    "'''\n",
    "Neste exemplo, invocamos find em word e passamos a letra que estamos procurando\n",
    "como um parâmetro.\n",
    "'''\n",
    "\n",
    "word = 'banana'\n",
    "index = word.find('a')\n",
    "index"
   ]
  },
  {
   "cell_type": "markdown",
   "metadata": {
    "id": "-UCiRlntMN2G"
   },
   "source": [
    "Na verdade, o método find é mais geral que a nossa função; ele pode encontrar\n",
    "substrings, não apenas caracteres:"
   ]
  },
  {
   "cell_type": "code",
   "execution_count": 29,
   "metadata": {
    "colab": {
     "base_uri": "https://localhost:8080/"
    },
    "id": "3zxNLO9SDpBy",
    "outputId": "ebba5f25-7319-45d2-c0a5-f9214cc18870"
   },
   "outputs": [
    {
     "data": {
      "text/plain": [
       "2"
      ]
     },
     "execution_count": 29,
     "metadata": {},
     "output_type": "execute_result"
    }
   ],
   "source": [
    "word.find('na')"
   ]
  },
  {
   "cell_type": "markdown",
   "metadata": {
    "id": "WxMNjnabMS_D"
   },
   "source": [
    "Por padrão, find inicia no começo da string, mas pode receber um segundo argumento, o índice onde deve começar:"
   ]
  },
  {
   "cell_type": "code",
   "execution_count": 30,
   "metadata": {
    "colab": {
     "base_uri": "https://localhost:8080/"
    },
    "id": "xyVl9v28MQo8",
    "outputId": "bdbcb6ef-4e21-4934-afed-e7295aa8e91c"
   },
   "outputs": [
    {
     "data": {
      "text/plain": [
       "4"
      ]
     },
     "execution_count": 30,
     "metadata": {},
     "output_type": "execute_result"
    }
   ],
   "source": [
    "word.find('na', 3)"
   ]
  },
  {
   "cell_type": "markdown",
   "metadata": {
    "id": "ICFh1HWcMXzC"
   },
   "source": [
    "Este é um exemplo de um argumento opcional. find também pode receber um terceiro\n",
    "argumento, o índice para onde deve parar:"
   ]
  },
  {
   "cell_type": "code",
   "execution_count": 32,
   "metadata": {
    "colab": {
     "base_uri": "https://localhost:8080/"
    },
    "id": "XtL0M_wkMUx3",
    "outputId": "38fd5633-9383-4445-9a8b-92b94c2ebe12"
   },
   "outputs": [
    {
     "data": {
      "text/plain": [
       "-1"
      ]
     },
     "execution_count": 32,
     "metadata": {},
     "output_type": "execute_result"
    }
   ],
   "source": [
    "'''\n",
    "Esta busca falha porque 'b' não aparece no intervalo do índice de 1 a 2, não incluindo 2.\n",
    "Fazer buscas até (mas não incluindo) o segundo índice torna find similar ao operador de\n",
    "fatiamento.\n",
    "'''\n",
    "\n",
    "name = 'bob'\n",
    "name.find('b', 1, 2)"
   ]
  },
  {
   "cell_type": "markdown",
   "metadata": {
    "id": "h431XJClMmUa"
   },
   "source": [
    "<h2> 8.9 - Operador in </h2>\n",
    "\n",
    "A palavra in é um operador booleano que recebe duas strings e retorna True se a primeira aparecer como uma substring da segunda:"
   ]
  },
  {
   "cell_type": "code",
   "execution_count": 33,
   "metadata": {
    "colab": {
     "base_uri": "https://localhost:8080/"
    },
    "id": "pSmm_DWBMac1",
    "outputId": "b71086fc-0e83-4a3d-dd4e-8c414ceecf55"
   },
   "outputs": [
    {
     "data": {
      "text/plain": [
       "True"
      ]
     },
     "execution_count": 33,
     "metadata": {},
     "output_type": "execute_result"
    }
   ],
   "source": [
    "'a' in 'banana'"
   ]
  },
  {
   "cell_type": "code",
   "execution_count": 34,
   "metadata": {
    "colab": {
     "base_uri": "https://localhost:8080/"
    },
    "id": "H-l26rcaOEmP",
    "outputId": "867605a4-4dd0-4033-b219-e5c10656a13e"
   },
   "outputs": [
    {
     "data": {
      "text/plain": [
       "False"
      ]
     },
     "execution_count": 34,
     "metadata": {},
     "output_type": "execute_result"
    }
   ],
   "source": [
    "'seed' in 'banana'"
   ]
  },
  {
   "cell_type": "markdown",
   "metadata": {
    "id": "mvRigS0AOIY-"
   },
   "source": [
    "Por exemplo, a seguinte função imprime todas as letras de word1 que também aparecem em word2:\n"
   ]
  },
  {
   "cell_type": "markdown",
   "metadata": {
    "id": "4ounynKlOi0Z"
   },
   "source": [
    "Com nomes de variáveis bem escolhidos, o Python às vezes pode ser lido como um texto em inglês. Você pode ler este loop, “para (cada) letra em (a primeira) palavra, se (a) letra (aparecer) em (a segunda) palavra, exiba (a) letra”.\n",
    "Veja o que é apresentado ao se comparar maçãs e laranjas:"
   ]
  },
  {
   "cell_type": "code",
   "execution_count": 35,
   "metadata": {
    "id": "qNVqzc5_OFzI"
   },
   "outputs": [],
   "source": [
    "def in_both(word1, word2):\n",
    "\n",
    "  for letter in word1:\n",
    "    if letter in word2:\n",
    "      print(letter)"
   ]
  },
  {
   "cell_type": "code",
   "execution_count": 40,
   "metadata": {
    "colab": {
     "base_uri": "https://localhost:8080/"
    },
    "id": "2rQT3I7qOSW5",
    "outputId": "3b4791eb-e30d-4a92-ebc2-645ad487f530"
   },
   "outputs": [
    {
     "name": "stdout",
     "output_type": "stream",
     "text": [
      "a\n",
      "e\n",
      "s\n"
     ]
    }
   ],
   "source": [
    "in_both('apples', 'oranges')"
   ]
  },
  {
   "cell_type": "markdown",
   "metadata": {
    "id": "0tUh2gm4Ohq8"
   },
   "source": [
    "<h2> 8.10 - Comparação de strings </h2>\n",
    "\n",
    "Os operadores relacionais funcionam em strings. Para ver se duas strings são iguais:"
   ]
  },
  {
   "cell_type": "code",
   "execution_count": 41,
   "metadata": {
    "colab": {
     "base_uri": "https://localhost:8080/"
    },
    "id": "npWQ6CS8OUU2",
    "outputId": "02d1ff6f-27b7-4bc8-8233-a229eed1d080"
   },
   "outputs": [
    {
     "name": "stdout",
     "output_type": "stream",
     "text": [
      "All right, bananas.\n"
     ]
    }
   ],
   "source": [
    "if word == 'banana':\n",
    "  print('All right, bananas.')"
   ]
  },
  {
   "cell_type": "markdown",
   "metadata": {
    "id": "I50HmYpHO4b3"
   },
   "source": [
    "Outras operações relacionais são úteis para colocar palavras em ordem alfabética:"
   ]
  },
  {
   "cell_type": "code",
   "execution_count": 42,
   "metadata": {
    "colab": {
     "base_uri": "https://localhost:8080/"
    },
    "id": "AFSDkzY9O0gi",
    "outputId": "1a2be92c-8763-4746-960a-db579fe775b8"
   },
   "outputs": [
    {
     "name": "stdout",
     "output_type": "stream",
     "text": [
      "All right, bananas.\n"
     ]
    }
   ],
   "source": [
    "if word < 'banana':\n",
    "  print('Your word, ' + word + ', comes before banana.')\n",
    "elif word > 'banana':\n",
    "  print('Your word, ' + word + ', comes after banana.')\n",
    "else:\n",
    "  print('All right, bananas.')"
   ]
  },
  {
   "cell_type": "markdown",
   "metadata": {
    "id": "Chm7aOd2QKRZ"
   },
   "source": [
    "<h2> 8.11 - Depuração </h2>\n",
    "\n",
    "Ao usar índices para atravessar os valores em uma sequência, é complicado acertar o começo e o fim da travessia. Aqui está uma função que supostamente compara duas palavras e retorna True se uma das palavras for o reverso da outra, mas contém dois erros:\n"
   ]
  },
  {
   "cell_type": "code",
   "execution_count": 43,
   "metadata": {
    "id": "8rtIwY2pO_jf"
   },
   "outputs": [],
   "source": [
    "def is_reverse(word1, word2):\n",
    "  # verifica se as palavras têm o mesmo comprimento\n",
    "  # Este é um exemplo do modelo de guardião em “Verificação de tipos”, na página 101.\n",
    "  if len(word1) != len(word2):\n",
    "    return False\n",
    "\n",
    "  '''\n",
    "  i e j são índices: i atravessa word1 para a frente, enquanto j atravessa word2 para trás. Se\n",
    "  encontrarmos duas letras que não combinam, podemos retornar False imediatamente. Se\n",
    "  terminarmos o loop inteiro e todas as letras corresponderem, retornamos True.\n",
    "  '''\n",
    "  i = 0\n",
    "  j = len(word2)\n",
    "\n",
    "  while j > 0:\n",
    "    if word1[i] != word2[j]:\n",
    "      return False\n",
    "    i = i+1\n",
    "    j = j-1\n",
    "\n",
    "  return True"
   ]
  },
  {
   "cell_type": "markdown",
   "metadata": {
    "id": "49-NwtGtRQ_E"
   },
   "source": [
    "Se testarmos esta função com as palavras “pots” e “stop”, esperamos o valor de retorno True, mas recebemos um IndexError:"
   ]
  },
  {
   "cell_type": "code",
   "execution_count": 44,
   "metadata": {
    "colab": {
     "base_uri": "https://localhost:8080/",
     "height": 274
    },
    "id": "twUfnCxfQbPf",
    "outputId": "e68f0c04-76f4-4cd7-af2f-c6fb9138bbc7"
   },
   "outputs": [
    {
     "ename": "IndexError",
     "evalue": "string index out of range",
     "output_type": "error",
     "traceback": [
      "\u001b[0;31m---------------------------------------------------------------------------\u001b[0m",
      "\u001b[0;31mIndexError\u001b[0m                                Traceback (most recent call last)",
      "\u001b[0;32m<ipython-input-44-d368e6954e78>\u001b[0m in \u001b[0;36m<cell line: 1>\u001b[0;34m()\u001b[0m\n\u001b[0;32m----> 1\u001b[0;31m \u001b[0mis_reverse\u001b[0m\u001b[0;34m(\u001b[0m\u001b[0;34m'pots'\u001b[0m\u001b[0;34m,\u001b[0m \u001b[0;34m'stop'\u001b[0m\u001b[0;34m)\u001b[0m\u001b[0;34m\u001b[0m\u001b[0;34m\u001b[0m\u001b[0m\n\u001b[0m",
      "\u001b[0;32m<ipython-input-43-834c8c12cddf>\u001b[0m in \u001b[0;36mis_reverse\u001b[0;34m(word1, word2)\u001b[0m\n\u001b[1;32m      7\u001b[0m \u001b[0;34m\u001b[0m\u001b[0m\n\u001b[1;32m      8\u001b[0m   \u001b[0;32mwhile\u001b[0m \u001b[0mj\u001b[0m \u001b[0;34m>\u001b[0m \u001b[0;36m0\u001b[0m\u001b[0;34m:\u001b[0m\u001b[0;34m\u001b[0m\u001b[0;34m\u001b[0m\u001b[0m\n\u001b[0;32m----> 9\u001b[0;31m     \u001b[0;32mif\u001b[0m \u001b[0mword1\u001b[0m\u001b[0;34m[\u001b[0m\u001b[0mi\u001b[0m\u001b[0;34m]\u001b[0m \u001b[0;34m!=\u001b[0m \u001b[0mword2\u001b[0m\u001b[0;34m[\u001b[0m\u001b[0mj\u001b[0m\u001b[0;34m]\u001b[0m\u001b[0;34m:\u001b[0m\u001b[0;34m\u001b[0m\u001b[0;34m\u001b[0m\u001b[0m\n\u001b[0m\u001b[1;32m     10\u001b[0m       \u001b[0;32mreturn\u001b[0m \u001b[0;32mFalse\u001b[0m\u001b[0;34m\u001b[0m\u001b[0;34m\u001b[0m\u001b[0m\n\u001b[1;32m     11\u001b[0m     \u001b[0mi\u001b[0m \u001b[0;34m=\u001b[0m \u001b[0mi\u001b[0m\u001b[0;34m+\u001b[0m\u001b[0;36m1\u001b[0m\u001b[0;34m\u001b[0m\u001b[0;34m\u001b[0m\u001b[0m\n",
      "\u001b[0;31mIndexError\u001b[0m: string index out of range"
     ]
    }
   ],
   "source": [
    "is_reverse('pots', 'stop')"
   ]
  },
  {
   "cell_type": "markdown",
   "metadata": {
    "id": "QJOa94YYRdBm"
   },
   "source": [
    "Para depurar este tipo de erro, minha primeira ação é exibir os valores dos índices imediatamente antes da linha onde o erro aparece.\n"
   ]
  },
  {
   "cell_type": "code",
   "execution_count": 48,
   "metadata": {
    "id": "qP9g1jgvRSjQ"
   },
   "outputs": [],
   "source": [
    "def is_reverse(word1, word2):\n",
    "  # verifica se as palavras têm o mesmo comprimento\n",
    "  # Este é um exemplo do modelo de guardião em “Verificação de tipos”, na página 101.\n",
    "  if len(word1) != len(word2):\n",
    "    return False\n",
    "\n",
    "  '''\n",
    "  i e j são índices: i atravessa word1 para a frente, enquanto j atravessa word2 para trás. Se\n",
    "  encontrarmos duas letras que não combinam, podemos retornar False imediatamente. Se\n",
    "  terminarmos o loop inteiro e todas as letras corresponderem, retornamos True.\n",
    "  '''\n",
    "  i = 0\n",
    "  j = len(word2)\n",
    "\n",
    "  while j > 0:\n",
    "    print(i, j)\n",
    "    if word1[i] != word2[j]:\n",
    "      return False\n",
    "    i = i+1\n",
    "    j = j-1\n",
    "\n",
    "  return True"
   ]
  },
  {
   "cell_type": "markdown",
   "metadata": {
    "id": "NZAKd44lRlwa"
   },
   "source": [
    "Agora quando executo o programa novamente, recebo mais informação:"
   ]
  },
  {
   "cell_type": "code",
   "execution_count": 46,
   "metadata": {
    "colab": {
     "base_uri": "https://localhost:8080/",
     "height": 293
    },
    "id": "tOU848xsRgoe",
    "outputId": "f7c96903-0d38-49e2-9f54-6945676189c7"
   },
   "outputs": [
    {
     "name": "stdout",
     "output_type": "stream",
     "text": [
      "0 4\n"
     ]
    },
    {
     "ename": "IndexError",
     "evalue": "string index out of range",
     "output_type": "error",
     "traceback": [
      "\u001b[0;31m---------------------------------------------------------------------------\u001b[0m",
      "\u001b[0;31mIndexError\u001b[0m                                Traceback (most recent call last)",
      "\u001b[0;32m<ipython-input-46-d368e6954e78>\u001b[0m in \u001b[0;36m<cell line: 1>\u001b[0;34m()\u001b[0m\n\u001b[0;32m----> 1\u001b[0;31m \u001b[0mis_reverse\u001b[0m\u001b[0;34m(\u001b[0m\u001b[0;34m'pots'\u001b[0m\u001b[0;34m,\u001b[0m \u001b[0;34m'stop'\u001b[0m\u001b[0;34m)\u001b[0m\u001b[0;34m\u001b[0m\u001b[0;34m\u001b[0m\u001b[0m\n\u001b[0m",
      "\u001b[0;32m<ipython-input-45-ab3facea7b90>\u001b[0m in \u001b[0;36mis_reverse\u001b[0;34m(word1, word2)\u001b[0m\n\u001b[1;32m     15\u001b[0m   \u001b[0;32mwhile\u001b[0m \u001b[0mj\u001b[0m \u001b[0;34m>\u001b[0m \u001b[0;36m0\u001b[0m\u001b[0;34m:\u001b[0m\u001b[0;34m\u001b[0m\u001b[0;34m\u001b[0m\u001b[0m\n\u001b[1;32m     16\u001b[0m     \u001b[0mprint\u001b[0m\u001b[0;34m(\u001b[0m\u001b[0mi\u001b[0m\u001b[0;34m,\u001b[0m \u001b[0mj\u001b[0m\u001b[0;34m)\u001b[0m\u001b[0;34m\u001b[0m\u001b[0;34m\u001b[0m\u001b[0m\n\u001b[0;32m---> 17\u001b[0;31m     \u001b[0;32mif\u001b[0m \u001b[0mword1\u001b[0m\u001b[0;34m[\u001b[0m\u001b[0mi\u001b[0m\u001b[0;34m]\u001b[0m \u001b[0;34m!=\u001b[0m \u001b[0mword2\u001b[0m\u001b[0;34m[\u001b[0m\u001b[0mj\u001b[0m\u001b[0;34m]\u001b[0m\u001b[0;34m:\u001b[0m\u001b[0;34m\u001b[0m\u001b[0;34m\u001b[0m\u001b[0m\n\u001b[0m\u001b[1;32m     18\u001b[0m       \u001b[0;32mreturn\u001b[0m \u001b[0;32mFalse\u001b[0m\u001b[0;34m\u001b[0m\u001b[0;34m\u001b[0m\u001b[0m\n\u001b[1;32m     19\u001b[0m     \u001b[0mi\u001b[0m \u001b[0;34m=\u001b[0m \u001b[0mi\u001b[0m\u001b[0;34m+\u001b[0m\u001b[0;36m1\u001b[0m\u001b[0;34m\u001b[0m\u001b[0;34m\u001b[0m\u001b[0m\n",
      "\u001b[0;31mIndexError\u001b[0m: string index out of range"
     ]
    }
   ],
   "source": [
    "is_reverse('pots', 'stop')"
   ]
  },
  {
   "cell_type": "markdown",
   "metadata": {
    "id": "PHOsU24cRnix"
   },
   "source": [
    "**IndexError: string index out of range**\n",
    "\n"
   ]
  },
  {
   "cell_type": "markdown",
   "metadata": {
    "id": "yEXZyboCR654"
   },
   "source": [
    "Na primeira vez que o programa passar pelo loop, o valor de j é 4, que está fora do intervalo da string ‘pots’. O índice do último caractere é 3, então o valor inicial de j deve ser len(word2)-1.\n",
    "Se corrigir esse erro e executar o programa novamente, recebo:"
   ]
  },
  {
   "cell_type": "code",
   "execution_count": 49,
   "metadata": {
    "id": "QWA8fHHeRiKA"
   },
   "outputs": [],
   "source": [
    "def is_reverse(word1, word2):\n",
    "  # verifica se as palavras têm o mesmo comprimento\n",
    "  # Este é um exemplo do modelo de guardião em “Verificação de tipos”, na página 101.\n",
    "  if len(word1) != len(word2):\n",
    "    return False\n",
    "\n",
    "  '''\n",
    "  i e j são índices: i atravessa word1 para a frente, enquanto j atravessa word2 para trás. Se\n",
    "  encontrarmos duas letras que não combinam, podemos retornar False imediatamente. Se\n",
    "  terminarmos o loop inteiro e todas as letras corresponderem, retornamos True.\n",
    "  '''\n",
    "  i = 0\n",
    "  j = len(word2)-1\n",
    "\n",
    "  while j > 0:\n",
    "    print(i, j)\n",
    "    if word1[i] != word2[j]:\n",
    "      return False\n",
    "    i = i+1 # 0 1 2 3\n",
    "    j = j-1 # 3 2 1 0\n",
    "\n",
    "  return True"
   ]
  },
  {
   "cell_type": "code",
   "execution_count": 50,
   "metadata": {
    "colab": {
     "base_uri": "https://localhost:8080/"
    },
    "id": "u8ds1PRER-Fb",
    "outputId": "2c998999-5b3b-420a-fef6-0fb0a7ba466f"
   },
   "outputs": [
    {
     "name": "stdout",
     "output_type": "stream",
     "text": [
      "0 3\n",
      "1 2\n",
      "2 1\n"
     ]
    },
    {
     "data": {
      "text/plain": [
       "True"
      ]
     },
     "execution_count": 50,
     "metadata": {},
     "output_type": "execute_result"
    }
   ],
   "source": [
    "is_reverse('pots', 'stop')"
   ]
  },
  {
   "cell_type": "markdown",
   "metadata": {
    "id": "IHHZbmdNTuMl"
   },
   "source": [
    "output das execuções vai apenas até a terceira devido à condição de j > 0 no while, portanto, não sendo mostrada na tela.\n",
    "\n",
    "saídas de i:\n",
    "**0 1 2 3**\n",
    "\n",
    "saídas de j:\n",
    "**3 2 1 0**\n",
    "\n",
    "Para que apareça na tela, é necessário acrescentar um = na condição:"
   ]
  },
  {
   "cell_type": "code",
   "execution_count": 68,
   "metadata": {
    "id": "_tmq2mHVR_XK"
   },
   "outputs": [],
   "source": [
    "def is_reverse(word1, word2):\n",
    "  # verifica se as palavras têm o mesmo comprimento\n",
    "  # Este é um exemplo do modelo de guardião em “Verificação de tipos”, na página 101.\n",
    "  if len(word1) != len(word2):\n",
    "    return False\n",
    "\n",
    "  '''\n",
    "  i e j são índices: i atravessa word1 para a frente, enquanto j atravessa word2 para trás. Se\n",
    "  encontrarmos duas letras que não combinam, podemos retornar False imediatamente. Se\n",
    "  terminarmos o loop inteiro e todas as letras corresponderem, retornamos True.\n",
    "  '''\n",
    "  i = 0\n",
    "  j = len(word2)-1\n",
    "\n",
    "  while j >= 0:\n",
    "    if word1[i] != word2[j]:\n",
    "      return False\n",
    "    i = i+1 # 0 1 2 3  4\n",
    "    j = j-1 # 3 2 1 0 -1\n",
    "\n",
    "  return True"
   ]
  },
  {
   "cell_type": "code",
   "execution_count": 58,
   "metadata": {
    "colab": {
     "base_uri": "https://localhost:8080/"
    },
    "id": "X-h_1WLWUL33",
    "outputId": "1ac39c54-fd88-41ed-9777-206bb84976f9"
   },
   "outputs": [
    {
     "data": {
      "text/plain": [
       "True"
      ]
     },
     "execution_count": 58,
     "metadata": {},
     "output_type": "execute_result"
    }
   ],
   "source": [
    "is_reverse('pots', 'stop')"
   ]
  },
  {
   "cell_type": "markdown",
   "metadata": {
    "id": "eH_zD1Y4Vher"
   },
   "source": [
    "Acredito que o erro seja a função não ter nenhum trecho em que lide com o tamanho das letras - minúsculas e maiúsculas - e/ou com o caso de haver requisições a partir de índices diferente de 0, o que levará a comparações incorretas entre as duas strings, e/ou não reconhece espaços"
   ]
  },
  {
   "cell_type": "code",
   "execution_count": 59,
   "metadata": {
    "colab": {
     "base_uri": "https://localhost:8080/"
    },
    "id": "G9CwiTaHUM27",
    "outputId": "3328b13a-b26e-487c-8dd9-922ab8fbb653"
   },
   "outputs": [
    {
     "data": {
      "text/plain": [
       "False"
      ]
     },
     "execution_count": 59,
     "metadata": {},
     "output_type": "execute_result"
    }
   ],
   "source": [
    "is_reverse('Pots', 'stop')"
   ]
  },
  {
   "cell_type": "code",
   "execution_count": 64,
   "metadata": {
    "colab": {
     "base_uri": "https://localhost:8080/"
    },
    "id": "X9A4Z5qFV27V",
    "outputId": "09edc75e-dc51-49f0-ef4b-dbeffccec7f7"
   },
   "outputs": [
    {
     "data": {
      "text/plain": [
       "True"
      ]
     },
     "execution_count": 64,
     "metadata": {},
     "output_type": "execute_result"
    }
   ],
   "source": [
    "is_reverse('', '')"
   ]
  },
  {
   "cell_type": "code",
   "execution_count": 70,
   "metadata": {
    "colab": {
     "base_uri": "https://localhost:8080/"
    },
    "id": "FK6qZwY0XO2i",
    "outputId": "99d9f22b-83a7-4f43-9ffe-5a321f91cbed"
   },
   "outputs": [
    {
     "data": {
      "text/plain": [
       "True"
      ]
     },
     "execution_count": 70,
     "metadata": {},
     "output_type": "execute_result"
    }
   ],
   "source": [
    "is_reverse('!', '!')"
   ]
  },
  {
   "cell_type": "code",
   "execution_count": 72,
   "metadata": {
    "colab": {
     "base_uri": "https://localhost:8080/"
    },
    "id": "DzZhZ3pDXbn9",
    "outputId": "9ad1f7c6-1e59-4bb5-d219-77896e78efda"
   },
   "outputs": [
    {
     "data": {
      "text/plain": [
       "True"
      ]
     },
     "execution_count": 72,
     "metadata": {},
     "output_type": "execute_result"
    }
   ],
   "source": [
    "is_reverse('a!b', 'b!a')"
   ]
  },
  {
   "cell_type": "code",
   "execution_count": 73,
   "metadata": {
    "colab": {
     "base_uri": "https://localhost:8080/"
    },
    "id": "0QnBgu8-Xkw2",
    "outputId": "021e5fbd-6781-4644-f490-4a96b8edba54"
   },
   "outputs": [
    {
     "data": {
      "text/plain": [
       "False"
      ]
     },
     "execution_count": 73,
     "metadata": {},
     "output_type": "execute_result"
    }
   ],
   "source": [
    "is_reverse(' a!b', 'b!a')"
   ]
  },
  {
   "cell_type": "markdown",
   "metadata": {
    "id": "o41kScm97Lar"
   },
   "source": [
    "<h2> 8.12 - Glossário </h2>\n",
    "\n",
    "objeto:\n",
    "Algo a que uma variável pode se referir. Por enquanto, você pode usar “objeto” e\n",
    "“valor” de forma intercambiável.\n",
    "\n",
    "sequência:\n",
    "Uma coleção ordenada de valores onde cada valor é identificado por um índice de\n",
    "número inteiro.\n",
    "\n",
    "item:\n",
    "Um dos valores em uma sequência\n",
    "\n",
    "índice:\n",
    "Um valor inteiro usado para selecionar um item em uma sequência, como um\n",
    "caractere em uma string. No Python, os índices começam em 0.\n",
    "\n",
    "fatia:\n",
    "Parte de uma string especificada por um intervalo de índices.\n",
    "\n",
    "string vazia:\n",
    "Uma string sem caracteres e de comprimento 0, representada por duas aspas.\n"
   ]
  },
  {
   "cell_type": "markdown",
   "metadata": {
    "id": "Khno0tsH70Q6"
   },
   "source": [
    "imutável:\n",
    "A propriedade de uma sequência cujos itens não podem ser alterados.\n",
    "\n",
    "atravessar:\n",
    "Repetir os itens em uma sequência, executando uma operação semelhante em cada\n",
    "um.\n",
    "\n",
    "busca:\n",
    "Um modelo de travessia que é interrompido quando encontra o que está procurando.\n",
    "\n",
    "contador:\n",
    "Uma variável usada para contar algo, normalmente inicializada com zero e então\n",
    "incrementada.\n",
    "\n",
    "invocação:\n",
    "Uma instrução que chama um método.\n",
    "\n",
    "argumento opcional:\n",
    "Um argumento de função ou método que não é necessário."
   ]
  }
 ],
 "metadata": {
  "colab": {
   "authorship_tag": "ABX9TyMA/qkRORNzELU4HBT098Mm",
   "include_colab_link": true,
   "provenance": []
  },
  "kernelspec": {
   "display_name": "Python 3",
   "name": "python3"
  },
  "language_info": {
   "name": "python"
  }
 },
 "nbformat": 4,
 "nbformat_minor": 0
}
