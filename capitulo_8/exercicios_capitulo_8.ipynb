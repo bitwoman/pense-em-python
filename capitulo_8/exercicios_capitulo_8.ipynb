{
 "cells": [
  {
   "cell_type": "markdown",
   "metadata": {},
   "source": [
    "<h2> 8.13 - Exercícios </h2>"
   ]
  },
  {
   "cell_type": "markdown",
   "metadata": {},
   "source": [
    "<h3> Exercício 8.1 </h3>\n",
    "\n",
    "Leia a documentação dos métodos de strings em\n",
    "http://docs.python.org/3/library/stdtypes.html#string-methods. Pode ser uma boa ideia\n",
    "experimentar alguns deles para entender como funcionam. strip e replace são\n",
    "especialmente úteis.\n",
    "A documentação usa uma sintaxe que pode ser confusa. Por exemplo, em find(sub[,\n",
    "start[, end]]), os colchetes indicam argumentos opcionais. Então sub é exigido, mas\n",
    "start é opcional, e se você incluir start, então end é opcional."
   ]
  },
  {
   "cell_type": "markdown",
   "metadata": {},
   "source": [
    "**STRIP**\n",
    "\n",
    "Retorna uma cópia da string com os caracteres iniciais e finais removidos. O argumento chars é uma string que especifica o conjunto de caracteres a serem removidos. Se omitido ou None, o argumento chars remove os espaços em branco por padrão. O argumento chars não é um prefixo ou sufixo; em vez disso, todas as combinações de seus valores são removidas:"
   ]
  },
  {
   "cell_type": "code",
   "execution_count": null,
   "metadata": {},
   "outputs": [
    {
     "name": "stdout",
     "output_type": "stream",
     "text": [
      " morango \n"
     ]
    },
    {
     "data": {
      "application/vnd.google.colaboratory.intrinsic+json": {
       "type": "string"
      },
      "text/plain": [
       "'morango'"
      ]
     },
     "metadata": {},
     "output_type": "display_data"
    }
   ],
   "source": [
    "fruta1 = ' morango ' # possui espaço no início e no fim\n",
    "\n",
    "print(fruta1)\n",
    "fruta1.strip()\n",
    "\n",
    "# não é visível, mas se passar o mouse selecionando o output, verá que o primeiro 'morango'\n",
    "#possui espaços, e o segundo não tem mais os espaços"
   ]
  },
  {
   "cell_type": "markdown",
   "metadata": {},
   "source": [
    "**REPLACE**\n",
    "\n",
    "Retorna uma cópia da string com todas as ocorrências da substring 'old' substituídas por 'new'. Se o argumento opcional 'count' for fornecido, somente as primeiras 'count' ocorrências serão substituídas.\n",
    "\n",
    "str. substituir(old, new [, count ])"
   ]
  },
  {
   "cell_type": "code",
   "execution_count": null,
   "metadata": {},
   "outputs": [
    {
     "data": {
      "application/vnd.google.colaboratory.intrinsic+json": {
       "type": "string"
      },
      "text/plain": [
       "' borango '"
      ]
     },
     "metadata": {},
     "output_type": "display_data"
    }
   ],
   "source": [
    "fruta1.replace('m', 'b') # substitui 'm' por 'b'"
   ]
  },
  {
   "cell_type": "code",
   "execution_count": null,
   "metadata": {},
   "outputs": [
    {
     "data": {
      "application/vnd.google.colaboratory.intrinsic+json": {
       "type": "string"
      },
      "text/plain": [
       "' maranga '"
      ]
     },
     "metadata": {},
     "output_type": "display_data"
    }
   ],
   "source": [
    "fruta1.replace('o', 'a', 2) # substitui 'o' por 'a' em duas ocorrências de 'o'"
   ]
  },
  {
   "cell_type": "markdown",
   "metadata": {},
   "source": [
    "<h3> Exercício 8.2 </h3>\n",
    "\n",
    "Há um método de string chamado count, que é semelhante à função em 'Loop e\n",
    "contagem', na página 123. Leia a documentação deste método e escreva uma invocação que conte o número de letras 'a' em 'banana'.\n"
   ]
  },
  {
   "cell_type": "markdown",
   "metadata": {},
   "source": [
    "**COUNT**\n",
    "\n",
    "Retorna o número de ocorrências não sobrepostas da subsequência sub no intervalo [start, end ]. Os argumentos opcionais start e end são interpretados como na notação de fatia.\n",
    "\n",
    "**total de números de ocorrências de um valor em outro valor**"
   ]
  },
  {
   "cell_type": "code",
   "execution_count": null,
   "metadata": {},
   "outputs": [
    {
     "data": {
      "text/plain": [
       "2"
      ]
     },
     "metadata": {},
     "output_type": "display_data"
    }
   ],
   "source": [
    "fruta = 'morango'\n",
    "fruta.count('o') # retorna quantas (2) vezes tem a letra 'o' na palavra 'morango'"
   ]
  },
  {
   "cell_type": "code",
   "execution_count": null,
   "metadata": {},
   "outputs": [
    {
     "data": {
      "text/plain": [
       "3"
      ]
     },
     "metadata": {},
     "output_type": "display_data"
    }
   ],
   "source": [
    "fruta2 = 'banana'\n",
    "fruta2.count('a') # retorna quantas (3) vezes tem a letra 'a' na palavra 'banana'"
   ]
  },
  {
   "cell_type": "markdown",
   "metadata": {},
   "source": [
    "<h3> Exercício 8.3 </h3>\n",
    "\n",
    "Uma fatia de string pode receber um terceiro índice que especifique o 'tamanho do passo'; isto é, o número de espaços entre caracteres sucessivos. Um tamanho de passo 2 significa tomar um caractere e outro não; 3 significa tomar um e dois não etc."
   ]
  },
  {
   "cell_type": "code",
   "execution_count": null,
   "metadata": {},
   "outputs": [
    {
     "data": {
      "application/vnd.google.colaboratory.intrinsic+json": {
       "type": "string"
      },
      "text/plain": [
       "'bnn'"
      ]
     },
     "metadata": {},
     "output_type": "display_data"
    }
   ],
   "source": [
    "fruta3 = 'banana'\n",
    "fruta3[0:5:2]"
   ]
  },
  {
   "cell_type": "markdown",
   "metadata": {},
   "source": [
    "Um tamanho de passo -1 atravessa a palavra de trás para a frente, então a fatia [::-1] gera uma string invertida.\n",
    "Use isso para escrever uma versão de uma linha de is_palindrome do Exercício 6.3."
   ]
  },
  {
   "cell_type": "code",
   "execution_count": null,
   "metadata": {},
   "outputs": [
    {
     "data": {
      "application/vnd.google.colaboratory.intrinsic+json": {
       "type": "string"
      },
      "text/plain": [
       "'ananab'"
      ]
     },
     "metadata": {},
     "output_type": "display_data"
    }
   ],
   "source": [
    "fruta3[::-1]"
   ]
  },
  {
   "cell_type": "code",
   "execution_count": null,
   "metadata": {},
   "outputs": [
    {
     "data": {
      "application/vnd.google.colaboratory.intrinsic+json": {
       "type": "string"
      },
      "text/plain": [
       "'banan'"
      ]
     },
     "metadata": {},
     "output_type": "display_data"
    }
   ],
   "source": [
    "fruta3[:-1]"
   ]
  },
  {
   "cell_type": "code",
   "execution_count": null,
   "metadata": {},
   "outputs": [
    {
     "data": {
      "application/vnd.google.colaboratory.intrinsic+json": {
       "type": "string"
      },
      "text/plain": [
       "'a'"
      ]
     },
     "metadata": {},
     "output_type": "display_data"
    }
   ],
   "source": [
    "fruta3[-1:]"
   ]
  },
  {
   "cell_type": "code",
   "execution_count": null,
   "metadata": {},
   "outputs": [],
   "source": [
    "def is_palindrome(word):\n",
    "  return word[:] == word[::-1]"
   ]
  },
  {
   "cell_type": "code",
   "execution_count": null,
   "metadata": {},
   "outputs": [
    {
     "data": {
      "text/plain": [
       "True"
      ]
     },
     "metadata": {},
     "output_type": "display_data"
    }
   ],
   "source": [
    "is_palindrome('bob') # tem que retornar True"
   ]
  },
  {
   "cell_type": "code",
   "execution_count": null,
   "metadata": {},
   "outputs": [
    {
     "data": {
      "text/plain": [
       "False"
      ]
     },
     "metadata": {},
     "output_type": "display_data"
    }
   ],
   "source": [
    "is_palindrome('bola') # tem que retornar False"
   ]
  },
  {
   "cell_type": "markdown",
   "metadata": {},
   "source": [
    "<h3> Exercício 8.4 </h3>\n",
    "\n",
    "As seguintes funções pretendem verificar se uma string contém alguma letra minúscula, mas algumas delas estão erradas. Para cada função, descreva o que ela faz (assumindo que o parâmetro seja uma string)."
   ]
  },
  {
   "cell_type": "code",
   "execution_count": null,
   "metadata": {},
   "outputs": [],
   "source": [
    "'''\n",
    "Essa função tem o objetivo de atravessar a string passada por parâmetro, letra a letra, e\n",
    "verificar se a letra é minúscula. se sim, retorna True, se não, retorna falso.\n",
    "\n",
    "ERRO: o erro dessa função, é que na primeira ocorrência, seja de True ou False, a função\n",
    "é finalizada\n",
    "'''\n",
    "def any_lowercase1(s):\n",
    "  for c in s:\n",
    "    if c.islower():\n",
    "      return True\n",
    "    else:\n",
    "      return False"
   ]
  },
  {
   "cell_type": "code",
   "execution_count": null,
   "metadata": {},
   "outputs": [
    {
     "data": {
      "text/plain": [
       "True"
      ]
     },
     "metadata": {},
     "output_type": "display_data"
    }
   ],
   "source": [
    "any_lowercase1('breNda')"
   ]
  },
  {
   "cell_type": "code",
   "execution_count": null,
   "metadata": {},
   "outputs": [
    {
     "data": {
      "text/plain": [
       "False"
      ]
     },
     "metadata": {},
     "output_type": "display_data"
    }
   ],
   "source": [
    "any_lowercase1('Brenda')"
   ]
  },
  {
   "cell_type": "code",
   "execution_count": null,
   "metadata": {},
   "outputs": [],
   "source": [
    "'''\n",
    "Essa função tem o objetivo de atravessar a string passada por parâmetro, letra a letra, e\n",
    "verificar se a letra 'c' é minúscula. se sim, retorna True, se não,\n",
    "retorna False.\n",
    "\n",
    "ERRO: a função SEMPRE vai retornar True, pois o método está sendo invocado numa string de letra\n",
    "'c' minúscula, ou seja, verdadeiro - e finaliza as execuções. Independentemente da variável\n",
    "passado por parâmetro.\n",
    "'''\n",
    "def any_lowercase2(s):\n",
    "  for c in s:\n",
    "    if 'c'.islower():\n",
    "      return 'True'\n",
    "    else:\n",
    "      return 'False'"
   ]
  },
  {
   "cell_type": "code",
   "execution_count": null,
   "metadata": {},
   "outputs": [
    {
     "data": {
      "application/vnd.google.colaboratory.intrinsic+json": {
       "type": "string"
      },
      "text/plain": [
       "'True'"
      ]
     },
     "metadata": {},
     "output_type": "display_data"
    }
   ],
   "source": [
    "any_lowercase2('Brenda')"
   ]
  },
  {
   "cell_type": "code",
   "execution_count": null,
   "metadata": {},
   "outputs": [],
   "source": [
    "'''\n",
    "Essa função tem o objetivo de atravessar a string passada por parâmetro, letra a letra, e\n",
    "verificar se a letra é minúscula. se sim, retorna True, se não, retorna False armazenando\n",
    "esses valores booleanos na variável flag.\n",
    "\n",
    "ERRO: a cada varificação de letra, o valor booleano é armazenado sempre na mesma variável, ou seja,\n",
    "toda vez em que uma letra é verificada, seu resultado sobrepõe o anterior. assim, a função vai\n",
    "retornar o último valor booleano referente a última letra da string que foi passada por parâmetro.\n",
    "'''\n",
    "\n",
    "def any_lowercase3(s):\n",
    "  for c in s:\n",
    "    flag = c.islower()\n",
    "  return flag"
   ]
  },
  {
   "cell_type": "code",
   "execution_count": null,
   "metadata": {},
   "outputs": [
    {
     "data": {
      "text/plain": [
       "True"
      ]
     },
     "metadata": {},
     "output_type": "display_data"
    }
   ],
   "source": [
    "any_lowercase3('Brenda') # retorna True, pois 'a' é minúscula"
   ]
  },
  {
   "cell_type": "code",
   "execution_count": null,
   "metadata": {},
   "outputs": [
    {
     "data": {
      "text/plain": [
       "False"
      ]
     },
     "metadata": {},
     "output_type": "display_data"
    }
   ],
   "source": [
    "any_lowercase3('BrendA') # retorna False, pois 'A' é maiúscula"
   ]
  },
  {
   "cell_type": "code",
   "execution_count": null,
   "metadata": {},
   "outputs": [],
   "source": [
    "'''\n",
    "Essa função tem o objetivo de atravessar a string passada por parâmetro, letra a letra,\n",
    "e RETORNAR o valor original atribuído à flag (False), ou atribuir à ela o valor booleano\n",
    "da verificação de cada letra que está sendo validada. e retornaa a flag no final.\n",
    "\n",
    "ERRO: pode ocorrer de a função retornar True sempre, pois na regra do operador lógico\n",
    "\"OR\" (OU) basta apenas uma VERDADE (True) para que seja retornado VERDADE (True).\n",
    "'''\n",
    "\n",
    "def any_lowercase4(s):\n",
    "  flag = False\n",
    "\n",
    "  for c in s:\n",
    "    flag = flag or c.islower()\n",
    "  return flag"
   ]
  },
  {
   "cell_type": "code",
   "execution_count": null,
   "metadata": {},
   "outputs": [
    {
     "data": {
      "text/plain": [
       "True"
      ]
     },
     "metadata": {},
     "output_type": "display_data"
    }
   ],
   "source": [
    "any_lowercase4('Brenda') # B = False | r = True | e = True | n = True | d = True | a = True |"
   ]
  },
  {
   "cell_type": "code",
   "execution_count": null,
   "metadata": {},
   "outputs": [
    {
     "data": {
      "text/plain": [
       "True"
      ]
     },
     "metadata": {},
     "output_type": "display_data"
    }
   ],
   "source": [
    "any_lowercase4('BrendA') # B = False | r = True | e = True | n = True | d = True | a = True |"
   ]
  },
  {
   "cell_type": "code",
   "execution_count": null,
   "metadata": {},
   "outputs": [],
   "source": [
    "'''\n",
    "Essa função tem o objetivo de atravessar a string passada por parâmetro, letra a letra, e\n",
    "verificar se a letra em 'c' é minúscula, se for maiúscula, vai retornar False, e finalizar.\n",
    "se for minúscula, retornar True.\n",
    "\n",
    "ERRO: quando a função encontra uma letra maiúscula, ela retorna False imediatamente, e finaliza\n",
    "a execução. e para retornar True, todos os caracteres tem que ser minúsculos.\n",
    "'''\n",
    "\n",
    "def any_lowercase5(s):\n",
    "  for c in s:\n",
    "    print(c)\n",
    "    if not c.islower():\n",
    "      return False\n",
    "  return True"
   ]
  },
  {
   "cell_type": "code",
   "execution_count": null,
   "metadata": {},
   "outputs": [
    {
     "name": "stdout",
     "output_type": "stream",
     "text": [
      "B\n"
     ]
    },
    {
     "data": {
      "text/plain": [
       "False"
      ]
     },
     "metadata": {},
     "output_type": "display_data"
    }
   ],
   "source": [
    "any_lowercase5('Brenda') # verifica B = False > not False = True"
   ]
  },
  {
   "cell_type": "code",
   "execution_count": null,
   "metadata": {},
   "outputs": [
    {
     "name": "stdout",
     "output_type": "stream",
     "text": [
      "b\n",
      "r\n",
      "e\n",
      "n\n",
      "d\n",
      "a\n"
     ]
    },
    {
     "data": {
      "text/plain": [
       "True"
      ]
     },
     "metadata": {},
     "output_type": "display_data"
    }
   ],
   "source": [
    "any_lowercase5('brenda')\n",
    "\n",
    "# verifica b = True > not True = False\n",
    "# verifica r = True > not True = False\n",
    "# verifica e = True > not True = False\n",
    "# verifica n = True > not True = False\n",
    "# verifica d = True > not True = False\n",
    "# verifica a = True > not True = False"
   ]
  },
  {
   "cell_type": "markdown",
   "metadata": {},
   "source": [
    "**EXPLICAÇÃO CHATGPT:**\n",
    "\n",
    "O problema com a função any_lowercase5 é uma questão de lógica incorreta e não um falso-positivo. A função estava verificando se todos os caracteres eram minúsculos, mas o nome da função sugere que ela deveria verificar se qualquer caractere é minúsculo.\n",
    "\n",
    "Isso é simplesmente um erro de implementação ou uma lógica mal nomeada, mas não se trata de um falso-positivo. Se o nome da função estivesse correto para o que o código faz, ou seja, se fosse algo como all_lowercase, então o comportamento da função estaria correto."
   ]
  },
  {
   "cell_type": "markdown",
   "metadata": {},
   "source": [
    "<h2> Exercício 8.5 </h2>\n",
    "\n",
    "Uma cifra de César é uma forma fraca de criptografia que implica “rotacionar” cada letra por um número fixo de lugares. Rotacionar uma letra significa deslocá-lo pelo alfabeto, voltando ao início se for necessário, portanto 'A' rotacionado por 3 é 'D' e 'Z' rotacionado por 1 é 'A'.\n",
    "\n",
    "Para rotacionar uma palavra, faça cada letra se mover pela mesma quantidade de posições.\n",
    "\n",
    "Você pode usar a função integrada ord, que converte um caractere em um código numérico e chr, que converte códigos numéricos em caracteres. As letras do alfabeto são codificadas em ordem alfabética, então, por exemplo:\n",
    "\n",
    "```\n",
    ">>> ord('c') - ord('a')\n",
    "2\n",
    "```\n",
    "\n",
    "Porque 'c' é a “segunda” letra do alfabeto. Mas tenha cuidado: os códigos numéricos de letras maiúsculas são diferentes.\n",
    "\n",
    "**Piadas potencialmente ofensivas na internet às vezes são codificadas em ROT13, que é uma cifra de César com rotação 13. Se não se ofender facilmente, encontre e decifre algumas delas.**"
   ]
  },
  {
   "cell_type": "markdown",
   "metadata": {},
   "source": [
    "**TESTES**"
   ]
  },
  {
   "cell_type": "code",
   "execution_count": null,
   "metadata": {},
   "outputs": [],
   "source": [
    "# EU TE AMO\n",
    "\n",
    "# IY XI EQS"
   ]
  },
  {
   "cell_type": "code",
   "execution_count": null,
   "metadata": {},
   "outputs": [
    {
     "data": {
      "text/plain": [
       "2"
      ]
     },
     "metadata": {},
     "output_type": "display_data"
    }
   ],
   "source": [
    "ord('c') - ord('a')"
   ]
  },
  {
   "cell_type": "code",
   "execution_count": null,
   "metadata": {},
   "outputs": [
    {
     "data": {
      "text/plain": [
       "99"
      ]
     },
     "metadata": {},
     "output_type": "display_data"
    }
   ],
   "source": [
    "ord('c')"
   ]
  },
  {
   "cell_type": "code",
   "execution_count": null,
   "metadata": {},
   "outputs": [
    {
     "data": {
      "text/plain": [
       "97"
      ]
     },
     "metadata": {},
     "output_type": "display_data"
    }
   ],
   "source": [
    "ord('a')"
   ]
  },
  {
   "cell_type": "code",
   "execution_count": null,
   "metadata": {},
   "outputs": [
    {
     "data": {
      "text/plain": [
       "2"
      ]
     },
     "metadata": {},
     "output_type": "display_data"
    }
   ],
   "source": [
    "99 - 97 # 2"
   ]
  },
  {
   "cell_type": "code",
   "execution_count": null,
   "metadata": {},
   "outputs": [
    {
     "data": {
      "text/plain": [
       "106"
      ]
     },
     "metadata": {},
     "output_type": "display_data"
    }
   ],
   "source": [
    "ord('c') + 7"
   ]
  },
  {
   "cell_type": "code",
   "execution_count": null,
   "metadata": {},
   "outputs": [
    {
     "data": {
      "application/vnd.google.colaboratory.intrinsic+json": {
       "type": "string"
      },
      "text/plain": [
       "'j'"
      ]
     },
     "metadata": {},
     "output_type": "display_data"
    }
   ],
   "source": [
    "chr(106)"
   ]
  },
  {
   "cell_type": "markdown",
   "metadata": {},
   "source": [
    "Escreva uma função chamada rotate_word que receba uma string e um número inteiro\n",
    "como parâmetros, e retorne uma nova string que contém as letras da string original rotacionadas pelo número dado."
   ]
  },
  {
   "cell_type": "code",
   "execution_count": null,
   "metadata": {},
   "outputs": [],
   "source": [
    "def rotate_word(string, numero_rotacao):\n",
    "  nova_string = ''\n",
    "\n",
    "  for letra in string:\n",
    "    nova_string = nova_string + chr(ord(letra) + numero_rotacao)\n",
    "\n",
    "  return nova_string"
   ]
  },
  {
   "cell_type": "code",
   "execution_count": null,
   "metadata": {},
   "outputs": [
    {
     "data": {
      "application/vnd.google.colaboratory.intrinsic+json": {
       "type": "string"
      },
      "text/plain": [
       "'IYXIEQS'"
      ]
     },
     "metadata": {},
     "output_type": "display_data"
    }
   ],
   "source": [
    "rotate_word('EUTEAMO', 4)"
   ]
  }
 ],
 "metadata": {
  "language_info": {
   "name": "python"
  }
 },
 "nbformat": 4,
 "nbformat_minor": 2
}
