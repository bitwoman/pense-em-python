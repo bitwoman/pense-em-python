{
  "nbformat": 4,
  "nbformat_minor": 0,
  "metadata": {
    "colab": {
      "provenance": [],
      "authorship_tag": "ABX9TyPGoN0ynaCpbdt6KerJ4caI",
      "include_colab_link": true
    },
    "kernelspec": {
      "name": "python3",
      "display_name": "Python 3"
    },
    "language_info": {
      "name": "python"
    }
  },
  "cells": [
    {
      "cell_type": "markdown",
      "metadata": {
        "id": "view-in-github",
        "colab_type": "text"
      },
      "source": [
        "<a href=\"https://colab.research.google.com/github/bitwoman/pense-em-python/blob/main/capitulo_6.ipynb\" target=\"_parent\"><img src=\"https://colab.research.google.com/assets/colab-badge.svg\" alt=\"Open In Colab\"/></a>"
      ]
    },
    {
      "cell_type": "markdown",
      "source": [
        "# **ESTUDO DO LIVRO \"Pense em Python\", DO AUTOR ALLEN B. DOWNEY**\n",
        "\n",
        "<p> Estudos iniciados em 20-06-2024. </p>"
      ],
      "metadata": {
        "id": "q7Ce8z_JIPPt"
      }
    },
    {
      "cell_type": "markdown",
      "source": [
        "# Capítulo 6: Funções com resultado"
      ],
      "metadata": {
        "id": "pDcqrEyNIU4f"
      }
    },
    {
      "cell_type": "markdown",
      "source": [
        "<h2> 6.1 - Valores de retorno </h2>\n",
        "\n",
        "A chamada de função gera um valor de retorno, que normalmente atribuímos a uma\n",
        "variável ou usamos como parte de uma expressão."
      ],
      "metadata": {
        "id": "kciM9JhbGFg-"
      }
    },
    {
      "cell_type": "code",
      "execution_count": null,
      "metadata": {
        "colab": {
          "base_uri": "https://localhost:8080/"
        },
        "id": "CbGxI32rIC70",
        "outputId": "ec87211d-410e-403f-af3f-c18b80fdcd87"
      },
      "outputs": [
        {
          "output_type": "stream",
          "name": "stdout",
          "text": [
            "2.718281828459045\n"
          ]
        }
      ],
      "source": [
        "import math\n",
        "\n",
        "e = math.exp(1.0)\n",
        "print(e)"
      ]
    },
    {
      "cell_type": "markdown",
      "source": [
        "As funções que descrevemos, por enquanto, são todas nulas. Resumindo, elas não têm valores de retorno; mais precisamente, o seu valor de retorno é None.\n"
      ],
      "metadata": {
        "id": "88-cz7pHGupn"
      }
    },
    {
      "cell_type": "markdown",
      "source": [
        "O primeiro exemplo é area, que devolve a área de um círculo com o raio dado:\n"
      ],
      "metadata": {
        "id": "W4OoJ4J2Gx4j"
      }
    },
    {
      "cell_type": "code",
      "source": [
        "def area(radius):\n",
        "  a = math.pi * radius**2\n",
        "  return a"
      ],
      "metadata": {
        "id": "qpZrVaMDGTOa"
      },
      "execution_count": null,
      "outputs": []
    },
    {
      "cell_type": "markdown",
      "source": [
        "Já vimos a instrução return, mas em uma função com resultado ela inclui uma expressão. Esta instrução significa: “Volte imediatamente desta função e use a seguinte expressão como valor de retorno”. A expressão pode ser arbitrariamente complicada, então poderíamos ter escrito esta função de forma mais concisa:"
      ],
      "metadata": {
        "id": "IQVFxWtzG-06"
      }
    },
    {
      "cell_type": "code",
      "source": [
        "def area(radius):\n",
        "  return math.pi * radius**2"
      ],
      "metadata": {
        "id": "HfiXkM_1G0eS"
      },
      "execution_count": null,
      "outputs": []
    },
    {
      "cell_type": "markdown",
      "source": [
        "Por outro lado, variáveis temporárias como a, tornam a depuração mais fácil."
      ],
      "metadata": {
        "id": "rX9IdJ-dHF-U"
      }
    },
    {
      "cell_type": "markdown",
      "source": [
        "Às vezes, é útil ter várias instruções de retorno, uma em cada ramo de uma condicional:"
      ],
      "metadata": {
        "id": "EXrZNvHTHILt"
      }
    },
    {
      "cell_type": "code",
      "source": [
        "def absolute_value(x):\n",
        "  if x < 0:\n",
        "    return -x\n",
        "  else:\n",
        "    return x\n",
        "\n",
        "''' Como essas instruções return estão em uma condicional alternativa, apenas uma é executada.'''"
      ],
      "metadata": {
        "colab": {
          "base_uri": "https://localhost:8080/",
          "height": 36
        },
        "id": "2G-an2M6HDE9",
        "outputId": "65b89c80-2e2f-491d-b4e8-dd4774b431c2"
      },
      "execution_count": null,
      "outputs": [
        {
          "output_type": "execute_result",
          "data": {
            "text/plain": [
              "' Como essas instruções return estão em uma condicional alternativa, apenas uma é executada.'"
            ],
            "application/vnd.google.colaboratory.intrinsic+json": {
              "type": "string"
            }
          },
          "metadata": {},
          "execution_count": 5
        }
      ]
    },
    {
      "cell_type": "markdown",
      "source": [
        "Logo que uma instrução de retorno seja executada, a função termina sem executar\n",
        "nenhuma instrução subsequente. Qualquer código que apareça depois de uma instrução return, ou em qualquer outro lugar que o fluxo da execução não atinja, é chamado de **código morto**.\n",
        "Em uma função com resultado, é uma boa ideia garantir que cada caminho possível pelo programa atinja uma instrução return. Por exemplo:"
      ],
      "metadata": {
        "id": "RE52k9n1HeZF"
      }
    },
    {
      "cell_type": "markdown",
      "source": [
        "Essa função é incorreta porque se x for 0, nenhuma condição é verdade, e a função termina sem chegar a uma instrução return. Se o fluxo de execução chegar ao fim de uma função, o valor de retorno é None, que não é o valor absoluto de 0:"
      ],
      "metadata": {
        "id": "hC9gey7-Hwfq"
      }
    },
    {
      "cell_type": "code",
      "source": [
        "def absolute_value(x):\n",
        "  if x < 0:\n",
        "    return -x\n",
        "  if x > 0:\n",
        "    return x"
      ],
      "metadata": {
        "id": "aBUb9oPoHLZ1"
      },
      "execution_count": null,
      "outputs": []
    },
    {
      "cell_type": "markdown",
      "source": [
        "A propósito, o Python oferece uma função integrada chamada abs, que calcula valores absolutos.\n",
        "Como exercício, escreva uma função compare que receba dois valores, x e y, e retorne 1 se x > y, 0 se x == y e -1 se x < y."
      ],
      "metadata": {
        "id": "vCgoUvk3HzMz"
      }
    },
    {
      "cell_type": "code",
      "source": [
        "def comparaNumeros(x, y):\n",
        "  if x > y:\n",
        "    return 1\n",
        "  elif x == y:\n",
        "    return 0\n",
        "  elif x < y:\n",
        "    return -1"
      ],
      "metadata": {
        "id": "6GSSggiDHjmO"
      },
      "execution_count": null,
      "outputs": []
    },
    {
      "cell_type": "code",
      "source": [
        "comparaNumeros(5,2) # OK"
      ],
      "metadata": {
        "colab": {
          "base_uri": "https://localhost:8080/"
        },
        "id": "ve8HjxOVIJD7",
        "outputId": "db1eb0a6-2362-4bec-cf75-c6b7c1c54cd9"
      },
      "execution_count": null,
      "outputs": [
        {
          "output_type": "execute_result",
          "data": {
            "text/plain": [
              "1"
            ]
          },
          "metadata": {},
          "execution_count": 8
        }
      ]
    },
    {
      "cell_type": "code",
      "source": [
        "comparaNumeros(2,2) # OK"
      ],
      "metadata": {
        "colab": {
          "base_uri": "https://localhost:8080/"
        },
        "id": "Tdn-XXfqILMs",
        "outputId": "1b2e06b3-1a4b-460d-c80d-90a0aaca534f"
      },
      "execution_count": null,
      "outputs": [
        {
          "output_type": "execute_result",
          "data": {
            "text/plain": [
              "0"
            ]
          },
          "metadata": {},
          "execution_count": 9
        }
      ]
    },
    {
      "cell_type": "code",
      "source": [
        "comparaNumeros(2,3) # OK"
      ],
      "metadata": {
        "colab": {
          "base_uri": "https://localhost:8080/"
        },
        "id": "TzbEdBhDINXy",
        "outputId": "861eec05-6878-408e-bb7b-5af561f73fd6"
      },
      "execution_count": null,
      "outputs": [
        {
          "output_type": "execute_result",
          "data": {
            "text/plain": [
              "-1"
            ]
          },
          "metadata": {},
          "execution_count": 10
        }
      ]
    },
    {
      "cell_type": "markdown",
      "source": [
        "<h2> 6.2 - Desenvolvimento incremental </h2>\n",
        "\n",
        "Conforme você escrever funções maiores, pode ser que passe mais tempo as depurando.\n",
        "Para lidar com programas cada vez mais complexos, você pode querer tentar usar um processo chamado de desenvolvimento incremental. A meta do desenvolvimento\n",
        "incremental é evitar longas sessões de depuração, acrescentando e testando pequenas partes do código de cada vez."
      ],
      "metadata": {
        "id": "Nq5MtXXvRLIk"
      }
    },
    {
      "cell_type": "markdown",
      "source": [
        "Como um exemplo, vamos supor que você queira encontrar a distância entre dois pontos dados pelas coordenadas (x1, y1) e(x2, y2). Pelo teorema de Pitágoras, a distância é:\n",
        "\n",
        "![image.png](data:image/png;base64,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)"
      ],
      "metadata": {
        "id": "aI7wxRYUjjRR"
      }
    },
    {
      "cell_type": "code",
      "source": [
        "def distance(x1, y1, x2, y2):\n",
        "  return 0.0\n",
        "\n",
        "'''\n",
        "Claro que esta versão não calcula distâncias; sempre retorna zero. Mas está sintaticamente\n",
        "correta, e pode ser executada, o que significa que você pode testá-la antes de torná-la mais\n",
        "complicada.\n",
        "'''"
      ],
      "metadata": {
        "colab": {
          "base_uri": "https://localhost:8080/",
          "height": 72
        },
        "id": "UgNftzdzIQ-h",
        "outputId": "1936af11-1b9b-494b-85a7-da50de003e3f"
      },
      "execution_count": null,
      "outputs": [
        {
          "output_type": "execute_result",
          "data": {
            "text/plain": [
              "'\\nClaro que esta versão não calcula distâncias; sempre retorna zero. Mas está sintaticamente\\ncorreta, e pode ser executada, o que significa que você pode testá-la antes de torná-la mais\\ncomplicada.\\n'"
            ],
            "application/vnd.google.colaboratory.intrinsic+json": {
              "type": "string"
            }
          },
          "metadata": {},
          "execution_count": 11
        }
      ]
    },
    {
      "cell_type": "code",
      "source": [
        "distance(1,2,4,6) # testando"
      ],
      "metadata": {
        "colab": {
          "base_uri": "https://localhost:8080/"
        },
        "id": "eATlV2uWjrSn",
        "outputId": "995c55dd-5f8e-4b8c-c2b2-837e760377dd"
      },
      "execution_count": null,
      "outputs": [
        {
          "output_type": "execute_result",
          "data": {
            "text/plain": [
              "0.0"
            ]
          },
          "metadata": {},
          "execution_count": 12
        }
      ]
    },
    {
      "cell_type": "markdown",
      "source": [
        "Escolhi esses valores para que a distância horizontal seja 3 e a distância vertical, 4; assim, o resultado final é 5, a hipotenusa de um triângulo 3-4-5. Ao testar uma função, é útil saber a resposta certa.\n",
        "Neste ponto confirmamos que a função está sintaticamente correta, e podemos começar a acrescentar código ao corpo. Um próximo passo razoável é encontrar as diferenças x2 − x1 e y2 − y1. A próxima versão guarda esses valores em variáveis temporárias e os exibe:"
      ],
      "metadata": {
        "id": "JaotHC8VkQ91"
      }
    },
    {
      "cell_type": "code",
      "source": [
        "def distance(x1, y1, x2, y2):\n",
        "  dx = x2 - x1\n",
        "  dy = y2 - y1\n",
        "\n",
        "  print('dx is', dx)\n",
        "  print('dy is', dy)\n",
        "\n",
        "  return 0.0"
      ],
      "metadata": {
        "id": "j3p0pZp6j2kC"
      },
      "execution_count": null,
      "outputs": []
    },
    {
      "cell_type": "code",
      "source": [
        "distance(1,2,4,6) # testando"
      ],
      "metadata": {
        "colab": {
          "base_uri": "https://localhost:8080/"
        },
        "id": "3Bkr24K3kY5x",
        "outputId": "7c0469d3-6862-4067-b093-cc52266407f5"
      },
      "execution_count": null,
      "outputs": [
        {
          "output_type": "stream",
          "name": "stdout",
          "text": [
            "dx is 3\n",
            "dy is 4\n"
          ]
        },
        {
          "output_type": "execute_result",
          "data": {
            "text/plain": [
              "0.0"
            ]
          },
          "metadata": {},
          "execution_count": 14
        }
      ]
    },
    {
      "cell_type": "markdown",
      "source": [
        "Se a função estiver funcionando, deve exibir dx is 3 e dy is 4. Nesse caso sabemos que a função está recebendo os argumentos corretos e executando o primeiro cálculo\n",
        "acertadamente. Se não, há poucas linhas para verificar.\n"
      ],
      "metadata": {
        "id": "7rqhbB9rklqK"
      }
    },
    {
      "cell_type": "markdown",
      "source": [
        "Depois calculamos a soma dos quadrados de dx e dy:"
      ],
      "metadata": {
        "id": "SzhhktbOkq6M"
      }
    },
    {
      "cell_type": "code",
      "source": [
        "def distance(x1, y1, x2, y2):\n",
        "  dx = x2 - x1\n",
        "  dy = y2 - y1\n",
        "  dsquared = dx**2 + dy**2\n",
        "\n",
        "  print('dsquared is: ', dsquared)\n",
        "\n",
        "  return 0.0"
      ],
      "metadata": {
        "id": "ba5dIqx5kkYU"
      },
      "execution_count": null,
      "outputs": []
    },
    {
      "cell_type": "code",
      "source": [
        "distance(1,2,4,6) # testando"
      ],
      "metadata": {
        "colab": {
          "base_uri": "https://localhost:8080/"
        },
        "id": "uRUtBVhrkuSx",
        "outputId": "326f8ac9-6317-4453-ffce-20ad4893f106"
      },
      "execution_count": null,
      "outputs": [
        {
          "output_type": "stream",
          "name": "stdout",
          "text": [
            "dsquared is:  25\n"
          ]
        },
        {
          "output_type": "execute_result",
          "data": {
            "text/plain": [
              "0.0"
            ]
          },
          "metadata": {},
          "execution_count": 16
        }
      ]
    },
    {
      "cell_type": "markdown",
      "source": [
        "Nesta etapa você executaria o programa mais uma vez e verificaria a saída (que deve ser 25). Finalmente, pode usar math.sqrt para calcular e devolver o resultado:"
      ],
      "metadata": {
        "id": "dlEhR0z0k1SN"
      }
    },
    {
      "cell_type": "code",
      "source": [
        "def distance(x1, y1, x2, y2):\n",
        "  dx = x2 - x1\n",
        "  dy = y2 - y1\n",
        "  dsquared = dx**2 + dy**2\n",
        "  result = math.sqrt(dsquared)\n",
        "\n",
        "  return result"
      ],
      "metadata": {
        "id": "2YnLrgH5kwmG"
      },
      "execution_count": null,
      "outputs": []
    },
    {
      "cell_type": "code",
      "source": [
        "distance(1,2,4,6) # teste final"
      ],
      "metadata": {
        "colab": {
          "base_uri": "https://localhost:8080/"
        },
        "id": "XpwUDeSak37K",
        "outputId": "81e475b8-0b3c-4137-dd24-44207bd1f3de"
      },
      "execution_count": null,
      "outputs": [
        {
          "output_type": "execute_result",
          "data": {
            "text/plain": [
              "5.0"
            ]
          },
          "metadata": {},
          "execution_count": 18
        }
      ]
    },
    {
      "cell_type": "markdown",
      "source": [
        "**De qualquer forma, o desenvolvimento incremental pode economizar muito tempo de depuração.**"
      ],
      "metadata": {
        "id": "sZWjRm4gpLWA"
      }
    },
    {
      "cell_type": "markdown",
      "source": [
        "Os principais aspectos do processo são:\n",
        "1. Comece com um programa que funcione e faça pequenas alterações incrementais. Se houver um erro em qualquer ponto, será bem mais fácil encontrá-lo.\n",
        "2. Use variáveis para guardar valores intermediários, assim poderá exibi-los e verificá-los.\n",
        "3. Uma vez que o programa esteja funcionando, você pode querer remover uma parte do scaffolding ou consolidar várias instruções em expressões compostas, mas apenas se isso não tornar o programa difícil de ler.\n"
      ],
      "metadata": {
        "id": "9g006SjisKAj"
      }
    },
    {
      "cell_type": "markdown",
      "source": [
        "Como exercício, use o desenvolvimento incremental para escrever uma função chamada hypotenuse, que devolva o comprimento da hipotenusa de um triângulo retângulo dados os comprimentos dos outros dois lados como argumentos. Registre cada etapa do processo de desenvolvimento no decorrer do processo."
      ],
      "metadata": {
        "id": "JG7CelRqsSm2"
      }
    },
    {
      "cell_type": "markdown",
      "source": [
        "**DESENVOLVIMENTO INCREMENTAL: PASSO 1**\n",
        "\n",
        "Fazer o rascunho da função."
      ],
      "metadata": {
        "id": "WvXOxSMnsp3U"
      }
    },
    {
      "cell_type": "code",
      "source": [
        "def hypotenuse(side_a, side_b):\n",
        "  return 0"
      ],
      "metadata": {
        "id": "IRPgsMGfsYo2"
      },
      "execution_count": null,
      "outputs": []
    },
    {
      "cell_type": "code",
      "source": [
        "hypotenuse(4, 5) # teste 1 OK"
      ],
      "metadata": {
        "colab": {
          "base_uri": "https://localhost:8080/"
        },
        "id": "54Gkj9Cpk7-v",
        "outputId": "4f33ed94-f1f5-4ea6-ecec-a8bc750027e0"
      },
      "execution_count": null,
      "outputs": [
        {
          "output_type": "execute_result",
          "data": {
            "text/plain": [
              "0"
            ]
          },
          "metadata": {},
          "execution_count": 20
        }
      ]
    },
    {
      "cell_type": "markdown",
      "source": [
        "**DESENVOLVIMENTO INCREMENTAL: PASSO 2**\n",
        "\n",
        "Calcular o quadrado do lado A e do lado B, respectivamente."
      ],
      "metadata": {
        "id": "wdSnufEKsz0F"
      }
    },
    {
      "cell_type": "markdown",
      "source": [
        "Para calcular o comprimento da hipotenusa de um triângulo retângulo, você pode usar o Teorema de Pitágoras. O Teorema de Pitágoras afirma que, em um triângulo retângulo, o quadrado da hipotenusa (o lado oposto ao ângulo reto) é igual à soma dos quadrados dos outros dois lados.\n",
        "\n",
        "FÓRMULA: <p>\n",
        "![image.png](data:image/png;base64,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)"
      ],
      "metadata": {
        "id": "e4hvCyFKtJxU"
      }
    },
    {
      "cell_type": "code",
      "source": [
        "def hypotenuse(side_a, side_b):\n",
        "  square_side_a = side_a ** 2\n",
        "  square_side_b = side_b ** 2\n",
        "\n",
        "  print('square a: ', square_side_a)\n",
        "  print('square b: ', square_side_b)\n",
        "\n",
        "  return 0"
      ],
      "metadata": {
        "id": "Q8At2r4ksy42"
      },
      "execution_count": null,
      "outputs": []
    },
    {
      "cell_type": "code",
      "source": [
        "hypotenuse(4,5) # teste 2 OK"
      ],
      "metadata": {
        "colab": {
          "base_uri": "https://localhost:8080/"
        },
        "id": "fzuD5zKcuDrL",
        "outputId": "aa69565c-0b36-41c8-d5ee-84882d2d8992"
      },
      "execution_count": null,
      "outputs": [
        {
          "output_type": "stream",
          "name": "stdout",
          "text": [
            "square a:  16\n",
            "square b:  25\n"
          ]
        },
        {
          "output_type": "execute_result",
          "data": {
            "text/plain": [
              "0"
            ]
          },
          "metadata": {},
          "execution_count": 22
        }
      ]
    },
    {
      "cell_type": "markdown",
      "source": [
        "**DESENVOLVIMENTO INCREMENTAL: PASSO 3**\n",
        "\n",
        "Calcular a soma dos quadrados do lado A com o lado B."
      ],
      "metadata": {
        "id": "B63yolXGuoKM"
      }
    },
    {
      "cell_type": "code",
      "source": [
        "def hypotenuse(side_a, side_b):\n",
        "  square_side_a = side_a ** 2\n",
        "  square_side_b = side_b ** 2\n",
        "  sum_square = square_side_a + square_side_b\n",
        "\n",
        "  print('square\\'s sum:' , sum_square)\n",
        "\n",
        "  return 0"
      ],
      "metadata": {
        "id": "otBClzA1uVLq"
      },
      "execution_count": null,
      "outputs": []
    },
    {
      "cell_type": "code",
      "source": [
        "hypotenuse(4,5) # teste 3 OK"
      ],
      "metadata": {
        "colab": {
          "base_uri": "https://localhost:8080/"
        },
        "id": "0U7VNt2ju-IQ",
        "outputId": "e7e48053-77c9-4a2b-f280-8ecac8dd0ebf"
      },
      "execution_count": null,
      "outputs": [
        {
          "output_type": "stream",
          "name": "stdout",
          "text": [
            "square's sum: 41\n"
          ]
        },
        {
          "output_type": "execute_result",
          "data": {
            "text/plain": [
              "0"
            ]
          },
          "metadata": {},
          "execution_count": 24
        }
      ]
    },
    {
      "cell_type": "markdown",
      "source": [
        "**DESENVOLVIMENTO INCREMENTAL: PASSO 4**\n",
        "\n",
        "Calcular a raiz quadrada da soma e retorna o resultado."
      ],
      "metadata": {
        "id": "_EiGJ5IlvQVc"
      }
    },
    {
      "cell_type": "code",
      "source": [
        "import math\n",
        "\n",
        "def hypotenuse(side_a, side_b):\n",
        "  square_side_a = side_a ** 2\n",
        "  square_side_b = side_b ** 2\n",
        "  sum_square = square_side_a + square_side_b\n",
        "  result = math.sqrt(sum_square)\n",
        "\n",
        "  return result"
      ],
      "metadata": {
        "id": "5hU6DZOyvAeC"
      },
      "execution_count": null,
      "outputs": []
    },
    {
      "cell_type": "code",
      "source": [
        "hypotenuse(4,5) # teste 4 OK"
      ],
      "metadata": {
        "colab": {
          "base_uri": "https://localhost:8080/"
        },
        "id": "t9wbu2vtvnnR",
        "outputId": "7cd152dc-303b-44f6-c657-f1c6bf89dd93"
      },
      "execution_count": null,
      "outputs": [
        {
          "output_type": "execute_result",
          "data": {
            "text/plain": [
              "6.4031242374328485"
            ]
          },
          "metadata": {},
          "execution_count": 26
        }
      ]
    },
    {
      "cell_type": "markdown",
      "source": [
        "<h2> 6.3 - Composição </h2>"
      ],
      "metadata": {
        "id": "AmsUCtmRvxVH"
      }
    },
    {
      "cell_type": "markdown",
      "source": [
        "Como você já deveria esperar a essa altura, é possível chamar uma função de dentro de outra. Como exemplo, escreveremos uma função que recebe dois pontos, o centro do círculo e um ponto no perímetro, para calcular a área do círculo.\n",
        "Suponha que o ponto do centro seja guardado nas variáveis xc e yc e o ponto de perímetro está em xp e yp. O primeiro passo deve ser encontrar o raio do círculo, que é a distância entre os dois pontos. Acabamos de escrever uma função, distance, que faz isto:"
      ],
      "metadata": {
        "id": "jR8vJAhIvzzv"
      }
    },
    {
      "cell_type": "code",
      "source": [
        "# radius = distance(xc, yc, xp, yp)"
      ],
      "metadata": {
        "id": "XkhwD0SCvsh1"
      },
      "execution_count": null,
      "outputs": []
    },
    {
      "cell_type": "markdown",
      "source": [
        "O próximo passo deve ser encontrar a área de um círculo com aquele raio; acabamos de escrever isso também:"
      ],
      "metadata": {
        "id": "WdSK6RsTx567"
      }
    },
    {
      "cell_type": "code",
      "source": [
        "# result = area(radius)"
      ],
      "metadata": {
        "id": "OvQmB43kx2Od"
      },
      "execution_count": null,
      "outputs": []
    },
    {
      "cell_type": "markdown",
      "source": [
        "Encapsulando esses passos em uma função, temos:"
      ],
      "metadata": {
        "id": "s8-28ij7x9bN"
      }
    },
    {
      "cell_type": "code",
      "source": [
        "def circle_area(xc, yc, xp, yp):\n",
        "  radius = distance(xc, yc, xp, yp) # distância entre dois pontos = raio de um círculo\n",
        "  result = area(radius)             # area de um círculo = pi * raio ** 2\n",
        "\n",
        "  return result"
      ],
      "metadata": {
        "id": "yLJzwHGtx7wU"
      },
      "execution_count": null,
      "outputs": []
    },
    {
      "cell_type": "markdown",
      "source": [
        "As variáveis temporárias radius e result são úteis para desenvolvimento e depuração, e uma vez que o programa esteja funcionando podemos torná-lo mais conciso compondo chamadas de função:\n"
      ],
      "metadata": {
        "id": "QIsMprk6yHYb"
      }
    },
    {
      "cell_type": "code",
      "source": [
        "def circle_area(xc, yc, xp, yp):\n",
        "  return area(distance(xc, yc, xp, yp))"
      ],
      "metadata": {
        "id": "F67sjaV1yDfr"
      },
      "execution_count": null,
      "outputs": []
    },
    {
      "cell_type": "markdown",
      "source": [
        "<h2> 6.4 - Funções booleanas </h2>\n",
        "\n",
        "As funções podem retornar booleans, o que pode ser conveniente para esconder testes complicados dentro de funções. Por exemplo:\n"
      ],
      "metadata": {
        "id": "_uPqBWCZyoIk"
      }
    },
    {
      "cell_type": "code",
      "source": [
        "def is_divisible(x, y):\n",
        "  if x % y == 0:\n",
        "    return True\n",
        "  else:\n",
        "    return False"
      ],
      "metadata": {
        "id": "nbFyKWlcyKne"
      },
      "execution_count": null,
      "outputs": []
    },
    {
      "cell_type": "markdown",
      "source": [
        "É comum dar nomes de funções booleanas que pareçam perguntas de sim ou não;\n",
        "is_divisible retorna True ou False para indicar se x é divisível por y."
      ],
      "metadata": {
        "id": "JM715dF_B-ny"
      }
    },
    {
      "cell_type": "code",
      "source": [
        "is_divisible(6, 4)"
      ],
      "metadata": {
        "colab": {
          "base_uri": "https://localhost:8080/"
        },
        "id": "hY6_atKwByaq",
        "outputId": "bd94d59a-f80e-42e2-eb50-8587678df1b4"
      },
      "execution_count": null,
      "outputs": [
        {
          "output_type": "execute_result",
          "data": {
            "text/plain": [
              "False"
            ]
          },
          "metadata": {},
          "execution_count": 32
        }
      ]
    },
    {
      "cell_type": "markdown",
      "source": [
        "O resultado do operador == é um booleano, então podemos escrever a função de forma mais concisa, retornando-o diretamente:"
      ],
      "metadata": {
        "id": "JLKeF5bmCB4q"
      }
    },
    {
      "cell_type": "code",
      "source": [
        "def is_divisible(x, y):\n",
        "  return x % y == 0"
      ],
      "metadata": {
        "id": "J74-oxC2B8tm"
      },
      "execution_count": null,
      "outputs": []
    },
    {
      "cell_type": "markdown",
      "source": [
        "As funções booleanas muitas vezes são usadas em instruções condicionais:\n",
        "\n",
        "\n",
        "\n",
        "```\n",
        "if is_divisible(x, y):\n",
        "  print('x is divisible by y')\n",
        "```\n",
        "\n",
        "Pode ser tentador escrever algo assim:\n",
        "\n",
        "```\n",
        "if is_divisible(x, y) == True:\n",
        "  print('x is divisible by y')\n",
        "```\n",
        "\n",
        "Mas a comparação extra é **desnecessária**."
      ],
      "metadata": {
        "id": "cSS5V4AmCGRf"
      }
    },
    {
      "cell_type": "markdown",
      "source": [
        "Como um exercício, escreva uma função is_between(x, y, z) que retorne True, se x ≤ y ≤ z, ou False, se não for o caso."
      ],
      "metadata": {
        "id": "XeAMfProCb0Y"
      }
    },
    {
      "cell_type": "code",
      "source": [
        "def is_between(x, y, z):\n",
        "  if x <= y and y <= z:\n",
        "    return True\n",
        "  else:\n",
        "    return False"
      ],
      "metadata": {
        "id": "dunEEedSCKwn"
      },
      "execution_count": null,
      "outputs": []
    },
    {
      "cell_type": "code",
      "source": [
        "is_between(1, 2, 3)"
      ],
      "metadata": {
        "colab": {
          "base_uri": "https://localhost:8080/"
        },
        "id": "lvH5pnt0C0dj",
        "outputId": "006d0a7e-166d-47e1-a0fa-86d88e9c4fe4"
      },
      "execution_count": null,
      "outputs": [
        {
          "output_type": "execute_result",
          "data": {
            "text/plain": [
              "True"
            ]
          },
          "metadata": {},
          "execution_count": 35
        }
      ]
    },
    {
      "cell_type": "markdown",
      "source": [
        "Melhorada:"
      ],
      "metadata": {
        "id": "2YIMkz5rDGwP"
      }
    },
    {
      "cell_type": "code",
      "source": [
        "def is_between(x, y, z):\n",
        "  return x <= y and y <= z"
      ],
      "metadata": {
        "id": "hHjh4tbnC5Wo"
      },
      "execution_count": null,
      "outputs": []
    },
    {
      "cell_type": "code",
      "source": [
        "is_between(1, 2, 3)"
      ],
      "metadata": {
        "colab": {
          "base_uri": "https://localhost:8080/"
        },
        "id": "B20CV6xXDHz-",
        "outputId": "7ae9bdd5-a1b4-4278-d560-46e78f856c67"
      },
      "execution_count": null,
      "outputs": [
        {
          "output_type": "execute_result",
          "data": {
            "text/plain": [
              "True"
            ]
          },
          "metadata": {},
          "execution_count": 37
        }
      ]
    },
    {
      "cell_type": "code",
      "source": [
        "is_between(3, 2, 1)"
      ],
      "metadata": {
        "colab": {
          "base_uri": "https://localhost:8080/"
        },
        "id": "RbZiLrtiDI4U",
        "outputId": "c2d98dc4-f361-48b3-9faf-5d30a4a534aa"
      },
      "execution_count": null,
      "outputs": [
        {
          "output_type": "execute_result",
          "data": {
            "text/plain": [
              "False"
            ]
          },
          "metadata": {},
          "execution_count": 38
        }
      ]
    },
    {
      "cell_type": "markdown",
      "source": [
        "<h2> 6.5 - Mais recursividade </h2>"
      ],
      "metadata": {
        "id": "TaMPZ1OGDkoM"
      }
    },
    {
      "cell_type": "markdown",
      "source": [
        "\n",
        "\n",
        "```\n",
        "0! = 1\n",
        "n! = n·(n − 1)!\n",
        "```\n",
        "\n"
      ],
      "metadata": {
        "id": "u9mOvTTLJ4i5"
      }
    },
    {
      "cell_type": "markdown",
      "source": [
        "Esta definição diz que o fatorial de 0 é 1, e o fatorial de qualquer outro valor, n, é n multiplicado pelo fatorial de n-1.\n",
        "Então 3! é 3 vezes 2!, que é 2 vezes 1!, que é 1 vez 0!. Juntando tudo, 3! é igual a 3 vezes 2 vezes 1 vezes 1, que é 6.\n",
        "Se puder escrever uma definição recursiva de algo, você poderá escrever um programa em Python que a avalie. O primeiro passo deve ser decidir quais parâmetros ela deve ter.\n",
        "Neste caso, deve estar claro que factorial recebe um número inteiro:"
      ],
      "metadata": {
        "id": "VY1lENWwJ7DN"
      }
    },
    {
      "cell_type": "markdown",
      "source": [
        "\n",
        "\n",
        "```\n",
        "def fatorial(n):\n",
        "```\n",
        "\n"
      ],
      "metadata": {
        "id": "xHrbrDj4KBc8"
      }
    },
    {
      "cell_type": "markdown",
      "source": [
        "Se o argumento for 0, tudo que temos de fazer é retornar 1:"
      ],
      "metadata": {
        "id": "GyZCeOF5KDcM"
      }
    },
    {
      "cell_type": "code",
      "source": [
        "def factorial(n):\n",
        "  if n == 0:\n",
        "    return 1"
      ],
      "metadata": {
        "id": "J2osERm7DLDm"
      },
      "execution_count": null,
      "outputs": []
    },
    {
      "cell_type": "markdown",
      "source": [
        "Senão, e aí é que fica interessante, temos que fazer uma chamada recursiva para encontrar o fatorial de n-1 e então multiplicá-lo por n:"
      ],
      "metadata": {
        "id": "5L13e1YFKPh_"
      }
    },
    {
      "cell_type": "code",
      "source": [
        "def factorial(n):\n",
        "  if n == 0:                  # se for 0, vai retornar o valor de 1\n",
        "    return 1\n",
        "  else:\n",
        "    recurse = factorial(n-1)  # se não, pega o valor de n e subtrai 1\n",
        "    result = n * recurse      # e multiplica 'n - 1' pelo valor original de 'n'\n",
        "\n",
        "    return result             # retornando o resultado"
      ],
      "metadata": {
        "id": "XeG4DVVnKGd5"
      },
      "execution_count": null,
      "outputs": []
    },
    {
      "cell_type": "code",
      "source": [
        "factorial(3)\n",
        "\n",
        "'''\n",
        "1º chamada (original): factorial(3) é chamado.\n",
        " - 3 (n) não é 0, então executa factorial(2)\n",
        "   enquanto isso, a execução de factorial(3) é suspensa até factorial(2) retornar com algum valor\n",
        "\n",
        "1º chamada de recursividade:\n",
        "factorial(2) é chamada:\n",
        "  - 2 (n) não é 0, então executa factorial(1)\n",
        "  - e a factorial(2) é suspensa até factorial(1) retornar com algum valor\n",
        "\n",
        "2º chamada de recursividade:\n",
        "factorial(1) é chamada:\n",
        "  - 1 (n) não é 0, então executa factorial(0).\n",
        "  - e a factorial(1) é suspensa até factorial(0) retornar com algum valor\n",
        "\n",
        "como chegou em 0, entra no caso-base:\n",
        "factorial(0) é chamada\n",
        "  - 0 (n) é 0, então retorna 1\n",
        "  - e a execução de factorial(0) é concluída e retorna o valor de 1\n",
        "\n",
        "Após isso, ele vai retornando as execuções de recursividade (de maneira crescente) que ficaram paradas alguardando retorno:\n",
        "factorial(1) retoma a execução:\n",
        "  - recurse é 1 (o valor retornado por factorial(0)), então 1 * 1 = 1, que será nosso (result) valor retornado pela função\n",
        "  - a execução de factorial(1) é concluída e retorna 1.\n",
        "\n",
        "retorna a primeira chamada recursiva (2):\n",
        "factorial(2) retoma a execução\n",
        " - recurse é 1 (o valor retornado por factorial(1)), então 2 * 1 = 2, que será nosso (result) valor retornado pela função\n",
        " - a execução de factorial(2) é concluída e retorna 2\n",
        "\n",
        "retorna a a chamada oficial (3):\n",
        "factorial(3) retoma a execução\n",
        "- recurse é 2 (o valor retornado por factorial(2), então 3 * 2 = 6, que será nosso (result) valor retornado pela função\n",
        "- a execução de factorial(3) é concluída e retorna 6\n",
        "'''"
      ],
      "metadata": {
        "colab": {
          "base_uri": "https://localhost:8080/",
          "height": 218
        },
        "id": "Bstl3lB1KU-Y",
        "outputId": "bf261fd9-a372-4e4f-fece-1b17fd6d0ee2"
      },
      "execution_count": null,
      "outputs": [
        {
          "output_type": "execute_result",
          "data": {
            "text/plain": [
              "'\\n1º chamada (original): factorial(3) é chamado.\\n - 3 (n) não é 0, então executa factorial(2)\\n   enquanto isso, a execução de factorial(3) é suspensa até factorial(2) retornar com algum valor\\n\\n1º chamada de recursividade:\\nfactorial(2) é chamada:\\n  - 2 (n) não é 0, então executa factorial(1)\\n  - e a factorial(2) é suspensa até factorial(1) retornar com algum valor\\n\\n2º chamada de recursividade:\\nfactorial(1) é chamada:\\n  - 1 (n) não é 0, então executa factorial(0).\\n  - e a factorial(1) é suspensa até factorial(0) retornar com algum valor\\n\\ncomo chegou em 0, entra no caso-base:\\nfactorial(0) é chamada\\n  - 0 (n) é 0, então retorna 1\\n  - e a execução de factorial(0) é concluída e retorna o valor de 1\\n\\nApós isso, ele vai retornando as execuções de recursividade (de maneira crescente) que ficaram paradas alguardando retorno:\\nfactorial(1) retoma a execução:\\n  - recurse é 1 (o valor retornado por factorial(0)), então 1 * 1 = 1, que será nosso (result) valor retornado pela função\\n  - a execução de factorial(1) é concluída e retorna 1.\\n\\nretorna a primeira chamada recursiva (2):\\nfactorial(2) retoma a execução\\n - recurse é 1 (o valor retornado por factorial(1)), então 2 * 1 = 2, que será nosso (result) valor retornado pela função\\n - a execução de factorial(2) é concluída e retorna 2\\n\\nretorna a a chamada oficial (3):\\nfactorial(3) retoma a execução\\n- recurse é 2 (o valor retornado por factorial(2), então 3 * 2 = 6, que será nosso (result) valor retornado pela função\\n- a execução de factorial(3) é concluída e retorna 6\\n'"
            ],
            "application/vnd.google.colaboratory.intrinsic+json": {
              "type": "string"
            }
          },
          "metadata": {},
          "execution_count": 41
        }
      ]
    },
    {
      "cell_type": "markdown",
      "source": [
        "**A recursão volta porque cada chamada recursiva precisa de um valor retornado pela próxima chamada para continuar sua execução. Quando a recursão atinge o caso base e começa a retornar valores, cada função anterior retoma sua execução com o valor retornado, completa seu próprio cálculo e retorna o valor ao chamador anterior, até que a chamada original também seja concluída.**"
      ],
      "metadata": {
        "id": "r--WLJ6rYR-x"
      }
    },
    {
      "cell_type": "markdown",
      "source": [
        "![image.png](data:image/png;base64,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)"
      ],
      "metadata": {
        "id": "pyow6JDqYbyE"
      }
    },
    {
      "cell_type": "markdown",
      "source": [
        "No último frame, as variáveis locais recurse e result não existem, porque o ramo que os cria não é executado.\n"
      ],
      "metadata": {
        "id": "pH5OBA_WYqFv"
      }
    },
    {
      "cell_type": "markdown",
      "source": [
        "<h2> 6.6 - Salto de fé </h2>\n",
        "\n",
        "Seguir o fluxo da execução é uma forma de ler programas, mas poderá ser trabalhoso demais. Uma alternativa é o que chamo de “salto de fé” (leap of faith). Ao chegar a uma chamada de função, em vez de seguir o fluxo de execução suponha que a função esteja funcionando corretamente e que está retornando o resultado certo.\n"
      ],
      "metadata": {
        "id": "Z-Ydle8fYsbX"
      }
    },
    {
      "cell_type": "markdown",
      "source": [
        "Uma vez que estejamos convencidos de que esta função\n",
        "está correta – examinando o código e testando – podemos usar a função sem ver o corpo novamente.\n",
        "O mesmo é verdade para programas recursivos. Quando chega à chamada recursiva, em vez de seguir o fluxo de execução, você deveria supor que a chamada recursiva funcione (devolva o resultado correto) e então perguntar-se: “Supondo que eu possa encontrar o fatorial de n-1, posso calcular o fatorial de n?”. É claro que pode, multiplicando por n. Naturalmente, é um pouco estranho supor que a função funcione corretamente quando ainda não terminou de escrevê-la, mas é por isso que se chama um **salto de fé!**\n"
      ],
      "metadata": {
        "id": "qNmIq1v5GjoG"
      }
    },
    {
      "cell_type": "markdown",
      "source": [
        "<h2> 6.7 - Mais um exemplo </h2>\n",
        "\n",
        "Depois do factorial, o exemplo mais comum de uma função matemática definida\n",
        "recursivamente é fibonacci.\n",
        "\n",
        "\n",
        "\n",
        "```\n",
        "fibonacci(0) = 0\n",
        "fibonacci(1) = 1\n",
        "fibonacci(n) = fibonacci(n − 1) + fibonacci(n − 2)\n",
        "```\n",
        "\n"
      ],
      "metadata": {
        "id": "RcVSWakGGt1H"
      }
    },
    {
      "cell_type": "code",
      "source": [
        "def fibonacci (n):\n",
        "  if n == 0:\n",
        "    return 0\n",
        "  elif n == 1:\n",
        "    return 1\n",
        "  else:\n",
        "    return fibonacci(n-1) + fibonacci(n-2)"
      ],
      "metadata": {
        "id": "J9bMvBtfGjDN"
      },
      "execution_count": null,
      "outputs": []
    },
    {
      "cell_type": "code",
      "source": [
        "fibonacci(5)"
      ],
      "metadata": {
        "colab": {
          "base_uri": "https://localhost:8080/"
        },
        "id": "W6a7f7imKupt",
        "outputId": "b69766f9-7ad4-46a5-b8d7-27afb6e32267"
      },
      "execution_count": null,
      "outputs": [
        {
          "output_type": "execute_result",
          "data": {
            "text/plain": [
              "5"
            ]
          },
          "metadata": {},
          "execution_count": 43
        }
      ]
    },
    {
      "cell_type": "markdown",
      "source": [
        "**Se tentar seguir o fluxo de execução aqui, até para valores razoavelmente pequenos de n, sua cabeça explode.**"
      ],
      "metadata": {
        "id": "uCb6trm-M4u1"
      }
    },
    {
      "cell_type": "code",
      "source": [
        "'''\n",
        "1º chamada (original): fibonacci(5) é chamada.\n",
        " - 5 (n) não é 0 ou 1, então entra no \"else\" e executa fibonacci(5-1 = 4) + fibonacci(5-2 = 3)\n",
        "   enquanto isso, a execução de fibonacci(5) é suspensa até fibonacci(4) + fibonacci(3) retornarem com algum valor\n",
        "\n",
        "\n",
        "|            PARTE 1            | RECURSIVIDADE DE FIBONACCI(4)\n",
        "\n",
        "1º chamada recursiva, fibonacci(4):\n",
        "  n = 4 não entra no caso-base de 0 ou 1, então executa  fibonacci(4-1 = 3) + fibonacci(4-2 = 2)\n",
        "  enquanto isso, a execução de fibonacci(4) é suspensa até fibonacci(3) + fibonacci(2) retornarem com algum valor\n",
        "  e fibonacci(2) é suspensa, até fibonacci(3) finalizar e retornar com algum valor\n",
        "\n",
        "2º chamada recursiva, fibonacci(3):\n",
        "   n = 3 não entra no caso-base de 0 ou 1, então executa  fibonacci(3-1 = 2) + fibonacci(3-2 = 1):\n",
        "   enquanto isso, a execução de fibonacci(3) é suspensa até fibonacci(2) + fibonacci(1) retornarem com algum valor\n",
        "   e fibonacci(1) é suspensa, até fibonacci(2) finalizar e retornar com algum valor\n",
        "\n",
        "3º chamada recursiva, fibonacci(2):\n",
        "   n = 2 não entra no caso-base de 0 ou 1, então executa  fibonacci(2-1 = 1) + fibonacci(2-2 = 0):\n",
        "\n",
        "4º chamada recursiva, fibonacci(1):\n",
        "  fibonacci(1) + fibonacci(0)\n",
        "  entra no caso-base de 1, então finaliza e retorna 1\n",
        "  fibonacci(0) entra no caso-base de 0, então finaliza e retorna 0\n",
        "\n",
        "fibonacci(1) = fibonacci(1) + fibonacci(0) = 1 + 0 = 1\n",
        "\n",
        "\n",
        "|            PARTE 2            | RECURSIVIDADE DE FIBONACCI(3)\n",
        "1º chamada da 2º função de recursividade: fibonacci(3)\n",
        "  n = 3 não entra no caso-base de 0 ou 1, então executa  fibonacci(3-1 = 2) + fibonacci(3-2 = 1):\n",
        "  enquanto isso, a execução de fibonacci(3) é suspensa até fibonacci(2) + fibonacci(1) retornarem com algum valor\n",
        "  e fibonacci(1) é suspensa, até fibonacci(2) finalizar e retornar com algum valor\n",
        "\n",
        "2º chamada recursiva, fibonacci(2):\n",
        "  n = 2 não entra no caso-base de 0 ou 1, então executa  fibonacci(2-1 = 1) + fibonacci(2-2 = 0)\n",
        "  enquanto isso, a execução de fibonacci(2) é suspensa até fibonacci(1) + fibonacci(0) retornarem com algum valor\n",
        "\n",
        "3º chamada recursiva, fibonacci(1):\n",
        "  n = 1,  entra no caso-base de 1, então finaliza e retorna 1\n",
        "\n",
        "4º chamada recursiva, fibonacci(0):\n",
        "  n = 0,  entra no caso-base de 0, então finaliza e retorna 0\n",
        "\n",
        "------------------------------------------------------------------------------------\n",
        "\n",
        "| RESOLUÇÃO PARTE 1 |\n",
        "\n",
        "F(0) = | 0 |\n",
        "\n",
        "F(1) = | 1 |\n",
        "\n",
        "F(2) = F(1) + F(0)\n",
        "F(2) = 0 + 1\n",
        "F(2) = | 1 |\n",
        "\n",
        "F(3) = F(2) + F(1)\n",
        "F(3) = 1 + 1\n",
        "F(3) = | 2 |\n",
        "\n",
        "F(4) = F(3) + F(2)\n",
        "F(4) = 2 + 1\n",
        "F(4) = | 3 |\n",
        "\n",
        "\n",
        "| RESOLUÇÃO PARTE 2 |\n",
        "F(0) = | 0 |\n",
        "\n",
        "F(1) = | 1 |\n",
        "\n",
        "F(2) = F(1) + F(0)\n",
        "F(2) = 0 + 1\n",
        "F(2) = | 1 |\n",
        "\n",
        "F(3) = F(2) + F(1)\n",
        "F(3) = 1 + 1\n",
        "F(3) = | 2 |\n",
        "\n",
        "| RESOLUÇÃO FINAL |\n",
        "\n",
        "F(0) = | 0 |\n",
        "\n",
        "F(1) = | 1 |\n",
        "\n",
        "F(2) = F(1) + F(0)\n",
        "F(2) = 0 + 1\n",
        "F(2) = | 1 |\n",
        "\n",
        "F(3) = F(2) + F(1)\n",
        "F(3) = 1 + 1\n",
        "F(3) = | 2 |\n",
        "\n",
        "F(4) = F(3) + F(2)\n",
        "F(4) = 2 + 1\n",
        "F(4) = | 3 |\n",
        "\n",
        "F(5) = F(4) + F(3)\n",
        "F(5) = 3 + 2\n",
        "F(5) = | 5 |\n",
        "'''"
      ],
      "metadata": {
        "id": "aTLcwH9-H9Ju",
        "colab": {
          "base_uri": "https://localhost:8080/",
          "height": 218
        },
        "outputId": "fd8672bc-b1ce-4d91-db32-658e977188e1"
      },
      "execution_count": null,
      "outputs": [
        {
          "output_type": "execute_result",
          "data": {
            "text/plain": [
              "'\\n1º chamada (original): fibonacci(5) é chamada.\\n - 5 (n) não é 0 ou 1, então entra no \"else\" e executa fibonacci(5-1 = 4) + fibonacci(5-2 = 3)\\n   enquanto isso, a execução de fibonacci(5) é suspensa até fibonacci(4) + fibonacci(3) retornarem com algum valor\\n\\n\\n|            PARTE 1            | RECURSIVIDADE DE FIBONACCI(4)\\n\\n1º chamada recursiva, fibonacci(4):\\n  n = 4 não entra no caso-base de 0 ou 1, então executa  fibonacci(4-1 = 3) + fibonacci(4-2 = 2)\\n  enquanto isso, a execução de fibonacci(4) é suspensa até fibonacci(3) + fibonacci(2) retornarem com algum valor\\n  e fibonacci(2) é suspensa, até fibonacci(3) finalizar e retornar com algum valor\\n\\n2º chamada recursiva, fibonacci(3):\\n   n = 3 não entra no caso-base de 0 ou 1, então executa  fibonacci(3-1 = 2) + fibonacci(3-2 = 1):\\n   enquanto isso, a execução de fibonacci(3) é suspensa até fibonacci(2) + fibonacci(1) retornarem com algum valor\\n   e fibonacci(1) é suspensa, até fibonacci(2) finalizar e retornar com algum valor\\n\\n3º chamada recursiva, fibonacci(2):\\n   n = 2 não entra no caso-base de 0 ou 1, então executa  fibonacci(2-1 = 1) + fibonacci(2-2 = 0):\\n\\n4º chamada recursiva, fibonacci(1):\\n  fibonacci(1) + fibonacci(0)\\n  entra no caso-base de 1, então finaliza e retorna 1\\n  fibonacci(0) entra no caso-base de 0, então finaliza e retorna 0\\n\\nfibonacci(1) = fibonacci(1) + fibonacci(0) = 1 + 0 = 1\\n\\n\\n|            PARTE 2            | RECURSIVIDADE DE FIBONACCI(3)\\n1º chamada da 2º função de recursividade: fibonacci(3)\\n  n = 3 não entra no caso-base de 0 ou 1, então executa  fibonacci(3-1 = 2) + fibonacci(3-2 = 1):\\n  enquanto isso, a execução de fibonacci(3) é suspensa até fibonacci(2) + fibonacci(1) retornarem com algum valor\\n  e fibonacci(1) é suspensa, até fibonacci(2) finalizar e retornar com algum valor\\n\\n2º chamada recursiva, fibonacci(2):\\n  n = 2 não entra no caso-base de 0 ou 1, então executa  fibonacci(2-1 = 1) + fibonacci(2-2 = 0)\\n  enquanto isso, a execução de fibonacci(2) é suspensa até fibonacci(1) + fibonacci(0) retornarem com algum valor\\n\\n3º chamada recursiva, fibonacci(1):\\n  n = 1,  entra no caso-base de 1, então finaliza e retorna 1\\n\\n4º chamada recursiva, fibonacci(0):\\n  n = 0,  entra no caso-base de 0, então finaliza e retorna 0\\n\\n------------------------------------------------------------------------------------\\n\\n| RESOLUÇÃO PARTE 1 |\\n\\nF(0) = | 0 |\\n\\nF(1) = | 1 |\\n\\nF(2) = F(1) + F(0)\\nF(2) = 0 + 1\\nF(2) = | 1 |\\n\\nF(3) = F(2) + F(1)\\nF(3) = 1 + 1\\nF(3) = | 2 |\\n\\nF(4) = F(3) + F(2)\\nF(4) = 2 + 1\\nF(4) = | 3 |\\n\\n\\n| RESOLUÇÃO PARTE 2 |\\nF(0) = | 0 |\\n\\nF(1) = | 1 |\\n\\nF(2) = F(1) + F(0)\\nF(2) = 0 + 1\\nF(2) = | 1 |\\n\\nF(3) = F(2) + F(1)\\nF(3) = 1 + 1\\nF(3) = | 2 |\\n\\n| RESOLUÇÃO FINAL |\\n\\nF(0) = | 0 |\\n\\nF(1) = | 1 |\\n\\nF(2) = F(1) + F(0)\\nF(2) = 0 + 1\\nF(2) = | 1 |\\n\\nF(3) = F(2) + F(1)\\nF(3) = 1 + 1\\nF(3) = | 2 |\\n\\nF(4) = F(3) + F(2)\\nF(4) = 2 + 1\\nF(4) = | 3 |\\n\\nF(5) = F(4) + F(3)\\nF(5) = 3 + 2\\nF(5) = | 5 |\\n'"
            ],
            "application/vnd.google.colaboratory.intrinsic+json": {
              "type": "string"
            }
          },
          "metadata": {},
          "execution_count": 44
        }
      ]
    },
    {
      "cell_type": "markdown",
      "source": [
        "<h2> 6.8 - Verificação de tipos </h2>"
      ],
      "metadata": {
        "id": "WKOBu45eNWsp"
      }
    },
    {
      "cell_type": "markdown",
      "source": [
        "O que acontece se chamarmos factorial e usarmos 1.5 como argumento?"
      ],
      "metadata": {
        "id": "aihvSiN_ckAh"
      }
    },
    {
      "cell_type": "code",
      "source": [
        "factorial(1.5)\n",
        "\n",
        "#RuntimeError: Maximum recursion depth exceeded"
      ],
      "metadata": {
        "colab": {
          "base_uri": "https://localhost:8080/",
          "height": 372
        },
        "id": "cFPoiz3wNZhl",
        "outputId": "424b0cb1-07cb-4e56-bb60-5e1e11477beb"
      },
      "execution_count": null,
      "outputs": [
        {
          "output_type": "error",
          "ename": "RecursionError",
          "evalue": "maximum recursion depth exceeded in comparison",
          "traceback": [
            "\u001b[0;31m---------------------------------------------------------------------------\u001b[0m",
            "\u001b[0;31mRecursionError\u001b[0m                            Traceback (most recent call last)",
            "\u001b[0;32m<ipython-input-45-b4692dc20703>\u001b[0m in \u001b[0;36m<cell line: 1>\u001b[0;34m()\u001b[0m\n\u001b[0;32m----> 1\u001b[0;31m \u001b[0mfactorial\u001b[0m\u001b[0;34m(\u001b[0m\u001b[0;36m1.5\u001b[0m\u001b[0;34m)\u001b[0m\u001b[0;34m\u001b[0m\u001b[0;34m\u001b[0m\u001b[0m\n\u001b[0m\u001b[1;32m      2\u001b[0m \u001b[0;34m\u001b[0m\u001b[0m\n\u001b[1;32m      3\u001b[0m \u001b[0;31m#RuntimeError: Maximum recursion depth exceeded\u001b[0m\u001b[0;34m\u001b[0m\u001b[0;34m\u001b[0m\u001b[0m\n",
            "\u001b[0;32m<ipython-input-40-c48f8c174fcd>\u001b[0m in \u001b[0;36mfactorial\u001b[0;34m(n)\u001b[0m\n\u001b[1;32m      3\u001b[0m     \u001b[0;32mreturn\u001b[0m \u001b[0;36m1\u001b[0m\u001b[0;34m\u001b[0m\u001b[0;34m\u001b[0m\u001b[0m\n\u001b[1;32m      4\u001b[0m   \u001b[0;32melse\u001b[0m\u001b[0;34m:\u001b[0m\u001b[0;34m\u001b[0m\u001b[0;34m\u001b[0m\u001b[0m\n\u001b[0;32m----> 5\u001b[0;31m     \u001b[0mrecurse\u001b[0m \u001b[0;34m=\u001b[0m \u001b[0mfactorial\u001b[0m\u001b[0;34m(\u001b[0m\u001b[0mn\u001b[0m\u001b[0;34m-\u001b[0m\u001b[0;36m1\u001b[0m\u001b[0;34m)\u001b[0m  \u001b[0;31m# se não, pega o valor de n e subtrai 1\u001b[0m\u001b[0;34m\u001b[0m\u001b[0;34m\u001b[0m\u001b[0m\n\u001b[0m\u001b[1;32m      6\u001b[0m     \u001b[0mresult\u001b[0m \u001b[0;34m=\u001b[0m \u001b[0mn\u001b[0m \u001b[0;34m*\u001b[0m \u001b[0mrecurse\u001b[0m      \u001b[0;31m# e multiplica 'n - 1' pelo valor original de 'n'\u001b[0m\u001b[0;34m\u001b[0m\u001b[0;34m\u001b[0m\u001b[0m\n\u001b[1;32m      7\u001b[0m \u001b[0;34m\u001b[0m\u001b[0m\n",
            "... last 1 frames repeated, from the frame below ...\n",
            "\u001b[0;32m<ipython-input-40-c48f8c174fcd>\u001b[0m in \u001b[0;36mfactorial\u001b[0;34m(n)\u001b[0m\n\u001b[1;32m      3\u001b[0m     \u001b[0;32mreturn\u001b[0m \u001b[0;36m1\u001b[0m\u001b[0;34m\u001b[0m\u001b[0;34m\u001b[0m\u001b[0m\n\u001b[1;32m      4\u001b[0m   \u001b[0;32melse\u001b[0m\u001b[0;34m:\u001b[0m\u001b[0;34m\u001b[0m\u001b[0;34m\u001b[0m\u001b[0m\n\u001b[0;32m----> 5\u001b[0;31m     \u001b[0mrecurse\u001b[0m \u001b[0;34m=\u001b[0m \u001b[0mfactorial\u001b[0m\u001b[0;34m(\u001b[0m\u001b[0mn\u001b[0m\u001b[0;34m-\u001b[0m\u001b[0;36m1\u001b[0m\u001b[0;34m)\u001b[0m  \u001b[0;31m# se não, pega o valor de n e subtrai 1\u001b[0m\u001b[0;34m\u001b[0m\u001b[0;34m\u001b[0m\u001b[0m\n\u001b[0m\u001b[1;32m      6\u001b[0m     \u001b[0mresult\u001b[0m \u001b[0;34m=\u001b[0m \u001b[0mn\u001b[0m \u001b[0;34m*\u001b[0m \u001b[0mrecurse\u001b[0m      \u001b[0;31m# e multiplica 'n - 1' pelo valor original de 'n'\u001b[0m\u001b[0;34m\u001b[0m\u001b[0;34m\u001b[0m\u001b[0m\n\u001b[1;32m      7\u001b[0m \u001b[0;34m\u001b[0m\u001b[0m\n",
            "\u001b[0;31mRecursionError\u001b[0m: maximum recursion depth exceeded in comparison"
          ]
        }
      ]
    },
    {
      "cell_type": "markdown",
      "source": [
        "Parece uma recursividade infinita. No entanto, por que isso acontece? A função tem um caso-base – quando n == 0. Mas se n não é um número inteiro, podemos perder o caso-base e recorrer para sempre.\n",
        "Na primeira chamada recursiva, o valor de n é 0.5. No seguinte, é -0.5. Daí, torna-se menor (mais negativo), mas nunca será 0.\n",
        "\n",
        "Temos duas escolhas. Podemos tentar generalizar a função factorial para trabalhar com números de ponto flutuante, ou podemos fazer factorial controlar o tipo de argumento que recebe."
      ],
      "metadata": {
        "id": "8XR8YBppcr0-"
      }
    },
    {
      "cell_type": "markdown",
      "source": [
        "A primeira opção chama-se função gamma e está um pouco além do alcance deste\n",
        "livro. Então usaremos a segunda opção."
      ],
      "metadata": {
        "id": "JcrwJF7AdRQC"
      }
    },
    {
      "cell_type": "markdown",
      "source": [
        "Podemos usar a função integrada isinstance para verificar o tipo de argumento. E vamos aproveitar para verificar também se o argumento é positivo:"
      ],
      "metadata": {
        "id": "glQBrXR1dV7k"
      }
    },
    {
      "cell_type": "code",
      "source": [
        "def factorial (n):\n",
        "  if not isinstance(n, int):\n",
        "    print('Factorial is only defined for integers.')\n",
        "    return None\n",
        "  elif n < 0:\n",
        "    print('Factorial is not defined for negative integers.')\n",
        "    return None\n",
        "  elif n == 0:\n",
        "    return 1\n",
        "  else:\n",
        "    return n * factorial(n-1)"
      ],
      "metadata": {
        "id": "YdUVrY8scpOq"
      },
      "execution_count": null,
      "outputs": []
    },
    {
      "cell_type": "markdown",
      "source": [
        "A função isinstance em Python é usada para verificar se um objeto é de um determinado tipo ou classe. Ela retorna True se o objeto for do tipo especificado e False caso contrário."
      ],
      "metadata": {
        "id": "j_lwSRqhe2fY"
      }
    },
    {
      "cell_type": "markdown",
      "source": [
        "O primeiro caso-base lida com números não inteiros; o segundo, com números inteiros negativos. Em ambos os casos o programa exibe uma mensagem de erro e retorna **None** para indicar que algo deu errado:\n"
      ],
      "metadata": {
        "id": "SPWrbXyQdoKs"
      }
    },
    {
      "cell_type": "markdown",
      "source": [
        "**isinstance(dado, tipo_de_dado):** A função isinstance é usada para verificar se um objeto é de um determinado tipo ou classe. Ela retorna True se o objeto for do tipo especificado e False caso contrário.\n",
        "\n",
        "**Exemplo:**\n",
        "```\n",
        "x = 10\n",
        "print(isinstance(x, int))  # True, porque x é um inteiro (int)\n",
        "```"
      ],
      "metadata": {
        "id": "ZNIC4cFme5uF"
      }
    },
    {
      "cell_type": "code",
      "source": [
        "factorial('fred')"
      ],
      "metadata": {
        "colab": {
          "base_uri": "https://localhost:8080/"
        },
        "id": "9p-OhaD3daXi",
        "outputId": "cc67d968-6f2b-41e1-8347-fcc207ecf05c"
      },
      "execution_count": null,
      "outputs": [
        {
          "output_type": "stream",
          "name": "stdout",
          "text": [
            "Factorial is only defined for integers.\n"
          ]
        }
      ]
    },
    {
      "cell_type": "code",
      "source": [
        "factorial(-2)"
      ],
      "metadata": {
        "colab": {
          "base_uri": "https://localhost:8080/"
        },
        "id": "nq3mzup6drLw",
        "outputId": "722cb03f-1da0-44c1-a218-4c7170169cd6"
      },
      "execution_count": null,
      "outputs": [
        {
          "output_type": "stream",
          "name": "stdout",
          "text": [
            "Factorial is not defined for negative integers.\n"
          ]
        }
      ]
    },
    {
      "cell_type": "markdown",
      "source": [
        "Se passarmos por ambas as verificações, sabemos que n é positivo ou zero, então podemos comprovar que a recursividade termina."
      ],
      "metadata": {
        "id": "zjB5Y28fduVt"
      }
    },
    {
      "cell_type": "markdown",
      "source": [
        "**Esse programa demonstra um padrão às vezes chamado de guardião. As duas primeiras condicionais atuam como guardiãs, protegendo o código que segue de valores que poderiam causar um erro. As guardiãs permitem comprovar a correção do código.**"
      ],
      "metadata": {
        "id": "ds_LyjqrfWnq"
      }
    },
    {
      "cell_type": "markdown",
      "source": [
        "<h2> 6.9 - Depuração </h2>\n",
        "\n",
        "Quebrar um grande programa em funções menores cria controles naturais da depuração.\n",
        "Se uma função não estiver funcionando, há três possibilidades a considerar:\n",
        "*   Há algo errado com os argumentos que a função está recebendo; uma precondição está sendo violada.\n",
        "*   Há algo errado com a função; uma pós-condição foi violada.\n",
        "*   Há algo errado com o valor de retorno ou a forma na qual está sendo usado.\n",
        "\n"
      ],
      "metadata": {
        "id": "9fQUe4I5faA0"
      }
    },
    {
      "cell_type": "markdown",
      "source": [
        "Acrescentar instruções de exibição no começo e no fim de uma função pode ajudar a tornar o fluxo de execução mais visível. Por exemplo, aqui está uma versão de factorial com instruções de exibição:"
      ],
      "metadata": {
        "id": "ooo5XN-Rg-rZ"
      }
    },
    {
      "cell_type": "code",
      "source": [
        "def factorial(n):\n",
        "  space = ' ' * (4 * n)\n",
        "  print(space, 'factorial', n)\n",
        "\n",
        "  if n == 0:\n",
        "    print(space, 'returning 1')\n",
        "    return 1\n",
        "  else:\n",
        "    recurse = factorial(n-1)\n",
        "    result = n * recurse\n",
        "    print(space, 'returning', result)\n",
        "    return result"
      ],
      "metadata": {
        "id": "9d4Ysq5gdsPU"
      },
      "execution_count": null,
      "outputs": []
    },
    {
      "cell_type": "code",
      "source": [
        "factorial(4)"
      ],
      "metadata": {
        "colab": {
          "base_uri": "https://localhost:8080/"
        },
        "id": "dSBdTwGahFvz",
        "outputId": "54a62461-bc84-4895-e0f3-97fb2424c535"
      },
      "execution_count": null,
      "outputs": [
        {
          "output_type": "stream",
          "name": "stdout",
          "text": [
            "                 factorial 4\n",
            "             factorial 3\n",
            "         factorial 2\n",
            "     factorial 1\n",
            " factorial 0\n",
            " returning 1\n",
            "     returning 1\n",
            "         returning 2\n",
            "             returning 6\n",
            "                 returning 24\n"
          ]
        },
        {
          "output_type": "execute_result",
          "data": {
            "text/plain": [
              "24"
            ]
          },
          "metadata": {},
          "execution_count": 50
        }
      ]
    },
    {
      "cell_type": "markdown",
      "source": [
        "Se o fluxo de execução parecer confuso a você, este tipo de saída pode ser útil. Leva um tempo para desenvolver um scaffolding eficaz, mas um pouco dele pode economizar muita depuração."
      ],
      "metadata": {
        "id": "EpYvODQ1hlS1"
      }
    },
    {
      "cell_type": "markdown",
      "source": [
        "<h2> 6.10 - Glossário </h2>\n",
        "\n",
        "**variável temporária:** Uma variável usada para guardar um valor intermediário em um cálculo complexo.\n",
        "\n",
        "**código morto:** A parte de um programa que nunca pode ser executada, muitas vezes porque aparece depois de uma instrução return.\n",
        "\n",
        "**desenvolvimento incremental:**\n",
        "Um plano de desenvolvimento de programa para evitar a depuração, que acrescenta e testa poucas linhas de código de cada vez.\n",
        "\n",
        "**scaffolding (andaime):** O código que se usa durante o desenvolvimento de programa, mas que não faz parte da versão final.\n",
        "\n",
        "**guardião:** Um padrão de programação que usa uma instrução condicional para verificar e lidar com circunstâncias que possam causar erros."
      ],
      "metadata": {
        "id": "ni4U8mLOhoZc"
      }
    },
    {
      "cell_type": "markdown",
      "source": [
        "<h2> 6.11 - Exercícios </h2>"
      ],
      "metadata": {
        "id": "gQt_rU34iMU-"
      }
    },
    {
      "cell_type": "markdown",
      "source": [
        "<h3> Exercício 6.1 </h3>\n",
        "\n",
        "Desenhe um diagrama da pilha do seguinte programa. O que o programa exibe?\n",
        "\n",
        "```\n",
        "def b(z):\n",
        "  prod = a(z, z)\n",
        "  print(z, prod)\n",
        "  return prod\n",
        "\n",
        "def a(x, y):\n",
        "  x = x + 1\n",
        "  return x * y\n",
        "\n",
        "def c(x, y, z):\n",
        "  total = x + y + z\n",
        "  square = b(total)**2\n",
        "  return square\n",
        "\n",
        "x = 1\n",
        "y = x + 1\n",
        "print(c(x, y+3, x+y))\n",
        "```"
      ],
      "metadata": {
        "id": "jjTlEkLfi4Q6"
      }
    },
    {
      "cell_type": "code",
      "source": [
        "# definição de função 'a' que recebe 2 parâmetros (x, y)\n",
        "def a(x, y):\n",
        "  x = x + 1       # atribui à x o valor passado no parâmetro e acrescenta + 1\n",
        "  return x * y    # multiplica o novo valor de x pelo valor de y passado por parâmetro\n",
        "\n",
        "def b(z):\n",
        "  prod = a(z, z)  # atribui a variável 'prod' o valor retornado pela execução da função 'a' utilizando o valor passado à variável 'z'\n",
        "  print(z, prod)  # vai mostrar na tela o valor original de z e o resultado da função 'a' que utilizou o valor de z 2x\n",
        "  return prod     # retorna o valor resultado da função 'a'\n",
        "\n",
        "def c(x, y, z):\n",
        "  total = x + y + z     # soma os 3 valores passados por parâmetro\n",
        "  square = b(total)**2  # atribui a variável square o retorno da função 'b' utilizando o total e faz a exponenciação dele\n",
        "  return square         # retorna o valor de square"
      ],
      "metadata": {
        "id": "t2OEr31LhHVo"
      },
      "execution_count": null,
      "outputs": []
    },
    {
      "cell_type": "code",
      "source": [
        "x = 1\n",
        "y = x + 1 # 1 + 2 = 2\n",
        "\n",
        "print(c(x, y+3, x+y)) # vai retornar o resultado da função 'c'\n",
        "\n",
        "# c(1, 2+3, 1+2)\n",
        "# c(1, 5, 3)\n",
        "\n",
        "# total > 1 + 5 + 3 = 9\n",
        "# square = b(total) **2\n",
        "# square = b(9)**2\n",
        "# square = prod = a(9,9) = (9 + 1) * 9 = 90 ** 2\n",
        "# square = prod = 90 ** 2\n",
        "# square = prod = 8.100\n",
        "# square = 8.100"
      ],
      "metadata": {
        "colab": {
          "base_uri": "https://localhost:8080/"
        },
        "id": "59YCwA8MjOwY",
        "outputId": "b74c2c52-02f1-425a-b205-d0122f3fac51"
      },
      "execution_count": null,
      "outputs": [
        {
          "output_type": "stream",
          "name": "stdout",
          "text": [
            "9 90\n",
            "8100\n"
          ]
        }
      ]
    },
    {
      "cell_type": "markdown",
      "source": [
        "**RESOLUÇÃO DIAGRAMA DE PILHA - COMPARAÇÃO DE SOLUÇÃO:**"
      ],
      "metadata": {
        "id": "0o_XvsFNqaEH"
      }
    },
    {
      "cell_type": "markdown",
      "source": [
        "**SOLUÇÃO PRÓPRIA:**\n",
        "\n",
        "![image.png](data:image/png;base64,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)"
      ],
      "metadata": {
        "id": "KgfxrAxCxIUw"
      }
    },
    {
      "cell_type": "markdown",
      "source": [
        "**SOLUÇÃO DO CHATGPT:**\n",
        "\n",
        "![image.png](data:image/png;base64,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)"
      ],
      "metadata": {
        "id": "okap2KFbxTJH"
      }
    },
    {
      "cell_type": "markdown",
      "source": [
        "<h2> Exercício 6.2 </h2>\n",
        "\n",
        "A função de Ackermann, A(m, n), é definida assim:\n",
        "\n",
        "![image.png](data:image/png;base64,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)"
      ],
      "metadata": {
        "id": "OgG8jckixdfs"
      }
    },
    {
      "cell_type": "markdown",
      "source": [
        "Escreva uma função denominada ack que avalie a função de Ackermann. Use a sua função para avaliar ack(3, 4), cujo resultado deve ser 125. O que acontece para valores maiores de m e n?"
      ],
      "metadata": {
        "id": "9J-mMF4lxnyi"
      }
    },
    {
      "cell_type": "markdown",
      "source": [
        "Desenvolvimento incremental e scaffolding:"
      ],
      "metadata": {
        "id": "k4PGkZN5zzIk"
      }
    },
    {
      "cell_type": "code",
      "source": [
        "# definição da função ack\n",
        "def ack(m, n):\n",
        "  return 0"
      ],
      "metadata": {
        "id": "oRlIVuJUqQg2"
      },
      "execution_count": null,
      "outputs": []
    },
    {
      "cell_type": "code",
      "source": [
        "ack(3,4) # teste 1"
      ],
      "metadata": {
        "colab": {
          "base_uri": "https://localhost:8080/"
        },
        "id": "D7WABd2Lzwj9",
        "outputId": "28447bfe-b1bc-489f-f684-adcf2929eb61"
      },
      "execution_count": null,
      "outputs": [
        {
          "output_type": "execute_result",
          "data": {
            "text/plain": [
              "0"
            ]
          },
          "metadata": {},
          "execution_count": 54
        }
      ]
    },
    {
      "cell_type": "code",
      "source": [
        "# incrementando a função ack com o primeiro caso-base\n",
        "def ack(m, n):\n",
        "    # Caso Base 1: Se m = 0, então ack(m, n) = n + 1\n",
        "    if m == 0:\n",
        "      return n + 1"
      ],
      "metadata": {
        "id": "u21Kd-1hz7zT"
      },
      "execution_count": null,
      "outputs": []
    },
    {
      "cell_type": "code",
      "source": [
        "'''\n",
        "Vamos testar com m = 0 e n = 5, com a definição, a função retorna n + 1 = 5 + 1 = 6\n",
        "'''\n",
        "ack(0,5) # teste 2 > tem que retornar 6"
      ],
      "metadata": {
        "colab": {
          "base_uri": "https://localhost:8080/"
        },
        "id": "mUJSLGby1pFf",
        "outputId": "2a37fcd0-113d-4c11-8c03-133b09831a49"
      },
      "execution_count": null,
      "outputs": [
        {
          "output_type": "execute_result",
          "data": {
            "text/plain": [
              "6"
            ]
          },
          "metadata": {},
          "execution_count": 56
        }
      ]
    },
    {
      "cell_type": "code",
      "source": [
        "# incrementando a função ack com o primeiro caso-base\n",
        "def ack(m, n):\n",
        "    # caso-base 1: Se m = 0, então ack(m, n) = n + 1\n",
        "    if m == 0:\n",
        "        return n + 1\n",
        "    # caso-base 2: Se m > 0 e n = 0, então ack(m, n) = ack(m - 1, 1)\n",
        "    elif m > 0 and n == 0:\n",
        "        return ack(m - 1, 1)\n",
        "    # caso recursivo: Se m > 0 e n > 0, então ack(m, n) = ack(m - 1, ack(m, n - 1))\n",
        "    elif m > 0 and n > 0:\n",
        "        return ack(m - 1, ack(m, n - 1))"
      ],
      "metadata": {
        "id": "VZXoNv7D1q4V"
      },
      "execution_count": null,
      "outputs": []
    },
    {
      "cell_type": "code",
      "source": [
        "# Vamos testar com 𝑚 = 3 e n = 0. De acordo com a definição, ack(3,0) = ack(2,1)\n",
        "ack(3,0) # tese 3 > tem que retornar 6"
      ],
      "metadata": {
        "colab": {
          "base_uri": "https://localhost:8080/"
        },
        "id": "TCi8YtBl3Rw2",
        "outputId": "a0d002e9-253c-4051-ed76-54aadf5c8360"
      },
      "execution_count": null,
      "outputs": [
        {
          "output_type": "execute_result",
          "data": {
            "text/plain": [
              "5"
            ]
          },
          "metadata": {},
          "execution_count": 60
        }
      ]
    },
    {
      "cell_type": "markdown",
      "source": [
        "Chamada inicial: ack(3, 0):\n",
        "- Como m é maior que 0 e n é igual a 0, aplicamos a segunda cláusula:\n",
        "```\n",
        "return ack(3 - 1, 1)  # => ack(2, 1)\n",
        "```\n",
        "\n",
        "Chamada: ack(2, 1):\n",
        "- Como m é maior que 0 e n é maior que 0, aplicamos a terceira cláusula:\n",
        "```\n",
        "return ack(2 - 1, ack(2, 1 - 1))  # => ack(1, ack(2, 0))\n",
        "```\n",
        "\n",
        "Chamada: ack(2, 0):\n",
        "- Como m é maior que 0 e n é igual a 0, aplicamos a segunda cláusula:\n",
        "```\n",
        "return ack(2 - 1, 1)  # => ack(1, 1)\n",
        "```\n",
        "\n",
        "Chamada: ack(1, 1):\n",
        "- Como m é maior que 0 e n é maior que 0, aplicamos a terceira cláusula:\n",
        "```\n",
        "return ack(1 - 1, ack(1, 1 - 1))  # => ack(0, ack(1, 0))\n",
        "```\n",
        "\n",
        "Chamada: ack(1, 0):\n",
        "- Como m é maior que 0 e n é igual a 0, aplicamos a segunda cláusula:\n",
        "```\n",
        "return ack(1 - 1, 1)  # => ack(0, 1)\n",
        "```\n",
        "\n",
        "Chamada: ack(0, 1):\n",
        "- Como m é igual a 0, aplicamos a primeira cláusula:\n",
        "```\n",
        "return 1 + 1  # => 2\n",
        "```\n",
        "\n",
        "Retornando para ack(0, ack(1, 0)):\n",
        "- Substituímos ack(1, 0) por 2:\n",
        "```\n",
        "return ack(0, 2)\n",
        "```\n",
        "\n",
        "\n",
        "\n",
        "\n",
        "\n",
        "\n",
        "\n"
      ],
      "metadata": {
        "id": "aP_JLxfxKI6A"
      }
    },
    {
      "cell_type": "markdown",
      "source": [
        "Chamada: ack(0, 2):\n",
        "- Como m é igual a 0, aplicamos a primeira cláusula:\n",
        "```\n",
        "return 2 + 1  # => 3\n",
        "```\n",
        "\n",
        "Retornando para ack(1, ack(2, 0)):\n",
        "- Substituímos ack(2, 0) por 3:\n",
        "\n",
        "```\n",
        "return ack(1, 3)\n",
        "```\n",
        "\n",
        "Chamada: ack(1, 3):\n",
        "- Como m é maior que 0 e n é maior que 0, aplicamos a terceira cláusula:\n",
        "```\n",
        "return ack(1 - 1, ack(1, 3 - 1))  # => ack(0, ack(1, 2))\n",
        "```\n",
        "\n",
        "Chamada: ack(1, 2):\n",
        "- Como m é maior que 0 e n é maior que 0, aplicamos a terceira cláusula:\n",
        "```\n",
        "return ack(1 - 1, ack(1, 2 - 1))  # => ack(0, ack(1, 1))\n",
        "```\n",
        "\n",
        "Chamada: ack(1, 1):\n",
        "- Já sabemos que ack(1, 1) resulta em 3 (da execução anterior).\n",
        "\n",
        "Chamada: ack(0, 3):\n",
        "- Substituímos ack(1, 1) por 3 e continuamos:\n",
        "```\n",
        "return ack(0, 3)\n",
        "```\n",
        "\n",
        "Chamada: ack(0, 3):\n",
        "- Como m é igual a 0, aplicamos a primeira cláusula:\n",
        "```\n",
        "return 3 + 1  # => 4\n",
        "```\n",
        "\n",
        "\n",
        "\n",
        "\n",
        "\n",
        "\n",
        "\n",
        "\n",
        "\n",
        "\n",
        "\n"
      ],
      "metadata": {
        "id": "i1olPmbJOidx"
      }
    },
    {
      "cell_type": "markdown",
      "source": [
        "Retornando para ack(0, ack(1, 3)):\n",
        "- Substituímos ack(1, 3) por 4:\n",
        "```\n",
        "return ack(0, 4)\n",
        "```\n",
        "\n",
        "Chamada: ack(0, 4):\n",
        "- Como m é igual a 0, aplicamos a primeira cláusula:\n",
        "```\n",
        "return 4 + 1  # => 5\n",
        "```\n",
        "\n",
        "Portanto, ack(3, 0) retorna 5."
      ],
      "metadata": {
        "id": "wPBibcZKPWqM"
      }
    },
    {
      "cell_type": "code",
      "source": [
        "ack(3,4) # deve retornar 125"
      ],
      "metadata": {
        "colab": {
          "base_uri": "https://localhost:8080/"
        },
        "id": "O7q2r7InJm0V",
        "outputId": "e8b87770-341b-4229-9ef4-0b04c52545e0"
      },
      "execution_count": null,
      "outputs": [
        {
          "output_type": "execute_result",
          "data": {
            "text/plain": [
              "125"
            ]
          },
          "metadata": {},
          "execution_count": 59
        }
      ]
    },
    {
      "cell_type": "markdown",
      "source": [
        "O que acontece para valores maiores de m e n?\n",
        "\n",
        "São feitas 2 chamadas recursivas, uma dentro da outra, o que torna a função mais complexa - fazendo-a crescer rapidamente."
      ],
      "metadata": {
        "id": "Ca3iZl_JQRdN"
      }
    },
    {
      "cell_type": "markdown",
      "source": [
        "<h2> Função Recursiva Primitiva:\n",
        "Uma função recursiva primitiva é aquela que pode ser definida de maneira direta utilizando uma chamada a si mesma com argumentos que se tornam progressivamente mais simples. Elas são definidas de forma que a recursão termina após um número finito de chamadas. Exemplos comuns incluem funções como o fatorial e a sequência de Fibonacci. </h2>\n",
        "\n",
        "\n",
        "<h2> Função Recursiva Não Primitiva\n",
        "Por outro lado, uma função recursiva não primitiva envolve recursão que não segue esse padrão direto e pode ser mais complexa. Esse tipo de função pode fazer chamadas recursivas com múltiplos argumentos, ou pode envolver chamadas recursivas que não simplificam os argumentos de forma óbvia. Um exemplo clássico é a função de Ackermann, que não é recursiva primitiva porque a complexidade de seus argumentos não diminui de maneira simples e direta. </h2>"
      ],
      "metadata": {
        "id": "Zvo_5e_AoipX"
      }
    },
    {
      "cell_type": "markdown",
      "source": [
        "A função de Ackermann serve como um exemplo clássico de uma função que cresce muito rapidamente e não é computável de maneira eficiente para valores grandes de m e n. Este crescimento rápido faz com que ela seja usada em teoria da computação para demonstrar limites de eficiência e comportamento de funções recursivas complexas."
      ],
      "metadata": {
        "id": "a07IFOG_TiYS"
      }
    },
    {
      "cell_type": "markdown",
      "source": [
        "<h2> Exercício 6.3 </h2>\n"
      ],
      "metadata": {
        "id": "cMzw8isJTuwz"
      }
    },
    {
      "cell_type": "markdown",
      "source": [
        "Um palíndromo é uma palavra que se soletra da mesma forma nos dois sentidos, como “osso” e “reviver”. Recursivamente, uma palavra é um palíndromo se a primeira e última letras forem iguais e o meio for um palíndromo.\n",
        "As funções seguintes recebem uma string como argumento e retornam as letras iniciais, finais e do meio das palavras:"
      ],
      "metadata": {
        "id": "ts_uPNP0TxmG"
      }
    },
    {
      "cell_type": "code",
      "source": [
        "def first(word):\n",
        "  return word[0]\n",
        "\n",
        "def last(word):\n",
        "  return word[-1]\n",
        "\n",
        "def middle(word):\n",
        "  return word[1:-1]"
      ],
      "metadata": {
        "id": "a4wVpvshTsUl"
      },
      "execution_count": null,
      "outputs": []
    },
    {
      "cell_type": "code",
      "source": [
        "print(first('reviver'))  # retorna a primeira letra da palavra\n",
        "print(last('reviver'))   # retorna a última letra da palavra\n",
        "print(middle('reviver')) # retorna o meio da palavra"
      ],
      "metadata": {
        "colab": {
          "base_uri": "https://localhost:8080/"
        },
        "id": "6s6jZOCdWQwx",
        "outputId": "8655c72d-baa6-4576-9d63-1b7e23ddadbf"
      },
      "execution_count": null,
      "outputs": [
        {
          "output_type": "stream",
          "name": "stdout",
          "text": [
            "r\n",
            "r\n",
            "evive\n"
          ]
        }
      ]
    },
    {
      "cell_type": "markdown",
      "source": [
        "1. Digite essas funções em um arquivo chamado palindrome.py e teste-as. O que\n",
        "acontece se chamar middle com uma string de duas letras? Uma letra? E se a string estiver vazia, escrita com ' ' e não contiver nenhuma letra?"
      ],
      "metadata": {
        "id": "7E_IkKtgUISb"
      }
    },
    {
      "cell_type": "code",
      "source": [
        "middle('oi') # com duas letras, retorna vazio."
      ],
      "metadata": {
        "colab": {
          "base_uri": "https://localhost:8080/",
          "height": 36
        },
        "id": "Zmto3htIUD93",
        "outputId": "e67c2095-b87b-4dbc-d287-1f73d6ca50cf"
      },
      "execution_count": null,
      "outputs": [
        {
          "output_type": "execute_result",
          "data": {
            "text/plain": [
              "''"
            ],
            "application/vnd.google.colaboratory.intrinsic+json": {
              "type": "string"
            }
          },
          "metadata": {},
          "execution_count": 62
        }
      ]
    },
    {
      "cell_type": "code",
      "source": [
        "middle('o') # com uma letra, retorna vazio."
      ],
      "metadata": {
        "colab": {
          "base_uri": "https://localhost:8080/",
          "height": 36
        },
        "id": "wPSJMCGkUNoL",
        "outputId": "36c6104f-18f1-4ac1-f244-66b4af0df887"
      },
      "execution_count": null,
      "outputs": [
        {
          "output_type": "execute_result",
          "data": {
            "text/plain": [
              "''"
            ],
            "application/vnd.google.colaboratory.intrinsic+json": {
              "type": "string"
            }
          },
          "metadata": {},
          "execution_count": 63
        }
      ]
    },
    {
      "cell_type": "code",
      "source": [
        "middle('') # com nenhuma letra, retorna vazio."
      ],
      "metadata": {
        "colab": {
          "base_uri": "https://localhost:8080/",
          "height": 36
        },
        "id": "qmwdfKfPUgB3",
        "outputId": "a8c46d1d-7468-400d-c485-2ba9b80d3434"
      },
      "execution_count": null,
      "outputs": [
        {
          "output_type": "execute_result",
          "data": {
            "text/plain": [
              "''"
            ],
            "application/vnd.google.colaboratory.intrinsic+json": {
              "type": "string"
            }
          },
          "metadata": {},
          "execution_count": 64
        }
      ]
    },
    {
      "cell_type": "markdown",
      "source": [
        "2. Escreva uma função chamada is_palindrome que receba uma string como\n",
        "argumento e retorne True se for um palíndromo e False se não for. Lembre-se de que você pode usar a função integrada len para verificar o comprimento de uma string."
      ],
      "metadata": {
        "id": "xISIfe6SUnHi"
      }
    },
    {
      "cell_type": "code",
      "source": [
        "# definição de função\n",
        "\n",
        "def is_palindrome(string):\n",
        "  return True"
      ],
      "metadata": {
        "id": "MgzIPF0lUjBz"
      },
      "execution_count": null,
      "outputs": []
    },
    {
      "cell_type": "code",
      "source": [
        "is_palindrome('Brenda') # teste 1"
      ],
      "metadata": {
        "colab": {
          "base_uri": "https://localhost:8080/"
        },
        "id": "LDtt9TJTUzr0",
        "outputId": "00006727-3828-40b5-c2bf-1b17ddd6ec70"
      },
      "execution_count": null,
      "outputs": [
        {
          "output_type": "execute_result",
          "data": {
            "text/plain": [
              "True"
            ]
          },
          "metadata": {},
          "execution_count": 66
        }
      ]
    },
    {
      "cell_type": "markdown",
      "source": [
        "<h3> COMPARAÇÃO DE SOLUÇÕES: </h3>\n",
        "\n",
        "**SOLUÇÃO PRÓPRIA:**\n"
      ],
      "metadata": {
        "id": "OVgL9Xn_dWPB"
      }
    },
    {
      "cell_type": "code",
      "source": [
        "# incrementando a função\n",
        "\n",
        "def is_palindrome(string):\n",
        "  '''\n",
        "    Se o valor passado não for string, ele finaliza, pois é o modelo guardião.\n",
        "    Se a string não for vazia e tiver mais de 2 caracteres,\n",
        "    e entra na ramificação, validando se a primeira e a última letra são iguais e se o meio da palavra\n",
        "    é igual ao meio da palavra ao contrário. Se sim, é um palíndromo, e retorna verdadeiro. Se não, falso.\n",
        "  '''\n",
        "  if isinstance(string, str):\n",
        "      if len(string) != 0 and len(string) > 2:\n",
        "        if (first(string) == last(string)) and (middle(string) == middle(string[::-1])):\n",
        "          return True\n",
        "        else:\n",
        "          return False\n",
        "      else:\n",
        "        return False\n",
        "  else:\n",
        "    return None"
      ],
      "metadata": {
        "id": "Rs8VcjquU2Go"
      },
      "execution_count": null,
      "outputs": []
    },
    {
      "cell_type": "code",
      "source": [
        "is_palindrome('Brenda')"
      ],
      "metadata": {
        "colab": {
          "base_uri": "https://localhost:8080/"
        },
        "id": "K8Afrn0cYOa9",
        "outputId": "f4681bdc-670f-48c5-fdc7-13064257c43b"
      },
      "execution_count": null,
      "outputs": [
        {
          "output_type": "execute_result",
          "data": {
            "text/plain": [
              "False"
            ]
          },
          "metadata": {},
          "execution_count": 85
        }
      ]
    },
    {
      "cell_type": "code",
      "source": [
        "is_palindrome('osso')"
      ],
      "metadata": {
        "colab": {
          "base_uri": "https://localhost:8080/"
        },
        "id": "3o2jX7guZKvV",
        "outputId": "0bc67b18-7005-4676-dc70-740425797b6f"
      },
      "execution_count": null,
      "outputs": [
        {
          "output_type": "execute_result",
          "data": {
            "text/plain": [
              "True"
            ]
          },
          "metadata": {},
          "execution_count": 86
        }
      ]
    },
    {
      "cell_type": "code",
      "source": [
        "is_palindrome('reviver')"
      ],
      "metadata": {
        "colab": {
          "base_uri": "https://localhost:8080/"
        },
        "id": "s_eWxwFtZqXE",
        "outputId": "dceb26b3-eddc-469e-f6f6-7ba37c2582a8"
      },
      "execution_count": null,
      "outputs": [
        {
          "output_type": "execute_result",
          "data": {
            "text/plain": [
              "True"
            ]
          },
          "metadata": {},
          "execution_count": 87
        }
      ]
    },
    {
      "cell_type": "markdown",
      "source": [
        "**SOLUÇÃO DO CHATGPT:** utilizando recursividade"
      ],
      "metadata": {
        "id": "76nN2c1hdfJj"
      }
    },
    {
      "cell_type": "code",
      "source": [
        "def is_palindrome(word):\n",
        "    # Caso base: se a string estiver vazia ou tiver apenas um caractere, é um palíndromo\n",
        "    if len(word) <= 1:\n",
        "        return True\n",
        "    # Verifique se o primeiro e o último caracteres são iguais\n",
        "    if first(word) != last(word):\n",
        "        return False\n",
        "    # Verifique o meio da string recursivamente\n",
        "    return is_palindrome(middle(word))\n",
        "\n",
        "# Testes\n",
        "print(is_palindrome(\"radar\"))  # Saída: True\n",
        "print(is_palindrome(\"hello\"))  # Saída: False\n",
        "print(is_palindrome(\"level\"))  # Saída: True\n",
        "print(is_palindrome(\"world\"))  # Saída: False"
      ],
      "metadata": {
        "colab": {
          "base_uri": "https://localhost:8080/"
        },
        "id": "g3TI7sXVZrQL",
        "outputId": "4a64e094-1bb2-49f7-beaa-d82ef97849ce"
      },
      "execution_count": null,
      "outputs": [
        {
          "output_type": "stream",
          "name": "stdout",
          "text": [
            "True\n",
            "False\n",
            "True\n",
            "False\n"
          ]
        }
      ]
    },
    {
      "cell_type": "markdown",
      "source": [
        "<h2> Exercício 6.4 </h2>\n",
        "Um número a é uma potência de b se for divisível por b e a/b for uma potência de b. Escreva uma função chamada is_power que receba os parâmetros a e b e retorne True se a for uma potência de b. Dica: pense no caso-base.\n"
      ],
      "metadata": {
        "id": "f82o9ul8i3_i"
      }
    },
    {
      "cell_type": "markdown",
      "source": [
        "<h3> COMPARAÇÃO DE SOLUÇÕES: </h3>\n",
        "\n",
        "**SOLUÇÃO PRÓPRIA:**"
      ],
      "metadata": {
        "id": "_l72Z393yzIQ"
      }
    },
    {
      "cell_type": "code",
      "source": [
        "# definição de função\n",
        "def is_power(a, b):\n",
        "  return True"
      ],
      "metadata": {
        "id": "MomQtSYGeVvD"
      },
      "execution_count": null,
      "outputs": []
    },
    {
      "cell_type": "code",
      "source": [
        "is_power(1,2) # teste 1"
      ],
      "metadata": {
        "colab": {
          "base_uri": "https://localhost:8080/"
        },
        "id": "pqmNN3cnupLa",
        "outputId": "603f6f0c-bcf6-4370-cc1d-089c8b7c1d7b"
      },
      "execution_count": null,
      "outputs": [
        {
          "output_type": "execute_result",
          "data": {
            "text/plain": [
              "True"
            ]
          },
          "metadata": {},
          "execution_count": 91
        }
      ]
    },
    {
      "cell_type": "code",
      "source": [
        "# incrementando a função parte 1\n",
        "def is_power(a, b):\n",
        "  # caso-base a = 1, pois 1 é uma potência de qualquer número\n",
        "  if a == 1:\n",
        "    return True\n",
        "  else:\n",
        "    return False"
      ],
      "metadata": {
        "id": "JclHqWyJuqrC"
      },
      "execution_count": null,
      "outputs": []
    },
    {
      "cell_type": "code",
      "source": [
        "is_power(1,2) # teste 2"
      ],
      "metadata": {
        "colab": {
          "base_uri": "https://localhost:8080/"
        },
        "id": "TMDPJNs5vDIp",
        "outputId": "90e935f5-0484-4f43-bc24-c47f44c2334f"
      },
      "execution_count": null,
      "outputs": [
        {
          "output_type": "execute_result",
          "data": {
            "text/plain": [
              "True"
            ]
          },
          "metadata": {},
          "execution_count": 98
        }
      ]
    },
    {
      "cell_type": "code",
      "source": [
        "# incrementando a função parte 2\n",
        "def is_power(a, b):\n",
        "  # caso-base a = 1, pois 1 é uma potência de qualquer número\n",
        "  if a == 1:\n",
        "    return True\n",
        "  elif a % b != 0:\n",
        "    return False"
      ],
      "metadata": {
        "id": "U_wN50AGvHHB"
      },
      "execution_count": null,
      "outputs": []
    },
    {
      "cell_type": "code",
      "source": [
        "is_power(1,2) # teste 3"
      ],
      "metadata": {
        "colab": {
          "base_uri": "https://localhost:8080/"
        },
        "id": "_kRZKms1w2Es",
        "outputId": "ca7739a3-0977-4510-aa3d-ce995431f84a"
      },
      "execution_count": null,
      "outputs": [
        {
          "output_type": "execute_result",
          "data": {
            "text/plain": [
              "True"
            ]
          },
          "metadata": {},
          "execution_count": 103
        }
      ]
    },
    {
      "cell_type": "code",
      "source": [
        "# incrementando a função parte 3\n",
        "def is_power(a, b):\n",
        "  # caso-base a = 1, pois 1 é uma potência de qualquer número, retorne verdadeiro\n",
        "  if a == 1:\n",
        "    return True\n",
        "  elif a % b != 0: # se a não for divísivel por b, retorne falso\n",
        "    return False\n",
        "  elif a % b == 0: # se a for divisível por b, então faz o cálculo, e chama a função de maneira recursiva utilizando o resultado, até que atinja o caso-base\n",
        "    divisao = a/b\n",
        "    return is_power(divisao, b)"
      ],
      "metadata": {
        "id": "E1H1_kBYw3Mb"
      },
      "execution_count": null,
      "outputs": []
    },
    {
      "cell_type": "code",
      "source": [
        "is_power(8,2) # teste 4"
      ],
      "metadata": {
        "colab": {
          "base_uri": "https://localhost:8080/"
        },
        "id": "DqL_YMUNyP8s",
        "outputId": "91ed46ef-0e6c-4b27-ca15-80f19485965c"
      },
      "execution_count": null,
      "outputs": [
        {
          "output_type": "execute_result",
          "data": {
            "text/plain": [
              "True"
            ]
          },
          "metadata": {},
          "execution_count": 105
        }
      ]
    },
    {
      "cell_type": "code",
      "source": [
        "# incrementando a função parte 4\n",
        "def divisao(a,b):\n",
        "  return a//b\n",
        "\n",
        "def is_power(a, b):\n",
        "  # caso-base a = 1, pois 1 é uma potência de qualquer número, retorne verdadeiro\n",
        "  if a == 1:\n",
        "    return True\n",
        "  elif a % b != 0: # se a não for divísivel por b, retorne falso\n",
        "    return False\n",
        "  elif a % b == 0: # se a for divisível por b, então faz o cálculo, e chama a função de maneira recursiva utilizando o resultado, até que atinja o caso-base\n",
        "    return is_power(divisao(a,b), b)"
      ],
      "metadata": {
        "id": "UwLEHJElzvY4"
      },
      "execution_count": null,
      "outputs": []
    },
    {
      "cell_type": "code",
      "source": [
        "is_power(8,2)   # teste 5 > True"
      ],
      "metadata": {
        "colab": {
          "base_uri": "https://localhost:8080/"
        },
        "id": "XnfPNqTy0DS-",
        "outputId": "d941cf27-9d52-4a72-f018-135431a1e4cf"
      },
      "execution_count": null,
      "outputs": [
        {
          "output_type": "execute_result",
          "data": {
            "text/plain": [
              "True"
            ]
          },
          "metadata": {},
          "execution_count": 113
        }
      ]
    },
    {
      "cell_type": "code",
      "source": [
        "is_power(27,3)  # teste 6 > True"
      ],
      "metadata": {
        "colab": {
          "base_uri": "https://localhost:8080/"
        },
        "id": "O6uEj2qn0QZ-",
        "outputId": "b894b81e-f69e-4bd8-9d5c-e06c5c4c8514"
      },
      "execution_count": null,
      "outputs": [
        {
          "output_type": "execute_result",
          "data": {
            "text/plain": [
              "True"
            ]
          },
          "metadata": {},
          "execution_count": 114
        }
      ]
    },
    {
      "cell_type": "markdown",
      "source": [
        "A ideia central é usar a divisibilidade e a recursão para verificar se um número 'a'pode ser continuamente dividido por b até que a se torne 1. Se em algum ponto 'a' não for mais divisível por 'b', 'a' não é uma potência de 'b'."
      ],
      "metadata": {
        "id": "bPDE6CXgygFD"
      }
    },
    {
      "cell_type": "markdown",
      "source": [
        "**SOLUÇÃO DO CHATGPT:** utilizando recursividade"
      ],
      "metadata": {
        "id": "hw_oCCbEy4Gp"
      }
    },
    {
      "cell_type": "code",
      "source": [
        "def is_power_gpt(a, b):\n",
        "    # Verificação adicional para b\n",
        "    if b <= 1:\n",
        "        return a == 1\n",
        "\n",
        "    # Caso base: se a for igual a 1, então é uma potência de qualquer número\n",
        "    if a == 1:\n",
        "        return True\n",
        "\n",
        "    # Se a não for divisível por b, então não pode ser uma potência de b\n",
        "    if a % b != 0:\n",
        "        return False\n",
        "\n",
        "    # Verifique recursivamente se a/b é uma potência de b\n",
        "    return is_power_gpt(a // b, b)\n",
        "\n",
        "# Testes\n",
        "print(is_power_gpt(8, 2))    # Saída: True (8 = 2^3)\n",
        "print(is_power_gpt(27, 3))   # Saída: True (27 = 3^3)\n",
        "print(is_power_gpt(10, 2))   # Saída: False (10 não é uma potência de 2)\n",
        "print(is_power_gpt(1, 5))    # Saída: True (1 é uma potência de qualquer número, 5^0 = 1)\n",
        "print(is_power_gpt(9, 3))    # Saída: True (9 = 3^2)\n",
        "print(is_power_gpt(16, 4))   # Saída: True (16 = 4^2)\n",
        "print(is_power_gpt(5, 1))    # Saída: False (5 não pode ser uma potência de 1)\n",
        "print(is_power_gpt(4, -2))   # Saída: False (4 não pode ser uma potência de -2)\n",
        "print(is_power_gpt(1, 1))    # Saída: True (1 é uma potência de 1, 1^0 = 1)\n"
      ],
      "metadata": {
        "colab": {
          "base_uri": "https://localhost:8080/"
        },
        "id": "8xZmwC4BySxw",
        "outputId": "05b114a5-8be0-48ce-fac7-31d4c65a946c"
      },
      "execution_count": null,
      "outputs": [
        {
          "output_type": "stream",
          "name": "stdout",
          "text": [
            "True\n",
            "True\n",
            "False\n",
            "True\n",
            "True\n",
            "True\n",
            "False\n",
            "False\n",
            "True\n"
          ]
        }
      ]
    },
    {
      "cell_type": "markdown",
      "source": [
        "<h2> Exercício 6.5 </h2>\n",
        "\n",
        "O maior divisor comum (MDC, ou GCD em inglês) de a e b é o maior número que divide ambos sem sobrar resto.\n",
        "Um modo de encontrar o MDC de dois números é observar qual é o resto r quando a é dividido por b, verificando que `gcd(a, b) = gcd(b, r)`. Como caso-base, podemos usar `gcd(a, 0) = a`.\n",
        "Escreva uma função chamada gcd que receba os parâmetros a e b e devolva o maior\n",
        "divisor comum."
      ],
      "metadata": {
        "id": "pxdVrIJ_0eJ6"
      }
    },
    {
      "cell_type": "markdown",
      "source": [
        "```\n",
        "Crédito: Este exercício é baseado em um exemplo do livro de Abelson e Sussman,\n",
        "Structure and Interpretation of Computer Programs (Estrutura e interpretação de\n",
        "programas de computador, MIT Press, 1996).\n",
        "```\n",
        "\n"
      ],
      "metadata": {
        "id": "L1IIoiw600UP"
      }
    },
    {
      "cell_type": "markdown",
      "source": [
        "**O máximo divisor comum (MDC)**, também conhecido como máximo divisor comum (GCD, do inglês Greatest Common Divisor), de dois números inteiros é o maior número inteiro que divide ambos os números sem deixar resto. Existem vários métodos para calcular o MDC, mas os dois métodos mais comuns são o algoritmo de Euclides e o método da fatoração primária.\n",
        "\n",
        "**Algoritmo de Euclides**\n",
        "O algoritmo de Euclides é um método eficiente e amplamente utilizado para calcular o MDC de dois números inteiros. Ele se baseia no princípio de que o MDC de dois números não muda se o número maior for substituído pela diferença entre os dois números. Isso pode ser implementado de forma mais eficiente usando a divisão com resto."
      ],
      "metadata": {
        "id": "-TRubHEfwKO4"
      }
    },
    {
      "cell_type": "code",
      "source": [
        "# definição de função\n",
        "def gcd(a,b):\n",
        "  return 1"
      ],
      "metadata": {
        "id": "NYUzcM_yzHvU"
      },
      "execution_count": 5,
      "outputs": []
    },
    {
      "cell_type": "code",
      "source": [
        "gcd(1,2) # teste 1 para validação se o corpo da função está ok"
      ],
      "metadata": {
        "colab": {
          "base_uri": "https://localhost:8080/"
        },
        "id": "jZwWODBBvqjK",
        "outputId": "13c1d9de-cf81-44a8-8ff3-34143d0619be"
      },
      "execution_count": 6,
      "outputs": [
        {
          "output_type": "execute_result",
          "data": {
            "text/plain": [
              "1"
            ]
          },
          "metadata": {},
          "execution_count": 6
        }
      ]
    },
    {
      "cell_type": "code",
      "source": [
        "# desenvolvimento incremental: incrementando a função, pois 'a' tem que ser maior do que 'b'\n",
        "def gcd(a,b):\n",
        "  if a > b:\n",
        "    return 1"
      ],
      "metadata": {
        "id": "NOnrXMG2wa6y"
      },
      "execution_count": 7,
      "outputs": []
    },
    {
      "cell_type": "code",
      "source": [
        "gcd(2,1) # teste 2 para validação se 'a' é maior do que 'b'"
      ],
      "metadata": {
        "colab": {
          "base_uri": "https://localhost:8080/"
        },
        "id": "bmd_NVYow0GL",
        "outputId": "f32ad850-4190-48ee-8bb0-b8f787d26f94"
      },
      "execution_count": 8,
      "outputs": [
        {
          "output_type": "execute_result",
          "data": {
            "text/plain": [
              "1"
            ]
          },
          "metadata": {},
          "execution_count": 8
        }
      ]
    },
    {
      "cell_type": "code",
      "source": [
        "# desenvolvimento incremental: incrementando a função, para dividirmos 'a' por 'b' e pegarmos o resto\n",
        "def gcd(a,b):\n",
        "  if a > b:\n",
        "    r = a % b\n",
        "    return r"
      ],
      "metadata": {
        "id": "QsTdffn1w4Q-"
      },
      "execution_count": 9,
      "outputs": []
    },
    {
      "cell_type": "code",
      "source": [
        "gcd(3,2) # teste 3 para validação se está funcionando a implementação da divisão"
      ],
      "metadata": {
        "colab": {
          "base_uri": "https://localhost:8080/"
        },
        "id": "Rx8SKckBxM4I",
        "outputId": "3159c3d8-b9e4-4eb8-eed4-f12ae60f3b2e"
      },
      "execution_count": 10,
      "outputs": [
        {
          "output_type": "execute_result",
          "data": {
            "text/plain": [
              "1"
            ]
          },
          "metadata": {},
          "execution_count": 10
        }
      ]
    },
    {
      "cell_type": "code",
      "source": [
        "# desenvolvimento incremental: incrementando a função,acrescentando caso-base onde o resto = 0\n",
        "# e chamada recursiva para ir procurando o MDC\n",
        "def gcd(a,b):\n",
        "  if a < b:\n",
        "    return False\n",
        "\n",
        "  if a % b == 0:\n",
        "    return b\n",
        "\n",
        "  r = a % b\n",
        "  a = b\n",
        "  b = r\n",
        "\n",
        "  return gcd(a,b)"
      ],
      "metadata": {
        "id": "90_6YV2mxU7V"
      },
      "execution_count": 19,
      "outputs": []
    },
    {
      "cell_type": "code",
      "source": [
        "gcd(48,18) # teste 4: acréscimo do caso-base"
      ],
      "metadata": {
        "colab": {
          "base_uri": "https://localhost:8080/"
        },
        "id": "mwiQe4xlxzX-",
        "outputId": "a99e2acd-3975-4d87-9b02-3d200ebaf8f0"
      },
      "execution_count": 20,
      "outputs": [
        {
          "output_type": "execute_result",
          "data": {
            "text/plain": [
              "6"
            ]
          },
          "metadata": {},
          "execution_count": 20
        }
      ]
    },
    {
      "cell_type": "code",
      "source": [],
      "metadata": {
        "id": "ICOBP5hsx2mj"
      },
      "execution_count": null,
      "outputs": []
    }
  ]
}