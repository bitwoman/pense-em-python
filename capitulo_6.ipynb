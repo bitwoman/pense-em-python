{
  "nbformat": 4,
  "nbformat_minor": 0,
  "metadata": {
    "colab": {
      "provenance": [],
      "authorship_tag": "ABX9TyNVhrTdzAQDZ6kEHm7MPHY4",
      "include_colab_link": true
    },
    "kernelspec": {
      "name": "python3",
      "display_name": "Python 3"
    },
    "language_info": {
      "name": "python"
    }
  },
  "cells": [
    {
      "cell_type": "markdown",
      "metadata": {
        "id": "view-in-github",
        "colab_type": "text"
      },
      "source": [
        "<a href=\"https://colab.research.google.com/github/bitwoman/pense-em-python/blob/main/capitulo_6.ipynb\" target=\"_parent\"><img src=\"https://colab.research.google.com/assets/colab-badge.svg\" alt=\"Open In Colab\"/></a>"
      ]
    },
    {
      "cell_type": "markdown",
      "source": [
        "# **ESTUDO DO LIVRO \"Pense em Python\", DO AUTOR ALLEN B. DOWNEY**\n",
        "\n",
        "<p> Estudos iniciados em 20-06-2024. </p>"
      ],
      "metadata": {
        "id": "q7Ce8z_JIPPt"
      }
    },
    {
      "cell_type": "markdown",
      "source": [
        "# Capítulo 6: Funções com resultado"
      ],
      "metadata": {
        "id": "pDcqrEyNIU4f"
      }
    },
    {
      "cell_type": "markdown",
      "source": [
        "<h2> 6.1 - Valores de retorno </h2>\n",
        "\n",
        "A chamada de função gera um valor de retorno, que normalmente atribuímos a uma\n",
        "variável ou usamos como parte de uma expressão."
      ],
      "metadata": {
        "id": "kciM9JhbGFg-"
      }
    },
    {
      "cell_type": "code",
      "execution_count": null,
      "metadata": {
        "colab": {
          "base_uri": "https://localhost:8080/"
        },
        "id": "CbGxI32rIC70",
        "outputId": "7fd9efc9-a8f1-452a-9449-c67766bebb0d"
      },
      "outputs": [
        {
          "output_type": "stream",
          "name": "stdout",
          "text": [
            "2.718281828459045\n"
          ]
        }
      ],
      "source": [
        "import math\n",
        "\n",
        "e = math.exp(1.0)\n",
        "print(e)"
      ]
    },
    {
      "cell_type": "markdown",
      "source": [
        "As funções que descrevemos, por enquanto, são todas nulas. Resumindo, elas não têm valores de retorno; mais precisamente, o seu valor de retorno é None.\n"
      ],
      "metadata": {
        "id": "88-cz7pHGupn"
      }
    },
    {
      "cell_type": "markdown",
      "source": [
        "O primeiro exemplo é area, que devolve a área de um círculo com o raio dado:\n"
      ],
      "metadata": {
        "id": "W4OoJ4J2Gx4j"
      }
    },
    {
      "cell_type": "code",
      "source": [
        "def area(radius):\n",
        "  a = math.pi * radius**2\n",
        "  return a"
      ],
      "metadata": {
        "id": "qpZrVaMDGTOa"
      },
      "execution_count": null,
      "outputs": []
    },
    {
      "cell_type": "markdown",
      "source": [
        "Já vimos a instrução return, mas em uma função com resultado ela inclui uma expressão. Esta instrução significa: “Volte imediatamente desta função e use a seguinte expressão como valor de retorno”. A expressão pode ser arbitrariamente complicada, então poderíamos ter escrito esta função de forma mais concisa:"
      ],
      "metadata": {
        "id": "IQVFxWtzG-06"
      }
    },
    {
      "cell_type": "code",
      "source": [
        "def area(radius):\n",
        "  return math.pi * radius**2"
      ],
      "metadata": {
        "id": "HfiXkM_1G0eS"
      },
      "execution_count": null,
      "outputs": []
    },
    {
      "cell_type": "markdown",
      "source": [
        "Por outro lado, variáveis temporárias como a, tornam a depuração mais fácil."
      ],
      "metadata": {
        "id": "rX9IdJ-dHF-U"
      }
    },
    {
      "cell_type": "markdown",
      "source": [
        "Às vezes, é útil ter várias instruções de retorno, uma em cada ramo de uma condicional:"
      ],
      "metadata": {
        "id": "EXrZNvHTHILt"
      }
    },
    {
      "cell_type": "code",
      "source": [
        "def absolute_value(x):\n",
        "  if x < 0:\n",
        "    return -x\n",
        "  else:\n",
        "    return x\n",
        "\n",
        "''' Como essas instruções return estão em uma condicional alternativa, apenas uma é executada.'''"
      ],
      "metadata": {
        "colab": {
          "base_uri": "https://localhost:8080/",
          "height": 35
        },
        "id": "2G-an2M6HDE9",
        "outputId": "f8c71d0f-50e2-4b55-85bb-22af82a995f2"
      },
      "execution_count": null,
      "outputs": [
        {
          "output_type": "execute_result",
          "data": {
            "text/plain": [
              "' Como essas instruções return estão em uma condicional alternativa, apenas uma é\\nexecutada.'"
            ],
            "application/vnd.google.colaboratory.intrinsic+json": {
              "type": "string"
            }
          },
          "metadata": {},
          "execution_count": 6
        }
      ]
    },
    {
      "cell_type": "markdown",
      "source": [
        "Logo que uma instrução de retorno seja executada, a função termina sem executar\n",
        "nenhuma instrução subsequente. Qualquer código que apareça depois de uma instrução return, ou em qualquer outro lugar que o fluxo da execução não atinja, é chamado de **código morto**.\n",
        "Em uma função com resultado, é uma boa ideia garantir que cada caminho possível pelo programa atinja uma instrução return. Por exemplo:"
      ],
      "metadata": {
        "id": "RE52k9n1HeZF"
      }
    },
    {
      "cell_type": "markdown",
      "source": [
        "Essa função é incorreta porque se x for 0, nenhuma condição é verdade, e a função termina sem chegar a uma instrução return. Se o fluxo de execução chegar ao fim de uma função, o valor de retorno é None, que não é o valor absoluto de 0:"
      ],
      "metadata": {
        "id": "hC9gey7-Hwfq"
      }
    },
    {
      "cell_type": "code",
      "source": [
        "def absolute_value(x):\n",
        "  if x < 0:\n",
        "    return -x\n",
        "  if x > 0:\n",
        "    return x"
      ],
      "metadata": {
        "id": "aBUb9oPoHLZ1"
      },
      "execution_count": null,
      "outputs": []
    },
    {
      "cell_type": "markdown",
      "source": [
        "A propósito, o Python oferece uma função integrada chamada abs, que calcula valores absolutos.\n",
        "Como exercício, escreva uma função compare que receba dois valores, x e y, e retorne 1 se x > y, 0 se x == y e -1 se x < y."
      ],
      "metadata": {
        "id": "vCgoUvk3HzMz"
      }
    },
    {
      "cell_type": "code",
      "source": [
        "def comparaNumeros(x, y):\n",
        "  if x > y:\n",
        "    return 1\n",
        "  elif x == y:\n",
        "    return 0\n",
        "  elif x < y:\n",
        "    return -1"
      ],
      "metadata": {
        "id": "6GSSggiDHjmO"
      },
      "execution_count": null,
      "outputs": []
    },
    {
      "cell_type": "code",
      "source": [
        "comparaNumeros(5,2) # OK"
      ],
      "metadata": {
        "colab": {
          "base_uri": "https://localhost:8080/"
        },
        "id": "ve8HjxOVIJD7",
        "outputId": "1ce98d17-6e4b-43ba-9274-b32febb0570f"
      },
      "execution_count": null,
      "outputs": [
        {
          "output_type": "execute_result",
          "data": {
            "text/plain": [
              "1"
            ]
          },
          "metadata": {},
          "execution_count": 9
        }
      ]
    },
    {
      "cell_type": "code",
      "source": [
        "comparaNumeros(2,2) # OK"
      ],
      "metadata": {
        "colab": {
          "base_uri": "https://localhost:8080/"
        },
        "id": "Tdn-XXfqILMs",
        "outputId": "759afb83-07b3-4bbe-e889-bfe64759a2a8"
      },
      "execution_count": null,
      "outputs": [
        {
          "output_type": "execute_result",
          "data": {
            "text/plain": [
              "0"
            ]
          },
          "metadata": {},
          "execution_count": 10
        }
      ]
    },
    {
      "cell_type": "code",
      "source": [
        "comparaNumeros(2,3) # OK"
      ],
      "metadata": {
        "colab": {
          "base_uri": "https://localhost:8080/"
        },
        "id": "TzbEdBhDINXy",
        "outputId": "6511259e-4624-43fd-f0c1-b6d2634bf096"
      },
      "execution_count": null,
      "outputs": [
        {
          "output_type": "execute_result",
          "data": {
            "text/plain": [
              "-1"
            ]
          },
          "metadata": {},
          "execution_count": 11
        }
      ]
    },
    {
      "cell_type": "markdown",
      "source": [
        "<h2> 6.2 - Desenvolvimento incremental </h2>\n",
        "\n",
        "Conforme você escrever funções maiores, pode ser que passe mais tempo as depurando.\n",
        "Para lidar com programas cada vez mais complexos, você pode querer tentar usar um processo chamado de desenvolvimento incremental. A meta do desenvolvimento\n",
        "incremental é evitar longas sessões de depuração, acrescentando e testando pequenas partes do código de cada vez."
      ],
      "metadata": {
        "id": "Nq5MtXXvRLIk"
      }
    },
    {
      "cell_type": "markdown",
      "source": [
        "Como um exemplo, vamos supor que você queira encontrar a distância entre dois pontos dados pelas coordenadas (x1, y1) e(x2, y2). Pelo teorema de Pitágoras, a distância é:\n",
        "\n",
        "![image.png](data:image/png;base64,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)"
      ],
      "metadata": {
        "id": "aI7wxRYUjjRR"
      }
    },
    {
      "cell_type": "code",
      "source": [
        "def distance(x1, y1, x2, y2):\n",
        "  return 0.0\n",
        "\n",
        "'''\n",
        "Claro que esta versão não calcula distâncias; sempre retorna zero. Mas está sintaticamente\n",
        "correta, e pode ser executada, o que significa que você pode testá-la antes de torná-la mais\n",
        "complicada.\n",
        "'''"
      ],
      "metadata": {
        "colab": {
          "base_uri": "https://localhost:8080/",
          "height": 53
        },
        "id": "UgNftzdzIQ-h",
        "outputId": "e622a46e-0cb0-40f9-b1e4-2dcd090a1d20"
      },
      "execution_count": null,
      "outputs": [
        {
          "output_type": "execute_result",
          "data": {
            "text/plain": [
              "'\\nClaro que esta versão não calcula distâncias; sempre retorna zero. Mas está sintaticamente\\ncorreta, e pode ser executada, o que significa que você pode testá-la antes de torná-la mais\\ncomplicada.\\n'"
            ],
            "application/vnd.google.colaboratory.intrinsic+json": {
              "type": "string"
            }
          },
          "metadata": {},
          "execution_count": 13
        }
      ]
    },
    {
      "cell_type": "code",
      "source": [
        "distance(1,2,4,6) # testando"
      ],
      "metadata": {
        "colab": {
          "base_uri": "https://localhost:8080/"
        },
        "id": "eATlV2uWjrSn",
        "outputId": "c50e3100-89cf-4955-8b02-50e2b1edec37"
      },
      "execution_count": null,
      "outputs": [
        {
          "output_type": "execute_result",
          "data": {
            "text/plain": [
              "0.0"
            ]
          },
          "metadata": {},
          "execution_count": 14
        }
      ]
    },
    {
      "cell_type": "markdown",
      "source": [
        "Escolhi esses valores para que a distância horizontal seja 3 e a distância vertical, 4; assim, o resultado final é 5, a hipotenusa de um triângulo 3-4-5. Ao testar uma função, é útil saber a resposta certa.\n",
        "Neste ponto confirmamos que a função está sintaticamente correta, e podemos começar a acrescentar código ao corpo. Um próximo passo razoável é encontrar as diferenças x2 − x1 e y2 − y1. A próxima versão guarda esses valores em variáveis temporárias e os exibe:"
      ],
      "metadata": {
        "id": "JaotHC8VkQ91"
      }
    },
    {
      "cell_type": "code",
      "source": [
        "def distance(x1, y1, x2, y2):\n",
        "  dx = x2 - x1\n",
        "  dy = y2 - y1\n",
        "\n",
        "  print('dx is', dx)\n",
        "  print('dy is', dy)\n",
        "\n",
        "  return 0.0"
      ],
      "metadata": {
        "id": "j3p0pZp6j2kC"
      },
      "execution_count": null,
      "outputs": []
    },
    {
      "cell_type": "code",
      "source": [
        "distance(1,2,4,6) # testando"
      ],
      "metadata": {
        "colab": {
          "base_uri": "https://localhost:8080/"
        },
        "id": "3Bkr24K3kY5x",
        "outputId": "1a1966bc-047b-4502-ed76-4222f115272b"
      },
      "execution_count": null,
      "outputs": [
        {
          "output_type": "stream",
          "name": "stdout",
          "text": [
            "dx is 3\n",
            "dy is 4\n"
          ]
        },
        {
          "output_type": "execute_result",
          "data": {
            "text/plain": [
              "0.0"
            ]
          },
          "metadata": {},
          "execution_count": 16
        }
      ]
    },
    {
      "cell_type": "markdown",
      "source": [
        "Se a função estiver funcionando, deve exibir dx is 3 e dy is 4. Nesse caso sabemos que a função está recebendo os argumentos corretos e executando o primeiro cálculo\n",
        "acertadamente. Se não, há poucas linhas para verificar.\n"
      ],
      "metadata": {
        "id": "7rqhbB9rklqK"
      }
    },
    {
      "cell_type": "markdown",
      "source": [
        "Depois calculamos a soma dos quadrados de dx e dy:"
      ],
      "metadata": {
        "id": "SzhhktbOkq6M"
      }
    },
    {
      "cell_type": "code",
      "source": [
        "def distance(x1, y1, x2, y2):\n",
        "  dx = x2 - x1\n",
        "  dy = y2 - y1\n",
        "  dsquared = dx**2 + dy**2\n",
        "\n",
        "  print('dsquared is: ', dsquared)\n",
        "\n",
        "  return 0.0"
      ],
      "metadata": {
        "id": "ba5dIqx5kkYU"
      },
      "execution_count": null,
      "outputs": []
    },
    {
      "cell_type": "code",
      "source": [
        "distance(1,2,4,6) # testando"
      ],
      "metadata": {
        "colab": {
          "base_uri": "https://localhost:8080/"
        },
        "id": "uRUtBVhrkuSx",
        "outputId": "b4dd4db2-f7c4-4b7a-bf7a-09a36377a113"
      },
      "execution_count": null,
      "outputs": [
        {
          "output_type": "stream",
          "name": "stdout",
          "text": [
            "dsquared is:  25\n"
          ]
        },
        {
          "output_type": "execute_result",
          "data": {
            "text/plain": [
              "0.0"
            ]
          },
          "metadata": {},
          "execution_count": 19
        }
      ]
    },
    {
      "cell_type": "markdown",
      "source": [
        "Nesta etapa você executaria o programa mais uma vez e verificaria a saída (que deve ser 25). Finalmente, pode usar math.sqrt para calcular e devolver o resultado:"
      ],
      "metadata": {
        "id": "dlEhR0z0k1SN"
      }
    },
    {
      "cell_type": "code",
      "source": [
        "def distance(x1, y1, x2, y2):\n",
        "  dx = x2 - x1\n",
        "  dy = y2 - y1\n",
        "  dsquared = dx**2 + dy**2\n",
        "  result = math.sqrt(dsquared)\n",
        "\n",
        "  return result"
      ],
      "metadata": {
        "id": "2YnLrgH5kwmG"
      },
      "execution_count": null,
      "outputs": []
    },
    {
      "cell_type": "code",
      "source": [
        "distance(1,2,4,6) # teste final"
      ],
      "metadata": {
        "colab": {
          "base_uri": "https://localhost:8080/"
        },
        "id": "XpwUDeSak37K",
        "outputId": "c1dc82e5-e0af-452f-d35f-b8c517d0a826"
      },
      "execution_count": null,
      "outputs": [
        {
          "output_type": "execute_result",
          "data": {
            "text/plain": [
              "5.0"
            ]
          },
          "metadata": {},
          "execution_count": 21
        }
      ]
    },
    {
      "cell_type": "markdown",
      "source": [
        "**De qualquer forma, o desenvolvimento incremental pode economizar muito tempo de depuração.**"
      ],
      "metadata": {
        "id": "sZWjRm4gpLWA"
      }
    },
    {
      "cell_type": "markdown",
      "source": [
        "Os principais aspectos do processo são:\n",
        "1. Comece com um programa que funcione e faça pequenas alterações incrementais. Se houver um erro em qualquer ponto, será bem mais fácil encontrá-lo.\n",
        "2. Use variáveis para guardar valores intermediários, assim poderá exibi-los e verificá-los.\n",
        "3. Uma vez que o programa esteja funcionando, você pode querer remover uma parte do scaffolding ou consolidar várias instruções em expressões compostas, mas apenas se isso não tornar o programa difícil de ler.\n"
      ],
      "metadata": {
        "id": "9g006SjisKAj"
      }
    },
    {
      "cell_type": "markdown",
      "source": [
        "Como exercício, use o desenvolvimento incremental para escrever uma função chamada hypotenuse, que devolva o comprimento da hipotenusa de um triângulo retângulo dados os comprimentos dos outros dois lados como argumentos. Registre cada etapa do processo de desenvolvimento no decorrer do processo."
      ],
      "metadata": {
        "id": "JG7CelRqsSm2"
      }
    },
    {
      "cell_type": "markdown",
      "source": [
        "**DESENVOLVIMENTO INCREMENTAL: PASSO 1**\n",
        "\n",
        "Fazer o rascunho da função."
      ],
      "metadata": {
        "id": "WvXOxSMnsp3U"
      }
    },
    {
      "cell_type": "code",
      "source": [
        "def hypotenuse(side_a, side_b):\n",
        "  return 0"
      ],
      "metadata": {
        "id": "IRPgsMGfsYo2"
      },
      "execution_count": null,
      "outputs": []
    },
    {
      "cell_type": "code",
      "source": [
        "hypotenuse(4, 5) # teste 1 OK"
      ],
      "metadata": {
        "colab": {
          "base_uri": "https://localhost:8080/"
        },
        "id": "54Gkj9Cpk7-v",
        "outputId": "1d713fe0-be06-4c73-ca72-65c45b58122b"
      },
      "execution_count": null,
      "outputs": [
        {
          "output_type": "execute_result",
          "data": {
            "text/plain": [
              "0"
            ]
          },
          "metadata": {},
          "execution_count": 28
        }
      ]
    },
    {
      "cell_type": "markdown",
      "source": [
        "**DESENVOLVIMENTO INCREMENTAL: PASSO 2**\n",
        "\n",
        "Calcular o quadrado do lado A e do lado B, respectivamente."
      ],
      "metadata": {
        "id": "wdSnufEKsz0F"
      }
    },
    {
      "cell_type": "markdown",
      "source": [
        "Para calcular o comprimento da hipotenusa de um triângulo retângulo, você pode usar o Teorema de Pitágoras. O Teorema de Pitágoras afirma que, em um triângulo retângulo, o quadrado da hipotenusa (o lado oposto ao ângulo reto) é igual à soma dos quadrados dos outros dois lados.\n",
        "\n",
        "FÓRMULA: <p>\n",
        "![image.png](data:image/png;base64,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)"
      ],
      "metadata": {
        "id": "e4hvCyFKtJxU"
      }
    },
    {
      "cell_type": "code",
      "source": [
        "def hypotenuse(side_a, side_b):\n",
        "  square_side_a = side_a ** 2\n",
        "  square_side_b = side_b ** 2\n",
        "\n",
        "  print('square a: ', square_side_a)\n",
        "  print('square b: ', square_side_b)\n",
        "\n",
        "  return 0"
      ],
      "metadata": {
        "id": "Q8At2r4ksy42"
      },
      "execution_count": null,
      "outputs": []
    },
    {
      "cell_type": "code",
      "source": [
        "hypotenuse(4,5) # teste 2 OK"
      ],
      "metadata": {
        "colab": {
          "base_uri": "https://localhost:8080/"
        },
        "id": "fzuD5zKcuDrL",
        "outputId": "5f42ac25-d937-4088-c20b-2640ab0f8d57"
      },
      "execution_count": null,
      "outputs": [
        {
          "output_type": "stream",
          "name": "stdout",
          "text": [
            "square a:  16\n",
            "square b:  25\n"
          ]
        },
        {
          "output_type": "execute_result",
          "data": {
            "text/plain": [
              "0"
            ]
          },
          "metadata": {},
          "execution_count": 35
        }
      ]
    },
    {
      "cell_type": "markdown",
      "source": [
        "**DESENVOLVIMENTO INCREMENTAL: PASSO 3**\n",
        "\n",
        "Calcular a soma dos quadrados do lado A com o lado B."
      ],
      "metadata": {
        "id": "B63yolXGuoKM"
      }
    },
    {
      "cell_type": "code",
      "source": [
        "def hypotenuse(side_a, side_b):\n",
        "  square_side_a = side_a ** 2\n",
        "  square_side_b = side_b ** 2\n",
        "  sum_square = square_side_a + square_side_b\n",
        "\n",
        "  print('square\\'s sum:' , sum_square)\n",
        "\n",
        "  return 0"
      ],
      "metadata": {
        "id": "otBClzA1uVLq"
      },
      "execution_count": null,
      "outputs": []
    },
    {
      "cell_type": "code",
      "source": [
        "hypotenuse(4,5) # teste 3 OK"
      ],
      "metadata": {
        "colab": {
          "base_uri": "https://localhost:8080/"
        },
        "id": "0U7VNt2ju-IQ",
        "outputId": "0161b6f6-d58f-4809-ae66-92abe4412b77"
      },
      "execution_count": null,
      "outputs": [
        {
          "output_type": "stream",
          "name": "stdout",
          "text": [
            "square's sum: 41\n"
          ]
        },
        {
          "output_type": "execute_result",
          "data": {
            "text/plain": [
              "0"
            ]
          },
          "metadata": {},
          "execution_count": 43
        }
      ]
    },
    {
      "cell_type": "markdown",
      "source": [
        "**DESENVOLVIMENTO INCREMENTAL: PASSO 4**\n",
        "\n",
        "Calcular a raiz quadrada da soma e retorna o resultado."
      ],
      "metadata": {
        "id": "_EiGJ5IlvQVc"
      }
    },
    {
      "cell_type": "code",
      "source": [
        "import math\n",
        "\n",
        "def hypotenuse(side_a, side_b):\n",
        "  square_side_a = side_a ** 2\n",
        "  square_side_b = side_b ** 2\n",
        "  sum_square = square_side_a + square_side_b\n",
        "  result = math.sqrt(sum_square)\n",
        "\n",
        "  return result"
      ],
      "metadata": {
        "id": "5hU6DZOyvAeC"
      },
      "execution_count": null,
      "outputs": []
    },
    {
      "cell_type": "code",
      "source": [
        "hypotenuse(4,5) # teste 4 OK"
      ],
      "metadata": {
        "colab": {
          "base_uri": "https://localhost:8080/"
        },
        "id": "t9wbu2vtvnnR",
        "outputId": "4c85f975-f6a8-4898-9132-499bfba48ce4"
      },
      "execution_count": null,
      "outputs": [
        {
          "output_type": "execute_result",
          "data": {
            "text/plain": [
              "6.4031242374328485"
            ]
          },
          "metadata": {},
          "execution_count": 46
        }
      ]
    },
    {
      "cell_type": "markdown",
      "source": [
        "<h2> 6.3 - Composição </h2>"
      ],
      "metadata": {
        "id": "AmsUCtmRvxVH"
      }
    },
    {
      "cell_type": "markdown",
      "source": [
        "Como você já deveria esperar a essa altura, é possível chamar uma função de dentro de outra. Como exemplo, escreveremos uma função que recebe dois pontos, o centro do círculo e um ponto no perímetro, para calcular a área do círculo.\n",
        "Suponha que o ponto do centro seja guardado nas variáveis xc e yc e o ponto de perímetro está em xp e yp. O primeiro passo deve ser encontrar o raio do círculo, que é a distância entre os dois pontos. Acabamos de escrever uma função, distance, que faz isto:"
      ],
      "metadata": {
        "id": "jR8vJAhIvzzv"
      }
    },
    {
      "cell_type": "code",
      "source": [
        "# radius = distance(xc, yc, xp, yp)"
      ],
      "metadata": {
        "id": "XkhwD0SCvsh1"
      },
      "execution_count": null,
      "outputs": []
    },
    {
      "cell_type": "markdown",
      "source": [
        "O próximo passo deve ser encontrar a área de um círculo com aquele raio; acabamos de escrever isso também:"
      ],
      "metadata": {
        "id": "WdSK6RsTx567"
      }
    },
    {
      "cell_type": "code",
      "source": [
        "# result = area(radius)"
      ],
      "metadata": {
        "id": "OvQmB43kx2Od"
      },
      "execution_count": null,
      "outputs": []
    },
    {
      "cell_type": "markdown",
      "source": [
        "Encapsulando esses passos em uma função, temos:"
      ],
      "metadata": {
        "id": "s8-28ij7x9bN"
      }
    },
    {
      "cell_type": "code",
      "source": [
        "def circle_area(xc, yc, xp, yp):\n",
        "  radius = distance(xc, yc, xp, yp) # distância entre dois pontos = raio de um círculo\n",
        "  result = area(radius)             # area de um círculo = pi * raio ** 2\n",
        "\n",
        "  return result"
      ],
      "metadata": {
        "id": "yLJzwHGtx7wU"
      },
      "execution_count": null,
      "outputs": []
    },
    {
      "cell_type": "markdown",
      "source": [
        "As variáveis temporárias radius e result são úteis para desenvolvimento e depuração, e uma vez que o programa esteja funcionando podemos torná-lo mais conciso compondo chamadas de função:\n"
      ],
      "metadata": {
        "id": "QIsMprk6yHYb"
      }
    },
    {
      "cell_type": "code",
      "source": [
        "def circle_area(xc, yc, xp, yp):\n",
        "  return area(distance(xc, yc, xp, yp))"
      ],
      "metadata": {
        "id": "F67sjaV1yDfr"
      },
      "execution_count": null,
      "outputs": []
    },
    {
      "cell_type": "markdown",
      "source": [
        "<h2> 6.4 - Funções booleanas </h2>\n",
        "\n",
        "As funções podem retornar booleans, o que pode ser conveniente para esconder testes complicados dentro de funções. Por exemplo:\n"
      ],
      "metadata": {
        "id": "_uPqBWCZyoIk"
      }
    },
    {
      "cell_type": "code",
      "source": [
        "def is_divisible(x, y):\n",
        "  if x % y == 0:\n",
        "    return True\n",
        "  else:\n",
        "    return False"
      ],
      "metadata": {
        "id": "nbFyKWlcyKne"
      },
      "execution_count": 1,
      "outputs": []
    },
    {
      "cell_type": "markdown",
      "source": [
        "É comum dar nomes de funções booleanas que pareçam perguntas de sim ou não;\n",
        "is_divisible retorna True ou False para indicar se x é divisível por y."
      ],
      "metadata": {
        "id": "JM715dF_B-ny"
      }
    },
    {
      "cell_type": "code",
      "source": [
        "is_divisible(6, 4)"
      ],
      "metadata": {
        "colab": {
          "base_uri": "https://localhost:8080/"
        },
        "id": "hY6_atKwByaq",
        "outputId": "145171f4-8f91-4012-8576-b4471a521400"
      },
      "execution_count": 2,
      "outputs": [
        {
          "output_type": "execute_result",
          "data": {
            "text/plain": [
              "False"
            ]
          },
          "metadata": {},
          "execution_count": 2
        }
      ]
    },
    {
      "cell_type": "markdown",
      "source": [
        "O resultado do operador == é um booleano, então podemos escrever a função de forma mais concisa, retornando-o diretamente:"
      ],
      "metadata": {
        "id": "JLKeF5bmCB4q"
      }
    },
    {
      "cell_type": "code",
      "source": [
        "def is_divisible(x, y):\n",
        "  return x % y == 0"
      ],
      "metadata": {
        "id": "J74-oxC2B8tm"
      },
      "execution_count": 3,
      "outputs": []
    },
    {
      "cell_type": "markdown",
      "source": [
        "As funções booleanas muitas vezes são usadas em instruções condicionais:\n",
        "\n",
        "\n",
        "\n",
        "```\n",
        "if is_divisible(x, y):\n",
        "  print('x is divisible by y')\n",
        "```\n",
        "\n",
        "Pode ser tentador escrever algo assim:\n",
        "\n",
        "```\n",
        "if is_divisible(x, y) == True:\n",
        "  print('x is divisible by y')\n",
        "```\n",
        "\n",
        "Mas a comparação extra é **desnecessária**."
      ],
      "metadata": {
        "id": "cSS5V4AmCGRf"
      }
    },
    {
      "cell_type": "markdown",
      "source": [
        "Como um exercício, escreva uma função is_between(x, y, z) que retorne True, se x ≤ y ≤ z, ou False, se não for o caso."
      ],
      "metadata": {
        "id": "XeAMfProCb0Y"
      }
    },
    {
      "cell_type": "code",
      "source": [
        "def is_between(x, y, z):\n",
        "  if x <= y and y <= z:\n",
        "    return True\n",
        "  else:\n",
        "    return False"
      ],
      "metadata": {
        "id": "dunEEedSCKwn"
      },
      "execution_count": 5,
      "outputs": []
    },
    {
      "cell_type": "code",
      "source": [
        "is_between(1, 2, 3)"
      ],
      "metadata": {
        "colab": {
          "base_uri": "https://localhost:8080/"
        },
        "id": "lvH5pnt0C0dj",
        "outputId": "f7df3050-2f05-414d-ad84-f5224349bced"
      },
      "execution_count": 6,
      "outputs": [
        {
          "output_type": "execute_result",
          "data": {
            "text/plain": [
              "True"
            ]
          },
          "metadata": {},
          "execution_count": 6
        }
      ]
    },
    {
      "cell_type": "markdown",
      "source": [
        "Melhorada:"
      ],
      "metadata": {
        "id": "2YIMkz5rDGwP"
      }
    },
    {
      "cell_type": "code",
      "source": [
        "def is_between(x, y, z):\n",
        "  return x <= y and y <= z"
      ],
      "metadata": {
        "id": "hHjh4tbnC5Wo"
      },
      "execution_count": 7,
      "outputs": []
    },
    {
      "cell_type": "code",
      "source": [
        "is_between(1, 2, 3)"
      ],
      "metadata": {
        "colab": {
          "base_uri": "https://localhost:8080/"
        },
        "id": "B20CV6xXDHz-",
        "outputId": "e2e334a5-a003-4eb2-b009-2ae40d67cfd9"
      },
      "execution_count": 8,
      "outputs": [
        {
          "output_type": "execute_result",
          "data": {
            "text/plain": [
              "True"
            ]
          },
          "metadata": {},
          "execution_count": 8
        }
      ]
    },
    {
      "cell_type": "code",
      "source": [
        "is_between(3, 2, 1)"
      ],
      "metadata": {
        "colab": {
          "base_uri": "https://localhost:8080/"
        },
        "id": "RbZiLrtiDI4U",
        "outputId": "69426126-88c0-46cc-acf9-8c07bf932dda"
      },
      "execution_count": 9,
      "outputs": [
        {
          "output_type": "execute_result",
          "data": {
            "text/plain": [
              "False"
            ]
          },
          "metadata": {},
          "execution_count": 9
        }
      ]
    },
    {
      "cell_type": "markdown",
      "source": [
        "<h2> 6.5 - Mais recursividade </h2>"
      ],
      "metadata": {
        "id": "TaMPZ1OGDkoM"
      }
    },
    {
      "cell_type": "code",
      "source": [],
      "metadata": {
        "id": "J2osERm7DLDm"
      },
      "execution_count": null,
      "outputs": []
    }
  ]
}