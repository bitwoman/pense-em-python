{
 "cells": [
  {
   "cell_type": "markdown",
   "metadata": {
    "colab_type": "text",
    "id": "view-in-github"
   },
   "source": [
    "<a href=\"https://colab.research.google.com/github/bitwoman/pense-em-python/blob/main/capitulo_6.ipynb\" target=\"_parent\"><img src=\"https://colab.research.google.com/assets/colab-badge.svg\" alt=\"Open In Colab\"/></a>"
   ]
  },
  {
   "cell_type": "markdown",
   "metadata": {
    "id": "q7Ce8z_JIPPt"
   },
   "source": [
    "# **ESTUDO DO LIVRO \"Pense em Python\", DO AUTOR ALLEN B. DOWNEY**\n",
    "\n",
    "<p> Estudos iniciados em 20-06-2024. </p>"
   ]
  },
  {
   "cell_type": "markdown",
   "metadata": {
    "id": "pDcqrEyNIU4f"
   },
   "source": [
    "# Capítulo 6: Funções com resultado"
   ]
  },
  {
   "cell_type": "markdown",
   "metadata": {
    "id": "kciM9JhbGFg-"
   },
   "source": [
    "<h2> 6.1 - Valores de retorno </h2>\n",
    "\n",
    "A chamada de função gera um valor de retorno, que normalmente atribuímos a uma\n",
    "variável ou usamos como parte de uma expressão."
   ]
  },
  {
   "cell_type": "code",
   "execution_count": null,
   "metadata": {
    "colab": {
     "base_uri": "https://localhost:8080/"
    },
    "id": "CbGxI32rIC70",
    "outputId": "ec87211d-410e-403f-af3f-c18b80fdcd87"
   },
   "outputs": [
    {
     "name": "stdout",
     "output_type": "stream",
     "text": [
      "2.718281828459045\n"
     ]
    }
   ],
   "source": [
    "import math\n",
    "\n",
    "e = math.exp(1.0)\n",
    "print(e)"
   ]
  },
  {
   "cell_type": "markdown",
   "metadata": {
    "id": "88-cz7pHGupn"
   },
   "source": [
    "As funções que descrevemos, por enquanto, são todas nulas. Resumindo, elas não têm valores de retorno; mais precisamente, o seu valor de retorno é None.\n"
   ]
  },
  {
   "cell_type": "markdown",
   "metadata": {
    "id": "W4OoJ4J2Gx4j"
   },
   "source": [
    "O primeiro exemplo é area, que devolve a área de um círculo com o raio dado:\n"
   ]
  },
  {
   "cell_type": "code",
   "execution_count": null,
   "metadata": {
    "id": "qpZrVaMDGTOa"
   },
   "outputs": [],
   "source": [
    "def area(radius):\n",
    "  a = math.pi * radius**2\n",
    "  return a"
   ]
  },
  {
   "cell_type": "markdown",
   "metadata": {
    "id": "IQVFxWtzG-06"
   },
   "source": [
    "Já vimos a instrução return, mas em uma função com resultado ela inclui uma expressão. Esta instrução significa: “Volte imediatamente desta função e use a seguinte expressão como valor de retorno”. A expressão pode ser arbitrariamente complicada, então poderíamos ter escrito esta função de forma mais concisa:"
   ]
  },
  {
   "cell_type": "code",
   "execution_count": null,
   "metadata": {
    "id": "HfiXkM_1G0eS"
   },
   "outputs": [],
   "source": [
    "def area(radius):\n",
    "  return math.pi * radius**2"
   ]
  },
  {
   "cell_type": "markdown",
   "metadata": {
    "id": "rX9IdJ-dHF-U"
   },
   "source": [
    "Por outro lado, variáveis temporárias como a, tornam a depuração mais fácil."
   ]
  },
  {
   "cell_type": "markdown",
   "metadata": {
    "id": "EXrZNvHTHILt"
   },
   "source": [
    "Às vezes, é útil ter várias instruções de retorno, uma em cada ramo de uma condicional:"
   ]
  },
  {
   "cell_type": "code",
   "execution_count": null,
   "metadata": {
    "colab": {
     "base_uri": "https://localhost:8080/",
     "height": 36
    },
    "id": "2G-an2M6HDE9",
    "outputId": "65b89c80-2e2f-491d-b4e8-dd4774b431c2"
   },
   "outputs": [
    {
     "data": {
      "application/vnd.google.colaboratory.intrinsic+json": {
       "type": "string"
      },
      "text/plain": [
       "' Como essas instruções return estão em uma condicional alternativa, apenas uma é executada.'"
      ]
     },
     "execution_count": 5,
     "metadata": {},
     "output_type": "execute_result"
    }
   ],
   "source": [
    "def absolute_value(x):\n",
    "  if x < 0:\n",
    "    return -x\n",
    "  else:\n",
    "    return x\n",
    "\n",
    "''' Como essas instruções return estão em uma condicional alternativa, apenas uma é executada.'''"
   ]
  },
  {
   "cell_type": "markdown",
   "metadata": {
    "id": "RE52k9n1HeZF"
   },
   "source": [
    "Logo que uma instrução de retorno seja executada, a função termina sem executar\n",
    "nenhuma instrução subsequente. Qualquer código que apareça depois de uma instrução return, ou em qualquer outro lugar que o fluxo da execução não atinja, é chamado de **código morto**.\n",
    "Em uma função com resultado, é uma boa ideia garantir que cada caminho possível pelo programa atinja uma instrução return. Por exemplo:"
   ]
  },
  {
   "cell_type": "markdown",
   "metadata": {
    "id": "hC9gey7-Hwfq"
   },
   "source": [
    "Essa função é incorreta porque se x for 0, nenhuma condição é verdade, e a função termina sem chegar a uma instrução return. Se o fluxo de execução chegar ao fim de uma função, o valor de retorno é None, que não é o valor absoluto de 0:"
   ]
  },
  {
   "cell_type": "code",
   "execution_count": null,
   "metadata": {
    "id": "aBUb9oPoHLZ1"
   },
   "outputs": [],
   "source": [
    "def absolute_value(x):\n",
    "  if x < 0:\n",
    "    return -x\n",
    "  if x > 0:\n",
    "    return x"
   ]
  },
  {
   "cell_type": "markdown",
   "metadata": {
    "id": "vCgoUvk3HzMz"
   },
   "source": [
    "A propósito, o Python oferece uma função integrada chamada abs, que calcula valores absolutos.\n",
    "Como exercício, escreva uma função compare que receba dois valores, x e y, e retorne 1 se x > y, 0 se x == y e -1 se x < y."
   ]
  },
  {
   "cell_type": "code",
   "execution_count": null,
   "metadata": {
    "id": "6GSSggiDHjmO"
   },
   "outputs": [],
   "source": [
    "def comparaNumeros(x, y):\n",
    "  if x > y:\n",
    "    return 1\n",
    "  elif x == y:\n",
    "    return 0\n",
    "  elif x < y:\n",
    "    return -1"
   ]
  },
  {
   "cell_type": "code",
   "execution_count": null,
   "metadata": {
    "colab": {
     "base_uri": "https://localhost:8080/"
    },
    "id": "ve8HjxOVIJD7",
    "outputId": "db1eb0a6-2362-4bec-cf75-c6b7c1c54cd9"
   },
   "outputs": [
    {
     "data": {
      "text/plain": [
       "1"
      ]
     },
     "execution_count": 8,
     "metadata": {},
     "output_type": "execute_result"
    }
   ],
   "source": [
    "comparaNumeros(5,2) # OK"
   ]
  },
  {
   "cell_type": "code",
   "execution_count": null,
   "metadata": {
    "colab": {
     "base_uri": "https://localhost:8080/"
    },
    "id": "Tdn-XXfqILMs",
    "outputId": "1b2e06b3-1a4b-460d-c80d-90a0aaca534f"
   },
   "outputs": [
    {
     "data": {
      "text/plain": [
       "0"
      ]
     },
     "execution_count": 9,
     "metadata": {},
     "output_type": "execute_result"
    }
   ],
   "source": [
    "comparaNumeros(2,2) # OK"
   ]
  },
  {
   "cell_type": "code",
   "execution_count": null,
   "metadata": {
    "colab": {
     "base_uri": "https://localhost:8080/"
    },
    "id": "TzbEdBhDINXy",
    "outputId": "861eec05-6878-408e-bb7b-5af561f73fd6"
   },
   "outputs": [
    {
     "data": {
      "text/plain": [
       "-1"
      ]
     },
     "execution_count": 10,
     "metadata": {},
     "output_type": "execute_result"
    }
   ],
   "source": [
    "comparaNumeros(2,3) # OK"
   ]
  },
  {
   "cell_type": "markdown",
   "metadata": {
    "id": "Nq5MtXXvRLIk"
   },
   "source": [
    "<h2> 6.2 - Desenvolvimento incremental </h2>\n",
    "\n",
    "Conforme você escrever funções maiores, pode ser que passe mais tempo as depurando.\n",
    "Para lidar com programas cada vez mais complexos, você pode querer tentar usar um processo chamado de desenvolvimento incremental. A meta do desenvolvimento\n",
    "incremental é evitar longas sessões de depuração, acrescentando e testando pequenas partes do código de cada vez."
   ]
  },
  {
   "cell_type": "markdown",
   "metadata": {
    "id": "aI7wxRYUjjRR"
   },
   "source": [
    "Como um exemplo, vamos supor que você queira encontrar a distância entre dois pontos dados pelas coordenadas (x1, y1) e(x2, y2). Pelo teorema de Pitágoras, a distância é:\n",
    "\n",
    "![image.png](data:image/png;base64,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)"
   ]
  },
  {
   "cell_type": "code",
   "execution_count": null,
   "metadata": {
    "colab": {
     "base_uri": "https://localhost:8080/",
     "height": 72
    },
    "id": "UgNftzdzIQ-h",
    "outputId": "1936af11-1b9b-494b-85a7-da50de003e3f"
   },
   "outputs": [
    {
     "data": {
      "application/vnd.google.colaboratory.intrinsic+json": {
       "type": "string"
      },
      "text/plain": [
       "'\\nClaro que esta versão não calcula distâncias; sempre retorna zero. Mas está sintaticamente\\ncorreta, e pode ser executada, o que significa que você pode testá-la antes de torná-la mais\\ncomplicada.\\n'"
      ]
     },
     "execution_count": 11,
     "metadata": {},
     "output_type": "execute_result"
    }
   ],
   "source": [
    "def distance(x1, y1, x2, y2):\n",
    "  return 0.0\n",
    "\n",
    "'''\n",
    "Claro que esta versão não calcula distâncias; sempre retorna zero. Mas está sintaticamente\n",
    "correta, e pode ser executada, o que significa que você pode testá-la antes de torná-la mais\n",
    "complicada.\n",
    "'''"
   ]
  },
  {
   "cell_type": "code",
   "execution_count": null,
   "metadata": {
    "colab": {
     "base_uri": "https://localhost:8080/"
    },
    "id": "eATlV2uWjrSn",
    "outputId": "995c55dd-5f8e-4b8c-c2b2-837e760377dd"
   },
   "outputs": [
    {
     "data": {
      "text/plain": [
       "0.0"
      ]
     },
     "execution_count": 12,
     "metadata": {},
     "output_type": "execute_result"
    }
   ],
   "source": [
    "distance(1,2,4,6) # testando"
   ]
  },
  {
   "cell_type": "markdown",
   "metadata": {
    "id": "JaotHC8VkQ91"
   },
   "source": [
    "Escolhi esses valores para que a distância horizontal seja 3 e a distância vertical, 4; assim, o resultado final é 5, a hipotenusa de um triângulo 3-4-5. Ao testar uma função, é útil saber a resposta certa.\n",
    "Neste ponto confirmamos que a função está sintaticamente correta, e podemos começar a acrescentar código ao corpo. Um próximo passo razoável é encontrar as diferenças x2 − x1 e y2 − y1. A próxima versão guarda esses valores em variáveis temporárias e os exibe:"
   ]
  },
  {
   "cell_type": "code",
   "execution_count": null,
   "metadata": {
    "id": "j3p0pZp6j2kC"
   },
   "outputs": [],
   "source": [
    "def distance(x1, y1, x2, y2):\n",
    "  dx = x2 - x1\n",
    "  dy = y2 - y1\n",
    "\n",
    "  print('dx is', dx)\n",
    "  print('dy is', dy)\n",
    "\n",
    "  return 0.0"
   ]
  },
  {
   "cell_type": "code",
   "execution_count": null,
   "metadata": {
    "colab": {
     "base_uri": "https://localhost:8080/"
    },
    "id": "3Bkr24K3kY5x",
    "outputId": "7c0469d3-6862-4067-b093-cc52266407f5"
   },
   "outputs": [
    {
     "name": "stdout",
     "output_type": "stream",
     "text": [
      "dx is 3\n",
      "dy is 4\n"
     ]
    },
    {
     "data": {
      "text/plain": [
       "0.0"
      ]
     },
     "execution_count": 14,
     "metadata": {},
     "output_type": "execute_result"
    }
   ],
   "source": [
    "distance(1,2,4,6) # testando"
   ]
  },
  {
   "cell_type": "markdown",
   "metadata": {
    "id": "7rqhbB9rklqK"
   },
   "source": [
    "Se a função estiver funcionando, deve exibir dx is 3 e dy is 4. Nesse caso sabemos que a função está recebendo os argumentos corretos e executando o primeiro cálculo\n",
    "acertadamente. Se não, há poucas linhas para verificar.\n"
   ]
  },
  {
   "cell_type": "markdown",
   "metadata": {
    "id": "SzhhktbOkq6M"
   },
   "source": [
    "Depois calculamos a soma dos quadrados de dx e dy:"
   ]
  },
  {
   "cell_type": "code",
   "execution_count": null,
   "metadata": {
    "id": "ba5dIqx5kkYU"
   },
   "outputs": [],
   "source": [
    "def distance(x1, y1, x2, y2):\n",
    "  dx = x2 - x1\n",
    "  dy = y2 - y1\n",
    "  dsquared = dx**2 + dy**2\n",
    "\n",
    "  print('dsquared is: ', dsquared)\n",
    "\n",
    "  return 0.0"
   ]
  },
  {
   "cell_type": "code",
   "execution_count": null,
   "metadata": {
    "colab": {
     "base_uri": "https://localhost:8080/"
    },
    "id": "uRUtBVhrkuSx",
    "outputId": "326f8ac9-6317-4453-ffce-20ad4893f106"
   },
   "outputs": [
    {
     "name": "stdout",
     "output_type": "stream",
     "text": [
      "dsquared is:  25\n"
     ]
    },
    {
     "data": {
      "text/plain": [
       "0.0"
      ]
     },
     "execution_count": 16,
     "metadata": {},
     "output_type": "execute_result"
    }
   ],
   "source": [
    "distance(1,2,4,6) # testando"
   ]
  },
  {
   "cell_type": "markdown",
   "metadata": {
    "id": "dlEhR0z0k1SN"
   },
   "source": [
    "Nesta etapa você executaria o programa mais uma vez e verificaria a saída (que deve ser 25). Finalmente, pode usar math.sqrt para calcular e devolver o resultado:"
   ]
  },
  {
   "cell_type": "code",
   "execution_count": null,
   "metadata": {
    "id": "2YnLrgH5kwmG"
   },
   "outputs": [],
   "source": [
    "def distance(x1, y1, x2, y2):\n",
    "  dx = x2 - x1\n",
    "  dy = y2 - y1\n",
    "  dsquared = dx**2 + dy**2\n",
    "  result = math.sqrt(dsquared)\n",
    "\n",
    "  return result"
   ]
  },
  {
   "cell_type": "code",
   "execution_count": null,
   "metadata": {
    "colab": {
     "base_uri": "https://localhost:8080/"
    },
    "id": "XpwUDeSak37K",
    "outputId": "81e475b8-0b3c-4137-dd24-44207bd1f3de"
   },
   "outputs": [
    {
     "data": {
      "text/plain": [
       "5.0"
      ]
     },
     "execution_count": 18,
     "metadata": {},
     "output_type": "execute_result"
    }
   ],
   "source": [
    "distance(1,2,4,6) # teste final"
   ]
  },
  {
   "cell_type": "markdown",
   "metadata": {
    "id": "sZWjRm4gpLWA"
   },
   "source": [
    "**De qualquer forma, o desenvolvimento incremental pode economizar muito tempo de depuração.**"
   ]
  },
  {
   "cell_type": "markdown",
   "metadata": {
    "id": "9g006SjisKAj"
   },
   "source": [
    "Os principais aspectos do processo são:\n",
    "1. Comece com um programa que funcione e faça pequenas alterações incrementais. Se houver um erro em qualquer ponto, será bem mais fácil encontrá-lo.\n",
    "2. Use variáveis para guardar valores intermediários, assim poderá exibi-los e verificá-los.\n",
    "3. Uma vez que o programa esteja funcionando, você pode querer remover uma parte do scaffolding ou consolidar várias instruções em expressões compostas, mas apenas se isso não tornar o programa difícil de ler.\n"
   ]
  },
  {
   "cell_type": "markdown",
   "metadata": {
    "id": "JG7CelRqsSm2"
   },
   "source": [
    "Como exercício, use o desenvolvimento incremental para escrever uma função chamada hypotenuse, que devolva o comprimento da hipotenusa de um triângulo retângulo dados os comprimentos dos outros dois lados como argumentos. Registre cada etapa do processo de desenvolvimento no decorrer do processo."
   ]
  },
  {
   "cell_type": "markdown",
   "metadata": {
    "id": "WvXOxSMnsp3U"
   },
   "source": [
    "**DESENVOLVIMENTO INCREMENTAL: PASSO 1**\n",
    "\n",
    "Fazer o rascunho da função."
   ]
  },
  {
   "cell_type": "code",
   "execution_count": null,
   "metadata": {
    "id": "IRPgsMGfsYo2"
   },
   "outputs": [],
   "source": [
    "def hypotenuse(side_a, side_b):\n",
    "  return 0"
   ]
  },
  {
   "cell_type": "code",
   "execution_count": null,
   "metadata": {
    "colab": {
     "base_uri": "https://localhost:8080/"
    },
    "id": "54Gkj9Cpk7-v",
    "outputId": "4f33ed94-f1f5-4ea6-ecec-a8bc750027e0"
   },
   "outputs": [
    {
     "data": {
      "text/plain": [
       "0"
      ]
     },
     "execution_count": 20,
     "metadata": {},
     "output_type": "execute_result"
    }
   ],
   "source": [
    "hypotenuse(4, 5) # teste 1 OK"
   ]
  },
  {
   "cell_type": "markdown",
   "metadata": {
    "id": "wdSnufEKsz0F"
   },
   "source": [
    "**DESENVOLVIMENTO INCREMENTAL: PASSO 2**\n",
    "\n",
    "Calcular o quadrado do lado A e do lado B, respectivamente."
   ]
  },
  {
   "cell_type": "markdown",
   "metadata": {
    "id": "e4hvCyFKtJxU"
   },
   "source": [
    "Para calcular o comprimento da hipotenusa de um triângulo retângulo, você pode usar o Teorema de Pitágoras. O Teorema de Pitágoras afirma que, em um triângulo retângulo, o quadrado da hipotenusa (o lado oposto ao ângulo reto) é igual à soma dos quadrados dos outros dois lados.\n",
    "\n",
    "FÓRMULA: <p>\n",
    "![image.png](data:image/png;base64,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)"
   ]
  },
  {
   "cell_type": "code",
   "execution_count": null,
   "metadata": {
    "id": "Q8At2r4ksy42"
   },
   "outputs": [],
   "source": [
    "def hypotenuse(side_a, side_b):\n",
    "  square_side_a = side_a ** 2\n",
    "  square_side_b = side_b ** 2\n",
    "\n",
    "  print('square a: ', square_side_a)\n",
    "  print('square b: ', square_side_b)\n",
    "\n",
    "  return 0"
   ]
  },
  {
   "cell_type": "code",
   "execution_count": null,
   "metadata": {
    "colab": {
     "base_uri": "https://localhost:8080/"
    },
    "id": "fzuD5zKcuDrL",
    "outputId": "aa69565c-0b36-41c8-d5ee-84882d2d8992"
   },
   "outputs": [
    {
     "name": "stdout",
     "output_type": "stream",
     "text": [
      "square a:  16\n",
      "square b:  25\n"
     ]
    },
    {
     "data": {
      "text/plain": [
       "0"
      ]
     },
     "execution_count": 22,
     "metadata": {},
     "output_type": "execute_result"
    }
   ],
   "source": [
    "hypotenuse(4,5) # teste 2 OK"
   ]
  },
  {
   "cell_type": "markdown",
   "metadata": {
    "id": "B63yolXGuoKM"
   },
   "source": [
    "**DESENVOLVIMENTO INCREMENTAL: PASSO 3**\n",
    "\n",
    "Calcular a soma dos quadrados do lado A com o lado B."
   ]
  },
  {
   "cell_type": "code",
   "execution_count": null,
   "metadata": {
    "id": "otBClzA1uVLq"
   },
   "outputs": [],
   "source": [
    "def hypotenuse(side_a, side_b):\n",
    "  square_side_a = side_a ** 2\n",
    "  square_side_b = side_b ** 2\n",
    "  sum_square = square_side_a + square_side_b\n",
    "\n",
    "  print('square\\'s sum:' , sum_square)\n",
    "\n",
    "  return 0"
   ]
  },
  {
   "cell_type": "code",
   "execution_count": null,
   "metadata": {
    "colab": {
     "base_uri": "https://localhost:8080/"
    },
    "id": "0U7VNt2ju-IQ",
    "outputId": "e7e48053-77c9-4a2b-f280-8ecac8dd0ebf"
   },
   "outputs": [
    {
     "name": "stdout",
     "output_type": "stream",
     "text": [
      "square's sum: 41\n"
     ]
    },
    {
     "data": {
      "text/plain": [
       "0"
      ]
     },
     "execution_count": 24,
     "metadata": {},
     "output_type": "execute_result"
    }
   ],
   "source": [
    "hypotenuse(4,5) # teste 3 OK"
   ]
  },
  {
   "cell_type": "markdown",
   "metadata": {
    "id": "_EiGJ5IlvQVc"
   },
   "source": [
    "**DESENVOLVIMENTO INCREMENTAL: PASSO 4**\n",
    "\n",
    "Calcular a raiz quadrada da soma e retorna o resultado."
   ]
  },
  {
   "cell_type": "code",
   "execution_count": null,
   "metadata": {
    "id": "5hU6DZOyvAeC"
   },
   "outputs": [],
   "source": [
    "import math\n",
    "\n",
    "def hypotenuse(side_a, side_b):\n",
    "  square_side_a = side_a ** 2\n",
    "  square_side_b = side_b ** 2\n",
    "  sum_square = square_side_a + square_side_b\n",
    "  result = math.sqrt(sum_square)\n",
    "\n",
    "  return result"
   ]
  },
  {
   "cell_type": "code",
   "execution_count": null,
   "metadata": {
    "colab": {
     "base_uri": "https://localhost:8080/"
    },
    "id": "t9wbu2vtvnnR",
    "outputId": "7cd152dc-303b-44f6-c657-f1c6bf89dd93"
   },
   "outputs": [
    {
     "data": {
      "text/plain": [
       "6.4031242374328485"
      ]
     },
     "execution_count": 26,
     "metadata": {},
     "output_type": "execute_result"
    }
   ],
   "source": [
    "hypotenuse(4,5) # teste 4 OK"
   ]
  },
  {
   "cell_type": "markdown",
   "metadata": {
    "id": "AmsUCtmRvxVH"
   },
   "source": [
    "<h2> 6.3 - Composição </h2>"
   ]
  },
  {
   "cell_type": "markdown",
   "metadata": {
    "id": "jR8vJAhIvzzv"
   },
   "source": [
    "Como você já deveria esperar a essa altura, é possível chamar uma função de dentro de outra. Como exemplo, escreveremos uma função que recebe dois pontos, o centro do círculo e um ponto no perímetro, para calcular a área do círculo.\n",
    "Suponha que o ponto do centro seja guardado nas variáveis xc e yc e o ponto de perímetro está em xp e yp. O primeiro passo deve ser encontrar o raio do círculo, que é a distância entre os dois pontos. Acabamos de escrever uma função, distance, que faz isto:"
   ]
  },
  {
   "cell_type": "code",
   "execution_count": null,
   "metadata": {
    "id": "XkhwD0SCvsh1"
   },
   "outputs": [],
   "source": [
    "# radius = distance(xc, yc, xp, yp)"
   ]
  },
  {
   "cell_type": "markdown",
   "metadata": {
    "id": "WdSK6RsTx567"
   },
   "source": [
    "O próximo passo deve ser encontrar a área de um círculo com aquele raio; acabamos de escrever isso também:"
   ]
  },
  {
   "cell_type": "code",
   "execution_count": null,
   "metadata": {
    "id": "OvQmB43kx2Od"
   },
   "outputs": [],
   "source": [
    "# result = area(radius)"
   ]
  },
  {
   "cell_type": "markdown",
   "metadata": {
    "id": "s8-28ij7x9bN"
   },
   "source": [
    "Encapsulando esses passos em uma função, temos:"
   ]
  },
  {
   "cell_type": "code",
   "execution_count": null,
   "metadata": {
    "id": "yLJzwHGtx7wU"
   },
   "outputs": [],
   "source": [
    "def circle_area(xc, yc, xp, yp):\n",
    "  radius = distance(xc, yc, xp, yp) # distância entre dois pontos = raio de um círculo\n",
    "  result = area(radius)             # area de um círculo = pi * raio ** 2\n",
    "\n",
    "  return result"
   ]
  },
  {
   "cell_type": "markdown",
   "metadata": {
    "id": "QIsMprk6yHYb"
   },
   "source": [
    "As variáveis temporárias radius e result são úteis para desenvolvimento e depuração, e uma vez que o programa esteja funcionando podemos torná-lo mais conciso compondo chamadas de função:\n"
   ]
  },
  {
   "cell_type": "code",
   "execution_count": null,
   "metadata": {
    "id": "F67sjaV1yDfr"
   },
   "outputs": [],
   "source": [
    "def circle_area(xc, yc, xp, yp):\n",
    "  return area(distance(xc, yc, xp, yp))"
   ]
  },
  {
   "cell_type": "markdown",
   "metadata": {
    "id": "_uPqBWCZyoIk"
   },
   "source": [
    "<h2> 6.4 - Funções booleanas </h2>\n",
    "\n",
    "As funções podem retornar booleans, o que pode ser conveniente para esconder testes complicados dentro de funções. Por exemplo:\n"
   ]
  },
  {
   "cell_type": "code",
   "execution_count": null,
   "metadata": {
    "id": "nbFyKWlcyKne"
   },
   "outputs": [],
   "source": [
    "def is_divisible(x, y):\n",
    "  if x % y == 0:\n",
    "    return True\n",
    "  else:\n",
    "    return False"
   ]
  },
  {
   "cell_type": "markdown",
   "metadata": {
    "id": "JM715dF_B-ny"
   },
   "source": [
    "É comum dar nomes de funções booleanas que pareçam perguntas de sim ou não;\n",
    "is_divisible retorna True ou False para indicar se x é divisível por y."
   ]
  },
  {
   "cell_type": "code",
   "execution_count": null,
   "metadata": {
    "colab": {
     "base_uri": "https://localhost:8080/"
    },
    "id": "hY6_atKwByaq",
    "outputId": "bd94d59a-f80e-42e2-eb50-8587678df1b4"
   },
   "outputs": [
    {
     "data": {
      "text/plain": [
       "False"
      ]
     },
     "execution_count": 32,
     "metadata": {},
     "output_type": "execute_result"
    }
   ],
   "source": [
    "is_divisible(6, 4)"
   ]
  },
  {
   "cell_type": "markdown",
   "metadata": {
    "id": "JLKeF5bmCB4q"
   },
   "source": [
    "O resultado do operador == é um booleano, então podemos escrever a função de forma mais concisa, retornando-o diretamente:"
   ]
  },
  {
   "cell_type": "code",
   "execution_count": null,
   "metadata": {
    "id": "J74-oxC2B8tm"
   },
   "outputs": [],
   "source": [
    "def is_divisible(x, y):\n",
    "  return x % y == 0"
   ]
  },
  {
   "cell_type": "markdown",
   "metadata": {
    "id": "cSS5V4AmCGRf"
   },
   "source": [
    "As funções booleanas muitas vezes são usadas em instruções condicionais:\n",
    "\n",
    "\n",
    "\n",
    "```\n",
    "if is_divisible(x, y):\n",
    "  print('x is divisible by y')\n",
    "```\n",
    "\n",
    "Pode ser tentador escrever algo assim:\n",
    "\n",
    "```\n",
    "if is_divisible(x, y) == True:\n",
    "  print('x is divisible by y')\n",
    "```\n",
    "\n",
    "Mas a comparação extra é **desnecessária**."
   ]
  },
  {
   "cell_type": "markdown",
   "metadata": {
    "id": "XeAMfProCb0Y"
   },
   "source": [
    "Como um exercício, escreva uma função is_between(x, y, z) que retorne True, se x ≤ y ≤ z, ou False, se não for o caso."
   ]
  },
  {
   "cell_type": "code",
   "execution_count": null,
   "metadata": {
    "id": "dunEEedSCKwn"
   },
   "outputs": [],
   "source": [
    "def is_between(x, y, z):\n",
    "  if x <= y and y <= z:\n",
    "    return True\n",
    "  else:\n",
    "    return False"
   ]
  },
  {
   "cell_type": "code",
   "execution_count": null,
   "metadata": {
    "colab": {
     "base_uri": "https://localhost:8080/"
    },
    "id": "lvH5pnt0C0dj",
    "outputId": "006d0a7e-166d-47e1-a0fa-86d88e9c4fe4"
   },
   "outputs": [
    {
     "data": {
      "text/plain": [
       "True"
      ]
     },
     "execution_count": 35,
     "metadata": {},
     "output_type": "execute_result"
    }
   ],
   "source": [
    "is_between(1, 2, 3)"
   ]
  },
  {
   "cell_type": "markdown",
   "metadata": {
    "id": "2YIMkz5rDGwP"
   },
   "source": [
    "Melhorada:"
   ]
  },
  {
   "cell_type": "code",
   "execution_count": null,
   "metadata": {
    "id": "hHjh4tbnC5Wo"
   },
   "outputs": [],
   "source": [
    "def is_between(x, y, z):\n",
    "  return x <= y and y <= z"
   ]
  },
  {
   "cell_type": "code",
   "execution_count": null,
   "metadata": {
    "colab": {
     "base_uri": "https://localhost:8080/"
    },
    "id": "B20CV6xXDHz-",
    "outputId": "7ae9bdd5-a1b4-4278-d560-46e78f856c67"
   },
   "outputs": [
    {
     "data": {
      "text/plain": [
       "True"
      ]
     },
     "execution_count": 37,
     "metadata": {},
     "output_type": "execute_result"
    }
   ],
   "source": [
    "is_between(1, 2, 3)"
   ]
  },
  {
   "cell_type": "code",
   "execution_count": null,
   "metadata": {
    "colab": {
     "base_uri": "https://localhost:8080/"
    },
    "id": "RbZiLrtiDI4U",
    "outputId": "c2d98dc4-f361-48b3-9faf-5d30a4a534aa"
   },
   "outputs": [
    {
     "data": {
      "text/plain": [
       "False"
      ]
     },
     "execution_count": 38,
     "metadata": {},
     "output_type": "execute_result"
    }
   ],
   "source": [
    "is_between(3, 2, 1)"
   ]
  },
  {
   "cell_type": "markdown",
   "metadata": {
    "id": "TaMPZ1OGDkoM"
   },
   "source": [
    "<h2> 6.5 - Mais recursividade </h2>"
   ]
  },
  {
   "cell_type": "markdown",
   "metadata": {
    "id": "u9mOvTTLJ4i5"
   },
   "source": [
    "\n",
    "\n",
    "```\n",
    "0! = 1\n",
    "n! = n·(n − 1)!\n",
    "```\n",
    "\n"
   ]
  },
  {
   "cell_type": "markdown",
   "metadata": {
    "id": "VY1lENWwJ7DN"
   },
   "source": [
    "Esta definição diz que o fatorial de 0 é 1, e o fatorial de qualquer outro valor, n, é n multiplicado pelo fatorial de n-1.\n",
    "Então 3! é 3 vezes 2!, que é 2 vezes 1!, que é 1 vez 0!. Juntando tudo, 3! é igual a 3 vezes 2 vezes 1 vezes 1, que é 6.\n",
    "Se puder escrever uma definição recursiva de algo, você poderá escrever um programa em Python que a avalie. O primeiro passo deve ser decidir quais parâmetros ela deve ter.\n",
    "Neste caso, deve estar claro que factorial recebe um número inteiro:"
   ]
  },
  {
   "cell_type": "markdown",
   "metadata": {
    "id": "xHrbrDj4KBc8"
   },
   "source": [
    "\n",
    "\n",
    "```\n",
    "def fatorial(n):\n",
    "```\n",
    "\n"
   ]
  },
  {
   "cell_type": "markdown",
   "metadata": {
    "id": "GyZCeOF5KDcM"
   },
   "source": [
    "Se o argumento for 0, tudo que temos de fazer é retornar 1:"
   ]
  },
  {
   "cell_type": "code",
   "execution_count": null,
   "metadata": {
    "id": "J2osERm7DLDm"
   },
   "outputs": [],
   "source": [
    "def factorial(n):\n",
    "  if n == 0:\n",
    "    return 1"
   ]
  },
  {
   "cell_type": "markdown",
   "metadata": {
    "id": "5L13e1YFKPh_"
   },
   "source": [
    "Senão, e aí é que fica interessante, temos que fazer uma chamada recursiva para encontrar o fatorial de n-1 e então multiplicá-lo por n:"
   ]
  },
  {
   "cell_type": "code",
   "execution_count": null,
   "metadata": {
    "id": "XeG4DVVnKGd5"
   },
   "outputs": [],
   "source": [
    "def factorial(n):\n",
    "  if n == 0:                  # se for 0, vai retornar o valor de 1\n",
    "    return 1\n",
    "  else:\n",
    "    recurse = factorial(n-1)  # se não, pega o valor de n e subtrai 1\n",
    "    result = n * recurse      # e multiplica 'n - 1' pelo valor original de 'n'\n",
    "\n",
    "    return result             # retornando o resultado"
   ]
  },
  {
   "cell_type": "code",
   "execution_count": null,
   "metadata": {
    "colab": {
     "base_uri": "https://localhost:8080/",
     "height": 218
    },
    "id": "Bstl3lB1KU-Y",
    "outputId": "bf261fd9-a372-4e4f-fece-1b17fd6d0ee2"
   },
   "outputs": [
    {
     "data": {
      "application/vnd.google.colaboratory.intrinsic+json": {
       "type": "string"
      },
      "text/plain": [
       "'\\n1º chamada (original): factorial(3) é chamado.\\n - 3 (n) não é 0, então executa factorial(2)\\n   enquanto isso, a execução de factorial(3) é suspensa até factorial(2) retornar com algum valor\\n\\n1º chamada de recursividade:\\nfactorial(2) é chamada:\\n  - 2 (n) não é 0, então executa factorial(1)\\n  - e a factorial(2) é suspensa até factorial(1) retornar com algum valor\\n\\n2º chamada de recursividade:\\nfactorial(1) é chamada:\\n  - 1 (n) não é 0, então executa factorial(0).\\n  - e a factorial(1) é suspensa até factorial(0) retornar com algum valor\\n\\ncomo chegou em 0, entra no caso-base:\\nfactorial(0) é chamada\\n  - 0 (n) é 0, então retorna 1\\n  - e a execução de factorial(0) é concluída e retorna o valor de 1\\n\\nApós isso, ele vai retornando as execuções de recursividade (de maneira crescente) que ficaram paradas alguardando retorno:\\nfactorial(1) retoma a execução:\\n  - recurse é 1 (o valor retornado por factorial(0)), então 1 * 1 = 1, que será nosso (result) valor retornado pela função\\n  - a execução de factorial(1) é concluída e retorna 1.\\n\\nretorna a primeira chamada recursiva (2):\\nfactorial(2) retoma a execução\\n - recurse é 1 (o valor retornado por factorial(1)), então 2 * 1 = 2, que será nosso (result) valor retornado pela função\\n - a execução de factorial(2) é concluída e retorna 2\\n\\nretorna a a chamada oficial (3):\\nfactorial(3) retoma a execução\\n- recurse é 2 (o valor retornado por factorial(2), então 3 * 2 = 6, que será nosso (result) valor retornado pela função\\n- a execução de factorial(3) é concluída e retorna 6\\n'"
      ]
     },
     "execution_count": 41,
     "metadata": {},
     "output_type": "execute_result"
    }
   ],
   "source": [
    "factorial(3)\n",
    "\n",
    "'''\n",
    "1º chamada (original): factorial(3) é chamado.\n",
    " - 3 (n) não é 0, então executa factorial(2)\n",
    "   enquanto isso, a execução de factorial(3) é suspensa até factorial(2) retornar com algum valor\n",
    "\n",
    "1º chamada de recursividade:\n",
    "factorial(2) é chamada:\n",
    "  - 2 (n) não é 0, então executa factorial(1)\n",
    "  - e a factorial(2) é suspensa até factorial(1) retornar com algum valor\n",
    "\n",
    "2º chamada de recursividade:\n",
    "factorial(1) é chamada:\n",
    "  - 1 (n) não é 0, então executa factorial(0).\n",
    "  - e a factorial(1) é suspensa até factorial(0) retornar com algum valor\n",
    "\n",
    "como chegou em 0, entra no caso-base:\n",
    "factorial(0) é chamada\n",
    "  - 0 (n) é 0, então retorna 1\n",
    "  - e a execução de factorial(0) é concluída e retorna o valor de 1\n",
    "\n",
    "Após isso, ele vai retornando as execuções de recursividade (de maneira crescente) que ficaram paradas alguardando retorno:\n",
    "factorial(1) retoma a execução:\n",
    "  - recurse é 1 (o valor retornado por factorial(0)), então 1 * 1 = 1, que será nosso (result) valor retornado pela função\n",
    "  - a execução de factorial(1) é concluída e retorna 1.\n",
    "\n",
    "retorna a primeira chamada recursiva (2):\n",
    "factorial(2) retoma a execução\n",
    " - recurse é 1 (o valor retornado por factorial(1)), então 2 * 1 = 2, que será nosso (result) valor retornado pela função\n",
    " - a execução de factorial(2) é concluída e retorna 2\n",
    "\n",
    "retorna a a chamada oficial (3):\n",
    "factorial(3) retoma a execução\n",
    "- recurse é 2 (o valor retornado por factorial(2), então 3 * 2 = 6, que será nosso (result) valor retornado pela função\n",
    "- a execução de factorial(3) é concluída e retorna 6\n",
    "'''"
   ]
  },
  {
   "cell_type": "markdown",
   "metadata": {
    "id": "r--WLJ6rYR-x"
   },
   "source": [
    "**A recursão volta porque cada chamada recursiva precisa de um valor retornado pela próxima chamada para continuar sua execução. Quando a recursão atinge o caso base e começa a retornar valores, cada função anterior retoma sua execução com o valor retornado, completa seu próprio cálculo e retorna o valor ao chamador anterior, até que a chamada original também seja concluída.**"
   ]
  },
  {
   "cell_type": "markdown",
   "metadata": {
    "id": "pyow6JDqYbyE"
   },
   "source": [
    "![image.png](data:image/png;base64,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)"
   ]
  },
  {
   "cell_type": "markdown",
   "metadata": {
    "id": "pH5OBA_WYqFv"
   },
   "source": [
    "No último frame, as variáveis locais recurse e result não existem, porque o ramo que os cria não é executado.\n"
   ]
  },
  {
   "cell_type": "markdown",
   "metadata": {
    "id": "Z-Ydle8fYsbX"
   },
   "source": [
    "<h2> 6.6 - Salto de fé </h2>\n",
    "\n",
    "Seguir o fluxo da execução é uma forma de ler programas, mas poderá ser trabalhoso demais. Uma alternativa é o que chamo de “salto de fé” (leap of faith). Ao chegar a uma chamada de função, em vez de seguir o fluxo de execução suponha que a função esteja funcionando corretamente e que está retornando o resultado certo.\n"
   ]
  },
  {
   "cell_type": "markdown",
   "metadata": {
    "id": "qNmIq1v5GjoG"
   },
   "source": [
    "Uma vez que estejamos convencidos de que esta função\n",
    "está correta – examinando o código e testando – podemos usar a função sem ver o corpo novamente.\n",
    "O mesmo é verdade para programas recursivos. Quando chega à chamada recursiva, em vez de seguir o fluxo de execução, você deveria supor que a chamada recursiva funcione (devolva o resultado correto) e então perguntar-se: “Supondo que eu possa encontrar o fatorial de n-1, posso calcular o fatorial de n?”. É claro que pode, multiplicando por n. Naturalmente, é um pouco estranho supor que a função funcione corretamente quando ainda não terminou de escrevê-la, mas é por isso que se chama um **salto de fé!**\n"
   ]
  },
  {
   "cell_type": "markdown",
   "metadata": {
    "id": "RcVSWakGGt1H"
   },
   "source": [
    "<h2> 6.7 - Mais um exemplo </h2>\n",
    "\n",
    "Depois do factorial, o exemplo mais comum de uma função matemática definida\n",
    "recursivamente é fibonacci.\n",
    "\n",
    "\n",
    "\n",
    "```\n",
    "fibonacci(0) = 0\n",
    "fibonacci(1) = 1\n",
    "fibonacci(n) = fibonacci(n − 1) + fibonacci(n − 2)\n",
    "```\n",
    "\n"
   ]
  },
  {
   "cell_type": "code",
   "execution_count": null,
   "metadata": {
    "id": "J9bMvBtfGjDN"
   },
   "outputs": [],
   "source": [
    "def fibonacci (n):\n",
    "  if n == 0:\n",
    "    return 0\n",
    "  elif n == 1:\n",
    "    return 1\n",
    "  else:\n",
    "    return fibonacci(n-1) + fibonacci(n-2)"
   ]
  },
  {
   "cell_type": "code",
   "execution_count": null,
   "metadata": {
    "colab": {
     "base_uri": "https://localhost:8080/"
    },
    "id": "W6a7f7imKupt",
    "outputId": "b69766f9-7ad4-46a5-b8d7-27afb6e32267"
   },
   "outputs": [
    {
     "data": {
      "text/plain": [
       "5"
      ]
     },
     "execution_count": 43,
     "metadata": {},
     "output_type": "execute_result"
    }
   ],
   "source": [
    "fibonacci(5)"
   ]
  },
  {
   "cell_type": "markdown",
   "metadata": {
    "id": "uCb6trm-M4u1"
   },
   "source": [
    "**Se tentar seguir o fluxo de execução aqui, até para valores razoavelmente pequenos de n, sua cabeça explode.**"
   ]
  },
  {
   "cell_type": "code",
   "execution_count": null,
   "metadata": {
    "colab": {
     "base_uri": "https://localhost:8080/",
     "height": 218
    },
    "id": "aTLcwH9-H9Ju",
    "outputId": "fd8672bc-b1ce-4d91-db32-658e977188e1"
   },
   "outputs": [
    {
     "data": {
      "application/vnd.google.colaboratory.intrinsic+json": {
       "type": "string"
      },
      "text/plain": [
       "'\\n1º chamada (original): fibonacci(5) é chamada.\\n - 5 (n) não é 0 ou 1, então entra no \"else\" e executa fibonacci(5-1 = 4) + fibonacci(5-2 = 3)\\n   enquanto isso, a execução de fibonacci(5) é suspensa até fibonacci(4) + fibonacci(3) retornarem com algum valor\\n\\n\\n|            PARTE 1            | RECURSIVIDADE DE FIBONACCI(4)\\n\\n1º chamada recursiva, fibonacci(4):\\n  n = 4 não entra no caso-base de 0 ou 1, então executa  fibonacci(4-1 = 3) + fibonacci(4-2 = 2)\\n  enquanto isso, a execução de fibonacci(4) é suspensa até fibonacci(3) + fibonacci(2) retornarem com algum valor\\n  e fibonacci(2) é suspensa, até fibonacci(3) finalizar e retornar com algum valor\\n\\n2º chamada recursiva, fibonacci(3):\\n   n = 3 não entra no caso-base de 0 ou 1, então executa  fibonacci(3-1 = 2) + fibonacci(3-2 = 1):\\n   enquanto isso, a execução de fibonacci(3) é suspensa até fibonacci(2) + fibonacci(1) retornarem com algum valor\\n   e fibonacci(1) é suspensa, até fibonacci(2) finalizar e retornar com algum valor\\n\\n3º chamada recursiva, fibonacci(2):\\n   n = 2 não entra no caso-base de 0 ou 1, então executa  fibonacci(2-1 = 1) + fibonacci(2-2 = 0):\\n\\n4º chamada recursiva, fibonacci(1):\\n  fibonacci(1) + fibonacci(0)\\n  entra no caso-base de 1, então finaliza e retorna 1\\n  fibonacci(0) entra no caso-base de 0, então finaliza e retorna 0\\n\\nfibonacci(1) = fibonacci(1) + fibonacci(0) = 1 + 0 = 1\\n\\n\\n|            PARTE 2            | RECURSIVIDADE DE FIBONACCI(3)\\n1º chamada da 2º função de recursividade: fibonacci(3)\\n  n = 3 não entra no caso-base de 0 ou 1, então executa  fibonacci(3-1 = 2) + fibonacci(3-2 = 1):\\n  enquanto isso, a execução de fibonacci(3) é suspensa até fibonacci(2) + fibonacci(1) retornarem com algum valor\\n  e fibonacci(1) é suspensa, até fibonacci(2) finalizar e retornar com algum valor\\n\\n2º chamada recursiva, fibonacci(2):\\n  n = 2 não entra no caso-base de 0 ou 1, então executa  fibonacci(2-1 = 1) + fibonacci(2-2 = 0)\\n  enquanto isso, a execução de fibonacci(2) é suspensa até fibonacci(1) + fibonacci(0) retornarem com algum valor\\n\\n3º chamada recursiva, fibonacci(1):\\n  n = 1,  entra no caso-base de 1, então finaliza e retorna 1\\n\\n4º chamada recursiva, fibonacci(0):\\n  n = 0,  entra no caso-base de 0, então finaliza e retorna 0\\n\\n------------------------------------------------------------------------------------\\n\\n| RESOLUÇÃO PARTE 1 |\\n\\nF(0) = | 0 |\\n\\nF(1) = | 1 |\\n\\nF(2) = F(1) + F(0)\\nF(2) = 0 + 1\\nF(2) = | 1 |\\n\\nF(3) = F(2) + F(1)\\nF(3) = 1 + 1\\nF(3) = | 2 |\\n\\nF(4) = F(3) + F(2)\\nF(4) = 2 + 1\\nF(4) = | 3 |\\n\\n\\n| RESOLUÇÃO PARTE 2 |\\nF(0) = | 0 |\\n\\nF(1) = | 1 |\\n\\nF(2) = F(1) + F(0)\\nF(2) = 0 + 1\\nF(2) = | 1 |\\n\\nF(3) = F(2) + F(1)\\nF(3) = 1 + 1\\nF(3) = | 2 |\\n\\n| RESOLUÇÃO FINAL |\\n\\nF(0) = | 0 |\\n\\nF(1) = | 1 |\\n\\nF(2) = F(1) + F(0)\\nF(2) = 0 + 1\\nF(2) = | 1 |\\n\\nF(3) = F(2) + F(1)\\nF(3) = 1 + 1\\nF(3) = | 2 |\\n\\nF(4) = F(3) + F(2)\\nF(4) = 2 + 1\\nF(4) = | 3 |\\n\\nF(5) = F(4) + F(3)\\nF(5) = 3 + 2\\nF(5) = | 5 |\\n'"
      ]
     },
     "execution_count": 44,
     "metadata": {},
     "output_type": "execute_result"
    }
   ],
   "source": [
    "'''\n",
    "1º chamada (original): fibonacci(5) é chamada.\n",
    " - 5 (n) não é 0 ou 1, então entra no \"else\" e executa fibonacci(5-1 = 4) + fibonacci(5-2 = 3)\n",
    "   enquanto isso, a execução de fibonacci(5) é suspensa até fibonacci(4) + fibonacci(3) retornarem com algum valor\n",
    "\n",
    "\n",
    "|            PARTE 1            | RECURSIVIDADE DE FIBONACCI(4)\n",
    "\n",
    "1º chamada recursiva, fibonacci(4):\n",
    "  n = 4 não entra no caso-base de 0 ou 1, então executa  fibonacci(4-1 = 3) + fibonacci(4-2 = 2)\n",
    "  enquanto isso, a execução de fibonacci(4) é suspensa até fibonacci(3) + fibonacci(2) retornarem com algum valor\n",
    "  e fibonacci(2) é suspensa, até fibonacci(3) finalizar e retornar com algum valor\n",
    "\n",
    "2º chamada recursiva, fibonacci(3):\n",
    "   n = 3 não entra no caso-base de 0 ou 1, então executa  fibonacci(3-1 = 2) + fibonacci(3-2 = 1):\n",
    "   enquanto isso, a execução de fibonacci(3) é suspensa até fibonacci(2) + fibonacci(1) retornarem com algum valor\n",
    "   e fibonacci(1) é suspensa, até fibonacci(2) finalizar e retornar com algum valor\n",
    "\n",
    "3º chamada recursiva, fibonacci(2):\n",
    "   n = 2 não entra no caso-base de 0 ou 1, então executa  fibonacci(2-1 = 1) + fibonacci(2-2 = 0):\n",
    "\n",
    "4º chamada recursiva, fibonacci(1):\n",
    "  fibonacci(1) + fibonacci(0)\n",
    "  entra no caso-base de 1, então finaliza e retorna 1\n",
    "  fibonacci(0) entra no caso-base de 0, então finaliza e retorna 0\n",
    "\n",
    "fibonacci(1) = fibonacci(1) + fibonacci(0) = 1 + 0 = 1\n",
    "\n",
    "\n",
    "|            PARTE 2            | RECURSIVIDADE DE FIBONACCI(3)\n",
    "1º chamada da 2º função de recursividade: fibonacci(3)\n",
    "  n = 3 não entra no caso-base de 0 ou 1, então executa  fibonacci(3-1 = 2) + fibonacci(3-2 = 1):\n",
    "  enquanto isso, a execução de fibonacci(3) é suspensa até fibonacci(2) + fibonacci(1) retornarem com algum valor\n",
    "  e fibonacci(1) é suspensa, até fibonacci(2) finalizar e retornar com algum valor\n",
    "\n",
    "2º chamada recursiva, fibonacci(2):\n",
    "  n = 2 não entra no caso-base de 0 ou 1, então executa  fibonacci(2-1 = 1) + fibonacci(2-2 = 0)\n",
    "  enquanto isso, a execução de fibonacci(2) é suspensa até fibonacci(1) + fibonacci(0) retornarem com algum valor\n",
    "\n",
    "3º chamada recursiva, fibonacci(1):\n",
    "  n = 1,  entra no caso-base de 1, então finaliza e retorna 1\n",
    "\n",
    "4º chamada recursiva, fibonacci(0):\n",
    "  n = 0,  entra no caso-base de 0, então finaliza e retorna 0\n",
    "\n",
    "------------------------------------------------------------------------------------\n",
    "\n",
    "| RESOLUÇÃO PARTE 1 |\n",
    "\n",
    "F(0) = | 0 |\n",
    "\n",
    "F(1) = | 1 |\n",
    "\n",
    "F(2) = F(1) + F(0)\n",
    "F(2) = 0 + 1\n",
    "F(2) = | 1 |\n",
    "\n",
    "F(3) = F(2) + F(1)\n",
    "F(3) = 1 + 1\n",
    "F(3) = | 2 |\n",
    "\n",
    "F(4) = F(3) + F(2)\n",
    "F(4) = 2 + 1\n",
    "F(4) = | 3 |\n",
    "\n",
    "\n",
    "| RESOLUÇÃO PARTE 2 |\n",
    "F(0) = | 0 |\n",
    "\n",
    "F(1) = | 1 |\n",
    "\n",
    "F(2) = F(1) + F(0)\n",
    "F(2) = 0 + 1\n",
    "F(2) = | 1 |\n",
    "\n",
    "F(3) = F(2) + F(1)\n",
    "F(3) = 1 + 1\n",
    "F(3) = | 2 |\n",
    "\n",
    "| RESOLUÇÃO FINAL |\n",
    "\n",
    "F(0) = | 0 |\n",
    "\n",
    "F(1) = | 1 |\n",
    "\n",
    "F(2) = F(1) + F(0)\n",
    "F(2) = 0 + 1\n",
    "F(2) = | 1 |\n",
    "\n",
    "F(3) = F(2) + F(1)\n",
    "F(3) = 1 + 1\n",
    "F(3) = | 2 |\n",
    "\n",
    "F(4) = F(3) + F(2)\n",
    "F(4) = 2 + 1\n",
    "F(4) = | 3 |\n",
    "\n",
    "F(5) = F(4) + F(3)\n",
    "F(5) = 3 + 2\n",
    "F(5) = | 5 |\n",
    "'''"
   ]
  },
  {
   "cell_type": "markdown",
   "metadata": {
    "id": "WKOBu45eNWsp"
   },
   "source": [
    "<h2> 6.8 - Verificação de tipos </h2>"
   ]
  },
  {
   "cell_type": "markdown",
   "metadata": {
    "id": "aihvSiN_ckAh"
   },
   "source": [
    "O que acontece se chamarmos factorial e usarmos 1.5 como argumento?"
   ]
  },
  {
   "cell_type": "code",
   "execution_count": null,
   "metadata": {
    "colab": {
     "base_uri": "https://localhost:8080/",
     "height": 372
    },
    "id": "cFPoiz3wNZhl",
    "outputId": "424b0cb1-07cb-4e56-bb60-5e1e11477beb"
   },
   "outputs": [
    {
     "ename": "RecursionError",
     "evalue": "maximum recursion depth exceeded in comparison",
     "output_type": "error",
     "traceback": [
      "\u001b[0;31m---------------------------------------------------------------------------\u001b[0m",
      "\u001b[0;31mRecursionError\u001b[0m                            Traceback (most recent call last)",
      "\u001b[0;32m<ipython-input-45-b4692dc20703>\u001b[0m in \u001b[0;36m<cell line: 1>\u001b[0;34m()\u001b[0m\n\u001b[0;32m----> 1\u001b[0;31m \u001b[0mfactorial\u001b[0m\u001b[0;34m(\u001b[0m\u001b[0;36m1.5\u001b[0m\u001b[0;34m)\u001b[0m\u001b[0;34m\u001b[0m\u001b[0;34m\u001b[0m\u001b[0m\n\u001b[0m\u001b[1;32m      2\u001b[0m \u001b[0;34m\u001b[0m\u001b[0m\n\u001b[1;32m      3\u001b[0m \u001b[0;31m#RuntimeError: Maximum recursion depth exceeded\u001b[0m\u001b[0;34m\u001b[0m\u001b[0;34m\u001b[0m\u001b[0m\n",
      "\u001b[0;32m<ipython-input-40-c48f8c174fcd>\u001b[0m in \u001b[0;36mfactorial\u001b[0;34m(n)\u001b[0m\n\u001b[1;32m      3\u001b[0m     \u001b[0;32mreturn\u001b[0m \u001b[0;36m1\u001b[0m\u001b[0;34m\u001b[0m\u001b[0;34m\u001b[0m\u001b[0m\n\u001b[1;32m      4\u001b[0m   \u001b[0;32melse\u001b[0m\u001b[0;34m:\u001b[0m\u001b[0;34m\u001b[0m\u001b[0;34m\u001b[0m\u001b[0m\n\u001b[0;32m----> 5\u001b[0;31m     \u001b[0mrecurse\u001b[0m \u001b[0;34m=\u001b[0m \u001b[0mfactorial\u001b[0m\u001b[0;34m(\u001b[0m\u001b[0mn\u001b[0m\u001b[0;34m-\u001b[0m\u001b[0;36m1\u001b[0m\u001b[0;34m)\u001b[0m  \u001b[0;31m# se não, pega o valor de n e subtrai 1\u001b[0m\u001b[0;34m\u001b[0m\u001b[0;34m\u001b[0m\u001b[0m\n\u001b[0m\u001b[1;32m      6\u001b[0m     \u001b[0mresult\u001b[0m \u001b[0;34m=\u001b[0m \u001b[0mn\u001b[0m \u001b[0;34m*\u001b[0m \u001b[0mrecurse\u001b[0m      \u001b[0;31m# e multiplica 'n - 1' pelo valor original de 'n'\u001b[0m\u001b[0;34m\u001b[0m\u001b[0;34m\u001b[0m\u001b[0m\n\u001b[1;32m      7\u001b[0m \u001b[0;34m\u001b[0m\u001b[0m\n",
      "... last 1 frames repeated, from the frame below ...\n",
      "\u001b[0;32m<ipython-input-40-c48f8c174fcd>\u001b[0m in \u001b[0;36mfactorial\u001b[0;34m(n)\u001b[0m\n\u001b[1;32m      3\u001b[0m     \u001b[0;32mreturn\u001b[0m \u001b[0;36m1\u001b[0m\u001b[0;34m\u001b[0m\u001b[0;34m\u001b[0m\u001b[0m\n\u001b[1;32m      4\u001b[0m   \u001b[0;32melse\u001b[0m\u001b[0;34m:\u001b[0m\u001b[0;34m\u001b[0m\u001b[0;34m\u001b[0m\u001b[0m\n\u001b[0;32m----> 5\u001b[0;31m     \u001b[0mrecurse\u001b[0m \u001b[0;34m=\u001b[0m \u001b[0mfactorial\u001b[0m\u001b[0;34m(\u001b[0m\u001b[0mn\u001b[0m\u001b[0;34m-\u001b[0m\u001b[0;36m1\u001b[0m\u001b[0;34m)\u001b[0m  \u001b[0;31m# se não, pega o valor de n e subtrai 1\u001b[0m\u001b[0;34m\u001b[0m\u001b[0;34m\u001b[0m\u001b[0m\n\u001b[0m\u001b[1;32m      6\u001b[0m     \u001b[0mresult\u001b[0m \u001b[0;34m=\u001b[0m \u001b[0mn\u001b[0m \u001b[0;34m*\u001b[0m \u001b[0mrecurse\u001b[0m      \u001b[0;31m# e multiplica 'n - 1' pelo valor original de 'n'\u001b[0m\u001b[0;34m\u001b[0m\u001b[0;34m\u001b[0m\u001b[0m\n\u001b[1;32m      7\u001b[0m \u001b[0;34m\u001b[0m\u001b[0m\n",
      "\u001b[0;31mRecursionError\u001b[0m: maximum recursion depth exceeded in comparison"
     ]
    }
   ],
   "source": [
    "factorial(1.5)\n",
    "\n",
    "#RuntimeError: Maximum recursion depth exceeded"
   ]
  },
  {
   "cell_type": "markdown",
   "metadata": {
    "id": "8XR8YBppcr0-"
   },
   "source": [
    "Parece uma recursividade infinita. No entanto, por que isso acontece? A função tem um caso-base – quando n == 0. Mas se n não é um número inteiro, podemos perder o caso-base e recorrer para sempre.\n",
    "Na primeira chamada recursiva, o valor de n é 0.5. No seguinte, é -0.5. Daí, torna-se menor (mais negativo), mas nunca será 0.\n",
    "\n",
    "Temos duas escolhas. Podemos tentar generalizar a função factorial para trabalhar com números de ponto flutuante, ou podemos fazer factorial controlar o tipo de argumento que recebe."
   ]
  },
  {
   "cell_type": "markdown",
   "metadata": {
    "id": "JcrwJF7AdRQC"
   },
   "source": [
    "A primeira opção chama-se função gamma e está um pouco além do alcance deste\n",
    "livro. Então usaremos a segunda opção."
   ]
  },
  {
   "cell_type": "markdown",
   "metadata": {
    "id": "glQBrXR1dV7k"
   },
   "source": [
    "Podemos usar a função integrada isinstance para verificar o tipo de argumento. E vamos aproveitar para verificar também se o argumento é positivo:"
   ]
  },
  {
   "cell_type": "code",
   "execution_count": null,
   "metadata": {
    "id": "YdUVrY8scpOq"
   },
   "outputs": [],
   "source": [
    "def factorial (n):\n",
    "  if not isinstance(n, int):\n",
    "    print('Factorial is only defined for integers.')\n",
    "    return None\n",
    "  elif n < 0:\n",
    "    print('Factorial is not defined for negative integers.')\n",
    "    return None\n",
    "  elif n == 0:\n",
    "    return 1\n",
    "  else:\n",
    "    return n * factorial(n-1)"
   ]
  },
  {
   "cell_type": "markdown",
   "metadata": {
    "id": "j_lwSRqhe2fY"
   },
   "source": [
    "A função isinstance em Python é usada para verificar se um objeto é de um determinado tipo ou classe. Ela retorna True se o objeto for do tipo especificado e False caso contrário."
   ]
  },
  {
   "cell_type": "markdown",
   "metadata": {
    "id": "SPWrbXyQdoKs"
   },
   "source": [
    "O primeiro caso-base lida com números não inteiros; o segundo, com números inteiros negativos. Em ambos os casos o programa exibe uma mensagem de erro e retorna **None** para indicar que algo deu errado:\n"
   ]
  },
  {
   "cell_type": "markdown",
   "metadata": {
    "id": "ZNIC4cFme5uF"
   },
   "source": [
    "**isinstance(dado, tipo_de_dado):** A função isinstance é usada para verificar se um objeto é de um determinado tipo ou classe. Ela retorna True se o objeto for do tipo especificado e False caso contrário.\n",
    "\n",
    "**Exemplo:**\n",
    "```\n",
    "x = 10\n",
    "print(isinstance(x, int))  # True, porque x é um inteiro (int)\n",
    "```"
   ]
  },
  {
   "cell_type": "code",
   "execution_count": null,
   "metadata": {
    "colab": {
     "base_uri": "https://localhost:8080/"
    },
    "id": "9p-OhaD3daXi",
    "outputId": "cc67d968-6f2b-41e1-8347-fcc207ecf05c"
   },
   "outputs": [
    {
     "name": "stdout",
     "output_type": "stream",
     "text": [
      "Factorial is only defined for integers.\n"
     ]
    }
   ],
   "source": [
    "factorial('fred')"
   ]
  },
  {
   "cell_type": "code",
   "execution_count": null,
   "metadata": {
    "colab": {
     "base_uri": "https://localhost:8080/"
    },
    "id": "nq3mzup6drLw",
    "outputId": "722cb03f-1da0-44c1-a218-4c7170169cd6"
   },
   "outputs": [
    {
     "name": "stdout",
     "output_type": "stream",
     "text": [
      "Factorial is not defined for negative integers.\n"
     ]
    }
   ],
   "source": [
    "factorial(-2)"
   ]
  },
  {
   "cell_type": "markdown",
   "metadata": {
    "id": "zjB5Y28fduVt"
   },
   "source": [
    "Se passarmos por ambas as verificações, sabemos que n é positivo ou zero, então podemos comprovar que a recursividade termina."
   ]
  },
  {
   "cell_type": "markdown",
   "metadata": {
    "id": "ds_LyjqrfWnq"
   },
   "source": [
    "**Esse programa demonstra um padrão às vezes chamado de guardião. As duas primeiras condicionais atuam como guardiãs, protegendo o código que segue de valores que poderiam causar um erro. As guardiãs permitem comprovar a correção do código.**"
   ]
  },
  {
   "cell_type": "markdown",
   "metadata": {
    "id": "9fQUe4I5faA0"
   },
   "source": [
    "<h2> 6.9 - Depuração </h2>\n",
    "\n",
    "Quebrar um grande programa em funções menores cria controles naturais da depuração.\n",
    "Se uma função não estiver funcionando, há três possibilidades a considerar:\n",
    "*   Há algo errado com os argumentos que a função está recebendo; uma precondição está sendo violada.\n",
    "*   Há algo errado com a função; uma pós-condição foi violada.\n",
    "*   Há algo errado com o valor de retorno ou a forma na qual está sendo usado.\n",
    "\n"
   ]
  },
  {
   "cell_type": "markdown",
   "metadata": {
    "id": "ooo5XN-Rg-rZ"
   },
   "source": [
    "Acrescentar instruções de exibição no começo e no fim de uma função pode ajudar a tornar o fluxo de execução mais visível. Por exemplo, aqui está uma versão de factorial com instruções de exibição:"
   ]
  },
  {
   "cell_type": "code",
   "execution_count": null,
   "metadata": {
    "id": "9d4Ysq5gdsPU"
   },
   "outputs": [],
   "source": [
    "def factorial(n):\n",
    "  space = ' ' * (4 * n)\n",
    "  print(space, 'factorial', n)\n",
    "\n",
    "  if n == 0:\n",
    "    print(space, 'returning 1')\n",
    "    return 1\n",
    "  else:\n",
    "    recurse = factorial(n-1)\n",
    "    result = n * recurse\n",
    "    print(space, 'returning', result)\n",
    "    return result"
   ]
  },
  {
   "cell_type": "code",
   "execution_count": null,
   "metadata": {
    "colab": {
     "base_uri": "https://localhost:8080/"
    },
    "id": "dSBdTwGahFvz",
    "outputId": "54a62461-bc84-4895-e0f3-97fb2424c535"
   },
   "outputs": [
    {
     "name": "stdout",
     "output_type": "stream",
     "text": [
      "                 factorial 4\n",
      "             factorial 3\n",
      "         factorial 2\n",
      "     factorial 1\n",
      " factorial 0\n",
      " returning 1\n",
      "     returning 1\n",
      "         returning 2\n",
      "             returning 6\n",
      "                 returning 24\n"
     ]
    },
    {
     "data": {
      "text/plain": [
       "24"
      ]
     },
     "execution_count": 50,
     "metadata": {},
     "output_type": "execute_result"
    }
   ],
   "source": [
    "factorial(4)"
   ]
  },
  {
   "cell_type": "markdown",
   "metadata": {
    "id": "EpYvODQ1hlS1"
   },
   "source": [
    "Se o fluxo de execução parecer confuso a você, este tipo de saída pode ser útil. Leva um tempo para desenvolver um scaffolding eficaz, mas um pouco dele pode economizar muita depuração."
   ]
  },
  {
   "cell_type": "markdown",
   "metadata": {
    "id": "ni4U8mLOhoZc"
   },
   "source": [
    "<h2> 6.10 - Glossário </h2>\n",
    "\n",
    "**variável temporária:** Uma variável usada para guardar um valor intermediário em um cálculo complexo.\n",
    "\n",
    "**código morto:** A parte de um programa que nunca pode ser executada, muitas vezes porque aparece depois de uma instrução return.\n",
    "\n",
    "**desenvolvimento incremental:**\n",
    "Um plano de desenvolvimento de programa para evitar a depuração, que acrescenta e testa poucas linhas de código de cada vez.\n",
    "\n",
    "**scaffolding (andaime):** O código que se usa durante o desenvolvimento de programa, mas que não faz parte da versão final.\n",
    "\n",
    "**guardião:** Um padrão de programação que usa uma instrução condicional para verificar e lidar com circunstâncias que possam causar erros."
   ]
  }
 ],
 "metadata": {
  "colab": {
   "authorship_tag": "ABX9TyPGoN0ynaCpbdt6KerJ4caI",
   "include_colab_link": true,
   "provenance": []
  },
  "kernelspec": {
   "display_name": "Python 3",
   "name": "python3"
  },
  "language_info": {
   "name": "python"
  }
 },
 "nbformat": 4,
 "nbformat_minor": 0
}
