{
  "nbformat": 4,
  "nbformat_minor": 0,
  "metadata": {
    "colab": {
      "provenance": [],
      "authorship_tag": "ABX9TyMciNAqKAGioBn20pLd/IUU",
      "include_colab_link": true
    },
    "kernelspec": {
      "name": "python3",
      "display_name": "Python 3"
    },
    "language_info": {
      "name": "python"
    }
  },
  "cells": [
    {
      "cell_type": "markdown",
      "metadata": {
        "id": "view-in-github",
        "colab_type": "text"
      },
      "source": [
        "<a href=\"https://colab.research.google.com/github/bitwoman/pense-em-python/blob/main/capitulo1.ipynb\" target=\"_parent\"><img src=\"https://colab.research.google.com/assets/colab-badge.svg\" alt=\"Open In Colab\"/></a>"
      ]
    },
    {
      "cell_type": "markdown",
      "source": [
        "# **ESTUDO DO LIVRO \"Pense em Python\", DO AUTOR ALLEN B. DOWNEY**\n",
        "# Estudos iniciados em 20-06-2024."
      ],
      "metadata": {
        "id": "pr0x8Ysf3MFe"
      }
    },
    {
      "cell_type": "markdown",
      "source": [
        "# **Capítulo 1: A jornada do programa**"
      ],
      "metadata": {
        "id": "cWl6vnft3HEF"
      }
    },
    {
      "cell_type": "markdown",
      "source": [
        "# **O PRIMEIRO PROGRAMA**"
      ],
      "metadata": {
        "id": "y8BiYaVm3XXk"
      }
    },
    {
      "cell_type": "code",
      "execution_count": 1,
      "metadata": {
        "colab": {
          "base_uri": "https://localhost:8080/"
        },
        "id": "BPoBlkC02v4B",
        "outputId": "2696eef0-11e9-4196-c33d-51f86eb64e4b"
      },
      "outputs": [
        {
          "output_type": "stream",
          "name": "stdout",
          "text": [
            "Hello, Wordl!\n"
          ]
        }
      ],
      "source": [
        "print('Hello, Wordl!')"
      ]
    },
    {
      "cell_type": "markdown",
      "source": [
        "**OPERADORES ARITMÉTICOS**"
      ],
      "metadata": {
        "id": "Bi2LVz263cdJ"
      }
    },
    {
      "cell_type": "code",
      "source": [
        "40 + 2"
      ],
      "metadata": {
        "colab": {
          "base_uri": "https://localhost:8080/"
        },
        "id": "qq_8MvPX3aBO",
        "outputId": "e6d8297a-a398-4ef8-f81e-4eb4ba9c59c3"
      },
      "execution_count": 2,
      "outputs": [
        {
          "output_type": "execute_result",
          "data": {
            "text/plain": [
              "42"
            ]
          },
          "metadata": {},
          "execution_count": 2
        }
      ]
    },
    {
      "cell_type": "code",
      "source": [
        "43 - 1"
      ],
      "metadata": {
        "colab": {
          "base_uri": "https://localhost:8080/"
        },
        "id": "qzYVzzSV3hA_",
        "outputId": "c2d1dc31-90e9-48fe-e2ef-22cc0c963a1f"
      },
      "execution_count": 3,
      "outputs": [
        {
          "output_type": "execute_result",
          "data": {
            "text/plain": [
              "42"
            ]
          },
          "metadata": {},
          "execution_count": 3
        }
      ]
    },
    {
      "cell_type": "code",
      "source": [
        "6 * 7"
      ],
      "metadata": {
        "colab": {
          "base_uri": "https://localhost:8080/"
        },
        "id": "-EFpy75_3j4T",
        "outputId": "efacdc3b-9a79-4b04-8699-eae2d0c8da16"
      },
      "execution_count": 4,
      "outputs": [
        {
          "output_type": "execute_result",
          "data": {
            "text/plain": [
              "42"
            ]
          },
          "metadata": {},
          "execution_count": 4
        }
      ]
    },
    {
      "cell_type": "code",
      "source": [
        "84 / 2"
      ],
      "metadata": {
        "colab": {
          "base_uri": "https://localhost:8080/"
        },
        "id": "8YLD-aTP3k2P",
        "outputId": "c0ca699a-4fe0-4883-b260-5b8f605e3b66"
      },
      "execution_count": 5,
      "outputs": [
        {
          "output_type": "execute_result",
          "data": {
            "text/plain": [
              "42.0"
            ]
          },
          "metadata": {},
          "execution_count": 5
        }
      ]
    },
    {
      "cell_type": "code",
      "source": [
        "6 ** 2 + 6\n",
        "\n",
        "# Em algumas outras linguagens, o ^ é usado para a exponenciação, mas no Python é um\n",
        "# operador bitwise, chamado XOR.\n",
        "\n",
        "#fonte para estudo: http://wiki.python.org/moin/BitwiseOperators."
      ],
      "metadata": {
        "colab": {
          "base_uri": "https://localhost:8080/"
        },
        "id": "uevaD5Vm3lvl",
        "outputId": "35ab02e3-d472-401d-8028-c46652cd023f"
      },
      "execution_count": 6,
      "outputs": [
        {
          "output_type": "execute_result",
          "data": {
            "text/plain": [
              "42"
            ]
          },
          "metadata": {},
          "execution_count": 6
        }
      ]
    },
    {
      "cell_type": "markdown",
      "source": [
        "**VALORES E TIPOS**"
      ],
      "metadata": {
        "id": "e0OenIWi3tkt"
      }
    },
    {
      "cell_type": "code",
      "source": [
        "type(2) # int"
      ],
      "metadata": {
        "colab": {
          "base_uri": "https://localhost:8080/"
        },
        "id": "fqvKLNit3myw",
        "outputId": "0ec732a5-8743-4bb4-bf0f-a83b8d686f54"
      },
      "execution_count": 7,
      "outputs": [
        {
          "output_type": "execute_result",
          "data": {
            "text/plain": [
              "int"
            ]
          },
          "metadata": {},
          "execution_count": 7
        }
      ]
    },
    {
      "cell_type": "code",
      "source": [
        "type(42.0) # float"
      ],
      "metadata": {
        "colab": {
          "base_uri": "https://localhost:8080/"
        },
        "id": "Z13qPUQC3vIq",
        "outputId": "f489d956-1152-47c8-d5f0-c5873fcd7dd2"
      },
      "execution_count": 8,
      "outputs": [
        {
          "output_type": "execute_result",
          "data": {
            "text/plain": [
              "float"
            ]
          },
          "metadata": {},
          "execution_count": 8
        }
      ]
    },
    {
      "cell_type": "code",
      "source": [
        "type('Hello, World!') # string (str)"
      ],
      "metadata": {
        "colab": {
          "base_uri": "https://localhost:8080/"
        },
        "id": "vlNUOBNN3wDh",
        "outputId": "74ab527d-bd11-4c67-c871-71c95f014066"
      },
      "execution_count": 9,
      "outputs": [
        {
          "output_type": "execute_result",
          "data": {
            "text/plain": [
              "str"
            ]
          },
          "metadata": {},
          "execution_count": 9
        }
      ]
    },
    {
      "cell_type": "markdown",
      "source": [
        "# **LINGUAGENS FORMAIS E NATURAIS**"
      ],
      "metadata": {
        "id": "UT--8ene3zSk"
      }
    },
    {
      "cell_type": "markdown",
      "source": [
        "**EXERCÍCIOS**"
      ],
      "metadata": {
        "id": "tCIBjHKe311P"
      }
    },
    {
      "cell_type": "markdown",
      "source": [
        "**EXERCÍCIO 1.1**\n",
        "\n",
        "1. **Em uma instrução print, o que acontece se você omitir um dos parênteses ou ambos?**\n",
        "  <p> R: Ele gera um erro de sintaxe. </p>"
      ],
      "metadata": {
        "id": "LEe4tkMJ34ji"
      }
    },
    {
      "cell_type": "code",
      "source": [
        "print('Teste'"
      ],
      "metadata": {
        "colab": {
          "base_uri": "https://localhost:8080/",
          "height": 111
        },
        "id": "60KmCQ3T3w9e",
        "outputId": "976a11e1-7778-46ab-9b4a-054c655336c9"
      },
      "execution_count": 10,
      "outputs": [
        {
          "output_type": "error",
          "ename": "SyntaxError",
          "evalue": "incomplete input (<ipython-input-10-b1090276a2b1>, line 1)",
          "traceback": [
            "\u001b[0;36m  File \u001b[0;32m\"<ipython-input-10-b1090276a2b1>\"\u001b[0;36m, line \u001b[0;32m1\u001b[0m\n\u001b[0;31m    print('Teste'\u001b[0m\n\u001b[0m                 ^\u001b[0m\n\u001b[0;31mSyntaxError\u001b[0m\u001b[0;31m:\u001b[0m incomplete input\n"
          ]
        }
      ]
    },
    {
      "cell_type": "markdown",
      "source": [
        "2. **Se estiver tentando imprimir uma string, o que acontece se omitir uma das aspas ou ambas?**\n",
        "  <p> R: Ele gera um erro de sintaxe. </p>"
      ],
      "metadata": {
        "id": "Pdftc1nF39Fv"
      }
    },
    {
      "cell_type": "code",
      "source": [
        "print('string)"
      ],
      "metadata": {
        "colab": {
          "base_uri": "https://localhost:8080/",
          "height": 111
        },
        "id": "2a9TY0PW36jo",
        "outputId": "5844d79d-9d61-4646-a282-3b1a9926f6b6"
      },
      "execution_count": 11,
      "outputs": [
        {
          "output_type": "error",
          "ename": "SyntaxError",
          "evalue": "unterminated string literal (detected at line 1) (<ipython-input-11-ec07885021dd>, line 1)",
          "traceback": [
            "\u001b[0;36m  File \u001b[0;32m\"<ipython-input-11-ec07885021dd>\"\u001b[0;36m, line \u001b[0;32m1\u001b[0m\n\u001b[0;31m    print('string)\u001b[0m\n\u001b[0m          ^\u001b[0m\n\u001b[0;31mSyntaxError\u001b[0m\u001b[0;31m:\u001b[0m unterminated string literal (detected at line 1)\n"
          ]
        }
      ]
    },
    {
      "cell_type": "markdown",
      "source": [
        "3. **Você pode usar um sinal de menos para fazer um número negativo como -2. O que\n",
        "acontece se puser um sinal de mais antes de um número? E se escrever assim: 2++2?**\n",
        "  <p> R: Ele vai fazer a soma normalmente. </p>"
      ],
      "metadata": {
        "id": "_RDYKm-_3_S_"
      }
    },
    {
      "cell_type": "code",
      "source": [
        "2 ++ 2"
      ],
      "metadata": {
        "colab": {
          "base_uri": "https://localhost:8080/"
        },
        "id": "2bCQwkGe3-uk",
        "outputId": "3450ceea-dd6e-4a77-c5a1-6c4ce5a4cc1e"
      },
      "execution_count": 12,
      "outputs": [
        {
          "output_type": "execute_result",
          "data": {
            "text/plain": [
              "4"
            ]
          },
          "metadata": {},
          "execution_count": 12
        }
      ]
    },
    {
      "cell_type": "markdown",
      "source": [
        "4. **Na notação matemática, zeros à esquerda são aceitáveis, como em 02. O que\n",
        "acontece se você tentar usar isso no Python?**\n",
        "  <p> R: Depende da situação, mas, se você for tentar atribuir um valor como '02' em uma variável, o código retornará um erro de sintaxe. </p>"
      ],
      "metadata": {
        "id": "_InEHHPk4Eiv"
      }
    },
    {
      "cell_type": "code",
      "source": [
        "zero_a_esquerda = 02"
      ],
      "metadata": {
        "colab": {
          "base_uri": "https://localhost:8080/",
          "height": 111
        },
        "id": "8qGatoFk4C-5",
        "outputId": "29af161d-d3d3-4d68-e683-572d73f8b648"
      },
      "execution_count": 13,
      "outputs": [
        {
          "output_type": "error",
          "ename": "SyntaxError",
          "evalue": "leading zeros in decimal integer literals are not permitted; use an 0o prefix for octal integers (<ipython-input-13-e160909896e2>, line 1)",
          "traceback": [
            "\u001b[0;36m  File \u001b[0;32m\"<ipython-input-13-e160909896e2>\"\u001b[0;36m, line \u001b[0;32m1\u001b[0m\n\u001b[0;31m    zero_a_esquerda = 02\u001b[0m\n\u001b[0m                      ^\u001b[0m\n\u001b[0;31mSyntaxError\u001b[0m\u001b[0;31m:\u001b[0m leading zeros in decimal integer literals are not permitted; use an 0o prefix for octal integers\n"
          ]
        }
      ]
    },
    {
      "cell_type": "markdown",
      "source": [
        "5. **O que acontece se você tiver dois valores sem nenhum operador entre eles?**\n",
        "  <p> R: Retornará erro de sintaxe. </p>"
      ],
      "metadata": {
        "id": "0onP4_lv4JGC"
      }
    },
    {
      "cell_type": "code",
      "source": [
        "22 23"
      ],
      "metadata": {
        "colab": {
          "base_uri": "https://localhost:8080/",
          "height": 111
        },
        "id": "MbOjBbVp4GZA",
        "outputId": "bfe337af-bac2-41c0-f128-869e2599d3cb"
      },
      "execution_count": 14,
      "outputs": [
        {
          "output_type": "error",
          "ename": "SyntaxError",
          "evalue": "invalid syntax (<ipython-input-14-0638119c3f60>, line 1)",
          "traceback": [
            "\u001b[0;36m  File \u001b[0;32m\"<ipython-input-14-0638119c3f60>\"\u001b[0;36m, line \u001b[0;32m1\u001b[0m\n\u001b[0;31m    22 23\u001b[0m\n\u001b[0m       ^\u001b[0m\n\u001b[0;31mSyntaxError\u001b[0m\u001b[0;31m:\u001b[0m invalid syntax\n"
          ]
        }
      ]
    },
    {
      "cell_type": "markdown",
      "source": [
        "**EXERCÍCIO 1.2**"
      ],
      "metadata": {
        "id": "-aPPZdym4L1G"
      }
    },
    {
      "cell_type": "markdown",
      "source": [
        "1. **Quantos segundos há em 42 minutos e 42 segundos?**\n",
        "  <p> R: Há 2562 segundos em 42 minutos e 42 segundos. </p>"
      ],
      "metadata": {
        "id": "0fx3KiLD4PMv"
      }
    },
    {
      "cell_type": "code",
      "source": [
        "42 * 60"
      ],
      "metadata": {
        "colab": {
          "base_uri": "https://localhost:8080/"
        },
        "id": "efY4raT_4QMN",
        "outputId": "4c34c0fd-bb06-49da-d02a-f5cf823134b4"
      },
      "execution_count": 15,
      "outputs": [
        {
          "output_type": "execute_result",
          "data": {
            "text/plain": [
              "2520"
            ]
          },
          "metadata": {},
          "execution_count": 15
        }
      ]
    },
    {
      "cell_type": "code",
      "source": [
        "2520 + 42"
      ],
      "metadata": {
        "colab": {
          "base_uri": "https://localhost:8080/"
        },
        "id": "V85ogA9A4fSx",
        "outputId": "b6bb9ac6-6d34-49fd-88cc-da7988693692"
      },
      "execution_count": 17,
      "outputs": [
        {
          "output_type": "execute_result",
          "data": {
            "text/plain": [
              "2562"
            ]
          },
          "metadata": {},
          "execution_count": 17
        }
      ]
    },
    {
      "cell_type": "markdown",
      "source": [
        "2. **Quantas milhas há em 10 quilômetros? Dica: uma milha equivale a 1,61 quilômetro.**\n",
        "  <p> R: </p>"
      ],
      "metadata": {
        "id": "XbTCOiSV4UNO"
      }
    },
    {
      "cell_type": "code",
      "source": [
        "10/1.61"
      ],
      "metadata": {
        "colab": {
          "base_uri": "https://localhost:8080/"
        },
        "id": "M6Tu_7KI4Syf",
        "outputId": "6c9827ff-c718-472b-bdc4-f55d416b3338"
      },
      "execution_count": 18,
      "outputs": [
        {
          "output_type": "execute_result",
          "data": {
            "text/plain": [
              "6.211180124223602"
            ]
          },
          "metadata": {},
          "execution_count": 18
        }
      ]
    },
    {
      "cell_type": "markdown",
      "source": [
        "3. **Se você correr 10 quilômetros em 42 minutos e 42 segundos, qual é o seu passo médio (tempo por milha em minutos e segundos)? Qual é a sua velocidade média em milhas por hora?**\n",
        "  <p> R: Portanto, o passo médio é aproximadamente 6 minutos e 52 segundos. </p>"
      ],
      "metadata": {
        "id": "7tcZqb_Y4qKl"
      }
    },
    {
      "cell_type": "code",
      "source": [
        "# 10km = 6,21371 milhas\n",
        "\n",
        "milhas = 6.21371\n",
        "\n",
        "# 1o passo: converter os 42 segundos para minutos\n",
        "segundos_para_minutos = 42/60\n",
        "tempo_total = 42 + segundos_para_minutos"
      ],
      "metadata": {
        "id": "ZBIbWAtZ4qXO"
      },
      "execution_count": 19,
      "outputs": []
    },
    {
      "cell_type": "code",
      "source": [
        "segundos_para_minutos"
      ],
      "metadata": {
        "colab": {
          "base_uri": "https://localhost:8080/"
        },
        "id": "B6dvkwdf4sC9",
        "outputId": "7e13db86-b32f-48b2-c78e-aa8713b490bd"
      },
      "execution_count": 20,
      "outputs": [
        {
          "output_type": "execute_result",
          "data": {
            "text/plain": [
              "0.7"
            ]
          },
          "metadata": {},
          "execution_count": 20
        }
      ]
    },
    {
      "cell_type": "code",
      "source": [
        "tempo_total"
      ],
      "metadata": {
        "colab": {
          "base_uri": "https://localhost:8080/"
        },
        "id": "Kz3LKZqx4vFE",
        "outputId": "b08a8b70-4e5d-4382-c273-0d0cc5571333"
      },
      "execution_count": 21,
      "outputs": [
        {
          "output_type": "execute_result",
          "data": {
            "text/plain": [
              "42.7"
            ]
          },
          "metadata": {},
          "execution_count": 21
        }
      ]
    },
    {
      "cell_type": "code",
      "source": [
        "# convertemos os minutos para horas\n",
        "tempo_em_horas = tempo_total/60\n",
        "tempo_em_horas"
      ],
      "metadata": {
        "colab": {
          "base_uri": "https://localhost:8080/"
        },
        "id": "lUftPB8J4wXk",
        "outputId": "08ff6cef-306f-4957-8d3b-1c81ae9c1c6f"
      },
      "execution_count": 22,
      "outputs": [
        {
          "output_type": "execute_result",
          "data": {
            "text/plain": [
              "0.7116666666666667"
            ]
          },
          "metadata": {},
          "execution_count": 22
        }
      ]
    },
    {
      "cell_type": "code",
      "source": [
        "# velocidade media\n",
        "velocidade_media = milhas/tempo_em_horas\n",
        "velocidade_media"
      ],
      "metadata": {
        "colab": {
          "base_uri": "https://localhost:8080/"
        },
        "id": "e28915bx4xQN",
        "outputId": "7341a6b8-fddf-4ff3-95a1-ad3e42c5a7a8"
      },
      "execution_count": 23,
      "outputs": [
        {
          "output_type": "execute_result",
          "data": {
            "text/plain": [
              "8.731208430913348"
            ]
          },
          "metadata": {},
          "execution_count": 23
        }
      ]
    },
    {
      "cell_type": "code",
      "source": [
        "# passo médio = passo médio é o tempo total dividido pela distância total\n",
        "passo_medio = tempo_total / milhas\n",
        "passo_medio"
      ],
      "metadata": {
        "colab": {
          "base_uri": "https://localhost:8080/"
        },
        "id": "NprGi-Gl4yNn",
        "outputId": "c8b8cfa1-f6e9-4bac-fbb6-4f5e5560d66e"
      },
      "execution_count": 24,
      "outputs": [
        {
          "output_type": "execute_result",
          "data": {
            "text/plain": [
              "6.871901006001246"
            ]
          },
          "metadata": {},
          "execution_count": 24
        }
      ]
    },
    {
      "cell_type": "code",
      "source": [
        "# convertemos a parte decimal (0,871) de minutos para segundos:\n",
        "minutos_para_segundos = 0.871 * 60\n",
        "minutos_para_segundos"
      ],
      "metadata": {
        "colab": {
          "base_uri": "https://localhost:8080/"
        },
        "id": "zCjlFqc84zZj",
        "outputId": "dcb174e6-8017-4357-cbbf-8c6dcf97e6d4"
      },
      "execution_count": 25,
      "outputs": [
        {
          "output_type": "execute_result",
          "data": {
            "text/plain": [
              "52.26"
            ]
          },
          "metadata": {},
          "execution_count": 25
        }
      ]
    }
  ]
}