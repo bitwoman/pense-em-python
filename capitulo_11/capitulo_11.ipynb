{
 "cells": [
  {
   "cell_type": "markdown",
   "metadata": {},
   "source": [
    "# Capítulo 11: Dicionários"
   ]
  },
  {
   "cell_type": "markdown",
   "metadata": {},
   "source": [
    "<h2> 11.1 - Um dicionário é um mapeamento </h2>\n",
    "\n",
    "Um dicionário se parece com uma lista, mas é mais geral. Em uma lista, os índices têm que ser números inteiros; em um dicionário, eles podem ser de (quase) qualquer tipo.\n",
    "Um dicionário contém uma coleção de índices, que se chamam chaves e uma coleção de valores. Cada chave é associada com um único valor. A associação de uma chave e um valor chama-se par chave-valor ou item."
   ]
  },
  {
   "cell_type": "markdown",
   "metadata": {},
   "source": [
    "Em linguagem matemática, um dicionário representa um mapeamento de chaves a valores, para que você possa dizer que cada chave “mostra o mapa a” um valor. Como exemplo, vamos construir um dicionário que faz o mapa de palavras do inglês ao espanhol, portanto as chaves e os valores são todos strings."
   ]
  },
  {
   "cell_type": "markdown",
   "metadata": {},
   "source": [
    "A função dict cria um novo dicionário sem itens. Como dict é o nome de uma função integrada, você deve evitar usá-lo como nome de variável."
   ]
  },
  {
   "cell_type": "code",
   "execution_count": 1,
   "metadata": {},
   "outputs": [
    {
     "data": {
      "text/plain": [
       "{}"
      ]
     },
     "execution_count": 1,
     "metadata": {},
     "output_type": "execute_result"
    }
   ],
   "source": [
    "eng2sp = dict()\n",
    "eng2sp"
   ]
  },
  {
   "cell_type": "code",
   "execution_count": 2,
   "metadata": {},
   "outputs": [
    {
     "data": {
      "text/plain": [
       "dict"
      ]
     },
     "execution_count": 2,
     "metadata": {},
     "output_type": "execute_result"
    }
   ],
   "source": [
    "type(eng2sp)"
   ]
  },
  {
   "cell_type": "markdown",
   "metadata": {},
   "source": [
    "As chaves {} representam um dicionário vazio. Para acrescentar itens ao dicionário, você pode usar colchetes:"
   ]
  },
  {
   "cell_type": "code",
   "execution_count": 3,
   "metadata": {},
   "outputs": [],
   "source": [
    "eng2sp['one'] = 'uno'"
   ]
  },
  {
   "cell_type": "code",
   "execution_count": 4,
   "metadata": {},
   "outputs": [
    {
     "data": {
      "text/plain": [
       "{'one': 'uno'}"
      ]
     },
     "execution_count": 4,
     "metadata": {},
     "output_type": "execute_result"
    }
   ],
   "source": [
    "eng2sp"
   ]
  },
  {
   "cell_type": "markdown",
   "metadata": {},
   "source": [
    "Este formato de saída também é um formato de entrada. Por exemplo, você pode criar um dicionário com três itens:"
   ]
  },
  {
   "cell_type": "code",
   "execution_count": 5,
   "metadata": {},
   "outputs": [
    {
     "data": {
      "text/plain": [
       "{'one': 'uno', 'two': 'dos', 'three': 'tres'}"
      ]
     },
     "execution_count": 5,
     "metadata": {},
     "output_type": "execute_result"
    }
   ],
   "source": [
    "eng2sp = {'one': 'uno', 'two': 'dos', 'three': 'tres'}\n",
    "eng2sp"
   ]
  },
  {
   "cell_type": "code",
   "execution_count": 6,
   "metadata": {},
   "outputs": [
    {
     "data": {
      "text/plain": [
       "{'one': 'uno', 'two': 'dos', 'three': 'tres'}"
      ]
     },
     "execution_count": 6,
     "metadata": {},
     "output_type": "execute_result"
    }
   ],
   "source": [
    "eng2sp"
   ]
  },
  {
   "cell_type": "markdown",
   "metadata": {},
   "source": [
    "A ordem dos pares chave-valor pode não ser a mesma. Se você digitar o mesmo exemplo no seu computador, pode receber um resultado diferente. Em geral, a ordem dos itens em um dicionário é imprevisível."
   ]
  },
  {
   "cell_type": "markdown",
   "metadata": {},
   "source": [
    "No entanto, isso não é um problema porque os elementos de um dicionário nunca são indexados com índices de números inteiros. Em vez disso, você usa as chaves para procurar os valores correspondentes:"
   ]
  },
  {
   "cell_type": "code",
   "execution_count": 7,
   "metadata": {},
   "outputs": [
    {
     "data": {
      "text/plain": [
       "'dos'"
      ]
     },
     "execution_count": 7,
     "metadata": {},
     "output_type": "execute_result"
    }
   ],
   "source": [
    "eng2sp['two']"
   ]
  },
  {
   "cell_type": "markdown",
   "metadata": {},
   "source": [
    "A chave 'two' sempre mapeia ao valor 'dos', assim a ordem dos itens não importa.\n",
    "\n",
    "Se a chave não estiver no dicionário, você recebe uma exceção:"
   ]
  },
  {
   "cell_type": "code",
   "execution_count": 8,
   "metadata": {},
   "outputs": [
    {
     "ename": "KeyError",
     "evalue": "'four'",
     "output_type": "error",
     "traceback": [
      "\u001b[1;31m---------------------------------------------------------------------------\u001b[0m",
      "\u001b[1;31mKeyError\u001b[0m                                  Traceback (most recent call last)",
      "\u001b[1;32m~\\AppData\\Local\\Temp\\ipykernel_15340\\2807805483.py\u001b[0m in \u001b[0;36m<module>\u001b[1;34m\u001b[0m\n\u001b[1;32m----> 1\u001b[1;33m \u001b[0meng2sp\u001b[0m\u001b[1;33m[\u001b[0m\u001b[1;34m'four'\u001b[0m\u001b[1;33m]\u001b[0m\u001b[1;33m\u001b[0m\u001b[1;33m\u001b[0m\u001b[0m\n\u001b[0m",
      "\u001b[1;31mKeyError\u001b[0m: 'four'"
     ]
    }
   ],
   "source": [
    "eng2sp['four']"
   ]
  },
  {
   "cell_type": "markdown",
   "metadata": {},
   "source": [
    "A função len é compatível com dicionários; ela devolve o número de pares chave-valor:"
   ]
  },
  {
   "cell_type": "code",
   "execution_count": 11,
   "metadata": {},
   "outputs": [
    {
     "data": {
      "text/plain": [
       "3"
      ]
     },
     "execution_count": 11,
     "metadata": {},
     "output_type": "execute_result"
    }
   ],
   "source": [
    "len(eng2sp)"
   ]
  },
  {
   "cell_type": "markdown",
   "metadata": {},
   "source": [
    "O operador in funciona em dicionários também; ele acusa se algo aparece como chave no dicionário (aparecer como valor não é o suficiente)."
   ]
  },
  {
   "cell_type": "code",
   "execution_count": 12,
   "metadata": {},
   "outputs": [
    {
     "data": {
      "text/plain": [
       "True"
      ]
     },
     "execution_count": 12,
     "metadata": {},
     "output_type": "execute_result"
    }
   ],
   "source": [
    "'one' in eng2sp"
   ]
  },
  {
   "cell_type": "code",
   "execution_count": 13,
   "metadata": {},
   "outputs": [
    {
     "data": {
      "text/plain": [
       "False"
      ]
     },
     "execution_count": 13,
     "metadata": {},
     "output_type": "execute_result"
    }
   ],
   "source": [
    "'uno' in eng2sp"
   ]
  },
  {
   "cell_type": "markdown",
   "metadata": {},
   "source": [
    "Para ver se algo aparece como um valor em um dicionário, você pode usar o método\n",
    "values, que devolve uma coleção de valores, e então usar o operador in:"
   ]
  },
  {
   "cell_type": "code",
   "execution_count": 14,
   "metadata": {},
   "outputs": [],
   "source": [
    "valores = eng2sp.values()"
   ]
  },
  {
   "cell_type": "code",
   "execution_count": 15,
   "metadata": {},
   "outputs": [
    {
     "data": {
      "text/plain": [
       "True"
      ]
     },
     "execution_count": 15,
     "metadata": {},
     "output_type": "execute_result"
    }
   ],
   "source": [
    "'uno' in valores"
   ]
  },
  {
   "cell_type": "code",
   "execution_count": 16,
   "metadata": {},
   "outputs": [
    {
     "data": {
      "text/plain": [
       "dict_values"
      ]
     },
     "execution_count": 16,
     "metadata": {},
     "output_type": "execute_result"
    }
   ],
   "source": [
    "type(valores)"
   ]
  },
  {
   "cell_type": "markdown",
   "metadata": {},
   "source": [
    "O operador in usa algoritmos diferentes para listas e dicionários. Para listas, ele procura os elementos da lista em ordem, como descrito em “Busca”, na página 123. Conforme a lista torna-se mais longa, o tempo de busca também fica proporcionalmente mais longo.\n",
    "Para dicionários, o Python usa um algoritmo chamado hashtable (tabela de dispersão), que tem uma propriedade notável: o operador in leva praticamente o mesmo tempo na busca, não importa quantos itens estejam no dicionário. "
   ]
  },
  {
   "cell_type": "markdown",
   "metadata": {},
   "source": [
    "<h2> 11.2 - Um dicionário como uma coleção de contadores </h2>"
   ]
  },
  {
   "cell_type": "markdown",
   "metadata": {},
   "source": [
    "Suponha que você receba uma string e queira contar quantas vezes cada letra aparece nela. Há vários modos de fazer isso:\n",
    "1. Você pode criar 26 variáveis, uma para cada letra do alfabeto. Então pode atravessar a string e, para cada caractere, incrementar o contador correspondente, provavelmente usando uma condicional encadeada.\n",
    "2. Você pode criar uma lista com 26 elementos. Então pode converter cada caractere em um número (com a função integrada ord), usar o número como índice na lista e incrementar o respectivo contador.\n",
    "3. Você pode criar um dicionário com caracteres como chaves e contadores como\n",
    "valores correspondentes. Na primeira vez que visse um caractere, você acrescentaria um item ao dicionário. Depois disso, incrementaria o valor de um item existente.\n"
   ]
  },
  {
   "cell_type": "markdown",
   "metadata": {},
   "source": [
    "<h2> Criando os modos para testes: </h2>"
   ]
  },
  {
   "cell_type": "markdown",
   "metadata": {},
   "source": [
    "1. Você pode criar 26 variáveis, uma para cada letra do alfabeto. Então pode \n",
    "atravessar a string e, para cada caractere, incrementar o contador correspondente, provavelmente usando uma condicional encadeada."
   ]
  },
  {
   "cell_type": "code",
   "execution_count": 17,
   "metadata": {},
   "outputs": [],
   "source": [
    "# 26 variáveis (contadores) para as 26 letras do alfabeto\n",
    "var_a = 0\n",
    "var_b = 0\n",
    "var_c = 0\n",
    "var_d = 0\n",
    "var_e = 0\n",
    "var_f = 0\n",
    "var_g = 0\n",
    "var_h = 0\n",
    "var_i = 0\n",
    "var_j = 0\n",
    "var_k = 0\n",
    "var_l = 0\n",
    "var_m = 0\n",
    "var_n = 0\n",
    "var_o = 0\n",
    "var_p = 0\n",
    "var_q = 0\n",
    "var_r = 0\n",
    "var_s = 0\n",
    "var_t = 0\n",
    "var_u = 0\n",
    "var_v = 0\n",
    "var_w = 0\n",
    "var_x = 0\n",
    "var_y = 0\n",
    "var_z = 0"
   ]
  },
  {
   "cell_type": "code",
   "execution_count": 18,
   "metadata": {},
   "outputs": [],
   "source": [
    "string = 'abcdefghijklmnopqrstuvwxyz'\n",
    "\n",
    "for letter in string:\n",
    "    if letter == 'a':\n",
    "        var_a += 1\n",
    "    elif letter == 'b':\n",
    "        var_b += 1\n",
    "    elif letter == 'c':\n",
    "        var_c += 1\n",
    "    elif letter == 'd':\n",
    "        var_d += 1\n",
    "    elif letter == 'e':\n",
    "        var_e += 1\n",
    "    elif letter == 'f':\n",
    "        var_f += 1\n",
    "    elif letter == 'g':\n",
    "        var_g += 1\n",
    "    elif letter == 'h':\n",
    "        var_h += 1\n",
    "    elif letter == 'i':\n",
    "        var_i += 1\n",
    "    elif letter == 'j':\n",
    "        var_j += 1\n",
    "    elif letter == 'k':\n",
    "        var_k += 1\n",
    "    elif letter == 'l':\n",
    "        var_l += 1\n",
    "    elif letter == 'm':\n",
    "        var_m += 1\n",
    "    elif letter == 'n':\n",
    "        var_n += 1\n",
    "    elif letter == 'o':\n",
    "        var_o += 1\n",
    "    elif letter == 'p':\n",
    "        var_p += 1\n",
    "    elif letter == 'q':\n",
    "        var_q += 1\n",
    "    elif letter == 'r':\n",
    "        var_r += 1\n",
    "    elif letter == 's':\n",
    "        var_s += 1\n",
    "    elif letter == 't':\n",
    "        var_t += 1\n",
    "    elif letter == 'u':\n",
    "        var_u += 1\n",
    "    elif letter == 'v':\n",
    "        var_v += 1\n",
    "    elif letter == 'w':\n",
    "        var_w += 1\n",
    "    elif letter == 'x':\n",
    "        var_x += 1\n",
    "    elif letter == 'y':\n",
    "        var_y += 1\n",
    "    elif letter == 'z':\n",
    "        var_z += 1"
   ]
  },
  {
   "cell_type": "code",
   "execution_count": 19,
   "metadata": {},
   "outputs": [
    {
     "name": "stdout",
     "output_type": "stream",
     "text": [
      "1\n",
      "1\n",
      "1\n",
      "1\n",
      "1\n",
      "1\n",
      "1\n",
      "1\n",
      "1\n",
      "1\n",
      "1\n",
      "1\n",
      "1\n",
      "1\n",
      "1\n",
      "1\n",
      "1\n",
      "1\n",
      "1\n",
      "1\n",
      "1\n",
      "1\n",
      "1\n",
      "1\n",
      "1\n",
      "1\n"
     ]
    }
   ],
   "source": [
    "print(var_a)\n",
    "print(var_b)\n",
    "print(var_c)\n",
    "print(var_d)\n",
    "print(var_e)\n",
    "print(var_f)\n",
    "print(var_g)\n",
    "print(var_h)\n",
    "print(var_i)\n",
    "print(var_j)\n",
    "print(var_k)\n",
    "print(var_l)\n",
    "print(var_m)\n",
    "print(var_n)\n",
    "print(var_o)\n",
    "print(var_p)\n",
    "print(var_q)\n",
    "print(var_r)\n",
    "print(var_s)\n",
    "print(var_t)\n",
    "print(var_u)\n",
    "print(var_v)\n",
    "print(var_w)\n",
    "print(var_x)\n",
    "print(var_y)\n",
    "print(var_z)"
   ]
  },
  {
   "cell_type": "markdown",
   "metadata": {},
   "source": [
    "2. Você pode criar uma lista com 26 elementos. Então pode converter cada caractere em um número (com a função integrada ord), usar o número como índice na lista e incrementar o respectivo contador."
   ]
  },
  {
   "cell_type": "code",
   "execution_count": 31,
   "metadata": {},
   "outputs": [],
   "source": [
    "lista_alfabeto = [0, 0, 0, 0, 0, 0, 0, 0, 0, 0, 0, 0, 0, 0, 0, 0, 0, 0, 0, 0, 0, 0, 0, 0, 0, 0]\n",
    "palavra = 'abcdefghijklmnopqrstuvwxyz'"
   ]
  },
  {
   "cell_type": "code",
   "execution_count": 32,
   "metadata": {},
   "outputs": [],
   "source": [
    "def contar_letras(string):\n",
    "    # Cria uma lista com 26 elementos, todos inicializados com 0\n",
    "    contagem = [0] * 26\n",
    "\n",
    "    # Itera sobre cada caractere no texto\n",
    "    for letter in palavra:\n",
    "        # verifica se o caractere é uma letra minúscula\n",
    "        if 'a' <= letter <= 'z':\n",
    "            # calcula o índice para o caractere\n",
    "            index = ord(letter) - ord('a')\n",
    "            # Incrementa o contador no índice correspondente\n",
    "            contagem[index] += 1\n",
    "\n",
    "    return contagem"
   ]
  },
  {
   "cell_type": "code",
   "execution_count": 33,
   "metadata": {},
   "outputs": [
    {
     "data": {
      "text/plain": [
       "[1, 1, 1, 1, 1, 1, 1, 1, 1, 1, 1, 1, 1, 1, 1, 1, 1, 1, 1, 1, 1, 1, 1, 1, 1, 1]"
      ]
     },
     "execution_count": 33,
     "metadata": {},
     "output_type": "execute_result"
    }
   ],
   "source": [
    "contar_letras(palavra)"
   ]
  },
  {
   "cell_type": "markdown",
   "metadata": {},
   "source": [
    "3. Você pode criar um dicionário com caracteres como chaves e contadores como\n",
    "valores correspondentes. Na primeira vez que visse um caractere, você acrescentaria um item ao dicionário. Depois disso, incrementaria o valor de um item existente."
   ]
  },
  {
   "cell_type": "code",
   "execution_count": 34,
   "metadata": {},
   "outputs": [],
   "source": [
    "dicionario_de_letras = {\n",
    "    'a': 0, 'b': 0, 'c': 0, 'd': 0, 'e': 0, 'f': 0, 'g': 0, 'h': 0, 'i': 0, \n",
    "    'j': 0, 'k': 0, 'l': 0, 'm': 0, 'n': 0, 'o': 0, 'p': 0, 'q': 0, 'r': 0, \n",
    "    's': 0, 't': 0, 'u': 0, 'v': 0, 'w': 0, 'x': 0, 'y': 0, 'z': 0\n",
    "}\n",
    "\n",
    "string = 'aaaaabcdefghijklmnopqrstuvwwwwxyz'"
   ]
  },
  {
   "cell_type": "code",
   "execution_count": 38,
   "metadata": {},
   "outputs": [],
   "source": [
    "def contadorLetras(string):\n",
    "    quantidade = 0\n",
    "\n",
    "    for letra in dicionario_de_letras:\n",
    "        if letra in string:\n",
    "            quantidade = string.count(letra)\n",
    "            dicionario_de_letras[letra] =  quantidade\n",
    "            quantidade = 0\n",
    "        else:\n",
    "            continue\n",
    "\n",
    "    return dicionario_de_letras"
   ]
  },
  {
   "cell_type": "code",
   "execution_count": 39,
   "metadata": {},
   "outputs": [
    {
     "data": {
      "text/plain": [
       "{'a': 5,\n",
       " 'b': 1,\n",
       " 'c': 1,\n",
       " 'd': 1,\n",
       " 'e': 1,\n",
       " 'f': 1,\n",
       " 'g': 1,\n",
       " 'h': 1,\n",
       " 'i': 1,\n",
       " 'j': 1,\n",
       " 'k': 1,\n",
       " 'l': 1,\n",
       " 'm': 1,\n",
       " 'n': 1,\n",
       " 'o': 1,\n",
       " 'p': 1,\n",
       " 'q': 1,\n",
       " 'r': 1,\n",
       " 's': 1,\n",
       " 't': 1,\n",
       " 'u': 1,\n",
       " 'v': 1,\n",
       " 'w': 4,\n",
       " 'x': 1,\n",
       " 'y': 1,\n",
       " 'z': 1}"
      ]
     },
     "execution_count": 39,
     "metadata": {},
     "output_type": "execute_result"
    }
   ],
   "source": [
    "\n",
    "contadorLetras(string)"
   ]
  },
  {
   "cell_type": "markdown",
   "metadata": {},
   "source": [
    "Cada uma dessas opções executa o mesmo cálculo, mas o implementa de forma diferente. Uma implementação é um modo de executar um cálculo; algumas implementações são melhores que outras. Por exemplo, uma vantagem da implementação de dicionários é que não precisamos saber de antemão quais letras aparecem na string e só é preciso criar espaço para as letras que realmente venham a aparecer."
   ]
  },
  {
   "cell_type": "code",
   "execution_count": 49,
   "metadata": {},
   "outputs": [],
   "source": [
    "def histogram(s):\n",
    "    d = dict()\n",
    "    \n",
    "    for c in s: # vai percorrer cada letra da string 's'\n",
    "        if c not in d: # verifica se a letra não existe no dicionário\n",
    "            d[c] = 1   # caso não exista, será inserido o valor de 1 para aquela letra (indice) \n",
    "        else: # se não\n",
    "            d[c] += 1 # caso já tenha, vai somar o valor já existente + 1\n",
    "    \n",
    "    return d"
   ]
  },
  {
   "cell_type": "markdown",
   "metadata": {},
   "source": [
    "O nome da função é histogram, um termo estatístico para uma coleção de contadores (ou frequências).\n",
    "A primeira linha da função cria um dicionário vazio. O loop for atravessa a string. Cada vez que passa pelo loop, se o caractere c não estiver no dicionário, criamos um item com a chave c e o valor inicial 1 (pois já vimos esta letra uma vez). Se o c já estiver no\n",
    "dicionário, incrementamos d [c].\n"
   ]
  },
  {
   "cell_type": "code",
   "execution_count": 50,
   "metadata": {},
   "outputs": [
    {
     "data": {
      "text/plain": [
       "{'b': 1, 'r': 2, 'o': 2, 'n': 1, 't': 1, 's': 2, 'a': 1, 'u': 2}"
      ]
     },
     "execution_count": 50,
     "metadata": {},
     "output_type": "execute_result"
    }
   ],
   "source": [
    "h = histogram('brontosaurus')\n",
    "h"
   ]
  },
  {
   "cell_type": "markdown",
   "metadata": {},
   "source": [
    "O histograma indica que as letras ‘a’ e ‘b’ aparecem uma vez; ‘o’ aparece duas vezes, e assim por diante.\n",
    "Os dicionários têm um método chamado get, que toma uma chave e um valor padrão. Se a chave aparecer no dicionário, get retorna o valor correspondente; se não for o caso, ele retorna o valor padrão. Por exemplo:"
   ]
  },
  {
   "cell_type": "code",
   "execution_count": 9,
   "metadata": {},
   "outputs": [
    {
     "data": {
      "text/plain": [
       "{'a': 1}"
      ]
     },
     "execution_count": 9,
     "metadata": {},
     "output_type": "execute_result"
    }
   ],
   "source": [
    "h = histogram('a')\n",
    "h"
   ]
  },
  {
   "cell_type": "code",
   "execution_count": 10,
   "metadata": {},
   "outputs": [
    {
     "data": {
      "text/plain": [
       "1"
      ]
     },
     "execution_count": 10,
     "metadata": {},
     "output_type": "execute_result"
    }
   ],
   "source": [
    "h.get('a', 0)"
   ]
  },
  {
   "cell_type": "code",
   "execution_count": 11,
   "metadata": {},
   "outputs": [
    {
     "data": {
      "text/plain": [
       "0"
      ]
     },
     "execution_count": 11,
     "metadata": {},
     "output_type": "execute_result"
    }
   ],
   "source": [
    "h.get('b', 0)"
   ]
  },
  {
   "cell_type": "markdown",
   "metadata": {},
   "source": [
    "<b> Como exercício, use o get para escrever a função histogram de forma mais concisa. Tente\n",
    "eliminar a instrução if. </b>"
   ]
  },
  {
   "cell_type": "markdown",
   "metadata": {},
   "source": [
    "<b> COMPARAÇÃO DE SOLUÇÕES </b>"
   ]
  },
  {
   "cell_type": "markdown",
   "metadata": {},
   "source": [
    "<b> SOLUÇÃO PRÓPRIA </b>"
   ]
  },
  {
   "cell_type": "code",
   "execution_count": 12,
   "metadata": {},
   "outputs": [],
   "source": [
    "def histogram(s):\n",
    "    d = dict()\n",
    "    \n",
    "    for c in s: # vai percorrer cada letra da string 's'\n",
    "        d[c] = d.get(c, 0) + 1 \n",
    "    \n",
    "    return d"
   ]
  },
  {
   "cell_type": "code",
   "execution_count": 13,
   "metadata": {},
   "outputs": [
    {
     "data": {
      "text/plain": [
       "{'b': 1, 'r': 2, 'o': 2, 'n': 1, 't': 1, 's': 2, 'a': 1, 'u': 2}"
      ]
     },
     "execution_count": 13,
     "metadata": {},
     "output_type": "execute_result"
    }
   ],
   "source": [
    "h = histogram('brontosaurus')\n",
    "h"
   ]
  },
  {
   "cell_type": "markdown",
   "metadata": {},
   "source": [
    "<b> SOLUÇÃO CHATGPT </b>"
   ]
  },
  {
   "cell_type": "code",
   "execution_count": 3,
   "metadata": {},
   "outputs": [],
   "source": [
    "def histogram(s):\n",
    "    d = dict()\n",
    "    \n",
    "    for c in s: # percorre cada letra da string 's'\n",
    "        d[c] = d.get(c, 0) + 1 # obtém o valor atual de d[c] ou 0, e soma 1\n",
    "    \n",
    "    return d"
   ]
  },
  {
   "cell_type": "markdown",
   "metadata": {},
   "source": [
    "<h2> 11.3 - Loop e dicionários </h2>"
   ]
  },
  {
   "cell_type": "markdown",
   "metadata": {},
   "source": [
    "Se usar um dicionário em uma instrução for, ela percorre as chaves do dicionário. Por exemplo, print_hist exibe cada chave e o valor correspondente:"
   ]
  },
  {
   "cell_type": "code",
   "execution_count": 15,
   "metadata": {},
   "outputs": [],
   "source": [
    "def print_hist(h):\n",
    "    for c in h:\n",
    "        print(c, h[c])"
   ]
  },
  {
   "cell_type": "code",
   "execution_count": 16,
   "metadata": {},
   "outputs": [
    {
     "name": "stdout",
     "output_type": "stream",
     "text": [
      "p 1\n",
      "a 1\n",
      "r 2\n",
      "o 1\n",
      "t 1\n"
     ]
    }
   ],
   "source": [
    "h = histogram('parrot')\n",
    "print_hist(h)"
   ]
  },
  {
   "cell_type": "markdown",
   "metadata": {},
   "source": [
    "Novamente, as chaves não estão em nenhuma ordem determinada. Para atravessar as chaves em ordem ascendente, você pode usar a função integrada sorted:"
   ]
  },
  {
   "cell_type": "code",
   "execution_count": 17,
   "metadata": {},
   "outputs": [
    {
     "name": "stdout",
     "output_type": "stream",
     "text": [
      "a 1\n",
      "o 1\n",
      "p 1\n",
      "r 2\n",
      "t 1\n"
     ]
    }
   ],
   "source": [
    "for key in sorted(h):\n",
    "    print(key, h[key])"
   ]
  },
  {
   "cell_type": "markdown",
   "metadata": {},
   "source": [
    "<h2> 11.4 - Busca reversa </h2>\n",
    "\n",
    "Considerando um dicionário d e uma chave k, é fácil encontrar o valor correspondente v =\n",
    "d [k]. Esta operação chama-se busca."
   ]
  },
  {
   "cell_type": "markdown",
   "metadata": {},
   "source": [
    "Mas e se você tiver v e quiser encontrar k? Você tem dois problemas: em primeiro lugar,\n",
    "pode haver mais de uma chave que esteja mapeada ao valor v. Dependendo da aplicação,\n",
    "quem sabe você pode escolher um, ou talvez tenha de fazer uma lista que contenha todos\n",
    "eles. Em segundo lugar, não há sintaxe simples para fazer uma busca reversa; é preciso\n",
    "procurar. Aqui está uma função que recebe um valor e retorna a primeira chave mapeada ao valor\n",
    "dado:"
   ]
  },
  {
   "cell_type": "code",
   "execution_count": 4,
   "metadata": {},
   "outputs": [],
   "source": [
    "def reverse_lookup(d, v):\n",
    "    for k in d:\n",
    "        if d[k] == v:\n",
    "            return k\n",
    "    \n",
    "    raise LookupError()"
   ]
  },
  {
   "cell_type": "markdown",
   "metadata": {},
   "source": [
    "Essa função é mais um exemplo do padrão de busca, mas usa um recurso que ainda não\n",
    "tínhamos visto: raise. A instrução raise causa uma exceção; neste caso, causa um\n",
    "LookupError, que é uma exceção integrada, usada para indicar que uma operação de busca\n",
    "falhou.\n",
    "Se chegarmos ao fim do loop significa que v não aparece no dicionário como um valor,\n",
    "portanto apresentaremos uma exceção.\n",
    "\n",
    "Aqui está um exemplo de uma busca reversa bem sucedida:"
   ]
  },
  {
   "cell_type": "code",
   "execution_count": 5,
   "metadata": {},
   "outputs": [
    {
     "data": {
      "text/plain": [
       "'r'"
      ]
     },
     "execution_count": 5,
     "metadata": {},
     "output_type": "execute_result"
    }
   ],
   "source": [
    "h = histogram('parrot')\n",
    "k = reverse_lookup(h, 2)\n",
    "k"
   ]
  },
  {
   "cell_type": "markdown",
   "metadata": {},
   "source": [
    "E uma mal sucedida:"
   ]
  },
  {
   "cell_type": "code",
   "execution_count": 6,
   "metadata": {},
   "outputs": [
    {
     "ename": "LookupError",
     "evalue": "",
     "output_type": "error",
     "traceback": [
      "\u001b[1;31m---------------------------------------------------------------------------\u001b[0m",
      "\u001b[1;31mLookupError\u001b[0m                               Traceback (most recent call last)",
      "\u001b[1;32m~\\AppData\\Local\\Temp\\ipykernel_4068\\2285913200.py\u001b[0m in \u001b[0;36m<module>\u001b[1;34m\u001b[0m\n\u001b[1;32m----> 1\u001b[1;33m \u001b[0mk\u001b[0m \u001b[1;33m=\u001b[0m \u001b[0mreverse_lookup\u001b[0m\u001b[1;33m(\u001b[0m\u001b[0mh\u001b[0m\u001b[1;33m,\u001b[0m \u001b[1;36m3\u001b[0m\u001b[1;33m)\u001b[0m\u001b[1;33m\u001b[0m\u001b[1;33m\u001b[0m\u001b[0m\n\u001b[0m\u001b[0;32m      2\u001b[0m \u001b[0mk\u001b[0m\u001b[1;33m\u001b[0m\u001b[1;33m\u001b[0m\u001b[0m\n",
      "\u001b[1;32m~\\AppData\\Local\\Temp\\ipykernel_4068\\2054117324.py\u001b[0m in \u001b[0;36mreverse_lookup\u001b[1;34m(d, v)\u001b[0m\n\u001b[0;32m      4\u001b[0m             \u001b[1;32mreturn\u001b[0m \u001b[0mk\u001b[0m\u001b[1;33m\u001b[0m\u001b[1;33m\u001b[0m\u001b[0m\n\u001b[0;32m      5\u001b[0m \u001b[1;33m\u001b[0m\u001b[0m\n\u001b[1;32m----> 6\u001b[1;33m     \u001b[1;32mraise\u001b[0m \u001b[0mLookupError\u001b[0m\u001b[1;33m(\u001b[0m\u001b[1;33m)\u001b[0m\u001b[1;33m\u001b[0m\u001b[1;33m\u001b[0m\u001b[0m\n\u001b[0m",
      "\u001b[1;31mLookupError\u001b[0m: "
     ]
    }
   ],
   "source": [
    "k = reverse_lookup(h, 3)\n",
    "k"
   ]
  },
  {
   "cell_type": "markdown",
   "metadata": {},
   "source": [
    "O efeito causado por você ao apresentar uma exceção é igual ao causado pelo Python\n",
    "quando faz o mesmo: ele exibe um traceback e uma mensagem de erro.\n",
    "A instrução raise pode receber uma mensagem de erro detalhada como argumento\n",
    "opcional. Por exemplo:\n",
    "\n",
    "<code> \n",
    ">>> raise LookupError('value does not appear in the dictionary')\n",
    "Traceback (most recent call last):\n",
    "File \"<stdin>\", line 1, in ?\n",
    "LookupError: value does not appear in the dictionary\n",
    "</code>\n",
    "\n",
    "Uma busca reversa é muito mais lenta que uma busca no sentido normal; se for preciso\n",
    "fazê-lo muitas vezes, ou se o dicionário ficar muito grande, o desempenho do seu\n",
    "programa será prejudicado."
   ]
  },
  {
   "cell_type": "markdown",
   "metadata": {},
   "source": [
    "<h2> 11.5 - Dicionários e listas </h2>\n",
    "\n",
    "As listas podem aparecer como valores em um dicionário. Por exemplo, se você receber\n",
    "um dicionário que mapeie letras e frequências, é uma boa ideia invertê-lo; isto é, crie um\n",
    "dicionário que mapeie de frequências a letras. Como pode haver várias letras com a\n",
    "mesma frequência, cada valor no dicionário invertido deve ser uma lista de letras."
   ]
  },
  {
   "cell_type": "markdown",
   "metadata": {},
   "source": [
    "Aqui está uma função que inverte um dicionário:"
   ]
  },
  {
   "cell_type": "code",
   "execution_count": 7,
   "metadata": {},
   "outputs": [],
   "source": [
    "def invert_dict(d):\n",
    "    inverse = dict()\n",
    "\n",
    "    for key in d: # a cada chave do dicionário\n",
    "        val = d[key] # val é igual ao valor no índice 'key'\n",
    "        if val not in inverse: # se val (chave) não existir no dicionário 'inverse'\n",
    "            inverse[val] = [key] # inverse[val] na posição de val será igual ao valor da chave \n",
    "        else:\n",
    "            inverse[val].append(key)\n",
    "    \n",
    "    return inverse"
   ]
  },
  {
   "cell_type": "markdown",
   "metadata": {},
   "source": [
    "Cada vez que o programa passar pelo loop, a key recebe uma chave de d e val recebe o\n",
    "valor correspondente. Se val não estiver em inverse significa que não foi vista antes, então\n",
    "criamos um item e o inicializamos com um item avulso (em inglês, singleton, uma lista\n",
    "que contém um único elemento). Se não for o caso é porque vimos esse valor antes, então\n",
    "acrescentamos a chave correspondente à lista.\n",
    "Aqui está um exemplo:"
   ]
  },
  {
   "cell_type": "code",
   "execution_count": 8,
   "metadata": {},
   "outputs": [
    {
     "data": {
      "text/plain": [
       "{'p': 1, 'a': 1, 'r': 2, 'o': 1, 't': 1}"
      ]
     },
     "execution_count": 8,
     "metadata": {},
     "output_type": "execute_result"
    }
   ],
   "source": [
    "hist = histogram('parrot')\n",
    "hist"
   ]
  },
  {
   "cell_type": "code",
   "execution_count": 9,
   "metadata": {},
   "outputs": [
    {
     "data": {
      "text/plain": [
       "{1: ['p', 'a', 'o', 't'], 2: ['r']}"
      ]
     },
     "execution_count": 9,
     "metadata": {},
     "output_type": "execute_result"
    }
   ],
   "source": [
    "inverse = invert_dict(hist)\n",
    "inverse"
   ]
  },
  {
   "cell_type": "markdown",
   "metadata": {},
   "source": [
    "Essa função invert_dict(d) faz o seguinte:\n",
    "\n",
    "- Ela cria um novo dicionário chamado inverse, que será usado para armazenar o dicionário invertido.\n",
    "\n",
    "- Depois, ela percorre cada chave (key) do dicionário original d.\n",
    "\n",
    "- Para cada chave, ela obtém o valor correspondente (val).\n",
    "\n",
    "- Se esse valor (val) ainda não estiver no dicionário inverse, isso significa que é a primeira vez que encontramos esse valor, então:\n",
    "\n",
    "- Criamos uma nova entrada no inverse, onde o valor (val) será a nova chave, e a chave original (key) será armazenada em uma lista. Se o valor (val) já estiver no inverse, significa que já vimos esse valor antes, então:\n",
    "\n",
    "- Apenas adicionamos a chave original (key) à lista associada a esse valor.\n",
    "Em resumo, a função inverte o dicionário: os valores viram as chaves e as chaves viram valores (em uma lista, porque pode haver mais de uma chave com o mesmo valor)."
   ]
  },
  {
   "attachments": {
    "image.png": {
     "image/png": "[encoded data removed]"
    }
   },
   "cell_type": "markdown",
   "metadata": {},
   "source": [
    "A Figura 11.1 é um diagrama de estado mostrando hist e inverse. Um dicionário é\n",
    "representado como uma caixa com o tipo dict acima dela e os pares chave-valor no\n",
    "interior. Se os valores forem números inteiros, de ponto flutuante ou strings, desenho-os\n",
    "dentro da caixa, mas normalmente prefiro desenhar listas do lado de fora, para manter o\n",
    "diagrama simples.\n",
    "\n",
    "![image.png](attachment:image.png)"
   ]
  },
  {
   "cell_type": "markdown",
   "metadata": {},
   "source": [
    "As listas podem ser valores em um dicionário, como mostra este exemplo, mas não podem\n",
    "ser chaves. Isso é o que acontece se você tentar:"
   ]
  },
  {
   "cell_type": "code",
   "execution_count": 10,
   "metadata": {},
   "outputs": [
    {
     "ename": "TypeError",
     "evalue": "unhashable type: 'list'",
     "output_type": "error",
     "traceback": [
      "\u001b[1;31m---------------------------------------------------------------------------\u001b[0m",
      "\u001b[1;31mTypeError\u001b[0m                                 Traceback (most recent call last)",
      "\u001b[1;32m~\\AppData\\Local\\Temp\\ipykernel_4068\\4205075499.py\u001b[0m in \u001b[0;36m<module>\u001b[1;34m\u001b[0m\n\u001b[0;32m      1\u001b[0m \u001b[0mt\u001b[0m \u001b[1;33m=\u001b[0m \u001b[1;33m[\u001b[0m\u001b[1;36m1\u001b[0m\u001b[1;33m,\u001b[0m \u001b[1;36m2\u001b[0m\u001b[1;33m,\u001b[0m \u001b[1;36m3\u001b[0m\u001b[1;33m]\u001b[0m\u001b[1;33m\u001b[0m\u001b[1;33m\u001b[0m\u001b[0m\n\u001b[0;32m      2\u001b[0m \u001b[0md\u001b[0m \u001b[1;33m=\u001b[0m \u001b[0mdict\u001b[0m\u001b[1;33m(\u001b[0m\u001b[1;33m)\u001b[0m\u001b[1;33m\u001b[0m\u001b[1;33m\u001b[0m\u001b[0m\n\u001b[1;32m----> 3\u001b[1;33m \u001b[0md\u001b[0m\u001b[1;33m[\u001b[0m\u001b[0mt\u001b[0m\u001b[1;33m]\u001b[0m \u001b[1;33m=\u001b[0m \u001b[1;34m'oops'\u001b[0m\u001b[1;33m\u001b[0m\u001b[1;33m\u001b[0m\u001b[0m\n\u001b[0m",
      "\u001b[1;31mTypeError\u001b[0m: unhashable type: 'list'"
     ]
    }
   ],
   "source": [
    "t = [1, 2, 3]\n",
    "d = dict()\n",
    "d[t] = 'oops'"
   ]
  },
  {
   "attachments": {
    "image.png": {
     "image/png": "[encoded data removed]"
    }
   },
   "cell_type": "markdown",
   "metadata": {},
   "source": [
    "<h2> 11.6 - Memos </h2>\n",
    "\n",
    "Se usou a função de fibonacci em “Mais um exemplo”, na página 101, pode ter notado que\n",
    "quanto maior o argumento dado mais tempo a função leva para ser executada. Além disso,\n",
    "o tempo de execução aumenta rapidamente.\n",
    "Para entender por que, considere a Figura 11.2, que mostra o gráfico de chamada de\n",
    "fibonacci com n=4.\n",
    "\n",
    "![image.png](attachment:image.png)\n",
    "\n",
    "Um gráfico de chamada mostra um conjunto de frames de função, com linhas que unem\n",
    "cada frame aos frames das funções que chama. Na parte de cima do gráfico, fibonacci\n",
    "com n=4 chama fibonacci com n=3 e n=2. Por sua vez, fibonacci com n=3 chama\n",
    "fibonacci com n=2 e n=1. E assim por diante.\n",
    "\n",
    "Conte quantas vezes fibonacci(0) e fibonacci(1) são chamadas. Essa é uma solução\n",
    "ineficiente para o problema, e piora conforme o argumento se torna maior.\n",
    "Uma solução é acompanhar os valores que já foram calculados, guardando-os em um\n",
    "dicionário. Um valor calculado anteriormente que é guardado para uso posterior é\n",
    "chamado de <b> memo </b>. Aqui está uma versão com memos de fibonacci:"
   ]
  },
  {
   "cell_type": "code",
   "execution_count": 11,
   "metadata": {},
   "outputs": [],
   "source": [
    "known = {0:0, 1:1} # já sabemos que fibonacci(0) = 0 e fibonacci(1) = 1\n",
    "\n",
    "def fibonacci(n): # se já calculamos fibonacci(n), pegamos o valor do dicionário\n",
    "    if n in known:\n",
    "        return known[n]\n",
    "    \n",
    "    # caso contrário, calculamos fibonacci(n-1) e fibonacci(n-2)\n",
    "    res = fibonacci(n-1) + fibonacci(n-2)\n",
    "    known[n] = res # guardamos esse resultado no dicionário para uso futuro\n",
    "    \n",
    "    return res"
   ]
  },
  {
   "cell_type": "markdown",
   "metadata": {},
   "source": [
    "known é um dicionário que monitora os números de Fibonacci que já conhecemos. Começa\n",
    "com dois itens: 0 mapeia a 0 e 1 mapeia a 1.\n",
    "Sempre que fibonacci é chamada, ela verifica known. Se o resultado já estiver lá, pode\n",
    "voltar imediatamente. Se não for o caso, é preciso calcular o novo valor, acrescentá-lo ao\n",
    "dicionário e devolvê-lo.\n",
    "Se você executar essa versão de fibonacci e a comparar com a original, descobrirá que é\n",
    "muito mais rápida."
   ]
  },
  {
   "cell_type": "markdown",
   "metadata": {},
   "source": [
    "<b> Inicialização </b>\n",
    "Temos o dicionário inicial: known = {0: 0, 1: 1}\n",
    "Chamamos <b>fibonacci(5)</b>\n",
    "Passo a passo da execução:\n",
    "Chamada: <b>fibonacci(5)</b>\n",
    "\n",
    "5 não está no dicionário, então a função vai calcular <b>fibonacci(4)</b> + <b>fibonacci(3)</b>.\n",
    "Chamada: <b>fibonacci(4)</b>\n",
    "\n",
    "4 não está no dicionário, então a função vai calcular <b>fibonacci(3)</b> + <b>fibonacci(2)</b>.\n",
    "Chamada: <b>fibonacci(3)</b>\n",
    "\n",
    "3 não está no dicionário, então a função vai calcular <b>fibonacci(2)</b> + <b>fibonacci(1)</b>.\n",
    "Chamada: <b>fibonacci(2)</b>\n",
    "\n",
    "2 não está no dicionário, então a função vai calcular <b>fibonacci(1)</b> + <b>fibonacci(0)</b>.\n",
    "Chamada: <b>fibonacci(1)</b>\n",
    "\n",
    "1 está no dicionário! Retorna 1.\n",
    "Chamada: <b>fibonacci(0)</b>\n",
    "\n",
    "0 está no dicionário! Retorna 0.\n",
    "\n",
    "Agora que temos <b>fibonacci(1)</b> e <b>fibonacci(0)</b>, podemos calcular <b>fibonacci(2)</b>:\n",
    "\n",
    "<code>\n",
    "res = 1 + 0 = 1\n",
    "</code>\n",
    "\n",
    "- Armazenamos fibonacci(2) no dicionário: known[2] = 1.\n",
    "- O dicionário agora é: {0: 0, 1: 1, 2: 1}.\n",
    "- Retorna 1 para a chamada anterior (fibonacci(3)).\n",
    "\n",
    "Continuando: <b> fibonacci(3)</b>\n",
    "\n",
    "Agora que já temos <b>fibonacci(2) = 1</b> e <b>fibonacci(1) = 1</b>, podemos calcular <b>fibonacci(3)</b>:\n",
    "\n",
    "<code>\n",
    "res = 1 + 1 = 2\n",
    "</code>\n",
    "\n",
    "- Armazenamos <b>fibonacci(3)</b> no dicionário: known[3] = 2.\n",
    "- O dicionário agora é: {0: 0, 1: 1, 2: 1, 3: 2}.\n",
    "- Retorna 2 para a chamada anterior (<b>fibonacci(4)</b>).\n",
    "\n",
    "Continuando: <b>fibonacci(4)</b>\n",
    "\n",
    "Agora que já temos <b>fibonacci(3) = 2</b> e <b>fibonacci(2) = 1</b>, podemos calcular <b>fibonacci(4)</b>:\n",
    "\n",
    "<code>\n",
    "res = 2 + 1 = 3\n",
    "</code>\n",
    "\n",
    "- Armazenamos <b>fibonacci(4)</b> no dicionário: known[4] = 3.\n",
    "- O dicionário agora é: {0: 0, 1: 1, 2: 1, 3: 2, 4: 3}.\n",
    "- Retorna 3 para a chamada anterior (<b>fibonacci(5)</b>).\n",
    "\n",
    "Finalmente: <b>fibonacci(5)</b>\n",
    "\n",
    "Agora que já temos <b>fibonacci(4) = 3</b> e <b>fibonacci(3) = 2</b>, podemos calcular <b>fibonacci(5)</b>:\n",
    "\n",
    "<code>\n",
    "res = 3 + 2 = 5\n",
    "</code>\n",
    "\n",
    "- Armazenamos <b>fibonacci(5)</b> no dicionário: known[5] = 5.\n",
    "\n",
    "- O dicionário agora é: {0: 0, 1: 1, 2: 1, 3: 2, 4: 3, 5: 5}.\n",
    "- Retorna 5."
   ]
  },
  {
   "cell_type": "markdown",
   "metadata": {},
   "source": [
    "<h2> 11.7 - Variáveis globais </h2>\n",
    "\n",
    "No exemplo anterior, known é criada fora da função, então pertence ao frame especial\n",
    "chamado __main__. <b>As variáveis em __main__ às vezes são chamadas de globais, porque\n",
    "podem ser acessadas de qualquer função</b>. Em contraste com as variáveis locais, que\n",
    "desaparecem quando sua função termina, as variáveis globais persistem de uma chamada\n",
    "da função à seguinte.\n",
    "\n",
    "É comum usar variáveis globais para flags; isto é, variáveis booleanas que indicam\n",
    "(“flag”) se uma condição é verdadeira. Por exemplo, alguns programas usam um flag\n",
    "denominado verbose para controlar o nível de detalhe da saída:"
   ]
  },
  {
   "cell_type": "code",
   "execution_count": 12,
   "metadata": {},
   "outputs": [],
   "source": [
    "verbose = True\n",
    "\n",
    "def example1():\n",
    "    if verbose:\n",
    "        print('Running example1')"
   ]
  },
  {
   "cell_type": "markdown",
   "metadata": {},
   "source": [
    "Se tentar reatribuir uma variável global, você pode se surpreender. O próximo exemplo\n",
    "mostra como acompanhar se a função foi chamada:"
   ]
  },
  {
   "cell_type": "code",
   "execution_count": 16,
   "metadata": {},
   "outputs": [],
   "source": [
    "been_called = False\n",
    "\n",
    "def example2():\n",
    "    been_called = True # ERRADO"
   ]
  },
  {
   "cell_type": "code",
   "execution_count": 17,
   "metadata": {},
   "outputs": [
    {
     "data": {
      "text/plain": [
       "False"
      ]
     },
     "execution_count": 17,
     "metadata": {},
     "output_type": "execute_result"
    }
   ],
   "source": [
    "been_called"
   ]
  },
  {
   "cell_type": "markdown",
   "metadata": {},
   "source": [
    "Porém, se executá-la, você verá que o valor de been_called não se altera. O problema é\n",
    "que example2 cria uma nova variável local chamada been_called. A variável local some\n",
    "quando a função termina e não tem efeito sobre a variável global.\n",
    "\n",
    "Para reatribuir uma variável global dentro de uma função é preciso declarar a variável\n",
    "como global antes de usá-la:"
   ]
  },
  {
   "cell_type": "code",
   "execution_count": 18,
   "metadata": {},
   "outputs": [],
   "source": [
    "been_called = False\n",
    "\n",
    "def example2():\n",
    "    global been_called\n",
    "    been_called = True"
   ]
  },
  {
   "cell_type": "code",
   "execution_count": 19,
   "metadata": {},
   "outputs": [
    {
     "data": {
      "text/plain": [
       "True"
      ]
     },
     "execution_count": 19,
     "metadata": {},
     "output_type": "execute_result"
    }
   ],
   "source": [
    "example2()\n",
    "been_called"
   ]
  },
  {
   "cell_type": "markdown",
   "metadata": {},
   "source": [
    "A instrução global diz ao interpretador algo como “Nesta função, quando digo\n",
    "been_called, estou falando da variável global; não crie uma local”."
   ]
  },
  {
   "cell_type": "markdown",
   "metadata": {},
   "source": [
    "Aqui está um exemplo que tenta atualizar uma variável global:"
   ]
  },
  {
   "cell_type": "code",
   "execution_count": 20,
   "metadata": {},
   "outputs": [],
   "source": [
    "count = 0\n",
    "\n",
    "def example3():\n",
    "    count = count + 1 # ERRADO"
   ]
  },
  {
   "cell_type": "markdown",
   "metadata": {},
   "source": [
    "Se executá-la, você recebe:\n",
    "\n",
    "<code>\n",
    "UnboundLocalError: local variable 'count' referenced before assignment\n",
    "</code>"
   ]
  },
  {
   "cell_type": "code",
   "execution_count": 22,
   "metadata": {},
   "outputs": [
    {
     "ename": "UnboundLocalError",
     "evalue": "local variable 'count' referenced before assignment",
     "output_type": "error",
     "traceback": [
      "\u001b[1;31m---------------------------------------------------------------------------\u001b[0m",
      "\u001b[1;31mUnboundLocalError\u001b[0m                         Traceback (most recent call last)",
      "\u001b[1;32m~\\AppData\\Local\\Temp\\ipykernel_4068\\2181695045.py\u001b[0m in \u001b[0;36m<module>\u001b[1;34m\u001b[0m\n\u001b[1;32m----> 1\u001b[1;33m \u001b[0mexample3\u001b[0m\u001b[1;33m(\u001b[0m\u001b[1;33m)\u001b[0m \u001b[1;31m# retorna esse erro pois transforma ela em variável local, e sendo local, ela não foi inicializada anteriormente\u001b[0m\u001b[1;33m\u001b[0m\u001b[1;33m\u001b[0m\u001b[0m\n\u001b[0m",
      "\u001b[1;32m~\\AppData\\Local\\Temp\\ipykernel_4068\\774958573.py\u001b[0m in \u001b[0;36mexample3\u001b[1;34m()\u001b[0m\n\u001b[0;32m      2\u001b[0m \u001b[1;33m\u001b[0m\u001b[0m\n\u001b[0;32m      3\u001b[0m \u001b[1;32mdef\u001b[0m \u001b[0mexample3\u001b[0m\u001b[1;33m(\u001b[0m\u001b[1;33m)\u001b[0m\u001b[1;33m:\u001b[0m\u001b[1;33m\u001b[0m\u001b[1;33m\u001b[0m\u001b[0m\n\u001b[1;32m----> 4\u001b[1;33m     \u001b[0mcount\u001b[0m \u001b[1;33m=\u001b[0m \u001b[0mcount\u001b[0m \u001b[1;33m+\u001b[0m \u001b[1;36m1\u001b[0m \u001b[1;31m# ERRADO\u001b[0m\u001b[1;33m\u001b[0m\u001b[1;33m\u001b[0m\u001b[0m\n\u001b[0m",
      "\u001b[1;31mUnboundLocalError\u001b[0m: local variable 'count' referenced before assignment"
     ]
    }
   ],
   "source": [
    "example3() # retorna esse erro pois transforma ela em variável local, e sendo local, ela não foi inicializada anteriormente"
   ]
  },
  {
   "cell_type": "markdown",
   "metadata": {},
   "source": [
    "O Python supõe que count seja local, e dentro desta suposição, a variável está sendo lida\n",
    "antes de ser escrita. A solução, mais uma vez, é declarar count como global:"
   ]
  },
  {
   "cell_type": "code",
   "execution_count": 23,
   "metadata": {},
   "outputs": [],
   "source": [
    "def example3():\n",
    "    global count\n",
    "    count += 1"
   ]
  },
  {
   "cell_type": "code",
   "execution_count": 25,
   "metadata": {},
   "outputs": [
    {
     "data": {
      "text/plain": [
       "2"
      ]
     },
     "execution_count": 25,
     "metadata": {},
     "output_type": "execute_result"
    }
   ],
   "source": [
    "example3()\n",
    "count"
   ]
  },
  {
   "cell_type": "markdown",
   "metadata": {},
   "source": [
    "Se uma variável global se referir a um valor mutável, você pode alterar o valor sem\n",
    "declarar a variável:"
   ]
  },
  {
   "cell_type": "code",
   "execution_count": 26,
   "metadata": {},
   "outputs": [],
   "source": [
    "known = {0:0, 1:1}\n",
    "\n",
    "def example4():\n",
    "    known[2] = 1"
   ]
  },
  {
   "cell_type": "code",
   "execution_count": 27,
   "metadata": {},
   "outputs": [
    {
     "data": {
      "text/plain": [
       "{0: 0, 1: 1, 2: 1}"
      ]
     },
     "execution_count": 27,
     "metadata": {},
     "output_type": "execute_result"
    }
   ],
   "source": [
    "example4()\n",
    "known"
   ]
  },
  {
   "cell_type": "markdown",
   "metadata": {},
   "source": [
    "Então você pode adicionar, retirar e substituir elementos de uma lista global ou dicionário,\n",
    "mas se quiser reatribuir a variável, precisa declará-la:"
   ]
  },
  {
   "cell_type": "code",
   "execution_count": 28,
   "metadata": {},
   "outputs": [],
   "source": [
    "def example5():\n",
    "    global known\n",
    "    known = dict()"
   ]
  },
  {
   "cell_type": "code",
   "execution_count": 29,
   "metadata": {},
   "outputs": [
    {
     "data": {
      "text/plain": [
       "{}"
      ]
     },
     "execution_count": 29,
     "metadata": {},
     "output_type": "execute_result"
    }
   ],
   "source": [
    "example5()\n",
    "known"
   ]
  },
  {
   "cell_type": "markdown",
   "metadata": {},
   "source": [
    "<b> As variáveis globais podem ser úteis, mas se você tiver muitas delas e alterá-las com\n",
    "frequência, isso poderá dificultar a depuração do programa. </b>"
   ]
  },
  {
   "cell_type": "markdown",
   "metadata": {},
   "source": [
    "Variáveis globais podem ser acessadas e modificadas em qualquer parte do programa, o que pode parecer conveniente em alguns casos. No entanto, o problema surge quando você tem muitas variáveis globais sendo alteradas em diferentes lugares. Isso torna o código confuso e difícil de entender por alguns motivos:\n",
    "\n",
    "- <b>Dificuldade em rastrear mudanças</b>: Se uma variável global é alterada em várias partes do código, pode ser difícil saber de onde veio uma mudança específica. Isso dificulta a localização de bugs.\n",
    "\n",
    "- <b>Interferência entre partes do programa</b>: Uma função ou parte do código pode acidentalmente alterar uma variável global, afetando outras partes do programa que também usam essa variável. Isso pode causar erros inesperados.\n",
    "\n",
    "- <b>Mais difícil de testar e manter</b>: Como as variáveis globais podem ser alteradas de qualquer lugar, cada parte do código depende do estado dessas variáveis. Isso torna o programa mais difícil de testar e manter, porque qualquer mudança em uma variável global pode impactar muitas partes do código.\n",
    "\n",
    "Por isso, é recomendado usar variáveis locais (dentro de funções) sempre que possível, para que as mudanças fiquem contidas e fáceis de rastrear."
   ]
  },
  {
   "cell_type": "markdown",
   "metadata": {},
   "source": [
    "<h2> 11.8 - Depuração </h2>\n",
    "\n",
    "Ao trabalhar com conjuntos de dados maiores, depurar exibindo e verificando a saída à\n",
    "mão pode ser trabalhoso. Aqui estão algumas sugestões para depurar grandes conjuntos de\n",
    "dados:\n",
    "- Reduza a entrada: \n",
    "Se for possível, reduza o tamanho do conjunto de dados. Por exemplo, se o programa\n",
    "lê um arquivo de texto, comece com apenas as 10 primeiras linhas, ou com o menor\n",
    "exemplo que puder encontrar. Você pode editar os próprios arquivos ou alterar o\n",
    "programa para que leia só as primeiras n linhas (é melhor).\n",
    "Se houver um erro, você pode reduzir n ao menor valor que manifeste o erro, e então\n",
    "aumentá-lo gradativamente até encontrar e corrigir o erro.\n",
    "- Verifique os resumos e tipos: \n",
    "Em vez de imprimir e verificar o conjunto de dados inteiro, pense em exibir resumos\n",
    "dos dados: por exemplo, o número de itens em um dicionário ou o total de uma lista\n",
    "de números.\n",
    "Uma causa comum de erros em tempo de execução são valores de tipo incompatível.\n",
    "Para depurar essa espécie de erro, muitas vezes basta exibir o tipo de um valor.\n",
    "- Crie autoverificações: \n",
    "É possível escrever o código para verificar erros automaticamente. Por exemplo, se\n",
    "estiver calculando a média de uma lista de números, você pode verificar se o\n",
    "resultado não é mais alto que o maior elemento da lista ou mais baixo que o menor.\n",
    "Isso é chamado de “verificação de sanidade” porque descobre resultados “insanos”.\n",
    "Outro tipo de verificação compara os resultados de dois cálculos diferentes para ver\n",
    "se são consistentes. Isso é chamado de “verificação de consistência”.\n",
    "- Formate a saída: \n",
    "A formatação da saída para depuração pode facilitar a busca de erros. Vimos um\n",
    "exemplo em “Depuração”, na página 172. O módulo pprint apresenta uma função\n",
    "pprint que exibe tipos integrados em um formato mais legível para humanos\n",
    "(pprint é a abreviação de “pretty print” (bela exibição)).\n",
    "Reforçando, o tempo que você passar construindo o scaffolding (o andaime) pode reduzir\n",
    "o tempo de depuração."
   ]
  },
  {
   "cell_type": "markdown",
   "metadata": {},
   "source": [
    "<h2> Verificação de Sanidade </h2>\n",
    "Uma verificação de sanidade serve para garantir que os resultados de um cálculo não sejam absurdos. Você compara o resultado com algo que você já sabe ser verdade. Por exemplo:\n",
    "\n",
    "Exemplo: Média de uma lista\n",
    "\n",
    "Se você está calculando a média de uma lista de números, o resultado deve estar entre o menor e o maior número dessa lista.\n",
    "Se a média for menor que o menor número ou maior que o maior número, isso indica que algo está errado no cálculo."
   ]
  },
  {
   "cell_type": "code",
   "execution_count": 1,
   "metadata": {},
   "outputs": [
    {
     "name": "stdout",
     "output_type": "stream",
     "text": [
      "Média calculada corretamente: 30.0\n"
     ]
    }
   ],
   "source": [
    "numeros = [10, 20, 30, 40, 50]\n",
    "media = sum(numeros) / len(numeros)\n",
    "\n",
    "# Verificação de sanidade\n",
    "if media < min(numeros) or media > max(numeros):\n",
    "    print(\"Erro: a média está fora dos limites dos valores da lista!\")\n",
    "else:\n",
    "    print(\"Média calculada corretamente:\", media)"
   ]
  },
  {
   "cell_type": "markdown",
   "metadata": {},
   "source": [
    "<h2> Verificação de Consistência </h2>\n",
    "\n",
    "A verificação de consistência compara resultados de dois métodos diferentes para resolver o mesmo problema. Se ambos derem o mesmo resultado, é um bom sinal de que estão corretos.\n",
    "\n",
    "Exemplo: Soma de uma lista\n",
    "\n",
    "Você pode calcular a soma de uma lista somando cada número ou usando a função sum().\n",
    "Depois, compara os resultados dos dois métodos."
   ]
  },
  {
   "cell_type": "code",
   "execution_count": 2,
   "metadata": {},
   "outputs": [
    {
     "name": "stdout",
     "output_type": "stream",
     "text": [
      "Soma consistente: 150\n"
     ]
    }
   ],
   "source": [
    "numeros = [10, 20, 30, 40, 50]\n",
    "\n",
    "# Método 1: usando sum()\n",
    "soma1 = sum(numeros)\n",
    "\n",
    "# Método 2: somando manualmente\n",
    "soma2 = 0\n",
    "for num in numeros:\n",
    "    soma2 += num\n",
    "\n",
    "# Verificação de consistência\n",
    "if soma1 == soma2:\n",
    "    print(\"Soma consistente:\", soma1)\n",
    "else:\n",
    "    print(\"Erro: resultados inconsistentes!\")\n"
   ]
  },
  {
   "cell_type": "markdown",
   "metadata": {},
   "source": [
    "<b> Resumo </b>\n",
    "\n",
    "- Verificação de Sanidade: Compara o resultado de um cálculo com valores esperados para garantir que o resultado não seja absurdo.\n",
    "\n",
    "- Verificação de Consistência: Compara os resultados de dois métodos diferentes para garantir que ambos produzam o mesmo resultado.\n",
    "Essas verificações ajudam a evitar erros inesperados e a detectar problemas mais cedo no desenvolvimento do seu código."
   ]
  },
  {
   "cell_type": "markdown",
   "metadata": {},
   "source": [
    "<h2>O Módulo pprint</h2>\n",
    "\n",
    "O módulo pprint (abreviação de “pretty print”) é uma ferramenta útil no Python para formatar e exibir coleções de dados como listas e dicionários de forma organizada e legível. Ele melhora a visualização de dados complexos, que podem parecer confusos se simplesmente exibidos com print().\n",
    "\n",
    "<h2> Quando usar pprint? </h2>\n",
    "Exibição de Dados Complexos: Se você tem uma lista ou um dicionário grande, com várias camadas de aninhamento, pprint pode ajudar a ver a estrutura de forma clara.\n",
    "Depuração: Facilita a visualização de erros ou valores inesperados nos dados."
   ]
  },
  {
   "cell_type": "markdown",
   "metadata": {},
   "source": [
    "<h2> Como Usar pprint </h2>\n",
    "Primeiro, você precisa importar o módulo pprint:"
   ]
  },
  {
   "cell_type": "code",
   "execution_count": 87,
   "metadata": {},
   "outputs": [],
   "source": [
    "from pprint import pprint"
   ]
  },
  {
   "cell_type": "markdown",
   "metadata": {},
   "source": [
    "Em seguida, use a função pprint() para exibir a estrutura de dados.\n",
    "\n",
    "Exemplo: Exibindo um dicionário aninhado"
   ]
  },
  {
   "cell_type": "code",
   "execution_count": 88,
   "metadata": {},
   "outputs": [],
   "source": [
    "dados = {\n",
    "    'nome': 'Ana',\n",
    "    'idade': 28,\n",
    "    'enderecos': [\n",
    "        {'cidade': 'São Paulo', 'estado': 'SP'},\n",
    "        {'cidade': 'Rio de Janeiro', 'estado': 'RJ'}\n",
    "    ],\n",
    "    'habilidades': {\n",
    "        'programacao': ['Python', 'SQL'],\n",
    "        'linguas': ['Português', 'Inglês']\n",
    "    }\n",
    "}"
   ]
  },
  {
   "cell_type": "markdown",
   "metadata": {},
   "source": [
    "<b> Usando print </b>"
   ]
  },
  {
   "cell_type": "code",
   "execution_count": 5,
   "metadata": {},
   "outputs": [
    {
     "name": "stdout",
     "output_type": "stream",
     "text": [
      "{'nome': 'Ana', 'idade': 28, 'enderecos': [{'cidade': 'São Paulo', 'estado': 'SP'}, {'cidade': 'Rio de Janeiro', 'estado': 'RJ'}], 'habilidades': {'programacao': ['Python', 'SQL'], 'linguas': ['Português', 'Inglês']}}\n"
     ]
    }
   ],
   "source": [
    "print(dados)"
   ]
  },
  {
   "cell_type": "markdown",
   "metadata": {},
   "source": [
    "<b> Usando pprint</b>"
   ]
  },
  {
   "cell_type": "code",
   "execution_count": 6,
   "metadata": {},
   "outputs": [
    {
     "name": "stdout",
     "output_type": "stream",
     "text": [
      "{'enderecos': [{'cidade': 'São Paulo', 'estado': 'SP'},\n",
      "               {'cidade': 'Rio de Janeiro', 'estado': 'RJ'}],\n",
      " 'habilidades': {'linguas': ['Português', 'Inglês'],\n",
      "                 'programacao': ['Python', 'SQL']},\n",
      " 'idade': 28,\n",
      " 'nome': 'Ana'}\n"
     ]
    }
   ],
   "source": [
    "# Usando pprint para exibir o dicionário de forma legível\n",
    "pprint(dados)"
   ]
  },
  {
   "cell_type": "markdown",
   "metadata": {},
   "source": [
    "<b> Resumo </b>\n",
    "\n",
    "- print() exibe os dados de forma simples e linear.\n",
    "- pprint() organiza e formata os dados, facilitando a leitura, especialmente para estruturas complexas.\n",
    "Usar pprint é uma boa prática quando você precisa entender ou depurar dados complicados no seu código."
   ]
  },
  {
   "cell_type": "markdown",
   "metadata": {},
   "source": [
    "<h2> 11.9 - Glossário </h2>\n",
    "\n",
    "- <b>mapeamento</b>: Relação na qual cada elemento de um conjunto corresponde a um elemento de outro\n",
    "conjunto.\n",
    "\n",
    "- <b>dicionário</b>: Mapeamento de chaves aos seus valores correspondentes.\n",
    "\n",
    "- <b>par chave-valor</b>: Representação do mapeamento de uma chave a um valor.\n",
    "\n",
    "- <b>item</b>: Em um dicionário, outro nome para um par chave-valor.\n",
    "\n",
    "- <b>chave</b>: Objeto que aparece em um dicionário como a primeira parte de um par chave-valor.\n",
    "\n",
    "- <b>valor</b>: Objeto que aparece em um dicionário como a segunda parte de um par chave-valor.\n",
    "Isso é mais específico que o nosso uso anterior da palavra “valor”.\n",
    "\n",
    "- <b>implementação</b>: Uma forma de executar um cálculo.\n",
    "\n",
    "- <b>hashtable</b>: Algoritmo usado para implementar dicionários de Python.\n",
    "\n",
    "- <b>função hash</b>: Função usada por uma hashtable para calcular a posição de uma chave.\n",
    "\n",
    "- <b>hashable</b>: Um tipo que tem uma função hash. Tipos imutáveis como números inteiros, de ponto\n",
    "flutuante e strings são hashable; tipos mutáveis, como listas e dicionários, não são.\n",
    "\n",
    "- <b>busca</b>: Operação de dicionário que recebe uma chave e encontra o valor correspondente.\n",
    "\n",
    "- <b>busca reversa</b>: Operação de dicionário que recebe um valor e encontra uma ou várias chaves que o\n",
    "mapeiem.\n",
    "\n",
    "- <b>instrução raise</b>: Instrução que (deliberadamente) causa uma exceção.\n",
    "\n",
    "- <b>item avulso (singleton)</b>: Uma lista (ou outra sequência) com um único elemento.\n",
    "\n",
    "- <b>gráfico de chamada</b>: Um diagrama que mostra cada frame criado durante a execução de um programa,\n",
    "com uma flecha apontando quem chama a quem é chamado.\n",
    "\n",
    "- <b>memo</b>: Valor já calculado, guardado para não ter que fazer o mesmo cálculo no futuro.\n",
    "\n",
    "- <b>variável global</b>: Variável definida fora de uma função. As variáveis globais podem ser acessadas de qualquer função.\n",
    "\n",
    "- <b>instrução global</b>: Instrução que declara um nome de variável global.\n",
    "\n",
    "- <b>flag</b>: Variável booleana usada para indicar se uma condição é verdadeira.\n",
    "\n",
    "- <b>declaração</b>: Instrução tal como global, que diz ao interpretador algo a respeito de uma variável."
   ]
  },
  {
   "cell_type": "markdown",
   "metadata": {},
   "source": [
    "<h2> 11.10 - Exercícios </h2>"
   ]
  },
  {
   "cell_type": "markdown",
   "metadata": {},
   "source": [
    "<h3> Exercício 11.1 </h3>\n",
    "\n",
    "Escreva uma função que leia as palavras em words.txt e guarde-as como chaves em um\n",
    "dicionário. Não importa quais são os valores. Então você pode usar o operador in como\n",
    "uma forma rápida de verificar se uma string está no dicionário.\n",
    "Se fez o Exercício 10.10, você pode comparar a velocidade desta implementação com o\n",
    "operador in de listas e a busca por bisseção.\n"
   ]
  },
  {
   "cell_type": "code",
   "execution_count": 34,
   "metadata": {},
   "outputs": [],
   "source": [
    "import pandas as pd "
   ]
  },
  {
   "cell_type": "code",
   "execution_count": 35,
   "metadata": {},
   "outputs": [],
   "source": [
    "caminho = 'C:/Users/brend/OneDrive/Documentos/GitHub/pense-em-python/capitulo_11/words.txt'\n",
    "dicionario_de_palavras = {}\n",
    "\n",
    "with open(caminho, 'r') as arquivo_words:\n",
    "    for word in arquivo_words: \n",
    "        w = word.strip()\n",
    "        dicionario_de_palavras[w] = None"
   ]
  },
  {
   "cell_type": "code",
   "execution_count": 36,
   "metadata": {},
   "outputs": [
    {
     "data": {
      "text/plain": [
       "{'aa': None,\n",
       " 'aah': None,\n",
       " 'aahed': None,\n",
       " 'aahing': None,\n",
       " 'aahs': None,\n",
       " 'aal': None,\n",
       " 'aalii': None,\n",
       " 'aaliis': None,\n",
       " 'aals': None,\n",
       " 'aardvark': None,\n",
       " 'aardvarks': None,\n",
       " 'aardwolf': None,\n",
       " 'aardwolves': None,\n",
       " 'aas': None,\n",
       " 'aasvogel': None,\n",
       " 'aasvogels': None,\n",
       " 'aba': None,\n",
       " 'abaca': None,\n",
       " 'abacas': None,\n",
       " 'abaci': None,\n",
       " 'aback': None,\n",
       " 'abacus': None,\n",
       " 'abacuses': None,\n",
       " 'abaft': None,\n",
       " 'abaka': None,\n",
       " 'abakas': None,\n",
       " 'abalone': None,\n",
       " 'abalones': None,\n",
       " 'abamp': None,\n",
       " 'abampere': None,\n",
       " 'abamperes': None,\n",
       " 'abamps': None,\n",
       " 'abandon': None,\n",
       " 'abandoned': None,\n",
       " 'abandoning': None,\n",
       " 'abandonment': None,\n",
       " 'abandonments': None,\n",
       " 'abandons': None,\n",
       " 'abas': None,\n",
       " 'abase': None,\n",
       " 'abased': None,\n",
       " 'abasedly': None,\n",
       " 'abasement': None,\n",
       " 'abasements': None,\n",
       " 'abaser': None,\n",
       " 'abasers': None,\n",
       " 'abases': None,\n",
       " 'abash': None,\n",
       " 'abashed': None,\n",
       " 'abashes': None,\n",
       " 'abashing': None,\n",
       " 'abasing': None,\n",
       " 'abatable': None,\n",
       " 'abate': None,\n",
       " 'abated': None,\n",
       " 'abatement': None,\n",
       " 'abatements': None,\n",
       " 'abater': None,\n",
       " 'abaters': None,\n",
       " 'abates': None,\n",
       " 'abating': None,\n",
       " 'abatis': None,\n",
       " 'abatises': None,\n",
       " 'abator': None,\n",
       " 'abators': None,\n",
       " 'abattis': None,\n",
       " 'abattises': None,\n",
       " 'abattoir': None,\n",
       " 'abattoirs': None,\n",
       " 'abaxial': None,\n",
       " 'abaxile': None,\n",
       " 'abbacies': None,\n",
       " 'abbacy': None,\n",
       " 'abbatial': None,\n",
       " 'abbe': None,\n",
       " 'abbes': None,\n",
       " 'abbess': None,\n",
       " 'abbesses': None,\n",
       " 'abbey': None,\n",
       " 'abbeys': None,\n",
       " 'abbot': None,\n",
       " 'abbotcies': None,\n",
       " 'abbotcy': None,\n",
       " 'abbots': None,\n",
       " 'abbreviate': None,\n",
       " 'abbreviated': None,\n",
       " 'abbreviates': None,\n",
       " 'abbreviating': None,\n",
       " 'abbreviation': None,\n",
       " 'abbreviations': None,\n",
       " 'abdicate': None,\n",
       " 'abdicated': None,\n",
       " 'abdicates': None,\n",
       " 'abdicating': None,\n",
       " 'abdication': None,\n",
       " 'abdications': None,\n",
       " 'abdomen': None,\n",
       " 'abdomens': None,\n",
       " 'abdomina': None,\n",
       " 'abdominal': None,\n",
       " 'abdominally': None,\n",
       " 'abduce': None,\n",
       " 'abduced': None,\n",
       " 'abducens': None,\n",
       " 'abducent': None,\n",
       " 'abducentes': None,\n",
       " 'abduces': None,\n",
       " 'abducing': None,\n",
       " 'abduct': None,\n",
       " 'abducted': None,\n",
       " 'abducting': None,\n",
       " 'abductor': None,\n",
       " 'abductores': None,\n",
       " 'abductors': None,\n",
       " 'abducts': None,\n",
       " 'abeam': None,\n",
       " 'abed': None,\n",
       " 'abele': None,\n",
       " 'abeles': None,\n",
       " 'abelmosk': None,\n",
       " 'abelmosks': None,\n",
       " 'aberrant': None,\n",
       " 'aberrants': None,\n",
       " 'aberration': None,\n",
       " 'aberrations': None,\n",
       " 'abet': None,\n",
       " 'abetment': None,\n",
       " 'abetments': None,\n",
       " 'abets': None,\n",
       " 'abettal': None,\n",
       " 'abettals': None,\n",
       " 'abetted': None,\n",
       " 'abetter': None,\n",
       " 'abetters': None,\n",
       " 'abetting': None,\n",
       " 'abettor': None,\n",
       " 'abettors': None,\n",
       " 'abeyance': None,\n",
       " 'abeyances': None,\n",
       " 'abeyancies': None,\n",
       " 'abeyancy': None,\n",
       " 'abeyant': None,\n",
       " 'abfarad': None,\n",
       " 'abfarads': None,\n",
       " 'abhenries': None,\n",
       " 'abhenry': None,\n",
       " 'abhenrys': None,\n",
       " 'abhor': None,\n",
       " 'abhorred': None,\n",
       " 'abhorrence': None,\n",
       " 'abhorrences': None,\n",
       " 'abhorrent': None,\n",
       " 'abhorrer': None,\n",
       " 'abhorrers': None,\n",
       " 'abhorring': None,\n",
       " 'abhors': None,\n",
       " 'abidance': None,\n",
       " 'abidances': None,\n",
       " 'abide': None,\n",
       " 'abided': None,\n",
       " 'abider': None,\n",
       " 'abiders': None,\n",
       " 'abides': None,\n",
       " 'abiding': None,\n",
       " 'abied': None,\n",
       " 'abies': None,\n",
       " 'abigail': None,\n",
       " 'abigails': None,\n",
       " 'abilities': None,\n",
       " 'ability': None,\n",
       " 'abioses': None,\n",
       " 'abiosis': None,\n",
       " 'abiotic': None,\n",
       " 'abject': None,\n",
       " 'abjectly': None,\n",
       " 'abjectness': None,\n",
       " 'abjectnesses': None,\n",
       " 'abjuration': None,\n",
       " 'abjurations': None,\n",
       " 'abjure': None,\n",
       " 'abjured': None,\n",
       " 'abjurer': None,\n",
       " 'abjurers': None,\n",
       " 'abjures': None,\n",
       " 'abjuring': None,\n",
       " 'ablate': None,\n",
       " 'ablated': None,\n",
       " 'ablates': None,\n",
       " 'ablating': None,\n",
       " 'ablation': None,\n",
       " 'ablations': None,\n",
       " 'ablative': None,\n",
       " 'ablatives': None,\n",
       " 'ablaut': None,\n",
       " 'ablauts': None,\n",
       " 'ablaze': None,\n",
       " 'able': None,\n",
       " 'ablegate': None,\n",
       " 'ablegates': None,\n",
       " 'abler': None,\n",
       " 'ables': None,\n",
       " 'ablest': None,\n",
       " 'ablings': None,\n",
       " 'ablins': None,\n",
       " 'abloom': None,\n",
       " 'abluent': None,\n",
       " 'abluents': None,\n",
       " 'ablush': None,\n",
       " 'abluted': None,\n",
       " 'ablution': None,\n",
       " 'ablutions': None,\n",
       " 'ably': None,\n",
       " 'abmho': None,\n",
       " 'abmhos': None,\n",
       " 'abnegate': None,\n",
       " 'abnegated': None,\n",
       " 'abnegates': None,\n",
       " 'abnegating': None,\n",
       " 'abnegation': None,\n",
       " 'abnegations': None,\n",
       " 'abnormal': None,\n",
       " 'abnormalities': None,\n",
       " 'abnormality': None,\n",
       " 'abnormally': None,\n",
       " 'abnormals': None,\n",
       " 'abo': None,\n",
       " 'aboard': None,\n",
       " 'abode': None,\n",
       " 'aboded': None,\n",
       " 'abodes': None,\n",
       " 'aboding': None,\n",
       " 'abohm': None,\n",
       " 'abohms': None,\n",
       " 'aboideau': None,\n",
       " 'aboideaus': None,\n",
       " 'aboideaux': None,\n",
       " 'aboil': None,\n",
       " 'aboiteau': None,\n",
       " 'aboiteaus': None,\n",
       " 'aboiteaux': None,\n",
       " 'abolish': None,\n",
       " 'abolished': None,\n",
       " 'abolishes': None,\n",
       " 'abolishing': None,\n",
       " 'abolition': None,\n",
       " 'abolitions': None,\n",
       " 'abolla': None,\n",
       " 'abollae': None,\n",
       " 'aboma': None,\n",
       " 'abomas': None,\n",
       " 'abomasa': None,\n",
       " 'abomasal': None,\n",
       " 'abomasi': None,\n",
       " 'abomasum': None,\n",
       " 'abomasus': None,\n",
       " 'abominable': None,\n",
       " 'abominate': None,\n",
       " 'abominated': None,\n",
       " 'abominates': None,\n",
       " 'abominating': None,\n",
       " 'abomination': None,\n",
       " 'abominations': None,\n",
       " 'aboon': None,\n",
       " 'aboral': None,\n",
       " 'aborally': None,\n",
       " 'aboriginal': None,\n",
       " 'aborigine': None,\n",
       " 'aborigines': None,\n",
       " 'aborning': None,\n",
       " 'abort': None,\n",
       " 'aborted': None,\n",
       " 'aborter': None,\n",
       " 'aborters': None,\n",
       " 'aborting': None,\n",
       " 'abortion': None,\n",
       " 'abortions': None,\n",
       " 'abortive': None,\n",
       " 'aborts': None,\n",
       " 'abos': None,\n",
       " 'abought': None,\n",
       " 'aboulia': None,\n",
       " 'aboulias': None,\n",
       " 'aboulic': None,\n",
       " 'abound': None,\n",
       " 'abounded': None,\n",
       " 'abounding': None,\n",
       " 'abounds': None,\n",
       " 'about': None,\n",
       " 'above': None,\n",
       " 'aboveboard': None,\n",
       " 'aboves': None,\n",
       " 'abracadabra': None,\n",
       " 'abradant': None,\n",
       " 'abradants': None,\n",
       " 'abrade': None,\n",
       " 'abraded': None,\n",
       " 'abrader': None,\n",
       " 'abraders': None,\n",
       " 'abrades': None,\n",
       " 'abrading': None,\n",
       " 'abrasion': None,\n",
       " 'abrasions': None,\n",
       " 'abrasive': None,\n",
       " 'abrasively': None,\n",
       " 'abrasiveness': None,\n",
       " 'abrasivenesses': None,\n",
       " 'abrasives': None,\n",
       " 'abreact': None,\n",
       " 'abreacted': None,\n",
       " 'abreacting': None,\n",
       " 'abreacts': None,\n",
       " 'abreast': None,\n",
       " 'abri': None,\n",
       " 'abridge': None,\n",
       " 'abridged': None,\n",
       " 'abridgement': None,\n",
       " 'abridgements': None,\n",
       " 'abridger': None,\n",
       " 'abridgers': None,\n",
       " 'abridges': None,\n",
       " 'abridging': None,\n",
       " 'abridgment': None,\n",
       " 'abridgments': None,\n",
       " 'abris': None,\n",
       " 'abroach': None,\n",
       " 'abroad': None,\n",
       " 'abrogate': None,\n",
       " 'abrogated': None,\n",
       " 'abrogates': None,\n",
       " 'abrogating': None,\n",
       " 'abrupt': None,\n",
       " 'abrupter': None,\n",
       " 'abruptest': None,\n",
       " 'abruptly': None,\n",
       " 'abscess': None,\n",
       " 'abscessed': None,\n",
       " 'abscesses': None,\n",
       " 'abscessing': None,\n",
       " 'abscise': None,\n",
       " 'abscised': None,\n",
       " 'abscises': None,\n",
       " 'abscisin': None,\n",
       " 'abscising': None,\n",
       " 'abscisins': None,\n",
       " 'abscissa': None,\n",
       " 'abscissae': None,\n",
       " 'abscissas': None,\n",
       " 'abscond': None,\n",
       " 'absconded': None,\n",
       " 'absconding': None,\n",
       " 'absconds': None,\n",
       " 'absence': None,\n",
       " 'absences': None,\n",
       " 'absent': None,\n",
       " 'absented': None,\n",
       " 'absentee': None,\n",
       " 'absentees': None,\n",
       " 'absenter': None,\n",
       " 'absenters': None,\n",
       " 'absenting': None,\n",
       " 'absently': None,\n",
       " 'absentminded': None,\n",
       " 'absentmindedly': None,\n",
       " 'absentmindedness': None,\n",
       " 'absentmindednesses': None,\n",
       " 'absents': None,\n",
       " 'absinth': None,\n",
       " 'absinthe': None,\n",
       " 'absinthes': None,\n",
       " 'absinths': None,\n",
       " 'absolute': None,\n",
       " 'absolutely': None,\n",
       " 'absoluter': None,\n",
       " 'absolutes': None,\n",
       " 'absolutest': None,\n",
       " 'absolution': None,\n",
       " 'absolutions': None,\n",
       " 'absolve': None,\n",
       " 'absolved': None,\n",
       " 'absolver': None,\n",
       " 'absolvers': None,\n",
       " 'absolves': None,\n",
       " 'absolving': None,\n",
       " 'absonant': None,\n",
       " 'absorb': None,\n",
       " 'absorbed': None,\n",
       " 'absorbencies': None,\n",
       " 'absorbency': None,\n",
       " 'absorbent': None,\n",
       " 'absorber': None,\n",
       " 'absorbers': None,\n",
       " 'absorbing': None,\n",
       " 'absorbingly': None,\n",
       " 'absorbs': None,\n",
       " 'absorption': None,\n",
       " 'absorptions': None,\n",
       " 'absorptive': None,\n",
       " 'abstain': None,\n",
       " 'abstained': None,\n",
       " 'abstainer': None,\n",
       " 'abstainers': None,\n",
       " 'abstaining': None,\n",
       " 'abstains': None,\n",
       " 'abstemious': None,\n",
       " 'abstemiously': None,\n",
       " 'abstention': None,\n",
       " 'abstentions': None,\n",
       " 'absterge': None,\n",
       " 'absterged': None,\n",
       " 'absterges': None,\n",
       " 'absterging': None,\n",
       " 'abstinence': None,\n",
       " 'abstinences': None,\n",
       " 'abstract': None,\n",
       " 'abstracted': None,\n",
       " 'abstracter': None,\n",
       " 'abstractest': None,\n",
       " 'abstracting': None,\n",
       " 'abstraction': None,\n",
       " 'abstractions': None,\n",
       " 'abstractly': None,\n",
       " 'abstractness': None,\n",
       " 'abstractnesses': None,\n",
       " 'abstracts': None,\n",
       " 'abstrict': None,\n",
       " 'abstricted': None,\n",
       " 'abstricting': None,\n",
       " 'abstricts': None,\n",
       " 'abstruse': None,\n",
       " 'abstrusely': None,\n",
       " 'abstruseness': None,\n",
       " 'abstrusenesses': None,\n",
       " 'abstruser': None,\n",
       " 'abstrusest': None,\n",
       " 'absurd': None,\n",
       " 'absurder': None,\n",
       " 'absurdest': None,\n",
       " 'absurdities': None,\n",
       " 'absurdity': None,\n",
       " 'absurdly': None,\n",
       " 'absurds': None,\n",
       " 'abubble': None,\n",
       " 'abulia': None,\n",
       " 'abulias': None,\n",
       " 'abulic': None,\n",
       " 'abundance': None,\n",
       " 'abundances': None,\n",
       " 'abundant': None,\n",
       " 'abundantly': None,\n",
       " 'abusable': None,\n",
       " 'abuse': None,\n",
       " 'abused': None,\n",
       " 'abuser': None,\n",
       " 'abusers': None,\n",
       " 'abuses': None,\n",
       " 'abusing': None,\n",
       " 'abusive': None,\n",
       " 'abusively': None,\n",
       " 'abusiveness': None,\n",
       " 'abusivenesses': None,\n",
       " 'abut': None,\n",
       " 'abutilon': None,\n",
       " 'abutilons': None,\n",
       " 'abutment': None,\n",
       " 'abutments': None,\n",
       " 'abuts': None,\n",
       " 'abuttal': None,\n",
       " 'abuttals': None,\n",
       " 'abutted': None,\n",
       " 'abutter': None,\n",
       " 'abutters': None,\n",
       " 'abutting': None,\n",
       " 'abuzz': None,\n",
       " 'abvolt': None,\n",
       " 'abvolts': None,\n",
       " 'abwatt': None,\n",
       " 'abwatts': None,\n",
       " 'aby': None,\n",
       " 'abye': None,\n",
       " 'abyed': None,\n",
       " 'abyes': None,\n",
       " 'abying': None,\n",
       " 'abys': None,\n",
       " 'abysm': None,\n",
       " 'abysmal': None,\n",
       " 'abysmally': None,\n",
       " 'abysms': None,\n",
       " 'abyss': None,\n",
       " 'abyssal': None,\n",
       " 'abysses': None,\n",
       " 'acacia': None,\n",
       " 'acacias': None,\n",
       " 'academe': None,\n",
       " 'academes': None,\n",
       " 'academia': None,\n",
       " 'academias': None,\n",
       " 'academic': None,\n",
       " 'academically': None,\n",
       " 'academics': None,\n",
       " 'academies': None,\n",
       " 'academy': None,\n",
       " 'acajou': None,\n",
       " 'acajous': None,\n",
       " 'acaleph': None,\n",
       " 'acalephae': None,\n",
       " 'acalephe': None,\n",
       " 'acalephes': None,\n",
       " 'acalephs': None,\n",
       " 'acanthi': None,\n",
       " 'acanthus': None,\n",
       " 'acanthuses': None,\n",
       " 'acari': None,\n",
       " 'acarid': None,\n",
       " 'acaridan': None,\n",
       " 'acaridans': None,\n",
       " 'acarids': None,\n",
       " 'acarine': None,\n",
       " 'acarines': None,\n",
       " 'acaroid': None,\n",
       " 'acarpous': None,\n",
       " 'acarus': None,\n",
       " 'acaudal': None,\n",
       " 'acaudate': None,\n",
       " 'acauline': None,\n",
       " 'acaulose': None,\n",
       " 'acaulous': None,\n",
       " 'accede': None,\n",
       " 'acceded': None,\n",
       " 'acceder': None,\n",
       " 'acceders': None,\n",
       " 'accedes': None,\n",
       " 'acceding': None,\n",
       " 'accelerate': None,\n",
       " 'accelerated': None,\n",
       " 'accelerates': None,\n",
       " 'accelerating': None,\n",
       " 'acceleration': None,\n",
       " 'accelerations': None,\n",
       " 'accelerator': None,\n",
       " 'accelerators': None,\n",
       " 'accent': None,\n",
       " 'accented': None,\n",
       " 'accenting': None,\n",
       " 'accentor': None,\n",
       " 'accentors': None,\n",
       " 'accents': None,\n",
       " 'accentual': None,\n",
       " 'accentuate': None,\n",
       " 'accentuated': None,\n",
       " 'accentuates': None,\n",
       " 'accentuating': None,\n",
       " 'accentuation': None,\n",
       " 'accentuations': None,\n",
       " 'accept': None,\n",
       " 'acceptabilities': None,\n",
       " 'acceptability': None,\n",
       " 'acceptable': None,\n",
       " 'acceptance': None,\n",
       " 'acceptances': None,\n",
       " 'accepted': None,\n",
       " 'acceptee': None,\n",
       " 'acceptees': None,\n",
       " 'accepter': None,\n",
       " 'accepters': None,\n",
       " 'accepting': None,\n",
       " 'acceptor': None,\n",
       " 'acceptors': None,\n",
       " 'accepts': None,\n",
       " 'access': None,\n",
       " 'accessed': None,\n",
       " 'accesses': None,\n",
       " 'accessibilities': None,\n",
       " 'accessibility': None,\n",
       " 'accessible': None,\n",
       " 'accessing': None,\n",
       " 'accession': None,\n",
       " 'accessions': None,\n",
       " 'accessories': None,\n",
       " 'accessory': None,\n",
       " 'accident': None,\n",
       " 'accidental': None,\n",
       " 'accidentally': None,\n",
       " 'accidentals': None,\n",
       " 'accidents': None,\n",
       " 'accidie': None,\n",
       " 'accidies': None,\n",
       " 'acclaim': None,\n",
       " 'acclaimed': None,\n",
       " 'acclaiming': None,\n",
       " 'acclaims': None,\n",
       " 'acclamation': None,\n",
       " 'acclamations': None,\n",
       " 'acclimate': None,\n",
       " 'acclimated': None,\n",
       " 'acclimates': None,\n",
       " 'acclimating': None,\n",
       " 'acclimation': None,\n",
       " 'acclimations': None,\n",
       " 'acclimatization': None,\n",
       " 'acclimatizations': None,\n",
       " 'acclimatize': None,\n",
       " 'acclimatizes': None,\n",
       " 'accolade': None,\n",
       " 'accolades': None,\n",
       " 'accommodate': None,\n",
       " 'accommodated': None,\n",
       " 'accommodates': None,\n",
       " 'accommodating': None,\n",
       " 'accommodation': None,\n",
       " 'accommodations': None,\n",
       " 'accompanied': None,\n",
       " 'accompanies': None,\n",
       " 'accompaniment': None,\n",
       " 'accompaniments': None,\n",
       " 'accompanist': None,\n",
       " 'accompany': None,\n",
       " 'accompanying': None,\n",
       " 'accomplice': None,\n",
       " 'accomplices': None,\n",
       " 'accomplish': None,\n",
       " 'accomplished': None,\n",
       " 'accomplisher': None,\n",
       " 'accomplishers': None,\n",
       " 'accomplishes': None,\n",
       " 'accomplishing': None,\n",
       " 'accomplishment': None,\n",
       " 'accomplishments': None,\n",
       " 'accord': None,\n",
       " 'accordance': None,\n",
       " 'accordant': None,\n",
       " 'accorded': None,\n",
       " 'accorder': None,\n",
       " 'accorders': None,\n",
       " 'according': None,\n",
       " 'accordingly': None,\n",
       " 'accordion': None,\n",
       " 'accordions': None,\n",
       " 'accords': None,\n",
       " 'accost': None,\n",
       " 'accosted': None,\n",
       " 'accosting': None,\n",
       " 'accosts': None,\n",
       " 'account': None,\n",
       " 'accountabilities': None,\n",
       " 'accountability': None,\n",
       " 'accountable': None,\n",
       " 'accountancies': None,\n",
       " 'accountancy': None,\n",
       " 'accountant': None,\n",
       " 'accountants': None,\n",
       " 'accounted': None,\n",
       " 'accounting': None,\n",
       " 'accountings': None,\n",
       " 'accounts': None,\n",
       " 'accouter': None,\n",
       " 'accoutered': None,\n",
       " 'accoutering': None,\n",
       " 'accouters': None,\n",
       " 'accoutre': None,\n",
       " 'accoutred': None,\n",
       " 'accoutrement': None,\n",
       " 'accoutrements': None,\n",
       " 'accoutres': None,\n",
       " 'accoutring': None,\n",
       " 'accredit': None,\n",
       " 'accredited': None,\n",
       " 'accrediting': None,\n",
       " 'accredits': None,\n",
       " 'accrete': None,\n",
       " 'accreted': None,\n",
       " 'accretes': None,\n",
       " 'accreting': None,\n",
       " 'accrual': None,\n",
       " 'accruals': None,\n",
       " 'accrue': None,\n",
       " 'accrued': None,\n",
       " 'accrues': None,\n",
       " 'accruing': None,\n",
       " 'accumulate': None,\n",
       " 'accumulated': None,\n",
       " 'accumulates': None,\n",
       " 'accumulating': None,\n",
       " 'accumulation': None,\n",
       " 'accumulations': None,\n",
       " 'accumulator': None,\n",
       " 'accumulators': None,\n",
       " 'accuracies': None,\n",
       " 'accuracy': None,\n",
       " 'accurate': None,\n",
       " 'accurately': None,\n",
       " 'accurateness': None,\n",
       " 'accuratenesses': None,\n",
       " 'accursed': None,\n",
       " 'accurst': None,\n",
       " 'accusal': None,\n",
       " 'accusals': None,\n",
       " 'accusant': None,\n",
       " 'accusants': None,\n",
       " 'accusation': None,\n",
       " 'accusations': None,\n",
       " 'accuse': None,\n",
       " 'accused': None,\n",
       " 'accuser': None,\n",
       " 'accusers': None,\n",
       " 'accuses': None,\n",
       " 'accusing': None,\n",
       " 'accustom': None,\n",
       " 'accustomed': None,\n",
       " 'accustoming': None,\n",
       " 'accustoms': None,\n",
       " 'ace': None,\n",
       " 'aced': None,\n",
       " 'acedia': None,\n",
       " 'acedias': None,\n",
       " 'aceldama': None,\n",
       " 'aceldamas': None,\n",
       " 'acentric': None,\n",
       " 'acequia': None,\n",
       " 'acequias': None,\n",
       " 'acerate': None,\n",
       " 'acerated': None,\n",
       " 'acerb': None,\n",
       " 'acerbate': None,\n",
       " 'acerbated': None,\n",
       " 'acerbates': None,\n",
       " 'acerbating': None,\n",
       " 'acerber': None,\n",
       " 'acerbest': None,\n",
       " 'acerbic': None,\n",
       " 'acerbities': None,\n",
       " 'acerbity': None,\n",
       " 'acerola': None,\n",
       " 'acerolas': None,\n",
       " 'acerose': None,\n",
       " 'acerous': None,\n",
       " 'acers': None,\n",
       " 'acervate': None,\n",
       " 'acervuli': None,\n",
       " 'aces': None,\n",
       " 'acescent': None,\n",
       " 'acescents': None,\n",
       " 'aceta': None,\n",
       " 'acetal': None,\n",
       " 'acetals': None,\n",
       " 'acetamid': None,\n",
       " 'acetamids': None,\n",
       " 'acetate': None,\n",
       " 'acetated': None,\n",
       " 'acetates': None,\n",
       " 'acetic': None,\n",
       " 'acetified': None,\n",
       " 'acetifies': None,\n",
       " 'acetify': None,\n",
       " 'acetifying': None,\n",
       " 'acetone': None,\n",
       " 'acetones': None,\n",
       " 'acetonic': None,\n",
       " 'acetose': None,\n",
       " 'acetous': None,\n",
       " 'acetoxyl': None,\n",
       " 'acetoxyls': None,\n",
       " 'acetum': None,\n",
       " 'acetyl': None,\n",
       " 'acetylene': None,\n",
       " 'acetylenes': None,\n",
       " 'acetylic': None,\n",
       " 'acetyls': None,\n",
       " 'ache': None,\n",
       " 'ached': None,\n",
       " 'achene': None,\n",
       " 'achenes': None,\n",
       " 'achenial': None,\n",
       " 'aches': None,\n",
       " 'achier': None,\n",
       " 'achiest': None,\n",
       " 'achievable': None,\n",
       " 'achieve': None,\n",
       " 'achieved': None,\n",
       " 'achievement': None,\n",
       " 'achievements': None,\n",
       " 'achiever': None,\n",
       " 'achievers': None,\n",
       " 'achieves': None,\n",
       " 'achieving': None,\n",
       " 'achiness': None,\n",
       " 'achinesses': None,\n",
       " 'aching': None,\n",
       " 'achingly': None,\n",
       " 'achiote': None,\n",
       " 'achiotes': None,\n",
       " 'achoo': None,\n",
       " 'achromat': None,\n",
       " 'achromats': None,\n",
       " 'achromic': None,\n",
       " 'achy': None,\n",
       " 'acicula': None,\n",
       " 'aciculae': None,\n",
       " 'acicular': None,\n",
       " 'aciculas': None,\n",
       " 'acid': None,\n",
       " 'acidhead': None,\n",
       " 'acidheads': None,\n",
       " 'acidic': None,\n",
       " 'acidified': None,\n",
       " 'acidifies': None,\n",
       " 'acidify': None,\n",
       " 'acidifying': None,\n",
       " 'acidities': None,\n",
       " 'acidity': None,\n",
       " 'acidly': None,\n",
       " 'acidness': None,\n",
       " 'acidnesses': None,\n",
       " 'acidoses': None,\n",
       " 'acidosis': None,\n",
       " 'acidotic': None,\n",
       " 'acids': None,\n",
       " 'acidy': None,\n",
       " 'acierate': None,\n",
       " 'acierated': None,\n",
       " 'acierates': None,\n",
       " 'acierating': None,\n",
       " 'aciform': None,\n",
       " 'acinar': None,\n",
       " 'acing': None,\n",
       " 'acini': None,\n",
       " 'acinic': None,\n",
       " 'acinose': None,\n",
       " 'acinous': None,\n",
       " 'acinus': None,\n",
       " 'acknowledge': None,\n",
       " 'acknowledged': None,\n",
       " 'acknowledgement': None,\n",
       " 'acknowledgements': None,\n",
       " 'acknowledges': None,\n",
       " 'acknowledging': None,\n",
       " 'acknowledgment': None,\n",
       " 'acknowledgments': None,\n",
       " 'aclinic': None,\n",
       " 'acmatic': None,\n",
       " 'acme': None,\n",
       " 'acmes': None,\n",
       " 'acmic': None,\n",
       " 'acne': None,\n",
       " 'acned': None,\n",
       " 'acnes': None,\n",
       " 'acnode': None,\n",
       " 'acnodes': None,\n",
       " 'acock': None,\n",
       " 'acold': None,\n",
       " 'acolyte': None,\n",
       " 'acolytes': None,\n",
       " 'aconite': None,\n",
       " 'aconites': None,\n",
       " 'aconitic': None,\n",
       " 'aconitum': None,\n",
       " 'aconitums': None,\n",
       " 'acorn': None,\n",
       " 'acorns': None,\n",
       " 'acoustic': None,\n",
       " 'acoustical': None,\n",
       " 'acoustically': None,\n",
       " 'acoustics': None,\n",
       " 'acquaint': None,\n",
       " 'acquaintance': None,\n",
       " 'acquaintances': None,\n",
       " 'acquaintanceship': None,\n",
       " 'acquaintanceships': None,\n",
       " 'acquainted': None,\n",
       " 'acquainting': None,\n",
       " 'acquaints': None,\n",
       " 'acquest': None,\n",
       " 'acquests': None,\n",
       " 'acquiesce': None,\n",
       " 'acquiesced': None,\n",
       " 'acquiescence': None,\n",
       " 'acquiescences': None,\n",
       " 'acquiescent': None,\n",
       " 'acquiescently': None,\n",
       " 'acquiesces': None,\n",
       " 'acquiescing': None,\n",
       " 'acquire': None,\n",
       " 'acquired': None,\n",
       " 'acquirer': None,\n",
       " 'acquirers': None,\n",
       " 'acquires': None,\n",
       " 'acquiring': None,\n",
       " 'acquisition': None,\n",
       " 'acquisitions': None,\n",
       " 'acquisitive': None,\n",
       " 'acquit': None,\n",
       " 'acquits': None,\n",
       " 'acquitted': None,\n",
       " 'acquitting': None,\n",
       " 'acrasin': None,\n",
       " 'acrasins': None,\n",
       " 'acre': None,\n",
       " 'acreage': None,\n",
       " 'acreages': None,\n",
       " 'acred': None,\n",
       " 'acres': None,\n",
       " 'acrid': None,\n",
       " 'acrider': None,\n",
       " 'acridest': None,\n",
       " 'acridine': None,\n",
       " 'acridines': None,\n",
       " 'acridities': None,\n",
       " 'acridity': None,\n",
       " 'acridly': None,\n",
       " 'acridness': None,\n",
       " 'acridnesses': None,\n",
       " 'acrimonies': None,\n",
       " 'acrimonious': None,\n",
       " 'acrimony': None,\n",
       " 'acrobat': None,\n",
       " 'acrobatic': None,\n",
       " 'acrobats': None,\n",
       " 'acrodont': None,\n",
       " 'acrodonts': None,\n",
       " 'acrogen': None,\n",
       " 'acrogens': None,\n",
       " 'acrolein': None,\n",
       " 'acroleins': None,\n",
       " 'acrolith': None,\n",
       " 'acroliths': None,\n",
       " 'acromia': None,\n",
       " 'acromial': None,\n",
       " 'acromion': None,\n",
       " 'acronic': None,\n",
       " 'acronym': None,\n",
       " 'acronyms': None,\n",
       " 'across': None,\n",
       " 'acrostic': None,\n",
       " 'acrostics': None,\n",
       " 'acrotic': None,\n",
       " 'acrotism': None,\n",
       " 'acrotisms': None,\n",
       " 'acrylate': None,\n",
       " 'acrylates': None,\n",
       " 'acrylic': None,\n",
       " 'acrylics': None,\n",
       " 'act': None,\n",
       " 'acta': None,\n",
       " 'actable': None,\n",
       " 'acted': None,\n",
       " 'actin': None,\n",
       " 'actinal': None,\n",
       " 'acting': None,\n",
       " 'actings': None,\n",
       " 'actinia': None,\n",
       " 'actiniae': None,\n",
       " 'actinian': None,\n",
       " 'actinians': None,\n",
       " 'actinias': None,\n",
       " 'actinic': None,\n",
       " 'actinide': None,\n",
       " 'actinides': None,\n",
       " 'actinism': None,\n",
       " 'actinisms': None,\n",
       " 'actinium': None,\n",
       " 'actiniums': None,\n",
       " 'actinoid': None,\n",
       " 'actinoids': None,\n",
       " 'actinon': None,\n",
       " 'actinons': None,\n",
       " 'actins': None,\n",
       " 'action': None,\n",
       " 'actions': None,\n",
       " 'activate': None,\n",
       " 'activated': None,\n",
       " 'activates': None,\n",
       " 'activating': None,\n",
       " 'activation': None,\n",
       " 'activations': None,\n",
       " 'active': None,\n",
       " 'actively': None,\n",
       " 'actives': None,\n",
       " 'activism': None,\n",
       " 'activisms': None,\n",
       " 'activist': None,\n",
       " 'activists': None,\n",
       " 'activities': None,\n",
       " 'activity': None,\n",
       " 'actor': None,\n",
       " 'actorish': None,\n",
       " 'actors': None,\n",
       " 'actress': None,\n",
       " 'actresses': None,\n",
       " 'acts': None,\n",
       " 'actual': None,\n",
       " 'actualities': None,\n",
       " 'actuality': None,\n",
       " 'actualization': None,\n",
       " 'actualizations': None,\n",
       " 'actualize': None,\n",
       " 'actualized': None,\n",
       " 'actualizes': None,\n",
       " 'actualizing': None,\n",
       " 'actually': None,\n",
       " 'actuarial': None,\n",
       " 'actuaries': None,\n",
       " ...}"
      ]
     },
     "execution_count": 36,
     "metadata": {},
     "output_type": "execute_result"
    }
   ],
   "source": [
    "dicionario_de_palavras"
   ]
  },
  {
   "cell_type": "code",
   "execution_count": 37,
   "metadata": {},
   "outputs": [
    {
     "name": "stdout",
     "output_type": "stream",
     "text": [
      "aas\n"
     ]
    }
   ],
   "source": [
    "if 'aas' in dicionario_de_palavras:\n",
    "   print('aas')\n",
    "else:\n",
    "    print('não tem essa palavra')"
   ]
  },
  {
   "cell_type": "markdown",
   "metadata": {},
   "source": [
    "<h3>Exercício 11.2</h3>\n",
    "Leia a documentação do método de dicionário setdefault e use-o para escrever uma versão\n",
    "mais concisa de invert_dict.\n"
   ]
  },
  {
   "cell_type": "markdown",
   "metadata": {},
   "source": [
    "<b>VERSÃO ANTIGA</b>"
   ]
  },
  {
   "cell_type": "code",
   "execution_count": 38,
   "metadata": {},
   "outputs": [],
   "source": [
    "def invert_dict(d):\n",
    "    inverse = dict()\n",
    "\n",
    "    for key in d: # a cada chave do dicionário\n",
    "        val = d[key] # val é igual ao valor no índice 'key'\n",
    "        if val not in inverse: # se val (chave) não existir no dicionário 'inverse'\n",
    "            inverse[val] = [key] # inverse[val] na posição de val será igual ao valor da chave \n",
    "        else:\n",
    "            inverse[val].append(key)\n",
    "    \n",
    "    return inverse"
   ]
  },
  {
   "cell_type": "code",
   "execution_count": 52,
   "metadata": {},
   "outputs": [
    {
     "data": {
      "text/plain": [
       "{1: ['p', 'a', 'o', 't'], 2: ['r']}"
      ]
     },
     "execution_count": 52,
     "metadata": {},
     "output_type": "execute_result"
    }
   ],
   "source": [
    "hist = histogram('parrot')\n",
    "inverse = invert_dict(hist)\n",
    "inverse"
   ]
  },
  {
   "cell_type": "markdown",
   "metadata": {},
   "source": [
    "<b>VERSÃO CONCISA</b>\n",
    "\n",
    "Por que utilizar uma lista vazia no lugar do \"valor\"? \n",
    "\n",
    "- Usar uma lista permite armazenar múltiplas chaves para o mesmo valor.\n",
    "- Se usássemos apenas setdefault(val, key), qualquer valor repetido no dicionário original resultaria na perda de informações."
   ]
  },
  {
   "cell_type": "code",
   "execution_count": 53,
   "metadata": {},
   "outputs": [],
   "source": [
    "def better_invert_dict_(d):\n",
    "    inverse = dict()\n",
    "\n",
    "    for key in d: # a cada chave do dicionário\n",
    "        val = d[key] # val é igual ao valor no índice 'key'\n",
    "        \n",
    "        inverse.setdefault(val, []).append(key) # inverse[val] na posição de val será igual ao valor da chave \n",
    "        \n",
    "    return inverse"
   ]
  },
  {
   "cell_type": "code",
   "execution_count": 54,
   "metadata": {},
   "outputs": [
    {
     "data": {
      "text/plain": [
       "{1: ['p', 'a', 'o', 't'], 2: ['r']}"
      ]
     },
     "execution_count": 54,
     "metadata": {},
     "output_type": "execute_result"
    }
   ],
   "source": [
    "hist = histogram('parrot')\n",
    "inverse = better_invert_dict_(hist)\n",
    "inverse"
   ]
  },
  {
   "cell_type": "markdown",
   "metadata": {},
   "source": [
    "<h3>Exercício 11.3</h3>\n",
    "Memorize a função de Ackermann do Exercício 6.2 e veja se a memorização permite\n",
    "avaliar a função com argumentos maiores. Dica: não."
   ]
  },
  {
   "cell_type": "markdown",
   "metadata": {},
   "source": [
    "**FUNÇÃO DE ACKERMANN: antiga**"
   ]
  },
  {
   "cell_type": "code",
   "execution_count": 9,
   "metadata": {},
   "outputs": [],
   "source": [
    "# incrementando a função ack com o primeiro caso-base\n",
    "def ack(m, n):\n",
    "    # caso-base 1: Se m = 0, então ack(m, n) = n + 1\n",
    "    if m == 0:\n",
    "        return n + 1\n",
    "    # caso-base 2: Se m > 0 e n = 0, então ack(m, n) = ack(m - 1, 1)\n",
    "    elif m > 0 and n == 0:\n",
    "        return ack(m - 1, 1)\n",
    "    # caso recursivo: Se m > 0 e n > 0, então ack(m, n) = ack(m - 1, ack(m, n - 1))\n",
    "    elif m > 0 and n > 0:\n",
    "        return ack(m - 1, ack(m, n - 1))"
   ]
  },
  {
   "cell_type": "code",
   "execution_count": 10,
   "metadata": {},
   "outputs": [
    {
     "data": {
      "text/plain": [
       "5"
      ]
     },
     "execution_count": 10,
     "metadata": {},
     "output_type": "execute_result"
    }
   ],
   "source": [
    "# Vamos testar com 𝑚 = 3 e n = 0. De acordo com a definição, ack(3,0) = ack(2,1)\n",
    "ack(3,0) # tese 3 > tem que retornar 5"
   ]
  },
  {
   "cell_type": "markdown",
   "metadata": {},
   "source": [
    "**COM MEMORIZAÇÃO**"
   ]
  },
  {
   "cell_type": "code",
   "execution_count": 1,
   "metadata": {},
   "outputs": [],
   "source": [
    "# incrementando a função ack com o primeiro caso-base\n",
    "def ackMemorizando(m, n):\n",
    "    # inicializa um dicionario vazio e variável para guardar o resultado da recursividade\n",
    "    memo = {}\n",
    "    result = 0\n",
    "\n",
    "     # Verifica se o resultado já está memorizado\n",
    "    if (m, n) in memo:\n",
    "        return memo[(m, n)]\n",
    "\n",
    "    # caso-base 1: Se m = 0, então ack(m, n) = n + 1\n",
    "    if m == 0:\n",
    "        result = n + 1\n",
    "    \n",
    "    # caso-base 2: Se m > 0 e n = 0, então ack(m, n) = ack(m - 1, 1)\n",
    "    elif m > 0 and n == 0:\n",
    "        result = ackMemorizando(m - 1, 1)\n",
    "        memo[m] = result\n",
    "    \n",
    "    # caso recursivo: Se m > 0 e n > 0, então ack(m, n) = ack(m - 1, ack(m, n - 1))\n",
    "    elif m > 0 and n > 0:\n",
    "        result = ackMemorizando(m - 1, ackMemorizando(m, n - 1))\n",
    "        memo[m] = result\n",
    "        \n",
    "    \n",
    "    return result"
   ]
  },
  {
   "cell_type": "code",
   "execution_count": 3,
   "metadata": {},
   "outputs": [
    {
     "ename": "",
     "evalue": "",
     "output_type": "error",
     "traceback": [
      "\u001b[1;31mThe Kernel crashed while executing code in the current cell or a previous cell. \n",
      "\u001b[1;31mPlease review the code in the cell(s) to identify a possible cause of the failure. \n",
      "\u001b[1;31mClick <a href='https://aka.ms/vscodeJupyterKernelCrash'>here</a> for more info. \n",
      "\u001b[1;31mView Jupyter <a href='command:jupyter.viewOutput'>log</a> for further details."
     ]
    }
   ],
   "source": [
    "# Vamos testar com 𝑚 = 10 e n = 0: retorna erro\n",
    "ackMemorizando(10,0) "
   ]
  },
  {
   "cell_type": "code",
   "execution_count": 2,
   "metadata": {},
   "outputs": [
    {
     "data": {
      "text/plain": [
       "5"
      ]
     },
     "execution_count": 2,
     "metadata": {},
     "output_type": "execute_result"
    }
   ],
   "source": [
    "ackMemorizando(3,0) "
   ]
  },
  {
   "cell_type": "markdown",
   "metadata": {},
   "source": [
    "<h2> Exercício 11.4 </h2>\n",
    "Se fez o Exercício 10.7, você já tem uma função chamada has_duplicates, que recebe uma\n",
    "lista como parâmetro e retorna True se houver algum objeto que aparece mais de uma vez\n",
    "na lista.\n",
    "Use um dicionário para escrever uma versão mais rápida e simples de has_duplicates."
   ]
  },
  {
   "cell_type": "markdown",
   "metadata": {},
   "source": [
    "**SOLUÇÃO SEM DICIONÁRIO:**"
   ]
  },
  {
   "cell_type": "code",
   "execution_count": 1,
   "metadata": {},
   "outputs": [],
   "source": [
    "def has_duplicates(lista):\n",
    "  for i in lista:\n",
    "    if lista.count(i) > 1:\n",
    "      return True\n",
    "\n",
    "  return False"
   ]
  },
  {
   "cell_type": "code",
   "execution_count": 2,
   "metadata": {},
   "outputs": [
    {
     "data": {
      "text/plain": [
       "True"
      ]
     },
     "execution_count": 2,
     "metadata": {},
     "output_type": "execute_result"
    }
   ],
   "source": [
    "has_duplicates(['a','a','a','b','c'])"
   ]
  },
  {
   "cell_type": "markdown",
   "metadata": {},
   "source": [
    "**COM DICIONÁRIO:**"
   ]
  },
  {
   "cell_type": "markdown",
   "metadata": {},
   "source": [
    "**COMPARAÇÃO DE SOLUÇÕES:**\n",
    "\n",
    "**SOLUÇÃO PRÓPRIA:**"
   ]
  },
  {
   "cell_type": "code",
   "execution_count": 7,
   "metadata": {},
   "outputs": [],
   "source": [
    "def has_duplicates_with_dict(lista):\n",
    "    dicionario = {}\n",
    "\n",
    "    for i in lista:\n",
    "        if i not in dicionario:\n",
    "            dicionario[i] = lista.count(i)\n",
    "        else:\n",
    "            continue\n",
    "   \n",
    "    for i in dicionario:\n",
    "        if i.value() > 1:\n",
    "            return True\n",
    "    \n",
    "    return False"
   ]
  },
  {
   "cell_type": "code",
   "execution_count": 8,
   "metadata": {},
   "outputs": [
    {
     "data": {
      "text/plain": [
       "True"
      ]
     },
     "execution_count": 8,
     "metadata": {},
     "output_type": "execute_result"
    }
   ],
   "source": [
    "has_duplicates(['a','a','a','b','c']) # True"
   ]
  },
  {
   "cell_type": "code",
   "execution_count": 9,
   "metadata": {},
   "outputs": [
    {
     "data": {
      "text/plain": [
       "False"
      ]
     },
     "execution_count": 9,
     "metadata": {},
     "output_type": "execute_result"
    }
   ],
   "source": [
    "has_duplicates(['a','b','c']) # False"
   ]
  },
  {
   "cell_type": "markdown",
   "metadata": {},
   "source": [
    "**SOLUÇÃO CHATGPT:**"
   ]
  },
  {
   "cell_type": "code",
   "execution_count": 10,
   "metadata": {},
   "outputs": [
    {
     "name": "stdout",
     "output_type": "stream",
     "text": [
      "False\n",
      "True\n"
     ]
    }
   ],
   "source": [
    "def has_duplicates(lista):\n",
    "    # Dicionário para armazenar a contagem de cada elemento\n",
    "    counts = {}\n",
    "\n",
    "    # Itera sobre cada elemento na lista\n",
    "    for item in lista:\n",
    "        # Se o elemento já está no dicionário, há duplicata\n",
    "        if item in counts:\n",
    "            return True\n",
    "        # Caso contrário, adiciona o elemento ao dicionário\n",
    "        else:\n",
    "            counts[item] = 1\n",
    "\n",
    "    # Se não encontrou duplicatas, retorna False\n",
    "    return False\n",
    "\n",
    "# Teste da função\n",
    "print(has_duplicates([1, 2, 3, 4]))  # Output: False\n",
    "print(has_duplicates([1, 2, 3, 3]))  # Output: True"
   ]
  },
  {
   "cell_type": "markdown",
   "metadata": {},
   "source": [
    "**POR QUE UTILIZAR DICIONÁRIO É MAIS PERFORMÁTICO?**\n",
    "\n",
    "A lista não é eficiente pois, para cada elemento, a lista é percorrida inteira para contar as ocorrências desse elemento, o que resulta em uma complexidade de tempo O(n²).\n",
    "\n",
    "Usando um dicionário, é possível iterar pela lista uma única vez e usar o dicionário para armazenar a contagem de cada elemento."
   ]
  },
  {
   "cell_type": "markdown",
   "metadata": {},
   "source": [
    "<h2> Exercício 11.5 </h2>\n",
    "Duas palavras são “pares rotacionados” se for possível rotacionar um deles e chegar ao\n",
    "outro (ver rotate_word no Exercício 8.5).\n",
    "Escreva um programa que leia uma lista de palavras e encontre todos os pares\n",
    "rotacionados.\n"
   ]
  },
  {
   "cell_type": "markdown",
   "metadata": {},
   "source": [
    "**SCRIPT DE ROTAÇÃO ANTIGO:**"
   ]
  },
  {
   "cell_type": "code",
   "execution_count": 85,
   "metadata": {},
   "outputs": [],
   "source": [
    "def rotate_word(string, numero_rotacao):\n",
    "  nova_string = ''\n",
    "\n",
    "  for letra in string:\n",
    "    nova_string = nova_string + chr(ord(letra) + numero_rotacao)\n",
    "\n",
    "  return nova_string"
   ]
  },
  {
   "cell_type": "code",
   "execution_count": 86,
   "metadata": {},
   "outputs": [
    {
     "data": {
      "text/plain": [
       "'fvirhe'"
      ]
     },
     "execution_count": 86,
     "metadata": {},
     "output_type": "execute_result"
    }
   ],
   "source": [
    "rotate_word('brenda', 4)"
   ]
  },
  {
   "cell_type": "code",
   "execution_count": 84,
   "metadata": {},
   "outputs": [],
   "source": [
    "def pares_rotacionados(lista_de_palavras, numero_rotacao):\n",
    "    verifica_palavras = {}\n",
    "    nova_string = ''\n",
    "    \n",
    "    for palavra in lista_de_palavras:\n",
    "        nova_string = ''\n",
    "        \n",
    "        for letra in palavra:\n",
    "            nova_string += chr((ord(letra) - ord('a') + numero_rotacao) % 26 + ord('a'))\n",
    "            \n",
    "        if nova_string not in verifica_palavras and nova_string != palavra:\n",
    "            for x in lista_de_palavras:\n",
    "                if nova_string == x:\n",
    "                    verifica_palavras[x] = nova_string\n",
    "    \n",
    "    return verifica_palavras"
   ]
  },
  {
   "cell_type": "code",
   "execution_count": 83,
   "metadata": {},
   "outputs": [
    {
     "name": "stdout",
     "output_type": "stream",
     "text": [
      "bcd\n",
      "cde\n",
      "yza\n",
      "zab\n",
      "efg\n",
      "nopq\n",
      "opqr\n",
      "xyza\n",
      "bdf\n"
     ]
    },
    {
     "data": {
      "text/plain": [
       "{'bcd': 'bcd', 'yza': 'yza', 'nopq': 'nopq'}"
      ]
     },
     "execution_count": 83,
     "metadata": {},
     "output_type": "execute_result"
    }
   ],
   "source": [
    "palavras_teste = ['abc', 'bcd', 'xyz', 'yza', 'def', 'mnop', 'nopq', 'wxyz', 'ace']\n",
    "pares_rotacionados(palavras_teste, 1)"
   ]
  },
  {
   "cell_type": "markdown",
   "metadata": {},
   "source": [
    "**Não encontrei os arquivos necessários, que são citados no exercício abaixo, para a realização dele.**"
   ]
  },
  {
   "cell_type": "markdown",
   "metadata": {},
   "source": [
    "<h2> Exercício 11.6 </h2>\n",
    "Aqui está outro quebra-cabeça do programa Car Talk\n",
    "(http://www.cartalk.com/content/puzzlers):\n",
    "Ele foi enviado por Dan O’Leary. Dan descobriu uma palavra comum, com uma sílaba e\n",
    "cinco letras que tem a seguinte propriedade única. Ao removermos a primeira letra, as\n",
    "letras restantes formam um homófono da palavra original, que é uma palavra que soa\n",
    "exatamente da mesma forma. Substitua a primeira letra, isto é, coloque-a de volta, retire a\n",
    "segunda letra e o resultado é um outro homófono da palavra original. E a pergunta é, qual\n",
    "é a palavra?\n",
    "Agora vou dar um exemplo que não funciona. Vamos usar a palavra de cinco letras,\n",
    "‘wrack’ (mover, eliminar). W-R-A-C-K, como na expressão ‘wrack with pain’ (se\n",
    "contorcer de dor). Se eu retirar a primeira letra, sobra uma palavra de quatro letras, ‘R-A\u0002C-K’ (galhada). Como na frase, ‘Holy cow, did you see the rack on that buck! It must have\n",
    "been a nine-pointer!’ (‘Minha nossa, você viu a galhada daquele cervo! Deve ter nove\n",
    "pontas!’). É um homófono perfeito. Se puser o ‘w’ de volta e retirar o ‘r’ em vez disso,\n",
    "sobra a palavra ‘wack’, que é uma palavra de verdade, mas não é um homófono das outras\n",
    "duas palavras.\n",
    "Mas há pelo menos uma palavra que Dan e eu conhecemos, que produz dois homófonos se\n",
    "você retirar qualquer uma das duas primeiras letras, e duas novas palavras de quatro letras\n",
    "são formadas. A pergunta é, qual é a palavra?\n",
    "Você pode usar o dicionário do Exercício 11.1 para verificar se uma string está na lista de\n",
    "palavras.\n",
    "Para verificar se duas palavras são homófonas, você pode usar o Dicionário de pronúncia\n",
    "CMU. Ele pode ser baixado em http://www.speech.cs.cmu.edu/cgi-bin/cmudict ou em\n",
    "http://thinkpython2.com/code/c06d. Você também pode baixar http://thinkpy\n",
    "thon2.com/code/pronounce.py, que tem uma função chamada read_dictionary, que lê o\n",
    "dicionário de pronúncia e retorna um dicionário de Python que mapeia cada palavra a uma\n",
    "string que descreve sua pronúncia primária.\n",
    "Escreva um programa que liste todas as palavras que resolvem o quebra-cabeça."
   ]
  }
 ],
 "metadata": {
  "kernelspec": {
   "display_name": "Python 3",
   "language": "python",
   "name": "python3"
  },
  "language_info": {
   "codemirror_mode": {
    "name": "ipython",
    "version": 3
   },
   "file_extension": ".py",
   "mimetype": "text/x-python",
   "name": "python",
   "nbconvert_exporter": "python",
   "pygments_lexer": "ipython3",
   "version": "3.9.13"
  }
 },
 "nbformat": 4,
 "nbformat_minor": 2
}
