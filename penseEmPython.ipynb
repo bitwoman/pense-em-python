{
  "nbformat": 4,
  "nbformat_minor": 0,
  "metadata": {
    "colab": {
      "provenance": [],
      "toc_visible": true,
      "authorship_tag": "ABX9TyOAofb5aeNHp+h8GYhlSmVA",
      "include_colab_link": true
    },
    "kernelspec": {
      "name": "python3",
      "display_name": "Python 3"
    },
    "language_info": {
      "name": "python"
    }
  },
  "cells": [
    {
      "cell_type": "markdown",
      "metadata": {
        "id": "view-in-github",
        "colab_type": "text"
      },
      "source": [
        "<a href=\"https://colab.research.google.com/github/bitwoman/pense-em-python/blob/main/penseEmPython.ipynb\" target=\"_parent\"><img src=\"https://colab.research.google.com/assets/colab-badge.svg\" alt=\"Open In Colab\"/></a>"
      ]
    },
    {
      "cell_type": "markdown",
      "source": [
        "# **ESTUDO DO LIVRO \"Pense em Python\", DO AUTOR ALLEN B. DOWNEY**\n",
        "\n",
        "<p> Estudos iniciados em 20-06-2024. </p>"
      ],
      "metadata": {
        "id": "2CH7SVr82fgK"
      }
    },
    {
      "cell_type": "markdown",
      "source": [
        "# **O PRIMEIRO PROGRAMA**"
      ],
      "metadata": {
        "id": "ir3jTN7k4Eif"
      }
    },
    {
      "cell_type": "code",
      "source": [
        "print('Hello, Wordl!')"
      ],
      "metadata": {
        "id": "Rtz-bVyA2yav",
        "colab": {
          "base_uri": "https://localhost:8080/"
        },
        "outputId": "499faba8-a4ff-484a-cd34-5398d4d976cc"
      },
      "execution_count": null,
      "outputs": [
        {
          "output_type": "stream",
          "name": "stdout",
          "text": [
            "Hello, Wordl!\n"
          ]
        }
      ]
    },
    {
      "cell_type": "markdown",
      "source": [
        "**OPERADORES ARITMÉTICOS**"
      ],
      "metadata": {
        "id": "VocsoCqD4UHS"
      }
    },
    {
      "cell_type": "code",
      "source": [
        "40 + 2"
      ],
      "metadata": {
        "colab": {
          "base_uri": "https://localhost:8080/"
        },
        "id": "Dhe5V8Gc4IFB",
        "outputId": "36c2f83f-8f31-495b-a073-dcc449d4060f"
      },
      "execution_count": null,
      "outputs": [
        {
          "output_type": "execute_result",
          "data": {
            "text/plain": [
              "42"
            ]
          },
          "metadata": {},
          "execution_count": 3
        }
      ]
    },
    {
      "cell_type": "code",
      "source": [
        "43 - 1"
      ],
      "metadata": {
        "colab": {
          "base_uri": "https://localhost:8080/"
        },
        "id": "LeQf0h-k4jYv",
        "outputId": "f21693c9-cd71-4368-c673-aeb5e1f9c241"
      },
      "execution_count": null,
      "outputs": [
        {
          "output_type": "execute_result",
          "data": {
            "text/plain": [
              "42"
            ]
          },
          "metadata": {},
          "execution_count": 4
        }
      ]
    },
    {
      "cell_type": "code",
      "source": [
        "6 * 7"
      ],
      "metadata": {
        "colab": {
          "base_uri": "https://localhost:8080/"
        },
        "id": "DtFnJrfA4lnZ",
        "outputId": "2b1ae541-68d6-4c3c-eef7-030c21fedda3"
      },
      "execution_count": null,
      "outputs": [
        {
          "output_type": "execute_result",
          "data": {
            "text/plain": [
              "42"
            ]
          },
          "metadata": {},
          "execution_count": 5
        }
      ]
    },
    {
      "cell_type": "code",
      "source": [
        "84 / 2"
      ],
      "metadata": {
        "colab": {
          "base_uri": "https://localhost:8080/"
        },
        "id": "ahHsupD84mEK",
        "outputId": "80150366-70c2-48db-fced-6c87732d0e97"
      },
      "execution_count": null,
      "outputs": [
        {
          "output_type": "execute_result",
          "data": {
            "text/plain": [
              "42.0"
            ]
          },
          "metadata": {},
          "execution_count": 6
        }
      ]
    },
    {
      "cell_type": "code",
      "source": [
        "6 ** 2 + 6\n",
        "\n",
        "# Em algumas outras linguagens, o ^ é usado para a exponenciação, mas no Python é um\n",
        "# operador bitwise, chamado XOR.\n",
        "\n",
        "#fonte para estudo: http://wiki.python.org/moin/BitwiseOperators."
      ],
      "metadata": {
        "colab": {
          "base_uri": "https://localhost:8080/"
        },
        "id": "86HmES1c4ocy",
        "outputId": "7689378b-5083-474a-b384-e36f602971fc"
      },
      "execution_count": null,
      "outputs": [
        {
          "output_type": "execute_result",
          "data": {
            "text/plain": [
              "42"
            ]
          },
          "metadata": {},
          "execution_count": 8
        }
      ]
    },
    {
      "cell_type": "markdown",
      "source": [
        "**VALORES E TIPOS**"
      ],
      "metadata": {
        "id": "n6XMN5ZF6DNO"
      }
    },
    {
      "cell_type": "code",
      "source": [
        "type(2) # int"
      ],
      "metadata": {
        "colab": {
          "base_uri": "https://localhost:8080/"
        },
        "id": "pjRQ-fC64rDY",
        "outputId": "2a202dc0-1861-44ae-bb9b-583fe0e6a0e7"
      },
      "execution_count": null,
      "outputs": [
        {
          "output_type": "execute_result",
          "data": {
            "text/plain": [
              "int"
            ]
          },
          "metadata": {},
          "execution_count": 12
        }
      ]
    },
    {
      "cell_type": "code",
      "source": [
        "type(42.0) # float"
      ],
      "metadata": {
        "colab": {
          "base_uri": "https://localhost:8080/"
        },
        "id": "smqOtbaj6apA",
        "outputId": "48e91dc2-1fbd-4223-b9c0-9f47f7fec825"
      },
      "execution_count": null,
      "outputs": [
        {
          "output_type": "execute_result",
          "data": {
            "text/plain": [
              "float"
            ]
          },
          "metadata": {},
          "execution_count": 10
        }
      ]
    },
    {
      "cell_type": "code",
      "source": [
        "type('Hello, World!') # string (str)"
      ],
      "metadata": {
        "colab": {
          "base_uri": "https://localhost:8080/"
        },
        "id": "OwvVTk856ewW",
        "outputId": "3d1de469-7047-4745-e6da-5626d41df8de"
      },
      "execution_count": null,
      "outputs": [
        {
          "output_type": "execute_result",
          "data": {
            "text/plain": [
              "str"
            ]
          },
          "metadata": {},
          "execution_count": 11
        }
      ]
    },
    {
      "cell_type": "markdown",
      "source": [
        "# **LINGUAGENS FORMAIS E NATURAIS**"
      ],
      "metadata": {
        "id": "k9ooeb2J6yh2"
      }
    },
    {
      "cell_type": "markdown",
      "source": [
        "**EXERCÍCIOS**"
      ],
      "metadata": {
        "id": "bR5bd19hX-Ev"
      }
    },
    {
      "cell_type": "markdown",
      "source": [
        "**EXERCÍCIO 1.1**\n",
        "\n",
        "1. **Em uma instrução print, o que acontece se você omitir um dos parênteses ou ambos?**\n",
        "  <p> R: Ele gera um erro de sintaxe. </p>"
      ],
      "metadata": {
        "id": "joejYQtYYLt3"
      }
    },
    {
      "cell_type": "code",
      "source": [
        "print('Teste'"
      ],
      "metadata": {
        "colab": {
          "base_uri": "https://localhost:8080/",
          "height": 111
        },
        "id": "WiPFDfr-6gIE",
        "outputId": "d2a28d76-afe0-48c5-a28b-13c1be6f4e54"
      },
      "execution_count": null,
      "outputs": [
        {
          "output_type": "error",
          "ename": "SyntaxError",
          "evalue": "incomplete input (<ipython-input-18-b1090276a2b1>, line 1)",
          "traceback": [
            "\u001b[0;36m  File \u001b[0;32m\"<ipython-input-18-b1090276a2b1>\"\u001b[0;36m, line \u001b[0;32m1\u001b[0m\n\u001b[0;31m    print('Teste'\u001b[0m\n\u001b[0m                 ^\u001b[0m\n\u001b[0;31mSyntaxError\u001b[0m\u001b[0;31m:\u001b[0m incomplete input\n"
          ]
        }
      ]
    },
    {
      "cell_type": "markdown",
      "source": [
        "2. **Se estiver tentando imprimir uma string, o que acontece se omitir uma das aspas ou ambas?**\n",
        "  <p> R: Ele gera um erro de sintaxe. </p>"
      ],
      "metadata": {
        "id": "xSQkgSvYZWaJ"
      }
    },
    {
      "cell_type": "code",
      "source": [
        "print('string)"
      ],
      "metadata": {
        "colab": {
          "base_uri": "https://localhost:8080/",
          "height": 111
        },
        "id": "-ABXxYJ6YfK4",
        "outputId": "ad8c68d4-1dd7-4efc-ef53-08a591b27bbf"
      },
      "execution_count": null,
      "outputs": [
        {
          "output_type": "error",
          "ename": "SyntaxError",
          "evalue": "unterminated string literal (detected at line 1) (<ipython-input-19-ec07885021dd>, line 1)",
          "traceback": [
            "\u001b[0;36m  File \u001b[0;32m\"<ipython-input-19-ec07885021dd>\"\u001b[0;36m, line \u001b[0;32m1\u001b[0m\n\u001b[0;31m    print('string)\u001b[0m\n\u001b[0m          ^\u001b[0m\n\u001b[0;31mSyntaxError\u001b[0m\u001b[0;31m:\u001b[0m unterminated string literal (detected at line 1)\n"
          ]
        }
      ]
    },
    {
      "cell_type": "markdown",
      "source": [
        "3. **Você pode usar um sinal de menos para fazer um número negativo como -2. O que\n",
        "acontece se puser um sinal de mais antes de um número? E se escrever assim: 2++2?**\n",
        "  <p> R: Ele vai fazer a soma normalmente. </p>"
      ],
      "metadata": {
        "id": "3e2qyUosZawL"
      }
    },
    {
      "cell_type": "code",
      "source": [
        "2 ++ 2"
      ],
      "metadata": {
        "colab": {
          "base_uri": "https://localhost:8080/"
        },
        "id": "4zB96vCbZL3I",
        "outputId": "d00f6b65-f52c-4565-a6fc-697439048799"
      },
      "execution_count": null,
      "outputs": [
        {
          "output_type": "execute_result",
          "data": {
            "text/plain": [
              "4"
            ]
          },
          "metadata": {},
          "execution_count": 20
        }
      ]
    },
    {
      "cell_type": "markdown",
      "source": [
        "4. **Na notação matemática, zeros à esquerda são aceitáveis, como em 02. O que\n",
        "acontece se você tentar usar isso no Python?**\n",
        "  <p> R: Depende da situação, mas, se você for tentar atribuir um valor como '02' em uma variável, o código retornará um erro de sintaxe. </p>"
      ],
      "metadata": {
        "id": "XEE_Ei4BZdLp"
      }
    },
    {
      "cell_type": "code",
      "source": [
        "zero_a_esquerda = 02"
      ],
      "metadata": {
        "colab": {
          "base_uri": "https://localhost:8080/",
          "height": 111
        },
        "id": "mxGI7gkVZceY",
        "outputId": "7b55db0e-b2a8-48d3-ed99-9a22ef43024c"
      },
      "execution_count": null,
      "outputs": [
        {
          "output_type": "error",
          "ename": "SyntaxError",
          "evalue": "leading zeros in decimal integer literals are not permitted; use an 0o prefix for octal integers (<ipython-input-21-e160909896e2>, line 1)",
          "traceback": [
            "\u001b[0;36m  File \u001b[0;32m\"<ipython-input-21-e160909896e2>\"\u001b[0;36m, line \u001b[0;32m1\u001b[0m\n\u001b[0;31m    zero_a_esquerda = 02\u001b[0m\n\u001b[0m                      ^\u001b[0m\n\u001b[0;31mSyntaxError\u001b[0m\u001b[0;31m:\u001b[0m leading zeros in decimal integer literals are not permitted; use an 0o prefix for octal integers\n"
          ]
        }
      ]
    },
    {
      "cell_type": "markdown",
      "source": [
        "5. **O que acontece se você tiver dois valores sem nenhum operador entre eles?**\n",
        "  <p> R: Retornará erro de sintaxe. </p>"
      ],
      "metadata": {
        "id": "KMHklQB3aQ7h"
      }
    },
    {
      "cell_type": "code",
      "source": [
        "22 23"
      ],
      "metadata": {
        "colab": {
          "base_uri": "https://localhost:8080/",
          "height": 111
        },
        "id": "0BrwP9i3Z9zG",
        "outputId": "03781194-b966-4931-c781-3b686e1ca4cf"
      },
      "execution_count": null,
      "outputs": [
        {
          "output_type": "error",
          "ename": "SyntaxError",
          "evalue": "invalid syntax (<ipython-input-23-0638119c3f60>, line 1)",
          "traceback": [
            "\u001b[0;36m  File \u001b[0;32m\"<ipython-input-23-0638119c3f60>\"\u001b[0;36m, line \u001b[0;32m1\u001b[0m\n\u001b[0;31m    22 23\u001b[0m\n\u001b[0m       ^\u001b[0m\n\u001b[0;31mSyntaxError\u001b[0m\u001b[0;31m:\u001b[0m invalid syntax\n"
          ]
        }
      ]
    },
    {
      "cell_type": "markdown",
      "source": [
        "**EXERCÍCIO 1.2**"
      ],
      "metadata": {
        "id": "fXwIy36iai4R"
      }
    },
    {
      "cell_type": "markdown",
      "source": [
        "1. **Quantos segundos há em 42 minutos e 42 segundos?**\n",
        "  <p> R: Há 2562 segundos em 42 minutos e 42 segundos. </p>"
      ],
      "metadata": {
        "id": "XWtbrzYTamxK"
      }
    },
    {
      "cell_type": "code",
      "source": [
        "42 * 60"
      ],
      "metadata": {
        "colab": {
          "base_uri": "https://localhost:8080/"
        },
        "id": "fLk-4T5ZaZ7l",
        "outputId": "a3b4cf59-791b-412f-edfc-0445d7dc48f2"
      },
      "execution_count": null,
      "outputs": [
        {
          "output_type": "execute_result",
          "data": {
            "text/plain": [
              "2520"
            ]
          },
          "metadata": {},
          "execution_count": 24
        }
      ]
    },
    {
      "cell_type": "code",
      "source": [
        "2520 + 42"
      ],
      "metadata": {
        "colab": {
          "base_uri": "https://localhost:8080/"
        },
        "id": "QyPPIQBHa4UU",
        "outputId": "b3f3625e-c85f-4a21-950b-9a2e60c668ab"
      },
      "execution_count": null,
      "outputs": [
        {
          "output_type": "execute_result",
          "data": {
            "text/plain": [
              "2562"
            ]
          },
          "metadata": {},
          "execution_count": 25
        }
      ]
    },
    {
      "cell_type": "markdown",
      "source": [
        "2. **Quantas milhas há em 10 quilômetros? Dica: uma milha equivale a 1,61 quilômetro.**\n",
        "  <p> R: </p>\n"
      ],
      "metadata": {
        "id": "zNpiSz3MbJQd"
      }
    },
    {
      "cell_type": "code",
      "source": [
        "10/1.61"
      ],
      "metadata": {
        "colab": {
          "base_uri": "https://localhost:8080/"
        },
        "id": "ovwFgw4ca6dR",
        "outputId": "c63035f0-9097-4a26-925c-82ada0c341c3"
      },
      "execution_count": null,
      "outputs": [
        {
          "output_type": "execute_result",
          "data": {
            "text/plain": [
              "6.211180124223602"
            ]
          },
          "metadata": {},
          "execution_count": 28
        }
      ]
    },
    {
      "cell_type": "markdown",
      "source": [
        "3. **Se você correr 10 quilômetros em 42 minutos e 42 segundos, qual é o seu passo médio (tempo por milha em minutos e segundos)? Qual é a sua velocidade média em milhas por hora?**\n",
        "  <p> R: Portanto, o passo médio é aproximadamente 6 minutos e 52 segundos. </p>"
      ],
      "metadata": {
        "id": "xlE4odGub510"
      }
    },
    {
      "cell_type": "code",
      "source": [
        "# 10km = 6,21371 milhas\n",
        "\n",
        "milhas = 6.21371\n",
        "\n",
        "# 1o passo: converter os 42 segundos para minutos\n",
        "segundos_para_minutos = 42/60\n",
        "tempo_total = 42 + segundos_para_minutos"
      ],
      "metadata": {
        "id": "1hgBSJP2bVAs"
      },
      "execution_count": null,
      "outputs": []
    },
    {
      "cell_type": "code",
      "source": [
        "segundos_para_minutos"
      ],
      "metadata": {
        "id": "xXwujPzNc4ev",
        "colab": {
          "base_uri": "https://localhost:8080/"
        },
        "outputId": "89400a66-e2a9-4140-9996-aa9c4ab10566"
      },
      "execution_count": null,
      "outputs": [
        {
          "output_type": "execute_result",
          "data": {
            "text/plain": [
              "0.7"
            ]
          },
          "metadata": {},
          "execution_count": 13
        }
      ]
    },
    {
      "cell_type": "code",
      "source": [
        "tempo_total"
      ],
      "metadata": {
        "colab": {
          "base_uri": "https://localhost:8080/"
        },
        "id": "bTxGKCsBzfoN",
        "outputId": "0c546973-6dfd-4822-ca10-4bdd4bf62f72"
      },
      "execution_count": null,
      "outputs": [
        {
          "output_type": "execute_result",
          "data": {
            "text/plain": [
              "42.7"
            ]
          },
          "metadata": {},
          "execution_count": 14
        }
      ]
    },
    {
      "cell_type": "code",
      "source": [
        "# convertemos os minutos para horas\n",
        "tempo_em_horas = tempo_total/60\n",
        "tempo_em_horas"
      ],
      "metadata": {
        "colab": {
          "base_uri": "https://localhost:8080/"
        },
        "id": "FSI4eAjTyEIU",
        "outputId": "9f416ca1-229f-441e-b34c-cb579d376e7e"
      },
      "execution_count": null,
      "outputs": [
        {
          "output_type": "execute_result",
          "data": {
            "text/plain": [
              "0.7116666666666667"
            ]
          },
          "metadata": {},
          "execution_count": 16
        }
      ]
    },
    {
      "cell_type": "code",
      "source": [
        "# velocidade media\n",
        "velocidade_media = milhas/tempo_em_horas\n",
        "velocidade_media"
      ],
      "metadata": {
        "colab": {
          "base_uri": "https://localhost:8080/"
        },
        "id": "5_D__lLozMlX",
        "outputId": "dadd6286-8ada-43ea-b625-013bf832a6b9"
      },
      "execution_count": null,
      "outputs": [
        {
          "output_type": "execute_result",
          "data": {
            "text/plain": [
              "8.731208430913348"
            ]
          },
          "metadata": {},
          "execution_count": 17
        }
      ]
    },
    {
      "cell_type": "code",
      "source": [
        "# passo médio = passo médio é o tempo total dividido pela distância total\n",
        "passo_medio = tempo_total / milhas\n",
        "passo_medio"
      ],
      "metadata": {
        "colab": {
          "base_uri": "https://localhost:8080/"
        },
        "id": "r30tgTRiyGtZ",
        "outputId": "96c73adb-ce5e-4beb-a634-6ae8f8092a96"
      },
      "execution_count": null,
      "outputs": [
        {
          "output_type": "execute_result",
          "data": {
            "text/plain": [
              "6.871901006001246"
            ]
          },
          "metadata": {},
          "execution_count": 18
        }
      ]
    },
    {
      "cell_type": "code",
      "source": [
        "# convertemos a parte decimal (0,871) de minutos para segundos:\n",
        "minutos_para_segundos = 0.871 * 60\n",
        "minutos_para_segundos"
      ],
      "metadata": {
        "colab": {
          "base_uri": "https://localhost:8080/"
        },
        "id": "SWwOG5vpypgx",
        "outputId": "31424a1c-9a90-47e7-d430-27e0ddcef05d"
      },
      "execution_count": null,
      "outputs": [
        {
          "output_type": "execute_result",
          "data": {
            "text/plain": [
              "52.26"
            ]
          },
          "metadata": {},
          "execution_count": 19
        }
      ]
    },
    {
      "cell_type": "markdown",
      "source": [
        "# **CAPÍTULO 2: VARIÁVEIS, EXPRESSÕES E CONSTRUÇÕES**"
      ],
      "metadata": {
        "id": "B0s_CTb60tCs"
      }
    },
    {
      "cell_type": "markdown",
      "source": [
        "**2.1 - Instruções de atribuição**"
      ],
      "metadata": {
        "id": "annTehwJw6Jh"
      }
    },
    {
      "cell_type": "code",
      "source": [
        "message = 'And now for something completely different'"
      ],
      "metadata": {
        "id": "eAMhW-v90ycM"
      },
      "execution_count": null,
      "outputs": []
    },
    {
      "cell_type": "code",
      "source": [
        "print(message)"
      ],
      "metadata": {
        "colab": {
          "base_uri": "https://localhost:8080/"
        },
        "id": "gsKV0oTfw9mC",
        "outputId": "c6a7ee1b-db4d-414b-a817-99a35541371d"
      },
      "execution_count": null,
      "outputs": [
        {
          "output_type": "stream",
          "name": "stdout",
          "text": [
            "And now for something completely different\n"
          ]
        }
      ]
    },
    {
      "cell_type": "markdown",
      "source": [
        "**2.2 - Nomes de variáveis**"
      ],
      "metadata": {
        "id": "RecZ4mJexadi"
      }
    },
    {
      "cell_type": "markdown",
      "source": [
        "O Python 3 tem estas palavras-chave:\n",
        "<p> </p>\n",
        "and | del | from | None | True |\n",
        "<p> </p>\n",
        "as | elif | global | nonlocal | try |\n",
        "<p> </p>\n",
        "assert | else | if | not | while |\n",
        "<p> </p>\n",
        "break | except | import | or | with |\n",
        "<p> </p>\n",
        "class | False | in | pass | yield |\n",
        "<p> </p>\n",
        "continue | finally | is | raise |\n",
        "<p> </p>\n",
        "def | for | lambda | return |"
      ],
      "metadata": {
        "id": "JQ9SMKpPxsY3"
      }
    },
    {
      "cell_type": "markdown",
      "source": [
        "**2.3 - Expressões e instruções**\n",
        "\n",
        "Uma expressão é uma combinação de valores, variáveis e operadores."
      ],
      "metadata": {
        "id": "wZLEMWY9zPI7"
      }
    },
    {
      "cell_type": "code",
      "source": [
        "n = 17\n",
        "print(n)"
      ],
      "metadata": {
        "colab": {
          "base_uri": "https://localhost:8080/"
        },
        "id": "nVS7bc9hxCnI",
        "outputId": "c0c47760-5cdb-45e4-b92c-5674b5b7721a"
      },
      "execution_count": null,
      "outputs": [
        {
          "output_type": "stream",
          "name": "stdout",
          "text": [
            "17\n"
          ]
        }
      ]
    },
    {
      "cell_type": "markdown",
      "source": [
        "**2.4 - Modo script**"
      ],
      "metadata": {
        "id": "w9xd-O_BzZfT"
      }
    },
    {
      "cell_type": "markdown",
      "source": [
        "Um script normalmente contém uma sequência de instruções. Se houver mais de uma\n",
        "instrução, os resultados aparecem um após o outro, conforme as instruções sejam\n",
        "executadas."
      ],
      "metadata": {
        "id": "Ro_PNl-1zlJt"
      }
    },
    {
      "cell_type": "code",
      "source": [
        "print(1)\n",
        "x = 2\n",
        "print(x)"
      ],
      "metadata": {
        "colab": {
          "base_uri": "https://localhost:8080/"
        },
        "id": "3A7XFUsHzU79",
        "outputId": "9c4f4a49-3085-407f-a3da-fed14ab8608c"
      },
      "execution_count": null,
      "outputs": [
        {
          "output_type": "stream",
          "name": "stdout",
          "text": [
            "1\n",
            "2\n"
          ]
        }
      ]
    },
    {
      "cell_type": "markdown",
      "source": [
        "A instrução de atribuição não produz nenhuma saída.\n"
      ],
      "metadata": {
        "id": "nAwdUO1Vzoyk"
      }
    },
    {
      "cell_type": "code",
      "source": [
        "5"
      ],
      "metadata": {
        "colab": {
          "base_uri": "https://localhost:8080/"
        },
        "id": "IoUqqKynzn3h",
        "outputId": "0ef40b8e-3956-4b0d-a3c0-ac669c06cd4d"
      },
      "execution_count": null,
      "outputs": [
        {
          "output_type": "execute_result",
          "data": {
            "text/plain": [
              "5"
            ]
          },
          "metadata": {},
          "execution_count": 6
        }
      ]
    },
    {
      "cell_type": "code",
      "source": [
        "x = 5\n",
        "x + 1"
      ],
      "metadata": {
        "colab": {
          "base_uri": "https://localhost:8080/"
        },
        "id": "3uNnqUDyzuuu",
        "outputId": "23f96a41-a7e1-4ae2-8756-8a6a8d14123c"
      },
      "execution_count": null,
      "outputs": [
        {
          "output_type": "execute_result",
          "data": {
            "text/plain": [
              "6"
            ]
          },
          "metadata": {},
          "execution_count": 7
        }
      ]
    },
    {
      "cell_type": "markdown",
      "source": [
        "**2.5 - Ordem das operações**\n",
        "\n",
        "Quando uma expressão contém mais de um operador, a ordem da avaliação depende da\n",
        "ordem das operações. Para operadores matemáticos, o Python segue a convenção\n",
        "matemática."
      ],
      "metadata": {
        "id": "2M5sq_K8dd0R"
      }
    },
    {
      "cell_type": "markdown",
      "source": [
        "Como as expressões em parênteses são avaliadas primeiro:"
      ],
      "metadata": {
        "id": "LinshV9nfDqt"
      }
    },
    {
      "cell_type": "code",
      "source": [
        "print(2 * (3-1))     # é 4\n",
        "print((1+1)**(5-2))  # é 8"
      ],
      "metadata": {
        "id": "RoMhAbOlzwpD",
        "colab": {
          "base_uri": "https://localhost:8080/"
        },
        "outputId": "d6c461eb-5d31-4b0f-cac6-1c4d0a409852"
      },
      "execution_count": null,
      "outputs": [
        {
          "output_type": "stream",
          "name": "stdout",
          "text": [
            "4\n",
            "8\n"
          ]
        }
      ]
    },
    {
      "cell_type": "markdown",
      "source": [
        "Também é possível usar parênteses para facilitar a leitura de uma expressão, como no caso de:"
      ],
      "metadata": {
        "id": "-7-q2LEffFsT"
      }
    },
    {
      "cell_type": "code",
      "source": [
        "ordemOperacao = ((2 * 100) / 60)\n",
        "print(ordemOperacao)  # mesmo se o resultado não for alterado."
      ],
      "metadata": {
        "colab": {
          "base_uri": "https://localhost:8080/"
        },
        "id": "M1wvi9YgeCcN",
        "outputId": "9b410e1d-9ba1-4fb0-a664-6b22d7ccaf19"
      },
      "execution_count": null,
      "outputs": [
        {
          "output_type": "stream",
          "name": "stdout",
          "text": [
            "3.3333333333333335\n"
          ]
        }
      ]
    },
    {
      "cell_type": "markdown",
      "source": [
        "A Exponenciação tem a próxima precedência mais alta, então 1 + 2**3 é 9, não 27"
      ],
      "metadata": {
        "id": "OFwSSWWQfItr"
      }
    },
    {
      "cell_type": "code",
      "source": [
        "expo = 2 * 3**2 #é 18, não 36.\n",
        "print(expo)"
      ],
      "metadata": {
        "colab": {
          "base_uri": "https://localhost:8080/"
        },
        "id": "lGxOKAwEemQj",
        "outputId": "3ecaa185-2005-49c9-8424-0587fbb02372"
      },
      "execution_count": null,
      "outputs": [
        {
          "output_type": "stream",
          "name": "stdout",
          "text": [
            "18\n"
          ]
        }
      ]
    },
    {
      "cell_type": "markdown",
      "source": [
        "**A Multiplicação e a Divisão têm precedência mais alta que a Adição e a Subtração. Assim**"
      ],
      "metadata": {
        "id": "9UM8PvCAjTwA"
      }
    },
    {
      "cell_type": "code",
      "source": [
        "print(2 * 3 - 1) # é 5, não 4\n",
        "print(6 + 4 / 2) # é 8, não 5."
      ],
      "metadata": {
        "colab": {
          "base_uri": "https://localhost:8080/"
        },
        "id": "Yiv6-NlNfPbG",
        "outputId": "0d841e30-7520-4d23-a3b2-59e4dcb3a6a2"
      },
      "execution_count": null,
      "outputs": [
        {
          "output_type": "stream",
          "name": "stdout",
          "text": [
            "5\n",
            "8.0\n"
          ]
        }
      ]
    },
    {
      "cell_type": "markdown",
      "source": [
        "**2.6 - Operações com strings**\n",
        "<p> Em geral, não é possível executar operações matemáticas com strings, mesmo se elas parecerem números"
      ],
      "metadata": {
        "id": "2ERJ9Tm5jpIK"
      }
    },
    {
      "cell_type": "markdown",
      "source": [
        "**Mas há duas exceções, + e *. O operador + executa uma concatenação de strings, ou seja, une as strings pelas extremidades.**"
      ],
      "metadata": {
        "id": "rIovHPUXj2v1"
      }
    },
    {
      "cell_type": "code",
      "source": [
        "first = 'throat'\n",
        "second = 'warbler'\n",
        "\n",
        "print(first + second)"
      ],
      "metadata": {
        "colab": {
          "base_uri": "https://localhost:8080/"
        },
        "id": "sq7RRk8ojdn3",
        "outputId": "7c4e2bf2-f109-4023-961b-135fc71ed2ab"
      },
      "execution_count": null,
      "outputs": [
        {
          "output_type": "stream",
          "name": "stdout",
          "text": [
            "throatwarbler\n"
          ]
        }
      ]
    },
    {
      "cell_type": "markdown",
      "source": [
        "O operador * também funciona em strings; ele executa a repetição."
      ],
      "metadata": {
        "id": "HVJNCyL5kEZK"
      }
    },
    {
      "cell_type": "code",
      "source": [
        "'Spam' * 3 # Se um dos valores for uma string, o outro tem de ser um número inteiro."
      ],
      "metadata": {
        "colab": {
          "base_uri": "https://localhost:8080/",
          "height": 35
        },
        "id": "bvHqdtVckBrl",
        "outputId": "034dff33-5e55-4650-9306-1c1247037094"
      },
      "execution_count": null,
      "outputs": [
        {
          "output_type": "execute_result",
          "data": {
            "text/plain": [
              "'SpamSpamSpam'"
            ],
            "application/vnd.google.colaboratory.intrinsic+json": {
              "type": "string"
            }
          },
          "metadata": {},
          "execution_count": 15
        }
      ]
    },
    {
      "cell_type": "markdown",
      "source": [
        "Por outro lado, há uma diferença significativa entre a concatenação de strings e a repetição em relação à adição e à multiplicação de números inteiros. Você consegue pensar em uma propriedade que a adição tem, mas a concatenação de strings não tem?\n"
      ],
      "metadata": {
        "id": "Qnul9MGCmu2-"
      }
    },
    {
      "cell_type": "markdown",
      "source": [
        "Comutatividade: Na concatenação de strings, a ordem dos operandos é crucial e altera o resultado, enquanto que na adição, não altera."
      ],
      "metadata": {
        "id": "fCaQ3JKLm1dV"
      }
    },
    {
      "cell_type": "markdown",
      "source": [
        "**2.7 - Comentários**\n",
        "<p> Tudo do # ao fim da linha é ignorado – não tem efeito na execução do programa."
      ],
      "metadata": {
        "id": "ZVLd53XLnXNl"
      }
    },
    {
      "cell_type": "code",
      "source": [
        "# computa a porcentagem da hora que passou\n",
        "porcentagem = (2 * 100) / 60\n",
        "print(porcentagem)"
      ],
      "metadata": {
        "colab": {
          "base_uri": "https://localhost:8080/"
        },
        "id": "xXtKiNS9kG62",
        "outputId": "3959e91f-cba2-40d1-8e16-2b67fca6bc88"
      },
      "execution_count": null,
      "outputs": [
        {
          "output_type": "stream",
          "name": "stdout",
          "text": [
            "3.3333333333333335\n"
          ]
        }
      ]
    },
    {
      "cell_type": "markdown",
      "source": [
        "Este comentário é redundante em relação ao código, além de inútil:"
      ],
      "metadata": {
        "id": "j7i7Qs-7n7sV"
      }
    },
    {
      "cell_type": "code",
      "source": [
        "v = 5 # atribui 5 a v"
      ],
      "metadata": {
        "id": "QZMO2mx5noe1"
      },
      "execution_count": null,
      "outputs": []
    },
    {
      "cell_type": "markdown",
      "source": [
        "Este comentário contém informações úteis que não estão no código:"
      ],
      "metadata": {
        "id": "qpoWj7I-n-9D"
      }
    },
    {
      "cell_type": "code",
      "source": [
        "v = 5 # velocidade em metros/segundo."
      ],
      "metadata": {
        "id": "Rsz5pJGHn-Y9"
      },
      "execution_count": null,
      "outputs": []
    },
    {
      "cell_type": "markdown",
      "source": [
        "Bons nomes de variáveis podem reduzir a necessidade de comentários, mas nomes longos podem tornar expressões complexas difíceis de ler, então é preciso analisar o que vale mais a pena."
      ],
      "metadata": {
        "id": "3E43HBBdoBp8"
      }
    },
    {
      "cell_type": "markdown",
      "source": [
        "**2.8 - Depuração**\n",
        "<p>\n",
        "Há três tipos de erros que podem ocorrer em um programa: erros de sintaxe, erros de tempo de execução e erros semânticos.\n",
        "\n",
        "<p>\n"
      ],
      "metadata": {
        "id": "sKKqkW7-oFBT"
      }
    },
    {
      "cell_type": "markdown",
      "source": [
        "*   Erro de sintaxe\n",
        "  *   A “sintaxe” refere-se à estrutura de um programa e suas respectivas regras. Por exemplo, os parênteses devem vir em pares correspondentes, então (1 + 2) é legal, mas 8) é um erro de sintaxe.\n",
        "\n",
        "\n",
        "*   Erro de tempo de execução\n",
        "  *   O segundo tipo de erro é o erro de tempo de execução, assim chamado porque o erro não aparece até que o programa seja executado.\n",
        "\n",
        "\n",
        "\n",
        "*   Erro semântico\n",
        "  *   O terceiro tipo do erro é “semântico”, ou seja, relacionado ao significado. Se houver um erro semântico no seu programa, ele será executado sem gerar mensagens de erro, mas não vai fazer a coisa certa. Vai fazer algo diferente. Especificamente, vai fazer o que você disser para fazer.\n",
        "\n",
        "\n",
        "\n",
        "\n"
      ],
      "metadata": {
        "id": "UNoH03KkoYyp"
      }
    },
    {
      "cell_type": "markdown",
      "source": [
        "**2.10 - Exercícios**"
      ],
      "metadata": {
        "id": "6PO7HWYUqeeR"
      }
    },
    {
      "cell_type": "markdown",
      "source": [
        "**Exercício 2.1**\n",
        "\n",
        "Vimos que n = 42 é legal. E 42 = n?"
      ],
      "metadata": {
        "id": "Fxobe9o-qh-7"
      }
    },
    {
      "cell_type": "code",
      "source": [
        "42 = n  # é gerado um erro de sintaxe"
      ],
      "metadata": {
        "colab": {
          "base_uri": "https://localhost:8080/",
          "height": 106
        },
        "id": "Aaa0s2gcqvf4",
        "outputId": "983fe7c5-7422-4589-bed4-998e0c48a8ef"
      },
      "execution_count": null,
      "outputs": [
        {
          "output_type": "error",
          "ename": "SyntaxError",
          "evalue": "cannot assign to literal here. Maybe you meant '==' instead of '='? (<ipython-input-21-a0a4986f429a>, line 1)",
          "traceback": [
            "\u001b[0;36m  File \u001b[0;32m\"<ipython-input-21-a0a4986f429a>\"\u001b[0;36m, line \u001b[0;32m1\u001b[0m\n\u001b[0;31m    42 = n  # é gerado um erro de sintaxe\u001b[0m\n\u001b[0m    ^\u001b[0m\n\u001b[0;31mSyntaxError\u001b[0m\u001b[0;31m:\u001b[0m cannot assign to literal here. Maybe you meant '==' instead of '='?\n"
          ]
        }
      ]
    },
    {
      "cell_type": "markdown",
      "source": [
        "Em algumas linguagens, cada instrução termina em um ponto e vírgula ;.\n",
        "O que acontece se você puser um ponto e vírgula no fim de uma instrução no Python?"
      ],
      "metadata": {
        "id": "DjUHken_qqxy"
      }
    },
    {
      "cell_type": "code",
      "source": [
        "print('Olá'); #não acontece nada, o script executa normalmente"
      ],
      "metadata": {
        "colab": {
          "base_uri": "https://localhost:8080/"
        },
        "id": "cn-yyKvXq3wj",
        "outputId": "f0d72137-6053-41e4-952c-2d1f142e0cfa"
      },
      "execution_count": null,
      "outputs": [
        {
          "output_type": "stream",
          "name": "stdout",
          "text": [
            "Olá\n"
          ]
        }
      ]
    },
    {
      "cell_type": "markdown",
      "source": [
        "E se puser um ponto no fim de uma instrução?"
      ],
      "metadata": {
        "id": "TrynMViaq_6o"
      }
    },
    {
      "cell_type": "code",
      "source": [
        "print('Olá'). # é gerado um erro de sintaxe"
      ],
      "metadata": {
        "colab": {
          "base_uri": "https://localhost:8080/",
          "height": 106
        },
        "id": "vZGaBVWHoACt",
        "outputId": "841f553f-c5c3-4326-954b-1f9e97a1b50c"
      },
      "execution_count": null,
      "outputs": [
        {
          "output_type": "error",
          "ename": "SyntaxError",
          "evalue": "invalid syntax (<ipython-input-25-43d5e9823246>, line 1)",
          "traceback": [
            "\u001b[0;36m  File \u001b[0;32m\"<ipython-input-25-43d5e9823246>\"\u001b[0;36m, line \u001b[0;32m1\u001b[0m\n\u001b[0;31m    print('Olá'). # é gerado um erro de sintaxe\u001b[0m\n\u001b[0m                  ^\u001b[0m\n\u001b[0;31mSyntaxError\u001b[0m\u001b[0;31m:\u001b[0m invalid syntax\n"
          ]
        }
      ]
    },
    {
      "cell_type": "markdown",
      "source": [
        "Em notação matemática é possível multiplicar x e y desta forma: xy. O que acontece\n",
        "se você tentar fazer o mesmo no Python?"
      ],
      "metadata": {
        "id": "mth3KtqVq-Ju"
      }
    },
    {
      "cell_type": "code",
      "source": [
        "x = 2\n",
        "y = 2\n",
        "\n",
        "xy # gera um erro de NameError, como se estivessemos passando o nome errado de uma variável, ou que não foi definida"
      ],
      "metadata": {
        "colab": {
          "base_uri": "https://localhost:8080/",
          "height": 193
        },
        "id": "si4F4oKWrCdB",
        "outputId": "c00a5804-8ed6-4a2b-9546-9469351faf73"
      },
      "execution_count": null,
      "outputs": [
        {
          "output_type": "error",
          "ename": "NameError",
          "evalue": "name 'xy' is not defined",
          "traceback": [
            "\u001b[0;31m---------------------------------------------------------------------------\u001b[0m",
            "\u001b[0;31mNameError\u001b[0m                                 Traceback (most recent call last)",
            "\u001b[0;32m<ipython-input-29-714a32a7876a>\u001b[0m in \u001b[0;36m<cell line: 4>\u001b[0;34m()\u001b[0m\n\u001b[1;32m      2\u001b[0m \u001b[0my\u001b[0m \u001b[0;34m=\u001b[0m \u001b[0;36m2\u001b[0m\u001b[0;34m\u001b[0m\u001b[0;34m\u001b[0m\u001b[0m\n\u001b[1;32m      3\u001b[0m \u001b[0;34m\u001b[0m\u001b[0m\n\u001b[0;32m----> 4\u001b[0;31m \u001b[0mxy\u001b[0m \u001b[0;31m# gera um erro de NameError, como se estivessemos passando o nome errado de uma variável, ou que não foi definida\u001b[0m\u001b[0;34m\u001b[0m\u001b[0;34m\u001b[0m\u001b[0m\n\u001b[0m",
            "\u001b[0;31mNameError\u001b[0m: name 'xy' is not defined"
          ]
        }
      ]
    },
    {
      "cell_type": "markdown",
      "source": [
        "**Exercício 2.2**"
      ],
      "metadata": {
        "id": "NSTNWUyOtXrN"
      }
    },
    {
      "cell_type": "markdown",
      "source": [
        "1. O volume de uma esfera com raio r é 4/3 pi r3. Qual é o volume de uma esfera com raio\n",
        "5?\n"
      ],
      "metadata": {
        "id": "o1vj1taitdO-"
      }
    },
    {
      "cell_type": "code",
      "source": [
        " pi = 3.14\n",
        " raio = 5\n",
        " volume = (4/3) * pi * raio **3\n",
        "\n",
        " print(volume)"
      ],
      "metadata": {
        "colab": {
          "base_uri": "https://localhost:8080/"
        },
        "id": "dyiR9Wh_rN_G",
        "outputId": "d4065e7f-7b42-465d-8f8a-68f7df96849e"
      },
      "execution_count": null,
      "outputs": [
        {
          "output_type": "stream",
          "name": "stdout",
          "text": [
            "523.3333333333334\n"
          ]
        }
      ]
    },
    {
      "cell_type": "markdown",
      "source": [
        "2. Suponha que o preço de capa de um livro seja 24,95, mas as livrarias recebem um desconto de 40%. O transporte custa R$ 3,00 para o primeiro exemplar e 75 centavos para cada exemplar adicional. Qual é o custo total de atacado para 60 cópias?"
      ],
      "metadata": {
        "id": "lNh9UhxCvEax"
      }
    },
    {
      "cell_type": "code",
      "source": [
        "preco_capa =  24.95\n",
        "desconto = preco_capa * (40/100)\n",
        "livro_com_desconto =  preco_capa - desconto\n",
        "\n",
        "print(livro_com_desconto)\n",
        "\n",
        "nro_copias = 60\n",
        "transporte_primeiro = 3.00\n",
        "transporte_adicional = 0.75\n",
        "\n",
        "preco_primeiro_livro =  livro_com_desconto + transporte_primeiro\n",
        "print(preco_primeiro_livro)\n",
        "\n",
        "preco_total_59_livros = (livro_com_desconto + transporte_adicional) * (nro_copias - 1)\n",
        "print(preco_total_59_livros)\n",
        "\n",
        "preco_total_atacado = preco_primeiro_livro + preco_total_59_livros\n",
        "print(preco_total_atacado)"
      ],
      "metadata": {
        "colab": {
          "base_uri": "https://localhost:8080/"
        },
        "id": "F4oTqN74uk_O",
        "outputId": "db54aa4c-7313-4add-c908-4fd0b8087362"
      },
      "execution_count": null,
      "outputs": [
        {
          "output_type": "stream",
          "name": "stdout",
          "text": [
            "14.969999999999999\n",
            "17.97\n",
            "927.4799999999999\n",
            "945.4499999999999\n"
          ]
        }
      ]
    },
    {
      "cell_type": "markdown",
      "source": [
        "3. Se eu sair da minha casa às 6:52 e correr 1 quilômetro a um certo passo (8 min 15s por quilômetro), então 3 quilômetros a um passo mais rápido (7 min 12s por quilômetro) e 1 quilômetro no mesmo passo usado em primeiro lugar, que horas chego em casa para o café da manhã?\n"
      ],
      "metadata": {
        "id": "_FUwWJAVxY_u"
      }
    },
    {
      "cell_type": "code",
      "source": [
        "from datetime import datetime, timedelta\n",
        "\n",
        "# horário de saída\n",
        "horario_saida = \"06:52:00\"\n",
        "\n",
        "# converter para um objeto datetime\n",
        "horario_saida_dt = datetime.strptime(horario_saida, \"%H:%M:%S\")\n",
        "\n",
        "# 1km = 8 minutos e 15 segundos\n",
        "# 3km = 7 minutos e 12 segundos\n",
        "# retorna à 1km  = 8 minutos e 15 segundos\n",
        "\n",
        "primeiro_km_segundos = (8 * 60) + 15\n",
        "print(primeiro_km_segundos, 's') # tempo de 1km percorrido em segundos\n",
        "\n",
        "tres_kms_segundos = (7 * 60) + 12\n",
        "print(tres_kms_segundos, 's') # tempo de 3kms percorridos em segundos\n",
        "\n",
        "total_corrida_segundos = (2 * primeiro_km_segundos) + (tres_kms_segundos * 3)\n",
        "print(total_corrida_segundos, 's') # tempo total da corrida em segundos\n",
        "\n",
        "total_corrida_minutos = total_corrida_segundos/60\n",
        "print(total_corrida_minutos, 'min') # tempo total da corrida em minutos\n",
        "\n",
        "# adicionar tempo total da corrida (38 minutos e 1 segundo) usando timedelta\n",
        "horario_corrida = timedelta(minutes=38, seconds=1)\n",
        "\n",
        "# somar o timedelta ao horário inicial\n",
        "horario_chegada = (horario_saida_dt + horario_corrida).strftime(\"%H:%M:%S\")\n",
        "\n",
        "print('Chego em casa às', horario_chegada)"
      ],
      "metadata": {
        "colab": {
          "base_uri": "https://localhost:8080/"
        },
        "id": "RLincQyOv1Lp",
        "outputId": "34def24b-6286-48cc-b06f-b7de40c30134"
      },
      "execution_count": null,
      "outputs": [
        {
          "output_type": "stream",
          "name": "stdout",
          "text": [
            "495 s\n",
            "432 s\n",
            "2286 s\n",
            "38.1 min\n",
            "Chego em casa às 07:30:01\n"
          ]
        }
      ]
    },
    {
      "cell_type": "markdown",
      "source": [
        "# Capítulo 3: Funções"
      ],
      "metadata": {
        "id": "Q_fLtqDe2Rcr"
      }
    },
    {
      "cell_type": "markdown",
      "source": [
        "**3.1 - Chamada de função**"
      ],
      "metadata": {
        "id": "MB9qD5hF2SxA"
      }
    },
    {
      "cell_type": "code",
      "source": [
        "type(42)"
      ],
      "metadata": {
        "id": "83mhXU--y52c",
        "colab": {
          "base_uri": "https://localhost:8080/"
        },
        "outputId": "38223418-9163-429c-ea0d-fc4b29739ec3"
      },
      "execution_count": null,
      "outputs": [
        {
          "output_type": "execute_result",
          "data": {
            "text/plain": [
              "int"
            ]
          },
          "metadata": {},
          "execution_count": 1
        }
      ]
    },
    {
      "cell_type": "markdown",
      "source": [
        "É comum dizer que uma função “recebe” um argumento e “retorna” um resultado. O\n",
        "resultado também é chamado de valor de retorno."
      ],
      "metadata": {
        "id": "rb4vMEaBZj2O"
      }
    },
    {
      "cell_type": "markdown",
      "source": [
        "int pode converter valores de ponto flutuante em números inteiros, mas não faz\n",
        "arredondamentos; ela apenas corta a parte da fração:\n"
      ],
      "metadata": {
        "id": "srWEEXGkZxya"
      }
    },
    {
      "cell_type": "code",
      "source": [
        "int(3.99999)"
      ],
      "metadata": {
        "colab": {
          "base_uri": "https://localhost:8080/"
        },
        "id": "hX_r0wngZe4V",
        "outputId": "e2ed8558-7050-40a1-95e9-373a66ffd138"
      },
      "execution_count": null,
      "outputs": [
        {
          "output_type": "execute_result",
          "data": {
            "text/plain": [
              "3"
            ]
          },
          "metadata": {},
          "execution_count": 2
        }
      ]
    },
    {
      "cell_type": "markdown",
      "source": [
        "float converte números inteiros e strings em números de ponto flutuante:"
      ],
      "metadata": {
        "id": "WXfX9Se0Z1FO"
      }
    },
    {
      "cell_type": "code",
      "source": [
        "float(32)"
      ],
      "metadata": {
        "colab": {
          "base_uri": "https://localhost:8080/"
        },
        "id": "iXHTEZ4jZzb4",
        "outputId": "63beaccd-4e67-442c-8583-b64276388b14"
      },
      "execution_count": null,
      "outputs": [
        {
          "output_type": "execute_result",
          "data": {
            "text/plain": [
              "32.0"
            ]
          },
          "metadata": {},
          "execution_count": 3
        }
      ]
    },
    {
      "cell_type": "markdown",
      "source": [
        "str converte o argumento em uma string"
      ],
      "metadata": {
        "id": "RL2w2-OLZ5n7"
      }
    },
    {
      "cell_type": "code",
      "source": [
        "str(32)"
      ],
      "metadata": {
        "colab": {
          "base_uri": "https://localhost:8080/",
          "height": 36
        },
        "id": "F02n7sxSZ4QP",
        "outputId": "1ab1e551-832c-49a8-e7e7-e22429eab60b"
      },
      "execution_count": null,
      "outputs": [
        {
          "output_type": "execute_result",
          "data": {
            "text/plain": [
              "'32'"
            ],
            "application/vnd.google.colaboratory.intrinsic+json": {
              "type": "string"
            }
          },
          "metadata": {},
          "execution_count": 4
        }
      ]
    },
    {
      "cell_type": "markdown",
      "source": [
        "**3.2 - Funções matemáticas**\n",
        "\n",
        "- obs: Um módulo é um arquivo que contém uma coleção de funções relacionadas.\n"
      ],
      "metadata": {
        "id": "fycQbJ1TaApT"
      }
    },
    {
      "cell_type": "code",
      "source": [
        "import math # chamado de módulo"
      ],
      "metadata": {
        "id": "HXUIHYIXZ6_3"
      },
      "execution_count": 3,
      "outputs": []
    },
    {
      "cell_type": "code",
      "source": [
        "math # Ao se exibir o objeto de módulo, são apresentadas informações sobre ele\n",
        "# built-in > nativo"
      ],
      "metadata": {
        "colab": {
          "base_uri": "https://localhost:8080/"
        },
        "id": "DG3a1536aQjg",
        "outputId": "4acb2be1-b34c-4cb0-b536-ff21d38124f3"
      },
      "execution_count": 4,
      "outputs": [
        {
          "output_type": "execute_result",
          "data": {
            "text/plain": [
              "<module 'math' (built-in)>"
            ]
          },
          "metadata": {},
          "execution_count": 4
        }
      ]
    },
    {
      "cell_type": "markdown",
      "source": [
        "Este formato é chamado de notação de ponto."
      ],
      "metadata": {
        "id": "254PnfN1UlbM"
      }
    },
    {
      "cell_type": "code",
      "source": [
        "ratio = 50 / 10\n",
        "decibels = 10 * math.log10(ratio)\n",
        "radians = 0.7\n",
        "height = math.sin(radians)\n",
        "\n",
        "print(ratio)\n",
        "print(decibels)\n",
        "print(radians)\n",
        "print(height)"
      ],
      "metadata": {
        "id": "b0MH6lg4aRwZ",
        "colab": {
          "base_uri": "https://localhost:8080/"
        },
        "outputId": "e6dcaa73-1747-4910-9646-1b7f4f325eb1"
      },
      "execution_count": 5,
      "outputs": [
        {
          "output_type": "stream",
          "name": "stdout",
          "text": [
            "5.0\n",
            "6.989700043360188\n",
            "0.7\n",
            "0.644217687237691\n"
          ]
        }
      ]
    },
    {
      "cell_type": "code",
      "source": [
        "degrees = 45\n",
        "\n",
        "#  Para converter graus em radianos, divida por 180 e multiplique por π\n",
        "radians = degrees / 180.0 * math.pi # A expressão math.pi recebe a variável pi do módulo matemático\n",
        "math.sin(radians)"
      ],
      "metadata": {
        "colab": {
          "base_uri": "https://localhost:8080/"
        },
        "id": "oASDAi1-Uvfz",
        "outputId": "0e3ee815-d270-4a74-aa4d-68255d01b019"
      },
      "execution_count": 7,
      "outputs": [
        {
          "output_type": "execute_result",
          "data": {
            "text/plain": [
              "0.7071067811865475"
            ]
          },
          "metadata": {},
          "execution_count": 7
        }
      ]
    },
    {
      "cell_type": "markdown",
      "source": [
        "**3.3 - Composição**\n"
      ],
      "metadata": {
        "id": "q7Nsdg9CWHtS"
      }
    },
    {
      "cell_type": "markdown",
      "source": [
        "O argumento de uma função pode ser qualquer tipo de expressão, inclusive operadores aritméticos:"
      ],
      "metadata": {
        "id": "ckxp4UPbfElc"
      }
    },
    {
      "cell_type": "code",
      "source": [
        "x = math.sin(45 / 360.0 * 2 * math.pi)\n",
        "#E até chamadas de função:\n",
        "x = math.exp(math.log(x+1))\n",
        "\n",
        "print(x)"
      ],
      "metadata": {
        "colab": {
          "base_uri": "https://localhost:8080/"
        },
        "id": "AIGqosEAVy55",
        "outputId": "e1687bd2-c108-43f0-d892-4f86284e1ca2"
      },
      "execution_count": 9,
      "outputs": [
        {
          "output_type": "stream",
          "name": "stdout",
          "text": [
            "1.7071067811865475\n"
          ]
        }
      ]
    },
    {
      "cell_type": "markdown",
      "source": [
        "É possível colocar um valor, uma expressão arbitrária, em quase qualquer lugar. Com uma exceção: o lado esquerdo de uma instrução de atribuição tem que ser um nome de variável. Qualquer outra expressão no lado esquerdo é um erro de sintaxe."
      ],
      "metadata": {
        "id": "HbrjT-bekTLk"
      }
    },
    {
      "cell_type": "code",
      "source": [
        "minutes = hours * 60 # correto\n",
        "hours * 60 = minutes # errado!\n",
        "\n",
        "# SyntaxError"
      ],
      "metadata": {
        "colab": {
          "base_uri": "https://localhost:8080/",
          "height": 128
        },
        "id": "g91G6TCWfVSF",
        "outputId": "c8cef6fe-28f0-47f2-9e36-fb2efd7fbd85"
      },
      "execution_count": 10,
      "outputs": [
        {
          "output_type": "error",
          "ename": "SyntaxError",
          "evalue": "cannot assign to expression here. Maybe you meant '==' instead of '='? (<ipython-input-10-c333fb566e00>, line 2)",
          "traceback": [
            "\u001b[0;36m  File \u001b[0;32m\"<ipython-input-10-c333fb566e00>\"\u001b[0;36m, line \u001b[0;32m2\u001b[0m\n\u001b[0;31m    hours * 60 = minutes # errado!\u001b[0m\n\u001b[0m    ^\u001b[0m\n\u001b[0;31mSyntaxError\u001b[0m\u001b[0;31m:\u001b[0m cannot assign to expression here. Maybe you meant '==' instead of '='?\n"
          ]
        }
      ]
    },
    {
      "cell_type": "markdown",
      "source": [
        "**3.4 - Como acrescentar novas funções**\n",
        "\n",
        "Uma definição de função especifica o nome de uma nova função e a sequência de instruções que são executadas quando a função é chamada."
      ],
      "metadata": {
        "id": "B9JTeVQ9khCU"
      }
    },
    {
      "cell_type": "code",
      "source": [
        "# def é uma palavra-chave (reservada) que indica uma definição de função\n",
        "def print_lyrics():\n",
        "  print(\"I'm a lumberjack, and I'm okay.\")\n",
        "  print(\"I sleep all night and I work all day.\")"
      ],
      "metadata": {
        "id": "2NRtkZTUkZ0N"
      },
      "execution_count": 12,
      "outputs": []
    },
    {
      "cell_type": "code",
      "source": [
        "# chama a função\n",
        "print_lyrics() # Os parênteses vazios depois do nome indicam que esta função não usa argumentos."
      ],
      "metadata": {
        "colab": {
          "base_uri": "https://localhost:8080/"
        },
        "id": "ceBPr-V1k5wz",
        "outputId": "696b9e89-bace-440c-f35d-3278ea86ad15"
      },
      "execution_count": 14,
      "outputs": [
        {
          "output_type": "stream",
          "name": "stdout",
          "text": [
            "I'm a lumberjack, and I'm okay.\n",
            "I sleep all night and I work all day.\n"
          ]
        }
      ]
    },
    {
      "cell_type": "markdown",
      "source": [
        " As regras para nomes de função são as mesmas que as das variáveis: letras,\n",
        "números e sublinhado são legais, mas o primeiro caractere não pode ser um número. Não podemos usar uma palavra-chave como nome de uma função e devemos evitar ter uma variável e uma função com o mesmo nome.\n"
      ],
      "metadata": {
        "id": "tX5lUYkypRPp"
      }
    },
    {
      "cell_type": "markdown",
      "source": [
        "*Todas as aspas (simples e duplas) devem ser “aspas retas”, normalmente encontradas ao lado do Enter no teclado. “Aspas curvas”, como as desta oração, não são legais no Python.*"
      ],
      "metadata": {
        "id": "eDNAxZfCpng_"
      }
    },
    {
      "cell_type": "code",
      "source": [
        "print(print_lyrics) # cria um objeto de função que tem o tipo function"
      ],
      "metadata": {
        "colab": {
          "base_uri": "https://localhost:8080/"
        },
        "id": "j2PiAenhk6wo",
        "outputId": "0342699f-625d-4098-a247-7fca90d4e084"
      },
      "execution_count": 15,
      "outputs": [
        {
          "output_type": "stream",
          "name": "stdout",
          "text": [
            "<function print_lyrics at 0x7cda7b8c7e20>\n"
          ]
        }
      ]
    },
    {
      "cell_type": "code",
      "source": [
        "type(print_lyrics)"
      ],
      "metadata": {
        "colab": {
          "base_uri": "https://localhost:8080/"
        },
        "id": "omDACmkOrDos",
        "outputId": "a0d3f51a-75fe-43ab-dcc5-ea8c49bad5ab"
      },
      "execution_count": 16,
      "outputs": [
        {
          "output_type": "execute_result",
          "data": {
            "text/plain": [
              "function"
            ]
          },
          "metadata": {},
          "execution_count": 16
        }
      ]
    },
    {
      "cell_type": "markdown",
      "source": [
        "Uma vez que a função tenha sido definida, é possível usá-la dentro de outra função."
      ],
      "metadata": {
        "id": "flnMjD_KrWUY"
      }
    },
    {
      "cell_type": "code",
      "source": [
        "def repeat_lyrics():\n",
        "  print_lyrics()\n",
        "  print_lyrics()"
      ],
      "metadata": {
        "id": "BYuOpob0rKKm"
      },
      "execution_count": 17,
      "outputs": []
    },
    {
      "cell_type": "code",
      "source": [
        "repeat_lyrics()"
      ],
      "metadata": {
        "colab": {
          "base_uri": "https://localhost:8080/"
        },
        "id": "Kp50mPNsrYe9",
        "outputId": "8bebd931-8583-467a-ba60-e361d5919701"
      },
      "execution_count": 18,
      "outputs": [
        {
          "output_type": "stream",
          "name": "stdout",
          "text": [
            "I'm a lumberjack, and I'm okay.\n",
            "I sleep all night and I work all day.\n",
            "I'm a lumberjack, and I'm okay.\n",
            "I sleep all night and I work all day.\n"
          ]
        }
      ]
    },
    {
      "cell_type": "markdown",
      "source": [
        "**3.5 - Uso e definições**"
      ],
      "metadata": {
        "id": "p1kd6F4YrfZx"
      }
    },
    {
      "cell_type": "code",
      "source": [
        "# Juntando fragmentos de código da seção anterior, o programa inteiro fica assim:\n",
        "def print_lyrics():\n",
        "  print(\"I'm a lumberjack, and I'm okay.\")\n",
        "  print(\"I sleep all night and I work all day.\")\n",
        "\n",
        "def repeat_lyrics():\n",
        "  print_lyrics()\n",
        "  print_lyrics()\n",
        "\n",
        "repeat_lyrics()"
      ],
      "metadata": {
        "colab": {
          "base_uri": "https://localhost:8080/"
        },
        "id": "ZSMr5C3bs5p4",
        "outputId": "6153d53b-23a1-4133-af9f-88d6ffc2ae40"
      },
      "execution_count": 2,
      "outputs": [
        {
          "output_type": "stream",
          "name": "stdout",
          "text": [
            "I'm a lumberjack, and I'm okay.\n",
            "I sleep all night and I work all day.\n",
            "I'm a lumberjack, and I'm okay.\n",
            "I sleep all night and I work all day.\n"
          ]
        }
      ]
    },
    {
      "cell_type": "markdown",
      "source": [
        "- Como exercício, mova a última linha deste programa para o topo, para que a chamada de função apareça antes das definições. Execute o programa e veja qual é a mensagem de erro que aparece."
      ],
      "metadata": {
        "id": "8VaXgHRDsxTQ"
      }
    },
    {
      "cell_type": "code",
      "source": [
        "repeat_lyrics()\n",
        "\n",
        "def print_lyrics():\n",
        "  print(\"I'm a lumberjack, and I'm okay.\")\n",
        "  print(\"I sleep all night and I work all day.\")\n",
        "\n",
        "def repeat_lyrics():\n",
        "  print_lyrics()\n",
        "  print_lyrics()"
      ],
      "metadata": {
        "colab": {
          "base_uri": "https://localhost:8080/",
          "height": 220
        },
        "id": "kzjnNzjQrZqL",
        "outputId": "a61c43b3-4d02-4988-b80b-8a967783b72e"
      },
      "execution_count": 1,
      "outputs": [
        {
          "output_type": "error",
          "ename": "NameError",
          "evalue": "name 'repeat_lyrics' is not defined",
          "traceback": [
            "\u001b[0;31m---------------------------------------------------------------------------\u001b[0m",
            "\u001b[0;31mNameError\u001b[0m                                 Traceback (most recent call last)",
            "\u001b[0;32m<ipython-input-1-2d0bb4005e24>\u001b[0m in \u001b[0;36m<cell line: 1>\u001b[0;34m()\u001b[0m\n\u001b[0;32m----> 1\u001b[0;31m \u001b[0mrepeat_lyrics\u001b[0m\u001b[0;34m(\u001b[0m\u001b[0;34m)\u001b[0m\u001b[0;34m\u001b[0m\u001b[0;34m\u001b[0m\u001b[0m\n\u001b[0m\u001b[1;32m      2\u001b[0m \u001b[0;34m\u001b[0m\u001b[0m\n\u001b[1;32m      3\u001b[0m \u001b[0;32mdef\u001b[0m \u001b[0mprint_lyrics\u001b[0m\u001b[0;34m(\u001b[0m\u001b[0;34m)\u001b[0m\u001b[0;34m:\u001b[0m\u001b[0;34m\u001b[0m\u001b[0;34m\u001b[0m\u001b[0m\n\u001b[1;32m      4\u001b[0m   \u001b[0mprint\u001b[0m\u001b[0;34m(\u001b[0m\u001b[0;34m\"I'm a lumberjack, and I'm okay.\"\u001b[0m\u001b[0;34m)\u001b[0m\u001b[0;34m\u001b[0m\u001b[0;34m\u001b[0m\u001b[0m\n\u001b[1;32m      5\u001b[0m   \u001b[0mprint\u001b[0m\u001b[0;34m(\u001b[0m\u001b[0;34m\"I sleep all night and I work all day.\"\u001b[0m\u001b[0;34m)\u001b[0m\u001b[0;34m\u001b[0m\u001b[0;34m\u001b[0m\u001b[0m\n",
            "\u001b[0;31mNameError\u001b[0m: name 'repeat_lyrics' is not defined"
          ]
        }
      ]
    },
    {
      "cell_type": "markdown",
      "source": [
        "Retorna o erro **NameError**:* name 'repeat_lyrics' is not defined*"
      ],
      "metadata": {
        "id": "cTk3I0KntaM_"
      }
    },
    {
      "cell_type": "markdown",
      "source": [
        "- Agora mova a chamada de função de volta para baixo e mova a definição de\n",
        "print_lyrics para depois da definição de repeat_lyrics. O que acontece quando este programa é executado?"
      ],
      "metadata": {
        "id": "HZwoHas2s25s"
      }
    },
    {
      "cell_type": "code",
      "source": [
        "def repeat_lyrics():\n",
        "  print_lyrics()\n",
        "  print_lyrics()\n",
        "\n",
        "def print_lyrics():\n",
        "  print(\"I'm a lumberjack, and I'm okay.\")\n",
        "  print(\"I sleep all night and I work all day.\")\n",
        "\n",
        "repeat_lyrics()"
      ],
      "metadata": {
        "colab": {
          "base_uri": "https://localhost:8080/"
        },
        "id": "o-y35-KQs3Q2",
        "outputId": "1db49dd1-3da4-454c-8382-c112eea017aa"
      },
      "execution_count": 1,
      "outputs": [
        {
          "output_type": "stream",
          "name": "stdout",
          "text": [
            "I'm a lumberjack, and I'm okay.\n",
            "I sleep all night and I work all day.\n",
            "I'm a lumberjack, and I'm okay.\n",
            "I sleep all night and I work all day.\n"
          ]
        }
      ]
    },
    {
      "cell_type": "markdown",
      "source": [
        "No Python, a ordem de definição das funções no código não precisa seguir a ordem em que são chamadas, desde que a definição da função exista no momento em que a função é chamada.\n",
        "\n",
        "Por isso, o script é executado com sucesso, pois repeat_lyrics está apenas sendo definida - primeiramente, e print_lyrics não é chamada nesse momento."
      ],
      "metadata": {
        "id": "nsq_1iqAuJkJ"
      }
    },
    {
      "cell_type": "markdown",
      "source": [
        "**3.6 - Fluxo de execução**\n",
        "\n",
        "Para garantir que uma função seja definida antes do seu primeiro uso, é preciso saber a ordem na qual as instruções serão executadas. Isso é chamado de fluxo de execução.\n",
        "\n",
        "- A execução sempre começa na primeira instrução do programa. As instruções são\n",
        "executadas uma após a outra, de cima para baixo.\n",
        "\n",
        "- As definições de função não alteram o fluxo da execução do programa, mas lembre-se de que as instruções dentro da função não são executadas até a função ser chamada\n"
      ],
      "metadata": {
        "id": "1ARE4gsjujdt"
      }
    },
    {
      "cell_type": "markdown",
      "source": [
        "*Portanto, entender um programa Python (ou qualquer programa em geral) frequentemente exige seguir o fluxo de execução baseado em chamadas de função, loops, condicionais, e outros elementos que desviam o fluxo linear de cima para baixo. Isso ajuda a garantir que você compreende não apenas a estrutura estática do código, mas também a dinâmica de sua execução.*"
      ],
      "metadata": {
        "id": "R08NmHBkvv0S"
      }
    },
    {
      "cell_type": "markdown",
      "source": [
        "**3.7 - Parâmetros e argumentos**\n",
        "\n",
        "Algumas funções que vimos exigem argumentos. Por exemplo, ao chamar math.sin, você usa um número como argumento. Algumas funções exigem mais de um argumento: o math.pow exige dois, a base e o expoente."
      ],
      "metadata": {
        "id": "TPOJCzaexDen"
      }
    },
    {
      "cell_type": "code",
      "source": [
        "def print_twice(bruce):\n",
        "  print(bruce)\n",
        "  print(bruce)"
      ],
      "metadata": {
        "id": "UBYGJ6pYtkrQ"
      },
      "execution_count": 10,
      "outputs": []
    },
    {
      "cell_type": "code",
      "source": [
        "import math\n",
        "\n",
        "# Esta função funciona com qualquer valor que possa ser exibido\n",
        "print_twice('Spam')\n",
        "print_twice(42)\n",
        "print_twice(math.pi)"
      ],
      "metadata": {
        "colab": {
          "base_uri": "https://localhost:8080/"
        },
        "id": "4G_PdUVb3AOb",
        "outputId": "6e2b2e75-1943-4833-9b7b-8b2fa44c8502"
      },
      "execution_count": 11,
      "outputs": [
        {
          "output_type": "stream",
          "name": "stdout",
          "text": [
            "Spam\n",
            "Spam\n",
            "42\n",
            "42\n",
            "3.141592653589793\n",
            "3.141592653589793\n"
          ]
        }
      ]
    },
    {
      "cell_type": "markdown",
      "source": [
        "As mesmas regras de composição usadas para funções integradas também são aplicadas a funções definidas pelos programadores, então podemos usar qualquer tipo de expressão como argumento para print_twice:"
      ],
      "metadata": {
        "id": "OD_ibY1p3nkB"
      }
    },
    {
      "cell_type": "code",
      "source": [
        "print_twice('Spam ' * 4)"
      ],
      "metadata": {
        "colab": {
          "base_uri": "https://localhost:8080/"
        },
        "id": "IzjjIzEx3PU8",
        "outputId": "a426f544-8e31-4e84-d8c7-875f6e051c05"
      },
      "execution_count": 12,
      "outputs": [
        {
          "output_type": "stream",
          "name": "stdout",
          "text": [
            "Spam Spam Spam Spam \n",
            "Spam Spam Spam Spam \n"
          ]
        }
      ]
    },
    {
      "cell_type": "code",
      "source": [
        "print_twice(math.cos(math.pi))"
      ],
      "metadata": {
        "colab": {
          "base_uri": "https://localhost:8080/"
        },
        "id": "ZqF2hIBL3q1x",
        "outputId": "630c645d-dcde-4651-86b7-026ad34763f8"
      },
      "execution_count": 13,
      "outputs": [
        {
          "output_type": "stream",
          "name": "stdout",
          "text": [
            "-1.0\n",
            "-1.0\n"
          ]
        }
      ]
    },
    {
      "cell_type": "markdown",
      "source": [
        "Você também pode usar uma variável como argumento:"
      ],
      "metadata": {
        "id": "uFp-O8O632qY"
      }
    },
    {
      "cell_type": "code",
      "source": [
        "michael = 'Eric, the half a bee.'"
      ],
      "metadata": {
        "id": "Gs2jp2hb3tfr"
      },
      "execution_count": 14,
      "outputs": []
    },
    {
      "cell_type": "code",
      "source": [
        "print_twice(michael)"
      ],
      "metadata": {
        "colab": {
          "base_uri": "https://localhost:8080/"
        },
        "id": "8WcgG7OX34q7",
        "outputId": "27b27ae8-cbc9-44c6-f710-287efe69eb88"
      },
      "execution_count": 15,
      "outputs": [
        {
          "output_type": "stream",
          "name": "stdout",
          "text": [
            "Eric, the half a bee.\n",
            "Eric, the half a bee.\n"
          ]
        }
      ]
    },
    {
      "cell_type": "markdown",
      "source": [
        "**3.8 - As variáveis e os parâmetros são locais**\n",
        "\n",
        "Quando você cria uma variável dentro de uma função, ela é local, ou seja, ela só existe dentro da função."
      ],
      "metadata": {
        "id": "i3O_zxB54AxI"
      }
    },
    {
      "cell_type": "code",
      "source": [
        "def cat_twice(part1, part2):\n",
        "  cat = part1 + part2\n",
        "  print_twice(cat)"
      ],
      "metadata": {
        "id": "4cYsgDzG4Ioi"
      },
      "execution_count": 16,
      "outputs": []
    },
    {
      "cell_type": "code",
      "source": [
        "line1 = 'Bing tiddle '\n",
        "line2 = 'tiddle bang.'\n",
        "cat_twice(line1, line2)"
      ],
      "metadata": {
        "colab": {
          "base_uri": "https://localhost:8080/"
        },
        "id": "YNPPVIvp4Xtd",
        "outputId": "87109b0a-3d3d-4222-ddd8-ec3db9f6b5ff"
      },
      "execution_count": 17,
      "outputs": [
        {
          "output_type": "stream",
          "name": "stdout",
          "text": [
            "Bing tiddle tiddle bang.\n",
            "Bing tiddle tiddle bang.\n"
          ]
        }
      ]
    },
    {
      "cell_type": "markdown",
      "source": [
        "Quando cat_twice é encerrada, a variável cat é destruída. Se tentarmos exibi-la,\n",
        "recebemos uma exceção."
      ],
      "metadata": {
        "id": "m8hDNpLN4ST_"
      }
    },
    {
      "cell_type": "code",
      "source": [
        "print(cat) # NameError: name 'cat' is not defined"
      ],
      "metadata": {
        "colab": {
          "base_uri": "https://localhost:8080/",
          "height": 147
        },
        "id": "KjuUJWZw4Ilr",
        "outputId": "4c8c1110-a838-49ea-f9c2-43c9d7889362"
      },
      "execution_count": 18,
      "outputs": [
        {
          "output_type": "error",
          "ename": "NameError",
          "evalue": "name 'cat' is not defined",
          "traceback": [
            "\u001b[0;31m---------------------------------------------------------------------------\u001b[0m",
            "\u001b[0;31mNameError\u001b[0m                                 Traceback (most recent call last)",
            "\u001b[0;32m<ipython-input-18-34599fba884e>\u001b[0m in \u001b[0;36m<cell line: 1>\u001b[0;34m()\u001b[0m\n\u001b[0;32m----> 1\u001b[0;31m \u001b[0mprint\u001b[0m\u001b[0;34m(\u001b[0m\u001b[0mcat\u001b[0m\u001b[0;34m)\u001b[0m\u001b[0;34m\u001b[0m\u001b[0;34m\u001b[0m\u001b[0m\n\u001b[0m",
            "\u001b[0;31mNameError\u001b[0m: name 'cat' is not defined"
          ]
        }
      ]
    },
    {
      "cell_type": "markdown",
      "source": [
        "Os parâmetros também são locais. Por exemplo, além de print_twice, não existe o bruce."
      ],
      "metadata": {
        "id": "_R2Y7pk24gQr"
      }
    },
    {
      "cell_type": "markdown",
      "source": [
        "**3.9 - Diagrama da pilha**"
      ],
      "metadata": {
        "id": "XPSAUCTu4wZl"
      }
    },
    {
      "cell_type": "code",
      "source": [],
      "metadata": {
        "id": "49R3qe3-4yC_"
      },
      "execution_count": null,
      "outputs": []
    },
    {
      "cell_type": "code",
      "source": [],
      "metadata": {
        "id": "XiQ0p0dZ4ypO"
      },
      "execution_count": null,
      "outputs": []
    },
    {
      "cell_type": "code",
      "source": [],
      "metadata": {
        "id": "QFRaN_Rw4ysH"
      },
      "execution_count": null,
      "outputs": []
    },
    {
      "cell_type": "code",
      "source": [],
      "metadata": {
        "id": "qIig3A_64yu6"
      },
      "execution_count": null,
      "outputs": []
    },
    {
      "cell_type": "code",
      "source": [],
      "metadata": {
        "id": "lLUWhzxQ4yxi"
      },
      "execution_count": null,
      "outputs": []
    }
  ]
}